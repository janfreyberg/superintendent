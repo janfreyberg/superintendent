{
 "cells": [
  {
   "cell_type": "markdown",
   "metadata": {},
   "source": [
    "## Labelling clusters of points\n",
    "\n",
    "Often, when you do unsupervised machine learning, you ultimately end up with many data points, each of which has been assigned a \"cluster label\". These cluster labels tend to just be integers; and that is because the clustering algorithm has no insight into what makes a cluster a cluster. This means you often want to go through each cluster and label it yourself.\n",
    "\n",
    "To do this, `superintendent` provides a `ClusterLabeller` widget:"
   ]
  },
  {
   "cell_type": "code",
   "execution_count": 2,
   "metadata": {},
   "outputs": [
    {
     "ename": "ImportError",
     "evalue": "cannot import name 'ClusterSupervisor' from 'superintendent' (/Users/jan/personal-projects/oss/superintendent/.venv/lib/python3.7/site-packages/superintendent/__init__.py)",
     "output_type": "error",
     "traceback": [
      "\u001b[0;31m---------------------------------------------------------------------------\u001b[0m",
      "\u001b[0;31mImportError\u001b[0m                               Traceback (most recent call last)",
      "\u001b[0;32m<ipython-input-2-f3efe66767bb>\u001b[0m in \u001b[0;36m<module>\u001b[0;34m\u001b[0m\n\u001b[0;32m----> 1\u001b[0;31m \u001b[0;32mfrom\u001b[0m \u001b[0msuperintendent\u001b[0m \u001b[0;32mimport\u001b[0m \u001b[0mClusterSupervisor\u001b[0m\u001b[0;34m\u001b[0m\u001b[0;34m\u001b[0m\u001b[0m\n\u001b[0m",
      "\u001b[0;31mImportError\u001b[0m: cannot import name 'ClusterSupervisor' from 'superintendent' (/Users/jan/personal-projects/oss/superintendent/.venv/lib/python3.7/site-packages/superintendent/__init__.py)"
     ]
    }
   ],
   "source": [
    "from superintendent import ClusterSupervisor"
   ]
  },
  {
   "cell_type": "markdown",
   "metadata": {},
   "source": [
    "To demonstrate, I am going to collect headlines from two major UK newspaper websites (the code for this comes from the fantastic github project [compare-headlines](https://github.com/isobelweinberg/compare-headlines/blob/master/scrape-headlines.ipynb) by [isobelweinberg](https://github.com/isobelweinberg))."
   ]
  },
  {
   "cell_type": "code",
   "execution_count": null,
   "metadata": {},
   "outputs": [],
   "source": [
    "import requests\n",
    "from bs4 import BeautifulSoup\n",
    "import datetime\n",
    "import numpy as np\n",
    "\n",
    "headlines = []\n",
    "labels = []\n",
    "\n",
    "r = requests.get('https://www.theguardian.com/uk').text #get html\n",
    "soup = BeautifulSoup(r, 'html5lib') #run html through beautiful soup\n",
    "headlines += [headline.text for headline in\n",
    "              soup.find_all('span', class_='js-headline-text')][:10]\n",
    "labels += ['guardian'] * (len(headlines) - len(labels))\n",
    "\n",
    "soup = BeautifulSoup(requests.get('http://www.dailymail.co.uk/home/index.html').text, 'html5lib')\n",
    "headlines += [headline.text.replace('\\n', '').replace('\\xa0', '').strip()\n",
    "              for headline in soup.find_all(class_=\"linkro-darkred\")][:10]\n",
    "labels += ['daily mail'] * (len(headlines) - len(labels))\n",
    "\n",
    "cluster_labels = np.random.choice([1, 2, 3], size=len(headlines))"
   ]
  },
  {
   "cell_type": "markdown",
   "metadata": {},
   "source": [
    "I am also going to use a custom display function to label the clusters; as I'd like to see the words defining each cluster in a wordcloud:"
   ]
  },
  {
   "cell_type": "code",
   "execution_count": null,
   "metadata": {},
   "outputs": [],
   "source": [
    "from wordcloud import WordCloud\n",
    "from IPython.display import display\n",
    "\n",
    "def show_wordcloud(text, n_samples=None):\n",
    "    text = ' '.join(text)\n",
    "    display(\n",
    "        WordCloud().generate(text).to_image()\n",
    "    )\n"
   ]
  },
  {
   "cell_type": "code",
   "execution_count": null,
   "metadata": {},
   "outputs": [],
   "source": [
    "labelling_widget = ClusterSupervisor(\n",
    "    features=headlines,\n",
    "    cluster_indices=np.random.choice([1, 2, 3], size=len(headlines)),\n",
    "    display_func = show_wordcloud\n",
    ")\n",
    "\n",
    "labelling_widget"
   ]
  },
  {
   "cell_type": "code",
   "execution_count": null,
   "metadata": {},
   "outputs": [],
   "source": [
    "labelling_widget.new_clusters"
   ]
  },
  {
   "cell_type": "code",
   "execution_count": null,
   "metadata": {},
   "outputs": [],
   "source": [
    "labelling_widget.new_labels"
   ]
  }
 ],
 "metadata": {
  "kernelspec": {
   "display_name": "Python 3",
   "language": "python",
   "name": "python3"
  },
  "language_info": {
   "codemirror_mode": {
    "name": "ipython",
    "version": 3
   },
   "file_extension": ".py",
   "mimetype": "text/x-python",
   "name": "python",
   "nbconvert_exporter": "python",
   "pygments_lexer": "ipython3",
   "version": "3.7.5rc1"
  }
 },
 "nbformat": 4,
 "nbformat_minor": 4
}
