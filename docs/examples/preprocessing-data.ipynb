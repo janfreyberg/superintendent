{
 "cells": [
  {
   "cell_type": "markdown",
   "metadata": {},
   "source": [
    "# Preprocessing data before passing it to the model\n",
    "\n",
    "In general, you will often want to pass different parts of your data to your display function\n",
    "and your model. In general, superintendent does not provide \"pre-model\" hooks. Instead, any\n",
    "pre-processing that is specific to your model or your display function, can be specified in\n",
    "the `display_func`, or in a\n",
    "[scikit-learn Pipeline](https://scikit-learn.org/stable/modules/generated/sklearn.pipeline.Pipeline.html)\n",
    "object.\n",
    "\n",
    "For example, imagine you have a pandas dataframe of emails, which contains some metadata that\n",
    "you would like to display during labelling. However, you want to build a model that is agnostic\n",
    "to that information.\n",
    "\n",
    "## Data\n",
    "\n",
    "First, let's create some dummy data:\n"
   ]
  },
  {
   "cell_type": "code",
   "execution_count": 1,
   "metadata": {},
   "outputs": [
    {
     "data": {
      "text/html": [
       "<div>\n",
       "<style scoped>\n",
       "    .dataframe tbody tr th:only-of-type {\n",
       "        vertical-align: middle;\n",
       "    }\n",
       "\n",
       "    .dataframe tbody tr th {\n",
       "        vertical-align: top;\n",
       "    }\n",
       "\n",
       "    .dataframe thead th {\n",
       "        text-align: right;\n",
       "    }\n",
       "</style>\n",
       "<table border=\"1\" class=\"dataframe\">\n",
       "  <thead>\n",
       "    <tr style=\"text-align: right;\">\n",
       "      <th></th>\n",
       "      <th>email</th>\n",
       "      <th>recipient</th>\n",
       "      <th>timestamp</th>\n",
       "    </tr>\n",
       "  </thead>\n",
       "  <tbody>\n",
       "    <tr>\n",
       "      <th>0</th>\n",
       "      <td>Hi John,\\nthis is just to say nice work yester...</td>\n",
       "      <td>John</td>\n",
       "      <td>2018-02-01 15:00</td>\n",
       "    </tr>\n",
       "    <tr>\n",
       "      <th>1</th>\n",
       "      <td>Hi Mike,\\nthis is just to say terrible work ye...</td>\n",
       "      <td>Mike</td>\n",
       "      <td>2018-02-01 15:03</td>\n",
       "    </tr>\n",
       "  </tbody>\n",
       "</table>\n",
       "</div>"
      ],
      "text/plain": [
       "                                               email recipient  \\\n",
       "0  Hi John,\\nthis is just to say nice work yester...      John   \n",
       "1  Hi Mike,\\nthis is just to say terrible work ye...      Mike   \n",
       "\n",
       "          timestamp  \n",
       "0  2018-02-01 15:00  \n",
       "1  2018-02-01 15:03  "
      ]
     },
     "metadata": {},
     "output_type": "display_data"
    }
   ],
   "source": [
    "import random\n",
    "import string\n",
    "import pandas as pd\n",
    "\n",
    "n_rows = 50\n",
    "\n",
    "example_emails = [\n",
    "    \"Hi John,\\nthis is just to say nice work yesterday.\\nBest,\\nJim\",\n",
    "    \"Hi Mike,\\nthis is just to say terrible work yesterday.\\nBest,\\nJim\",\n",
    "]\n",
    "\n",
    "example_recipients = [\"John\", \"Mike\"]\n",
    "\n",
    "example_timestamps = [\"2018-02-01 15:00\", \"2018-02-01 15:03\"]\n",
    "\n",
    "example_df = pd.DataFrame({\n",
    "    'email': example_emails,\n",
    "    'recipient': example_recipients,\n",
    "    'timestamp': example_timestamps\n",
    "})\n",
    "\n",
    "display(example_df)"
   ]
  },
  {
   "cell_type": "markdown",
   "metadata": {},
   "source": [
    "## Display function\n",
    "\n",
    "In the display function, we'll re-format the data."
   ]
  },
  {
   "cell_type": "code",
   "execution_count": 2,
   "metadata": {},
   "outputs": [],
   "source": [
    "from IPython.display import display, Markdown\n",
    "\n",
    "def display_email(row):\n",
    "    \"\"\"\n",
    "    The display function gets passed your data - in the\n",
    "    case of a dataframe, it gets passed a row - and then\n",
    "    has to \"display\" your data in whatever way you want.\n",
    "    \n",
    "    It doesn't need to return anything\n",
    "    \"\"\"\n",
    "    display(Markdown(\"**To:** \" + row[\"recipient\"]))\n",
    "    display(Markdown(\"**At:** \" + row[\"timestamp\"]))\n",
    "\n",
    "    display(Markdown(row[\"email\"].replace(\"\\n\", \"\\n\\n\")))"
   ]
  },
  {
   "cell_type": "markdown",
   "metadata": {},
   "source": [
    "## Model Pipeline\n",
    "\n",
    "We only want to pass the E-Mail text to our model, and to achieve this we can write a small pre-processing function that is applied to **both** the features and labels whenever a model is fit.\n",
    "\n",
    "We then can write a model that uses scikit-learn's feature-vectorizer and applies a logistic regression."
   ]
  },
  {
   "cell_type": "code",
   "execution_count": 3,
   "metadata": {},
   "outputs": [],
   "source": [
    "from sklearn.feature_extraction.text import TfidfVectorizer\n",
    "from sklearn.base import TransformerMixin\n",
    "from sklearn.linear_model import LogisticRegression\n",
    "from sklearn.pipeline import Pipeline\n",
    "\n",
    "def preprocessor(x, y):\n",
    "    # only take Email column, leave everything else\n",
    "    return x[\"email\"], y\n",
    "\n",
    "\n",
    "model = Pipeline([\n",
    "    ('tfidf_vectorizer', TfidfVectorizer()),\n",
    "    ('logistic_regression', LogisticRegression())\n",
    "])"
   ]
  },
  {
   "cell_type": "markdown",
   "metadata": {},
   "source": [
    "## The widget\n",
    "\n",
    "Now that we have assembled the necessary components, we can create our widget:"
   ]
  },
  {
   "cell_type": "code",
   "execution_count": 4,
   "metadata": {},
   "outputs": [
    {
     "data": {
      "application/vnd.jupyter.widget-view+json": {
       "model_id": "1a2a35003eb54448b694370cc457a453",
       "version_major": 2,
       "version_minor": 0
      },
      "text/plain": [
       "VBox(children=(HBox(children=(HBox(children=(FloatProgress(value=0.0, description='Progress:', max=1.0),), lay…"
      ]
     },
     "metadata": {},
     "output_type": "display_data"
    }
   ],
   "source": [
    "from superintendent import ClassLabeller\n",
    "\n",
    "widget = ClassLabeller(\n",
    "    features=example_df,\n",
    "    model=model,\n",
    "    model_preprocess=preprocessor,\n",
    "    display_func=display_email,\n",
    "    options=['positive', 'negative'],\n",
    "    acquisition_function='margin'\n",
    ")\n",
    "\n",
    "widget"
   ]
  }
 ],
 "metadata": {
  "kernelspec": {
   "display_name": "Python 3",
   "language": "python",
   "name": "python3"
  },
  "language_info": {
   "codemirror_mode": {
    "name": "ipython",
    "version": 3
   },
   "file_extension": ".py",
   "mimetype": "text/x-python",
   "name": "python",
   "nbconvert_exporter": "python",
   "pygments_lexer": "ipython3",
   "version": "3.7.5rc1"
  },
  "widgets": {
   "application/vnd.jupyter.widget-state+json": {
    "state": {
     "0074e06701f24807ae4af3b64e844c2a": {
      "model_module": "@jupyter-widgets/controls",
      "model_module_version": "1.5.0",
      "model_name": "DescriptionStyleModel",
      "state": {
       "description_width": ""
      }
     },
     "0124a7da903843ccad4d6e7d6bba1b94": {
      "model_module": "@jupyter-widgets/controls",
      "model_module_version": "1.5.0",
      "model_name": "ButtonModel",
      "state": {
       "description": "Retrain",
       "icon": "refresh",
       "layout": "IPY_MODEL_a4cbd47310314073b2eafd1404c597a2",
       "style": "IPY_MODEL_98c80542e9994b05bb2fddd94e3108b1",
       "tooltip": "Click me"
      }
     },
     "017257c9374740aeac532709fcead202": {
      "model_module": "@jupyter-widgets/base",
      "model_module_version": "1.2.0",
      "model_name": "LayoutModel",
      "state": {}
     },
     "01829738437a410ebbb899f85451d47d": {
      "model_module": "@jupyter-widgets/controls",
      "model_module_version": "1.5.0",
      "model_name": "ButtonModel",
      "state": {
       "description": "positive",
       "layout": "IPY_MODEL_e80efe2da9384f22b4d9e8a609c0d654",
       "style": "IPY_MODEL_a4ab60d862a646cd9df7b80b91f0ba3d"
      }
     },
     "02a4275f60cf4b95a00195c0483ab776": {
      "model_module": "@jupyter-widgets/controls",
      "model_module_version": "1.5.0",
      "model_name": "HBoxModel",
      "state": {
       "children": [
        "IPY_MODEL_6d3953f97b4f442299381c2e23cfbe5e",
        "IPY_MODEL_ac5b81309d244918ba7f7d7d7774552d"
       ],
       "layout": "IPY_MODEL_cbb284aeb0684981b01e60f50f2f8b25"
      }
     },
     "05a07b0036b44dde9744e20e9a2c06b7": {
      "model_module": "@jupyter-widgets/base",
      "model_module_version": "1.2.0",
      "model_name": "LayoutModel",
      "state": {}
     },
     "08e3f6bd2445470680806fa006746fac": {
      "model_module": "@jupyter-widgets/base",
      "model_module_version": "1.2.0",
      "model_name": "LayoutModel",
      "state": {}
     },
     "09c46a9eb3e642709c5203f10b91c847": {
      "model_module": "@jupyter-widgets/controls",
      "model_module_version": "1.5.0",
      "model_name": "HTMLModel",
      "state": {
       "layout": "IPY_MODEL_419d6b89f1b145ed9047fe4140954cdc",
       "style": "IPY_MODEL_ab458fa37b174c979901adf8e5d7d550"
      }
     },
     "0a5bd03368fa471dbb9610a3c8b709dd": {
      "model_module": "@jupyter-widgets/controls",
      "model_module_version": "1.5.0",
      "model_name": "ButtonModel",
      "state": {
       "description": "Sort options",
       "icon": "sort",
       "layout": "IPY_MODEL_0d8ad1d1548b4e52bc3f057b05d59a14",
       "style": "IPY_MODEL_75081107e21d443caa272145cb806c44"
      }
     },
     "0b540cae4b66431b8f133774e9ed7870": {
      "model_module": "@jupyter-widgets/controls",
      "model_module_version": "1.5.0",
      "model_name": "ButtonModel",
      "state": {
       "description": "negative",
       "layout": "IPY_MODEL_a1383e18ec3344f89d2b37ce0ac31551",
       "style": "IPY_MODEL_75970574146b431292fc7cbb6dc61547"
      }
     },
     "0b7102ccd1f34c59bbd61789a84ab7bc": {
      "model_module": "@jupyter-widgets/controls",
      "model_module_version": "1.5.0",
      "model_name": "VBoxModel",
      "state": {
       "children": [
        "IPY_MODEL_237e16cf6fbe4ab18f9236f662a75989",
        "IPY_MODEL_58c6acfc62614bd1bf12a419e32f706a"
       ],
       "layout": "IPY_MODEL_2c407a83f7d64ceab5307e3deb6419b3"
      }
     },
     "0c087113843e45a9a5c4b9393a713e01": {
      "model_module": "@jupyter-widgets/base",
      "model_module_version": "1.2.0",
      "model_name": "LayoutModel",
      "state": {
       "justify_content": "space-between"
      }
     },
     "0c4195b8012c4f4fad051c4e454cc529": {
      "model_module": "@jupyter-widgets/controls",
      "model_module_version": "1.5.0",
      "model_name": "VBoxModel",
      "state": {
       "children": [
        "IPY_MODEL_ace6d86e589f46e780fbf159912e6839",
        "IPY_MODEL_eaedf86620804e6798a5be5ebfdededf"
       ],
       "layout": "IPY_MODEL_a1affdccd3584ef2973986466750f19d"
      }
     },
     "0d68e867dc17458aace9ac992dbaad78": {
      "model_module": "@jupyter-widgets/base",
      "model_module_version": "1.2.0",
      "model_name": "LayoutModel",
      "state": {
       "width": "50%"
      }
     },
     "0d8520c30b2a468981f44af751618d1b": {
      "model_module": "@jupyter-widgets/controls",
      "model_module_version": "1.5.0",
      "model_name": "VBoxModel",
      "state": {
       "children": [
        "IPY_MODEL_228e07b85aa04815947aafba4e2a8094",
        "IPY_MODEL_a0184355583148e28acd2eaabd5896bd"
       ],
       "layout": "IPY_MODEL_4253c09107924a2ca1ffd3e7ae9021bc"
      }
     },
     "0d8ad1d1548b4e52bc3f057b05d59a14": {
      "model_module": "@jupyter-widgets/base",
      "model_module_version": "1.2.0",
      "model_name": "LayoutModel",
      "state": {}
     },
     "0dc27c248faf407a91b9872ab007bbc4": {
      "model_module": "@jupyter-widgets/base",
      "model_module_version": "1.2.0",
      "model_name": "LayoutModel",
      "state": {}
     },
     "0dcdc95073194c9299aeb85951ff4eee": {
      "model_module": "@jupyter-widgets/controls",
      "model_module_version": "1.5.0",
      "model_name": "HBoxModel",
      "state": {
       "children": [
        "IPY_MODEL_21fb0c27dfe14ab3937c4655be5f1bec"
       ],
       "layout": "IPY_MODEL_3a3232fad8a743269707fb9db2057017"
      }
     },
     "0ee11b0d0ad440f5aa5f9c0df060547f": {
      "model_module": "@jupyter-widgets/controls",
      "model_module_version": "1.5.0",
      "model_name": "HBoxModel",
      "state": {
       "children": [
        "IPY_MODEL_0124a7da903843ccad4d6e7d6bba1b94",
        "IPY_MODEL_f0c98cdaa6824ea4a2c24d2967aba360"
       ],
       "layout": "IPY_MODEL_e303e7f43c414c09960455c6cc8d63ee"
      }
     },
     "0fa2de5162da4513abeba8c2e40cd015": {
      "model_module": "@jupyter-widgets/base",
      "model_module_version": "1.2.0",
      "model_name": "LayoutModel",
      "state": {}
     },
     "10736f2f215a4f9dbfd202f7eb81add8": {
      "model_module": "@jupyter-widgets/base",
      "model_module_version": "1.2.0",
      "model_name": "LayoutModel",
      "state": {
       "width": "95%"
      }
     },
     "110f3a8d461342089ce6d221c69cec02": {
      "model_module": "@jupyter-widgets/base",
      "model_module_version": "1.2.0",
      "model_name": "LayoutModel",
      "state": {}
     },
     "111284459e9d4edc9f10422327922629": {
      "model_module": "@jupyter-widgets/base",
      "model_module_version": "1.2.0",
      "model_name": "LayoutModel",
      "state": {
       "width": "95%"
      }
     },
     "1135073041484823954a13198d5c032c": {
      "model_module": "@jupyter-widgets/controls",
      "model_module_version": "1.5.0",
      "model_name": "ButtonStyleModel",
      "state": {}
     },
     "12b7632a6a6444959b5bc9f823d12591": {
      "model_module": "@jupyter-widgets/base",
      "model_module_version": "1.2.0",
      "model_name": "LayoutModel",
      "state": {
       "display": "flex",
       "justify_content": "center",
       "min_height": "150px",
       "padding": "5% 0",
       "width": "100%"
      }
     },
     "17b7764a39a744809e4089c5b6f56529": {
      "model_module": "@jupyter-widgets/base",
      "model_module_version": "1.2.0",
      "model_name": "LayoutModel",
      "state": {}
     },
     "1a2a35003eb54448b694370cc457a453": {
      "model_module": "@jupyter-widgets/controls",
      "model_module_version": "1.5.0",
      "model_name": "VBoxModel",
      "state": {
       "children": [
        "IPY_MODEL_218657c64d184bd7ab342a9ebc1370db",
        "IPY_MODEL_3e464b2dcc59405d8037dcd39f45dd31",
        "IPY_MODEL_4f87a9cd0811414e9d5806dea05644f2"
       ],
       "layout": "IPY_MODEL_e7589733bafd430a838048953aeb3299"
      }
     },
     "1b3c2359c23440afb3461a5dfeb43859": {
      "model_module": "@jupyter-widgets/base",
      "model_module_version": "1.2.0",
      "model_name": "LayoutModel",
      "state": {}
     },
     "1eb5c7f8735047b586b67c0d56d22ee5": {
      "model_module": "@jupyter-widgets/controls",
      "model_module_version": "1.5.0",
      "model_name": "ButtonStyleModel",
      "state": {}
     },
     "2059b0492cc047f58a296720fa8dda63": {
      "model_module": "@jupyter-widgets/controls",
      "model_module_version": "1.5.0",
      "model_name": "ButtonModel",
      "state": {
       "description": "positive",
       "layout": "IPY_MODEL_95d001add0634821a972484f37ad34c2",
       "style": "IPY_MODEL_1135073041484823954a13198d5c032c"
      }
     },
     "211afbe1d83f411299b10092ad711117": {
      "model_module": "@jupyter-widgets/controls",
      "model_module_version": "1.5.0",
      "model_name": "TextModel",
      "state": {
       "description": "Other:",
       "layout": "IPY_MODEL_3da40df4df29459e9dc8b8eb8bbf862f",
       "placeholder": "Hit enter to submit.",
       "style": "IPY_MODEL_759025d5d7b04375be66dd2fa96df521"
      }
     },
     "21641342636f42e49196caa9709719fe": {
      "model_module": "@jupyter-widgets/controls",
      "model_module_version": "1.5.0",
      "model_name": "HBoxModel",
      "state": {
       "children": [
        "IPY_MODEL_2d3993b07b8f406685a2d115408d8c13"
       ],
       "layout": "IPY_MODEL_4f6d3fae0f2f4d4d8b10e5aa43920a7c"
      }
     },
     "218657c64d184bd7ab342a9ebc1370db": {
      "model_module": "@jupyter-widgets/controls",
      "model_module_version": "1.5.0",
      "model_name": "HBoxModel",
      "state": {
       "children": [
        "IPY_MODEL_def60ba303e74c289f10a8b3961ba82c",
        "IPY_MODEL_0ee11b0d0ad440f5aa5f9c0df060547f"
       ],
       "layout": "IPY_MODEL_9066ce003861450e9096020d062a55ee"
      }
     },
     "21fb0c27dfe14ab3937c4655be5f1bec": {
      "model_module": "@jupyter-widgets/controls",
      "model_module_version": "1.5.0",
      "model_name": "FloatProgressModel",
      "state": {
       "description": "Progress:",
       "layout": "IPY_MODEL_3f7c66ca3d884707870fe504caa64635",
       "max": 1,
       "style": "IPY_MODEL_2bb7bee326fd43949e12e696b451588c"
      }
     },
     "228e07b85aa04815947aafba4e2a8094": {
      "model_module": "@jupyter-widgets/controls",
      "model_module_version": "1.5.0",
      "model_name": "ButtonModel",
      "state": {
       "description": "positive",
       "layout": "IPY_MODEL_ff535c5d78cc4a0f8fc7e68d94d0a36b",
       "style": "IPY_MODEL_d34e1b8bce1b44348d0794a88d39ff52"
      }
     },
     "22c595a510ed4c6897027a0859a4431f": {
      "model_module": "@jupyter-widgets/base",
      "model_module_version": "1.2.0",
      "model_name": "LayoutModel",
      "state": {
       "width": "95%"
      }
     },
     "237e16cf6fbe4ab18f9236f662a75989": {
      "model_module": "@jupyter-widgets/controls",
      "model_module_version": "1.5.0",
      "model_name": "HBoxModel",
      "state": {
       "children": [
        "IPY_MODEL_b51aca047c9548728af3749f5aba2a63",
        "IPY_MODEL_5061c4cc414b46d999bf4dfbe026a462"
       ],
       "layout": "IPY_MODEL_8e94dc3eeaa04f5486bbd75cb50ff994"
      }
     },
     "2784ecc62e834dc5968ce91788c6d455": {
      "model_module": "@jupyter-widgets/base",
      "model_module_version": "1.2.0",
      "model_name": "LayoutModel",
      "state": {}
     },
     "278deca8bcdd4e8c9615fd5f75e6dc7d": {
      "model_module": "@jupyter-widgets/controls",
      "model_module_version": "1.5.0",
      "model_name": "VBoxModel",
      "state": {
       "children": [
        "IPY_MODEL_0b540cae4b66431b8f133774e9ed7870",
        "IPY_MODEL_fee56cbe24244cd78750783fd8ca2df3"
       ],
       "layout": "IPY_MODEL_77bdc119b6ce440daf297a9dadc21677"
      }
     },
     "2a1409e0beeb4693b9d038f319249e40": {
      "model_module": "@jupyter-widgets/controls",
      "model_module_version": "1.5.0",
      "model_name": "ButtonModel",
      "state": {
       "description": "negative",
       "layout": "IPY_MODEL_9da18b605c6c48cab759f2e6db84188e",
       "style": "IPY_MODEL_7b2f44fcbfdf49cbafdb6a6432d8b771"
      }
     },
     "2a1c7fdcb29e40538d93a171f98b36cd": {
      "model_module": "@jupyter-widgets/output",
      "model_module_version": "1.0.0",
      "model_name": "OutputModel",
      "state": {
       "layout": "IPY_MODEL_ad7d20ff9b9c46c7a99409883bf5b8c9"
      }
     },
     "2a9fa921f32e48b8908bab1b558db7df": {
      "model_module": "@jupyter-widgets/base",
      "model_module_version": "1.2.0",
      "model_name": "LayoutModel",
      "state": {
       "justify_content": "space-between"
      }
     },
     "2bb7bee326fd43949e12e696b451588c": {
      "model_module": "@jupyter-widgets/controls",
      "model_module_version": "1.5.0",
      "model_name": "ProgressStyleModel",
      "state": {
       "description_width": ""
      }
     },
     "2c407a83f7d64ceab5307e3deb6419b3": {
      "model_module": "@jupyter-widgets/base",
      "model_module_version": "1.2.0",
      "model_name": "LayoutModel",
      "state": {}
     },
     "2c5a12022e594158afd5f54feb823724": {
      "model_module": "@jupyter-widgets/base",
      "model_module_version": "1.2.0",
      "model_name": "LayoutModel",
      "state": {
       "display": "flex",
       "justify_content": "center",
       "padding": "2.5% 0",
       "width": "100%"
      }
     },
     "2d3993b07b8f406685a2d115408d8c13": {
      "model_module": "@jupyter-widgets/controls",
      "model_module_version": "1.5.0",
      "model_name": "FloatProgressModel",
      "state": {
       "description": "Progress:",
       "layout": "IPY_MODEL_0dc27c248faf407a91b9872ab007bbc4",
       "max": 1,
       "style": "IPY_MODEL_b229c5b80857440e9592051a263e91f0"
      }
     },
     "2f39d8a5ef2c4b1ca014748eb00e6578": {
      "model_module": "@jupyter-widgets/base",
      "model_module_version": "1.2.0",
      "model_name": "LayoutModel",
      "state": {}
     },
     "2faefcbe450c4cb9ab3c0a71c74e566b": {
      "model_module": "@jupyter-widgets/base",
      "model_module_version": "1.2.0",
      "model_name": "LayoutModel",
      "state": {}
     },
     "30198966818d47d9be0723d60db9206b": {
      "model_module": "@jupyter-widgets/controls",
      "model_module_version": "1.5.0",
      "model_name": "ButtonStyleModel",
      "state": {}
     },
     "30c83e06d0ae467eaef9f40205401b69": {
      "model_module": "@jupyter-widgets/base",
      "model_module_version": "1.2.0",
      "model_name": "LayoutModel",
      "state": {}
     },
     "30e7afb2c4b047ae96d1dbf4a29caa1a": {
      "model_module": "@jupyter-widgets/base",
      "model_module_version": "1.2.0",
      "model_name": "LayoutModel",
      "state": {}
     },
     "3161ddebecc34cc4ae7c8f544bee2091": {
      "model_module": "@jupyter-widgets/base",
      "model_module_version": "1.2.0",
      "model_name": "LayoutModel",
      "state": {}
     },
     "33c056ee2ddb4c908e33cb4b7f41a84b": {
      "model_module": "@jupyter-widgets/controls",
      "model_module_version": "1.5.0",
      "model_name": "ButtonStyleModel",
      "state": {}
     },
     "368b5236f87f41e0a6df5644cf83439a": {
      "model_module": "@jupyter-widgets/controls",
      "model_module_version": "1.5.0",
      "model_name": "ButtonModel",
      "state": {
       "description": "negative",
       "layout": "IPY_MODEL_59f3558b8e4149778cc630f7423e9ded",
       "style": "IPY_MODEL_a4fc9f9d99a0414d9a356d69963888ab"
      }
     },
     "36935d54be2549629467d581834d9cab": {
      "model_module": "@jupyter-widgets/controls",
      "model_module_version": "1.5.0",
      "model_name": "ButtonStyleModel",
      "state": {}
     },
     "374b94c4095942449e4503fd45af85eb": {
      "model_module": "@jupyter-widgets/base",
      "model_module_version": "1.2.0",
      "model_name": "LayoutModel",
      "state": {}
     },
     "37e9d0402503425f8d291030f7077953": {
      "model_module": "@jupyter-widgets/output",
      "model_module_version": "1.0.0",
      "model_name": "OutputModel",
      "state": {
       "layout": "IPY_MODEL_e50e6e51c3de415fb1353752ea35479a"
      }
     },
     "38b392f4e631447cb92a5b9536469029": {
      "model_module": "@jupyter-widgets/controls",
      "model_module_version": "1.5.0",
      "model_name": "ButtonModel",
      "state": {
       "description": "Skip",
       "icon": "fast-forward",
       "layout": "IPY_MODEL_b6d63f782008488eac9a1ce1fd24fe76",
       "style": "IPY_MODEL_3d08828645fe4bc9a5f1795e865a08d8"
      }
     },
     "38c5a223fbd44f5898e58b66a7ab9389": {
      "model_module": "@jupyter-widgets/controls",
      "model_module_version": "1.5.0",
      "model_name": "HBoxModel",
      "state": {
       "children": [
        "IPY_MODEL_f06a380d27984156875f413570d0a4da",
        "IPY_MODEL_9fe397dbe962469dab253a0b0496e1cd"
       ],
       "layout": "IPY_MODEL_44dc601865bf4f24b27978b7e952e908"
      }
     },
     "38eed9a764d14580bb1b17f0a6437ea8": {
      "model_module": "@jupyter-widgets/base",
      "model_module_version": "1.2.0",
      "model_name": "LayoutModel",
      "state": {}
     },
     "3a3232fad8a743269707fb9db2057017": {
      "model_module": "@jupyter-widgets/base",
      "model_module_version": "1.2.0",
      "model_name": "LayoutModel",
      "state": {
       "width": "50%"
      }
     },
     "3b50825b6f914d98b3e3149f2384301c": {
      "model_module": "@jupyter-widgets/controls",
      "model_module_version": "1.5.0",
      "model_name": "ButtonModel",
      "state": {
       "description": "positive",
       "layout": "IPY_MODEL_7d6e1dcd27bb4a5fa5c20b7e4671fe72",
       "style": "IPY_MODEL_5b054a9670e84a3296740c395b0c1ba0"
      }
     },
     "3ba2b7df009a4898ab26118d76427fcf": {
      "model_module": "@jupyter-widgets/base",
      "model_module_version": "1.2.0",
      "model_name": "LayoutModel",
      "state": {}
     },
     "3d08828645fe4bc9a5f1795e865a08d8": {
      "model_module": "@jupyter-widgets/controls",
      "model_module_version": "1.5.0",
      "model_name": "ButtonStyleModel",
      "state": {}
     },
     "3d13060cf66749b4a27177e4fa739961": {
      "model_module": "@jupyter-widgets/controls",
      "model_module_version": "1.5.0",
      "model_name": "FloatProgressModel",
      "state": {
       "description": "Progress:",
       "layout": "IPY_MODEL_7b33afa74a734889b047d22dabe0e7a5",
       "max": 1,
       "style": "IPY_MODEL_f7ea851a93cc4dd783f8a69872c84dbf"
      }
     },
     "3d47d1d9dd0545ccbe8e1419b366b693": {
      "model_module": "@jupyter-widgets/base",
      "model_module_version": "1.2.0",
      "model_name": "LayoutModel",
      "state": {}
     },
     "3da40df4df29459e9dc8b8eb8bbf862f": {
      "model_module": "@jupyter-widgets/base",
      "model_module_version": "1.2.0",
      "model_name": "LayoutModel",
      "state": {}
     },
     "3dfacdd09d6a40679ea826c676c06a43": {
      "model_module": "@jupyter-widgets/controls",
      "model_module_version": "1.5.0",
      "model_name": "ButtonStyleModel",
      "state": {}
     },
     "3e1e461405d041d9bdd6f08fa4c29653": {
      "model_module": "@jupyter-widgets/controls",
      "model_module_version": "1.5.0",
      "model_name": "VBoxModel",
      "state": {
       "children": [
        "IPY_MODEL_d2212d83e7534eb38f580fe55b233eb8",
        "IPY_MODEL_c7f80ceff6a942f4b20aa196df1d102d",
        "IPY_MODEL_0b7102ccd1f34c59bbd61789a84ab7bc"
       ],
       "layout": "IPY_MODEL_17b7764a39a744809e4089c5b6f56529"
      }
     },
     "3e464b2dcc59405d8037dcd39f45dd31": {
      "model_module": "@jupyter-widgets/controls",
      "model_module_version": "1.5.0",
      "model_name": "BoxModel",
      "state": {
       "children": [
        "IPY_MODEL_781cb30218cf40d19409cf2e8dab7604"
       ],
       "layout": "IPY_MODEL_2c5a12022e594158afd5f54feb823724"
      }
     },
     "3e9dca8813874b9886a66f222af1ddfc": {
      "model_module": "@jupyter-widgets/base",
      "model_module_version": "1.2.0",
      "model_name": "LayoutModel",
      "state": {
       "width": "50%"
      }
     },
     "3f7c66ca3d884707870fe504caa64635": {
      "model_module": "@jupyter-widgets/base",
      "model_module_version": "1.2.0",
      "model_name": "LayoutModel",
      "state": {}
     },
     "419d6b89f1b145ed9047fe4140954cdc": {
      "model_module": "@jupyter-widgets/base",
      "model_module_version": "1.2.0",
      "model_name": "LayoutModel",
      "state": {}
     },
     "41fe1f772e974b368a9e0808f37aea0d": {
      "model_module": "@jupyter-widgets/controls",
      "model_module_version": "1.5.0",
      "model_name": "DescriptionStyleModel",
      "state": {
       "description_width": ""
      }
     },
     "4253c09107924a2ca1ffd3e7ae9021bc": {
      "model_module": "@jupyter-widgets/base",
      "model_module_version": "1.2.0",
      "model_name": "LayoutModel",
      "state": {
       "width": "50%"
      }
     },
     "44dc601865bf4f24b27978b7e952e908": {
      "model_module": "@jupyter-widgets/base",
      "model_module_version": "1.2.0",
      "model_name": "LayoutModel",
      "state": {
       "width": "50%"
      }
     },
     "46181418f95e42deb48fa05d435cd66f": {
      "model_module": "@jupyter-widgets/controls",
      "model_module_version": "1.5.0",
      "model_name": "HBoxModel",
      "state": {
       "children": [
        "IPY_MODEL_b2fad19b907443538d3206c971809495",
        "IPY_MODEL_d6a725b8cf03468f9426eea67612709d"
       ],
       "layout": "IPY_MODEL_bdee9417a41e43018ddf88e91fce921a"
      }
     },
     "4661fe5aa1814b1e83e60c90c03aaa3e": {
      "model_module": "@jupyter-widgets/controls",
      "model_module_version": "1.5.0",
      "model_name": "ButtonModel",
      "state": {
       "description": "Sort options",
       "icon": "sort",
       "layout": "IPY_MODEL_49ef9bad1a0d4031b0103469b8f650cb",
       "style": "IPY_MODEL_30198966818d47d9be0723d60db9206b"
      }
     },
     "46636255e8ac40578962c270fa7aab41": {
      "model_module": "@jupyter-widgets/controls",
      "model_module_version": "1.5.0",
      "model_name": "DescriptionStyleModel",
      "state": {
       "description_width": ""
      }
     },
     "46bcdea4f71d4f549337d164f62d5de4": {
      "model_module": "@jupyter-widgets/controls",
      "model_module_version": "1.5.0",
      "model_name": "ButtonModel",
      "state": {
       "description": "positive",
       "layout": "IPY_MODEL_fcd1fe192fbd4ff49468eb606ba8405e",
       "style": "IPY_MODEL_3dfacdd09d6a40679ea826c676c06a43"
      }
     },
     "47bec283d20d4890a0daa4fbfc3e1026": {
      "model_module": "@jupyter-widgets/output",
      "model_module_version": "1.0.0",
      "model_name": "OutputModel",
      "state": {
       "layout": "IPY_MODEL_3161ddebecc34cc4ae7c8f544bee2091",
       "outputs": [
        {
         "data": {
          "text/markdown": "**To:** John",
          "text/plain": "<IPython.core.display.Markdown object>"
         },
         "metadata": {},
         "output_type": "display_data"
        },
        {
         "data": {
          "text/markdown": "**At:** 2018-02-01 15:00",
          "text/plain": "<IPython.core.display.Markdown object>"
         },
         "metadata": {},
         "output_type": "display_data"
        },
        {
         "data": {
          "text/markdown": "Hi John,\n\nthis is just to say nice work yesterday.\n\nBest,\n\nJim",
          "text/plain": "<IPython.core.display.Markdown object>"
         },
         "metadata": {},
         "output_type": "display_data"
        }
       ]
      }
     },
     "4975bd6b05c445668befcae8b4c8e331": {
      "model_module": "@jupyter-widgets/base",
      "model_module_version": "1.2.0",
      "model_name": "LayoutModel",
      "state": {}
     },
     "49ef9bad1a0d4031b0103469b8f650cb": {
      "model_module": "@jupyter-widgets/base",
      "model_module_version": "1.2.0",
      "model_name": "LayoutModel",
      "state": {}
     },
     "4b6eba09c8c94ad8bf0771418c94d78d": {
      "model_module": "@jupyter-widgets/base",
      "model_module_version": "1.2.0",
      "model_name": "LayoutModel",
      "state": {
       "width": "50%"
      }
     },
     "4c1f583daa6f49e6b35e01419d8ff582": {
      "model_module": "@jupyter-widgets/controls",
      "model_module_version": "1.5.0",
      "model_name": "ButtonModel",
      "state": {
       "description": "Skip",
       "icon": "fast-forward",
       "layout": "IPY_MODEL_c6b77d217456454186e40c01634f5844",
       "style": "IPY_MODEL_a4fde5eb810c42e9875d1111e3e37ec2"
      }
     },
     "4da3bf9820b34523a254e0a0d18141f5": {
      "model_module": "@jupyter-widgets/controls",
      "model_module_version": "1.5.0",
      "model_name": "ButtonModel",
      "state": {
       "description": "positive",
       "layout": "IPY_MODEL_c0152520404d4a7bbfd519bc5ef055ee",
       "style": "IPY_MODEL_6e4b6c52b7064ead9f594eb0b51f3ddb"
      }
     },
     "4ddb186f738e44abb9162cd919f43503": {
      "model_module": "@jupyter-widgets/base",
      "model_module_version": "1.2.0",
      "model_name": "LayoutModel",
      "state": {}
     },
     "4de8de6bde824c03a1db420ee0489aaf": {
      "model_module": "@jupyter-widgets/controls",
      "model_module_version": "1.5.0",
      "model_name": "HBoxModel",
      "state": {
       "children": [
        "IPY_MODEL_0d8520c30b2a468981f44af751618d1b",
        "IPY_MODEL_0c4195b8012c4f4fad051c4e454cc529"
       ],
       "layout": "IPY_MODEL_550eb8ee8f52462f97fc9b332d6f9a5d"
      }
     },
     "4def9cce92e4424aaf8cff69b47ee2cf": {
      "model_module": "@jupyter-widgets/base",
      "model_module_version": "1.2.0",
      "model_name": "LayoutModel",
      "state": {}
     },
     "4f6d3fae0f2f4d4d8b10e5aa43920a7c": {
      "model_module": "@jupyter-widgets/base",
      "model_module_version": "1.2.0",
      "model_name": "LayoutModel",
      "state": {
       "width": "50%"
      }
     },
     "4f87a9cd0811414e9d5806dea05644f2": {
      "model_module": "@jupyter-widgets/controls",
      "model_module_version": "1.5.0",
      "model_name": "VBoxModel",
      "state": {
       "children": [
        "IPY_MODEL_634a6f9b311a4235b9dda092697c4cfd",
        "IPY_MODEL_ab3dbb457a634cbba2acd91b004725d6"
       ],
       "layout": "IPY_MODEL_6d6c563caee343b29ad686d725723812"
      }
     },
     "5061c4cc414b46d999bf4dfbe026a462": {
      "model_module": "@jupyter-widgets/controls",
      "model_module_version": "1.5.0",
      "model_name": "VBoxModel",
      "state": {
       "children": [
        "IPY_MODEL_368b5236f87f41e0a6df5644cf83439a",
        "IPY_MODEL_cd23e64f65c14cea8ccb875dc0ba7085"
       ],
       "layout": "IPY_MODEL_bc010325dbf941c5b3ca9f0acb516187"
      }
     },
     "518a93c84ff7400ebfaeed221e759104": {
      "model_module": "@jupyter-widgets/base",
      "model_module_version": "1.2.0",
      "model_name": "LayoutModel",
      "state": {
       "width": "50%"
      }
     },
     "51ae13d63f5a436da394b7c7d4f2ec2a": {
      "model_module": "@jupyter-widgets/base",
      "model_module_version": "1.2.0",
      "model_name": "LayoutModel",
      "state": {}
     },
     "52284601c0cb4e08a807d478622889a2": {
      "model_module": "@jupyter-widgets/controls",
      "model_module_version": "1.5.0",
      "model_name": "ButtonStyleModel",
      "state": {}
     },
     "53021cb91df54a9a8c1e1c056215e419": {
      "model_module": "@jupyter-widgets/base",
      "model_module_version": "1.2.0",
      "model_name": "LayoutModel",
      "state": {
       "width": "50%"
      }
     },
     "540e937fcc67413e86ec40b5be5e8993": {
      "model_module": "@jupyter-widgets/base",
      "model_module_version": "1.2.0",
      "model_name": "LayoutModel",
      "state": {
       "width": "50%"
      }
     },
     "54440a7d2f7349e2b6cd0d0f581d82a6": {
      "model_module": "@jupyter-widgets/base",
      "model_module_version": "1.2.0",
      "model_name": "LayoutModel",
      "state": {}
     },
     "550eb8ee8f52462f97fc9b332d6f9a5d": {
      "model_module": "@jupyter-widgets/base",
      "model_module_version": "1.2.0",
      "model_name": "LayoutModel",
      "state": {}
     },
     "551d04125cdc483b90215c88e23405f0": {
      "model_module": "@jupyter-widgets/controls",
      "model_module_version": "1.5.0",
      "model_name": "ButtonStyleModel",
      "state": {}
     },
     "564ce259acff4599a8e9dc303a4d28b0": {
      "model_module": "@jupyter-widgets/controls",
      "model_module_version": "1.5.0",
      "model_name": "HBoxModel",
      "state": {
       "children": [
        "IPY_MODEL_d73c85315c7d42ed9bbfb5bed61e6481",
        "IPY_MODEL_ab285fe099564904af671f8be902d607"
       ],
       "layout": "IPY_MODEL_0c087113843e45a9a5c4b9393a713e01"
      }
     },
     "588237121aad43debe043fbf021ac441": {
      "model_module": "@jupyter-widgets/controls",
      "model_module_version": "1.5.0",
      "model_name": "ButtonModel",
      "state": {
       "description": "negative",
       "layout": "IPY_MODEL_22c595a510ed4c6897027a0859a4431f",
       "style": "IPY_MODEL_c5899febfeb64afe8d816c78a3e6fe87"
      }
     },
     "5894fedfb24e4c20937b4a53dc1e1b68": {
      "model_module": "@jupyter-widgets/controls",
      "model_module_version": "1.5.0",
      "model_name": "ButtonStyleModel",
      "state": {}
     },
     "58c6acfc62614bd1bf12a419e32f706a": {
      "model_module": "@jupyter-widgets/controls",
      "model_module_version": "1.5.0",
      "model_name": "HBoxModel",
      "state": {
       "children": [
        "IPY_MODEL_b604b52ea08241399d99a6c103e59ebe",
        "IPY_MODEL_8c885ea7097442f693c2fae431b032fe"
       ],
       "layout": "IPY_MODEL_c92bdaec93f54cd8be13218906e8a79c"
      }
     },
     "5982098f29d0406b86d539fb0be0cd07": {
      "model_module": "@jupyter-widgets/base",
      "model_module_version": "1.2.0",
      "model_name": "LayoutModel",
      "state": {}
     },
     "59dc2a47e9b44f4fbdf9adc659e3b3ae": {
      "model_module": "@jupyter-widgets/controls",
      "model_module_version": "1.5.0",
      "model_name": "VBoxModel",
      "state": {
       "children": [
        "IPY_MODEL_8fe04255aa074f45aefacfe86eb80d6e",
        "IPY_MODEL_dcd3a543339949c4af9f54a17efe5001"
       ],
       "layout": "IPY_MODEL_8bc4d5c524184bf4a5338defb60bc7a5"
      }
     },
     "59f3558b8e4149778cc630f7423e9ded": {
      "model_module": "@jupyter-widgets/base",
      "model_module_version": "1.2.0",
      "model_name": "LayoutModel",
      "state": {
       "width": "95%"
      }
     },
     "5a148930d67b44e193d49d8e67bc8c0b": {
      "model_module": "@jupyter-widgets/controls",
      "model_module_version": "1.5.0",
      "model_name": "ButtonModel",
      "state": {
       "description": "Sort options",
       "icon": "sort",
       "layout": "IPY_MODEL_acf5ea96d8da4ec698f2707b200167e9",
       "style": "IPY_MODEL_a34ef759a0504b7fa4ac0b714bafba7f"
      }
     },
     "5b054a9670e84a3296740c395b0c1ba0": {
      "model_module": "@jupyter-widgets/controls",
      "model_module_version": "1.5.0",
      "model_name": "ButtonStyleModel",
      "state": {}
     },
     "5c7f3c7618d249deb80aa58e667c25cc": {
      "model_module": "@jupyter-widgets/output",
      "model_module_version": "1.0.0",
      "model_name": "OutputModel",
      "state": {
       "layout": "IPY_MODEL_e432ce82f7a44e5089918a12f4db1eea"
      }
     },
     "5ed509ca4eb34b0fae47533505191ea4": {
      "model_module": "@jupyter-widgets/controls",
      "model_module_version": "1.5.0",
      "model_name": "ButtonStyleModel",
      "state": {}
     },
     "5fc7a21ec25940a1b8633586f4781a8e": {
      "model_module": "@jupyter-widgets/controls",
      "model_module_version": "1.5.0",
      "model_name": "HBoxModel",
      "state": {
       "children": [
        "IPY_MODEL_94071aa07086456d9abcfb4513b56b25",
        "IPY_MODEL_fc5a85eee051466fb5118afe2d2f8598"
       ],
       "layout": "IPY_MODEL_92bbe37735494ba68dc69cc2cddb69b3"
      }
     },
     "5fe9c11134984b48bbd6da0299cc3701": {
      "model_module": "@jupyter-widgets/controls",
      "model_module_version": "1.5.0",
      "model_name": "DescriptionStyleModel",
      "state": {
       "description_width": ""
      }
     },
     "6086839ec266417fb8ccba808c6e3c34": {
      "model_module": "@jupyter-widgets/base",
      "model_module_version": "1.2.0",
      "model_name": "LayoutModel",
      "state": {}
     },
     "60ace75c4980433bbaf400ad615104fd": {
      "model_module": "@jupyter-widgets/controls",
      "model_module_version": "1.5.0",
      "model_name": "HBoxModel",
      "state": {
       "children": [
        "IPY_MODEL_c16151ba03d448278f36e8e212bc9b3c",
        "IPY_MODEL_90c7adce0baf450d8f3eee2f88e9a79f"
       ],
       "layout": "IPY_MODEL_99564531e16a4276bbe3b107d94d19a9"
      }
     },
     "60fa48a6c19d4bf0aa6bc004830f2564": {
      "model_module": "@jupyter-widgets/base",
      "model_module_version": "1.2.0",
      "model_name": "LayoutModel",
      "state": {}
     },
     "617390a1c4b841a49aeff528c045c06b": {
      "model_module": "@jupyter-widgets/base",
      "model_module_version": "1.2.0",
      "model_name": "LayoutModel",
      "state": {}
     },
     "62513037e6134355b31867c571d65b64": {
      "model_module": "@jupyter-widgets/controls",
      "model_module_version": "1.5.0",
      "model_name": "HBoxModel",
      "state": {
       "children": [
        "IPY_MODEL_ab354f2f959246d0af30400ceb598d94",
        "IPY_MODEL_6da1cf6f78174464ae5ce32c40901384"
       ],
       "layout": "IPY_MODEL_e18d3c50763c47ccb6f29af7ccdaa32a"
      }
     },
     "625d813e0b13406d910c78f8bc4f0154": {
      "model_module": "@jupyter-widgets/base",
      "model_module_version": "1.2.0",
      "model_name": "LayoutModel",
      "state": {}
     },
     "629e5a0b039e41ee8bf7e0e704d3e8de": {
      "model_module": "@jupyter-widgets/controls",
      "model_module_version": "1.5.0",
      "model_name": "DescriptionStyleModel",
      "state": {
       "description_width": ""
      }
     },
     "634a6f9b311a4235b9dda092697c4cfd": {
      "model_module": "@jupyter-widgets/controls",
      "model_module_version": "1.5.0",
      "model_name": "HBoxModel",
      "state": {
       "children": [
        "IPY_MODEL_fd6f612e3e7e43058c11021cd8f19437",
        "IPY_MODEL_76bbcfd951ad431b9cd8b9ad75822156"
       ],
       "layout": "IPY_MODEL_b11984517e5d45d69e61bc2bf6c85b1e"
      }
     },
     "639c05a57aef40e28131b67c6df08c35": {
      "model_module": "@jupyter-widgets/controls",
      "model_module_version": "1.5.0",
      "model_name": "DescriptionStyleModel",
      "state": {
       "description_width": ""
      }
     },
     "64cdecac90c945b78292f7aed2c39745": {
      "model_module": "@jupyter-widgets/controls",
      "model_module_version": "1.5.0",
      "model_name": "ButtonStyleModel",
      "state": {}
     },
     "661536191cb2433cb9a9fd7fd1a54596": {
      "model_module": "@jupyter-widgets/controls",
      "model_module_version": "1.5.0",
      "model_name": "ButtonModel",
      "state": {
       "description": "Skip",
       "icon": "fast-forward",
       "layout": "IPY_MODEL_54440a7d2f7349e2b6cd0d0f581d82a6",
       "style": "IPY_MODEL_81c68cac78e44cc6a1413b5f47266b70"
      }
     },
     "69f4cf5693544416bfdb3bf792d95abc": {
      "model_module": "@jupyter-widgets/output",
      "model_module_version": "1.0.0",
      "model_name": "OutputModel",
      "state": {
       "layout": "IPY_MODEL_fa369722cbb54ac195a5bd575f422f45"
      }
     },
     "6c388645882e429faac535d74d1c9340": {
      "model_module": "@jupyter-widgets/output",
      "model_module_version": "1.0.0",
      "model_name": "OutputModel",
      "state": {
       "layout": "IPY_MODEL_a797ac5a20024a6687e73d7214228b49",
       "outputs": [
        {
         "data": {
          "text/markdown": "**To:** John",
          "text/plain": "<IPython.core.display.Markdown object>"
         },
         "metadata": {},
         "output_type": "display_data"
        },
        {
         "data": {
          "text/markdown": "**At:** 2018-02-01 15:00",
          "text/plain": "<IPython.core.display.Markdown object>"
         },
         "metadata": {},
         "output_type": "display_data"
        },
        {
         "data": {
          "text/markdown": "Hi John,\n\nthis is just to say nice work yesterday.\n\nBest,\n\nJim",
          "text/plain": "<IPython.core.display.Markdown object>"
         },
         "metadata": {},
         "output_type": "display_data"
        }
       ]
      }
     },
     "6d06263d2719444ba128de7e3a8f9e66": {
      "model_module": "@jupyter-widgets/controls",
      "model_module_version": "1.5.0",
      "model_name": "HBoxModel",
      "state": {
       "children": [
        "IPY_MODEL_0a5bd03368fa471dbb9610a3c8b709dd",
        "IPY_MODEL_f876991b896042598b0fbac0d1313ac3",
        "IPY_MODEL_966065f94236444292c398ea0454cc2d"
       ],
       "layout": "IPY_MODEL_d5fe69a04e1040f38c827c339cea91f0"
      }
     },
     "6d3953f97b4f442299381c2e23cfbe5e": {
      "model_module": "@jupyter-widgets/controls",
      "model_module_version": "1.5.0",
      "model_name": "TextModel",
      "state": {
       "description": "Other:",
       "layout": "IPY_MODEL_3ba2b7df009a4898ab26118d76427fcf",
       "placeholder": "Hit enter to submit.",
       "style": "IPY_MODEL_46636255e8ac40578962c270fa7aab41"
      }
     },
     "6d6c563caee343b29ad686d725723812": {
      "model_module": "@jupyter-widgets/base",
      "model_module_version": "1.2.0",
      "model_name": "LayoutModel",
      "state": {}
     },
     "6da1cf6f78174464ae5ce32c40901384": {
      "model_module": "@jupyter-widgets/controls",
      "model_module_version": "1.5.0",
      "model_name": "HBoxModel",
      "state": {
       "children": [
        "IPY_MODEL_4661fe5aa1814b1e83e60c90c03aaa3e",
        "IPY_MODEL_661536191cb2433cb9a9fd7fd1a54596",
        "IPY_MODEL_c74f52f6a11b41f59a3c542ccb23a0d9"
       ],
       "layout": "IPY_MODEL_ce4d71324dcc4596b2028aec78faeb42"
      }
     },
     "6df07f0fb7f04acba82d1f43d021ac99": {
      "model_module": "@jupyter-widgets/base",
      "model_module_version": "1.2.0",
      "model_name": "LayoutModel",
      "state": {
       "width": "50%"
      }
     },
     "6e3fdec6614940338d433849d986664a": {
      "model_module": "@jupyter-widgets/output",
      "model_module_version": "1.0.0",
      "model_name": "OutputModel",
      "state": {
       "layout": "IPY_MODEL_4ddb186f738e44abb9162cd919f43503"
      }
     },
     "6e4b6c52b7064ead9f594eb0b51f3ddb": {
      "model_module": "@jupyter-widgets/controls",
      "model_module_version": "1.5.0",
      "model_name": "ButtonStyleModel",
      "state": {}
     },
     "6f6c753c744e4d6c967ae65ec876ba17": {
      "model_module": "@jupyter-widgets/base",
      "model_module_version": "1.2.0",
      "model_name": "LayoutModel",
      "state": {
       "width": "95%"
      }
     },
     "70d4b9af6f49456d9652011264993ffc": {
      "model_module": "@jupyter-widgets/base",
      "model_module_version": "1.2.0",
      "model_name": "LayoutModel",
      "state": {
       "width": "95%"
      }
     },
     "75081107e21d443caa272145cb806c44": {
      "model_module": "@jupyter-widgets/controls",
      "model_module_version": "1.5.0",
      "model_name": "ButtonStyleModel",
      "state": {}
     },
     "758b68b12a12467ab7f56e763d8aefca": {
      "model_module": "@jupyter-widgets/controls",
      "model_module_version": "1.5.0",
      "model_name": "ButtonModel",
      "state": {
       "description": "negative",
       "layout": "IPY_MODEL_70d4b9af6f49456d9652011264993ffc",
       "style": "IPY_MODEL_551d04125cdc483b90215c88e23405f0"
      }
     },
     "759025d5d7b04375be66dd2fa96df521": {
      "model_module": "@jupyter-widgets/controls",
      "model_module_version": "1.5.0",
      "model_name": "DescriptionStyleModel",
      "state": {
       "description_width": ""
      }
     },
     "75970574146b431292fc7cbb6dc61547": {
      "model_module": "@jupyter-widgets/controls",
      "model_module_version": "1.5.0",
      "model_name": "ButtonStyleModel",
      "state": {}
     },
     "761c8f08ceae4fafa354f6a5433fde51": {
      "model_module": "@jupyter-widgets/base",
      "model_module_version": "1.2.0",
      "model_name": "LayoutModel",
      "state": {}
     },
     "76bbcfd951ad431b9cd8b9ad75822156": {
      "model_module": "@jupyter-widgets/controls",
      "model_module_version": "1.5.0",
      "model_name": "VBoxModel",
      "state": {
       "children": [
        "IPY_MODEL_2a1409e0beeb4693b9d038f319249e40",
        "IPY_MODEL_2a1c7fdcb29e40538d93a171f98b36cd"
       ],
       "layout": "IPY_MODEL_6df07f0fb7f04acba82d1f43d021ac99"
      }
     },
     "77bdc119b6ce440daf297a9dadc21677": {
      "model_module": "@jupyter-widgets/base",
      "model_module_version": "1.2.0",
      "model_name": "LayoutModel",
      "state": {
       "width": "50%"
      }
     },
     "781cb30218cf40d19409cf2e8dab7604": {
      "model_module": "@jupyter-widgets/output",
      "model_module_version": "1.0.0",
      "model_name": "OutputModel",
      "state": {
       "layout": "IPY_MODEL_625d813e0b13406d910c78f8bc4f0154",
       "outputs": [
        {
         "data": {
          "text/markdown": "**To:** John",
          "text/plain": "<IPython.core.display.Markdown object>"
         },
         "metadata": {},
         "output_type": "display_data"
        },
        {
         "data": {
          "text/markdown": "**At:** 2018-02-01 15:00",
          "text/plain": "<IPython.core.display.Markdown object>"
         },
         "metadata": {},
         "output_type": "display_data"
        },
        {
         "data": {
          "text/markdown": "Hi John,\n\nthis is just to say nice work yesterday.\n\nBest,\n\nJim",
          "text/plain": "<IPython.core.display.Markdown object>"
         },
         "metadata": {},
         "output_type": "display_data"
        }
       ]
      }
     },
     "7b2f44fcbfdf49cbafdb6a6432d8b771": {
      "model_module": "@jupyter-widgets/controls",
      "model_module_version": "1.5.0",
      "model_name": "ButtonStyleModel",
      "state": {}
     },
     "7b33afa74a734889b047d22dabe0e7a5": {
      "model_module": "@jupyter-widgets/base",
      "model_module_version": "1.2.0",
      "model_name": "LayoutModel",
      "state": {}
     },
     "7bf30cc1440d45acb6dcc25ffb75da92": {
      "model_module": "@jupyter-widgets/base",
      "model_module_version": "1.2.0",
      "model_name": "LayoutModel",
      "state": {}
     },
     "7c15c980867b4cd3be01ff026a33c12d": {
      "model_module": "@jupyter-widgets/base",
      "model_module_version": "1.2.0",
      "model_name": "LayoutModel",
      "state": {}
     },
     "7d14b2f95af040a498c364bae3d9c630": {
      "model_module": "@jupyter-widgets/controls",
      "model_module_version": "1.5.0",
      "model_name": "ButtonStyleModel",
      "state": {}
     },
     "7d4f910a0b6a4c508d33808831624b9f": {
      "model_module": "@jupyter-widgets/controls",
      "model_module_version": "1.5.0",
      "model_name": "ButtonStyleModel",
      "state": {}
     },
     "7d6e1dcd27bb4a5fa5c20b7e4671fe72": {
      "model_module": "@jupyter-widgets/base",
      "model_module_version": "1.2.0",
      "model_name": "LayoutModel",
      "state": {
       "width": "95%"
      }
     },
     "81c68cac78e44cc6a1413b5f47266b70": {
      "model_module": "@jupyter-widgets/controls",
      "model_module_version": "1.5.0",
      "model_name": "ButtonStyleModel",
      "state": {}
     },
     "825f658fbb9b44a38853fc24a330336c": {
      "model_module": "@jupyter-widgets/controls",
      "model_module_version": "1.5.0",
      "model_name": "HBoxModel",
      "state": {
       "children": [
        "IPY_MODEL_d433b346e22946b2b69ce29744cc171d",
        "IPY_MODEL_4c1f583daa6f49e6b35e01419d8ff582",
        "IPY_MODEL_f9b752bf2b7648429d4d4f411ab1db39"
       ],
       "layout": "IPY_MODEL_fb667ed5b0cf4f6a9cb6a320b649f252"
      }
     },
     "8317a2d406914fceb76ecbe5873d9391": {
      "model_module": "@jupyter-widgets/base",
      "model_module_version": "1.2.0",
      "model_name": "LayoutModel",
      "state": {}
     },
     "83fb58f8ab4545179334d0515e323f08": {
      "model_module": "@jupyter-widgets/controls",
      "model_module_version": "1.5.0",
      "model_name": "VBoxModel",
      "state": {
       "children": [
        "IPY_MODEL_cc8646f57fca4352bd9a0661780e6926",
        "IPY_MODEL_ce24559574b542fa92aaba73c3c0f35a",
        "IPY_MODEL_c68aced8f57d4d3aae8748ad962b346e"
       ],
       "layout": "IPY_MODEL_e4f822cc6b6941aba2d2e061da897c79"
      }
     },
     "85db382e90b24635943556a20f55c22e": {
      "model_module": "@jupyter-widgets/base",
      "model_module_version": "1.2.0",
      "model_name": "LayoutModel",
      "state": {
       "width": "95%"
      }
     },
     "86b16ec58d424a528aba93c96c7f1116": {
      "model_module": "@jupyter-widgets/controls",
      "model_module_version": "1.5.0",
      "model_name": "VBoxModel",
      "state": {
       "children": [
        "IPY_MODEL_4da3bf9820b34523a254e0a0d18141f5",
        "IPY_MODEL_5c7f3c7618d249deb80aa58e667c25cc"
       ],
       "layout": "IPY_MODEL_dbe84f434e45436d96c35b45056c7518"
      }
     },
     "86cf3434f8ba47cc990fea57a8754939": {
      "model_module": "@jupyter-widgets/controls",
      "model_module_version": "1.5.0",
      "model_name": "VBoxModel",
      "state": {
       "children": [
        "IPY_MODEL_588237121aad43debe043fbf021ac441",
        "IPY_MODEL_69f4cf5693544416bfdb3bf792d95abc"
       ],
       "layout": "IPY_MODEL_ffa3c0bcddda49f1ad042fe8396c0352"
      }
     },
     "89835ee923714ccbb40396aa09e2c493": {
      "model_module": "@jupyter-widgets/base",
      "model_module_version": "1.2.0",
      "model_name": "LayoutModel",
      "state": {
       "width": "50%"
      }
     },
     "898fc9be76094391a950fee771dba08f": {
      "model_module": "@jupyter-widgets/base",
      "model_module_version": "1.2.0",
      "model_name": "LayoutModel",
      "state": {
       "justify_content": "space-between"
      }
     },
     "8add6dc0517b46f288cf197b0681988d": {
      "model_module": "@jupyter-widgets/output",
      "model_module_version": "1.0.0",
      "model_name": "OutputModel",
      "state": {
       "layout": "IPY_MODEL_30e7afb2c4b047ae96d1dbf4a29caa1a"
      }
     },
     "8bc4d5c524184bf4a5338defb60bc7a5": {
      "model_module": "@jupyter-widgets/base",
      "model_module_version": "1.2.0",
      "model_name": "LayoutModel",
      "state": {
       "width": "50%"
      }
     },
     "8c885ea7097442f693c2fae431b032fe": {
      "model_module": "@jupyter-widgets/controls",
      "model_module_version": "1.5.0",
      "model_name": "HBoxModel",
      "state": {
       "children": [
        "IPY_MODEL_4661fe5aa1814b1e83e60c90c03aaa3e",
        "IPY_MODEL_661536191cb2433cb9a9fd7fd1a54596",
        "IPY_MODEL_c74f52f6a11b41f59a3c542ccb23a0d9"
       ],
       "layout": "IPY_MODEL_110f3a8d461342089ce6d221c69cec02"
      }
     },
     "8df40f3f388040fa95362f19e4bb284d": {
      "model_module": "@jupyter-widgets/base",
      "model_module_version": "1.2.0",
      "model_name": "LayoutModel",
      "state": {}
     },
     "8e067a6837584f9ba5d6c0c6288b12b9": {
      "model_module": "@jupyter-widgets/base",
      "model_module_version": "1.2.0",
      "model_name": "LayoutModel",
      "state": {}
     },
     "8e94dc3eeaa04f5486bbd75cb50ff994": {
      "model_module": "@jupyter-widgets/base",
      "model_module_version": "1.2.0",
      "model_name": "LayoutModel",
      "state": {}
     },
     "8fe04255aa074f45aefacfe86eb80d6e": {
      "model_module": "@jupyter-widgets/controls",
      "model_module_version": "1.5.0",
      "model_name": "ButtonModel",
      "state": {
       "description": "positive",
       "layout": "IPY_MODEL_85db382e90b24635943556a20f55c22e",
       "style": "IPY_MODEL_7d14b2f95af040a498c364bae3d9c630"
      }
     },
     "9066ce003861450e9096020d062a55ee": {
      "model_module": "@jupyter-widgets/base",
      "model_module_version": "1.2.0",
      "model_name": "LayoutModel",
      "state": {}
     },
     "90c7adce0baf450d8f3eee2f88e9a79f": {
      "model_module": "@jupyter-widgets/controls",
      "model_module_version": "1.5.0",
      "model_name": "HBoxModel",
      "state": {
       "children": [
        "IPY_MODEL_b6ea360f6475421da35d372f85d96a09",
        "IPY_MODEL_09c46a9eb3e642709c5203f10b91c847"
       ],
       "layout": "IPY_MODEL_c84902fae3064d3b9adcc63c38b98c9c"
      }
     },
     "91d8e82890514e1f9acb0f130f17b562": {
      "model_module": "@jupyter-widgets/controls",
      "model_module_version": "1.5.0",
      "model_name": "ButtonStyleModel",
      "state": {}
     },
     "92bbe37735494ba68dc69cc2cddb69b3": {
      "model_module": "@jupyter-widgets/base",
      "model_module_version": "1.2.0",
      "model_name": "LayoutModel",
      "state": {
       "width": "50%"
      }
     },
     "94071aa07086456d9abcfb4513b56b25": {
      "model_module": "@jupyter-widgets/controls",
      "model_module_version": "1.5.0",
      "model_name": "ButtonModel",
      "state": {
       "description": "Retrain",
       "icon": "refresh",
       "layout": "IPY_MODEL_dc1d47065e0a459eaf8ee12b8315ae07",
       "style": "IPY_MODEL_f1390637bd73424bbb152b38d8276d17",
       "tooltip": "Click me"
      }
     },
     "95330ddc05434b149a86d0e3a7bd3948": {
      "model_module": "@jupyter-widgets/base",
      "model_module_version": "1.2.0",
      "model_name": "LayoutModel",
      "state": {}
     },
     "95d001add0634821a972484f37ad34c2": {
      "model_module": "@jupyter-widgets/base",
      "model_module_version": "1.2.0",
      "model_name": "LayoutModel",
      "state": {
       "width": "95%"
      }
     },
     "966065f94236444292c398ea0454cc2d": {
      "model_module": "@jupyter-widgets/controls",
      "model_module_version": "1.5.0",
      "model_name": "ButtonModel",
      "state": {
       "description": "Undo",
       "icon": "undo",
       "layout": "IPY_MODEL_761c8f08ceae4fafa354f6a5433fde51",
       "style": "IPY_MODEL_91d8e82890514e1f9acb0f130f17b562"
      }
     },
     "97aa7e90908049c3bcf26e83f59737bc": {
      "model_module": "@jupyter-widgets/output",
      "model_module_version": "1.0.0",
      "model_name": "OutputModel",
      "state": {
       "layout": "IPY_MODEL_b83d1a773f6c45d7a019bf756bc6db0c"
      }
     },
     "98c80542e9994b05bb2fddd94e3108b1": {
      "model_module": "@jupyter-widgets/controls",
      "model_module_version": "1.5.0",
      "model_name": "ButtonStyleModel",
      "state": {}
     },
     "98c8769a91c34b978b774dce1699a0c2": {
      "model_module": "@jupyter-widgets/output",
      "model_module_version": "1.0.0",
      "model_name": "OutputModel",
      "state": {
       "layout": "IPY_MODEL_30c83e06d0ae467eaef9f40205401b69"
      }
     },
     "99564531e16a4276bbe3b107d94d19a9": {
      "model_module": "@jupyter-widgets/base",
      "model_module_version": "1.2.0",
      "model_name": "LayoutModel",
      "state": {}
     },
     "9c6f5f6ddb5f4cab979ac62ee760a223": {
      "model_module": "@jupyter-widgets/controls",
      "model_module_version": "1.5.0",
      "model_name": "DescriptionStyleModel",
      "state": {
       "description_width": ""
      }
     },
     "9d2eabbe7ced4aedb025e4e53ed3ab42": {
      "model_module": "@jupyter-widgets/base",
      "model_module_version": "1.2.0",
      "model_name": "LayoutModel",
      "state": {}
     },
     "9d478139852e4c559ae5867dbbc450fa": {
      "model_module": "@jupyter-widgets/output",
      "model_module_version": "1.0.0",
      "model_name": "OutputModel",
      "state": {
       "layout": "IPY_MODEL_8e067a6837584f9ba5d6c0c6288b12b9",
       "outputs": [
        {
         "data": {
          "text/markdown": "**To:** John",
          "text/plain": "<IPython.core.display.Markdown object>"
         },
         "metadata": {},
         "output_type": "display_data"
        },
        {
         "data": {
          "text/markdown": "**At:** 2018-02-01 15:00",
          "text/plain": "<IPython.core.display.Markdown object>"
         },
         "metadata": {},
         "output_type": "display_data"
        },
        {
         "data": {
          "text/markdown": "Hi John,\n\nthis is just to say nice work yesterday.\n\nBest,\n\nJim",
          "text/plain": "<IPython.core.display.Markdown object>"
         },
         "metadata": {},
         "output_type": "display_data"
        }
       ]
      }
     },
     "9da18b605c6c48cab759f2e6db84188e": {
      "model_module": "@jupyter-widgets/base",
      "model_module_version": "1.2.0",
      "model_name": "LayoutModel",
      "state": {
       "width": "95%"
      }
     },
     "9e068ac75e074b5993ef75561cbf4503": {
      "model_module": "@jupyter-widgets/base",
      "model_module_version": "1.2.0",
      "model_name": "LayoutModel",
      "state": {
       "width": "95%"
      }
     },
     "9e5dcba2e3df4622a07f59ade864b628": {
      "model_module": "@jupyter-widgets/controls",
      "model_module_version": "1.5.0",
      "model_name": "VBoxModel",
      "state": {
       "children": [
        "IPY_MODEL_b2ce6d4a9e3047e281b4f1dff4652973",
        "IPY_MODEL_02a4275f60cf4b95a00195c0483ab776"
       ],
       "layout": "IPY_MODEL_95330ddc05434b149a86d0e3a7bd3948"
      }
     },
     "9fe397dbe962469dab253a0b0496e1cd": {
      "model_module": "@jupyter-widgets/controls",
      "model_module_version": "1.5.0",
      "model_name": "HTMLModel",
      "state": {
       "layout": "IPY_MODEL_3d47d1d9dd0545ccbe8e1419b366b693",
       "style": "IPY_MODEL_41fe1f772e974b368a9e0808f37aea0d"
      }
     },
     "a0184355583148e28acd2eaabd5896bd": {
      "model_module": "@jupyter-widgets/output",
      "model_module_version": "1.0.0",
      "model_name": "OutputModel",
      "state": {
       "layout": "IPY_MODEL_e5b614ea3e1f42ea8b91400c3839eaf4"
      }
     },
     "a0c4f61e59c949daa154483c95453182": {
      "model_module": "@jupyter-widgets/base",
      "model_module_version": "1.2.0",
      "model_name": "LayoutModel",
      "state": {}
     },
     "a1383e18ec3344f89d2b37ce0ac31551": {
      "model_module": "@jupyter-widgets/base",
      "model_module_version": "1.2.0",
      "model_name": "LayoutModel",
      "state": {
       "width": "95%"
      }
     },
     "a1affdccd3584ef2973986466750f19d": {
      "model_module": "@jupyter-widgets/base",
      "model_module_version": "1.2.0",
      "model_name": "LayoutModel",
      "state": {
       "width": "50%"
      }
     },
     "a34ef759a0504b7fa4ac0b714bafba7f": {
      "model_module": "@jupyter-widgets/controls",
      "model_module_version": "1.5.0",
      "model_name": "ButtonStyleModel",
      "state": {}
     },
     "a44700e946fe48d485c4f3de8fb99af6": {
      "model_module": "@jupyter-widgets/base",
      "model_module_version": "1.2.0",
      "model_name": "LayoutModel",
      "state": {}
     },
     "a4ab60d862a646cd9df7b80b91f0ba3d": {
      "model_module": "@jupyter-widgets/controls",
      "model_module_version": "1.5.0",
      "model_name": "ButtonStyleModel",
      "state": {}
     },
     "a4cbd47310314073b2eafd1404c597a2": {
      "model_module": "@jupyter-widgets/base",
      "model_module_version": "1.2.0",
      "model_name": "LayoutModel",
      "state": {}
     },
     "a4fc9f9d99a0414d9a356d69963888ab": {
      "model_module": "@jupyter-widgets/controls",
      "model_module_version": "1.5.0",
      "model_name": "ButtonStyleModel",
      "state": {}
     },
     "a4fde5eb810c42e9875d1111e3e37ec2": {
      "model_module": "@jupyter-widgets/controls",
      "model_module_version": "1.5.0",
      "model_name": "ButtonStyleModel",
      "state": {}
     },
     "a791010400ae457a89759b561f081eb9": {
      "model_module": "@jupyter-widgets/controls",
      "model_module_version": "1.5.0",
      "model_name": "TextModel",
      "state": {
       "description": "Other:",
       "layout": "IPY_MODEL_bf02e1363dc5492fbc8a699a746871d7",
       "placeholder": "Hit enter to submit.",
       "style": "IPY_MODEL_dc9de6fc840b4557be2a36409e5249c1"
      }
     },
     "a797ac5a20024a6687e73d7214228b49": {
      "model_module": "@jupyter-widgets/base",
      "model_module_version": "1.2.0",
      "model_name": "LayoutModel",
      "state": {}
     },
     "a7f0370c38c844afb35138e96f8c9c8e": {
      "model_module": "@jupyter-widgets/controls",
      "model_module_version": "1.5.0",
      "model_name": "TextModel",
      "state": {
       "description": "Other:",
       "layout": "IPY_MODEL_017257c9374740aeac532709fcead202",
       "placeholder": "Hit enter to submit.",
       "style": "IPY_MODEL_d86bd2a077374cbb96bc712f5907e483"
      }
     },
     "aa1882f0684e4b63ad63b028e2b81700": {
      "model_module": "@jupyter-widgets/controls",
      "model_module_version": "1.5.0",
      "model_name": "HBoxModel",
      "state": {
       "children": [
        "IPY_MODEL_59dc2a47e9b44f4fbdf9adc659e3b3ae",
        "IPY_MODEL_c9e9815dceaa42b6b1c0019cecdb10ac"
       ],
       "layout": "IPY_MODEL_dd54d0f7ec81416885a99591e1fd7f2d"
      }
     },
     "aafe697f03e04ce59ea6b94d5ff5bfd1": {
      "model_module": "@jupyter-widgets/base",
      "model_module_version": "1.2.0",
      "model_name": "LayoutModel",
      "state": {}
     },
     "ab285fe099564904af671f8be902d607": {
      "model_module": "@jupyter-widgets/controls",
      "model_module_version": "1.5.0",
      "model_name": "HBoxModel",
      "state": {
       "children": [
        "IPY_MODEL_5a148930d67b44e193d49d8e67bc8c0b",
        "IPY_MODEL_38b392f4e631447cb92a5b9536469029",
        "IPY_MODEL_ef64fbd81f464e0490e73e6640e2a4cd"
       ],
       "layout": "IPY_MODEL_51ae13d63f5a436da394b7c7d4f2ec2a"
      }
     },
     "ab354f2f959246d0af30400ceb598d94": {
      "model_module": "@jupyter-widgets/controls",
      "model_module_version": "1.5.0",
      "model_name": "TextModel",
      "state": {
       "description": "Other:",
       "layout": "IPY_MODEL_7bf30cc1440d45acb6dcc25ffb75da92",
       "placeholder": "Hit enter to submit.",
       "style": "IPY_MODEL_9c6f5f6ddb5f4cab979ac62ee760a223"
      }
     },
     "ab3dbb457a634cbba2acd91b004725d6": {
      "model_module": "@jupyter-widgets/controls",
      "model_module_version": "1.5.0",
      "model_name": "HBoxModel",
      "state": {
       "children": [
        "IPY_MODEL_211afbe1d83f411299b10092ad711117",
        "IPY_MODEL_825f658fbb9b44a38853fc24a330336c"
       ],
       "layout": "IPY_MODEL_c22650e2acd6472c8137e263254ab511"
      }
     },
     "ab458fa37b174c979901adf8e5d7d550": {
      "model_module": "@jupyter-widgets/controls",
      "model_module_version": "1.5.0",
      "model_name": "DescriptionStyleModel",
      "state": {
       "description_width": ""
      }
     },
     "ab4978cbcc444ef2811a8e3d8c256512": {
      "model_module": "@jupyter-widgets/controls",
      "model_module_version": "1.5.0",
      "model_name": "HBoxModel",
      "state": {
       "children": [
        "IPY_MODEL_0a5bd03368fa471dbb9610a3c8b709dd",
        "IPY_MODEL_f876991b896042598b0fbac0d1313ac3",
        "IPY_MODEL_966065f94236444292c398ea0454cc2d"
       ],
       "layout": "IPY_MODEL_60fa48a6c19d4bf0aa6bc004830f2564"
      }
     },
     "ac5b81309d244918ba7f7d7d7774552d": {
      "model_module": "@jupyter-widgets/controls",
      "model_module_version": "1.5.0",
      "model_name": "HBoxModel",
      "state": {
       "children": [
        "IPY_MODEL_5a148930d67b44e193d49d8e67bc8c0b",
        "IPY_MODEL_38b392f4e631447cb92a5b9536469029",
        "IPY_MODEL_ef64fbd81f464e0490e73e6640e2a4cd"
       ],
       "layout": "IPY_MODEL_38eed9a764d14580bb1b17f0a6437ea8"
      }
     },
     "ac8170020901468884dd0f067827523a": {
      "model_module": "@jupyter-widgets/controls",
      "model_module_version": "1.5.0",
      "model_name": "HBoxModel",
      "state": {
       "children": [
        "IPY_MODEL_a7f0370c38c844afb35138e96f8c9c8e",
        "IPY_MODEL_b0dee9b9cfd8447d8534ba7444c0e052"
       ],
       "layout": "IPY_MODEL_bf17a5818e58406f98508782161a87fd"
      }
     },
     "ace6d86e589f46e780fbf159912e6839": {
      "model_module": "@jupyter-widgets/controls",
      "model_module_version": "1.5.0",
      "model_name": "ButtonModel",
      "state": {
       "description": "negative",
       "layout": "IPY_MODEL_9e068ac75e074b5993ef75561cbf4503",
       "style": "IPY_MODEL_fa459f8018224309809ab17eaf0c17b2"
      }
     },
     "acf5ea96d8da4ec698f2707b200167e9": {
      "model_module": "@jupyter-widgets/base",
      "model_module_version": "1.2.0",
      "model_name": "LayoutModel",
      "state": {}
     },
     "ad7d20ff9b9c46c7a99409883bf5b8c9": {
      "model_module": "@jupyter-widgets/base",
      "model_module_version": "1.2.0",
      "model_name": "LayoutModel",
      "state": {}
     },
     "b0dee9b9cfd8447d8534ba7444c0e052": {
      "model_module": "@jupyter-widgets/controls",
      "model_module_version": "1.5.0",
      "model_name": "HBoxModel",
      "state": {
       "children": [
        "IPY_MODEL_d433b346e22946b2b69ce29744cc171d",
        "IPY_MODEL_4c1f583daa6f49e6b35e01419d8ff582",
        "IPY_MODEL_f9b752bf2b7648429d4d4f411ab1db39"
       ],
       "layout": "IPY_MODEL_1b3c2359c23440afb3461a5dfeb43859"
      }
     },
     "b11984517e5d45d69e61bc2bf6c85b1e": {
      "model_module": "@jupyter-widgets/base",
      "model_module_version": "1.2.0",
      "model_name": "LayoutModel",
      "state": {}
     },
     "b229c5b80857440e9592051a263e91f0": {
      "model_module": "@jupyter-widgets/controls",
      "model_module_version": "1.5.0",
      "model_name": "ProgressStyleModel",
      "state": {
       "description_width": ""
      }
     },
     "b2ce6d4a9e3047e281b4f1dff4652973": {
      "model_module": "@jupyter-widgets/controls",
      "model_module_version": "1.5.0",
      "model_name": "HBoxModel",
      "state": {
       "children": [
        "IPY_MODEL_b3002080dc5943f2ad4ba7c7adef405a",
        "IPY_MODEL_278deca8bcdd4e8c9615fd5f75e6dc7d"
       ],
       "layout": "IPY_MODEL_6086839ec266417fb8ccba808c6e3c34"
      }
     },
     "b2fad19b907443538d3206c971809495": {
      "model_module": "@jupyter-widgets/controls",
      "model_module_version": "1.5.0",
      "model_name": "VBoxModel",
      "state": {
       "children": [
        "IPY_MODEL_2059b0492cc047f58a296720fa8dda63",
        "IPY_MODEL_cb253b07d2904b24a5ab5a6dde20bbbc"
       ],
       "layout": "IPY_MODEL_3e9dca8813874b9886a66f222af1ddfc"
      }
     },
     "b3002080dc5943f2ad4ba7c7adef405a": {
      "model_module": "@jupyter-widgets/controls",
      "model_module_version": "1.5.0",
      "model_name": "VBoxModel",
      "state": {
       "children": [
        "IPY_MODEL_01829738437a410ebbb899f85451d47d",
        "IPY_MODEL_b63cd24fd4414309ad98a19427607b2d"
       ],
       "layout": "IPY_MODEL_0d68e867dc17458aace9ac992dbaad78"
      }
     },
     "b51aca047c9548728af3749f5aba2a63": {
      "model_module": "@jupyter-widgets/controls",
      "model_module_version": "1.5.0",
      "model_name": "VBoxModel",
      "state": {
       "children": [
        "IPY_MODEL_f8aaba5d61ba418b94368f29584a01ee",
        "IPY_MODEL_6e3fdec6614940338d433849d986664a"
       ],
       "layout": "IPY_MODEL_bb54e1ac9d9549728d2318de7c903557"
      }
     },
     "b604b52ea08241399d99a6c103e59ebe": {
      "model_module": "@jupyter-widgets/controls",
      "model_module_version": "1.5.0",
      "model_name": "TextModel",
      "state": {
       "description": "Other:",
       "layout": "IPY_MODEL_8317a2d406914fceb76ecbe5873d9391",
       "placeholder": "Hit enter to submit.",
       "style": "IPY_MODEL_639c05a57aef40e28131b67c6df08c35"
      }
     },
     "b639ff3ca69e4737b0b494cc3a3221b6": {
      "model_module": "@jupyter-widgets/base",
      "model_module_version": "1.2.0",
      "model_name": "LayoutModel",
      "state": {
       "width": "50%"
      }
     },
     "b63cd24fd4414309ad98a19427607b2d": {
      "model_module": "@jupyter-widgets/output",
      "model_module_version": "1.0.0",
      "model_name": "OutputModel",
      "state": {
       "layout": "IPY_MODEL_0fa2de5162da4513abeba8c2e40cd015"
      }
     },
     "b6d63f782008488eac9a1ce1fd24fe76": {
      "model_module": "@jupyter-widgets/base",
      "model_module_version": "1.2.0",
      "model_name": "LayoutModel",
      "state": {}
     },
     "b6ea360f6475421da35d372f85d96a09": {
      "model_module": "@jupyter-widgets/controls",
      "model_module_version": "1.5.0",
      "model_name": "ButtonModel",
      "state": {
       "description": "Retrain",
       "icon": "refresh",
       "layout": "IPY_MODEL_8df40f3f388040fa95362f19e4bb284d",
       "style": "IPY_MODEL_36935d54be2549629467d581834d9cab",
       "tooltip": "Click me"
      }
     },
     "b749dd40a0304a34b87ff128834457c7": {
      "model_module": "@jupyter-widgets/controls",
      "model_module_version": "1.5.0",
      "model_name": "ProgressStyleModel",
      "state": {
       "description_width": ""
      }
     },
     "b83d1a773f6c45d7a019bf756bc6db0c": {
      "model_module": "@jupyter-widgets/base",
      "model_module_version": "1.2.0",
      "model_name": "LayoutModel",
      "state": {}
     },
     "b84906a0e45645aba1ec0c6cd0aa73df": {
      "model_module": "@jupyter-widgets/controls",
      "model_module_version": "1.5.0",
      "model_name": "ButtonStyleModel",
      "state": {}
     },
     "bad756a50a804c1d8680116a361d6ff2": {
      "model_module": "@jupyter-widgets/controls",
      "model_module_version": "1.5.0",
      "model_name": "VBoxModel",
      "state": {
       "children": [
        "IPY_MODEL_60ace75c4980433bbaf400ad615104fd",
        "IPY_MODEL_eec2d8a07e764b579e812e4842b47b96",
        "IPY_MODEL_9e5dcba2e3df4622a07f59ade864b628"
       ],
       "layout": "IPY_MODEL_5982098f29d0406b86d539fb0be0cd07"
      }
     },
     "bb0504ab09d049199c3bc45a6944cefa": {
      "model_module": "@jupyter-widgets/output",
      "model_module_version": "1.0.0",
      "model_name": "OutputModel",
      "state": {
       "layout": "IPY_MODEL_bf79f0a126e5428b922fdcf10695966c"
      }
     },
     "bb54e1ac9d9549728d2318de7c903557": {
      "model_module": "@jupyter-widgets/base",
      "model_module_version": "1.2.0",
      "model_name": "LayoutModel",
      "state": {
       "width": "50%"
      }
     },
     "bc010325dbf941c5b3ca9f0acb516187": {
      "model_module": "@jupyter-widgets/base",
      "model_module_version": "1.2.0",
      "model_name": "LayoutModel",
      "state": {
       "width": "50%"
      }
     },
     "bdee9417a41e43018ddf88e91fce921a": {
      "model_module": "@jupyter-widgets/base",
      "model_module_version": "1.2.0",
      "model_name": "LayoutModel",
      "state": {}
     },
     "bf02e1363dc5492fbc8a699a746871d7": {
      "model_module": "@jupyter-widgets/base",
      "model_module_version": "1.2.0",
      "model_name": "LayoutModel",
      "state": {}
     },
     "bf17a5818e58406f98508782161a87fd": {
      "model_module": "@jupyter-widgets/base",
      "model_module_version": "1.2.0",
      "model_name": "LayoutModel",
      "state": {
       "justify_content": "space-between"
      }
     },
     "bf79f0a126e5428b922fdcf10695966c": {
      "model_module": "@jupyter-widgets/base",
      "model_module_version": "1.2.0",
      "model_name": "LayoutModel",
      "state": {}
     },
     "c0152520404d4a7bbfd519bc5ef055ee": {
      "model_module": "@jupyter-widgets/base",
      "model_module_version": "1.2.0",
      "model_name": "LayoutModel",
      "state": {
       "width": "95%"
      }
     },
     "c16151ba03d448278f36e8e212bc9b3c": {
      "model_module": "@jupyter-widgets/controls",
      "model_module_version": "1.5.0",
      "model_name": "HBoxModel",
      "state": {
       "children": [
        "IPY_MODEL_d3ff9e9e59e54adfa9634d4415633910"
       ],
       "layout": "IPY_MODEL_89835ee923714ccbb40396aa09e2c493"
      }
     },
     "c22650e2acd6472c8137e263254ab511": {
      "model_module": "@jupyter-widgets/base",
      "model_module_version": "1.2.0",
      "model_name": "LayoutModel",
      "state": {
       "justify_content": "space-between"
      }
     },
     "c3bbd48f231849bdb7a4852489d3d18e": {
      "model_module": "@jupyter-widgets/controls",
      "model_module_version": "1.5.0",
      "model_name": "TextModel",
      "state": {
       "description": "Other:",
       "layout": "IPY_MODEL_374b94c4095942449e4503fd45af85eb",
       "placeholder": "Hit enter to submit.",
       "style": "IPY_MODEL_cc74b7563bbe4241a2808912cf9f18da"
      }
     },
     "c5899febfeb64afe8d816c78a3e6fe87": {
      "model_module": "@jupyter-widgets/controls",
      "model_module_version": "1.5.0",
      "model_name": "ButtonStyleModel",
      "state": {}
     },
     "c63e4fb347fe434bbcf5bc42d44b9737": {
      "model_module": "@jupyter-widgets/controls",
      "model_module_version": "1.5.0",
      "model_name": "HBoxModel",
      "state": {
       "children": [
        "IPY_MODEL_a791010400ae457a89759b561f081eb9",
        "IPY_MODEL_6d06263d2719444ba128de7e3a8f9e66"
       ],
       "layout": "IPY_MODEL_898fc9be76094391a950fee771dba08f"
      }
     },
     "c648c30447e54fe493fdf018c0332e34": {
      "model_module": "@jupyter-widgets/base",
      "model_module_version": "1.2.0",
      "model_name": "LayoutModel",
      "state": {
       "display": "flex",
       "justify_content": "center",
       "min_height": "150px",
       "padding": "5% 0",
       "width": "100%"
      }
     },
     "c68aced8f57d4d3aae8748ad962b346e": {
      "model_module": "@jupyter-widgets/controls",
      "model_module_version": "1.5.0",
      "model_name": "VBoxModel",
      "state": {
       "children": [
        "IPY_MODEL_f7e13fd935b940a89ffae95137788455",
        "IPY_MODEL_c63e4fb347fe434bbcf5bc42d44b9737"
       ],
       "layout": "IPY_MODEL_a0c4f61e59c949daa154483c95453182"
      }
     },
     "c6b77d217456454186e40c01634f5844": {
      "model_module": "@jupyter-widgets/base",
      "model_module_version": "1.2.0",
      "model_name": "LayoutModel",
      "state": {}
     },
     "c74f52f6a11b41f59a3c542ccb23a0d9": {
      "model_module": "@jupyter-widgets/controls",
      "model_module_version": "1.5.0",
      "model_name": "ButtonModel",
      "state": {
       "description": "Undo",
       "icon": "undo",
       "layout": "IPY_MODEL_ce0083505ad445ae838f9f9ec69033c7",
       "style": "IPY_MODEL_1eb5c7f8735047b586b67c0d56d22ee5"
      }
     },
     "c7f80ceff6a942f4b20aa196df1d102d": {
      "model_module": "@jupyter-widgets/controls",
      "model_module_version": "1.5.0",
      "model_name": "BoxModel",
      "state": {
       "children": [
        "IPY_MODEL_47bec283d20d4890a0daa4fbfc3e1026"
       ],
       "layout": "IPY_MODEL_12b7632a6a6444959b5bc9f823d12591"
      }
     },
     "c84902fae3064d3b9adcc63c38b98c9c": {
      "model_module": "@jupyter-widgets/base",
      "model_module_version": "1.2.0",
      "model_name": "LayoutModel",
      "state": {
       "width": "50%"
      }
     },
     "c926c3a8d7c645eab949da1461777e4f": {
      "model_module": "@jupyter-widgets/controls",
      "model_module_version": "1.5.0",
      "model_name": "ButtonModel",
      "state": {
       "description": "negative",
       "layout": "IPY_MODEL_111284459e9d4edc9f10422327922629",
       "style": "IPY_MODEL_7d4f910a0b6a4c508d33808831624b9f"
      }
     },
     "c92bdaec93f54cd8be13218906e8a79c": {
      "model_module": "@jupyter-widgets/base",
      "model_module_version": "1.2.0",
      "model_name": "LayoutModel",
      "state": {
       "justify_content": "space-between"
      }
     },
     "c9e9815dceaa42b6b1c0019cecdb10ac": {
      "model_module": "@jupyter-widgets/controls",
      "model_module_version": "1.5.0",
      "model_name": "VBoxModel",
      "state": {
       "children": [
        "IPY_MODEL_758b68b12a12467ab7f56e763d8aefca",
        "IPY_MODEL_bb0504ab09d049199c3bc45a6944cefa"
       ],
       "layout": "IPY_MODEL_d07ead30c98f4e8caf6cdf96b107b0bf"
      }
     },
     "ca476fa1532d49a0a6ebd064c05ed322": {
      "model_module": "@jupyter-widgets/controls",
      "model_module_version": "1.5.0",
      "model_name": "VBoxModel",
      "state": {
       "children": [
        "IPY_MODEL_46bcdea4f71d4f549337d164f62d5de4",
        "IPY_MODEL_97aa7e90908049c3bcf26e83f59737bc"
       ],
       "layout": "IPY_MODEL_b639ff3ca69e4737b0b494cc3a3221b6"
      }
     },
     "cb253b07d2904b24a5ab5a6dde20bbbc": {
      "model_module": "@jupyter-widgets/output",
      "model_module_version": "1.0.0",
      "model_name": "OutputModel",
      "state": {
       "layout": "IPY_MODEL_4def9cce92e4424aaf8cff69b47ee2cf"
      }
     },
     "cbb284aeb0684981b01e60f50f2f8b25": {
      "model_module": "@jupyter-widgets/base",
      "model_module_version": "1.2.0",
      "model_name": "LayoutModel",
      "state": {
       "justify_content": "space-between"
      }
     },
     "cc74b7563bbe4241a2808912cf9f18da": {
      "model_module": "@jupyter-widgets/controls",
      "model_module_version": "1.5.0",
      "model_name": "DescriptionStyleModel",
      "state": {
       "description_width": ""
      }
     },
     "cc8646f57fca4352bd9a0661780e6926": {
      "model_module": "@jupyter-widgets/controls",
      "model_module_version": "1.5.0",
      "model_name": "HBoxModel",
      "state": {
       "children": [
        "IPY_MODEL_21641342636f42e49196caa9709719fe",
        "IPY_MODEL_5fc7a21ec25940a1b8633586f4781a8e"
       ],
       "layout": "IPY_MODEL_2f39d8a5ef2c4b1ca014748eb00e6578"
      }
     },
     "cd23e64f65c14cea8ccb875dc0ba7085": {
      "model_module": "@jupyter-widgets/output",
      "model_module_version": "1.0.0",
      "model_name": "OutputModel",
      "state": {
       "layout": "IPY_MODEL_4975bd6b05c445668befcae8b4c8e331"
      }
     },
     "ce0083505ad445ae838f9f9ec69033c7": {
      "model_module": "@jupyter-widgets/base",
      "model_module_version": "1.2.0",
      "model_name": "LayoutModel",
      "state": {}
     },
     "ce24559574b542fa92aaba73c3c0f35a": {
      "model_module": "@jupyter-widgets/controls",
      "model_module_version": "1.5.0",
      "model_name": "BoxModel",
      "state": {
       "children": [
        "IPY_MODEL_9d478139852e4c559ae5867dbbc450fa"
       ],
       "layout": "IPY_MODEL_d14721788b1d441391605943e8ec6771"
      }
     },
     "ce4d71324dcc4596b2028aec78faeb42": {
      "model_module": "@jupyter-widgets/base",
      "model_module_version": "1.2.0",
      "model_name": "LayoutModel",
      "state": {}
     },
     "d07ead30c98f4e8caf6cdf96b107b0bf": {
      "model_module": "@jupyter-widgets/base",
      "model_module_version": "1.2.0",
      "model_name": "LayoutModel",
      "state": {
       "width": "50%"
      }
     },
     "d14721788b1d441391605943e8ec6771": {
      "model_module": "@jupyter-widgets/base",
      "model_module_version": "1.2.0",
      "model_name": "LayoutModel",
      "state": {
       "display": "flex",
       "justify_content": "center",
       "min_height": "150px",
       "padding": "5% 0",
       "width": "100%"
      }
     },
     "d2212d83e7534eb38f580fe55b233eb8": {
      "model_module": "@jupyter-widgets/controls",
      "model_module_version": "1.5.0",
      "model_name": "HBoxModel",
      "state": {
       "children": [
        "IPY_MODEL_0dcdc95073194c9299aeb85951ff4eee",
        "IPY_MODEL_38c5a223fbd44f5898e58b66a7ab9389"
       ],
       "layout": "IPY_MODEL_fdd5cf0084794b35916fb715dee63502"
      }
     },
     "d34e1b8bce1b44348d0794a88d39ff52": {
      "model_module": "@jupyter-widgets/controls",
      "model_module_version": "1.5.0",
      "model_name": "ButtonStyleModel",
      "state": {}
     },
     "d35750a7882c404283055faed48818ed": {
      "model_module": "@jupyter-widgets/controls",
      "model_module_version": "1.5.0",
      "model_name": "VBoxModel",
      "state": {
       "children": [
        "IPY_MODEL_c926c3a8d7c645eab949da1461777e4f",
        "IPY_MODEL_8add6dc0517b46f288cf197b0681988d"
       ],
       "layout": "IPY_MODEL_4b6eba09c8c94ad8bf0771418c94d78d"
      }
     },
     "d3ff9e9e59e54adfa9634d4415633910": {
      "model_module": "@jupyter-widgets/controls",
      "model_module_version": "1.5.0",
      "model_name": "FloatProgressModel",
      "state": {
       "description": "Progress:",
       "layout": "IPY_MODEL_de1cf6e9689b47c99adb86bdb76476d3",
       "max": 1,
       "style": "IPY_MODEL_b749dd40a0304a34b87ff128834457c7"
      }
     },
     "d433b346e22946b2b69ce29744cc171d": {
      "model_module": "@jupyter-widgets/controls",
      "model_module_version": "1.5.0",
      "model_name": "ButtonModel",
      "state": {
       "description": "Sort options",
       "icon": "sort",
       "layout": "IPY_MODEL_08e3f6bd2445470680806fa006746fac",
       "style": "IPY_MODEL_52284601c0cb4e08a807d478622889a2"
      }
     },
     "d5fe69a04e1040f38c827c339cea91f0": {
      "model_module": "@jupyter-widgets/base",
      "model_module_version": "1.2.0",
      "model_name": "LayoutModel",
      "state": {}
     },
     "d6a725b8cf03468f9426eea67612709d": {
      "model_module": "@jupyter-widgets/controls",
      "model_module_version": "1.5.0",
      "model_name": "VBoxModel",
      "state": {
       "children": [
        "IPY_MODEL_e6bacb1642af4175961d93f309657a50",
        "IPY_MODEL_37e9d0402503425f8d291030f7077953"
       ],
       "layout": "IPY_MODEL_540e937fcc67413e86ec40b5be5e8993"
      }
     },
     "d73c85315c7d42ed9bbfb5bed61e6481": {
      "model_module": "@jupyter-widgets/controls",
      "model_module_version": "1.5.0",
      "model_name": "TextModel",
      "state": {
       "description": "Other:",
       "layout": "IPY_MODEL_f42152c62a8441caacb8f0a87f2597a9",
       "placeholder": "Hit enter to submit.",
       "style": "IPY_MODEL_5fe9c11134984b48bbd6da0299cc3701"
      }
     },
     "d86bd2a077374cbb96bc712f5907e483": {
      "model_module": "@jupyter-widgets/controls",
      "model_module_version": "1.5.0",
      "model_name": "DescriptionStyleModel",
      "state": {
       "description_width": ""
      }
     },
     "dbe84f434e45436d96c35b45056c7518": {
      "model_module": "@jupyter-widgets/base",
      "model_module_version": "1.2.0",
      "model_name": "LayoutModel",
      "state": {
       "width": "50%"
      }
     },
     "dc1d47065e0a459eaf8ee12b8315ae07": {
      "model_module": "@jupyter-widgets/base",
      "model_module_version": "1.2.0",
      "model_name": "LayoutModel",
      "state": {}
     },
     "dc9de6fc840b4557be2a36409e5249c1": {
      "model_module": "@jupyter-widgets/controls",
      "model_module_version": "1.5.0",
      "model_name": "DescriptionStyleModel",
      "state": {
       "description_width": ""
      }
     },
     "dcd3a543339949c4af9f54a17efe5001": {
      "model_module": "@jupyter-widgets/output",
      "model_module_version": "1.0.0",
      "model_name": "OutputModel",
      "state": {
       "layout": "IPY_MODEL_e12fd56d69874d349733310c7835ff71"
      }
     },
     "dcd8c7a758284eabb7c36c0e54f5b7b0": {
      "model_module": "@jupyter-widgets/base",
      "model_module_version": "1.2.0",
      "model_name": "LayoutModel",
      "state": {}
     },
     "dd54d0f7ec81416885a99591e1fd7f2d": {
      "model_module": "@jupyter-widgets/base",
      "model_module_version": "1.2.0",
      "model_name": "LayoutModel",
      "state": {}
     },
     "de1cf6e9689b47c99adb86bdb76476d3": {
      "model_module": "@jupyter-widgets/base",
      "model_module_version": "1.2.0",
      "model_name": "LayoutModel",
      "state": {}
     },
     "def60ba303e74c289f10a8b3961ba82c": {
      "model_module": "@jupyter-widgets/controls",
      "model_module_version": "1.5.0",
      "model_name": "HBoxModel",
      "state": {
       "children": [
        "IPY_MODEL_3d13060cf66749b4a27177e4fa739961"
       ],
       "layout": "IPY_MODEL_518a93c84ff7400ebfaeed221e759104"
      }
     },
     "e12fd56d69874d349733310c7835ff71": {
      "model_module": "@jupyter-widgets/base",
      "model_module_version": "1.2.0",
      "model_name": "LayoutModel",
      "state": {}
     },
     "e18d3c50763c47ccb6f29af7ccdaa32a": {
      "model_module": "@jupyter-widgets/base",
      "model_module_version": "1.2.0",
      "model_name": "LayoutModel",
      "state": {
       "justify_content": "space-between"
      }
     },
     "e303e7f43c414c09960455c6cc8d63ee": {
      "model_module": "@jupyter-widgets/base",
      "model_module_version": "1.2.0",
      "model_name": "LayoutModel",
      "state": {
       "width": "50%"
      }
     },
     "e432ce82f7a44e5089918a12f4db1eea": {
      "model_module": "@jupyter-widgets/base",
      "model_module_version": "1.2.0",
      "model_name": "LayoutModel",
      "state": {}
     },
     "e4f822cc6b6941aba2d2e061da897c79": {
      "model_module": "@jupyter-widgets/base",
      "model_module_version": "1.2.0",
      "model_name": "LayoutModel",
      "state": {}
     },
     "e50e6e51c3de415fb1353752ea35479a": {
      "model_module": "@jupyter-widgets/base",
      "model_module_version": "1.2.0",
      "model_name": "LayoutModel",
      "state": {}
     },
     "e5b614ea3e1f42ea8b91400c3839eaf4": {
      "model_module": "@jupyter-widgets/base",
      "model_module_version": "1.2.0",
      "model_name": "LayoutModel",
      "state": {}
     },
     "e6bacb1642af4175961d93f309657a50": {
      "model_module": "@jupyter-widgets/controls",
      "model_module_version": "1.5.0",
      "model_name": "ButtonModel",
      "state": {
       "description": "negative",
       "layout": "IPY_MODEL_6f6c753c744e4d6c967ae65ec876ba17",
       "style": "IPY_MODEL_b84906a0e45645aba1ec0c6cd0aa73df"
      }
     },
     "e7589733bafd430a838048953aeb3299": {
      "model_module": "@jupyter-widgets/base",
      "model_module_version": "1.2.0",
      "model_name": "LayoutModel",
      "state": {}
     },
     "e80efe2da9384f22b4d9e8a609c0d654": {
      "model_module": "@jupyter-widgets/base",
      "model_module_version": "1.2.0",
      "model_name": "LayoutModel",
      "state": {
       "width": "95%"
      }
     },
     "eaedf86620804e6798a5be5ebfdededf": {
      "model_module": "@jupyter-widgets/output",
      "model_module_version": "1.0.0",
      "model_name": "OutputModel",
      "state": {
       "layout": "IPY_MODEL_9d2eabbe7ced4aedb025e4e53ed3ab42"
      }
     },
     "ed654d260b334a57897350c10e1942de": {
      "model_module": "@jupyter-widgets/controls",
      "model_module_version": "1.5.0",
      "model_name": "HBoxModel",
      "state": {
       "children": [
        "IPY_MODEL_c3bbd48f231849bdb7a4852489d3d18e",
        "IPY_MODEL_ab4978cbcc444ef2811a8e3d8c256512"
       ],
       "layout": "IPY_MODEL_2a9fa921f32e48b8908bab1b558db7df"
      }
     },
     "ed99a15eaa274cf7af2e60d1234c211e": {
      "model_module": "@jupyter-widgets/controls",
      "model_module_version": "1.5.0",
      "model_name": "ButtonStyleModel",
      "state": {}
     },
     "eec2d8a07e764b579e812e4842b47b96": {
      "model_module": "@jupyter-widgets/controls",
      "model_module_version": "1.5.0",
      "model_name": "BoxModel",
      "state": {
       "children": [
        "IPY_MODEL_6c388645882e429faac535d74d1c9340"
       ],
       "layout": "IPY_MODEL_c648c30447e54fe493fdf018c0332e34"
      }
     },
     "ef64fbd81f464e0490e73e6640e2a4cd": {
      "model_module": "@jupyter-widgets/controls",
      "model_module_version": "1.5.0",
      "model_name": "ButtonModel",
      "state": {
       "description": "Undo",
       "icon": "undo",
       "layout": "IPY_MODEL_dcd8c7a758284eabb7c36c0e54f5b7b0",
       "style": "IPY_MODEL_ed99a15eaa274cf7af2e60d1234c211e"
      }
     },
     "f06a380d27984156875f413570d0a4da": {
      "model_module": "@jupyter-widgets/controls",
      "model_module_version": "1.5.0",
      "model_name": "ButtonModel",
      "state": {
       "description": "Retrain",
       "icon": "refresh",
       "layout": "IPY_MODEL_05a07b0036b44dde9744e20e9a2c06b7",
       "style": "IPY_MODEL_5ed509ca4eb34b0fae47533505191ea4",
       "tooltip": "Click me"
      }
     },
     "f0c98cdaa6824ea4a2c24d2967aba360": {
      "model_module": "@jupyter-widgets/controls",
      "model_module_version": "1.5.0",
      "model_name": "HTMLModel",
      "state": {
       "layout": "IPY_MODEL_aafe697f03e04ce59ea6b94d5ff5bfd1",
       "style": "IPY_MODEL_629e5a0b039e41ee8bf7e0e704d3e8de"
      }
     },
     "f1390637bd73424bbb152b38d8276d17": {
      "model_module": "@jupyter-widgets/controls",
      "model_module_version": "1.5.0",
      "model_name": "ButtonStyleModel",
      "state": {}
     },
     "f42152c62a8441caacb8f0a87f2597a9": {
      "model_module": "@jupyter-widgets/base",
      "model_module_version": "1.2.0",
      "model_name": "LayoutModel",
      "state": {}
     },
     "f57ebe36c5ba4a019893b84c12c153dd": {
      "model_module": "@jupyter-widgets/controls",
      "model_module_version": "1.5.0",
      "model_name": "HBoxModel",
      "state": {
       "children": [
        "IPY_MODEL_ca476fa1532d49a0a6ebd064c05ed322",
        "IPY_MODEL_d35750a7882c404283055faed48818ed"
       ],
       "layout": "IPY_MODEL_2784ecc62e834dc5968ce91788c6d455"
      }
     },
     "f7769a06c3304cc98288c857c6cede7e": {
      "model_module": "@jupyter-widgets/base",
      "model_module_version": "1.2.0",
      "model_name": "LayoutModel",
      "state": {}
     },
     "f7e13fd935b940a89ffae95137788455": {
      "model_module": "@jupyter-widgets/controls",
      "model_module_version": "1.5.0",
      "model_name": "HBoxModel",
      "state": {
       "children": [
        "IPY_MODEL_86b16ec58d424a528aba93c96c7f1116",
        "IPY_MODEL_86cf3434f8ba47cc990fea57a8754939"
       ],
       "layout": "IPY_MODEL_f7769a06c3304cc98288c857c6cede7e"
      }
     },
     "f7ea851a93cc4dd783f8a69872c84dbf": {
      "model_module": "@jupyter-widgets/controls",
      "model_module_version": "1.5.0",
      "model_name": "ProgressStyleModel",
      "state": {
       "description_width": ""
      }
     },
     "f876991b896042598b0fbac0d1313ac3": {
      "model_module": "@jupyter-widgets/controls",
      "model_module_version": "1.5.0",
      "model_name": "ButtonModel",
      "state": {
       "description": "Skip",
       "icon": "fast-forward",
       "layout": "IPY_MODEL_2faefcbe450c4cb9ab3c0a71c74e566b",
       "style": "IPY_MODEL_5894fedfb24e4c20937b4a53dc1e1b68"
      }
     },
     "f8aaba5d61ba418b94368f29584a01ee": {
      "model_module": "@jupyter-widgets/controls",
      "model_module_version": "1.5.0",
      "model_name": "ButtonModel",
      "state": {
       "description": "positive",
       "layout": "IPY_MODEL_10736f2f215a4f9dbfd202f7eb81add8",
       "style": "IPY_MODEL_64cdecac90c945b78292f7aed2c39745"
      }
     },
     "f9b752bf2b7648429d4d4f411ab1db39": {
      "model_module": "@jupyter-widgets/controls",
      "model_module_version": "1.5.0",
      "model_name": "ButtonModel",
      "state": {
       "description": "Undo",
       "icon": "undo",
       "layout": "IPY_MODEL_7c15c980867b4cd3be01ff026a33c12d",
       "style": "IPY_MODEL_33c056ee2ddb4c908e33cb4b7f41a84b"
      }
     },
     "fa369722cbb54ac195a5bd575f422f45": {
      "model_module": "@jupyter-widgets/base",
      "model_module_version": "1.2.0",
      "model_name": "LayoutModel",
      "state": {}
     },
     "fa459f8018224309809ab17eaf0c17b2": {
      "model_module": "@jupyter-widgets/controls",
      "model_module_version": "1.5.0",
      "model_name": "ButtonStyleModel",
      "state": {}
     },
     "fb667ed5b0cf4f6a9cb6a320b649f252": {
      "model_module": "@jupyter-widgets/base",
      "model_module_version": "1.2.0",
      "model_name": "LayoutModel",
      "state": {}
     },
     "fc5a85eee051466fb5118afe2d2f8598": {
      "model_module": "@jupyter-widgets/controls",
      "model_module_version": "1.5.0",
      "model_name": "HTMLModel",
      "state": {
       "layout": "IPY_MODEL_a44700e946fe48d485c4f3de8fb99af6",
       "style": "IPY_MODEL_0074e06701f24807ae4af3b64e844c2a"
      }
     },
     "fcd1fe192fbd4ff49468eb606ba8405e": {
      "model_module": "@jupyter-widgets/base",
      "model_module_version": "1.2.0",
      "model_name": "LayoutModel",
      "state": {
       "width": "95%"
      }
     },
     "fd6f612e3e7e43058c11021cd8f19437": {
      "model_module": "@jupyter-widgets/controls",
      "model_module_version": "1.5.0",
      "model_name": "VBoxModel",
      "state": {
       "children": [
        "IPY_MODEL_3b50825b6f914d98b3e3149f2384301c",
        "IPY_MODEL_98c8769a91c34b978b774dce1699a0c2"
       ],
       "layout": "IPY_MODEL_53021cb91df54a9a8c1e1c056215e419"
      }
     },
     "fdd5cf0084794b35916fb715dee63502": {
      "model_module": "@jupyter-widgets/base",
      "model_module_version": "1.2.0",
      "model_name": "LayoutModel",
      "state": {}
     },
     "fee56cbe24244cd78750783fd8ca2df3": {
      "model_module": "@jupyter-widgets/output",
      "model_module_version": "1.0.0",
      "model_name": "OutputModel",
      "state": {
       "layout": "IPY_MODEL_617390a1c4b841a49aeff528c045c06b"
      }
     },
     "ff535c5d78cc4a0f8fc7e68d94d0a36b": {
      "model_module": "@jupyter-widgets/base",
      "model_module_version": "1.2.0",
      "model_name": "LayoutModel",
      "state": {
       "width": "95%"
      }
     },
     "ffa3c0bcddda49f1ad042fe8396c0352": {
      "model_module": "@jupyter-widgets/base",
      "model_module_version": "1.2.0",
      "model_name": "LayoutModel",
      "state": {
       "width": "50%"
      }
     }
    },
    "version_major": 2,
    "version_minor": 0
   }
  }
 },
 "nbformat": 4,
 "nbformat_minor": 2
}
