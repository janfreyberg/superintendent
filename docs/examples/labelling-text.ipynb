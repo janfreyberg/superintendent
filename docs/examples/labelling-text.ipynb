{
 "cells": [
  {
   "cell_type": "markdown",
   "metadata": {},
   "source": [
    "# Labelling text\n",
    "\n",
    "Let's assume we have a text dataset that contains some labelled sentences and some unlabelled sentences. For example, we could get the headlines for a bunch of UK news websites (the code for this comes from the great github project [compare-headlines](https://github.com/isobelweinberg/compare-headlines/blob/master/scrape-headlines.ipynb) by [isobelweinberg](https://github.com/isobelweinberg)):"
   ]
  },
  {
   "cell_type": "code",
   "execution_count": 1,
   "metadata": {},
   "outputs": [],
   "source": [
    "import requests\n",
    "from bs4 import BeautifulSoup\n",
    "import datetime\n",
    "\n",
    "headlines = []\n",
    "labels = []\n",
    "\n",
    "r = requests.get('https://www.theguardian.com/uk').text #get html\n",
    "soup = BeautifulSoup(r, 'html5lib') #run html through beautiful soup\n",
    "headlines += [headline.text for headline in\n",
    "              soup.find_all('span', class_='js-headline-text')][:10]\n",
    "labels += ['guardian'] * (len(headlines) - len(labels))\n",
    "\n",
    "soup = BeautifulSoup(requests.get('http://www.dailymail.co.uk/home/index.html').text, 'html5lib')\n",
    "headlines += [headline.text.replace('\\n', '').replace('\\xa0', '').strip()\n",
    "              for headline in soup.find_all(class_=\"linkro-darkred\")][:10]\n",
    "labels += ['daily mail'] * (len(headlines) - len(labels))\n"
   ]
  },
  {
   "cell_type": "code",
   "execution_count": 2,
   "metadata": {},
   "outputs": [
    {
     "data": {
      "application/vnd.jupyter.widget-view+json": {
       "model_id": "d0b609d46eb542668646b0204dddd074",
       "version_major": 2,
       "version_minor": 0
      },
      "text/plain": [
       "VBox(children=(HBox(children=(FloatProgress(value=0.0, description='Progress:', max=1.0),)), Box(children=(Out…"
      ]
     },
     "metadata": {},
     "output_type": "display_data"
    }
   ],
   "source": [
    "from superintendent import ClassLabeller\n",
    "import pandas as pd\n",
    "from IPython import display\n",
    "\n",
    "labelling_widget = ClassLabeller(\n",
    "    features=headlines,\n",
    "    display_func=lambda x: display.display(display.Markdown(\"# \" + x)),\n",
    "    options=['professional', 'not professional'],\n",
    ")\n",
    "\n",
    "labelling_widget\n",
    "\n"
   ]
  }
 ],
 "metadata": {
  "kernelspec": {
   "display_name": "Python 3",
   "language": "python",
   "name": "python3"
  },
  "language_info": {
   "codemirror_mode": {
    "name": "ipython",
    "version": 3
   },
   "file_extension": ".py",
   "mimetype": "text/x-python",
   "name": "python",
   "nbconvert_exporter": "python",
   "pygments_lexer": "ipython3",
   "version": "3.7.5rc1"
  },
  "widgets": {
   "application/vnd.jupyter.widget-state+json": {
    "state": {
     "016ba776acdb4d93a7e2e94f4e1e98e5": {
      "model_module": "@jupyter-widgets/controls",
      "model_module_version": "1.5.0",
      "model_name": "BoxModel",
      "state": {
       "children": [
        "IPY_MODEL_20f9112920994601b99d2e11c4944024"
       ],
       "layout": "IPY_MODEL_3557ca222acc4f829ad9993fd532cb31"
      }
     },
     "0178c570727d4079833996780837e66e": {
      "model_module": "@jupyter-widgets/controls",
      "model_module_version": "1.5.0",
      "model_name": "ButtonStyleModel",
      "state": {}
     },
     "02694a6e40744c2c978ec3b8671ec681": {
      "model_module": "@jupyter-widgets/controls",
      "model_module_version": "1.5.0",
      "model_name": "ButtonModel",
      "state": {
       "description": "not professional",
       "layout": "IPY_MODEL_42e7f0ff754c44dd992dad65fff10b8d",
       "style": "IPY_MODEL_b853c434f32045a388ba0d168833cd12"
      }
     },
     "03b9758ce39b4b9bad45460316dfc3c4": {
      "model_module": "@jupyter-widgets/base",
      "model_module_version": "1.2.0",
      "model_name": "LayoutModel",
      "state": {}
     },
     "04676b3e5e47486b8aec0446df841218": {
      "model_module": "@jupyter-widgets/controls",
      "model_module_version": "1.5.0",
      "model_name": "ButtonModel",
      "state": {
       "description": "Undo",
       "icon": "undo",
       "layout": "IPY_MODEL_c4849f80d4004a868995c24d77ab247d",
       "style": "IPY_MODEL_74478c5b4572469080c8fdc1f7f7ca29"
      }
     },
     "052c43c215f940e78d1bbdeb259106f6": {
      "model_module": "@jupyter-widgets/base",
      "model_module_version": "1.2.0",
      "model_name": "LayoutModel",
      "state": {}
     },
     "07055e3b95a64481bee5ab59c736f01b": {
      "model_module": "@jupyter-widgets/controls",
      "model_module_version": "1.5.0",
      "model_name": "HBoxModel",
      "state": {
       "children": [
        "IPY_MODEL_e2e4c38553f5427eb54fc3b6fab51384",
        "IPY_MODEL_12e70fdc01d046d1a4cfe9f53f6b62f5"
       ],
       "layout": "IPY_MODEL_a291bcd3bc1c49bda7a64cfb7c7ba865"
      }
     },
     "07692ce85f60424094ed81d22f98b7e5": {
      "model_module": "@jupyter-widgets/controls",
      "model_module_version": "1.5.0",
      "model_name": "FloatProgressModel",
      "state": {
       "description": "Progress:",
       "layout": "IPY_MODEL_0f5578a6253a4c76a181e0029f1143cd",
       "max": 1,
       "style": "IPY_MODEL_a3dac05274574262a489fb9548e59aaa"
      }
     },
     "079bade199c94d9aa9d01e8bc5e33c75": {
      "model_module": "@jupyter-widgets/base",
      "model_module_version": "1.2.0",
      "model_name": "LayoutModel",
      "state": {}
     },
     "07e56f7b90104fe28159f279000a698a": {
      "model_module": "@jupyter-widgets/controls",
      "model_module_version": "1.5.0",
      "model_name": "HBoxModel",
      "state": {
       "children": [
        "IPY_MODEL_72fc1eb9c9594adc8def75cb0779be0b",
        "IPY_MODEL_c6457adaabc24aaf9a4486f6513bd081",
        "IPY_MODEL_98ace9ea11e241bda7369233aab50e4f"
       ],
       "layout": "IPY_MODEL_4f36308c31494d579b37edd654f2b349"
      }
     },
     "07f0bab8f54d4d9faa24bb183eab6b45": {
      "model_module": "@jupyter-widgets/controls",
      "model_module_version": "1.5.0",
      "model_name": "ButtonModel",
      "state": {
       "description": "not professional",
       "layout": "IPY_MODEL_345ba50261e544b5b24e7bab945c09c6",
       "style": "IPY_MODEL_deb3b710dac24caebdd45c03f8f8c2f2"
      }
     },
     "080f082fd8514b7c81c83347b33ebf1a": {
      "model_module": "@jupyter-widgets/base",
      "model_module_version": "1.2.0",
      "model_name": "LayoutModel",
      "state": {}
     },
     "08db6e8d12e24c69b562f69556ec62c2": {
      "model_module": "@jupyter-widgets/base",
      "model_module_version": "1.2.0",
      "model_name": "LayoutModel",
      "state": {
       "width": "95%"
      }
     },
     "09606a6b8ffa4f3183b9fc1117446de2": {
      "model_module": "@jupyter-widgets/base",
      "model_module_version": "1.2.0",
      "model_name": "LayoutModel",
      "state": {}
     },
     "09f8590af0004a25831416f1df4288bb": {
      "model_module": "@jupyter-widgets/controls",
      "model_module_version": "1.5.0",
      "model_name": "HBoxModel",
      "state": {
       "children": [
        "IPY_MODEL_6d5806a8e01e4b5a9953d9e25385fc4c",
        "IPY_MODEL_55afa83ba0584dcda369105825de8cfd"
       ],
       "layout": "IPY_MODEL_dd0d3b5870ab494ca5eb941e68efea46"
      }
     },
     "0ae121703823412789f779bc82c03a46": {
      "model_module": "@jupyter-widgets/base",
      "model_module_version": "1.2.0",
      "model_name": "LayoutModel",
      "state": {
       "width": "95%"
      }
     },
     "0ae60bc44c9b44debc6e01d2d1c8532b": {
      "model_module": "@jupyter-widgets/controls",
      "model_module_version": "1.5.0",
      "model_name": "TextModel",
      "state": {
       "description": "Other:",
       "layout": "IPY_MODEL_daa54c0ed93b4227a16dfd97634b5dab",
       "placeholder": "Hit enter to submit.",
       "style": "IPY_MODEL_211cace1a2d14057bbe2ba0db950c394"
      }
     },
     "0ba6fef765bc4b7b944947168319198f": {
      "model_module": "@jupyter-widgets/controls",
      "model_module_version": "1.5.0",
      "model_name": "TextModel",
      "state": {
       "description": "Other:",
       "layout": "IPY_MODEL_8a7376dc4a264deeabe65d09b9cfd4b3",
       "placeholder": "Hit enter to submit.",
       "style": "IPY_MODEL_0f19153a19004b90adb95efa2680dbbf"
      }
     },
     "0c1552c15c614f36ac22e976ffbc3552": {
      "model_module": "@jupyter-widgets/controls",
      "model_module_version": "1.5.0",
      "model_name": "ButtonStyleModel",
      "state": {}
     },
     "0c9349a784d2499db493cc25e129e35f": {
      "model_module": "@jupyter-widgets/controls",
      "model_module_version": "1.5.0",
      "model_name": "DescriptionStyleModel",
      "state": {
       "description_width": ""
      }
     },
     "0d236f539df141c896f3e51e1be2f93f": {
      "model_module": "@jupyter-widgets/base",
      "model_module_version": "1.2.0",
      "model_name": "LayoutModel",
      "state": {
       "width": "95%"
      }
     },
     "0f19153a19004b90adb95efa2680dbbf": {
      "model_module": "@jupyter-widgets/controls",
      "model_module_version": "1.5.0",
      "model_name": "DescriptionStyleModel",
      "state": {
       "description_width": ""
      }
     },
     "0f5578a6253a4c76a181e0029f1143cd": {
      "model_module": "@jupyter-widgets/base",
      "model_module_version": "1.2.0",
      "model_name": "LayoutModel",
      "state": {}
     },
     "0f91b4ab23e7421dbca40d73b4198a59": {
      "model_module": "@jupyter-widgets/base",
      "model_module_version": "1.2.0",
      "model_name": "LayoutModel",
      "state": {}
     },
     "102f38fbc2ab4291b3f9031ebbb4f657": {
      "model_module": "@jupyter-widgets/base",
      "model_module_version": "1.2.0",
      "model_name": "LayoutModel",
      "state": {
       "width": "95%"
      }
     },
     "105223c941b64de19481b4f374f57f95": {
      "model_module": "@jupyter-widgets/base",
      "model_module_version": "1.2.0",
      "model_name": "LayoutModel",
      "state": {}
     },
     "10dfab03f98844339892e97a0436007f": {
      "model_module": "@jupyter-widgets/controls",
      "model_module_version": "1.5.0",
      "model_name": "ButtonStyleModel",
      "state": {}
     },
     "1107124530ec4a68bcb3f5601778cfc8": {
      "model_module": "@jupyter-widgets/base",
      "model_module_version": "1.2.0",
      "model_name": "LayoutModel",
      "state": {
       "width": "50%"
      }
     },
     "1241d2ef217345d0bca1a54622bf6b59": {
      "model_module": "@jupyter-widgets/base",
      "model_module_version": "1.2.0",
      "model_name": "LayoutModel",
      "state": {}
     },
     "12e70fdc01d046d1a4cfe9f53f6b62f5": {
      "model_module": "@jupyter-widgets/controls",
      "model_module_version": "1.5.0",
      "model_name": "VBoxModel",
      "state": {
       "children": [
        "IPY_MODEL_e286d00e4a474b3caacef890a69583cf",
        "IPY_MODEL_d97733f047f34d19aab271008ce90483"
       ],
       "layout": "IPY_MODEL_5f99676ec68741bb8c9080eea1193540"
      }
     },
     "1341b6426f5d48e19a1d609c273de7fe": {
      "model_module": "@jupyter-widgets/base",
      "model_module_version": "1.2.0",
      "model_name": "LayoutModel",
      "state": {}
     },
     "140193414c35422aa6f355f4f188c6fb": {
      "model_module": "@jupyter-widgets/base",
      "model_module_version": "1.2.0",
      "model_name": "LayoutModel",
      "state": {}
     },
     "144368ec8d1948d4879acd2e53dc8ae0": {
      "model_module": "@jupyter-widgets/base",
      "model_module_version": "1.2.0",
      "model_name": "LayoutModel",
      "state": {}
     },
     "14c4caee3e144004820f46ddc002449b": {
      "model_module": "@jupyter-widgets/base",
      "model_module_version": "1.2.0",
      "model_name": "LayoutModel",
      "state": {
       "display": "flex",
       "justify_content": "center",
       "min_height": "150px",
       "padding": "5% 0",
       "width": "100%"
      }
     },
     "156a74ff5730487a8737fb9cc3d110b6": {
      "model_module": "@jupyter-widgets/base",
      "model_module_version": "1.2.0",
      "model_name": "LayoutModel",
      "state": {}
     },
     "1694b8b16f1e4b128605dbc557a0fdc2": {
      "model_module": "@jupyter-widgets/base",
      "model_module_version": "1.2.0",
      "model_name": "LayoutModel",
      "state": {}
     },
     "1776eda7d15e4f3a964897d9382641c9": {
      "model_module": "@jupyter-widgets/base",
      "model_module_version": "1.2.0",
      "model_name": "LayoutModel",
      "state": {}
     },
     "1a1a4e2794c44921b0332bab71cf8a58": {
      "model_module": "@jupyter-widgets/controls",
      "model_module_version": "1.5.0",
      "model_name": "BoxModel",
      "state": {
       "layout": "IPY_MODEL_1bfae564f22f48f5ae554476fea6ab7d"
      }
     },
     "1a73b79fe14f429585c496cd8e313e37": {
      "model_module": "@jupyter-widgets/controls",
      "model_module_version": "1.5.0",
      "model_name": "ButtonStyleModel",
      "state": {}
     },
     "1aff60ce13734c9fba0ceccae32e53f2": {
      "model_module": "@jupyter-widgets/base",
      "model_module_version": "1.2.0",
      "model_name": "LayoutModel",
      "state": {
       "justify_content": "space-between"
      }
     },
     "1b7f72b8500c47e69ba1450cc622dcf6": {
      "model_module": "@jupyter-widgets/base",
      "model_module_version": "1.2.0",
      "model_name": "LayoutModel",
      "state": {
       "width": "95%"
      }
     },
     "1b99b977e72d486ab5069acabe13ea75": {
      "model_module": "@jupyter-widgets/base",
      "model_module_version": "1.2.0",
      "model_name": "LayoutModel",
      "state": {}
     },
     "1bc1888553584f75961410303123d16b": {
      "model_module": "@jupyter-widgets/base",
      "model_module_version": "1.2.0",
      "model_name": "LayoutModel",
      "state": {
       "width": "50%"
      }
     },
     "1bfae564f22f48f5ae554476fea6ab7d": {
      "model_module": "@jupyter-widgets/base",
      "model_module_version": "1.2.0",
      "model_name": "LayoutModel",
      "state": {
       "height": "2.5%"
      }
     },
     "1c81031d1e164d0a846d8d023fca9803": {
      "model_module": "@jupyter-widgets/base",
      "model_module_version": "1.2.0",
      "model_name": "LayoutModel",
      "state": {}
     },
     "1cb8303dff4c4356971a0eb29e172c5f": {
      "model_module": "@jupyter-widgets/output",
      "model_module_version": "1.0.0",
      "model_name": "OutputModel",
      "state": {
       "layout": "IPY_MODEL_535835bad8434061b6b5c5eba4f2a0ed"
      }
     },
     "1ce2028104944803a35cf73d83386d5e": {
      "model_module": "@jupyter-widgets/controls",
      "model_module_version": "1.5.0",
      "model_name": "DescriptionStyleModel",
      "state": {
       "description_width": ""
      }
     },
     "1d2f9d68b4014c66a74ee163f7a8b0ba": {
      "model_module": "@jupyter-widgets/controls",
      "model_module_version": "1.5.0",
      "model_name": "DescriptionStyleModel",
      "state": {
       "description_width": ""
      }
     },
     "1e9d6d42ce794ffcb51ddf30d736f3ff": {
      "model_module": "@jupyter-widgets/base",
      "model_module_version": "1.2.0",
      "model_name": "LayoutModel",
      "state": {}
     },
     "1f5bdcb9f8524cc2a247bf5bff313f6e": {
      "model_module": "@jupyter-widgets/base",
      "model_module_version": "1.2.0",
      "model_name": "LayoutModel",
      "state": {}
     },
     "20f9112920994601b99d2e11c4944024": {
      "model_module": "@jupyter-widgets/output",
      "model_module_version": "1.0.0",
      "model_name": "OutputModel",
      "state": {
       "layout": "IPY_MODEL_1c81031d1e164d0a846d8d023fca9803",
       "outputs": [
        {
         "data": {
          "text/markdown": "# Priti Patel defends inclusion of group on terror list",
          "text/plain": "<IPython.core.display.Markdown object>"
         },
         "metadata": {},
         "output_type": "display_data"
        }
       ]
      }
     },
     "211cace1a2d14057bbe2ba0db950c394": {
      "model_module": "@jupyter-widgets/controls",
      "model_module_version": "1.5.0",
      "model_name": "DescriptionStyleModel",
      "state": {
       "description_width": ""
      }
     },
     "222535e5957a4e8ab84b28781888aded": {
      "model_module": "@jupyter-widgets/base",
      "model_module_version": "1.2.0",
      "model_name": "LayoutModel",
      "state": {}
     },
     "2318cc04353646dd934b2a7021894ddc": {
      "model_module": "@jupyter-widgets/base",
      "model_module_version": "1.2.0",
      "model_name": "LayoutModel",
      "state": {}
     },
     "241b25cb2f364265b5615770e93cb37a": {
      "model_module": "@jupyter-widgets/controls",
      "model_module_version": "1.5.0",
      "model_name": "ButtonStyleModel",
      "state": {}
     },
     "25fb2e180c924a229406345ba7ac47ce": {
      "model_module": "@jupyter-widgets/output",
      "model_module_version": "1.0.0",
      "model_name": "OutputModel",
      "state": {
       "layout": "IPY_MODEL_b272219d16e84c1899001b6bff51ce72"
      }
     },
     "26c92f2d789548b5a94872f40d26ac73": {
      "model_module": "@jupyter-widgets/controls",
      "model_module_version": "1.5.0",
      "model_name": "ButtonStyleModel",
      "state": {}
     },
     "29d095f8c987461ea13676eda04852fd": {
      "model_module": "@jupyter-widgets/output",
      "model_module_version": "1.0.0",
      "model_name": "OutputModel",
      "state": {
       "layout": "IPY_MODEL_1e9d6d42ce794ffcb51ddf30d736f3ff"
      }
     },
     "2ebb2e031d984b8b9e12e086ccbfc00e": {
      "model_module": "@jupyter-widgets/controls",
      "model_module_version": "1.5.0",
      "model_name": "ButtonModel",
      "state": {
       "description": "Skip",
       "icon": "fast-forward",
       "layout": "IPY_MODEL_4f0ce519e5e04b62b0e728ce63b49aba",
       "style": "IPY_MODEL_1a73b79fe14f429585c496cd8e313e37"
      }
     },
     "2f36adf8d1b04cb292d32a0cce98fba6": {
      "model_module": "@jupyter-widgets/base",
      "model_module_version": "1.2.0",
      "model_name": "LayoutModel",
      "state": {}
     },
     "2f60114170de48eca9ebc892dceb1e57": {
      "model_module": "@jupyter-widgets/base",
      "model_module_version": "1.2.0",
      "model_name": "LayoutModel",
      "state": {}
     },
     "3184dc5594a349e3ba8faa3a7235a7f8": {
      "model_module": "@jupyter-widgets/base",
      "model_module_version": "1.2.0",
      "model_name": "LayoutModel",
      "state": {
       "width": "50%"
      }
     },
     "32036b2fa2364842b443d301f13dc2aa": {
      "model_module": "@jupyter-widgets/controls",
      "model_module_version": "1.5.0",
      "model_name": "HBoxModel",
      "state": {
       "children": [
        "IPY_MODEL_3a683fbd76d14b00aa882e5ffdc012b0",
        "IPY_MODEL_321b3adddf6c45328372d27ca5a2cb6c"
       ],
       "layout": "IPY_MODEL_73f85c1f465b4168ad61e5f62d90bd84"
      }
     },
     "321b3adddf6c45328372d27ca5a2cb6c": {
      "model_module": "@jupyter-widgets/controls",
      "model_module_version": "1.5.0",
      "model_name": "VBoxModel",
      "state": {
       "children": [
        "IPY_MODEL_a7f94fe6ebe04851a7c7531fa3896d50",
        "IPY_MODEL_29d095f8c987461ea13676eda04852fd"
       ],
       "layout": "IPY_MODEL_ac50d30498de49d88ff3174af07af55c"
      }
     },
     "32bdc568483b48c893c47b415dd87298": {
      "model_module": "@jupyter-widgets/controls",
      "model_module_version": "1.5.0",
      "model_name": "ButtonModel",
      "state": {
       "description": "professional",
       "layout": "IPY_MODEL_77eb001e06c54e2393f35d7242f66bf8",
       "style": "IPY_MODEL_8b2de8ef918e4426b5695dbabba3f4fa"
      }
     },
     "335a2f0bbe4f435db9abd07dd64a94f1": {
      "model_module": "@jupyter-widgets/base",
      "model_module_version": "1.2.0",
      "model_name": "LayoutModel",
      "state": {
       "width": "95%"
      }
     },
     "3385f9f6bed043b5b87b8a02f85ff959": {
      "model_module": "@jupyter-widgets/controls",
      "model_module_version": "1.5.0",
      "model_name": "HBoxModel",
      "state": {
       "children": [
        "IPY_MODEL_cc5d6a5074204d8f98a24e56a000c17e",
        "IPY_MODEL_79398238da7744e38d6bce04c0e3f185"
       ],
       "layout": "IPY_MODEL_ccd60b835f0c46e49179bfb55c9aa308"
      }
     },
     "33e04715980840a68267ffa6b97725b7": {
      "model_module": "@jupyter-widgets/base",
      "model_module_version": "1.2.0",
      "model_name": "LayoutModel",
      "state": {}
     },
     "345ba50261e544b5b24e7bab945c09c6": {
      "model_module": "@jupyter-widgets/base",
      "model_module_version": "1.2.0",
      "model_name": "LayoutModel",
      "state": {
       "width": "95%"
      }
     },
     "35184da169f44608bcde484c33413c5f": {
      "model_module": "@jupyter-widgets/controls",
      "model_module_version": "1.5.0",
      "model_name": "ButtonStyleModel",
      "state": {}
     },
     "3557ca222acc4f829ad9993fd532cb31": {
      "model_module": "@jupyter-widgets/base",
      "model_module_version": "1.2.0",
      "model_name": "LayoutModel",
      "state": {
       "display": "flex",
       "justify_content": "center",
       "padding": "2.5% 0",
       "width": "100%"
      }
     },
     "359b20c689c942788ed765e6cd9ffa0b": {
      "model_module": "@jupyter-widgets/base",
      "model_module_version": "1.2.0",
      "model_name": "LayoutModel",
      "state": {}
     },
     "36a7c4d20f3742e7aad97b397c01f45b": {
      "model_module": "@jupyter-widgets/base",
      "model_module_version": "1.2.0",
      "model_name": "LayoutModel",
      "state": {}
     },
     "38295a2c62bf42ea8292137c646433b5": {
      "model_module": "@jupyter-widgets/base",
      "model_module_version": "1.2.0",
      "model_name": "LayoutModel",
      "state": {
       "display": "flex",
       "justify_content": "center",
       "padding": "2.5% 0",
       "width": "100%"
      }
     },
     "38c4f3019b204914955a0062cd2d641c": {
      "model_module": "@jupyter-widgets/base",
      "model_module_version": "1.2.0",
      "model_name": "LayoutModel",
      "state": {}
     },
     "39011514da074b899763c9c78341e512": {
      "model_module": "@jupyter-widgets/controls",
      "model_module_version": "1.5.0",
      "model_name": "HBoxModel",
      "state": {
       "children": [
        "IPY_MODEL_0ba6fef765bc4b7b944947168319198f",
        "IPY_MODEL_cced39a75bf2469ab458f6a4db03050f"
       ],
       "layout": "IPY_MODEL_498f7e30d3cd40d5aa0cc234b178c4a6"
      }
     },
     "39c89387c14942678d3d0a1dba974f20": {
      "model_module": "@jupyter-widgets/base",
      "model_module_version": "1.2.0",
      "model_name": "LayoutModel",
      "state": {}
     },
     "39fe110d2db34b82b96bb0116043de76": {
      "model_module": "@jupyter-widgets/controls",
      "model_module_version": "1.5.0",
      "model_name": "VBoxModel",
      "state": {
       "children": [
        "IPY_MODEL_f0ae960a5f614bc5ada3e251c4564d06",
        "IPY_MODEL_c48aa12aa0a145e3a48835b410b749c1"
       ],
       "layout": "IPY_MODEL_6210895771154637afd31029416ee36c"
      }
     },
     "3a59abcf6bc947bbafe5aad031b2e008": {
      "model_module": "@jupyter-widgets/controls",
      "model_module_version": "1.5.0",
      "model_name": "ButtonStyleModel",
      "state": {}
     },
     "3a683fbd76d14b00aa882e5ffdc012b0": {
      "model_module": "@jupyter-widgets/controls",
      "model_module_version": "1.5.0",
      "model_name": "VBoxModel",
      "state": {
       "children": [
        "IPY_MODEL_e649cf73b5954e5f8a152d2062b80940",
        "IPY_MODEL_577c75f77b744c509d44495555218803"
       ],
       "layout": "IPY_MODEL_5c505c19171a4674ae0752b48eaa05da"
      }
     },
     "3b7e033b954a4aacb86f19263d3e86b8": {
      "model_module": "@jupyter-widgets/controls",
      "model_module_version": "1.5.0",
      "model_name": "ButtonStyleModel",
      "state": {}
     },
     "3baa2d17b15148f6b56054029f32309e": {
      "model_module": "@jupyter-widgets/base",
      "model_module_version": "1.2.0",
      "model_name": "LayoutModel",
      "state": {}
     },
     "3c664029b5b04a03a4042b098c35552d": {
      "model_module": "@jupyter-widgets/controls",
      "model_module_version": "1.5.0",
      "model_name": "HBoxModel",
      "state": {
       "children": [
        "IPY_MODEL_d4a25cb1d98041b49cebca34c6acf68d",
        "IPY_MODEL_4f877afa93ba48d4bbe9a9f369bdcf5a"
       ],
       "layout": "IPY_MODEL_50bfe807286a43368c1a15ca2f1ff4ed"
      }
     },
     "3cc71216c60147adb84aaa0c327254c7": {
      "model_module": "@jupyter-widgets/base",
      "model_module_version": "1.2.0",
      "model_name": "LayoutModel",
      "state": {
       "width": "95%"
      }
     },
     "3f89fe4140b2407cb7e973cb1a8c8ba3": {
      "model_module": "@jupyter-widgets/controls",
      "model_module_version": "1.5.0",
      "model_name": "ButtonModel",
      "state": {
       "description": "not professional",
       "layout": "IPY_MODEL_1b7f72b8500c47e69ba1450cc622dcf6",
       "style": "IPY_MODEL_3a59abcf6bc947bbafe5aad031b2e008"
      }
     },
     "3f8e4efc7c1e488987f53f37b1d0fd41": {
      "model_module": "@jupyter-widgets/controls",
      "model_module_version": "1.5.0",
      "model_name": "FloatProgressModel",
      "state": {
       "description": "Progress:",
       "layout": "IPY_MODEL_615305791cb244dc95b901e8a9347f57",
       "max": 1,
       "style": "IPY_MODEL_916765c318e147418581c85dfde3fe64"
      }
     },
     "3fc9bcfb27a745b780f97380c39ea19e": {
      "model_module": "@jupyter-widgets/controls",
      "model_module_version": "1.5.0",
      "model_name": "ButtonModel",
      "state": {
       "description": "Sort options",
       "icon": "sort",
       "layout": "IPY_MODEL_079bade199c94d9aa9d01e8bc5e33c75",
       "style": "IPY_MODEL_241b25cb2f364265b5615770e93cb37a"
      }
     },
     "400efcf66d934c5692955a0ae9d5f5e9": {
      "model_module": "@jupyter-widgets/base",
      "model_module_version": "1.2.0",
      "model_name": "LayoutModel",
      "state": {}
     },
     "405c30d58dab46bc9901444b5a08c867": {
      "model_module": "@jupyter-widgets/controls",
      "model_module_version": "1.5.0",
      "model_name": "ButtonStyleModel",
      "state": {}
     },
     "417259ae512a4273b8d8a5a262f4b7f3": {
      "model_module": "@jupyter-widgets/controls",
      "model_module_version": "1.5.0",
      "model_name": "VBoxModel",
      "state": {
       "children": [
        "IPY_MODEL_6c53b52783064eed9c7eaa2195ca400f",
        "IPY_MODEL_f3afba77b93e4c40ac2251a9c57aab5b"
       ],
       "layout": "IPY_MODEL_c722416aeb1f40fe9d054d5cd20b6a91"
      }
     },
     "4246b3224a54498e8e9f0ec13942875f": {
      "model_module": "@jupyter-widgets/base",
      "model_module_version": "1.2.0",
      "model_name": "LayoutModel",
      "state": {}
     },
     "428c209bd7024c799b82c15db47ed3cc": {
      "model_module": "@jupyter-widgets/controls",
      "model_module_version": "1.5.0",
      "model_name": "ButtonStyleModel",
      "state": {}
     },
     "42e7f0ff754c44dd992dad65fff10b8d": {
      "model_module": "@jupyter-widgets/base",
      "model_module_version": "1.2.0",
      "model_name": "LayoutModel",
      "state": {
       "width": "95%"
      }
     },
     "454aaa0af8024fbb878e1a164d57c9ef": {
      "model_module": "@jupyter-widgets/base",
      "model_module_version": "1.2.0",
      "model_name": "LayoutModel",
      "state": {}
     },
     "461738ac8fbf45879da41d39033c70c6": {
      "model_module": "@jupyter-widgets/controls",
      "model_module_version": "1.5.0",
      "model_name": "ButtonStyleModel",
      "state": {}
     },
     "4714d15416284a878704df2705e31921": {
      "model_module": "@jupyter-widgets/base",
      "model_module_version": "1.2.0",
      "model_name": "LayoutModel",
      "state": {
       "width": "95%"
      }
     },
     "47d2c7188b65493b99e44449d3b996c7": {
      "model_module": "@jupyter-widgets/controls",
      "model_module_version": "1.5.0",
      "model_name": "ProgressStyleModel",
      "state": {
       "description_width": ""
      }
     },
     "4847b5158fe541e48d7b762411f09116": {
      "model_module": "@jupyter-widgets/controls",
      "model_module_version": "1.5.0",
      "model_name": "HBoxModel",
      "state": {
       "children": [
        "IPY_MODEL_6276ed404a39448c96b7e027d7248ed7",
        "IPY_MODEL_a57f3c1a66644d18a0577c3a4cfc5976"
       ],
       "layout": "IPY_MODEL_144368ec8d1948d4879acd2e53dc8ae0"
      }
     },
     "498f7e30d3cd40d5aa0cc234b178c4a6": {
      "model_module": "@jupyter-widgets/base",
      "model_module_version": "1.2.0",
      "model_name": "LayoutModel",
      "state": {
       "justify_content": "space-between"
      }
     },
     "4c50a8131a9e46f3b8ad83b3cdcef644": {
      "model_module": "@jupyter-widgets/controls",
      "model_module_version": "1.5.0",
      "model_name": "BoxModel",
      "state": {
       "children": [
        "IPY_MODEL_be70541714b14e9dbfca78dbaeb190c4"
       ],
       "layout": "IPY_MODEL_e1d52881e0a74128a43bb3190432b04c"
      }
     },
     "4c6c260d39754511b16c5aac4a552c00": {
      "model_module": "@jupyter-widgets/base",
      "model_module_version": "1.2.0",
      "model_name": "LayoutModel",
      "state": {}
     },
     "4cdb518438b1434d8c839c8302638c01": {
      "model_module": "@jupyter-widgets/controls",
      "model_module_version": "1.5.0",
      "model_name": "ButtonStyleModel",
      "state": {}
     },
     "4d13cc0d122d40b685aa962a15cf9fc7": {
      "model_module": "@jupyter-widgets/controls",
      "model_module_version": "1.5.0",
      "model_name": "ButtonModel",
      "state": {
       "description": "Skip",
       "icon": "fast-forward",
       "layout": "IPY_MODEL_612209a97d00462e85c202c64b92fc0d",
       "style": "IPY_MODEL_0c1552c15c614f36ac22e976ffbc3552"
      }
     },
     "4d1a82e04ef64cfabfd7025c4a96e650": {
      "model_module": "@jupyter-widgets/base",
      "model_module_version": "1.2.0",
      "model_name": "LayoutModel",
      "state": {
       "justify_content": "space-between"
      }
     },
     "4e38b78f6d694afa8561996291e90b1b": {
      "model_module": "@jupyter-widgets/controls",
      "model_module_version": "1.5.0",
      "model_name": "VBoxModel",
      "state": {
       "children": [
        "IPY_MODEL_a581d11690fc491b8ebd423fedda69a2",
        "IPY_MODEL_8588ff4cb4f642788df4d786baae242e"
       ],
       "layout": "IPY_MODEL_f902c16cf5bf47cab9d732b858894b03"
      }
     },
     "4f0ce519e5e04b62b0e728ce63b49aba": {
      "model_module": "@jupyter-widgets/base",
      "model_module_version": "1.2.0",
      "model_name": "LayoutModel",
      "state": {}
     },
     "4f36308c31494d579b37edd654f2b349": {
      "model_module": "@jupyter-widgets/base",
      "model_module_version": "1.2.0",
      "model_name": "LayoutModel",
      "state": {}
     },
     "4f877afa93ba48d4bbe9a9f369bdcf5a": {
      "model_module": "@jupyter-widgets/controls",
      "model_module_version": "1.5.0",
      "model_name": "HBoxModel",
      "state": {
       "children": [
        "IPY_MODEL_3fc9bcfb27a745b780f97380c39ea19e",
        "IPY_MODEL_8af0ed8cdae14fe3a4f58bf56aadc6ae",
        "IPY_MODEL_a49cbdbce0f44bf088830de4bfdc2b9f"
       ],
       "layout": "IPY_MODEL_ffb5fb3a03db4c9faad7394aa7980d13"
      }
     },
     "50bfe807286a43368c1a15ca2f1ff4ed": {
      "model_module": "@jupyter-widgets/base",
      "model_module_version": "1.2.0",
      "model_name": "LayoutModel",
      "state": {
       "justify_content": "space-between"
      }
     },
     "5159837b90f84fd3a6cb2762b1a240d5": {
      "model_module": "@jupyter-widgets/base",
      "model_module_version": "1.2.0",
      "model_name": "LayoutModel",
      "state": {}
     },
     "51bbe1afd18f4b548bb8d6f13f85c06a": {
      "model_module": "@jupyter-widgets/controls",
      "model_module_version": "1.5.0",
      "model_name": "ButtonModel",
      "state": {
       "description": "professional",
       "layout": "IPY_MODEL_102f38fbc2ab4291b3f9031ebbb4f657",
       "style": "IPY_MODEL_70feba627841415cb5bf3b4fcc2b29ce"
      }
     },
     "52b33b21cb0443e19c5c5380d8516b5d": {
      "model_module": "@jupyter-widgets/controls",
      "model_module_version": "1.5.0",
      "model_name": "HBoxModel",
      "state": {
       "children": [
        "IPY_MODEL_ccf1b51108124b3ab26a463829c3413b",
        "IPY_MODEL_71fb24068fcc44c2bf7e01c066921f73",
        "IPY_MODEL_e6adaf7f505f460eb7f1c73e14069b88"
       ],
       "layout": "IPY_MODEL_c9448ab2b5d94de69b3c22092f41927e"
      }
     },
     "52d2a11c877349c5862775fe28d7f999": {
      "model_module": "@jupyter-widgets/controls",
      "model_module_version": "1.5.0",
      "model_name": "DescriptionStyleModel",
      "state": {
       "description_width": ""
      }
     },
     "535835bad8434061b6b5c5eba4f2a0ed": {
      "model_module": "@jupyter-widgets/base",
      "model_module_version": "1.2.0",
      "model_name": "LayoutModel",
      "state": {}
     },
     "5572138ea8aa47fa9daa641b9a1f80d0": {
      "model_module": "@jupyter-widgets/output",
      "model_module_version": "1.0.0",
      "model_name": "OutputModel",
      "state": {
       "layout": "IPY_MODEL_03b9758ce39b4b9bad45460316dfc3c4"
      }
     },
     "557d701114534cf5b2e448b6aee7c182": {
      "model_module": "@jupyter-widgets/controls",
      "model_module_version": "1.5.0",
      "model_name": "TextModel",
      "state": {
       "description": "Other:",
       "layout": "IPY_MODEL_052c43c215f940e78d1bbdeb259106f6",
       "placeholder": "Hit enter to submit.",
       "style": "IPY_MODEL_806206ade9a84347997b0050e2c46cbd"
      }
     },
     "55afa83ba0584dcda369105825de8cfd": {
      "model_module": "@jupyter-widgets/controls",
      "model_module_version": "1.5.0",
      "model_name": "HBoxModel",
      "state": {
       "children": [
        "IPY_MODEL_73b79ccd32604fafb9381ba2a699c523",
        "IPY_MODEL_2ebb2e031d984b8b9e12e086ccbfc00e",
        "IPY_MODEL_04676b3e5e47486b8aec0446df841218"
       ],
       "layout": "IPY_MODEL_a191f931e35b478dbdd9c4c0c633ba40"
      }
     },
     "5740627c48eb4510b9add9a6da80000b": {
      "model_module": "@jupyter-widgets/controls",
      "model_module_version": "1.5.0",
      "model_name": "ButtonStyleModel",
      "state": {}
     },
     "577c75f77b744c509d44495555218803": {
      "model_module": "@jupyter-widgets/output",
      "model_module_version": "1.0.0",
      "model_name": "OutputModel",
      "state": {
       "layout": "IPY_MODEL_d876199e1a0448dfb6f18ac40c3e6c95"
      }
     },
     "580e1ce77b944db6848ed9b4e0a0125d": {
      "model_module": "@jupyter-widgets/controls",
      "model_module_version": "1.5.0",
      "model_name": "ButtonModel",
      "state": {
       "description": "Undo",
       "icon": "undo",
       "layout": "IPY_MODEL_5f2305b0e19a4c83889c7af6800cb8fc",
       "style": "IPY_MODEL_405c30d58dab46bc9901444b5a08c867"
      }
     },
     "5c505c19171a4674ae0752b48eaa05da": {
      "model_module": "@jupyter-widgets/base",
      "model_module_version": "1.2.0",
      "model_name": "LayoutModel",
      "state": {
       "width": "50%"
      }
     },
     "5c58eb1a8a24488ba5d949de729dceeb": {
      "model_module": "@jupyter-widgets/controls",
      "model_module_version": "1.5.0",
      "model_name": "HBoxModel",
      "state": {
       "children": [
        "IPY_MODEL_8e5944a0e01a4739a63d0ee94a77bdc4",
        "IPY_MODEL_52b33b21cb0443e19c5c5380d8516b5d"
       ],
       "layout": "IPY_MODEL_4d1a82e04ef64cfabfd7025c4a96e650"
      }
     },
     "5e60b2c37af94e19a3d2a45cb11a4383": {
      "model_module": "@jupyter-widgets/base",
      "model_module_version": "1.2.0",
      "model_name": "LayoutModel",
      "state": {}
     },
     "5f2305b0e19a4c83889c7af6800cb8fc": {
      "model_module": "@jupyter-widgets/base",
      "model_module_version": "1.2.0",
      "model_name": "LayoutModel",
      "state": {}
     },
     "5f99676ec68741bb8c9080eea1193540": {
      "model_module": "@jupyter-widgets/base",
      "model_module_version": "1.2.0",
      "model_name": "LayoutModel",
      "state": {
       "width": "50%"
      }
     },
     "612209a97d00462e85c202c64b92fc0d": {
      "model_module": "@jupyter-widgets/base",
      "model_module_version": "1.2.0",
      "model_name": "LayoutModel",
      "state": {}
     },
     "615305791cb244dc95b901e8a9347f57": {
      "model_module": "@jupyter-widgets/base",
      "model_module_version": "1.2.0",
      "model_name": "LayoutModel",
      "state": {}
     },
     "6210895771154637afd31029416ee36c": {
      "model_module": "@jupyter-widgets/base",
      "model_module_version": "1.2.0",
      "model_name": "LayoutModel",
      "state": {}
     },
     "6244c237e2784a00bbc0e8f9e4f153af": {
      "model_module": "@jupyter-widgets/base",
      "model_module_version": "1.2.0",
      "model_name": "LayoutModel",
      "state": {
       "justify_content": "space-between"
      }
     },
     "6276ed404a39448c96b7e027d7248ed7": {
      "model_module": "@jupyter-widgets/controls",
      "model_module_version": "1.5.0",
      "model_name": "VBoxModel",
      "state": {
       "children": [
        "IPY_MODEL_adcf1fb327de48e7858299920b1045b1",
        "IPY_MODEL_5572138ea8aa47fa9daa641b9a1f80d0"
       ],
       "layout": "IPY_MODEL_b3548a41929a4a9fa619496d149644dc"
      }
     },
     "62dc8cb5913b491dbe326eb569bf8c58": {
      "model_module": "@jupyter-widgets/controls",
      "model_module_version": "1.5.0",
      "model_name": "VBoxModel",
      "state": {
       "children": [
        "IPY_MODEL_ed97321700a34217a02414324e814b5f",
        "IPY_MODEL_09f8590af0004a25831416f1df4288bb"
       ],
       "layout": "IPY_MODEL_105223c941b64de19481b4f374f57f95"
      }
     },
     "63a8a46c09a9496cb2939cb9e2b15afb": {
      "model_module": "@jupyter-widgets/controls",
      "model_module_version": "1.5.0",
      "model_name": "ButtonStyleModel",
      "state": {}
     },
     "63da0f63b6a9453ca3108c0bf970ac61": {
      "model_module": "@jupyter-widgets/controls",
      "model_module_version": "1.5.0",
      "model_name": "HBoxModel",
      "state": {
       "children": [
        "IPY_MODEL_bcbaac5c86344eb9bc361d0c1edcf7cc"
       ],
       "layout": "IPY_MODEL_2f36adf8d1b04cb292d32a0cce98fba6"
      }
     },
     "64c2b885071247fcbd04cb1d4d75a2d1": {
      "model_module": "@jupyter-widgets/output",
      "model_module_version": "1.0.0",
      "model_name": "OutputModel",
      "state": {
       "layout": "IPY_MODEL_bed226ab791745f4b1d2feeb303592ed"
      }
     },
     "66642fc45e714d9f90366a73ef746eee": {
      "model_module": "@jupyter-widgets/base",
      "model_module_version": "1.2.0",
      "model_name": "LayoutModel",
      "state": {
       "width": "50%"
      }
     },
     "69dbd3f7edad4d7bae4dad35f9007464": {
      "model_module": "@jupyter-widgets/controls",
      "model_module_version": "1.5.0",
      "model_name": "HBoxModel",
      "state": {
       "children": [
        "IPY_MODEL_72fc1eb9c9594adc8def75cb0779be0b",
        "IPY_MODEL_c6457adaabc24aaf9a4486f6513bd081",
        "IPY_MODEL_98ace9ea11e241bda7369233aab50e4f"
       ],
       "layout": "IPY_MODEL_5e60b2c37af94e19a3d2a45cb11a4383"
      }
     },
     "6aeb331460a440909eb2e25afd058c15": {
      "model_module": "@jupyter-widgets/output",
      "model_module_version": "1.0.0",
      "model_name": "OutputModel",
      "state": {
       "layout": "IPY_MODEL_d9a0a6c661c444148a96206a1326f22f"
      }
     },
     "6af71f360b174d7bb9f2e424cefa586d": {
      "model_module": "@jupyter-widgets/controls",
      "model_module_version": "1.5.0",
      "model_name": "BoxModel",
      "state": {
       "children": [
        "IPY_MODEL_d410b55e0623483abd9b4260c769fd99"
       ],
       "layout": "IPY_MODEL_14c4caee3e144004820f46ddc002449b"
      }
     },
     "6c53b52783064eed9c7eaa2195ca400f": {
      "model_module": "@jupyter-widgets/controls",
      "model_module_version": "1.5.0",
      "model_name": "HBoxModel",
      "state": {
       "children": [
        "IPY_MODEL_8ce21a49eff0488f8914a84f5d78bdca",
        "IPY_MODEL_bb34b4780f504f0a9b27145fc32bd25a"
       ],
       "layout": "IPY_MODEL_d0ca54024c354b76ac28ca0430cfc957"
      }
     },
     "6d2f4e1da821492c916dd2094862886b": {
      "model_module": "@jupyter-widgets/controls",
      "model_module_version": "1.5.0",
      "model_name": "VBoxModel",
      "state": {
       "children": [
        "IPY_MODEL_07f0bab8f54d4d9faa24bb183eab6b45",
        "IPY_MODEL_974fbbe8a6824b17b4fbbc681d9e569c"
       ],
       "layout": "IPY_MODEL_66642fc45e714d9f90366a73ef746eee"
      }
     },
     "6d5806a8e01e4b5a9953d9e25385fc4c": {
      "model_module": "@jupyter-widgets/controls",
      "model_module_version": "1.5.0",
      "model_name": "TextModel",
      "state": {
       "description": "Other:",
       "layout": "IPY_MODEL_b0bae6dd3ce44206860a986ee33e47ed",
       "placeholder": "Hit enter to submit.",
       "style": "IPY_MODEL_1ce2028104944803a35cf73d83386d5e"
      }
     },
     "6d7914dacee04ff4b04a898c25a05ad8": {
      "model_module": "@jupyter-widgets/controls",
      "model_module_version": "1.5.0",
      "model_name": "HBoxModel",
      "state": {
       "children": [
        "IPY_MODEL_3fc9bcfb27a745b780f97380c39ea19e",
        "IPY_MODEL_8af0ed8cdae14fe3a4f58bf56aadc6ae",
        "IPY_MODEL_a49cbdbce0f44bf088830de4bfdc2b9f"
       ],
       "layout": "IPY_MODEL_ae216ab12a6940beabf7c28fa720ddf0"
      }
     },
     "6db6ae0bd16d4096bf8d5fc351657ade": {
      "model_module": "@jupyter-widgets/base",
      "model_module_version": "1.2.0",
      "model_name": "LayoutModel",
      "state": {}
     },
     "707edfbd651c411e8f71c068f0141b89": {
      "model_module": "@jupyter-widgets/controls",
      "model_module_version": "1.5.0",
      "model_name": "HBoxModel",
      "state": {
       "children": [
        "IPY_MODEL_ccf1b51108124b3ab26a463829c3413b",
        "IPY_MODEL_71fb24068fcc44c2bf7e01c066921f73",
        "IPY_MODEL_e6adaf7f505f460eb7f1c73e14069b88"
       ],
       "layout": "IPY_MODEL_98ff027d19644e1b9fa57d907c51cde9"
      }
     },
     "70eb420cc96a40a3bdf546c4029d03ac": {
      "model_module": "@jupyter-widgets/base",
      "model_module_version": "1.2.0",
      "model_name": "LayoutModel",
      "state": {}
     },
     "70feba627841415cb5bf3b4fcc2b29ce": {
      "model_module": "@jupyter-widgets/controls",
      "model_module_version": "1.5.0",
      "model_name": "ButtonStyleModel",
      "state": {}
     },
     "7153806a402d45888aff6c8815b6df05": {
      "model_module": "@jupyter-widgets/controls",
      "model_module_version": "1.5.0",
      "model_name": "TextModel",
      "state": {
       "description": "Other:",
       "layout": "IPY_MODEL_dea5b307e1ca4fc2b9e3df7d95071f29",
       "placeholder": "Hit enter to submit.",
       "style": "IPY_MODEL_0c9349a784d2499db493cc25e129e35f"
      }
     },
     "717ae63f1d7f41498fdc306dc5d7dfcc": {
      "model_module": "@jupyter-widgets/controls",
      "model_module_version": "1.5.0",
      "model_name": "ButtonStyleModel",
      "state": {}
     },
     "71fb24068fcc44c2bf7e01c066921f73": {
      "model_module": "@jupyter-widgets/controls",
      "model_module_version": "1.5.0",
      "model_name": "ButtonModel",
      "state": {
       "description": "Skip",
       "icon": "fast-forward",
       "layout": "IPY_MODEL_d14cf5e0ee994555bc5c73ae699cf40f",
       "style": "IPY_MODEL_c8795859d6b543c1a3d19499b0c73140"
      }
     },
     "724cb0de16564145bc8f8095e4663386": {
      "model_module": "@jupyter-widgets/controls",
      "model_module_version": "1.5.0",
      "model_name": "ButtonModel",
      "state": {
       "description": "professional",
       "layout": "IPY_MODEL_0ae121703823412789f779bc82c03a46",
       "style": "IPY_MODEL_73d3cd54997640f1adff55add4c741bb"
      }
     },
     "72fc1eb9c9594adc8def75cb0779be0b": {
      "model_module": "@jupyter-widgets/controls",
      "model_module_version": "1.5.0",
      "model_name": "ButtonModel",
      "state": {
       "description": "Sort options",
       "icon": "sort",
       "layout": "IPY_MODEL_3baa2d17b15148f6b56054029f32309e",
       "style": "IPY_MODEL_89dc82d4375d4c2cbd5d06663e3d5803"
      }
     },
     "73b79ccd32604fafb9381ba2a699c523": {
      "model_module": "@jupyter-widgets/controls",
      "model_module_version": "1.5.0",
      "model_name": "ButtonModel",
      "state": {
       "description": "Sort options",
       "icon": "sort",
       "layout": "IPY_MODEL_09606a6b8ffa4f3183b9fc1117446de2",
       "style": "IPY_MODEL_63a8a46c09a9496cb2939cb9e2b15afb"
      }
     },
     "73d3cd54997640f1adff55add4c741bb": {
      "model_module": "@jupyter-widgets/controls",
      "model_module_version": "1.5.0",
      "model_name": "ButtonStyleModel",
      "state": {}
     },
     "73f85c1f465b4168ad61e5f62d90bd84": {
      "model_module": "@jupyter-widgets/base",
      "model_module_version": "1.2.0",
      "model_name": "LayoutModel",
      "state": {}
     },
     "7419656bbd544637be97c7a3ffcc3982": {
      "model_module": "@jupyter-widgets/output",
      "model_module_version": "1.0.0",
      "model_name": "OutputModel",
      "state": {
       "layout": "IPY_MODEL_fa2549f2ef9c4663862f0fcf2012eddf"
      }
     },
     "74478c5b4572469080c8fdc1f7f7ca29": {
      "model_module": "@jupyter-widgets/controls",
      "model_module_version": "1.5.0",
      "model_name": "ButtonStyleModel",
      "state": {}
     },
     "74c9eeddaad74c248e2e836bf1c7b174": {
      "model_module": "@jupyter-widgets/controls",
      "model_module_version": "1.5.0",
      "model_name": "VBoxModel",
      "state": {
       "children": [
        "IPY_MODEL_63da0f63b6a9453ca3108c0bf970ac61",
        "IPY_MODEL_016ba776acdb4d93a7e2e94f4e1e98e5",
        "IPY_MODEL_62dc8cb5913b491dbe326eb569bf8c58"
       ],
       "layout": "IPY_MODEL_adf63f7ac5e14e22afc75341a9e19c50"
      }
     },
     "76243398f3fc4cfead4d145d16119008": {
      "model_module": "@jupyter-widgets/base",
      "model_module_version": "1.2.0",
      "model_name": "LayoutModel",
      "state": {}
     },
     "77eb001e06c54e2393f35d7242f66bf8": {
      "model_module": "@jupyter-widgets/base",
      "model_module_version": "1.2.0",
      "model_name": "LayoutModel",
      "state": {
       "width": "95%"
      }
     },
     "78495c999499454cbe0aff192e5caacb": {
      "model_module": "@jupyter-widgets/base",
      "model_module_version": "1.2.0",
      "model_name": "LayoutModel",
      "state": {
       "width": "50%"
      }
     },
     "79398238da7744e38d6bce04c0e3f185": {
      "model_module": "@jupyter-widgets/controls",
      "model_module_version": "1.5.0",
      "model_name": "HBoxModel",
      "state": {
       "children": [
        "IPY_MODEL_73b79ccd32604fafb9381ba2a699c523",
        "IPY_MODEL_2ebb2e031d984b8b9e12e086ccbfc00e",
        "IPY_MODEL_04676b3e5e47486b8aec0446df841218"
       ],
       "layout": "IPY_MODEL_2f60114170de48eca9ebc892dceb1e57"
      }
     },
     "796fe5ed002a4ba5afed735966757bac": {
      "model_module": "@jupyter-widgets/controls",
      "model_module_version": "1.5.0",
      "model_name": "VBoxModel",
      "state": {
       "children": [
        "IPY_MODEL_c439d53848ba49bd848ec5aa84118f4e",
        "IPY_MODEL_a52cf3a13cc441759587196a6d76f434"
       ],
       "layout": "IPY_MODEL_3184dc5594a349e3ba8faa3a7235a7f8"
      }
     },
     "7a9a315c6a7f43d695c8c02fa8dfb471": {
      "model_module": "@jupyter-widgets/controls",
      "model_module_version": "1.5.0",
      "model_name": "VBoxModel",
      "state": {
       "children": [
        "IPY_MODEL_7e2440beb08546d4b919c3a81fdff419",
        "IPY_MODEL_4c50a8131a9e46f3b8ad83b3cdcef644",
        "IPY_MODEL_bb6a6546c77c424f8f697c9ad45f92f3"
       ],
       "layout": "IPY_MODEL_156a74ff5730487a8737fb9cc3d110b6"
      }
     },
     "7bcdafa558984b19b2d2c2cf5ca56c94": {
      "model_module": "@jupyter-widgets/controls",
      "model_module_version": "1.5.0",
      "model_name": "ButtonModel",
      "state": {
       "description": "not professional",
       "layout": "IPY_MODEL_08db6e8d12e24c69b562f69556ec62c2",
       "style": "IPY_MODEL_b0b442f6bc64457a8964734768e9bc56"
      }
     },
     "7c95e288f14b45eabe4d18cdf3b3f91b": {
      "model_module": "@jupyter-widgets/output",
      "model_module_version": "1.0.0",
      "model_name": "OutputModel",
      "state": {
       "layout": "IPY_MODEL_ea2c0195c94b474b83a7293430159c1d"
      }
     },
     "7c96a43204db4132ab766bf6b2a96323": {
      "model_module": "@jupyter-widgets/output",
      "model_module_version": "1.0.0",
      "model_name": "OutputModel",
      "state": {
       "layout": "IPY_MODEL_b5f31d6b74874623a896b3f83983c7e6"
      }
     },
     "7e2440beb08546d4b919c3a81fdff419": {
      "model_module": "@jupyter-widgets/controls",
      "model_module_version": "1.5.0",
      "model_name": "HBoxModel",
      "state": {
       "children": [
        "IPY_MODEL_828bc15f048b40b1861e4c68e740434d"
       ],
       "layout": "IPY_MODEL_359b20c689c942788ed765e6cd9ffa0b"
      }
     },
     "7edbfac2589a4c42bd3158356918600c": {
      "model_module": "@jupyter-widgets/controls",
      "model_module_version": "1.5.0",
      "model_name": "ButtonModel",
      "state": {
       "description": "Sort options",
       "icon": "sort",
       "layout": "IPY_MODEL_b4cf1d2372884b2b9fed68f7a4e2ecd4",
       "style": "IPY_MODEL_ebb2af4294914ac4a462bc5325c97fa3"
      }
     },
     "8032dd76677b4a97809679242cf17e99": {
      "model_module": "@jupyter-widgets/controls",
      "model_module_version": "1.5.0",
      "model_name": "ButtonStyleModel",
      "state": {}
     },
     "806206ade9a84347997b0050e2c46cbd": {
      "model_module": "@jupyter-widgets/controls",
      "model_module_version": "1.5.0",
      "model_name": "DescriptionStyleModel",
      "state": {
       "description_width": ""
      }
     },
     "8189f5fdf5c943f78540381bfdd8cf32": {
      "model_module": "@jupyter-widgets/controls",
      "model_module_version": "1.5.0",
      "model_name": "DescriptionStyleModel",
      "state": {
       "description_width": ""
      }
     },
     "828bc15f048b40b1861e4c68e740434d": {
      "model_module": "@jupyter-widgets/controls",
      "model_module_version": "1.5.0",
      "model_name": "FloatProgressModel",
      "state": {
       "description": "Progress:",
       "layout": "IPY_MODEL_944094e06096499585e9174f4983e41d",
       "max": 1,
       "style": "IPY_MODEL_a2f70931363c4f3db32c5375168f6266"
      }
     },
     "83478f2000094d78911eca1235c522ca": {
      "model_module": "@jupyter-widgets/controls",
      "model_module_version": "1.5.0",
      "model_name": "VBoxModel",
      "state": {
       "children": [
        "IPY_MODEL_b3298410477c4c29b60fd8218da35bcf",
        "IPY_MODEL_6aeb331460a440909eb2e25afd058c15"
       ],
       "layout": "IPY_MODEL_1107124530ec4a68bcb3f5601778cfc8"
      }
     },
     "83797befeaed41b2991a515f94882358": {
      "model_module": "@jupyter-widgets/controls",
      "model_module_version": "1.5.0",
      "model_name": "HBoxModel",
      "state": {
       "children": [
        "IPY_MODEL_7edbfac2589a4c42bd3158356918600c",
        "IPY_MODEL_4d13cc0d122d40b685aa962a15cf9fc7",
        "IPY_MODEL_580e1ce77b944db6848ed9b4e0a0125d"
       ],
       "layout": "IPY_MODEL_080f082fd8514b7c81c83347b33ebf1a"
      }
     },
     "83c669be136f47e9a39691c4602e0b01": {
      "model_module": "@jupyter-widgets/controls",
      "model_module_version": "1.5.0",
      "model_name": "ButtonStyleModel",
      "state": {}
     },
     "8588ff4cb4f642788df4d786baae242e": {
      "model_module": "@jupyter-widgets/controls",
      "model_module_version": "1.5.0",
      "model_name": "HBoxModel",
      "state": {
       "children": [
        "IPY_MODEL_557d701114534cf5b2e448b6aee7c182",
        "IPY_MODEL_83797befeaed41b2991a515f94882358"
       ],
       "layout": "IPY_MODEL_fe01b315078f44078b6106289e2fe329"
      }
     },
     "85ce4e23714a4644815e6257d448c5f5": {
      "model_module": "@jupyter-widgets/controls",
      "model_module_version": "1.5.0",
      "model_name": "DescriptionStyleModel",
      "state": {
       "description_width": ""
      }
     },
     "87a4def3085145198ab808b86894f628": {
      "model_module": "@jupyter-widgets/base",
      "model_module_version": "1.2.0",
      "model_name": "LayoutModel",
      "state": {
       "width": "50%"
      }
     },
     "87fd8050d9294a938d67fc3ff988eebe": {
      "model_module": "@jupyter-widgets/base",
      "model_module_version": "1.2.0",
      "model_name": "LayoutModel",
      "state": {}
     },
     "8864159d24ee4c3fa46c32b93dbe3948": {
      "model_module": "@jupyter-widgets/base",
      "model_module_version": "1.2.0",
      "model_name": "LayoutModel",
      "state": {
       "display": "flex",
       "justify_content": "center",
       "padding": "2.5% 0",
       "width": "100%"
      }
     },
     "89dc82d4375d4c2cbd5d06663e3d5803": {
      "model_module": "@jupyter-widgets/controls",
      "model_module_version": "1.5.0",
      "model_name": "ButtonStyleModel",
      "state": {}
     },
     "8a021785001543e5b07c391f5c2525a1": {
      "model_module": "@jupyter-widgets/controls",
      "model_module_version": "1.5.0",
      "model_name": "FloatProgressModel",
      "state": {
       "description": "Progress:",
       "layout": "IPY_MODEL_140193414c35422aa6f355f4f188c6fb",
       "max": 1,
       "style": "IPY_MODEL_baab473473114a0f81bbcffe1e6870e0"
      }
     },
     "8a7376dc4a264deeabe65d09b9cfd4b3": {
      "model_module": "@jupyter-widgets/base",
      "model_module_version": "1.2.0",
      "model_name": "LayoutModel",
      "state": {}
     },
     "8af0ed8cdae14fe3a4f58bf56aadc6ae": {
      "model_module": "@jupyter-widgets/controls",
      "model_module_version": "1.5.0",
      "model_name": "ButtonModel",
      "state": {
       "description": "Skip",
       "icon": "fast-forward",
       "layout": "IPY_MODEL_0f91b4ab23e7421dbca40d73b4198a59",
       "style": "IPY_MODEL_5740627c48eb4510b9add9a6da80000b"
      }
     },
     "8b2de8ef918e4426b5695dbabba3f4fa": {
      "model_module": "@jupyter-widgets/controls",
      "model_module_version": "1.5.0",
      "model_name": "ButtonStyleModel",
      "state": {}
     },
     "8bb705aa51ba47b5988813d837c6ab24": {
      "model_module": "@jupyter-widgets/output",
      "model_module_version": "1.0.0",
      "model_name": "OutputModel",
      "state": {
       "layout": "IPY_MODEL_6db6ae0bd16d4096bf8d5fc351657ade"
      }
     },
     "8c07cfa727cc442594fab525eb28def9": {
      "model_module": "@jupyter-widgets/controls",
      "model_module_version": "1.5.0",
      "model_name": "HBoxModel",
      "state": {
       "children": [
        "IPY_MODEL_cd3cacc7e4e448b5b44ab2cbea49e7c4",
        "IPY_MODEL_9c651df048914df7a8a682d469be034b"
       ],
       "layout": "IPY_MODEL_5159837b90f84fd3a6cb2762b1a240d5"
      }
     },
     "8c4d8f2054ff49fc9a7d0ace78566576": {
      "model_module": "@jupyter-widgets/controls",
      "model_module_version": "1.5.0",
      "model_name": "VBoxModel",
      "state": {
       "children": [
        "IPY_MODEL_ab05ae384c504418820de3c412612e5c",
        "IPY_MODEL_6af71f360b174d7bb9f2e424cefa586d",
        "IPY_MODEL_39fe110d2db34b82b96bb0116043de76"
       ],
       "layout": "IPY_MODEL_a55bca7863e24b04a05a3d11db063479"
      }
     },
     "8ca2666e4eef48498d1a4ae2bdeca579": {
      "model_module": "@jupyter-widgets/controls",
      "model_module_version": "1.5.0",
      "model_name": "HBoxModel",
      "state": {
       "children": [
        "IPY_MODEL_8a021785001543e5b07c391f5c2525a1"
       ],
       "layout": "IPY_MODEL_f16ee26a2fec436aad64fe67977a7d45"
      }
     },
     "8ce21a49eff0488f8914a84f5d78bdca": {
      "model_module": "@jupyter-widgets/controls",
      "model_module_version": "1.5.0",
      "model_name": "VBoxModel",
      "state": {
       "children": [
        "IPY_MODEL_a1ab5a56c6ed4a209e5c1955d5538828",
        "IPY_MODEL_7c96a43204db4132ab766bf6b2a96323"
       ],
       "layout": "IPY_MODEL_ffd74f89297543ad999028f5bc3c30e8"
      }
     },
     "8e5944a0e01a4739a63d0ee94a77bdc4": {
      "model_module": "@jupyter-widgets/controls",
      "model_module_version": "1.5.0",
      "model_name": "TextModel",
      "state": {
       "description": "Other:",
       "layout": "IPY_MODEL_70eb420cc96a40a3bdf546c4029d03ac",
       "placeholder": "Hit enter to submit.",
       "style": "IPY_MODEL_52d2a11c877349c5862775fe28d7f999"
      }
     },
     "90ad6772cb8d454f83d0eb6f4e679561": {
      "model_module": "@jupyter-widgets/controls",
      "model_module_version": "1.5.0",
      "model_name": "VBoxModel",
      "state": {
       "children": [
        "IPY_MODEL_dbd153f0889d4680b97a1d86f2415168",
        "IPY_MODEL_f8a0657256564cedad3f41e05ba53e69",
        "IPY_MODEL_417259ae512a4273b8d8a5a262f4b7f3"
       ],
       "layout": "IPY_MODEL_9fd4dea26e944fab85d2655813aeb7a1"
      }
     },
     "90bd83bb11d44794818bfa9ed2f506a8": {
      "model_module": "@jupyter-widgets/output",
      "model_module_version": "1.0.0",
      "model_name": "OutputModel",
      "state": {
       "layout": "IPY_MODEL_1b99b977e72d486ab5069acabe13ea75",
       "outputs": [
        {
         "data": {
          "text/markdown": "# Priti Patel defends inclusion of group on terror list",
          "text/plain": "<IPython.core.display.Markdown object>"
         },
         "metadata": {},
         "output_type": "display_data"
        }
       ]
      }
     },
     "915bc47e34fd4569b8644cab65a97193": {
      "model_module": "@jupyter-widgets/base",
      "model_module_version": "1.2.0",
      "model_name": "LayoutModel",
      "state": {
       "width": "95%"
      }
     },
     "916765c318e147418581c85dfde3fe64": {
      "model_module": "@jupyter-widgets/controls",
      "model_module_version": "1.5.0",
      "model_name": "ProgressStyleModel",
      "state": {
       "description_width": ""
      }
     },
     "92885957710942498e116e8210c0c675": {
      "model_module": "@jupyter-widgets/controls",
      "model_module_version": "1.5.0",
      "model_name": "ButtonStyleModel",
      "state": {}
     },
     "944094e06096499585e9174f4983e41d": {
      "model_module": "@jupyter-widgets/base",
      "model_module_version": "1.2.0",
      "model_name": "LayoutModel",
      "state": {}
     },
     "9553c841ca994166ad291658f95a0206": {
      "model_module": "@jupyter-widgets/base",
      "model_module_version": "1.2.0",
      "model_name": "LayoutModel",
      "state": {}
     },
     "958e17cc6fbb4fd1a28d9dc046839c9a": {
      "model_module": "@jupyter-widgets/controls",
      "model_module_version": "1.5.0",
      "model_name": "VBoxModel",
      "state": {
       "children": [
        "IPY_MODEL_e0a9a499a5c3436cbf88b907c1186b62",
        "IPY_MODEL_7c95e288f14b45eabe4d18cdf3b3f91b"
       ],
       "layout": "IPY_MODEL_1bc1888553584f75961410303123d16b"
      }
     },
     "974fbbe8a6824b17b4fbbc681d9e569c": {
      "model_module": "@jupyter-widgets/output",
      "model_module_version": "1.0.0",
      "model_name": "OutputModel",
      "state": {
       "layout": "IPY_MODEL_fb57a232b3524495a9b4a5942dcc1aac"
      }
     },
     "98ace9ea11e241bda7369233aab50e4f": {
      "model_module": "@jupyter-widgets/controls",
      "model_module_version": "1.5.0",
      "model_name": "ButtonModel",
      "state": {
       "description": "Undo",
       "icon": "undo",
       "layout": "IPY_MODEL_87fd8050d9294a938d67fc3ff988eebe",
       "style": "IPY_MODEL_3b7e033b954a4aacb86f19263d3e86b8"
      }
     },
     "98ff027d19644e1b9fa57d907c51cde9": {
      "model_module": "@jupyter-widgets/base",
      "model_module_version": "1.2.0",
      "model_name": "LayoutModel",
      "state": {}
     },
     "99e5c22906ed4b8ea71a8a2ff0e77820": {
      "model_module": "@jupyter-widgets/base",
      "model_module_version": "1.2.0",
      "model_name": "LayoutModel",
      "state": {}
     },
     "9c651df048914df7a8a682d469be034b": {
      "model_module": "@jupyter-widgets/controls",
      "model_module_version": "1.5.0",
      "model_name": "VBoxModel",
      "state": {
       "children": [
        "IPY_MODEL_7bcdafa558984b19b2d2c2cf5ca56c94",
        "IPY_MODEL_ba9180084d3446f7929b0ab7f5098743"
       ],
       "layout": "IPY_MODEL_ef090bb5863a4a2eadabe8fd452f241b"
      }
     },
     "9d12621644a34221bac6f95ea947491f": {
      "model_module": "@jupyter-widgets/controls",
      "model_module_version": "1.5.0",
      "model_name": "HBoxModel",
      "state": {
       "children": [
        "IPY_MODEL_d069808f59aa41f69b3b8000508576d8",
        "IPY_MODEL_707edfbd651c411e8f71c068f0141b89"
       ],
       "layout": "IPY_MODEL_1aff60ce13734c9fba0ceccae32e53f2"
      }
     },
     "9e4936aa3c3f4c56b30509fb36addf60": {
      "model_module": "@jupyter-widgets/controls",
      "model_module_version": "1.5.0",
      "model_name": "VBoxModel",
      "state": {
       "children": [
        "IPY_MODEL_724cb0de16564145bc8f8095e4663386",
        "IPY_MODEL_ae53835914044257bf8cabe7a52d8a40"
       ],
       "layout": "IPY_MODEL_c2e469ac1c2f43ffb20ca5f3e9116704"
      }
     },
     "9fc2b6db0fec4743a905688490e8cda3": {
      "model_module": "@jupyter-widgets/controls",
      "model_module_version": "1.5.0",
      "model_name": "ButtonModel",
      "state": {
       "description": "professional",
       "layout": "IPY_MODEL_0d236f539df141c896f3e51e1be2f93f",
       "style": "IPY_MODEL_83c669be136f47e9a39691c4602e0b01"
      }
     },
     "9fd4dea26e944fab85d2655813aeb7a1": {
      "model_module": "@jupyter-widgets/base",
      "model_module_version": "1.2.0",
      "model_name": "LayoutModel",
      "state": {}
     },
     "a019a89b08f6462e8d03e6619023d103": {
      "model_module": "@jupyter-widgets/base",
      "model_module_version": "1.2.0",
      "model_name": "LayoutModel",
      "state": {
       "width": "50%"
      }
     },
     "a131f8a2b35d4f5c9045afaf305beb71": {
      "model_module": "@jupyter-widgets/base",
      "model_module_version": "1.2.0",
      "model_name": "LayoutModel",
      "state": {}
     },
     "a191f931e35b478dbdd9c4c0c633ba40": {
      "model_module": "@jupyter-widgets/base",
      "model_module_version": "1.2.0",
      "model_name": "LayoutModel",
      "state": {}
     },
     "a1ab5a56c6ed4a209e5c1955d5538828": {
      "model_module": "@jupyter-widgets/controls",
      "model_module_version": "1.5.0",
      "model_name": "ButtonModel",
      "state": {
       "description": "professional",
       "layout": "IPY_MODEL_faea384b7e1e4980968df335214626b3",
       "style": "IPY_MODEL_461738ac8fbf45879da41d39033c70c6"
      }
     },
     "a291bcd3bc1c49bda7a64cfb7c7ba865": {
      "model_module": "@jupyter-widgets/base",
      "model_module_version": "1.2.0",
      "model_name": "LayoutModel",
      "state": {}
     },
     "a2f70931363c4f3db32c5375168f6266": {
      "model_module": "@jupyter-widgets/controls",
      "model_module_version": "1.5.0",
      "model_name": "ProgressStyleModel",
      "state": {
       "description_width": ""
      }
     },
     "a3dac05274574262a489fb9548e59aaa": {
      "model_module": "@jupyter-widgets/controls",
      "model_module_version": "1.5.0",
      "model_name": "ProgressStyleModel",
      "state": {
       "description_width": ""
      }
     },
     "a45cbb9bb137444f8c20da6dea73ca93": {
      "model_module": "@jupyter-widgets/controls",
      "model_module_version": "1.5.0",
      "model_name": "VBoxModel",
      "state": {
       "children": [
        "IPY_MODEL_f0d85e79c48e480b8eef69f925841178",
        "IPY_MODEL_ca5fdfaec39e4145b331a828980eb723"
       ],
       "layout": "IPY_MODEL_f181a2a5acde4e718fdea13cf21bff42"
      }
     },
     "a49cbdbce0f44bf088830de4bfdc2b9f": {
      "model_module": "@jupyter-widgets/controls",
      "model_module_version": "1.5.0",
      "model_name": "ButtonModel",
      "state": {
       "description": "Undo",
       "icon": "undo",
       "layout": "IPY_MODEL_1241d2ef217345d0bca1a54622bf6b59",
       "style": "IPY_MODEL_8032dd76677b4a97809679242cf17e99"
      }
     },
     "a52cf3a13cc441759587196a6d76f434": {
      "model_module": "@jupyter-widgets/output",
      "model_module_version": "1.0.0",
      "model_name": "OutputModel",
      "state": {
       "layout": "IPY_MODEL_2318cc04353646dd934b2a7021894ddc"
      }
     },
     "a55bca7863e24b04a05a3d11db063479": {
      "model_module": "@jupyter-widgets/base",
      "model_module_version": "1.2.0",
      "model_name": "LayoutModel",
      "state": {}
     },
     "a57f3c1a66644d18a0577c3a4cfc5976": {
      "model_module": "@jupyter-widgets/controls",
      "model_module_version": "1.5.0",
      "model_name": "VBoxModel",
      "state": {
       "children": [
        "IPY_MODEL_3f89fe4140b2407cb7e973cb1a8c8ba3",
        "IPY_MODEL_cd7640b9868345b4ba1636b29ead7e80"
       ],
       "layout": "IPY_MODEL_ab3e928626e842e0a638608ba22b52b3"
      }
     },
     "a581d11690fc491b8ebd423fedda69a2": {
      "model_module": "@jupyter-widgets/controls",
      "model_module_version": "1.5.0",
      "model_name": "HBoxModel",
      "state": {
       "children": [
        "IPY_MODEL_796fe5ed002a4ba5afed735966757bac",
        "IPY_MODEL_aa987f9c4ca54e4ab6b99e7ab19111ed"
       ],
       "layout": "IPY_MODEL_1f5bdcb9f8524cc2a247bf5bff313f6e"
      }
     },
     "a6a34628ed7a47e49644121e8aea0593": {
      "model_module": "@jupyter-widgets/controls",
      "model_module_version": "1.5.0",
      "model_name": "VBoxModel",
      "state": {
       "children": [
        "IPY_MODEL_cfb4c452b24b470b89db0a31e6af1b10",
        "IPY_MODEL_64c2b885071247fcbd04cb1d4d75a2d1"
       ],
       "layout": "IPY_MODEL_a019a89b08f6462e8d03e6619023d103"
      }
     },
     "a7f94fe6ebe04851a7c7531fa3896d50": {
      "model_module": "@jupyter-widgets/controls",
      "model_module_version": "1.5.0",
      "model_name": "ButtonModel",
      "state": {
       "description": "not professional",
       "layout": "IPY_MODEL_ba941c42891e46d6a14c10f18d48df37",
       "style": "IPY_MODEL_c370d1a0cd2f42b2b229fbbb4a49834a"
      }
     },
     "a935f9ee9ded4595a7083f83323d3ef4": {
      "model_module": "@jupyter-widgets/output",
      "model_module_version": "1.0.0",
      "model_name": "OutputModel",
      "state": {
       "layout": "IPY_MODEL_a131f8a2b35d4f5c9045afaf305beb71"
      }
     },
     "a9cdfabda19447d8b3aa8f0079f5603a": {
      "model_module": "@jupyter-widgets/controls",
      "model_module_version": "1.5.0",
      "model_name": "TextModel",
      "state": {
       "description": "Other:",
       "layout": "IPY_MODEL_1694b8b16f1e4b128605dbc557a0fdc2",
       "placeholder": "Hit enter to submit.",
       "style": "IPY_MODEL_8189f5fdf5c943f78540381bfdd8cf32"
      }
     },
     "aa987f9c4ca54e4ab6b99e7ab19111ed": {
      "model_module": "@jupyter-widgets/controls",
      "model_module_version": "1.5.0",
      "model_name": "VBoxModel",
      "state": {
       "children": [
        "IPY_MODEL_02694a6e40744c2c978ec3b8671ec681",
        "IPY_MODEL_e100d086cd88498c98a20a60f84c6a14"
       ],
       "layout": "IPY_MODEL_fbe6d255b3e346d3bb98b0a83deda179"
      }
     },
     "ab05ae384c504418820de3c412612e5c": {
      "model_module": "@jupyter-widgets/controls",
      "model_module_version": "1.5.0",
      "model_name": "HBoxModel",
      "state": {
       "children": [
        "IPY_MODEL_3f8e4efc7c1e488987f53f37b1d0fd41"
       ],
       "layout": "IPY_MODEL_400efcf66d934c5692955a0ae9d5f5e9"
      }
     },
     "ab3e928626e842e0a638608ba22b52b3": {
      "model_module": "@jupyter-widgets/base",
      "model_module_version": "1.2.0",
      "model_name": "LayoutModel",
      "state": {
       "width": "50%"
      }
     },
     "ac50d30498de49d88ff3174af07af55c": {
      "model_module": "@jupyter-widgets/base",
      "model_module_version": "1.2.0",
      "model_name": "LayoutModel",
      "state": {
       "width": "50%"
      }
     },
     "adcf1fb327de48e7858299920b1045b1": {
      "model_module": "@jupyter-widgets/controls",
      "model_module_version": "1.5.0",
      "model_name": "ButtonModel",
      "state": {
       "description": "professional",
       "layout": "IPY_MODEL_e52c4ffe89d94eb9acfebe0d724e4fa3",
       "style": "IPY_MODEL_ca4130f8faff4cc3bc4760e693c0e180"
      }
     },
     "adf63f7ac5e14e22afc75341a9e19c50": {
      "model_module": "@jupyter-widgets/base",
      "model_module_version": "1.2.0",
      "model_name": "LayoutModel",
      "state": {}
     },
     "ae216ab12a6940beabf7c28fa720ddf0": {
      "model_module": "@jupyter-widgets/base",
      "model_module_version": "1.2.0",
      "model_name": "LayoutModel",
      "state": {}
     },
     "ae53835914044257bf8cabe7a52d8a40": {
      "model_module": "@jupyter-widgets/output",
      "model_module_version": "1.0.0",
      "model_name": "OutputModel",
      "state": {
       "layout": "IPY_MODEL_bc073aed2dbb42da9e8a91a993767e27"
      }
     },
     "aedf948696cf419987cd222de27ec884": {
      "model_module": "@jupyter-widgets/base",
      "model_module_version": "1.2.0",
      "model_name": "LayoutModel",
      "state": {}
     },
     "b06702fdc35c48349f9b27a444918646": {
      "model_module": "@jupyter-widgets/controls",
      "model_module_version": "1.5.0",
      "model_name": "ButtonModel",
      "state": {
       "description": "not professional",
       "layout": "IPY_MODEL_c27b09718d0744e28c58c0ecaf69d40f",
       "style": "IPY_MODEL_b258cdd252734a5f8f3857938b1fc5c8"
      }
     },
     "b0b442f6bc64457a8964734768e9bc56": {
      "model_module": "@jupyter-widgets/controls",
      "model_module_version": "1.5.0",
      "model_name": "ButtonStyleModel",
      "state": {}
     },
     "b0bae6dd3ce44206860a986ee33e47ed": {
      "model_module": "@jupyter-widgets/base",
      "model_module_version": "1.2.0",
      "model_name": "LayoutModel",
      "state": {}
     },
     "b1c2841c548d431680da5056a56ff0d7": {
      "model_module": "@jupyter-widgets/base",
      "model_module_version": "1.2.0",
      "model_name": "LayoutModel",
      "state": {}
     },
     "b258cdd252734a5f8f3857938b1fc5c8": {
      "model_module": "@jupyter-widgets/controls",
      "model_module_version": "1.5.0",
      "model_name": "ButtonStyleModel",
      "state": {}
     },
     "b272219d16e84c1899001b6bff51ce72": {
      "model_module": "@jupyter-widgets/base",
      "model_module_version": "1.2.0",
      "model_name": "LayoutModel",
      "state": {}
     },
     "b273ca96021d4310a2947117fd4596a8": {
      "model_module": "@jupyter-widgets/base",
      "model_module_version": "1.2.0",
      "model_name": "LayoutModel",
      "state": {
       "width": "95%"
      }
     },
     "b3298410477c4c29b60fd8218da35bcf": {
      "model_module": "@jupyter-widgets/controls",
      "model_module_version": "1.5.0",
      "model_name": "ButtonModel",
      "state": {
       "description": "not professional",
       "layout": "IPY_MODEL_915bc47e34fd4569b8644cab65a97193",
       "style": "IPY_MODEL_10dfab03f98844339892e97a0436007f"
      }
     },
     "b3548a41929a4a9fa619496d149644dc": {
      "model_module": "@jupyter-widgets/base",
      "model_module_version": "1.2.0",
      "model_name": "LayoutModel",
      "state": {
       "width": "50%"
      }
     },
     "b4cf1d2372884b2b9fed68f7a4e2ecd4": {
      "model_module": "@jupyter-widgets/base",
      "model_module_version": "1.2.0",
      "model_name": "LayoutModel",
      "state": {}
     },
     "b5f31d6b74874623a896b3f83983c7e6": {
      "model_module": "@jupyter-widgets/base",
      "model_module_version": "1.2.0",
      "model_name": "LayoutModel",
      "state": {}
     },
     "b7c5fff7bb964562921c01da1efc565f": {
      "model_module": "@jupyter-widgets/base",
      "model_module_version": "1.2.0",
      "model_name": "LayoutModel",
      "state": {
       "justify_content": "space-between"
      }
     },
     "b853c434f32045a388ba0d168833cd12": {
      "model_module": "@jupyter-widgets/controls",
      "model_module_version": "1.5.0",
      "model_name": "ButtonStyleModel",
      "state": {}
     },
     "ba9180084d3446f7929b0ab7f5098743": {
      "model_module": "@jupyter-widgets/output",
      "model_module_version": "1.0.0",
      "model_name": "OutputModel",
      "state": {
       "layout": "IPY_MODEL_1341b6426f5d48e19a1d609c273de7fe"
      }
     },
     "ba941c42891e46d6a14c10f18d48df37": {
      "model_module": "@jupyter-widgets/base",
      "model_module_version": "1.2.0",
      "model_name": "LayoutModel",
      "state": {
       "width": "95%"
      }
     },
     "baab473473114a0f81bbcffe1e6870e0": {
      "model_module": "@jupyter-widgets/controls",
      "model_module_version": "1.5.0",
      "model_name": "ProgressStyleModel",
      "state": {
       "description_width": ""
      }
     },
     "bb34b4780f504f0a9b27145fc32bd25a": {
      "model_module": "@jupyter-widgets/controls",
      "model_module_version": "1.5.0",
      "model_name": "VBoxModel",
      "state": {
       "children": [
        "IPY_MODEL_b06702fdc35c48349f9b27a444918646",
        "IPY_MODEL_7419656bbd544637be97c7a3ffcc3982"
       ],
       "layout": "IPY_MODEL_78495c999499454cbe0aff192e5caacb"
      }
     },
     "bb6a6546c77c424f8f697c9ad45f92f3": {
      "model_module": "@jupyter-widgets/controls",
      "model_module_version": "1.5.0",
      "model_name": "VBoxModel",
      "state": {
       "children": [
        "IPY_MODEL_e71f25d5589c475d8b6b8a5211c9bace",
        "IPY_MODEL_5c58eb1a8a24488ba5d949de729dceeb"
       ],
       "layout": "IPY_MODEL_36a7c4d20f3742e7aad97b397c01f45b"
      }
     },
     "bb7bfba7f23d40448fa961f138a5c74e": {
      "model_module": "@jupyter-widgets/controls",
      "model_module_version": "1.5.0",
      "model_name": "ButtonStyleModel",
      "state": {}
     },
     "bb96cf6a02a74e31887139aa2301b4b0": {
      "model_module": "@jupyter-widgets/base",
      "model_module_version": "1.2.0",
      "model_name": "LayoutModel",
      "state": {}
     },
     "bc073aed2dbb42da9e8a91a993767e27": {
      "model_module": "@jupyter-widgets/base",
      "model_module_version": "1.2.0",
      "model_name": "LayoutModel",
      "state": {}
     },
     "bcba99a7befd456aa47082d8c98ea667": {
      "model_module": "@jupyter-widgets/base",
      "model_module_version": "1.2.0",
      "model_name": "LayoutModel",
      "state": {
       "width": "95%"
      }
     },
     "bcbaac5c86344eb9bc361d0c1edcf7cc": {
      "model_module": "@jupyter-widgets/controls",
      "model_module_version": "1.5.0",
      "model_name": "FloatProgressModel",
      "state": {
       "description": "Progress:",
       "layout": "IPY_MODEL_1776eda7d15e4f3a964897d9382641c9",
       "max": 1,
       "style": "IPY_MODEL_47d2c7188b65493b99e44449d3b996c7"
      }
     },
     "be70541714b14e9dbfca78dbaeb190c4": {
      "model_module": "@jupyter-widgets/output",
      "model_module_version": "1.0.0",
      "model_name": "OutputModel",
      "state": {
       "layout": "IPY_MODEL_f71328de4b7140c4a05ae5305dfb8be1",
       "outputs": [
        {
         "data": {
          "application/vnd.jupyter.widget-view+json": {
           "model_id": "1a1a4e2794c44921b0332bab71cf8a58",
           "version_major": 2,
           "version_minor": 0
          },
          "text/plain": "Box(layout=Layout(height='2.5%'))"
         },
         "metadata": {},
         "output_type": "display_data"
        },
        {
         "data": {
          "text/plain": "'Priti Patel defends inclusion of group on terror list'"
         },
         "metadata": {},
         "output_type": "display_data"
        },
        {
         "data": {
          "application/vnd.jupyter.widget-view+json": {
           "model_id": "c136e45bee914b43aff2302ebd7c54f0",
           "version_major": 2,
           "version_minor": 0
          },
          "text/plain": "Box(layout=Layout(height='2.5%'))"
         },
         "metadata": {},
         "output_type": "display_data"
        }
       ]
      }
     },
     "bed226ab791745f4b1d2feeb303592ed": {
      "model_module": "@jupyter-widgets/base",
      "model_module_version": "1.2.0",
      "model_name": "LayoutModel",
      "state": {}
     },
     "c136e45bee914b43aff2302ebd7c54f0": {
      "model_module": "@jupyter-widgets/controls",
      "model_module_version": "1.5.0",
      "model_name": "BoxModel",
      "state": {
       "layout": "IPY_MODEL_e139b96146284f6b884bace1cf50ace3"
      }
     },
     "c27b09718d0744e28c58c0ecaf69d40f": {
      "model_module": "@jupyter-widgets/base",
      "model_module_version": "1.2.0",
      "model_name": "LayoutModel",
      "state": {
       "width": "95%"
      }
     },
     "c2e469ac1c2f43ffb20ca5f3e9116704": {
      "model_module": "@jupyter-widgets/base",
      "model_module_version": "1.2.0",
      "model_name": "LayoutModel",
      "state": {
       "width": "50%"
      }
     },
     "c370d1a0cd2f42b2b229fbbb4a49834a": {
      "model_module": "@jupyter-widgets/controls",
      "model_module_version": "1.5.0",
      "model_name": "ButtonStyleModel",
      "state": {}
     },
     "c439d53848ba49bd848ec5aa84118f4e": {
      "model_module": "@jupyter-widgets/controls",
      "model_module_version": "1.5.0",
      "model_name": "ButtonModel",
      "state": {
       "description": "professional",
       "layout": "IPY_MODEL_b273ca96021d4310a2947117fd4596a8",
       "style": "IPY_MODEL_717ae63f1d7f41498fdc306dc5d7dfcc"
      }
     },
     "c4849f80d4004a868995c24d77ab247d": {
      "model_module": "@jupyter-widgets/base",
      "model_module_version": "1.2.0",
      "model_name": "LayoutModel",
      "state": {}
     },
     "c48aa12aa0a145e3a48835b410b749c1": {
      "model_module": "@jupyter-widgets/controls",
      "model_module_version": "1.5.0",
      "model_name": "HBoxModel",
      "state": {
       "children": [
        "IPY_MODEL_7153806a402d45888aff6c8815b6df05",
        "IPY_MODEL_07e56f7b90104fe28159f279000a698a"
       ],
       "layout": "IPY_MODEL_b7c5fff7bb964562921c01da1efc565f"
      }
     },
     "c6457adaabc24aaf9a4486f6513bd081": {
      "model_module": "@jupyter-widgets/controls",
      "model_module_version": "1.5.0",
      "model_name": "ButtonModel",
      "state": {
       "description": "Skip",
       "icon": "fast-forward",
       "layout": "IPY_MODEL_bb96cf6a02a74e31887139aa2301b4b0",
       "style": "IPY_MODEL_dcee1153519d42e69bf2632b6021efbc"
      }
     },
     "c722416aeb1f40fe9d054d5cd20b6a91": {
      "model_module": "@jupyter-widgets/base",
      "model_module_version": "1.2.0",
      "model_name": "LayoutModel",
      "state": {}
     },
     "c8795859d6b543c1a3d19499b0c73140": {
      "model_module": "@jupyter-widgets/controls",
      "model_module_version": "1.5.0",
      "model_name": "ButtonStyleModel",
      "state": {}
     },
     "c8bf697b9af94c498462bdba93fecae1": {
      "model_module": "@jupyter-widgets/controls",
      "model_module_version": "1.5.0",
      "model_name": "DescriptionStyleModel",
      "state": {
       "description_width": ""
      }
     },
     "c9448ab2b5d94de69b3c22092f41927e": {
      "model_module": "@jupyter-widgets/base",
      "model_module_version": "1.2.0",
      "model_name": "LayoutModel",
      "state": {}
     },
     "c97ca43e584944b59b496fc3abd31954": {
      "model_module": "@jupyter-widgets/base",
      "model_module_version": "1.2.0",
      "model_name": "LayoutModel",
      "state": {}
     },
     "ca4130f8faff4cc3bc4760e693c0e180": {
      "model_module": "@jupyter-widgets/controls",
      "model_module_version": "1.5.0",
      "model_name": "ButtonStyleModel",
      "state": {}
     },
     "ca5fdfaec39e4145b331a828980eb723": {
      "model_module": "@jupyter-widgets/output",
      "model_module_version": "1.0.0",
      "model_name": "OutputModel",
      "state": {
       "layout": "IPY_MODEL_fef97e40a76c428887190d70b7bc1c49"
      }
     },
     "cc5d6a5074204d8f98a24e56a000c17e": {
      "model_module": "@jupyter-widgets/controls",
      "model_module_version": "1.5.0",
      "model_name": "TextModel",
      "state": {
       "description": "Other:",
       "layout": "IPY_MODEL_9553c841ca994166ad291658f95a0206",
       "placeholder": "Hit enter to submit.",
       "style": "IPY_MODEL_c8bf697b9af94c498462bdba93fecae1"
      }
     },
     "ccd60b835f0c46e49179bfb55c9aa308": {
      "model_module": "@jupyter-widgets/base",
      "model_module_version": "1.2.0",
      "model_name": "LayoutModel",
      "state": {
       "justify_content": "space-between"
      }
     },
     "cced39a75bf2469ab458f6a4db03050f": {
      "model_module": "@jupyter-widgets/controls",
      "model_module_version": "1.5.0",
      "model_name": "HBoxModel",
      "state": {
       "children": [
        "IPY_MODEL_7edbfac2589a4c42bd3158356918600c",
        "IPY_MODEL_4d13cc0d122d40b685aa962a15cf9fc7",
        "IPY_MODEL_580e1ce77b944db6848ed9b4e0a0125d"
       ],
       "layout": "IPY_MODEL_38c4f3019b204914955a0062cd2d641c"
      }
     },
     "ccf1b51108124b3ab26a463829c3413b": {
      "model_module": "@jupyter-widgets/controls",
      "model_module_version": "1.5.0",
      "model_name": "ButtonModel",
      "state": {
       "description": "Sort options",
       "icon": "sort",
       "layout": "IPY_MODEL_39c89387c14942678d3d0a1dba974f20",
       "style": "IPY_MODEL_428c209bd7024c799b82c15db47ed3cc"
      }
     },
     "cd3cacc7e4e448b5b44ab2cbea49e7c4": {
      "model_module": "@jupyter-widgets/controls",
      "model_module_version": "1.5.0",
      "model_name": "VBoxModel",
      "state": {
       "children": [
        "IPY_MODEL_32bdc568483b48c893c47b415dd87298",
        "IPY_MODEL_a935f9ee9ded4595a7083f83323d3ef4"
       ],
       "layout": "IPY_MODEL_e82ad31dd1b4438fa8761f2ced532a6f"
      }
     },
     "cd7640b9868345b4ba1636b29ead7e80": {
      "model_module": "@jupyter-widgets/output",
      "model_module_version": "1.0.0",
      "model_name": "OutputModel",
      "state": {
       "layout": "IPY_MODEL_b1c2841c548d431680da5056a56ff0d7"
      }
     },
     "cfb4c452b24b470b89db0a31e6af1b10": {
      "model_module": "@jupyter-widgets/controls",
      "model_module_version": "1.5.0",
      "model_name": "ButtonModel",
      "state": {
       "description": "professional",
       "layout": "IPY_MODEL_3cc71216c60147adb84aaa0c327254c7",
       "style": "IPY_MODEL_4cdb518438b1434d8c839c8302638c01"
      }
     },
     "d069808f59aa41f69b3b8000508576d8": {
      "model_module": "@jupyter-widgets/controls",
      "model_module_version": "1.5.0",
      "model_name": "TextModel",
      "state": {
       "description": "Other:",
       "layout": "IPY_MODEL_d81e4ea875fa4b4ebdb5a11747a575ff",
       "placeholder": "Hit enter to submit.",
       "style": "IPY_MODEL_1d2f9d68b4014c66a74ee163f7a8b0ba"
      }
     },
     "d0b609d46eb542668646b0204dddd074": {
      "model_module": "@jupyter-widgets/controls",
      "model_module_version": "1.5.0",
      "model_name": "VBoxModel",
      "state": {
       "children": [
        "IPY_MODEL_8ca2666e4eef48498d1a4ae2bdeca579",
        "IPY_MODEL_e0d897c024744db5a5e97f0faaf7745f",
        "IPY_MODEL_4e38b78f6d694afa8561996291e90b1b"
       ],
       "layout": "IPY_MODEL_d9a72a2cef73465cb3946d66e5d1211c"
      }
     },
     "d0ca54024c354b76ac28ca0430cfc957": {
      "model_module": "@jupyter-widgets/base",
      "model_module_version": "1.2.0",
      "model_name": "LayoutModel",
      "state": {}
     },
     "d14cf5e0ee994555bc5c73ae699cf40f": {
      "model_module": "@jupyter-widgets/base",
      "model_module_version": "1.2.0",
      "model_name": "LayoutModel",
      "state": {}
     },
     "d410b55e0623483abd9b4260c769fd99": {
      "model_module": "@jupyter-widgets/output",
      "model_module_version": "1.0.0",
      "model_name": "OutputModel",
      "state": {
       "layout": "IPY_MODEL_4c6c260d39754511b16c5aac4a552c00",
       "outputs": [
        {
         "data": {
          "text/plain": "'UK funds research into weapons that decide who they kill – report'"
         },
         "metadata": {},
         "output_type": "display_data"
        }
       ]
      }
     },
     "d4a25cb1d98041b49cebca34c6acf68d": {
      "model_module": "@jupyter-widgets/controls",
      "model_module_version": "1.5.0",
      "model_name": "TextModel",
      "state": {
       "description": "Other:",
       "layout": "IPY_MODEL_33e04715980840a68267ffa6b97725b7",
       "placeholder": "Hit enter to submit.",
       "style": "IPY_MODEL_85ce4e23714a4644815e6257d448c5f5"
      }
     },
     "d81e4ea875fa4b4ebdb5a11747a575ff": {
      "model_module": "@jupyter-widgets/base",
      "model_module_version": "1.2.0",
      "model_name": "LayoutModel",
      "state": {}
     },
     "d876199e1a0448dfb6f18ac40c3e6c95": {
      "model_module": "@jupyter-widgets/base",
      "model_module_version": "1.2.0",
      "model_name": "LayoutModel",
      "state": {}
     },
     "d97733f047f34d19aab271008ce90483": {
      "model_module": "@jupyter-widgets/output",
      "model_module_version": "1.0.0",
      "model_name": "OutputModel",
      "state": {
       "layout": "IPY_MODEL_aedf948696cf419987cd222de27ec884"
      }
     },
     "d9a0a6c661c444148a96206a1326f22f": {
      "model_module": "@jupyter-widgets/base",
      "model_module_version": "1.2.0",
      "model_name": "LayoutModel",
      "state": {}
     },
     "d9a72a2cef73465cb3946d66e5d1211c": {
      "model_module": "@jupyter-widgets/base",
      "model_module_version": "1.2.0",
      "model_name": "LayoutModel",
      "state": {}
     },
     "d9b24fc71da04e5397c8bd6cbec47978": {
      "model_module": "@jupyter-widgets/base",
      "model_module_version": "1.2.0",
      "model_name": "LayoutModel",
      "state": {
       "width": "50%"
      }
     },
     "daa54c0ed93b4227a16dfd97634b5dab": {
      "model_module": "@jupyter-widgets/base",
      "model_module_version": "1.2.0",
      "model_name": "LayoutModel",
      "state": {}
     },
     "db9c799a2fb146c2b330628288a1812f": {
      "model_module": "@jupyter-widgets/output",
      "model_module_version": "1.0.0",
      "model_name": "OutputModel",
      "state": {
       "layout": "IPY_MODEL_76243398f3fc4cfead4d145d16119008",
       "outputs": [
        {
         "data": {
          "text/markdown": "# Priti Patel defends inclusion of group on terror list",
          "text/plain": "<IPython.core.display.Markdown object>"
         },
         "metadata": {},
         "output_type": "display_data"
        }
       ]
      }
     },
     "dbd153f0889d4680b97a1d86f2415168": {
      "model_module": "@jupyter-widgets/controls",
      "model_module_version": "1.5.0",
      "model_name": "HBoxModel",
      "state": {
       "children": [
        "IPY_MODEL_07692ce85f60424094ed81d22f98b7e5"
       ],
       "layout": "IPY_MODEL_99e5c22906ed4b8ea71a8a2ff0e77820"
      }
     },
     "dcee1153519d42e69bf2632b6021efbc": {
      "model_module": "@jupyter-widgets/controls",
      "model_module_version": "1.5.0",
      "model_name": "ButtonStyleModel",
      "state": {}
     },
     "dd0d3b5870ab494ca5eb941e68efea46": {
      "model_module": "@jupyter-widgets/base",
      "model_module_version": "1.2.0",
      "model_name": "LayoutModel",
      "state": {
       "justify_content": "space-between"
      }
     },
     "dea5b307e1ca4fc2b9e3df7d95071f29": {
      "model_module": "@jupyter-widgets/base",
      "model_module_version": "1.2.0",
      "model_name": "LayoutModel",
      "state": {}
     },
     "deb3b710dac24caebdd45c03f8f8c2f2": {
      "model_module": "@jupyter-widgets/controls",
      "model_module_version": "1.5.0",
      "model_name": "ButtonStyleModel",
      "state": {}
     },
     "dfcee9a5270049339d97ab0dda7850ff": {
      "model_module": "@jupyter-widgets/controls",
      "model_module_version": "1.5.0",
      "model_name": "VBoxModel",
      "state": {
       "children": [
        "IPY_MODEL_f2604b63dfca4bf1875dbde7c5ebddc1",
        "IPY_MODEL_8bb705aa51ba47b5988813d837c6ab24"
       ],
       "layout": "IPY_MODEL_d9b24fc71da04e5397c8bd6cbec47978"
      }
     },
     "e0a9a499a5c3436cbf88b907c1186b62": {
      "model_module": "@jupyter-widgets/controls",
      "model_module_version": "1.5.0",
      "model_name": "ButtonModel",
      "state": {
       "description": "not professional",
       "layout": "IPY_MODEL_f1f217b51f4b40248f4f7cc923a41352",
       "style": "IPY_MODEL_26c92f2d789548b5a94872f40d26ac73"
      }
     },
     "e0d897c024744db5a5e97f0faaf7745f": {
      "model_module": "@jupyter-widgets/controls",
      "model_module_version": "1.5.0",
      "model_name": "BoxModel",
      "state": {
       "children": [
        "IPY_MODEL_db9c799a2fb146c2b330628288a1812f"
       ],
       "layout": "IPY_MODEL_38295a2c62bf42ea8292137c646433b5"
      }
     },
     "e100d086cd88498c98a20a60f84c6a14": {
      "model_module": "@jupyter-widgets/output",
      "model_module_version": "1.0.0",
      "model_name": "OutputModel",
      "state": {
       "layout": "IPY_MODEL_f3513988a3c14d1cafa2a8b60522777f"
      }
     },
     "e139b96146284f6b884bace1cf50ace3": {
      "model_module": "@jupyter-widgets/base",
      "model_module_version": "1.2.0",
      "model_name": "LayoutModel",
      "state": {
       "height": "2.5%"
      }
     },
     "e1d52881e0a74128a43bb3190432b04c": {
      "model_module": "@jupyter-widgets/base",
      "model_module_version": "1.2.0",
      "model_name": "LayoutModel",
      "state": {
       "display": "flex",
       "justify_content": "center",
       "padding": "2.5% 0",
       "width": "100%"
      }
     },
     "e286d00e4a474b3caacef890a69583cf": {
      "model_module": "@jupyter-widgets/controls",
      "model_module_version": "1.5.0",
      "model_name": "ButtonModel",
      "state": {
       "description": "not professional",
       "layout": "IPY_MODEL_ed40cd31957144ae8753963727f7fb9c",
       "style": "IPY_MODEL_bb7bfba7f23d40448fa961f138a5c74e"
      }
     },
     "e2e4c38553f5427eb54fc3b6fab51384": {
      "model_module": "@jupyter-widgets/controls",
      "model_module_version": "1.5.0",
      "model_name": "VBoxModel",
      "state": {
       "children": [
        "IPY_MODEL_51bbe1afd18f4b548bb8d6f13f85c06a",
        "IPY_MODEL_1cb8303dff4c4356971a0eb29e172c5f"
       ],
       "layout": "IPY_MODEL_ffd7dd8918f54bb19c30aacd3fad1617"
      }
     },
     "e3ce5413145e4206b2387bb846fc9d07": {
      "model_module": "@jupyter-widgets/base",
      "model_module_version": "1.2.0",
      "model_name": "LayoutModel",
      "state": {
       "justify_content": "space-between"
      }
     },
     "e52c4ffe89d94eb9acfebe0d724e4fa3": {
      "model_module": "@jupyter-widgets/base",
      "model_module_version": "1.2.0",
      "model_name": "LayoutModel",
      "state": {
       "width": "95%"
      }
     },
     "e649cf73b5954e5f8a152d2062b80940": {
      "model_module": "@jupyter-widgets/controls",
      "model_module_version": "1.5.0",
      "model_name": "ButtonModel",
      "state": {
       "description": "professional",
       "layout": "IPY_MODEL_4714d15416284a878704df2705e31921",
       "style": "IPY_MODEL_92885957710942498e116e8210c0c675"
      }
     },
     "e6adaf7f505f460eb7f1c73e14069b88": {
      "model_module": "@jupyter-widgets/controls",
      "model_module_version": "1.5.0",
      "model_name": "ButtonModel",
      "state": {
       "description": "Undo",
       "icon": "undo",
       "layout": "IPY_MODEL_4246b3224a54498e8e9f0ec13942875f",
       "style": "IPY_MODEL_f0b0f0226e7b434ab99914ea0ee7a864"
      }
     },
     "e71f25d5589c475d8b6b8a5211c9bace": {
      "model_module": "@jupyter-widgets/controls",
      "model_module_version": "1.5.0",
      "model_name": "HBoxModel",
      "state": {
       "children": [
        "IPY_MODEL_a6a34628ed7a47e49644121e8aea0593",
        "IPY_MODEL_6d2f4e1da821492c916dd2094862886b"
       ],
       "layout": "IPY_MODEL_f5163c5bd9924b80bf350ae75f63588c"
      }
     },
     "e82ad31dd1b4438fa8761f2ced532a6f": {
      "model_module": "@jupyter-widgets/base",
      "model_module_version": "1.2.0",
      "model_name": "LayoutModel",
      "state": {
       "width": "50%"
      }
     },
     "e8a25f6d9f354406bd1340dd1ba0498f": {
      "model_module": "@jupyter-widgets/controls",
      "model_module_version": "1.5.0",
      "model_name": "VBoxModel",
      "state": {
       "children": [
        "IPY_MODEL_9fc2b6db0fec4743a905688490e8cda3",
        "IPY_MODEL_25fb2e180c924a229406345ba7ac47ce"
       ],
       "layout": "IPY_MODEL_87a4def3085145198ab808b86894f628"
      }
     },
     "ea2c0195c94b474b83a7293430159c1d": {
      "model_module": "@jupyter-widgets/base",
      "model_module_version": "1.2.0",
      "model_name": "LayoutModel",
      "state": {}
     },
     "ebb2af4294914ac4a462bc5325c97fa3": {
      "model_module": "@jupyter-widgets/controls",
      "model_module_version": "1.5.0",
      "model_name": "ButtonStyleModel",
      "state": {}
     },
     "ed11e47db4bf494682c673c5a552d07e": {
      "model_module": "@jupyter-widgets/controls",
      "model_module_version": "1.5.0",
      "model_name": "HBoxModel",
      "state": {
       "children": [
        "IPY_MODEL_a9cdfabda19447d8b3aa8f0079f5603a",
        "IPY_MODEL_69dbd3f7edad4d7bae4dad35f9007464"
       ],
       "layout": "IPY_MODEL_e3ce5413145e4206b2387bb846fc9d07"
      }
     },
     "ed40cd31957144ae8753963727f7fb9c": {
      "model_module": "@jupyter-widgets/base",
      "model_module_version": "1.2.0",
      "model_name": "LayoutModel",
      "state": {
       "width": "95%"
      }
     },
     "ed97321700a34217a02414324e814b5f": {
      "model_module": "@jupyter-widgets/controls",
      "model_module_version": "1.5.0",
      "model_name": "HBoxModel",
      "state": {
       "children": [
        "IPY_MODEL_9e4936aa3c3f4c56b30509fb36addf60",
        "IPY_MODEL_958e17cc6fbb4fd1a28d9dc046839c9a"
       ],
       "layout": "IPY_MODEL_454aaa0af8024fbb878e1a164d57c9ef"
      }
     },
     "ef090bb5863a4a2eadabe8fd452f241b": {
      "model_module": "@jupyter-widgets/base",
      "model_module_version": "1.2.0",
      "model_name": "LayoutModel",
      "state": {
       "width": "50%"
      }
     },
     "f0ae960a5f614bc5ada3e251c4564d06": {
      "model_module": "@jupyter-widgets/controls",
      "model_module_version": "1.5.0",
      "model_name": "HBoxModel",
      "state": {
       "children": [
        "IPY_MODEL_e8a25f6d9f354406bd1340dd1ba0498f",
        "IPY_MODEL_dfcee9a5270049339d97ab0dda7850ff"
       ],
       "layout": "IPY_MODEL_c97ca43e584944b59b496fc3abd31954"
      }
     },
     "f0b0f0226e7b434ab99914ea0ee7a864": {
      "model_module": "@jupyter-widgets/controls",
      "model_module_version": "1.5.0",
      "model_name": "ButtonStyleModel",
      "state": {}
     },
     "f0d85e79c48e480b8eef69f925841178": {
      "model_module": "@jupyter-widgets/controls",
      "model_module_version": "1.5.0",
      "model_name": "ButtonModel",
      "state": {
       "description": "professional",
       "layout": "IPY_MODEL_335a2f0bbe4f435db9abd07dd64a94f1",
       "style": "IPY_MODEL_0178c570727d4079833996780837e66e"
      }
     },
     "f16ee26a2fec436aad64fe67977a7d45": {
      "model_module": "@jupyter-widgets/base",
      "model_module_version": "1.2.0",
      "model_name": "LayoutModel",
      "state": {}
     },
     "f181a2a5acde4e718fdea13cf21bff42": {
      "model_module": "@jupyter-widgets/base",
      "model_module_version": "1.2.0",
      "model_name": "LayoutModel",
      "state": {
       "width": "50%"
      }
     },
     "f1f217b51f4b40248f4f7cc923a41352": {
      "model_module": "@jupyter-widgets/base",
      "model_module_version": "1.2.0",
      "model_name": "LayoutModel",
      "state": {
       "width": "95%"
      }
     },
     "f2604b63dfca4bf1875dbde7c5ebddc1": {
      "model_module": "@jupyter-widgets/controls",
      "model_module_version": "1.5.0",
      "model_name": "ButtonModel",
      "state": {
       "description": "not professional",
       "layout": "IPY_MODEL_bcba99a7befd456aa47082d8c98ea667",
       "style": "IPY_MODEL_35184da169f44608bcde484c33413c5f"
      }
     },
     "f3513988a3c14d1cafa2a8b60522777f": {
      "model_module": "@jupyter-widgets/base",
      "model_module_version": "1.2.0",
      "model_name": "LayoutModel",
      "state": {}
     },
     "f3afba77b93e4c40ac2251a9c57aab5b": {
      "model_module": "@jupyter-widgets/controls",
      "model_module_version": "1.5.0",
      "model_name": "HBoxModel",
      "state": {
       "children": [
        "IPY_MODEL_0ae60bc44c9b44debc6e01d2d1c8532b",
        "IPY_MODEL_6d7914dacee04ff4b04a898c25a05ad8"
       ],
       "layout": "IPY_MODEL_6244c237e2784a00bbc0e8f9e4f153af"
      }
     },
     "f5163c5bd9924b80bf350ae75f63588c": {
      "model_module": "@jupyter-widgets/base",
      "model_module_version": "1.2.0",
      "model_name": "LayoutModel",
      "state": {}
     },
     "f71328de4b7140c4a05ae5305dfb8be1": {
      "model_module": "@jupyter-widgets/base",
      "model_module_version": "1.2.0",
      "model_name": "LayoutModel",
      "state": {}
     },
     "f8a0657256564cedad3f41e05ba53e69": {
      "model_module": "@jupyter-widgets/controls",
      "model_module_version": "1.5.0",
      "model_name": "BoxModel",
      "state": {
       "children": [
        "IPY_MODEL_90bd83bb11d44794818bfa9ed2f506a8"
       ],
       "layout": "IPY_MODEL_8864159d24ee4c3fa46c32b93dbe3948"
      }
     },
     "f902c16cf5bf47cab9d732b858894b03": {
      "model_module": "@jupyter-widgets/base",
      "model_module_version": "1.2.0",
      "model_name": "LayoutModel",
      "state": {}
     },
     "fa2549f2ef9c4663862f0fcf2012eddf": {
      "model_module": "@jupyter-widgets/base",
      "model_module_version": "1.2.0",
      "model_name": "LayoutModel",
      "state": {}
     },
     "faea384b7e1e4980968df335214626b3": {
      "model_module": "@jupyter-widgets/base",
      "model_module_version": "1.2.0",
      "model_name": "LayoutModel",
      "state": {
       "width": "95%"
      }
     },
     "fb57a232b3524495a9b4a5942dcc1aac": {
      "model_module": "@jupyter-widgets/base",
      "model_module_version": "1.2.0",
      "model_name": "LayoutModel",
      "state": {}
     },
     "fbe6d255b3e346d3bb98b0a83deda179": {
      "model_module": "@jupyter-widgets/base",
      "model_module_version": "1.2.0",
      "model_name": "LayoutModel",
      "state": {
       "width": "50%"
      }
     },
     "fe01b315078f44078b6106289e2fe329": {
      "model_module": "@jupyter-widgets/base",
      "model_module_version": "1.2.0",
      "model_name": "LayoutModel",
      "state": {
       "justify_content": "space-between"
      }
     },
     "fef97e40a76c428887190d70b7bc1c49": {
      "model_module": "@jupyter-widgets/base",
      "model_module_version": "1.2.0",
      "model_name": "LayoutModel",
      "state": {}
     },
     "ffb5fb3a03db4c9faad7394aa7980d13": {
      "model_module": "@jupyter-widgets/base",
      "model_module_version": "1.2.0",
      "model_name": "LayoutModel",
      "state": {}
     },
     "ffd74f89297543ad999028f5bc3c30e8": {
      "model_module": "@jupyter-widgets/base",
      "model_module_version": "1.2.0",
      "model_name": "LayoutModel",
      "state": {
       "width": "50%"
      }
     },
     "ffd7dd8918f54bb19c30aacd3fad1617": {
      "model_module": "@jupyter-widgets/base",
      "model_module_version": "1.2.0",
      "model_name": "LayoutModel",
      "state": {
       "width": "50%"
      }
     },
     "fffde52a6c6e4d1db1c173dda4297dc7": {
      "model_module": "@jupyter-widgets/controls",
      "model_module_version": "1.5.0",
      "model_name": "HBoxModel",
      "state": {
       "children": [
        "IPY_MODEL_a45cbb9bb137444f8c20da6dea73ca93",
        "IPY_MODEL_83478f2000094d78911eca1235c522ca"
       ],
       "layout": "IPY_MODEL_222535e5957a4e8ab84b28781888aded"
      }
     }
    },
    "version_major": 2,
    "version_minor": 0
   }
  }
 },
 "nbformat": 4,
 "nbformat_minor": 2
}
