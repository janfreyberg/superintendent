{
 "cells": [
  {
   "cell_type": "markdown",
   "metadata": {},
   "source": [
    "# Labelling text\n",
    "\n",
    "Let's assume we have a text dataset that contains some labelled sentences and some unlabelled sentences. For example, we could get the headlines for a bunch of UK news websites (the code for this comes from the amazing github project [compare-headlines](https://github.com/isobelweinberg/compare-headlines/blob/master/scrape-headlines.ipynb) by [isobelweinberg](https://github.com/isobelweinberg)):"
   ]
  },
  {
   "cell_type": "code",
   "execution_count": 1,
   "metadata": {},
   "outputs": [],
   "source": [
    "import requests\n",
    "from bs4 import BeautifulSoup\n",
    "import datetime\n",
    "\n",
    "headlines = []\n",
    "labels = []\n",
    "\n",
    "r = requests.get('https://www.theguardian.com/uk').text #get html\n",
    "soup = BeautifulSoup(r, 'html5lib') #run html through beautiful soup\n",
    "headlines += [headline.text for headline in\n",
    "              soup.find_all('span', class_='js-headline-text')][:10]\n",
    "labels += ['guardian'] * (len(headlines) - len(labels))\n",
    "\n",
    "soup = BeautifulSoup(requests.get('http://www.dailymail.co.uk/home/index.html').text, 'html5lib')\n",
    "headlines += [headline.text.replace('\\n', '').replace('\\xa0', '').strip()\n",
    "              for headline in soup.find_all(class_=\"linkro-darkred\")][:10]\n",
    "labels += ['daily mail'] * (len(headlines) - len(labels))\n"
   ]
  },
  {
   "cell_type": "code",
   "execution_count": 2,
   "metadata": {},
   "outputs": [
    {
     "data": {
      "application/vnd.jupyter.widget-view+json": {
       "model_id": "8c4d8f2054ff49fc9a7d0ace78566576",
       "version_major": 2,
       "version_minor": 0
      },
      "text/plain": [
       "VBox(children=(HBox(children=(FloatProgress(value=0.0, description='Progress:', max=1.0),)), Box(children=(Out…"
      ]
     },
     "metadata": {},
     "output_type": "display_data"
    }
   ],
   "source": [
    "from superintendent import SemiSupervisor\n",
    "import pandas as pd\n",
    "from IPython import display\n",
    "\n",
    "labelling_widget = SemiSupervisor(\n",
    "    headlines,\n",
    "    options=['professional', 'not professional'],\n",
    ")\n",
    "\n",
    "labelling_widget\n"
   ]
  }
 ],
 "metadata": {
  "kernelspec": {
   "display_name": "Python 3",
   "language": "python",
   "name": "python3"
  },
  "language_info": {
   "codemirror_mode": {
    "name": "ipython",
    "version": 3
   },
   "file_extension": ".py",
   "mimetype": "text/x-python",
   "name": "python",
   "nbconvert_exporter": "python",
   "pygments_lexer": "ipython3",
   "version": "3.7.3"
  },
  "widgets": {
   "application/vnd.jupyter.widget-state+json": {
    "state": {
     "07e56f7b90104fe28159f279000a698a": {
      "model_module": "@jupyter-widgets/controls",
      "model_module_version": "1.4.0",
      "model_name": "HBoxModel",
      "state": {
       "children": [
        "IPY_MODEL_72fc1eb9c9594adc8def75cb0779be0b",
        "IPY_MODEL_c6457adaabc24aaf9a4486f6513bd081",
        "IPY_MODEL_98ace9ea11e241bda7369233aab50e4f"
       ],
       "layout": "IPY_MODEL_4f36308c31494d579b37edd654f2b349"
      }
     },
     "08db6e8d12e24c69b562f69556ec62c2": {
      "model_module": "@jupyter-widgets/base",
      "model_module_version": "1.1.0",
      "model_name": "LayoutModel",
      "state": {
       "width": "95%"
      }
     },
     "0c9349a784d2499db493cc25e129e35f": {
      "model_module": "@jupyter-widgets/controls",
      "model_module_version": "1.4.0",
      "model_name": "DescriptionStyleModel",
      "state": {
       "description_width": ""
      }
     },
     "0d236f539df141c896f3e51e1be2f93f": {
      "model_module": "@jupyter-widgets/base",
      "model_module_version": "1.1.0",
      "model_name": "LayoutModel",
      "state": {
       "width": "95%"
      }
     },
     "1341b6426f5d48e19a1d609c273de7fe": {
      "model_module": "@jupyter-widgets/base",
      "model_module_version": "1.1.0",
      "model_name": "LayoutModel",
      "state": {}
     },
     "14c4caee3e144004820f46ddc002449b": {
      "model_module": "@jupyter-widgets/base",
      "model_module_version": "1.1.0",
      "model_name": "LayoutModel",
      "state": {
       "display": "flex",
       "justify_content": "center",
       "min_height": "150px",
       "padding": "5% 0",
       "width": "100%"
      }
     },
     "1694b8b16f1e4b128605dbc557a0fdc2": {
      "model_module": "@jupyter-widgets/base",
      "model_module_version": "1.1.0",
      "model_name": "LayoutModel",
      "state": {}
     },
     "25fb2e180c924a229406345ba7ac47ce": {
      "model_module": "@jupyter-widgets/output",
      "model_module_version": "1.0.0",
      "model_name": "OutputModel",
      "state": {
       "layout": "IPY_MODEL_b272219d16e84c1899001b6bff51ce72"
      }
     },
     "32bdc568483b48c893c47b415dd87298": {
      "model_module": "@jupyter-widgets/controls",
      "model_module_version": "1.4.0",
      "model_name": "ButtonModel",
      "state": {
       "description": "professional",
       "layout": "IPY_MODEL_77eb001e06c54e2393f35d7242f66bf8",
       "style": "IPY_MODEL_8b2de8ef918e4426b5695dbabba3f4fa"
      }
     },
     "35184da169f44608bcde484c33413c5f": {
      "model_module": "@jupyter-widgets/controls",
      "model_module_version": "1.4.0",
      "model_name": "ButtonStyleModel",
      "state": {}
     },
     "39fe110d2db34b82b96bb0116043de76": {
      "model_module": "@jupyter-widgets/controls",
      "model_module_version": "1.4.0",
      "model_name": "VBoxModel",
      "state": {
       "children": [
        "IPY_MODEL_f0ae960a5f614bc5ada3e251c4564d06",
        "IPY_MODEL_c48aa12aa0a145e3a48835b410b749c1"
       ],
       "layout": "IPY_MODEL_6210895771154637afd31029416ee36c"
      }
     },
     "3b7e033b954a4aacb86f19263d3e86b8": {
      "model_module": "@jupyter-widgets/controls",
      "model_module_version": "1.4.0",
      "model_name": "ButtonStyleModel",
      "state": {}
     },
     "3baa2d17b15148f6b56054029f32309e": {
      "model_module": "@jupyter-widgets/base",
      "model_module_version": "1.1.0",
      "model_name": "LayoutModel",
      "state": {}
     },
     "3f8e4efc7c1e488987f53f37b1d0fd41": {
      "model_module": "@jupyter-widgets/controls",
      "model_module_version": "1.4.0",
      "model_name": "FloatProgressModel",
      "state": {
       "description": "Progress:",
       "layout": "IPY_MODEL_615305791cb244dc95b901e8a9347f57",
       "max": 1,
       "style": "IPY_MODEL_916765c318e147418581c85dfde3fe64"
      }
     },
     "400efcf66d934c5692955a0ae9d5f5e9": {
      "model_module": "@jupyter-widgets/base",
      "model_module_version": "1.1.0",
      "model_name": "LayoutModel",
      "state": {}
     },
     "4c6c260d39754511b16c5aac4a552c00": {
      "model_module": "@jupyter-widgets/base",
      "model_module_version": "1.1.0",
      "model_name": "LayoutModel",
      "state": {}
     },
     "4f36308c31494d579b37edd654f2b349": {
      "model_module": "@jupyter-widgets/base",
      "model_module_version": "1.1.0",
      "model_name": "LayoutModel",
      "state": {}
     },
     "5159837b90f84fd3a6cb2762b1a240d5": {
      "model_module": "@jupyter-widgets/base",
      "model_module_version": "1.1.0",
      "model_name": "LayoutModel",
      "state": {}
     },
     "5e60b2c37af94e19a3d2a45cb11a4383": {
      "model_module": "@jupyter-widgets/base",
      "model_module_version": "1.1.0",
      "model_name": "LayoutModel",
      "state": {}
     },
     "615305791cb244dc95b901e8a9347f57": {
      "model_module": "@jupyter-widgets/base",
      "model_module_version": "1.1.0",
      "model_name": "LayoutModel",
      "state": {}
     },
     "6210895771154637afd31029416ee36c": {
      "model_module": "@jupyter-widgets/base",
      "model_module_version": "1.1.0",
      "model_name": "LayoutModel",
      "state": {}
     },
     "69dbd3f7edad4d7bae4dad35f9007464": {
      "model_module": "@jupyter-widgets/controls",
      "model_module_version": "1.4.0",
      "model_name": "HBoxModel",
      "state": {
       "children": [
        "IPY_MODEL_72fc1eb9c9594adc8def75cb0779be0b",
        "IPY_MODEL_c6457adaabc24aaf9a4486f6513bd081",
        "IPY_MODEL_98ace9ea11e241bda7369233aab50e4f"
       ],
       "layout": "IPY_MODEL_5e60b2c37af94e19a3d2a45cb11a4383"
      }
     },
     "6af71f360b174d7bb9f2e424cefa586d": {
      "model_module": "@jupyter-widgets/controls",
      "model_module_version": "1.4.0",
      "model_name": "BoxModel",
      "state": {
       "children": [
        "IPY_MODEL_d410b55e0623483abd9b4260c769fd99"
       ],
       "layout": "IPY_MODEL_14c4caee3e144004820f46ddc002449b"
      }
     },
     "6db6ae0bd16d4096bf8d5fc351657ade": {
      "model_module": "@jupyter-widgets/base",
      "model_module_version": "1.1.0",
      "model_name": "LayoutModel",
      "state": {}
     },
     "7153806a402d45888aff6c8815b6df05": {
      "model_module": "@jupyter-widgets/controls",
      "model_module_version": "1.4.0",
      "model_name": "TextModel",
      "state": {
       "description": "Other:",
       "layout": "IPY_MODEL_dea5b307e1ca4fc2b9e3df7d95071f29",
       "placeholder": "Hit enter to submit.",
       "style": "IPY_MODEL_0c9349a784d2499db493cc25e129e35f"
      }
     },
     "72fc1eb9c9594adc8def75cb0779be0b": {
      "model_module": "@jupyter-widgets/controls",
      "model_module_version": "1.4.0",
      "model_name": "ButtonModel",
      "state": {
       "description": "Sort options",
       "icon": "sort",
       "layout": "IPY_MODEL_3baa2d17b15148f6b56054029f32309e",
       "style": "IPY_MODEL_89dc82d4375d4c2cbd5d06663e3d5803"
      }
     },
     "77eb001e06c54e2393f35d7242f66bf8": {
      "model_module": "@jupyter-widgets/base",
      "model_module_version": "1.1.0",
      "model_name": "LayoutModel",
      "state": {
       "width": "95%"
      }
     },
     "7bcdafa558984b19b2d2c2cf5ca56c94": {
      "model_module": "@jupyter-widgets/controls",
      "model_module_version": "1.4.0",
      "model_name": "ButtonModel",
      "state": {
       "description": "not professional",
       "layout": "IPY_MODEL_08db6e8d12e24c69b562f69556ec62c2",
       "style": "IPY_MODEL_b0b442f6bc64457a8964734768e9bc56"
      }
     },
     "8189f5fdf5c943f78540381bfdd8cf32": {
      "model_module": "@jupyter-widgets/controls",
      "model_module_version": "1.4.0",
      "model_name": "DescriptionStyleModel",
      "state": {
       "description_width": ""
      }
     },
     "83c669be136f47e9a39691c4602e0b01": {
      "model_module": "@jupyter-widgets/controls",
      "model_module_version": "1.4.0",
      "model_name": "ButtonStyleModel",
      "state": {}
     },
     "87a4def3085145198ab808b86894f628": {
      "model_module": "@jupyter-widgets/base",
      "model_module_version": "1.1.0",
      "model_name": "LayoutModel",
      "state": {
       "width": "50%"
      }
     },
     "87fd8050d9294a938d67fc3ff988eebe": {
      "model_module": "@jupyter-widgets/base",
      "model_module_version": "1.1.0",
      "model_name": "LayoutModel",
      "state": {}
     },
     "89dc82d4375d4c2cbd5d06663e3d5803": {
      "model_module": "@jupyter-widgets/controls",
      "model_module_version": "1.4.0",
      "model_name": "ButtonStyleModel",
      "state": {}
     },
     "8b2de8ef918e4426b5695dbabba3f4fa": {
      "model_module": "@jupyter-widgets/controls",
      "model_module_version": "1.4.0",
      "model_name": "ButtonStyleModel",
      "state": {}
     },
     "8bb705aa51ba47b5988813d837c6ab24": {
      "model_module": "@jupyter-widgets/output",
      "model_module_version": "1.0.0",
      "model_name": "OutputModel",
      "state": {
       "layout": "IPY_MODEL_6db6ae0bd16d4096bf8d5fc351657ade"
      }
     },
     "8c07cfa727cc442594fab525eb28def9": {
      "model_module": "@jupyter-widgets/controls",
      "model_module_version": "1.4.0",
      "model_name": "HBoxModel",
      "state": {
       "children": [
        "IPY_MODEL_cd3cacc7e4e448b5b44ab2cbea49e7c4",
        "IPY_MODEL_9c651df048914df7a8a682d469be034b"
       ],
       "layout": "IPY_MODEL_5159837b90f84fd3a6cb2762b1a240d5"
      }
     },
     "8c4d8f2054ff49fc9a7d0ace78566576": {
      "model_module": "@jupyter-widgets/controls",
      "model_module_version": "1.4.0",
      "model_name": "VBoxModel",
      "state": {
       "children": [
        "IPY_MODEL_ab05ae384c504418820de3c412612e5c",
        "IPY_MODEL_6af71f360b174d7bb9f2e424cefa586d",
        "IPY_MODEL_39fe110d2db34b82b96bb0116043de76"
       ],
       "layout": "IPY_MODEL_a55bca7863e24b04a05a3d11db063479"
      }
     },
     "916765c318e147418581c85dfde3fe64": {
      "model_module": "@jupyter-widgets/controls",
      "model_module_version": "1.4.0",
      "model_name": "ProgressStyleModel",
      "state": {
       "description_width": ""
      }
     },
     "98ace9ea11e241bda7369233aab50e4f": {
      "model_module": "@jupyter-widgets/controls",
      "model_module_version": "1.4.0",
      "model_name": "ButtonModel",
      "state": {
       "description": "Undo",
       "icon": "undo",
       "layout": "IPY_MODEL_87fd8050d9294a938d67fc3ff988eebe",
       "style": "IPY_MODEL_3b7e033b954a4aacb86f19263d3e86b8"
      }
     },
     "9c651df048914df7a8a682d469be034b": {
      "model_module": "@jupyter-widgets/controls",
      "model_module_version": "1.4.0",
      "model_name": "VBoxModel",
      "state": {
       "children": [
        "IPY_MODEL_7bcdafa558984b19b2d2c2cf5ca56c94",
        "IPY_MODEL_ba9180084d3446f7929b0ab7f5098743"
       ],
       "layout": "IPY_MODEL_ef090bb5863a4a2eadabe8fd452f241b"
      }
     },
     "9fc2b6db0fec4743a905688490e8cda3": {
      "model_module": "@jupyter-widgets/controls",
      "model_module_version": "1.4.0",
      "model_name": "ButtonModel",
      "state": {
       "description": "professional",
       "layout": "IPY_MODEL_0d236f539df141c896f3e51e1be2f93f",
       "style": "IPY_MODEL_83c669be136f47e9a39691c4602e0b01"
      }
     },
     "a131f8a2b35d4f5c9045afaf305beb71": {
      "model_module": "@jupyter-widgets/base",
      "model_module_version": "1.1.0",
      "model_name": "LayoutModel",
      "state": {}
     },
     "a55bca7863e24b04a05a3d11db063479": {
      "model_module": "@jupyter-widgets/base",
      "model_module_version": "1.1.0",
      "model_name": "LayoutModel",
      "state": {}
     },
     "a935f9ee9ded4595a7083f83323d3ef4": {
      "model_module": "@jupyter-widgets/output",
      "model_module_version": "1.0.0",
      "model_name": "OutputModel",
      "state": {
       "layout": "IPY_MODEL_a131f8a2b35d4f5c9045afaf305beb71"
      }
     },
     "a9cdfabda19447d8b3aa8f0079f5603a": {
      "model_module": "@jupyter-widgets/controls",
      "model_module_version": "1.4.0",
      "model_name": "TextModel",
      "state": {
       "description": "Other:",
       "layout": "IPY_MODEL_1694b8b16f1e4b128605dbc557a0fdc2",
       "placeholder": "Hit enter to submit.",
       "style": "IPY_MODEL_8189f5fdf5c943f78540381bfdd8cf32"
      }
     },
     "ab05ae384c504418820de3c412612e5c": {
      "model_module": "@jupyter-widgets/controls",
      "model_module_version": "1.4.0",
      "model_name": "HBoxModel",
      "state": {
       "children": [
        "IPY_MODEL_3f8e4efc7c1e488987f53f37b1d0fd41"
       ],
       "layout": "IPY_MODEL_400efcf66d934c5692955a0ae9d5f5e9"
      }
     },
     "b0b442f6bc64457a8964734768e9bc56": {
      "model_module": "@jupyter-widgets/controls",
      "model_module_version": "1.4.0",
      "model_name": "ButtonStyleModel",
      "state": {}
     },
     "b272219d16e84c1899001b6bff51ce72": {
      "model_module": "@jupyter-widgets/base",
      "model_module_version": "1.1.0",
      "model_name": "LayoutModel",
      "state": {}
     },
     "b7c5fff7bb964562921c01da1efc565f": {
      "model_module": "@jupyter-widgets/base",
      "model_module_version": "1.1.0",
      "model_name": "LayoutModel",
      "state": {
       "justify_content": "space-between"
      }
     },
     "ba9180084d3446f7929b0ab7f5098743": {
      "model_module": "@jupyter-widgets/output",
      "model_module_version": "1.0.0",
      "model_name": "OutputModel",
      "state": {
       "layout": "IPY_MODEL_1341b6426f5d48e19a1d609c273de7fe"
      }
     },
     "bb96cf6a02a74e31887139aa2301b4b0": {
      "model_module": "@jupyter-widgets/base",
      "model_module_version": "1.1.0",
      "model_name": "LayoutModel",
      "state": {}
     },
     "bcba99a7befd456aa47082d8c98ea667": {
      "model_module": "@jupyter-widgets/base",
      "model_module_version": "1.1.0",
      "model_name": "LayoutModel",
      "state": {
       "width": "95%"
      }
     },
     "c48aa12aa0a145e3a48835b410b749c1": {
      "model_module": "@jupyter-widgets/controls",
      "model_module_version": "1.4.0",
      "model_name": "HBoxModel",
      "state": {
       "children": [
        "IPY_MODEL_7153806a402d45888aff6c8815b6df05",
        "IPY_MODEL_07e56f7b90104fe28159f279000a698a"
       ],
       "layout": "IPY_MODEL_b7c5fff7bb964562921c01da1efc565f"
      }
     },
     "c6457adaabc24aaf9a4486f6513bd081": {
      "model_module": "@jupyter-widgets/controls",
      "model_module_version": "1.4.0",
      "model_name": "ButtonModel",
      "state": {
       "description": "Skip",
       "icon": "fast-forward",
       "layout": "IPY_MODEL_bb96cf6a02a74e31887139aa2301b4b0",
       "style": "IPY_MODEL_dcee1153519d42e69bf2632b6021efbc"
      }
     },
     "c97ca43e584944b59b496fc3abd31954": {
      "model_module": "@jupyter-widgets/base",
      "model_module_version": "1.1.0",
      "model_name": "LayoutModel",
      "state": {}
     },
     "cd3cacc7e4e448b5b44ab2cbea49e7c4": {
      "model_module": "@jupyter-widgets/controls",
      "model_module_version": "1.4.0",
      "model_name": "VBoxModel",
      "state": {
       "children": [
        "IPY_MODEL_32bdc568483b48c893c47b415dd87298",
        "IPY_MODEL_a935f9ee9ded4595a7083f83323d3ef4"
       ],
       "layout": "IPY_MODEL_e82ad31dd1b4438fa8761f2ced532a6f"
      }
     },
     "d410b55e0623483abd9b4260c769fd99": {
      "model_module": "@jupyter-widgets/output",
      "model_module_version": "1.0.0",
      "model_name": "OutputModel",
      "state": {
       "layout": "IPY_MODEL_4c6c260d39754511b16c5aac4a552c00",
       "outputs": [
        {
         "data": {
          "text/plain": "'UK funds research into weapons that decide who they kill – report'"
         },
         "metadata": {},
         "output_type": "display_data"
        }
       ]
      }
     },
     "d9b24fc71da04e5397c8bd6cbec47978": {
      "model_module": "@jupyter-widgets/base",
      "model_module_version": "1.1.0",
      "model_name": "LayoutModel",
      "state": {
       "width": "50%"
      }
     },
     "dcee1153519d42e69bf2632b6021efbc": {
      "model_module": "@jupyter-widgets/controls",
      "model_module_version": "1.4.0",
      "model_name": "ButtonStyleModel",
      "state": {}
     },
     "dea5b307e1ca4fc2b9e3df7d95071f29": {
      "model_module": "@jupyter-widgets/base",
      "model_module_version": "1.1.0",
      "model_name": "LayoutModel",
      "state": {}
     },
     "dfcee9a5270049339d97ab0dda7850ff": {
      "model_module": "@jupyter-widgets/controls",
      "model_module_version": "1.4.0",
      "model_name": "VBoxModel",
      "state": {
       "children": [
        "IPY_MODEL_f2604b63dfca4bf1875dbde7c5ebddc1",
        "IPY_MODEL_8bb705aa51ba47b5988813d837c6ab24"
       ],
       "layout": "IPY_MODEL_d9b24fc71da04e5397c8bd6cbec47978"
      }
     },
     "e3ce5413145e4206b2387bb846fc9d07": {
      "model_module": "@jupyter-widgets/base",
      "model_module_version": "1.1.0",
      "model_name": "LayoutModel",
      "state": {
       "justify_content": "space-between"
      }
     },
     "e82ad31dd1b4438fa8761f2ced532a6f": {
      "model_module": "@jupyter-widgets/base",
      "model_module_version": "1.1.0",
      "model_name": "LayoutModel",
      "state": {
       "width": "50%"
      }
     },
     "e8a25f6d9f354406bd1340dd1ba0498f": {
      "model_module": "@jupyter-widgets/controls",
      "model_module_version": "1.4.0",
      "model_name": "VBoxModel",
      "state": {
       "children": [
        "IPY_MODEL_9fc2b6db0fec4743a905688490e8cda3",
        "IPY_MODEL_25fb2e180c924a229406345ba7ac47ce"
       ],
       "layout": "IPY_MODEL_87a4def3085145198ab808b86894f628"
      }
     },
     "ed11e47db4bf494682c673c5a552d07e": {
      "model_module": "@jupyter-widgets/controls",
      "model_module_version": "1.4.0",
      "model_name": "HBoxModel",
      "state": {
       "children": [
        "IPY_MODEL_a9cdfabda19447d8b3aa8f0079f5603a",
        "IPY_MODEL_69dbd3f7edad4d7bae4dad35f9007464"
       ],
       "layout": "IPY_MODEL_e3ce5413145e4206b2387bb846fc9d07"
      }
     },
     "ef090bb5863a4a2eadabe8fd452f241b": {
      "model_module": "@jupyter-widgets/base",
      "model_module_version": "1.1.0",
      "model_name": "LayoutModel",
      "state": {
       "width": "50%"
      }
     },
     "f0ae960a5f614bc5ada3e251c4564d06": {
      "model_module": "@jupyter-widgets/controls",
      "model_module_version": "1.4.0",
      "model_name": "HBoxModel",
      "state": {
       "children": [
        "IPY_MODEL_e8a25f6d9f354406bd1340dd1ba0498f",
        "IPY_MODEL_dfcee9a5270049339d97ab0dda7850ff"
       ],
       "layout": "IPY_MODEL_c97ca43e584944b59b496fc3abd31954"
      }
     },
     "f2604b63dfca4bf1875dbde7c5ebddc1": {
      "model_module": "@jupyter-widgets/controls",
      "model_module_version": "1.4.0",
      "model_name": "ButtonModel",
      "state": {
       "description": "not professional",
       "layout": "IPY_MODEL_bcba99a7befd456aa47082d8c98ea667",
       "style": "IPY_MODEL_35184da169f44608bcde484c33413c5f"
      }
     }
    },
    "version_major": 2,
    "version_minor": 0
   }
  }
 },
 "nbformat": 4,
 "nbformat_minor": 2
}
