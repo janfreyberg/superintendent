{
 "cells": [
  {
   "cell_type": "markdown",
   "metadata": {},
   "source": [
    "# Labelling images with `superintendent`"
   ]
  },
  {
   "cell_type": "markdown",
   "metadata": {},
   "source": [
    "Since labelling images is a frequent use case, there is a special factory\n",
    "method for labelling images that are stored in numpy arrays:"
   ]
  },
  {
   "cell_type": "code",
   "execution_count": 1,
   "metadata": {},
   "outputs": [],
   "source": [
    "from sklearn.datasets import load_digits\n",
    "from superintendent import SemiSupervisor\n",
    "import numpy as np\n",
    "digits = load_digits().data\n"
   ]
  },
  {
   "cell_type": "code",
   "execution_count": 2,
   "metadata": {},
   "outputs": [
    {
     "data": {
      "application/vnd.jupyter.widget-view+json": {
       "model_id": "4b2ae31aa96d49f4b1d2a7139651cab0",
       "version_major": 2,
       "version_minor": 0
      },
      "text/plain": [
       "VBox(children=(HBox(children=(FloatProgress(value=0.0, description='Progress:', max=1.0),)), Box(children=(Out…"
      ]
     },
     "metadata": {},
     "output_type": "display_data"
    }
   ],
   "source": [
    "widget = SemiSupervisor.from_images(digits[:10, :], options=range(10))\n",
    "widget"
   ]
  }
 ],
 "metadata": {
  "kernelspec": {
   "display_name": "Python 3",
   "language": "python",
   "name": "python3"
  },
  "language_info": {
   "codemirror_mode": {
    "name": "ipython",
    "version": 3
   },
   "file_extension": ".py",
   "mimetype": "text/x-python",
   "name": "python",
   "nbconvert_exporter": "python",
   "pygments_lexer": "ipython3",
   "version": "3.7.0"
  },
  "widgets": {
   "application/vnd.jupyter.widget-state+json": {
    "state": {
     "0007ee29e235465b962382b125cffc04": {
      "model_module": "@jupyter-widgets/base",
      "model_module_version": "1.1.0",
      "model_name": "LayoutModel",
      "state": {}
     },
     "00652fe7c270499283c702dcfa85a3d8": {
      "model_module": "@jupyter-widgets/base",
      "model_module_version": "1.1.0",
      "model_name": "LayoutModel",
      "state": {
       "width": "10%"
      }
     },
     "01a3d8737b574bb2966c15a772fa0606": {
      "model_module": "@jupyter-widgets/controls",
      "model_module_version": "1.4.0",
      "model_name": "VBoxModel",
      "state": {
       "children": [
        "IPY_MODEL_d5de3e477af94a1591ae779b09e62d16",
        "IPY_MODEL_f246e0141de6482a83972894399135ce"
       ],
       "layout": "IPY_MODEL_76f9291601104dd7b754433cc679ffef"
      }
     },
     "0262b262f84747638d6a6acad9d78ea0": {
      "model_module": "@jupyter-widgets/base",
      "model_module_version": "1.1.0",
      "model_name": "LayoutModel",
      "state": {}
     },
     "02f871e7351f4b309c82d8e957b083dc": {
      "model_module": "@jupyter-widgets/controls",
      "model_module_version": "1.4.0",
      "model_name": "ButtonModel",
      "state": {
       "description": "1",
       "layout": "IPY_MODEL_f8626c50301f4ac2ac0fa89468eae0ab",
       "style": "IPY_MODEL_4f6cc046cd8b47669d923ee5e77abd74"
      }
     },
     "044332fb875649ca9bcc0d4ace772abe": {
      "model_module": "@jupyter-widgets/base",
      "model_module_version": "1.1.0",
      "model_name": "LayoutModel",
      "state": {
       "width": "95%"
      }
     },
     "05098115711e468bb969e162f2460d86": {
      "model_module": "@jupyter-widgets/output",
      "model_module_version": "1.0.0",
      "model_name": "OutputModel",
      "state": {
       "layout": "IPY_MODEL_5da9a8f3186e45a8b1f204fe6980a87c"
      }
     },
     "0591843917cb4b569428f95df5f27336": {
      "model_module": "@jupyter-widgets/controls",
      "model_module_version": "1.4.0",
      "model_name": "ButtonModel",
      "state": {
       "description": "8",
       "layout": "IPY_MODEL_c34705b67f914fb9bab0ac9540cddc69",
       "style": "IPY_MODEL_b15d208304f74a7abe92961ecbf277c6"
      }
     },
     "06f947ffa92f4fe4ab6482bb3a5522d4": {
      "model_module": "@jupyter-widgets/controls",
      "model_module_version": "1.4.0",
      "model_name": "HBoxModel",
      "state": {
       "children": [
        "IPY_MODEL_21bb109708004c0ab767e782a205b0a1",
        "IPY_MODEL_3610be923d864899987c66bf4b369437"
       ],
       "layout": "IPY_MODEL_ae0d8e6c825440eb95bcb3684564dba8"
      }
     },
     "0b38d4bd9af143f08c2693779569dc36": {
      "model_module": "@jupyter-widgets/controls",
      "model_module_version": "1.4.0",
      "model_name": "ButtonStyleModel",
      "state": {}
     },
     "0d99d68e2d2a427d956b75e45fc8c864": {
      "model_module": "@jupyter-widgets/base",
      "model_module_version": "1.1.0",
      "model_name": "LayoutModel",
      "state": {
       "width": "95%"
      }
     },
     "0f22f58d27e24f528a771a3fedcf77f9": {
      "model_module": "@jupyter-widgets/base",
      "model_module_version": "1.1.0",
      "model_name": "LayoutModel",
      "state": {}
     },
     "0f46a3a5b57c4caca6c8c0b72d29ffe6": {
      "model_module": "@jupyter-widgets/controls",
      "model_module_version": "1.4.0",
      "model_name": "ButtonStyleModel",
      "state": {}
     },
     "0f75ccd9118442c8b74deec18432800e": {
      "model_module": "@jupyter-widgets/controls",
      "model_module_version": "1.4.0",
      "model_name": "HBoxModel",
      "state": {
       "children": [
        "IPY_MODEL_c1d8018b8b1145c2ae93b9450689bce0",
        "IPY_MODEL_dda4e93078f84ae2b818ec71e81094ec"
       ],
       "layout": "IPY_MODEL_392ba1d467444fb784c80f9d3b506cfd"
      }
     },
     "0fd4bec2c17e4582a49568bc6e30a6ea": {
      "model_module": "@jupyter-widgets/base",
      "model_module_version": "1.1.0",
      "model_name": "LayoutModel",
      "state": {}
     },
     "11a9ce4621884e6ebaa8b11cb020cc36": {
      "model_module": "@jupyter-widgets/output",
      "model_module_version": "1.0.0",
      "model_name": "OutputModel",
      "state": {
       "layout": "IPY_MODEL_54bb609619cf41a5b8572f9a64bce56f"
      }
     },
     "11c8dd2384aa4d83867144854fa4b801": {
      "model_module": "@jupyter-widgets/base",
      "model_module_version": "1.1.0",
      "model_name": "LayoutModel",
      "state": {}
     },
     "12e56ca0720446fcb44fcb75ce3819fb": {
      "model_module": "@jupyter-widgets/controls",
      "model_module_version": "1.4.0",
      "model_name": "ButtonStyleModel",
      "state": {}
     },
     "1500528260c640efa5122f65a400b5ec": {
      "model_module": "@jupyter-widgets/output",
      "model_module_version": "1.0.0",
      "model_name": "OutputModel",
      "state": {
       "layout": "IPY_MODEL_8348610433574bca9767588cfb014508"
      }
     },
     "17bd8573160345028e19e76c27e40234": {
      "model_module": "@jupyter-widgets/base",
      "model_module_version": "1.1.0",
      "model_name": "LayoutModel",
      "state": {}
     },
     "1a6086d33790463c88fad7da2a0373ed": {
      "model_module": "@jupyter-widgets/controls",
      "model_module_version": "1.4.0",
      "model_name": "ButtonModel",
      "state": {
       "description": "5",
       "layout": "IPY_MODEL_1c57826483dd42ddab91fca51c562cac",
       "style": "IPY_MODEL_c1b93bd9fad0456fb50d86106d797a05"
      }
     },
     "1c57826483dd42ddab91fca51c562cac": {
      "model_module": "@jupyter-widgets/base",
      "model_module_version": "1.1.0",
      "model_name": "LayoutModel",
      "state": {
       "width": "95%"
      }
     },
     "1dcdff9ca1204891916c39c2a839c47c": {
      "model_module": "@jupyter-widgets/base",
      "model_module_version": "1.1.0",
      "model_name": "LayoutModel",
      "state": {
       "width": "10%"
      }
     },
     "1fcd2f9a359f4e21b814087acc6ed155": {
      "model_module": "@jupyter-widgets/base",
      "model_module_version": "1.1.0",
      "model_name": "LayoutModel",
      "state": {}
     },
     "2154af06c78e45bfaf7e5c62f12861db": {
      "model_module": "@jupyter-widgets/base",
      "model_module_version": "1.1.0",
      "model_name": "LayoutModel",
      "state": {}
     },
     "21708ea392674eeca5c96f259fd337f4": {
      "model_module": "@jupyter-widgets/controls",
      "model_module_version": "1.4.0",
      "model_name": "VBoxModel",
      "state": {
       "children": [
        "IPY_MODEL_bec1945e9bb645e6aabe31dd13a59d47",
        "IPY_MODEL_a086d4b4d0884ab99ac43e3454bb2e1a"
       ],
       "layout": "IPY_MODEL_775d9d345aff4293b3543aacefd8fcfe"
      }
     },
     "21bb109708004c0ab767e782a205b0a1": {
      "model_module": "@jupyter-widgets/controls",
      "model_module_version": "1.4.0",
      "model_name": "TextModel",
      "state": {
       "description": "Other:",
       "layout": "IPY_MODEL_a9d3215e725f4eeb872ff6e5c079fe2d",
       "placeholder": "Hit enter to submit.",
       "style": "IPY_MODEL_d0ca7c1150c14caa98b329b1663d96ef"
      }
     },
     "2698990d87c24a28ac148aca00b7d5a5": {
      "model_module": "@jupyter-widgets/base",
      "model_module_version": "1.1.0",
      "model_name": "LayoutModel",
      "state": {}
     },
     "2714ebd91d8c458b8bb91af4118a6187": {
      "model_module": "@jupyter-widgets/output",
      "model_module_version": "1.0.0",
      "model_name": "OutputModel",
      "state": {
       "layout": "IPY_MODEL_f244eacabf974070a6f753bf17d89046"
      }
     },
     "288c58684b4447538425256c16b9bd25": {
      "model_module": "@jupyter-widgets/base",
      "model_module_version": "1.1.0",
      "model_name": "LayoutModel",
      "state": {
       "width": "95%"
      }
     },
     "299eae9e549845dc8271ef7a0f0d7034": {
      "model_module": "@jupyter-widgets/controls",
      "model_module_version": "1.4.0",
      "model_name": "VBoxModel",
      "state": {
       "children": [
        "IPY_MODEL_e87551479ba94584968da313df822605",
        "IPY_MODEL_11a9ce4621884e6ebaa8b11cb020cc36"
       ],
       "layout": "IPY_MODEL_cb5c12f7facf417685094301caed9146"
      }
     },
     "2ba43e2b8131486d921b4fb5556b8b12": {
      "model_module": "@jupyter-widgets/controls",
      "model_module_version": "1.4.0",
      "model_name": "VBoxModel",
      "state": {
       "children": [
        "IPY_MODEL_b50799b90c2c49e0b18aa48fb26dbce1",
        "IPY_MODEL_4c00a3eefa764f7d9b4b6b734c354a8a"
       ],
       "layout": "IPY_MODEL_8560110c881e45cc9c0de77ad6f82d48"
      }
     },
     "2d63750b4c9f4b4284655cc946bf9340": {
      "model_module": "@jupyter-widgets/base",
      "model_module_version": "1.1.0",
      "model_name": "LayoutModel",
      "state": {
       "width": "95%"
      }
     },
     "2dc5a12bbc964968ba494d1493c39db7": {
      "model_module": "@jupyter-widgets/controls",
      "model_module_version": "1.4.0",
      "model_name": "VBoxModel",
      "state": {
       "children": [
        "IPY_MODEL_528bc82830c9459db2171bdc83671445",
        "IPY_MODEL_0f75ccd9118442c8b74deec18432800e"
       ],
       "layout": "IPY_MODEL_c2b04392544a4938bd18b989f9b0a86f"
      }
     },
     "2e68e5cb4d1d43cc8f2ca88f34e18b38": {
      "model_module": "@jupyter-widgets/controls",
      "model_module_version": "1.4.0",
      "model_name": "ButtonStyleModel",
      "state": {}
     },
     "2e7cc4c67e174a4dbc85036cbe028e7e": {
      "model_module": "@jupyter-widgets/base",
      "model_module_version": "1.1.0",
      "model_name": "LayoutModel",
      "state": {}
     },
     "2f293c78f90d465cbfb0376b0a9a7fe0": {
      "model_module": "@jupyter-widgets/controls",
      "model_module_version": "1.4.0",
      "model_name": "ButtonModel",
      "state": {
       "description": "3",
       "layout": "IPY_MODEL_288c58684b4447538425256c16b9bd25",
       "style": "IPY_MODEL_8c9967c94c4b49018d5d1ba9a4684aa5"
      }
     },
     "346c8fab7f844dcca0210e0884c7e6a4": {
      "model_module": "@jupyter-widgets/base",
      "model_module_version": "1.1.0",
      "model_name": "LayoutModel",
      "state": {}
     },
     "34cb544b74f442d2a61171a37f0c4c4f": {
      "model_module": "@jupyter-widgets/controls",
      "model_module_version": "1.4.0",
      "model_name": "ButtonModel",
      "state": {
       "description": "8",
       "layout": "IPY_MODEL_b747b9b3b1304413b9b5a92a49960776",
       "style": "IPY_MODEL_442350921f1944e6a8f6386dea50193b"
      }
     },
     "34d97b513d564f67ad7c0dc5b5f28558": {
      "model_module": "@jupyter-widgets/base",
      "model_module_version": "1.1.0",
      "model_name": "LayoutModel",
      "state": {
       "width": "10%"
      }
     },
     "3610be923d864899987c66bf4b369437": {
      "model_module": "@jupyter-widgets/controls",
      "model_module_version": "1.4.0",
      "model_name": "HBoxModel",
      "state": {
       "children": [
        "IPY_MODEL_606b2ab379524f0f9dd7ad119b9eda97",
        "IPY_MODEL_369da37e0e5d4d3093005193921520a4",
        "IPY_MODEL_c094f9eda1aa4a1c8fc45247932bdf1c"
       ],
       "layout": "IPY_MODEL_dd2dbe2da6b44a0c96ac118abb8ff328"
      }
     },
     "369da37e0e5d4d3093005193921520a4": {
      "model_module": "@jupyter-widgets/controls",
      "model_module_version": "1.4.0",
      "model_name": "ButtonModel",
      "state": {
       "description": "Skip",
       "icon": "fast-forward",
       "layout": "IPY_MODEL_1fcd2f9a359f4e21b814087acc6ed155",
       "style": "IPY_MODEL_62fbe78d46624f4c8c5404c3a157e73a"
      }
     },
     "3763721a04ce4a42b2f04ee5ef16c3a4": {
      "model_module": "@jupyter-widgets/output",
      "model_module_version": "1.0.0",
      "model_name": "OutputModel",
      "state": {
       "layout": "IPY_MODEL_a058d365f80140748564f3fd98ae2b90"
      }
     },
     "392ba1d467444fb784c80f9d3b506cfd": {
      "model_module": "@jupyter-widgets/base",
      "model_module_version": "1.1.0",
      "model_name": "LayoutModel",
      "state": {
       "justify_content": "space-between"
      }
     },
     "3b0b09262cd945d786819ee8e17aa8d5": {
      "model_module": "@jupyter-widgets/base",
      "model_module_version": "1.1.0",
      "model_name": "LayoutModel",
      "state": {
       "width": "95%"
      }
     },
     "3b5090fc762347b9a2df403fe97b5e81": {
      "model_module": "@jupyter-widgets/base",
      "model_module_version": "1.1.0",
      "model_name": "LayoutModel",
      "state": {}
     },
     "3bdcd091b1dc45dab38d749999a7e8de": {
      "model_module": "@jupyter-widgets/controls",
      "model_module_version": "1.4.0",
      "model_name": "BoxModel",
      "state": {
       "children": [
        "IPY_MODEL_7a57cd5030d24d2e94d6c0606460e2de"
       ],
       "layout": "IPY_MODEL_bcb62709b9a4411ebeea4ec150a7fa92"
      }
     },
     "3dce0249a3c24f4a91666937e8546e4a": {
      "model_module": "@jupyter-widgets/controls",
      "model_module_version": "1.4.0",
      "model_name": "VBoxModel",
      "state": {
       "children": [
        "IPY_MODEL_e62356c336524b27a2430fbc43329f7f",
        "IPY_MODEL_2714ebd91d8c458b8bb91af4118a6187"
       ],
       "layout": "IPY_MODEL_00652fe7c270499283c702dcfa85a3d8"
      }
     },
     "3e715de5b1d84c72bd5f6dce1106eea9": {
      "model_module": "@jupyter-widgets/controls",
      "model_module_version": "1.4.0",
      "model_name": "ButtonModel",
      "state": {
       "description": "0",
       "layout": "IPY_MODEL_b2fc326627cb456cbed6fcce1890678a",
       "style": "IPY_MODEL_4def4d187226486cb9259adc949b5fba"
      }
     },
     "407d18df05c84d30ba60de72efbceacf": {
      "model_module": "@jupyter-widgets/controls",
      "model_module_version": "1.4.0",
      "model_name": "DescriptionStyleModel",
      "state": {
       "description_width": ""
      }
     },
     "442350921f1944e6a8f6386dea50193b": {
      "model_module": "@jupyter-widgets/controls",
      "model_module_version": "1.4.0",
      "model_name": "ButtonStyleModel",
      "state": {}
     },
     "463a45760cd54e9b942de158c3dd8a71": {
      "model_module": "@jupyter-widgets/base",
      "model_module_version": "1.1.0",
      "model_name": "LayoutModel",
      "state": {
       "width": "10%"
      }
     },
     "464cbe4f552f4b87810ccc19a814915b": {
      "model_module": "@jupyter-widgets/base",
      "model_module_version": "1.1.0",
      "model_name": "LayoutModel",
      "state": {
       "width": "10%"
      }
     },
     "471cc4bedcab4c0e8a22f5c7b145a0dd": {
      "model_module": "@jupyter-widgets/controls",
      "model_module_version": "1.4.0",
      "model_name": "VBoxModel",
      "state": {
       "children": [
        "IPY_MODEL_758ea1f1757a499c9fce4ab3f6625c56",
        "IPY_MODEL_e00d683160854adb9a21f1e5358806b9"
       ],
       "layout": "IPY_MODEL_1dcdff9ca1204891916c39c2a839c47c"
      }
     },
     "4b2ae31aa96d49f4b1d2a7139651cab0": {
      "model_module": "@jupyter-widgets/controls",
      "model_module_version": "1.4.0",
      "model_name": "VBoxModel",
      "state": {
       "children": [
        "IPY_MODEL_93e36addb37643ce9841944a811d14b5",
        "IPY_MODEL_3bdcd091b1dc45dab38d749999a7e8de",
        "IPY_MODEL_2dc5a12bbc964968ba494d1493c39db7"
       ],
       "layout": "IPY_MODEL_54a41f4af2f944ba9b1d3f9eca41fdb8"
      }
     },
     "4c00a3eefa764f7d9b4b6b734c354a8a": {
      "model_module": "@jupyter-widgets/output",
      "model_module_version": "1.0.0",
      "model_name": "OutputModel",
      "state": {
       "layout": "IPY_MODEL_0262b262f84747638d6a6acad9d78ea0"
      }
     },
     "4c22bb54d23240a0bda1ee79c3a705b7": {
      "model_module": "@jupyter-widgets/output",
      "model_module_version": "1.0.0",
      "model_name": "OutputModel",
      "state": {
       "layout": "IPY_MODEL_3b5090fc762347b9a2df403fe97b5e81"
      }
     },
     "4dcf4d92095c407abcce8580a8430dcc": {
      "model_module": "@jupyter-widgets/base",
      "model_module_version": "1.1.0",
      "model_name": "LayoutModel",
      "state": {
       "width": "95%"
      }
     },
     "4def4d187226486cb9259adc949b5fba": {
      "model_module": "@jupyter-widgets/controls",
      "model_module_version": "1.4.0",
      "model_name": "ButtonStyleModel",
      "state": {}
     },
     "4dfb8b6fad2e4cfb92ef72cb0480a303": {
      "model_module": "@jupyter-widgets/controls",
      "model_module_version": "1.4.0",
      "model_name": "VBoxModel",
      "state": {
       "children": [
        "IPY_MODEL_02f871e7351f4b309c82d8e957b083dc",
        "IPY_MODEL_f9d31381219f41d3882487854a9b1011"
       ],
       "layout": "IPY_MODEL_57bf11d7f96c48d7ba6d226a2c65392e"
      }
     },
     "4f6cc046cd8b47669d923ee5e77abd74": {
      "model_module": "@jupyter-widgets/controls",
      "model_module_version": "1.4.0",
      "model_name": "ButtonStyleModel",
      "state": {}
     },
     "525b9e07f5184517a15505fc62f9bfa2": {
      "model_module": "@jupyter-widgets/base",
      "model_module_version": "1.1.0",
      "model_name": "LayoutModel",
      "state": {
       "width": "10%"
      }
     },
     "528bc82830c9459db2171bdc83671445": {
      "model_module": "@jupyter-widgets/controls",
      "model_module_version": "1.4.0",
      "model_name": "HBoxModel",
      "state": {
       "children": [
        "IPY_MODEL_fbb91c7acd8e47979dd7f2dec1dabac6",
        "IPY_MODEL_4dfb8b6fad2e4cfb92ef72cb0480a303",
        "IPY_MODEL_69fa692c474c41bdabaa490b616e2f23",
        "IPY_MODEL_847379b9e2e8467496412d47a3d4bf6f",
        "IPY_MODEL_80d7922ddb064ed4a5bb4fdd5d252ee0",
        "IPY_MODEL_cb41ee3f0064408aaacdcf70d16aa8b6",
        "IPY_MODEL_21708ea392674eeca5c96f259fd337f4",
        "IPY_MODEL_b15dad3e02c7461fae566af8cf88ea39",
        "IPY_MODEL_60554ca386a647898ded545addb2bca0",
        "IPY_MODEL_471cc4bedcab4c0e8a22f5c7b145a0dd"
       ],
       "layout": "IPY_MODEL_0f22f58d27e24f528a771a3fedcf77f9"
      }
     },
     "54a41f4af2f944ba9b1d3f9eca41fdb8": {
      "model_module": "@jupyter-widgets/base",
      "model_module_version": "1.1.0",
      "model_name": "LayoutModel",
      "state": {}
     },
     "54bb609619cf41a5b8572f9a64bce56f": {
      "model_module": "@jupyter-widgets/base",
      "model_module_version": "1.1.0",
      "model_name": "LayoutModel",
      "state": {}
     },
     "57bf11d7f96c48d7ba6d226a2c65392e": {
      "model_module": "@jupyter-widgets/base",
      "model_module_version": "1.1.0",
      "model_name": "LayoutModel",
      "state": {
       "width": "10%"
      }
     },
     "5a144fb3794c47398a2d099ecf4930e1": {
      "model_module": "@jupyter-widgets/controls",
      "model_module_version": "1.4.0",
      "model_name": "VBoxModel",
      "state": {
       "children": [
        "IPY_MODEL_0591843917cb4b569428f95df5f27336",
        "IPY_MODEL_81b5c30564f14b548514fe4afa1b726f"
       ],
       "layout": "IPY_MODEL_f4b733df81f64f88be5343dfdea79a14"
      }
     },
     "5c19461f09a341e3ac167b45a85b0c2d": {
      "model_module": "@jupyter-widgets/output",
      "model_module_version": "1.0.0",
      "model_name": "OutputModel",
      "state": {
       "layout": "IPY_MODEL_67d4840214784daea7cda56762232bd6"
      }
     },
     "5c7202d8c92a4ee4bdd2fc547d482edd": {
      "model_module": "@jupyter-widgets/base",
      "model_module_version": "1.1.0",
      "model_name": "LayoutModel",
      "state": {}
     },
     "5da9a8f3186e45a8b1f204fe6980a87c": {
      "model_module": "@jupyter-widgets/base",
      "model_module_version": "1.1.0",
      "model_name": "LayoutModel",
      "state": {}
     },
     "5e31622d03174c0e9886eccf484f7c15": {
      "model_module": "@jupyter-widgets/controls",
      "model_module_version": "1.4.0",
      "model_name": "ButtonStyleModel",
      "state": {}
     },
     "5ea72a73586b47b8bd5e49d924995cf7": {
      "model_module": "@jupyter-widgets/controls",
      "model_module_version": "1.4.0",
      "model_name": "ButtonStyleModel",
      "state": {}
     },
     "5f5edfb5df334d0daa6f02df9113c46b": {
      "model_module": "@jupyter-widgets/output",
      "model_module_version": "1.0.0",
      "model_name": "OutputModel",
      "state": {
       "layout": "IPY_MODEL_0fd4bec2c17e4582a49568bc6e30a6ea"
      }
     },
     "6040e3d5d492488e879ff50fb3e6ebec": {
      "model_module": "@jupyter-widgets/controls",
      "model_module_version": "1.4.0",
      "model_name": "VBoxModel",
      "state": {
       "children": [
        "IPY_MODEL_752ffd902fad41ee81702bdb0f93e5af",
        "IPY_MODEL_d8e52062f22a440b8f79b23abf40aa85"
       ],
       "layout": "IPY_MODEL_fbaea4c548a14ee6bb2cdfdeb79fbbab"
      }
     },
     "60554ca386a647898ded545addb2bca0": {
      "model_module": "@jupyter-widgets/controls",
      "model_module_version": "1.4.0",
      "model_name": "VBoxModel",
      "state": {
       "children": [
        "IPY_MODEL_34cb544b74f442d2a61171a37f0c4c4f",
        "IPY_MODEL_5f5edfb5df334d0daa6f02df9113c46b"
       ],
       "layout": "IPY_MODEL_db2a91d307c34759b2a74fa5dd015bb2"
      }
     },
     "606b2ab379524f0f9dd7ad119b9eda97": {
      "model_module": "@jupyter-widgets/controls",
      "model_module_version": "1.4.0",
      "model_name": "ButtonModel",
      "state": {
       "description": "Sort options",
       "icon": "sort",
       "layout": "IPY_MODEL_9642b30b417645a88ae8f26ca18fd2fe",
       "style": "IPY_MODEL_b9d4a647e8af4a319c254ec5e8c19a4c"
      }
     },
     "62fbe78d46624f4c8c5404c3a157e73a": {
      "model_module": "@jupyter-widgets/controls",
      "model_module_version": "1.4.0",
      "model_name": "ButtonStyleModel",
      "state": {}
     },
     "64ea972c82884151bfcb133d16c1e70d": {
      "model_module": "@jupyter-widgets/base",
      "model_module_version": "1.1.0",
      "model_name": "LayoutModel",
      "state": {}
     },
     "655fd54c86de4774b07dfcebdee6ffa9": {
      "model_module": "@jupyter-widgets/base",
      "model_module_version": "1.1.0",
      "model_name": "LayoutModel",
      "state": {
       "width": "10%"
      }
     },
     "67d4840214784daea7cda56762232bd6": {
      "model_module": "@jupyter-widgets/base",
      "model_module_version": "1.1.0",
      "model_name": "LayoutModel",
      "state": {}
     },
     "69906273698b4e749481632aeb417b0f": {
      "model_module": "@jupyter-widgets/base",
      "model_module_version": "1.1.0",
      "model_name": "LayoutModel",
      "state": {
       "width": "10%"
      }
     },
     "69fa692c474c41bdabaa490b616e2f23": {
      "model_module": "@jupyter-widgets/controls",
      "model_module_version": "1.4.0",
      "model_name": "VBoxModel",
      "state": {
       "children": [
        "IPY_MODEL_6ac58d57f58b4a218a403ebeba5fbf3e",
        "IPY_MODEL_7d95d198f28c41ecaf6f02caa7bb5953"
       ],
       "layout": "IPY_MODEL_464cbe4f552f4b87810ccc19a814915b"
      }
     },
     "6a2c0d332a4644f8b37fb58d71659363": {
      "model_module": "@jupyter-widgets/controls",
      "model_module_version": "1.4.0",
      "model_name": "VBoxModel",
      "state": {
       "children": [
        "IPY_MODEL_992f5ce158a3469a88373bff92332e3d",
        "IPY_MODEL_05098115711e468bb969e162f2460d86"
       ],
       "layout": "IPY_MODEL_69906273698b4e749481632aeb417b0f"
      }
     },
     "6ac58d57f58b4a218a403ebeba5fbf3e": {
      "model_module": "@jupyter-widgets/controls",
      "model_module_version": "1.4.0",
      "model_name": "ButtonModel",
      "state": {
       "description": "2",
       "layout": "IPY_MODEL_bc4e53c460c74c28a32a95f3ca1f9c22",
       "style": "IPY_MODEL_2e68e5cb4d1d43cc8f2ca88f34e18b38"
      }
     },
     "6f14bd56f4bb46d1b31eb6d94a7b6a4d": {
      "model_module": "@jupyter-widgets/base",
      "model_module_version": "1.1.0",
      "model_name": "LayoutModel",
      "state": {
       "width": "10%"
      }
     },
     "73df05bbc9f3415f9c98e2cc93d8f496": {
      "model_module": "@jupyter-widgets/controls",
      "model_module_version": "1.4.0",
      "model_name": "ButtonStyleModel",
      "state": {}
     },
     "752ffd902fad41ee81702bdb0f93e5af": {
      "model_module": "@jupyter-widgets/controls",
      "model_module_version": "1.4.0",
      "model_name": "ButtonModel",
      "state": {
       "description": "7",
       "layout": "IPY_MODEL_3b0b09262cd945d786819ee8e17aa8d5",
       "style": "IPY_MODEL_762739c86b16421c8c5c5827284a9b80"
      }
     },
     "758ea1f1757a499c9fce4ab3f6625c56": {
      "model_module": "@jupyter-widgets/controls",
      "model_module_version": "1.4.0",
      "model_name": "ButtonModel",
      "state": {
       "description": "9",
       "layout": "IPY_MODEL_e8eef15ba7d34a3096f59d9e498e774d",
       "style": "IPY_MODEL_5e31622d03174c0e9886eccf484f7c15"
      }
     },
     "762739c86b16421c8c5c5827284a9b80": {
      "model_module": "@jupyter-widgets/controls",
      "model_module_version": "1.4.0",
      "model_name": "ButtonStyleModel",
      "state": {}
     },
     "7656420c87744591ac22a223595bfd95": {
      "model_module": "@jupyter-widgets/base",
      "model_module_version": "1.1.0",
      "model_name": "LayoutModel",
      "state": {
       "width": "10%"
      }
     },
     "76de3367a67a4253b05602a60666fc4d": {
      "model_module": "@jupyter-widgets/controls",
      "model_module_version": "1.4.0",
      "model_name": "VBoxModel",
      "state": {
       "children": [
        "IPY_MODEL_fdfc49f22d474c5196f9a811c9b86b7f",
        "IPY_MODEL_5c19461f09a341e3ac167b45a85b0c2d"
       ],
       "layout": "IPY_MODEL_a823d5e45cce4384b2446d37d9bff40f"
      }
     },
     "76f9291601104dd7b754433cc679ffef": {
      "model_module": "@jupyter-widgets/base",
      "model_module_version": "1.1.0",
      "model_name": "LayoutModel",
      "state": {
       "width": "10%"
      }
     },
     "775d9d345aff4293b3543aacefd8fcfe": {
      "model_module": "@jupyter-widgets/base",
      "model_module_version": "1.1.0",
      "model_name": "LayoutModel",
      "state": {
       "width": "10%"
      }
     },
     "78eb1359334b4f378613bb91957ec9ea": {
      "model_module": "@jupyter-widgets/base",
      "model_module_version": "1.1.0",
      "model_name": "LayoutModel",
      "state": {
       "width": "95%"
      }
     },
     "7a57cd5030d24d2e94d6c0606460e2de": {
      "model_module": "@jupyter-widgets/output",
      "model_module_version": "1.0.0",
      "model_name": "OutputModel",
      "state": {
       "layout": "IPY_MODEL_346c8fab7f844dcca0210e0884c7e6a4",
       "outputs": [
        {
         "data": {
          "image/png": "iVBORw0KGgoAAAANSUhEUgAAAPUAAAD4CAYAAAA0L6C7AAAABHNCSVQICAgIfAhkiAAAAAlwSFlzAAALEgAACxIB0t1+/AAAADl0RVh0U29mdHdhcmUAbWF0cGxvdGxpYiB2ZXJzaW9uIDMuMC4xLCBodHRwOi8vbWF0cGxvdGxpYi5vcmcvDW2N/gAAA/hJREFUeJzt3UFNK1oUhtHDzTNQJCCBYqESwAoWqgEJrRUqoSChEvoMMHnJ7Qa+t9aQQf8m8OUkTPbd9XpdQMef7/4CwN8laogRNcSIGmJEDTH/3Ohzk/9SPx6Po3uvr69jW7vdbmxrv9+PbW02m7Gtb3D31Q+91BAjaogRNcSIGmJEDTGihhhRQ4yoIUbUECNqiBE1xIgaYkQNMaKGGFFDjKghRtQQI2qIETXEiBpiRA0xooYYUUOMqCFG1BAjaoi51dmdpMkzOGut9fn5ObZ1uVzGtu7v78e2DofD2NZaaz0/P4/ufcVLDTGihhhRQ4yoIUbUECNqiBE1xIgaYkQNMaKGGFFDjKghRtQQI2qIETXEiBpiRA0xooYYUUOMqCFG1BAjaogRNcSIGmJEDTGihphff3bndDqNbU2ewVlrrfP5PLb18PAwtrXb7ca2Jv8+1nJ2B7gBUUOMqCFG1BAjaogRNcSIGmJEDTGihhhRQ4yoIUbUECNqiBE1xIgaYkQNMaKGGFFDjKghRtQQI2qIETXEiBpiRA0xooYYUUOMqCHm19/SulwuY1uPj49jW2vN3reatN1uv/srpHmpIUbUECNqiBE1xIgaYkQNMaKGGFFDjKghRtQQI2qIETXEiBpiRA0xooYYUUOMqCFG1BAjaogRNcSIGmJEDTGihhhRQ4yoIUbUEOPszn+w2+3Gtsomf2ebzWZs66fwUkOMqCFG1BAjaogRNcSIGmJEDTGihhhRQ4yoIUbUECNqiBE1xIgaYkQNMaKGGFFDjKghRtQQI2qIETXEiBpiRA0xooYYUUOMqCHm15/dmTyrcjqdxramTZ7CeX9/H9t6eXkZ2/opvNQQI2qIETXEiBpiRA0xooYYUUOMqCFG1BAjaogRNcSIGmJEDTGihhhRQ4yoIUbUECNqiBE1xIgaYkQNMaKGGFFDjKghRtQQI2qIubter7f43Jt86Fc+Pj6mptZ2ux3bWmutt7e3sa3j8Ti2dT6fx7bKp5LWWndf/dBLDTGihhhRQ4yoIUbUECNqiBE1xIgaYkQNMaKGGFFDjKghRtQQI2qIETXEiBpiRA0xooYYUUOMqCFG1BAjaogRNcSIGmJEDTGihhhRQ8yvv6U1afK21Vpr7ff7sa2np6exrcPhMLYV55YW/B+IGmJEDTGihhhRQ4yoIUbUECNqiBE1xIgaYkQNMaKGGFFDjKghRtQQI2qIETXEiBpiRA0xooYYUUOMqCFG1BAjaogRNcSIGmJudXYH+CZeaogRNcSIGmJEDTGihhhRQ4yoIUbUECNqiBE1xIgaYkQNMaKGGFFDjKghRtQQI2qIETXEiBpiRA0xooYYUUOMqCHmX6UyUvDIqILaAAAAAElFTkSuQmCC\n",
          "text/plain": "<Figure size 432x288 with 1 Axes>"
         },
         "metadata": {
          "needs_background": "light"
         },
         "output_type": "display_data"
        }
       ]
      }
     },
     "7ae3ff00b56748c6ba7a1a0e84087ab3": {
      "model_module": "@jupyter-widgets/controls",
      "model_module_version": "1.4.0",
      "model_name": "ButtonStyleModel",
      "state": {}
     },
     "7ba18a674c1b48719bd778fc8c159dc8": {
      "model_module": "@jupyter-widgets/base",
      "model_module_version": "1.1.0",
      "model_name": "LayoutModel",
      "state": {}
     },
     "7d95d198f28c41ecaf6f02caa7bb5953": {
      "model_module": "@jupyter-widgets/output",
      "model_module_version": "1.0.0",
      "model_name": "OutputModel",
      "state": {
       "layout": "IPY_MODEL_0007ee29e235465b962382b125cffc04"
      }
     },
     "7e6383f93d4a4d8cae73893abb96ca45": {
      "model_module": "@jupyter-widgets/base",
      "model_module_version": "1.1.0",
      "model_name": "LayoutModel",
      "state": {
       "width": "95%"
      }
     },
     "7ebb03fdad8c438b9eead1dc5863a51d": {
      "model_module": "@jupyter-widgets/controls",
      "model_module_version": "1.4.0",
      "model_name": "ProgressStyleModel",
      "state": {
       "description_width": ""
      }
     },
     "80d7922ddb064ed4a5bb4fdd5d252ee0": {
      "model_module": "@jupyter-widgets/controls",
      "model_module_version": "1.4.0",
      "model_name": "VBoxModel",
      "state": {
       "children": [
        "IPY_MODEL_972dba54433246589c2f517461a65a62",
        "IPY_MODEL_4c22bb54d23240a0bda1ee79c3a705b7"
       ],
       "layout": "IPY_MODEL_525b9e07f5184517a15505fc62f9bfa2"
      }
     },
     "81630f99ebe8498d850e8df605cae960": {
      "model_module": "@jupyter-widgets/base",
      "model_module_version": "1.1.0",
      "model_name": "LayoutModel",
      "state": {}
     },
     "81b5c30564f14b548514fe4afa1b726f": {
      "model_module": "@jupyter-widgets/output",
      "model_module_version": "1.0.0",
      "model_name": "OutputModel",
      "state": {
       "layout": "IPY_MODEL_2e7cc4c67e174a4dbc85036cbe028e7e"
      }
     },
     "8348610433574bca9767588cfb014508": {
      "model_module": "@jupyter-widgets/base",
      "model_module_version": "1.1.0",
      "model_name": "LayoutModel",
      "state": {}
     },
     "83aec321cd8b4850a41cbb402f9de777": {
      "model_module": "@jupyter-widgets/base",
      "model_module_version": "1.1.0",
      "model_name": "LayoutModel",
      "state": {
       "width": "95%"
      }
     },
     "847379b9e2e8467496412d47a3d4bf6f": {
      "model_module": "@jupyter-widgets/controls",
      "model_module_version": "1.4.0",
      "model_name": "VBoxModel",
      "state": {
       "children": [
        "IPY_MODEL_2f293c78f90d465cbfb0376b0a9a7fe0",
        "IPY_MODEL_d01006b3220e4b40b173769141e40758"
       ],
       "layout": "IPY_MODEL_463a45760cd54e9b942de158c3dd8a71"
      }
     },
     "84d4a1b717fa4e07833b35f0acf5b62e": {
      "model_module": "@jupyter-widgets/controls",
      "model_module_version": "1.4.0",
      "model_name": "ButtonStyleModel",
      "state": {}
     },
     "8560110c881e45cc9c0de77ad6f82d48": {
      "model_module": "@jupyter-widgets/base",
      "model_module_version": "1.1.0",
      "model_name": "LayoutModel",
      "state": {
       "width": "10%"
      }
     },
     "8c9967c94c4b49018d5d1ba9a4684aa5": {
      "model_module": "@jupyter-widgets/controls",
      "model_module_version": "1.4.0",
      "model_name": "ButtonStyleModel",
      "state": {}
     },
     "93e36addb37643ce9841944a811d14b5": {
      "model_module": "@jupyter-widgets/controls",
      "model_module_version": "1.4.0",
      "model_name": "HBoxModel",
      "state": {
       "children": [
        "IPY_MODEL_ca30fad3d0a34698ab84de8f23e152bb"
       ],
       "layout": "IPY_MODEL_64ea972c82884151bfcb133d16c1e70d"
      }
     },
     "9642b30b417645a88ae8f26ca18fd2fe": {
      "model_module": "@jupyter-widgets/base",
      "model_module_version": "1.1.0",
      "model_name": "LayoutModel",
      "state": {}
     },
     "972dba54433246589c2f517461a65a62": {
      "model_module": "@jupyter-widgets/controls",
      "model_module_version": "1.4.0",
      "model_name": "ButtonModel",
      "state": {
       "description": "4",
       "layout": "IPY_MODEL_e205b7fc34794bddb97f5b5a425e7442",
       "style": "IPY_MODEL_5ea72a73586b47b8bd5e49d924995cf7"
      }
     },
     "992f5ce158a3469a88373bff92332e3d": {
      "model_module": "@jupyter-widgets/controls",
      "model_module_version": "1.4.0",
      "model_name": "ButtonModel",
      "state": {
       "description": "0",
       "layout": "IPY_MODEL_2d63750b4c9f4b4284655cc946bf9340",
       "style": "IPY_MODEL_0f46a3a5b57c4caca6c8c0b72d29ffe6"
      }
     },
     "9aa36ec708074d789da9d71b32c282a9": {
      "model_module": "@jupyter-widgets/controls",
      "model_module_version": "1.4.0",
      "model_name": "VBoxModel",
      "state": {
       "children": [
        "IPY_MODEL_db7238ae2f264e61bedb0d4ffea3847c",
        "IPY_MODEL_3763721a04ce4a42b2f04ee5ef16c3a4"
       ],
       "layout": "IPY_MODEL_e1187c931bd04c7abc80e503d4be0701"
      }
     },
     "a058d365f80140748564f3fd98ae2b90": {
      "model_module": "@jupyter-widgets/base",
      "model_module_version": "1.1.0",
      "model_name": "LayoutModel",
      "state": {}
     },
     "a086d4b4d0884ab99ac43e3454bb2e1a": {
      "model_module": "@jupyter-widgets/output",
      "model_module_version": "1.0.0",
      "model_name": "OutputModel",
      "state": {
       "layout": "IPY_MODEL_11c8dd2384aa4d83867144854fa4b801"
      }
     },
     "a3501e3489824a398d982076ebc42cce": {
      "model_module": "@jupyter-widgets/base",
      "model_module_version": "1.1.0",
      "model_name": "LayoutModel",
      "state": {
       "width": "95%"
      }
     },
     "a44e86cd27084e20bfbcf927cd8c5e4e": {
      "model_module": "@jupyter-widgets/base",
      "model_module_version": "1.1.0",
      "model_name": "LayoutModel",
      "state": {}
     },
     "a823d5e45cce4384b2446d37d9bff40f": {
      "model_module": "@jupyter-widgets/base",
      "model_module_version": "1.1.0",
      "model_name": "LayoutModel",
      "state": {
       "width": "10%"
      }
     },
     "a9d3215e725f4eeb872ff6e5c079fe2d": {
      "model_module": "@jupyter-widgets/base",
      "model_module_version": "1.1.0",
      "model_name": "LayoutModel",
      "state": {}
     },
     "ae0d8e6c825440eb95bcb3684564dba8": {
      "model_module": "@jupyter-widgets/base",
      "model_module_version": "1.1.0",
      "model_name": "LayoutModel",
      "state": {
       "justify_content": "space-between"
      }
     },
     "b15d208304f74a7abe92961ecbf277c6": {
      "model_module": "@jupyter-widgets/controls",
      "model_module_version": "1.4.0",
      "model_name": "ButtonStyleModel",
      "state": {}
     },
     "b15dad3e02c7461fae566af8cf88ea39": {
      "model_module": "@jupyter-widgets/controls",
      "model_module_version": "1.4.0",
      "model_name": "VBoxModel",
      "state": {
       "children": [
        "IPY_MODEL_b688a0ae404f481781eefac5faa0a9ec",
        "IPY_MODEL_ff4c69d1bed94be986a67d5964356b69"
       ],
       "layout": "IPY_MODEL_655fd54c86de4774b07dfcebdee6ffa9"
      }
     },
     "b2fc326627cb456cbed6fcce1890678a": {
      "model_module": "@jupyter-widgets/base",
      "model_module_version": "1.1.0",
      "model_name": "LayoutModel",
      "state": {
       "width": "95%"
      }
     },
     "b50799b90c2c49e0b18aa48fb26dbce1": {
      "model_module": "@jupyter-widgets/controls",
      "model_module_version": "1.4.0",
      "model_name": "ButtonModel",
      "state": {
       "description": "3",
       "layout": "IPY_MODEL_c21d6d9544884000adde5c1b8aa00909",
       "style": "IPY_MODEL_7ae3ff00b56748c6ba7a1a0e84087ab3"
      }
     },
     "b51ba7692d9d49aea0ed6909f7e3fe9d": {
      "model_module": "@jupyter-widgets/controls",
      "model_module_version": "1.4.0",
      "model_name": "VBoxModel",
      "state": {
       "children": [
        "IPY_MODEL_e6415d6d02fe4a5ba18782fc7d3bf202",
        "IPY_MODEL_d17ddcf1432245ecb575add5c77b911d"
       ],
       "layout": "IPY_MODEL_7656420c87744591ac22a223595bfd95"
      }
     },
     "b688a0ae404f481781eefac5faa0a9ec": {
      "model_module": "@jupyter-widgets/controls",
      "model_module_version": "1.4.0",
      "model_name": "ButtonModel",
      "state": {
       "description": "7",
       "layout": "IPY_MODEL_a3501e3489824a398d982076ebc42cce",
       "style": "IPY_MODEL_f714bef8c9b3494590e80b8a6a81fc48"
      }
     },
     "b747b9b3b1304413b9b5a92a49960776": {
      "model_module": "@jupyter-widgets/base",
      "model_module_version": "1.1.0",
      "model_name": "LayoutModel",
      "state": {
       "width": "95%"
      }
     },
     "b9d4a647e8af4a319c254ec5e8c19a4c": {
      "model_module": "@jupyter-widgets/controls",
      "model_module_version": "1.4.0",
      "model_name": "ButtonStyleModel",
      "state": {}
     },
     "ba043ccabfa5448ca3b37b37f01f8622": {
      "model_module": "@jupyter-widgets/base",
      "model_module_version": "1.1.0",
      "model_name": "LayoutModel",
      "state": {}
     },
     "bc4e53c460c74c28a32a95f3ca1f9c22": {
      "model_module": "@jupyter-widgets/base",
      "model_module_version": "1.1.0",
      "model_name": "LayoutModel",
      "state": {
       "width": "95%"
      }
     },
     "bcb62709b9a4411ebeea4ec150a7fa92": {
      "model_module": "@jupyter-widgets/base",
      "model_module_version": "1.1.0",
      "model_name": "LayoutModel",
      "state": {
       "display": "flex",
       "justify_content": "center",
       "min_height": "150px",
       "padding": "5% 0",
       "width": "100%"
      }
     },
     "bec1945e9bb645e6aabe31dd13a59d47": {
      "model_module": "@jupyter-widgets/controls",
      "model_module_version": "1.4.0",
      "model_name": "ButtonModel",
      "state": {
       "description": "6",
       "layout": "IPY_MODEL_d149e9b788864cdc94c814c01a58ed87",
       "style": "IPY_MODEL_f714d114fbd8445786546eb1cef82a24"
      }
     },
     "bf2f7c5e26da4e36a1de3e5a1861bd8d": {
      "model_module": "@jupyter-widgets/controls",
      "model_module_version": "1.4.0",
      "model_name": "ButtonStyleModel",
      "state": {}
     },
     "c094f9eda1aa4a1c8fc45247932bdf1c": {
      "model_module": "@jupyter-widgets/controls",
      "model_module_version": "1.4.0",
      "model_name": "ButtonModel",
      "state": {
       "description": "Undo",
       "icon": "undo",
       "layout": "IPY_MODEL_17bd8573160345028e19e76c27e40234",
       "style": "IPY_MODEL_f146203e6a8d48d08a678f0b745152b0"
      }
     },
     "c1b93bd9fad0456fb50d86106d797a05": {
      "model_module": "@jupyter-widgets/controls",
      "model_module_version": "1.4.0",
      "model_name": "ButtonStyleModel",
      "state": {}
     },
     "c1d8018b8b1145c2ae93b9450689bce0": {
      "model_module": "@jupyter-widgets/controls",
      "model_module_version": "1.4.0",
      "model_name": "TextModel",
      "state": {
       "description": "Other:",
       "layout": "IPY_MODEL_5c7202d8c92a4ee4bdd2fc547d482edd",
       "placeholder": "Hit enter to submit.",
       "style": "IPY_MODEL_407d18df05c84d30ba60de72efbceacf"
      }
     },
     "c21d6d9544884000adde5c1b8aa00909": {
      "model_module": "@jupyter-widgets/base",
      "model_module_version": "1.1.0",
      "model_name": "LayoutModel",
      "state": {
       "width": "95%"
      }
     },
     "c2b04392544a4938bd18b989f9b0a86f": {
      "model_module": "@jupyter-widgets/base",
      "model_module_version": "1.1.0",
      "model_name": "LayoutModel",
      "state": {}
     },
     "c34705b67f914fb9bab0ac9540cddc69": {
      "model_module": "@jupyter-widgets/base",
      "model_module_version": "1.1.0",
      "model_name": "LayoutModel",
      "state": {
       "width": "95%"
      }
     },
     "c58e03fb15ae4be19af09357cca149ba": {
      "model_module": "@jupyter-widgets/output",
      "model_module_version": "1.0.0",
      "model_name": "OutputModel",
      "state": {
       "layout": "IPY_MODEL_2698990d87c24a28ac148aca00b7d5a5"
      }
     },
     "ca30fad3d0a34698ab84de8f23e152bb": {
      "model_module": "@jupyter-widgets/controls",
      "model_module_version": "1.4.0",
      "model_name": "FloatProgressModel",
      "state": {
       "description": "Progress:",
       "layout": "IPY_MODEL_a44e86cd27084e20bfbcf927cd8c5e4e",
       "max": 1,
       "style": "IPY_MODEL_7ebb03fdad8c438b9eead1dc5863a51d"
      }
     },
     "cb41ee3f0064408aaacdcf70d16aa8b6": {
      "model_module": "@jupyter-widgets/controls",
      "model_module_version": "1.4.0",
      "model_name": "VBoxModel",
      "state": {
       "children": [
        "IPY_MODEL_1a6086d33790463c88fad7da2a0373ed",
        "IPY_MODEL_c58e03fb15ae4be19af09357cca149ba"
       ],
       "layout": "IPY_MODEL_34d97b513d564f67ad7c0dc5b5f28558"
      }
     },
     "cb5c12f7facf417685094301caed9146": {
      "model_module": "@jupyter-widgets/base",
      "model_module_version": "1.1.0",
      "model_name": "LayoutModel",
      "state": {
       "width": "10%"
      }
     },
     "cd7b51a773a14178b4dc4f2b2b1a9354": {
      "model_module": "@jupyter-widgets/base",
      "model_module_version": "1.1.0",
      "model_name": "LayoutModel",
      "state": {}
     },
     "d01006b3220e4b40b173769141e40758": {
      "model_module": "@jupyter-widgets/output",
      "model_module_version": "1.0.0",
      "model_name": "OutputModel",
      "state": {
       "layout": "IPY_MODEL_7ba18a674c1b48719bd778fc8c159dc8"
      }
     },
     "d0ca7c1150c14caa98b329b1663d96ef": {
      "model_module": "@jupyter-widgets/controls",
      "model_module_version": "1.4.0",
      "model_name": "DescriptionStyleModel",
      "state": {
       "description_width": ""
      }
     },
     "d149e9b788864cdc94c814c01a58ed87": {
      "model_module": "@jupyter-widgets/base",
      "model_module_version": "1.1.0",
      "model_name": "LayoutModel",
      "state": {
       "width": "95%"
      }
     },
     "d17ddcf1432245ecb575add5c77b911d": {
      "model_module": "@jupyter-widgets/output",
      "model_module_version": "1.0.0",
      "model_name": "OutputModel",
      "state": {
       "layout": "IPY_MODEL_81630f99ebe8498d850e8df605cae960"
      }
     },
     "d4b017172dd348f692f756fb93119e1b": {
      "model_module": "@jupyter-widgets/base",
      "model_module_version": "1.1.0",
      "model_name": "LayoutModel",
      "state": {}
     },
     "d4be0283fe2b40c68ed94d5bc665a647": {
      "model_module": "@jupyter-widgets/base",
      "model_module_version": "1.1.0",
      "model_name": "LayoutModel",
      "state": {}
     },
     "d5102b26b5b2458ebac8e35e72ac05cb": {
      "model_module": "@jupyter-widgets/base",
      "model_module_version": "1.1.0",
      "model_name": "LayoutModel",
      "state": {}
     },
     "d5de3e477af94a1591ae779b09e62d16": {
      "model_module": "@jupyter-widgets/controls",
      "model_module_version": "1.4.0",
      "model_name": "ButtonModel",
      "state": {
       "description": "5",
       "layout": "IPY_MODEL_83aec321cd8b4850a41cbb402f9de777",
       "style": "IPY_MODEL_ed2d32e8f3094e559b5b5e86b6398f3f"
      }
     },
     "d86e524805594f2297a24aa2a76c7a61": {
      "model_module": "@jupyter-widgets/base",
      "model_module_version": "1.1.0",
      "model_name": "LayoutModel",
      "state": {}
     },
     "d8e52062f22a440b8f79b23abf40aa85": {
      "model_module": "@jupyter-widgets/output",
      "model_module_version": "1.0.0",
      "model_name": "OutputModel",
      "state": {
       "layout": "IPY_MODEL_2154af06c78e45bfaf7e5c62f12861db"
      }
     },
     "db2a91d307c34759b2a74fa5dd015bb2": {
      "model_module": "@jupyter-widgets/base",
      "model_module_version": "1.1.0",
      "model_name": "LayoutModel",
      "state": {
       "width": "10%"
      }
     },
     "db7238ae2f264e61bedb0d4ffea3847c": {
      "model_module": "@jupyter-widgets/controls",
      "model_module_version": "1.4.0",
      "model_name": "ButtonModel",
      "state": {
       "description": "4",
       "layout": "IPY_MODEL_0d99d68e2d2a427d956b75e45fc8c864",
       "style": "IPY_MODEL_bf2f7c5e26da4e36a1de3e5a1861bd8d"
      }
     },
     "dd2dbe2da6b44a0c96ac118abb8ff328": {
      "model_module": "@jupyter-widgets/base",
      "model_module_version": "1.1.0",
      "model_name": "LayoutModel",
      "state": {}
     },
     "dda4e93078f84ae2b818ec71e81094ec": {
      "model_module": "@jupyter-widgets/controls",
      "model_module_version": "1.4.0",
      "model_name": "HBoxModel",
      "state": {
       "children": [
        "IPY_MODEL_606b2ab379524f0f9dd7ad119b9eda97",
        "IPY_MODEL_369da37e0e5d4d3093005193921520a4",
        "IPY_MODEL_c094f9eda1aa4a1c8fc45247932bdf1c"
       ],
       "layout": "IPY_MODEL_cd7b51a773a14178b4dc4f2b2b1a9354"
      }
     },
     "e00d683160854adb9a21f1e5358806b9": {
      "model_module": "@jupyter-widgets/output",
      "model_module_version": "1.0.0",
      "model_name": "OutputModel",
      "state": {
       "layout": "IPY_MODEL_ba043ccabfa5448ca3b37b37f01f8622"
      }
     },
     "e1187c931bd04c7abc80e503d4be0701": {
      "model_module": "@jupyter-widgets/base",
      "model_module_version": "1.1.0",
      "model_name": "LayoutModel",
      "state": {
       "width": "10%"
      }
     },
     "e205b7fc34794bddb97f5b5a425e7442": {
      "model_module": "@jupyter-widgets/base",
      "model_module_version": "1.1.0",
      "model_name": "LayoutModel",
      "state": {
       "width": "95%"
      }
     },
     "e62356c336524b27a2430fbc43329f7f": {
      "model_module": "@jupyter-widgets/controls",
      "model_module_version": "1.4.0",
      "model_name": "ButtonModel",
      "state": {
       "description": "1",
       "layout": "IPY_MODEL_4dcf4d92095c407abcce8580a8430dcc",
       "style": "IPY_MODEL_0b38d4bd9af143f08c2693779569dc36"
      }
     },
     "e6415d6d02fe4a5ba18782fc7d3bf202": {
      "model_module": "@jupyter-widgets/controls",
      "model_module_version": "1.4.0",
      "model_name": "ButtonModel",
      "state": {
       "description": "9",
       "layout": "IPY_MODEL_7e6383f93d4a4d8cae73893abb96ca45",
       "style": "IPY_MODEL_84d4a1b717fa4e07833b35f0acf5b62e"
      }
     },
     "e87551479ba94584968da313df822605": {
      "model_module": "@jupyter-widgets/controls",
      "model_module_version": "1.4.0",
      "model_name": "ButtonModel",
      "state": {
       "description": "2",
       "layout": "IPY_MODEL_78eb1359334b4f378613bb91957ec9ea",
       "style": "IPY_MODEL_73df05bbc9f3415f9c98e2cc93d8f496"
      }
     },
     "e88fd79216cd4881aa8ce6c58462dac9": {
      "model_module": "@jupyter-widgets/controls",
      "model_module_version": "1.4.0",
      "model_name": "HBoxModel",
      "state": {
       "children": [
        "IPY_MODEL_6a2c0d332a4644f8b37fb58d71659363",
        "IPY_MODEL_3dce0249a3c24f4a91666937e8546e4a",
        "IPY_MODEL_299eae9e549845dc8271ef7a0f0d7034",
        "IPY_MODEL_2ba43e2b8131486d921b4fb5556b8b12",
        "IPY_MODEL_9aa36ec708074d789da9d71b32c282a9",
        "IPY_MODEL_01a3d8737b574bb2966c15a772fa0606",
        "IPY_MODEL_76de3367a67a4253b05602a60666fc4d",
        "IPY_MODEL_6040e3d5d492488e879ff50fb3e6ebec",
        "IPY_MODEL_5a144fb3794c47398a2d099ecf4930e1",
        "IPY_MODEL_b51ba7692d9d49aea0ed6909f7e3fe9d"
       ],
       "layout": "IPY_MODEL_d4b017172dd348f692f756fb93119e1b"
      }
     },
     "e8eef15ba7d34a3096f59d9e498e774d": {
      "model_module": "@jupyter-widgets/base",
      "model_module_version": "1.1.0",
      "model_name": "LayoutModel",
      "state": {
       "width": "95%"
      }
     },
     "ed2d32e8f3094e559b5b5e86b6398f3f": {
      "model_module": "@jupyter-widgets/controls",
      "model_module_version": "1.4.0",
      "model_name": "ButtonStyleModel",
      "state": {}
     },
     "f146203e6a8d48d08a678f0b745152b0": {
      "model_module": "@jupyter-widgets/controls",
      "model_module_version": "1.4.0",
      "model_name": "ButtonStyleModel",
      "state": {}
     },
     "f244eacabf974070a6f753bf17d89046": {
      "model_module": "@jupyter-widgets/base",
      "model_module_version": "1.1.0",
      "model_name": "LayoutModel",
      "state": {}
     },
     "f246e0141de6482a83972894399135ce": {
      "model_module": "@jupyter-widgets/output",
      "model_module_version": "1.0.0",
      "model_name": "OutputModel",
      "state": {
       "layout": "IPY_MODEL_d4be0283fe2b40c68ed94d5bc665a647"
      }
     },
     "f4b733df81f64f88be5343dfdea79a14": {
      "model_module": "@jupyter-widgets/base",
      "model_module_version": "1.1.0",
      "model_name": "LayoutModel",
      "state": {
       "width": "10%"
      }
     },
     "f714bef8c9b3494590e80b8a6a81fc48": {
      "model_module": "@jupyter-widgets/controls",
      "model_module_version": "1.4.0",
      "model_name": "ButtonStyleModel",
      "state": {}
     },
     "f714d114fbd8445786546eb1cef82a24": {
      "model_module": "@jupyter-widgets/controls",
      "model_module_version": "1.4.0",
      "model_name": "ButtonStyleModel",
      "state": {}
     },
     "f8626c50301f4ac2ac0fa89468eae0ab": {
      "model_module": "@jupyter-widgets/base",
      "model_module_version": "1.1.0",
      "model_name": "LayoutModel",
      "state": {
       "width": "95%"
      }
     },
     "f9d31381219f41d3882487854a9b1011": {
      "model_module": "@jupyter-widgets/output",
      "model_module_version": "1.0.0",
      "model_name": "OutputModel",
      "state": {
       "layout": "IPY_MODEL_d86e524805594f2297a24aa2a76c7a61"
      }
     },
     "fbaea4c548a14ee6bb2cdfdeb79fbbab": {
      "model_module": "@jupyter-widgets/base",
      "model_module_version": "1.1.0",
      "model_name": "LayoutModel",
      "state": {
       "width": "10%"
      }
     },
     "fbb91c7acd8e47979dd7f2dec1dabac6": {
      "model_module": "@jupyter-widgets/controls",
      "model_module_version": "1.4.0",
      "model_name": "VBoxModel",
      "state": {
       "children": [
        "IPY_MODEL_3e715de5b1d84c72bd5f6dce1106eea9",
        "IPY_MODEL_1500528260c640efa5122f65a400b5ec"
       ],
       "layout": "IPY_MODEL_6f14bd56f4bb46d1b31eb6d94a7b6a4d"
      }
     },
     "fdfc49f22d474c5196f9a811c9b86b7f": {
      "model_module": "@jupyter-widgets/controls",
      "model_module_version": "1.4.0",
      "model_name": "ButtonModel",
      "state": {
       "description": "6",
       "layout": "IPY_MODEL_044332fb875649ca9bcc0d4ace772abe",
       "style": "IPY_MODEL_12e56ca0720446fcb44fcb75ce3819fb"
      }
     },
     "ff4c69d1bed94be986a67d5964356b69": {
      "model_module": "@jupyter-widgets/output",
      "model_module_version": "1.0.0",
      "model_name": "OutputModel",
      "state": {
       "layout": "IPY_MODEL_d5102b26b5b2458ebac8e35e72ac05cb"
      }
     }
    },
    "version_major": 2,
    "version_minor": 0
   }
  }
 },
 "nbformat": 4,
 "nbformat_minor": 4
}
