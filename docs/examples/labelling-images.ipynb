{
 "cells": [
  {
   "cell_type": "markdown",
   "metadata": {},
   "source": [
    "# Labelling images with `superintendent`"
   ]
  },
  {
   "cell_type": "markdown",
   "metadata": {},
   "source": [
    "Since labelling images is a frequent use case, there is a special factory\n",
    "method for labelling images that are stored in numpy arrays:"
   ]
  },
  {
   "cell_type": "code",
   "execution_count": 1,
   "metadata": {},
   "outputs": [],
   "source": [
    "from sklearn.datasets import load_digits\n",
    "from superintendent import ClassLabeller\n",
    "import numpy as np\n",
    "digits = load_digits().data.reshape(-1, 8, 8)\n"
   ]
  },
  {
   "cell_type": "code",
   "execution_count": 3,
   "metadata": {},
   "outputs": [
    {
     "data": {
      "application/vnd.jupyter.widget-view+json": {
       "model_id": "524787567a774f1b968ccb6debea9b8e",
       "version_major": 2,
       "version_minor": 0
      },
      "text/plain": [
       "VBox(children=(HBox(children=(FloatProgress(value=0.0, description='Progress:', max=1.0),)), Box(children=(Out…"
      ]
     },
     "metadata": {},
     "output_type": "display_data"
    }
   ],
   "source": [
    "widget = ClassLabeller.from_images(\n",
    "    features=digits[:100, ...],\n",
    "    canvas_size=(200, 200),\n",
    "    options=range(10)\n",
    ")\n",
    "widget"
   ]
  }
 ],
 "metadata": {
  "kernelspec": {
   "display_name": "Python 3",
   "language": "python",
   "name": "python3"
  },
  "language_info": {
   "codemirror_mode": {
    "name": "ipython",
    "version": 3
   },
   "file_extension": ".py",
   "mimetype": "text/x-python",
   "name": "python",
   "nbconvert_exporter": "python",
   "pygments_lexer": "ipython3",
   "version": "3.7.5rc1"
  },
  "widgets": {
   "application/vnd.jupyter.widget-state+json": {
    "state": {
     "0004060c34974b01a3447581f0d9875d": {
      "model_module": "@jupyter-widgets/controls",
      "model_module_version": "1.5.0",
      "model_name": "VBoxModel",
      "state": {
       "children": [
        "IPY_MODEL_1ee45ebde5974a1bba98559c2fb22716",
        "IPY_MODEL_52d90313981542fc961002987c8ce91d"
       ],
       "layout": "IPY_MODEL_827b751d079c4c1582ca3087b45844b8"
      }
     },
     "0007ee29e235465b962382b125cffc04": {
      "model_module": "@jupyter-widgets/base",
      "model_module_version": "1.2.0",
      "model_name": "LayoutModel",
      "state": {}
     },
     "00084e05b91b4bd0977ae75fe6bdc8e1": {
      "model_module": "@jupyter-widgets/base",
      "model_module_version": "1.2.0",
      "model_name": "LayoutModel",
      "state": {}
     },
     "001bcd79b13a4f1cae136132be4192c9": {
      "model_module": "@jupyter-widgets/controls",
      "model_module_version": "1.5.0",
      "model_name": "VBoxModel",
      "state": {
       "children": [
        "IPY_MODEL_0192f0166a7a46d0b830670a200b7b65",
        "IPY_MODEL_4ffc9cd315984736935e940da90a570c"
       ],
       "layout": "IPY_MODEL_e064a4a7443a4c3693890e556432e661"
      }
     },
     "00652fe7c270499283c702dcfa85a3d8": {
      "model_module": "@jupyter-widgets/base",
      "model_module_version": "1.2.0",
      "model_name": "LayoutModel",
      "state": {
       "width": "10%"
      }
     },
     "009511c2013c472fb05a41c58a2444d4": {
      "model_module": "@jupyter-widgets/controls",
      "model_module_version": "1.5.0",
      "model_name": "DescriptionStyleModel",
      "state": {
       "description_width": ""
      }
     },
     "00a2a5e9332c414a99f12f5bcb9465a8": {
      "model_module": "@jupyter-widgets/base",
      "model_module_version": "1.2.0",
      "model_name": "LayoutModel",
      "state": {
       "width": "10%"
      }
     },
     "00c21ef44d6e460b9a5c8df8d4604f23": {
      "model_module": "@jupyter-widgets/controls",
      "model_module_version": "1.5.0",
      "model_name": "ButtonModel",
      "state": {
       "description": "8",
       "layout": "IPY_MODEL_081767fe45434859a9960813eab26ce0",
       "style": "IPY_MODEL_7cce9e0cd6c24574a3ce8a6a48f9bea8"
      }
     },
     "00f3ef45812940819036f7864b01feb5": {
      "model_module": "@jupyter-widgets/base",
      "model_module_version": "1.2.0",
      "model_name": "LayoutModel",
      "state": {}
     },
     "0115f27b3b204d5c8dfa91fcca202331": {
      "model_module": "@jupyter-widgets/controls",
      "model_module_version": "1.5.0",
      "model_name": "ButtonModel",
      "state": {
       "description": "1",
       "layout": "IPY_MODEL_024ade6c64764b54b1a501553cecfa16",
       "style": "IPY_MODEL_18106bfe875946139ad92c7bea716e63"
      }
     },
     "014598cfa7a54cc5815e187deeb770d5": {
      "model_module": "@jupyter-widgets/base",
      "model_module_version": "1.2.0",
      "model_name": "LayoutModel",
      "state": {
       "width": "95%"
      }
     },
     "01484d8a3cc549029d885791289aaa54": {
      "model_module": "@jupyter-widgets/base",
      "model_module_version": "1.2.0",
      "model_name": "LayoutModel",
      "state": {}
     },
     "016cf7cd72fc4133acdea0a54d58e93d": {
      "model_module": "@jupyter-widgets/controls",
      "model_module_version": "1.5.0",
      "model_name": "DescriptionStyleModel",
      "state": {
       "description_width": ""
      }
     },
     "016fde57d99d49d7a019ed6312b1218b": {
      "model_module": "@jupyter-widgets/output",
      "model_module_version": "1.0.0",
      "model_name": "OutputModel",
      "state": {
       "layout": "IPY_MODEL_4aa21e74639149e1a360ef652d36551c"
      }
     },
     "017dfb5b201443439e15f3aafe1d447a": {
      "model_module": "@jupyter-widgets/controls",
      "model_module_version": "1.5.0",
      "model_name": "DescriptionStyleModel",
      "state": {
       "description_width": ""
      }
     },
     "0181618f90dd4987a61d4e0bde67323a": {
      "model_module": "@jupyter-widgets/controls",
      "model_module_version": "1.5.0",
      "model_name": "VBoxModel",
      "state": {
       "children": [
        "IPY_MODEL_522210e541de4660bc16c8715731d0a7",
        "IPY_MODEL_b5e86ad837924cbf9f549d68286ab633"
       ],
       "layout": "IPY_MODEL_948e4f5dbcb9462695084f043e248f75"
      }
     },
     "018e86e28e8247c0a0f6bbccca3a8244": {
      "model_module": "@jupyter-widgets/base",
      "model_module_version": "1.2.0",
      "model_name": "LayoutModel",
      "state": {
       "width": "95%"
      }
     },
     "0192f0166a7a46d0b830670a200b7b65": {
      "model_module": "@jupyter-widgets/controls",
      "model_module_version": "1.5.0",
      "model_name": "ButtonModel",
      "state": {
       "description": "5",
       "layout": "IPY_MODEL_ac84a1270a12464d8c51d004d5072b5c",
       "style": "IPY_MODEL_ad372861064d41d7a211aa3fe962f172"
      }
     },
     "01a3d8737b574bb2966c15a772fa0606": {
      "model_module": "@jupyter-widgets/controls",
      "model_module_version": "1.5.0",
      "model_name": "VBoxModel",
      "state": {
       "children": [
        "IPY_MODEL_d5de3e477af94a1591ae779b09e62d16",
        "IPY_MODEL_f246e0141de6482a83972894399135ce"
       ],
       "layout": "IPY_MODEL_76f9291601104dd7b754433cc679ffef"
      }
     },
     "01b531fce8db4b11b2f24a6c4854648d": {
      "model_module": "@jupyter-widgets/base",
      "model_module_version": "1.2.0",
      "model_name": "LayoutModel",
      "state": {
       "width": "95%"
      }
     },
     "01ca818e7314493b84a288e35905418f": {
      "model_module": "@jupyter-widgets/controls",
      "model_module_version": "1.5.0",
      "model_name": "VBoxModel",
      "state": {
       "children": [
        "IPY_MODEL_ec059d85456749d78daecee899b865e7",
        "IPY_MODEL_8d23d8099a5a499a91cb4f3c8b8937ca"
       ],
       "layout": "IPY_MODEL_75865b7f0cc64208b2cf307f370be15a"
      }
     },
     "024ade6c64764b54b1a501553cecfa16": {
      "model_module": "@jupyter-widgets/base",
      "model_module_version": "1.2.0",
      "model_name": "LayoutModel",
      "state": {
       "width": "95%"
      }
     },
     "02554045cd154bcd9fbd6057599cb1d1": {
      "model_module": "@jupyter-widgets/controls",
      "model_module_version": "1.5.0",
      "model_name": "ButtonStyleModel",
      "state": {}
     },
     "0262b262f84747638d6a6acad9d78ea0": {
      "model_module": "@jupyter-widgets/base",
      "model_module_version": "1.2.0",
      "model_name": "LayoutModel",
      "state": {}
     },
     "02928bc79b2e4f34b0f325455fe08d3e": {
      "model_module": "@jupyter-widgets/controls",
      "model_module_version": "1.5.0",
      "model_name": "VBoxModel",
      "state": {
       "children": [
        "IPY_MODEL_d7a4d495a7fa41a38fcedf046517cddc",
        "IPY_MODEL_59a46377fbd744b48afed87f07e667a9"
       ],
       "layout": "IPY_MODEL_23b94edd0e5e49f39ed41d4f239cc6a7"
      }
     },
     "02a2e97635af4c91b94b35f05c239aea": {
      "model_module": "@jupyter-widgets/controls",
      "model_module_version": "1.5.0",
      "model_name": "DescriptionStyleModel",
      "state": {
       "description_width": ""
      }
     },
     "02a6f3c3141e48fcaa400baf6fb4922e": {
      "model_module": "@jupyter-widgets/output",
      "model_module_version": "1.0.0",
      "model_name": "OutputModel",
      "state": {
       "layout": "IPY_MODEL_f671cae548d247f7b0f8fca45150a453"
      }
     },
     "02d820bea252413fb91115695d57b678": {
      "model_module": "@jupyter-widgets/base",
      "model_module_version": "1.2.0",
      "model_name": "LayoutModel",
      "state": {
       "width": "10%"
      }
     },
     "02e0dfd160334b11b00886b40309bf70": {
      "model_module": "@jupyter-widgets/controls",
      "model_module_version": "1.5.0",
      "model_name": "VBoxModel",
      "state": {
       "children": [
        "IPY_MODEL_d4e6940312974408b935d670d5387095",
        "IPY_MODEL_2040069d859140c88330a786e47803cf"
       ],
       "layout": "IPY_MODEL_6d62789a3626442b8b9fa3e101a39959"
      }
     },
     "02e5c6492b0a40a598bc7709b0d8f6cd": {
      "model_module": "@jupyter-widgets/base",
      "model_module_version": "1.2.0",
      "model_name": "LayoutModel",
      "state": {}
     },
     "02ee1ebf558449419a669b2e40ed2620": {
      "model_module": "@jupyter-widgets/controls",
      "model_module_version": "1.5.0",
      "model_name": "VBoxModel",
      "state": {
       "children": [
        "IPY_MODEL_68826105b2f347f49b9115bc4ddf691b",
        "IPY_MODEL_c84011671b7a40c697f44baf3b7f461f"
       ],
       "layout": "IPY_MODEL_3f13f731c9fe42a590520f6349229420"
      }
     },
     "02f2cf6573b9403485327de59986db73": {
      "model_module": "@jupyter-widgets/controls",
      "model_module_version": "1.5.0",
      "model_name": "VBoxModel",
      "state": {
       "children": [
        "IPY_MODEL_3c75a7a6cac54a73b78e44904cb97263",
        "IPY_MODEL_2a4f5992ffcf4675ac7d1cfe4f74b59e"
       ],
       "layout": "IPY_MODEL_fdce4ba3b9a540c6a249908003b1fb45"
      }
     },
     "02f871e7351f4b309c82d8e957b083dc": {
      "model_module": "@jupyter-widgets/controls",
      "model_module_version": "1.5.0",
      "model_name": "ButtonModel",
      "state": {
       "description": "1",
       "layout": "IPY_MODEL_f8626c50301f4ac2ac0fa89468eae0ab",
       "style": "IPY_MODEL_4f6cc046cd8b47669d923ee5e77abd74"
      }
     },
     "031d93a7185f405ea56bd874f2a4d0e5": {
      "model_module": "@jupyter-widgets/base",
      "model_module_version": "1.2.0",
      "model_name": "LayoutModel",
      "state": {
       "width": "10%"
      }
     },
     "03759fa816f7475abf8e99297aafcb44": {
      "model_module": "@jupyter-widgets/base",
      "model_module_version": "1.2.0",
      "model_name": "LayoutModel",
      "state": {}
     },
     "0388cbf481964cd799714f18bb6fa6c1": {
      "model_module": "@jupyter-widgets/base",
      "model_module_version": "1.2.0",
      "model_name": "LayoutModel",
      "state": {
       "width": "95%"
      }
     },
     "042f2294306040a399dcf16f828c388b": {
      "model_module": "@jupyter-widgets/base",
      "model_module_version": "1.2.0",
      "model_name": "LayoutModel",
      "state": {
       "width": "10%"
      }
     },
     "044332fb875649ca9bcc0d4ace772abe": {
      "model_module": "@jupyter-widgets/base",
      "model_module_version": "1.2.0",
      "model_name": "LayoutModel",
      "state": {
       "width": "95%"
      }
     },
     "046402c80f4b4ef4bffc69e5346539b3": {
      "model_module": "@jupyter-widgets/output",
      "model_module_version": "1.0.0",
      "model_name": "OutputModel",
      "state": {
       "layout": "IPY_MODEL_d53924370187479495f223929b3c264d"
      }
     },
     "047c803bd6494c07b6dd681c25c3d36a": {
      "model_module": "@jupyter-widgets/base",
      "model_module_version": "1.2.0",
      "model_name": "LayoutModel",
      "state": {}
     },
     "04f12f08869b4de8bb8088262214877b": {
      "model_module": "@jupyter-widgets/controls",
      "model_module_version": "1.5.0",
      "model_name": "ButtonModel",
      "state": {
       "description": "0",
       "layout": "IPY_MODEL_ff632e99e4784295a39b217096eb6e8f",
       "style": "IPY_MODEL_32b453b56f3c4a8084d4f2e2a4683f55"
      }
     },
     "04f9ae69891e4f0e882619eed1124244": {
      "model_module": "@jupyter-widgets/controls",
      "model_module_version": "1.5.0",
      "model_name": "VBoxModel",
      "state": {
       "children": [
        "IPY_MODEL_5ea69b523aa2424fb4e4043771872402",
        "IPY_MODEL_2abf81859e2643fc8b8f1683ee1a3812"
       ],
       "layout": "IPY_MODEL_bc5f7c0411ee44d0b0cb83bb39579f82"
      }
     },
     "05098115711e468bb969e162f2460d86": {
      "model_module": "@jupyter-widgets/output",
      "model_module_version": "1.0.0",
      "model_name": "OutputModel",
      "state": {
       "layout": "IPY_MODEL_5da9a8f3186e45a8b1f204fe6980a87c"
      }
     },
     "05371a3f704e4913b4baae440ccea5ef": {
      "model_module": "@jupyter-widgets/controls",
      "model_module_version": "1.5.0",
      "model_name": "ButtonModel",
      "state": {
       "description": "2",
       "layout": "IPY_MODEL_496e0d55ceb04870adf688966cdbb5a4",
       "style": "IPY_MODEL_bad391f9c8644f6d874290fe030287e9"
      }
     },
     "0591843917cb4b569428f95df5f27336": {
      "model_module": "@jupyter-widgets/controls",
      "model_module_version": "1.5.0",
      "model_name": "ButtonModel",
      "state": {
       "description": "8",
       "layout": "IPY_MODEL_c34705b67f914fb9bab0ac9540cddc69",
       "style": "IPY_MODEL_b15d208304f74a7abe92961ecbf277c6"
      }
     },
     "0591b97726bc4b9c9d43869bed051971": {
      "model_module": "@jupyter-widgets/controls",
      "model_module_version": "1.5.0",
      "model_name": "VBoxModel",
      "state": {
       "children": [
        "IPY_MODEL_04f12f08869b4de8bb8088262214877b",
        "IPY_MODEL_a0baa1a66b4d4f2ea533dca1bb2770ca"
       ],
       "layout": "IPY_MODEL_b1feb194b05d4bd0a00c64f649ebd0f9"
      }
     },
     "059f3d6b44d94dad98f54b534fdae87b": {
      "model_module": "@jupyter-widgets/controls",
      "model_module_version": "1.5.0",
      "model_name": "HBoxModel",
      "state": {
       "children": [
        "IPY_MODEL_332d845f5f804cba8688b613a8f38333",
        "IPY_MODEL_59340d8b970c45b39d588f0f1c4d6355",
        "IPY_MODEL_4e48a74e43144af0957c0fb2eb6dbe6a"
       ],
       "layout": "IPY_MODEL_1547bea163664d44bd185059f68c94ce"
      }
     },
     "05bc303113dd490fb2bf2e148aea61ed": {
      "model_module": "@jupyter-widgets/base",
      "model_module_version": "1.2.0",
      "model_name": "LayoutModel",
      "state": {}
     },
     "05bf1ee2355e4985ab19c8f097acae84": {
      "model_module": "@jupyter-widgets/controls",
      "model_module_version": "1.5.0",
      "model_name": "HBoxModel",
      "state": {
       "children": [
        "IPY_MODEL_2a0c9def7b704a88abd93d0ea1984d5f",
        "IPY_MODEL_fe55225332cc4591bcc2a98957cb9a56"
       ],
       "layout": "IPY_MODEL_38a4c00b17f94f8e942f54a6b83e337b"
      }
     },
     "05fa77b20e3d4291a7da7befa64e3d31": {
      "model_module": "@jupyter-widgets/controls",
      "model_module_version": "1.5.0",
      "model_name": "VBoxModel",
      "state": {
       "children": [
        "IPY_MODEL_928894b9dd754c45b21c1b5c16842462",
        "IPY_MODEL_6b65ad1b0f1747848a5bf39171504c6f"
       ],
       "layout": "IPY_MODEL_0d9a308928554c2eb532e81e085bf66d"
      }
     },
     "06408d9981c14640b62e5ff029139dd1": {
      "model_module": "@jupyter-widgets/controls",
      "model_module_version": "1.5.0",
      "model_name": "ButtonStyleModel",
      "state": {}
     },
     "0655d0325f944b728a6e6e1b85b91df4": {
      "model_module": "@jupyter-widgets/base",
      "model_module_version": "1.2.0",
      "model_name": "LayoutModel",
      "state": {}
     },
     "06837dc2e51a469cbc0fc48bc15ea5ce": {
      "model_module": "@jupyter-widgets/base",
      "model_module_version": "1.2.0",
      "model_name": "LayoutModel",
      "state": {
       "width": "95%"
      }
     },
     "06eb9ec33d084723a568ac730c823907": {
      "model_module": "@jupyter-widgets/base",
      "model_module_version": "1.2.0",
      "model_name": "LayoutModel",
      "state": {
       "width": "10%"
      }
     },
     "06f947ffa92f4fe4ab6482bb3a5522d4": {
      "model_module": "@jupyter-widgets/controls",
      "model_module_version": "1.5.0",
      "model_name": "HBoxModel",
      "state": {
       "children": [
        "IPY_MODEL_21bb109708004c0ab767e782a205b0a1",
        "IPY_MODEL_3610be923d864899987c66bf4b369437"
       ],
       "layout": "IPY_MODEL_ae0d8e6c825440eb95bcb3684564dba8"
      }
     },
     "07192591e5bf472793be356d603559e4": {
      "model_module": "@jupyter-widgets/output",
      "model_module_version": "1.0.0",
      "model_name": "OutputModel",
      "state": {
       "layout": "IPY_MODEL_4833091d47ca4820af198aaa102c388d"
      }
     },
     "07324d81841c43a2b2eaab267bcf36c0": {
      "model_module": "@jupyter-widgets/controls",
      "model_module_version": "1.5.0",
      "model_name": "ButtonModel",
      "state": {
       "description": "1",
       "layout": "IPY_MODEL_b3da8ded1e1f4ff2b074fbfa25ac18ff",
       "style": "IPY_MODEL_40f93b6a610842059c0dbd3a13420951"
      }
     },
     "0754eedd8e5d4b6985a6ecf4c1566687": {
      "model_module": "@jupyter-widgets/base",
      "model_module_version": "1.2.0",
      "model_name": "LayoutModel",
      "state": {
       "width": "95%"
      }
     },
     "07cc45ea7b8f499b8d7e88f4f15eb284": {
      "model_module": "@jupyter-widgets/controls",
      "model_module_version": "1.5.0",
      "model_name": "HBoxModel",
      "state": {
       "children": [
        "IPY_MODEL_fb6eb5f319a3466cb3a8db404cd7b8c0",
        "IPY_MODEL_5ac76f1f6c6547df93e884d1cf868b00"
       ],
       "layout": "IPY_MODEL_aa94091fddf54970917aba6b97cd86f0"
      }
     },
     "081767fe45434859a9960813eab26ce0": {
      "model_module": "@jupyter-widgets/base",
      "model_module_version": "1.2.0",
      "model_name": "LayoutModel",
      "state": {
       "width": "95%"
      }
     },
     "0834e6a0006f4b35a4f9742712de265d": {
      "model_module": "@jupyter-widgets/base",
      "model_module_version": "1.2.0",
      "model_name": "LayoutModel",
      "state": {}
     },
     "083f1caa8ec743fc8dfb242561fa7b49": {
      "model_module": "@jupyter-widgets/controls",
      "model_module_version": "1.5.0",
      "model_name": "ButtonStyleModel",
      "state": {}
     },
     "0857f3b6127b482d895f0353f07829fc": {
      "model_module": "@jupyter-widgets/base",
      "model_module_version": "1.2.0",
      "model_name": "LayoutModel",
      "state": {
       "justify_content": "space-between"
      }
     },
     "08c44ac70d7a4f57bf0e7f8a3e0bbca2": {
      "model_module": "@jupyter-widgets/output",
      "model_module_version": "1.0.0",
      "model_name": "OutputModel",
      "state": {
       "layout": "IPY_MODEL_b326fa6842864092871eb5fa93a98b86"
      }
     },
     "08cda2b2838a48e89a0b0b35140963a7": {
      "model_module": "@jupyter-widgets/output",
      "model_module_version": "1.0.0",
      "model_name": "OutputModel",
      "state": {
       "layout": "IPY_MODEL_243cbe3f1583454085b955dc2cfe1e6c"
      }
     },
     "08ebed307a604179b8dda7e1e5a228c9": {
      "model_module": "@jupyter-widgets/output",
      "model_module_version": "1.0.0",
      "model_name": "OutputModel",
      "state": {
       "layout": "IPY_MODEL_7434c3b12f5644b18cacaf8c151d9be9"
      }
     },
     "090e5b53864241de9dc2aaac089ac2a0": {
      "model_module": "@jupyter-widgets/base",
      "model_module_version": "1.2.0",
      "model_name": "LayoutModel",
      "state": {
       "width": "95%"
      }
     },
     "09216e9cbb68480b80fc28215edd6243": {
      "model_module": "@jupyter-widgets/controls",
      "model_module_version": "1.5.0",
      "model_name": "VBoxModel",
      "state": {
       "children": [
        "IPY_MODEL_0c2eecef0dc44ebe8321d7b5e563ad6e",
        "IPY_MODEL_7738d868e2c24c779eff4c930aa5c96b"
       ],
       "layout": "IPY_MODEL_4fb25be518b84101bcaad8fa8d578094"
      }
     },
     "09b1232809bd435f9bc2800fe2ad1cd7": {
      "model_module": "@jupyter-widgets/base",
      "model_module_version": "1.2.0",
      "model_name": "LayoutModel",
      "state": {
       "justify_content": "space-between"
      }
     },
     "09c6ea4fa76b4694a7b0aa680c2ddb02": {
      "model_module": "@jupyter-widgets/output",
      "model_module_version": "1.0.0",
      "model_name": "OutputModel",
      "state": {
       "layout": "IPY_MODEL_a408980ed4d14c90abfd31d8aa7b35fc"
      }
     },
     "09c9eae59c9d47c7a28f67079fa2c1da": {
      "model_module": "@jupyter-widgets/controls",
      "model_module_version": "1.5.0",
      "model_name": "VBoxModel",
      "state": {
       "children": [
        "IPY_MODEL_21776cc064fb4495bfad7b743e9a60b8",
        "IPY_MODEL_07192591e5bf472793be356d603559e4"
       ],
       "layout": "IPY_MODEL_93969a88d32141b5ba7381d6122d17ea"
      }
     },
     "0a62c9c75c9c445ebd9119afb0661fed": {
      "model_module": "@jupyter-widgets/base",
      "model_module_version": "1.2.0",
      "model_name": "LayoutModel",
      "state": {}
     },
     "0a942d571f674fec8011b491ccae1d06": {
      "model_module": "@jupyter-widgets/base",
      "model_module_version": "1.2.0",
      "model_name": "LayoutModel",
      "state": {}
     },
     "0ad23f0af4564ffe872aa939dc31cc42": {
      "model_module": "@jupyter-widgets/controls",
      "model_module_version": "1.5.0",
      "model_name": "DescriptionStyleModel",
      "state": {
       "description_width": ""
      }
     },
     "0aecfc9af3784f57bcf13d12168d7bb8": {
      "model_module": "@jupyter-widgets/output",
      "model_module_version": "1.0.0",
      "model_name": "OutputModel",
      "state": {
       "layout": "IPY_MODEL_af35749202e04fa1a6313041edfe5cc9"
      }
     },
     "0b2b3f877d2248219aa79a8b475da6ca": {
      "model_module": "@jupyter-widgets/controls",
      "model_module_version": "1.5.0",
      "model_name": "ButtonModel",
      "state": {
       "description": "7",
       "layout": "IPY_MODEL_296a1939525c422b8aac41e209d05010",
       "style": "IPY_MODEL_93bc5646e2e64490a3753d0297605d47"
      }
     },
     "0b38d4bd9af143f08c2693779569dc36": {
      "model_module": "@jupyter-widgets/controls",
      "model_module_version": "1.5.0",
      "model_name": "ButtonStyleModel",
      "state": {}
     },
     "0b7298ba997344d5bc39da761d5cff80": {
      "model_module": "@jupyter-widgets/controls",
      "model_module_version": "1.5.0",
      "model_name": "ButtonStyleModel",
      "state": {}
     },
     "0b88cf66c4a3434eb8adf5080cb99aed": {
      "model_module": "@jupyter-widgets/controls",
      "model_module_version": "1.5.0",
      "model_name": "ButtonModel",
      "state": {
       "description": "0",
       "layout": "IPY_MODEL_78e4c862c2ec447680c80cccf72bdb3b",
       "style": "IPY_MODEL_66eb118ffb2d4d2a89eba50d9e9a0228"
      }
     },
     "0bd438f656574069b49f02215eafd13f": {
      "model_module": "@jupyter-widgets/base",
      "model_module_version": "1.2.0",
      "model_name": "LayoutModel",
      "state": {
       "width": "10%"
      }
     },
     "0c2eecef0dc44ebe8321d7b5e563ad6e": {
      "model_module": "@jupyter-widgets/controls",
      "model_module_version": "1.5.0",
      "model_name": "ButtonModel",
      "state": {
       "description": "1",
       "layout": "IPY_MODEL_eb10ec1b4af041ca8f9f22bde7be8b67",
       "style": "IPY_MODEL_86e9b52b3b5545538db7289ec9e17b58"
      }
     },
     "0c430869cd99434fa5d3775049d1ccc1": {
      "model_module": "@jupyter-widgets/output",
      "model_module_version": "1.0.0",
      "model_name": "OutputModel",
      "state": {
       "layout": "IPY_MODEL_14636baa619f4f189288cc2fb2395ef9"
      }
     },
     "0ca0c8ba186747739ef2cfa93b7c2cd1": {
      "model_module": "@jupyter-widgets/base",
      "model_module_version": "1.2.0",
      "model_name": "LayoutModel",
      "state": {}
     },
     "0ccfcbba127a4443bc6183270bf5d1ca": {
      "model_module": "@jupyter-widgets/base",
      "model_module_version": "1.2.0",
      "model_name": "LayoutModel",
      "state": {
       "width": "10%"
      }
     },
     "0d7215e12fd0401997c188d968b28431": {
      "model_module": "@jupyter-widgets/controls",
      "model_module_version": "1.5.0",
      "model_name": "ButtonModel",
      "state": {
       "description": "6",
       "layout": "IPY_MODEL_b13e5a0bce7d48dd9eab0e12e513825a",
       "style": "IPY_MODEL_4cbd32eed7914b0889f72aa6c4e26a52"
      }
     },
     "0d957aa605a241a2a7394bc243053311": {
      "model_module": "@jupyter-widgets/base",
      "model_module_version": "1.2.0",
      "model_name": "LayoutModel",
      "state": {}
     },
     "0d99d68e2d2a427d956b75e45fc8c864": {
      "model_module": "@jupyter-widgets/base",
      "model_module_version": "1.2.0",
      "model_name": "LayoutModel",
      "state": {
       "width": "95%"
      }
     },
     "0d9a308928554c2eb532e81e085bf66d": {
      "model_module": "@jupyter-widgets/base",
      "model_module_version": "1.2.0",
      "model_name": "LayoutModel",
      "state": {
       "width": "10%"
      }
     },
     "0e096d084e974376a51ef5387b864d3f": {
      "model_module": "@jupyter-widgets/base",
      "model_module_version": "1.2.0",
      "model_name": "LayoutModel",
      "state": {
       "width": "95%"
      }
     },
     "0e162c0273434d0ca98944b24ef2a735": {
      "model_module": "@jupyter-widgets/base",
      "model_module_version": "1.2.0",
      "model_name": "LayoutModel",
      "state": {
       "width": "10%"
      }
     },
     "0e54f23220924c85a0f3af18b4764b61": {
      "model_module": "@jupyter-widgets/controls",
      "model_module_version": "1.5.0",
      "model_name": "ButtonStyleModel",
      "state": {}
     },
     "0e6a9ef8c5be4e5cbe9478547be3d8e9": {
      "model_module": "@jupyter-widgets/controls",
      "model_module_version": "1.5.0",
      "model_name": "ButtonStyleModel",
      "state": {}
     },
     "0ea8199792ae43ef9ebd3724a56518c7": {
      "model_module": "@jupyter-widgets/base",
      "model_module_version": "1.2.0",
      "model_name": "LayoutModel",
      "state": {
       "width": "10%"
      }
     },
     "0ee29e53180f4867b7ea7a5236a88ebb": {
      "model_module": "@jupyter-widgets/controls",
      "model_module_version": "1.5.0",
      "model_name": "ButtonModel",
      "state": {
       "description": "0",
       "layout": "IPY_MODEL_cd3d065007b347b9ad5ca13c73696153",
       "style": "IPY_MODEL_ca7fc1ef0e8d4f2e91d9088116e59a71"
      }
     },
     "0f22f58d27e24f528a771a3fedcf77f9": {
      "model_module": "@jupyter-widgets/base",
      "model_module_version": "1.2.0",
      "model_name": "LayoutModel",
      "state": {}
     },
     "0f2be07cb33441a2bf03f421e737b585": {
      "model_module": "@jupyter-widgets/controls",
      "model_module_version": "1.5.0",
      "model_name": "ButtonModel",
      "state": {
       "description": "0",
       "layout": "IPY_MODEL_d0bf43670c79422d933bd45a5d8ca6be",
       "style": "IPY_MODEL_307d1adcb5864190a8e4b0b9ea3a9a71"
      }
     },
     "0f46a3a5b57c4caca6c8c0b72d29ffe6": {
      "model_module": "@jupyter-widgets/controls",
      "model_module_version": "1.5.0",
      "model_name": "ButtonStyleModel",
      "state": {}
     },
     "0f75ccd9118442c8b74deec18432800e": {
      "model_module": "@jupyter-widgets/controls",
      "model_module_version": "1.5.0",
      "model_name": "HBoxModel",
      "state": {
       "children": [
        "IPY_MODEL_c1d8018b8b1145c2ae93b9450689bce0",
        "IPY_MODEL_dda4e93078f84ae2b818ec71e81094ec"
       ],
       "layout": "IPY_MODEL_392ba1d467444fb784c80f9d3b506cfd"
      }
     },
     "0f9103f0c4bf47a5b9240d3da3b9fbde": {
      "model_module": "@jupyter-widgets/controls",
      "model_module_version": "1.5.0",
      "model_name": "ButtonModel",
      "state": {
       "description": "1",
       "layout": "IPY_MODEL_3ba6549be740441082fcff65cf746ba9",
       "style": "IPY_MODEL_870d10cf614e4cb48fd083143b06ed7c"
      }
     },
     "0fabb03aa7984695954bb4d8ac87e617": {
      "model_module": "@jupyter-widgets/base",
      "model_module_version": "1.2.0",
      "model_name": "LayoutModel",
      "state": {}
     },
     "0fcec58071fa43e0bbdef4a9b67fe262": {
      "model_module": "@jupyter-widgets/base",
      "model_module_version": "1.2.0",
      "model_name": "LayoutModel",
      "state": {}
     },
     "0fd4bec2c17e4582a49568bc6e30a6ea": {
      "model_module": "@jupyter-widgets/base",
      "model_module_version": "1.2.0",
      "model_name": "LayoutModel",
      "state": {}
     },
     "0fdc6b8403ab4781b5d340264c5458dd": {
      "model_module": "@jupyter-widgets/base",
      "model_module_version": "1.2.0",
      "model_name": "LayoutModel",
      "state": {
       "width": "95%"
      }
     },
     "0febdf4229a44ca2891d0758419e03e6": {
      "model_module": "@jupyter-widgets/controls",
      "model_module_version": "1.5.0",
      "model_name": "ButtonModel",
      "state": {
       "description": "5",
       "layout": "IPY_MODEL_35ba0187bd67418fa0480ecd94909c5c",
       "style": "IPY_MODEL_faf0ead9d3884d039ff23f3d563ef80c"
      }
     },
     "0ff956e8fe8f4d5ea698b63dac82ce20": {
      "model_module": "@jupyter-widgets/base",
      "model_module_version": "1.2.0",
      "model_name": "LayoutModel",
      "state": {
       "width": "95%"
      }
     },
     "101ca6262610437081f2d40dcbe5ef17": {
      "model_module": "@jupyter-widgets/output",
      "model_module_version": "1.0.0",
      "model_name": "OutputModel",
      "state": {
       "layout": "IPY_MODEL_2c1fd4c180c0450fa5c46b2d35e676a7"
      }
     },
     "102cb5b0153e43ccbd4b45750ab61707": {
      "model_module": "@jupyter-widgets/base",
      "model_module_version": "1.2.0",
      "model_name": "LayoutModel",
      "state": {
       "width": "95%"
      }
     },
     "1036d2d6ce6e4328848c728ec73dc575": {
      "model_module": "@jupyter-widgets/controls",
      "model_module_version": "1.5.0",
      "model_name": "TextModel",
      "state": {
       "description": "Other:",
       "layout": "IPY_MODEL_3a8da8efb01e464b9dd7fa6d2b512fb8",
       "placeholder": "Hit enter to submit.",
       "style": "IPY_MODEL_5529895739d2407aad374d23174e93b3"
      }
     },
     "10f5616e91d24c86bc07c02dfe43f9c0": {
      "model_module": "@jupyter-widgets/base",
      "model_module_version": "1.2.0",
      "model_name": "LayoutModel",
      "state": {
       "width": "10%"
      }
     },
     "10fcba97722a4873aee96ed5d3207182": {
      "model_module": "@jupyter-widgets/base",
      "model_module_version": "1.2.0",
      "model_name": "LayoutModel",
      "state": {
       "width": "10%"
      }
     },
     "1134b8ccb4764583a074ec5c7fa8e4d6": {
      "model_module": "@jupyter-widgets/controls",
      "model_module_version": "1.5.0",
      "model_name": "HBoxModel",
      "state": {
       "children": [
        "IPY_MODEL_e8318ae0bf284b8eabbf4a78b60e0471",
        "IPY_MODEL_529d95ef79b8420f88c385feb38fe74b"
       ],
       "layout": "IPY_MODEL_143ca1f128424e39ab7f7a2973fbed1d"
      }
     },
     "116df972ff574da8b88c646b016c6713": {
      "model_module": "@jupyter-widgets/controls",
      "model_module_version": "1.5.0",
      "model_name": "VBoxModel",
      "state": {
       "children": [
        "IPY_MODEL_c79d34c00bd843f48b12fb577b48ac24",
        "IPY_MODEL_642cdcdfce384fb7afd9d708a1986f28"
       ],
       "layout": "IPY_MODEL_bb17b2219a13428c959c39dcef1fd6cb"
      }
     },
     "118dc968aa0d4b778da1da77cca962d0": {
      "model_module": "@jupyter-widgets/base",
      "model_module_version": "1.2.0",
      "model_name": "LayoutModel",
      "state": {
       "width": "10%"
      }
     },
     "11a9ce4621884e6ebaa8b11cb020cc36": {
      "model_module": "@jupyter-widgets/output",
      "model_module_version": "1.0.0",
      "model_name": "OutputModel",
      "state": {
       "layout": "IPY_MODEL_54bb609619cf41a5b8572f9a64bce56f"
      }
     },
     "11c8dd2384aa4d83867144854fa4b801": {
      "model_module": "@jupyter-widgets/base",
      "model_module_version": "1.2.0",
      "model_name": "LayoutModel",
      "state": {}
     },
     "11d94a3d10844003a9b7b3abe8261151": {
      "model_module": "@jupyter-widgets/base",
      "model_module_version": "1.2.0",
      "model_name": "LayoutModel",
      "state": {}
     },
     "11dd725a41dd40fa90a979c75c9b927c": {
      "model_module": "@jupyter-widgets/base",
      "model_module_version": "1.2.0",
      "model_name": "LayoutModel",
      "state": {
       "width": "10%"
      }
     },
     "1212080af4ec4bc19abceec55321cf0e": {
      "model_module": "@jupyter-widgets/base",
      "model_module_version": "1.2.0",
      "model_name": "LayoutModel",
      "state": {
       "width": "10%"
      }
     },
     "124f7c0e3226454cbb992ec09ad3a42a": {
      "model_module": "@jupyter-widgets/controls",
      "model_module_version": "1.5.0",
      "model_name": "HBoxModel",
      "state": {
       "children": [
        "IPY_MODEL_42280cec97e446dd93494a2f03ac40dd",
        "IPY_MODEL_ee02a323407943a8aaf4441681aae55c"
       ],
       "layout": "IPY_MODEL_09b1232809bd435f9bc2800fe2ad1cd7"
      }
     },
     "12a946170e784212966af4e7e88d1408": {
      "model_module": "@jupyter-widgets/controls",
      "model_module_version": "1.5.0",
      "model_name": "VBoxModel",
      "state": {
       "children": [
        "IPY_MODEL_86bd437818614e418f6728dc2f3a9a74",
        "IPY_MODEL_41fb7558081348f3ace69643fb1eef0f"
       ],
       "layout": "IPY_MODEL_4ab95d622a5144da973d22991c335d2b"
      }
     },
     "12b4705171a9402e8ab841fb68eeecf1": {
      "model_module": "@jupyter-widgets/controls",
      "model_module_version": "1.5.0",
      "model_name": "DescriptionStyleModel",
      "state": {
       "description_width": ""
      }
     },
     "12cae066ee2847488e1f9c7b3a622736": {
      "model_module": "@jupyter-widgets/base",
      "model_module_version": "1.2.0",
      "model_name": "LayoutModel",
      "state": {}
     },
     "12e56ca0720446fcb44fcb75ce3819fb": {
      "model_module": "@jupyter-widgets/controls",
      "model_module_version": "1.5.0",
      "model_name": "ButtonStyleModel",
      "state": {}
     },
     "12ecd7db14004c6a9c714a2341f3ed0d": {
      "model_module": "@jupyter-widgets/controls",
      "model_module_version": "1.5.0",
      "model_name": "ButtonModel",
      "state": {
       "description": "3",
       "layout": "IPY_MODEL_4cc231ed79a942c087a5e7ba2d9ebdad",
       "style": "IPY_MODEL_6a93fad307db4d0e99ee7a913c035a99"
      }
     },
     "1341c30520494a5eb5726498730e2b2f": {
      "model_module": "@jupyter-widgets/output",
      "model_module_version": "1.0.0",
      "model_name": "OutputModel",
      "state": {
       "layout": "IPY_MODEL_416a66abae224baba231a9104c28af59"
      }
     },
     "1392442de6e44d089bce22ea359d1f6c": {
      "model_module": "@jupyter-widgets/controls",
      "model_module_version": "1.5.0",
      "model_name": "ButtonStyleModel",
      "state": {}
     },
     "13e90af5d4e94af1bb01a9f84c54102e": {
      "model_module": "@jupyter-widgets/controls",
      "model_module_version": "1.5.0",
      "model_name": "ButtonModel",
      "state": {
       "description": "7",
       "layout": "IPY_MODEL_f8e91c5852004954a4652d045b189808",
       "style": "IPY_MODEL_dfd3bc80995d4ba1bd362c11e1cf3399"
      }
     },
     "13ed99b667704cb89c5b28033a375b46": {
      "model_module": "@jupyter-widgets/controls",
      "model_module_version": "1.5.0",
      "model_name": "HBoxModel",
      "state": {
       "children": [
        "IPY_MODEL_9d823a37e4104491a15c3804d3f52fc1",
        "IPY_MODEL_3d335f068d5d4324b946c8264bb7473a"
       ],
       "layout": "IPY_MODEL_519489a45e9b47a780820c8376538274"
      }
     },
     "140eed2a37d74e1293cb9085a7c0fd63": {
      "model_module": "@jupyter-widgets/output",
      "model_module_version": "1.0.0",
      "model_name": "OutputModel",
      "state": {
       "layout": "IPY_MODEL_e4cea9c757c14137bea7bf662f2f6583"
      }
     },
     "143ca1f128424e39ab7f7a2973fbed1d": {
      "model_module": "@jupyter-widgets/base",
      "model_module_version": "1.2.0",
      "model_name": "LayoutModel",
      "state": {
       "justify_content": "space-between"
      }
     },
     "144a494bdf4d44c08e27d3469d8e207f": {
      "model_module": "@jupyter-widgets/base",
      "model_module_version": "1.2.0",
      "model_name": "LayoutModel",
      "state": {
       "width": "10%"
      }
     },
     "145b0d4275ab4add8bcce6f5717f840a": {
      "model_module": "@jupyter-widgets/base",
      "model_module_version": "1.2.0",
      "model_name": "LayoutModel",
      "state": {
       "width": "95%"
      }
     },
     "14636baa619f4f189288cc2fb2395ef9": {
      "model_module": "@jupyter-widgets/base",
      "model_module_version": "1.2.0",
      "model_name": "LayoutModel",
      "state": {}
     },
     "1492824c9f714ace9b10825edc948ffc": {
      "model_module": "@jupyter-widgets/output",
      "model_module_version": "1.0.0",
      "model_name": "OutputModel",
      "state": {
       "layout": "IPY_MODEL_f8110b5fcf0f4866b6d0eb10b13fc7de"
      }
     },
     "1500528260c640efa5122f65a400b5ec": {
      "model_module": "@jupyter-widgets/output",
      "model_module_version": "1.0.0",
      "model_name": "OutputModel",
      "state": {
       "layout": "IPY_MODEL_8348610433574bca9767588cfb014508"
      }
     },
     "1547bea163664d44bd185059f68c94ce": {
      "model_module": "@jupyter-widgets/base",
      "model_module_version": "1.2.0",
      "model_name": "LayoutModel",
      "state": {}
     },
     "157576a5c76e4c9586ef818fdfbb830e": {
      "model_module": "@jupyter-widgets/output",
      "model_module_version": "1.0.0",
      "model_name": "OutputModel",
      "state": {
       "layout": "IPY_MODEL_e82295b289e04abda6dff2ea9ceeb107"
      }
     },
     "159c12a5fdc94b3a84e1cfd1bd642047": {
      "model_module": "@jupyter-widgets/base",
      "model_module_version": "1.2.0",
      "model_name": "LayoutModel",
      "state": {
       "width": "10%"
      }
     },
     "15a19a369e6d42b487fccc106a75ad6c": {
      "model_module": "@jupyter-widgets/controls",
      "model_module_version": "1.5.0",
      "model_name": "VBoxModel",
      "state": {
       "children": [
        "IPY_MODEL_2542ca8a5ea94425940d8b366df5ef39",
        "IPY_MODEL_98ae0dbd39bc436d93aae136809ae575"
       ],
       "layout": "IPY_MODEL_531bc963b7f74ffc827e883d8aa3195f"
      }
     },
     "15bc9bbb0a874b888fdf78e5d83bed98": {
      "model_module": "@jupyter-widgets/output",
      "model_module_version": "1.0.0",
      "model_name": "OutputModel",
      "state": {
       "layout": "IPY_MODEL_ecdf71a8b6bd4a06a5cb8d18aac7ebfa"
      }
     },
     "16971d25bda74c6990251d58c3f857c6": {
      "model_module": "@jupyter-widgets/controls",
      "model_module_version": "1.5.0",
      "model_name": "DescriptionStyleModel",
      "state": {
       "description_width": ""
      }
     },
     "16ba2506fed349969c570add3f80f0b0": {
      "model_module": "@jupyter-widgets/controls",
      "model_module_version": "1.5.0",
      "model_name": "VBoxModel",
      "state": {
       "children": [
        "IPY_MODEL_8933e5cd7d554365a28730c6b3b113ae",
        "IPY_MODEL_f7de9513b1c446b8af804cd3f87a55fe"
       ],
       "layout": "IPY_MODEL_1bc00d665852430596ced3ffd0436b08"
      }
     },
     "17124e1f71024d9e9b04da7001fabdf0": {
      "model_module": "@jupyter-widgets/base",
      "model_module_version": "1.2.0",
      "model_name": "LayoutModel",
      "state": {}
     },
     "173e50d5c54942d1b34a5dfd3c47c97f": {
      "model_module": "@jupyter-widgets/base",
      "model_module_version": "1.2.0",
      "model_name": "LayoutModel",
      "state": {}
     },
     "1743bd34ea2d4f9786366115879b5d06": {
      "model_module": "@jupyter-widgets/output",
      "model_module_version": "1.0.0",
      "model_name": "OutputModel",
      "state": {
       "layout": "IPY_MODEL_92c759d62678485680eb51f66909b0ed"
      }
     },
     "1784b9b94b91405e84f5cee38b4fc517": {
      "model_module": "@jupyter-widgets/controls",
      "model_module_version": "1.5.0",
      "model_name": "ButtonModel",
      "state": {
       "description": "5",
       "layout": "IPY_MODEL_0754eedd8e5d4b6985a6ecf4c1566687",
       "style": "IPY_MODEL_945f247e492944b9b0b3c6874b8606c8"
      }
     },
     "1787500c8538493cae58785bb303865a": {
      "model_module": "@jupyter-widgets/base",
      "model_module_version": "1.2.0",
      "model_name": "LayoutModel",
      "state": {
       "justify_content": "space-between"
      }
     },
     "17bd8573160345028e19e76c27e40234": {
      "model_module": "@jupyter-widgets/base",
      "model_module_version": "1.2.0",
      "model_name": "LayoutModel",
      "state": {}
     },
     "17e582746bfc4f7d956e4b3332cd58ca": {
      "model_module": "@jupyter-widgets/controls",
      "model_module_version": "1.5.0",
      "model_name": "ButtonModel",
      "state": {
       "description": "2",
       "layout": "IPY_MODEL_4487123a2e65467f9df236b718a61f01",
       "style": "IPY_MODEL_927cb6e1c1b74fcfbe07b25d80ea45eb"
      }
     },
     "17eaf0d1c291482da97536f5b97c9769": {
      "model_module": "@jupyter-widgets/controls",
      "model_module_version": "1.5.0",
      "model_name": "ButtonModel",
      "state": {
       "description": "9",
       "layout": "IPY_MODEL_68e8681ddbdf4735b496baf21d303110",
       "style": "IPY_MODEL_1c77961f41114638b9646b8bbccdec72"
      }
     },
     "17fe978a3f0e4ac594e9fad8c17eb802": {
      "model_module": "@jupyter-widgets/controls",
      "model_module_version": "1.5.0",
      "model_name": "ButtonModel",
      "state": {
       "description": "2",
       "layout": "IPY_MODEL_2f185e9bedb04484ae8615a45f049c0b",
       "style": "IPY_MODEL_245eedefefde4e4fabf199b6acdf0692"
      }
     },
     "18106bfe875946139ad92c7bea716e63": {
      "model_module": "@jupyter-widgets/controls",
      "model_module_version": "1.5.0",
      "model_name": "ButtonStyleModel",
      "state": {}
     },
     "18448bab1206498ab483f9ec12696515": {
      "model_module": "@jupyter-widgets/controls",
      "model_module_version": "1.5.0",
      "model_name": "TextModel",
      "state": {
       "description": "Other:",
       "layout": "IPY_MODEL_432e022512c14de4ba481d434b06d812",
       "placeholder": "Hit enter to submit.",
       "style": "IPY_MODEL_bdbcbc7311944a9e9da9b9dda560dc36"
      }
     },
     "185c1a00503f4889963a1626c3a1b579": {
      "model_module": "@jupyter-widgets/controls",
      "model_module_version": "1.5.0",
      "model_name": "ButtonStyleModel",
      "state": {}
     },
     "18b6d6c78eaf4f0a94c4b23933b24748": {
      "model_module": "@jupyter-widgets/controls",
      "model_module_version": "1.5.0",
      "model_name": "ButtonStyleModel",
      "state": {}
     },
     "18b7c04ce3e64e248d748633e5d2d10e": {
      "model_module": "@jupyter-widgets/output",
      "model_module_version": "1.0.0",
      "model_name": "OutputModel",
      "state": {
       "layout": "IPY_MODEL_993353de9b124dd485165be4d90445cb"
      }
     },
     "18c2062b84234e83a15cbd3da4d77eb7": {
      "model_module": "@jupyter-widgets/controls",
      "model_module_version": "1.5.0",
      "model_name": "ButtonStyleModel",
      "state": {}
     },
     "18dc588bae384ccab1facb6b76e89969": {
      "model_module": "@jupyter-widgets/base",
      "model_module_version": "1.2.0",
      "model_name": "LayoutModel",
      "state": {}
     },
     "196c37a2da1442d4b979670e1b760412": {
      "model_module": "@jupyter-widgets/base",
      "model_module_version": "1.2.0",
      "model_name": "LayoutModel",
      "state": {}
     },
     "19b469548bc9411b98e588fc2d3c8c65": {
      "model_module": "@jupyter-widgets/base",
      "model_module_version": "1.2.0",
      "model_name": "LayoutModel",
      "state": {
       "width": "10%"
      }
     },
     "19dac552b1aa4006b092fc85299e0a96": {
      "model_module": "@jupyter-widgets/controls",
      "model_module_version": "1.5.0",
      "model_name": "ButtonModel",
      "state": {
       "description": "3",
       "layout": "IPY_MODEL_2a14f2a0791349f8beaa575cbd13ca13",
       "style": "IPY_MODEL_225089a7e6ea4a50b07cf64f1a7320b3"
      }
     },
     "1a6086d33790463c88fad7da2a0373ed": {
      "model_module": "@jupyter-widgets/controls",
      "model_module_version": "1.5.0",
      "model_name": "ButtonModel",
      "state": {
       "description": "5",
       "layout": "IPY_MODEL_1c57826483dd42ddab91fca51c562cac",
       "style": "IPY_MODEL_c1b93bd9fad0456fb50d86106d797a05"
      }
     },
     "1a60d039d2674570ba7774ada4fa1a16": {
      "model_module": "@jupyter-widgets/controls",
      "model_module_version": "1.5.0",
      "model_name": "ButtonStyleModel",
      "state": {}
     },
     "1ad0e2940b9449ba9e0ca5775075ef05": {
      "model_module": "@jupyter-widgets/base",
      "model_module_version": "1.2.0",
      "model_name": "LayoutModel",
      "state": {}
     },
     "1b197b06da6c41a7abf41adacfd4d580": {
      "model_module": "@jupyter-widgets/base",
      "model_module_version": "1.2.0",
      "model_name": "LayoutModel",
      "state": {
       "width": "10%"
      }
     },
     "1b26665948e84593b80854054450b718": {
      "model_module": "@jupyter-widgets/controls",
      "model_module_version": "1.5.0",
      "model_name": "ButtonStyleModel",
      "state": {}
     },
     "1b36120d757b4b969871b913137af413": {
      "model_module": "@jupyter-widgets/controls",
      "model_module_version": "1.5.0",
      "model_name": "ButtonStyleModel",
      "state": {}
     },
     "1b4bb52c95494599a1e21831119ca2f6": {
      "model_module": "@jupyter-widgets/controls",
      "model_module_version": "1.5.0",
      "model_name": "VBoxModel",
      "state": {
       "children": [
        "IPY_MODEL_05371a3f704e4913b4baae440ccea5ef",
        "IPY_MODEL_203ed12d3b3740a9b843a5d770b4a49c"
       ],
       "layout": "IPY_MODEL_ccccc76431644ae8a0a1f641cf361114"
      }
     },
     "1b906c9b38ed4928800d1d72a5633f7b": {
      "model_module": "@jupyter-widgets/base",
      "model_module_version": "1.2.0",
      "model_name": "LayoutModel",
      "state": {
       "width": "10%"
      }
     },
     "1b999f8a053c4d3fbcf956c493dceaaa": {
      "model_module": "@jupyter-widgets/base",
      "model_module_version": "1.2.0",
      "model_name": "LayoutModel",
      "state": {}
     },
     "1bc00d665852430596ced3ffd0436b08": {
      "model_module": "@jupyter-widgets/base",
      "model_module_version": "1.2.0",
      "model_name": "LayoutModel",
      "state": {
       "width": "10%"
      }
     },
     "1bcf23359d1a4448a0f1245463cab93b": {
      "model_module": "@jupyter-widgets/base",
      "model_module_version": "1.2.0",
      "model_name": "LayoutModel",
      "state": {
       "width": "95%"
      }
     },
     "1bd83d41103a478ca480d006902bec37": {
      "model_module": "@jupyter-widgets/base",
      "model_module_version": "1.2.0",
      "model_name": "LayoutModel",
      "state": {}
     },
     "1bfb984d53fb4b8eb5c5e59b7f1f0168": {
      "model_module": "@jupyter-widgets/output",
      "model_module_version": "1.0.0",
      "model_name": "OutputModel",
      "state": {
       "layout": "IPY_MODEL_7c172f993bcf4c00a4c5ea17e8ae6182"
      }
     },
     "1c3797b200f54fbda4872f8da7991c5d": {
      "model_module": "@jupyter-widgets/base",
      "model_module_version": "1.2.0",
      "model_name": "LayoutModel",
      "state": {
       "width": "10%"
      }
     },
     "1c57826483dd42ddab91fca51c562cac": {
      "model_module": "@jupyter-widgets/base",
      "model_module_version": "1.2.0",
      "model_name": "LayoutModel",
      "state": {
       "width": "95%"
      }
     },
     "1c6f7b57aa254454a0132e161a45c1e3": {
      "model_module": "@jupyter-widgets/base",
      "model_module_version": "1.2.0",
      "model_name": "LayoutModel",
      "state": {}
     },
     "1c77961f41114638b9646b8bbccdec72": {
      "model_module": "@jupyter-widgets/controls",
      "model_module_version": "1.5.0",
      "model_name": "ButtonStyleModel",
      "state": {}
     },
     "1c8273fc08474d23b7d6fced4e2ac235": {
      "model_module": "@jupyter-widgets/base",
      "model_module_version": "1.2.0",
      "model_name": "LayoutModel",
      "state": {
       "width": "10%"
      }
     },
     "1cd6eb8c6772441e808a3c3c38fb4aea": {
      "model_module": "@jupyter-widgets/base",
      "model_module_version": "1.2.0",
      "model_name": "LayoutModel",
      "state": {}
     },
     "1d6b6cd4e8e347ea98f304a9ef84db78": {
      "model_module": "@jupyter-widgets/base",
      "model_module_version": "1.2.0",
      "model_name": "LayoutModel",
      "state": {
       "width": "95%"
      }
     },
     "1dcdff9ca1204891916c39c2a839c47c": {
      "model_module": "@jupyter-widgets/base",
      "model_module_version": "1.2.0",
      "model_name": "LayoutModel",
      "state": {
       "width": "10%"
      }
     },
     "1df66dacfb254915baadb193e26b1d87": {
      "model_module": "@jupyter-widgets/controls",
      "model_module_version": "1.5.0",
      "model_name": "ButtonModel",
      "state": {
       "description": "5",
       "layout": "IPY_MODEL_6f1d41ac114f41a08e36236612ea9c9f",
       "style": "IPY_MODEL_ab92b6e0dec54451884d7d878423441a"
      }
     },
     "1e07802114f247d78febc1785dcde8be": {
      "model_module": "@jupyter-widgets/base",
      "model_module_version": "1.2.0",
      "model_name": "LayoutModel",
      "state": {}
     },
     "1e3be33ec4524566862a0741a14945a2": {
      "model_module": "@jupyter-widgets/controls",
      "model_module_version": "1.5.0",
      "model_name": "VBoxModel",
      "state": {
       "children": [
        "IPY_MODEL_a4b484cb824344fd80a8a2e1c1391099",
        "IPY_MODEL_38440a0e3fa3449a9fc8070a9b5b2555"
       ],
       "layout": "IPY_MODEL_f0ea67febff14eebb1dd71de83e2bb83"
      }
     },
     "1e53789452194e26bbaf7d00b3d56623": {
      "model_module": "@jupyter-widgets/base",
      "model_module_version": "1.2.0",
      "model_name": "LayoutModel",
      "state": {
       "width": "95%"
      }
     },
     "1ebc186a0845498eac42c185134cda21": {
      "model_module": "@jupyter-widgets/base",
      "model_module_version": "1.2.0",
      "model_name": "LayoutModel",
      "state": {
       "width": "10%"
      }
     },
     "1ee45ebde5974a1bba98559c2fb22716": {
      "model_module": "@jupyter-widgets/controls",
      "model_module_version": "1.5.0",
      "model_name": "ButtonModel",
      "state": {
       "description": "5",
       "layout": "IPY_MODEL_a477ae5f733b4773909a4276b7eecb9c",
       "style": "IPY_MODEL_b9d7c64269fc4515b336e53ccb4acb65"
      }
     },
     "1f29129fbde942c895daaae60d9f6a7c": {
      "model_module": "@jupyter-widgets/base",
      "model_module_version": "1.2.0",
      "model_name": "LayoutModel",
      "state": {
       "width": "10%"
      }
     },
     "1fbff5952e114dce858ff52b0ebd5b87": {
      "model_module": "@jupyter-widgets/base",
      "model_module_version": "1.2.0",
      "model_name": "LayoutModel",
      "state": {}
     },
     "1fccf38fa2ab405699b36941bf2e1313": {
      "model_module": "@jupyter-widgets/controls",
      "model_module_version": "1.5.0",
      "model_name": "TextModel",
      "state": {
       "description": "Other:",
       "layout": "IPY_MODEL_4c9367ff917249e7966a75f7fd245d97",
       "placeholder": "Hit enter to submit.",
       "style": "IPY_MODEL_017dfb5b201443439e15f3aafe1d447a"
      }
     },
     "1fcd2f9a359f4e21b814087acc6ed155": {
      "model_module": "@jupyter-widgets/base",
      "model_module_version": "1.2.0",
      "model_name": "LayoutModel",
      "state": {}
     },
     "1fdb76bab0794adfb06b62da1d5322b5": {
      "model_module": "@jupyter-widgets/controls",
      "model_module_version": "1.5.0",
      "model_name": "ButtonModel",
      "state": {
       "description": "2",
       "layout": "IPY_MODEL_31fc397d368a458e8ad72300b1c27613",
       "style": "IPY_MODEL_7744213570f642538a8f7863f46eec9b"
      }
     },
     "203d0d7060b44be093a9eac4d95439ad": {
      "model_module": "@jupyter-widgets/controls",
      "model_module_version": "1.5.0",
      "model_name": "ButtonModel",
      "state": {
       "description": "4",
       "layout": "IPY_MODEL_ff696bab5e4941cea42eb4105bb19ad6",
       "style": "IPY_MODEL_5f9c94464cef461da8d9abfedafcf259"
      }
     },
     "203ed12d3b3740a9b843a5d770b4a49c": {
      "model_module": "@jupyter-widgets/output",
      "model_module_version": "1.0.0",
      "model_name": "OutputModel",
      "state": {
       "layout": "IPY_MODEL_28626ebc2a8e430c896b873a4d6be97b"
      }
     },
     "2040069d859140c88330a786e47803cf": {
      "model_module": "@jupyter-widgets/output",
      "model_module_version": "1.0.0",
      "model_name": "OutputModel",
      "state": {
       "layout": "IPY_MODEL_aa47496d96b14f45a4bb53188eb5f6fa"
      }
     },
     "205c7f63d6064a9b9b15787e7f2cd9c7": {
      "model_module": "@jupyter-widgets/base",
      "model_module_version": "1.2.0",
      "model_name": "LayoutModel",
      "state": {
       "width": "95%"
      }
     },
     "20704edbd9ea46a0ae4f5e19a73c1d61": {
      "model_module": "@jupyter-widgets/base",
      "model_module_version": "1.2.0",
      "model_name": "LayoutModel",
      "state": {
       "width": "10%"
      }
     },
     "20becc90655a4a1ab114018a2eb2a46a": {
      "model_module": "@jupyter-widgets/controls",
      "model_module_version": "1.5.0",
      "model_name": "ButtonStyleModel",
      "state": {}
     },
     "20cb8088f79c4424a9314236477f9065": {
      "model_module": "@jupyter-widgets/base",
      "model_module_version": "1.2.0",
      "model_name": "LayoutModel",
      "state": {}
     },
     "20f5a38cbf354873b52d7d4078370f4a": {
      "model_module": "@jupyter-widgets/output",
      "model_module_version": "1.0.0",
      "model_name": "OutputModel",
      "state": {
       "layout": "IPY_MODEL_02e5c6492b0a40a598bc7709b0d8f6cd"
      }
     },
     "2103b919c6c846e4bdfe61b60a16b88b": {
      "model_module": "@jupyter-widgets/base",
      "model_module_version": "1.2.0",
      "model_name": "LayoutModel",
      "state": {
       "width": "95%"
      }
     },
     "213054d2001a4ca184e124ce63d2f4e1": {
      "model_module": "@jupyter-widgets/controls",
      "model_module_version": "1.5.0",
      "model_name": "ButtonStyleModel",
      "state": {}
     },
     "214ee60469344d4380c364d83b1e174a": {
      "model_module": "@jupyter-widgets/controls",
      "model_module_version": "1.5.0",
      "model_name": "ButtonStyleModel",
      "state": {}
     },
     "2154af06c78e45bfaf7e5c62f12861db": {
      "model_module": "@jupyter-widgets/base",
      "model_module_version": "1.2.0",
      "model_name": "LayoutModel",
      "state": {}
     },
     "216216002f1c4508a9841d67525d65c8": {
      "model_module": "@jupyter-widgets/controls",
      "model_module_version": "1.5.0",
      "model_name": "ButtonModel",
      "state": {
       "description": "9",
       "layout": "IPY_MODEL_1d6b6cd4e8e347ea98f304a9ef84db78",
       "style": "IPY_MODEL_a1b679d9e47042a9b0e46ea9e6ea6b2b"
      }
     },
     "21708ea392674eeca5c96f259fd337f4": {
      "model_module": "@jupyter-widgets/controls",
      "model_module_version": "1.5.0",
      "model_name": "VBoxModel",
      "state": {
       "children": [
        "IPY_MODEL_bec1945e9bb645e6aabe31dd13a59d47",
        "IPY_MODEL_a086d4b4d0884ab99ac43e3454bb2e1a"
       ],
       "layout": "IPY_MODEL_775d9d345aff4293b3543aacefd8fcfe"
      }
     },
     "21776cc064fb4495bfad7b743e9a60b8": {
      "model_module": "@jupyter-widgets/controls",
      "model_module_version": "1.5.0",
      "model_name": "ButtonModel",
      "state": {
       "description": "0",
       "layout": "IPY_MODEL_c31d1ddcb8a545179072c3842107dab1",
       "style": "IPY_MODEL_bdf21d997bb44db3874cc22ac90e1af5"
      }
     },
     "21bb109708004c0ab767e782a205b0a1": {
      "model_module": "@jupyter-widgets/controls",
      "model_module_version": "1.5.0",
      "model_name": "TextModel",
      "state": {
       "description": "Other:",
       "layout": "IPY_MODEL_a9d3215e725f4eeb872ff6e5c079fe2d",
       "placeholder": "Hit enter to submit.",
       "style": "IPY_MODEL_d0ca7c1150c14caa98b329b1663d96ef"
      }
     },
     "21ef674094c34de3adb9736ca6e8bbdd": {
      "model_module": "@jupyter-widgets/base",
      "model_module_version": "1.2.0",
      "model_name": "LayoutModel",
      "state": {}
     },
     "222e5cbdf91540b3a4c16597d0401385": {
      "model_module": "@jupyter-widgets/controls",
      "model_module_version": "1.5.0",
      "model_name": "ButtonStyleModel",
      "state": {}
     },
     "224053d3ee554912a666113148a70cd6": {
      "model_module": "@jupyter-widgets/base",
      "model_module_version": "1.2.0",
      "model_name": "LayoutModel",
      "state": {
       "width": "10%"
      }
     },
     "225089a7e6ea4a50b07cf64f1a7320b3": {
      "model_module": "@jupyter-widgets/controls",
      "model_module_version": "1.5.0",
      "model_name": "ButtonStyleModel",
      "state": {}
     },
     "227f8530d46e409e86e780e241557188": {
      "model_module": "@jupyter-widgets/base",
      "model_module_version": "1.2.0",
      "model_name": "LayoutModel",
      "state": {}
     },
     "22807e4f6cc048b58cf993f58b7ee28d": {
      "model_module": "@jupyter-widgets/controls",
      "model_module_version": "1.5.0",
      "model_name": "ButtonStyleModel",
      "state": {}
     },
     "228fe955361346b09d308d09fa8075c9": {
      "model_module": "@jupyter-widgets/controls",
      "model_module_version": "1.5.0",
      "model_name": "HBoxModel",
      "state": {
       "children": [
        "IPY_MODEL_55868b74d23444eaa14ce553f75b5e71",
        "IPY_MODEL_37a363e5711349358de52aecc8559a19",
        "IPY_MODEL_04f9ae69891e4f0e882619eed1124244",
        "IPY_MODEL_378cd7d3d4fc46ff9216270578fe4268",
        "IPY_MODEL_a14f204e2f0e4e009099c776d765c34d",
        "IPY_MODEL_3c35e69abea945bd97e491dc24580cee",
        "IPY_MODEL_4d1c26a9540c4402878e85f7573d4251",
        "IPY_MODEL_d5ff4ad1f63b47d3b18cde6e7167f014",
        "IPY_MODEL_fdb5ccc751df424dae370c4e3039e13a",
        "IPY_MODEL_c6008c848b6849c89279cf60bccb1b7b"
       ],
       "layout": "IPY_MODEL_3e43b04ea3c14c40b44100ee066a0dc5"
      }
     },
     "22917de5bebe49d395e71a7275efedd8": {
      "model_module": "@jupyter-widgets/base",
      "model_module_version": "1.2.0",
      "model_name": "LayoutModel",
      "state": {}
     },
     "22b33f056fdb40a197fcf5a79b75f186": {
      "model_module": "@jupyter-widgets/output",
      "model_module_version": "1.0.0",
      "model_name": "OutputModel",
      "state": {
       "layout": "IPY_MODEL_8b74e39cdcf14ab19dd0bd6f4a914f56"
      }
     },
     "23124a69ae984723bccba9cea63c9ba8": {
      "model_module": "@jupyter-widgets/controls",
      "model_module_version": "1.5.0",
      "model_name": "HBoxModel",
      "state": {
       "children": [
        "IPY_MODEL_7efcfccd2b54424eaf65c7b487491c59",
        "IPY_MODEL_4a90d5ef93b948e5a4f6961a219c11da",
        "IPY_MODEL_8da4ca5bef5b4127b2ddbe433a112356"
       ],
       "layout": "IPY_MODEL_05bc303113dd490fb2bf2e148aea61ed"
      }
     },
     "233475389082439a953991d89f7c8dd4": {
      "model_module": "@jupyter-widgets/output",
      "model_module_version": "1.0.0",
      "model_name": "OutputModel",
      "state": {
       "layout": "IPY_MODEL_fb06df2cc08847e2802954548b795f61"
      }
     },
     "2336515b467c4819a508519033cf2413": {
      "model_module": "@jupyter-widgets/base",
      "model_module_version": "1.2.0",
      "model_name": "LayoutModel",
      "state": {}
     },
     "23558c747aa4446c9c49e19884beba2b": {
      "model_module": "@jupyter-widgets/base",
      "model_module_version": "1.2.0",
      "model_name": "LayoutModel",
      "state": {
       "width": "95%"
      }
     },
     "235d6d11bfd04636b8bbe4f5acdce72a": {
      "model_module": "@jupyter-widgets/output",
      "model_module_version": "1.0.0",
      "model_name": "OutputModel",
      "state": {
       "layout": "IPY_MODEL_ceff24af49bf4ae5a596192a1b1e5f38"
      }
     },
     "239a0e0d82f245b3ad904305440a2815": {
      "model_module": "@jupyter-widgets/base",
      "model_module_version": "1.2.0",
      "model_name": "LayoutModel",
      "state": {}
     },
     "23b94edd0e5e49f39ed41d4f239cc6a7": {
      "model_module": "@jupyter-widgets/base",
      "model_module_version": "1.2.0",
      "model_name": "LayoutModel",
      "state": {
       "width": "10%"
      }
     },
     "23d58a9ea95b4c36a4d1d0853abd6488": {
      "model_module": "@jupyter-widgets/base",
      "model_module_version": "1.2.0",
      "model_name": "LayoutModel",
      "state": {
       "width": "10%"
      }
     },
     "243cbe3f1583454085b955dc2cfe1e6c": {
      "model_module": "@jupyter-widgets/base",
      "model_module_version": "1.2.0",
      "model_name": "LayoutModel",
      "state": {}
     },
     "244208d7fcc34b9681d7981afb186f11": {
      "model_module": "@jupyter-widgets/base",
      "model_module_version": "1.2.0",
      "model_name": "LayoutModel",
      "state": {}
     },
     "245658ce08b84fdd8268e41f4c74c5ea": {
      "model_module": "@jupyter-widgets/base",
      "model_module_version": "1.2.0",
      "model_name": "LayoutModel",
      "state": {
       "width": "95%"
      }
     },
     "245eedefefde4e4fabf199b6acdf0692": {
      "model_module": "@jupyter-widgets/controls",
      "model_module_version": "1.5.0",
      "model_name": "ButtonStyleModel",
      "state": {}
     },
     "24eb4e7740d346dd8cf5a15c58540776": {
      "model_module": "@jupyter-widgets/base",
      "model_module_version": "1.2.0",
      "model_name": "LayoutModel",
      "state": {}
     },
     "2509eb96febf4f01b8af26904af3a9ed": {
      "model_module": "@jupyter-widgets/controls",
      "model_module_version": "1.5.0",
      "model_name": "ButtonModel",
      "state": {
       "description": "3",
       "layout": "IPY_MODEL_6463529d8827476782b3e70a3a3e24db",
       "style": "IPY_MODEL_ba89807773da42af9fecc741508b055f"
      }
     },
     "2542ca8a5ea94425940d8b366df5ef39": {
      "model_module": "@jupyter-widgets/controls",
      "model_module_version": "1.5.0",
      "model_name": "ButtonModel",
      "state": {
       "description": "2",
       "layout": "IPY_MODEL_014598cfa7a54cc5815e187deeb770d5",
       "style": "IPY_MODEL_3531f4d9acbc4380976006a2d5166f14"
      }
     },
     "2577425217b64e60bffa39822aff1102": {
      "model_module": "@jupyter-widgets/base",
      "model_module_version": "1.2.0",
      "model_name": "LayoutModel",
      "state": {}
     },
     "258f84332ee54d6396c179af3db8521a": {
      "model_module": "@jupyter-widgets/controls",
      "model_module_version": "1.5.0",
      "model_name": "VBoxModel",
      "state": {
       "children": [
        "IPY_MODEL_4e9a1d381de943029483038d23126d01",
        "IPY_MODEL_08cda2b2838a48e89a0b0b35140963a7"
       ],
       "layout": "IPY_MODEL_ebb13f7ce17c412cb4a18212511e4f13"
      }
     },
     "25b0d97f6c9e4442b635eb0a4452b527": {
      "model_module": "@jupyter-widgets/base",
      "model_module_version": "1.2.0",
      "model_name": "LayoutModel",
      "state": {}
     },
     "25f397ff1a70462988e7b089decc3e61": {
      "model_module": "@jupyter-widgets/base",
      "model_module_version": "1.2.0",
      "model_name": "LayoutModel",
      "state": {
       "width": "10%"
      }
     },
     "265edacffc7b40d8b48017193a1710df": {
      "model_module": "@jupyter-widgets/base",
      "model_module_version": "1.2.0",
      "model_name": "LayoutModel",
      "state": {
       "width": "10%"
      }
     },
     "268d3d7740994545993991d8cc539e3e": {
      "model_module": "@jupyter-widgets/base",
      "model_module_version": "1.2.0",
      "model_name": "LayoutModel",
      "state": {}
     },
     "2698990d87c24a28ac148aca00b7d5a5": {
      "model_module": "@jupyter-widgets/base",
      "model_module_version": "1.2.0",
      "model_name": "LayoutModel",
      "state": {}
     },
     "26ba5f9049f04a5c913523792aba8260": {
      "model_module": "@jupyter-widgets/base",
      "model_module_version": "1.2.0",
      "model_name": "LayoutModel",
      "state": {
       "width": "10%"
      }
     },
     "26bb923252434c3a9b49687ce945dfd1": {
      "model_module": "@jupyter-widgets/controls",
      "model_module_version": "1.5.0",
      "model_name": "ButtonStyleModel",
      "state": {}
     },
     "2714ebd91d8c458b8bb91af4118a6187": {
      "model_module": "@jupyter-widgets/output",
      "model_module_version": "1.0.0",
      "model_name": "OutputModel",
      "state": {
       "layout": "IPY_MODEL_f244eacabf974070a6f753bf17d89046"
      }
     },
     "27240bfa266d40668a4ab765a37640c5": {
      "model_module": "@jupyter-widgets/controls",
      "model_module_version": "1.5.0",
      "model_name": "ButtonModel",
      "state": {
       "description": "4",
       "layout": "IPY_MODEL_ff85ca54596c4ddbb052a3aaeb8e953e",
       "style": "IPY_MODEL_774fe7eb647942d0853f80c9953f3c31"
      }
     },
     "275243d098964ed39c02b8131cb8a969": {
      "model_module": "@jupyter-widgets/controls",
      "model_module_version": "1.5.0",
      "model_name": "VBoxModel",
      "state": {
       "children": [
        "IPY_MODEL_4f63dde1d1db459ca45e97d1fba78b86",
        "IPY_MODEL_30c0cea0baf4421cb328059eb7f7c252",
        "IPY_MODEL_b8bf58d5d0554c159c5fdbfc3871a3a4"
       ],
       "layout": "IPY_MODEL_84d2a4e7ad5b4a9bac01378c0c34b55f"
      }
     },
     "280abb4b2c0141ceb17ec5aec8c8110a": {
      "model_module": "@jupyter-widgets/base",
      "model_module_version": "1.2.0",
      "model_name": "LayoutModel",
      "state": {
       "width": "10%"
      }
     },
     "280f26b8c12d4fbf8c555c436e087530": {
      "model_module": "@jupyter-widgets/controls",
      "model_module_version": "1.5.0",
      "model_name": "VBoxModel",
      "state": {
       "children": [
        "IPY_MODEL_a8673adaa3e84ee19640df5e9ca49af4",
        "IPY_MODEL_30f2b0a8901d443e956efbb9e793e41d"
       ],
       "layout": "IPY_MODEL_fdb7bb41d7444914a6ca84785e065f9f"
      }
     },
     "28462c33f5cb46b89299382adce043f4": {
      "model_module": "@jupyter-widgets/base",
      "model_module_version": "1.2.0",
      "model_name": "LayoutModel",
      "state": {
       "width": "95%"
      }
     },
     "28626ebc2a8e430c896b873a4d6be97b": {
      "model_module": "@jupyter-widgets/base",
      "model_module_version": "1.2.0",
      "model_name": "LayoutModel",
      "state": {}
     },
     "288c58684b4447538425256c16b9bd25": {
      "model_module": "@jupyter-widgets/base",
      "model_module_version": "1.2.0",
      "model_name": "LayoutModel",
      "state": {
       "width": "95%"
      }
     },
     "2892de8e373b4cada6b0fa5b585eda68": {
      "model_module": "@jupyter-widgets/controls",
      "model_module_version": "1.5.0",
      "model_name": "ButtonModel",
      "state": {
       "description": "0",
       "layout": "IPY_MODEL_2d4834da8f0b4c87a6c350a736389eef",
       "style": "IPY_MODEL_d2b79983fb15498bae441b9d47b0a500"
      }
     },
     "289e2989bc3745bca6c2d3305a0af7b0": {
      "model_module": "@jupyter-widgets/base",
      "model_module_version": "1.2.0",
      "model_name": "LayoutModel",
      "state": {
       "width": "95%"
      }
     },
     "28d6d752d6fc47d48fd4b178fe8ce1c6": {
      "model_module": "@jupyter-widgets/controls",
      "model_module_version": "1.5.0",
      "model_name": "ButtonModel",
      "state": {
       "description": "1",
       "layout": "IPY_MODEL_f25a7adbfd1b43b5a41da511575844c0",
       "style": "IPY_MODEL_93648ed55c084dbf8a78f88758c9bbe6"
      }
     },
     "2919a2bcacac447ba04bc5859a965cfa": {
      "model_module": "@jupyter-widgets/output",
      "model_module_version": "1.0.0",
      "model_name": "OutputModel",
      "state": {
       "layout": "IPY_MODEL_3fe6156c508a4264863284645bc9da7d"
      }
     },
     "296a1939525c422b8aac41e209d05010": {
      "model_module": "@jupyter-widgets/base",
      "model_module_version": "1.2.0",
      "model_name": "LayoutModel",
      "state": {
       "width": "95%"
      }
     },
     "298202852b2043a591de855c8bc5064c": {
      "model_module": "@jupyter-widgets/controls",
      "model_module_version": "1.5.0",
      "model_name": "DescriptionStyleModel",
      "state": {
       "description_width": ""
      }
     },
     "299eae9e549845dc8271ef7a0f0d7034": {
      "model_module": "@jupyter-widgets/controls",
      "model_module_version": "1.5.0",
      "model_name": "VBoxModel",
      "state": {
       "children": [
        "IPY_MODEL_e87551479ba94584968da313df822605",
        "IPY_MODEL_11a9ce4621884e6ebaa8b11cb020cc36"
       ],
       "layout": "IPY_MODEL_cb5c12f7facf417685094301caed9146"
      }
     },
     "29ef1d0bb4584384a3c7eb57a7dcb1b0": {
      "model_module": "@jupyter-widgets/base",
      "model_module_version": "1.2.0",
      "model_name": "LayoutModel",
      "state": {}
     },
     "29ffb9fccf3b414b8dead2680b2907ca": {
      "model_module": "@jupyter-widgets/base",
      "model_module_version": "1.2.0",
      "model_name": "LayoutModel",
      "state": {
       "width": "10%"
      }
     },
     "2a0c9def7b704a88abd93d0ea1984d5f": {
      "model_module": "@jupyter-widgets/controls",
      "model_module_version": "1.5.0",
      "model_name": "TextModel",
      "state": {
       "description": "Other:",
       "layout": "IPY_MODEL_f8d5d8c4266345d0a485903f000425c8",
       "placeholder": "Hit enter to submit.",
       "style": "IPY_MODEL_016cf7cd72fc4133acdea0a54d58e93d"
      }
     },
     "2a14f2a0791349f8beaa575cbd13ca13": {
      "model_module": "@jupyter-widgets/base",
      "model_module_version": "1.2.0",
      "model_name": "LayoutModel",
      "state": {
       "width": "95%"
      }
     },
     "2a32b7c1b73d4d999c55b59b2df09c2e": {
      "model_module": "@jupyter-widgets/base",
      "model_module_version": "1.2.0",
      "model_name": "LayoutModel",
      "state": {}
     },
     "2a3d5a440a034cc99778e97bb90ccc16": {
      "model_module": "@jupyter-widgets/base",
      "model_module_version": "1.2.0",
      "model_name": "LayoutModel",
      "state": {
       "width": "95%"
      }
     },
     "2a4ddefcc5d54d3c9c53026478a42672": {
      "model_module": "@jupyter-widgets/controls",
      "model_module_version": "1.5.0",
      "model_name": "ButtonModel",
      "state": {
       "description": "8",
       "layout": "IPY_MODEL_e6446250eef64e56ba23bdaf38958f81",
       "style": "IPY_MODEL_9c79d52b4b364507a760b45790b26f5a"
      }
     },
     "2a4f5992ffcf4675ac7d1cfe4f74b59e": {
      "model_module": "@jupyter-widgets/output",
      "model_module_version": "1.0.0",
      "model_name": "OutputModel",
      "state": {
       "layout": "IPY_MODEL_eebfa4b98738461ea1f9cd6fa8eb2337"
      }
     },
     "2a51cbd8cb8a409080608d820e4b6c3b": {
      "model_module": "@jupyter-widgets/base",
      "model_module_version": "1.2.0",
      "model_name": "LayoutModel",
      "state": {}
     },
     "2a66113c5ba34a7cb5120a48144c9fd1": {
      "model_module": "@jupyter-widgets/base",
      "model_module_version": "1.2.0",
      "model_name": "LayoutModel",
      "state": {
       "width": "10%"
      }
     },
     "2abf81859e2643fc8b8f1683ee1a3812": {
      "model_module": "@jupyter-widgets/output",
      "model_module_version": "1.0.0",
      "model_name": "OutputModel",
      "state": {
       "layout": "IPY_MODEL_b7b2e891898c4328913925c4e9c24fa4"
      }
     },
     "2ac2a8b1d3e847108a0a262a59939ad7": {
      "model_module": "@jupyter-widgets/base",
      "model_module_version": "1.2.0",
      "model_name": "LayoutModel",
      "state": {}
     },
     "2b346e50a2a84b3a82f1c55163a66124": {
      "model_module": "@jupyter-widgets/controls",
      "model_module_version": "1.5.0",
      "model_name": "ButtonModel",
      "state": {
       "description": "0",
       "layout": "IPY_MODEL_102cb5b0153e43ccbd4b45750ab61707",
       "style": "IPY_MODEL_1b26665948e84593b80854054450b718"
      }
     },
     "2b63dd07545a4510949bdea9439f78d5": {
      "model_module": "@jupyter-widgets/base",
      "model_module_version": "1.2.0",
      "model_name": "LayoutModel",
      "state": {
       "width": "10%"
      }
     },
     "2b8280e45e1748e782ca9a78c091bfd9": {
      "model_module": "@jupyter-widgets/base",
      "model_module_version": "1.2.0",
      "model_name": "LayoutModel",
      "state": {
       "justify_content": "space-between"
      }
     },
     "2ba43e2b8131486d921b4fb5556b8b12": {
      "model_module": "@jupyter-widgets/controls",
      "model_module_version": "1.5.0",
      "model_name": "VBoxModel",
      "state": {
       "children": [
        "IPY_MODEL_b50799b90c2c49e0b18aa48fb26dbce1",
        "IPY_MODEL_4c00a3eefa764f7d9b4b6b734c354a8a"
       ],
       "layout": "IPY_MODEL_8560110c881e45cc9c0de77ad6f82d48"
      }
     },
     "2bb9b769865b46539378ef5b3c1c6644": {
      "model_module": "@jupyter-widgets/base",
      "model_module_version": "1.2.0",
      "model_name": "LayoutModel",
      "state": {
       "width": "95%"
      }
     },
     "2bba6dcae5ab436db1d662e3498dff18": {
      "model_module": "@jupyter-widgets/controls",
      "model_module_version": "1.5.0",
      "model_name": "VBoxModel",
      "state": {
       "children": [
        "IPY_MODEL_8f13284f419244bcb9f5fde372dc1c8a",
        "IPY_MODEL_bff27aa1cfa94b06b98e045968f487e3"
       ],
       "layout": "IPY_MODEL_265edacffc7b40d8b48017193a1710df"
      }
     },
     "2c1fd4c180c0450fa5c46b2d35e676a7": {
      "model_module": "@jupyter-widgets/base",
      "model_module_version": "1.2.0",
      "model_name": "LayoutModel",
      "state": {}
     },
     "2c4440ed12644672a6c4474a82628636": {
      "model_module": "@jupyter-widgets/base",
      "model_module_version": "1.2.0",
      "model_name": "LayoutModel",
      "state": {
       "width": "10%"
      }
     },
     "2c98a5ed9de54a8c9e42419047dd0b5f": {
      "model_module": "@jupyter-widgets/controls",
      "model_module_version": "1.5.0",
      "model_name": "VBoxModel",
      "state": {
       "children": [
        "IPY_MODEL_4229461880fe479e9017e8ec4531ebea",
        "IPY_MODEL_3a0b0303f1b342bcbbe4d76b42e231a9"
       ],
       "layout": "IPY_MODEL_c941d8e8eb2d4975a17851b5ad44daa3"
      }
     },
     "2d0dbea019fe4205badb1c81270b22e2": {
      "model_module": "@jupyter-widgets/base",
      "model_module_version": "1.2.0",
      "model_name": "LayoutModel",
      "state": {}
     },
     "2d4834da8f0b4c87a6c350a736389eef": {
      "model_module": "@jupyter-widgets/base",
      "model_module_version": "1.2.0",
      "model_name": "LayoutModel",
      "state": {
       "width": "95%"
      }
     },
     "2d63750b4c9f4b4284655cc946bf9340": {
      "model_module": "@jupyter-widgets/base",
      "model_module_version": "1.2.0",
      "model_name": "LayoutModel",
      "state": {
       "width": "95%"
      }
     },
     "2dc5a12bbc964968ba494d1493c39db7": {
      "model_module": "@jupyter-widgets/controls",
      "model_module_version": "1.5.0",
      "model_name": "VBoxModel",
      "state": {
       "children": [
        "IPY_MODEL_528bc82830c9459db2171bdc83671445",
        "IPY_MODEL_0f75ccd9118442c8b74deec18432800e"
       ],
       "layout": "IPY_MODEL_c2b04392544a4938bd18b989f9b0a86f"
      }
     },
     "2e11250fb8cc43709bb7a30ae14a67a2": {
      "model_module": "@jupyter-widgets/controls",
      "model_module_version": "1.5.0",
      "model_name": "ButtonStyleModel",
      "state": {}
     },
     "2e2557e3848540508c8e2f7ff0b57436": {
      "model_module": "@jupyter-widgets/base",
      "model_module_version": "1.2.0",
      "model_name": "LayoutModel",
      "state": {
       "width": "95%"
      }
     },
     "2e454f2a1e9149a19a67671dcf174dd0": {
      "model_module": "@jupyter-widgets/controls",
      "model_module_version": "1.5.0",
      "model_name": "VBoxModel",
      "state": {
       "children": [
        "IPY_MODEL_203d0d7060b44be093a9eac4d95439ad",
        "IPY_MODEL_66be350453b941d79de61289c97a216f"
       ],
       "layout": "IPY_MODEL_572ec589a9fd4bc1aff358e69d44df8e"
      }
     },
     "2e68e5cb4d1d43cc8f2ca88f34e18b38": {
      "model_module": "@jupyter-widgets/controls",
      "model_module_version": "1.5.0",
      "model_name": "ButtonStyleModel",
      "state": {}
     },
     "2e7cc4c67e174a4dbc85036cbe028e7e": {
      "model_module": "@jupyter-widgets/base",
      "model_module_version": "1.2.0",
      "model_name": "LayoutModel",
      "state": {}
     },
     "2ed21426d7cf4505aff1b7b61f6487be": {
      "model_module": "@jupyter-widgets/output",
      "model_module_version": "1.0.0",
      "model_name": "OutputModel",
      "state": {
       "layout": "IPY_MODEL_2577425217b64e60bffa39822aff1102"
      }
     },
     "2f185e9bedb04484ae8615a45f049c0b": {
      "model_module": "@jupyter-widgets/base",
      "model_module_version": "1.2.0",
      "model_name": "LayoutModel",
      "state": {
       "width": "95%"
      }
     },
     "2f2858713615458cb69c69a5a3606d43": {
      "model_module": "@jupyter-widgets/base",
      "model_module_version": "1.2.0",
      "model_name": "LayoutModel",
      "state": {
       "width": "95%"
      }
     },
     "2f293c78f90d465cbfb0376b0a9a7fe0": {
      "model_module": "@jupyter-widgets/controls",
      "model_module_version": "1.5.0",
      "model_name": "ButtonModel",
      "state": {
       "description": "3",
       "layout": "IPY_MODEL_288c58684b4447538425256c16b9bd25",
       "style": "IPY_MODEL_8c9967c94c4b49018d5d1ba9a4684aa5"
      }
     },
     "2f2c3835f90d4b78a200fb5c63322bc0": {
      "model_module": "@jupyter-widgets/controls",
      "model_module_version": "1.5.0",
      "model_name": "ButtonStyleModel",
      "state": {}
     },
     "2f8d10b241a74dd2be569f46262275a6": {
      "model_module": "@jupyter-widgets/controls",
      "model_module_version": "1.5.0",
      "model_name": "ButtonModel",
      "state": {
       "description": "5",
       "layout": "IPY_MODEL_e2adfb416bae41d99b10cf11eb7e3ff8",
       "style": "IPY_MODEL_f062a06dee4048d989592f5c9f626a6c"
      }
     },
     "2fb2b5f4b41d48b5848a62e22526f6f5": {
      "model_module": "@jupyter-widgets/controls",
      "model_module_version": "1.5.0",
      "model_name": "BoxModel",
      "state": {
       "children": [
        "IPY_MODEL_87c1c73cf7fe400cb5e192a7ada36364"
       ],
       "layout": "IPY_MODEL_6152e4fe3b6d448f94edf2e5ac09e1bd"
      }
     },
     "2fba1d21745a453ba115de81ec721981": {
      "model_module": "@jupyter-widgets/controls",
      "model_module_version": "1.5.0",
      "model_name": "ButtonStyleModel",
      "state": {}
     },
     "2fea25bf6d604637b28ebde35da84f78": {
      "model_module": "@jupyter-widgets/controls",
      "model_module_version": "1.5.0",
      "model_name": "ButtonModel",
      "state": {
       "description": "8",
       "layout": "IPY_MODEL_0ff956e8fe8f4d5ea698b63dac82ce20",
       "style": "IPY_MODEL_805b0577e8614631b79bd9b7cfb30573"
      }
     },
     "2ff2c48750b54c5aa9a9e6393918723a": {
      "model_module": "@jupyter-widgets/base",
      "model_module_version": "1.2.0",
      "model_name": "LayoutModel",
      "state": {}
     },
     "300caba566ea4fef838305ac0343aa12": {
      "model_module": "@jupyter-widgets/controls",
      "model_module_version": "1.5.0",
      "model_name": "VBoxModel",
      "state": {
       "children": [
        "IPY_MODEL_a78b867cac7b4d5a95324a5cb3fb067c",
        "IPY_MODEL_373042f4628540628a418eb75e5fccd1"
       ],
       "layout": "IPY_MODEL_c47b91818e434da8bb3f60223f73807a"
      }
     },
     "307d1adcb5864190a8e4b0b9ea3a9a71": {
      "model_module": "@jupyter-widgets/controls",
      "model_module_version": "1.5.0",
      "model_name": "ButtonStyleModel",
      "state": {}
     },
     "30c0cea0baf4421cb328059eb7f7c252": {
      "model_module": "@jupyter-widgets/controls",
      "model_module_version": "1.5.0",
      "model_name": "BoxModel",
      "state": {
       "children": [
        "IPY_MODEL_de36b8a5e05a4c458aa86bd7974c44af"
       ],
       "layout": "IPY_MODEL_f3557acf10014952b3c335e00bcad833"
      }
     },
     "30f2b0a8901d443e956efbb9e793e41d": {
      "model_module": "@jupyter-widgets/output",
      "model_module_version": "1.0.0",
      "model_name": "OutputModel",
      "state": {
       "layout": "IPY_MODEL_4e5f892325e24d58908d19a1317d4f3c"
      }
     },
     "31656248107f412ca3eaea51251a1c6a": {
      "model_module": "@jupyter-widgets/base",
      "model_module_version": "1.2.0",
      "model_name": "LayoutModel",
      "state": {
       "width": "95%"
      }
     },
     "31c1d739bbeb40dfadf7b4f594caac5e": {
      "model_module": "@jupyter-widgets/base",
      "model_module_version": "1.2.0",
      "model_name": "LayoutModel",
      "state": {
       "width": "10%"
      }
     },
     "31fc397d368a458e8ad72300b1c27613": {
      "model_module": "@jupyter-widgets/base",
      "model_module_version": "1.2.0",
      "model_name": "LayoutModel",
      "state": {
       "width": "95%"
      }
     },
     "324c0589de3f4ab88d3016efa13458a5": {
      "model_module": "@jupyter-widgets/base",
      "model_module_version": "1.2.0",
      "model_name": "LayoutModel",
      "state": {}
     },
     "3256f3721399475bbb25085631335b89": {
      "model_module": "@jupyter-widgets/base",
      "model_module_version": "1.2.0",
      "model_name": "LayoutModel",
      "state": {
       "width": "10%"
      }
     },
     "325aeccdc45d44ec8f2bd49e6ba4ce93": {
      "model_module": "@jupyter-widgets/output",
      "model_module_version": "1.0.0",
      "model_name": "OutputModel",
      "state": {
       "layout": "IPY_MODEL_00084e05b91b4bd0977ae75fe6bdc8e1"
      }
     },
     "32b453b56f3c4a8084d4f2e2a4683f55": {
      "model_module": "@jupyter-widgets/controls",
      "model_module_version": "1.5.0",
      "model_name": "ButtonStyleModel",
      "state": {}
     },
     "32be970987994cfaa91230396cfb77bc": {
      "model_module": "@jupyter-widgets/base",
      "model_module_version": "1.2.0",
      "model_name": "LayoutModel",
      "state": {}
     },
     "32e424f159334a25b61e5254eece762b": {
      "model_module": "@jupyter-widgets/controls",
      "model_module_version": "1.5.0",
      "model_name": "VBoxModel",
      "state": {
       "children": [
        "IPY_MODEL_e4e2487cf6ea426580c47e783661959d",
        "IPY_MODEL_d6bca62b53294e1f84743d02264983b4"
       ],
       "layout": "IPY_MODEL_31c1d739bbeb40dfadf7b4f594caac5e"
      }
     },
     "332d845f5f804cba8688b613a8f38333": {
      "model_module": "@jupyter-widgets/controls",
      "model_module_version": "1.5.0",
      "model_name": "ButtonModel",
      "state": {
       "description": "Sort options",
       "icon": "sort",
       "layout": "IPY_MODEL_e6986c4ab4704ef0b05d23af57859292",
       "style": "IPY_MODEL_c8d8c47a799f4bc08e9cde12fb7867eb"
      }
     },
     "3339d7a503f14df7b4b66232fac3dda4": {
      "model_module": "@jupyter-widgets/controls",
      "model_module_version": "1.5.0",
      "model_name": "ButtonStyleModel",
      "state": {}
     },
     "3372662414a24a3899d9e01b1ba70afe": {
      "model_module": "@jupyter-widgets/controls",
      "model_module_version": "1.5.0",
      "model_name": "ButtonStyleModel",
      "state": {}
     },
     "33d215623bd24e44aca03a435ad24734": {
      "model_module": "@jupyter-widgets/base",
      "model_module_version": "1.2.0",
      "model_name": "LayoutModel",
      "state": {
       "width": "10%"
      }
     },
     "33d4ca507abf40cc97f29ea65412db0b": {
      "model_module": "@jupyter-widgets/base",
      "model_module_version": "1.2.0",
      "model_name": "LayoutModel",
      "state": {}
     },
     "3441d458ca164002bc1b10930b597249": {
      "model_module": "@jupyter-widgets/controls",
      "model_module_version": "1.5.0",
      "model_name": "ButtonModel",
      "state": {
       "description": "3",
       "layout": "IPY_MODEL_75dc3d4be4dc48819507ca70fcac3cb2",
       "style": "IPY_MODEL_9b8958fdb36a471db7e533db9cf1bc36"
      }
     },
     "3450d70afa644b00bbd8034a817baabc": {
      "model_module": "@jupyter-widgets/base",
      "model_module_version": "1.2.0",
      "model_name": "LayoutModel",
      "state": {
       "width": "95%"
      }
     },
     "346c8fab7f844dcca0210e0884c7e6a4": {
      "model_module": "@jupyter-widgets/base",
      "model_module_version": "1.2.0",
      "model_name": "LayoutModel",
      "state": {}
     },
     "348c4091d8cf4f00923e6587d5e21341": {
      "model_module": "@jupyter-widgets/controls",
      "model_module_version": "1.5.0",
      "model_name": "ButtonModel",
      "state": {
       "description": "9",
       "layout": "IPY_MODEL_e493a96b87d74c0e8025ed8ffb65584b",
       "style": "IPY_MODEL_a236c6fb74f5408f938d59865a61163e"
      }
     },
     "34cb544b74f442d2a61171a37f0c4c4f": {
      "model_module": "@jupyter-widgets/controls",
      "model_module_version": "1.5.0",
      "model_name": "ButtonModel",
      "state": {
       "description": "8",
       "layout": "IPY_MODEL_b747b9b3b1304413b9b5a92a49960776",
       "style": "IPY_MODEL_442350921f1944e6a8f6386dea50193b"
      }
     },
     "34d97b513d564f67ad7c0dc5b5f28558": {
      "model_module": "@jupyter-widgets/base",
      "model_module_version": "1.2.0",
      "model_name": "LayoutModel",
      "state": {
       "width": "10%"
      }
     },
     "34e064fa046841608dfb9c309e7a689c": {
      "model_module": "@jupyter-widgets/output",
      "model_module_version": "1.0.0",
      "model_name": "OutputModel",
      "state": {
       "layout": "IPY_MODEL_b9674ced32b64e198cd3c7056e4026fe"
      }
     },
     "34e0a4f63f6d4daa90fa9c659691922b": {
      "model_module": "@jupyter-widgets/controls",
      "model_module_version": "1.5.0",
      "model_name": "ButtonModel",
      "state": {
       "description": "8",
       "layout": "IPY_MODEL_83602130a69049d2a9a5b22afa1e7988",
       "style": "IPY_MODEL_94a0826b306c4fc3b02aaee2a5038641"
      }
     },
     "3531f4d9acbc4380976006a2d5166f14": {
      "model_module": "@jupyter-widgets/controls",
      "model_module_version": "1.5.0",
      "model_name": "ButtonStyleModel",
      "state": {}
     },
     "354f42d1d3e2495b84c4a542b447a2b6": {
      "model_module": "@jupyter-widgets/controls",
      "model_module_version": "1.5.0",
      "model_name": "ButtonModel",
      "state": {
       "description": "3",
       "layout": "IPY_MODEL_3623efaabf6b40a9ba427a00acfd18d9",
       "style": "IPY_MODEL_8cfe21c2b63147979ce67f2cca30fb4b"
      }
     },
     "3561873c43624a49812a4f04bc31e2af": {
      "model_module": "@jupyter-widgets/base",
      "model_module_version": "1.2.0",
      "model_name": "LayoutModel",
      "state": {
       "width": "10%"
      }
     },
     "358e0557c2994c288d27a273229b5912": {
      "model_module": "@jupyter-widgets/output",
      "model_module_version": "1.0.0",
      "model_name": "OutputModel",
      "state": {
       "layout": "IPY_MODEL_69b71a102a42496bbf1a0cacda70deca"
      }
     },
     "35ba0187bd67418fa0480ecd94909c5c": {
      "model_module": "@jupyter-widgets/base",
      "model_module_version": "1.2.0",
      "model_name": "LayoutModel",
      "state": {
       "width": "95%"
      }
     },
     "3610be923d864899987c66bf4b369437": {
      "model_module": "@jupyter-widgets/controls",
      "model_module_version": "1.5.0",
      "model_name": "HBoxModel",
      "state": {
       "children": [
        "IPY_MODEL_606b2ab379524f0f9dd7ad119b9eda97",
        "IPY_MODEL_369da37e0e5d4d3093005193921520a4",
        "IPY_MODEL_c094f9eda1aa4a1c8fc45247932bdf1c"
       ],
       "layout": "IPY_MODEL_dd2dbe2da6b44a0c96ac118abb8ff328"
      }
     },
     "3619255ee1c04711b208f9d20def8b79": {
      "model_module": "@jupyter-widgets/controls",
      "model_module_version": "1.5.0",
      "model_name": "ButtonStyleModel",
      "state": {}
     },
     "3623efaabf6b40a9ba427a00acfd18d9": {
      "model_module": "@jupyter-widgets/base",
      "model_module_version": "1.2.0",
      "model_name": "LayoutModel",
      "state": {
       "width": "95%"
      }
     },
     "369da37e0e5d4d3093005193921520a4": {
      "model_module": "@jupyter-widgets/controls",
      "model_module_version": "1.5.0",
      "model_name": "ButtonModel",
      "state": {
       "description": "Skip",
       "icon": "fast-forward",
       "layout": "IPY_MODEL_1fcd2f9a359f4e21b814087acc6ed155",
       "style": "IPY_MODEL_62fbe78d46624f4c8c5404c3a157e73a"
      }
     },
     "36acab13fc6d4fa087a11f9d94bd369c": {
      "model_module": "@jupyter-widgets/base",
      "model_module_version": "1.2.0",
      "model_name": "LayoutModel",
      "state": {
       "width": "10%"
      }
     },
     "36df142473f640a289b046680f117fcc": {
      "model_module": "@jupyter-widgets/controls",
      "model_module_version": "1.5.0",
      "model_name": "ButtonModel",
      "state": {
       "description": "7",
       "layout": "IPY_MODEL_b0509a27632e4787b7d5c9d367f95ac7",
       "style": "IPY_MODEL_55b959781a494e1393c6e9234fb79826"
      }
     },
     "373042f4628540628a418eb75e5fccd1": {
      "model_module": "@jupyter-widgets/output",
      "model_module_version": "1.0.0",
      "model_name": "OutputModel",
      "state": {
       "layout": "IPY_MODEL_9fe4df499e5b4883b0f34eb00da7579b"
      }
     },
     "375644df67954ca788ddbf74567d3277": {
      "model_module": "@jupyter-widgets/controls",
      "model_module_version": "1.5.0",
      "model_name": "ButtonStyleModel",
      "state": {}
     },
     "3763721a04ce4a42b2f04ee5ef16c3a4": {
      "model_module": "@jupyter-widgets/output",
      "model_module_version": "1.0.0",
      "model_name": "OutputModel",
      "state": {
       "layout": "IPY_MODEL_a058d365f80140748564f3fd98ae2b90"
      }
     },
     "378cd7d3d4fc46ff9216270578fe4268": {
      "model_module": "@jupyter-widgets/controls",
      "model_module_version": "1.5.0",
      "model_name": "VBoxModel",
      "state": {
       "children": [
        "IPY_MODEL_19dac552b1aa4006b092fc85299e0a96",
        "IPY_MODEL_c56b6d30594a4fa28d27ddabf3bd0044"
       ],
       "layout": "IPY_MODEL_c0dd52d9504f4181b5db19f481ad5ee4"
      }
     },
     "379dd3acd9fa481b9966eef830db068e": {
      "model_module": "@jupyter-widgets/base",
      "model_module_version": "1.2.0",
      "model_name": "LayoutModel",
      "state": {}
     },
     "37a363e5711349358de52aecc8559a19": {
      "model_module": "@jupyter-widgets/controls",
      "model_module_version": "1.5.0",
      "model_name": "VBoxModel",
      "state": {
       "children": [
        "IPY_MODEL_07324d81841c43a2b2eaab267bcf36c0",
        "IPY_MODEL_492d6eea7bd94c65866a3cb450ee5c59"
       ],
       "layout": "IPY_MODEL_0e162c0273434d0ca98944b24ef2a735"
      }
     },
     "37cfbb2ca08b4105a261d53209e394cf": {
      "model_module": "@jupyter-widgets/controls",
      "model_module_version": "1.5.0",
      "model_name": "VBoxModel",
      "state": {
       "children": [
        "IPY_MODEL_17e582746bfc4f7d956e4b3332cd58ca",
        "IPY_MODEL_b76df7cd2a9d445db43f9182c64db75d"
       ],
       "layout": "IPY_MODEL_4efc0005445d46f8b34b07df45405589"
      }
     },
     "37e8034560f54ab48323a11d62014645": {
      "model_module": "@jupyter-widgets/controls",
      "model_module_version": "1.5.0",
      "model_name": "ButtonStyleModel",
      "state": {}
     },
     "38440a0e3fa3449a9fc8070a9b5b2555": {
      "model_module": "@jupyter-widgets/output",
      "model_module_version": "1.0.0",
      "model_name": "OutputModel",
      "state": {
       "layout": "IPY_MODEL_d9a9d1ce6fe14b42ab001c7b789331c5"
      }
     },
     "3876775eb63d40e08d84cd8695896246": {
      "model_module": "@jupyter-widgets/output",
      "model_module_version": "1.0.0",
      "model_name": "OutputModel",
      "state": {
       "layout": "IPY_MODEL_d2ebbc66d65d455da468ea71540e3c1b"
      }
     },
     "38a4c00b17f94f8e942f54a6b83e337b": {
      "model_module": "@jupyter-widgets/base",
      "model_module_version": "1.2.0",
      "model_name": "LayoutModel",
      "state": {
       "justify_content": "space-between"
      }
     },
     "390685ae641a437880946b0dff06186e": {
      "model_module": "@jupyter-widgets/controls",
      "model_module_version": "1.5.0",
      "model_name": "ButtonStyleModel",
      "state": {}
     },
     "3925ade6ed154dc8960a720866460e39": {
      "model_module": "@jupyter-widgets/base",
      "model_module_version": "1.2.0",
      "model_name": "LayoutModel",
      "state": {
       "width": "10%"
      }
     },
     "392ba1d467444fb784c80f9d3b506cfd": {
      "model_module": "@jupyter-widgets/base",
      "model_module_version": "1.2.0",
      "model_name": "LayoutModel",
      "state": {
       "justify_content": "space-between"
      }
     },
     "39f9604d7a814e3199f75cfc8d226298": {
      "model_module": "@jupyter-widgets/base",
      "model_module_version": "1.2.0",
      "model_name": "LayoutModel",
      "state": {}
     },
     "3a0b0303f1b342bcbbe4d76b42e231a9": {
      "model_module": "@jupyter-widgets/output",
      "model_module_version": "1.0.0",
      "model_name": "OutputModel",
      "state": {
       "layout": "IPY_MODEL_40119096cd094fa393ad68963e185f94"
      }
     },
     "3a0ebc6bd03c474ca087cf8b32fe67ac": {
      "model_module": "@jupyter-widgets/base",
      "model_module_version": "1.2.0",
      "model_name": "LayoutModel",
      "state": {
       "width": "10%"
      }
     },
     "3a299599c3034f49b2687125e2b3cbce": {
      "model_module": "@jupyter-widgets/output",
      "model_module_version": "1.0.0",
      "model_name": "OutputModel",
      "state": {
       "layout": "IPY_MODEL_20cb8088f79c4424a9314236477f9065"
      }
     },
     "3a631401ff664fc0a0b651651ea5d418": {
      "model_module": "@jupyter-widgets/output",
      "model_module_version": "1.0.0",
      "model_name": "OutputModel",
      "state": {
       "layout": "IPY_MODEL_c991e477258243f3b1296bbd13e77a0e"
      }
     },
     "3a77c3b055a84eacad4dd0e01ade23b3": {
      "model_module": "@jupyter-widgets/output",
      "model_module_version": "1.0.0",
      "model_name": "OutputModel",
      "state": {
       "layout": "IPY_MODEL_2d0dbea019fe4205badb1c81270b22e2"
      }
     },
     "3a8da8efb01e464b9dd7fa6d2b512fb8": {
      "model_module": "@jupyter-widgets/base",
      "model_module_version": "1.2.0",
      "model_name": "LayoutModel",
      "state": {}
     },
     "3aac09650eb848bd999876140a736375": {
      "model_module": "@jupyter-widgets/base",
      "model_module_version": "1.2.0",
      "model_name": "LayoutModel",
      "state": {}
     },
     "3ab1ef535d0441e3a9af753de77f5d62": {
      "model_module": "@jupyter-widgets/controls",
      "model_module_version": "1.5.0",
      "model_name": "VBoxModel",
      "state": {
       "children": [
        "IPY_MODEL_874eedf1b32341909dd6983802e864bd",
        "IPY_MODEL_a8aa534540354f73b79ff21e7cd741d8"
       ],
       "layout": "IPY_MODEL_eb93e9e5bc5c4163ba64970e06bf90cd"
      }
     },
     "3adde47c93a242dc90b7ce95c83477aa": {
      "model_module": "@jupyter-widgets/controls",
      "model_module_version": "1.5.0",
      "model_name": "ButtonModel",
      "state": {
       "description": "2",
       "layout": "IPY_MODEL_2103b919c6c846e4bdfe61b60a16b88b",
       "style": "IPY_MODEL_7fdb9824b1704377aea2c932e96ca68d"
      }
     },
     "3b0492ddd7684725b9e19f156a670052": {
      "model_module": "@jupyter-widgets/output",
      "model_module_version": "1.0.0",
      "model_name": "OutputModel",
      "state": {
       "layout": "IPY_MODEL_c2f48ceae9e9458386bc8e52eac2319d"
      }
     },
     "3b0b09262cd945d786819ee8e17aa8d5": {
      "model_module": "@jupyter-widgets/base",
      "model_module_version": "1.2.0",
      "model_name": "LayoutModel",
      "state": {
       "width": "95%"
      }
     },
     "3b23eb24788d4c2999a9164f7bf60f55": {
      "model_module": "@jupyter-widgets/base",
      "model_module_version": "1.2.0",
      "model_name": "LayoutModel",
      "state": {}
     },
     "3b5090fc762347b9a2df403fe97b5e81": {
      "model_module": "@jupyter-widgets/base",
      "model_module_version": "1.2.0",
      "model_name": "LayoutModel",
      "state": {}
     },
     "3b5d68236ce44985a49f23c699e730d8": {
      "model_module": "@jupyter-widgets/controls",
      "model_module_version": "1.5.0",
      "model_name": "ButtonStyleModel",
      "state": {}
     },
     "3b712e6772c54e389018e5a17fde4420": {
      "model_module": "@jupyter-widgets/base",
      "model_module_version": "1.2.0",
      "model_name": "LayoutModel",
      "state": {}
     },
     "3b7e7c9f68ec477a9ac8ad1820e29c81": {
      "model_module": "@jupyter-widgets/controls",
      "model_module_version": "1.5.0",
      "model_name": "ButtonModel",
      "state": {
       "description": "9",
       "layout": "IPY_MODEL_e452e2cbcac448e191dc985132454935",
       "style": "IPY_MODEL_f5de1fc81b7641c69bee9a00090d5c09"
      }
     },
     "3b97793aab5b40a0a1d3ee03a808ccd2": {
      "model_module": "@jupyter-widgets/output",
      "model_module_version": "1.0.0",
      "model_name": "OutputModel",
      "state": {
       "layout": "IPY_MODEL_1bd83d41103a478ca480d006902bec37"
      }
     },
     "3ba6549be740441082fcff65cf746ba9": {
      "model_module": "@jupyter-widgets/base",
      "model_module_version": "1.2.0",
      "model_name": "LayoutModel",
      "state": {
       "width": "95%"
      }
     },
     "3bbf5c353d594744a4442cc453f4746a": {
      "model_module": "@jupyter-widgets/controls",
      "model_module_version": "1.5.0",
      "model_name": "ButtonModel",
      "state": {
       "description": "8",
       "layout": "IPY_MODEL_8296caea2f394e908ecf59f800cd0ca0",
       "style": "IPY_MODEL_af639557a4f54ca2a35d1258493dd741"
      }
     },
     "3bdcd091b1dc45dab38d749999a7e8de": {
      "model_module": "@jupyter-widgets/controls",
      "model_module_version": "1.5.0",
      "model_name": "BoxModel",
      "state": {
       "children": [
        "IPY_MODEL_7a57cd5030d24d2e94d6c0606460e2de"
       ],
       "layout": "IPY_MODEL_bcb62709b9a4411ebeea4ec150a7fa92"
      }
     },
     "3c35e69abea945bd97e491dc24580cee": {
      "model_module": "@jupyter-widgets/controls",
      "model_module_version": "1.5.0",
      "model_name": "VBoxModel",
      "state": {
       "children": [
        "IPY_MODEL_1df66dacfb254915baadb193e26b1d87",
        "IPY_MODEL_18b7c04ce3e64e248d748633e5d2d10e"
       ],
       "layout": "IPY_MODEL_0bd438f656574069b49f02215eafd13f"
      }
     },
     "3c75a7a6cac54a73b78e44904cb97263": {
      "model_module": "@jupyter-widgets/controls",
      "model_module_version": "1.5.0",
      "model_name": "ButtonModel",
      "state": {
       "description": "2",
       "layout": "IPY_MODEL_090e5b53864241de9dc2aaac089ac2a0",
       "style": "IPY_MODEL_f76b9f5825c64cc181e845f3a933c906"
      }
     },
     "3c985f68d2734b5f82fae1bf98ce2a3a": {
      "model_module": "@jupyter-widgets/base",
      "model_module_version": "1.2.0",
      "model_name": "LayoutModel",
      "state": {
       "width": "95%"
      }
     },
     "3ca832fbf31943409242230ad1f96787": {
      "model_module": "@jupyter-widgets/base",
      "model_module_version": "1.2.0",
      "model_name": "LayoutModel",
      "state": {
       "width": "95%"
      }
     },
     "3d07ac6727ac4191a084526473f26e27": {
      "model_module": "@jupyter-widgets/base",
      "model_module_version": "1.2.0",
      "model_name": "LayoutModel",
      "state": {
       "width": "95%"
      }
     },
     "3d335f068d5d4324b946c8264bb7473a": {
      "model_module": "@jupyter-widgets/controls",
      "model_module_version": "1.5.0",
      "model_name": "HBoxModel",
      "state": {
       "children": [
        "IPY_MODEL_332d845f5f804cba8688b613a8f38333",
        "IPY_MODEL_59340d8b970c45b39d588f0f1c4d6355",
        "IPY_MODEL_4e48a74e43144af0957c0fb2eb6dbe6a"
       ],
       "layout": "IPY_MODEL_3efa1b7326044c0dac67428f8bb2f141"
      }
     },
     "3d464e0813544b228b62bc5ab7ba43b9": {
      "model_module": "@jupyter-widgets/controls",
      "model_module_version": "1.5.0",
      "model_name": "ButtonStyleModel",
      "state": {}
     },
     "3d82e4a9516f44338731a8e5bbaad8ea": {
      "model_module": "@jupyter-widgets/base",
      "model_module_version": "1.2.0",
      "model_name": "LayoutModel",
      "state": {
       "width": "10%"
      }
     },
     "3d98ffb2a8744a27b9218d51f8cd69a1": {
      "model_module": "@jupyter-widgets/output",
      "model_module_version": "1.0.0",
      "model_name": "OutputModel",
      "state": {
       "layout": "IPY_MODEL_4fd987c96c7b4c45a2e371077edf1004"
      }
     },
     "3dc19e2b2c53474eb5d387c5c74ee6cc": {
      "model_module": "@jupyter-widgets/base",
      "model_module_version": "1.2.0",
      "model_name": "LayoutModel",
      "state": {}
     },
     "3dce0249a3c24f4a91666937e8546e4a": {
      "model_module": "@jupyter-widgets/controls",
      "model_module_version": "1.5.0",
      "model_name": "VBoxModel",
      "state": {
       "children": [
        "IPY_MODEL_e62356c336524b27a2430fbc43329f7f",
        "IPY_MODEL_2714ebd91d8c458b8bb91af4118a6187"
       ],
       "layout": "IPY_MODEL_00652fe7c270499283c702dcfa85a3d8"
      }
     },
     "3dd5c339763c427499bf35b594550711": {
      "model_module": "@jupyter-widgets/controls",
      "model_module_version": "1.5.0",
      "model_name": "ButtonStyleModel",
      "state": {}
     },
     "3e046a07a35045999135add71056dffb": {
      "model_module": "@jupyter-widgets/controls",
      "model_module_version": "1.5.0",
      "model_name": "DescriptionStyleModel",
      "state": {
       "description_width": ""
      }
     },
     "3e2e69a52d124247b3880efb6b3452ef": {
      "model_module": "@jupyter-widgets/controls",
      "model_module_version": "1.5.0",
      "model_name": "ButtonStyleModel",
      "state": {}
     },
     "3e43b04ea3c14c40b44100ee066a0dc5": {
      "model_module": "@jupyter-widgets/base",
      "model_module_version": "1.2.0",
      "model_name": "LayoutModel",
      "state": {}
     },
     "3e715de5b1d84c72bd5f6dce1106eea9": {
      "model_module": "@jupyter-widgets/controls",
      "model_module_version": "1.5.0",
      "model_name": "ButtonModel",
      "state": {
       "description": "0",
       "layout": "IPY_MODEL_b2fc326627cb456cbed6fcce1890678a",
       "style": "IPY_MODEL_4def4d187226486cb9259adc949b5fba"
      }
     },
     "3e8332dd2a6b4633bed24e2adbe24d4b": {
      "model_module": "@jupyter-widgets/base",
      "model_module_version": "1.2.0",
      "model_name": "LayoutModel",
      "state": {
       "width": "10%"
      }
     },
     "3ea14f3061a54665b560259afd6bd505": {
      "model_module": "@jupyter-widgets/controls",
      "model_module_version": "1.5.0",
      "model_name": "VBoxModel",
      "state": {
       "children": [
        "IPY_MODEL_c0416534a1db4d7ea38e48c07af80e63",
        "IPY_MODEL_15bc9bbb0a874b888fdf78e5d83bed98"
       ],
       "layout": "IPY_MODEL_db8a7d4ad7b542808f235c3172fd498c"
      }
     },
     "3eab672b55bc47f9ace6a5023f3be3ee": {
      "model_module": "@jupyter-widgets/base",
      "model_module_version": "1.2.0",
      "model_name": "LayoutModel",
      "state": {}
     },
     "3efa1b7326044c0dac67428f8bb2f141": {
      "model_module": "@jupyter-widgets/base",
      "model_module_version": "1.2.0",
      "model_name": "LayoutModel",
      "state": {}
     },
     "3f13f731c9fe42a590520f6349229420": {
      "model_module": "@jupyter-widgets/base",
      "model_module_version": "1.2.0",
      "model_name": "LayoutModel",
      "state": {
       "width": "10%"
      }
     },
     "3f26e50ac26841c7b33260cd010bcbc9": {
      "model_module": "@jupyter-widgets/controls",
      "model_module_version": "1.5.0",
      "model_name": "VBoxModel",
      "state": {
       "children": [
        "IPY_MODEL_2b346e50a2a84b3a82f1c55163a66124",
        "IPY_MODEL_157576a5c76e4c9586ef818fdfbb830e"
       ],
       "layout": "IPY_MODEL_10fcba97722a4873aee96ed5d3207182"
      }
     },
     "3f300b7d00bf4291816603bf0502c92d": {
      "model_module": "@jupyter-widgets/output",
      "model_module_version": "1.0.0",
      "model_name": "OutputModel",
      "state": {
       "layout": "IPY_MODEL_60a499f9179e43ff92730788885e90d7"
      }
     },
     "3f5c751be8b945ef8c5d204deadd87f0": {
      "model_module": "@jupyter-widgets/controls",
      "model_module_version": "1.5.0",
      "model_name": "ButtonStyleModel",
      "state": {}
     },
     "3f9814fc918b4375ae424cc2c0152ee3": {
      "model_module": "@jupyter-widgets/controls",
      "model_module_version": "1.5.0",
      "model_name": "HBoxModel",
      "state": {
       "children": [
        "IPY_MODEL_67a8895072b148cc80b10b42d6608bf7",
        "IPY_MODEL_23124a69ae984723bccba9cea63c9ba8"
       ],
       "layout": "IPY_MODEL_0857f3b6127b482d895f0353f07829fc"
      }
     },
     "3fa9abfe3bc544cab3dd7d0d696f3ce8": {
      "model_module": "@jupyter-widgets/controls",
      "model_module_version": "1.5.0",
      "model_name": "VBoxModel",
      "state": {
       "children": [
        "IPY_MODEL_eb6e9e0d277149bdbfb7de571385be5f",
        "IPY_MODEL_3d98ffb2a8744a27b9218d51f8cd69a1"
       ],
       "layout": "IPY_MODEL_1c8273fc08474d23b7d6fced4e2ac235"
      }
     },
     "3fe6156c508a4264863284645bc9da7d": {
      "model_module": "@jupyter-widgets/base",
      "model_module_version": "1.2.0",
      "model_name": "LayoutModel",
      "state": {}
     },
     "40119096cd094fa393ad68963e185f94": {
      "model_module": "@jupyter-widgets/base",
      "model_module_version": "1.2.0",
      "model_name": "LayoutModel",
      "state": {}
     },
     "405f3b05253b4a328c9ee1f70d79d5ac": {
      "model_module": "@jupyter-widgets/output",
      "model_module_version": "1.0.0",
      "model_name": "OutputModel",
      "state": {
       "layout": "IPY_MODEL_25b0d97f6c9e4442b635eb0a4452b527"
      }
     },
     "407d18df05c84d30ba60de72efbceacf": {
      "model_module": "@jupyter-widgets/controls",
      "model_module_version": "1.5.0",
      "model_name": "DescriptionStyleModel",
      "state": {
       "description_width": ""
      }
     },
     "40ca6388675347c6802bb5b812693a6f": {
      "model_module": "@jupyter-widgets/controls",
      "model_module_version": "1.5.0",
      "model_name": "ButtonModel",
      "state": {
       "description": "6",
       "layout": "IPY_MODEL_d5ee66308d6b4e7ab79ae07507a01582",
       "style": "IPY_MODEL_083f1caa8ec743fc8dfb242561fa7b49"
      }
     },
     "40ed825c40324574bb1cb3e57da4f20e": {
      "model_module": "@jupyter-widgets/controls",
      "model_module_version": "1.5.0",
      "model_name": "HBoxModel",
      "state": {
       "children": [
        "IPY_MODEL_b4b9c3dabdaa4ff7bacf587a9d830d1c",
        "IPY_MODEL_91b54be1c768404aac82b12ee7bd72ee",
        "IPY_MODEL_1b4bb52c95494599a1e21831119ca2f6",
        "IPY_MODEL_a0216f648fc442c4878d038b9ee1c2aa",
        "IPY_MODEL_6c3e5ffc393844168eab1566aee38e86",
        "IPY_MODEL_9dcfa8c0ed0c45ecbd6046611d078ec8",
        "IPY_MODEL_f771c31ebeca42ba8aa0c309f7dbac34",
        "IPY_MODEL_2bba6dcae5ab436db1d662e3498dff18",
        "IPY_MODEL_8911e960a2f64191a8bd0e41983ab9b7",
        "IPY_MODEL_98d05beeda074cf5b8da7fdc76d7d032"
       ],
       "layout": "IPY_MODEL_d6c5468cd29b4eb09af60a7a79736f82"
      }
     },
     "40f774b8982e460a8f16c7f0b602559d": {
      "model_module": "@jupyter-widgets/base",
      "model_module_version": "1.2.0",
      "model_name": "LayoutModel",
      "state": {}
     },
     "40f93b6a610842059c0dbd3a13420951": {
      "model_module": "@jupyter-widgets/controls",
      "model_module_version": "1.5.0",
      "model_name": "ButtonStyleModel",
      "state": {}
     },
     "4100d7d450ca483d9bfd977c93c1c9b2": {
      "model_module": "@jupyter-widgets/controls",
      "model_module_version": "1.5.0",
      "model_name": "ButtonModel",
      "state": {
       "description": "9",
       "layout": "IPY_MODEL_7b6e54adf0184872b828adc0bbd5ddb6",
       "style": "IPY_MODEL_1a60d039d2674570ba7774ada4fa1a16"
      }
     },
     "41091d1a243d4f439888c7e5f079a42e": {
      "model_module": "@jupyter-widgets/base",
      "model_module_version": "1.2.0",
      "model_name": "LayoutModel",
      "state": {}
     },
     "41167b29ed6c4aa1bdad525915a61bb6": {
      "model_module": "@jupyter-widgets/base",
      "model_module_version": "1.2.0",
      "model_name": "LayoutModel",
      "state": {
       "width": "10%"
      }
     },
     "41307360364c4e9a9bbc44d2a6a636ed": {
      "model_module": "@jupyter-widgets/controls",
      "model_module_version": "1.5.0",
      "model_name": "ButtonStyleModel",
      "state": {}
     },
     "416a66abae224baba231a9104c28af59": {
      "model_module": "@jupyter-widgets/base",
      "model_module_version": "1.2.0",
      "model_name": "LayoutModel",
      "state": {}
     },
     "4183c434c31e4483aa5bd42b2a782e89": {
      "model_module": "@jupyter-widgets/base",
      "model_module_version": "1.2.0",
      "model_name": "LayoutModel",
      "state": {}
     },
     "41d929a7ec464020ac465449320978e4": {
      "model_module": "@jupyter-widgets/base",
      "model_module_version": "1.2.0",
      "model_name": "LayoutModel",
      "state": {
       "width": "95%"
      }
     },
     "41dc53adbb814c3fa6b491007783f810": {
      "model_module": "@jupyter-widgets/base",
      "model_module_version": "1.2.0",
      "model_name": "LayoutModel",
      "state": {
       "width": "95%"
      }
     },
     "41dfd389d8014d7fa2bf7b3dc4024688": {
      "model_module": "@jupyter-widgets/output",
      "model_module_version": "1.0.0",
      "model_name": "OutputModel",
      "state": {
       "layout": "IPY_MODEL_196c37a2da1442d4b979670e1b760412"
      }
     },
     "41fb7558081348f3ace69643fb1eef0f": {
      "model_module": "@jupyter-widgets/output",
      "model_module_version": "1.0.0",
      "model_name": "OutputModel",
      "state": {
       "layout": "IPY_MODEL_f55998524d874c1ab81efab7de851a34"
      }
     },
     "42280cec97e446dd93494a2f03ac40dd": {
      "model_module": "@jupyter-widgets/controls",
      "model_module_version": "1.5.0",
      "model_name": "TextModel",
      "state": {
       "description": "Other:",
       "layout": "IPY_MODEL_3b23eb24788d4c2999a9164f7bf60f55",
       "placeholder": "Hit enter to submit.",
       "style": "IPY_MODEL_dc3de554fa4c4e268f4b3a553e6941ce"
      }
     },
     "4229461880fe479e9017e8ec4531ebea": {
      "model_module": "@jupyter-widgets/controls",
      "model_module_version": "1.5.0",
      "model_name": "ButtonModel",
      "state": {
       "description": "1",
       "layout": "IPY_MODEL_d647eb035aa14ffbab86cd50a6d3599d",
       "style": "IPY_MODEL_99454d87a8a34072a1e67d91ac7fcb10"
      }
     },
     "424359845ed64cdb9a26f6d881522985": {
      "model_module": "@jupyter-widgets/controls",
      "model_module_version": "1.5.0",
      "model_name": "VBoxModel",
      "state": {
       "children": [
        "IPY_MODEL_db45270b224343158819c8043a7aebd6",
        "IPY_MODEL_0aecfc9af3784f57bcf13d12168d7bb8"
       ],
       "layout": "IPY_MODEL_1b197b06da6c41a7abf41adacfd4d580"
      }
     },
     "42891a2368e946e89ba38ef4e4fe3bf7": {
      "model_module": "@jupyter-widgets/controls",
      "model_module_version": "1.5.0",
      "model_name": "VBoxModel",
      "state": {
       "children": [
        "IPY_MODEL_5a8b665c997a4e7796189aaa2c362760",
        "IPY_MODEL_8b8b3d46c6b04f2096de79d33e6a00a1"
       ],
       "layout": "IPY_MODEL_0ccfcbba127a4443bc6183270bf5d1ca"
      }
     },
     "42bbdf36c14c4f808554777199d67be9": {
      "model_module": "@jupyter-widgets/base",
      "model_module_version": "1.2.0",
      "model_name": "LayoutModel",
      "state": {
       "width": "95%"
      }
     },
     "42f2b6552b1e446099a77e663af17620": {
      "model_module": "@jupyter-widgets/base",
      "model_module_version": "1.2.0",
      "model_name": "LayoutModel",
      "state": {
       "width": "10%"
      }
     },
     "432b61af823046c9bb40a5f8c5f1bda6": {
      "model_module": "@jupyter-widgets/controls",
      "model_module_version": "1.5.0",
      "model_name": "ButtonStyleModel",
      "state": {}
     },
     "432e022512c14de4ba481d434b06d812": {
      "model_module": "@jupyter-widgets/base",
      "model_module_version": "1.2.0",
      "model_name": "LayoutModel",
      "state": {}
     },
     "43675ced581c46d38e6f35c832841b2b": {
      "model_module": "@jupyter-widgets/base",
      "model_module_version": "1.2.0",
      "model_name": "LayoutModel",
      "state": {}
     },
     "437699796ded4b2999f698eaf407903b": {
      "model_module": "@jupyter-widgets/output",
      "model_module_version": "1.0.0",
      "model_name": "OutputModel",
      "state": {
       "layout": "IPY_MODEL_2a32b7c1b73d4d999c55b59b2df09c2e"
      }
     },
     "43b2977306f64cb3a528713fbbf21820": {
      "model_module": "@jupyter-widgets/controls",
      "model_module_version": "1.5.0",
      "model_name": "ButtonStyleModel",
      "state": {}
     },
     "43c27dfa45844ebda9b2da95fd4d7a4b": {
      "model_module": "@jupyter-widgets/controls",
      "model_module_version": "1.5.0",
      "model_name": "ButtonModel",
      "state": {
       "description": "3",
       "layout": "IPY_MODEL_7283af185db341ad9181798e63677bad",
       "style": "IPY_MODEL_f3f051d776234149ae61d5d14796551f"
      }
     },
     "43cf498024304f7daae9f8f4915a27a9": {
      "model_module": "@jupyter-widgets/controls",
      "model_module_version": "1.5.0",
      "model_name": "ButtonModel",
      "state": {
       "description": "2",
       "layout": "IPY_MODEL_0fdc6b8403ab4781b5d340264c5458dd",
       "style": "IPY_MODEL_c6d87667424041df92235da756364b44"
      }
     },
     "43f2b595f0d4492d9afed8acef9b1ee8": {
      "model_module": "@jupyter-widgets/controls",
      "model_module_version": "1.5.0",
      "model_name": "ProgressStyleModel",
      "state": {
       "description_width": ""
      }
     },
     "442350921f1944e6a8f6386dea50193b": {
      "model_module": "@jupyter-widgets/controls",
      "model_module_version": "1.5.0",
      "model_name": "ButtonStyleModel",
      "state": {}
     },
     "44368e70519242ccb5618809ddb9d9ff": {
      "model_module": "@jupyter-widgets/controls",
      "model_module_version": "1.5.0",
      "model_name": "ButtonModel",
      "state": {
       "description": "4",
       "layout": "IPY_MODEL_b865ca61a91643cf925c855f3a6f1050",
       "style": "IPY_MODEL_88f06a9da57a4acdb6b91de5ac672889"
      }
     },
     "445d60820af8482d9b4c62a930ce99f8": {
      "model_module": "@jupyter-widgets/base",
      "model_module_version": "1.2.0",
      "model_name": "LayoutModel",
      "state": {}
     },
     "4468864e8d9647a687dee53c4000c1e3": {
      "model_module": "@jupyter-widgets/controls",
      "model_module_version": "1.5.0",
      "model_name": "VBoxModel",
      "state": {
       "children": [
        "IPY_MODEL_0f2be07cb33441a2bf03f421e737b585",
        "IPY_MODEL_71a0930561a047bd845292bb68670065"
       ],
       "layout": "IPY_MODEL_c224fe6ba3704ea4a10f371cee4b0ed4"
      }
     },
     "44712f9ebb3c40c19e523e35fb1aeaf1": {
      "model_module": "@jupyter-widgets/base",
      "model_module_version": "1.2.0",
      "model_name": "LayoutModel",
      "state": {
       "width": "95%"
      }
     },
     "4487123a2e65467f9df236b718a61f01": {
      "model_module": "@jupyter-widgets/base",
      "model_module_version": "1.2.0",
      "model_name": "LayoutModel",
      "state": {
       "width": "95%"
      }
     },
     "44f83869bb104d5589be749c1ba2bbce": {
      "model_module": "@jupyter-widgets/controls",
      "model_module_version": "1.5.0",
      "model_name": "TextModel",
      "state": {
       "description": "Other:",
       "layout": "IPY_MODEL_74ae1d3bfaae47dcb8fe3ca0d82a9fed",
       "placeholder": "Hit enter to submit.",
       "style": "IPY_MODEL_0ad23f0af4564ffe872aa939dc31cc42"
      }
     },
     "461a5cc9562f4c19bfa8a9bce1ba9e97": {
      "model_module": "@jupyter-widgets/output",
      "model_module_version": "1.0.0",
      "model_name": "OutputModel",
      "state": {
       "layout": "IPY_MODEL_bb527200b3c84ceba2ab17d474401934"
      }
     },
     "4621a8a40dd94818ac415b9815f4c60a": {
      "model_module": "@jupyter-widgets/controls",
      "model_module_version": "1.5.0",
      "model_name": "ButtonModel",
      "state": {
       "description": "9",
       "layout": "IPY_MODEL_0388cbf481964cd799714f18bb6fa6c1",
       "style": "IPY_MODEL_06408d9981c14640b62e5ff029139dd1"
      }
     },
     "463a45760cd54e9b942de158c3dd8a71": {
      "model_module": "@jupyter-widgets/base",
      "model_module_version": "1.2.0",
      "model_name": "LayoutModel",
      "state": {
       "width": "10%"
      }
     },
     "463ee96fc83a4e7b937565c08c367148": {
      "model_module": "@jupyter-widgets/base",
      "model_module_version": "1.2.0",
      "model_name": "LayoutModel",
      "state": {
       "width": "10%"
      }
     },
     "464cbe4f552f4b87810ccc19a814915b": {
      "model_module": "@jupyter-widgets/base",
      "model_module_version": "1.2.0",
      "model_name": "LayoutModel",
      "state": {
       "width": "10%"
      }
     },
     "46813732799640e4afe388deed39bceb": {
      "model_module": "@jupyter-widgets/controls",
      "model_module_version": "1.5.0",
      "model_name": "HBoxModel",
      "state": {
       "children": [
        "IPY_MODEL_5a8fc3703ff04f27a3961b0ba4d54d52",
        "IPY_MODEL_b47e91b345e444c2ad8f83891c38d76c",
        "IPY_MODEL_d7088e42f58d412284fcec61e10419f8",
        "IPY_MODEL_0181618f90dd4987a61d4e0bde67323a",
        "IPY_MODEL_6b3716504f5e463faf986e16a20fc52d",
        "IPY_MODEL_12a946170e784212966af4e7e88d1408",
        "IPY_MODEL_424359845ed64cdb9a26f6d881522985",
        "IPY_MODEL_b6495bf40d3b486c8077a471a85f3a61",
        "IPY_MODEL_d3ebc2937296433d8dee31aa88da9512",
        "IPY_MODEL_c7a20bf7b33846449128642edbf3e6ce"
       ],
       "layout": "IPY_MODEL_f386b5434fcd49e0939e4726339eb2a6"
      }
     },
     "46cd3ca6e9f54fa7884824289dfc8188": {
      "model_module": "@jupyter-widgets/controls",
      "model_module_version": "1.5.0",
      "model_name": "ButtonStyleModel",
      "state": {}
     },
     "46eb0e071a244acaa8ea4d5f140aa4cb": {
      "model_module": "@jupyter-widgets/base",
      "model_module_version": "1.2.0",
      "model_name": "LayoutModel",
      "state": {}
     },
     "471cc4bedcab4c0e8a22f5c7b145a0dd": {
      "model_module": "@jupyter-widgets/controls",
      "model_module_version": "1.5.0",
      "model_name": "VBoxModel",
      "state": {
       "children": [
        "IPY_MODEL_758ea1f1757a499c9fce4ab3f6625c56",
        "IPY_MODEL_e00d683160854adb9a21f1e5358806b9"
       ],
       "layout": "IPY_MODEL_1dcdff9ca1204891916c39c2a839c47c"
      }
     },
     "472dc556bfb547299a38731fb0a281a3": {
      "model_module": "@jupyter-widgets/controls",
      "model_module_version": "1.5.0",
      "model_name": "HBoxModel",
      "state": {
       "children": [
        "IPY_MODEL_18448bab1206498ab483f9ec12696515",
        "IPY_MODEL_8691a5e3719749669de1a7a43bcbcc61"
       ],
       "layout": "IPY_MODEL_b2faf1507b0e48989f2361378ddba24b"
      }
     },
     "47554a3e06e94a82ae0f8ccc6d453490": {
      "model_module": "@jupyter-widgets/base",
      "model_module_version": "1.2.0",
      "model_name": "LayoutModel",
      "state": {
       "width": "10%"
      }
     },
     "47f0053078504337a25325082628b939": {
      "model_module": "@jupyter-widgets/controls",
      "model_module_version": "1.5.0",
      "model_name": "ButtonModel",
      "state": {
       "description": "4",
       "layout": "IPY_MODEL_a64deb790528423398f7dccfe73a4fa3",
       "style": "IPY_MODEL_20becc90655a4a1ab114018a2eb2a46a"
      }
     },
     "4833091d47ca4820af198aaa102c388d": {
      "model_module": "@jupyter-widgets/base",
      "model_module_version": "1.2.0",
      "model_name": "LayoutModel",
      "state": {}
     },
     "4852ffc68af146bba891684a3b1ac2f7": {
      "model_module": "@jupyter-widgets/controls",
      "model_module_version": "1.5.0",
      "model_name": "VBoxModel",
      "state": {
       "children": [
        "IPY_MODEL_a8194311b2a14c0aa017b3bc66a9e941",
        "IPY_MODEL_1743bd34ea2d4f9786366115879b5d06"
       ],
       "layout": "IPY_MODEL_85c6a4e2145645829823bc0f62a5c0cb"
      }
     },
     "48b845b489b04843aedf21ae3565c72b": {
      "model_module": "@jupyter-widgets/controls",
      "model_module_version": "1.5.0",
      "model_name": "ButtonModel",
      "state": {
       "description": "0",
       "layout": "IPY_MODEL_88a98cdf68764848a08c8aa07ff8396d",
       "style": "IPY_MODEL_aae592724ea2455ca197662e25d76810"
      }
     },
     "48ce65a9ad3b43e8b7ffd5054521e7cc": {
      "model_module": "@jupyter-widgets/base",
      "model_module_version": "1.2.0",
      "model_name": "LayoutModel",
      "state": {
       "width": "95%"
      }
     },
     "492d6eea7bd94c65866a3cb450ee5c59": {
      "model_module": "@jupyter-widgets/output",
      "model_module_version": "1.0.0",
      "model_name": "OutputModel",
      "state": {
       "layout": "IPY_MODEL_2336515b467c4819a508519033cf2413"
      }
     },
     "496e0d55ceb04870adf688966cdbb5a4": {
      "model_module": "@jupyter-widgets/base",
      "model_module_version": "1.2.0",
      "model_name": "LayoutModel",
      "state": {
       "width": "95%"
      }
     },
     "4a90d5ef93b948e5a4f6961a219c11da": {
      "model_module": "@jupyter-widgets/controls",
      "model_module_version": "1.5.0",
      "model_name": "ButtonModel",
      "state": {
       "description": "Skip",
       "icon": "fast-forward",
       "layout": "IPY_MODEL_b17d1ccaf684449f802089a3916c234b",
       "style": "IPY_MODEL_723b52fdae464822a34ed50b36bec8d3"
      }
     },
     "4aa21e74639149e1a360ef652d36551c": {
      "model_module": "@jupyter-widgets/base",
      "model_module_version": "1.2.0",
      "model_name": "LayoutModel",
      "state": {}
     },
     "4ab95d622a5144da973d22991c335d2b": {
      "model_module": "@jupyter-widgets/base",
      "model_module_version": "1.2.0",
      "model_name": "LayoutModel",
      "state": {
       "width": "10%"
      }
     },
     "4b2ae31aa96d49f4b1d2a7139651cab0": {
      "model_module": "@jupyter-widgets/controls",
      "model_module_version": "1.5.0",
      "model_name": "VBoxModel",
      "state": {
       "children": [
        "IPY_MODEL_93e36addb37643ce9841944a811d14b5",
        "IPY_MODEL_3bdcd091b1dc45dab38d749999a7e8de",
        "IPY_MODEL_2dc5a12bbc964968ba494d1493c39db7"
       ],
       "layout": "IPY_MODEL_54a41f4af2f944ba9b1d3f9eca41fdb8"
      }
     },
     "4b2ae365448d4794a909ecc5046082ae": {
      "model_module": "@jupyter-widgets/base",
      "model_module_version": "1.2.0",
      "model_name": "LayoutModel",
      "state": {}
     },
     "4b678f795e424f9f8a480939b3c5c3ee": {
      "model_module": "@jupyter-widgets/controls",
      "model_module_version": "1.5.0",
      "model_name": "ButtonModel",
      "state": {
       "description": "5",
       "layout": "IPY_MODEL_c6c788ebd67d4111ad44abfa1ed8677e",
       "style": "IPY_MODEL_22807e4f6cc048b58cf993f58b7ee28d"
      }
     },
     "4bd5dc2da9844f28990c3ac2af0121ef": {
      "model_module": "@jupyter-widgets/controls",
      "model_module_version": "1.5.0",
      "model_name": "HBoxModel",
      "state": {
       "children": [
        "IPY_MODEL_1fccf38fa2ab405699b36941bf2e1313",
        "IPY_MODEL_54603209b9204ef9a67f70a0ceccbccb"
       ],
       "layout": "IPY_MODEL_97001a62aba043d89d07d152dccbd623"
      }
     },
     "4c00a3eefa764f7d9b4b6b734c354a8a": {
      "model_module": "@jupyter-widgets/output",
      "model_module_version": "1.0.0",
      "model_name": "OutputModel",
      "state": {
       "layout": "IPY_MODEL_0262b262f84747638d6a6acad9d78ea0"
      }
     },
     "4c22bb54d23240a0bda1ee79c3a705b7": {
      "model_module": "@jupyter-widgets/output",
      "model_module_version": "1.0.0",
      "model_name": "OutputModel",
      "state": {
       "layout": "IPY_MODEL_3b5090fc762347b9a2df403fe97b5e81"
      }
     },
     "4c3776cef85245deaba347b01c4ad7c8": {
      "model_module": "@jupyter-widgets/base",
      "model_module_version": "1.2.0",
      "model_name": "LayoutModel",
      "state": {
       "width": "10%"
      }
     },
     "4c61cf3899634c46825bd038801b2073": {
      "model_module": "@jupyter-widgets/controls",
      "model_module_version": "1.5.0",
      "model_name": "ButtonModel",
      "state": {
       "description": "0",
       "layout": "IPY_MODEL_64a0f83ec97e4b76889e079a641f5d90",
       "style": "IPY_MODEL_2fba1d21745a453ba115de81ec721981"
      }
     },
     "4c6caecdd3f740589f05728d3186bf54": {
      "model_module": "@jupyter-widgets/controls",
      "model_module_version": "1.5.0",
      "model_name": "VBoxModel",
      "state": {
       "children": [
        "IPY_MODEL_4621a8a40dd94818ac415b9815f4c60a",
        "IPY_MODEL_6dd1761eba14418c8d7606f1f4d2f4c2"
       ],
       "layout": "IPY_MODEL_519f81ce970144578acc8466bcc06c26"
      }
     },
     "4c7b416c128145af8aeb8a21a281df3f": {
      "model_module": "@jupyter-widgets/controls",
      "model_module_version": "1.5.0",
      "model_name": "ButtonModel",
      "state": {
       "description": "1",
       "layout": "IPY_MODEL_b551c8ad5ea9445c97a23eb470191143",
       "style": "IPY_MODEL_8a4cdd7b6ca84988868784c38c8e2f15"
      }
     },
     "4c869f6df5a043b6a4e85a9f9dddab6e": {
      "model_module": "@jupyter-widgets/controls",
      "model_module_version": "1.5.0",
      "model_name": "ButtonStyleModel",
      "state": {}
     },
     "4c9367ff917249e7966a75f7fd245d97": {
      "model_module": "@jupyter-widgets/base",
      "model_module_version": "1.2.0",
      "model_name": "LayoutModel",
      "state": {}
     },
     "4c987171bacd4a28a279002c4fb5a024": {
      "model_module": "@jupyter-widgets/base",
      "model_module_version": "1.2.0",
      "model_name": "LayoutModel",
      "state": {
       "width": "10%"
      }
     },
     "4c9ed397fb6e44f68a5f32375ea254f7": {
      "model_module": "@jupyter-widgets/controls",
      "model_module_version": "1.5.0",
      "model_name": "ButtonStyleModel",
      "state": {}
     },
     "4cb5acb9bc534eac9e59a2025bd90ce9": {
      "model_module": "@jupyter-widgets/controls",
      "model_module_version": "1.5.0",
      "model_name": "ButtonStyleModel",
      "state": {}
     },
     "4cbd32eed7914b0889f72aa6c4e26a52": {
      "model_module": "@jupyter-widgets/controls",
      "model_module_version": "1.5.0",
      "model_name": "ButtonStyleModel",
      "state": {}
     },
     "4cc231ed79a942c087a5e7ba2d9ebdad": {
      "model_module": "@jupyter-widgets/base",
      "model_module_version": "1.2.0",
      "model_name": "LayoutModel",
      "state": {
       "width": "95%"
      }
     },
     "4d07fe9f656f4bc4b23ddafd2979c161": {
      "model_module": "@jupyter-widgets/base",
      "model_module_version": "1.2.0",
      "model_name": "LayoutModel",
      "state": {}
     },
     "4d1c26a9540c4402878e85f7573d4251": {
      "model_module": "@jupyter-widgets/controls",
      "model_module_version": "1.5.0",
      "model_name": "VBoxModel",
      "state": {
       "children": [
        "IPY_MODEL_9287df1c149141c7b33af65103b8dca0",
        "IPY_MODEL_8d21fae4a5fe40c3b587819e51698858"
       ],
       "layout": "IPY_MODEL_3561873c43624a49812a4f04bc31e2af"
      }
     },
     "4d52447937004336b94d55e76d108e29": {
      "model_module": "@jupyter-widgets/controls",
      "model_module_version": "1.5.0",
      "model_name": "ButtonModel",
      "state": {
       "description": "3",
       "layout": "IPY_MODEL_b0daff0fbbbf4cf09191d4a35d3abc95",
       "style": "IPY_MODEL_2f2c3835f90d4b78a200fb5c63322bc0"
      }
     },
     "4d9b5c4e54bf4bf8b0f315cb75bed51e": {
      "model_module": "@jupyter-widgets/output",
      "model_module_version": "1.0.0",
      "model_name": "OutputModel",
      "state": {
       "layout": "IPY_MODEL_e41737253f164fcb9b87138fe844efa3"
      }
     },
     "4db56f4d444f4f7db637417c9ec4143c": {
      "model_module": "@jupyter-widgets/base",
      "model_module_version": "1.2.0",
      "model_name": "LayoutModel",
      "state": {}
     },
     "4dcaa28ac6af4afd9ad2ba4720b49452": {
      "model_module": "@jupyter-widgets/base",
      "model_module_version": "1.2.0",
      "model_name": "LayoutModel",
      "state": {
       "width": "10%"
      }
     },
     "4dcf4d92095c407abcce8580a8430dcc": {
      "model_module": "@jupyter-widgets/base",
      "model_module_version": "1.2.0",
      "model_name": "LayoutModel",
      "state": {
       "width": "95%"
      }
     },
     "4def4d187226486cb9259adc949b5fba": {
      "model_module": "@jupyter-widgets/controls",
      "model_module_version": "1.5.0",
      "model_name": "ButtonStyleModel",
      "state": {}
     },
     "4dfae94fbfcc416c8eb57132ab3fba7c": {
      "model_module": "@jupyter-widgets/controls",
      "model_module_version": "1.5.0",
      "model_name": "DescriptionStyleModel",
      "state": {
       "description_width": ""
      }
     },
     "4dfb8b6fad2e4cfb92ef72cb0480a303": {
      "model_module": "@jupyter-widgets/controls",
      "model_module_version": "1.5.0",
      "model_name": "VBoxModel",
      "state": {
       "children": [
        "IPY_MODEL_02f871e7351f4b309c82d8e957b083dc",
        "IPY_MODEL_f9d31381219f41d3882487854a9b1011"
       ],
       "layout": "IPY_MODEL_57bf11d7f96c48d7ba6d226a2c65392e"
      }
     },
     "4e1953df7c534003ae37542b381f23e8": {
      "model_module": "@jupyter-widgets/base",
      "model_module_version": "1.2.0",
      "model_name": "LayoutModel",
      "state": {}
     },
     "4e47a4cc8c584acc8d0f466dd98f90a5": {
      "model_module": "@jupyter-widgets/base",
      "model_module_version": "1.2.0",
      "model_name": "LayoutModel",
      "state": {}
     },
     "4e48a74e43144af0957c0fb2eb6dbe6a": {
      "model_module": "@jupyter-widgets/controls",
      "model_module_version": "1.5.0",
      "model_name": "ButtonModel",
      "state": {
       "description": "Undo",
       "icon": "undo",
       "layout": "IPY_MODEL_3dc19e2b2c53474eb5d387c5c74ee6cc",
       "style": "IPY_MODEL_f213daec8aa843d6b0e0ececfaac5a07"
      }
     },
     "4e5f892325e24d58908d19a1317d4f3c": {
      "model_module": "@jupyter-widgets/base",
      "model_module_version": "1.2.0",
      "model_name": "LayoutModel",
      "state": {}
     },
     "4e63d4e48de846baae8707fa14cc13e5": {
      "model_module": "@jupyter-widgets/controls",
      "model_module_version": "1.5.0",
      "model_name": "ButtonModel",
      "state": {
       "description": "8",
       "layout": "IPY_MODEL_979796274f3a45099c6c95775876d18f",
       "style": "IPY_MODEL_61ff89dc66d9441a83cf081c3440f4bb"
      }
     },
     "4e8f19681a7b4e07a66b9d8134ee9866": {
      "model_module": "@jupyter-widgets/controls",
      "model_module_version": "1.5.0",
      "model_name": "ButtonStyleModel",
      "state": {}
     },
     "4e9a1d381de943029483038d23126d01": {
      "model_module": "@jupyter-widgets/controls",
      "model_module_version": "1.5.0",
      "model_name": "ButtonModel",
      "state": {
       "description": "9",
       "layout": "IPY_MODEL_3c985f68d2734b5f82fae1bf98ce2a3a",
       "style": "IPY_MODEL_da52517a58a04554bcaeddc881d164a5"
      }
     },
     "4ec374685da449ba8e75aa43c25486aa": {
      "model_module": "@jupyter-widgets/controls",
      "model_module_version": "1.5.0",
      "model_name": "ButtonStyleModel",
      "state": {}
     },
     "4ec8c9dfd8054f9187da06bc9ec58c3e": {
      "model_module": "@jupyter-widgets/base",
      "model_module_version": "1.2.0",
      "model_name": "LayoutModel",
      "state": {
       "width": "10%"
      }
     },
     "4efc0005445d46f8b34b07df45405589": {
      "model_module": "@jupyter-widgets/base",
      "model_module_version": "1.2.0",
      "model_name": "LayoutModel",
      "state": {
       "width": "10%"
      }
     },
     "4f27a0a319464edfaf5da8ce6433aa57": {
      "model_module": "@jupyter-widgets/output",
      "model_module_version": "1.0.0",
      "model_name": "OutputModel",
      "state": {
       "layout": "IPY_MODEL_5033689b7dea4430970b4d6004c13589"
      }
     },
     "4f3f3dc5a4cd46638309f35af377deb9": {
      "model_module": "@jupyter-widgets/base",
      "model_module_version": "1.2.0",
      "model_name": "LayoutModel",
      "state": {
       "width": "95%"
      }
     },
     "4f63dde1d1db459ca45e97d1fba78b86": {
      "model_module": "@jupyter-widgets/controls",
      "model_module_version": "1.5.0",
      "model_name": "HBoxModel",
      "state": {
       "children": [
        "IPY_MODEL_701172d1e5724c67bf3363f4be6f1f21"
       ],
       "layout": "IPY_MODEL_83b18787838c4142b337a817d6cdfd53"
      }
     },
     "4f6cc046cd8b47669d923ee5e77abd74": {
      "model_module": "@jupyter-widgets/controls",
      "model_module_version": "1.5.0",
      "model_name": "ButtonStyleModel",
      "state": {}
     },
     "4f7df22c22d34877b2587b72e91cd60e": {
      "model_module": "@jupyter-widgets/controls",
      "model_module_version": "1.5.0",
      "model_name": "ButtonStyleModel",
      "state": {}
     },
     "4fb25be518b84101bcaad8fa8d578094": {
      "model_module": "@jupyter-widgets/base",
      "model_module_version": "1.2.0",
      "model_name": "LayoutModel",
      "state": {
       "width": "10%"
      }
     },
     "4fd987c96c7b4c45a2e371077edf1004": {
      "model_module": "@jupyter-widgets/base",
      "model_module_version": "1.2.0",
      "model_name": "LayoutModel",
      "state": {}
     },
     "4ff684c47da84875b9b966a10c05ebc1": {
      "model_module": "@jupyter-widgets/controls",
      "model_module_version": "1.5.0",
      "model_name": "VBoxModel",
      "state": {
       "children": [
        "IPY_MODEL_9dbbb74a292e4719890ab1cf6d2c5061",
        "IPY_MODEL_d6404bb71aa546798d1a28da9ef23593"
       ],
       "layout": "IPY_MODEL_25f397ff1a70462988e7b089decc3e61"
      }
     },
     "4ffc9cd315984736935e940da90a570c": {
      "model_module": "@jupyter-widgets/output",
      "model_module_version": "1.0.0",
      "model_name": "OutputModel",
      "state": {
       "layout": "IPY_MODEL_97e8efc690b040918fee653932e566f3"
      }
     },
     "5033689b7dea4430970b4d6004c13589": {
      "model_module": "@jupyter-widgets/base",
      "model_module_version": "1.2.0",
      "model_name": "LayoutModel",
      "state": {}
     },
     "511ba59caf264ab193b3364b3f0f8ec5": {
      "model_module": "@jupyter-widgets/controls",
      "model_module_version": "1.5.0",
      "model_name": "ButtonStyleModel",
      "state": {}
     },
     "516a5df7208c4e5d9c2f810ac01c2134": {
      "model_module": "@jupyter-widgets/base",
      "model_module_version": "1.2.0",
      "model_name": "LayoutModel",
      "state": {
       "width": "10%"
      }
     },
     "517f363e261d485786478e77bfef0c27": {
      "model_module": "@jupyter-widgets/output",
      "model_module_version": "1.0.0",
      "model_name": "OutputModel",
      "state": {
       "layout": "IPY_MODEL_beba75646fa44ce3a883f940bc2a7523"
      }
     },
     "519489a45e9b47a780820c8376538274": {
      "model_module": "@jupyter-widgets/base",
      "model_module_version": "1.2.0",
      "model_name": "LayoutModel",
      "state": {
       "justify_content": "space-between"
      }
     },
     "519f81ce970144578acc8466bcc06c26": {
      "model_module": "@jupyter-widgets/base",
      "model_module_version": "1.2.0",
      "model_name": "LayoutModel",
      "state": {
       "width": "10%"
      }
     },
     "520fb1e98d0a4e0392536f0bd3d93713": {
      "model_module": "@jupyter-widgets/controls",
      "model_module_version": "1.5.0",
      "model_name": "ButtonModel",
      "state": {
       "description": "7",
       "layout": "IPY_MODEL_2a3d5a440a034cc99778e97bb90ccc16",
       "style": "IPY_MODEL_3b5d68236ce44985a49f23c699e730d8"
      }
     },
     "522210e541de4660bc16c8715731d0a7": {
      "model_module": "@jupyter-widgets/controls",
      "model_module_version": "1.5.0",
      "model_name": "ButtonModel",
      "state": {
       "description": "3",
       "layout": "IPY_MODEL_79475929955840abad8ddd586aaa5c05",
       "style": "IPY_MODEL_3f5c751be8b945ef8c5d204deadd87f0"
      }
     },
     "523f254c186840ff84681656d9e6d6fc": {
      "model_module": "@jupyter-widgets/controls",
      "model_module_version": "1.5.0",
      "model_name": "ButtonModel",
      "state": {
       "description": "8",
       "layout": "IPY_MODEL_42bbdf36c14c4f808554777199d67be9",
       "style": "IPY_MODEL_686c5dba921448b6a52fc24274301c92"
      }
     },
     "524787567a774f1b968ccb6debea9b8e": {
      "model_module": "@jupyter-widgets/controls",
      "model_module_version": "1.5.0",
      "model_name": "VBoxModel",
      "state": {
       "children": [
        "IPY_MODEL_93489cc2dbed44bebef3547a0aa14427",
        "IPY_MODEL_2fb2b5f4b41d48b5848a62e22526f6f5",
        "IPY_MODEL_892b1380ae9e4dc69c9ea935ac3e4c2c"
       ],
       "layout": "IPY_MODEL_843f05ae732b4a8e9cf3945ce3b4d584"
      }
     },
     "525b9e07f5184517a15505fc62f9bfa2": {
      "model_module": "@jupyter-widgets/base",
      "model_module_version": "1.2.0",
      "model_name": "LayoutModel",
      "state": {
       "width": "10%"
      }
     },
     "528bc82830c9459db2171bdc83671445": {
      "model_module": "@jupyter-widgets/controls",
      "model_module_version": "1.5.0",
      "model_name": "HBoxModel",
      "state": {
       "children": [
        "IPY_MODEL_fbb91c7acd8e47979dd7f2dec1dabac6",
        "IPY_MODEL_4dfb8b6fad2e4cfb92ef72cb0480a303",
        "IPY_MODEL_69fa692c474c41bdabaa490b616e2f23",
        "IPY_MODEL_847379b9e2e8467496412d47a3d4bf6f",
        "IPY_MODEL_80d7922ddb064ed4a5bb4fdd5d252ee0",
        "IPY_MODEL_cb41ee3f0064408aaacdcf70d16aa8b6",
        "IPY_MODEL_21708ea392674eeca5c96f259fd337f4",
        "IPY_MODEL_b15dad3e02c7461fae566af8cf88ea39",
        "IPY_MODEL_60554ca386a647898ded545addb2bca0",
        "IPY_MODEL_471cc4bedcab4c0e8a22f5c7b145a0dd"
       ],
       "layout": "IPY_MODEL_0f22f58d27e24f528a771a3fedcf77f9"
      }
     },
     "5299f96723174200b88472a3d1b19895": {
      "model_module": "@jupyter-widgets/base",
      "model_module_version": "1.2.0",
      "model_name": "LayoutModel",
      "state": {}
     },
     "529d95ef79b8420f88c385feb38fe74b": {
      "model_module": "@jupyter-widgets/controls",
      "model_module_version": "1.5.0",
      "model_name": "HBoxModel",
      "state": {
       "children": [
        "IPY_MODEL_7efcfccd2b54424eaf65c7b487491c59",
        "IPY_MODEL_4a90d5ef93b948e5a4f6961a219c11da",
        "IPY_MODEL_8da4ca5bef5b4127b2ddbe433a112356"
       ],
       "layout": "IPY_MODEL_7213f9806ad047079380cb493d355d8c"
      }
     },
     "529de1fdbff948278fc3e53b23dd5a01": {
      "model_module": "@jupyter-widgets/output",
      "model_module_version": "1.0.0",
      "model_name": "OutputModel",
      "state": {
       "layout": "IPY_MODEL_268d3d7740994545993991d8cc539e3e"
      }
     },
     "52d90313981542fc961002987c8ce91d": {
      "model_module": "@jupyter-widgets/output",
      "model_module_version": "1.0.0",
      "model_name": "OutputModel",
      "state": {
       "layout": "IPY_MODEL_324c0589de3f4ab88d3016efa13458a5"
      }
     },
     "52edf65e838f4d0aac1beb4f85c78c67": {
      "model_module": "@jupyter-widgets/base",
      "model_module_version": "1.2.0",
      "model_name": "LayoutModel",
      "state": {}
     },
     "531bc963b7f74ffc827e883d8aa3195f": {
      "model_module": "@jupyter-widgets/base",
      "model_module_version": "1.2.0",
      "model_name": "LayoutModel",
      "state": {
       "width": "10%"
      }
     },
     "5373c8b6015d44ca96171df179980039": {
      "model_module": "@jupyter-widgets/base",
      "model_module_version": "1.2.0",
      "model_name": "LayoutModel",
      "state": {}
     },
     "53f206448e2844c384f5044fa808f50b": {
      "model_module": "@jupyter-widgets/base",
      "model_module_version": "1.2.0",
      "model_name": "LayoutModel",
      "state": {
       "width": "10%"
      }
     },
     "541de8a291e1437a868b77680bb5e985": {
      "model_module": "@jupyter-widgets/controls",
      "model_module_version": "1.5.0",
      "model_name": "VBoxModel",
      "state": {
       "children": [
        "IPY_MODEL_36df142473f640a289b046680f117fcc",
        "IPY_MODEL_233475389082439a953991d89f7c8dd4"
       ],
       "layout": "IPY_MODEL_6d1318de73a44fa19b95035574e4fa1d"
      }
     },
     "54603209b9204ef9a67f70a0ceccbccb": {
      "model_module": "@jupyter-widgets/controls",
      "model_module_version": "1.5.0",
      "model_name": "HBoxModel",
      "state": {
       "children": [
        "IPY_MODEL_7efcfccd2b54424eaf65c7b487491c59",
        "IPY_MODEL_4a90d5ef93b948e5a4f6961a219c11da",
        "IPY_MODEL_8da4ca5bef5b4127b2ddbe433a112356"
       ],
       "layout": "IPY_MODEL_771095acb3614af496746f1dd474a29b"
      }
     },
     "54a41f4af2f944ba9b1d3f9eca41fdb8": {
      "model_module": "@jupyter-widgets/base",
      "model_module_version": "1.2.0",
      "model_name": "LayoutModel",
      "state": {}
     },
     "54bb609619cf41a5b8572f9a64bce56f": {
      "model_module": "@jupyter-widgets/base",
      "model_module_version": "1.2.0",
      "model_name": "LayoutModel",
      "state": {}
     },
     "54cf8dd745674352b2f84de28f78d7ec": {
      "model_module": "@jupyter-widgets/base",
      "model_module_version": "1.2.0",
      "model_name": "LayoutModel",
      "state": {}
     },
     "550fbd118d8c4b11be6dc71646a190b5": {
      "model_module": "@jupyter-widgets/base",
      "model_module_version": "1.2.0",
      "model_name": "LayoutModel",
      "state": {}
     },
     "5529895739d2407aad374d23174e93b3": {
      "model_module": "@jupyter-widgets/controls",
      "model_module_version": "1.5.0",
      "model_name": "DescriptionStyleModel",
      "state": {
       "description_width": ""
      }
     },
     "55868b74d23444eaa14ce553f75b5e71": {
      "model_module": "@jupyter-widgets/controls",
      "model_module_version": "1.5.0",
      "model_name": "VBoxModel",
      "state": {
       "children": [
        "IPY_MODEL_e37d3bb1712341c0bd2318b7f7f71983",
        "IPY_MODEL_405f3b05253b4a328c9ee1f70d79d5ac"
       ],
       "layout": "IPY_MODEL_a57ceec4557c48428ccab7c85bdfa47b"
      }
     },
     "55b959781a494e1393c6e9234fb79826": {
      "model_module": "@jupyter-widgets/controls",
      "model_module_version": "1.5.0",
      "model_name": "ButtonStyleModel",
      "state": {}
     },
     "55d9cb9d05224f00b9b131e0fa5d3cc6": {
      "model_module": "@jupyter-widgets/base",
      "model_module_version": "1.2.0",
      "model_name": "LayoutModel",
      "state": {
       "width": "95%"
      }
     },
     "561aa190ccec464f9c795dc77272664b": {
      "model_module": "@jupyter-widgets/output",
      "model_module_version": "1.0.0",
      "model_name": "OutputModel",
      "state": {
       "layout": "IPY_MODEL_74c0b76cee6a48529e2947623ac34d83"
      }
     },
     "565a0ec16d7d47bbaf44802563dfeff0": {
      "model_module": "@jupyter-widgets/base",
      "model_module_version": "1.2.0",
      "model_name": "LayoutModel",
      "state": {
       "width": "95%"
      }
     },
     "569d077e3f174a849f944c6aec7bf055": {
      "model_module": "@jupyter-widgets/controls",
      "model_module_version": "1.5.0",
      "model_name": "ButtonModel",
      "state": {
       "description": "4",
       "layout": "IPY_MODEL_48ce65a9ad3b43e8b7ffd5054521e7cc",
       "style": "IPY_MODEL_91cc7a4f38054298baf420687833c584"
      }
     },
     "56b73673d467446da2da7d09d6ba0a23": {
      "model_module": "@jupyter-widgets/controls",
      "model_module_version": "1.5.0",
      "model_name": "ButtonStyleModel",
      "state": {}
     },
     "56bacc2794304442bee2a7e4877b326c": {
      "model_module": "@jupyter-widgets/controls",
      "model_module_version": "1.5.0",
      "model_name": "ButtonStyleModel",
      "state": {}
     },
     "572e521ada0e40a5b84f7d110a2136a3": {
      "model_module": "@jupyter-widgets/base",
      "model_module_version": "1.2.0",
      "model_name": "LayoutModel",
      "state": {
       "width": "10%"
      }
     },
     "572ec589a9fd4bc1aff358e69d44df8e": {
      "model_module": "@jupyter-widgets/base",
      "model_module_version": "1.2.0",
      "model_name": "LayoutModel",
      "state": {
       "width": "10%"
      }
     },
     "5759d16090be41faa0e4df046d7bc2d1": {
      "model_module": "@jupyter-widgets/base",
      "model_module_version": "1.2.0",
      "model_name": "LayoutModel",
      "state": {
       "width": "95%"
      }
     },
     "57bf11d7f96c48d7ba6d226a2c65392e": {
      "model_module": "@jupyter-widgets/base",
      "model_module_version": "1.2.0",
      "model_name": "LayoutModel",
      "state": {
       "width": "10%"
      }
     },
     "5807e8454cc642fda5ef55a2e87011af": {
      "model_module": "@jupyter-widgets/controls",
      "model_module_version": "1.5.0",
      "model_name": "ButtonStyleModel",
      "state": {}
     },
     "58856c3699f94bd2b34977848d867d08": {
      "model_module": "@jupyter-widgets/controls",
      "model_module_version": "1.5.0",
      "model_name": "ButtonModel",
      "state": {
       "description": "4",
       "layout": "IPY_MODEL_2e2557e3848540508c8e2f7ff0b57436",
       "style": "IPY_MODEL_c2159710ea2b43d28124fbab0f7c1f3f"
      }
     },
     "58fa8b5d553c4acb9891aa67aea33b22": {
      "model_module": "@jupyter-widgets/output",
      "model_module_version": "1.0.0",
      "model_name": "OutputModel",
      "state": {
       "layout": "IPY_MODEL_54cf8dd745674352b2f84de28f78d7ec"
      }
     },
     "59340d8b970c45b39d588f0f1c4d6355": {
      "model_module": "@jupyter-widgets/controls",
      "model_module_version": "1.5.0",
      "model_name": "ButtonModel",
      "state": {
       "description": "Skip",
       "icon": "fast-forward",
       "layout": "IPY_MODEL_fb92495419404abc80743bcb2b4d3c70",
       "style": "IPY_MODEL_4ec374685da449ba8e75aa43c25486aa"
      }
     },
     "5937ef3af13b43bfba194ccefe521463": {
      "model_module": "@jupyter-widgets/base",
      "model_module_version": "1.2.0",
      "model_name": "LayoutModel",
      "state": {
       "width": "95%"
      }
     },
     "5968c184c341495fabab6bd58e5df76e": {
      "model_module": "@jupyter-widgets/controls",
      "model_module_version": "1.5.0",
      "model_name": "HBoxModel",
      "state": {
       "children": [
        "IPY_MODEL_7efcfccd2b54424eaf65c7b487491c59",
        "IPY_MODEL_4a90d5ef93b948e5a4f6961a219c11da",
        "IPY_MODEL_8da4ca5bef5b4127b2ddbe433a112356"
       ],
       "layout": "IPY_MODEL_12cae066ee2847488e1f9c7b3a622736"
      }
     },
     "59717ca1eb044d54a0aba0c75758cf1d": {
      "model_module": "@jupyter-widgets/controls",
      "model_module_version": "1.5.0",
      "model_name": "ButtonModel",
      "state": {
       "description": "7",
       "layout": "IPY_MODEL_63cc8730228f4fdbbb590e962507839c",
       "style": "IPY_MODEL_3dd5c339763c427499bf35b594550711"
      }
     },
     "59a46377fbd744b48afed87f07e667a9": {
      "model_module": "@jupyter-widgets/output",
      "model_module_version": "1.0.0",
      "model_name": "OutputModel",
      "state": {
       "layout": "IPY_MODEL_cebdacc57c5e4a01aff6d40ed2df944a"
      }
     },
     "59fb325e510b437fa3b79c5f6e3c6a48": {
      "model_module": "@jupyter-widgets/controls",
      "model_module_version": "1.5.0",
      "model_name": "HBoxModel",
      "state": {
       "children": [
        "IPY_MODEL_f07e5ca023414aff8ec8f4397e40cc08",
        "IPY_MODEL_f737fc2b54214f539e0f1d907768a5e2"
       ],
       "layout": "IPY_MODEL_bee75a1949974b2a896bfb1906123e8a"
      }
     },
     "5a144fb3794c47398a2d099ecf4930e1": {
      "model_module": "@jupyter-widgets/controls",
      "model_module_version": "1.5.0",
      "model_name": "VBoxModel",
      "state": {
       "children": [
        "IPY_MODEL_0591843917cb4b569428f95df5f27336",
        "IPY_MODEL_81b5c30564f14b548514fe4afa1b726f"
       ],
       "layout": "IPY_MODEL_f4b733df81f64f88be5343dfdea79a14"
      }
     },
     "5a8b665c997a4e7796189aaa2c362760": {
      "model_module": "@jupyter-widgets/controls",
      "model_module_version": "1.5.0",
      "model_name": "ButtonModel",
      "state": {
       "description": "6",
       "layout": "IPY_MODEL_956f30501a2e46df902554fd8b1b6044",
       "style": "IPY_MODEL_81b5bda351dc405d8c9108d78c9405ff"
      }
     },
     "5a8fc3703ff04f27a3961b0ba4d54d52": {
      "model_module": "@jupyter-widgets/controls",
      "model_module_version": "1.5.0",
      "model_name": "VBoxModel",
      "state": {
       "children": [
        "IPY_MODEL_4c61cf3899634c46825bd038801b2073",
        "IPY_MODEL_09c6ea4fa76b4694a7b0aa680c2ddb02"
       ],
       "layout": "IPY_MODEL_a4ca57d82ee54e1aa2fa42ab0c0535b9"
      }
     },
     "5ac76f1f6c6547df93e884d1cf868b00": {
      "model_module": "@jupyter-widgets/controls",
      "model_module_version": "1.5.0",
      "model_name": "HBoxModel",
      "state": {
       "children": [
        "IPY_MODEL_7efcfccd2b54424eaf65c7b487491c59",
        "IPY_MODEL_4a90d5ef93b948e5a4f6961a219c11da",
        "IPY_MODEL_8da4ca5bef5b4127b2ddbe433a112356"
       ],
       "layout": "IPY_MODEL_d087a189e267449d942701bdb12c6361"
      }
     },
     "5b404e8bfd784bd68f6bc6f492844ae6": {
      "model_module": "@jupyter-widgets/controls",
      "model_module_version": "1.5.0",
      "model_name": "VBoxModel",
      "state": {
       "children": [
        "IPY_MODEL_769e2987875d41659b1ef816e935ef8d",
        "IPY_MODEL_aa19fc59fdf54708a5ac080b0c6de65e"
       ],
       "layout": "IPY_MODEL_47554a3e06e94a82ae0f8ccc6d453490"
      }
     },
     "5b7880594d314efebbec1b1fb65c9f1b": {
      "model_module": "@jupyter-widgets/controls",
      "model_module_version": "1.5.0",
      "model_name": "ButtonStyleModel",
      "state": {}
     },
     "5b7d271bc17a4539a2e799348a39567a": {
      "model_module": "@jupyter-widgets/output",
      "model_module_version": "1.0.0",
      "model_name": "OutputModel",
      "state": {
       "layout": "IPY_MODEL_738b643dc0b34c5fa3b0ac05566eda7b"
      }
     },
     "5c0dfebadf494cf6a79d73e40204133f": {
      "model_module": "@jupyter-widgets/controls",
      "model_module_version": "1.5.0",
      "model_name": "ButtonModel",
      "state": {
       "description": "7",
       "layout": "IPY_MODEL_3450d70afa644b00bbd8034a817baabc",
       "style": "IPY_MODEL_390685ae641a437880946b0dff06186e"
      }
     },
     "5c19461f09a341e3ac167b45a85b0c2d": {
      "model_module": "@jupyter-widgets/output",
      "model_module_version": "1.0.0",
      "model_name": "OutputModel",
      "state": {
       "layout": "IPY_MODEL_67d4840214784daea7cda56762232bd6"
      }
     },
     "5c3dd5be3e4446ca957ae0ff3135fc95": {
      "model_module": "@jupyter-widgets/base",
      "model_module_version": "1.2.0",
      "model_name": "LayoutModel",
      "state": {
       "width": "95%"
      }
     },
     "5c5c4dafe637497fa332e692da4793a1": {
      "model_module": "@jupyter-widgets/controls",
      "model_module_version": "1.5.0",
      "model_name": "VBoxModel",
      "state": {
       "children": [
        "IPY_MODEL_5f0d56eaed2c4f87b0ab17b184669901",
        "IPY_MODEL_f93b046ffafc44e6983404902ecd35b8"
       ],
       "layout": "IPY_MODEL_dfa6bce6202247f792703a01650d180f"
      }
     },
     "5c7202d8c92a4ee4bdd2fc547d482edd": {
      "model_module": "@jupyter-widgets/base",
      "model_module_version": "1.2.0",
      "model_name": "LayoutModel",
      "state": {}
     },
     "5c73e821be2f44fb8a40bc897ad1b48d": {
      "model_module": "@jupyter-widgets/base",
      "model_module_version": "1.2.0",
      "model_name": "LayoutModel",
      "state": {
       "width": "10%"
      }
     },
     "5c88dc1c08754572ac6ca568b4c8e54a": {
      "model_module": "@jupyter-widgets/base",
      "model_module_version": "1.2.0",
      "model_name": "LayoutModel",
      "state": {}
     },
     "5c8a5d490d4d45678c85d670e7c5b2a7": {
      "model_module": "@jupyter-widgets/controls",
      "model_module_version": "1.5.0",
      "model_name": "VBoxModel",
      "state": {
       "children": [
        "IPY_MODEL_dadc55c6d6bb4b26a628eae200d4eb6b",
        "IPY_MODEL_963982eca17544d388f4b15d19ef79bd"
       ],
       "layout": "IPY_MODEL_3256f3721399475bbb25085631335b89"
      }
     },
     "5caf02681e8d479da1646fed007d8ae9": {
      "model_module": "@jupyter-widgets/controls",
      "model_module_version": "1.5.0",
      "model_name": "ButtonStyleModel",
      "state": {}
     },
     "5d94ceed60014c18aafac2423035ced0": {
      "model_module": "@jupyter-widgets/base",
      "model_module_version": "1.2.0",
      "model_name": "LayoutModel",
      "state": {
       "width": "10%"
      }
     },
     "5da9a8f3186e45a8b1f204fe6980a87c": {
      "model_module": "@jupyter-widgets/base",
      "model_module_version": "1.2.0",
      "model_name": "LayoutModel",
      "state": {}
     },
     "5de2c745f83d485995a535c0cd14ddef": {
      "model_module": "@jupyter-widgets/base",
      "model_module_version": "1.2.0",
      "model_name": "LayoutModel",
      "state": {}
     },
     "5df52fda76ce41eda71ae3a136d1cfa1": {
      "model_module": "@jupyter-widgets/controls",
      "model_module_version": "1.5.0",
      "model_name": "HBoxModel",
      "state": {
       "children": [
        "IPY_MODEL_7efcfccd2b54424eaf65c7b487491c59",
        "IPY_MODEL_4a90d5ef93b948e5a4f6961a219c11da",
        "IPY_MODEL_8da4ca5bef5b4127b2ddbe433a112356"
       ],
       "layout": "IPY_MODEL_0a62c9c75c9c445ebd9119afb0661fed"
      }
     },
     "5e31622d03174c0e9886eccf484f7c15": {
      "model_module": "@jupyter-widgets/controls",
      "model_module_version": "1.5.0",
      "model_name": "ButtonStyleModel",
      "state": {}
     },
     "5e5d10d803f34748be5d6d107e298384": {
      "model_module": "@jupyter-widgets/base",
      "model_module_version": "1.2.0",
      "model_name": "LayoutModel",
      "state": {
       "width": "95%"
      }
     },
     "5e67bb85d3c34eab9ad278179368f2aa": {
      "model_module": "@jupyter-widgets/controls",
      "model_module_version": "1.5.0",
      "model_name": "ButtonStyleModel",
      "state": {}
     },
     "5ea69b523aa2424fb4e4043771872402": {
      "model_module": "@jupyter-widgets/controls",
      "model_module_version": "1.5.0",
      "model_name": "ButtonModel",
      "state": {
       "description": "2",
       "layout": "IPY_MODEL_66a07ff07a324a9fa8a0d1e6dd39387d",
       "style": "IPY_MODEL_4c9ed397fb6e44f68a5f32375ea254f7"
      }
     },
     "5ea72a73586b47b8bd5e49d924995cf7": {
      "model_module": "@jupyter-widgets/controls",
      "model_module_version": "1.5.0",
      "model_name": "ButtonStyleModel",
      "state": {}
     },
     "5f0d56eaed2c4f87b0ab17b184669901": {
      "model_module": "@jupyter-widgets/controls",
      "model_module_version": "1.5.0",
      "model_name": "ButtonModel",
      "state": {
       "description": "6",
       "layout": "IPY_MODEL_fd0ff199e0f94c588b42d1edbb00f562",
       "style": "IPY_MODEL_eef33a033300461a978cd654083cf7e6"
      }
     },
     "5f3acc1fb2cd4d268ef912e8ecc35457": {
      "model_module": "@jupyter-widgets/controls",
      "model_module_version": "1.5.0",
      "model_name": "ButtonModel",
      "state": {
       "description": "6",
       "layout": "IPY_MODEL_b00e4b6ad583408d98a71915370ff61c",
       "style": "IPY_MODEL_02554045cd154bcd9fbd6057599cb1d1"
      }
     },
     "5f5edfb5df334d0daa6f02df9113c46b": {
      "model_module": "@jupyter-widgets/output",
      "model_module_version": "1.0.0",
      "model_name": "OutputModel",
      "state": {
       "layout": "IPY_MODEL_0fd4bec2c17e4582a49568bc6e30a6ea"
      }
     },
     "5f61f654db314c43bf86e6a2b96d2bd3": {
      "model_module": "@jupyter-widgets/base",
      "model_module_version": "1.2.0",
      "model_name": "LayoutModel",
      "state": {}
     },
     "5f6b425a834f4a16a92908ed891cb176": {
      "model_module": "@jupyter-widgets/base",
      "model_module_version": "1.2.0",
      "model_name": "LayoutModel",
      "state": {}
     },
     "5f9a7318c06641929f7b58364757a7ce": {
      "model_module": "@jupyter-widgets/base",
      "model_module_version": "1.2.0",
      "model_name": "LayoutModel",
      "state": {
       "width": "95%"
      }
     },
     "5f9c94464cef461da8d9abfedafcf259": {
      "model_module": "@jupyter-widgets/controls",
      "model_module_version": "1.5.0",
      "model_name": "ButtonStyleModel",
      "state": {}
     },
     "5fe037de422349e79c31d3200d4632d7": {
      "model_module": "@jupyter-widgets/output",
      "model_module_version": "1.0.0",
      "model_name": "OutputModel",
      "state": {
       "layout": "IPY_MODEL_cba21be5761044e18da3899a7f9c58e7"
      }
     },
     "6018be6eb8164f36b1ec00b3615c9047": {
      "model_module": "@jupyter-widgets/controls",
      "model_module_version": "1.5.0",
      "model_name": "ButtonStyleModel",
      "state": {}
     },
     "6040e3d5d492488e879ff50fb3e6ebec": {
      "model_module": "@jupyter-widgets/controls",
      "model_module_version": "1.5.0",
      "model_name": "VBoxModel",
      "state": {
       "children": [
        "IPY_MODEL_752ffd902fad41ee81702bdb0f93e5af",
        "IPY_MODEL_d8e52062f22a440b8f79b23abf40aa85"
       ],
       "layout": "IPY_MODEL_fbaea4c548a14ee6bb2cdfdeb79fbbab"
      }
     },
     "60554ca386a647898ded545addb2bca0": {
      "model_module": "@jupyter-widgets/controls",
      "model_module_version": "1.5.0",
      "model_name": "VBoxModel",
      "state": {
       "children": [
        "IPY_MODEL_34cb544b74f442d2a61171a37f0c4c4f",
        "IPY_MODEL_5f5edfb5df334d0daa6f02df9113c46b"
       ],
       "layout": "IPY_MODEL_db2a91d307c34759b2a74fa5dd015bb2"
      }
     },
     "606b2ab379524f0f9dd7ad119b9eda97": {
      "model_module": "@jupyter-widgets/controls",
      "model_module_version": "1.5.0",
      "model_name": "ButtonModel",
      "state": {
       "description": "Sort options",
       "icon": "sort",
       "layout": "IPY_MODEL_9642b30b417645a88ae8f26ca18fd2fe",
       "style": "IPY_MODEL_b9d4a647e8af4a319c254ec5e8c19a4c"
      }
     },
     "607f4e95d5b84e0ebd513b70e2e4f594": {
      "model_module": "@jupyter-widgets/controls",
      "model_module_version": "1.5.0",
      "model_name": "VBoxModel",
      "state": {
       "children": [
        "IPY_MODEL_0115f27b3b204d5c8dfa91fcca202331",
        "IPY_MODEL_8e18497c5775454e9e4306037c977484"
       ],
       "layout": "IPY_MODEL_c0847feeb15546c5a7002db9258a40e5"
      }
     },
     "608408cbae5d4340a55396ea95e0f1e5": {
      "model_module": "@jupyter-widgets/controls",
      "model_module_version": "1.5.0",
      "model_name": "VBoxModel",
      "state": {
       "children": [
        "IPY_MODEL_6aa4beb5b4ac41929c00002b124bc592",
        "IPY_MODEL_ced3122d9b7e44bbba80e6b08b1ffebc"
       ],
       "layout": "IPY_MODEL_afb3815777cc47e5ac3c987e3158fa39"
      }
     },
     "60a499f9179e43ff92730788885e90d7": {
      "model_module": "@jupyter-widgets/base",
      "model_module_version": "1.2.0",
      "model_name": "LayoutModel",
      "state": {}
     },
     "6147553856ed461cbe7ca34cbdf3c56b": {
      "model_module": "@jupyter-widgets/base",
      "model_module_version": "1.2.0",
      "model_name": "LayoutModel",
      "state": {
       "width": "10%"
      }
     },
     "6150bc2e21c34018bd49f3cac392d292": {
      "model_module": "@jupyter-widgets/base",
      "model_module_version": "1.2.0",
      "model_name": "LayoutModel",
      "state": {}
     },
     "6152e4fe3b6d448f94edf2e5ac09e1bd": {
      "model_module": "@jupyter-widgets/base",
      "model_module_version": "1.2.0",
      "model_name": "LayoutModel",
      "state": {
       "display": "flex",
       "justify_content": "center",
       "padding": "2.5% 0",
       "width": "100%"
      }
     },
     "61ec2b52fb7440d792c6bf895d14b9f5": {
      "model_module": "@jupyter-widgets/base",
      "model_module_version": "1.2.0",
      "model_name": "LayoutModel",
      "state": {
       "width": "10%"
      }
     },
     "61ff53468cb34a478b3c6283984ffd15": {
      "model_module": "@jupyter-widgets/base",
      "model_module_version": "1.2.0",
      "model_name": "LayoutModel",
      "state": {
       "width": "95%"
      }
     },
     "61ff89dc66d9441a83cf081c3440f4bb": {
      "model_module": "@jupyter-widgets/controls",
      "model_module_version": "1.5.0",
      "model_name": "ButtonStyleModel",
      "state": {}
     },
     "6240cfafb3eb49f1ad4f29a1d4eda450": {
      "model_module": "@jupyter-widgets/base",
      "model_module_version": "1.2.0",
      "model_name": "LayoutModel",
      "state": {
       "width": "10%"
      }
     },
     "627ec2ca4db94cba916f5170935b143b": {
      "model_module": "@jupyter-widgets/controls",
      "model_module_version": "1.5.0",
      "model_name": "ButtonModel",
      "state": {
       "description": "7",
       "layout": "IPY_MODEL_5f9a7318c06641929f7b58364757a7ce",
       "style": "IPY_MODEL_43b2977306f64cb3a528713fbbf21820"
      }
     },
     "628e7e89856e486eba93cb6a88921908": {
      "model_module": "@jupyter-widgets/output",
      "model_module_version": "1.0.0",
      "model_name": "OutputModel",
      "state": {
       "layout": "IPY_MODEL_fd3fb77d5ea04ff09df1e2a27b878421"
      }
     },
     "62a2b204ee274a39b7209f4a08f49bf3": {
      "model_module": "@jupyter-widgets/controls",
      "model_module_version": "1.5.0",
      "model_name": "ButtonModel",
      "state": {
       "description": "1",
       "layout": "IPY_MODEL_708452a360e246a3a83df03e35a4b7bc",
       "style": "IPY_MODEL_c5a5997638f04e3288c21855cec9e464"
      }
     },
     "62fbe78d46624f4c8c5404c3a157e73a": {
      "model_module": "@jupyter-widgets/controls",
      "model_module_version": "1.5.0",
      "model_name": "ButtonStyleModel",
      "state": {}
     },
     "631535df403141c991e13c798ac6cd4e": {
      "model_module": "@jupyter-widgets/controls",
      "model_module_version": "1.5.0",
      "model_name": "ButtonStyleModel",
      "state": {}
     },
     "6342a677496c4714ab827b678819a5dc": {
      "model_module": "@jupyter-widgets/controls",
      "model_module_version": "1.5.0",
      "model_name": "ButtonStyleModel",
      "state": {}
     },
     "6355b71607c94978a83745b0e723d997": {
      "model_module": "@jupyter-widgets/controls",
      "model_module_version": "1.5.0",
      "model_name": "ButtonStyleModel",
      "state": {}
     },
     "636b828c6d364a71939a04e52c7d7295": {
      "model_module": "@jupyter-widgets/controls",
      "model_module_version": "1.5.0",
      "model_name": "ButtonStyleModel",
      "state": {}
     },
     "63ad1c5551f7443381fa8f5e0bc076f7": {
      "model_module": "@jupyter-widgets/controls",
      "model_module_version": "1.5.0",
      "model_name": "HBoxModel",
      "state": {
       "children": [
        "IPY_MODEL_bbf5417ba5d94b55bda98218676ee6d5",
        "IPY_MODEL_a45423fce3a941458dbe930f7b75b330"
       ],
       "layout": "IPY_MODEL_75c324f6b1ba4410b15c381e864b3d78"
      }
     },
     "63cc8730228f4fdbbb590e962507839c": {
      "model_module": "@jupyter-widgets/base",
      "model_module_version": "1.2.0",
      "model_name": "LayoutModel",
      "state": {
       "width": "95%"
      }
     },
     "63e41e21be6b4b90bdb4b6955fd7b21e": {
      "model_module": "@jupyter-widgets/base",
      "model_module_version": "1.2.0",
      "model_name": "LayoutModel",
      "state": {
       "width": "10%"
      }
     },
     "642cdcdfce384fb7afd9d708a1986f28": {
      "model_module": "@jupyter-widgets/output",
      "model_module_version": "1.0.0",
      "model_name": "OutputModel",
      "state": {
       "layout": "IPY_MODEL_b0a5696bc79f41cfb249b2040be8ee82"
      }
     },
     "642ef6990da9467489e96995cfc6c3aa": {
      "model_module": "@jupyter-widgets/output",
      "model_module_version": "1.0.0",
      "model_name": "OutputModel",
      "state": {
       "layout": "IPY_MODEL_227f8530d46e409e86e780e241557188"
      }
     },
     "6463529d8827476782b3e70a3a3e24db": {
      "model_module": "@jupyter-widgets/base",
      "model_module_version": "1.2.0",
      "model_name": "LayoutModel",
      "state": {
       "width": "95%"
      }
     },
     "64a0f83ec97e4b76889e079a641f5d90": {
      "model_module": "@jupyter-widgets/base",
      "model_module_version": "1.2.0",
      "model_name": "LayoutModel",
      "state": {
       "width": "95%"
      }
     },
     "64ea972c82884151bfcb133d16c1e70d": {
      "model_module": "@jupyter-widgets/base",
      "model_module_version": "1.2.0",
      "model_name": "LayoutModel",
      "state": {}
     },
     "655fd54c86de4774b07dfcebdee6ffa9": {
      "model_module": "@jupyter-widgets/base",
      "model_module_version": "1.2.0",
      "model_name": "LayoutModel",
      "state": {
       "width": "10%"
      }
     },
     "656b14188eed4f39823b67cbef24b6d1": {
      "model_module": "@jupyter-widgets/controls",
      "model_module_version": "1.5.0",
      "model_name": "ButtonModel",
      "state": {
       "description": "8",
       "layout": "IPY_MODEL_f6fe4ac1fddd43779957c2fe2c92fd01",
       "style": "IPY_MODEL_e0c69f3f82c84ad0bdb3835c701e9e05"
      }
     },
     "657e9573bbbf48418e7072f60c174885": {
      "model_module": "@jupyter-widgets/output",
      "model_module_version": "1.0.0",
      "model_name": "OutputModel",
      "state": {
       "layout": "IPY_MODEL_5de2c745f83d485995a535c0cd14ddef"
      }
     },
     "658399ca2e4244688b92ecd228dfaff3": {
      "model_module": "@jupyter-widgets/base",
      "model_module_version": "1.2.0",
      "model_name": "LayoutModel",
      "state": {}
     },
     "65e21ede6fce40f899069cb19765bed6": {
      "model_module": "@jupyter-widgets/base",
      "model_module_version": "1.2.0",
      "model_name": "LayoutModel",
      "state": {}
     },
     "65f4f5d59d0b4358a702f921d8609ff5": {
      "model_module": "@jupyter-widgets/controls",
      "model_module_version": "1.5.0",
      "model_name": "ButtonStyleModel",
      "state": {}
     },
     "6666286cc1bb424baaaca6d507dc526c": {
      "model_module": "@jupyter-widgets/base",
      "model_module_version": "1.2.0",
      "model_name": "LayoutModel",
      "state": {
       "width": "95%"
      }
     },
     "666b0f223a85486f93c7d48eb361ba69": {
      "model_module": "@jupyter-widgets/controls",
      "model_module_version": "1.5.0",
      "model_name": "ButtonModel",
      "state": {
       "description": "7",
       "layout": "IPY_MODEL_6fe585fcbcc74dd0ab77d1dc59c762c1",
       "style": "IPY_MODEL_a26d0455a747403087c22960fc821baa"
      }
     },
     "66738f080f0a496ebc3a7e70a06243de": {
      "model_module": "@jupyter-widgets/output",
      "model_module_version": "1.0.0",
      "model_name": "OutputModel",
      "state": {
       "layout": "IPY_MODEL_22917de5bebe49d395e71a7275efedd8"
      }
     },
     "6682a6e7812d4f43aa78e0063caafa12": {
      "model_module": "@jupyter-widgets/base",
      "model_module_version": "1.2.0",
      "model_name": "LayoutModel",
      "state": {
       "width": "10%"
      }
     },
     "66a07ff07a324a9fa8a0d1e6dd39387d": {
      "model_module": "@jupyter-widgets/base",
      "model_module_version": "1.2.0",
      "model_name": "LayoutModel",
      "state": {
       "width": "95%"
      }
     },
     "66ac18f095e540089f95da9628b2b0d6": {
      "model_module": "@jupyter-widgets/controls",
      "model_module_version": "1.5.0",
      "model_name": "ButtonStyleModel",
      "state": {}
     },
     "66be350453b941d79de61289c97a216f": {
      "model_module": "@jupyter-widgets/output",
      "model_module_version": "1.0.0",
      "model_name": "OutputModel",
      "state": {
       "layout": "IPY_MODEL_f6af7a4419f243a2ba2176858e192507"
      }
     },
     "66c2c4cc90284f6e9f117fc4376aa427": {
      "model_module": "@jupyter-widgets/controls",
      "model_module_version": "1.5.0",
      "model_name": "ButtonModel",
      "state": {
       "description": "3",
       "layout": "IPY_MODEL_61ff53468cb34a478b3c6283984ffd15",
       "style": "IPY_MODEL_836e4e52d3ad482cab13c384d973bda8"
      }
     },
     "66e65780c09448c1a0e99e7c69e20c4b": {
      "model_module": "@jupyter-widgets/controls",
      "model_module_version": "1.5.0",
      "model_name": "VBoxModel",
      "state": {
       "children": [
        "IPY_MODEL_e1547a45ffc1434fb28c05662cf08d06",
        "IPY_MODEL_d8676486ae4b45318d511da9a309c88e"
       ],
       "layout": "IPY_MODEL_e7ff3d69a3294417a48fa697a7e3bfc5"
      }
     },
     "66eb118ffb2d4d2a89eba50d9e9a0228": {
      "model_module": "@jupyter-widgets/controls",
      "model_module_version": "1.5.0",
      "model_name": "ButtonStyleModel",
      "state": {}
     },
     "674414e3cf0344579f09f1e23a886792": {
      "model_module": "@jupyter-widgets/base",
      "model_module_version": "1.2.0",
      "model_name": "LayoutModel",
      "state": {
       "width": "95%"
      }
     },
     "67a4018c59be4d1d962b994558fad43d": {
      "model_module": "@jupyter-widgets/controls",
      "model_module_version": "1.5.0",
      "model_name": "ButtonModel",
      "state": {
       "description": "9",
       "layout": "IPY_MODEL_7d760a7b3d974041952d7bb401de5ffb",
       "style": "IPY_MODEL_46cd3ca6e9f54fa7884824289dfc8188"
      }
     },
     "67a8895072b148cc80b10b42d6608bf7": {
      "model_module": "@jupyter-widgets/controls",
      "model_module_version": "1.5.0",
      "model_name": "TextModel",
      "state": {
       "description": "Other:",
       "layout": "IPY_MODEL_9106989d839f442fb3ed672d555a3b60",
       "placeholder": "Hit enter to submit.",
       "style": "IPY_MODEL_009511c2013c472fb05a41c58a2444d4"
      }
     },
     "67c29390ac2d4e028893003cd04d4d22": {
      "model_module": "@jupyter-widgets/controls",
      "model_module_version": "1.5.0",
      "model_name": "ButtonStyleModel",
      "state": {}
     },
     "67d4840214784daea7cda56762232bd6": {
      "model_module": "@jupyter-widgets/base",
      "model_module_version": "1.2.0",
      "model_name": "LayoutModel",
      "state": {}
     },
     "686c5dba921448b6a52fc24274301c92": {
      "model_module": "@jupyter-widgets/controls",
      "model_module_version": "1.5.0",
      "model_name": "ButtonStyleModel",
      "state": {}
     },
     "68826105b2f347f49b9115bc4ddf691b": {
      "model_module": "@jupyter-widgets/controls",
      "model_module_version": "1.5.0",
      "model_name": "ButtonModel",
      "state": {
       "description": "2",
       "layout": "IPY_MODEL_7c7f8a5e8bf842d3b0bc7b10246bd86a",
       "style": "IPY_MODEL_e29bed964118421dba53074a9c593d68"
      }
     },
     "68a97006e5f041408912cdd0bd3c18eb": {
      "model_module": "@jupyter-widgets/base",
      "model_module_version": "1.2.0",
      "model_name": "LayoutModel",
      "state": {}
     },
     "68e8681ddbdf4735b496baf21d303110": {
      "model_module": "@jupyter-widgets/base",
      "model_module_version": "1.2.0",
      "model_name": "LayoutModel",
      "state": {
       "width": "95%"
      }
     },
     "6951c6a2d6584dc09932bac532912c68": {
      "model_module": "@jupyter-widgets/output",
      "model_module_version": "1.0.0",
      "model_name": "OutputModel",
      "state": {
       "layout": "IPY_MODEL_7d383549f86149aa8db07aff0317cf07"
      }
     },
     "698e60bd8a7446ffbc5128f980fee8be": {
      "model_module": "@jupyter-widgets/base",
      "model_module_version": "1.2.0",
      "model_name": "LayoutModel",
      "state": {
       "width": "10%"
      }
     },
     "69906273698b4e749481632aeb417b0f": {
      "model_module": "@jupyter-widgets/base",
      "model_module_version": "1.2.0",
      "model_name": "LayoutModel",
      "state": {
       "width": "10%"
      }
     },
     "69b71a102a42496bbf1a0cacda70deca": {
      "model_module": "@jupyter-widgets/base",
      "model_module_version": "1.2.0",
      "model_name": "LayoutModel",
      "state": {}
     },
     "69d16e6a6a5747f49b44f00c4b8054a2": {
      "model_module": "@jupyter-widgets/base",
      "model_module_version": "1.2.0",
      "model_name": "LayoutModel",
      "state": {
       "width": "95%"
      }
     },
     "69fa692c474c41bdabaa490b616e2f23": {
      "model_module": "@jupyter-widgets/controls",
      "model_module_version": "1.5.0",
      "model_name": "VBoxModel",
      "state": {
       "children": [
        "IPY_MODEL_6ac58d57f58b4a218a403ebeba5fbf3e",
        "IPY_MODEL_7d95d198f28c41ecaf6f02caa7bb5953"
       ],
       "layout": "IPY_MODEL_464cbe4f552f4b87810ccc19a814915b"
      }
     },
     "6a18d479bd03408e9855f60e02c2cdff": {
      "model_module": "@jupyter-widgets/base",
      "model_module_version": "1.2.0",
      "model_name": "LayoutModel",
      "state": {
       "width": "10%"
      }
     },
     "6a2c0d332a4644f8b37fb58d71659363": {
      "model_module": "@jupyter-widgets/controls",
      "model_module_version": "1.5.0",
      "model_name": "VBoxModel",
      "state": {
       "children": [
        "IPY_MODEL_992f5ce158a3469a88373bff92332e3d",
        "IPY_MODEL_05098115711e468bb969e162f2460d86"
       ],
       "layout": "IPY_MODEL_69906273698b4e749481632aeb417b0f"
      }
     },
     "6a93fad307db4d0e99ee7a913c035a99": {
      "model_module": "@jupyter-widgets/controls",
      "model_module_version": "1.5.0",
      "model_name": "ButtonStyleModel",
      "state": {}
     },
     "6aa4beb5b4ac41929c00002b124bc592": {
      "model_module": "@jupyter-widgets/controls",
      "model_module_version": "1.5.0",
      "model_name": "ButtonModel",
      "state": {
       "description": "2",
       "layout": "IPY_MODEL_06837dc2e51a469cbc0fc48bc15ea5ce",
       "style": "IPY_MODEL_7b6fbb73a8604c59a20659adf44726d0"
      }
     },
     "6ac58d57f58b4a218a403ebeba5fbf3e": {
      "model_module": "@jupyter-widgets/controls",
      "model_module_version": "1.5.0",
      "model_name": "ButtonModel",
      "state": {
       "description": "2",
       "layout": "IPY_MODEL_bc4e53c460c74c28a32a95f3ca1f9c22",
       "style": "IPY_MODEL_2e68e5cb4d1d43cc8f2ca88f34e18b38"
      }
     },
     "6ad9edf3b7ba48eab4a7406c0332bb99": {
      "model_module": "@jupyter-widgets/controls",
      "model_module_version": "1.5.0",
      "model_name": "VBoxModel",
      "state": {
       "children": [
        "IPY_MODEL_17eaf0d1c291482da97536f5b97c9769",
        "IPY_MODEL_08ebed307a604179b8dda7e1e5a228c9"
       ],
       "layout": "IPY_MODEL_20704edbd9ea46a0ae4f5e19a73c1d61"
      }
     },
     "6b181aaf2fc145ba9afee3d8aedefc79": {
      "model_module": "@jupyter-widgets/controls",
      "model_module_version": "1.5.0",
      "model_name": "VBoxModel",
      "state": {
       "children": [
        "IPY_MODEL_627ec2ca4db94cba916f5170935b143b",
        "IPY_MODEL_3b97793aab5b40a0a1d3ee03a808ccd2"
       ],
       "layout": "IPY_MODEL_6147553856ed461cbe7ca34cbdf3c56b"
      }
     },
     "6b3716504f5e463faf986e16a20fc52d": {
      "model_module": "@jupyter-widgets/controls",
      "model_module_version": "1.5.0",
      "model_name": "VBoxModel",
      "state": {
       "children": [
        "IPY_MODEL_44368e70519242ccb5618809ddb9d9ff",
        "IPY_MODEL_a438a3819d6b4fd6983c041e9996c858"
       ],
       "layout": "IPY_MODEL_42f2b6552b1e446099a77e663af17620"
      }
     },
     "6b65ad1b0f1747848a5bf39171504c6f": {
      "model_module": "@jupyter-widgets/output",
      "model_module_version": "1.0.0",
      "model_name": "OutputModel",
      "state": {
       "layout": "IPY_MODEL_a816ff64baf249c3b836bcd2e65c74dd"
      }
     },
     "6ba176315079438d834406309b5d36c3": {
      "model_module": "@jupyter-widgets/controls",
      "model_module_version": "1.5.0",
      "model_name": "ButtonModel",
      "state": {
       "description": "1",
       "layout": "IPY_MODEL_95d863b55cff4c1b82197525c16ecad0",
       "style": "IPY_MODEL_5e67bb85d3c34eab9ad278179368f2aa"
      }
     },
     "6bea6e791fdc4a87ba696227a092abd2": {
      "model_module": "@jupyter-widgets/base",
      "model_module_version": "1.2.0",
      "model_name": "LayoutModel",
      "state": {}
     },
     "6c21e28949b84044ad578a3c11c1392d": {
      "model_module": "@jupyter-widgets/output",
      "model_module_version": "1.0.0",
      "model_name": "OutputModel",
      "state": {
       "layout": "IPY_MODEL_e4fa3d6b96324bd6b119af027accefe1"
      }
     },
     "6c3e5ffc393844168eab1566aee38e86": {
      "model_module": "@jupyter-widgets/controls",
      "model_module_version": "1.5.0",
      "model_name": "VBoxModel",
      "state": {
       "children": [
        "IPY_MODEL_27240bfa266d40668a4ab765a37640c5",
        "IPY_MODEL_6951c6a2d6584dc09932bac532912c68"
       ],
       "layout": "IPY_MODEL_1c3797b200f54fbda4872f8da7991c5d"
      }
     },
     "6c496553e35e40059f2491ab49985ef9": {
      "model_module": "@jupyter-widgets/controls",
      "model_module_version": "1.5.0",
      "model_name": "ButtonModel",
      "state": {
       "description": "2",
       "layout": "IPY_MODEL_bfcf129266554ed2b5b189b1c29932f5",
       "style": "IPY_MODEL_c433f2f0e20e4f569f139969c2a2507b"
      }
     },
     "6c5bd8ca4eae464ca6dd21f8bb64d762": {
      "model_module": "@jupyter-widgets/output",
      "model_module_version": "1.0.0",
      "model_name": "OutputModel",
      "state": {
       "layout": "IPY_MODEL_239a0e0d82f245b3ad904305440a2815"
      }
     },
     "6c8e4f356afc4a14b57d1a57fe856fff": {
      "model_module": "@jupyter-widgets/controls",
      "model_module_version": "1.5.0",
      "model_name": "ButtonModel",
      "state": {
       "description": "6",
       "layout": "IPY_MODEL_bce36e186b29423e9615c8ce048bc762",
       "style": "IPY_MODEL_4e8f19681a7b4e07a66b9d8134ee9866"
      }
     },
     "6c8ef109f8d84dd4b3a1b79ff2e6bce4": {
      "model_module": "@jupyter-widgets/base",
      "model_module_version": "1.2.0",
      "model_name": "LayoutModel",
      "state": {
       "width": "10%"
      }
     },
     "6ceeb44c1e8b4729b1a0e4e2b9b9fd8f": {
      "model_module": "@jupyter-widgets/base",
      "model_module_version": "1.2.0",
      "model_name": "LayoutModel",
      "state": {}
     },
     "6d025527031649a8aa4b443171d13a74": {
      "model_module": "@jupyter-widgets/output",
      "model_module_version": "1.0.0",
      "model_name": "OutputModel",
      "state": {
       "layout": "IPY_MODEL_f3c1c17153c348bd9ca0b6d9d54afc40"
      }
     },
     "6d1318de73a44fa19b95035574e4fa1d": {
      "model_module": "@jupyter-widgets/base",
      "model_module_version": "1.2.0",
      "model_name": "LayoutModel",
      "state": {
       "width": "10%"
      }
     },
     "6d594b2d029d4d59a672797205341887": {
      "model_module": "@jupyter-widgets/controls",
      "model_module_version": "1.5.0",
      "model_name": "TextModel",
      "state": {
       "description": "Other:",
       "layout": "IPY_MODEL_2ac2a8b1d3e847108a0a262a59939ad7",
       "placeholder": "Hit enter to submit.",
       "style": "IPY_MODEL_16971d25bda74c6990251d58c3f857c6"
      }
     },
     "6d5b546273db4e6ea27f69b9c8bcc46d": {
      "model_module": "@jupyter-widgets/base",
      "model_module_version": "1.2.0",
      "model_name": "LayoutModel",
      "state": {}
     },
     "6d62789a3626442b8b9fa3e101a39959": {
      "model_module": "@jupyter-widgets/base",
      "model_module_version": "1.2.0",
      "model_name": "LayoutModel",
      "state": {
       "width": "10%"
      }
     },
     "6d6b4e8634334d81927318b966eb8075": {
      "model_module": "@jupyter-widgets/output",
      "model_module_version": "1.0.0",
      "model_name": "OutputModel",
      "state": {
       "layout": "IPY_MODEL_41091d1a243d4f439888c7e5f079a42e"
      }
     },
     "6dd1761eba14418c8d7606f1f4d2f4c2": {
      "model_module": "@jupyter-widgets/output",
      "model_module_version": "1.0.0",
      "model_name": "OutputModel",
      "state": {
       "layout": "IPY_MODEL_29ef1d0bb4584384a3c7eb57a7dcb1b0"
      }
     },
     "6e2e290ea2b74484b818dd342ffb6a4f": {
      "model_module": "@jupyter-widgets/output",
      "model_module_version": "1.0.0",
      "model_name": "OutputModel",
      "state": {
       "layout": "IPY_MODEL_0655d0325f944b728a6e6e1b85b91df4"
      }
     },
     "6f14bd56f4bb46d1b31eb6d94a7b6a4d": {
      "model_module": "@jupyter-widgets/base",
      "model_module_version": "1.2.0",
      "model_name": "LayoutModel",
      "state": {
       "width": "10%"
      }
     },
     "6f1d41ac114f41a08e36236612ea9c9f": {
      "model_module": "@jupyter-widgets/base",
      "model_module_version": "1.2.0",
      "model_name": "LayoutModel",
      "state": {
       "width": "95%"
      }
     },
     "6f7d2637d93c42098c706017d2a9d08b": {
      "model_module": "@jupyter-widgets/base",
      "model_module_version": "1.2.0",
      "model_name": "LayoutModel",
      "state": {
       "width": "95%"
      }
     },
     "6fdb4d9b70634f9099379ca1c03b8bd3": {
      "model_module": "@jupyter-widgets/base",
      "model_module_version": "1.2.0",
      "model_name": "LayoutModel",
      "state": {
       "width": "95%"
      }
     },
     "6fe585fcbcc74dd0ab77d1dc59c762c1": {
      "model_module": "@jupyter-widgets/base",
      "model_module_version": "1.2.0",
      "model_name": "LayoutModel",
      "state": {
       "width": "95%"
      }
     },
     "701172d1e5724c67bf3363f4be6f1f21": {
      "model_module": "@jupyter-widgets/controls",
      "model_module_version": "1.5.0",
      "model_name": "FloatProgressModel",
      "state": {
       "description": "Progress:",
       "layout": "IPY_MODEL_5f6b425a834f4a16a92908ed891cb176",
       "max": 1,
       "style": "IPY_MODEL_81c426d5959f45abafd992cf69c1d8c8",
       "value": 0.02
      }
     },
     "70483b7802964b7a8c163920f18db1d3": {
      "model_module": "@jupyter-widgets/controls",
      "model_module_version": "1.5.0",
      "model_name": "DescriptionStyleModel",
      "state": {
       "description_width": ""
      }
     },
     "707cd0a32da34d098e3bfdec462ad570": {
      "model_module": "@jupyter-widgets/controls",
      "model_module_version": "1.5.0",
      "model_name": "VBoxModel",
      "state": {
       "children": [
        "IPY_MODEL_e200136dc486491e9093b9951a4796ad",
        "IPY_MODEL_f0f30238ab094ae6a072771921460532"
       ],
       "layout": "IPY_MODEL_159c12a5fdc94b3a84e1cfd1bd642047"
      }
     },
     "708452a360e246a3a83df03e35a4b7bc": {
      "model_module": "@jupyter-widgets/base",
      "model_module_version": "1.2.0",
      "model_name": "LayoutModel",
      "state": {
       "width": "95%"
      }
     },
     "70c51b93907445ac86f7d2cbfe347f6b": {
      "model_module": "@jupyter-widgets/controls",
      "model_module_version": "1.5.0",
      "model_name": "ButtonModel",
      "state": {
       "description": "1",
       "layout": "IPY_MODEL_28462c33f5cb46b89299382adce043f4",
       "style": "IPY_MODEL_3372662414a24a3899d9e01b1ba70afe"
      }
     },
     "70fb6b5e562c44b4a94afaff3c9e8ada": {
      "model_module": "@jupyter-widgets/controls",
      "model_module_version": "1.5.0",
      "model_name": "VBoxModel",
      "state": {
       "children": [
        "IPY_MODEL_13e90af5d4e94af1bb01a9f84c54102e",
        "IPY_MODEL_f07ac4c7107a4fedb27e76a9c84e2be8"
       ],
       "layout": "IPY_MODEL_698e60bd8a7446ffbc5128f980fee8be"
      }
     },
     "7162193d9ae743f391dd3b35e6ab1118": {
      "model_module": "@jupyter-widgets/output",
      "model_module_version": "1.0.0",
      "model_name": "OutputModel",
      "state": {
       "layout": "IPY_MODEL_ae0211624b1d4471a76908dd4c51a81c"
      }
     },
     "71a0930561a047bd845292bb68670065": {
      "model_module": "@jupyter-widgets/output",
      "model_module_version": "1.0.0",
      "model_name": "OutputModel",
      "state": {
       "layout": "IPY_MODEL_fea5d1fd2134448fa702c6ff07ecbe69"
      }
     },
     "71a82b020d9e4bdbb084299119f618a9": {
      "model_module": "@jupyter-widgets/base",
      "model_module_version": "1.2.0",
      "model_name": "LayoutModel",
      "state": {}
     },
     "71b58d3c30b94e6d9ec6307931326653": {
      "model_module": "@jupyter-widgets/controls",
      "model_module_version": "1.5.0",
      "model_name": "VBoxModel",
      "state": {
       "children": [
        "IPY_MODEL_66c2c4cc90284f6e9f117fc4376aa427",
        "IPY_MODEL_e17f38efd0914286975bb0cee8871a82"
       ],
       "layout": "IPY_MODEL_572e521ada0e40a5b84f7d110a2136a3"
      }
     },
     "71c5877ab8474b9981a1db0d8c3c3f17": {
      "model_module": "@jupyter-widgets/base",
      "model_module_version": "1.2.0",
      "model_name": "LayoutModel",
      "state": {
       "width": "95%"
      }
     },
     "7213f9806ad047079380cb493d355d8c": {
      "model_module": "@jupyter-widgets/base",
      "model_module_version": "1.2.0",
      "model_name": "LayoutModel",
      "state": {}
     },
     "723b52fdae464822a34ed50b36bec8d3": {
      "model_module": "@jupyter-widgets/controls",
      "model_module_version": "1.5.0",
      "model_name": "ButtonStyleModel",
      "state": {}
     },
     "7283af185db341ad9181798e63677bad": {
      "model_module": "@jupyter-widgets/base",
      "model_module_version": "1.2.0",
      "model_name": "LayoutModel",
      "state": {
       "width": "95%"
      }
     },
     "72be191329a04360aa4a03a165ae9875": {
      "model_module": "@jupyter-widgets/output",
      "model_module_version": "1.0.0",
      "model_name": "OutputModel",
      "state": {
       "layout": "IPY_MODEL_b3da3171e04b4853882146a79019e92c"
      }
     },
     "7336d1b6e8174d4d85916fd0df070420": {
      "model_module": "@jupyter-widgets/base",
      "model_module_version": "1.2.0",
      "model_name": "LayoutModel",
      "state": {}
     },
     "738b643dc0b34c5fa3b0ac05566eda7b": {
      "model_module": "@jupyter-widgets/base",
      "model_module_version": "1.2.0",
      "model_name": "LayoutModel",
      "state": {}
     },
     "739ba0dbf9094de4b77ec35c912fe147": {
      "model_module": "@jupyter-widgets/output",
      "model_module_version": "1.0.0",
      "model_name": "OutputModel",
      "state": {
       "layout": "IPY_MODEL_9e51381d2a21420badfb4848f260e1f8"
      }
     },
     "73b5fc2c264949049e7f8f2626b46689": {
      "model_module": "@jupyter-widgets/controls",
      "model_module_version": "1.5.0",
      "model_name": "HBoxModel",
      "state": {
       "children": [
        "IPY_MODEL_7efcfccd2b54424eaf65c7b487491c59",
        "IPY_MODEL_4a90d5ef93b948e5a4f6961a219c11da",
        "IPY_MODEL_8da4ca5bef5b4127b2ddbe433a112356"
       ],
       "layout": "IPY_MODEL_2ff2c48750b54c5aa9a9e6393918723a"
      }
     },
     "73df05bbc9f3415f9c98e2cc93d8f496": {
      "model_module": "@jupyter-widgets/controls",
      "model_module_version": "1.5.0",
      "model_name": "ButtonStyleModel",
      "state": {}
     },
     "7434c3b12f5644b18cacaf8c151d9be9": {
      "model_module": "@jupyter-widgets/base",
      "model_module_version": "1.2.0",
      "model_name": "LayoutModel",
      "state": {}
     },
     "74a7ab72dfa5424687765bac58410853": {
      "model_module": "@jupyter-widgets/controls",
      "model_module_version": "1.5.0",
      "model_name": "ButtonModel",
      "state": {
       "description": "9",
       "layout": "IPY_MODEL_6fdb4d9b70634f9099379ca1c03b8bd3",
       "style": "IPY_MODEL_185c1a00503f4889963a1626c3a1b579"
      }
     },
     "74ae1d3bfaae47dcb8fe3ca0d82a9fed": {
      "model_module": "@jupyter-widgets/base",
      "model_module_version": "1.2.0",
      "model_name": "LayoutModel",
      "state": {}
     },
     "74c0b76cee6a48529e2947623ac34d83": {
      "model_module": "@jupyter-widgets/base",
      "model_module_version": "1.2.0",
      "model_name": "LayoutModel",
      "state": {}
     },
     "74d525a2ffc644559ebd4637795c9368": {
      "model_module": "@jupyter-widgets/controls",
      "model_module_version": "1.5.0",
      "model_name": "VBoxModel",
      "state": {
       "children": [
        "IPY_MODEL_348c4091d8cf4f00923e6587d5e21341",
        "IPY_MODEL_900d0fec14074fd09376361567e897a5"
       ],
       "layout": "IPY_MODEL_4c987171bacd4a28a279002c4fb5a024"
      }
     },
     "74ee78957047407a94001357ef0c92ca": {
      "model_module": "@jupyter-widgets/base",
      "model_module_version": "1.2.0",
      "model_name": "LayoutModel",
      "state": {
       "width": "10%"
      }
     },
     "750015c94e44441095cc79ed552625d4": {
      "model_module": "@jupyter-widgets/output",
      "model_module_version": "1.0.0",
      "model_name": "OutputModel",
      "state": {
       "layout": "IPY_MODEL_9eb1535dfeea4fb6be1065c1f93b7b13"
      }
     },
     "752ffd902fad41ee81702bdb0f93e5af": {
      "model_module": "@jupyter-widgets/controls",
      "model_module_version": "1.5.0",
      "model_name": "ButtonModel",
      "state": {
       "description": "7",
       "layout": "IPY_MODEL_3b0b09262cd945d786819ee8e17aa8d5",
       "style": "IPY_MODEL_762739c86b16421c8c5c5827284a9b80"
      }
     },
     "753e2084209049b381f37dc8cd619705": {
      "model_module": "@jupyter-widgets/controls",
      "model_module_version": "1.5.0",
      "model_name": "ButtonModel",
      "state": {
       "description": "6",
       "layout": "IPY_MODEL_f83af2c696d24a9182df347710e5470e",
       "style": "IPY_MODEL_3d464e0813544b228b62bc5ab7ba43b9"
      }
     },
     "75587d2410814c36b009879683ffab7a": {
      "model_module": "@jupyter-widgets/output",
      "model_module_version": "1.0.0",
      "model_name": "OutputModel",
      "state": {
       "layout": "IPY_MODEL_9fb68819565044bcb9fa16e8a979541d"
      }
     },
     "75865b7f0cc64208b2cf307f370be15a": {
      "model_module": "@jupyter-widgets/base",
      "model_module_version": "1.2.0",
      "model_name": "LayoutModel",
      "state": {
       "width": "10%"
      }
     },
     "758ea1f1757a499c9fce4ab3f6625c56": {
      "model_module": "@jupyter-widgets/controls",
      "model_module_version": "1.5.0",
      "model_name": "ButtonModel",
      "state": {
       "description": "9",
       "layout": "IPY_MODEL_e8eef15ba7d34a3096f59d9e498e774d",
       "style": "IPY_MODEL_5e31622d03174c0e9886eccf484f7c15"
      }
     },
     "75c324f6b1ba4410b15c381e864b3d78": {
      "model_module": "@jupyter-widgets/base",
      "model_module_version": "1.2.0",
      "model_name": "LayoutModel",
      "state": {
       "justify_content": "space-between"
      }
     },
     "75c6fec0630d4a66a33c5b2a79277ef6": {
      "model_module": "@jupyter-widgets/output",
      "model_module_version": "1.0.0",
      "model_name": "OutputModel",
      "state": {
       "layout": "IPY_MODEL_17124e1f71024d9e9b04da7001fabdf0"
      }
     },
     "75dc3d4be4dc48819507ca70fcac3cb2": {
      "model_module": "@jupyter-widgets/base",
      "model_module_version": "1.2.0",
      "model_name": "LayoutModel",
      "state": {
       "width": "95%"
      }
     },
     "762739c86b16421c8c5c5827284a9b80": {
      "model_module": "@jupyter-widgets/controls",
      "model_module_version": "1.5.0",
      "model_name": "ButtonStyleModel",
      "state": {}
     },
     "76420e9c300f4ad693ff5aa011e900cd": {
      "model_module": "@jupyter-widgets/base",
      "model_module_version": "1.2.0",
      "model_name": "LayoutModel",
      "state": {}
     },
     "7656420c87744591ac22a223595bfd95": {
      "model_module": "@jupyter-widgets/base",
      "model_module_version": "1.2.0",
      "model_name": "LayoutModel",
      "state": {
       "width": "10%"
      }
     },
     "769e2987875d41659b1ef816e935ef8d": {
      "model_module": "@jupyter-widgets/controls",
      "model_module_version": "1.5.0",
      "model_name": "ButtonModel",
      "state": {
       "description": "7",
       "layout": "IPY_MODEL_7fd20726246840b9b747cf26d7a8fd2f",
       "style": "IPY_MODEL_5807e8454cc642fda5ef55a2e87011af"
      }
     },
     "76de3367a67a4253b05602a60666fc4d": {
      "model_module": "@jupyter-widgets/controls",
      "model_module_version": "1.5.0",
      "model_name": "VBoxModel",
      "state": {
       "children": [
        "IPY_MODEL_fdfc49f22d474c5196f9a811c9b86b7f",
        "IPY_MODEL_5c19461f09a341e3ac167b45a85b0c2d"
       ],
       "layout": "IPY_MODEL_a823d5e45cce4384b2446d37d9bff40f"
      }
     },
     "76f9291601104dd7b754433cc679ffef": {
      "model_module": "@jupyter-widgets/base",
      "model_module_version": "1.2.0",
      "model_name": "LayoutModel",
      "state": {
       "width": "10%"
      }
     },
     "771095acb3614af496746f1dd474a29b": {
      "model_module": "@jupyter-widgets/base",
      "model_module_version": "1.2.0",
      "model_name": "LayoutModel",
      "state": {}
     },
     "7738d868e2c24c779eff4c930aa5c96b": {
      "model_module": "@jupyter-widgets/output",
      "model_module_version": "1.0.0",
      "model_name": "OutputModel",
      "state": {
       "layout": "IPY_MODEL_c344b5ab05c54f5488d3932c6f3a26bd"
      }
     },
     "7744213570f642538a8f7863f46eec9b": {
      "model_module": "@jupyter-widgets/controls",
      "model_module_version": "1.5.0",
      "model_name": "ButtonStyleModel",
      "state": {}
     },
     "774fe7eb647942d0853f80c9953f3c31": {
      "model_module": "@jupyter-widgets/controls",
      "model_module_version": "1.5.0",
      "model_name": "ButtonStyleModel",
      "state": {}
     },
     "775d9d345aff4293b3543aacefd8fcfe": {
      "model_module": "@jupyter-widgets/base",
      "model_module_version": "1.2.0",
      "model_name": "LayoutModel",
      "state": {
       "width": "10%"
      }
     },
     "77eeff24eae84980862168b21da1d7b9": {
      "model_module": "@jupyter-widgets/base",
      "model_module_version": "1.2.0",
      "model_name": "LayoutModel",
      "state": {
       "width": "10%"
      }
     },
     "77f3efa57e724043a32ac351af4c0c00": {
      "model_module": "@jupyter-widgets/output",
      "model_module_version": "1.0.0",
      "model_name": "OutputModel",
      "state": {
       "layout": "IPY_MODEL_846d8d4d3e1f45778e7f8a062f778d59"
      }
     },
     "7899c33598124bf7ba035964c090d34c": {
      "model_module": "@jupyter-widgets/controls",
      "model_module_version": "1.5.0",
      "model_name": "ButtonStyleModel",
      "state": {}
     },
     "78e4c862c2ec447680c80cccf72bdb3b": {
      "model_module": "@jupyter-widgets/base",
      "model_module_version": "1.2.0",
      "model_name": "LayoutModel",
      "state": {
       "width": "95%"
      }
     },
     "78eb1359334b4f378613bb91957ec9ea": {
      "model_module": "@jupyter-widgets/base",
      "model_module_version": "1.2.0",
      "model_name": "LayoutModel",
      "state": {
       "width": "95%"
      }
     },
     "7926fd7ae0f6429cb00d54ac9d3e06a7": {
      "model_module": "@jupyter-widgets/base",
      "model_module_version": "1.2.0",
      "model_name": "LayoutModel",
      "state": {
       "width": "95%"
      }
     },
     "79475929955840abad8ddd586aaa5c05": {
      "model_module": "@jupyter-widgets/base",
      "model_module_version": "1.2.0",
      "model_name": "LayoutModel",
      "state": {
       "width": "95%"
      }
     },
     "79576e1239e94d3998b86a5aefed4b50": {
      "model_module": "@jupyter-widgets/controls",
      "model_module_version": "1.5.0",
      "model_name": "ButtonStyleModel",
      "state": {}
     },
     "796426218c4d46658ff9cebafa1b6cff": {
      "model_module": "@jupyter-widgets/controls",
      "model_module_version": "1.5.0",
      "model_name": "VBoxModel",
      "state": {
       "children": [
        "IPY_MODEL_c36b10c0f2d64c4aa9d6b725e05d5da0",
        "IPY_MODEL_d2ea81c792e94d9aa3424536e9e96f01"
       ],
       "layout": "IPY_MODEL_0ea8199792ae43ef9ebd3724a56518c7"
      }
     },
     "799bc0b9bb2c433eba0767ea12422421": {
      "model_module": "@jupyter-widgets/base",
      "model_module_version": "1.2.0",
      "model_name": "LayoutModel",
      "state": {}
     },
     "79e1c3a00c4a4d0a8ef25cbb925ec3d7": {
      "model_module": "@jupyter-widgets/controls",
      "model_module_version": "1.5.0",
      "model_name": "ButtonStyleModel",
      "state": {}
     },
     "7a41ca83d63140ee8eefd8a6508162bc": {
      "model_module": "@jupyter-widgets/base",
      "model_module_version": "1.2.0",
      "model_name": "LayoutModel",
      "state": {}
     },
     "7a57cd5030d24d2e94d6c0606460e2de": {
      "model_module": "@jupyter-widgets/output",
      "model_module_version": "1.0.0",
      "model_name": "OutputModel",
      "state": {
       "layout": "IPY_MODEL_346c8fab7f844dcca0210e0884c7e6a4",
       "outputs": [
        {
         "data": {
          "image/png": "iVBORw0KGgoAAAANSUhEUgAAAPUAAAD4CAYAAAA0L6C7AAAABHNCSVQICAgIfAhkiAAAAAlwSFlzAAALEgAACxIB0t1+/AAAADl0RVh0U29mdHdhcmUAbWF0cGxvdGxpYiB2ZXJzaW9uIDMuMC4xLCBodHRwOi8vbWF0cGxvdGxpYi5vcmcvDW2N/gAAA/hJREFUeJzt3UFNK1oUhtHDzTNQJCCBYqESwAoWqgEJrRUqoSChEvoMMHnJ7Qa+t9aQQf8m8OUkTPbd9XpdQMef7/4CwN8laogRNcSIGmJEDTH/3Ohzk/9SPx6Po3uvr69jW7vdbmxrv9+PbW02m7Gtb3D31Q+91BAjaogRNcSIGmJEDTGihhhRQ4yoIUbUECNqiBE1xIgaYkQNMaKGGFFDjKghRtQQI2qIETXEiBpiRA0xooYYUUOMqCFG1BAjaoi51dmdpMkzOGut9fn5ObZ1uVzGtu7v78e2DofD2NZaaz0/P4/ufcVLDTGihhhRQ4yoIUbUECNqiBE1xIgaYkQNMaKGGFFDjKghRtQQI2qIETXEiBpiRA0xooYYUUOMqCFG1BAjaogRNcSIGmJEDTGihphff3bndDqNbU2ewVlrrfP5PLb18PAwtrXb7ca2Jv8+1nJ2B7gBUUOMqCFG1BAjaogRNcSIGmJEDTGihhhRQ4yoIUbUECNqiBE1xIgaYkQNMaKGGFFDjKghRtQQI2qIETXEiBpiRA0xooYYUUOMqCHm19/SulwuY1uPj49jW2vN3reatN1uv/srpHmpIUbUECNqiBE1xIgaYkQNMaKGGFFDjKghRtQQI2qIETXEiBpiRA0xooYYUUOMqCFG1BAjaogRNcSIGmJEDTGihhhRQ4yoIUbUEOPszn+w2+3Gtsomf2ebzWZs66fwUkOMqCFG1BAjaogRNcSIGmJEDTGihhhRQ4yoIUbUECNqiBE1xIgaYkQNMaKGGFFDjKghRtQQI2qIETXEiBpiRA0xooYYUUOMqCHm15/dmTyrcjqdxramTZ7CeX9/H9t6eXkZ2/opvNQQI2qIETXEiBpiRA0xooYYUUOMqCFG1BAjaogRNcSIGmJEDTGihhhRQ4yoIUbUECNqiBE1xIgaYkQNMaKGGFFDjKghRtQQI2qIubter7f43Jt86Fc+Pj6mptZ2ux3bWmutt7e3sa3j8Ti2dT6fx7bKp5LWWndf/dBLDTGihhhRQ4yoIUbUECNqiBE1xIgaYkQNMaKGGFFDjKghRtQQI2qIETXEiBpiRA0xooYYUUOMqCFG1BAjaogRNcSIGmJEDTGihhhRQ8yvv6U1afK21Vpr7ff7sa2np6exrcPhMLYV55YW/B+IGmJEDTGihhhRQ4yoIUbUECNqiBE1xIgaYkQNMaKGGFFDjKghRtQQI2qIETXEiBpiRA0xooYYUUOMqCFG1BAjaogRNcSIGmJudXYH+CZeaogRNcSIGmJEDTGihhhRQ4yoIUbUECNqiBE1xIgaYkQNMaKGGFFDjKghRtQQI2qIETXEiBpiRA0xooYYUUOMqCHmX6UyUvDIqILaAAAAAElFTkSuQmCC\n",
          "text/plain": "<Figure size 432x288 with 1 Axes>"
         },
         "metadata": {
          "needs_background": "light"
         },
         "output_type": "display_data"
        }
       ]
      }
     },
     "7a6430a988f743ac9459574b318de2e7": {
      "model_module": "@jupyter-widgets/controls",
      "model_module_version": "1.5.0",
      "model_name": "ButtonStyleModel",
      "state": {}
     },
     "7ae3ff00b56748c6ba7a1a0e84087ab3": {
      "model_module": "@jupyter-widgets/controls",
      "model_module_version": "1.5.0",
      "model_name": "ButtonStyleModel",
      "state": {}
     },
     "7b32c1922cf444d490e2b8dd55cb6da2": {
      "model_module": "@jupyter-widgets/base",
      "model_module_version": "1.2.0",
      "model_name": "LayoutModel",
      "state": {}
     },
     "7b41c5d2e6de4d2eb2c6bef7e3cfbaba": {
      "model_module": "@jupyter-widgets/controls",
      "model_module_version": "1.5.0",
      "model_name": "ButtonStyleModel",
      "state": {}
     },
     "7b4f51f0dc6c4a03a722d70f004ca023": {
      "model_module": "@jupyter-widgets/controls",
      "model_module_version": "1.5.0",
      "model_name": "ButtonModel",
      "state": {
       "description": "5",
       "layout": "IPY_MODEL_6666286cc1bb424baaaca6d507dc526c",
       "style": "IPY_MODEL_56bacc2794304442bee2a7e4877b326c"
      }
     },
     "7b6e54adf0184872b828adc0bbd5ddb6": {
      "model_module": "@jupyter-widgets/base",
      "model_module_version": "1.2.0",
      "model_name": "LayoutModel",
      "state": {
       "width": "95%"
      }
     },
     "7b6fbb73a8604c59a20659adf44726d0": {
      "model_module": "@jupyter-widgets/controls",
      "model_module_version": "1.5.0",
      "model_name": "ButtonStyleModel",
      "state": {}
     },
     "7ba18a674c1b48719bd778fc8c159dc8": {
      "model_module": "@jupyter-widgets/base",
      "model_module_version": "1.2.0",
      "model_name": "LayoutModel",
      "state": {}
     },
     "7be4923377a5483682ceb64612cbd0eb": {
      "model_module": "@jupyter-widgets/base",
      "model_module_version": "1.2.0",
      "model_name": "LayoutModel",
      "state": {
       "width": "95%"
      }
     },
     "7c172f993bcf4c00a4c5ea17e8ae6182": {
      "model_module": "@jupyter-widgets/base",
      "model_module_version": "1.2.0",
      "model_name": "LayoutModel",
      "state": {}
     },
     "7c41358297dd4d85b85f40119a2a33c0": {
      "model_module": "@jupyter-widgets/base",
      "model_module_version": "1.2.0",
      "model_name": "LayoutModel",
      "state": {
       "width": "95%"
      }
     },
     "7c48c2f2544942de8c34cf0936ba95ae": {
      "model_module": "@jupyter-widgets/output",
      "model_module_version": "1.0.0",
      "model_name": "OutputModel",
      "state": {
       "layout": "IPY_MODEL_8e1b00a6db3944aaa82ccc5a60f549e8"
      }
     },
     "7c7bf6f96a2f45fa9e9d8096999c4996": {
      "model_module": "@jupyter-widgets/controls",
      "model_module_version": "1.5.0",
      "model_name": "ButtonModel",
      "state": {
       "description": "3",
       "layout": "IPY_MODEL_d68af7defbd74b279e5556587951f519",
       "style": "IPY_MODEL_8cc32a4952294de294e344f6554bcd36"
      }
     },
     "7c7f8a5e8bf842d3b0bc7b10246bd86a": {
      "model_module": "@jupyter-widgets/base",
      "model_module_version": "1.2.0",
      "model_name": "LayoutModel",
      "state": {
       "width": "95%"
      }
     },
     "7cce9e0cd6c24574a3ce8a6a48f9bea8": {
      "model_module": "@jupyter-widgets/controls",
      "model_module_version": "1.5.0",
      "model_name": "ButtonStyleModel",
      "state": {}
     },
     "7cfdde7405fa45cf9880c03be95780b6": {
      "model_module": "@jupyter-widgets/controls",
      "model_module_version": "1.5.0",
      "model_name": "VBoxModel",
      "state": {
       "children": [
        "IPY_MODEL_0f9103f0c4bf47a5b9240d3da3b9fbde",
        "IPY_MODEL_325aeccdc45d44ec8f2bd49e6ba4ce93"
       ],
       "layout": "IPY_MODEL_d990e9569d8944a5830fb8618a89599b"
      }
     },
     "7d305c7568734abe8bc96292568d0b4b": {
      "model_module": "@jupyter-widgets/controls",
      "model_module_version": "1.5.0",
      "model_name": "HBoxModel",
      "state": {
       "children": [
        "IPY_MODEL_8856f08fe8d3417488ce914287fcd60e",
        "IPY_MODEL_984912119c7d4d5fb32db587f32324da",
        "IPY_MODEL_bd9b1f8e756d4f6082450d8d6ac2c03a",
        "IPY_MODEL_a804896b140340e5a8f9f1eaf31e72cd",
        "IPY_MODEL_f2a89060b77447feaf2ec6fb0a97c4eb",
        "IPY_MODEL_7f52ee507b5c41d4b6d9e211a3ab929b",
        "IPY_MODEL_7fb9be717a374f13983817d50c1c72a3",
        "IPY_MODEL_ef86880ba0554ca2bfdea21106de3de6",
        "IPY_MODEL_804fcbca9aa44845a27b6f0124335a8d",
        "IPY_MODEL_fdd42ab702a2498fa49ed32e7b9155a5"
       ],
       "layout": "IPY_MODEL_ced602de10604f958fc0d5bb230b4dea"
      }
     },
     "7d383549f86149aa8db07aff0317cf07": {
      "model_module": "@jupyter-widgets/base",
      "model_module_version": "1.2.0",
      "model_name": "LayoutModel",
      "state": {}
     },
     "7d760a7b3d974041952d7bb401de5ffb": {
      "model_module": "@jupyter-widgets/base",
      "model_module_version": "1.2.0",
      "model_name": "LayoutModel",
      "state": {
       "width": "95%"
      }
     },
     "7d95d198f28c41ecaf6f02caa7bb5953": {
      "model_module": "@jupyter-widgets/output",
      "model_module_version": "1.0.0",
      "model_name": "OutputModel",
      "state": {
       "layout": "IPY_MODEL_0007ee29e235465b962382b125cffc04"
      }
     },
     "7d97d6b607ab4327a05cb313d39a23c4": {
      "model_module": "@jupyter-widgets/base",
      "model_module_version": "1.2.0",
      "model_name": "LayoutModel",
      "state": {
       "width": "95%"
      }
     },
     "7e04e768e11e4d14bdb0031eaf3ad5fe": {
      "model_module": "@jupyter-widgets/controls",
      "model_module_version": "1.5.0",
      "model_name": "VBoxModel",
      "state": {
       "children": [
        "IPY_MODEL_74a7ab72dfa5424687765bac58410853",
        "IPY_MODEL_4f27a0a319464edfaf5da8ce6433aa57"
       ],
       "layout": "IPY_MODEL_53f206448e2844c384f5044fa808f50b"
      }
     },
     "7e18ac061d3b47628dab174797b75755": {
      "model_module": "@jupyter-widgets/controls",
      "model_module_version": "1.5.0",
      "model_name": "VBoxModel",
      "state": {
       "children": [
        "IPY_MODEL_7c7bf6f96a2f45fa9e9d8096999c4996",
        "IPY_MODEL_750015c94e44441095cc79ed552625d4"
       ],
       "layout": "IPY_MODEL_bbc042d162754abd8c8022e5a4db86a3"
      }
     },
     "7e34c6bd1dce4e888b7c00144cfc7e23": {
      "model_module": "@jupyter-widgets/controls",
      "model_module_version": "1.5.0",
      "model_name": "HBoxModel",
      "state": {
       "children": [
        "IPY_MODEL_3f26e50ac26841c7b33260cd010bcbc9",
        "IPY_MODEL_e9f89c3e5d224e498f6f2c43467ceee9",
        "IPY_MODEL_02f2cf6573b9403485327de59986db73",
        "IPY_MODEL_300caba566ea4fef838305ac0343aa12",
        "IPY_MODEL_c969972f4f774d4ebc5ba6bf4423564f",
        "IPY_MODEL_c15311cd688040f7bce1c74f20e5c495",
        "IPY_MODEL_d2c7959525a44a87a08a349488bb6b5d",
        "IPY_MODEL_6b181aaf2fc145ba9afee3d8aedefc79",
        "IPY_MODEL_dac911b1890b4109ab0732a43ba28e7a",
        "IPY_MODEL_a35b5ab9aa6f447e83316965b82bf611"
       ],
       "layout": "IPY_MODEL_91534636eaf44518b16fd6bf93e03940"
      }
     },
     "7e6383f93d4a4d8cae73893abb96ca45": {
      "model_module": "@jupyter-widgets/base",
      "model_module_version": "1.2.0",
      "model_name": "LayoutModel",
      "state": {
       "width": "95%"
      }
     },
     "7ebb03fdad8c438b9eead1dc5863a51d": {
      "model_module": "@jupyter-widgets/controls",
      "model_module_version": "1.5.0",
      "model_name": "ProgressStyleModel",
      "state": {
       "description_width": ""
      }
     },
     "7efcfccd2b54424eaf65c7b487491c59": {
      "model_module": "@jupyter-widgets/controls",
      "model_module_version": "1.5.0",
      "model_name": "ButtonModel",
      "state": {
       "description": "Sort options",
       "icon": "sort",
       "layout": "IPY_MODEL_1fbff5952e114dce858ff52b0ebd5b87",
       "style": "IPY_MODEL_222e5cbdf91540b3a4c16597d0401385"
      }
     },
     "7f3087f65f03441f8fcba4442dcf3c8a": {
      "model_module": "@jupyter-widgets/controls",
      "model_module_version": "1.5.0",
      "model_name": "ButtonModel",
      "state": {
       "description": "7",
       "layout": "IPY_MODEL_d584ee4942e14e62a26d86edc426b795",
       "style": "IPY_MODEL_375644df67954ca788ddbf74567d3277"
      }
     },
     "7f52ee507b5c41d4b6d9e211a3ab929b": {
      "model_module": "@jupyter-widgets/controls",
      "model_module_version": "1.5.0",
      "model_name": "VBoxModel",
      "state": {
       "children": [
        "IPY_MODEL_2f8d10b241a74dd2be569f46262275a6",
        "IPY_MODEL_9ee1e398af1d4765a45189a26c90ef63"
       ],
       "layout": "IPY_MODEL_ecda70a8cf1c4103b6703ae702ce9a01"
      }
     },
     "7fb9be717a374f13983817d50c1c72a3": {
      "model_module": "@jupyter-widgets/controls",
      "model_module_version": "1.5.0",
      "model_name": "VBoxModel",
      "state": {
       "children": [
        "IPY_MODEL_40ca6388675347c6802bb5b812693a6f",
        "IPY_MODEL_d0920b98a1744012a0b6073e171960df"
       ],
       "layout": "IPY_MODEL_4c3776cef85245deaba347b01c4ad7c8"
      }
     },
     "7fd20726246840b9b747cf26d7a8fd2f": {
      "model_module": "@jupyter-widgets/base",
      "model_module_version": "1.2.0",
      "model_name": "LayoutModel",
      "state": {
       "width": "95%"
      }
     },
     "7fdb9824b1704377aea2c932e96ca68d": {
      "model_module": "@jupyter-widgets/controls",
      "model_module_version": "1.5.0",
      "model_name": "ButtonStyleModel",
      "state": {}
     },
     "804fcbca9aa44845a27b6f0124335a8d": {
      "model_module": "@jupyter-widgets/controls",
      "model_module_version": "1.5.0",
      "model_name": "VBoxModel",
      "state": {
       "children": [
        "IPY_MODEL_2fea25bf6d604637b28ebde35da84f78",
        "IPY_MODEL_72be191329a04360aa4a03a165ae9875"
       ],
       "layout": "IPY_MODEL_77eeff24eae84980862168b21da1d7b9"
      }
     },
     "805b0577e8614631b79bd9b7cfb30573": {
      "model_module": "@jupyter-widgets/controls",
      "model_module_version": "1.5.0",
      "model_name": "ButtonStyleModel",
      "state": {}
     },
     "808878bd3d8145b992970cae90715b36": {
      "model_module": "@jupyter-widgets/controls",
      "model_module_version": "1.5.0",
      "model_name": "VBoxModel",
      "state": {
       "children": [
        "IPY_MODEL_cc58e0d1294a417d9f3795da7c4b7512",
        "IPY_MODEL_20f5a38cbf354873b52d7d4078370f4a"
       ],
       "layout": "IPY_MODEL_2a66113c5ba34a7cb5120a48144c9fd1"
      }
     },
     "80b8a4ec003c41f6b1b0674c4785718f": {
      "model_module": "@jupyter-widgets/controls",
      "model_module_version": "1.5.0",
      "model_name": "HBoxModel",
      "state": {
       "children": [
        "IPY_MODEL_c1313630935e4ebfbde6fcf781e90567",
        "IPY_MODEL_84eaa67cc6e34a0bba3611fb7a138786",
        "IPY_MODEL_3ea14f3061a54665b560259afd6bd505",
        "IPY_MODEL_a5e36dbecc694d728c55d9a1d18f5b53",
        "IPY_MODEL_85474e5076b74431a1f9f4602a5cb151",
        "IPY_MODEL_0004060c34974b01a3447581f0d9875d",
        "IPY_MODEL_994020a25a8742b99b1eeebabe21d16d",
        "IPY_MODEL_fd1cb1f38aac4a189c381d3505a592a7",
        "IPY_MODEL_707cd0a32da34d098e3bfdec462ad570",
        "IPY_MODEL_c27301f9363f491d8aeb436bc2e7b242"
       ],
       "layout": "IPY_MODEL_2a51cbd8cb8a409080608d820e4b6c3b"
      }
     },
     "80d7922ddb064ed4a5bb4fdd5d252ee0": {
      "model_module": "@jupyter-widgets/controls",
      "model_module_version": "1.5.0",
      "model_name": "VBoxModel",
      "state": {
       "children": [
        "IPY_MODEL_972dba54433246589c2f517461a65a62",
        "IPY_MODEL_4c22bb54d23240a0bda1ee79c3a705b7"
       ],
       "layout": "IPY_MODEL_525b9e07f5184517a15505fc62f9bfa2"
      }
     },
     "81606283ae4f4a2b98dc2e4ebc1aa5a8": {
      "model_module": "@jupyter-widgets/base",
      "model_module_version": "1.2.0",
      "model_name": "LayoutModel",
      "state": {
       "width": "10%"
      }
     },
     "81630f99ebe8498d850e8df605cae960": {
      "model_module": "@jupyter-widgets/base",
      "model_module_version": "1.2.0",
      "model_name": "LayoutModel",
      "state": {}
     },
     "8175e639689141bda62143cc335fd578": {
      "model_module": "@jupyter-widgets/base",
      "model_module_version": "1.2.0",
      "model_name": "LayoutModel",
      "state": {
       "width": "95%"
      }
     },
     "81b5210330964c618acddc3957036eb1": {
      "model_module": "@jupyter-widgets/base",
      "model_module_version": "1.2.0",
      "model_name": "LayoutModel",
      "state": {}
     },
     "81b5bda351dc405d8c9108d78c9405ff": {
      "model_module": "@jupyter-widgets/controls",
      "model_module_version": "1.5.0",
      "model_name": "ButtonStyleModel",
      "state": {}
     },
     "81b5c30564f14b548514fe4afa1b726f": {
      "model_module": "@jupyter-widgets/output",
      "model_module_version": "1.0.0",
      "model_name": "OutputModel",
      "state": {
       "layout": "IPY_MODEL_2e7cc4c67e174a4dbc85036cbe028e7e"
      }
     },
     "81c426d5959f45abafd992cf69c1d8c8": {
      "model_module": "@jupyter-widgets/controls",
      "model_module_version": "1.5.0",
      "model_name": "ProgressStyleModel",
      "state": {
       "description_width": ""
      }
     },
     "8239c5c7ff0f43b49497d0359fcacad9": {
      "model_module": "@jupyter-widgets/output",
      "model_module_version": "1.0.0",
      "model_name": "OutputModel",
      "state": {
       "layout": "IPY_MODEL_cc2c9260afab4930a33cbbf92bf6235c"
      }
     },
     "826aaff7537042a095d2eae93357b526": {
      "model_module": "@jupyter-widgets/controls",
      "model_module_version": "1.5.0",
      "model_name": "ButtonStyleModel",
      "state": {}
     },
     "827b751d079c4c1582ca3087b45844b8": {
      "model_module": "@jupyter-widgets/base",
      "model_module_version": "1.2.0",
      "model_name": "LayoutModel",
      "state": {
       "width": "10%"
      }
     },
     "8296caea2f394e908ecf59f800cd0ca0": {
      "model_module": "@jupyter-widgets/base",
      "model_module_version": "1.2.0",
      "model_name": "LayoutModel",
      "state": {
       "width": "95%"
      }
     },
     "82a25ba748b046de804b31e0247c8cad": {
      "model_module": "@jupyter-widgets/output",
      "model_module_version": "1.0.0",
      "model_name": "OutputModel",
      "state": {
       "layout": "IPY_MODEL_994a3e2513e34ff3a9205c796c5b9e80"
      }
     },
     "82afd9f6d30c45c48fb0e51caf13daae": {
      "model_module": "@jupyter-widgets/controls",
      "model_module_version": "1.5.0",
      "model_name": "ButtonModel",
      "state": {
       "description": "4",
       "layout": "IPY_MODEL_018e86e28e8247c0a0f6bbccca3a8244",
       "style": "IPY_MODEL_214ee60469344d4380c364d83b1e174a"
      }
     },
     "82cd6ccf494242ee85adc494f8f97ba0": {
      "model_module": "@jupyter-widgets/base",
      "model_module_version": "1.2.0",
      "model_name": "LayoutModel",
      "state": {
       "width": "95%"
      }
     },
     "82d5b393d8bd48cc82b6eb8ca8775ad0": {
      "model_module": "@jupyter-widgets/base",
      "model_module_version": "1.2.0",
      "model_name": "LayoutModel",
      "state": {}
     },
     "8348610433574bca9767588cfb014508": {
      "model_module": "@jupyter-widgets/base",
      "model_module_version": "1.2.0",
      "model_name": "LayoutModel",
      "state": {}
     },
     "83602130a69049d2a9a5b22afa1e7988": {
      "model_module": "@jupyter-widgets/base",
      "model_module_version": "1.2.0",
      "model_name": "LayoutModel",
      "state": {
       "width": "95%"
      }
     },
     "836e4e52d3ad482cab13c384d973bda8": {
      "model_module": "@jupyter-widgets/controls",
      "model_module_version": "1.5.0",
      "model_name": "ButtonStyleModel",
      "state": {}
     },
     "83a222fce7e746f09cdec5cf07e1ad35": {
      "model_module": "@jupyter-widgets/controls",
      "model_module_version": "1.5.0",
      "model_name": "ButtonModel",
      "state": {
       "description": "7",
       "layout": "IPY_MODEL_ad204897fb08463896b477ea6a1de7ef",
       "style": "IPY_MODEL_a3a69cc36c7b44d2ad87f2b031a00e8a"
      }
     },
     "83aec321cd8b4850a41cbb402f9de777": {
      "model_module": "@jupyter-widgets/base",
      "model_module_version": "1.2.0",
      "model_name": "LayoutModel",
      "state": {
       "width": "95%"
      }
     },
     "83b18787838c4142b337a817d6cdfd53": {
      "model_module": "@jupyter-widgets/base",
      "model_module_version": "1.2.0",
      "model_name": "LayoutModel",
      "state": {}
     },
     "83d1249d50be46f181f0eaba6a2fdeab": {
      "model_module": "@jupyter-widgets/base",
      "model_module_version": "1.2.0",
      "model_name": "LayoutModel",
      "state": {}
     },
     "84289fdf24a242aaacb0274a43f497c6": {
      "model_module": "@jupyter-widgets/controls",
      "model_module_version": "1.5.0",
      "model_name": "VBoxModel",
      "state": {
       "children": [
        "IPY_MODEL_1784b9b94b91405e84f5cee38b4fc517",
        "IPY_MODEL_7162193d9ae743f391dd3b35e6ab1118"
       ],
       "layout": "IPY_MODEL_a8901ab2a646450192600aea01e7454c"
      }
     },
     "843f05ae732b4a8e9cf3945ce3b4d584": {
      "model_module": "@jupyter-widgets/base",
      "model_module_version": "1.2.0",
      "model_name": "LayoutModel",
      "state": {}
     },
     "846d8d4d3e1f45778e7f8a062f778d59": {
      "model_module": "@jupyter-widgets/base",
      "model_module_version": "1.2.0",
      "model_name": "LayoutModel",
      "state": {}
     },
     "847379b9e2e8467496412d47a3d4bf6f": {
      "model_module": "@jupyter-widgets/controls",
      "model_module_version": "1.5.0",
      "model_name": "VBoxModel",
      "state": {
       "children": [
        "IPY_MODEL_2f293c78f90d465cbfb0376b0a9a7fe0",
        "IPY_MODEL_d01006b3220e4b40b173769141e40758"
       ],
       "layout": "IPY_MODEL_463a45760cd54e9b942de158c3dd8a71"
      }
     },
     "848ea28e6307406b8a4b8e05b8abf216": {
      "model_module": "@jupyter-widgets/base",
      "model_module_version": "1.2.0",
      "model_name": "LayoutModel",
      "state": {
       "width": "95%"
      }
     },
     "84ae6ae47c9c42a8882089d74d48fb63": {
      "model_module": "@jupyter-widgets/base",
      "model_module_version": "1.2.0",
      "model_name": "LayoutModel",
      "state": {
       "width": "95%"
      }
     },
     "84d2a4e7ad5b4a9bac01378c0c34b55f": {
      "model_module": "@jupyter-widgets/base",
      "model_module_version": "1.2.0",
      "model_name": "LayoutModel",
      "state": {}
     },
     "84d4a1b717fa4e07833b35f0acf5b62e": {
      "model_module": "@jupyter-widgets/controls",
      "model_module_version": "1.5.0",
      "model_name": "ButtonStyleModel",
      "state": {}
     },
     "84eaa67cc6e34a0bba3611fb7a138786": {
      "model_module": "@jupyter-widgets/controls",
      "model_module_version": "1.5.0",
      "model_name": "VBoxModel",
      "state": {
       "children": [
        "IPY_MODEL_91683e27048d435c9aae6776a9fa630d",
        "IPY_MODEL_5b7d271bc17a4539a2e799348a39567a"
       ],
       "layout": "IPY_MODEL_c0046e445d8f4d319e2c0a3eb5b3b47e"
      }
     },
     "84eafc403512410088ab2076a2eba07e": {
      "model_module": "@jupyter-widgets/controls",
      "model_module_version": "1.5.0",
      "model_name": "ButtonModel",
      "state": {
       "description": "6",
       "layout": "IPY_MODEL_82cd6ccf494242ee85adc494f8f97ba0",
       "style": "IPY_MODEL_df452ed6368b41598653a15eeb07b952"
      }
     },
     "8515c021ccef4297a59b3ffde1a3aad0": {
      "model_module": "@jupyter-widgets/controls",
      "model_module_version": "1.5.0",
      "model_name": "ButtonModel",
      "state": {
       "description": "3",
       "layout": "IPY_MODEL_db3abeebe3044d7aab2bb628689ac956",
       "style": "IPY_MODEL_56b73673d467446da2da7d09d6ba0a23"
      }
     },
     "851fe2fef7d54ea7b8a7fc9552eaa25f": {
      "model_module": "@jupyter-widgets/controls",
      "model_module_version": "1.5.0",
      "model_name": "ButtonStyleModel",
      "state": {}
     },
     "85474e5076b74431a1f9f4602a5cb151": {
      "model_module": "@jupyter-widgets/controls",
      "model_module_version": "1.5.0",
      "model_name": "VBoxModel",
      "state": {
       "children": [
        "IPY_MODEL_e356e1b5bd3e4fc18a092eecc63f7ab0",
        "IPY_MODEL_dd9f26c21c73400f837b81b02e7ae1fb"
       ],
       "layout": "IPY_MODEL_042f2294306040a399dcf16f828c388b"
      }
     },
     "8560110c881e45cc9c0de77ad6f82d48": {
      "model_module": "@jupyter-widgets/base",
      "model_module_version": "1.2.0",
      "model_name": "LayoutModel",
      "state": {
       "width": "10%"
      }
     },
     "85c6a4e2145645829823bc0f62a5c0cb": {
      "model_module": "@jupyter-widgets/base",
      "model_module_version": "1.2.0",
      "model_name": "LayoutModel",
      "state": {
       "width": "10%"
      }
     },
     "85e7a7d0b8b44276bdae823ca6c9b6d7": {
      "model_module": "@jupyter-widgets/output",
      "model_module_version": "1.0.0",
      "model_name": "OutputModel",
      "state": {
       "layout": "IPY_MODEL_0d957aa605a241a2a7394bc243053311"
      }
     },
     "865425e058f04841a238c518a8a2d8cb": {
      "model_module": "@jupyter-widgets/output",
      "model_module_version": "1.0.0",
      "model_name": "OutputModel",
      "state": {
       "layout": "IPY_MODEL_65e21ede6fce40f899069cb19765bed6"
      }
     },
     "865f18e37c9f4db6a218e1adf30e0a2d": {
      "model_module": "@jupyter-widgets/controls",
      "model_module_version": "1.5.0",
      "model_name": "ButtonModel",
      "state": {
       "description": "3",
       "layout": "IPY_MODEL_9ee3363d70b04467a92af5ff06e6f1ad",
       "style": "IPY_MODEL_4cb5acb9bc534eac9e59a2025bd90ce9"
      }
     },
     "8691a5e3719749669de1a7a43bcbcc61": {
      "model_module": "@jupyter-widgets/controls",
      "model_module_version": "1.5.0",
      "model_name": "HBoxModel",
      "state": {
       "children": [
        "IPY_MODEL_7efcfccd2b54424eaf65c7b487491c59",
        "IPY_MODEL_4a90d5ef93b948e5a4f6961a219c11da",
        "IPY_MODEL_8da4ca5bef5b4127b2ddbe433a112356"
       ],
       "layout": "IPY_MODEL_24eb4e7740d346dd8cf5a15c58540776"
      }
     },
     "86bd437818614e418f6728dc2f3a9a74": {
      "model_module": "@jupyter-widgets/controls",
      "model_module_version": "1.5.0",
      "model_name": "ButtonModel",
      "state": {
       "description": "5",
       "layout": "IPY_MODEL_5c3dd5be3e4446ca957ae0ff3135fc95",
       "style": "IPY_MODEL_b246fff6927746c7936d3a91d9047fbe"
      }
     },
     "86e9b52b3b5545538db7289ec9e17b58": {
      "model_module": "@jupyter-widgets/controls",
      "model_module_version": "1.5.0",
      "model_name": "ButtonStyleModel",
      "state": {}
     },
     "870d10cf614e4cb48fd083143b06ed7c": {
      "model_module": "@jupyter-widgets/controls",
      "model_module_version": "1.5.0",
      "model_name": "ButtonStyleModel",
      "state": {}
     },
     "874eedf1b32341909dd6983802e864bd": {
      "model_module": "@jupyter-widgets/controls",
      "model_module_version": "1.5.0",
      "model_name": "ButtonModel",
      "state": {
       "description": "9",
       "layout": "IPY_MODEL_84ae6ae47c9c42a8882089d74d48fb63",
       "style": "IPY_MODEL_213054d2001a4ca184e124ce63d2f4e1"
      }
     },
     "87c1c73cf7fe400cb5e192a7ada36364": {
      "model_module": "@jupyter-widgets/output",
      "model_module_version": "1.0.0",
      "model_name": "OutputModel",
      "state": {
       "layout": "IPY_MODEL_01484d8a3cc549029d885791289aaa54",
       "outputs": [
        {
         "data": {
          "image/png": "iVBORw0KGgoAAAANSUhEUgAAAMgAAADICAAAAACIM/FCAAAglElEQVR4nM1d6XrjOK7FQsk17/+qM92xSAD3BxZStpO2naS/q1qScjk2j7AfgDTCc9e2bfvl8ufPnz9//nP5z5//XC6Xy7ZvbePWmBoRIyICgJmJypBxXK/Xv//++6///vW/v/7313//+uvvv+3JN3vnoleejP4H81ucD+D5af7f/i+M5yLevt5PXs8DyeWfvsUHOOIBBDih+GUg7fmn5u2vPzfyyJVaPXpC8f9DIrno0x9fKcZ/4vpcfwqeLnpJjV+9nn7xXGwKI24xIpxhxHMRcSIhIiLCXwXyvGqFDFIOKQbHdGPNiRQcRmHRnweQ17OqBYvKw7J0XOylnpwalzAcBf+qbj0rkWm4cKP662Px3HoKYcEgJubxWzBeiiO4eqFbNAALmMXASxpMzMy/AwLgBa91s0S6FwsuT60npSyYG3P7RSAvxJGzENIT0WdQaNEqZmZuTZr+mnI9CeTB/X8kmPOTzyhaa7IZ/BaSp4DcWUTda6KTSBYgqzBaa61tIqo2g8ldBmnzbzv/80eAVOZ3RjCVCxc4AABoAGamE8U22uYw4C682/zif/JXfMFnkfwTkDUdwTW4MVd08AcDiBkgmRkrMXEbrW1922VXNQPE8sALAl+2rzx+m4EZGoA9i+RrIA4BEHydi/3SCY2DAQQEX4OBMWuT0Vpru4qqGQASd8mFlerU3ff1K6jFBWD4LJJnVAsBb2EwEzGzBwi/Mmb6TQVWVuZNRVQcCCJza7Jqf2CABG8av+PrT9qIJ1RUQSEiQzgjx7ICATNU/2qqqiKqpmCARMxtk5M5lyjALDGomqoqqtILUL4Ekkl62ccpSnuUI2ZCxhWIIQBCrcnUDICIuLUxpCAUCghN8ieLqqogKoA+b+vPqdYiEOIVSeNULSwbATMFRDADNTNVMwRCIm596yJnWbg01PyZKqqiooKqAgCK+CMSWfI/Ws1jyiOB4HS/ZrZ8a2YACITMbet9DLUpj1Kq1ClR0aEihOIvgD9i7GtphGEePGM1N26NM1Ep1UokCFH1oluH4ygg6aZSqRzH0MEyiBAFzIzs6fL4mciOkVOtGUf+Sr0ijNIEDMwQSfxHEcF/qrXRRxeR9FJlHGpuTKIiQ9oYNNzIzAyftpJ/tpHMqcpCEklrrbWCMSUCZki65gLMrfVt9CFDFCz0Kj2VhntTERljMBMhApiymf6URBaXtQaQFr9bC1m5Lnn9bgZopJhBlJnZ1WqIOBCbiuVaJao6RMYYoxMigoGpkdbNeRHIKsf4HmF6Xp7xIyWCS36CGJkWoGsXohcjrY1tjCFDRAvI4nNVRVWGjNFHJyJEM1DVSBfekcjq7YrnSSQ8XVbiaIiEBARI+XwAAzJTVSISHtTGaBIwboComZqYitvH6K0zEQKYWVPV53Hcq9bZuJZQeGPr7rQaegCZEknPSo6EiaXJEBmiIqoJpASiqiYiKmNIb43Z7UNVWYjoZ71WhRHOqrWlUBJCWEiKxAIJC4uIirg0VDUyW5j+ys1DpI/WmAkQzFRVojZ4G8itdt2Ew1PJ17hkgRNHITFV9mAdKNTU1jCopmriQEYfRyNGQDMT0cH0DRvx5VvCgHOetWRZjbk15laiSDp7KpeRqaly3HV1T2u2WrqqmtuH9K1zQwIDNR1NmHl8SyKLULCc1hTJkjFya60QlECwEhAzqqzcQegsOtZ4LjJkbL0xA4GZqvQmnjM8CeNTG8EzkiX15TCU5liSjT91FyLALzZtaRv+R+0MZAwZnZkQ0FRFRmsRGL8nEZhLCvr2LBbmyhxPjZ/5c2BYBdMsGj2oWziuyhRFxxijMSGaqcgYrXHh+IaN3ECJwH5TrId21RPXv2Eq2EokwCk3cTl53s7MrSMiiMkYo7fGHKXBs9eX2W9I9jF9EnXhuvqb71PH8q/41sWkFdYdyEAAU9HRt+7ycJ/1XdU6o1kuOl9f/eQjaAVk5iekrkNmqqO1xgXjeQt5A8gJ0TvNNMQkGwzUVBU9xTVVkZZEwKs4vrSRs2rdCgQR3+5BIab1Y6mPqfAKY1Y43wGy9p5OMG7E8uhn7cHLPHoHNAQzQEBgM9MFBk2P9R0byZ+N7GOpd++uT3Ccq7rHa0FDQ1RSArDVH04G4Pnc93GutXw9d3Sek8eCxCDShDXEFA3q/3vnQabcX8DxII2fX/AWBtxgePA+xUHXv1fnhbl+AEBb+fF7GDeNyZeB1NsmE3Tu+J++PvpJm8EPbnQsU0qLVzd/+k0D6R/v1QtAcEJZhbC8/Gc3q6qNDOwJaHoP8xeYxcvUsBvdfRbDp0Acx7z9CBPJRPPIo9iEMnOTKR8oi4mXC6kALO8wjeMV73tfs+dXhPP0wioZ+NSfZBKVGnbC5K9sAIiw+CWzCROXbPoFvboHAvNOLzK5A5EE1kMcSzU785GQy2LfFOV+gE19rWLzxazhizT+XhgLiE8MvUqopRgJbVsr6CgKkiT2p53f/TV5fOG1ilKINyuG4Yt75dWrVccpxbPYDSAAzMYjJRII+eadejmL+9zYp8GdLOMLkU8+QQuELmCqgK5GCxnSFEkK5VWtegykSr3yVdNSViO8U4cpEMnlq7dHtOxmAmFiMiIiQyx7twdm9zaQBc7Ur3o0Hq+lr/fOkqVKwkRLPg4FDDxHJCIlZWMzM3Ig59vyuky+rNlvLR6+zBuS31GJxUczMHVNI/YhMLKSqRmxB3aH8bY0HgNZavWTOB4t/YxDA4aETLKt6VhSuRBRSJWNwRgAQiTwTShfpfGZAJ/DyLLyk2oVry6iKqalZ6pqYqYGCmAISETqjfd4G4Lvi+STXAuX7x9BfBgL1dR5dSlhiFOJJmXuCEjE5sliJA+KVmHxR4HAIof7x5fFn4FYEtLJ9DoUUymJGCAQspn5OwgiKkXO/K3rlXmtwjIz1/moDweIDJExgdQ3i0SIIncnVVRStJuXqjf6ZSAPU0bLOQeRMaITskgkgQAAujgcHZmZGT7A8bWb+SEgDy5vBIoMGWNM3ZI0Fne/4AQKYDxCFT2We/NQpf8tIKs8vOe5uKxFsTyFr/zrdH1ilU9ePwHEolcWMPoJSMb16a3vEMApD3oTyj8AsdM133h9Q/PejMPo3ccCZI7UQPirIE+WZX628HfQfAUkzHCisOqa5BtC8OsTxtG769YpMynHlMla1jcTyq1AfsjY3VMu1RFU7K13nXi9OzN6P/px9DGGhIHHj6JVIXOqnukOiEN4kUH5DEiuFszwpFk3BUPp1sRxHMfhszPZ94wlIQKiASGsQ1OLEAxWED+R/RalZoanlvhar66pl+OQMfpxHNfj2o8xRCpuJJmIYIg1HDkHPxAR0ZaKAbMkmrf1HSC2wpgC0eKripYAWCXiBnK9Xq9H72OoWhJW5NMRSJDV+iQVl/ZBGg2c5fFs5vKJjRgglECyubRGL4xUJWJ6COR6vX5cj6OPIaZg6CkiIZMBgWW76zRpS1RAIKX8sjzugLheuZ2joYGiomkNLGSaAVOz3GkN6b1fr9ePj4/j6hKBHAEkMgZEA6jpHJoNhMVGkuR4dvFfAPGV+ev6ALHiQiDUU3JCwJ+vIjJ6P47rx8ffH9ej96FqAIjRNQVAslKsGoTkGHIp+S76+kNxxDDil1lIRJe8bxKRAGUi4ziO4/rx8fFxdSCuVtyaGgApASISMs2hyFW11iBy0qx3jR0M0KAGUjxIFKVTTY2ZnZrHw9H7cb1+fHz8/XHtvatC4FBtgKRRSvGcZgkrQWeEpnks1NkLNcoZyCxdLaCYAjoUm2V3vm++XXnfa+mWmiESM4uP9rOBI6txA1qsZGn6fEorvwQkEGDE4mjwa4xP2uK2ABYTUdXyvh8fHx9H76qApVfIrGpuIi6MhOEiQZjO49ZEvuV+zRuVgAaKgAt5uAa5kEiqllv79ePj7wBCyLyJAiKL6JRIoGDvGU7Nmk2qT6rpF4FEZK9XUIrKSHM8NN5r5loeR9zarx/Xj+MYYkDE7IJpohbDwOV75+6AioEz03pDuT4PiDUCHdXcKXk6PTVSlF4h8dq7GBC1ZobELKrqawwcREsfmnyW80T2fxtIhEKIeIgG4JNwK8N+5uWW0O5Z4/V6PboaMKkCEHETMTOD89BthBEkBAS0JXnz68Xo+ImNQMYRMFTKGfwgcG8ZxsgasyA5jiOBGCI3kdiw4MljqVSMqd+2dcpYXtOxz5JGjyYWK12qC1uaGYnE69zhhW7vR+9dDJUAiFgk9vMEjmUYLyqSGzYT3sniv0jja6OWFYj0wKt2xZxlYPGr966GyoiDnUgJjjHtfcLJROvb12e5VkIyMKp2wWojZmZFJizEYlyqyEDk1LxlSr/cejrJAB9dsAaWd4Bk1RHx1h5e9dyqWHSFo4ZBwq1x9H6pX124JELvAZloAOExjhv3dfu4ZQ/0n5b6WCJPLv45IAXnKyQprvsVvsXpzB9/GdUTBN2XIpkgVksmAluGIF+CdG8rT7mCp5jGr3XLPStlEcXcRE0NfVabI6PC2VG/V82vBfCUW3tKIsv7r5yuefKFkdYSt9batu1igA5k21prHBuxZmVcKDIF/cwZ/JpETpmKmm+njdSDW9u2fe+7KCKrAXNr+75tW2PmYBiWuxKMXzrZb1jU00AsLX7O6lalBQGEXRj7PoYBcTdFpta2fd+3tjUmzh1HZwvzoIWRaz264Ln9Ys+o1km7aqxhxrncnrfv+2WoAnLbTJGo8bbv+7433+YXuy3jlizNEchS7ZGt/KBqlSZYDeZnMy3enbi1be+XIWqGvPVhioSNmyPZWmOvaMPOZp2GADGnmeVIAZiAnoDyXH+kQOQkQAzoU0jEBTK8EOS2jWGKSK5c27ZtjbM2L90se0MAtDnzctts+FFjh1WzTm4LDYCIJg7Eth3Dv2Pi1ra2batE1DRyF9VaI9ptfAc44/kJIIuFrvMMU7d8f7eoASDxdvQhpknPtda2tjVm382mqA7khs5AnGM81XqI//khYweIwT6LWYwllvgILXFTCW6ReTvGkOxA+6aZ1lrgMJ+GjztRTd0AA8k4whTKUwt8QbXKAevNzq/Yqr5FLdva0YeImaER4CSyfH+hIqigCtULmO+RToHAvbHgM3vBXzH2uJ+ZqKuqKqIhxkgGIBK3rXcZajF3grjsPAEzUxAUJCEiVVLFSc9+Mgr6nEye7OoanGCoqKoImylBDJf417YdfXiVvnSr5hkdCoAhEeHyXFHfJhV7h+en3K9NxfJNUTk5I+SOk6G8cN/GUFmLSYMc/AIDU0MUl5Kwnp9TlOk0/Nh98VOqlThSGiIaUMJAGeNwijZ6sA01AqiQPTsDA0SJZEBVSBUzlBQRe6ddTx0z8KSNwAzKElvPRVRYffafDON0im0MEVWF8m4+GeSqpmCBnEiIWFVJ0ZZ+cY0fUgqESJ/RredUC9PS5xZ6vwhJCRHQUIlVWkw9GKiaWByKEsjAzDI2EAmREGvRl5Mfx8VFJKAHSM6PPRUQsTKtSZQMERFhFfaOrG9olZYd9jj7QESGkIjfDLWc7wwUwqqISNHTd5DTQAKN2T/L5GmvtVCKGjgGiyAikLkaEyhnxAZVFR1DxvDURMFMTQEgPJyQiCuXq9a60kLhSJT+ebzuWRs5x5Ax1tMZKhD7XKMHOTURYR4e0EnRGyn+aog0iERYhFSRVpofVxR5Co4R/MOJgq/HkZiSkzG4yXAg3kIHNIqU34EMQgRTZcUiXgGMXCIyWEiFFRWw9gIEluW4NFUOnvC0pJs4+aSxT/8rNZU1uGcq4UQaEsyxAlUP5aqxXdE9nhlwSoRESEgFFRChrB6TyohWijPHpqgn7XtLIq7Epym5nvubk0WJRDwHgRABQCXHAVKYfm9dIjKIhAQ1juiJTlLOfGTb1MXoHsdf+xGP+uzg2apZLo/eslTKLnJgyftlmpYzf1LMgBwIOVNPEgnVktWnu3J2SV0SOmdIHl3vAHEY3Kh2GigYgVmGZ3z0UyJj3AIh4gRSRHEBCY5M/HUBDXWO9dwBet79emiIfk5rjRgxXVmzRsZkmSqBj89GmpzKOIYMMyDSGPtlIvZtsojoxUHNOAdP5kJERFRFNNBikW6gvCCR2EUfOBjZZ0v9TDMlZdZIvAEQVMNJj+6/fEbQFIjYe9UxN2TgfiJSNJi8TGubesAkl5hGjgFwdzjd08OZlfi6XjEh+e5naZs0FRY/cCCh+OSTI/DBumP40BARRwfLjxwyMCPysYM8qy4ZJj+dC2UgSeyCiJ7sbah/KftNHJzHfoiM0baxNWk8TzdAQADTaFgfx3EcV5+sE1EDTxYh3HYCQQvRmmExZaIKRkRCNEhRVVENTGFpqL0qEYjJdx6d2TXbFW0bbbThp1RRbWVDVeneefdptOsKRJayC8wciOlIiWDi8Fn6CDphRlBQ3gHiIhERGZ3Jj5MRGaONvrXBQVbzPKBKVUbv1351GNeaEHQgGmwpeQuSGMGP3tFgAVrbZFMDROLOzB49RRBBQe+r+BdSlIiG3D1vVxMZfetta1sBycZ5GHu03a/XI4GYgk8QhJ57Yq0s5HMHak5iMDfZfI6AOzEzDUGiOtPtrmh8RSKqMuLoPABTHaNvvbW2tbY13lwiuSXP1GfRUrESiAERbyILEFVlRvRbpVH8c1NXLGLi0ZlIcCACCgDYfbH1go34fEPSISo6RutxOlUCiUEyQLCUyJFA+hiiakDMsnk88LkdM2MmADMXCSImDkSmwaNzRxpINLKpeZejvOB+I4NH9DMYRVpvec7WDZBUrRjpCK8lw8+XJd4yYrhqqSZ/VxIhbk7xMTF37oRcTAyY6d1Y14vGTo7DlxlnbHFr/hELLQZlEBFQVcc4jn4c1+N6TO+rSMwisgBRM/WTv50eB0Dnl1zHxuDORIc3WAzUSN9WrTB2zPRKVNpodWRYa403Zm5TIj4e6EBiQFtExQyYmqim+42ajRkxpGOAZFFGMrUxBnOnOPLDMwzSO9ruaYk4/yxRB4rG+T5+YhjfSsRtRPrRj349Dh+Zd1oCiWUB4kqvTdwXWsYR912DJAaiANFCekoPzuJ5xUYQxWlP0yZtxBhc48a8xTFoKxAd0o/ej+PoRz+O0SNuE4tkug6UN4kJCf3QY0ACa5HLqx80St4nMVVleXT4yyu5likKmIEpC4+YgfMDqrY4p4o4518dSOZZ/eije6KOzOIsBCJALBBMKWswAD+aj4hYWJiFEqKpqMYDb0rE0KxOvxWXBZGP8eapjXySiOmQ3n0rRu8+L69mhtTYLAlu9sEzMM3jm9CCNTUkZRHhcDDBL+U85zckUkBI6ijWGA5/CMTT37xkRI+LtRnUVvAkd82IyChngsgwj+MTP3jLM4sxxw/ec78ApqQAoKRERBInZs6j3Bq19chcU9WoRo7R++gyPAFHaXlwLtW8LAIYsYERASAQBBOjZCIDgrpoMmqS4nZ5z3stACU1Q9M8vdT5JyZmatR4AkFEADWJurD3MfqQ4TURMhikKHnkZDkYgwGr75VxuyEzUv9PE5U4z+3xQWjPxhEEA1BEQ10OXAVXLmKmNkerVyDiOIbnWZGUQOkkB4c8fG2kfj6Us0tmoGiCaKrqYasOQvuGjfjh5wiomA0MiMMCiJm41UHfoSpRF8voscvSmTsCRBSKQbsAwiqenrsbiF8GJIaIpircQnjVNHoPSB7iXuxC/uV0YCMeE0h02fxjoByMDJVgjbKDmJ0vv0hRceGDoi8EhgDqosjB7SAF35UIYOyEWyfjk4GSe4n4pvAhIl3E80UAAFDU2hq6dohppbWyBefd5GpCzuttiQAkhXi+MPly1VvVsjmqGcexwrwD/3TlYu8bWJ/8wHe3uJqHZCVVCs9cQCx6ENlpqBV+en1jIT+wV1cVyciMDFcgnlvGCRDLzoC7gwUXlVn+cXoLm1T9LwIBMDEyQ/WTTihZnjwjWufULyAsx7XHzp7l7DmsTXAAWTxkB2wZe/stIACqZmRksx4ByH5okIfVh6qyMk7ajaMZW2wiwxwatMIRV0KpLt0vAAEQI9YJxGoUKMbJyWJwgJytiKu1bdt89pFabo3B2bcUm+5innxs917nx4CAy4T8HMxoLIQihM/2zMZn7bZt+Wvz8aEUiLdGs9uXe/2zX5xDFW/SQU9cJmamFGekR2cEzKIM9JPwkZi3bd+3y77vl8tl3y/7vu3b5pVBwgAvzoNK8xRnpFgemskPAgHInBJmMpTDMl6/EhG2FvOBF7/2y7ZvW3wogMfC2bEUzw68J5EBKVTrXV7rmcsEzXdCA2USk04X41NX2KdR/yxAtm3bXB6AcfJ8sE9xWnaPHHpI2cntW/8sEIcCbq3LfAwB+a5Eppih3S/7n8vlsv/ZL6ehR4xJD6g2l4wxjn70VK+099+zkQkFEMD8XHwA79HmDkSmtm3bfnEgbiX71rYW8vD5oWDMRxUCR/dqObOd+0jy80BCfY0AFQ2z1Zx8C7e2b5fFQvZ929rWaNJBWkVA2Hl3Xix162FQ/A0gjkbBt0oSxongrXFrzJsDCRsJII1rws7P7Ei32wOI8zB55ord93d/DUhOZBCeP40hZpovl/3PZb9c3ERqmlYVwcypi+AuxujjcCZmnh3zL0rEg3MU9Y1b4621rYXzvewujkvOaTOh76UV0PhMgth25oxSPw6nYlK33u1YvQPEolwpxn7bNne+oVoOZNsaNw4GCU1J0kRiK+AIWw8biS7Rv6ZaEFmiy2PbWuVWC5ASCDuDhKPaL5LG0fs4ElJGkt+PIyccEMGjcsTd4VzcRvbdBbL5/hIzFWON4jIk4utP7ztt/d+0kayDfap82/Zt3/a2TYl4nrVtrREToJn4/Ipr1rLNdBzdpw6GpGr9CwHxBCMb5tu2b54cJhCP7vu27X5sP4Ap+EGalfT2II7H4TBW73t7/SYQQmTOj3V0KI7ksu+XS2XwvkvGySZPmecQUhh5H310mQd3/btei+KThmK/wr7tAcS/Fgz/DCmA01SUpGolFBl1JtzcFPWvAHGO2kPh5hIJg/c/rXrzRIRkwS3O8dTawBzUscTw7a8XVvdAHEbYevjfPZywb+ubVG7MravW7E5txk7jiApRH3IqvwakSJJiGbapS/VJEMlTzL3kk9S7g7HU7N8zdlz+XgnDlYPKDRRwYkpurokC3CQQMabazutfUeSmlU/4oKeBJIFw/v05AcptUiXLdYZhYOodUTSfwokexAnEqGq97Px9Y8e5v2N+mV2Kezy1wzKvso0Wc13RKUZQAgA1rTPTjhnJE0wwfUnR3S/wedWqrsgky/GxXPAeiFt5mwLJ4gPMkNC8LzRxHEfvI5OSiSTH577jtRJDbYco6r+2fqyAkArIJTZV7m7piQNMEcX7Xz5LP0a/Htfj6jMfUaafBVIZ/LtJY9beXn7PDuIcK8XlmWHsTmDtl+2yV3rCMWfnegXmOxUyBvrJVtfr9RrqNYbMQj1zrJTJWxLBKL4xjzNJNMVhTRXDlEjb9m3fLttl39JGfDrNcQAoxcS2D4MNH8H5+LjOIv0WxkO+9AUgszm1tAMoP3rvDAUBECIO7pGR7NNlOe9j6h4LACCOPJbee4xAXq/HUqRHpliWXrPf7wDJBgbnB9JmtzBsv7qK8dtzrD3S923f2r54XgADBYhP7fL5fxnDR3AciNeGSWW5iaTb/YZEsKbA64CsGyjnHik4abJt27a3PXnq1fMiJIriRtP9+szd0XsPS5fVPB5ZyEsSCX6qzQYNVZsVlxDjmG4q3G3jjRu1GHk08OHw3Goan3zaez+OflxzUm3M1L0c7yeNq2e9VmhWMjvLhxxPJKdo6Xt0t8ASmQktRyZ4hijenovkpPc8RSn5n8lbl5k/spA3jD22ELdoMdHZfSUWBOJGxZ4sCVY0TiA/HW3ZexaDK4eXhRFGRFWqVRVp7yO/9YqxJ4GbHbNq/Ln3ohUI+ljHTaKIueOkdpiO4Kmd5x19HKP3fgwfxInk/b57+H5kx4VK8JJvfijbNPn0xQTOk8YnpLqV+5x2LKK4XRljSB/J89bGhuFF4V2K9dlemJfdr5MJoS1zsKmQkA/4IVFOcbU5XBfRD8DMqoEzMhUZYz4Q8yszhFSL+nvGDudtNq753HKKkchbIKlgiIjVd27UmImRERHBfGec5oG0o48+jgkkQPXcspmmnvuS8s/7EjnrlrsiblyHxCISkEvEgdSHP8YgF5J/ultQcIubGr33VLMwmLuaECqiP5bJ8zYyI3tECCcPiPxuL3mkfyaST276GZnkdo4GoNFbVFUZTlBfx1FAZMnb50fxwpq7f8tGot1fxEj41YgNjEx4gpJAMqOZcx3gaXvsqvGo4SeCL5IYun4+w0MYb8cR9DQ+sWR84Dh2MYcvPKIQIhJjwECuLQwQo1KOZKRMjqP39MG+6X9+BIA+A+MlY58hcZGKTwAiV1ykVC3i5ShD79eCgiLNqdvkEvNEcJ/rEhUxiSM/TixWLf+bSSNmwjX5qtYqg5wSSdEhMRHWSHN8HlpW65r8VTC8S8YusZs/U/fz4r8fR8JM5olgXFGR11prAqEAEjWxbx3ObycS98OThJOJwdZWyFeDTi/xWhUUaWKpRPgzILXHB4L9mVlj9dJv2MT1kKSHlMk3gax7zc9YzkB85YQrEHAgseVyQZLM4k1Vq2AVPn4YCGL54NwTXHAWIDwlAktujAYAigQaw8cG81gPqTBeITC2GD8L41WmMdMPWqUSoFbVCjRUI3ExxWuzwJ9zTFVYJe9jqqDwgjReAgJzOiZXuZARJRFabQSJCIiAfM4pjzOFqnILyfwIGfe7/jkfL6ztNcq0WNNFLoUGiZBvjB0DCCAaGmrcCoAaSptQ5sdGLT7354EEmhVF0lzFc6UcVokEsuDtbmfaM1isV8XA3wLijBVOKFMohSFRlLH7h0NQMnfJGwUKCw7FMhkpgbwK4w0byfzxBk5uwqivC1OcYjD/eI4pFHevUZHnKWTv4XhVtSJVuRXMxIHpoJdkuPTJcjY/vFb222wemvh8BPwOkFxDQllM5qtRcb8BlvtbIEDFyN9i9q9E8m8AwYkiKdKAcAsHTo+HQPLcEZzWboUEvosDXvyE9XQ+abgLmxVrxPhyekL9DNaLrEimir0aPeb1f/gJiJ8H7UTXAAAAAElFTkSuQmCC\n",
          "text/plain": "<PIL.Image.Image image mode=L size=200x200 at 0x11ED20290>"
         },
         "metadata": {},
         "output_type": "display_data"
        }
       ]
      }
     },
     "87fd8f68496d449f908b2ff198bd358a": {
      "model_module": "@jupyter-widgets/controls",
      "model_module_version": "1.5.0",
      "model_name": "HBoxModel",
      "state": {
       "children": [
        "IPY_MODEL_dfeeb8d8525c422b8360965f9d5a16a7",
        "IPY_MODEL_059f3d6b44d94dad98f54b534fdae87b"
       ],
       "layout": "IPY_MODEL_b065613c27984a5e81a6152948ffc455"
      }
     },
     "881ba6d4c0854460bc8c6e3deb785167": {
      "model_module": "@jupyter-widgets/base",
      "model_module_version": "1.2.0",
      "model_name": "LayoutModel",
      "state": {
       "width": "95%"
      }
     },
     "8856f08fe8d3417488ce914287fcd60e": {
      "model_module": "@jupyter-widgets/controls",
      "model_module_version": "1.5.0",
      "model_name": "VBoxModel",
      "state": {
       "children": [
        "IPY_MODEL_da05e0e0b9c749998fbf40b5b42fd1b0",
        "IPY_MODEL_c2391d35c3884bad9fafa1cdae9f2529"
       ],
       "layout": "IPY_MODEL_031d93a7185f405ea56bd874f2a4d0e5"
      }
     },
     "8866136fe8194975a9d5f87a293bf07d": {
      "model_module": "@jupyter-widgets/controls",
      "model_module_version": "1.5.0",
      "model_name": "ButtonModel",
      "state": {
       "description": "4",
       "layout": "IPY_MODEL_d3ea8b27d7e84f6ca0993e4c6190b1e4",
       "style": "IPY_MODEL_eae184031b5f4797ab62ab774e94058e"
      }
     },
     "88719d96a72c43f29385b703282bdbf3": {
      "model_module": "@jupyter-widgets/base",
      "model_module_version": "1.2.0",
      "model_name": "LayoutModel",
      "state": {
       "width": "95%"
      }
     },
     "88a48965d0b34054b42e00f4ac146227": {
      "model_module": "@jupyter-widgets/controls",
      "model_module_version": "1.5.0",
      "model_name": "ButtonModel",
      "state": {
       "description": "2",
       "layout": "IPY_MODEL_565a0ec16d7d47bbaf44802563dfeff0",
       "style": "IPY_MODEL_26bb923252434c3a9b49687ce945dfd1"
      }
     },
     "88a98cdf68764848a08c8aa07ff8396d": {
      "model_module": "@jupyter-widgets/base",
      "model_module_version": "1.2.0",
      "model_name": "LayoutModel",
      "state": {
       "width": "95%"
      }
     },
     "88f06a9da57a4acdb6b91de5ac672889": {
      "model_module": "@jupyter-widgets/controls",
      "model_module_version": "1.5.0",
      "model_name": "ButtonStyleModel",
      "state": {}
     },
     "891071661914456d8efe936a6be0ed23": {
      "model_module": "@jupyter-widgets/controls",
      "model_module_version": "1.5.0",
      "model_name": "ButtonStyleModel",
      "state": {}
     },
     "8911e960a2f64191a8bd0e41983ab9b7": {
      "model_module": "@jupyter-widgets/controls",
      "model_module_version": "1.5.0",
      "model_name": "VBoxModel",
      "state": {
       "children": [
        "IPY_MODEL_c01aebedc1864bc1a290adc7d03563ce",
        "IPY_MODEL_437699796ded4b2999f698eaf407903b"
       ],
       "layout": "IPY_MODEL_36acab13fc6d4fa087a11f9d94bd369c"
      }
     },
     "892b1380ae9e4dc69c9ea935ac3e4c2c": {
      "model_module": "@jupyter-widgets/controls",
      "model_module_version": "1.5.0",
      "model_name": "VBoxModel",
      "state": {
       "children": [
        "IPY_MODEL_dd930c4d46f246e2899ffe1d80b53026",
        "IPY_MODEL_89882a9fdd8a4890834e6e013bdf1e20"
       ],
       "layout": "IPY_MODEL_a5039f314eeb4ae2ba761a35f8966124"
      }
     },
     "8933e5cd7d554365a28730c6b3b113ae": {
      "model_module": "@jupyter-widgets/controls",
      "model_module_version": "1.5.0",
      "model_name": "ButtonModel",
      "state": {
       "description": "1",
       "layout": "IPY_MODEL_8a0f0e6d3de247feb1b53da79bb72c76",
       "style": "IPY_MODEL_a04d09a5730142abb6066d4052a13be0"
      }
     },
     "89435564a9474325b09a17380e39e72c": {
      "model_module": "@jupyter-widgets/controls",
      "model_module_version": "1.5.0",
      "model_name": "ButtonStyleModel",
      "state": {}
     },
     "897fe8a18075411c9c1cdff56d3ef8fb": {
      "model_module": "@jupyter-widgets/base",
      "model_module_version": "1.2.0",
      "model_name": "LayoutModel",
      "state": {
       "width": "95%"
      }
     },
     "89882a9fdd8a4890834e6e013bdf1e20": {
      "model_module": "@jupyter-widgets/controls",
      "model_module_version": "1.5.0",
      "model_name": "HBoxModel",
      "state": {
       "children": [
        "IPY_MODEL_1036d2d6ce6e4328848c728ec73dc575",
        "IPY_MODEL_5968c184c341495fabab6bd58e5df76e"
       ],
       "layout": "IPY_MODEL_bf225dba24da431ea5a190fd890a610a"
      }
     },
     "8996d158e6584e0db1274ae35db254bf": {
      "model_module": "@jupyter-widgets/base",
      "model_module_version": "1.2.0",
      "model_name": "LayoutModel",
      "state": {
       "width": "10%"
      }
     },
     "8997ab7d4a0a47b8884bae84aff09884": {
      "model_module": "@jupyter-widgets/controls",
      "model_module_version": "1.5.0",
      "model_name": "HBoxModel",
      "state": {
       "children": [
        "IPY_MODEL_6d594b2d029d4d59a672797205341887",
        "IPY_MODEL_b97c71baaca846e5865adb55d060b435"
       ],
       "layout": "IPY_MODEL_2b8280e45e1748e782ca9a78c091bfd9"
      }
     },
     "8a0f0e6d3de247feb1b53da79bb72c76": {
      "model_module": "@jupyter-widgets/base",
      "model_module_version": "1.2.0",
      "model_name": "LayoutModel",
      "state": {
       "width": "95%"
      }
     },
     "8a4cdd7b6ca84988868784c38c8e2f15": {
      "model_module": "@jupyter-widgets/controls",
      "model_module_version": "1.5.0",
      "model_name": "ButtonStyleModel",
      "state": {}
     },
     "8afa01ed33684cc48039dee8289d394d": {
      "model_module": "@jupyter-widgets/base",
      "model_module_version": "1.2.0",
      "model_name": "LayoutModel",
      "state": {
       "width": "10%"
      }
     },
     "8aff68cffd3c46b78e5e474bdba3a4be": {
      "model_module": "@jupyter-widgets/controls",
      "model_module_version": "1.5.0",
      "model_name": "ButtonModel",
      "state": {
       "description": "4",
       "layout": "IPY_MODEL_23558c747aa4446c9c49e19884beba2b",
       "style": "IPY_MODEL_891071661914456d8efe936a6be0ed23"
      }
     },
     "8b2a105b0e074e66b1baee03ba6454d4": {
      "model_module": "@jupyter-widgets/base",
      "model_module_version": "1.2.0",
      "model_name": "LayoutModel",
      "state": {}
     },
     "8b403cb4726d4f3493d45b9c7e6c1b49": {
      "model_module": "@jupyter-widgets/base",
      "model_module_version": "1.2.0",
      "model_name": "LayoutModel",
      "state": {}
     },
     "8b73f44b63e84862becac7caa2912ff5": {
      "model_module": "@jupyter-widgets/controls",
      "model_module_version": "1.5.0",
      "model_name": "VBoxModel",
      "state": {
       "children": [
        "IPY_MODEL_c3f16debb08b4cee867720366d283f62",
        "IPY_MODEL_90309d35f56b4f2d93fd9964c012e89a"
       ],
       "layout": "IPY_MODEL_c38f835b13064e0dbd1d63fb7f6033ee"
      }
     },
     "8b74e39cdcf14ab19dd0bd6f4a914f56": {
      "model_module": "@jupyter-widgets/base",
      "model_module_version": "1.2.0",
      "model_name": "LayoutModel",
      "state": {}
     },
     "8b8b3d46c6b04f2096de79d33e6a00a1": {
      "model_module": "@jupyter-widgets/output",
      "model_module_version": "1.0.0",
      "model_name": "OutputModel",
      "state": {
       "layout": "IPY_MODEL_4183c434c31e4483aa5bd42b2a782e89"
      }
     },
     "8be1defcd7924608b9548481171d6fc9": {
      "model_module": "@jupyter-widgets/controls",
      "model_module_version": "1.5.0",
      "model_name": "VBoxModel",
      "state": {
       "children": [
        "IPY_MODEL_a0d949ff5fbb463f9af0ad87d8544639",
        "IPY_MODEL_b9bb2c5d7d154b46879fa056a715d65a"
       ],
       "layout": "IPY_MODEL_516a5df7208c4e5d9c2f810ac01c2134"
      }
     },
     "8c74c4c5146849e2bba4839519711443": {
      "model_module": "@jupyter-widgets/controls",
      "model_module_version": "1.5.0",
      "model_name": "ButtonModel",
      "state": {
       "description": "8",
       "layout": "IPY_MODEL_2bb9b769865b46539378ef5b3c1c6644",
       "style": "IPY_MODEL_3339d7a503f14df7b4b66232fac3dda4"
      }
     },
     "8c9967c94c4b49018d5d1ba9a4684aa5": {
      "model_module": "@jupyter-widgets/controls",
      "model_module_version": "1.5.0",
      "model_name": "ButtonStyleModel",
      "state": {}
     },
     "8cc32a4952294de294e344f6554bcd36": {
      "model_module": "@jupyter-widgets/controls",
      "model_module_version": "1.5.0",
      "model_name": "ButtonStyleModel",
      "state": {}
     },
     "8ccc1fc70e6f4486b59ac135f91f3f69": {
      "model_module": "@jupyter-widgets/base",
      "model_module_version": "1.2.0",
      "model_name": "LayoutModel",
      "state": {
       "width": "10%"
      }
     },
     "8cfe21c2b63147979ce67f2cca30fb4b": {
      "model_module": "@jupyter-widgets/controls",
      "model_module_version": "1.5.0",
      "model_name": "ButtonStyleModel",
      "state": {}
     },
     "8d21fae4a5fe40c3b587819e51698858": {
      "model_module": "@jupyter-widgets/output",
      "model_module_version": "1.0.0",
      "model_name": "OutputModel",
      "state": {
       "layout": "IPY_MODEL_bd0ac8b4ec46489093fefbee2b09b9f4"
      }
     },
     "8d23d8099a5a499a91cb4f3c8b8937ca": {
      "model_module": "@jupyter-widgets/output",
      "model_module_version": "1.0.0",
      "model_name": "OutputModel",
      "state": {
       "layout": "IPY_MODEL_5f61f654db314c43bf86e6a2b96d2bd3"
      }
     },
     "8da4ca5bef5b4127b2ddbe433a112356": {
      "model_module": "@jupyter-widgets/controls",
      "model_module_version": "1.5.0",
      "model_name": "ButtonModel",
      "state": {
       "description": "Undo",
       "icon": "undo",
       "layout": "IPY_MODEL_047c803bd6494c07b6dd681c25c3d36a",
       "style": "IPY_MODEL_af052c5a92774cad9345aeabc4848352"
      }
     },
     "8dcfa62db8064233a2f2488864ee0607": {
      "model_module": "@jupyter-widgets/controls",
      "model_module_version": "1.5.0",
      "model_name": "ButtonModel",
      "state": {
       "description": "6",
       "layout": "IPY_MODEL_b2cbc58ba093485994bb339e84acf8a7",
       "style": "IPY_MODEL_6018be6eb8164f36b1ec00b3615c9047"
      }
     },
     "8e18497c5775454e9e4306037c977484": {
      "model_module": "@jupyter-widgets/output",
      "model_module_version": "1.0.0",
      "model_name": "OutputModel",
      "state": {
       "layout": "IPY_MODEL_a426ef5d439a43b9b152e63e4e4555e0"
      }
     },
     "8e1b00a6db3944aaa82ccc5a60f549e8": {
      "model_module": "@jupyter-widgets/base",
      "model_module_version": "1.2.0",
      "model_name": "LayoutModel",
      "state": {}
     },
     "8e3b697229b14b55ae5c14aff0eb523d": {
      "model_module": "@jupyter-widgets/controls",
      "model_module_version": "1.5.0",
      "model_name": "ButtonModel",
      "state": {
       "description": "9",
       "layout": "IPY_MODEL_da094c4c5ca9448a96e840bfac7e45e3",
       "style": "IPY_MODEL_79e1c3a00c4a4d0a8ef25cbb925ec3d7"
      }
     },
     "8e54bde107cc41439289a82d18063bef": {
      "model_module": "@jupyter-widgets/base",
      "model_module_version": "1.2.0",
      "model_name": "LayoutModel",
      "state": {
       "width": "95%"
      }
     },
     "8e6c870cbf1745c7905e593ffbfb263b": {
      "model_module": "@jupyter-widgets/base",
      "model_module_version": "1.2.0",
      "model_name": "LayoutModel",
      "state": {
       "width": "95%"
      }
     },
     "8f13284f419244bcb9f5fde372dc1c8a": {
      "model_module": "@jupyter-widgets/controls",
      "model_module_version": "1.5.0",
      "model_name": "ButtonModel",
      "state": {
       "description": "7",
       "layout": "IPY_MODEL_a51e412c8ead4414b3058b54af9a6290",
       "style": "IPY_MODEL_41307360364c4e9a9bbc44d2a6a636ed"
      }
     },
     "8f4bad10f8214c2686e8de05e612a270": {
      "model_module": "@jupyter-widgets/controls",
      "model_module_version": "1.5.0",
      "model_name": "ButtonModel",
      "state": {
       "description": "5",
       "layout": "IPY_MODEL_69d16e6a6a5747f49b44f00c4b8054a2",
       "style": "IPY_MODEL_dfb9d6fdf7904dafa4f10113844ff9ed"
      }
     },
     "8f4c3c61a9d34cbdaaab8b0c819f428a": {
      "model_module": "@jupyter-widgets/base",
      "model_module_version": "1.2.0",
      "model_name": "LayoutModel",
      "state": {
       "width": "10%"
      }
     },
     "8f7fddbb7fb649c8b877c8e02360ebbe": {
      "model_module": "@jupyter-widgets/base",
      "model_module_version": "1.2.0",
      "model_name": "LayoutModel",
      "state": {
       "width": "95%"
      }
     },
     "900d0fec14074fd09376361567e897a5": {
      "model_module": "@jupyter-widgets/output",
      "model_module_version": "1.0.0",
      "model_name": "OutputModel",
      "state": {
       "layout": "IPY_MODEL_ac69b50a4cd542a2bcc3cbbb78e04dbe"
      }
     },
     "90309d35f56b4f2d93fd9964c012e89a": {
      "model_module": "@jupyter-widgets/output",
      "model_module_version": "1.0.0",
      "model_name": "OutputModel",
      "state": {
       "layout": "IPY_MODEL_e7cc767df1394bdb810187ce30976cd2"
      }
     },
     "904197781de84938b259269f2c6ee082": {
      "model_module": "@jupyter-widgets/controls",
      "model_module_version": "1.5.0",
      "model_name": "ButtonStyleModel",
      "state": {}
     },
     "908e943a53204724a90b7639caecfa59": {
      "model_module": "@jupyter-widgets/controls",
      "model_module_version": "1.5.0",
      "model_name": "VBoxModel",
      "state": {
       "children": [
        "IPY_MODEL_84eafc403512410088ab2076a2eba07e",
        "IPY_MODEL_f54365e1f78d469fb8ae9739b1b015d6"
       ],
       "layout": "IPY_MODEL_be853a7f2f60441bb1590e81fe039f16"
      }
     },
     "9093e6d1ced14589b5b8d7a6f31ba4c0": {
      "model_module": "@jupyter-widgets/controls",
      "model_module_version": "1.5.0",
      "model_name": "ButtonModel",
      "state": {
       "description": "5",
       "layout": "IPY_MODEL_93462dde0cf1400ba2b3916cb84f652e",
       "style": "IPY_MODEL_7899c33598124bf7ba035964c090d34c"
      }
     },
     "9106989d839f442fb3ed672d555a3b60": {
      "model_module": "@jupyter-widgets/base",
      "model_module_version": "1.2.0",
      "model_name": "LayoutModel",
      "state": {}
     },
     "91534636eaf44518b16fd6bf93e03940": {
      "model_module": "@jupyter-widgets/base",
      "model_module_version": "1.2.0",
      "model_name": "LayoutModel",
      "state": {}
     },
     "9162a59012f74307b13019c5f2a00ed0": {
      "model_module": "@jupyter-widgets/output",
      "model_module_version": "1.0.0",
      "model_name": "OutputModel",
      "state": {
       "layout": "IPY_MODEL_c07ca08b12e8447fa7b18bd753edf06e"
      }
     },
     "91683e27048d435c9aae6776a9fa630d": {
      "model_module": "@jupyter-widgets/controls",
      "model_module_version": "1.5.0",
      "model_name": "ButtonModel",
      "state": {
       "description": "1",
       "layout": "IPY_MODEL_848ea28e6307406b8a4b8e05b8abf216",
       "style": "IPY_MODEL_67c29390ac2d4e028893003cd04d4d22"
      }
     },
     "9186b18887d14151ae2d183ba03b5d01": {
      "model_module": "@jupyter-widgets/output",
      "model_module_version": "1.0.0",
      "model_name": "OutputModel",
      "state": {
       "layout": "IPY_MODEL_a59892273cd64cbe8b8044486e59bd5f"
      }
     },
     "91b54be1c768404aac82b12ee7bd72ee": {
      "model_module": "@jupyter-widgets/controls",
      "model_module_version": "1.5.0",
      "model_name": "VBoxModel",
      "state": {
       "children": [
        "IPY_MODEL_e17308b93d8b478f984d2207e264ed71",
        "IPY_MODEL_75c6fec0630d4a66a33c5b2a79277ef6"
       ],
       "layout": "IPY_MODEL_ea6247e66e984d738ee3ead459164f37"
      }
     },
     "91cc7a4f38054298baf420687833c584": {
      "model_module": "@jupyter-widgets/controls",
      "model_module_version": "1.5.0",
      "model_name": "ButtonStyleModel",
      "state": {}
     },
     "91f3d38524754132a98160784592e07a": {
      "model_module": "@jupyter-widgets/controls",
      "model_module_version": "1.5.0",
      "model_name": "VBoxModel",
      "state": {
       "children": [
        "IPY_MODEL_4100d7d450ca483d9bfd977c93c1c9b2",
        "IPY_MODEL_ae6f20ffb1cd48abb56a87d0cb3c29d6"
       ],
       "layout": "IPY_MODEL_d72b8355d9a94a60b5252b3502f86007"
      }
     },
     "921af5530a704e5695f111b9f28086a5": {
      "model_module": "@jupyter-widgets/controls",
      "model_module_version": "1.5.0",
      "model_name": "VBoxModel",
      "state": {
       "children": [
        "IPY_MODEL_4d52447937004336b94d55e76d108e29",
        "IPY_MODEL_979e9969da1c46f8aeffda0b57c5a028"
       ],
       "layout": "IPY_MODEL_c456ebf2c6724484b1966abaa0b04741"
      }
     },
     "927cb6e1c1b74fcfbe07b25d80ea45eb": {
      "model_module": "@jupyter-widgets/controls",
      "model_module_version": "1.5.0",
      "model_name": "ButtonStyleModel",
      "state": {}
     },
     "9287df1c149141c7b33af65103b8dca0": {
      "model_module": "@jupyter-widgets/controls",
      "model_module_version": "1.5.0",
      "model_name": "ButtonModel",
      "state": {
       "description": "6",
       "layout": "IPY_MODEL_88719d96a72c43f29385b703282bdbf3",
       "style": "IPY_MODEL_a38b4ad865bc4533ba51e252c7d5414a"
      }
     },
     "928894b9dd754c45b21c1b5c16842462": {
      "model_module": "@jupyter-widgets/controls",
      "model_module_version": "1.5.0",
      "model_name": "ButtonModel",
      "state": {
       "description": "2",
       "layout": "IPY_MODEL_01b531fce8db4b11b2f24a6c4854648d",
       "style": "IPY_MODEL_2e11250fb8cc43709bb7a30ae14a67a2"
      }
     },
     "92c759d62678485680eb51f66909b0ed": {
      "model_module": "@jupyter-widgets/base",
      "model_module_version": "1.2.0",
      "model_name": "LayoutModel",
      "state": {}
     },
     "9318b4b323e1440d868c83f641813d91": {
      "model_module": "@jupyter-widgets/base",
      "model_module_version": "1.2.0",
      "model_name": "LayoutModel",
      "state": {
       "width": "10%"
      }
     },
     "93462dde0cf1400ba2b3916cb84f652e": {
      "model_module": "@jupyter-widgets/base",
      "model_module_version": "1.2.0",
      "model_name": "LayoutModel",
      "state": {
       "width": "95%"
      }
     },
     "93489cc2dbed44bebef3547a0aa14427": {
      "model_module": "@jupyter-widgets/controls",
      "model_module_version": "1.5.0",
      "model_name": "HBoxModel",
      "state": {
       "children": [
        "IPY_MODEL_9b61fdef713f44598755a4105de9d011"
       ],
       "layout": "IPY_MODEL_76420e9c300f4ad693ff5aa011e900cd"
      }
     },
     "93648ed55c084dbf8a78f88758c9bbe6": {
      "model_module": "@jupyter-widgets/controls",
      "model_module_version": "1.5.0",
      "model_name": "ButtonStyleModel",
      "state": {}
     },
     "93969a88d32141b5ba7381d6122d17ea": {
      "model_module": "@jupyter-widgets/base",
      "model_module_version": "1.2.0",
      "model_name": "LayoutModel",
      "state": {
       "width": "10%"
      }
     },
     "939bcae6a77946c5bcc0d95d92d724a2": {
      "model_module": "@jupyter-widgets/base",
      "model_module_version": "1.2.0",
      "model_name": "LayoutModel",
      "state": {}
     },
     "93bc5646e2e64490a3753d0297605d47": {
      "model_module": "@jupyter-widgets/controls",
      "model_module_version": "1.5.0",
      "model_name": "ButtonStyleModel",
      "state": {}
     },
     "93cf12af07d540228fcbf5e30577f734": {
      "model_module": "@jupyter-widgets/controls",
      "model_module_version": "1.5.0",
      "model_name": "ButtonStyleModel",
      "state": {}
     },
     "93e36addb37643ce9841944a811d14b5": {
      "model_module": "@jupyter-widgets/controls",
      "model_module_version": "1.5.0",
      "model_name": "HBoxModel",
      "state": {
       "children": [
        "IPY_MODEL_ca30fad3d0a34698ab84de8f23e152bb"
       ],
       "layout": "IPY_MODEL_64ea972c82884151bfcb133d16c1e70d"
      }
     },
     "93e7e4a6ffe14a428c30b7004c61afcb": {
      "model_module": "@jupyter-widgets/output",
      "model_module_version": "1.0.0",
      "model_name": "OutputModel",
      "state": {
       "layout": "IPY_MODEL_33d4ca507abf40cc97f29ea65412db0b"
      }
     },
     "93eb36b805a84b9ebb7ddd713042fd25": {
      "model_module": "@jupyter-widgets/controls",
      "model_module_version": "1.5.0",
      "model_name": "ButtonModel",
      "state": {
       "description": "8",
       "layout": "IPY_MODEL_b864f3b8c563443fa75f24192a72c1b3",
       "style": "IPY_MODEL_9cc2dfed6a3740829fb86b1a072a609f"
      }
     },
     "9448da3bc09c41f3b07459d68137592c": {
      "model_module": "@jupyter-widgets/controls",
      "model_module_version": "1.5.0",
      "model_name": "VBoxModel",
      "state": {
       "children": [
        "IPY_MODEL_a10d82d388894d02a50a48dce0cb684f",
        "IPY_MODEL_865425e058f04841a238c518a8a2d8cb"
       ],
       "layout": "IPY_MODEL_3a0ebc6bd03c474ca087cf8b32fe67ac"
      }
     },
     "944d6dfe5a6d4f96a432b415560ab11c": {
      "model_module": "@jupyter-widgets/controls",
      "model_module_version": "1.5.0",
      "model_name": "HBoxModel",
      "state": {
       "children": [
        "IPY_MODEL_4ff684c47da84875b9b966a10c05ebc1",
        "IPY_MODEL_ed23ff8c3db1437a8e608f9608598472",
        "IPY_MODEL_bb0db1ad8acb4d688676bcfa50e5416d",
        "IPY_MODEL_df5b213e550744549bd7327133f57af1",
        "IPY_MODEL_2e454f2a1e9149a19a67671dcf174dd0",
        "IPY_MODEL_dab200a0ecb64e2ca6d063731e6e9b74",
        "IPY_MODEL_01ca818e7314493b84a288e35905418f",
        "IPY_MODEL_9553057f29a44e4792369cb342e97206",
        "IPY_MODEL_d73324fac1d74450b4bc6365053b3d0f",
        "IPY_MODEL_808878bd3d8145b992970cae90715b36"
       ],
       "layout": "IPY_MODEL_ae3873fabc404ba3910523e3a110c1a3"
      }
     },
     "945f247e492944b9b0b3c6874b8606c8": {
      "model_module": "@jupyter-widgets/controls",
      "model_module_version": "1.5.0",
      "model_name": "ButtonStyleModel",
      "state": {}
     },
     "948e4f5dbcb9462695084f043e248f75": {
      "model_module": "@jupyter-widgets/base",
      "model_module_version": "1.2.0",
      "model_name": "LayoutModel",
      "state": {
       "width": "10%"
      }
     },
     "9494cd30d8c641e7ab0660d6fe632502": {
      "model_module": "@jupyter-widgets/controls",
      "model_module_version": "1.5.0",
      "model_name": "VBoxModel",
      "state": {
       "children": [
        "IPY_MODEL_520fb1e98d0a4e0392536f0bd3d93713",
        "IPY_MODEL_461a5cc9562f4c19bfa8a9bce1ba9e97"
       ],
       "layout": "IPY_MODEL_61ec2b52fb7440d792c6bf895d14b9f5"
      }
     },
     "94a0826b306c4fc3b02aaee2a5038641": {
      "model_module": "@jupyter-widgets/controls",
      "model_module_version": "1.5.0",
      "model_name": "ButtonStyleModel",
      "state": {}
     },
     "95379a7aa48946fbbd6b6fb9fdd61ec5": {
      "model_module": "@jupyter-widgets/controls",
      "model_module_version": "1.5.0",
      "model_name": "ButtonModel",
      "state": {
       "description": "6",
       "layout": "IPY_MODEL_55d9cb9d05224f00b9b131e0fa5d3cc6",
       "style": "IPY_MODEL_bd80055ad9644c3e9b0f844dede8b356"
      }
     },
     "9553057f29a44e4792369cb342e97206": {
      "model_module": "@jupyter-widgets/controls",
      "model_module_version": "1.5.0",
      "model_name": "VBoxModel",
      "state": {
       "children": [
        "IPY_MODEL_7f3087f65f03441f8fcba4442dcf3c8a",
        "IPY_MODEL_3a631401ff664fc0a0b651651ea5d418"
       ],
       "layout": "IPY_MODEL_f1d110f0f47b4a559136a41a193fbe22"
      }
     },
     "95603bd9daf8403f879e427ba294de24": {
      "model_module": "@jupyter-widgets/output",
      "model_module_version": "1.0.0",
      "model_name": "OutputModel",
      "state": {
       "layout": "IPY_MODEL_81b5210330964c618acddc3957036eb1"
      }
     },
     "956f30501a2e46df902554fd8b1b6044": {
      "model_module": "@jupyter-widgets/base",
      "model_module_version": "1.2.0",
      "model_name": "LayoutModel",
      "state": {
       "width": "95%"
      }
     },
     "958ede9ae00c4bb6a35e4ebdf0ceb326": {
      "model_module": "@jupyter-widgets/base",
      "model_module_version": "1.2.0",
      "model_name": "LayoutModel",
      "state": {
       "width": "95%"
      }
     },
     "95b5c24ad07f400a895da5d77b5f9bcc": {
      "model_module": "@jupyter-widgets/base",
      "model_module_version": "1.2.0",
      "model_name": "LayoutModel",
      "state": {
       "width": "10%"
      }
     },
     "95b9944e0f024684adbc526fb89d6bb6": {
      "model_module": "@jupyter-widgets/controls",
      "model_module_version": "1.5.0",
      "model_name": "ButtonStyleModel",
      "state": {}
     },
     "95d863b55cff4c1b82197525c16ecad0": {
      "model_module": "@jupyter-widgets/base",
      "model_module_version": "1.2.0",
      "model_name": "LayoutModel",
      "state": {
       "width": "95%"
      }
     },
     "963982eca17544d388f4b15d19ef79bd": {
      "model_module": "@jupyter-widgets/output",
      "model_module_version": "1.0.0",
      "model_name": "OutputModel",
      "state": {
       "layout": "IPY_MODEL_6bea6e791fdc4a87ba696227a092abd2"
      }
     },
     "9642b30b417645a88ae8f26ca18fd2fe": {
      "model_module": "@jupyter-widgets/base",
      "model_module_version": "1.2.0",
      "model_name": "LayoutModel",
      "state": {}
     },
     "97001a62aba043d89d07d152dccbd623": {
      "model_module": "@jupyter-widgets/base",
      "model_module_version": "1.2.0",
      "model_name": "LayoutModel",
      "state": {
       "justify_content": "space-between"
      }
     },
     "9701c65fdaba465694072911688746f7": {
      "model_module": "@jupyter-widgets/controls",
      "model_module_version": "1.5.0",
      "model_name": "VBoxModel",
      "state": {
       "children": [
        "IPY_MODEL_e51b7df8a74d48e88a7329b3ad2fb097",
        "IPY_MODEL_41dfd389d8014d7fa2bf7b3dc4024688"
       ],
       "layout": "IPY_MODEL_8afa01ed33684cc48039dee8289d394d"
      }
     },
     "9716fb438ecf4b3599451c539257575d": {
      "model_module": "@jupyter-widgets/controls",
      "model_module_version": "1.5.0",
      "model_name": "VBoxModel",
      "state": {
       "children": [
        "IPY_MODEL_8dcfa62db8064233a2f2488864ee0607",
        "IPY_MODEL_a7167984d08840a697aa46428cdbf341"
       ],
       "layout": "IPY_MODEL_3d82e4a9516f44338731a8e5bbaad8ea"
      }
     },
     "9720771bc9cf480b96107f5aa820d040": {
      "model_module": "@jupyter-widgets/base",
      "model_module_version": "1.2.0",
      "model_name": "LayoutModel",
      "state": {
       "width": "95%"
      }
     },
     "972dba54433246589c2f517461a65a62": {
      "model_module": "@jupyter-widgets/controls",
      "model_module_version": "1.5.0",
      "model_name": "ButtonModel",
      "state": {
       "description": "4",
       "layout": "IPY_MODEL_e205b7fc34794bddb97f5b5a425e7442",
       "style": "IPY_MODEL_5ea72a73586b47b8bd5e49d924995cf7"
      }
     },
     "973806dcc06a47e982955f8cada64723": {
      "model_module": "@jupyter-widgets/controls",
      "model_module_version": "1.5.0",
      "model_name": "VBoxModel",
      "state": {
       "children": [
        "IPY_MODEL_d9a8be1cd3824b9b8d85d87fe7663420",
        "IPY_MODEL_529de1fdbff948278fc3e53b23dd5a01"
       ],
       "layout": "IPY_MODEL_a6b635eb33ed488ea3bfd33439b90deb"
      }
     },
     "979796274f3a45099c6c95775876d18f": {
      "model_module": "@jupyter-widgets/base",
      "model_module_version": "1.2.0",
      "model_name": "LayoutModel",
      "state": {
       "width": "95%"
      }
     },
     "9797fed9dadc4c688c6d880af65e4de7": {
      "model_module": "@jupyter-widgets/base",
      "model_module_version": "1.2.0",
      "model_name": "LayoutModel",
      "state": {
       "width": "10%"
      }
     },
     "979e9969da1c46f8aeffda0b57c5a028": {
      "model_module": "@jupyter-widgets/output",
      "model_module_version": "1.0.0",
      "model_name": "OutputModel",
      "state": {
       "layout": "IPY_MODEL_ed3cef1e03ec47eb96bd0e9829e80698"
      }
     },
     "97caf44c2640490b936c9a922285fb98": {
      "model_module": "@jupyter-widgets/controls",
      "model_module_version": "1.5.0",
      "model_name": "VBoxModel",
      "state": {
       "children": [
        "IPY_MODEL_5f3acc1fb2cd4d268ef912e8ecc35457",
        "IPY_MODEL_3876775eb63d40e08d84cd8695896246"
       ],
       "layout": "IPY_MODEL_b57ed501b4c547ddb3880f9f35e63995"
      }
     },
     "97e8efc690b040918fee653932e566f3": {
      "model_module": "@jupyter-widgets/base",
      "model_module_version": "1.2.0",
      "model_name": "LayoutModel",
      "state": {}
     },
     "984912119c7d4d5fb32db587f32324da": {
      "model_module": "@jupyter-widgets/controls",
      "model_module_version": "1.5.0",
      "model_name": "VBoxModel",
      "state": {
       "children": [
        "IPY_MODEL_62a2b204ee274a39b7209f4a08f49bf3",
        "IPY_MODEL_c139a2f79f2747abb81bea957d3f7fc1"
       ],
       "layout": "IPY_MODEL_5c73e821be2f44fb8a40bc897ad1b48d"
      }
     },
     "988e3ffb297c46588e5e7b124a8ae1c3": {
      "model_module": "@jupyter-widgets/output",
      "model_module_version": "1.0.0",
      "model_name": "OutputModel",
      "state": {
       "layout": "IPY_MODEL_b800ad48108b48a9b88edd9c8f5270da"
      }
     },
     "98ae0dbd39bc436d93aae136809ae575": {
      "model_module": "@jupyter-widgets/output",
      "model_module_version": "1.0.0",
      "model_name": "OutputModel",
      "state": {
       "layout": "IPY_MODEL_7b32c1922cf444d490e2b8dd55cb6da2"
      }
     },
     "98d05beeda074cf5b8da7fdc76d7d032": {
      "model_module": "@jupyter-widgets/controls",
      "model_module_version": "1.5.0",
      "model_name": "VBoxModel",
      "state": {
       "children": [
        "IPY_MODEL_8e3b697229b14b55ae5c14aff0eb523d",
        "IPY_MODEL_9186b18887d14151ae2d183ba03b5d01"
       ],
       "layout": "IPY_MODEL_a5a7a67f2fa54e16b4501aab2711aec1"
      }
     },
     "98eaa9140cb646708a248e3544f617fc": {
      "model_module": "@jupyter-widgets/base",
      "model_module_version": "1.2.0",
      "model_name": "LayoutModel",
      "state": {}
     },
     "98f262e6c85d46b0a3866dd02b0f2949": {
      "model_module": "@jupyter-widgets/base",
      "model_module_version": "1.2.0",
      "model_name": "LayoutModel",
      "state": {
       "width": "10%"
      }
     },
     "992f5ce158a3469a88373bff92332e3d": {
      "model_module": "@jupyter-widgets/controls",
      "model_module_version": "1.5.0",
      "model_name": "ButtonModel",
      "state": {
       "description": "0",
       "layout": "IPY_MODEL_2d63750b4c9f4b4284655cc946bf9340",
       "style": "IPY_MODEL_0f46a3a5b57c4caca6c8c0b72d29ffe6"
      }
     },
     "993353de9b124dd485165be4d90445cb": {
      "model_module": "@jupyter-widgets/base",
      "model_module_version": "1.2.0",
      "model_name": "LayoutModel",
      "state": {}
     },
     "994020a25a8742b99b1eeebabe21d16d": {
      "model_module": "@jupyter-widgets/controls",
      "model_module_version": "1.5.0",
      "model_name": "VBoxModel",
      "state": {
       "children": [
        "IPY_MODEL_bd2a3d485f4d4d7d93bcd35bee7cfe58",
        "IPY_MODEL_be1c45fd6f774badaa43a355f99662d5"
       ],
       "layout": "IPY_MODEL_10f5616e91d24c86bc07c02dfe43f9c0"
      }
     },
     "99454d87a8a34072a1e67d91ac7fcb10": {
      "model_module": "@jupyter-widgets/controls",
      "model_module_version": "1.5.0",
      "model_name": "ButtonStyleModel",
      "state": {}
     },
     "994a3e2513e34ff3a9205c796c5b9e80": {
      "model_module": "@jupyter-widgets/base",
      "model_module_version": "1.2.0",
      "model_name": "LayoutModel",
      "state": {}
     },
     "99caeb5fcb664d25a97b1fd391a6ae2d": {
      "model_module": "@jupyter-widgets/controls",
      "model_module_version": "1.5.0",
      "model_name": "DescriptionStyleModel",
      "state": {
       "description_width": ""
      }
     },
     "9a02634298e04f2eb96a4078731a0a77": {
      "model_module": "@jupyter-widgets/controls",
      "model_module_version": "1.5.0",
      "model_name": "HBoxModel",
      "state": {
       "children": [
        "IPY_MODEL_8b73f44b63e84862becac7caa2912ff5",
        "IPY_MODEL_1e3be33ec4524566862a0741a14945a2",
        "IPY_MODEL_05fa77b20e3d4291a7da7befa64e3d31",
        "IPY_MODEL_a1c662e0effe4d538616feed6d6a37d5",
        "IPY_MODEL_66e65780c09448c1a0e99e7c69e20c4b",
        "IPY_MODEL_001bcd79b13a4f1cae136132be4192c9",
        "IPY_MODEL_908e943a53204724a90b7639caecfa59",
        "IPY_MODEL_3fa9abfe3bc544cab3dd7d0d696f3ce8",
        "IPY_MODEL_a18cad2a8e2f4f12a34af7f655b44360",
        "IPY_MODEL_258f84332ee54d6396c179af3db8521a"
       ],
       "layout": "IPY_MODEL_18dc588bae384ccab1facb6b76e89969"
      }
     },
     "9a97906351bc4a21b44d4ba9a2a70008": {
      "model_module": "@jupyter-widgets/controls",
      "model_module_version": "1.5.0",
      "model_name": "ButtonModel",
      "state": {
       "description": "7",
       "layout": "IPY_MODEL_5937ef3af13b43bfba194ccefe521463",
       "style": "IPY_MODEL_6342a677496c4714ab827b678819a5dc"
      }
     },
     "9aa36ec708074d789da9d71b32c282a9": {
      "model_module": "@jupyter-widgets/controls",
      "model_module_version": "1.5.0",
      "model_name": "VBoxModel",
      "state": {
       "children": [
        "IPY_MODEL_db7238ae2f264e61bedb0d4ffea3847c",
        "IPY_MODEL_3763721a04ce4a42b2f04ee5ef16c3a4"
       ],
       "layout": "IPY_MODEL_e1187c931bd04c7abc80e503d4be0701"
      }
     },
     "9ace80bbdf674b98b6ce839e1624db04": {
      "model_module": "@jupyter-widgets/output",
      "model_module_version": "1.0.0",
      "model_name": "OutputModel",
      "state": {
       "layout": "IPY_MODEL_ba3cadeadad64e98813a7af8efaa47ed"
      }
     },
     "9ae86f35aa3e41b0b8e31eb910d90942": {
      "model_module": "@jupyter-widgets/output",
      "model_module_version": "1.0.0",
      "model_name": "OutputModel",
      "state": {
       "layout": "IPY_MODEL_39f9604d7a814e3199f75cfc8d226298"
      }
     },
     "9b5d727834334dd0bd0c6de8e444ce46": {
      "model_module": "@jupyter-widgets/base",
      "model_module_version": "1.2.0",
      "model_name": "LayoutModel",
      "state": {}
     },
     "9b61fdef713f44598755a4105de9d011": {
      "model_module": "@jupyter-widgets/controls",
      "model_module_version": "1.5.0",
      "model_name": "FloatProgressModel",
      "state": {
       "description": "Progress:",
       "layout": "IPY_MODEL_fb15ffdab2754949b7683153f391e86e",
       "max": 1,
       "style": "IPY_MODEL_43f2b595f0d4492d9afed8acef9b1ee8",
       "value": 0.09
      }
     },
     "9b8958fdb36a471db7e533db9cf1bc36": {
      "model_module": "@jupyter-widgets/controls",
      "model_module_version": "1.5.0",
      "model_name": "ButtonStyleModel",
      "state": {}
     },
     "9ba5e7b2df0a48ed87d3a1276464ee4f": {
      "model_module": "@jupyter-widgets/base",
      "model_module_version": "1.2.0",
      "model_name": "LayoutModel",
      "state": {
       "width": "10%"
      }
     },
     "9c79d52b4b364507a760b45790b26f5a": {
      "model_module": "@jupyter-widgets/controls",
      "model_module_version": "1.5.0",
      "model_name": "ButtonStyleModel",
      "state": {}
     },
     "9cc2dfed6a3740829fb86b1a072a609f": {
      "model_module": "@jupyter-widgets/controls",
      "model_module_version": "1.5.0",
      "model_name": "ButtonStyleModel",
      "state": {}
     },
     "9d823a37e4104491a15c3804d3f52fc1": {
      "model_module": "@jupyter-widgets/controls",
      "model_module_version": "1.5.0",
      "model_name": "TextModel",
      "state": {
       "description": "Other:",
       "layout": "IPY_MODEL_32be970987994cfaa91230396cfb77bc",
       "placeholder": "Hit enter to submit.",
       "style": "IPY_MODEL_298202852b2043a591de855c8bc5064c"
      }
     },
     "9dbbb74a292e4719890ab1cf6d2c5061": {
      "model_module": "@jupyter-widgets/controls",
      "model_module_version": "1.5.0",
      "model_name": "ButtonModel",
      "state": {
       "description": "0",
       "layout": "IPY_MODEL_8e54bde107cc41439289a82d18063bef",
       "style": "IPY_MODEL_0e54f23220924c85a0f3af18b4764b61"
      }
     },
     "9dcfa8c0ed0c45ecbd6046611d078ec8": {
      "model_module": "@jupyter-widgets/controls",
      "model_module_version": "1.5.0",
      "model_name": "VBoxModel",
      "state": {
       "children": [
        "IPY_MODEL_9093e6d1ced14589b5b8d7a6f31ba4c0",
        "IPY_MODEL_f1d95b49a89846bd8fad7be1b6a32a5d"
       ],
       "layout": "IPY_MODEL_81606283ae4f4a2b98dc2e4ebc1aa5a8"
      }
     },
     "9dd3c3be940847dcaf6e542881815995": {
      "model_module": "@jupyter-widgets/base",
      "model_module_version": "1.2.0",
      "model_name": "LayoutModel",
      "state": {
       "width": "95%"
      }
     },
     "9e51381d2a21420badfb4848f260e1f8": {
      "model_module": "@jupyter-widgets/base",
      "model_module_version": "1.2.0",
      "model_name": "LayoutModel",
      "state": {}
     },
     "9eb1535dfeea4fb6be1065c1f93b7b13": {
      "model_module": "@jupyter-widgets/base",
      "model_module_version": "1.2.0",
      "model_name": "LayoutModel",
      "state": {}
     },
     "9ee1e398af1d4765a45189a26c90ef63": {
      "model_module": "@jupyter-widgets/output",
      "model_module_version": "1.0.0",
      "model_name": "OutputModel",
      "state": {
       "layout": "IPY_MODEL_e29447db2bdc45a89063874a03af6993"
      }
     },
     "9ee3363d70b04467a92af5ff06e6f1ad": {
      "model_module": "@jupyter-widgets/base",
      "model_module_version": "1.2.0",
      "model_name": "LayoutModel",
      "state": {
       "width": "95%"
      }
     },
     "9fb68819565044bcb9fa16e8a979541d": {
      "model_module": "@jupyter-widgets/base",
      "model_module_version": "1.2.0",
      "model_name": "LayoutModel",
      "state": {}
     },
     "9fe4df499e5b4883b0f34eb00da7579b": {
      "model_module": "@jupyter-widgets/base",
      "model_module_version": "1.2.0",
      "model_name": "LayoutModel",
      "state": {}
     },
     "a0216f648fc442c4878d038b9ee1c2aa": {
      "model_module": "@jupyter-widgets/controls",
      "model_module_version": "1.5.0",
      "model_name": "VBoxModel",
      "state": {
       "children": [
        "IPY_MODEL_354f42d1d3e2495b84c4a542b447a2b6",
        "IPY_MODEL_3a77c3b055a84eacad4dd0e01ade23b3"
       ],
       "layout": "IPY_MODEL_2b63dd07545a4510949bdea9439f78d5"
      }
     },
     "a04d09a5730142abb6066d4052a13be0": {
      "model_module": "@jupyter-widgets/controls",
      "model_module_version": "1.5.0",
      "model_name": "ButtonStyleModel",
      "state": {}
     },
     "a04d37cb9cc648b28bac32da3540879d": {
      "model_module": "@jupyter-widgets/base",
      "model_module_version": "1.2.0",
      "model_name": "LayoutModel",
      "state": {}
     },
     "a04e1743a6f2420fa7c3417207a19d47": {
      "model_module": "@jupyter-widgets/base",
      "model_module_version": "1.2.0",
      "model_name": "LayoutModel",
      "state": {
       "width": "10%"
      }
     },
     "a058d365f80140748564f3fd98ae2b90": {
      "model_module": "@jupyter-widgets/base",
      "model_module_version": "1.2.0",
      "model_name": "LayoutModel",
      "state": {}
     },
     "a05ca45ef4a6437884c9f2c351daca60": {
      "model_module": "@jupyter-widgets/base",
      "model_module_version": "1.2.0",
      "model_name": "LayoutModel",
      "state": {
       "width": "10%"
      }
     },
     "a086d4b4d0884ab99ac43e3454bb2e1a": {
      "model_module": "@jupyter-widgets/output",
      "model_module_version": "1.0.0",
      "model_name": "OutputModel",
      "state": {
       "layout": "IPY_MODEL_11c8dd2384aa4d83867144854fa4b801"
      }
     },
     "a0baa1a66b4d4f2ea533dca1bb2770ca": {
      "model_module": "@jupyter-widgets/output",
      "model_module_version": "1.0.0",
      "model_name": "OutputModel",
      "state": {
       "layout": "IPY_MODEL_c8bc2e5dcb56440a975fe958937215b4"
      }
     },
     "a0d949ff5fbb463f9af0ad87d8544639": {
      "model_module": "@jupyter-widgets/controls",
      "model_module_version": "1.5.0",
      "model_name": "ButtonModel",
      "state": {
       "description": "5",
       "layout": "IPY_MODEL_7926fd7ae0f6429cb00d54ac9d3e06a7",
       "style": "IPY_MODEL_4c869f6df5a043b6a4e85a9f9dddab6e"
      }
     },
     "a10d82d388894d02a50a48dce0cb684f": {
      "model_module": "@jupyter-widgets/controls",
      "model_module_version": "1.5.0",
      "model_name": "ButtonModel",
      "state": {
       "description": "2",
       "layout": "IPY_MODEL_897fe8a18075411c9c1cdff56d3ef8fb",
       "style": "IPY_MODEL_631535df403141c991e13c798ac6cd4e"
      }
     },
     "a12c4d37a8e741cb9d3f4bc5bdbd5edc": {
      "model_module": "@jupyter-widgets/controls",
      "model_module_version": "1.5.0",
      "model_name": "HBoxModel",
      "state": {
       "children": [
        "IPY_MODEL_7efcfccd2b54424eaf65c7b487491c59",
        "IPY_MODEL_4a90d5ef93b948e5a4f6961a219c11da",
        "IPY_MODEL_8da4ca5bef5b4127b2ddbe433a112356"
       ],
       "layout": "IPY_MODEL_a04d37cb9cc648b28bac32da3540879d"
      }
     },
     "a14f204e2f0e4e009099c776d765c34d": {
      "model_module": "@jupyter-widgets/controls",
      "model_module_version": "1.5.0",
      "model_name": "VBoxModel",
      "state": {
       "children": [
        "IPY_MODEL_e309a6703d0840ebabf493f7bf11b1a2",
        "IPY_MODEL_140eed2a37d74e1293cb9085a7c0fd63"
       ],
       "layout": "IPY_MODEL_de8333264de4436a965b48e1bbe7350a"
      }
     },
     "a18cad2a8e2f4f12a34af7f655b44360": {
      "model_module": "@jupyter-widgets/controls",
      "model_module_version": "1.5.0",
      "model_name": "VBoxModel",
      "state": {
       "children": [
        "IPY_MODEL_f2398887ac14432985a6e91f2b94aa44",
        "IPY_MODEL_34e064fa046841608dfb9c309e7a689c"
       ],
       "layout": "IPY_MODEL_fafa2e94a98c4f9f94bbfb481198ee2d"
      }
     },
     "a19e92e41a0f4ccc8661274b0d73265e": {
      "model_module": "@jupyter-widgets/controls",
      "model_module_version": "1.5.0",
      "model_name": "VBoxModel",
      "state": {
       "children": [
        "IPY_MODEL_f70f741c38ab4fc8b74fec87ce720c37",
        "IPY_MODEL_aed985accf9b4112b9cb0e3034918b40"
       ],
       "layout": "IPY_MODEL_cf0e969496e74fcfb166af1e8e6e2054"
      }
     },
     "a1b679d9e47042a9b0e46ea9e6ea6b2b": {
      "model_module": "@jupyter-widgets/controls",
      "model_module_version": "1.5.0",
      "model_name": "ButtonStyleModel",
      "state": {}
     },
     "a1c662e0effe4d538616feed6d6a37d5": {
      "model_module": "@jupyter-widgets/controls",
      "model_module_version": "1.5.0",
      "model_name": "VBoxModel",
      "state": {
       "children": [
        "IPY_MODEL_865f18e37c9f4db6a218e1adf30e0a2d",
        "IPY_MODEL_6d025527031649a8aa4b443171d13a74"
       ],
       "layout": "IPY_MODEL_b28a99c51e0047deb7c36d27db575128"
      }
     },
     "a1fcae88384147279f60c83722fe9350": {
      "model_module": "@jupyter-widgets/output",
      "model_module_version": "1.0.0",
      "model_name": "OutputModel",
      "state": {
       "layout": "IPY_MODEL_7a41ca83d63140ee8eefd8a6508162bc"
      }
     },
     "a236c6fb74f5408f938d59865a61163e": {
      "model_module": "@jupyter-widgets/controls",
      "model_module_version": "1.5.0",
      "model_name": "ButtonStyleModel",
      "state": {}
     },
     "a26d0455a747403087c22960fc821baa": {
      "model_module": "@jupyter-widgets/controls",
      "model_module_version": "1.5.0",
      "model_name": "ButtonStyleModel",
      "state": {}
     },
     "a2855e66c4894cc1a207b432775ed871": {
      "model_module": "@jupyter-widgets/controls",
      "model_module_version": "1.5.0",
      "model_name": "ButtonStyleModel",
      "state": {}
     },
     "a3501e3489824a398d982076ebc42cce": {
      "model_module": "@jupyter-widgets/base",
      "model_module_version": "1.2.0",
      "model_name": "LayoutModel",
      "state": {
       "width": "95%"
      }
     },
     "a35b5ab9aa6f447e83316965b82bf611": {
      "model_module": "@jupyter-widgets/controls",
      "model_module_version": "1.5.0",
      "model_name": "VBoxModel",
      "state": {
       "children": [
        "IPY_MODEL_aa0897306a56441b8a170fe496b210a6",
        "IPY_MODEL_0c430869cd99434fa5d3775049d1ccc1"
       ],
       "layout": "IPY_MODEL_f6761e5128094b379975e8e83d178ecf"
      }
     },
     "a38b4ad865bc4533ba51e252c7d5414a": {
      "model_module": "@jupyter-widgets/controls",
      "model_module_version": "1.5.0",
      "model_name": "ButtonStyleModel",
      "state": {}
     },
     "a396a393a29d48a0bf87166aba5029ec": {
      "model_module": "@jupyter-widgets/controls",
      "model_module_version": "1.5.0",
      "model_name": "VBoxModel",
      "state": {
       "children": [
        "IPY_MODEL_8f4bad10f8214c2686e8de05e612a270",
        "IPY_MODEL_6d6b4e8634334d81927318b966eb8075"
       ],
       "layout": "IPY_MODEL_c54a5550c9bf4a55b0490f7dfb65385a"
      }
     },
     "a3a69cc36c7b44d2ad87f2b031a00e8a": {
      "model_module": "@jupyter-widgets/controls",
      "model_module_version": "1.5.0",
      "model_name": "ButtonStyleModel",
      "state": {}
     },
     "a408980ed4d14c90abfd31d8aa7b35fc": {
      "model_module": "@jupyter-widgets/base",
      "model_module_version": "1.2.0",
      "model_name": "LayoutModel",
      "state": {}
     },
     "a426ef5d439a43b9b152e63e4e4555e0": {
      "model_module": "@jupyter-widgets/base",
      "model_module_version": "1.2.0",
      "model_name": "LayoutModel",
      "state": {}
     },
     "a438a3819d6b4fd6983c041e9996c858": {
      "model_module": "@jupyter-widgets/output",
      "model_module_version": "1.0.0",
      "model_name": "OutputModel",
      "state": {
       "layout": "IPY_MODEL_c6e656b6b41a403a8be0ddea10138ad8"
      }
     },
     "a44e86cd27084e20bfbcf927cd8c5e4e": {
      "model_module": "@jupyter-widgets/base",
      "model_module_version": "1.2.0",
      "model_name": "LayoutModel",
      "state": {}
     },
     "a45423fce3a941458dbe930f7b75b330": {
      "model_module": "@jupyter-widgets/controls",
      "model_module_version": "1.5.0",
      "model_name": "HBoxModel",
      "state": {
       "children": [
        "IPY_MODEL_7efcfccd2b54424eaf65c7b487491c59",
        "IPY_MODEL_4a90d5ef93b948e5a4f6961a219c11da",
        "IPY_MODEL_8da4ca5bef5b4127b2ddbe433a112356"
       ],
       "layout": "IPY_MODEL_6ceeb44c1e8b4729b1a0e4e2b9b9fd8f"
      }
     },
     "a477ae5f733b4773909a4276b7eecb9c": {
      "model_module": "@jupyter-widgets/base",
      "model_module_version": "1.2.0",
      "model_name": "LayoutModel",
      "state": {
       "width": "95%"
      }
     },
     "a48e60a93336441ea469e79e19bd6c9e": {
      "model_module": "@jupyter-widgets/controls",
      "model_module_version": "1.5.0",
      "model_name": "VBoxModel",
      "state": {
       "children": [
        "IPY_MODEL_b0a398068fa941228a27310ee43b9309",
        "IPY_MODEL_c6cc4773d43a4f5aa02307411e02ad4c"
       ],
       "layout": "IPY_MODEL_98f262e6c85d46b0a3866dd02b0f2949"
      }
     },
     "a49855d2d591484f88a3a8f5b6eacf4b": {
      "model_module": "@jupyter-widgets/controls",
      "model_module_version": "1.5.0",
      "model_name": "VBoxModel",
      "state": {
       "children": [
        "IPY_MODEL_569d077e3f174a849f944c6aec7bf055",
        "IPY_MODEL_b364a589ce364377a2d2b1e315df8fa4"
       ],
       "layout": "IPY_MODEL_6a18d479bd03408e9855f60e02c2cdff"
      }
     },
     "a4b484cb824344fd80a8a2e1c1391099": {
      "model_module": "@jupyter-widgets/controls",
      "model_module_version": "1.5.0",
      "model_name": "ButtonModel",
      "state": {
       "description": "1",
       "layout": "IPY_MODEL_881ba6d4c0854460bc8c6e3deb785167",
       "style": "IPY_MODEL_4f7df22c22d34877b2587b72e91cd60e"
      }
     },
     "a4ca57d82ee54e1aa2fa42ab0c0535b9": {
      "model_module": "@jupyter-widgets/base",
      "model_module_version": "1.2.0",
      "model_name": "LayoutModel",
      "state": {
       "width": "10%"
      }
     },
     "a4fed757121d47a1b6cc691babdadd51": {
      "model_module": "@jupyter-widgets/base",
      "model_module_version": "1.2.0",
      "model_name": "LayoutModel",
      "state": {}
     },
     "a5039f314eeb4ae2ba761a35f8966124": {
      "model_module": "@jupyter-widgets/base",
      "model_module_version": "1.2.0",
      "model_name": "LayoutModel",
      "state": {}
     },
     "a51e412c8ead4414b3058b54af9a6290": {
      "model_module": "@jupyter-widgets/base",
      "model_module_version": "1.2.0",
      "model_name": "LayoutModel",
      "state": {
       "width": "95%"
      }
     },
     "a57ceec4557c48428ccab7c85bdfa47b": {
      "model_module": "@jupyter-widgets/base",
      "model_module_version": "1.2.0",
      "model_name": "LayoutModel",
      "state": {
       "width": "10%"
      }
     },
     "a59892273cd64cbe8b8044486e59bd5f": {
      "model_module": "@jupyter-widgets/base",
      "model_module_version": "1.2.0",
      "model_name": "LayoutModel",
      "state": {}
     },
     "a59f03ce6e144be3adb96a893bea69da": {
      "model_module": "@jupyter-widgets/base",
      "model_module_version": "1.2.0",
      "model_name": "LayoutModel",
      "state": {}
     },
     "a5a7a67f2fa54e16b4501aab2711aec1": {
      "model_module": "@jupyter-widgets/base",
      "model_module_version": "1.2.0",
      "model_name": "LayoutModel",
      "state": {
       "width": "10%"
      }
     },
     "a5e36dbecc694d728c55d9a1d18f5b53": {
      "model_module": "@jupyter-widgets/controls",
      "model_module_version": "1.5.0",
      "model_name": "VBoxModel",
      "state": {
       "children": [
        "IPY_MODEL_43c27dfa45844ebda9b2da95fd4d7a4b",
        "IPY_MODEL_df1703006d444f98aafbc42225e1e1c4"
       ],
       "layout": "IPY_MODEL_ebb2be88dc444410bf960e3f6b91df4a"
      }
     },
     "a64deb790528423398f7dccfe73a4fa3": {
      "model_module": "@jupyter-widgets/base",
      "model_module_version": "1.2.0",
      "model_name": "LayoutModel",
      "state": {
       "width": "95%"
      }
     },
     "a6b635eb33ed488ea3bfd33439b90deb": {
      "model_module": "@jupyter-widgets/base",
      "model_module_version": "1.2.0",
      "model_name": "LayoutModel",
      "state": {
       "width": "10%"
      }
     },
     "a6f282383d1944778bee84fd524d67cd": {
      "model_module": "@jupyter-widgets/base",
      "model_module_version": "1.2.0",
      "model_name": "LayoutModel",
      "state": {
       "width": "95%"
      }
     },
     "a7167984d08840a697aa46428cdbf341": {
      "model_module": "@jupyter-widgets/output",
      "model_module_version": "1.0.0",
      "model_name": "OutputModel",
      "state": {
       "layout": "IPY_MODEL_5373c8b6015d44ca96171df179980039"
      }
     },
     "a78b867cac7b4d5a95324a5cb3fb067c": {
      "model_module": "@jupyter-widgets/controls",
      "model_module_version": "1.5.0",
      "model_name": "ButtonModel",
      "state": {
       "description": "3",
       "layout": "IPY_MODEL_245658ce08b84fdd8268e41f4c74c5ea",
       "style": "IPY_MODEL_93cf12af07d540228fcbf5e30577f734"
      }
     },
     "a804896b140340e5a8f9f1eaf31e72cd": {
      "model_module": "@jupyter-widgets/controls",
      "model_module_version": "1.5.0",
      "model_name": "VBoxModel",
      "state": {
       "children": [
        "IPY_MODEL_12ecd7db14004c6a9c714a2341f3ed0d",
        "IPY_MODEL_08c44ac70d7a4f57bf0e7f8a3e0bbca2"
       ],
       "layout": "IPY_MODEL_bf9885b0f8e44ada924ef2966f66eba1"
      }
     },
     "a816ff64baf249c3b836bcd2e65c74dd": {
      "model_module": "@jupyter-widgets/base",
      "model_module_version": "1.2.0",
      "model_name": "LayoutModel",
      "state": {}
     },
     "a8194311b2a14c0aa017b3bc66a9e941": {
      "model_module": "@jupyter-widgets/controls",
      "model_module_version": "1.5.0",
      "model_name": "ButtonModel",
      "state": {
       "description": "6",
       "layout": "IPY_MODEL_289e2989bc3745bca6c2d3305a0af7b0",
       "style": "IPY_MODEL_66ac18f095e540089f95da9628b2b0d6"
      }
     },
     "a823d5e45cce4384b2446d37d9bff40f": {
      "model_module": "@jupyter-widgets/base",
      "model_module_version": "1.2.0",
      "model_name": "LayoutModel",
      "state": {
       "width": "10%"
      }
     },
     "a8673adaa3e84ee19640df5e9ca49af4": {
      "model_module": "@jupyter-widgets/controls",
      "model_module_version": "1.5.0",
      "model_name": "ButtonModel",
      "state": {
       "description": "5",
       "layout": "IPY_MODEL_41dc53adbb814c3fa6b491007783f810",
       "style": "IPY_MODEL_da2d011461c64812b936727593cce151"
      }
     },
     "a8901ab2a646450192600aea01e7454c": {
      "model_module": "@jupyter-widgets/base",
      "model_module_version": "1.2.0",
      "model_name": "LayoutModel",
      "state": {
       "width": "10%"
      }
     },
     "a8aa534540354f73b79ff21e7cd741d8": {
      "model_module": "@jupyter-widgets/output",
      "model_module_version": "1.0.0",
      "model_name": "OutputModel",
      "state": {
       "layout": "IPY_MODEL_21ef674094c34de3adb9736ca6e8bbdd"
      }
     },
     "a8bb72a150ab41fda4fd277416ee08fe": {
      "model_module": "@jupyter-widgets/base",
      "model_module_version": "1.2.0",
      "model_name": "LayoutModel",
      "state": {
       "width": "10%"
      }
     },
     "a9089b50e54e4ba4a03ca5b9497c3dab": {
      "model_module": "@jupyter-widgets/output",
      "model_module_version": "1.0.0",
      "model_name": "OutputModel",
      "state": {
       "layout": "IPY_MODEL_da20ddf3b8f4479388e3be69e1b56bf2"
      }
     },
     "a914967f89734d2bb0cc5862b273cf37": {
      "model_module": "@jupyter-widgets/controls",
      "model_module_version": "1.5.0",
      "model_name": "ButtonModel",
      "state": {
       "description": "4",
       "layout": "IPY_MODEL_c3727e2cc2a74ab19ea426e0dc1de8ff",
       "style": "IPY_MODEL_5b7880594d314efebbec1b1fb65c9f1b"
      }
     },
     "a96324ff886a4b0bb0d2f13486a013b2": {
      "model_module": "@jupyter-widgets/base",
      "model_module_version": "1.2.0",
      "model_name": "LayoutModel",
      "state": {
       "justify_content": "space-between"
      }
     },
     "a9c77a1112e94d189c4809580f5b8455": {
      "model_module": "@jupyter-widgets/base",
      "model_module_version": "1.2.0",
      "model_name": "LayoutModel",
      "state": {
       "width": "10%"
      }
     },
     "a9d3215e725f4eeb872ff6e5c079fe2d": {
      "model_module": "@jupyter-widgets/base",
      "model_module_version": "1.2.0",
      "model_name": "LayoutModel",
      "state": {}
     },
     "aa0897306a56441b8a170fe496b210a6": {
      "model_module": "@jupyter-widgets/controls",
      "model_module_version": "1.5.0",
      "model_name": "ButtonModel",
      "state": {
       "description": "9",
       "layout": "IPY_MODEL_9720771bc9cf480b96107f5aa820d040",
       "style": "IPY_MODEL_cb8cfd03418647a780da454776878987"
      }
     },
     "aa19fc59fdf54708a5ac080b0c6de65e": {
      "model_module": "@jupyter-widgets/output",
      "model_module_version": "1.0.0",
      "model_name": "OutputModel",
      "state": {
       "layout": "IPY_MODEL_1cd6eb8c6772441e808a3c3c38fb4aea"
      }
     },
     "aa47496d96b14f45a4bb53188eb5f6fa": {
      "model_module": "@jupyter-widgets/base",
      "model_module_version": "1.2.0",
      "model_name": "LayoutModel",
      "state": {}
     },
     "aa94091fddf54970917aba6b97cd86f0": {
      "model_module": "@jupyter-widgets/base",
      "model_module_version": "1.2.0",
      "model_name": "LayoutModel",
      "state": {
       "justify_content": "space-between"
      }
     },
     "aadd8e64d8cc4ddf9a79f1b990bf263b": {
      "model_module": "@jupyter-widgets/base",
      "model_module_version": "1.2.0",
      "model_name": "LayoutModel",
      "state": {
       "width": "95%"
      }
     },
     "aae592724ea2455ca197662e25d76810": {
      "model_module": "@jupyter-widgets/controls",
      "model_module_version": "1.5.0",
      "model_name": "ButtonStyleModel",
      "state": {}
     },
     "ab92b6e0dec54451884d7d878423441a": {
      "model_module": "@jupyter-widgets/controls",
      "model_module_version": "1.5.0",
      "model_name": "ButtonStyleModel",
      "state": {}
     },
     "abd9b942613349d48d5b2b15d740b663": {
      "model_module": "@jupyter-widgets/controls",
      "model_module_version": "1.5.0",
      "model_name": "ButtonModel",
      "state": {
       "description": "5",
       "layout": "IPY_MODEL_a6f282383d1944778bee84fd524d67cd",
       "style": "IPY_MODEL_1b36120d757b4b969871b913137af413"
      }
     },
     "ac69b50a4cd542a2bcc3cbbb78e04dbe": {
      "model_module": "@jupyter-widgets/base",
      "model_module_version": "1.2.0",
      "model_name": "LayoutModel",
      "state": {}
     },
     "ac84a1270a12464d8c51d004d5072b5c": {
      "model_module": "@jupyter-widgets/base",
      "model_module_version": "1.2.0",
      "model_name": "LayoutModel",
      "state": {
       "width": "95%"
      }
     },
     "ad204897fb08463896b477ea6a1de7ef": {
      "model_module": "@jupyter-widgets/base",
      "model_module_version": "1.2.0",
      "model_name": "LayoutModel",
      "state": {
       "width": "95%"
      }
     },
     "ad228a7b2eef459f9571b8d2e2b7fa15": {
      "model_module": "@jupyter-widgets/controls",
      "model_module_version": "1.5.0",
      "model_name": "ButtonModel",
      "state": {
       "description": "1",
       "layout": "IPY_MODEL_c80495030c594ef5bc23019a7720644f",
       "style": "IPY_MODEL_65f4f5d59d0b4358a702f921d8609ff5"
      }
     },
     "ad372861064d41d7a211aa3fe962f172": {
      "model_module": "@jupyter-widgets/controls",
      "model_module_version": "1.5.0",
      "model_name": "ButtonStyleModel",
      "state": {}
     },
     "ada019438d77455a8f07d38ddc5b0dae": {
      "model_module": "@jupyter-widgets/base",
      "model_module_version": "1.2.0",
      "model_name": "LayoutModel",
      "state": {
       "width": "95%"
      }
     },
     "ade3c652dd804e6996279a3af362d127": {
      "model_module": "@jupyter-widgets/controls",
      "model_module_version": "1.5.0",
      "model_name": "ButtonStyleModel",
      "state": {}
     },
     "ae0211624b1d4471a76908dd4c51a81c": {
      "model_module": "@jupyter-widgets/base",
      "model_module_version": "1.2.0",
      "model_name": "LayoutModel",
      "state": {}
     },
     "ae0d8e6c825440eb95bcb3684564dba8": {
      "model_module": "@jupyter-widgets/base",
      "model_module_version": "1.2.0",
      "model_name": "LayoutModel",
      "state": {
       "justify_content": "space-between"
      }
     },
     "ae3873fabc404ba3910523e3a110c1a3": {
      "model_module": "@jupyter-widgets/base",
      "model_module_version": "1.2.0",
      "model_name": "LayoutModel",
      "state": {}
     },
     "ae6f20ffb1cd48abb56a87d0cb3c29d6": {
      "model_module": "@jupyter-widgets/output",
      "model_module_version": "1.0.0",
      "model_name": "OutputModel",
      "state": {
       "layout": "IPY_MODEL_f91215c2845a4ab0b095bcf056a0d274"
      }
     },
     "aed985accf9b4112b9cb0e3034918b40": {
      "model_module": "@jupyter-widgets/output",
      "model_module_version": "1.0.0",
      "model_name": "OutputModel",
      "state": {
       "layout": "IPY_MODEL_c4bac1a1c1b546ef91fa37612bb7b3d8"
      }
     },
     "aedd251c299a44ab8ac9614725b6192a": {
      "model_module": "@jupyter-widgets/controls",
      "model_module_version": "1.5.0",
      "model_name": "VBoxModel",
      "state": {
       "children": [
        "IPY_MODEL_753e2084209049b381f37dc8cd619705",
        "IPY_MODEL_9ace80bbdf674b98b6ce839e1624db04"
       ],
       "layout": "IPY_MODEL_cfc3c5a4865342258c4b8bbbf3cfaa07"
      }
     },
     "af052c5a92774cad9345aeabc4848352": {
      "model_module": "@jupyter-widgets/controls",
      "model_module_version": "1.5.0",
      "model_name": "ButtonStyleModel",
      "state": {}
     },
     "af35749202e04fa1a6313041edfe5cc9": {
      "model_module": "@jupyter-widgets/base",
      "model_module_version": "1.2.0",
      "model_name": "LayoutModel",
      "state": {}
     },
     "af39235ca2644411a4346156811c9b9e": {
      "model_module": "@jupyter-widgets/controls",
      "model_module_version": "1.5.0",
      "model_name": "HBoxModel",
      "state": {
       "children": [
        "IPY_MODEL_973806dcc06a47e982955f8cada64723",
        "IPY_MODEL_7cfdde7405fa45cf9880c03be95780b6",
        "IPY_MODEL_02ee1ebf558449419a669b2e40ed2620",
        "IPY_MODEL_921af5530a704e5695f111b9f28086a5",
        "IPY_MODEL_af718ae8999b4e81a2355b8983597364",
        "IPY_MODEL_280f26b8c12d4fbf8c555c436e087530",
        "IPY_MODEL_4852ffc68af146bba891684a3b1ac2f7",
        "IPY_MODEL_e74f30acb4d248dea24f7ed6b7e69dfb",
        "IPY_MODEL_d9e98a00bd1042958491b86ae1c55dc5",
        "IPY_MODEL_91f3d38524754132a98160784592e07a"
       ],
       "layout": "IPY_MODEL_5c88dc1c08754572ac6ca568b4c8e54a"
      }
     },
     "af639557a4f54ca2a35d1258493dd741": {
      "model_module": "@jupyter-widgets/controls",
      "model_module_version": "1.5.0",
      "model_name": "ButtonStyleModel",
      "state": {}
     },
     "af718ae8999b4e81a2355b8983597364": {
      "model_module": "@jupyter-widgets/controls",
      "model_module_version": "1.5.0",
      "model_name": "VBoxModel",
      "state": {
       "children": [
        "IPY_MODEL_58856c3699f94bd2b34977848d867d08",
        "IPY_MODEL_739ba0dbf9094de4b77ec35c912fe147"
       ],
       "layout": "IPY_MODEL_1212080af4ec4bc19abceec55321cf0e"
      }
     },
     "af87e83a5261484e8eb2f9f5850ad5ce": {
      "model_module": "@jupyter-widgets/controls",
      "model_module_version": "1.5.0",
      "model_name": "VBoxModel",
      "state": {
       "children": [
        "IPY_MODEL_2509eb96febf4f01b8af26904af3a9ed",
        "IPY_MODEL_016fde57d99d49d7a019ed6312b1218b"
       ],
       "layout": "IPY_MODEL_a05ca45ef4a6437884c9f2c351daca60"
      }
     },
     "afb3815777cc47e5ac3c987e3158fa39": {
      "model_module": "@jupyter-widgets/base",
      "model_module_version": "1.2.0",
      "model_name": "LayoutModel",
      "state": {
       "width": "10%"
      }
     },
     "b00e4b6ad583408d98a71915370ff61c": {
      "model_module": "@jupyter-widgets/base",
      "model_module_version": "1.2.0",
      "model_name": "LayoutModel",
      "state": {
       "width": "95%"
      }
     },
     "b0509a27632e4787b7d5c9d367f95ac7": {
      "model_module": "@jupyter-widgets/base",
      "model_module_version": "1.2.0",
      "model_name": "LayoutModel",
      "state": {
       "width": "95%"
      }
     },
     "b065613c27984a5e81a6152948ffc455": {
      "model_module": "@jupyter-widgets/base",
      "model_module_version": "1.2.0",
      "model_name": "LayoutModel",
      "state": {
       "justify_content": "space-between"
      }
     },
     "b0a398068fa941228a27310ee43b9309": {
      "model_module": "@jupyter-widgets/controls",
      "model_module_version": "1.5.0",
      "model_name": "ButtonModel",
      "state": {
       "description": "0",
       "layout": "IPY_MODEL_958ede9ae00c4bb6a35e4ebdf0ceb326",
       "style": "IPY_MODEL_c83bdfe5388a49729caa10b0c75ba88a"
      }
     },
     "b0a5696bc79f41cfb249b2040be8ee82": {
      "model_module": "@jupyter-widgets/base",
      "model_module_version": "1.2.0",
      "model_name": "LayoutModel",
      "state": {}
     },
     "b0b5fb44645c4efd81995ac698e725a9": {
      "model_module": "@jupyter-widgets/controls",
      "model_module_version": "1.5.0",
      "model_name": "HBoxModel",
      "state": {
       "children": [
        "IPY_MODEL_0591b97726bc4b9c9d43869bed051971",
        "IPY_MODEL_bfa1a406940242d6bce06a22e82d1baa",
        "IPY_MODEL_37cfbb2ca08b4105a261d53209e394cf",
        "IPY_MODEL_a19e92e41a0f4ccc8661274b0d73265e",
        "IPY_MODEL_a49855d2d591484f88a3a8f5b6eacf4b",
        "IPY_MODEL_d3966ef6d5ac443888292a38f43b6002",
        "IPY_MODEL_42891a2368e946e89ba38ef4e4fe3bf7",
        "IPY_MODEL_9494cd30d8c641e7ab0660d6fe632502",
        "IPY_MODEL_f1c8b0aba20940928fe7e1756b7e2679",
        "IPY_MODEL_74d525a2ffc644559ebd4637795c9368"
       ],
       "layout": "IPY_MODEL_0fabb03aa7984695954bb4d8ac87e617"
      }
     },
     "b0daff0fbbbf4cf09191d4a35d3abc95": {
      "model_module": "@jupyter-widgets/base",
      "model_module_version": "1.2.0",
      "model_name": "LayoutModel",
      "state": {
       "width": "95%"
      }
     },
     "b12009db0960461aa9bfd8df44d80b8d": {
      "model_module": "@jupyter-widgets/base",
      "model_module_version": "1.2.0",
      "model_name": "LayoutModel",
      "state": {
       "width": "10%"
      }
     },
     "b121b8b8d88d4aacbf33c1159880932c": {
      "model_module": "@jupyter-widgets/controls",
      "model_module_version": "1.5.0",
      "model_name": "VBoxModel",
      "state": {
       "children": [
        "IPY_MODEL_0ee29e53180f4867b7ea7a5236a88ebb",
        "IPY_MODEL_a9089b50e54e4ba4a03ca5b9497c3dab"
       ],
       "layout": "IPY_MODEL_a04e1743a6f2420fa7c3417207a19d47"
      }
     },
     "b13e5a0bce7d48dd9eab0e12e513825a": {
      "model_module": "@jupyter-widgets/base",
      "model_module_version": "1.2.0",
      "model_name": "LayoutModel",
      "state": {
       "width": "95%"
      }
     },
     "b15d208304f74a7abe92961ecbf277c6": {
      "model_module": "@jupyter-widgets/controls",
      "model_module_version": "1.5.0",
      "model_name": "ButtonStyleModel",
      "state": {}
     },
     "b15dad3e02c7461fae566af8cf88ea39": {
      "model_module": "@jupyter-widgets/controls",
      "model_module_version": "1.5.0",
      "model_name": "VBoxModel",
      "state": {
       "children": [
        "IPY_MODEL_b688a0ae404f481781eefac5faa0a9ec",
        "IPY_MODEL_ff4c69d1bed94be986a67d5964356b69"
       ],
       "layout": "IPY_MODEL_655fd54c86de4774b07dfcebdee6ffa9"
      }
     },
     "b1733f8e0de34c5d83f231270ee3320e": {
      "model_module": "@jupyter-widgets/controls",
      "model_module_version": "1.5.0",
      "model_name": "ButtonStyleModel",
      "state": {}
     },
     "b17d1ccaf684449f802089a3916c234b": {
      "model_module": "@jupyter-widgets/base",
      "model_module_version": "1.2.0",
      "model_name": "LayoutModel",
      "state": {}
     },
     "b1feb194b05d4bd0a00c64f649ebd0f9": {
      "model_module": "@jupyter-widgets/base",
      "model_module_version": "1.2.0",
      "model_name": "LayoutModel",
      "state": {
       "width": "10%"
      }
     },
     "b245e7055a7340cd8f4585200cc7b692": {
      "model_module": "@jupyter-widgets/controls",
      "model_module_version": "1.5.0",
      "model_name": "VBoxModel",
      "state": {
       "children": [
        "IPY_MODEL_8c74c4c5146849e2bba4839519711443",
        "IPY_MODEL_642ef6990da9467489e96995cfc6c3aa"
       ],
       "layout": "IPY_MODEL_19b469548bc9411b98e588fc2d3c8c65"
      }
     },
     "b246fff6927746c7936d3a91d9047fbe": {
      "model_module": "@jupyter-widgets/controls",
      "model_module_version": "1.5.0",
      "model_name": "ButtonStyleModel",
      "state": {}
     },
     "b28a99c51e0047deb7c36d27db575128": {
      "model_module": "@jupyter-widgets/base",
      "model_module_version": "1.2.0",
      "model_name": "LayoutModel",
      "state": {
       "width": "10%"
      }
     },
     "b2a6e5fa5dba4fbd8c86106a34264420": {
      "model_module": "@jupyter-widgets/base",
      "model_module_version": "1.2.0",
      "model_name": "LayoutModel",
      "state": {
       "width": "10%"
      }
     },
     "b2cbc58ba093485994bb339e84acf8a7": {
      "model_module": "@jupyter-widgets/base",
      "model_module_version": "1.2.0",
      "model_name": "LayoutModel",
      "state": {
       "width": "95%"
      }
     },
     "b2faf1507b0e48989f2361378ddba24b": {
      "model_module": "@jupyter-widgets/base",
      "model_module_version": "1.2.0",
      "model_name": "LayoutModel",
      "state": {
       "justify_content": "space-between"
      }
     },
     "b2fc326627cb456cbed6fcce1890678a": {
      "model_module": "@jupyter-widgets/base",
      "model_module_version": "1.2.0",
      "model_name": "LayoutModel",
      "state": {
       "width": "95%"
      }
     },
     "b326fa6842864092871eb5fa93a98b86": {
      "model_module": "@jupyter-widgets/base",
      "model_module_version": "1.2.0",
      "model_name": "LayoutModel",
      "state": {}
     },
     "b364a589ce364377a2d2b1e315df8fa4": {
      "model_module": "@jupyter-widgets/output",
      "model_module_version": "1.0.0",
      "model_name": "OutputModel",
      "state": {
       "layout": "IPY_MODEL_c2a941c87660406fb2b605c258da8f35"
      }
     },
     "b3da3171e04b4853882146a79019e92c": {
      "model_module": "@jupyter-widgets/base",
      "model_module_version": "1.2.0",
      "model_name": "LayoutModel",
      "state": {}
     },
     "b3da8ded1e1f4ff2b074fbfa25ac18ff": {
      "model_module": "@jupyter-widgets/base",
      "model_module_version": "1.2.0",
      "model_name": "LayoutModel",
      "state": {
       "width": "95%"
      }
     },
     "b44d04d2963849baad4992c3c6737b90": {
      "model_module": "@jupyter-widgets/base",
      "model_module_version": "1.2.0",
      "model_name": "LayoutModel",
      "state": {
       "width": "10%"
      }
     },
     "b47e91b345e444c2ad8f83891c38d76c": {
      "model_module": "@jupyter-widgets/controls",
      "model_module_version": "1.5.0",
      "model_name": "VBoxModel",
      "state": {
       "children": [
        "IPY_MODEL_ad228a7b2eef459f9571b8d2e2b7fa15",
        "IPY_MODEL_b4a784d66fd64a6587c24ba0015daefc"
       ],
       "layout": "IPY_MODEL_ea3a32a0c5154e29ae20e7c16d913904"
      }
     },
     "b4860f6b054142d48558daab10a61386": {
      "model_module": "@jupyter-widgets/output",
      "model_module_version": "1.0.0",
      "model_name": "OutputModel",
      "state": {
       "layout": "IPY_MODEL_445d60820af8482d9b4c62a930ce99f8"
      }
     },
     "b4a784d66fd64a6587c24ba0015daefc": {
      "model_module": "@jupyter-widgets/output",
      "model_module_version": "1.0.0",
      "model_name": "OutputModel",
      "state": {
       "layout": "IPY_MODEL_46eb0e071a244acaa8ea4d5f140aa4cb"
      }
     },
     "b4b9c3dabdaa4ff7bacf587a9d830d1c": {
      "model_module": "@jupyter-widgets/controls",
      "model_module_version": "1.5.0",
      "model_name": "VBoxModel",
      "state": {
       "children": [
        "IPY_MODEL_e4b91eb5f313407f91c76479b39827b2",
        "IPY_MODEL_2919a2bcacac447ba04bc5859a965cfa"
       ],
       "layout": "IPY_MODEL_b75d2df952924e2b861675356ed72def"
      }
     },
     "b50799b90c2c49e0b18aa48fb26dbce1": {
      "model_module": "@jupyter-widgets/controls",
      "model_module_version": "1.5.0",
      "model_name": "ButtonModel",
      "state": {
       "description": "3",
       "layout": "IPY_MODEL_c21d6d9544884000adde5c1b8aa00909",
       "style": "IPY_MODEL_7ae3ff00b56748c6ba7a1a0e84087ab3"
      }
     },
     "b51ba7692d9d49aea0ed6909f7e3fe9d": {
      "model_module": "@jupyter-widgets/controls",
      "model_module_version": "1.5.0",
      "model_name": "VBoxModel",
      "state": {
       "children": [
        "IPY_MODEL_e6415d6d02fe4a5ba18782fc7d3bf202",
        "IPY_MODEL_d17ddcf1432245ecb575add5c77b911d"
       ],
       "layout": "IPY_MODEL_7656420c87744591ac22a223595bfd95"
      }
     },
     "b551c8ad5ea9445c97a23eb470191143": {
      "model_module": "@jupyter-widgets/base",
      "model_module_version": "1.2.0",
      "model_name": "LayoutModel",
      "state": {
       "width": "95%"
      }
     },
     "b57ed501b4c547ddb3880f9f35e63995": {
      "model_module": "@jupyter-widgets/base",
      "model_module_version": "1.2.0",
      "model_name": "LayoutModel",
      "state": {
       "width": "10%"
      }
     },
     "b5e86ad837924cbf9f549d68286ab633": {
      "model_module": "@jupyter-widgets/output",
      "model_module_version": "1.0.0",
      "model_name": "OutputModel",
      "state": {
       "layout": "IPY_MODEL_f8a7293a787d461ca7c6c6f8a5dded66"
      }
     },
     "b5e98a5f585e4a3dbf8da065147003d9": {
      "model_module": "@jupyter-widgets/base",
      "model_module_version": "1.2.0",
      "model_name": "LayoutModel",
      "state": {
       "width": "95%"
      }
     },
     "b6495bf40d3b486c8077a471a85f3a61": {
      "model_module": "@jupyter-widgets/controls",
      "model_module_version": "1.5.0",
      "model_name": "VBoxModel",
      "state": {
       "children": [
        "IPY_MODEL_5c0dfebadf494cf6a79d73e40204133f",
        "IPY_MODEL_d25076d4739d4c3cbe2b6064c9c3b21f"
       ],
       "layout": "IPY_MODEL_c460a191a0b84b9a8b54090298390e84"
      }
     },
     "b688a0ae404f481781eefac5faa0a9ec": {
      "model_module": "@jupyter-widgets/controls",
      "model_module_version": "1.5.0",
      "model_name": "ButtonModel",
      "state": {
       "description": "7",
       "layout": "IPY_MODEL_a3501e3489824a398d982076ebc42cce",
       "style": "IPY_MODEL_f714bef8c9b3494590e80b8a6a81fc48"
      }
     },
     "b6c1ce8eb7fe4cda8c2c75bd60735487": {
      "model_module": "@jupyter-widgets/controls",
      "model_module_version": "1.5.0",
      "model_name": "VBoxModel",
      "state": {
       "children": [
        "IPY_MODEL_0b2b3f877d2248219aa79a8b475da6ca",
        "IPY_MODEL_517f363e261d485786478e77bfef0c27"
       ],
       "layout": "IPY_MODEL_00a2a5e9332c414a99f12f5bcb9465a8"
      }
     },
     "b70633a2b78d4ed7a0e989fe4bae921a": {
      "model_module": "@jupyter-widgets/controls",
      "model_module_version": "1.5.0",
      "model_name": "ButtonModel",
      "state": {
       "description": "5",
       "layout": "IPY_MODEL_1bcf23359d1a4448a0f1245463cab93b",
       "style": "IPY_MODEL_7b41c5d2e6de4d2eb2c6bef7e3cfbaba"
      }
     },
     "b747b9b3b1304413b9b5a92a49960776": {
      "model_module": "@jupyter-widgets/base",
      "model_module_version": "1.2.0",
      "model_name": "LayoutModel",
      "state": {
       "width": "95%"
      }
     },
     "b75d2df952924e2b861675356ed72def": {
      "model_module": "@jupyter-widgets/base",
      "model_module_version": "1.2.0",
      "model_name": "LayoutModel",
      "state": {
       "width": "10%"
      }
     },
     "b76df7cd2a9d445db43f9182c64db75d": {
      "model_module": "@jupyter-widgets/output",
      "model_module_version": "1.0.0",
      "model_name": "OutputModel",
      "state": {
       "layout": "IPY_MODEL_4e1953df7c534003ae37542b381f23e8"
      }
     },
     "b776426819084b46ae0acaa48b38a6cb": {
      "model_module": "@jupyter-widgets/base",
      "model_module_version": "1.2.0",
      "model_name": "LayoutModel",
      "state": {}
     },
     "b7b2e891898c4328913925c4e9c24fa4": {
      "model_module": "@jupyter-widgets/base",
      "model_module_version": "1.2.0",
      "model_name": "LayoutModel",
      "state": {}
     },
     "b800ad48108b48a9b88edd9c8f5270da": {
      "model_module": "@jupyter-widgets/base",
      "model_module_version": "1.2.0",
      "model_name": "LayoutModel",
      "state": {}
     },
     "b80408aa4a3a4cda97d7f77aed79ef40": {
      "model_module": "@jupyter-widgets/base",
      "model_module_version": "1.2.0",
      "model_name": "LayoutModel",
      "state": {
       "width": "10%"
      }
     },
     "b864f3b8c563443fa75f24192a72c1b3": {
      "model_module": "@jupyter-widgets/base",
      "model_module_version": "1.2.0",
      "model_name": "LayoutModel",
      "state": {
       "width": "95%"
      }
     },
     "b865ca61a91643cf925c855f3a6f1050": {
      "model_module": "@jupyter-widgets/base",
      "model_module_version": "1.2.0",
      "model_name": "LayoutModel",
      "state": {
       "width": "95%"
      }
     },
     "b8bf58d5d0554c159c5fdbfc3871a3a4": {
      "model_module": "@jupyter-widgets/controls",
      "model_module_version": "1.5.0",
      "model_name": "VBoxModel",
      "state": {
       "children": [
        "IPY_MODEL_944d6dfe5a6d4f96a432b415560ab11c",
        "IPY_MODEL_87fd8f68496d449f908b2ff198bd358a"
       ],
       "layout": "IPY_MODEL_c5cabe48d84746e19678ba9cf5343d6c"
      }
     },
     "b9674ced32b64e198cd3c7056e4026fe": {
      "model_module": "@jupyter-widgets/base",
      "model_module_version": "1.2.0",
      "model_name": "LayoutModel",
      "state": {}
     },
     "b97c71baaca846e5865adb55d060b435": {
      "model_module": "@jupyter-widgets/controls",
      "model_module_version": "1.5.0",
      "model_name": "HBoxModel",
      "state": {
       "children": [
        "IPY_MODEL_7efcfccd2b54424eaf65c7b487491c59",
        "IPY_MODEL_4a90d5ef93b948e5a4f6961a219c11da",
        "IPY_MODEL_8da4ca5bef5b4127b2ddbe433a112356"
       ],
       "layout": "IPY_MODEL_6150bc2e21c34018bd49f3cac392d292"
      }
     },
     "b9bb2c5d7d154b46879fa056a715d65a": {
      "model_module": "@jupyter-widgets/output",
      "model_module_version": "1.0.0",
      "model_name": "OutputModel",
      "state": {
       "layout": "IPY_MODEL_1c6f7b57aa254454a0132e161a45c1e3"
      }
     },
     "b9ccaedb7c184c37b067391f59554cff": {
      "model_module": "@jupyter-widgets/controls",
      "model_module_version": "1.5.0",
      "model_name": "VBoxModel",
      "state": {
       "children": [
        "IPY_MODEL_95379a7aa48946fbbd6b6fb9fdd61ec5",
        "IPY_MODEL_9162a59012f74307b13019c5f2a00ed0"
       ],
       "layout": "IPY_MODEL_6240cfafb3eb49f1ad4f29a1d4eda450"
      }
     },
     "b9d4a647e8af4a319c254ec5e8c19a4c": {
      "model_module": "@jupyter-widgets/controls",
      "model_module_version": "1.5.0",
      "model_name": "ButtonStyleModel",
      "state": {}
     },
     "b9d7c64269fc4515b336e53ccb4acb65": {
      "model_module": "@jupyter-widgets/controls",
      "model_module_version": "1.5.0",
      "model_name": "ButtonStyleModel",
      "state": {}
     },
     "ba043ccabfa5448ca3b37b37f01f8622": {
      "model_module": "@jupyter-widgets/base",
      "model_module_version": "1.2.0",
      "model_name": "LayoutModel",
      "state": {}
     },
     "ba3cadeadad64e98813a7af8efaa47ed": {
      "model_module": "@jupyter-widgets/base",
      "model_module_version": "1.2.0",
      "model_name": "LayoutModel",
      "state": {}
     },
     "ba89807773da42af9fecc741508b055f": {
      "model_module": "@jupyter-widgets/controls",
      "model_module_version": "1.5.0",
      "model_name": "ButtonStyleModel",
      "state": {}
     },
     "bad391f9c8644f6d874290fe030287e9": {
      "model_module": "@jupyter-widgets/controls",
      "model_module_version": "1.5.0",
      "model_name": "ButtonStyleModel",
      "state": {}
     },
     "bafbfe154d7542aab3714e88b657d346": {
      "model_module": "@jupyter-widgets/controls",
      "model_module_version": "1.5.0",
      "model_name": "VBoxModel",
      "state": {
       "children": [
        "IPY_MODEL_28d6d752d6fc47d48fd4b178fe8ce1c6",
        "IPY_MODEL_93e7e4a6ffe14a428c30b7004c61afcb"
       ],
       "layout": "IPY_MODEL_6682a6e7812d4f43aa78e0063caafa12"
      }
     },
     "bb0db1ad8acb4d688676bcfa50e5416d": {
      "model_module": "@jupyter-widgets/controls",
      "model_module_version": "1.5.0",
      "model_name": "VBoxModel",
      "state": {
       "children": [
        "IPY_MODEL_3adde47c93a242dc90b7ce95c83477aa",
        "IPY_MODEL_7c48c2f2544942de8c34cf0936ba95ae"
       ],
       "layout": "IPY_MODEL_d234f3e016b84e4eaf5660ce25fd65f7"
      }
     },
     "bb17b2219a13428c959c39dcef1fd6cb": {
      "model_module": "@jupyter-widgets/base",
      "model_module_version": "1.2.0",
      "model_name": "LayoutModel",
      "state": {
       "width": "10%"
      }
     },
     "bb19b35690da4e36b67b80689868b0bf": {
      "model_module": "@jupyter-widgets/output",
      "model_module_version": "1.0.0",
      "model_name": "OutputModel",
      "state": {
       "layout": "IPY_MODEL_0a942d571f674fec8011b491ccae1d06"
      }
     },
     "bb527200b3c84ceba2ab17d474401934": {
      "model_module": "@jupyter-widgets/base",
      "model_module_version": "1.2.0",
      "model_name": "LayoutModel",
      "state": {}
     },
     "bb76b39fa1484103a128c8b2456a1df4": {
      "model_module": "@jupyter-widgets/controls",
      "model_module_version": "1.5.0",
      "model_name": "VBoxModel",
      "state": {
       "children": [
        "IPY_MODEL_0febdf4229a44ca2891d0758419e03e6",
        "IPY_MODEL_e23306adbe1e452a8a806acd165721f1"
       ],
       "layout": "IPY_MODEL_33d215623bd24e44aca03a435ad24734"
      }
     },
     "bbc042d162754abd8c8022e5a4db86a3": {
      "model_module": "@jupyter-widgets/base",
      "model_module_version": "1.2.0",
      "model_name": "LayoutModel",
      "state": {
       "width": "10%"
      }
     },
     "bbf5417ba5d94b55bda98218676ee6d5": {
      "model_module": "@jupyter-widgets/controls",
      "model_module_version": "1.5.0",
      "model_name": "TextModel",
      "state": {
       "description": "Other:",
       "layout": "IPY_MODEL_1b999f8a053c4d3fbcf956c493dceaaa",
       "placeholder": "Hit enter to submit.",
       "style": "IPY_MODEL_02a2e97635af4c91b94b35f05c239aea"
      }
     },
     "bc3cc2e6e8864183b0e771817b774bde": {
      "model_module": "@jupyter-widgets/controls",
      "model_module_version": "1.5.0",
      "model_name": "HBoxModel",
      "state": {
       "children": [
        "IPY_MODEL_44f83869bb104d5589be749c1ba2bbce",
        "IPY_MODEL_5df52fda76ce41eda71ae3a136d1cfa1"
       ],
       "layout": "IPY_MODEL_a96324ff886a4b0bb0d2f13486a013b2"
      }
     },
     "bc4e53c460c74c28a32a95f3ca1f9c22": {
      "model_module": "@jupyter-widgets/base",
      "model_module_version": "1.2.0",
      "model_name": "LayoutModel",
      "state": {
       "width": "95%"
      }
     },
     "bc5f7c0411ee44d0b0cb83bb39579f82": {
      "model_module": "@jupyter-widgets/base",
      "model_module_version": "1.2.0",
      "model_name": "LayoutModel",
      "state": {
       "width": "10%"
      }
     },
     "bcb62709b9a4411ebeea4ec150a7fa92": {
      "model_module": "@jupyter-widgets/base",
      "model_module_version": "1.2.0",
      "model_name": "LayoutModel",
      "state": {
       "display": "flex",
       "justify_content": "center",
       "min_height": "150px",
       "padding": "5% 0",
       "width": "100%"
      }
     },
     "bce36e186b29423e9615c8ce048bc762": {
      "model_module": "@jupyter-widgets/base",
      "model_module_version": "1.2.0",
      "model_name": "LayoutModel",
      "state": {
       "width": "95%"
      }
     },
     "bd0ac8b4ec46489093fefbee2b09b9f4": {
      "model_module": "@jupyter-widgets/base",
      "model_module_version": "1.2.0",
      "model_name": "LayoutModel",
      "state": {}
     },
     "bd2a3d485f4d4d7d93bcd35bee7cfe58": {
      "model_module": "@jupyter-widgets/controls",
      "model_module_version": "1.5.0",
      "model_name": "ButtonModel",
      "state": {
       "description": "6",
       "layout": "IPY_MODEL_7be4923377a5483682ceb64612cbd0eb",
       "style": "IPY_MODEL_37e8034560f54ab48323a11d62014645"
      }
     },
     "bd80055ad9644c3e9b0f844dede8b356": {
      "model_module": "@jupyter-widgets/controls",
      "model_module_version": "1.5.0",
      "model_name": "ButtonStyleModel",
      "state": {}
     },
     "bd9b1f8e756d4f6082450d8d6ac2c03a": {
      "model_module": "@jupyter-widgets/controls",
      "model_module_version": "1.5.0",
      "model_name": "VBoxModel",
      "state": {
       "children": [
        "IPY_MODEL_17fe978a3f0e4ac594e9fad8c17eb802",
        "IPY_MODEL_02a6f3c3141e48fcaa400baf6fb4922e"
       ],
       "layout": "IPY_MODEL_02d820bea252413fb91115695d57b678"
      }
     },
     "bdbcbc7311944a9e9da9b9dda560dc36": {
      "model_module": "@jupyter-widgets/controls",
      "model_module_version": "1.5.0",
      "model_name": "DescriptionStyleModel",
      "state": {
       "description_width": ""
      }
     },
     "bdf21d997bb44db3874cc22ac90e1af5": {
      "model_module": "@jupyter-widgets/controls",
      "model_module_version": "1.5.0",
      "model_name": "ButtonStyleModel",
      "state": {}
     },
     "be1c45fd6f774badaa43a355f99662d5": {
      "model_module": "@jupyter-widgets/output",
      "model_module_version": "1.0.0",
      "model_name": "OutputModel",
      "state": {
       "layout": "IPY_MODEL_ff6eb32ee7d64ae99d1611ac34c43c15"
      }
     },
     "be37f979591a428b8ada80e57d56fe9c": {
      "model_module": "@jupyter-widgets/base",
      "model_module_version": "1.2.0",
      "model_name": "LayoutModel",
      "state": {
       "width": "10%"
      }
     },
     "be853a7f2f60441bb1590e81fe039f16": {
      "model_module": "@jupyter-widgets/base",
      "model_module_version": "1.2.0",
      "model_name": "LayoutModel",
      "state": {
       "width": "10%"
      }
     },
     "be8e7b784f0d45269640deeaf8eac435": {
      "model_module": "@jupyter-widgets/controls",
      "model_module_version": "1.5.0",
      "model_name": "ButtonModel",
      "state": {
       "description": "8",
       "layout": "IPY_MODEL_d8bb68573e24434997e30b83fd3ef064",
       "style": "IPY_MODEL_f77aad8d8f3b42a0a01cfbdca5da4000"
      }
     },
     "beba75646fa44ce3a883f940bc2a7523": {
      "model_module": "@jupyter-widgets/base",
      "model_module_version": "1.2.0",
      "model_name": "LayoutModel",
      "state": {}
     },
     "bec1945e9bb645e6aabe31dd13a59d47": {
      "model_module": "@jupyter-widgets/controls",
      "model_module_version": "1.5.0",
      "model_name": "ButtonModel",
      "state": {
       "description": "6",
       "layout": "IPY_MODEL_d149e9b788864cdc94c814c01a58ed87",
       "style": "IPY_MODEL_f714d114fbd8445786546eb1cef82a24"
      }
     },
     "bee75a1949974b2a896bfb1906123e8a": {
      "model_module": "@jupyter-widgets/base",
      "model_module_version": "1.2.0",
      "model_name": "LayoutModel",
      "state": {
       "justify_content": "space-between"
      }
     },
     "bf225dba24da431ea5a190fd890a610a": {
      "model_module": "@jupyter-widgets/base",
      "model_module_version": "1.2.0",
      "model_name": "LayoutModel",
      "state": {
       "justify_content": "space-between"
      }
     },
     "bf2f7c5e26da4e36a1de3e5a1861bd8d": {
      "model_module": "@jupyter-widgets/controls",
      "model_module_version": "1.5.0",
      "model_name": "ButtonStyleModel",
      "state": {}
     },
     "bf308bbbd19b42feb4503b51c898a507": {
      "model_module": "@jupyter-widgets/base",
      "model_module_version": "1.2.0",
      "model_name": "LayoutModel",
      "state": {}
     },
     "bf670a9e466d4b8783d95db6804f31a7": {
      "model_module": "@jupyter-widgets/output",
      "model_module_version": "1.0.0",
      "model_name": "OutputModel",
      "state": {
       "layout": "IPY_MODEL_00f3ef45812940819036f7864b01feb5"
      }
     },
     "bf9885b0f8e44ada924ef2966f66eba1": {
      "model_module": "@jupyter-widgets/base",
      "model_module_version": "1.2.0",
      "model_name": "LayoutModel",
      "state": {
       "width": "10%"
      }
     },
     "bfa1a406940242d6bce06a22e82d1baa": {
      "model_module": "@jupyter-widgets/controls",
      "model_module_version": "1.5.0",
      "model_name": "VBoxModel",
      "state": {
       "children": [
        "IPY_MODEL_70c51b93907445ac86f7d2cbfe347f6b",
        "IPY_MODEL_85e7a7d0b8b44276bdae823ca6c9b6d7"
       ],
       "layout": "IPY_MODEL_be37f979591a428b8ada80e57d56fe9c"
      }
     },
     "bfcf129266554ed2b5b189b1c29932f5": {
      "model_module": "@jupyter-widgets/base",
      "model_module_version": "1.2.0",
      "model_name": "LayoutModel",
      "state": {
       "width": "95%"
      }
     },
     "bff27aa1cfa94b06b98e045968f487e3": {
      "model_module": "@jupyter-widgets/output",
      "model_module_version": "1.0.0",
      "model_name": "OutputModel",
      "state": {
       "layout": "IPY_MODEL_4b2ae365448d4794a909ecc5046082ae"
      }
     },
     "c0046e445d8f4d319e2c0a3eb5b3b47e": {
      "model_module": "@jupyter-widgets/base",
      "model_module_version": "1.2.0",
      "model_name": "LayoutModel",
      "state": {
       "width": "10%"
      }
     },
     "c018ac209f4b40328da1fa2b9b42b703": {
      "model_module": "@jupyter-widgets/controls",
      "model_module_version": "1.5.0",
      "model_name": "VBoxModel",
      "state": {
       "children": [
        "IPY_MODEL_2892de8e373b4cada6b0fa5b585eda68",
        "IPY_MODEL_1bfb984d53fb4b8eb5c5e59b7f1f0168"
       ],
       "layout": "IPY_MODEL_e2f2b6760f714a32be8858e46262159f"
      }
     },
     "c01aebedc1864bc1a290adc7d03563ce": {
      "model_module": "@jupyter-widgets/controls",
      "model_module_version": "1.5.0",
      "model_name": "ButtonModel",
      "state": {
       "description": "8",
       "layout": "IPY_MODEL_9dd3c3be940847dcaf6e542881815995",
       "style": "IPY_MODEL_cc568fcdd9dd46cda90e3df0f7505de5"
      }
     },
     "c029b7359b7243e88cb3fb8ae2f7084c": {
      "model_module": "@jupyter-widgets/output",
      "model_module_version": "1.0.0",
      "model_name": "OutputModel",
      "state": {
       "layout": "IPY_MODEL_11d94a3d10844003a9b7b3abe8261151"
      }
     },
     "c0416534a1db4d7ea38e48c07af80e63": {
      "model_module": "@jupyter-widgets/controls",
      "model_module_version": "1.5.0",
      "model_name": "ButtonModel",
      "state": {
       "description": "2",
       "layout": "IPY_MODEL_ada019438d77455a8f07d38ddc5b0dae",
       "style": "IPY_MODEL_0b7298ba997344d5bc39da761d5cff80"
      }
     },
     "c07ca08b12e8447fa7b18bd753edf06e": {
      "model_module": "@jupyter-widgets/base",
      "model_module_version": "1.2.0",
      "model_name": "LayoutModel",
      "state": {}
     },
     "c0847feeb15546c5a7002db9258a40e5": {
      "model_module": "@jupyter-widgets/base",
      "model_module_version": "1.2.0",
      "model_name": "LayoutModel",
      "state": {
       "width": "10%"
      }
     },
     "c094f9eda1aa4a1c8fc45247932bdf1c": {
      "model_module": "@jupyter-widgets/controls",
      "model_module_version": "1.5.0",
      "model_name": "ButtonModel",
      "state": {
       "description": "Undo",
       "icon": "undo",
       "layout": "IPY_MODEL_17bd8573160345028e19e76c27e40234",
       "style": "IPY_MODEL_f146203e6a8d48d08a678f0b745152b0"
      }
     },
     "c09bf5ba52d4485684c2f27dcf842253": {
      "model_module": "@jupyter-widgets/controls",
      "model_module_version": "1.5.0",
      "model_name": "VBoxModel",
      "state": {
       "children": [
        "IPY_MODEL_a914967f89734d2bb0cc5862b273cf37",
        "IPY_MODEL_4d9b5c4e54bf4bf8b0f315cb75bed51e"
       ],
       "layout": "IPY_MODEL_26ba5f9049f04a5c913523792aba8260"
      }
     },
     "c0dd52d9504f4181b5db19f481ad5ee4": {
      "model_module": "@jupyter-widgets/base",
      "model_module_version": "1.2.0",
      "model_name": "LayoutModel",
      "state": {
       "width": "10%"
      }
     },
     "c1313630935e4ebfbde6fcf781e90567": {
      "model_module": "@jupyter-widgets/controls",
      "model_module_version": "1.5.0",
      "model_name": "VBoxModel",
      "state": {
       "children": [
        "IPY_MODEL_0b88cf66c4a3434eb8adf5080cb99aed",
        "IPY_MODEL_e0ead2e591cf4a46ae43ffc093560bfe"
       ],
       "layout": "IPY_MODEL_29ffb9fccf3b414b8dead2680b2907ca"
      }
     },
     "c139a2f79f2747abb81bea957d3f7fc1": {
      "model_module": "@jupyter-widgets/output",
      "model_module_version": "1.0.0",
      "model_name": "OutputModel",
      "state": {
       "layout": "IPY_MODEL_4d07fe9f656f4bc4b23ddafd2979c161"
      }
     },
     "c15311cd688040f7bce1c74f20e5c495": {
      "model_module": "@jupyter-widgets/controls",
      "model_module_version": "1.5.0",
      "model_name": "VBoxModel",
      "state": {
       "children": [
        "IPY_MODEL_b70633a2b78d4ed7a0e989fe4bae921a",
        "IPY_MODEL_bb19b35690da4e36b67b80689868b0bf"
       ],
       "layout": "IPY_MODEL_1b906c9b38ed4928800d1d72a5633f7b"
      }
     },
     "c1b93bd9fad0456fb50d86106d797a05": {
      "model_module": "@jupyter-widgets/controls",
      "model_module_version": "1.5.0",
      "model_name": "ButtonStyleModel",
      "state": {}
     },
     "c1d8018b8b1145c2ae93b9450689bce0": {
      "model_module": "@jupyter-widgets/controls",
      "model_module_version": "1.5.0",
      "model_name": "TextModel",
      "state": {
       "description": "Other:",
       "layout": "IPY_MODEL_5c7202d8c92a4ee4bdd2fc547d482edd",
       "placeholder": "Hit enter to submit.",
       "style": "IPY_MODEL_407d18df05c84d30ba60de72efbceacf"
      }
     },
     "c2159710ea2b43d28124fbab0f7c1f3f": {
      "model_module": "@jupyter-widgets/controls",
      "model_module_version": "1.5.0",
      "model_name": "ButtonStyleModel",
      "state": {}
     },
     "c21d6d9544884000adde5c1b8aa00909": {
      "model_module": "@jupyter-widgets/base",
      "model_module_version": "1.2.0",
      "model_name": "LayoutModel",
      "state": {
       "width": "95%"
      }
     },
     "c224fe6ba3704ea4a10f371cee4b0ed4": {
      "model_module": "@jupyter-widgets/base",
      "model_module_version": "1.2.0",
      "model_name": "LayoutModel",
      "state": {
       "width": "10%"
      }
     },
     "c2391d35c3884bad9fafa1cdae9f2529": {
      "model_module": "@jupyter-widgets/output",
      "model_module_version": "1.0.0",
      "model_name": "OutputModel",
      "state": {
       "layout": "IPY_MODEL_550fbd118d8c4b11be6dc71646a190b5"
      }
     },
     "c27301f9363f491d8aeb436bc2e7b242": {
      "model_module": "@jupyter-widgets/controls",
      "model_module_version": "1.5.0",
      "model_name": "VBoxModel",
      "state": {
       "children": [
        "IPY_MODEL_67a4018c59be4d1d962b994558fad43d",
        "IPY_MODEL_75587d2410814c36b009879683ffab7a"
       ],
       "layout": "IPY_MODEL_df9580b3aa7243f9b6707a0d59cf85c5"
      }
     },
     "c2a941c87660406fb2b605c258da8f35": {
      "model_module": "@jupyter-widgets/base",
      "model_module_version": "1.2.0",
      "model_name": "LayoutModel",
      "state": {}
     },
     "c2b04392544a4938bd18b989f9b0a86f": {
      "model_module": "@jupyter-widgets/base",
      "model_module_version": "1.2.0",
      "model_name": "LayoutModel",
      "state": {}
     },
     "c2f48ceae9e9458386bc8e52eac2319d": {
      "model_module": "@jupyter-widgets/base",
      "model_module_version": "1.2.0",
      "model_name": "LayoutModel",
      "state": {}
     },
     "c31d1ddcb8a545179072c3842107dab1": {
      "model_module": "@jupyter-widgets/base",
      "model_module_version": "1.2.0",
      "model_name": "LayoutModel",
      "state": {
       "width": "95%"
      }
     },
     "c344b5ab05c54f5488d3932c6f3a26bd": {
      "model_module": "@jupyter-widgets/base",
      "model_module_version": "1.2.0",
      "model_name": "LayoutModel",
      "state": {}
     },
     "c34705b67f914fb9bab0ac9540cddc69": {
      "model_module": "@jupyter-widgets/base",
      "model_module_version": "1.2.0",
      "model_name": "LayoutModel",
      "state": {
       "width": "95%"
      }
     },
     "c36b10c0f2d64c4aa9d6b725e05d5da0": {
      "model_module": "@jupyter-widgets/controls",
      "model_module_version": "1.5.0",
      "model_name": "ButtonModel",
      "state": {
       "description": "3",
       "layout": "IPY_MODEL_3ca832fbf31943409242230ad1f96787",
       "style": "IPY_MODEL_0e6a9ef8c5be4e5cbe9478547be3d8e9"
      }
     },
     "c3727e2cc2a74ab19ea426e0dc1de8ff": {
      "model_module": "@jupyter-widgets/base",
      "model_module_version": "1.2.0",
      "model_name": "LayoutModel",
      "state": {
       "width": "95%"
      }
     },
     "c38f835b13064e0dbd1d63fb7f6033ee": {
      "model_module": "@jupyter-widgets/base",
      "model_module_version": "1.2.0",
      "model_name": "LayoutModel",
      "state": {
       "width": "10%"
      }
     },
     "c3c7e827bd5c470e96fa03ac3604fe7f": {
      "model_module": "@jupyter-widgets/controls",
      "model_module_version": "1.5.0",
      "model_name": "ButtonStyleModel",
      "state": {}
     },
     "c3f16debb08b4cee867720366d283f62": {
      "model_module": "@jupyter-widgets/controls",
      "model_module_version": "1.5.0",
      "model_name": "ButtonModel",
      "state": {
       "description": "0",
       "layout": "IPY_MODEL_2f2858713615458cb69c69a5a3606d43",
       "style": "IPY_MODEL_d994793fa9094e05b4f1e5bc39db81e0"
      }
     },
     "c422063280684888ae82ca8c8e4944f6": {
      "model_module": "@jupyter-widgets/base",
      "model_module_version": "1.2.0",
      "model_name": "LayoutModel",
      "state": {}
     },
     "c433f2f0e20e4f569f139969c2a2507b": {
      "model_module": "@jupyter-widgets/controls",
      "model_module_version": "1.5.0",
      "model_name": "ButtonStyleModel",
      "state": {}
     },
     "c4499d5adfb44e1e8fec593be53eb522": {
      "model_module": "@jupyter-widgets/controls",
      "model_module_version": "1.5.0",
      "model_name": "HBoxModel",
      "state": {
       "children": [
        "IPY_MODEL_fd7b33bda12044aea8205b66e15bb67a",
        "IPY_MODEL_d3ca2ec9af74473e8c4a484b7a464614",
        "IPY_MODEL_e5282b76b45748ba88503f27d50715c5",
        "IPY_MODEL_116df972ff574da8b88c646b016c6713",
        "IPY_MODEL_d828cf04f433413dbfd7063949fb1165",
        "IPY_MODEL_84289fdf24a242aaacb0274a43f497c6",
        "IPY_MODEL_9716fb438ecf4b3599451c539257575d",
        "IPY_MODEL_02e0dfd160334b11b00886b40309bf70",
        "IPY_MODEL_b245e7055a7340cd8f4585200cc7b692",
        "IPY_MODEL_3ab1ef535d0441e3a9af753de77f5d62"
       ],
       "layout": "IPY_MODEL_173e50d5c54942d1b34a5dfd3c47c97f"
      }
     },
     "c456ebf2c6724484b1966abaa0b04741": {
      "model_module": "@jupyter-widgets/base",
      "model_module_version": "1.2.0",
      "model_name": "LayoutModel",
      "state": {
       "width": "10%"
      }
     },
     "c460a191a0b84b9a8b54090298390e84": {
      "model_module": "@jupyter-widgets/base",
      "model_module_version": "1.2.0",
      "model_name": "LayoutModel",
      "state": {
       "width": "10%"
      }
     },
     "c47b91818e434da8bb3f60223f73807a": {
      "model_module": "@jupyter-widgets/base",
      "model_module_version": "1.2.0",
      "model_name": "LayoutModel",
      "state": {
       "width": "10%"
      }
     },
     "c487b9df3ba44b6996c8a39c8e28c51e": {
      "model_module": "@jupyter-widgets/controls",
      "model_module_version": "1.5.0",
      "model_name": "ButtonModel",
      "state": {
       "description": "4",
       "layout": "IPY_MODEL_4f3f3dc5a4cd46638309f35af377deb9",
       "style": "IPY_MODEL_851fe2fef7d54ea7b8a7fc9552eaa25f"
      }
     },
     "c49c73a2a2034a73990a64016895d7da": {
      "model_module": "@jupyter-widgets/controls",
      "model_module_version": "1.5.0",
      "model_name": "ButtonModel",
      "state": {
       "description": "4",
       "layout": "IPY_MODEL_205c7f63d6064a9b9b15787e7f2cd9c7",
       "style": "IPY_MODEL_edcd0b547a834d9f8ef5c909960f438b"
      }
     },
     "c4ae5790172d4fdb9f4288c0f1668a22": {
      "model_module": "@jupyter-widgets/controls",
      "model_module_version": "1.5.0",
      "model_name": "VBoxModel",
      "state": {
       "children": [
        "IPY_MODEL_c487b9df3ba44b6996c8a39c8e28c51e",
        "IPY_MODEL_1492824c9f714ace9b10825edc948ffc"
       ],
       "layout": "IPY_MODEL_8f4c3c61a9d34cbdaaab8b0c819f428a"
      }
     },
     "c4bac1a1c1b546ef91fa37612bb7b3d8": {
      "model_module": "@jupyter-widgets/base",
      "model_module_version": "1.2.0",
      "model_name": "LayoutModel",
      "state": {}
     },
     "c54a5550c9bf4a55b0490f7dfb65385a": {
      "model_module": "@jupyter-widgets/base",
      "model_module_version": "1.2.0",
      "model_name": "LayoutModel",
      "state": {
       "width": "10%"
      }
     },
     "c56b6d30594a4fa28d27ddabf3bd0044": {
      "model_module": "@jupyter-widgets/output",
      "model_module_version": "1.0.0",
      "model_name": "OutputModel",
      "state": {
       "layout": "IPY_MODEL_cd9edb3284704c259c91d9f612a23a19"
      }
     },
     "c58e03fb15ae4be19af09357cca149ba": {
      "model_module": "@jupyter-widgets/output",
      "model_module_version": "1.0.0",
      "model_name": "OutputModel",
      "state": {
       "layout": "IPY_MODEL_2698990d87c24a28ac148aca00b7d5a5"
      }
     },
     "c5a5997638f04e3288c21855cec9e464": {
      "model_module": "@jupyter-widgets/controls",
      "model_module_version": "1.5.0",
      "model_name": "ButtonStyleModel",
      "state": {}
     },
     "c5cabe48d84746e19678ba9cf5343d6c": {
      "model_module": "@jupyter-widgets/base",
      "model_module_version": "1.2.0",
      "model_name": "LayoutModel",
      "state": {}
     },
     "c6008c848b6849c89279cf60bccb1b7b": {
      "model_module": "@jupyter-widgets/controls",
      "model_module_version": "1.5.0",
      "model_name": "VBoxModel",
      "state": {
       "children": [
        "IPY_MODEL_cafcc63bee1f485083d5728013507971",
        "IPY_MODEL_f1ef03dd7d48473fb9014ebcbe1ec426"
       ],
       "layout": "IPY_MODEL_b2a6e5fa5dba4fbd8c86106a34264420"
      }
     },
     "c64e27a29fb54216aaa2abfe24bd8214": {
      "model_module": "@jupyter-widgets/controls",
      "model_module_version": "1.5.0",
      "model_name": "ButtonModel",
      "state": {
       "description": "4",
       "layout": "IPY_MODEL_f9b3f878438c45b88b4b37eaf5e6cdb4",
       "style": "IPY_MODEL_cec2a6dc295545f3abb83a623be939a9"
      }
     },
     "c6c788ebd67d4111ad44abfa1ed8677e": {
      "model_module": "@jupyter-widgets/base",
      "model_module_version": "1.2.0",
      "model_name": "LayoutModel",
      "state": {
       "width": "95%"
      }
     },
     "c6cc4773d43a4f5aa02307411e02ad4c": {
      "model_module": "@jupyter-widgets/output",
      "model_module_version": "1.0.0",
      "model_name": "OutputModel",
      "state": {
       "layout": "IPY_MODEL_3eab672b55bc47f9ace6a5023f3be3ee"
      }
     },
     "c6d87667424041df92235da756364b44": {
      "model_module": "@jupyter-widgets/controls",
      "model_module_version": "1.5.0",
      "model_name": "ButtonStyleModel",
      "state": {}
     },
     "c6e656b6b41a403a8be0ddea10138ad8": {
      "model_module": "@jupyter-widgets/base",
      "model_module_version": "1.2.0",
      "model_name": "LayoutModel",
      "state": {}
     },
     "c79b696e27024bef839df3a945af6bbb": {
      "model_module": "@jupyter-widgets/controls",
      "model_module_version": "1.5.0",
      "model_name": "ButtonModel",
      "state": {
       "description": "9",
       "layout": "IPY_MODEL_e9756504eae04543948d7571d5f6f46e",
       "style": "IPY_MODEL_511ba59caf264ab193b3364b3f0f8ec5"
      }
     },
     "c79d34c00bd843f48b12fb577b48ac24": {
      "model_module": "@jupyter-widgets/controls",
      "model_module_version": "1.5.0",
      "model_name": "ButtonModel",
      "state": {
       "description": "3",
       "layout": "IPY_MODEL_674414e3cf0344579f09f1e23a886792",
       "style": "IPY_MODEL_6355b71607c94978a83745b0e723d997"
      }
     },
     "c7a20bf7b33846449128642edbf3e6ce": {
      "model_module": "@jupyter-widgets/controls",
      "model_module_version": "1.5.0",
      "model_name": "VBoxModel",
      "state": {
       "children": [
        "IPY_MODEL_216216002f1c4508a9841d67525d65c8",
        "IPY_MODEL_657e9573bbbf48418e7072f60c174885"
       ],
       "layout": "IPY_MODEL_f70931fed4c24b69aa897abb3f7600f8"
      }
     },
     "c7aa6567b89e421bacfb52627ff5846a": {
      "model_module": "@jupyter-widgets/controls",
      "model_module_version": "1.5.0",
      "model_name": "ButtonModel",
      "state": {
       "description": "6",
       "layout": "IPY_MODEL_f0c1f22b91204b638030abeec3517e81",
       "style": "IPY_MODEL_18c2062b84234e83a15cbd3da4d77eb7"
      }
     },
     "c7b687445f704fcd803c8d348637d8a7": {
      "model_module": "@jupyter-widgets/output",
      "model_module_version": "1.0.0",
      "model_name": "OutputModel",
      "state": {
       "layout": "IPY_MODEL_f5559548cc0741f2bd6e9cb9c2e46d56"
      }
     },
     "c7ef35ff35d14590b762dd0c4a195c64": {
      "model_module": "@jupyter-widgets/output",
      "model_module_version": "1.0.0",
      "model_name": "OutputModel",
      "state": {
       "layout": "IPY_MODEL_244208d7fcc34b9681d7981afb186f11"
      }
     },
     "c7f6c5d7d8344f7ebfd70bd67c0e02eb": {
      "model_module": "@jupyter-widgets/base",
      "model_module_version": "1.2.0",
      "model_name": "LayoutModel",
      "state": {}
     },
     "c80495030c594ef5bc23019a7720644f": {
      "model_module": "@jupyter-widgets/base",
      "model_module_version": "1.2.0",
      "model_name": "LayoutModel",
      "state": {
       "width": "95%"
      }
     },
     "c83bdfe5388a49729caa10b0c75ba88a": {
      "model_module": "@jupyter-widgets/controls",
      "model_module_version": "1.5.0",
      "model_name": "ButtonStyleModel",
      "state": {}
     },
     "c84011671b7a40c697f44baf3b7f461f": {
      "model_module": "@jupyter-widgets/output",
      "model_module_version": "1.0.0",
      "model_name": "OutputModel",
      "state": {
       "layout": "IPY_MODEL_ce323fa537a04022a52d711b5fdcb2fc"
      }
     },
     "c8bc2e5dcb56440a975fe958937215b4": {
      "model_module": "@jupyter-widgets/base",
      "model_module_version": "1.2.0",
      "model_name": "LayoutModel",
      "state": {}
     },
     "c8d8c47a799f4bc08e9cde12fb7867eb": {
      "model_module": "@jupyter-widgets/controls",
      "model_module_version": "1.5.0",
      "model_name": "ButtonStyleModel",
      "state": {}
     },
     "c9270b4f3ce34f35a55c3504d11f5081": {
      "model_module": "@jupyter-widgets/output",
      "model_module_version": "1.0.0",
      "model_name": "OutputModel",
      "state": {
       "layout": "IPY_MODEL_d3cf6d6f489d4b729c553a49912d5b6c"
      }
     },
     "c941d8e8eb2d4975a17851b5ad44daa3": {
      "model_module": "@jupyter-widgets/base",
      "model_module_version": "1.2.0",
      "model_name": "LayoutModel",
      "state": {
       "width": "10%"
      }
     },
     "c969972f4f774d4ebc5ba6bf4423564f": {
      "model_module": "@jupyter-widgets/controls",
      "model_module_version": "1.5.0",
      "model_name": "VBoxModel",
      "state": {
       "children": [
        "IPY_MODEL_c64e27a29fb54216aaa2abfe24bd8214",
        "IPY_MODEL_a1fcae88384147279f60c83722fe9350"
       ],
       "layout": "IPY_MODEL_f49c3102a4794104890fd0e6f3df272e"
      }
     },
     "c991e477258243f3b1296bbd13e77a0e": {
      "model_module": "@jupyter-widgets/base",
      "model_module_version": "1.2.0",
      "model_name": "LayoutModel",
      "state": {}
     },
     "ca30fad3d0a34698ab84de8f23e152bb": {
      "model_module": "@jupyter-widgets/controls",
      "model_module_version": "1.5.0",
      "model_name": "FloatProgressModel",
      "state": {
       "description": "Progress:",
       "layout": "IPY_MODEL_a44e86cd27084e20bfbcf927cd8c5e4e",
       "max": 1,
       "style": "IPY_MODEL_7ebb03fdad8c438b9eead1dc5863a51d"
      }
     },
     "ca7fc1ef0e8d4f2e91d9088116e59a71": {
      "model_module": "@jupyter-widgets/controls",
      "model_module_version": "1.5.0",
      "model_name": "ButtonStyleModel",
      "state": {}
     },
     "cafcc63bee1f485083d5728013507971": {
      "model_module": "@jupyter-widgets/controls",
      "model_module_version": "1.5.0",
      "model_name": "ButtonModel",
      "state": {
       "description": "9",
       "layout": "IPY_MODEL_de020d28184d48fb97ac7612de6ec3a3",
       "style": "IPY_MODEL_3e2e69a52d124247b3880efb6b3452ef"
      }
     },
     "cb0db06ab84c4165a038a6c15602fdd2": {
      "model_module": "@jupyter-widgets/controls",
      "model_module_version": "1.5.0",
      "model_name": "VBoxModel",
      "state": {
       "children": [
        "IPY_MODEL_3bbf5c353d594744a4442cc453f4746a",
        "IPY_MODEL_358e0557c2994c288d27a273229b5912"
       ],
       "layout": "IPY_MODEL_1f29129fbde942c895daaae60d9f6a7c"
      }
     },
     "cb41ee3f0064408aaacdcf70d16aa8b6": {
      "model_module": "@jupyter-widgets/controls",
      "model_module_version": "1.5.0",
      "model_name": "VBoxModel",
      "state": {
       "children": [
        "IPY_MODEL_1a6086d33790463c88fad7da2a0373ed",
        "IPY_MODEL_c58e03fb15ae4be19af09357cca149ba"
       ],
       "layout": "IPY_MODEL_34d97b513d564f67ad7c0dc5b5f28558"
      }
     },
     "cb5c12f7facf417685094301caed9146": {
      "model_module": "@jupyter-widgets/base",
      "model_module_version": "1.2.0",
      "model_name": "LayoutModel",
      "state": {
       "width": "10%"
      }
     },
     "cb8cfd03418647a780da454776878987": {
      "model_module": "@jupyter-widgets/controls",
      "model_module_version": "1.5.0",
      "model_name": "ButtonStyleModel",
      "state": {}
     },
     "cba21be5761044e18da3899a7f9c58e7": {
      "model_module": "@jupyter-widgets/base",
      "model_module_version": "1.2.0",
      "model_name": "LayoutModel",
      "state": {}
     },
     "cbdcf7b8e723451f8c4514fe1a442f90": {
      "model_module": "@jupyter-widgets/output",
      "model_module_version": "1.0.0",
      "model_name": "OutputModel",
      "state": {
       "layout": "IPY_MODEL_ccc773150d974319bdea0554825289e5"
      }
     },
     "cc2c9260afab4930a33cbbf92bf6235c": {
      "model_module": "@jupyter-widgets/base",
      "model_module_version": "1.2.0",
      "model_name": "LayoutModel",
      "state": {}
     },
     "cc3887c2dcea4a29a625f64adc0c5592": {
      "model_module": "@jupyter-widgets/controls",
      "model_module_version": "1.5.0",
      "model_name": "VBoxModel",
      "state": {
       "children": [
        "IPY_MODEL_8515c021ccef4297a59b3ffde1a3aad0",
        "IPY_MODEL_561aa190ccec464f9c795dc77272664b"
       ],
       "layout": "IPY_MODEL_224053d3ee554912a666113148a70cd6"
      }
     },
     "cc568fcdd9dd46cda90e3df0f7505de5": {
      "model_module": "@jupyter-widgets/controls",
      "model_module_version": "1.5.0",
      "model_name": "ButtonStyleModel",
      "state": {}
     },
     "cc58e0d1294a417d9f3795da7c4b7512": {
      "model_module": "@jupyter-widgets/controls",
      "model_module_version": "1.5.0",
      "model_name": "ButtonModel",
      "state": {
       "description": "9",
       "layout": "IPY_MODEL_0e096d084e974376a51ef5387b864d3f",
       "style": "IPY_MODEL_a2855e66c4894cc1a207b432775ed871"
      }
     },
     "ccc773150d974319bdea0554825289e5": {
      "model_module": "@jupyter-widgets/base",
      "model_module_version": "1.2.0",
      "model_name": "LayoutModel",
      "state": {}
     },
     "ccccc76431644ae8a0a1f641cf361114": {
      "model_module": "@jupyter-widgets/base",
      "model_module_version": "1.2.0",
      "model_name": "LayoutModel",
      "state": {
       "width": "10%"
      }
     },
     "cd3d065007b347b9ad5ca13c73696153": {
      "model_module": "@jupyter-widgets/base",
      "model_module_version": "1.2.0",
      "model_name": "LayoutModel",
      "state": {
       "width": "95%"
      }
     },
     "cd6b1639806b4d34bcc8e584625d8b39": {
      "model_module": "@jupyter-widgets/base",
      "model_module_version": "1.2.0",
      "model_name": "LayoutModel",
      "state": {
       "width": "95%"
      }
     },
     "cd7b51a773a14178b4dc4f2b2b1a9354": {
      "model_module": "@jupyter-widgets/base",
      "model_module_version": "1.2.0",
      "model_name": "LayoutModel",
      "state": {}
     },
     "cd934d9b4ade4b8988a2607eb93e56dd": {
      "model_module": "@jupyter-widgets/base",
      "model_module_version": "1.2.0",
      "model_name": "LayoutModel",
      "state": {
       "width": "95%"
      }
     },
     "cd9edb3284704c259c91d9f612a23a19": {
      "model_module": "@jupyter-widgets/base",
      "model_module_version": "1.2.0",
      "model_name": "LayoutModel",
      "state": {}
     },
     "ce323fa537a04022a52d711b5fdcb2fc": {
      "model_module": "@jupyter-widgets/base",
      "model_module_version": "1.2.0",
      "model_name": "LayoutModel",
      "state": {}
     },
     "ce363508c0da4d7dbf187914285645ef": {
      "model_module": "@jupyter-widgets/controls",
      "model_module_version": "1.5.0",
      "model_name": "VBoxModel",
      "state": {
       "children": [
        "IPY_MODEL_523f254c186840ff84681656d9e6d6fc",
        "IPY_MODEL_2ed21426d7cf4505aff1b7b61f6487be"
       ],
       "layout": "IPY_MODEL_8996d158e6584e0db1274ae35db254bf"
      }
     },
     "ce384d73882740ce8ed8a46116e1965b": {
      "model_module": "@jupyter-widgets/base",
      "model_module_version": "1.2.0",
      "model_name": "LayoutModel",
      "state": {}
     },
     "ce80656b67b347a2aa2b6843e1b900fc": {
      "model_module": "@jupyter-widgets/controls",
      "model_module_version": "1.5.0",
      "model_name": "VBoxModel",
      "state": {
       "children": [
        "IPY_MODEL_abd9b942613349d48d5b2b15d740b663",
        "IPY_MODEL_cf2c0608f70c42b1b0253c262df26219"
       ],
       "layout": "IPY_MODEL_5d94ceed60014c18aafac2423035ced0"
      }
     },
     "cebdacc57c5e4a01aff6d40ed2df944a": {
      "model_module": "@jupyter-widgets/base",
      "model_module_version": "1.2.0",
      "model_name": "LayoutModel",
      "state": {}
     },
     "cec2a6dc295545f3abb83a623be939a9": {
      "model_module": "@jupyter-widgets/controls",
      "model_module_version": "1.5.0",
      "model_name": "ButtonStyleModel",
      "state": {}
     },
     "ced3122d9b7e44bbba80e6b08b1ffebc": {
      "model_module": "@jupyter-widgets/output",
      "model_module_version": "1.0.0",
      "model_name": "OutputModel",
      "state": {
       "layout": "IPY_MODEL_ef4828b8e3664fd3a10f5cb4a0278c61"
      }
     },
     "ced602de10604f958fc0d5bb230b4dea": {
      "model_module": "@jupyter-widgets/base",
      "model_module_version": "1.2.0",
      "model_name": "LayoutModel",
      "state": {}
     },
     "ceff24af49bf4ae5a596192a1b1e5f38": {
      "model_module": "@jupyter-widgets/base",
      "model_module_version": "1.2.0",
      "model_name": "LayoutModel",
      "state": {}
     },
     "cf0e969496e74fcfb166af1e8e6e2054": {
      "model_module": "@jupyter-widgets/base",
      "model_module_version": "1.2.0",
      "model_name": "LayoutModel",
      "state": {
       "width": "10%"
      }
     },
     "cf21fea1bb8b44c9bbfab4c3582fb852": {
      "model_module": "@jupyter-widgets/controls",
      "model_module_version": "1.5.0",
      "model_name": "ButtonStyleModel",
      "state": {}
     },
     "cf2c0608f70c42b1b0253c262df26219": {
      "model_module": "@jupyter-widgets/output",
      "model_module_version": "1.0.0",
      "model_name": "OutputModel",
      "state": {
       "layout": "IPY_MODEL_1e07802114f247d78febc1785dcde8be"
      }
     },
     "cfa4958400b545098a193ab046ae83e7": {
      "model_module": "@jupyter-widgets/controls",
      "model_module_version": "1.5.0",
      "model_name": "ButtonStyleModel",
      "state": {}
     },
     "cfc3c5a4865342258c4b8bbbf3cfaa07": {
      "model_module": "@jupyter-widgets/base",
      "model_module_version": "1.2.0",
      "model_name": "LayoutModel",
      "state": {
       "width": "10%"
      }
     },
     "d01006b3220e4b40b173769141e40758": {
      "model_module": "@jupyter-widgets/output",
      "model_module_version": "1.0.0",
      "model_name": "OutputModel",
      "state": {
       "layout": "IPY_MODEL_7ba18a674c1b48719bd778fc8c159dc8"
      }
     },
     "d087a189e267449d942701bdb12c6361": {
      "model_module": "@jupyter-widgets/base",
      "model_module_version": "1.2.0",
      "model_name": "LayoutModel",
      "state": {}
     },
     "d0920b98a1744012a0b6073e171960df": {
      "model_module": "@jupyter-widgets/output",
      "model_module_version": "1.0.0",
      "model_name": "OutputModel",
      "state": {
       "layout": "IPY_MODEL_8b403cb4726d4f3493d45b9c7e6c1b49"
      }
     },
     "d0bf43670c79422d933bd45a5d8ca6be": {
      "model_module": "@jupyter-widgets/base",
      "model_module_version": "1.2.0",
      "model_name": "LayoutModel",
      "state": {
       "width": "95%"
      }
     },
     "d0ca7c1150c14caa98b329b1663d96ef": {
      "model_module": "@jupyter-widgets/controls",
      "model_module_version": "1.5.0",
      "model_name": "DescriptionStyleModel",
      "state": {
       "description_width": ""
      }
     },
     "d149e9b788864cdc94c814c01a58ed87": {
      "model_module": "@jupyter-widgets/base",
      "model_module_version": "1.2.0",
      "model_name": "LayoutModel",
      "state": {
       "width": "95%"
      }
     },
     "d17ddcf1432245ecb575add5c77b911d": {
      "model_module": "@jupyter-widgets/output",
      "model_module_version": "1.0.0",
      "model_name": "OutputModel",
      "state": {
       "layout": "IPY_MODEL_81630f99ebe8498d850e8df605cae960"
      }
     },
     "d234f3e016b84e4eaf5660ce25fd65f7": {
      "model_module": "@jupyter-widgets/base",
      "model_module_version": "1.2.0",
      "model_name": "LayoutModel",
      "state": {
       "width": "10%"
      }
     },
     "d25076d4739d4c3cbe2b6064c9c3b21f": {
      "model_module": "@jupyter-widgets/output",
      "model_module_version": "1.0.0",
      "model_name": "OutputModel",
      "state": {
       "layout": "IPY_MODEL_40f774b8982e460a8f16c7f0b602559d"
      }
     },
     "d277e77fbe364bafb8cc2aa99b378d96": {
      "model_module": "@jupyter-widgets/controls",
      "model_module_version": "1.5.0",
      "model_name": "HBoxModel",
      "state": {
       "children": [
        "IPY_MODEL_b121b8b8d88d4aacbf33c1159880932c",
        "IPY_MODEL_2c98a5ed9de54a8c9e42419047dd0b5f",
        "IPY_MODEL_608408cbae5d4340a55396ea95e0f1e5",
        "IPY_MODEL_cc3887c2dcea4a29a625f64adc0c5592",
        "IPY_MODEL_d98770bdb6214861854a5e669e5d6a30",
        "IPY_MODEL_8be1defcd7924608b9548481171d6fc9",
        "IPY_MODEL_b9ccaedb7c184c37b067391f59554cff",
        "IPY_MODEL_70fb6b5e562c44b4a94afaff3c9e8ada",
        "IPY_MODEL_32e424f159334a25b61e5254eece762b",
        "IPY_MODEL_fe0d6385b9ed4e3e8bf7924fa0ca849e"
       ],
       "layout": "IPY_MODEL_03759fa816f7475abf8e99297aafcb44"
      }
     },
     "d2b79983fb15498bae441b9d47b0a500": {
      "model_module": "@jupyter-widgets/controls",
      "model_module_version": "1.5.0",
      "model_name": "ButtonStyleModel",
      "state": {}
     },
     "d2c7959525a44a87a08a349488bb6b5d": {
      "model_module": "@jupyter-widgets/controls",
      "model_module_version": "1.5.0",
      "model_name": "VBoxModel",
      "state": {
       "children": [
        "IPY_MODEL_0d7215e12fd0401997c188d968b28431",
        "IPY_MODEL_66738f080f0a496ebc3a7e70a06243de"
       ],
       "layout": "IPY_MODEL_1ebc186a0845498eac42c185134cda21"
      }
     },
     "d2ea81c792e94d9aa3424536e9e96f01": {
      "model_module": "@jupyter-widgets/output",
      "model_module_version": "1.0.0",
      "model_name": "OutputModel",
      "state": {
       "layout": "IPY_MODEL_3b712e6772c54e389018e5a17fde4420"
      }
     },
     "d2ebbc66d65d455da468ea71540e3c1b": {
      "model_module": "@jupyter-widgets/base",
      "model_module_version": "1.2.0",
      "model_name": "LayoutModel",
      "state": {}
     },
     "d3966ef6d5ac443888292a38f43b6002": {
      "model_module": "@jupyter-widgets/controls",
      "model_module_version": "1.5.0",
      "model_name": "VBoxModel",
      "state": {
       "children": [
        "IPY_MODEL_7b4f51f0dc6c4a03a722d70f004ca023",
        "IPY_MODEL_95603bd9daf8403f879e427ba294de24"
       ],
       "layout": "IPY_MODEL_b12009db0960461aa9bfd8df44d80b8d"
      }
     },
     "d3ca2ec9af74473e8c4a484b7a464614": {
      "model_module": "@jupyter-widgets/controls",
      "model_module_version": "1.5.0",
      "model_name": "VBoxModel",
      "state": {
       "children": [
        "IPY_MODEL_da93e990fa644a498a95b636e087b57a",
        "IPY_MODEL_235d6d11bfd04636b8bbe4f5acdce72a"
       ],
       "layout": "IPY_MODEL_b80408aa4a3a4cda97d7f77aed79ef40"
      }
     },
     "d3cf6d6f489d4b729c553a49912d5b6c": {
      "model_module": "@jupyter-widgets/base",
      "model_module_version": "1.2.0",
      "model_name": "LayoutModel",
      "state": {}
     },
     "d3e2630e70a64ffbae0c13ddaf467359": {
      "model_module": "@jupyter-widgets/base",
      "model_module_version": "1.2.0",
      "model_name": "LayoutModel",
      "state": {
       "width": "95%"
      }
     },
     "d3ea8b27d7e84f6ca0993e4c6190b1e4": {
      "model_module": "@jupyter-widgets/base",
      "model_module_version": "1.2.0",
      "model_name": "LayoutModel",
      "state": {
       "width": "95%"
      }
     },
     "d3ebc2937296433d8dee31aa88da9512": {
      "model_module": "@jupyter-widgets/controls",
      "model_module_version": "1.5.0",
      "model_name": "VBoxModel",
      "state": {
       "children": [
        "IPY_MODEL_4e63d4e48de846baae8707fa14cc13e5",
        "IPY_MODEL_988e3ffb297c46588e5e7b124a8ae1c3"
       ],
       "layout": "IPY_MODEL_23d58a9ea95b4c36a4d1d0853abd6488"
      }
     },
     "d45ea38081aa42f782cc86c65151e770": {
      "model_module": "@jupyter-widgets/controls",
      "model_module_version": "1.5.0",
      "model_name": "HBoxModel",
      "state": {
       "children": [
        "IPY_MODEL_e875e850e80047aa902b979510b81945",
        "IPY_MODEL_a12c4d37a8e741cb9d3f4bc5bdbd5edc"
       ],
       "layout": "IPY_MODEL_1787500c8538493cae58785bb303865a"
      }
     },
     "d4b017172dd348f692f756fb93119e1b": {
      "model_module": "@jupyter-widgets/base",
      "model_module_version": "1.2.0",
      "model_name": "LayoutModel",
      "state": {}
     },
     "d4be0283fe2b40c68ed94d5bc665a647": {
      "model_module": "@jupyter-widgets/base",
      "model_module_version": "1.2.0",
      "model_name": "LayoutModel",
      "state": {}
     },
     "d4e6940312974408b935d670d5387095": {
      "model_module": "@jupyter-widgets/controls",
      "model_module_version": "1.5.0",
      "model_name": "ButtonModel",
      "state": {
       "description": "7",
       "layout": "IPY_MODEL_f38cc109fa4c470aa37b375e6ee7c952",
       "style": "IPY_MODEL_95b9944e0f024684adbc526fb89d6bb6"
      }
     },
     "d5102b26b5b2458ebac8e35e72ac05cb": {
      "model_module": "@jupyter-widgets/base",
      "model_module_version": "1.2.0",
      "model_name": "LayoutModel",
      "state": {}
     },
     "d53924370187479495f223929b3c264d": {
      "model_module": "@jupyter-widgets/base",
      "model_module_version": "1.2.0",
      "model_name": "LayoutModel",
      "state": {}
     },
     "d584ee4942e14e62a26d86edc426b795": {
      "model_module": "@jupyter-widgets/base",
      "model_module_version": "1.2.0",
      "model_name": "LayoutModel",
      "state": {
       "width": "95%"
      }
     },
     "d5de3e477af94a1591ae779b09e62d16": {
      "model_module": "@jupyter-widgets/controls",
      "model_module_version": "1.5.0",
      "model_name": "ButtonModel",
      "state": {
       "description": "5",
       "layout": "IPY_MODEL_83aec321cd8b4850a41cbb402f9de777",
       "style": "IPY_MODEL_ed2d32e8f3094e559b5b5e86b6398f3f"
      }
     },
     "d5ee66308d6b4e7ab79ae07507a01582": {
      "model_module": "@jupyter-widgets/base",
      "model_module_version": "1.2.0",
      "model_name": "LayoutModel",
      "state": {
       "width": "95%"
      }
     },
     "d5ff4ad1f63b47d3b18cde6e7167f014": {
      "model_module": "@jupyter-widgets/controls",
      "model_module_version": "1.5.0",
      "model_name": "VBoxModel",
      "state": {
       "children": [
        "IPY_MODEL_666b0f223a85486f93c7d48eb361ba69",
        "IPY_MODEL_3f300b7d00bf4291816603bf0502c92d"
       ],
       "layout": "IPY_MODEL_4ec8c9dfd8054f9187da06bc9ec58c3e"
      }
     },
     "d6404bb71aa546798d1a28da9ef23593": {
      "model_module": "@jupyter-widgets/output",
      "model_module_version": "1.0.0",
      "model_name": "OutputModel",
      "state": {
       "layout": "IPY_MODEL_6d5b546273db4e6ea27f69b9c8bcc46d"
      }
     },
     "d647eb035aa14ffbab86cd50a6d3599d": {
      "model_module": "@jupyter-widgets/base",
      "model_module_version": "1.2.0",
      "model_name": "LayoutModel",
      "state": {
       "width": "95%"
      }
     },
     "d68af7defbd74b279e5556587951f519": {
      "model_module": "@jupyter-widgets/base",
      "model_module_version": "1.2.0",
      "model_name": "LayoutModel",
      "state": {
       "width": "95%"
      }
     },
     "d6bca62b53294e1f84743d02264983b4": {
      "model_module": "@jupyter-widgets/output",
      "model_module_version": "1.0.0",
      "model_name": "OutputModel",
      "state": {
       "layout": "IPY_MODEL_bf308bbbd19b42feb4503b51c898a507"
      }
     },
     "d6c5468cd29b4eb09af60a7a79736f82": {
      "model_module": "@jupyter-widgets/base",
      "model_module_version": "1.2.0",
      "model_name": "LayoutModel",
      "state": {}
     },
     "d7088e42f58d412284fcec61e10419f8": {
      "model_module": "@jupyter-widgets/controls",
      "model_module_version": "1.5.0",
      "model_name": "VBoxModel",
      "state": {
       "children": [
        "IPY_MODEL_43cf498024304f7daae9f8f4915a27a9",
        "IPY_MODEL_c7b687445f704fcd803c8d348637d8a7"
       ],
       "layout": "IPY_MODEL_41167b29ed6c4aa1bdad525915a61bb6"
      }
     },
     "d72b8355d9a94a60b5252b3502f86007": {
      "model_module": "@jupyter-widgets/base",
      "model_module_version": "1.2.0",
      "model_name": "LayoutModel",
      "state": {
       "width": "10%"
      }
     },
     "d73324fac1d74450b4bc6365053b3d0f": {
      "model_module": "@jupyter-widgets/controls",
      "model_module_version": "1.5.0",
      "model_name": "VBoxModel",
      "state": {
       "children": [
        "IPY_MODEL_656b14188eed4f39823b67cbef24b6d1",
        "IPY_MODEL_82a25ba748b046de804b31e0247c8cad"
       ],
       "layout": "IPY_MODEL_63e41e21be6b4b90bdb4b6955fd7b21e"
      }
     },
     "d77de4e7ad7f4668a4b4f8321a16c66f": {
      "model_module": "@jupyter-widgets/controls",
      "model_module_version": "1.5.0",
      "model_name": "ButtonStyleModel",
      "state": {}
     },
     "d7a4d495a7fa41a38fcedf046517cddc": {
      "model_module": "@jupyter-widgets/controls",
      "model_module_version": "1.5.0",
      "model_name": "ButtonModel",
      "state": {
       "description": "9",
       "layout": "IPY_MODEL_d3e2630e70a64ffbae0c13ddaf467359",
       "style": "IPY_MODEL_636b828c6d364a71939a04e52c7d7295"
      }
     },
     "d828cf04f433413dbfd7063949fb1165": {
      "model_module": "@jupyter-widgets/controls",
      "model_module_version": "1.5.0",
      "model_name": "VBoxModel",
      "state": {
       "children": [
        "IPY_MODEL_47f0053078504337a25325082628b939",
        "IPY_MODEL_9ae86f35aa3e41b0b8e31eb910d90942"
       ],
       "layout": "IPY_MODEL_463ee96fc83a4e7b937565c08c367148"
      }
     },
     "d8676486ae4b45318d511da9a309c88e": {
      "model_module": "@jupyter-widgets/output",
      "model_module_version": "1.0.0",
      "model_name": "OutputModel",
      "state": {
       "layout": "IPY_MODEL_98eaa9140cb646708a248e3544f617fc"
      }
     },
     "d86e524805594f2297a24aa2a76c7a61": {
      "model_module": "@jupyter-widgets/base",
      "model_module_version": "1.2.0",
      "model_name": "LayoutModel",
      "state": {}
     },
     "d8bb68573e24434997e30b83fd3ef064": {
      "model_module": "@jupyter-widgets/base",
      "model_module_version": "1.2.0",
      "model_name": "LayoutModel",
      "state": {
       "width": "95%"
      }
     },
     "d8e52062f22a440b8f79b23abf40aa85": {
      "model_module": "@jupyter-widgets/output",
      "model_module_version": "1.0.0",
      "model_name": "OutputModel",
      "state": {
       "layout": "IPY_MODEL_2154af06c78e45bfaf7e5c62f12861db"
      }
     },
     "d98770bdb6214861854a5e669e5d6a30": {
      "model_module": "@jupyter-widgets/controls",
      "model_module_version": "1.5.0",
      "model_name": "VBoxModel",
      "state": {
       "children": [
        "IPY_MODEL_8866136fe8194975a9d5f87a293bf07d",
        "IPY_MODEL_046402c80f4b4ef4bffc69e5346539b3"
       ],
       "layout": "IPY_MODEL_b44d04d2963849baad4992c3c6737b90"
      }
     },
     "d990e9569d8944a5830fb8618a89599b": {
      "model_module": "@jupyter-widgets/base",
      "model_module_version": "1.2.0",
      "model_name": "LayoutModel",
      "state": {
       "width": "10%"
      }
     },
     "d994793fa9094e05b4f1e5bc39db81e0": {
      "model_module": "@jupyter-widgets/controls",
      "model_module_version": "1.5.0",
      "model_name": "ButtonStyleModel",
      "state": {}
     },
     "d9a8be1cd3824b9b8d85d87fe7663420": {
      "model_module": "@jupyter-widgets/controls",
      "model_module_version": "1.5.0",
      "model_name": "ButtonModel",
      "state": {
       "description": "0",
       "layout": "IPY_MODEL_3d07ac6727ac4191a084526473f26e27",
       "style": "IPY_MODEL_c3c7e827bd5c470e96fa03ac3604fe7f"
      }
     },
     "d9a9d1ce6fe14b42ab001c7b789331c5": {
      "model_module": "@jupyter-widgets/base",
      "model_module_version": "1.2.0",
      "model_name": "LayoutModel",
      "state": {}
     },
     "d9e98a00bd1042958491b86ae1c55dc5": {
      "model_module": "@jupyter-widgets/controls",
      "model_module_version": "1.5.0",
      "model_name": "VBoxModel",
      "state": {
       "children": [
        "IPY_MODEL_f985b5ac6ba345bd8561f44032269f1a",
        "IPY_MODEL_6c5bd8ca4eae464ca6dd21f8bb64d762"
       ],
       "layout": "IPY_MODEL_8ccc1fc70e6f4486b59ac135f91f3f69"
      }
     },
     "da05e0e0b9c749998fbf40b5b42fd1b0": {
      "model_module": "@jupyter-widgets/controls",
      "model_module_version": "1.5.0",
      "model_name": "ButtonModel",
      "state": {
       "description": "0",
       "layout": "IPY_MODEL_b5e98a5f585e4a3dbf8da065147003d9",
       "style": "IPY_MODEL_d77de4e7ad7f4668a4b4f8321a16c66f"
      }
     },
     "da094c4c5ca9448a96e840bfac7e45e3": {
      "model_module": "@jupyter-widgets/base",
      "model_module_version": "1.2.0",
      "model_name": "LayoutModel",
      "state": {
       "width": "95%"
      }
     },
     "da20ddf3b8f4479388e3be69e1b56bf2": {
      "model_module": "@jupyter-widgets/base",
      "model_module_version": "1.2.0",
      "model_name": "LayoutModel",
      "state": {}
     },
     "da2d011461c64812b936727593cce151": {
      "model_module": "@jupyter-widgets/controls",
      "model_module_version": "1.5.0",
      "model_name": "ButtonStyleModel",
      "state": {}
     },
     "da52517a58a04554bcaeddc881d164a5": {
      "model_module": "@jupyter-widgets/controls",
      "model_module_version": "1.5.0",
      "model_name": "ButtonStyleModel",
      "state": {}
     },
     "da93e990fa644a498a95b636e087b57a": {
      "model_module": "@jupyter-widgets/controls",
      "model_module_version": "1.5.0",
      "model_name": "ButtonModel",
      "state": {
       "description": "1",
       "layout": "IPY_MODEL_7c41358297dd4d85b85f40119a2a33c0",
       "style": "IPY_MODEL_f9803b73875b4dbc876b196b82ebec86"
      }
     },
     "dab200a0ecb64e2ca6d063731e6e9b74": {
      "model_module": "@jupyter-widgets/controls",
      "model_module_version": "1.5.0",
      "model_name": "VBoxModel",
      "state": {
       "children": [
        "IPY_MODEL_4b678f795e424f9f8a480939b3c5c3ee",
        "IPY_MODEL_5fe037de422349e79c31d3200d4632d7"
       ],
       "layout": "IPY_MODEL_a8bb72a150ab41fda4fd277416ee08fe"
      }
     },
     "dac911b1890b4109ab0732a43ba28e7a": {
      "model_module": "@jupyter-widgets/controls",
      "model_module_version": "1.5.0",
      "model_name": "VBoxModel",
      "state": {
       "children": [
        "IPY_MODEL_2a4ddefcc5d54d3c9c53026478a42672",
        "IPY_MODEL_3a299599c3034f49b2687125e2b3cbce"
       ],
       "layout": "IPY_MODEL_280abb4b2c0141ceb17ec5aec8c8110a"
      }
     },
     "dad816c1253448dfacb75dccdb1661c3": {
      "model_module": "@jupyter-widgets/controls",
      "model_module_version": "1.5.0",
      "model_name": "ButtonStyleModel",
      "state": {}
     },
     "dadc55c6d6bb4b26a628eae200d4eb6b": {
      "model_module": "@jupyter-widgets/controls",
      "model_module_version": "1.5.0",
      "model_name": "ButtonModel",
      "state": {
       "description": "5",
       "layout": "IPY_MODEL_8f7fddbb7fb649c8b877c8e02360ebbe",
       "style": "IPY_MODEL_dad816c1253448dfacb75dccdb1661c3"
      }
     },
     "db2a91d307c34759b2a74fa5dd015bb2": {
      "model_module": "@jupyter-widgets/base",
      "model_module_version": "1.2.0",
      "model_name": "LayoutModel",
      "state": {
       "width": "10%"
      }
     },
     "db3abeebe3044d7aab2bb628689ac956": {
      "model_module": "@jupyter-widgets/base",
      "model_module_version": "1.2.0",
      "model_name": "LayoutModel",
      "state": {
       "width": "95%"
      }
     },
     "db45270b224343158819c8043a7aebd6": {
      "model_module": "@jupyter-widgets/controls",
      "model_module_version": "1.5.0",
      "model_name": "ButtonModel",
      "state": {
       "description": "6",
       "layout": "IPY_MODEL_aadd8e64d8cc4ddf9a79f1b990bf263b",
       "style": "IPY_MODEL_89435564a9474325b09a17380e39e72c"
      }
     },
     "db7238ae2f264e61bedb0d4ffea3847c": {
      "model_module": "@jupyter-widgets/controls",
      "model_module_version": "1.5.0",
      "model_name": "ButtonModel",
      "state": {
       "description": "4",
       "layout": "IPY_MODEL_0d99d68e2d2a427d956b75e45fc8c864",
       "style": "IPY_MODEL_bf2f7c5e26da4e36a1de3e5a1861bd8d"
      }
     },
     "db7b99b5d55c4cb683af9d9dd28d3435": {
      "model_module": "@jupyter-widgets/output",
      "model_module_version": "1.0.0",
      "model_name": "OutputModel",
      "state": {
       "layout": "IPY_MODEL_379dd3acd9fa481b9966eef830db068e"
      }
     },
     "db7f56665f5e40fda8c8eb64b544af6d": {
      "model_module": "@jupyter-widgets/controls",
      "model_module_version": "1.5.0",
      "model_name": "HBoxModel",
      "state": {
       "children": [
        "IPY_MODEL_e8df2377567e40648e3b195f3fa59fda",
        "IPY_MODEL_73b5fc2c264949049e7f8f2626b46689"
       ],
       "layout": "IPY_MODEL_fcf93fcfdf9243e6b60634ab72bd3f2c"
      }
     },
     "db8a7d4ad7b542808f235c3172fd498c": {
      "model_module": "@jupyter-widgets/base",
      "model_module_version": "1.2.0",
      "model_name": "LayoutModel",
      "state": {
       "width": "10%"
      }
     },
     "dc3de554fa4c4e268f4b3a553e6941ce": {
      "model_module": "@jupyter-widgets/controls",
      "model_module_version": "1.5.0",
      "model_name": "DescriptionStyleModel",
      "state": {
       "description_width": ""
      }
     },
     "dc734d3395934b15b5e1b414a06d7d31": {
      "model_module": "@jupyter-widgets/base",
      "model_module_version": "1.2.0",
      "model_name": "LayoutModel",
      "state": {
       "width": "10%"
      }
     },
     "dd2dbe2da6b44a0c96ac118abb8ff328": {
      "model_module": "@jupyter-widgets/base",
      "model_module_version": "1.2.0",
      "model_name": "LayoutModel",
      "state": {}
     },
     "dd61ddc516db4fb8b9a087c8bf96831a": {
      "model_module": "@jupyter-widgets/base",
      "model_module_version": "1.2.0",
      "model_name": "LayoutModel",
      "state": {
       "width": "10%"
      }
     },
     "dd930c4d46f246e2899ffe1d80b53026": {
      "model_module": "@jupyter-widgets/controls",
      "model_module_version": "1.5.0",
      "model_name": "HBoxModel",
      "state": {
       "children": [
        "IPY_MODEL_a48e60a93336441ea469e79e19bd6c9e",
        "IPY_MODEL_09216e9cbb68480b80fc28215edd6243",
        "IPY_MODEL_9448da3bc09c41f3b07459d68137592c",
        "IPY_MODEL_af87e83a5261484e8eb2f9f5850ad5ce",
        "IPY_MODEL_c09bf5ba52d4485684c2f27dcf842253",
        "IPY_MODEL_ce80656b67b347a2aa2b6843e1b900fc",
        "IPY_MODEL_aedd251c299a44ab8ac9614725b6192a",
        "IPY_MODEL_9701c65fdaba465694072911688746f7",
        "IPY_MODEL_ce363508c0da4d7dbf187914285645ef",
        "IPY_MODEL_4c6caecdd3f740589f05728d3186bf54"
       ],
       "layout": "IPY_MODEL_8b2a105b0e074e66b1baee03ba6454d4"
      }
     },
     "dd9f26c21c73400f837b81b02e7ae1fb": {
      "model_module": "@jupyter-widgets/output",
      "model_module_version": "1.0.0",
      "model_name": "OutputModel",
      "state": {
       "layout": "IPY_MODEL_e967164ac51744d2bba791322bdf18b5"
      }
     },
     "dda4e93078f84ae2b818ec71e81094ec": {
      "model_module": "@jupyter-widgets/controls",
      "model_module_version": "1.5.0",
      "model_name": "HBoxModel",
      "state": {
       "children": [
        "IPY_MODEL_606b2ab379524f0f9dd7ad119b9eda97",
        "IPY_MODEL_369da37e0e5d4d3093005193921520a4",
        "IPY_MODEL_c094f9eda1aa4a1c8fc45247932bdf1c"
       ],
       "layout": "IPY_MODEL_cd7b51a773a14178b4dc4f2b2b1a9354"
      }
     },
     "de020d28184d48fb97ac7612de6ec3a3": {
      "model_module": "@jupyter-widgets/base",
      "model_module_version": "1.2.0",
      "model_name": "LayoutModel",
      "state": {
       "width": "95%"
      }
     },
     "de36b8a5e05a4c458aa86bd7974c44af": {
      "model_module": "@jupyter-widgets/output",
      "model_module_version": "1.0.0",
      "model_name": "OutputModel",
      "state": {
       "layout": "IPY_MODEL_71a82b020d9e4bdbb084299119f618a9",
       "outputs": [
        {
         "data": {
          "image/png": "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\n",
          "text/plain": "<PIL.Image.Image image mode=L size=200x200 at 0x11E815550>"
         },
         "metadata": {},
         "output_type": "display_data"
        }
       ]
      }
     },
     "de8333264de4436a965b48e1bbe7350a": {
      "model_module": "@jupyter-widgets/base",
      "model_module_version": "1.2.0",
      "model_name": "LayoutModel",
      "state": {
       "width": "10%"
      }
     },
     "df1703006d444f98aafbc42225e1e1c4": {
      "model_module": "@jupyter-widgets/output",
      "model_module_version": "1.0.0",
      "model_name": "OutputModel",
      "state": {
       "layout": "IPY_MODEL_ce384d73882740ce8ed8a46116e1965b"
      }
     },
     "df452ed6368b41598653a15eeb07b952": {
      "model_module": "@jupyter-widgets/controls",
      "model_module_version": "1.5.0",
      "model_name": "ButtonStyleModel",
      "state": {}
     },
     "df5b213e550744549bd7327133f57af1": {
      "model_module": "@jupyter-widgets/controls",
      "model_module_version": "1.5.0",
      "model_name": "VBoxModel",
      "state": {
       "children": [
        "IPY_MODEL_3441d458ca164002bc1b10930b597249",
        "IPY_MODEL_101ca6262610437081f2d40dcbe5ef17"
       ],
       "layout": "IPY_MODEL_fae40a92f42f4156b0dacf28b2905538"
      }
     },
     "df69a6a3e29a4df3b1813c03ae1e0c60": {
      "model_module": "@jupyter-widgets/controls",
      "model_module_version": "1.5.0",
      "model_name": "VBoxModel",
      "state": {
       "children": [
        "IPY_MODEL_6c496553e35e40059f2491ab49985ef9",
        "IPY_MODEL_c7ef35ff35d14590b762dd0c4a195c64"
       ],
       "layout": "IPY_MODEL_ee872d6d8f22484886c331f104c2f824"
      }
     },
     "df9580b3aa7243f9b6707a0d59cf85c5": {
      "model_module": "@jupyter-widgets/base",
      "model_module_version": "1.2.0",
      "model_name": "LayoutModel",
      "state": {
       "width": "10%"
      }
     },
     "dfa6bce6202247f792703a01650d180f": {
      "model_module": "@jupyter-widgets/base",
      "model_module_version": "1.2.0",
      "model_name": "LayoutModel",
      "state": {
       "width": "10%"
      }
     },
     "dfb9d6fdf7904dafa4f10113844ff9ed": {
      "model_module": "@jupyter-widgets/controls",
      "model_module_version": "1.5.0",
      "model_name": "ButtonStyleModel",
      "state": {}
     },
     "dfd3bc80995d4ba1bd362c11e1cf3399": {
      "model_module": "@jupyter-widgets/controls",
      "model_module_version": "1.5.0",
      "model_name": "ButtonStyleModel",
      "state": {}
     },
     "dfeeb8d8525c422b8360965f9d5a16a7": {
      "model_module": "@jupyter-widgets/controls",
      "model_module_version": "1.5.0",
      "model_name": "TextModel",
      "state": {
       "description": "Other:",
       "layout": "IPY_MODEL_ef6323068f0e48fbb7415f0b0cc8e15a",
       "placeholder": "Hit enter to submit.",
       "style": "IPY_MODEL_3e046a07a35045999135add71056dffb"
      }
     },
     "e00d683160854adb9a21f1e5358806b9": {
      "model_module": "@jupyter-widgets/output",
      "model_module_version": "1.0.0",
      "model_name": "OutputModel",
      "state": {
       "layout": "IPY_MODEL_ba043ccabfa5448ca3b37b37f01f8622"
      }
     },
     "e064a4a7443a4c3693890e556432e661": {
      "model_module": "@jupyter-widgets/base",
      "model_module_version": "1.2.0",
      "model_name": "LayoutModel",
      "state": {
       "width": "10%"
      }
     },
     "e072f5743ee64c6abd46fbbf91f3b23c": {
      "model_module": "@jupyter-widgets/controls",
      "model_module_version": "1.5.0",
      "model_name": "VBoxModel",
      "state": {
       "children": [
        "IPY_MODEL_82afd9f6d30c45c48fb0e51caf13daae",
        "IPY_MODEL_e84fd1bd0fb041fa90306333d44cc3b3"
       ],
       "layout": "IPY_MODEL_9318b4b323e1440d868c83f641813d91"
      }
     },
     "e0930a5b9f8747b2add64cad03a606c1": {
      "model_module": "@jupyter-widgets/controls",
      "model_module_version": "1.5.0",
      "model_name": "VBoxModel",
      "state": {
       "children": [
        "IPY_MODEL_8aff68cffd3c46b78e5e474bdba3a4be",
        "IPY_MODEL_8239c5c7ff0f43b49497d0359fcacad9"
       ],
       "layout": "IPY_MODEL_a9c77a1112e94d189c4809580f5b8455"
      }
     },
     "e0c69f3f82c84ad0bdb3835c701e9e05": {
      "model_module": "@jupyter-widgets/controls",
      "model_module_version": "1.5.0",
      "model_name": "ButtonStyleModel",
      "state": {}
     },
     "e0ead2e591cf4a46ae43ffc093560bfe": {
      "model_module": "@jupyter-widgets/output",
      "model_module_version": "1.0.0",
      "model_name": "OutputModel",
      "state": {
       "layout": "IPY_MODEL_82d5b393d8bd48cc82b6eb8ca8775ad0"
      }
     },
     "e1187c931bd04c7abc80e503d4be0701": {
      "model_module": "@jupyter-widgets/base",
      "model_module_version": "1.2.0",
      "model_name": "LayoutModel",
      "state": {
       "width": "10%"
      }
     },
     "e1294e62acc845bbbdb5d17a0f9969c6": {
      "model_module": "@jupyter-widgets/controls",
      "model_module_version": "1.5.0",
      "model_name": "VBoxModel",
      "state": {
       "children": [
        "IPY_MODEL_c7aa6567b89e421bacfb52627ff5846a",
        "IPY_MODEL_bf670a9e466d4b8783d95db6804f31a7"
       ],
       "layout": "IPY_MODEL_74ee78957047407a94001357ef0c92ca"
      }
     },
     "e1547a45ffc1434fb28c05662cf08d06": {
      "model_module": "@jupyter-widgets/controls",
      "model_module_version": "1.5.0",
      "model_name": "ButtonModel",
      "state": {
       "description": "4",
       "layout": "IPY_MODEL_7d97d6b607ab4327a05cb313d39a23c4",
       "style": "IPY_MODEL_ade3c652dd804e6996279a3af362d127"
      }
     },
     "e17308b93d8b478f984d2207e264ed71": {
      "model_module": "@jupyter-widgets/controls",
      "model_module_version": "1.5.0",
      "model_name": "ButtonModel",
      "state": {
       "description": "1",
       "layout": "IPY_MODEL_8e6c870cbf1745c7905e593ffbfb263b",
       "style": "IPY_MODEL_fb84728316e349b2a779ed0de4425301"
      }
     },
     "e17f38efd0914286975bb0cee8871a82": {
      "model_module": "@jupyter-widgets/output",
      "model_module_version": "1.0.0",
      "model_name": "OutputModel",
      "state": {
       "layout": "IPY_MODEL_939bcae6a77946c5bcc0d95d92d724a2"
      }
     },
     "e1b23a85cf58405e85f91aee3cdfddaf": {
      "model_module": "@jupyter-widgets/output",
      "model_module_version": "1.0.0",
      "model_name": "OutputModel",
      "state": {
       "layout": "IPY_MODEL_0ca0c8ba186747739ef2cfa93b7c2cd1"
      }
     },
     "e200136dc486491e9093b9951a4796ad": {
      "model_module": "@jupyter-widgets/controls",
      "model_module_version": "1.5.0",
      "model_name": "ButtonModel",
      "state": {
       "description": "8",
       "layout": "IPY_MODEL_5759d16090be41faa0e4df046d7bc2d1",
       "style": "IPY_MODEL_b1733f8e0de34c5d83f231270ee3320e"
      }
     },
     "e205b7fc34794bddb97f5b5a425e7442": {
      "model_module": "@jupyter-widgets/base",
      "model_module_version": "1.2.0",
      "model_name": "LayoutModel",
      "state": {
       "width": "95%"
      }
     },
     "e23306adbe1e452a8a806acd165721f1": {
      "model_module": "@jupyter-widgets/output",
      "model_module_version": "1.0.0",
      "model_name": "OutputModel",
      "state": {
       "layout": "IPY_MODEL_0fcec58071fa43e0bbdef4a9b67fe262"
      }
     },
     "e29447db2bdc45a89063874a03af6993": {
      "model_module": "@jupyter-widgets/base",
      "model_module_version": "1.2.0",
      "model_name": "LayoutModel",
      "state": {}
     },
     "e29bed964118421dba53074a9c593d68": {
      "model_module": "@jupyter-widgets/controls",
      "model_module_version": "1.5.0",
      "model_name": "ButtonStyleModel",
      "state": {}
     },
     "e2adfb416bae41d99b10cf11eb7e3ff8": {
      "model_module": "@jupyter-widgets/base",
      "model_module_version": "1.2.0",
      "model_name": "LayoutModel",
      "state": {
       "width": "95%"
      }
     },
     "e2f2b6760f714a32be8858e46262159f": {
      "model_module": "@jupyter-widgets/base",
      "model_module_version": "1.2.0",
      "model_name": "LayoutModel",
      "state": {
       "width": "10%"
      }
     },
     "e309a6703d0840ebabf493f7bf11b1a2": {
      "model_module": "@jupyter-widgets/controls",
      "model_module_version": "1.5.0",
      "model_name": "ButtonModel",
      "state": {
       "description": "4",
       "layout": "IPY_MODEL_5e5d10d803f34748be5d6d107e298384",
       "style": "IPY_MODEL_79576e1239e94d3998b86a5aefed4b50"
      }
     },
     "e356e1b5bd3e4fc18a092eecc63f7ab0": {
      "model_module": "@jupyter-widgets/controls",
      "model_module_version": "1.5.0",
      "model_name": "ButtonModel",
      "state": {
       "description": "4",
       "layout": "IPY_MODEL_31656248107f412ca3eaea51251a1c6a",
       "style": "IPY_MODEL_1392442de6e44d089bce22ea359d1f6c"
      }
     },
     "e37d3bb1712341c0bd2318b7f7f71983": {
      "model_module": "@jupyter-widgets/controls",
      "model_module_version": "1.5.0",
      "model_name": "ButtonModel",
      "state": {
       "description": "0",
       "layout": "IPY_MODEL_8175e639689141bda62143cc335fd578",
       "style": "IPY_MODEL_904197781de84938b259269f2c6ee082"
      }
     },
     "e41737253f164fcb9b87138fe844efa3": {
      "model_module": "@jupyter-widgets/base",
      "model_module_version": "1.2.0",
      "model_name": "LayoutModel",
      "state": {}
     },
     "e452e2cbcac448e191dc985132454935": {
      "model_module": "@jupyter-widgets/base",
      "model_module_version": "1.2.0",
      "model_name": "LayoutModel",
      "state": {
       "width": "95%"
      }
     },
     "e493a96b87d74c0e8025ed8ffb65584b": {
      "model_module": "@jupyter-widgets/base",
      "model_module_version": "1.2.0",
      "model_name": "LayoutModel",
      "state": {
       "width": "95%"
      }
     },
     "e4b91eb5f313407f91c76479b39827b2": {
      "model_module": "@jupyter-widgets/controls",
      "model_module_version": "1.5.0",
      "model_name": "ButtonModel",
      "state": {
       "description": "0",
       "layout": "IPY_MODEL_cd6b1639806b4d34bcc8e584625d8b39",
       "style": "IPY_MODEL_7a6430a988f743ac9459574b318de2e7"
      }
     },
     "e4cea9c757c14137bea7bf662f2f6583": {
      "model_module": "@jupyter-widgets/base",
      "model_module_version": "1.2.0",
      "model_name": "LayoutModel",
      "state": {}
     },
     "e4e2487cf6ea426580c47e783661959d": {
      "model_module": "@jupyter-widgets/controls",
      "model_module_version": "1.5.0",
      "model_name": "ButtonModel",
      "state": {
       "description": "8",
       "layout": "IPY_MODEL_41d929a7ec464020ac465449320978e4",
       "style": "IPY_MODEL_cf21fea1bb8b44c9bbfab4c3582fb852"
      }
     },
     "e4fa3d6b96324bd6b119af027accefe1": {
      "model_module": "@jupyter-widgets/base",
      "model_module_version": "1.2.0",
      "model_name": "LayoutModel",
      "state": {}
     },
     "e51b7df8a74d48e88a7329b3ad2fb097": {
      "model_module": "@jupyter-widgets/controls",
      "model_module_version": "1.5.0",
      "model_name": "ButtonModel",
      "state": {
       "description": "7",
       "layout": "IPY_MODEL_44712f9ebb3c40c19e523e35fb1aeaf1",
       "style": "IPY_MODEL_cfa4958400b545098a193ab046ae83e7"
      }
     },
     "e523e1035f5942be9a05a2c10df37403": {
      "model_module": "@jupyter-widgets/controls",
      "model_module_version": "1.5.0",
      "model_name": "HBoxModel",
      "state": {
       "children": [
        "IPY_MODEL_c018ac209f4b40328da1fa2b9b42b703",
        "IPY_MODEL_16ba2506fed349969c570add3f80f0b0",
        "IPY_MODEL_15a19a369e6d42b487fccc106a75ad6c",
        "IPY_MODEL_796426218c4d46658ff9cebafa1b6cff",
        "IPY_MODEL_c4ae5790172d4fdb9f4288c0f1668a22",
        "IPY_MODEL_a396a393a29d48a0bf87166aba5029ec",
        "IPY_MODEL_5c5c4dafe637497fa332e692da4793a1",
        "IPY_MODEL_5b404e8bfd784bd68f6bc6f492844ae6",
        "IPY_MODEL_cb0db06ab84c4165a038a6c15602fdd2",
        "IPY_MODEL_02928bc79b2e4f34b0f325455fe08d3e"
       ],
       "layout": "IPY_MODEL_43675ced581c46d38e6f35c832841b2b"
      }
     },
     "e5282b76b45748ba88503f27d50715c5": {
      "model_module": "@jupyter-widgets/controls",
      "model_module_version": "1.5.0",
      "model_name": "VBoxModel",
      "state": {
       "children": [
        "IPY_MODEL_88a48965d0b34054b42e00f4ac146227",
        "IPY_MODEL_fccfec69afa248c387de321f6a2c109b"
       ],
       "layout": "IPY_MODEL_9797fed9dadc4c688c6d880af65e4de7"
      }
     },
     "e62356c336524b27a2430fbc43329f7f": {
      "model_module": "@jupyter-widgets/controls",
      "model_module_version": "1.5.0",
      "model_name": "ButtonModel",
      "state": {
       "description": "1",
       "layout": "IPY_MODEL_4dcf4d92095c407abcce8580a8430dcc",
       "style": "IPY_MODEL_0b38d4bd9af143f08c2693779569dc36"
      }
     },
     "e6415d6d02fe4a5ba18782fc7d3bf202": {
      "model_module": "@jupyter-widgets/controls",
      "model_module_version": "1.5.0",
      "model_name": "ButtonModel",
      "state": {
       "description": "9",
       "layout": "IPY_MODEL_7e6383f93d4a4d8cae73893abb96ca45",
       "style": "IPY_MODEL_84d4a1b717fa4e07833b35f0acf5b62e"
      }
     },
     "e6446250eef64e56ba23bdaf38958f81": {
      "model_module": "@jupyter-widgets/base",
      "model_module_version": "1.2.0",
      "model_name": "LayoutModel",
      "state": {
       "width": "95%"
      }
     },
     "e6986c4ab4704ef0b05d23af57859292": {
      "model_module": "@jupyter-widgets/base",
      "model_module_version": "1.2.0",
      "model_name": "LayoutModel",
      "state": {}
     },
     "e74f30acb4d248dea24f7ed6b7e69dfb": {
      "model_module": "@jupyter-widgets/controls",
      "model_module_version": "1.5.0",
      "model_name": "VBoxModel",
      "state": {
       "children": [
        "IPY_MODEL_9a97906351bc4a21b44d4ba9a2a70008",
        "IPY_MODEL_1341c30520494a5eb5726498730e2b2f"
       ],
       "layout": "IPY_MODEL_dd61ddc516db4fb8b9a087c8bf96831a"
      }
     },
     "e7cc767df1394bdb810187ce30976cd2": {
      "model_module": "@jupyter-widgets/base",
      "model_module_version": "1.2.0",
      "model_name": "LayoutModel",
      "state": {}
     },
     "e7ff3d69a3294417a48fa697a7e3bfc5": {
      "model_module": "@jupyter-widgets/base",
      "model_module_version": "1.2.0",
      "model_name": "LayoutModel",
      "state": {
       "width": "10%"
      }
     },
     "e8134f6d38bf4b58aea7f15596884f15": {
      "model_module": "@jupyter-widgets/controls",
      "model_module_version": "1.5.0",
      "model_name": "DescriptionStyleModel",
      "state": {
       "description_width": ""
      }
     },
     "e82295b289e04abda6dff2ea9ceeb107": {
      "model_module": "@jupyter-widgets/base",
      "model_module_version": "1.2.0",
      "model_name": "LayoutModel",
      "state": {}
     },
     "e8318ae0bf284b8eabbf4a78b60e0471": {
      "model_module": "@jupyter-widgets/controls",
      "model_module_version": "1.5.0",
      "model_name": "TextModel",
      "state": {
       "description": "Other:",
       "layout": "IPY_MODEL_83d1249d50be46f181f0eaba6a2fdeab",
       "placeholder": "Hit enter to submit.",
       "style": "IPY_MODEL_70483b7802964b7a8c163920f18db1d3"
      }
     },
     "e84fd1bd0fb041fa90306333d44cc3b3": {
      "model_module": "@jupyter-widgets/output",
      "model_module_version": "1.0.0",
      "model_name": "OutputModel",
      "state": {
       "layout": "IPY_MODEL_5299f96723174200b88472a3d1b19895"
      }
     },
     "e86f104addd742e09f94543c759820f5": {
      "model_module": "@jupyter-widgets/base",
      "model_module_version": "1.2.0",
      "model_name": "LayoutModel",
      "state": {
       "width": "10%"
      }
     },
     "e87551479ba94584968da313df822605": {
      "model_module": "@jupyter-widgets/controls",
      "model_module_version": "1.5.0",
      "model_name": "ButtonModel",
      "state": {
       "description": "2",
       "layout": "IPY_MODEL_78eb1359334b4f378613bb91957ec9ea",
       "style": "IPY_MODEL_73df05bbc9f3415f9c98e2cc93d8f496"
      }
     },
     "e875e850e80047aa902b979510b81945": {
      "model_module": "@jupyter-widgets/controls",
      "model_module_version": "1.5.0",
      "model_name": "TextModel",
      "state": {
       "description": "Other:",
       "layout": "IPY_MODEL_68a97006e5f041408912cdd0bd3c18eb",
       "placeholder": "Hit enter to submit.",
       "style": "IPY_MODEL_4dfae94fbfcc416c8eb57132ab3fba7c"
      }
     },
     "e88fd79216cd4881aa8ce6c58462dac9": {
      "model_module": "@jupyter-widgets/controls",
      "model_module_version": "1.5.0",
      "model_name": "HBoxModel",
      "state": {
       "children": [
        "IPY_MODEL_6a2c0d332a4644f8b37fb58d71659363",
        "IPY_MODEL_3dce0249a3c24f4a91666937e8546e4a",
        "IPY_MODEL_299eae9e549845dc8271ef7a0f0d7034",
        "IPY_MODEL_2ba43e2b8131486d921b4fb5556b8b12",
        "IPY_MODEL_9aa36ec708074d789da9d71b32c282a9",
        "IPY_MODEL_01a3d8737b574bb2966c15a772fa0606",
        "IPY_MODEL_76de3367a67a4253b05602a60666fc4d",
        "IPY_MODEL_6040e3d5d492488e879ff50fb3e6ebec",
        "IPY_MODEL_5a144fb3794c47398a2d099ecf4930e1",
        "IPY_MODEL_b51ba7692d9d49aea0ed6909f7e3fe9d"
       ],
       "layout": "IPY_MODEL_d4b017172dd348f692f756fb93119e1b"
      }
     },
     "e8df2377567e40648e3b195f3fa59fda": {
      "model_module": "@jupyter-widgets/controls",
      "model_module_version": "1.5.0",
      "model_name": "TextModel",
      "state": {
       "description": "Other:",
       "layout": "IPY_MODEL_a4fed757121d47a1b6cc691babdadd51",
       "placeholder": "Hit enter to submit.",
       "style": "IPY_MODEL_99caeb5fcb664d25a97b1fd391a6ae2d"
      }
     },
     "e8eef15ba7d34a3096f59d9e498e774d": {
      "model_module": "@jupyter-widgets/base",
      "model_module_version": "1.2.0",
      "model_name": "LayoutModel",
      "state": {
       "width": "95%"
      }
     },
     "e967164ac51744d2bba791322bdf18b5": {
      "model_module": "@jupyter-widgets/base",
      "model_module_version": "1.2.0",
      "model_name": "LayoutModel",
      "state": {}
     },
     "e9756504eae04543948d7571d5f6f46e": {
      "model_module": "@jupyter-widgets/base",
      "model_module_version": "1.2.0",
      "model_name": "LayoutModel",
      "state": {
       "width": "95%"
      }
     },
     "e9f89c3e5d224e498f6f2c43467ceee9": {
      "model_module": "@jupyter-widgets/controls",
      "model_module_version": "1.5.0",
      "model_name": "VBoxModel",
      "state": {
       "children": [
        "IPY_MODEL_6ba176315079438d834406309b5d36c3",
        "IPY_MODEL_6e2e290ea2b74484b818dd342ffb6a4f"
       ],
       "layout": "IPY_MODEL_2c4440ed12644672a6c4474a82628636"
      }
     },
     "ea3a32a0c5154e29ae20e7c16d913904": {
      "model_module": "@jupyter-widgets/base",
      "model_module_version": "1.2.0",
      "model_name": "LayoutModel",
      "state": {
       "width": "10%"
      }
     },
     "ea6247e66e984d738ee3ead459164f37": {
      "model_module": "@jupyter-widgets/base",
      "model_module_version": "1.2.0",
      "model_name": "LayoutModel",
      "state": {
       "width": "10%"
      }
     },
     "eae184031b5f4797ab62ab774e94058e": {
      "model_module": "@jupyter-widgets/controls",
      "model_module_version": "1.5.0",
      "model_name": "ButtonStyleModel",
      "state": {}
     },
     "eb10ec1b4af041ca8f9f22bde7be8b67": {
      "model_module": "@jupyter-widgets/base",
      "model_module_version": "1.2.0",
      "model_name": "LayoutModel",
      "state": {
       "width": "95%"
      }
     },
     "eb6e9e0d277149bdbfb7de571385be5f": {
      "model_module": "@jupyter-widgets/controls",
      "model_module_version": "1.5.0",
      "model_name": "ButtonModel",
      "state": {
       "description": "7",
       "layout": "IPY_MODEL_71c5877ab8474b9981a1db0d8c3c3f17",
       "style": "IPY_MODEL_18b6d6c78eaf4f0a94c4b23933b24748"
      }
     },
     "eb8e8413dc2e4fdab9c939460ccf7f9f": {
      "model_module": "@jupyter-widgets/controls",
      "model_module_version": "1.5.0",
      "model_name": "HBoxModel",
      "state": {
       "children": [
        "IPY_MODEL_09c9eae59c9d47c7a28f67079fa2c1da",
        "IPY_MODEL_bafbfe154d7542aab3714e88b657d346",
        "IPY_MODEL_f9129ee1e5d743eea1a69e1977d082ab",
        "IPY_MODEL_7e18ac061d3b47628dab174797b75755",
        "IPY_MODEL_e0930a5b9f8747b2add64cad03a606c1",
        "IPY_MODEL_bb76b39fa1484103a128c8b2456a1df4",
        "IPY_MODEL_97caf44c2640490b936c9a922285fb98",
        "IPY_MODEL_b6c1ce8eb7fe4cda8c2c75bd60735487",
        "IPY_MODEL_fe681f6b4c8d418297792d5eced032bf",
        "IPY_MODEL_6ad9edf3b7ba48eab4a7406c0332bb99"
       ],
       "layout": "IPY_MODEL_c7f6c5d7d8344f7ebfd70bd67c0e02eb"
      }
     },
     "eb93e9e5bc5c4163ba64970e06bf90cd": {
      "model_module": "@jupyter-widgets/base",
      "model_module_version": "1.2.0",
      "model_name": "LayoutModel",
      "state": {
       "width": "10%"
      }
     },
     "ebb13f7ce17c412cb4a18212511e4f13": {
      "model_module": "@jupyter-widgets/base",
      "model_module_version": "1.2.0",
      "model_name": "LayoutModel",
      "state": {
       "width": "10%"
      }
     },
     "ebb2be88dc444410bf960e3f6b91df4a": {
      "model_module": "@jupyter-widgets/base",
      "model_module_version": "1.2.0",
      "model_name": "LayoutModel",
      "state": {
       "width": "10%"
      }
     },
     "ec059d85456749d78daecee899b865e7": {
      "model_module": "@jupyter-widgets/controls",
      "model_module_version": "1.5.0",
      "model_name": "ButtonModel",
      "state": {
       "description": "6",
       "layout": "IPY_MODEL_145b0d4275ab4add8bcce6f5717f840a",
       "style": "IPY_MODEL_5caf02681e8d479da1646fed007d8ae9"
      }
     },
     "ecda70a8cf1c4103b6703ae702ce9a01": {
      "model_module": "@jupyter-widgets/base",
      "model_module_version": "1.2.0",
      "model_name": "LayoutModel",
      "state": {
       "width": "10%"
      }
     },
     "ecdf71a8b6bd4a06a5cb8d18aac7ebfa": {
      "model_module": "@jupyter-widgets/base",
      "model_module_version": "1.2.0",
      "model_name": "LayoutModel",
      "state": {}
     },
     "ed23ff8c3db1437a8e608f9608598472": {
      "model_module": "@jupyter-widgets/controls",
      "model_module_version": "1.5.0",
      "model_name": "VBoxModel",
      "state": {
       "children": [
        "IPY_MODEL_4c7b416c128145af8aeb8a21a281df3f",
        "IPY_MODEL_77f3efa57e724043a32ac351af4c0c00"
       ],
       "layout": "IPY_MODEL_3925ade6ed154dc8960a720866460e39"
      }
     },
     "ed2d32e8f3094e559b5b5e86b6398f3f": {
      "model_module": "@jupyter-widgets/controls",
      "model_module_version": "1.5.0",
      "model_name": "ButtonStyleModel",
      "state": {}
     },
     "ed3cef1e03ec47eb96bd0e9829e80698": {
      "model_module": "@jupyter-widgets/base",
      "model_module_version": "1.2.0",
      "model_name": "LayoutModel",
      "state": {}
     },
     "edcd0b547a834d9f8ef5c909960f438b": {
      "model_module": "@jupyter-widgets/controls",
      "model_module_version": "1.5.0",
      "model_name": "ButtonStyleModel",
      "state": {}
     },
     "ee02a323407943a8aaf4441681aae55c": {
      "model_module": "@jupyter-widgets/controls",
      "model_module_version": "1.5.0",
      "model_name": "HBoxModel",
      "state": {
       "children": [
        "IPY_MODEL_332d845f5f804cba8688b613a8f38333",
        "IPY_MODEL_59340d8b970c45b39d588f0f1c4d6355",
        "IPY_MODEL_4e48a74e43144af0957c0fb2eb6dbe6a"
       ],
       "layout": "IPY_MODEL_4e47a4cc8c584acc8d0f466dd98f90a5"
      }
     },
     "ee872d6d8f22484886c331f104c2f824": {
      "model_module": "@jupyter-widgets/base",
      "model_module_version": "1.2.0",
      "model_name": "LayoutModel",
      "state": {
       "width": "10%"
      }
     },
     "eebfa4b98738461ea1f9cd6fa8eb2337": {
      "model_module": "@jupyter-widgets/base",
      "model_module_version": "1.2.0",
      "model_name": "LayoutModel",
      "state": {}
     },
     "eef33a033300461a978cd654083cf7e6": {
      "model_module": "@jupyter-widgets/controls",
      "model_module_version": "1.5.0",
      "model_name": "ButtonStyleModel",
      "state": {}
     },
     "ef4828b8e3664fd3a10f5cb4a0278c61": {
      "model_module": "@jupyter-widgets/base",
      "model_module_version": "1.2.0",
      "model_name": "LayoutModel",
      "state": {}
     },
     "ef6323068f0e48fbb7415f0b0cc8e15a": {
      "model_module": "@jupyter-widgets/base",
      "model_module_version": "1.2.0",
      "model_name": "LayoutModel",
      "state": {}
     },
     "ef86880ba0554ca2bfdea21106de3de6": {
      "model_module": "@jupyter-widgets/controls",
      "model_module_version": "1.5.0",
      "model_name": "VBoxModel",
      "state": {
       "children": [
        "IPY_MODEL_83a222fce7e746f09cdec5cf07e1ad35",
        "IPY_MODEL_6c21e28949b84044ad578a3c11c1392d"
       ],
       "layout": "IPY_MODEL_3e8332dd2a6b4633bed24e2adbe24d4b"
      }
     },
     "f062a06dee4048d989592f5c9f626a6c": {
      "model_module": "@jupyter-widgets/controls",
      "model_module_version": "1.5.0",
      "model_name": "ButtonStyleModel",
      "state": {}
     },
     "f07ac4c7107a4fedb27e76a9c84e2be8": {
      "model_module": "@jupyter-widgets/output",
      "model_module_version": "1.0.0",
      "model_name": "OutputModel",
      "state": {
       "layout": "IPY_MODEL_4db56f4d444f4f7db637417c9ec4143c"
      }
     },
     "f07e5ca023414aff8ec8f4397e40cc08": {
      "model_module": "@jupyter-widgets/controls",
      "model_module_version": "1.5.0",
      "model_name": "TextModel",
      "state": {
       "description": "Other:",
       "layout": "IPY_MODEL_b776426819084b46ae0acaa48b38a6cb",
       "placeholder": "Hit enter to submit.",
       "style": "IPY_MODEL_e8134f6d38bf4b58aea7f15596884f15"
      }
     },
     "f0c1f22b91204b638030abeec3517e81": {
      "model_module": "@jupyter-widgets/base",
      "model_module_version": "1.2.0",
      "model_name": "LayoutModel",
      "state": {
       "width": "95%"
      }
     },
     "f0ea67febff14eebb1dd71de83e2bb83": {
      "model_module": "@jupyter-widgets/base",
      "model_module_version": "1.2.0",
      "model_name": "LayoutModel",
      "state": {
       "width": "10%"
      }
     },
     "f0f1219ac2a44f1e9128e4c69bb4db4d": {
      "model_module": "@jupyter-widgets/controls",
      "model_module_version": "1.5.0",
      "model_name": "VBoxModel",
      "state": {
       "children": [
        "IPY_MODEL_93eb36b805a84b9ebb7ddd713042fd25",
        "IPY_MODEL_628e7e89856e486eba93cb6a88921908"
       ],
       "layout": "IPY_MODEL_118dc968aa0d4b778da1da77cca962d0"
      }
     },
     "f0f30238ab094ae6a072771921460532": {
      "model_module": "@jupyter-widgets/output",
      "model_module_version": "1.0.0",
      "model_name": "OutputModel",
      "state": {
       "layout": "IPY_MODEL_fc8c780725a64781b8807935d23d217b"
      }
     },
     "f146203e6a8d48d08a678f0b745152b0": {
      "model_module": "@jupyter-widgets/controls",
      "model_module_version": "1.5.0",
      "model_name": "ButtonStyleModel",
      "state": {}
     },
     "f1c8b0aba20940928fe7e1756b7e2679": {
      "model_module": "@jupyter-widgets/controls",
      "model_module_version": "1.5.0",
      "model_name": "VBoxModel",
      "state": {
       "children": [
        "IPY_MODEL_be8e7b784f0d45269640deeaf8eac435",
        "IPY_MODEL_58fa8b5d553c4acb9891aa67aea33b22"
       ],
       "layout": "IPY_MODEL_95b5c24ad07f400a895da5d77b5f9bcc"
      }
     },
     "f1d110f0f47b4a559136a41a193fbe22": {
      "model_module": "@jupyter-widgets/base",
      "model_module_version": "1.2.0",
      "model_name": "LayoutModel",
      "state": {
       "width": "10%"
      }
     },
     "f1d95b49a89846bd8fad7be1b6a32a5d": {
      "model_module": "@jupyter-widgets/output",
      "model_module_version": "1.0.0",
      "model_name": "OutputModel",
      "state": {
       "layout": "IPY_MODEL_9b5d727834334dd0bd0c6de8e444ce46"
      }
     },
     "f1ef03dd7d48473fb9014ebcbe1ec426": {
      "model_module": "@jupyter-widgets/output",
      "model_module_version": "1.0.0",
      "model_name": "OutputModel",
      "state": {
       "layout": "IPY_MODEL_a59f03ce6e144be3adb96a893bea69da"
      }
     },
     "f213daec8aa843d6b0e0ececfaac5a07": {
      "model_module": "@jupyter-widgets/controls",
      "model_module_version": "1.5.0",
      "model_name": "ButtonStyleModel",
      "state": {}
     },
     "f2398887ac14432985a6e91f2b94aa44": {
      "model_module": "@jupyter-widgets/controls",
      "model_module_version": "1.5.0",
      "model_name": "ButtonModel",
      "state": {
       "description": "8",
       "layout": "IPY_MODEL_cd934d9b4ade4b8988a2607eb93e56dd",
       "style": "IPY_MODEL_432b61af823046c9bb40a5f8c5f1bda6"
      }
     },
     "f244eacabf974070a6f753bf17d89046": {
      "model_module": "@jupyter-widgets/base",
      "model_module_version": "1.2.0",
      "model_name": "LayoutModel",
      "state": {}
     },
     "f246e0141de6482a83972894399135ce": {
      "model_module": "@jupyter-widgets/output",
      "model_module_version": "1.0.0",
      "model_name": "OutputModel",
      "state": {
       "layout": "IPY_MODEL_d4be0283fe2b40c68ed94d5bc665a647"
      }
     },
     "f25a7adbfd1b43b5a41da511575844c0": {
      "model_module": "@jupyter-widgets/base",
      "model_module_version": "1.2.0",
      "model_name": "LayoutModel",
      "state": {
       "width": "95%"
      }
     },
     "f2a89060b77447feaf2ec6fb0a97c4eb": {
      "model_module": "@jupyter-widgets/controls",
      "model_module_version": "1.5.0",
      "model_name": "VBoxModel",
      "state": {
       "children": [
        "IPY_MODEL_c49c73a2a2034a73990a64016895d7da",
        "IPY_MODEL_c029b7359b7243e88cb3fb8ae2f7084c"
       ],
       "layout": "IPY_MODEL_fdd90603527746b699d8f6ecb0c899cf"
      }
     },
     "f3557acf10014952b3c335e00bcad833": {
      "model_module": "@jupyter-widgets/base",
      "model_module_version": "1.2.0",
      "model_name": "LayoutModel",
      "state": {
       "display": "flex",
       "justify_content": "center",
       "padding": "2.5% 0",
       "width": "100%"
      }
     },
     "f386b5434fcd49e0939e4726339eb2a6": {
      "model_module": "@jupyter-widgets/base",
      "model_module_version": "1.2.0",
      "model_name": "LayoutModel",
      "state": {}
     },
     "f38cc109fa4c470aa37b375e6ee7c952": {
      "model_module": "@jupyter-widgets/base",
      "model_module_version": "1.2.0",
      "model_name": "LayoutModel",
      "state": {
       "width": "95%"
      }
     },
     "f3c1c17153c348bd9ca0b6d9d54afc40": {
      "model_module": "@jupyter-widgets/base",
      "model_module_version": "1.2.0",
      "model_name": "LayoutModel",
      "state": {}
     },
     "f3f051d776234149ae61d5d14796551f": {
      "model_module": "@jupyter-widgets/controls",
      "model_module_version": "1.5.0",
      "model_name": "ButtonStyleModel",
      "state": {}
     },
     "f49c3102a4794104890fd0e6f3df272e": {
      "model_module": "@jupyter-widgets/base",
      "model_module_version": "1.2.0",
      "model_name": "LayoutModel",
      "state": {
       "width": "10%"
      }
     },
     "f4b733df81f64f88be5343dfdea79a14": {
      "model_module": "@jupyter-widgets/base",
      "model_module_version": "1.2.0",
      "model_name": "LayoutModel",
      "state": {
       "width": "10%"
      }
     },
     "f54365e1f78d469fb8ae9739b1b015d6": {
      "model_module": "@jupyter-widgets/output",
      "model_module_version": "1.0.0",
      "model_name": "OutputModel",
      "state": {
       "layout": "IPY_MODEL_c422063280684888ae82ca8c8e4944f6"
      }
     },
     "f5559548cc0741f2bd6e9cb9c2e46d56": {
      "model_module": "@jupyter-widgets/base",
      "model_module_version": "1.2.0",
      "model_name": "LayoutModel",
      "state": {}
     },
     "f55998524d874c1ab81efab7de851a34": {
      "model_module": "@jupyter-widgets/base",
      "model_module_version": "1.2.0",
      "model_name": "LayoutModel",
      "state": {}
     },
     "f5de1fc81b7641c69bee9a00090d5c09": {
      "model_module": "@jupyter-widgets/controls",
      "model_module_version": "1.5.0",
      "model_name": "ButtonStyleModel",
      "state": {}
     },
     "f5edb6b05e1e415d975c441188f1d1d0": {
      "model_module": "@jupyter-widgets/controls",
      "model_module_version": "1.5.0",
      "model_name": "HBoxModel",
      "state": {
       "children": [
        "IPY_MODEL_4468864e8d9647a687dee53c4000c1e3",
        "IPY_MODEL_607f4e95d5b84e0ebd513b70e2e4f594",
        "IPY_MODEL_df69a6a3e29a4df3b1813c03ae1e0c60",
        "IPY_MODEL_71b58d3c30b94e6d9ec6307931326653",
        "IPY_MODEL_e072f5743ee64c6abd46fbbf91f3b23c",
        "IPY_MODEL_5c8a5d490d4d45678c85d670e7c5b2a7",
        "IPY_MODEL_e1294e62acc845bbbdb5d17a0f9969c6",
        "IPY_MODEL_541de8a291e1437a868b77680bb5e985",
        "IPY_MODEL_f0f1219ac2a44f1e9128e4c69bb4db4d",
        "IPY_MODEL_7e04e768e11e4d14bdb0031eaf3ad5fe"
       ],
       "layout": "IPY_MODEL_799bc0b9bb2c433eba0767ea12422421"
      }
     },
     "f671cae548d247f7b0f8fca45150a453": {
      "model_module": "@jupyter-widgets/base",
      "model_module_version": "1.2.0",
      "model_name": "LayoutModel",
      "state": {}
     },
     "f6761e5128094b379975e8e83d178ecf": {
      "model_module": "@jupyter-widgets/base",
      "model_module_version": "1.2.0",
      "model_name": "LayoutModel",
      "state": {
       "width": "10%"
      }
     },
     "f6af7a4419f243a2ba2176858e192507": {
      "model_module": "@jupyter-widgets/base",
      "model_module_version": "1.2.0",
      "model_name": "LayoutModel",
      "state": {}
     },
     "f6fe4ac1fddd43779957c2fe2c92fd01": {
      "model_module": "@jupyter-widgets/base",
      "model_module_version": "1.2.0",
      "model_name": "LayoutModel",
      "state": {
       "width": "95%"
      }
     },
     "f70931fed4c24b69aa897abb3f7600f8": {
      "model_module": "@jupyter-widgets/base",
      "model_module_version": "1.2.0",
      "model_name": "LayoutModel",
      "state": {
       "width": "10%"
      }
     },
     "f70f741c38ab4fc8b74fec87ce720c37": {
      "model_module": "@jupyter-widgets/controls",
      "model_module_version": "1.5.0",
      "model_name": "ButtonModel",
      "state": {
       "description": "3",
       "layout": "IPY_MODEL_6f7d2637d93c42098c706017d2a9d08b",
       "style": "IPY_MODEL_3619255ee1c04711b208f9d20def8b79"
      }
     },
     "f714bef8c9b3494590e80b8a6a81fc48": {
      "model_module": "@jupyter-widgets/controls",
      "model_module_version": "1.5.0",
      "model_name": "ButtonStyleModel",
      "state": {}
     },
     "f714d114fbd8445786546eb1cef82a24": {
      "model_module": "@jupyter-widgets/controls",
      "model_module_version": "1.5.0",
      "model_name": "ButtonStyleModel",
      "state": {}
     },
     "f737fc2b54214f539e0f1d907768a5e2": {
      "model_module": "@jupyter-widgets/controls",
      "model_module_version": "1.5.0",
      "model_name": "HBoxModel",
      "state": {
       "children": [
        "IPY_MODEL_332d845f5f804cba8688b613a8f38333",
        "IPY_MODEL_59340d8b970c45b39d588f0f1c4d6355",
        "IPY_MODEL_4e48a74e43144af0957c0fb2eb6dbe6a"
       ],
       "layout": "IPY_MODEL_658399ca2e4244688b92ecd228dfaff3"
      }
     },
     "f76b9f5825c64cc181e845f3a933c906": {
      "model_module": "@jupyter-widgets/controls",
      "model_module_version": "1.5.0",
      "model_name": "ButtonStyleModel",
      "state": {}
     },
     "f771c31ebeca42ba8aa0c309f7dbac34": {
      "model_module": "@jupyter-widgets/controls",
      "model_module_version": "1.5.0",
      "model_name": "VBoxModel",
      "state": {
       "children": [
        "IPY_MODEL_6c8e4f356afc4a14b57d1a57fe856fff",
        "IPY_MODEL_cbdcf7b8e723451f8c4514fe1a442f90"
       ],
       "layout": "IPY_MODEL_06eb9ec33d084723a568ac730c823907"
      }
     },
     "f77aad8d8f3b42a0a01cfbdca5da4000": {
      "model_module": "@jupyter-widgets/controls",
      "model_module_version": "1.5.0",
      "model_name": "ButtonStyleModel",
      "state": {}
     },
     "f7950d493fea49f8acd8d40f5dc4e02a": {
      "model_module": "@jupyter-widgets/base",
      "model_module_version": "1.2.0",
      "model_name": "LayoutModel",
      "state": {}
     },
     "f7de9513b1c446b8af804cd3f87a55fe": {
      "model_module": "@jupyter-widgets/output",
      "model_module_version": "1.0.0",
      "model_name": "OutputModel",
      "state": {
       "layout": "IPY_MODEL_52edf65e838f4d0aac1beb4f85c78c67"
      }
     },
     "f8110b5fcf0f4866b6d0eb10b13fc7de": {
      "model_module": "@jupyter-widgets/base",
      "model_module_version": "1.2.0",
      "model_name": "LayoutModel",
      "state": {}
     },
     "f83af2c696d24a9182df347710e5470e": {
      "model_module": "@jupyter-widgets/base",
      "model_module_version": "1.2.0",
      "model_name": "LayoutModel",
      "state": {
       "width": "95%"
      }
     },
     "f8626c50301f4ac2ac0fa89468eae0ab": {
      "model_module": "@jupyter-widgets/base",
      "model_module_version": "1.2.0",
      "model_name": "LayoutModel",
      "state": {
       "width": "95%"
      }
     },
     "f8a7293a787d461ca7c6c6f8a5dded66": {
      "model_module": "@jupyter-widgets/base",
      "model_module_version": "1.2.0",
      "model_name": "LayoutModel",
      "state": {}
     },
     "f8d5d8c4266345d0a485903f000425c8": {
      "model_module": "@jupyter-widgets/base",
      "model_module_version": "1.2.0",
      "model_name": "LayoutModel",
      "state": {}
     },
     "f8e91c5852004954a4652d045b189808": {
      "model_module": "@jupyter-widgets/base",
      "model_module_version": "1.2.0",
      "model_name": "LayoutModel",
      "state": {
       "width": "95%"
      }
     },
     "f91215c2845a4ab0b095bcf056a0d274": {
      "model_module": "@jupyter-widgets/base",
      "model_module_version": "1.2.0",
      "model_name": "LayoutModel",
      "state": {}
     },
     "f9129ee1e5d743eea1a69e1977d082ab": {
      "model_module": "@jupyter-widgets/controls",
      "model_module_version": "1.5.0",
      "model_name": "VBoxModel",
      "state": {
       "children": [
        "IPY_MODEL_1fdb76bab0794adfb06b62da1d5322b5",
        "IPY_MODEL_db7b99b5d55c4cb683af9d9dd28d3435"
       ],
       "layout": "IPY_MODEL_4dcaa28ac6af4afd9ad2ba4720b49452"
      }
     },
     "f93b046ffafc44e6983404902ecd35b8": {
      "model_module": "@jupyter-widgets/output",
      "model_module_version": "1.0.0",
      "model_name": "OutputModel",
      "state": {
       "layout": "IPY_MODEL_1ad0e2940b9449ba9e0ca5775075ef05"
      }
     },
     "f9803b73875b4dbc876b196b82ebec86": {
      "model_module": "@jupyter-widgets/controls",
      "model_module_version": "1.5.0",
      "model_name": "ButtonStyleModel",
      "state": {}
     },
     "f985b5ac6ba345bd8561f44032269f1a": {
      "model_module": "@jupyter-widgets/controls",
      "model_module_version": "1.5.0",
      "model_name": "ButtonModel",
      "state": {
       "description": "8",
       "layout": "IPY_MODEL_1e53789452194e26bbaf7d00b3d56623",
       "style": "IPY_MODEL_826aaff7537042a095d2eae93357b526"
      }
     },
     "f9b3f878438c45b88b4b37eaf5e6cdb4": {
      "model_module": "@jupyter-widgets/base",
      "model_module_version": "1.2.0",
      "model_name": "LayoutModel",
      "state": {
       "width": "95%"
      }
     },
     "f9d31381219f41d3882487854a9b1011": {
      "model_module": "@jupyter-widgets/output",
      "model_module_version": "1.0.0",
      "model_name": "OutputModel",
      "state": {
       "layout": "IPY_MODEL_d86e524805594f2297a24aa2a76c7a61"
      }
     },
     "fae40a92f42f4156b0dacf28b2905538": {
      "model_module": "@jupyter-widgets/base",
      "model_module_version": "1.2.0",
      "model_name": "LayoutModel",
      "state": {
       "width": "10%"
      }
     },
     "faf0ead9d3884d039ff23f3d563ef80c": {
      "model_module": "@jupyter-widgets/controls",
      "model_module_version": "1.5.0",
      "model_name": "ButtonStyleModel",
      "state": {}
     },
     "fafa2e94a98c4f9f94bbfb481198ee2d": {
      "model_module": "@jupyter-widgets/base",
      "model_module_version": "1.2.0",
      "model_name": "LayoutModel",
      "state": {
       "width": "10%"
      }
     },
     "fb06df2cc08847e2802954548b795f61": {
      "model_module": "@jupyter-widgets/base",
      "model_module_version": "1.2.0",
      "model_name": "LayoutModel",
      "state": {}
     },
     "fb15ffdab2754949b7683153f391e86e": {
      "model_module": "@jupyter-widgets/base",
      "model_module_version": "1.2.0",
      "model_name": "LayoutModel",
      "state": {}
     },
     "fb6eb5f319a3466cb3a8db404cd7b8c0": {
      "model_module": "@jupyter-widgets/controls",
      "model_module_version": "1.5.0",
      "model_name": "TextModel",
      "state": {
       "description": "Other:",
       "layout": "IPY_MODEL_7336d1b6e8174d4d85916fd0df070420",
       "placeholder": "Hit enter to submit.",
       "style": "IPY_MODEL_12b4705171a9402e8ab841fb68eeecf1"
      }
     },
     "fb84728316e349b2a779ed0de4425301": {
      "model_module": "@jupyter-widgets/controls",
      "model_module_version": "1.5.0",
      "model_name": "ButtonStyleModel",
      "state": {}
     },
     "fb92495419404abc80743bcb2b4d3c70": {
      "model_module": "@jupyter-widgets/base",
      "model_module_version": "1.2.0",
      "model_name": "LayoutModel",
      "state": {}
     },
     "fbaea4c548a14ee6bb2cdfdeb79fbbab": {
      "model_module": "@jupyter-widgets/base",
      "model_module_version": "1.2.0",
      "model_name": "LayoutModel",
      "state": {
       "width": "10%"
      }
     },
     "fbb91c7acd8e47979dd7f2dec1dabac6": {
      "model_module": "@jupyter-widgets/controls",
      "model_module_version": "1.5.0",
      "model_name": "VBoxModel",
      "state": {
       "children": [
        "IPY_MODEL_3e715de5b1d84c72bd5f6dce1106eea9",
        "IPY_MODEL_1500528260c640efa5122f65a400b5ec"
       ],
       "layout": "IPY_MODEL_6f14bd56f4bb46d1b31eb6d94a7b6a4d"
      }
     },
     "fc8c780725a64781b8807935d23d217b": {
      "model_module": "@jupyter-widgets/base",
      "model_module_version": "1.2.0",
      "model_name": "LayoutModel",
      "state": {}
     },
     "fccfec69afa248c387de321f6a2c109b": {
      "model_module": "@jupyter-widgets/output",
      "model_module_version": "1.0.0",
      "model_name": "OutputModel",
      "state": {
       "layout": "IPY_MODEL_f7950d493fea49f8acd8d40f5dc4e02a"
      }
     },
     "fcf93fcfdf9243e6b60634ab72bd3f2c": {
      "model_module": "@jupyter-widgets/base",
      "model_module_version": "1.2.0",
      "model_name": "LayoutModel",
      "state": {
       "justify_content": "space-between"
      }
     },
     "fd0ff199e0f94c588b42d1edbb00f562": {
      "model_module": "@jupyter-widgets/base",
      "model_module_version": "1.2.0",
      "model_name": "LayoutModel",
      "state": {
       "width": "95%"
      }
     },
     "fd1cb1f38aac4a189c381d3505a592a7": {
      "model_module": "@jupyter-widgets/controls",
      "model_module_version": "1.5.0",
      "model_name": "VBoxModel",
      "state": {
       "children": [
        "IPY_MODEL_59717ca1eb044d54a0aba0c75758cf1d",
        "IPY_MODEL_ff05568fcb3343bba03e32fa09f4807f"
       ],
       "layout": "IPY_MODEL_9ba5e7b2df0a48ed87d3a1276464ee4f"
      }
     },
     "fd3fb77d5ea04ff09df1e2a27b878421": {
      "model_module": "@jupyter-widgets/base",
      "model_module_version": "1.2.0",
      "model_name": "LayoutModel",
      "state": {}
     },
     "fd7b33bda12044aea8205b66e15bb67a": {
      "model_module": "@jupyter-widgets/controls",
      "model_module_version": "1.5.0",
      "model_name": "VBoxModel",
      "state": {
       "children": [
        "IPY_MODEL_48b845b489b04843aedf21ae3565c72b",
        "IPY_MODEL_e1b23a85cf58405e85f91aee3cdfddaf"
       ],
       "layout": "IPY_MODEL_11dd725a41dd40fa90a979c75c9b927c"
      }
     },
     "fdb5ccc751df424dae370c4e3039e13a": {
      "model_module": "@jupyter-widgets/controls",
      "model_module_version": "1.5.0",
      "model_name": "VBoxModel",
      "state": {
       "children": [
        "IPY_MODEL_34e0a4f63f6d4daa90fa9c659691922b",
        "IPY_MODEL_b4860f6b054142d48558daab10a61386"
       ],
       "layout": "IPY_MODEL_dc734d3395934b15b5e1b414a06d7d31"
      }
     },
     "fdb7bb41d7444914a6ca84785e065f9f": {
      "model_module": "@jupyter-widgets/base",
      "model_module_version": "1.2.0",
      "model_name": "LayoutModel",
      "state": {
       "width": "10%"
      }
     },
     "fdce4ba3b9a540c6a249908003b1fb45": {
      "model_module": "@jupyter-widgets/base",
      "model_module_version": "1.2.0",
      "model_name": "LayoutModel",
      "state": {
       "width": "10%"
      }
     },
     "fdd42ab702a2498fa49ed32e7b9155a5": {
      "model_module": "@jupyter-widgets/controls",
      "model_module_version": "1.5.0",
      "model_name": "VBoxModel",
      "state": {
       "children": [
        "IPY_MODEL_3b7e7c9f68ec477a9ac8ad1820e29c81",
        "IPY_MODEL_22b33f056fdb40a197fcf5a79b75f186"
       ],
       "layout": "IPY_MODEL_144a494bdf4d44c08e27d3469d8e207f"
      }
     },
     "fdd90603527746b699d8f6ecb0c899cf": {
      "model_module": "@jupyter-widgets/base",
      "model_module_version": "1.2.0",
      "model_name": "LayoutModel",
      "state": {
       "width": "10%"
      }
     },
     "fdfc49f22d474c5196f9a811c9b86b7f": {
      "model_module": "@jupyter-widgets/controls",
      "model_module_version": "1.5.0",
      "model_name": "ButtonModel",
      "state": {
       "description": "6",
       "layout": "IPY_MODEL_044332fb875649ca9bcc0d4ace772abe",
       "style": "IPY_MODEL_12e56ca0720446fcb44fcb75ce3819fb"
      }
     },
     "fe0d6385b9ed4e3e8bf7924fa0ca849e": {
      "model_module": "@jupyter-widgets/controls",
      "model_module_version": "1.5.0",
      "model_name": "VBoxModel",
      "state": {
       "children": [
        "IPY_MODEL_c79b696e27024bef839df3a945af6bbb",
        "IPY_MODEL_c9270b4f3ce34f35a55c3504d11f5081"
       ],
       "layout": "IPY_MODEL_e86f104addd742e09f94543c759820f5"
      }
     },
     "fe55225332cc4591bcc2a98957cb9a56": {
      "model_module": "@jupyter-widgets/controls",
      "model_module_version": "1.5.0",
      "model_name": "HBoxModel",
      "state": {
       "children": [
        "IPY_MODEL_7efcfccd2b54424eaf65c7b487491c59",
        "IPY_MODEL_4a90d5ef93b948e5a4f6961a219c11da",
        "IPY_MODEL_8da4ca5bef5b4127b2ddbe433a112356"
       ],
       "layout": "IPY_MODEL_3aac09650eb848bd999876140a736375"
      }
     },
     "fe681f6b4c8d418297792d5eced032bf": {
      "model_module": "@jupyter-widgets/controls",
      "model_module_version": "1.5.0",
      "model_name": "VBoxModel",
      "state": {
       "children": [
        "IPY_MODEL_00c21ef44d6e460b9a5c8df8d4604f23",
        "IPY_MODEL_3b0492ddd7684725b9e19f156a670052"
       ],
       "layout": "IPY_MODEL_6c8ef109f8d84dd4b3a1b79ff2e6bce4"
      }
     },
     "fea5d1fd2134448fa702c6ff07ecbe69": {
      "model_module": "@jupyter-widgets/base",
      "model_module_version": "1.2.0",
      "model_name": "LayoutModel",
      "state": {}
     },
     "ff05568fcb3343bba03e32fa09f4807f": {
      "model_module": "@jupyter-widgets/output",
      "model_module_version": "1.0.0",
      "model_name": "OutputModel",
      "state": {
       "layout": "IPY_MODEL_0834e6a0006f4b35a4f9742712de265d"
      }
     },
     "ff4c69d1bed94be986a67d5964356b69": {
      "model_module": "@jupyter-widgets/output",
      "model_module_version": "1.0.0",
      "model_name": "OutputModel",
      "state": {
       "layout": "IPY_MODEL_d5102b26b5b2458ebac8e35e72ac05cb"
      }
     },
     "ff632e99e4784295a39b217096eb6e8f": {
      "model_module": "@jupyter-widgets/base",
      "model_module_version": "1.2.0",
      "model_name": "LayoutModel",
      "state": {
       "width": "95%"
      }
     },
     "ff696bab5e4941cea42eb4105bb19ad6": {
      "model_module": "@jupyter-widgets/base",
      "model_module_version": "1.2.0",
      "model_name": "LayoutModel",
      "state": {
       "width": "95%"
      }
     },
     "ff6eb32ee7d64ae99d1611ac34c43c15": {
      "model_module": "@jupyter-widgets/base",
      "model_module_version": "1.2.0",
      "model_name": "LayoutModel",
      "state": {}
     },
     "ff85ca54596c4ddbb052a3aaeb8e953e": {
      "model_module": "@jupyter-widgets/base",
      "model_module_version": "1.2.0",
      "model_name": "LayoutModel",
      "state": {
       "width": "95%"
      }
     }
    },
    "version_major": 2,
    "version_minor": 0
   }
  }
 },
 "nbformat": 4,
 "nbformat_minor": 4
}
