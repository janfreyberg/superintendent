{
 "cells": [
  {
   "cell_type": "markdown",
   "metadata": {},
   "source": [
    "# Active learning with `superintendent`"
   ]
  },
  {
   "cell_type": "markdown",
   "metadata": {},
   "source": [
    "## What is active learning?\n",
    "\n",
    "[Active learning](https://en.wikipedia.org/wiki/Active_learning_(machine_learning)) is a\n",
    "semi-supervised machine learning approach that involves labelling data to optimally train\n",
    "a machine learning model.\n",
    "\n",
    "This means a human and a machine learning algorithm interact, with the human labelling\n",
    "cases the machine learning algorithm is most unsure about.\n",
    "\n",
    "A common implementation is what is known as \"pool-based\" active learning:\n",
    "You label a few cases, train your model, make predictions about the unlabelled data, and\n",
    "then label the points for which your model is not (yet) producing high-probability\n",
    "predictions.\n",
    "\n",
    "The rough steps are:\n",
    "\n",
    "![Pool-based active learning diagram](active-learning-diagram.png)\n",
    "\n",
    "This approach is generally more efficient than labelling data points at random, and it\n",
    "allows you to reach a better model performance faster.\n"
   ]
  },
  {
   "cell_type": "markdown",
   "metadata": {},
   "source": [
    "## Active learning in `superintendent`\n",
    "\n",
    "The active learning process in superintendent is easy. `superintendent` is designed to work\n",
    "with any machine learning model that follows the [scikit-learn](https://scikit-learn.org/stable/)\n",
    "interface (i.e. the model implements a `fit` and `predict_proba` method).\n",
    "\n",
    "You then simply pass the model, as well as a method of re-ordering the data, to a `superintendent`\n",
    "widget. This then gives you a button that allows you to re-train a model."
   ]
  },
  {
   "cell_type": "code",
   "execution_count": 1,
   "metadata": {},
   "outputs": [
    {
     "data": {
      "application/vnd.jupyter.widget-view+json": {
       "model_id": "00773e166c604972beef825e2d82d050",
       "version_major": 2,
       "version_minor": 0
      },
      "text/plain": [
       "VBox(children=(HBox(children=(HBox(children=(FloatProgress(value=0.0, description='Progress:', max=1.0),), lay…"
      ]
     },
     "metadata": {},
     "output_type": "display_data"
    }
   ],
   "source": [
    "from sklearn.linear_model import LogisticRegression\n",
    "from sklearn.datasets import load_digits\n",
    "from superintendent import SemiSupervisor\n",
    "\n",
    "digits = load_digits()\n",
    "\n",
    "data_labeller = SemiSupervisor.from_images(\n",
    "    digits.data[:500, :],\n",
    "    classifier=LogisticRegression(solver=\"lbfgs\", multi_class=\"multinomial\", max_iter=5000),\n",
    "    options=range(10),\n",
    "    reorder='entropy',\n",
    ")\n",
    "\n",
    "data_labeller"
   ]
  },
  {
   "cell_type": "markdown",
   "metadata": {},
   "source": [
    "Whenever you re-train a model, if you have also specified the `reorder` keyword argument, the data will be automatically re-ordered in a way prioritise the optimal subsequent data points.\n",
    "\n",
    "Additionally, the widget will display your accuracy on the data you have already labelled. This is evaluated as the mean model score across three folds of cross-validated evaluation."
   ]
  },
  {
   "cell_type": "markdown",
   "metadata": {},
   "source": [
    "## Active learning strategies"
   ]
  },
  {
   "cell_type": "markdown",
   "metadata": {},
   "source": [
    "Superintendet currently implements the following strategies:"
   ]
  },
  {
   "cell_type": "raw",
   "metadata": {
    "raw_mimetype": "text/restructuredtext"
   },
   "source": [
    ".. autosummary::\n",
    "   ~superintendent.prioritisation.entropy\n",
    "   ~superintendent.prioritisation.margin\n",
    "   ~superintendent.prioritisation.certainty"
   ]
  },
  {
   "cell_type": "markdown",
   "metadata": {},
   "source": [
    "You can implement your own strategy: the functions should simply take in a numpy array (shape *n_samples, n_classes*) of probabilities of each class for each sample, and return a ranking of the rows of that array.\n",
    "\n",
    "For example, if sorting by margin, an input of:\n",
    "\n",
    "| 0    \t| 1    \t| 2    \t|\n",
    "|------\t|------\t|------\t|\n",
    "| 0.1  \t| 0.8  \t| 0.1  \t|\n",
    "| 0.3  \t| 0.3  \t| 0.4  \t|\n",
    "| 0.33 \t| 0.33 \t| 0.34 \t|\n",
    "| 0.01 \t| 0.01 \t| 0.98 \t|\n",
    "\n",
    "Should produce an output of:\n",
    "\n",
    "```\n",
    "[2, 1, 0, 3]\n",
    "```\n",
    "\n",
    "because the third entry has the lowest margin, then the second entry, then the first, and then the last."
   ]
  },
  {
   "cell_type": "markdown",
   "metadata": {},
   "source": [
    "## Active learning for multi-output widgets\n",
    "\n",
    "When you pass a model into a multi-labelling widget, `superintendent` will wrap your model in a \n",
    "[MultiOutputClassifier](https://scikit-learn.org/stable/modules/generated/sklearn.multioutput.MultiOutputClassifier.html)\n",
    "wrapper class.\n",
    "\n",
    "The active learning strategy will average the metric used for prioritisation (e.g. certainty,\n",
    "margin) across the different classes."
   ]
  },
  {
   "cell_type": "markdown",
   "metadata": {},
   "source": [
    "## Preprocessing data before passing it to the model\n",
    "\n",
    "In general, you will often want to pass different parts of your data to your display function\n",
    "and your model. In general, superintendent does not provide \"pre-model\" hooks. Instead, any\n",
    "pre-processing that is specific to your model or your display function, can be specified in\n",
    "the `display_func`, or in a\n",
    "[scikit-learn Pipeline](https://scikit-learn.org/stable/modules/generated/sklearn.pipeline.Pipeline.html)\n",
    "object.\n",
    "\n",
    "You can find an example of this [here](examples/preprocessing-data.ipynb)\n"
   ]
  },
  {
   "cell_type": "markdown",
   "metadata": {},
   "source": [
    "## What model to choose\n",
    "\n",
    "The choice of model is ultimately driven by the same factors that should drive\n",
    "your model choice if you had a complete set of labelled data and wanted to build\n",
    "a supervised machine learning model."
   ]
  }
 ],
 "metadata": {
  "celltoolbar": "Raw Cell Format",
  "kernelspec": {
   "display_name": "Python 3",
   "language": "python",
   "name": "python3"
  },
  "language_info": {
   "codemirror_mode": {
    "name": "ipython",
    "version": 3
   },
   "file_extension": ".py",
   "mimetype": "text/x-python",
   "name": "python",
   "nbconvert_exporter": "python",
   "pygments_lexer": "ipython3",
   "version": "3.7.1"
  },
  "widgets": {
   "application/vnd.jupyter.widget-state+json": {
    "state": {
     "0032ca09314a41eebbace4516f2ffb21": {
      "model_module": "@jupyter-widgets/controls",
      "model_module_version": "1.4.0",
      "model_name": "VBoxModel",
      "state": {
       "children": [
        "IPY_MODEL_7bd64f716a0640dabc76d06a1c52b329",
        "IPY_MODEL_f6c6d1e06e0c47a4a255e7328dc5e27d"
       ],
       "layout": "IPY_MODEL_a4103677db6046f5b07a03342577c0a0"
      }
     },
     "00341952a44a48d8acee4a08cc5c869b": {
      "model_module": "@jupyter-widgets/base",
      "model_module_version": "1.1.0",
      "model_name": "LayoutModel",
      "state": {}
     },
     "003879fdf969499c8b31dde4b08d5439": {
      "model_module": "@jupyter-widgets/base",
      "model_module_version": "1.1.0",
      "model_name": "LayoutModel",
      "state": {
       "width": "95%"
      }
     },
     "003f443a071f4aa5b75472db76f216aa": {
      "model_module": "@jupyter-widgets/controls",
      "model_module_version": "1.4.0",
      "model_name": "VBoxModel",
      "state": {
       "children": [
        "IPY_MODEL_10bf067313b242f2a218fb0888586417",
        "IPY_MODEL_371991ae2ac142d3999814650e4221f2"
       ],
       "layout": "IPY_MODEL_f2921fc444d640d6a3afc6a27ef425bb"
      }
     },
     "00773e166c604972beef825e2d82d050": {
      "model_module": "@jupyter-widgets/controls",
      "model_module_version": "1.4.0",
      "model_name": "VBoxModel",
      "state": {
       "children": [
        "IPY_MODEL_f1b027a960e8418a8210434c79a90214",
        "IPY_MODEL_5f0939f440e44cb78d8fe7840b6df4f9",
        "IPY_MODEL_c990fac5b2af49b6a3d1f02ec29cbfd4"
       ],
       "layout": "IPY_MODEL_83abb76a1c884dbdbe1a29639e23377f"
      }
     },
     "0079fe2934ee43dea4863d1647993816": {
      "model_module": "@jupyter-widgets/controls",
      "model_module_version": "1.4.0",
      "model_name": "VBoxModel",
      "state": {
       "children": [
        "IPY_MODEL_0fb71d52c20f42c8976b4011537e26d8",
        "IPY_MODEL_61a848c8630546e7a54816d1dc732172"
       ],
       "layout": "IPY_MODEL_72ac9e50c4c14fc0b1a701f38638750a"
      }
     },
     "007ad952f293476086b94d0495dd7ced": {
      "model_module": "@jupyter-widgets/base",
      "model_module_version": "1.1.0",
      "model_name": "LayoutModel",
      "state": {}
     },
     "0092113f6f9e4cf4a330a44cf52e83fa": {
      "model_module": "@jupyter-widgets/base",
      "model_module_version": "1.1.0",
      "model_name": "LayoutModel",
      "state": {}
     },
     "00a99a675e974ea0b678656eec8075e2": {
      "model_module": "@jupyter-widgets/base",
      "model_module_version": "1.1.0",
      "model_name": "LayoutModel",
      "state": {
       "width": "95%"
      }
     },
     "00c9924362b045f692559e3b7e6e36c4": {
      "model_module": "@jupyter-widgets/base",
      "model_module_version": "1.1.0",
      "model_name": "LayoutModel",
      "state": {
       "width": "10%"
      }
     },
     "00d800105ae14aa5b5d13f2084bed620": {
      "model_module": "@jupyter-widgets/base",
      "model_module_version": "1.1.0",
      "model_name": "LayoutModel",
      "state": {
       "width": "95%"
      }
     },
     "011a2429547e4e62af7ab0f9b383d514": {
      "model_module": "@jupyter-widgets/output",
      "model_module_version": "1.0.0",
      "model_name": "OutputModel",
      "state": {
       "layout": "IPY_MODEL_385ba735afc540f8b997c0417128161e"
      }
     },
     "0126daac9d7e4e4da0a3c9b6dfa5e526": {
      "model_module": "@jupyter-widgets/output",
      "model_module_version": "1.0.0",
      "model_name": "OutputModel",
      "state": {
       "layout": "IPY_MODEL_9ca4d148dec94cb781e3584e2111d35e"
      }
     },
     "013952fed23345da83178dda731f7f35": {
      "model_module": "@jupyter-widgets/controls",
      "model_module_version": "1.4.0",
      "model_name": "ButtonStyleModel",
      "state": {}
     },
     "013ba78bdb384e238611633b3ca10967": {
      "model_module": "@jupyter-widgets/base",
      "model_module_version": "1.1.0",
      "model_name": "LayoutModel",
      "state": {
       "width": "95%"
      }
     },
     "0154b3eb0f70449fbf85c31bc171885d": {
      "model_module": "@jupyter-widgets/base",
      "model_module_version": "1.1.0",
      "model_name": "LayoutModel",
      "state": {
       "width": "10%"
      }
     },
     "01568bb4d3bd405d8e12a046f8c0e568": {
      "model_module": "@jupyter-widgets/controls",
      "model_module_version": "1.4.0",
      "model_name": "VBoxModel",
      "state": {
       "children": [
        "IPY_MODEL_8455a92560b44d6096dcf6964087f303",
        "IPY_MODEL_89381990ab1d48e2a04c4b75687a95a8"
       ],
       "layout": "IPY_MODEL_afa76f1492e24691aa5c7604f4c2b998"
      }
     },
     "016319186b784ed6bc66f47eeaea1b51": {
      "model_module": "@jupyter-widgets/controls",
      "model_module_version": "1.4.0",
      "model_name": "DescriptionStyleModel",
      "state": {
       "description_width": ""
      }
     },
     "016b49de518040c6b9bf11d39d3f6fe1": {
      "model_module": "@jupyter-widgets/base",
      "model_module_version": "1.1.0",
      "model_name": "LayoutModel",
      "state": {
       "width": "10%"
      }
     },
     "01716ac6a89a4c908b9a5d315f58a3b2": {
      "model_module": "@jupyter-widgets/base",
      "model_module_version": "1.1.0",
      "model_name": "LayoutModel",
      "state": {
       "width": "10%"
      }
     },
     "019307317878459dbf50685ee6ec2662": {
      "model_module": "@jupyter-widgets/output",
      "model_module_version": "1.0.0",
      "model_name": "OutputModel",
      "state": {
       "layout": "IPY_MODEL_b5751d2321d34ab595895cf5e8f973c4"
      }
     },
     "01aa1c46fa2e4125a992845385ee391b": {
      "model_module": "@jupyter-widgets/controls",
      "model_module_version": "1.4.0",
      "model_name": "ButtonModel",
      "state": {
       "description": "3",
       "layout": "IPY_MODEL_def17fe56e30468b8fa6250f3c0b508d",
       "style": "IPY_MODEL_e4e74d7b0adb4d1fad312638d929e27e"
      }
     },
     "01ac175092a3438faa0081b77396f4f0": {
      "model_module": "@jupyter-widgets/controls",
      "model_module_version": "1.4.0",
      "model_name": "ButtonStyleModel",
      "state": {}
     },
     "01d1ada74b324ff39e48fc70c7f67bc5": {
      "model_module": "@jupyter-widgets/output",
      "model_module_version": "1.0.0",
      "model_name": "OutputModel",
      "state": {
       "layout": "IPY_MODEL_cb12b0dc3e1f41eda62d600e54168df0"
      }
     },
     "01f38a20d3494d3a9d1a896e2a607ecd": {
      "model_module": "@jupyter-widgets/base",
      "model_module_version": "1.1.0",
      "model_name": "LayoutModel",
      "state": {
       "width": "95%"
      }
     },
     "022615cd373c4c6a875414d2579312fb": {
      "model_module": "@jupyter-widgets/controls",
      "model_module_version": "1.4.0",
      "model_name": "ButtonModel",
      "state": {
       "description": "2",
       "layout": "IPY_MODEL_c5b21ce56cfe45c193936a4889e3ae27",
       "style": "IPY_MODEL_049bdc5ffa8f48de8b1f16e293df6604"
      }
     },
     "02433bd2aac444908c0dac8b38f837bc": {
      "model_module": "@jupyter-widgets/output",
      "model_module_version": "1.0.0",
      "model_name": "OutputModel",
      "state": {
       "layout": "IPY_MODEL_11bd5332693b438a9bb7d799398531ef"
      }
     },
     "025055273e404d9fbb481cc24f5e0e7b": {
      "model_module": "@jupyter-widgets/controls",
      "model_module_version": "1.4.0",
      "model_name": "ButtonStyleModel",
      "state": {}
     },
     "0253d63d3866457aae0a53d806acf8da": {
      "model_module": "@jupyter-widgets/controls",
      "model_module_version": "1.4.0",
      "model_name": "DescriptionStyleModel",
      "state": {
       "description_width": ""
      }
     },
     "0259cfdd4268498187111e5b3f4edd87": {
      "model_module": "@jupyter-widgets/base",
      "model_module_version": "1.1.0",
      "model_name": "LayoutModel",
      "state": {
       "width": "95%"
      }
     },
     "02877933f7634934960fc0d80b6fecd5": {
      "model_module": "@jupyter-widgets/controls",
      "model_module_version": "1.4.0",
      "model_name": "ButtonStyleModel",
      "state": {}
     },
     "0288e71638e34f639da08102d6f44d45": {
      "model_module": "@jupyter-widgets/controls",
      "model_module_version": "1.4.0",
      "model_name": "VBoxModel",
      "state": {
       "children": [
        "IPY_MODEL_34742082b27144d3bb6209167d802060",
        "IPY_MODEL_fe5fb9f1b53e48519071092d74aa1db7"
       ],
       "layout": "IPY_MODEL_90462b6838524043b93cc593c6485408"
      }
     },
     "0298df25717c4209acfda4057cbd51c8": {
      "model_module": "@jupyter-widgets/controls",
      "model_module_version": "1.4.0",
      "model_name": "ButtonModel",
      "state": {
       "description": "7",
       "layout": "IPY_MODEL_97e63d93a3a845dab288b5933e4d63d8",
       "style": "IPY_MODEL_155adddd0b6b46e991a7c538d9ea8ade"
      }
     },
     "02a48320cf8e40ea995d1bd1cc7aaa82": {
      "model_module": "@jupyter-widgets/controls",
      "model_module_version": "1.4.0",
      "model_name": "TextModel",
      "state": {
       "description": "Other:",
       "layout": "IPY_MODEL_7e8aa62f152945609290a02f9f8e20f2",
       "placeholder": "Hit enter to submit.",
       "style": "IPY_MODEL_afdb2faf1f6b47eabf70c4644bafc7d3"
      }
     },
     "02adc73550ea49b7a48e0abe56704a0a": {
      "model_module": "@jupyter-widgets/base",
      "model_module_version": "1.1.0",
      "model_name": "LayoutModel",
      "state": {
       "width": "95%"
      }
     },
     "02bfd75560e04e80bcf54c044be0736e": {
      "model_module": "@jupyter-widgets/output",
      "model_module_version": "1.0.0",
      "model_name": "OutputModel",
      "state": {
       "layout": "IPY_MODEL_0318d67fb330426b96505ea8961717a7"
      }
     },
     "02c92a5c50254cb590735f488cc4d269": {
      "model_module": "@jupyter-widgets/controls",
      "model_module_version": "1.4.0",
      "model_name": "ButtonStyleModel",
      "state": {}
     },
     "02ca6c8d329e45bdbd1bbc585c78bdee": {
      "model_module": "@jupyter-widgets/base",
      "model_module_version": "1.1.0",
      "model_name": "LayoutModel",
      "state": {
       "width": "10%"
      }
     },
     "02d029fc17244a3da96e3f0bb8d92b43": {
      "model_module": "@jupyter-widgets/base",
      "model_module_version": "1.1.0",
      "model_name": "LayoutModel",
      "state": {}
     },
     "02ea049792b04d2d9310e2f90945faa5": {
      "model_module": "@jupyter-widgets/controls",
      "model_module_version": "1.4.0",
      "model_name": "ButtonStyleModel",
      "state": {}
     },
     "02f409bb1ea444f780eb94070d939c33": {
      "model_module": "@jupyter-widgets/controls",
      "model_module_version": "1.4.0",
      "model_name": "VBoxModel",
      "state": {
       "children": [
        "IPY_MODEL_c66feba097dc497c9381fd45389df746",
        "IPY_MODEL_79595a9b9b6e4fc1b0b093ca67038824"
       ],
       "layout": "IPY_MODEL_42532813c4e94deeb76409b38a4a397b"
      }
     },
     "02f6b7c64fe9422cbfe1d672753897c9": {
      "model_module": "@jupyter-widgets/controls",
      "model_module_version": "1.4.0",
      "model_name": "ButtonModel",
      "state": {
       "description": "5",
       "layout": "IPY_MODEL_00d800105ae14aa5b5d13f2084bed620",
       "style": "IPY_MODEL_26f7361e49694e5f82347229544ac9da"
      }
     },
     "0315168fafa2476285285e37c84a4812": {
      "model_module": "@jupyter-widgets/base",
      "model_module_version": "1.1.0",
      "model_name": "LayoutModel",
      "state": {}
     },
     "0318d67fb330426b96505ea8961717a7": {
      "model_module": "@jupyter-widgets/base",
      "model_module_version": "1.1.0",
      "model_name": "LayoutModel",
      "state": {}
     },
     "033d9691c0d14d39a14a8147c2b0b381": {
      "model_module": "@jupyter-widgets/controls",
      "model_module_version": "1.4.0",
      "model_name": "ButtonModel",
      "state": {
       "description": "7",
       "layout": "IPY_MODEL_8efb15723a1b4b25b452dc48b995fbe9",
       "style": "IPY_MODEL_4bbda7e0c550491c9b5d006e789a1604"
      }
     },
     "035aa04dd45d41f5b5e31c26c7639937": {
      "model_module": "@jupyter-widgets/base",
      "model_module_version": "1.1.0",
      "model_name": "LayoutModel",
      "state": {}
     },
     "03696fc62c8241569b7c2e78caba35b6": {
      "model_module": "@jupyter-widgets/controls",
      "model_module_version": "1.4.0",
      "model_name": "ButtonStyleModel",
      "state": {}
     },
     "039ad27e34cc482fb2c0b099e043fc12": {
      "model_module": "@jupyter-widgets/output",
      "model_module_version": "1.0.0",
      "model_name": "OutputModel",
      "state": {
       "layout": "IPY_MODEL_fbcf0d2374074a09a5e41704d993bce0"
      }
     },
     "03aac9284b0e4f908cf0198895b26c17": {
      "model_module": "@jupyter-widgets/base",
      "model_module_version": "1.1.0",
      "model_name": "LayoutModel",
      "state": {
       "width": "95%"
      }
     },
     "03ba6a5f9c2a497892c3ab071af33515": {
      "model_module": "@jupyter-widgets/base",
      "model_module_version": "1.1.0",
      "model_name": "LayoutModel",
      "state": {}
     },
     "03bb45f39b414f69822a444ebb463d07": {
      "model_module": "@jupyter-widgets/controls",
      "model_module_version": "1.4.0",
      "model_name": "ButtonStyleModel",
      "state": {}
     },
     "03c2441b9ebd408bae682cfa249a0029": {
      "model_module": "@jupyter-widgets/base",
      "model_module_version": "1.1.0",
      "model_name": "LayoutModel",
      "state": {
       "width": "10%"
      }
     },
     "03c7db40d1a745c9b47ae22d859b9232": {
      "model_module": "@jupyter-widgets/base",
      "model_module_version": "1.1.0",
      "model_name": "LayoutModel",
      "state": {
       "width": "10%"
      }
     },
     "03ca06a63644487e9d130d3091c515a9": {
      "model_module": "@jupyter-widgets/base",
      "model_module_version": "1.1.0",
      "model_name": "LayoutModel",
      "state": {}
     },
     "03cb12d6370c4925889586fd98f6b03c": {
      "model_module": "@jupyter-widgets/base",
      "model_module_version": "1.1.0",
      "model_name": "LayoutModel",
      "state": {
       "width": "10%"
      }
     },
     "03e037a41e744bbc8daf1b1b79955046": {
      "model_module": "@jupyter-widgets/base",
      "model_module_version": "1.1.0",
      "model_name": "LayoutModel",
      "state": {
       "width": "10%"
      }
     },
     "03f7958ffbc54bab84de6089859515b6": {
      "model_module": "@jupyter-widgets/controls",
      "model_module_version": "1.4.0",
      "model_name": "ButtonModel",
      "state": {
       "description": "9",
       "layout": "IPY_MODEL_64335c21e45948f59b40703e59424946",
       "style": "IPY_MODEL_c46e612865a7423c9eae71adfb702add"
      }
     },
     "03f88f3dba354fada6b8477b82576915": {
      "model_module": "@jupyter-widgets/output",
      "model_module_version": "1.0.0",
      "model_name": "OutputModel",
      "state": {
       "layout": "IPY_MODEL_cc6cf527793145a0a30db2b397d186cf"
      }
     },
     "0404ddb760f74320b63eb9861bfc3f66": {
      "model_module": "@jupyter-widgets/controls",
      "model_module_version": "1.4.0",
      "model_name": "VBoxModel",
      "state": {
       "children": [
        "IPY_MODEL_b0d43fd1aa8b4ce9be4e7e7f57b8c76d",
        "IPY_MODEL_0e4ab95f57b346c8ad8d9c50507893fd"
       ],
       "layout": "IPY_MODEL_96ba1cedb4e34d24b4e8fb20d8e940e8"
      }
     },
     "041562e8d85746a380e1bf8a1fe3896b": {
      "model_module": "@jupyter-widgets/controls",
      "model_module_version": "1.4.0",
      "model_name": "TextModel",
      "state": {
       "description": "Other:",
       "layout": "IPY_MODEL_9fccd5c1694d4fd49087e31fc7a80d25",
       "placeholder": "Hit enter to submit.",
       "style": "IPY_MODEL_48c5309a9be945c5ad50556334ea1f09"
      }
     },
     "041740e0a5384524ae88a394a1b71969": {
      "model_module": "@jupyter-widgets/controls",
      "model_module_version": "1.4.0",
      "model_name": "ButtonStyleModel",
      "state": {}
     },
     "0431ca2e52a9448f80dcb54233b57caa": {
      "model_module": "@jupyter-widgets/controls",
      "model_module_version": "1.4.0",
      "model_name": "ButtonStyleModel",
      "state": {}
     },
     "045507d6db304bed85cb5b9f3c0f0e56": {
      "model_module": "@jupyter-widgets/base",
      "model_module_version": "1.1.0",
      "model_name": "LayoutModel",
      "state": {
       "width": "95%"
      }
     },
     "0462a6b617fd49a1bf6c7440bc2f87df": {
      "model_module": "@jupyter-widgets/controls",
      "model_module_version": "1.4.0",
      "model_name": "ButtonStyleModel",
      "state": {}
     },
     "04685cf381d04b57a13440d1a2a42b06": {
      "model_module": "@jupyter-widgets/base",
      "model_module_version": "1.1.0",
      "model_name": "LayoutModel",
      "state": {
       "width": "95%"
      }
     },
     "04722b7615cc40b9876b655f672b598e": {
      "model_module": "@jupyter-widgets/controls",
      "model_module_version": "1.4.0",
      "model_name": "ButtonModel",
      "state": {
       "description": "6",
       "layout": "IPY_MODEL_408e2a8df4de4d9195fca413ab57cd41",
       "style": "IPY_MODEL_456d1e0369ce48fa89553c7bd916c870"
      }
     },
     "047c98a554f142e49d20a69894dd9fcb": {
      "model_module": "@jupyter-widgets/base",
      "model_module_version": "1.1.0",
      "model_name": "LayoutModel",
      "state": {}
     },
     "048211588bd24e0d9b924dade71d473d": {
      "model_module": "@jupyter-widgets/controls",
      "model_module_version": "1.4.0",
      "model_name": "DescriptionStyleModel",
      "state": {
       "description_width": ""
      }
     },
     "048e5da0a9f141bd90a32f8b6df67c39": {
      "model_module": "@jupyter-widgets/base",
      "model_module_version": "1.1.0",
      "model_name": "LayoutModel",
      "state": {}
     },
     "049bdc5ffa8f48de8b1f16e293df6604": {
      "model_module": "@jupyter-widgets/controls",
      "model_module_version": "1.4.0",
      "model_name": "ButtonStyleModel",
      "state": {}
     },
     "04b75589f1174bb390cbf37aac23af6c": {
      "model_module": "@jupyter-widgets/output",
      "model_module_version": "1.0.0",
      "model_name": "OutputModel",
      "state": {
       "layout": "IPY_MODEL_2788b12266404270a33aa8bba02aeaf2"
      }
     },
     "05036289d14d48beaf5197f1d508fed3": {
      "model_module": "@jupyter-widgets/controls",
      "model_module_version": "1.4.0",
      "model_name": "ButtonStyleModel",
      "state": {}
     },
     "05253a8818a2405e8b554b102cca7d5a": {
      "model_module": "@jupyter-widgets/controls",
      "model_module_version": "1.4.0",
      "model_name": "ButtonStyleModel",
      "state": {}
     },
     "054259d270024a7b9908cee6b6115a07": {
      "model_module": "@jupyter-widgets/controls",
      "model_module_version": "1.4.0",
      "model_name": "ButtonModel",
      "state": {
       "description": "5",
       "layout": "IPY_MODEL_139fc637c1384b8da8d6d6c23c227a6f",
       "style": "IPY_MODEL_6495ce2b247f423296f1b1cf06efe24f"
      }
     },
     "054595b4d2ec4a4b820df75893bb4878": {
      "model_module": "@jupyter-widgets/controls",
      "model_module_version": "1.4.0",
      "model_name": "ButtonModel",
      "state": {
       "description": "9",
       "layout": "IPY_MODEL_8c15fef6950d40e4965c1ee4db17980a",
       "style": "IPY_MODEL_16f6c4f576b24f61b298e7e2a1c4df7e"
      }
     },
     "05687b8288f04aeeb03ad47d7b9eecac": {
      "model_module": "@jupyter-widgets/base",
      "model_module_version": "1.1.0",
      "model_name": "LayoutModel",
      "state": {
       "width": "10%"
      }
     },
     "056ba621cdbf469088258fb7280dc639": {
      "model_module": "@jupyter-widgets/base",
      "model_module_version": "1.1.0",
      "model_name": "LayoutModel",
      "state": {}
     },
     "056df54a77e8400e842338b1b7e34bcb": {
      "model_module": "@jupyter-widgets/controls",
      "model_module_version": "1.4.0",
      "model_name": "ButtonStyleModel",
      "state": {}
     },
     "0593ba82f1254e09b0ac0082f8d55797": {
      "model_module": "@jupyter-widgets/controls",
      "model_module_version": "1.4.0",
      "model_name": "ButtonModel",
      "state": {
       "description": "6",
       "layout": "IPY_MODEL_6d72bebbbf1341549b49ffae5af43f4a",
       "style": "IPY_MODEL_5abe7f46e80d4572b3b55d684d46ad06"
      }
     },
     "0594322e96e745fe8beeb86753c83b5a": {
      "model_module": "@jupyter-widgets/output",
      "model_module_version": "1.0.0",
      "model_name": "OutputModel",
      "state": {
       "layout": "IPY_MODEL_56d63755c1a845a89420be23736de9c0"
      }
     },
     "05ac17d3d4e842418ce2ee1059606a00": {
      "model_module": "@jupyter-widgets/controls",
      "model_module_version": "1.4.0",
      "model_name": "VBoxModel",
      "state": {
       "children": [
        "IPY_MODEL_6f739570b8b8426c9a749d223f44c279",
        "IPY_MODEL_4ff7c85db97949b2857883b7828a0f53"
       ],
       "layout": "IPY_MODEL_10c883bdf2ec47d3b72b5b23944fef6f"
      }
     },
     "05e1e891cba042668df73c0514595f80": {
      "model_module": "@jupyter-widgets/base",
      "model_module_version": "1.1.0",
      "model_name": "LayoutModel",
      "state": {
       "width": "10%"
      }
     },
     "05e5df11046a4f57b0f195bf83a4916a": {
      "model_module": "@jupyter-widgets/base",
      "model_module_version": "1.1.0",
      "model_name": "LayoutModel",
      "state": {}
     },
     "05f12ef6b75f4070b078161711234baf": {
      "model_module": "@jupyter-widgets/controls",
      "model_module_version": "1.4.0",
      "model_name": "HBoxModel",
      "state": {
       "children": [
        "IPY_MODEL_a7b44988270847eabb0bf8f369e3567b",
        "IPY_MODEL_8ff52e9bec0d4c2bbfd8b2d96b28d24c",
        "IPY_MODEL_85b809c18a6c4a50963c04ccc34d9c28"
       ],
       "layout": "IPY_MODEL_1723c926d66842199b6828feb4251f81"
      }
     },
     "05f4796e8d11446791e85e6216e840d3": {
      "model_module": "@jupyter-widgets/base",
      "model_module_version": "1.1.0",
      "model_name": "LayoutModel",
      "state": {
       "width": "95%"
      }
     },
     "06131b6fa3064052b30c36767f19ad2f": {
      "model_module": "@jupyter-widgets/base",
      "model_module_version": "1.1.0",
      "model_name": "LayoutModel",
      "state": {
       "width": "95%"
      }
     },
     "06217c01da7948cc8c83732b971c02d8": {
      "model_module": "@jupyter-widgets/controls",
      "model_module_version": "1.4.0",
      "model_name": "VBoxModel",
      "state": {
       "children": [
        "IPY_MODEL_d8a9057d1e5340b193f195cb4fc09253",
        "IPY_MODEL_40aaa4722cbf4343961e268f95e942a4"
       ],
       "layout": "IPY_MODEL_016b49de518040c6b9bf11d39d3f6fe1"
      }
     },
     "063645bb78b34641b7e115f38d6f3b68": {
      "model_module": "@jupyter-widgets/controls",
      "model_module_version": "1.4.0",
      "model_name": "ButtonModel",
      "state": {
       "description": "9",
       "layout": "IPY_MODEL_b8d7bfdfee99483b856b47cbc9377ba6",
       "style": "IPY_MODEL_7308b310a1d1414ca11c0b28872e8f02"
      }
     },
     "066a6658c61842d1a2bb80d07c968377": {
      "model_module": "@jupyter-widgets/controls",
      "model_module_version": "1.4.0",
      "model_name": "VBoxModel",
      "state": {
       "children": [
        "IPY_MODEL_bd3cac5f1b0843a0a5b915db560793e3",
        "IPY_MODEL_ad1f01bacf864ff399bffe0c74cb449a"
       ],
       "layout": "IPY_MODEL_2edb790f5d534c2d89dda4f107b50c25"
      }
     },
     "0676c62304e743ada3e645b29e48fff6": {
      "model_module": "@jupyter-widgets/base",
      "model_module_version": "1.1.0",
      "model_name": "LayoutModel",
      "state": {
       "width": "10%"
      }
     },
     "0677bb1bbc444f4f8b96970014ec78e4": {
      "model_module": "@jupyter-widgets/base",
      "model_module_version": "1.1.0",
      "model_name": "LayoutModel",
      "state": {
       "width": "95%"
      }
     },
     "067f2f98021a49d1b2d93f541e6bba3f": {
      "model_module": "@jupyter-widgets/controls",
      "model_module_version": "1.4.0",
      "model_name": "ButtonModel",
      "state": {
       "description": "4",
       "layout": "IPY_MODEL_6afe04e75dfe422986c4ddaa188ac858",
       "style": "IPY_MODEL_0e371a8bc8f243bcb10b9ae085285334"
      }
     },
     "068d1da5641f4837845f6d19d394f9cb": {
      "model_module": "@jupyter-widgets/controls",
      "model_module_version": "1.4.0",
      "model_name": "ButtonStyleModel",
      "state": {}
     },
     "0698b851b9604dae8f12cdded02ddecb": {
      "model_module": "@jupyter-widgets/base",
      "model_module_version": "1.1.0",
      "model_name": "LayoutModel",
      "state": {}
     },
     "06a7a82d283346b188979fa61449cf28": {
      "model_module": "@jupyter-widgets/controls",
      "model_module_version": "1.4.0",
      "model_name": "ButtonModel",
      "state": {
       "description": "7",
       "layout": "IPY_MODEL_1d902e73c5344ce5b2bdd5a309e168f4",
       "style": "IPY_MODEL_f56237de777a4358ab49e34f93d9df0c"
      }
     },
     "06ad5c5b595848118a5038f022e1af08": {
      "model_module": "@jupyter-widgets/controls",
      "model_module_version": "1.4.0",
      "model_name": "ButtonStyleModel",
      "state": {}
     },
     "06ae60fb422c499db371abb5830b39aa": {
      "model_module": "@jupyter-widgets/base",
      "model_module_version": "1.1.0",
      "model_name": "LayoutModel",
      "state": {
       "width": "10%"
      }
     },
     "06d5757fcbf84a9fbad91b7e9d0310ff": {
      "model_module": "@jupyter-widgets/base",
      "model_module_version": "1.1.0",
      "model_name": "LayoutModel",
      "state": {
       "width": "10%"
      }
     },
     "06f012f7e8b1417b977bb17d23e99838": {
      "model_module": "@jupyter-widgets/controls",
      "model_module_version": "1.4.0",
      "model_name": "ButtonStyleModel",
      "state": {}
     },
     "06fd7c17733c43b8b78be995ae145565": {
      "model_module": "@jupyter-widgets/base",
      "model_module_version": "1.1.0",
      "model_name": "LayoutModel",
      "state": {}
     },
     "07083329d0ef4fa3893f44db730c98b8": {
      "model_module": "@jupyter-widgets/controls",
      "model_module_version": "1.4.0",
      "model_name": "ButtonModel",
      "state": {
       "description": "3",
       "layout": "IPY_MODEL_5a2ee692d6eb420ebd3cb88b86344a65",
       "style": "IPY_MODEL_d11a90c6bf1d421db89e7c8ea79caaa5"
      }
     },
     "070e06ebace84b8f8e63613e1bdb8a03": {
      "model_module": "@jupyter-widgets/base",
      "model_module_version": "1.1.0",
      "model_name": "LayoutModel",
      "state": {}
     },
     "070ffc3548c74a3ebfe02f31abfcbdcc": {
      "model_module": "@jupyter-widgets/output",
      "model_module_version": "1.0.0",
      "model_name": "OutputModel",
      "state": {
       "layout": "IPY_MODEL_b38f420233f746888d13957819f2bb0e"
      }
     },
     "0710e82dd8d445acb56030664c1897c8": {
      "model_module": "@jupyter-widgets/controls",
      "model_module_version": "1.4.0",
      "model_name": "VBoxModel",
      "state": {
       "children": [
        "IPY_MODEL_7e91ca64df7d4ab692f229c5c3796940",
        "IPY_MODEL_b334eee10ab14c5da48a0f6473c93d29"
       ],
       "layout": "IPY_MODEL_febcbc5b834248549bfd5f94bb0316e7"
      }
     },
     "072430d2935947ef8bcd8dd65c5d5b62": {
      "model_module": "@jupyter-widgets/controls",
      "model_module_version": "1.4.0",
      "model_name": "ButtonStyleModel",
      "state": {}
     },
     "0728e9c745cc4574ae40403b8aa018d4": {
      "model_module": "@jupyter-widgets/base",
      "model_module_version": "1.1.0",
      "model_name": "LayoutModel",
      "state": {
       "width": "95%"
      }
     },
     "077a8a983feb4aca813454f592c87b92": {
      "model_module": "@jupyter-widgets/controls",
      "model_module_version": "1.4.0",
      "model_name": "ButtonModel",
      "state": {
       "description": "9",
       "layout": "IPY_MODEL_574600853fe8470b8a378f53a9e3b85c",
       "style": "IPY_MODEL_36012cdf65b8402ca44e22376139fbbb"
      }
     },
     "079423199d7041129291fd989f3768b6": {
      "model_module": "@jupyter-widgets/controls",
      "model_module_version": "1.4.0",
      "model_name": "VBoxModel",
      "state": {
       "children": [
        "IPY_MODEL_09586457a5ef4299861d5231909d28e1",
        "IPY_MODEL_7a1515a0bc684a1b93bd2a23072afe03"
       ],
       "layout": "IPY_MODEL_73fd6da685a4495a8045d9ef10ecff0e"
      }
     },
     "07c71278468b4e309a0697549451f0eb": {
      "model_module": "@jupyter-widgets/controls",
      "model_module_version": "1.4.0",
      "model_name": "ButtonModel",
      "state": {
       "description": "5",
       "layout": "IPY_MODEL_1bad9fb3797b4ab2a70d59f9bcec55f2",
       "style": "IPY_MODEL_9f05606930ce47bca554eec0977c7b8e"
      }
     },
     "07caec2aa4b4446290618f1080a0e8c6": {
      "model_module": "@jupyter-widgets/base",
      "model_module_version": "1.1.0",
      "model_name": "LayoutModel",
      "state": {
       "width": "10%"
      }
     },
     "07e8318808cd4b2cae1b393a78fb14b3": {
      "model_module": "@jupyter-widgets/controls",
      "model_module_version": "1.4.0",
      "model_name": "ButtonModel",
      "state": {
       "description": "1",
       "layout": "IPY_MODEL_8c981cf81a094022a8ac9d92ba34929a",
       "style": "IPY_MODEL_d3954207a4014e72917bc8fa4ea31d84"
      }
     },
     "07fc29d6b7b24c3ca25957daf46f6117": {
      "model_module": "@jupyter-widgets/controls",
      "model_module_version": "1.4.0",
      "model_name": "ButtonModel",
      "state": {
       "description": "4",
       "layout": "IPY_MODEL_01f38a20d3494d3a9d1a896e2a607ecd",
       "style": "IPY_MODEL_f294b9e3b85e4582abc2c5b8dfeee0cc"
      }
     },
     "0823b707359847b9a0e3fbac67da75da": {
      "model_module": "@jupyter-widgets/base",
      "model_module_version": "1.1.0",
      "model_name": "LayoutModel",
      "state": {
       "width": "10%"
      }
     },
     "082aed9b5ce94cfb90b38dc5306deb2f": {
      "model_module": "@jupyter-widgets/controls",
      "model_module_version": "1.4.0",
      "model_name": "ButtonModel",
      "state": {
       "description": "9",
       "layout": "IPY_MODEL_ccfce29546f84d9d8a3b10f0f1c6f492",
       "style": "IPY_MODEL_21ea1c4371b343588c37c5395b743c46"
      }
     },
     "08586a53e77e44df9132a607ee680c8a": {
      "model_module": "@jupyter-widgets/base",
      "model_module_version": "1.1.0",
      "model_name": "LayoutModel",
      "state": {}
     },
     "08706ea73cbc496d84b9e2a8f8c43b11": {
      "model_module": "@jupyter-widgets/controls",
      "model_module_version": "1.4.0",
      "model_name": "HBoxModel",
      "state": {
       "children": [
        "IPY_MODEL_a7b44988270847eabb0bf8f369e3567b",
        "IPY_MODEL_8ff52e9bec0d4c2bbfd8b2d96b28d24c",
        "IPY_MODEL_85b809c18a6c4a50963c04ccc34d9c28"
       ],
       "layout": "IPY_MODEL_5f180d8be3284459922a2188dac15ebc"
      }
     },
     "088ae07cf47e465994e5e9b0a3e7ece7": {
      "model_module": "@jupyter-widgets/output",
      "model_module_version": "1.0.0",
      "model_name": "OutputModel",
      "state": {
       "layout": "IPY_MODEL_a84c390b4f9f4c019f3c5e891baa0611"
      }
     },
     "0894d18ad7354a3586b34c11cc4015c0": {
      "model_module": "@jupyter-widgets/controls",
      "model_module_version": "1.4.0",
      "model_name": "VBoxModel",
      "state": {
       "children": [
        "IPY_MODEL_7028f092784c47e099729b10f24cfe02",
        "IPY_MODEL_95cf74e28e6d4889ae7d85314c6d4cb6"
       ],
       "layout": "IPY_MODEL_486a440606d94cc3bc8bc0641a5e4cb3"
      }
     },
     "0894ec5e13e540bba50627e5f92da914": {
      "model_module": "@jupyter-widgets/controls",
      "model_module_version": "1.4.0",
      "model_name": "ButtonModel",
      "state": {
       "description": "4",
       "layout": "IPY_MODEL_fe74cd50c874406698695557752b6447",
       "style": "IPY_MODEL_266c2c794c4b4bff889132bd27359bdd"
      }
     },
     "089d038fd8f44776b4c97042f92a3db4": {
      "model_module": "@jupyter-widgets/base",
      "model_module_version": "1.1.0",
      "model_name": "LayoutModel",
      "state": {
       "width": "95%"
      }
     },
     "089d9deabd2e4d22b1caf94c622bf271": {
      "model_module": "@jupyter-widgets/base",
      "model_module_version": "1.1.0",
      "model_name": "LayoutModel",
      "state": {}
     },
     "089f2d211017490aafd7c62b5273b280": {
      "model_module": "@jupyter-widgets/controls",
      "model_module_version": "1.4.0",
      "model_name": "ButtonModel",
      "state": {
       "description": "4",
       "layout": "IPY_MODEL_87954b3c6f29426b87f428f05a13789c",
       "style": "IPY_MODEL_e619ad023a394c499de814ca04c92148"
      }
     },
     "08b2105a58ff4e18a2fb9d76c0550bff": {
      "model_module": "@jupyter-widgets/base",
      "model_module_version": "1.1.0",
      "model_name": "LayoutModel",
      "state": {
       "width": "95%"
      }
     },
     "08d532bc86474d0ba6fe7bb8aa462124": {
      "model_module": "@jupyter-widgets/controls",
      "model_module_version": "1.4.0",
      "model_name": "ButtonStyleModel",
      "state": {}
     },
     "08e01fc7cf004c508971e542c12bfc9a": {
      "model_module": "@jupyter-widgets/base",
      "model_module_version": "1.1.0",
      "model_name": "LayoutModel",
      "state": {
       "width": "10%"
      }
     },
     "0902b50eaff04238b1a3851251d403db": {
      "model_module": "@jupyter-widgets/base",
      "model_module_version": "1.1.0",
      "model_name": "LayoutModel",
      "state": {
       "width": "95%"
      }
     },
     "090d3c3c1ced45619395dc748dd9fc05": {
      "model_module": "@jupyter-widgets/controls",
      "model_module_version": "1.4.0",
      "model_name": "ButtonStyleModel",
      "state": {}
     },
     "09105c93cec24adbb618bfd33ab2ab51": {
      "model_module": "@jupyter-widgets/controls",
      "model_module_version": "1.4.0",
      "model_name": "HBoxModel",
      "state": {
       "children": [
        "IPY_MODEL_e94c774cddc14313bce122f5ece0f1dc",
        "IPY_MODEL_7d86d4e5d5294d50affcb1d79cf6b7a4"
       ],
       "layout": "IPY_MODEL_9a5380b791f84bf0bcb9484fd4d6aeb6"
      }
     },
     "091399ad2d264557997f32a562b46744": {
      "model_module": "@jupyter-widgets/output",
      "model_module_version": "1.0.0",
      "model_name": "OutputModel",
      "state": {
       "layout": "IPY_MODEL_f47c311f15804b93bf6a2904eb8477cc"
      }
     },
     "0923557c48cd4d8d8caffe2a61a585c5": {
      "model_module": "@jupyter-widgets/base",
      "model_module_version": "1.1.0",
      "model_name": "LayoutModel",
      "state": {
       "width": "10%"
      }
     },
     "0931faed24254a47b6fb89f3212da0e9": {
      "model_module": "@jupyter-widgets/output",
      "model_module_version": "1.0.0",
      "model_name": "OutputModel",
      "state": {
       "layout": "IPY_MODEL_056ba621cdbf469088258fb7280dc639"
      }
     },
     "0954a284e16d45fa908bd6bbc2205054": {
      "model_module": "@jupyter-widgets/base",
      "model_module_version": "1.1.0",
      "model_name": "LayoutModel",
      "state": {}
     },
     "09586457a5ef4299861d5231909d28e1": {
      "model_module": "@jupyter-widgets/controls",
      "model_module_version": "1.4.0",
      "model_name": "ButtonModel",
      "state": {
       "description": "3",
       "layout": "IPY_MODEL_312fbfa4f82243098661cd312cec4df7",
       "style": "IPY_MODEL_cba1f3a12c0945c590168532e4819569"
      }
     },
     "0975a9cb5f47401598e8636699d6c9aa": {
      "model_module": "@jupyter-widgets/base",
      "model_module_version": "1.1.0",
      "model_name": "LayoutModel",
      "state": {
       "width": "10%"
      }
     },
     "098645684d1840a0aed8f8105e48ce66": {
      "model_module": "@jupyter-widgets/controls",
      "model_module_version": "1.4.0",
      "model_name": "HBoxModel",
      "state": {
       "children": [
        "IPY_MODEL_a7b44988270847eabb0bf8f369e3567b",
        "IPY_MODEL_8ff52e9bec0d4c2bbfd8b2d96b28d24c",
        "IPY_MODEL_85b809c18a6c4a50963c04ccc34d9c28"
       ],
       "layout": "IPY_MODEL_a614df17348641d2a875986f95dc4c80"
      }
     },
     "09bc3ec40f1b459e8403462be65f3185": {
      "model_module": "@jupyter-widgets/output",
      "model_module_version": "1.0.0",
      "model_name": "OutputModel",
      "state": {
       "layout": "IPY_MODEL_37382e56cbe447cba84f2c4579b07b67"
      }
     },
     "09c51e31b899426a95a875692f485ed9": {
      "model_module": "@jupyter-widgets/controls",
      "model_module_version": "1.4.0",
      "model_name": "VBoxModel",
      "state": {
       "children": [
        "IPY_MODEL_f92cc9f2f65c4aa0956d402cb98b6d48",
        "IPY_MODEL_8a562b2b4efc4136afab4ee55e269f8e"
       ],
       "layout": "IPY_MODEL_4eeeeebe37944fe18f32faae9bfb97ad"
      }
     },
     "09e8539ffda84c91915aa75f731b8e56": {
      "model_module": "@jupyter-widgets/base",
      "model_module_version": "1.1.0",
      "model_name": "LayoutModel",
      "state": {}
     },
     "0a0b781f93404f158e6e74b2dd564225": {
      "model_module": "@jupyter-widgets/controls",
      "model_module_version": "1.4.0",
      "model_name": "HBoxModel",
      "state": {
       "children": [
        "IPY_MODEL_4cd6f3597cb74b88b1b5cec7ec12a587",
        "IPY_MODEL_c9f4a6a30b9844bdac252eb66d5a4bd8"
       ],
       "layout": "IPY_MODEL_fe281c7f58254b418333ceb7a06c35ca"
      }
     },
     "0a22bf1e412a4fc8a5daba885c43e7e8": {
      "model_module": "@jupyter-widgets/controls",
      "model_module_version": "1.4.0",
      "model_name": "ButtonModel",
      "state": {
       "description": "0",
       "layout": "IPY_MODEL_0f9e661de92d47eb9616ef7e01dba8a1",
       "style": "IPY_MODEL_e50bfe046912471c8bd6762974f09f11"
      }
     },
     "0a343f88f9614f2abb20a50f79861668": {
      "model_module": "@jupyter-widgets/controls",
      "model_module_version": "1.4.0",
      "model_name": "ButtonModel",
      "state": {
       "description": "7",
       "layout": "IPY_MODEL_4685e1c765244a5cb6f8bf4416fefa05",
       "style": "IPY_MODEL_c98da269baff4fbc873dda08152ec9a9"
      }
     },
     "0a41a2bde7224634991fb2899cf5a60c": {
      "model_module": "@jupyter-widgets/controls",
      "model_module_version": "1.4.0",
      "model_name": "ButtonModel",
      "state": {
       "description": "8",
       "layout": "IPY_MODEL_777ef1b557af408f8f0d7d71dc1053b5",
       "style": "IPY_MODEL_604ec49b29344a3fb6778825dabf6a0b"
      }
     },
     "0a50511d97874ac5ad1d2f25c78e2d35": {
      "model_module": "@jupyter-widgets/controls",
      "model_module_version": "1.4.0",
      "model_name": "ButtonStyleModel",
      "state": {}
     },
     "0aa33bf317484b39a88ad563f90b7f03": {
      "model_module": "@jupyter-widgets/controls",
      "model_module_version": "1.4.0",
      "model_name": "HBoxModel",
      "state": {
       "children": [
        "IPY_MODEL_3df7fa6e0c434a5f88bca1c55a3b676a",
        "IPY_MODEL_098645684d1840a0aed8f8105e48ce66"
       ],
       "layout": "IPY_MODEL_1bb97edf8e6041c39fb0189c9ab41d72"
      }
     },
     "0aed1035219a4d65b2fa76a53d53ae34": {
      "model_module": "@jupyter-widgets/base",
      "model_module_version": "1.1.0",
      "model_name": "LayoutModel",
      "state": {}
     },
     "0af0937ab651459daf32425cfe903db6": {
      "model_module": "@jupyter-widgets/controls",
      "model_module_version": "1.4.0",
      "model_name": "VBoxModel",
      "state": {
       "children": [
        "IPY_MODEL_7ae64c649af44247b07d210be71c8546",
        "IPY_MODEL_4f38beec07bd44d5981962eacae49ae9"
       ],
       "layout": "IPY_MODEL_31e33ad691fa45fc9bea56af49996b54"
      }
     },
     "0b1a999550c24bfcbe6c14b8b0504433": {
      "model_module": "@jupyter-widgets/controls",
      "model_module_version": "1.4.0",
      "model_name": "TextModel",
      "state": {
       "description": "Other:",
       "layout": "IPY_MODEL_375f6b62636a4219991c25e7e9ca5a32",
       "placeholder": "Hit enter to submit.",
       "style": "IPY_MODEL_d3a985f8ec62418fb1915dc4e34dc6fd"
      }
     },
     "0b2ab41ed3f6432587df22bce048f596": {
      "model_module": "@jupyter-widgets/controls",
      "model_module_version": "1.4.0",
      "model_name": "VBoxModel",
      "state": {
       "children": [
        "IPY_MODEL_cf07451a101e48249e218e8ca7faae6b",
        "IPY_MODEL_1fd9c5e01e2841178596d65729cdba52"
       ],
       "layout": "IPY_MODEL_4312b28044284c7faa83d398737a36f2"
      }
     },
     "0b38d84825ef4c51a9cfcaae0db974f3": {
      "model_module": "@jupyter-widgets/controls",
      "model_module_version": "1.4.0",
      "model_name": "VBoxModel",
      "state": {
       "children": [
        "IPY_MODEL_caf213fd623047aca577f99afd410ffc",
        "IPY_MODEL_ea160220e6ca47f39d4cbd20db31963b"
       ],
       "layout": "IPY_MODEL_0d9f50054d154bfbbbc996502736660c"
      }
     },
     "0b54e94fc50a47ab8a6742d8a26e8e4f": {
      "model_module": "@jupyter-widgets/output",
      "model_module_version": "1.0.0",
      "model_name": "OutputModel",
      "state": {
       "layout": "IPY_MODEL_c73f12491b85406389e0fb7a2776ecf2"
      }
     },
     "0b57f59c6640418da4068e8f93887ba5": {
      "model_module": "@jupyter-widgets/controls",
      "model_module_version": "1.4.0",
      "model_name": "VBoxModel",
      "state": {
       "children": [
        "IPY_MODEL_703ffd736fe34d68988523e7f4f14146",
        "IPY_MODEL_a0a0dbebe5a14e6da24ea8275d3a2c25"
       ],
       "layout": "IPY_MODEL_d238240e5a074d68b20c7e0d18acd858"
      }
     },
     "0b72ac452ab043a297cc79d61465be66": {
      "model_module": "@jupyter-widgets/base",
      "model_module_version": "1.1.0",
      "model_name": "LayoutModel",
      "state": {
       "width": "95%"
      }
     },
     "0b8b4c95736b47e6884aee089eceb98a": {
      "model_module": "@jupyter-widgets/output",
      "model_module_version": "1.0.0",
      "model_name": "OutputModel",
      "state": {
       "layout": "IPY_MODEL_2e763551f5fa4187945d76ec16b54821"
      }
     },
     "0ba13f5da4dd495c88405865b71f7967": {
      "model_module": "@jupyter-widgets/base",
      "model_module_version": "1.1.0",
      "model_name": "LayoutModel",
      "state": {}
     },
     "0bbdd0a241734f21ab4343e44a6087ba": {
      "model_module": "@jupyter-widgets/base",
      "model_module_version": "1.1.0",
      "model_name": "LayoutModel",
      "state": {}
     },
     "0bc7db9babcb43cabceee7c5edd6259f": {
      "model_module": "@jupyter-widgets/controls",
      "model_module_version": "1.4.0",
      "model_name": "VBoxModel",
      "state": {
       "children": [
        "IPY_MODEL_054595b4d2ec4a4b820df75893bb4878",
        "IPY_MODEL_f4aebc30ba634741ba1afc5e9fe40726"
       ],
       "layout": "IPY_MODEL_c517c75f84c9421686673e6ce16c5319"
      }
     },
     "0bcf43a166424c539299c49fa850dd23": {
      "model_module": "@jupyter-widgets/base",
      "model_module_version": "1.1.0",
      "model_name": "LayoutModel",
      "state": {}
     },
     "0bff5b39211e4f8ab2bb4330f5925a08": {
      "model_module": "@jupyter-widgets/controls",
      "model_module_version": "1.4.0",
      "model_name": "ButtonStyleModel",
      "state": {}
     },
     "0c209612bb8646ddafc5e62db1be30cb": {
      "model_module": "@jupyter-widgets/controls",
      "model_module_version": "1.4.0",
      "model_name": "ButtonStyleModel",
      "state": {}
     },
     "0c218552d546472a951e0be5fece1bd9": {
      "model_module": "@jupyter-widgets/controls",
      "model_module_version": "1.4.0",
      "model_name": "VBoxModel",
      "state": {
       "children": [
        "IPY_MODEL_60e8dc17c5e549c18aeead52864e53f5",
        "IPY_MODEL_94b839a32fcb4c0599be74224c4208c8"
       ],
       "layout": "IPY_MODEL_c3047744645b4f7c955d572485d07bfb"
      }
     },
     "0c50cf4b319542aabddcfff19eeb87fe": {
      "model_module": "@jupyter-widgets/base",
      "model_module_version": "1.1.0",
      "model_name": "LayoutModel",
      "state": {
       "justify_content": "space-between"
      }
     },
     "0c50eddf90a04589a13c56d52855a2dc": {
      "model_module": "@jupyter-widgets/controls",
      "model_module_version": "1.4.0",
      "model_name": "TextModel",
      "state": {
       "description": "Other:",
       "layout": "IPY_MODEL_23c1d65fdf884c86bbdd6d910c9f4d0d",
       "placeholder": "Hit enter to submit.",
       "style": "IPY_MODEL_d38b022a612646edac5c68857ae372c1"
      }
     },
     "0c8c052bd4984632842c41b5763f45ed": {
      "model_module": "@jupyter-widgets/base",
      "model_module_version": "1.1.0",
      "model_name": "LayoutModel",
      "state": {}
     },
     "0c963bc9e3ba419b8ea6bc259970c7bb": {
      "model_module": "@jupyter-widgets/base",
      "model_module_version": "1.1.0",
      "model_name": "LayoutModel",
      "state": {
       "width": "95%"
      }
     },
     "0c969c3cef8743ca935db2542404176f": {
      "model_module": "@jupyter-widgets/base",
      "model_module_version": "1.1.0",
      "model_name": "LayoutModel",
      "state": {
       "width": "10%"
      }
     },
     "0c96e6da9d6f4a90b53cfcaede197930": {
      "model_module": "@jupyter-widgets/controls",
      "model_module_version": "1.4.0",
      "model_name": "VBoxModel",
      "state": {
       "children": [
        "IPY_MODEL_ddedd35abc4945c4954c34c50152c92c",
        "IPY_MODEL_9f1e4c295cf147a3a7869b6994afa7d5"
       ],
       "layout": "IPY_MODEL_90e36393465b451fb53ee4fdc5d82f03"
      }
     },
     "0c989b9d1cd5465a8918edf5ca12df4a": {
      "model_module": "@jupyter-widgets/controls",
      "model_module_version": "1.4.0",
      "model_name": "ButtonModel",
      "state": {
       "description": "4",
       "layout": "IPY_MODEL_b5ecb5e82c7745eeb73b268da56e61e8",
       "style": "IPY_MODEL_7487f6e39e7c42ce8ba96f86754868d2"
      }
     },
     "0ca87db60ad64596a389cf7900c6cf8d": {
      "model_module": "@jupyter-widgets/base",
      "model_module_version": "1.1.0",
      "model_name": "LayoutModel",
      "state": {
       "width": "10%"
      }
     },
     "0cb2f7ca42534c48b2d0c68684c8b4fa": {
      "model_module": "@jupyter-widgets/controls",
      "model_module_version": "1.4.0",
      "model_name": "VBoxModel",
      "state": {
       "children": [
        "IPY_MODEL_9474e94bc59640bb916f6a4bd63c47b7",
        "IPY_MODEL_57a7617a222a449183f8f9b767e42539"
       ],
       "layout": "IPY_MODEL_ae12f73d2f6046c6a45b7a8a0f867545"
      }
     },
     "0cd2e9218ce8434fbc8156f931c09c9a": {
      "model_module": "@jupyter-widgets/base",
      "model_module_version": "1.1.0",
      "model_name": "LayoutModel",
      "state": {
       "width": "95%"
      }
     },
     "0cd75a3e8e2340ad8aa3ef0ade7c65e9": {
      "model_module": "@jupyter-widgets/output",
      "model_module_version": "1.0.0",
      "model_name": "OutputModel",
      "state": {
       "layout": "IPY_MODEL_a52346912a9a4d539fcc2e0678f7a44a"
      }
     },
     "0d0f04490f114019ba57be81bb2bd80e": {
      "model_module": "@jupyter-widgets/base",
      "model_module_version": "1.1.0",
      "model_name": "LayoutModel",
      "state": {}
     },
     "0d1e36bdd0514497a288a5798260b43f": {
      "model_module": "@jupyter-widgets/output",
      "model_module_version": "1.0.0",
      "model_name": "OutputModel",
      "state": {
       "layout": "IPY_MODEL_b2ad9490399e4c008cd272de77b190db"
      }
     },
     "0d4e49e2e4024f67805f0a93d60a93fe": {
      "model_module": "@jupyter-widgets/base",
      "model_module_version": "1.1.0",
      "model_name": "LayoutModel",
      "state": {
       "width": "95%"
      }
     },
     "0d6633d02d424d3c8d7b3d412dcf4297": {
      "model_module": "@jupyter-widgets/base",
      "model_module_version": "1.1.0",
      "model_name": "LayoutModel",
      "state": {
       "width": "95%"
      }
     },
     "0d6863e649cc43bb860ea47903ce7ad8": {
      "model_module": "@jupyter-widgets/base",
      "model_module_version": "1.1.0",
      "model_name": "LayoutModel",
      "state": {
       "width": "95%"
      }
     },
     "0d898d422f86435684f03c7719bdf7dd": {
      "model_module": "@jupyter-widgets/controls",
      "model_module_version": "1.4.0",
      "model_name": "HBoxModel",
      "state": {
       "children": [
        "IPY_MODEL_75d8574b0f2a4c0b888e38bbd271b774",
        "IPY_MODEL_298fd2a5d0ad4e2f88c1401ec39ca985"
       ],
       "layout": "IPY_MODEL_f5a4b1f47350438eb69bcbc4f0171917"
      }
     },
     "0d96675718194b99addd4407f2481813": {
      "model_module": "@jupyter-widgets/output",
      "model_module_version": "1.0.0",
      "model_name": "OutputModel",
      "state": {
       "layout": "IPY_MODEL_d2280979e2b94865a62de42a71b30249"
      }
     },
     "0d9f50054d154bfbbbc996502736660c": {
      "model_module": "@jupyter-widgets/base",
      "model_module_version": "1.1.0",
      "model_name": "LayoutModel",
      "state": {
       "width": "10%"
      }
     },
     "0da06c8449de4f1b83f14a5e56396c6c": {
      "model_module": "@jupyter-widgets/base",
      "model_module_version": "1.1.0",
      "model_name": "LayoutModel",
      "state": {}
     },
     "0da774a9550c4619afac18cf99f7c130": {
      "model_module": "@jupyter-widgets/controls",
      "model_module_version": "1.4.0",
      "model_name": "VBoxModel",
      "state": {
       "children": [
        "IPY_MODEL_d19e78c54b014220935df28b2da719c5",
        "IPY_MODEL_f539431dd2054a2f84591d8fca32c7c1"
       ],
       "layout": "IPY_MODEL_bc30925113934de090b50b2ba3671fee"
      }
     },
     "0db5b18cb979444f9fb4ec44dec411a6": {
      "model_module": "@jupyter-widgets/base",
      "model_module_version": "1.1.0",
      "model_name": "LayoutModel",
      "state": {
       "width": "10%"
      }
     },
     "0dca3cc745234e2d9696c319c24327cb": {
      "model_module": "@jupyter-widgets/base",
      "model_module_version": "1.1.0",
      "model_name": "LayoutModel",
      "state": {}
     },
     "0dcb5b313c074b9281e4909fe6a6dbfa": {
      "model_module": "@jupyter-widgets/controls",
      "model_module_version": "1.4.0",
      "model_name": "ButtonStyleModel",
      "state": {}
     },
     "0de0b823e5df403e8e115925149fa595": {
      "model_module": "@jupyter-widgets/controls",
      "model_module_version": "1.4.0",
      "model_name": "VBoxModel",
      "state": {
       "children": [
        "IPY_MODEL_f8bbbc35f2bd4020a047ae3204b874b3",
        "IPY_MODEL_78651826d67b485f98eef774f2e1bf6e"
       ],
       "layout": "IPY_MODEL_2b85718efa634cb186ffc44a9036848c"
      }
     },
     "0dfb2e0bc0d244dd9112f2a26f884ee4": {
      "model_module": "@jupyter-widgets/controls",
      "model_module_version": "1.4.0",
      "model_name": "ButtonStyleModel",
      "state": {}
     },
     "0e000b55607d498483eb71c51bad63c1": {
      "model_module": "@jupyter-widgets/controls",
      "model_module_version": "1.4.0",
      "model_name": "ButtonModel",
      "state": {
       "description": "3",
       "layout": "IPY_MODEL_816cc515318d43178a219a1d8873e5eb",
       "style": "IPY_MODEL_ea108837109b4fc8b9e96fdd616955e4"
      }
     },
     "0e24342c34ce4839bd22bff25cf1c09e": {
      "model_module": "@jupyter-widgets/controls",
      "model_module_version": "1.4.0",
      "model_name": "VBoxModel",
      "state": {
       "children": [
        "IPY_MODEL_07fc29d6b7b24c3ca25957daf46f6117",
        "IPY_MODEL_8667fe3d054d4dad99f64d18104a94bb"
       ],
       "layout": "IPY_MODEL_b417e9706cd04eb08705f63b69ae5579"
      }
     },
     "0e279e02f3434a2b8a4de57c0eb883ad": {
      "model_module": "@jupyter-widgets/controls",
      "model_module_version": "1.4.0",
      "model_name": "VBoxModel",
      "state": {
       "children": [
        "IPY_MODEL_942de85d2136411f8950b5e2a7d957a5",
        "IPY_MODEL_02433bd2aac444908c0dac8b38f837bc"
       ],
       "layout": "IPY_MODEL_f43c9664a9154a7d8fbd61ee7c82dbc4"
      }
     },
     "0e305854be674db69acc73bac7fe7c84": {
      "model_module": "@jupyter-widgets/controls",
      "model_module_version": "1.4.0",
      "model_name": "VBoxModel",
      "state": {
       "children": [
        "IPY_MODEL_e43dbc2e67904ee694bec8f141ff1633",
        "IPY_MODEL_e77e014b7edf4a78b4d7df2f955fe465"
       ],
       "layout": "IPY_MODEL_99d361d7c25e4636ae6f110d07e6daa9"
      }
     },
     "0e32143b0ea74da2894310fd912c96d1": {
      "model_module": "@jupyter-widgets/controls",
      "model_module_version": "1.4.0",
      "model_name": "ButtonStyleModel",
      "state": {}
     },
     "0e371a8bc8f243bcb10b9ae085285334": {
      "model_module": "@jupyter-widgets/controls",
      "model_module_version": "1.4.0",
      "model_name": "ButtonStyleModel",
      "state": {}
     },
     "0e4272b333c44cce9236762f2c584f6b": {
      "model_module": "@jupyter-widgets/controls",
      "model_module_version": "1.4.0",
      "model_name": "VBoxModel",
      "state": {
       "children": [
        "IPY_MODEL_7e47386b580c4ad484d98102517a756f",
        "IPY_MODEL_957d1b93e6654603bfbf5db4e5eda556"
       ],
       "layout": "IPY_MODEL_8be54716c7d24a3082a9b6f47a9796c4"
      }
     },
     "0e4ab95f57b346c8ad8d9c50507893fd": {
      "model_module": "@jupyter-widgets/output",
      "model_module_version": "1.0.0",
      "model_name": "OutputModel",
      "state": {
       "layout": "IPY_MODEL_089d9deabd2e4d22b1caf94c622bf271"
      }
     },
     "0e4dd1e79f71451e8e0b1ff5bc195542": {
      "model_module": "@jupyter-widgets/base",
      "model_module_version": "1.1.0",
      "model_name": "LayoutModel",
      "state": {
       "width": "10%"
      }
     },
     "0e542d8b2d014ebf97ee72cc664185a0": {
      "model_module": "@jupyter-widgets/output",
      "model_module_version": "1.0.0",
      "model_name": "OutputModel",
      "state": {
       "layout": "IPY_MODEL_ebf3ae5bbbf64d139afccd8a31ca9fa6"
      }
     },
     "0e82070e8465476f98f4e38b177eb528": {
      "model_module": "@jupyter-widgets/base",
      "model_module_version": "1.1.0",
      "model_name": "LayoutModel",
      "state": {}
     },
     "0e8c961d20704b30b42710481be0916b": {
      "model_module": "@jupyter-widgets/controls",
      "model_module_version": "1.4.0",
      "model_name": "ButtonModel",
      "state": {
       "description": "9",
       "layout": "IPY_MODEL_8cd0434a6354402c9a9d524102cb3ff0",
       "style": "IPY_MODEL_7b489af3e1204decb54ccd7602485953"
      }
     },
     "0eb5871411434134b0ba6b9ff730218b": {
      "model_module": "@jupyter-widgets/base",
      "model_module_version": "1.1.0",
      "model_name": "LayoutModel",
      "state": {}
     },
     "0ec4e97e72fa430f85bb556eeffad0e1": {
      "model_module": "@jupyter-widgets/controls",
      "model_module_version": "1.4.0",
      "model_name": "ButtonStyleModel",
      "state": {}
     },
     "0ec672ea7f4144ab910c543c2324624f": {
      "model_module": "@jupyter-widgets/controls",
      "model_module_version": "1.4.0",
      "model_name": "VBoxModel",
      "state": {
       "children": [
        "IPY_MODEL_5ee8f3d0d71041b08919847bb7850f54",
        "IPY_MODEL_e85b28f431de4e009f3e2858306b4771"
       ],
       "layout": "IPY_MODEL_1ecd6021d93b42e9a2393b5c4ff2d45a"
      }
     },
     "0ecbbe5d467a4a4e8e8ed5301a9de0ea": {
      "model_module": "@jupyter-widgets/controls",
      "model_module_version": "1.4.0",
      "model_name": "ButtonStyleModel",
      "state": {}
     },
     "0eec3bf26fb5436e8ae0f255476d1627": {
      "model_module": "@jupyter-widgets/base",
      "model_module_version": "1.1.0",
      "model_name": "LayoutModel",
      "state": {
       "width": "10%"
      }
     },
     "0ef5da68562d4045b065a049e2347eff": {
      "model_module": "@jupyter-widgets/controls",
      "model_module_version": "1.4.0",
      "model_name": "VBoxModel",
      "state": {
       "children": [
        "IPY_MODEL_9d1fb07ded2444bf893e6237b5ec5c2b",
        "IPY_MODEL_ce601c896a7745ed996146933c2964fa"
       ],
       "layout": "IPY_MODEL_9c5578f818314ee0a06bc73bf4ab1388"
      }
     },
     "0f02df4294a14971a2af44a96deb9c6a": {
      "model_module": "@jupyter-widgets/output",
      "model_module_version": "1.0.0",
      "model_name": "OutputModel",
      "state": {
       "layout": "IPY_MODEL_88e3c912b3494a6db45d259b6e3eec1d"
      }
     },
     "0f166efdaadb4406af8186a7a097a6e7": {
      "model_module": "@jupyter-widgets/controls",
      "model_module_version": "1.4.0",
      "model_name": "VBoxModel",
      "state": {
       "children": [
        "IPY_MODEL_01aa1c46fa2e4125a992845385ee391b",
        "IPY_MODEL_8bf7e3192b0c423b980ec54168592a68"
       ],
       "layout": "IPY_MODEL_80aeb82d1a324182bbcc9b4764fa35de"
      }
     },
     "0f1b498141ea44ca90c9dd319e4244ff": {
      "model_module": "@jupyter-widgets/output",
      "model_module_version": "1.0.0",
      "model_name": "OutputModel",
      "state": {
       "layout": "IPY_MODEL_7a4bf5bb54a445d2bd212d27352f2721"
      }
     },
     "0f295343b67d474d8c0ac7fc86ef9be9": {
      "model_module": "@jupyter-widgets/base",
      "model_module_version": "1.1.0",
      "model_name": "LayoutModel",
      "state": {
       "width": "95%"
      }
     },
     "0f38f930bf7a45b08065d3b676e72d25": {
      "model_module": "@jupyter-widgets/base",
      "model_module_version": "1.1.0",
      "model_name": "LayoutModel",
      "state": {}
     },
     "0f41d5afc8024d2aba303d28723d8f70": {
      "model_module": "@jupyter-widgets/base",
      "model_module_version": "1.1.0",
      "model_name": "LayoutModel",
      "state": {
       "width": "95%"
      }
     },
     "0f440ed505b8418aa92af0cedff40c5f": {
      "model_module": "@jupyter-widgets/controls",
      "model_module_version": "1.4.0",
      "model_name": "VBoxModel",
      "state": {
       "children": [
        "IPY_MODEL_5e6172341b6349ae85306c6556b6372b",
        "IPY_MODEL_4573530c92ef4bceabadbe6aa2c1798f"
       ],
       "layout": "IPY_MODEL_fd43806435a8466ab7a7736ed0fb19f8"
      }
     },
     "0f7b71413919479da5cd4cbba4897a76": {
      "model_module": "@jupyter-widgets/controls",
      "model_module_version": "1.4.0",
      "model_name": "VBoxModel",
      "state": {
       "children": [
        "IPY_MODEL_b674a41a5ca644e0a76c4a9239ab0adc",
        "IPY_MODEL_b6288ab5513a4e10adca3178cab94e34"
       ],
       "layout": "IPY_MODEL_adece676b051404ebdb0f213a743359f"
      }
     },
     "0f8105c9db794ab78daf6fe2ee22aef5": {
      "model_module": "@jupyter-widgets/base",
      "model_module_version": "1.1.0",
      "model_name": "LayoutModel",
      "state": {}
     },
     "0f828ce1c8c9473798da30ca4eb2d027": {
      "model_module": "@jupyter-widgets/output",
      "model_module_version": "1.0.0",
      "model_name": "OutputModel",
      "state": {
       "layout": "IPY_MODEL_c15ed75396ee4ea0a26c93d33706973a"
      }
     },
     "0f959cb0e42643afa275af5519384186": {
      "model_module": "@jupyter-widgets/output",
      "model_module_version": "1.0.0",
      "model_name": "OutputModel",
      "state": {
       "layout": "IPY_MODEL_71e0c9448ed149aaba58f20ee100ba4b"
      }
     },
     "0f98c5712f0b4051a24854993b08d3f6": {
      "model_module": "@jupyter-widgets/base",
      "model_module_version": "1.1.0",
      "model_name": "LayoutModel",
      "state": {
       "width": "95%"
      }
     },
     "0f9c91073c6d413d9347fa992d076a1f": {
      "model_module": "@jupyter-widgets/base",
      "model_module_version": "1.1.0",
      "model_name": "LayoutModel",
      "state": {}
     },
     "0f9e661de92d47eb9616ef7e01dba8a1": {
      "model_module": "@jupyter-widgets/base",
      "model_module_version": "1.1.0",
      "model_name": "LayoutModel",
      "state": {
       "width": "95%"
      }
     },
     "0faac7af54664e04ab56b6fe56779135": {
      "model_module": "@jupyter-widgets/controls",
      "model_module_version": "1.4.0",
      "model_name": "ButtonModel",
      "state": {
       "description": "7",
       "layout": "IPY_MODEL_9639448fad5f40c8b56a4a1608f87618",
       "style": "IPY_MODEL_2e7940836db34705b65b820759964a70"
      }
     },
     "0fb71d52c20f42c8976b4011537e26d8": {
      "model_module": "@jupyter-widgets/controls",
      "model_module_version": "1.4.0",
      "model_name": "ButtonModel",
      "state": {
       "description": "4",
       "layout": "IPY_MODEL_ba6af07d44fd4e1f8079a8da2c11846a",
       "style": "IPY_MODEL_bc4e8ce0c9654138a802479c00f113f2"
      }
     },
     "0fbe7f917fdc4b8e863dfb118fd364e3": {
      "model_module": "@jupyter-widgets/base",
      "model_module_version": "1.1.0",
      "model_name": "LayoutModel",
      "state": {
       "width": "10%"
      }
     },
     "0fdb67644f354a019378c78721998286": {
      "model_module": "@jupyter-widgets/controls",
      "model_module_version": "1.4.0",
      "model_name": "VBoxModel",
      "state": {
       "children": [
        "IPY_MODEL_7832f7c2d5624161a60933861e9d91c1",
        "IPY_MODEL_5cc0c1442a0b4752a830e3c46ba9060a"
       ],
       "layout": "IPY_MODEL_894e22375f8c4557b2b6118c1544e2f5"
      }
     },
     "0fec563a784a4fd4b3099b09e3541711": {
      "model_module": "@jupyter-widgets/base",
      "model_module_version": "1.1.0",
      "model_name": "LayoutModel",
      "state": {
       "width": "10%"
      }
     },
     "0fed41eec4f1477a8bcc4267c93fc641": {
      "model_module": "@jupyter-widgets/controls",
      "model_module_version": "1.4.0",
      "model_name": "ButtonModel",
      "state": {
       "description": "1",
       "layout": "IPY_MODEL_47c17329d81c403fbef79f32724de9a5",
       "style": "IPY_MODEL_73ce86d524df43189fbc150704131b17"
      }
     },
     "0ff6fbd9c4d8445285e5657c308dbebc": {
      "model_module": "@jupyter-widgets/controls",
      "model_module_version": "1.4.0",
      "model_name": "ButtonStyleModel",
      "state": {}
     },
     "0ffc45dc1030471a95ab83e464bbacc1": {
      "model_module": "@jupyter-widgets/controls",
      "model_module_version": "1.4.0",
      "model_name": "ButtonStyleModel",
      "state": {}
     },
     "0ffecc82d8534ca0a0c72bc4258b6b38": {
      "model_module": "@jupyter-widgets/base",
      "model_module_version": "1.1.0",
      "model_name": "LayoutModel",
      "state": {
       "width": "95%"
      }
     },
     "101132735ae84551b88b58adc13171de": {
      "model_module": "@jupyter-widgets/output",
      "model_module_version": "1.0.0",
      "model_name": "OutputModel",
      "state": {
       "layout": "IPY_MODEL_371480b1aff9477da5c809fe3b35d872"
      }
     },
     "1023edbad4d84759a2c374037e681836": {
      "model_module": "@jupyter-widgets/base",
      "model_module_version": "1.1.0",
      "model_name": "LayoutModel",
      "state": {
       "width": "95%"
      }
     },
     "104e4b6e90e841b98fea6c1240f24336": {
      "model_module": "@jupyter-widgets/base",
      "model_module_version": "1.1.0",
      "model_name": "LayoutModel",
      "state": {}
     },
     "105f1e0ff07d4d049df883ad7f721a28": {
      "model_module": "@jupyter-widgets/controls",
      "model_module_version": "1.4.0",
      "model_name": "ButtonStyleModel",
      "state": {}
     },
     "10900d22f3ef47b99147df861ac5ecf5": {
      "model_module": "@jupyter-widgets/output",
      "model_module_version": "1.0.0",
      "model_name": "OutputModel",
      "state": {
       "layout": "IPY_MODEL_f0f8043f51fd4c778ea625262ec438f1"
      }
     },
     "10ac337098fd48098b7abf9bead6c678": {
      "model_module": "@jupyter-widgets/output",
      "model_module_version": "1.0.0",
      "model_name": "OutputModel",
      "state": {
       "layout": "IPY_MODEL_7082b52034ab43909b8692049760f98d"
      }
     },
     "10bbfde7391943bd9d62c0cc768228b7": {
      "model_module": "@jupyter-widgets/controls",
      "model_module_version": "1.4.0",
      "model_name": "ButtonModel",
      "state": {
       "description": "5",
       "layout": "IPY_MODEL_cf9ea694c0064eedbdfb9b781f0bca23",
       "style": "IPY_MODEL_634d700365244323b56b0f195ffa6e0c"
      }
     },
     "10bf067313b242f2a218fb0888586417": {
      "model_module": "@jupyter-widgets/controls",
      "model_module_version": "1.4.0",
      "model_name": "ButtonModel",
      "state": {
       "description": "2",
       "layout": "IPY_MODEL_8912592834a44f64a31b4e815d34aca7",
       "style": "IPY_MODEL_39fec69692734f3b84baa2a4f860bbb6"
      }
     },
     "10c53f9af4444d07a700d547b549ef1f": {
      "model_module": "@jupyter-widgets/controls",
      "model_module_version": "1.4.0",
      "model_name": "VBoxModel",
      "state": {
       "children": [
        "IPY_MODEL_1e028d8ea04a45609bcf7fd79dabea99",
        "IPY_MODEL_e46210dd83ab4fd88f81082786171cb4"
       ],
       "layout": "IPY_MODEL_f8e95ec2b6ab47cca679ca4de76defc6"
      }
     },
     "10c883bdf2ec47d3b72b5b23944fef6f": {
      "model_module": "@jupyter-widgets/base",
      "model_module_version": "1.1.0",
      "model_name": "LayoutModel",
      "state": {
       "width": "10%"
      }
     },
     "10dcf6091e3e488385b26c923f631bc7": {
      "model_module": "@jupyter-widgets/base",
      "model_module_version": "1.1.0",
      "model_name": "LayoutModel",
      "state": {
       "width": "10%"
      }
     },
     "110001fee5524b559ed7feffc873512c": {
      "model_module": "@jupyter-widgets/base",
      "model_module_version": "1.1.0",
      "model_name": "LayoutModel",
      "state": {
       "width": "95%"
      }
     },
     "112d6e22fc81442a9cc12f205185bd68": {
      "model_module": "@jupyter-widgets/output",
      "model_module_version": "1.0.0",
      "model_name": "OutputModel",
      "state": {
       "layout": "IPY_MODEL_7358c12f6410453498da2eeb30158854"
      }
     },
     "114c4d3e146e4a3daafcaf28a73d4908": {
      "model_module": "@jupyter-widgets/controls",
      "model_module_version": "1.4.0",
      "model_name": "VBoxModel",
      "state": {
       "children": [
        "IPY_MODEL_827de104f9c043e094cb7d06c9251fef",
        "IPY_MODEL_1facba31002445b794e75ab05850c689"
       ],
       "layout": "IPY_MODEL_c75b05a0916a426790399c036e564a05"
      }
     },
     "115974cd7cdd4880a819d1051ebba158": {
      "model_module": "@jupyter-widgets/base",
      "model_module_version": "1.1.0",
      "model_name": "LayoutModel",
      "state": {
       "width": "10%"
      }
     },
     "115a13d3c20d46c9bebf4ec18e265de2": {
      "model_module": "@jupyter-widgets/controls",
      "model_module_version": "1.4.0",
      "model_name": "VBoxModel",
      "state": {
       "children": [
        "IPY_MODEL_0e8c961d20704b30b42710481be0916b",
        "IPY_MODEL_52244471632849a1800ac09f70b7664c"
       ],
       "layout": "IPY_MODEL_dc0ad502f0554de49c628c10d29117fc"
      }
     },
     "1179a415f744414cb0475662d8508691": {
      "model_module": "@jupyter-widgets/base",
      "model_module_version": "1.1.0",
      "model_name": "LayoutModel",
      "state": {
       "width": "95%"
      }
     },
     "117bd473eab94ded9a1605b384e673cb": {
      "model_module": "@jupyter-widgets/base",
      "model_module_version": "1.1.0",
      "model_name": "LayoutModel",
      "state": {
       "width": "95%"
      }
     },
     "11826948b5724eb5b7aa1271da396529": {
      "model_module": "@jupyter-widgets/controls",
      "model_module_version": "1.4.0",
      "model_name": "ButtonStyleModel",
      "state": {}
     },
     "11a173cdb6314f6e9ff2d477a61efea6": {
      "model_module": "@jupyter-widgets/output",
      "model_module_version": "1.0.0",
      "model_name": "OutputModel",
      "state": {
       "layout": "IPY_MODEL_18635702d29e4c0ca8270d814996ee4a"
      }
     },
     "11a85c7069f24f96bfa82a490f842273": {
      "model_module": "@jupyter-widgets/controls",
      "model_module_version": "1.4.0",
      "model_name": "ButtonModel",
      "state": {
       "description": "8",
       "layout": "IPY_MODEL_11aa109df22541c6a1785862aa97801b",
       "style": "IPY_MODEL_500ef111fea04227a828c01b55c528b3"
      }
     },
     "11aa109df22541c6a1785862aa97801b": {
      "model_module": "@jupyter-widgets/base",
      "model_module_version": "1.1.0",
      "model_name": "LayoutModel",
      "state": {
       "width": "95%"
      }
     },
     "11b5440b7d894b558e94e2f41c46813d": {
      "model_module": "@jupyter-widgets/output",
      "model_module_version": "1.0.0",
      "model_name": "OutputModel",
      "state": {
       "layout": "IPY_MODEL_d6ba9ed9968e4d67a1d07845b5c88369"
      }
     },
     "11bb28534d9244f995ad1a1ef8e6c059": {
      "model_module": "@jupyter-widgets/controls",
      "model_module_version": "1.4.0",
      "model_name": "TextModel",
      "state": {
       "description": "Other:",
       "layout": "IPY_MODEL_ffe27da7757a42eea4819558dd978606",
       "placeholder": "Hit enter to submit.",
       "style": "IPY_MODEL_4989efa4cad74bd485cbd9c0bcd250e7"
      }
     },
     "11bd5332693b438a9bb7d799398531ef": {
      "model_module": "@jupyter-widgets/base",
      "model_module_version": "1.1.0",
      "model_name": "LayoutModel",
      "state": {}
     },
     "11ca473002cb410f805837716e5c1518": {
      "model_module": "@jupyter-widgets/base",
      "model_module_version": "1.1.0",
      "model_name": "LayoutModel",
      "state": {
       "width": "10%"
      }
     },
     "11d3aeba87464227943ff500f56118ad": {
      "model_module": "@jupyter-widgets/controls",
      "model_module_version": "1.4.0",
      "model_name": "ButtonModel",
      "state": {
       "description": "0",
       "layout": "IPY_MODEL_f31ccdd480f949688b18b036eb53e17e",
       "style": "IPY_MODEL_fd81d8d5c8b648fa97c234996ddf700d"
      }
     },
     "11e628efad9a4abb85789246f59577f2": {
      "model_module": "@jupyter-widgets/base",
      "model_module_version": "1.1.0",
      "model_name": "LayoutModel",
      "state": {}
     },
     "1235f1e8dec649df9eed7ca422743e9b": {
      "model_module": "@jupyter-widgets/controls",
      "model_module_version": "1.4.0",
      "model_name": "ButtonStyleModel",
      "state": {}
     },
     "1244a9a08c684b4d9406bac1326d15e7": {
      "model_module": "@jupyter-widgets/controls",
      "model_module_version": "1.4.0",
      "model_name": "ButtonStyleModel",
      "state": {}
     },
     "12484c67dadd47e98a9d7496661dc4e7": {
      "model_module": "@jupyter-widgets/base",
      "model_module_version": "1.1.0",
      "model_name": "LayoutModel",
      "state": {}
     },
     "1252aeec9b684030b9c7b708118d6ffb": {
      "model_module": "@jupyter-widgets/base",
      "model_module_version": "1.1.0",
      "model_name": "LayoutModel",
      "state": {
       "width": "95%"
      }
     },
     "127038d034d445ac8e0173f4a9c9f7c1": {
      "model_module": "@jupyter-widgets/base",
      "model_module_version": "1.1.0",
      "model_name": "LayoutModel",
      "state": {
       "justify_content": "space-between"
      }
     },
     "12bb4fa61eca4595b98676a96367cfb8": {
      "model_module": "@jupyter-widgets/controls",
      "model_module_version": "1.4.0",
      "model_name": "HBoxModel",
      "state": {
       "children": [
        "IPY_MODEL_02a48320cf8e40ea995d1bd1cc7aaa82",
        "IPY_MODEL_9d0de81f83e34c3b84ed245aea53b01d"
       ],
       "layout": "IPY_MODEL_cf6eeccfbee84f8e8e0a953393011ac3"
      }
     },
     "12bbf75da29e4bfe97fa1377e9f2a33b": {
      "model_module": "@jupyter-widgets/controls",
      "model_module_version": "1.4.0",
      "model_name": "ButtonStyleModel",
      "state": {}
     },
     "12cf5b64f039491e87182b68894ab6e7": {
      "model_module": "@jupyter-widgets/base",
      "model_module_version": "1.1.0",
      "model_name": "LayoutModel",
      "state": {
       "width": "10%"
      }
     },
     "12df7c23ac62437a8253cd96dad9816b": {
      "model_module": "@jupyter-widgets/controls",
      "model_module_version": "1.4.0",
      "model_name": "ButtonStyleModel",
      "state": {}
     },
     "12e8e50d9f704e5bad3e1ce977c95eea": {
      "model_module": "@jupyter-widgets/base",
      "model_module_version": "1.1.0",
      "model_name": "LayoutModel",
      "state": {
       "width": "10%"
      }
     },
     "13070c5f1cc74b93b23a46c7f1627572": {
      "model_module": "@jupyter-widgets/controls",
      "model_module_version": "1.4.0",
      "model_name": "VBoxModel",
      "state": {
       "children": [
        "IPY_MODEL_ba861d57e4754638be5a63a3c3e6fd19",
        "IPY_MODEL_0e542d8b2d014ebf97ee72cc664185a0"
       ],
       "layout": "IPY_MODEL_1352deec701a472298faf5c1a5ca3523"
      }
     },
     "131c526663fe4cfeac5683b6e7f377cd": {
      "model_module": "@jupyter-widgets/output",
      "model_module_version": "1.0.0",
      "model_name": "OutputModel",
      "state": {
       "layout": "IPY_MODEL_427df96ab92a44b29a52f65a46f92460"
      }
     },
     "133510df05c6423b9889e7e53f7b3231": {
      "model_module": "@jupyter-widgets/controls",
      "model_module_version": "1.4.0",
      "model_name": "HBoxModel",
      "state": {
       "children": [
        "IPY_MODEL_8adcd7fcb54c48d8ad8a4a66941a7dab",
        "IPY_MODEL_cb115d8337fd4c35bd5a54ac30cbe0f6"
       ],
       "layout": "IPY_MODEL_9241091edc7b4e4d99e313a1fe61e78e"
      }
     },
     "13371b3d7a3b413f8c00f352dd9d0d88": {
      "model_module": "@jupyter-widgets/base",
      "model_module_version": "1.1.0",
      "model_name": "LayoutModel",
      "state": {
       "width": "95%"
      }
     },
     "134fef5eeec343f3845af5e0163d08f7": {
      "model_module": "@jupyter-widgets/controls",
      "model_module_version": "1.4.0",
      "model_name": "ButtonModel",
      "state": {
       "description": "1",
       "layout": "IPY_MODEL_2603557e104d4232a92b8ae9eac203ca",
       "style": "IPY_MODEL_5c4da8a26a324a6782333506d5901974"
      }
     },
     "1352deec701a472298faf5c1a5ca3523": {
      "model_module": "@jupyter-widgets/base",
      "model_module_version": "1.1.0",
      "model_name": "LayoutModel",
      "state": {
       "width": "10%"
      }
     },
     "136964046c2b43bd95f2fcaf349a6f7b": {
      "model_module": "@jupyter-widgets/controls",
      "model_module_version": "1.4.0",
      "model_name": "VBoxModel",
      "state": {
       "children": [
        "IPY_MODEL_21d02ff6d36443939364e797cb049920",
        "IPY_MODEL_d4d9065d7401467ea79b7745a94782c3"
       ],
       "layout": "IPY_MODEL_bd669294ed6341de890ed109abe0f7a1"
      }
     },
     "137599a133374280983e837db9167c37": {
      "model_module": "@jupyter-widgets/controls",
      "model_module_version": "1.4.0",
      "model_name": "VBoxModel",
      "state": {
       "children": [
        "IPY_MODEL_96dc247c7d42482cb53e4195007e8d65",
        "IPY_MODEL_0f1b498141ea44ca90c9dd319e4244ff"
       ],
       "layout": "IPY_MODEL_404052da781a470e9842bc4a74b2cfb4"
      }
     },
     "139fc637c1384b8da8d6d6c23c227a6f": {
      "model_module": "@jupyter-widgets/base",
      "model_module_version": "1.1.0",
      "model_name": "LayoutModel",
      "state": {
       "width": "95%"
      }
     },
     "13d33d4a7ec64942b1581576dd119fc3": {
      "model_module": "@jupyter-widgets/controls",
      "model_module_version": "1.4.0",
      "model_name": "ButtonModel",
      "state": {
       "description": "9",
       "layout": "IPY_MODEL_a14742a68c4c46c399022924fff739bd",
       "style": "IPY_MODEL_64787952da7a4e15a8ef11e9944e2223"
      }
     },
     "13dc9c58b119423291920b6fec3958f3": {
      "model_module": "@jupyter-widgets/controls",
      "model_module_version": "1.4.0",
      "model_name": "ButtonStyleModel",
      "state": {}
     },
     "13e550624756470596eb636e0e0fdd8b": {
      "model_module": "@jupyter-widgets/output",
      "model_module_version": "1.0.0",
      "model_name": "OutputModel",
      "state": {
       "layout": "IPY_MODEL_e3f0bdb090e14f2c825a856e63d5dac8"
      }
     },
     "141af8897e6e4909ab904207fbf9c9dc": {
      "model_module": "@jupyter-widgets/output",
      "model_module_version": "1.0.0",
      "model_name": "OutputModel",
      "state": {
       "layout": "IPY_MODEL_b41aa4d0a8ea49559c09808d1fec5dad"
      }
     },
     "141c19c7be8d4959bad196859857513f": {
      "model_module": "@jupyter-widgets/controls",
      "model_module_version": "1.4.0",
      "model_name": "VBoxModel",
      "state": {
       "children": [
        "IPY_MODEL_ca579c4852b04fcf905e48acab5ac7d6",
        "IPY_MODEL_6ed6a019e46c49518a09905e3081d261"
       ],
       "layout": "IPY_MODEL_ed668cced901489eacea933d1fe7fb30"
      }
     },
     "1435c5323676434b926b1118b3f2697c": {
      "model_module": "@jupyter-widgets/controls",
      "model_module_version": "1.4.0",
      "model_name": "ButtonModel",
      "state": {
       "description": "2",
       "layout": "IPY_MODEL_cf1ee859215843e8b65e3621beeb1211",
       "style": "IPY_MODEL_a8be351d87a942b79c6313c087ab046b"
      }
     },
     "14360570a42542ba8e3a0f41ba2e16cc": {
      "model_module": "@jupyter-widgets/controls",
      "model_module_version": "1.4.0",
      "model_name": "DescriptionStyleModel",
      "state": {
       "description_width": ""
      }
     },
     "144b6386715547afb2f6d75edafeab84": {
      "model_module": "@jupyter-widgets/controls",
      "model_module_version": "1.4.0",
      "model_name": "HBoxModel",
      "state": {
       "children": [
        "IPY_MODEL_a7b44988270847eabb0bf8f369e3567b",
        "IPY_MODEL_8ff52e9bec0d4c2bbfd8b2d96b28d24c",
        "IPY_MODEL_85b809c18a6c4a50963c04ccc34d9c28"
       ],
       "layout": "IPY_MODEL_82f0a8b2928f4a82ab9722033c7e1ef9"
      }
     },
     "145424d52032455f80806c34d2d086e9": {
      "model_module": "@jupyter-widgets/output",
      "model_module_version": "1.0.0",
      "model_name": "OutputModel",
      "state": {
       "layout": "IPY_MODEL_2327814e45e249da81236a1024acd43a"
      }
     },
     "14644ac224324f7ab676306594d5de3f": {
      "model_module": "@jupyter-widgets/base",
      "model_module_version": "1.1.0",
      "model_name": "LayoutModel",
      "state": {
       "width": "95%"
      }
     },
     "147665b3713c44b2b7dbd4607be01cdc": {
      "model_module": "@jupyter-widgets/controls",
      "model_module_version": "1.4.0",
      "model_name": "DescriptionStyleModel",
      "state": {
       "description_width": ""
      }
     },
     "1481600156ba463f98d683673b3b9874": {
      "model_module": "@jupyter-widgets/base",
      "model_module_version": "1.1.0",
      "model_name": "LayoutModel",
      "state": {
       "width": "10%"
      }
     },
     "148238d56334444ca5e7a9d8bead6d60": {
      "model_module": "@jupyter-widgets/base",
      "model_module_version": "1.1.0",
      "model_name": "LayoutModel",
      "state": {
       "width": "95%"
      }
     },
     "14877200635d4371a070862db150e37b": {
      "model_module": "@jupyter-widgets/controls",
      "model_module_version": "1.4.0",
      "model_name": "HBoxModel",
      "state": {
       "children": [
        "IPY_MODEL_a7b44988270847eabb0bf8f369e3567b",
        "IPY_MODEL_8ff52e9bec0d4c2bbfd8b2d96b28d24c",
        "IPY_MODEL_85b809c18a6c4a50963c04ccc34d9c28"
       ],
       "layout": "IPY_MODEL_d3793fe6a2b54f40ade21da8d30a23e6"
      }
     },
     "149221be979a466fac3451050b273b11": {
      "model_module": "@jupyter-widgets/base",
      "model_module_version": "1.1.0",
      "model_name": "LayoutModel",
      "state": {
       "width": "10%"
      }
     },
     "14aba562e8f144a496158bfefd97a073": {
      "model_module": "@jupyter-widgets/controls",
      "model_module_version": "1.4.0",
      "model_name": "ButtonModel",
      "state": {
       "description": "1",
       "layout": "IPY_MODEL_ef5f93dcf0314a3d94208fc38fe9a5c2",
       "style": "IPY_MODEL_8a7b07c0ebec4249ac489a93a4fec7ba"
      }
     },
     "14adb57deafc4f97bef3924eb3d33748": {
      "model_module": "@jupyter-widgets/controls",
      "model_module_version": "1.4.0",
      "model_name": "ButtonStyleModel",
      "state": {}
     },
     "14b287cc3c4445f8b355a91a476b7095": {
      "model_module": "@jupyter-widgets/controls",
      "model_module_version": "1.4.0",
      "model_name": "ProgressStyleModel",
      "state": {
       "description_width": ""
      }
     },
     "14cb2678696c4898a21524a44c8e0dc2": {
      "model_module": "@jupyter-widgets/base",
      "model_module_version": "1.1.0",
      "model_name": "LayoutModel",
      "state": {
       "width": "95%"
      }
     },
     "14cfaa778b13425cb5ec7f6cb76198b8": {
      "model_module": "@jupyter-widgets/controls",
      "model_module_version": "1.4.0",
      "model_name": "VBoxModel",
      "state": {
       "children": [
        "IPY_MODEL_732d366e43da40b497036bacf218b272",
        "IPY_MODEL_99010fc8444b47439fcd57b461eff6cf"
       ],
       "layout": "IPY_MODEL_c3d5e0a59b3548baae100d6e2d368cf6"
      }
     },
     "14e39c3e68c541deb7a8bcfa4e787026": {
      "model_module": "@jupyter-widgets/controls",
      "model_module_version": "1.4.0",
      "model_name": "VBoxModel",
      "state": {
       "children": [
        "IPY_MODEL_9e79554743424cbfbb7106eb99d349e0",
        "IPY_MODEL_9694958058a54212a9c57508f204174d"
       ],
       "layout": "IPY_MODEL_65228ff6cbcd433b9e68bd6cfe273c08"
      }
     },
     "14f41b9fac2e4fc4a816a6edbe88c093": {
      "model_module": "@jupyter-widgets/base",
      "model_module_version": "1.1.0",
      "model_name": "LayoutModel",
      "state": {
       "width": "10%"
      }
     },
     "15074a8074f04cbb9e7a5464da5681d0": {
      "model_module": "@jupyter-widgets/base",
      "model_module_version": "1.1.0",
      "model_name": "LayoutModel",
      "state": {
       "width": "10%"
      }
     },
     "1512d29d24df4a19aea99f61ba4c8fe8": {
      "model_module": "@jupyter-widgets/base",
      "model_module_version": "1.1.0",
      "model_name": "LayoutModel",
      "state": {}
     },
     "154f2b7bd083467ebd2329d7027424be": {
      "model_module": "@jupyter-widgets/output",
      "model_module_version": "1.0.0",
      "model_name": "OutputModel",
      "state": {
       "layout": "IPY_MODEL_47ad37b2d1024dc98d422fd6d5ecf452"
      }
     },
     "155adddd0b6b46e991a7c538d9ea8ade": {
      "model_module": "@jupyter-widgets/controls",
      "model_module_version": "1.4.0",
      "model_name": "ButtonStyleModel",
      "state": {}
     },
     "15678eb5e63a4c7dab9f9ddcd1c4ce52": {
      "model_module": "@jupyter-widgets/base",
      "model_module_version": "1.1.0",
      "model_name": "LayoutModel",
      "state": {
       "width": "95%"
      }
     },
     "15740f82d4bc44dba2c1806b65878803": {
      "model_module": "@jupyter-widgets/controls",
      "model_module_version": "1.4.0",
      "model_name": "VBoxModel",
      "state": {
       "children": [
        "IPY_MODEL_ed53558fa85a4dfaa59a078cc933a897",
        "IPY_MODEL_3d7d17f192e24b22b870576bc3dd7693"
       ],
       "layout": "IPY_MODEL_63f41f51368e40a4a433a7aacc5b34bd"
      }
     },
     "158d9cd9e4ff473eab6e078dd7de859f": {
      "model_module": "@jupyter-widgets/base",
      "model_module_version": "1.1.0",
      "model_name": "LayoutModel",
      "state": {}
     },
     "1590c70f2ad34e0f88a35c0121ab06bd": {
      "model_module": "@jupyter-widgets/base",
      "model_module_version": "1.1.0",
      "model_name": "LayoutModel",
      "state": {}
     },
     "159966b6743f4a95bcc68ed32a989a5e": {
      "model_module": "@jupyter-widgets/controls",
      "model_module_version": "1.4.0",
      "model_name": "ButtonStyleModel",
      "state": {}
     },
     "159ce5d6ccb7460a9583199d5d6739a5": {
      "model_module": "@jupyter-widgets/base",
      "model_module_version": "1.1.0",
      "model_name": "LayoutModel",
      "state": {}
     },
     "15b0781ccf474bea8f6f9fc6d7b46eba": {
      "model_module": "@jupyter-widgets/controls",
      "model_module_version": "1.4.0",
      "model_name": "DescriptionStyleModel",
      "state": {
       "description_width": ""
      }
     },
     "15b509f240494d9b836044d1730a389f": {
      "model_module": "@jupyter-widgets/controls",
      "model_module_version": "1.4.0",
      "model_name": "VBoxModel",
      "state": {
       "children": [
        "IPY_MODEL_07083329d0ef4fa3893f44db730c98b8",
        "IPY_MODEL_4207f7675a14407a8808062faed10ebf"
       ],
       "layout": "IPY_MODEL_be4148598f9f4ad08f43c5f072931c09"
      }
     },
     "15c9ae3d4f4a45e38a0a4be863918fda": {
      "model_module": "@jupyter-widgets/controls",
      "model_module_version": "1.4.0",
      "model_name": "ButtonStyleModel",
      "state": {}
     },
     "15df9dfa48a44ee693b2ba0fc0454159": {
      "model_module": "@jupyter-widgets/controls",
      "model_module_version": "1.4.0",
      "model_name": "ButtonStyleModel",
      "state": {}
     },
     "15fc520df9d04cadb21c8f486bd5566f": {
      "model_module": "@jupyter-widgets/base",
      "model_module_version": "1.1.0",
      "model_name": "LayoutModel",
      "state": {
       "width": "95%"
      }
     },
     "1607fa9f52424172bcaa427b465ec1fc": {
      "model_module": "@jupyter-widgets/base",
      "model_module_version": "1.1.0",
      "model_name": "LayoutModel",
      "state": {
       "width": "10%"
      }
     },
     "1614c9fab1c8456a9ff22e0887fa2f93": {
      "model_module": "@jupyter-widgets/controls",
      "model_module_version": "1.4.0",
      "model_name": "ButtonStyleModel",
      "state": {}
     },
     "16561a3f3f5141ac836fd16aa4e86a2a": {
      "model_module": "@jupyter-widgets/controls",
      "model_module_version": "1.4.0",
      "model_name": "VBoxModel",
      "state": {
       "children": [
        "IPY_MODEL_2cac3648449f460ea51911d818493da1",
        "IPY_MODEL_641c894c1f4c421dbc29c40a3e79c90d"
       ],
       "layout": "IPY_MODEL_525249f6106848bb81ac69006b27b16c"
      }
     },
     "1659b7aa7cf1410e8f2b1454f3a22f15": {
      "model_module": "@jupyter-widgets/controls",
      "model_module_version": "1.4.0",
      "model_name": "VBoxModel",
      "state": {
       "children": [
        "IPY_MODEL_9e89c48f723f4752823e6e22661ecd8e",
        "IPY_MODEL_68860afaab2d4a5ab1308756534c8270"
       ],
       "layout": "IPY_MODEL_222fc5a928b44f22a6ca6e6812210495"
      }
     },
     "166c99678f314a3baaaecbc8bfbb9053": {
      "model_module": "@jupyter-widgets/base",
      "model_module_version": "1.1.0",
      "model_name": "LayoutModel",
      "state": {}
     },
     "1672c0b625f94072b494327fcec97cca": {
      "model_module": "@jupyter-widgets/base",
      "model_module_version": "1.1.0",
      "model_name": "LayoutModel",
      "state": {
       "justify_content": "space-between"
      }
     },
     "168383a0977144c786f2fa5f6ef95e63": {
      "model_module": "@jupyter-widgets/output",
      "model_module_version": "1.0.0",
      "model_name": "OutputModel",
      "state": {
       "layout": "IPY_MODEL_73e9a00f3eba441a9a51ae6a2620f647"
      }
     },
     "168ed0a7e4cc48aca69c0c3b23908f21": {
      "model_module": "@jupyter-widgets/controls",
      "model_module_version": "1.4.0",
      "model_name": "VBoxModel",
      "state": {
       "children": [
        "IPY_MODEL_bd35dc0ca5364983abb3d9c052f870f0",
        "IPY_MODEL_9ed49bbf8337456a855fe497763faca7"
       ],
       "layout": "IPY_MODEL_4a3c92b828a74efa9abef276d60cfc69"
      }
     },
     "16a34f4ab4c24e08bd86ec30a818afb4": {
      "model_module": "@jupyter-widgets/base",
      "model_module_version": "1.1.0",
      "model_name": "LayoutModel",
      "state": {
       "width": "95%"
      }
     },
     "16b16bf23b154641b38df01e3ec0a422": {
      "model_module": "@jupyter-widgets/output",
      "model_module_version": "1.0.0",
      "model_name": "OutputModel",
      "state": {
       "layout": "IPY_MODEL_f3d25eab56a54adaa66146fb250590c4"
      }
     },
     "16c3c13a133e4264a2d76558f977574d": {
      "model_module": "@jupyter-widgets/base",
      "model_module_version": "1.1.0",
      "model_name": "LayoutModel",
      "state": {
       "width": "95%"
      }
     },
     "16c9227fbe8a47e8bba45a721f955a6d": {
      "model_module": "@jupyter-widgets/controls",
      "model_module_version": "1.4.0",
      "model_name": "ButtonStyleModel",
      "state": {}
     },
     "16cc115d422e49ae829c60f53e6a3696": {
      "model_module": "@jupyter-widgets/controls",
      "model_module_version": "1.4.0",
      "model_name": "ButtonModel",
      "state": {
       "description": "6",
       "layout": "IPY_MODEL_ca561e0ffc9f4340904eabddba1efb3d",
       "style": "IPY_MODEL_2305800fe1f94ee5b36c95931901b4f8"
      }
     },
     "16d693c503e8435aa08eb75837ff802e": {
      "model_module": "@jupyter-widgets/controls",
      "model_module_version": "1.4.0",
      "model_name": "VBoxModel",
      "state": {
       "children": [
        "IPY_MODEL_10bbfde7391943bd9d62c0cc768228b7",
        "IPY_MODEL_bb7f05377aa2450cadd145dbc1d079d9"
       ],
       "layout": "IPY_MODEL_05687b8288f04aeeb03ad47d7b9eecac"
      }
     },
     "16e44106f90c41d79b4c66533b818a85": {
      "model_module": "@jupyter-widgets/base",
      "model_module_version": "1.1.0",
      "model_name": "LayoutModel",
      "state": {
       "width": "95%"
      }
     },
     "16f6c4f576b24f61b298e7e2a1c4df7e": {
      "model_module": "@jupyter-widgets/controls",
      "model_module_version": "1.4.0",
      "model_name": "ButtonStyleModel",
      "state": {}
     },
     "16fde606e78a4dd69aa814f78feb2193": {
      "model_module": "@jupyter-widgets/controls",
      "model_module_version": "1.4.0",
      "model_name": "ButtonModel",
      "state": {
       "description": "8",
       "layout": "IPY_MODEL_e7c95efe8b434d2fac3de52be726d3d5",
       "style": "IPY_MODEL_53b1384d32404adf8e57d8691b6bacc1"
      }
     },
     "1719531ceddc49fd92878b79f57668e1": {
      "model_module": "@jupyter-widgets/base",
      "model_module_version": "1.1.0",
      "model_name": "LayoutModel",
      "state": {
       "width": "10%"
      }
     },
     "171a66dbc6d54d1fae9844a3b9416e19": {
      "model_module": "@jupyter-widgets/base",
      "model_module_version": "1.1.0",
      "model_name": "LayoutModel",
      "state": {}
     },
     "1723c926d66842199b6828feb4251f81": {
      "model_module": "@jupyter-widgets/base",
      "model_module_version": "1.1.0",
      "model_name": "LayoutModel",
      "state": {}
     },
     "17298d1075e14f0abbc293bc8d0d4863": {
      "model_module": "@jupyter-widgets/controls",
      "model_module_version": "1.4.0",
      "model_name": "VBoxModel",
      "state": {
       "children": [
        "IPY_MODEL_6fb9ef8ef70c493da789bf09d66cfe62",
        "IPY_MODEL_226fd1839d9b44d689f219943548303d"
       ],
       "layout": "IPY_MODEL_bc2313633e5d43c5aeca8ba44635de92"
      }
     },
     "173a55d589b743e18957295442c48737": {
      "model_module": "@jupyter-widgets/controls",
      "model_module_version": "1.4.0",
      "model_name": "VBoxModel",
      "state": {
       "children": [
        "IPY_MODEL_88644f84979c4b009046ea11bfbe2c71",
        "IPY_MODEL_57da9e9d715d4afaa852b65c8e1be4fb"
       ],
       "layout": "IPY_MODEL_bcb0fafd137c433ca2ea3e618f97cda7"
      }
     },
     "1764a2c576274023b1d7eb6fc6354491": {
      "model_module": "@jupyter-widgets/output",
      "model_module_version": "1.0.0",
      "model_name": "OutputModel",
      "state": {
       "layout": "IPY_MODEL_d45b6aa951854954b2cfd8e3b5ad8957"
      }
     },
     "1775dfd4a35e438582d5665883663a6a": {
      "model_module": "@jupyter-widgets/controls",
      "model_module_version": "1.4.0",
      "model_name": "ButtonStyleModel",
      "state": {}
     },
     "178172c8f268456f9f2ee7fadb848571": {
      "model_module": "@jupyter-widgets/base",
      "model_module_version": "1.1.0",
      "model_name": "LayoutModel",
      "state": {}
     },
     "1795f83aae994d92a684d029d3a24794": {
      "model_module": "@jupyter-widgets/base",
      "model_module_version": "1.1.0",
      "model_name": "LayoutModel",
      "state": {}
     },
     "17c8c33f3396499aa522c9c701bfd4d4": {
      "model_module": "@jupyter-widgets/base",
      "model_module_version": "1.1.0",
      "model_name": "LayoutModel",
      "state": {
       "width": "95%"
      }
     },
     "180e277ddbf74e11999b8dd6e73417b0": {
      "model_module": "@jupyter-widgets/base",
      "model_module_version": "1.1.0",
      "model_name": "LayoutModel",
      "state": {}
     },
     "18189078cc51422a8842d776647328b3": {
      "model_module": "@jupyter-widgets/output",
      "model_module_version": "1.0.0",
      "model_name": "OutputModel",
      "state": {
       "layout": "IPY_MODEL_73ce8c2cca46411ca897097fea3faf9b"
      }
     },
     "181a35d973df4912ba64731709294e73": {
      "model_module": "@jupyter-widgets/controls",
      "model_module_version": "1.4.0",
      "model_name": "ButtonStyleModel",
      "state": {}
     },
     "181ec2eb916945819b7b1b4db0011716": {
      "model_module": "@jupyter-widgets/base",
      "model_module_version": "1.1.0",
      "model_name": "LayoutModel",
      "state": {}
     },
     "1828f1a433be43cabe10bd58ad3b322d": {
      "model_module": "@jupyter-widgets/controls",
      "model_module_version": "1.4.0",
      "model_name": "VBoxModel",
      "state": {
       "children": [
        "IPY_MODEL_3a69cc89f79b436295b1b38d263b3bcd",
        "IPY_MODEL_5d91dc9cb42040f3b807786d5959da9d"
       ],
       "layout": "IPY_MODEL_9dff5de94a8f4edca999fe07839adaa0"
      }
     },
     "183f270221224a9aaa2443e119539fbf": {
      "model_module": "@jupyter-widgets/controls",
      "model_module_version": "1.4.0",
      "model_name": "HBoxModel",
      "state": {
       "children": [
        "IPY_MODEL_544653ba7817448197b4d431e5358a75",
        "IPY_MODEL_f1cda177d94e40dbad38eda89493e086",
        "IPY_MODEL_eec3912a80d64695acdda791c87c3484",
        "IPY_MODEL_374f2b9932724ef1a0dc33a758ad9379",
        "IPY_MODEL_da45b9b8e8a54ba4bf5c6fcb7214520d",
        "IPY_MODEL_57c908a490264da79cef30594dd72aa5",
        "IPY_MODEL_05ac17d3d4e842418ce2ee1059606a00",
        "IPY_MODEL_a0be9813967c4793be24cffe293f237f",
        "IPY_MODEL_af7700408fcc45b7b110869cc470a2a3",
        "IPY_MODEL_b618dcfd5db24338bfea96027b406073"
       ],
       "layout": "IPY_MODEL_f46d97280ff14e9180c6dc1297062c59"
      }
     },
     "18424f9e8d114fcb968f91ed2361a777": {
      "model_module": "@jupyter-widgets/controls",
      "model_module_version": "1.4.0",
      "model_name": "TextModel",
      "state": {
       "description": "Other:",
       "layout": "IPY_MODEL_f861366ee0b944b09736d9d4f05c9780",
       "placeholder": "Hit enter to submit.",
       "style": "IPY_MODEL_016319186b784ed6bc66f47eeaea1b51"
      }
     },
     "185270fdb27a46009d6b3cfd5e0103c0": {
      "model_module": "@jupyter-widgets/controls",
      "model_module_version": "1.4.0",
      "model_name": "ButtonStyleModel",
      "state": {}
     },
     "185bfee17af74f7f910cbda92ef3a8da": {
      "model_module": "@jupyter-widgets/controls",
      "model_module_version": "1.4.0",
      "model_name": "ButtonModel",
      "state": {
       "description": "7",
       "layout": "IPY_MODEL_54a49f3e3fea4be48479394cbf0f3d0b",
       "style": "IPY_MODEL_d5d312422ae246718a3865d8cad6991c"
      }
     },
     "18635702d29e4c0ca8270d814996ee4a": {
      "model_module": "@jupyter-widgets/base",
      "model_module_version": "1.1.0",
      "model_name": "LayoutModel",
      "state": {}
     },
     "189cacf3257c408898a67875ac771b30": {
      "model_module": "@jupyter-widgets/controls",
      "model_module_version": "1.4.0",
      "model_name": "VBoxModel",
      "state": {
       "children": [
        "IPY_MODEL_af66bf1772d549b6b9d5d114bd8a6f96",
        "IPY_MODEL_6386a97ece924eeabc246ad67b3286df"
       ],
       "layout": "IPY_MODEL_78797be1d4cf4bdbb67c9e79de394882"
      }
     },
     "18aee80a98e7428db49ac3745eaf4539": {
      "model_module": "@jupyter-widgets/controls",
      "model_module_version": "1.4.0",
      "model_name": "ButtonModel",
      "state": {
       "description": "1",
       "layout": "IPY_MODEL_1252aeec9b684030b9c7b708118d6ffb",
       "style": "IPY_MODEL_2623540a59b049ff89df013e8c124bb9"
      }
     },
     "18b41438b726415c8535df7ec0884ddb": {
      "model_module": "@jupyter-widgets/controls",
      "model_module_version": "1.4.0",
      "model_name": "ButtonModel",
      "state": {
       "description": "4",
       "layout": "IPY_MODEL_58827d7d97ab4c41a726859691ea1512",
       "style": "IPY_MODEL_5fc0112d165e4c4781e99e5c061295e7"
      }
     },
     "18b84525cc5848dab1528f034806768a": {
      "model_module": "@jupyter-widgets/controls",
      "model_module_version": "1.4.0",
      "model_name": "ButtonStyleModel",
      "state": {}
     },
     "18bc294cc88c4bbb9f8e246013c72f0a": {
      "model_module": "@jupyter-widgets/base",
      "model_module_version": "1.1.0",
      "model_name": "LayoutModel",
      "state": {}
     },
     "18bf38c8e9a340e5bb770b328e85e10a": {
      "model_module": "@jupyter-widgets/base",
      "model_module_version": "1.1.0",
      "model_name": "LayoutModel",
      "state": {
       "width": "95%"
      }
     },
     "18c452b0286b4ece9dddbad63a0c9cb8": {
      "model_module": "@jupyter-widgets/controls",
      "model_module_version": "1.4.0",
      "model_name": "ButtonModel",
      "state": {
       "description": "0",
       "layout": "IPY_MODEL_25e8a583f63c48a496162893f35dde71",
       "style": "IPY_MODEL_caa5e6fc10544b8ea73fef4354b2993c"
      }
     },
     "18c7c586bb7f42a3acf80a392cf22cb6": {
      "model_module": "@jupyter-widgets/output",
      "model_module_version": "1.0.0",
      "model_name": "OutputModel",
      "state": {
       "layout": "IPY_MODEL_ad63608eebac43b1adf39734afa0f2c5"
      }
     },
     "18ca4795d62145b7a3de34bcac31d469": {
      "model_module": "@jupyter-widgets/controls",
      "model_module_version": "1.4.0",
      "model_name": "ButtonStyleModel",
      "state": {}
     },
     "18e0571ccfde437fa0bfa6ebab8497ed": {
      "model_module": "@jupyter-widgets/base",
      "model_module_version": "1.1.0",
      "model_name": "LayoutModel",
      "state": {}
     },
     "18fa5b557ec948e6bded30823e5a492f": {
      "model_module": "@jupyter-widgets/controls",
      "model_module_version": "1.4.0",
      "model_name": "ButtonStyleModel",
      "state": {}
     },
     "1903dfdcda194c8cb7bf8ed3ecc648db": {
      "model_module": "@jupyter-widgets/controls",
      "model_module_version": "1.4.0",
      "model_name": "ButtonStyleModel",
      "state": {}
     },
     "1910246109494b08a52e9183eac831a4": {
      "model_module": "@jupyter-widgets/controls",
      "model_module_version": "1.4.0",
      "model_name": "ButtonModel",
      "state": {
       "description": "4",
       "layout": "IPY_MODEL_e57bd0ad9265461486705e788ea375ab",
       "style": "IPY_MODEL_3701fcec337c455190aa0e2590c5ff20"
      }
     },
     "191a442b542d47fa90ee05db8261d412": {
      "model_module": "@jupyter-widgets/base",
      "model_module_version": "1.1.0",
      "model_name": "LayoutModel",
      "state": {}
     },
     "191d411ed3274a078f9b2d7cea4ebc4c": {
      "model_module": "@jupyter-widgets/controls",
      "model_module_version": "1.4.0",
      "model_name": "HBoxModel",
      "state": {
       "children": [
        "IPY_MODEL_a7b6d4eee7704091b7bc392033c6d3c6",
        "IPY_MODEL_8de684ce040a4d21bb572f90e89e9df1"
       ],
       "layout": "IPY_MODEL_30c7a141896243a2863378cab7932d01"
      }
     },
     "1926d7c3ff134de69964ffe550a71aba": {
      "model_module": "@jupyter-widgets/controls",
      "model_module_version": "1.4.0",
      "model_name": "ButtonStyleModel",
      "state": {}
     },
     "194b13640174467b8e646fb6ca112a30": {
      "model_module": "@jupyter-widgets/base",
      "model_module_version": "1.1.0",
      "model_name": "LayoutModel",
      "state": {}
     },
     "195fe2750b1442ddae0150f7b24e1768": {
      "model_module": "@jupyter-widgets/base",
      "model_module_version": "1.1.0",
      "model_name": "LayoutModel",
      "state": {}
     },
     "196881203c464310b443a06099a9957a": {
      "model_module": "@jupyter-widgets/controls",
      "model_module_version": "1.4.0",
      "model_name": "VBoxModel",
      "state": {
       "children": [
        "IPY_MODEL_eaf7ed0b495547839f9b6416bd799c6c",
        "IPY_MODEL_6b698d4b520a4dd1842d92bc159c597d"
       ],
       "layout": "IPY_MODEL_1c3dc8fcbd534b5bb4fc097a71b0d644"
      }
     },
     "196a592cb85a471385543e978d853cae": {
      "model_module": "@jupyter-widgets/base",
      "model_module_version": "1.1.0",
      "model_name": "LayoutModel",
      "state": {}
     },
     "198f358b28d54a77af2f09a64d515d73": {
      "model_module": "@jupyter-widgets/output",
      "model_module_version": "1.0.0",
      "model_name": "OutputModel",
      "state": {
       "layout": "IPY_MODEL_e36cbe4844b543a09a04ac8c9109c840"
      }
     },
     "19a3844cf00449eabfdaa60bcbd5860b": {
      "model_module": "@jupyter-widgets/controls",
      "model_module_version": "1.4.0",
      "model_name": "VBoxModel",
      "state": {
       "children": [
        "IPY_MODEL_5a8daf76f4c94b48841e60482865d839",
        "IPY_MODEL_d7ef935e9ed843eab6266e79a0ebbf65"
       ],
       "layout": "IPY_MODEL_7dd1617617fb4690bdaeaa3fb35bf08b"
      }
     },
     "19b61179eca04ffdaa4c162a0be96f82": {
      "model_module": "@jupyter-widgets/output",
      "model_module_version": "1.0.0",
      "model_name": "OutputModel",
      "state": {
       "layout": "IPY_MODEL_bcd0c1973ae544ce848cf9c9372f2514"
      }
     },
     "19f3e84611a7419fba3a417971b8b5de": {
      "model_module": "@jupyter-widgets/base",
      "model_module_version": "1.1.0",
      "model_name": "LayoutModel",
      "state": {
       "width": "10%"
      }
     },
     "1a081a3656854cefbd91923a03690374": {
      "model_module": "@jupyter-widgets/controls",
      "model_module_version": "1.4.0",
      "model_name": "DescriptionStyleModel",
      "state": {
       "description_width": ""
      }
     },
     "1a517cdeac5d4bd4b996cb488a6bf80f": {
      "model_module": "@jupyter-widgets/base",
      "model_module_version": "1.1.0",
      "model_name": "LayoutModel",
      "state": {}
     },
     "1a53837e1b7e4fbfaa5c619e665ac83a": {
      "model_module": "@jupyter-widgets/controls",
      "model_module_version": "1.4.0",
      "model_name": "HBoxModel",
      "state": {
       "children": [
        "IPY_MODEL_a7b44988270847eabb0bf8f369e3567b",
        "IPY_MODEL_8ff52e9bec0d4c2bbfd8b2d96b28d24c",
        "IPY_MODEL_85b809c18a6c4a50963c04ccc34d9c28"
       ],
       "layout": "IPY_MODEL_c0ecdb734414489492564f3769f7e9fa"
      }
     },
     "1aca9831c5ee4933937f3004c4944283": {
      "model_module": "@jupyter-widgets/controls",
      "model_module_version": "1.4.0",
      "model_name": "VBoxModel",
      "state": {
       "children": [
        "IPY_MODEL_c08aa39a0506433cabf880b7a3c97c3a",
        "IPY_MODEL_512d5fd969f74876a342efdaf17f60b2"
       ],
       "layout": "IPY_MODEL_0eec3bf26fb5436e8ae0f255476d1627"
      }
     },
     "1ad08a2d275e4bf991fe4cf6c914bf88": {
      "model_module": "@jupyter-widgets/controls",
      "model_module_version": "1.4.0",
      "model_name": "VBoxModel",
      "state": {
       "children": [
        "IPY_MODEL_c08b28ba6f63464ba11c9532c4cd3663",
        "IPY_MODEL_fd2eb146f5894feca8351d795a690978"
       ],
       "layout": "IPY_MODEL_c80837a21cb44388bb6e888cd7297e90"
      }
     },
     "1ae0a060b6264efbaece0c5710972fca": {
      "model_module": "@jupyter-widgets/output",
      "model_module_version": "1.0.0",
      "model_name": "OutputModel",
      "state": {
       "layout": "IPY_MODEL_12484c67dadd47e98a9d7496661dc4e7"
      }
     },
     "1b10c1955abb444592148b3512a4592a": {
      "model_module": "@jupyter-widgets/base",
      "model_module_version": "1.1.0",
      "model_name": "LayoutModel",
      "state": {
       "width": "95%"
      }
     },
     "1b33208235d94a38a78d86c6438e7060": {
      "model_module": "@jupyter-widgets/controls",
      "model_module_version": "1.4.0",
      "model_name": "TextModel",
      "state": {
       "description": "Other:",
       "layout": "IPY_MODEL_84cb3128fe8148179b9e5e223dbf550c",
       "placeholder": "Hit enter to submit.",
       "style": "IPY_MODEL_ecb1423535bb4ae3b247e0cc01752d78"
      }
     },
     "1b410a6795704293b79ac83ca9429236": {
      "model_module": "@jupyter-widgets/controls",
      "model_module_version": "1.4.0",
      "model_name": "ButtonStyleModel",
      "state": {}
     },
     "1b60142952134c9c80aab078601ad5c5": {
      "model_module": "@jupyter-widgets/output",
      "model_module_version": "1.0.0",
      "model_name": "OutputModel",
      "state": {
       "layout": "IPY_MODEL_34a1abf3175c42fbb010f2a8a14d7323"
      }
     },
     "1b6482541ec74f7f93f3eb1e407fdf40": {
      "model_module": "@jupyter-widgets/controls",
      "model_module_version": "1.4.0",
      "model_name": "VBoxModel",
      "state": {
       "children": [
        "IPY_MODEL_089f2d211017490aafd7c62b5273b280",
        "IPY_MODEL_4c1fe0fa8f004c2f809b305b68a43092"
       ],
       "layout": "IPY_MODEL_e1dba3eba8e04a3bb8fd642301371b50"
      }
     },
     "1b6f6dca50c849e8a6162985c58b5061": {
      "model_module": "@jupyter-widgets/base",
      "model_module_version": "1.1.0",
      "model_name": "LayoutModel",
      "state": {}
     },
     "1b8f6b04522e4bd4977ca401df01b410": {
      "model_module": "@jupyter-widgets/controls",
      "model_module_version": "1.4.0",
      "model_name": "VBoxModel",
      "state": {
       "children": [
        "IPY_MODEL_f7598a755dfa4af7a32f3b6d8968fc4b",
        "IPY_MODEL_8cd4fd3ee47a4919ae49ae901edc9f05"
       ],
       "layout": "IPY_MODEL_1d71539e8d55436cb546ba874f7718c9"
      }
     },
     "1bad9fb3797b4ab2a70d59f9bcec55f2": {
      "model_module": "@jupyter-widgets/base",
      "model_module_version": "1.1.0",
      "model_name": "LayoutModel",
      "state": {
       "width": "95%"
      }
     },
     "1baddab8c0c040998e8818b88adf9f89": {
      "model_module": "@jupyter-widgets/controls",
      "model_module_version": "1.4.0",
      "model_name": "ButtonStyleModel",
      "state": {}
     },
     "1bb3cb0d4d4c48e99cff9d15215b5742": {
      "model_module": "@jupyter-widgets/controls",
      "model_module_version": "1.4.0",
      "model_name": "VBoxModel",
      "state": {
       "children": [
        "IPY_MODEL_70e6b728dc0c411eb03113c0c7389676",
        "IPY_MODEL_54d823bcfcae43edb6eddd7920051102"
       ],
       "layout": "IPY_MODEL_8acb4b8b49df4013ae3af1c7513c55c6"
      }
     },
     "1bb97edf8e6041c39fb0189c9ab41d72": {
      "model_module": "@jupyter-widgets/base",
      "model_module_version": "1.1.0",
      "model_name": "LayoutModel",
      "state": {
       "justify_content": "space-between"
      }
     },
     "1bbc502fd9a9417883b05ad16ac12c77": {
      "model_module": "@jupyter-widgets/controls",
      "model_module_version": "1.4.0",
      "model_name": "HBoxModel",
      "state": {
       "children": [
        "IPY_MODEL_0b1a999550c24bfcbe6c14b8b0504433",
        "IPY_MODEL_4c50bbed2e1d443eae6398a4cf7b50df"
       ],
       "layout": "IPY_MODEL_76b5e9fc192f4c52b78e59443c5b610f"
      }
     },
     "1bc2d083e52d4e899ca7ea9477ad7616": {
      "model_module": "@jupyter-widgets/base",
      "model_module_version": "1.1.0",
      "model_name": "LayoutModel",
      "state": {
       "width": "10%"
      }
     },
     "1bc99cff066b4cc9b5df568c3c764d3e": {
      "model_module": "@jupyter-widgets/output",
      "model_module_version": "1.0.0",
      "model_name": "OutputModel",
      "state": {
       "layout": "IPY_MODEL_6a5bb41d375949d0a006364882b2ee0e"
      }
     },
     "1be12de677d1424891f230dc68f80372": {
      "model_module": "@jupyter-widgets/controls",
      "model_module_version": "1.4.0",
      "model_name": "VBoxModel",
      "state": {
       "children": [
        "IPY_MODEL_3d02efe3875544fda7c3a98e13a09db1",
        "IPY_MODEL_c38b68ded5b74e36a106ae24b5f087d0"
       ],
       "layout": "IPY_MODEL_6eb453733a8e4035ae15570a92af2d1f"
      }
     },
     "1be19ed5662745cfbb4579ef048c6b58": {
      "model_module": "@jupyter-widgets/base",
      "model_module_version": "1.1.0",
      "model_name": "LayoutModel",
      "state": {}
     },
     "1c06199bd92948f39dacb4fd11097cd8": {
      "model_module": "@jupyter-widgets/base",
      "model_module_version": "1.1.0",
      "model_name": "LayoutModel",
      "state": {
       "width": "95%"
      }
     },
     "1c282826544d4598932b857c133ce62b": {
      "model_module": "@jupyter-widgets/output",
      "model_module_version": "1.0.0",
      "model_name": "OutputModel",
      "state": {
       "layout": "IPY_MODEL_09e8539ffda84c91915aa75f731b8e56"
      }
     },
     "1c2a30d8b0e44e008bd4afab300d781c": {
      "model_module": "@jupyter-widgets/base",
      "model_module_version": "1.1.0",
      "model_name": "LayoutModel",
      "state": {
       "width": "95%"
      }
     },
     "1c38afcdd5604529924633460c965a3e": {
      "model_module": "@jupyter-widgets/base",
      "model_module_version": "1.1.0",
      "model_name": "LayoutModel",
      "state": {}
     },
     "1c3b35b53a5848bbb1013f969fd585df": {
      "model_module": "@jupyter-widgets/base",
      "model_module_version": "1.1.0",
      "model_name": "LayoutModel",
      "state": {
       "width": "10%"
      }
     },
     "1c3dc8fcbd534b5bb4fc097a71b0d644": {
      "model_module": "@jupyter-widgets/base",
      "model_module_version": "1.1.0",
      "model_name": "LayoutModel",
      "state": {
       "width": "10%"
      }
     },
     "1c6054324cc448459bbb086e076ab1a5": {
      "model_module": "@jupyter-widgets/output",
      "model_module_version": "1.0.0",
      "model_name": "OutputModel",
      "state": {
       "layout": "IPY_MODEL_d6d257ef49fa4b4dac25527024174aaf"
      }
     },
     "1c690bea67874e1695f36df83ae6d1c2": {
      "model_module": "@jupyter-widgets/output",
      "model_module_version": "1.0.0",
      "model_name": "OutputModel",
      "state": {
       "layout": "IPY_MODEL_db6931b7b388413bb42e42d7121b18ad"
      }
     },
     "1c9088b51d2f48c88c12af827fe69989": {
      "model_module": "@jupyter-widgets/output",
      "model_module_version": "1.0.0",
      "model_name": "OutputModel",
      "state": {
       "layout": "IPY_MODEL_f8607a6407234f35b8ac7b1aec91baa1"
      }
     },
     "1c933a99784a435ba084e34a5c9fe19a": {
      "model_module": "@jupyter-widgets/base",
      "model_module_version": "1.1.0",
      "model_name": "LayoutModel",
      "state": {
       "width": "95%"
      }
     },
     "1cac28f79135488d94a5f0d158575589": {
      "model_module": "@jupyter-widgets/controls",
      "model_module_version": "1.4.0",
      "model_name": "VBoxModel",
      "state": {
       "children": [
        "IPY_MODEL_fcb01f5186574867ab58ca17384683e2",
        "IPY_MODEL_0b8b4c95736b47e6884aee089eceb98a"
       ],
       "layout": "IPY_MODEL_0e4dd1e79f71451e8e0b1ff5bc195542"
      }
     },
     "1cb4253579ce4472bbd33e5abd2df793": {
      "model_module": "@jupyter-widgets/base",
      "model_module_version": "1.1.0",
      "model_name": "LayoutModel",
      "state": {}
     },
     "1cb9315767ab415d9d5cbe06e13b31ff": {
      "model_module": "@jupyter-widgets/base",
      "model_module_version": "1.1.0",
      "model_name": "LayoutModel",
      "state": {}
     },
     "1cc2907c685c464180910bbc0ffddb69": {
      "model_module": "@jupyter-widgets/base",
      "model_module_version": "1.1.0",
      "model_name": "LayoutModel",
      "state": {
       "width": "95%"
      }
     },
     "1cc872fe9dcb4655aa20436c0f44775e": {
      "model_module": "@jupyter-widgets/base",
      "model_module_version": "1.1.0",
      "model_name": "LayoutModel",
      "state": {
       "width": "95%"
      }
     },
     "1ce6962df0904d2dbe3597ce316bbd64": {
      "model_module": "@jupyter-widgets/output",
      "model_module_version": "1.0.0",
      "model_name": "OutputModel",
      "state": {
       "layout": "IPY_MODEL_36b049d21c584b81b45fa7a899e2bbab"
      }
     },
     "1ce7648c8a1246b5807cc81a49cc8aaf": {
      "model_module": "@jupyter-widgets/output",
      "model_module_version": "1.0.0",
      "model_name": "OutputModel",
      "state": {
       "layout": "IPY_MODEL_1512d29d24df4a19aea99f61ba4c8fe8"
      }
     },
     "1cf295f220be4435a615d891cd93fde6": {
      "model_module": "@jupyter-widgets/controls",
      "model_module_version": "1.4.0",
      "model_name": "ButtonStyleModel",
      "state": {}
     },
     "1d01015a82d04150bdff896edf3c9c62": {
      "model_module": "@jupyter-widgets/base",
      "model_module_version": "1.1.0",
      "model_name": "LayoutModel",
      "state": {
       "width": "95%"
      }
     },
     "1d20fe42067746f0b89235c8fb21a457": {
      "model_module": "@jupyter-widgets/controls",
      "model_module_version": "1.4.0",
      "model_name": "ButtonStyleModel",
      "state": {}
     },
     "1d2747226aca4343829ac55a9e5e3873": {
      "model_module": "@jupyter-widgets/base",
      "model_module_version": "1.1.0",
      "model_name": "LayoutModel",
      "state": {
       "width": "95%"
      }
     },
     "1d2952fc52b94466afb0ef8950e2f057": {
      "model_module": "@jupyter-widgets/controls",
      "model_module_version": "1.4.0",
      "model_name": "ButtonStyleModel",
      "state": {}
     },
     "1d35a814a357483e9bb009e1fa20947d": {
      "model_module": "@jupyter-widgets/controls",
      "model_module_version": "1.4.0",
      "model_name": "VBoxModel",
      "state": {
       "children": [
        "IPY_MODEL_4f9d41743e53416cb890ed629cebf07b",
        "IPY_MODEL_088ae07cf47e465994e5e9b0a3e7ece7"
       ],
       "layout": "IPY_MODEL_d0061b2eac4a4f559dda4685ca20a6a6"
      }
     },
     "1d410e0eb05b48e0ae7898efdc22b766": {
      "model_module": "@jupyter-widgets/base",
      "model_module_version": "1.1.0",
      "model_name": "LayoutModel",
      "state": {
       "width": "10%"
      }
     },
     "1d56ff24a50d4630ba49d36b6d811227": {
      "model_module": "@jupyter-widgets/controls",
      "model_module_version": "1.4.0",
      "model_name": "ButtonStyleModel",
      "state": {}
     },
     "1d631b4da34248f38bce67bd51c4c8c5": {
      "model_module": "@jupyter-widgets/base",
      "model_module_version": "1.1.0",
      "model_name": "LayoutModel",
      "state": {}
     },
     "1d6a42d4f68e4fd093ec4b824e6a015b": {
      "model_module": "@jupyter-widgets/controls",
      "model_module_version": "1.4.0",
      "model_name": "ButtonModel",
      "state": {
       "description": "6",
       "layout": "IPY_MODEL_f2e604c0a0934ad6b9272a914bb5e356",
       "style": "IPY_MODEL_1baddab8c0c040998e8818b88adf9f89"
      }
     },
     "1d6ef42347e14b8ca0cf30cf05b2502e": {
      "model_module": "@jupyter-widgets/controls",
      "model_module_version": "1.4.0",
      "model_name": "VBoxModel",
      "state": {
       "children": [
        "IPY_MODEL_688c140fddc64c00b5e49066eab5f3fe",
        "IPY_MODEL_69555b3d1986417aa92f922a1f716fd1"
       ],
       "layout": "IPY_MODEL_08e01fc7cf004c508971e542c12bfc9a"
      }
     },
     "1d71539e8d55436cb546ba874f7718c9": {
      "model_module": "@jupyter-widgets/base",
      "model_module_version": "1.1.0",
      "model_name": "LayoutModel",
      "state": {
       "width": "10%"
      }
     },
     "1d7e2bf5a0504084afa92a8d67b66a97": {
      "model_module": "@jupyter-widgets/base",
      "model_module_version": "1.1.0",
      "model_name": "LayoutModel",
      "state": {
       "width": "10%"
      }
     },
     "1d8e4998670346388cac4624b0e7c20e": {
      "model_module": "@jupyter-widgets/base",
      "model_module_version": "1.1.0",
      "model_name": "LayoutModel",
      "state": {
       "justify_content": "space-between"
      }
     },
     "1d902e73c5344ce5b2bdd5a309e168f4": {
      "model_module": "@jupyter-widgets/base",
      "model_module_version": "1.1.0",
      "model_name": "LayoutModel",
      "state": {
       "width": "95%"
      }
     },
     "1d9a1683e79f4396b6b6939dcf6d52e5": {
      "model_module": "@jupyter-widgets/base",
      "model_module_version": "1.1.0",
      "model_name": "LayoutModel",
      "state": {}
     },
     "1d9eb35dfdc54acf82bed4c622921af7": {
      "model_module": "@jupyter-widgets/base",
      "model_module_version": "1.1.0",
      "model_name": "LayoutModel",
      "state": {}
     },
     "1da0f3f1082e4b16891651e61878bc1a": {
      "model_module": "@jupyter-widgets/controls",
      "model_module_version": "1.4.0",
      "model_name": "VBoxModel",
      "state": {
       "children": [
        "IPY_MODEL_27a1740316084481a10eeaef8aa94170",
        "IPY_MODEL_6fe21d0fcd744cfa866fc788292137e3"
       ],
       "layout": "IPY_MODEL_8784f50ffd8d4afe9ee9fcc3a5c727be"
      }
     },
     "1dac797d62474fa69217f96215ebd688": {
      "model_module": "@jupyter-widgets/base",
      "model_module_version": "1.1.0",
      "model_name": "LayoutModel",
      "state": {
       "width": "10%"
      }
     },
     "1db8bd562c1643298b2b8323352dd40a": {
      "model_module": "@jupyter-widgets/controls",
      "model_module_version": "1.4.0",
      "model_name": "HBoxModel",
      "state": {
       "children": [
        "IPY_MODEL_6704bc8763f449ec9e60d353d0b86d97",
        "IPY_MODEL_6b2956b7e67a403f8703102b12efbecc",
        "IPY_MODEL_7802ad4d138448d7a5a3e9d9deb9daa0",
        "IPY_MODEL_c892485a9a114d87ba8ac4a7a261cf2d",
        "IPY_MODEL_efb3a51d8285487a807a2e4321403b22",
        "IPY_MODEL_373bb300b3e540b1943d88f299887c37",
        "IPY_MODEL_20f4b1eeee434163b465723a21c56c92",
        "IPY_MODEL_281463067b4a47e68829eeb1c835b19f",
        "IPY_MODEL_9f0a9c993cda49f2b8d6fc307a6f7d85",
        "IPY_MODEL_0bc7db9babcb43cabceee7c5edd6259f"
       ],
       "layout": "IPY_MODEL_ea5b6289471a4662a57b7756d541529c"
      }
     },
     "1db94cb542f342358550052886da6090": {
      "model_module": "@jupyter-widgets/controls",
      "model_module_version": "1.4.0",
      "model_name": "VBoxModel",
      "state": {
       "children": [
        "IPY_MODEL_5853a9e45d874fe89bc99d30b00f3222",
        "IPY_MODEL_444025ceea0e4a4b881f137d5d677b23"
       ],
       "layout": "IPY_MODEL_6f9e4b4919e043a1be13a8624e8afdf6"
      }
     },
     "1dbaf22f938940cca08bbc4b2ca1c519": {
      "model_module": "@jupyter-widgets/base",
      "model_module_version": "1.1.0",
      "model_name": "LayoutModel",
      "state": {
       "width": "10%"
      }
     },
     "1dbe0d5485a44fed942f184bc7bbf237": {
      "model_module": "@jupyter-widgets/controls",
      "model_module_version": "1.4.0",
      "model_name": "VBoxModel",
      "state": {
       "children": [
        "IPY_MODEL_6244e3f5dfc34b2b91826554147fb299",
        "IPY_MODEL_5aafff64dc4a4973b8f5b046411e2e22"
       ],
       "layout": "IPY_MODEL_f7d9e67bd8f74960ad9f44c72bf8cb93"
      }
     },
     "1dc33f6158da46589d3aff712cfb3e0b": {
      "model_module": "@jupyter-widgets/base",
      "model_module_version": "1.1.0",
      "model_name": "LayoutModel",
      "state": {
       "width": "95%"
      }
     },
     "1dc9217d4fd144f0b6f439261952e5b4": {
      "model_module": "@jupyter-widgets/base",
      "model_module_version": "1.1.0",
      "model_name": "LayoutModel",
      "state": {}
     },
     "1ddae2bb3f0942699600bfe64d1a4454": {
      "model_module": "@jupyter-widgets/controls",
      "model_module_version": "1.4.0",
      "model_name": "ButtonStyleModel",
      "state": {}
     },
     "1de30216170d4a1f96c956f4956d97f3": {
      "model_module": "@jupyter-widgets/base",
      "model_module_version": "1.1.0",
      "model_name": "LayoutModel",
      "state": {}
     },
     "1e0136ad17164f94908e2c315811ac5e": {
      "model_module": "@jupyter-widgets/base",
      "model_module_version": "1.1.0",
      "model_name": "LayoutModel",
      "state": {
       "width": "10%"
      }
     },
     "1e028d8ea04a45609bcf7fd79dabea99": {
      "model_module": "@jupyter-widgets/controls",
      "model_module_version": "1.4.0",
      "model_name": "ButtonModel",
      "state": {
       "description": "3",
       "layout": "IPY_MODEL_304e37ed05624c93917487b81efa6a47",
       "style": "IPY_MODEL_553b323bed9d4dafa1278b20a2b9b87c"
      }
     },
     "1e03efaea56b4274b7acc42ff3f94675": {
      "model_module": "@jupyter-widgets/base",
      "model_module_version": "1.1.0",
      "model_name": "LayoutModel",
      "state": {
       "width": "10%"
      }
     },
     "1e24be9e27694e6e82249c80ee209bf0": {
      "model_module": "@jupyter-widgets/base",
      "model_module_version": "1.1.0",
      "model_name": "LayoutModel",
      "state": {}
     },
     "1e29756bc22f4c85b2bb972889a4cbcd": {
      "model_module": "@jupyter-widgets/base",
      "model_module_version": "1.1.0",
      "model_name": "LayoutModel",
      "state": {
       "width": "95%"
      }
     },
     "1e3655e54aed4f65b1ace7d90923437c": {
      "model_module": "@jupyter-widgets/base",
      "model_module_version": "1.1.0",
      "model_name": "LayoutModel",
      "state": {
       "width": "10%"
      }
     },
     "1e421b20abf84e19bffa8b57c45fa047": {
      "model_module": "@jupyter-widgets/base",
      "model_module_version": "1.1.0",
      "model_name": "LayoutModel",
      "state": {
       "width": "10%"
      }
     },
     "1e5423d4d6304f4196e9e05d131725d4": {
      "model_module": "@jupyter-widgets/base",
      "model_module_version": "1.1.0",
      "model_name": "LayoutModel",
      "state": {
       "width": "95%"
      }
     },
     "1e561bb9e2344f74a5e65325632266d2": {
      "model_module": "@jupyter-widgets/controls",
      "model_module_version": "1.4.0",
      "model_name": "HBoxModel",
      "state": {
       "children": [
        "IPY_MODEL_de81c7ec2f504dc2afff3964c191f6de",
        "IPY_MODEL_646a221365fd4876b033c5243e4e1e7d",
        "IPY_MODEL_c8226eaf3cab4b4c8e2fb4517e779080",
        "IPY_MODEL_02f409bb1ea444f780eb94070d939c33",
        "IPY_MODEL_d3c80f33c92f4d08aa7a098ce1b4836b",
        "IPY_MODEL_d73d0f73aa0842a09e41d4ea083a8561",
        "IPY_MODEL_29cc4565ce644df795cfb7debd9b841b",
        "IPY_MODEL_61ae1d96a7494430951ad22f3962b09d",
        "IPY_MODEL_e0a4fa3aaea5459abc1cda88d000fb10",
        "IPY_MODEL_0da774a9550c4619afac18cf99f7c130"
       ],
       "layout": "IPY_MODEL_11e628efad9a4abb85789246f59577f2"
      }
     },
     "1e82b12b6f174c509411c7efa8a14366": {
      "model_module": "@jupyter-widgets/controls",
      "model_module_version": "1.4.0",
      "model_name": "TextModel",
      "state": {
       "description": "Other:",
       "layout": "IPY_MODEL_37a0e74e3ee14b2dae1a184a706ef541",
       "placeholder": "Hit enter to submit.",
       "style": "IPY_MODEL_048211588bd24e0d9b924dade71d473d"
      }
     },
     "1e86ff431f06437993563d9723fb714d": {
      "model_module": "@jupyter-widgets/controls",
      "model_module_version": "1.4.0",
      "model_name": "VBoxModel",
      "state": {
       "children": [
        "IPY_MODEL_8d52b0aa0b534305bfb2e6f321acbfef",
        "IPY_MODEL_1764a2c576274023b1d7eb6fc6354491"
       ],
       "layout": "IPY_MODEL_19f3e84611a7419fba3a417971b8b5de"
      }
     },
     "1e96a364356b47158b4069f1a8567237": {
      "model_module": "@jupyter-widgets/controls",
      "model_module_version": "1.4.0",
      "model_name": "ButtonModel",
      "state": {
       "description": "5",
       "layout": "IPY_MODEL_83ae8380b4694314a545a58880450a16",
       "style": "IPY_MODEL_df3805b01eb34f3b85173831415e9b81"
      }
     },
     "1eb3a13b97b7435a91f2bb7cb5a4c9cf": {
      "model_module": "@jupyter-widgets/base",
      "model_module_version": "1.1.0",
      "model_name": "LayoutModel",
      "state": {}
     },
     "1eb941e9453a4418a6fd4c21454fe039": {
      "model_module": "@jupyter-widgets/base",
      "model_module_version": "1.1.0",
      "model_name": "LayoutModel",
      "state": {}
     },
     "1ec5626920d544d399ac78995b711c9e": {
      "model_module": "@jupyter-widgets/base",
      "model_module_version": "1.1.0",
      "model_name": "LayoutModel",
      "state": {}
     },
     "1ecd6021d93b42e9a2393b5c4ff2d45a": {
      "model_module": "@jupyter-widgets/base",
      "model_module_version": "1.1.0",
      "model_name": "LayoutModel",
      "state": {
       "width": "10%"
      }
     },
     "1edff9f17ae640fb9c674ef04e9cc74a": {
      "model_module": "@jupyter-widgets/base",
      "model_module_version": "1.1.0",
      "model_name": "LayoutModel",
      "state": {
       "width": "10%"
      }
     },
     "1ee5698c65244a4f86a159fc91a338a2": {
      "model_module": "@jupyter-widgets/base",
      "model_module_version": "1.1.0",
      "model_name": "LayoutModel",
      "state": {
       "width": "10%"
      }
     },
     "1ee85c43e6dd4300b2f4bc785bd64f0f": {
      "model_module": "@jupyter-widgets/controls",
      "model_module_version": "1.4.0",
      "model_name": "TextModel",
      "state": {
       "description": "Other:",
       "layout": "IPY_MODEL_8b0e0fb3dd2e44689728abfa31bb144f",
       "placeholder": "Hit enter to submit.",
       "style": "IPY_MODEL_99f5964fe2e0447c8df57b599349afd4"
      }
     },
     "1eebec8444bb4babac845a3abc7e362e": {
      "model_module": "@jupyter-widgets/controls",
      "model_module_version": "1.4.0",
      "model_name": "VBoxModel",
      "state": {
       "children": [
        "IPY_MODEL_7be2f0ef1b75462382f1504cbfb6b0ef",
        "IPY_MODEL_a27c68b91483441d861768d5fcd341c8"
       ],
       "layout": "IPY_MODEL_c9479e0b15064ebf87bbe001a12a553a"
      }
     },
     "1ef1f0b615f141fbb80d34a32f479a67": {
      "model_module": "@jupyter-widgets/output",
      "model_module_version": "1.0.0",
      "model_name": "OutputModel",
      "state": {
       "layout": "IPY_MODEL_c548dbc2f5b74ab8bb943a11a45acdc7"
      }
     },
     "1ef48dea73d24a13afa323112a0cf561": {
      "model_module": "@jupyter-widgets/controls",
      "model_module_version": "1.4.0",
      "model_name": "ButtonModel",
      "state": {
       "description": "0",
       "layout": "IPY_MODEL_9d9fe3cbbe2c4ef8994456e0c89d2a0b",
       "style": "IPY_MODEL_70cd52a2c6a74814b39a8d006124a092"
      }
     },
     "1efd667fcd5f40188fec3d68c5be740e": {
      "model_module": "@jupyter-widgets/controls",
      "model_module_version": "1.4.0",
      "model_name": "HBoxModel",
      "state": {
       "children": [
        "IPY_MODEL_a7b44988270847eabb0bf8f369e3567b",
        "IPY_MODEL_8ff52e9bec0d4c2bbfd8b2d96b28d24c",
        "IPY_MODEL_85b809c18a6c4a50963c04ccc34d9c28"
       ],
       "layout": "IPY_MODEL_2bcc15ea109a4304a92eb3ddfa516cdf"
      }
     },
     "1efddfcf2f85496c9de34e8c9bfb929e": {
      "model_module": "@jupyter-widgets/output",
      "model_module_version": "1.0.0",
      "model_name": "OutputModel",
      "state": {
       "layout": "IPY_MODEL_76bc2b06e50c4f2f8553cb7726e77517"
      }
     },
     "1f03a80056c54494b1975cd61f6be42b": {
      "model_module": "@jupyter-widgets/controls",
      "model_module_version": "1.4.0",
      "model_name": "ButtonStyleModel",
      "state": {}
     },
     "1f283df0d2304dce842cb672c21a2425": {
      "model_module": "@jupyter-widgets/controls",
      "model_module_version": "1.4.0",
      "model_name": "VBoxModel",
      "state": {
       "children": [
        "IPY_MODEL_077a8a983feb4aca813454f592c87b92",
        "IPY_MODEL_7711bff03eae4f61aeaacce3367f95d1"
       ],
       "layout": "IPY_MODEL_70ec5c87939a4fa08ce47d18e72123c7"
      }
     },
     "1f539874d133476baf3ff872650d37e0": {
      "model_module": "@jupyter-widgets/controls",
      "model_module_version": "1.4.0",
      "model_name": "FloatProgressModel",
      "state": {
       "description": "Progress:",
       "layout": "IPY_MODEL_4e9500be492c4253ba7092dcb3306f84",
       "max": 1,
       "style": "IPY_MODEL_14b287cc3c4445f8b355a91a476b7095",
       "value": 0.084
      }
     },
     "1f60e810afa841c08d7b6bcf76efa0a2": {
      "model_module": "@jupyter-widgets/base",
      "model_module_version": "1.1.0",
      "model_name": "LayoutModel",
      "state": {
       "width": "95%"
      }
     },
     "1f6da440b3ed43fbbfce50314e2409f5": {
      "model_module": "@jupyter-widgets/base",
      "model_module_version": "1.1.0",
      "model_name": "LayoutModel",
      "state": {
       "width": "95%"
      }
     },
     "1f7e9e3af01748e9908b99fe79737bb3": {
      "model_module": "@jupyter-widgets/base",
      "model_module_version": "1.1.0",
      "model_name": "LayoutModel",
      "state": {
       "width": "95%"
      }
     },
     "1f970a1b1f114c9db9ff17ceb330d1e1": {
      "model_module": "@jupyter-widgets/controls",
      "model_module_version": "1.4.0",
      "model_name": "VBoxModel",
      "state": {
       "children": [
        "IPY_MODEL_2253ae69b695436a8fe6ecbac20deafa",
        "IPY_MODEL_a2f04e6bdbc44271bcd64ff8f5a177e7"
       ],
       "layout": "IPY_MODEL_35edb4768f1a4d7dbbf03134427fa71b"
      }
     },
     "1f9be244f2414a318154485d240d84c3": {
      "model_module": "@jupyter-widgets/base",
      "model_module_version": "1.1.0",
      "model_name": "LayoutModel",
      "state": {
       "width": "10%"
      }
     },
     "1facba31002445b794e75ab05850c689": {
      "model_module": "@jupyter-widgets/output",
      "model_module_version": "1.0.0",
      "model_name": "OutputModel",
      "state": {
       "layout": "IPY_MODEL_c12d27e7c30f4c18bf49dc8d81905825"
      }
     },
     "1fbe43959ab24e57b9de781ac09bd839": {
      "model_module": "@jupyter-widgets/controls",
      "model_module_version": "1.4.0",
      "model_name": "ButtonStyleModel",
      "state": {}
     },
     "1fd9c5e01e2841178596d65729cdba52": {
      "model_module": "@jupyter-widgets/output",
      "model_module_version": "1.0.0",
      "model_name": "OutputModel",
      "state": {
       "layout": "IPY_MODEL_c3bd1ecd201044528f71d91bdaf5a6f8"
      }
     },
     "1fec2b78cf434f0b9aba93e89d906189": {
      "model_module": "@jupyter-widgets/base",
      "model_module_version": "1.1.0",
      "model_name": "LayoutModel",
      "state": {}
     },
     "2004d1c16f1247899eacea13e6e5d234": {
      "model_module": "@jupyter-widgets/base",
      "model_module_version": "1.1.0",
      "model_name": "LayoutModel",
      "state": {
       "width": "95%"
      }
     },
     "20172715e91c48e1b037796b20e148ed": {
      "model_module": "@jupyter-widgets/controls",
      "model_module_version": "1.4.0",
      "model_name": "ButtonModel",
      "state": {
       "description": "9",
       "layout": "IPY_MODEL_565498f4ff5a4d52b3aea618e56aef74",
       "style": "IPY_MODEL_1235f1e8dec649df9eed7ca422743e9b"
      }
     },
     "202a554bd183448e9ee699f1756dd9c4": {
      "model_module": "@jupyter-widgets/base",
      "model_module_version": "1.1.0",
      "model_name": "LayoutModel",
      "state": {
       "width": "95%"
      }
     },
     "2045323bdb734a1189183b4991997fd9": {
      "model_module": "@jupyter-widgets/controls",
      "model_module_version": "1.4.0",
      "model_name": "VBoxModel",
      "state": {
       "children": [
        "IPY_MODEL_425d4f1ef99140eea7935d14e6bbf012",
        "IPY_MODEL_a88386dd10d6428cb5158702175ab5d8"
       ],
       "layout": "IPY_MODEL_c3a82da5f2dc4a26af3384fd7bd93253"
      }
     },
     "204b6fa19d674226ab8547110db97f3f": {
      "model_module": "@jupyter-widgets/controls",
      "model_module_version": "1.4.0",
      "model_name": "VBoxModel",
      "state": {
       "children": [
        "IPY_MODEL_48dbb10c7b9b4357903ecfc8b5e9e4e2",
        "IPY_MODEL_37baf666d9d24c97b8d8beb47b059bf0"
       ],
       "layout": "IPY_MODEL_6e1e1c27227742b391cae797e50d5fd5"
      }
     },
     "204ce1695a864ea89fb6273dce4c54cb": {
      "model_module": "@jupyter-widgets/base",
      "model_module_version": "1.1.0",
      "model_name": "LayoutModel",
      "state": {
       "width": "95%"
      }
     },
     "205f9d9474424c62b8aef0e961a425c7": {
      "model_module": "@jupyter-widgets/base",
      "model_module_version": "1.1.0",
      "model_name": "LayoutModel",
      "state": {
       "width": "10%"
      }
     },
     "206a8ff5beca457f8ef59519531cb197": {
      "model_module": "@jupyter-widgets/controls",
      "model_module_version": "1.4.0",
      "model_name": "VBoxModel",
      "state": {
       "children": [
        "IPY_MODEL_e3ca843a90334c2e87d052dbbbd84eed",
        "IPY_MODEL_32438bf9ab2644af871ad9a7c165eae9"
       ],
       "layout": "IPY_MODEL_663be716e04d46f4aaba94d5c8ae97c6"
      }
     },
     "2081686a3a7f4dfd9d76afe4676433e3": {
      "model_module": "@jupyter-widgets/base",
      "model_module_version": "1.1.0",
      "model_name": "LayoutModel",
      "state": {}
     },
     "208b926e13a04759bbbfafd862f1b89e": {
      "model_module": "@jupyter-widgets/controls",
      "model_module_version": "1.4.0",
      "model_name": "ButtonStyleModel",
      "state": {}
     },
     "20974b4dd5694905b97d7b913d7877e8": {
      "model_module": "@jupyter-widgets/base",
      "model_module_version": "1.1.0",
      "model_name": "LayoutModel",
      "state": {
       "width": "10%"
      }
     },
     "2097b1eb63fb445bb3240e3a7f3e1dbb": {
      "model_module": "@jupyter-widgets/controls",
      "model_module_version": "1.4.0",
      "model_name": "VBoxModel",
      "state": {
       "children": [
        "IPY_MODEL_7fdf342e5149487cb1b768120282a424",
        "IPY_MODEL_c365b023f15c49a6ba2105d3b0422575"
       ],
       "layout": "IPY_MODEL_64629cb41a4f4d1f9c40edea7e7b0e3e"
      }
     },
     "20a74e0712fd48d3b34771104514e713": {
      "model_module": "@jupyter-widgets/controls",
      "model_module_version": "1.4.0",
      "model_name": "VBoxModel",
      "state": {
       "children": [
        "IPY_MODEL_25c6a70e68f74d45a866339a3a14076d",
        "IPY_MODEL_b60d348ca7b640889bdf793ded76856f"
       ],
       "layout": "IPY_MODEL_5043e8eed50e41719e9914ac195ad324"
      }
     },
     "20f096b3aa424dc59407bfbb770c0e9b": {
      "model_module": "@jupyter-widgets/base",
      "model_module_version": "1.1.0",
      "model_name": "LayoutModel",
      "state": {
       "width": "10%"
      }
     },
     "20f4b1eeee434163b465723a21c56c92": {
      "model_module": "@jupyter-widgets/controls",
      "model_module_version": "1.4.0",
      "model_name": "VBoxModel",
      "state": {
       "children": [
        "IPY_MODEL_d690baff55ee4b3cb3e319a22ec27c1f",
        "IPY_MODEL_e4945b8316af447ba6eeafbf5c117144"
       ],
       "layout": "IPY_MODEL_9fbf1d13ffc24b128061165f8bfac917"
      }
     },
     "2115f062370643fe9d009211bdf552d8": {
      "model_module": "@jupyter-widgets/controls",
      "model_module_version": "1.4.0",
      "model_name": "HBoxModel",
      "state": {
       "children": [
        "IPY_MODEL_38b1d4ca3879429ab1ccef8aae1f1b51",
        "IPY_MODEL_fc87c12a8b9a449b88e5fbf50ca8c7a2"
       ],
       "layout": "IPY_MODEL_1672c0b625f94072b494327fcec97cca"
      }
     },
     "21402588d04f46c3b4136c124d7f6af9": {
      "model_module": "@jupyter-widgets/base",
      "model_module_version": "1.1.0",
      "model_name": "LayoutModel",
      "state": {
       "width": "10%"
      }
     },
     "2147db769b094e23b362d88978aa6a5d": {
      "model_module": "@jupyter-widgets/controls",
      "model_module_version": "1.4.0",
      "model_name": "ButtonModel",
      "state": {
       "description": "4",
       "layout": "IPY_MODEL_32d36220980348b29f215f92d1c58a30",
       "style": "IPY_MODEL_ab7297632e64444fb802acb62687eccc"
      }
     },
     "214be96bf7174cb89e2d1e0ba9884176": {
      "model_module": "@jupyter-widgets/controls",
      "model_module_version": "1.4.0",
      "model_name": "VBoxModel",
      "state": {
       "children": [
        "IPY_MODEL_460baa35ce37401cb1c10e8e8f9a1323",
        "IPY_MODEL_b1150ab2d6fe4b6f8f223a7288c9ab65"
       ],
       "layout": "IPY_MODEL_e19cf58cceb64221a2d93492c813a150"
      }
     },
     "21563e1068734e80be274ec6d194d913": {
      "model_module": "@jupyter-widgets/base",
      "model_module_version": "1.1.0",
      "model_name": "LayoutModel",
      "state": {}
     },
     "218753363ac345a58bf37de1e05614f5": {
      "model_module": "@jupyter-widgets/base",
      "model_module_version": "1.1.0",
      "model_name": "LayoutModel",
      "state": {
       "width": "10%"
      }
     },
     "218caec319ad419a9635849ec6624bdb": {
      "model_module": "@jupyter-widgets/output",
      "model_module_version": "1.0.0",
      "model_name": "OutputModel",
      "state": {
       "layout": "IPY_MODEL_9931ddac660a4ba1adc7022efbd4c39b"
      }
     },
     "219d2cee83574a4cab61f7b2cd386941": {
      "model_module": "@jupyter-widgets/controls",
      "model_module_version": "1.4.0",
      "model_name": "VBoxModel",
      "state": {
       "children": [
        "IPY_MODEL_ed2eb3fe8510420382cf8f013d203821",
        "IPY_MODEL_d335fe0a946744649b8a3bc2d2661bef"
       ],
       "layout": "IPY_MODEL_9ad03a29ed704d4fbed3ef58a651608f"
      }
     },
     "21b3619b82c2473a85685d1ab69bf3cd": {
      "model_module": "@jupyter-widgets/controls",
      "model_module_version": "1.4.0",
      "model_name": "ButtonStyleModel",
      "state": {}
     },
     "21b70e5995b645ddaf9cb4e7de11f80b": {
      "model_module": "@jupyter-widgets/base",
      "model_module_version": "1.1.0",
      "model_name": "LayoutModel",
      "state": {
       "width": "10%"
      }
     },
     "21bcf5a7b4c743afa220a6529a5043e1": {
      "model_module": "@jupyter-widgets/controls",
      "model_module_version": "1.4.0",
      "model_name": "ButtonModel",
      "state": {
       "description": "0",
       "layout": "IPY_MODEL_3f0a430d14da4fc09c8f4a771ec435f5",
       "style": "IPY_MODEL_d7a539e94e9e41a3b3559cff499af97f"
      }
     },
     "21bdb248e17546fcb288902972dfd4ba": {
      "model_module": "@jupyter-widgets/base",
      "model_module_version": "1.1.0",
      "model_name": "LayoutModel",
      "state": {
       "width": "95%"
      }
     },
     "21d02ff6d36443939364e797cb049920": {
      "model_module": "@jupyter-widgets/controls",
      "model_module_version": "1.4.0",
      "model_name": "ButtonModel",
      "state": {
       "description": "3",
       "layout": "IPY_MODEL_a4be27ab2bb342e5b2d54d1bc3b48370",
       "style": "IPY_MODEL_232b2705147c47b982f2945a987d55ca"
      }
     },
     "21ea1c4371b343588c37c5395b743c46": {
      "model_module": "@jupyter-widgets/controls",
      "model_module_version": "1.4.0",
      "model_name": "ButtonStyleModel",
      "state": {}
     },
     "21eaf1521f8a4bf7a55fbffb80682f05": {
      "model_module": "@jupyter-widgets/base",
      "model_module_version": "1.1.0",
      "model_name": "LayoutModel",
      "state": {}
     },
     "21f27a3c973a4fbcb633f4b4b456a512": {
      "model_module": "@jupyter-widgets/controls",
      "model_module_version": "1.4.0",
      "model_name": "ButtonModel",
      "state": {
       "description": "3",
       "layout": "IPY_MODEL_0677bb1bbc444f4f8b96970014ec78e4",
       "style": "IPY_MODEL_9f1d835aba1b4b26834901a5027f3358"
      }
     },
     "220d23d86cb0434ab1a5a90f8e9e2620": {
      "model_module": "@jupyter-widgets/base",
      "model_module_version": "1.1.0",
      "model_name": "LayoutModel",
      "state": {}
     },
     "222fc5a928b44f22a6ca6e6812210495": {
      "model_module": "@jupyter-widgets/base",
      "model_module_version": "1.1.0",
      "model_name": "LayoutModel",
      "state": {
       "width": "10%"
      }
     },
     "223474bc8ce440359dc83e96d8028ecb": {
      "model_module": "@jupyter-widgets/controls",
      "model_module_version": "1.4.0",
      "model_name": "ButtonModel",
      "state": {
       "description": "7",
       "layout": "IPY_MODEL_03aac9284b0e4f908cf0198895b26c17",
       "style": "IPY_MODEL_99519409e3954de1958ff0ace6230388"
      }
     },
     "224af7a9db9b46d9bee4c79554ffd53f": {
      "model_module": "@jupyter-widgets/base",
      "model_module_version": "1.1.0",
      "model_name": "LayoutModel",
      "state": {}
     },
     "2253ae69b695436a8fe6ecbac20deafa": {
      "model_module": "@jupyter-widgets/controls",
      "model_module_version": "1.4.0",
      "model_name": "ButtonModel",
      "state": {
       "description": "6",
       "layout": "IPY_MODEL_c08e00302a60451980df743fd140039d",
       "style": "IPY_MODEL_ca1b7bc1c98f44c3a15d2bc3e36eef74"
      }
     },
     "226a50ad4cdc400f8412bc20a05bfe82": {
      "model_module": "@jupyter-widgets/base",
      "model_module_version": "1.1.0",
      "model_name": "LayoutModel",
      "state": {
       "width": "95%"
      }
     },
     "226fd1839d9b44d689f219943548303d": {
      "model_module": "@jupyter-widgets/output",
      "model_module_version": "1.0.0",
      "model_name": "OutputModel",
      "state": {
       "layout": "IPY_MODEL_1590c70f2ad34e0f88a35c0121ab06bd"
      }
     },
     "22755ae1e019489996a42139aac71445": {
      "model_module": "@jupyter-widgets/controls",
      "model_module_version": "1.4.0",
      "model_name": "ButtonModel",
      "state": {
       "description": "7",
       "layout": "IPY_MODEL_5686272fb7084d27ba6d9902e00386aa",
       "style": "IPY_MODEL_4dc0aea809da44a2897937c7e44beb6b"
      }
     },
     "22a8b15a55c141df8631c0f3fb50f76d": {
      "model_module": "@jupyter-widgets/base",
      "model_module_version": "1.1.0",
      "model_name": "LayoutModel",
      "state": {}
     },
     "22aa942d33e24defb7c6b675fb46a757": {
      "model_module": "@jupyter-widgets/base",
      "model_module_version": "1.1.0",
      "model_name": "LayoutModel",
      "state": {}
     },
     "22e062573ab041f18368217ad0774b5d": {
      "model_module": "@jupyter-widgets/base",
      "model_module_version": "1.1.0",
      "model_name": "LayoutModel",
      "state": {}
     },
     "22e68bd0fa5e48dbb28feca2bc934324": {
      "model_module": "@jupyter-widgets/controls",
      "model_module_version": "1.4.0",
      "model_name": "ButtonModel",
      "state": {
       "description": "2",
       "layout": "IPY_MODEL_fafc208bfaff40cdbe275f855c522987",
       "style": "IPY_MODEL_4d0f91d2f0754867928c6233f2afd8e4"
      }
     },
     "2305800fe1f94ee5b36c95931901b4f8": {
      "model_module": "@jupyter-widgets/controls",
      "model_module_version": "1.4.0",
      "model_name": "ButtonStyleModel",
      "state": {}
     },
     "23126538d752490db19c0d18f6be3778": {
      "model_module": "@jupyter-widgets/output",
      "model_module_version": "1.0.0",
      "model_name": "OutputModel",
      "state": {
       "layout": "IPY_MODEL_8486014a77464afc849172a4f964de56"
      }
     },
     "2315ebb7853d4774afb04f1b93610697": {
      "model_module": "@jupyter-widgets/base",
      "model_module_version": "1.1.0",
      "model_name": "LayoutModel",
      "state": {
       "width": "95%"
      }
     },
     "231dfb1e683541b597bb014877a98fb8": {
      "model_module": "@jupyter-widgets/base",
      "model_module_version": "1.1.0",
      "model_name": "LayoutModel",
      "state": {
       "width": "95%"
      }
     },
     "2327814e45e249da81236a1024acd43a": {
      "model_module": "@jupyter-widgets/base",
      "model_module_version": "1.1.0",
      "model_name": "LayoutModel",
      "state": {}
     },
     "232b2705147c47b982f2945a987d55ca": {
      "model_module": "@jupyter-widgets/controls",
      "model_module_version": "1.4.0",
      "model_name": "ButtonStyleModel",
      "state": {}
     },
     "23428d9cff1f4fd5a5796ae1a0770a0d": {
      "model_module": "@jupyter-widgets/controls",
      "model_module_version": "1.4.0",
      "model_name": "ButtonStyleModel",
      "state": {}
     },
     "235a1f5c8ab94a2e8dbee3f71319b6aa": {
      "model_module": "@jupyter-widgets/base",
      "model_module_version": "1.1.0",
      "model_name": "LayoutModel",
      "state": {
       "width": "10%"
      }
     },
     "23b30aa5f8f3482aafc4abbaa4dcf7c8": {
      "model_module": "@jupyter-widgets/controls",
      "model_module_version": "1.4.0",
      "model_name": "ButtonModel",
      "state": {
       "description": "5",
       "layout": "IPY_MODEL_8da8f424de004b159ec6278e4294877d",
       "style": "IPY_MODEL_0462a6b617fd49a1bf6c7440bc2f87df"
      }
     },
     "23bd623c763f445087e478e91902cce9": {
      "model_module": "@jupyter-widgets/output",
      "model_module_version": "1.0.0",
      "model_name": "OutputModel",
      "state": {
       "layout": "IPY_MODEL_af9aafe8012f4bad94efaf086e396257"
      }
     },
     "23bef1f937474f528fcc4ac166867f87": {
      "model_module": "@jupyter-widgets/base",
      "model_module_version": "1.1.0",
      "model_name": "LayoutModel",
      "state": {}
     },
     "23c1d65fdf884c86bbdd6d910c9f4d0d": {
      "model_module": "@jupyter-widgets/base",
      "model_module_version": "1.1.0",
      "model_name": "LayoutModel",
      "state": {}
     },
     "23e412c6987642ee91d9a570543493f1": {
      "model_module": "@jupyter-widgets/base",
      "model_module_version": "1.1.0",
      "model_name": "LayoutModel",
      "state": {}
     },
     "23e8aac497f1401f8fa0179d91bdfd79": {
      "model_module": "@jupyter-widgets/controls",
      "model_module_version": "1.4.0",
      "model_name": "VBoxModel",
      "state": {
       "children": [
        "IPY_MODEL_7bfb18621f0d48bb9ce3e4ee29c10c89",
        "IPY_MODEL_78cd225c2ff24c32894872a787fe89ce"
       ],
       "layout": "IPY_MODEL_d45d54d54a254adba664f5967776bf9c"
      }
     },
     "23ebb5017bd946aa93e925402d320534": {
      "model_module": "@jupyter-widgets/base",
      "model_module_version": "1.1.0",
      "model_name": "LayoutModel",
      "state": {
       "width": "95%"
      }
     },
     "24021d84916b4125bcc73cb15d916252": {
      "model_module": "@jupyter-widgets/base",
      "model_module_version": "1.1.0",
      "model_name": "LayoutModel",
      "state": {}
     },
     "24033ebff50f49a0a7ae5a83cee1e9cc": {
      "model_module": "@jupyter-widgets/controls",
      "model_module_version": "1.4.0",
      "model_name": "ButtonStyleModel",
      "state": {}
     },
     "24083b14f0eb403ebf24c694f745e95e": {
      "model_module": "@jupyter-widgets/output",
      "model_module_version": "1.0.0",
      "model_name": "OutputModel",
      "state": {
       "layout": "IPY_MODEL_f6e704cfeec3403c8a1b5f189bf50f93"
      }
     },
     "240a8b88bc7a4622aea432ad47edc6c3": {
      "model_module": "@jupyter-widgets/base",
      "model_module_version": "1.1.0",
      "model_name": "LayoutModel",
      "state": {}
     },
     "241296bd0d694b4bb3d1989e63c90917": {
      "model_module": "@jupyter-widgets/controls",
      "model_module_version": "1.4.0",
      "model_name": "VBoxModel",
      "state": {
       "children": [
        "IPY_MODEL_6a943304cc5742e286823c127158deb8",
        "IPY_MODEL_f7e7f2f10e944437874e7caf6b8efa54"
       ],
       "layout": "IPY_MODEL_396d1fc964224c149ba6b00794568851"
      }
     },
     "2447120f6e3d4b4eace9ec56eda6e580": {
      "model_module": "@jupyter-widgets/controls",
      "model_module_version": "1.4.0",
      "model_name": "VBoxModel",
      "state": {
       "children": [
        "IPY_MODEL_924017ba9397447faeb0cc106ec61472",
        "IPY_MODEL_a15d72b7328544abb6cff997071183fe"
       ],
       "layout": "IPY_MODEL_5963a2b68d444f9aabae324db3283821"
      }
     },
     "2452c2b2d48b48bfa58a3753eee94035": {
      "model_module": "@jupyter-widgets/base",
      "model_module_version": "1.1.0",
      "model_name": "LayoutModel",
      "state": {}
     },
     "24644785916c44cd92363474f4e3a156": {
      "model_module": "@jupyter-widgets/controls",
      "model_module_version": "1.4.0",
      "model_name": "HBoxModel",
      "state": {
       "children": [
        "IPY_MODEL_173a55d589b743e18957295442c48737",
        "IPY_MODEL_64a1d7b800bf451987e687f6a6f6f1dd",
        "IPY_MODEL_2eaa5c7871bf4e27ae99eacafd939746",
        "IPY_MODEL_a67c6d9255104a5285f233faf10537da",
        "IPY_MODEL_49463d4597354222ba47d7ba1fcc4b96",
        "IPY_MODEL_16d693c503e8435aa08eb75837ff802e",
        "IPY_MODEL_d2b827b4b1d1456ab5471d51c34e51b9",
        "IPY_MODEL_dcf5d44987174eac95aa08478a9e9499",
        "IPY_MODEL_a6b5388e45834befbe7c96f441a4da7b",
        "IPY_MODEL_67f28231821840049debe7666bb74501"
       ],
       "layout": "IPY_MODEL_4c51c4edd8be4a44935bd937b7444f89"
      }
     },
     "2471d7f371c24ac18ba54c13f08d73a9": {
      "model_module": "@jupyter-widgets/base",
      "model_module_version": "1.1.0",
      "model_name": "LayoutModel",
      "state": {}
     },
     "249fdc062d5b4a4a8cf2e9ea9fa8434a": {
      "model_module": "@jupyter-widgets/base",
      "model_module_version": "1.1.0",
      "model_name": "LayoutModel",
      "state": {
       "width": "95%"
      }
     },
     "24ac9f377ccd4e1ea43dc520500be27c": {
      "model_module": "@jupyter-widgets/base",
      "model_module_version": "1.1.0",
      "model_name": "LayoutModel",
      "state": {}
     },
     "24c7aafd69cc46079a48727cbea79c09": {
      "model_module": "@jupyter-widgets/base",
      "model_module_version": "1.1.0",
      "model_name": "LayoutModel",
      "state": {
       "width": "95%"
      }
     },
     "24d4b17290f84c9aa4f440bff7086817": {
      "model_module": "@jupyter-widgets/base",
      "model_module_version": "1.1.0",
      "model_name": "LayoutModel",
      "state": {
       "width": "10%"
      }
     },
     "24debf57499947dfb2bed8a19e7192c4": {
      "model_module": "@jupyter-widgets/controls",
      "model_module_version": "1.4.0",
      "model_name": "ButtonStyleModel",
      "state": {}
     },
     "24eb49be96ad4d449cec098f3869753d": {
      "model_module": "@jupyter-widgets/controls",
      "model_module_version": "1.4.0",
      "model_name": "ButtonStyleModel",
      "state": {}
     },
     "255266ed76934708bc461fd1da42b03c": {
      "model_module": "@jupyter-widgets/base",
      "model_module_version": "1.1.0",
      "model_name": "LayoutModel",
      "state": {
       "width": "10%"
      }
     },
     "2568f656268b49e3acb8e28c82bb048c": {
      "model_module": "@jupyter-widgets/output",
      "model_module_version": "1.0.0",
      "model_name": "OutputModel",
      "state": {
       "layout": "IPY_MODEL_1d9a1683e79f4396b6b6939dcf6d52e5"
      }
     },
     "2584ffd1d96241ffa29e734c42ca04f6": {
      "model_module": "@jupyter-widgets/controls",
      "model_module_version": "1.4.0",
      "model_name": "DescriptionStyleModel",
      "state": {
       "description_width": ""
      }
     },
     "25a8dac7c5584ea6811f41196d46fd47": {
      "model_module": "@jupyter-widgets/controls",
      "model_module_version": "1.4.0",
      "model_name": "ButtonStyleModel",
      "state": {}
     },
     "25c6a70e68f74d45a866339a3a14076d": {
      "model_module": "@jupyter-widgets/controls",
      "model_module_version": "1.4.0",
      "model_name": "ButtonModel",
      "state": {
       "description": "9",
       "layout": "IPY_MODEL_c71b968896a148e19982f14a7780e728",
       "style": "IPY_MODEL_7c79e859b48745b3b6aee51ff345e74e"
      }
     },
     "25c6e44f49aa49069be209548c3bada7": {
      "model_module": "@jupyter-widgets/output",
      "model_module_version": "1.0.0",
      "model_name": "OutputModel",
      "state": {
       "layout": "IPY_MODEL_f235743ac313460d9f023c8b63e48448"
      }
     },
     "25c8d0c6d4ac41eea71f76e409c7bd98": {
      "model_module": "@jupyter-widgets/controls",
      "model_module_version": "1.4.0",
      "model_name": "VBoxModel",
      "state": {
       "children": [
        "IPY_MODEL_07e8318808cd4b2cae1b393a78fb14b3",
        "IPY_MODEL_9d415440aed54bfaaf4a7d553585e8f8"
       ],
       "layout": "IPY_MODEL_da91813d3dfc4414a84378d09d960201"
      }
     },
     "25e8a583f63c48a496162893f35dde71": {
      "model_module": "@jupyter-widgets/base",
      "model_module_version": "1.1.0",
      "model_name": "LayoutModel",
      "state": {
       "width": "95%"
      }
     },
     "25f1d83fafad4dbebaae986da7845313": {
      "model_module": "@jupyter-widgets/controls",
      "model_module_version": "1.4.0",
      "model_name": "VBoxModel",
      "state": {
       "children": [
        "IPY_MODEL_88389985c9774c32aa4ff109fadf27f1",
        "IPY_MODEL_ba1509568ce14800a4b22f8844dc5590"
       ],
       "layout": "IPY_MODEL_858e703ac7b548ebbeffba7fddf748b2"
      }
     },
     "2603557e104d4232a92b8ae9eac203ca": {
      "model_module": "@jupyter-widgets/base",
      "model_module_version": "1.1.0",
      "model_name": "LayoutModel",
      "state": {
       "width": "95%"
      }
     },
     "2614997202d94db99b1b2223b9f8356b": {
      "model_module": "@jupyter-widgets/controls",
      "model_module_version": "1.4.0",
      "model_name": "ButtonModel",
      "state": {
       "description": "6",
       "layout": "IPY_MODEL_473fa6d1ea584544989153ce506e9614",
       "style": "IPY_MODEL_81cfe1107ef84d648cb8d2a385e3316e"
      }
     },
     "2616328e9a1545bf9727f5819bfc0c80": {
      "model_module": "@jupyter-widgets/controls",
      "model_module_version": "1.4.0",
      "model_name": "VBoxModel",
      "state": {
       "children": [
        "IPY_MODEL_f2dcfb8759364476b178677f4d12c2ed",
        "IPY_MODEL_9a6375fbaba14e0a9d29286422925eb4"
       ],
       "layout": "IPY_MODEL_bf3ec7a57d774f4b8f1e8140716d3f8e"
      }
     },
     "2623540a59b049ff89df013e8c124bb9": {
      "model_module": "@jupyter-widgets/controls",
      "model_module_version": "1.4.0",
      "model_name": "ButtonStyleModel",
      "state": {}
     },
     "2624650d94824dfd99f3e6cea65e6e76": {
      "model_module": "@jupyter-widgets/controls",
      "model_module_version": "1.4.0",
      "model_name": "ButtonStyleModel",
      "state": {}
     },
     "2629afe795ca46ca8b81a76473704d14": {
      "model_module": "@jupyter-widgets/controls",
      "model_module_version": "1.4.0",
      "model_name": "VBoxModel",
      "state": {
       "children": [
        "IPY_MODEL_d3fccf1c02fa4378b516a7fce18f3f8e",
        "IPY_MODEL_b7d19cc8ea454702a7b4a75b45251285"
       ],
       "layout": "IPY_MODEL_eb5d060992aa4c47ac17666c897f6d5d"
      }
     },
     "262bac3b4e18492ea089afa9beb90431": {
      "model_module": "@jupyter-widgets/base",
      "model_module_version": "1.1.0",
      "model_name": "LayoutModel",
      "state": {}
     },
     "262f13d2f7374dd3895fa15024fd5a8b": {
      "model_module": "@jupyter-widgets/controls",
      "model_module_version": "1.4.0",
      "model_name": "ButtonModel",
      "state": {
       "description": "1",
       "layout": "IPY_MODEL_d71b0589fc34461b81e22682dc2aa19a",
       "style": "IPY_MODEL_4ca97aeaf76647508c465985735a2cd0"
      }
     },
     "2669f3b30bb44d398f3e611979a1f0c2": {
      "model_module": "@jupyter-widgets/base",
      "model_module_version": "1.1.0",
      "model_name": "LayoutModel",
      "state": {
       "width": "95%"
      }
     },
     "266c2c794c4b4bff889132bd27359bdd": {
      "model_module": "@jupyter-widgets/controls",
      "model_module_version": "1.4.0",
      "model_name": "ButtonStyleModel",
      "state": {}
     },
     "266fb6350f8e4811b9e3dbb255d08f66": {
      "model_module": "@jupyter-widgets/output",
      "model_module_version": "1.0.0",
      "model_name": "OutputModel",
      "state": {
       "layout": "IPY_MODEL_c75f6fb1092247aab26f5f247f55e0ca"
      }
     },
     "267fe158e04a4152b9f47df58a34d22f": {
      "model_module": "@jupyter-widgets/output",
      "model_module_version": "1.0.0",
      "model_name": "OutputModel",
      "state": {
       "layout": "IPY_MODEL_374de5470b8e481380f60c7427b80deb"
      }
     },
     "268e07e0488840879e760f0a85be6982": {
      "model_module": "@jupyter-widgets/base",
      "model_module_version": "1.1.0",
      "model_name": "LayoutModel",
      "state": {
       "width": "95%"
      }
     },
     "26941265eba84c3b88d086689e9c4cfc": {
      "model_module": "@jupyter-widgets/base",
      "model_module_version": "1.1.0",
      "model_name": "LayoutModel",
      "state": {
       "width": "10%"
      }
     },
     "2696324852bf4f09b99f019cd99fe0fe": {
      "model_module": "@jupyter-widgets/base",
      "model_module_version": "1.1.0",
      "model_name": "LayoutModel",
      "state": {
       "width": "95%"
      }
     },
     "26a1000e43104f8d8ede427098a9fcb9": {
      "model_module": "@jupyter-widgets/controls",
      "model_module_version": "1.4.0",
      "model_name": "ButtonModel",
      "state": {
       "description": "6",
       "layout": "IPY_MODEL_f2c486e3c0ef47aeb4ee46bf87c77946",
       "style": "IPY_MODEL_a97ce57f516c455fae3ddbdf5c2f2ab5"
      }
     },
     "26a2aee80e9748b6b66b510567069e6f": {
      "model_module": "@jupyter-widgets/base",
      "model_module_version": "1.1.0",
      "model_name": "LayoutModel",
      "state": {
       "width": "10%"
      }
     },
     "26c1e6a922ce4be88ed3eba2f540bea4": {
      "model_module": "@jupyter-widgets/base",
      "model_module_version": "1.1.0",
      "model_name": "LayoutModel",
      "state": {}
     },
     "26f7361e49694e5f82347229544ac9da": {
      "model_module": "@jupyter-widgets/controls",
      "model_module_version": "1.4.0",
      "model_name": "ButtonStyleModel",
      "state": {}
     },
     "2744b6ab926f462b910b13d75f5f6377": {
      "model_module": "@jupyter-widgets/base",
      "model_module_version": "1.1.0",
      "model_name": "LayoutModel",
      "state": {
       "width": "10%"
      }
     },
     "2788b12266404270a33aa8bba02aeaf2": {
      "model_module": "@jupyter-widgets/base",
      "model_module_version": "1.1.0",
      "model_name": "LayoutModel",
      "state": {}
     },
     "279feb6a30ab4ab69c80fe6301a3d733": {
      "model_module": "@jupyter-widgets/output",
      "model_module_version": "1.0.0",
      "model_name": "OutputModel",
      "state": {
       "layout": "IPY_MODEL_ec6603f8bb4046a595e4736ccf7f0baa"
      }
     },
     "27a1740316084481a10eeaef8aa94170": {
      "model_module": "@jupyter-widgets/controls",
      "model_module_version": "1.4.0",
      "model_name": "ButtonModel",
      "state": {
       "description": "1",
       "layout": "IPY_MODEL_ee81f5c111ef444699d9e2584fc93cda",
       "style": "IPY_MODEL_e19c9f0a2ba34ba583c3966c4ba9b3df"
      }
     },
     "27a7c723d7104f4eabe4ef1a632ae6d7": {
      "model_module": "@jupyter-widgets/base",
      "model_module_version": "1.1.0",
      "model_name": "LayoutModel",
      "state": {
       "width": "95%"
      }
     },
     "27f9df7ffa474724b08c47e5f236343e": {
      "model_module": "@jupyter-widgets/base",
      "model_module_version": "1.1.0",
      "model_name": "LayoutModel",
      "state": {
       "width": "10%"
      }
     },
     "281463067b4a47e68829eeb1c835b19f": {
      "model_module": "@jupyter-widgets/controls",
      "model_module_version": "1.4.0",
      "model_name": "VBoxModel",
      "state": {
       "children": [
        "IPY_MODEL_4b25919e59d943e1b3e9c7d7fb3dfb64",
        "IPY_MODEL_13e550624756470596eb636e0e0fdd8b"
       ],
       "layout": "IPY_MODEL_5d4a39d1c732400cad9acc03af1f2e83"
      }
     },
     "281d0de540c34156aaf4b5faecbb1327": {
      "model_module": "@jupyter-widgets/base",
      "model_module_version": "1.1.0",
      "model_name": "LayoutModel",
      "state": {
       "width": "95%"
      }
     },
     "282f51fffc484d61a882a1d6bdd01653": {
      "model_module": "@jupyter-widgets/base",
      "model_module_version": "1.1.0",
      "model_name": "LayoutModel",
      "state": {}
     },
     "2831212355034136a6584842c0290f76": {
      "model_module": "@jupyter-widgets/base",
      "model_module_version": "1.1.0",
      "model_name": "LayoutModel",
      "state": {}
     },
     "283a4d6c99f144288127fc567b201a27": {
      "model_module": "@jupyter-widgets/base",
      "model_module_version": "1.1.0",
      "model_name": "LayoutModel",
      "state": {
       "width": "10%"
      }
     },
     "283f75e0e4c64c3187559ea8ed00038b": {
      "model_module": "@jupyter-widgets/output",
      "model_module_version": "1.0.0",
      "model_name": "OutputModel",
      "state": {
       "layout": "IPY_MODEL_6df768e23bae43fa91ef7fd58a9f5edb"
      }
     },
     "2841feac919349ca8865927445bd0705": {
      "model_module": "@jupyter-widgets/controls",
      "model_module_version": "1.4.0",
      "model_name": "VBoxModel",
      "state": {
       "children": [
        "IPY_MODEL_cdf1c44cf2414676af875ae2f0ad3a2b",
        "IPY_MODEL_b274a2568b124131a3b658221071fe15"
       ],
       "layout": "IPY_MODEL_b03ecff3924b4fdcb72844615b41db01"
      }
     },
     "284591d04f494bc1ba97a825ce19d48e": {
      "model_module": "@jupyter-widgets/controls",
      "model_module_version": "1.4.0",
      "model_name": "ButtonStyleModel",
      "state": {}
     },
     "284a6e66b6d74cd2ac8a6f0dc303add8": {
      "model_module": "@jupyter-widgets/output",
      "model_module_version": "1.0.0",
      "model_name": "OutputModel",
      "state": {
       "layout": "IPY_MODEL_665c2bbde2114b4a95b66dfbf3228c27"
      }
     },
     "2855b80f012547db9bdf29f0564216bb": {
      "model_module": "@jupyter-widgets/controls",
      "model_module_version": "1.4.0",
      "model_name": "VBoxModel",
      "state": {
       "children": [
        "IPY_MODEL_ee8dc3b153b3408dbde36c8dd1436ed0",
        "IPY_MODEL_77b6bf5b0b6d4c5c815432153a453145"
       ],
       "layout": "IPY_MODEL_af9f0397335049c1afe0e745fa35de7e"
      }
     },
     "286246c6235e48c2bc94722b9b74c1ea": {
      "model_module": "@jupyter-widgets/base",
      "model_module_version": "1.1.0",
      "model_name": "LayoutModel",
      "state": {
       "width": "95%"
      }
     },
     "287b8316d87449c4ab0207f089b75506": {
      "model_module": "@jupyter-widgets/controls",
      "model_module_version": "1.4.0",
      "model_name": "ButtonModel",
      "state": {
       "description": "7",
       "layout": "IPY_MODEL_942c4a1cb08c4f6f8fd839e491b9a74e",
       "style": "IPY_MODEL_0bff5b39211e4f8ab2bb4330f5925a08"
      }
     },
     "28b5f0af2cd644b89cd08f9da6d11adf": {
      "model_module": "@jupyter-widgets/controls",
      "model_module_version": "1.4.0",
      "model_name": "ButtonModel",
      "state": {
       "description": "6",
       "layout": "IPY_MODEL_9c4b1fa2cf1d4129aa26b9722005d68b",
       "style": "IPY_MODEL_01ac175092a3438faa0081b77396f4f0"
      }
     },
     "28c0a213908143679a5af6579264305a": {
      "model_module": "@jupyter-widgets/base",
      "model_module_version": "1.1.0",
      "model_name": "LayoutModel",
      "state": {}
     },
     "28f759ab31bf4fe78bad9fea05f027c9": {
      "model_module": "@jupyter-widgets/controls",
      "model_module_version": "1.4.0",
      "model_name": "VBoxModel",
      "state": {
       "children": [
        "IPY_MODEL_d4c06836e25f4a8ca06ee65d4db542b7",
        "IPY_MODEL_da1887c9ba4a48d9a9bb2b5dba3d4060"
       ],
       "layout": "IPY_MODEL_70ba13d49bfc4f799ec6b4e6cfcbb295"
      }
     },
     "2937ef73974d42c5a12cb01f13749a23": {
      "model_module": "@jupyter-widgets/controls",
      "model_module_version": "1.4.0",
      "model_name": "ButtonStyleModel",
      "state": {}
     },
     "2983ef2dccb14537beaa599e101a0b50": {
      "model_module": "@jupyter-widgets/base",
      "model_module_version": "1.1.0",
      "model_name": "LayoutModel",
      "state": {
       "width": "95%"
      }
     },
     "2985da123375473d9d3b6740f76f666e": {
      "model_module": "@jupyter-widgets/controls",
      "model_module_version": "1.4.0",
      "model_name": "ButtonStyleModel",
      "state": {}
     },
     "298fd2a5d0ad4e2f88c1401ec39ca985": {
      "model_module": "@jupyter-widgets/controls",
      "model_module_version": "1.4.0",
      "model_name": "HBoxModel",
      "state": {
       "children": [
        "IPY_MODEL_a7b44988270847eabb0bf8f369e3567b",
        "IPY_MODEL_8ff52e9bec0d4c2bbfd8b2d96b28d24c",
        "IPY_MODEL_85b809c18a6c4a50963c04ccc34d9c28"
       ],
       "layout": "IPY_MODEL_684def3665de49a7a9af86a31b9bc431"
      }
     },
     "29968662787342b49460198ccd1a5b82": {
      "model_module": "@jupyter-widgets/controls",
      "model_module_version": "1.4.0",
      "model_name": "HBoxModel",
      "state": {
       "children": [
        "IPY_MODEL_e385434b9d514f52885af30f6f22feb7",
        "IPY_MODEL_ec55fbbd26874ab6bf6121dd23e31c31"
       ],
       "layout": "IPY_MODEL_cd93bf28657646ca94505e231d3bdeeb"
      }
     },
     "29a91570ff17422fb9eded102469638e": {
      "model_module": "@jupyter-widgets/base",
      "model_module_version": "1.1.0",
      "model_name": "LayoutModel",
      "state": {}
     },
     "29b8cfaf9266488cad4781dfacca6b84": {
      "model_module": "@jupyter-widgets/base",
      "model_module_version": "1.1.0",
      "model_name": "LayoutModel",
      "state": {
       "width": "95%"
      }
     },
     "29c6f7d7ae2e46ed9d2bd44fcab9f744": {
      "model_module": "@jupyter-widgets/base",
      "model_module_version": "1.1.0",
      "model_name": "LayoutModel",
      "state": {
       "width": "10%"
      }
     },
     "29cc4565ce644df795cfb7debd9b841b": {
      "model_module": "@jupyter-widgets/controls",
      "model_module_version": "1.4.0",
      "model_name": "VBoxModel",
      "state": {
       "children": [
        "IPY_MODEL_effeb02337e6464ead9b3ec82ac8c741",
        "IPY_MODEL_e1c8c4e015d846ffb791f9f44de94adb"
       ],
       "layout": "IPY_MODEL_39b390e59840401f9639fcc9bb267c24"
      }
     },
     "2a04953cf2c140769d5a542336638470": {
      "model_module": "@jupyter-widgets/controls",
      "model_module_version": "1.4.0",
      "model_name": "VBoxModel",
      "state": {
       "children": [
        "IPY_MODEL_fbf329af6c8245568bca53f5b542a4b5",
        "IPY_MODEL_727eb6b507bc4d818ce3c0a5209e7cba"
       ],
       "layout": "IPY_MODEL_60274f60ff6b436781330697eb208a0b"
      }
     },
     "2a3040ebe008456eb131d808a9cde788": {
      "model_module": "@jupyter-widgets/base",
      "model_module_version": "1.1.0",
      "model_name": "LayoutModel",
      "state": {
       "width": "95%"
      }
     },
     "2a3c5faae8944220b22dee7810ac721c": {
      "model_module": "@jupyter-widgets/base",
      "model_module_version": "1.1.0",
      "model_name": "LayoutModel",
      "state": {}
     },
     "2a3cfc67a2c04025bfd18871c1a6b063": {
      "model_module": "@jupyter-widgets/base",
      "model_module_version": "1.1.0",
      "model_name": "LayoutModel",
      "state": {
       "width": "10%"
      }
     },
     "2a3f2920a8fd4bf8a85bf441881e9c5f": {
      "model_module": "@jupyter-widgets/base",
      "model_module_version": "1.1.0",
      "model_name": "LayoutModel",
      "state": {
       "width": "95%"
      }
     },
     "2a3fc7739569478795452204c611b332": {
      "model_module": "@jupyter-widgets/controls",
      "model_module_version": "1.4.0",
      "model_name": "ButtonStyleModel",
      "state": {}
     },
     "2a5040d106d7441988ba5ce001def945": {
      "model_module": "@jupyter-widgets/controls",
      "model_module_version": "1.4.0",
      "model_name": "ButtonStyleModel",
      "state": {}
     },
     "2a52fec744044f90895ce895c44cf483": {
      "model_module": "@jupyter-widgets/controls",
      "model_module_version": "1.4.0",
      "model_name": "ButtonStyleModel",
      "state": {}
     },
     "2a7133b130f44998a623eb95f6171c6b": {
      "model_module": "@jupyter-widgets/base",
      "model_module_version": "1.1.0",
      "model_name": "LayoutModel",
      "state": {}
     },
     "2a84a069c8364479ac431b5d8942ec61": {
      "model_module": "@jupyter-widgets/base",
      "model_module_version": "1.1.0",
      "model_name": "LayoutModel",
      "state": {
       "width": "95%"
      }
     },
     "2a880a5f71704736afc0959bc4a8f0e6": {
      "model_module": "@jupyter-widgets/controls",
      "model_module_version": "1.4.0",
      "model_name": "HBoxModel",
      "state": {
       "children": [
        "IPY_MODEL_8184bac8f1a64344af59f85e23d95852",
        "IPY_MODEL_0710e82dd8d445acb56030664c1897c8",
        "IPY_MODEL_5a74f0a424f14299af13cc3550109e66",
        "IPY_MODEL_64b3b245dd1f4aaabbb7475ccf3db8bc",
        "IPY_MODEL_ad55b2eb89fe449680268f8cebe25456",
        "IPY_MODEL_878abc9f0387403fb96f7193403e89d4",
        "IPY_MODEL_d162c17a9c7a4c3491e0308410894dca",
        "IPY_MODEL_fa97e3d4f6914f659eadb73992f9a6e9",
        "IPY_MODEL_950ca2506a99424da40c99a656657dc6",
        "IPY_MODEL_fbdd04560d734d3d93f851d01bb44784"
       ],
       "layout": "IPY_MODEL_c8acedb6eb904b2087499545d4f31a74"
      }
     },
     "2aca1536b8b64805b73832200aaa0ffa": {
      "model_module": "@jupyter-widgets/base",
      "model_module_version": "1.1.0",
      "model_name": "LayoutModel",
      "state": {
       "justify_content": "space-between"
      }
     },
     "2ace090e2bfc450f82ccaee97712c80f": {
      "model_module": "@jupyter-widgets/base",
      "model_module_version": "1.1.0",
      "model_name": "LayoutModel",
      "state": {
       "width": "10%"
      }
     },
     "2aed4705c30d486f98cfa2aa2e796492": {
      "model_module": "@jupyter-widgets/controls",
      "model_module_version": "1.4.0",
      "model_name": "VBoxModel",
      "state": {
       "children": [
        "IPY_MODEL_ff496ad485744f8483565153efd7abd5",
        "IPY_MODEL_d079bff232bf44618a1e9c25e327d149"
       ],
       "layout": "IPY_MODEL_1e3655e54aed4f65b1ace7d90923437c"
      }
     },
     "2b1d9f1e6c6c403fa1e99b6674809a12": {
      "model_module": "@jupyter-widgets/output",
      "model_module_version": "1.0.0",
      "model_name": "OutputModel",
      "state": {
       "layout": "IPY_MODEL_32d1011cff4444449f4c3dfda41dfa64"
      }
     },
     "2b247cac9b444b9d8de0d09c140807a8": {
      "model_module": "@jupyter-widgets/controls",
      "model_module_version": "1.4.0",
      "model_name": "ButtonModel",
      "state": {
       "description": "9",
       "layout": "IPY_MODEL_7dfc6dfacd81480abb00e166d8fd3b10",
       "style": "IPY_MODEL_30e02788c3cf4787b5fcf5295eabda83"
      }
     },
     "2b2719a536d94ea38e842c15657b50e8": {
      "model_module": "@jupyter-widgets/base",
      "model_module_version": "1.1.0",
      "model_name": "LayoutModel",
      "state": {
       "width": "95%"
      }
     },
     "2b38e51ccf6b4947a029db8f80305a44": {
      "model_module": "@jupyter-widgets/output",
      "model_module_version": "1.0.0",
      "model_name": "OutputModel",
      "state": {
       "layout": "IPY_MODEL_08586a53e77e44df9132a607ee680c8a"
      }
     },
     "2b61fde1d56d4841be048a0eb70e9372": {
      "model_module": "@jupyter-widgets/output",
      "model_module_version": "1.0.0",
      "model_name": "OutputModel",
      "state": {
       "layout": "IPY_MODEL_37276ef7d0b64639a5cc3654c24f20a5"
      }
     },
     "2b638de12e134a7195f902fac17fe04b": {
      "model_module": "@jupyter-widgets/controls",
      "model_module_version": "1.4.0",
      "model_name": "VBoxModel",
      "state": {
       "children": [
        "IPY_MODEL_84adc9ceb0d24c5fb7c8b7e76a0186f7",
        "IPY_MODEL_e0f2d614b15846c5890ce2b1e4f1dd9e"
       ],
       "layout": "IPY_MODEL_bd9b322a15e845dcbeccf1d7e4d22edf"
      }
     },
     "2b677ac27e2847af90dd4a1b5ef3fb51": {
      "model_module": "@jupyter-widgets/output",
      "model_module_version": "1.0.0",
      "model_name": "OutputModel",
      "state": {
       "layout": "IPY_MODEL_c273adbc3ae249a786492516ae1739c1"
      }
     },
     "2b7d4eae745a4606a43f435eeafc29fe": {
      "model_module": "@jupyter-widgets/controls",
      "model_module_version": "1.4.0",
      "model_name": "ButtonModel",
      "state": {
       "description": "5",
       "layout": "IPY_MODEL_8dbc129078044db0a5f436c8b6746bd8",
       "style": "IPY_MODEL_d134d035de2046b5bebb7b256754dca5"
      }
     },
     "2b85718efa634cb186ffc44a9036848c": {
      "model_module": "@jupyter-widgets/base",
      "model_module_version": "1.1.0",
      "model_name": "LayoutModel",
      "state": {
       "width": "10%"
      }
     },
     "2b8fd9c4ee1d46a48209dc1665301b76": {
      "model_module": "@jupyter-widgets/base",
      "model_module_version": "1.1.0",
      "model_name": "LayoutModel",
      "state": {}
     },
     "2bb46a2bfd0547ff81bd3077ef2432b3": {
      "model_module": "@jupyter-widgets/base",
      "model_module_version": "1.1.0",
      "model_name": "LayoutModel",
      "state": {
       "width": "10%"
      }
     },
     "2bcc15ea109a4304a92eb3ddfa516cdf": {
      "model_module": "@jupyter-widgets/base",
      "model_module_version": "1.1.0",
      "model_name": "LayoutModel",
      "state": {}
     },
     "2bdda7a71cc94f8aba52031668c4de19": {
      "model_module": "@jupyter-widgets/base",
      "model_module_version": "1.1.0",
      "model_name": "LayoutModel",
      "state": {}
     },
     "2be5f5b374914398aea6a3f58ecb5c99": {
      "model_module": "@jupyter-widgets/base",
      "model_module_version": "1.1.0",
      "model_name": "LayoutModel",
      "state": {
       "width": "95%"
      }
     },
     "2bf3451629f1456c8fa7c077c33abc94": {
      "model_module": "@jupyter-widgets/base",
      "model_module_version": "1.1.0",
      "model_name": "LayoutModel",
      "state": {
       "width": "95%"
      }
     },
     "2bf6e7f7f4574dae870149bbf839a657": {
      "model_module": "@jupyter-widgets/controls",
      "model_module_version": "1.4.0",
      "model_name": "VBoxModel",
      "state": {
       "children": [
        "IPY_MODEL_637a890b2125458297ce791a947e1f99",
        "IPY_MODEL_a39e472b95c542ddbe9dfe3af05fd0a7"
       ],
       "layout": "IPY_MODEL_76f1af4250fd4e9aab8299e883d100a5"
      }
     },
     "2c1f9975a0c847ef8b318b3e8916bbbe": {
      "model_module": "@jupyter-widgets/controls",
      "model_module_version": "1.4.0",
      "model_name": "ButtonModel",
      "state": {
       "description": "6",
       "layout": "IPY_MODEL_a9c91c8980ac4d168ad8cf38a3cfc2e5",
       "style": "IPY_MODEL_c88169d9dde04278af2d0fcf1b7528de"
      }
     },
     "2c2e23bf17e3459ca1e0300296c369dd": {
      "model_module": "@jupyter-widgets/base",
      "model_module_version": "1.1.0",
      "model_name": "LayoutModel",
      "state": {}
     },
     "2c36a33e9b0b43ef9492b1d4d43672f8": {
      "model_module": "@jupyter-widgets/controls",
      "model_module_version": "1.4.0",
      "model_name": "VBoxModel",
      "state": {
       "children": [
        "IPY_MODEL_89cbcab25e4f4c1c893a5ed1ad81b17b",
        "IPY_MODEL_1b60142952134c9c80aab078601ad5c5"
       ],
       "layout": "IPY_MODEL_4aa50343b65d4bef9e958f1cbcc52d19"
      }
     },
     "2c449a9a128145668b8b15f7df754948": {
      "model_module": "@jupyter-widgets/base",
      "model_module_version": "1.1.0",
      "model_name": "LayoutModel",
      "state": {
       "width": "10%"
      }
     },
     "2c4be5d680ff49a195b2ad36e9f10bbf": {
      "model_module": "@jupyter-widgets/base",
      "model_module_version": "1.1.0",
      "model_name": "LayoutModel",
      "state": {
       "width": "95%"
      }
     },
     "2c662be5e1b1488b80f4ecbc7fccb774": {
      "model_module": "@jupyter-widgets/base",
      "model_module_version": "1.1.0",
      "model_name": "LayoutModel",
      "state": {}
     },
     "2c7d00c9aca14ba49b85c6a511a5c42f": {
      "model_module": "@jupyter-widgets/output",
      "model_module_version": "1.0.0",
      "model_name": "OutputModel",
      "state": {
       "layout": "IPY_MODEL_22e062573ab041f18368217ad0774b5d"
      }
     },
     "2c92611628af43ed891989a0150faf75": {
      "model_module": "@jupyter-widgets/controls",
      "model_module_version": "1.4.0",
      "model_name": "VBoxModel",
      "state": {
       "children": [
        "IPY_MODEL_400a70fa6d7d4fe3b04bde5736a9599f",
        "IPY_MODEL_d94f336bd1a14c63bba012e83646f8b6"
       ],
       "layout": "IPY_MODEL_a0849cc33e714d4b90aee7d13407fe4a"
      }
     },
     "2ca9af49c2ed41bd9b57409c9088fb64": {
      "model_module": "@jupyter-widgets/base",
      "model_module_version": "1.1.0",
      "model_name": "LayoutModel",
      "state": {
       "justify_content": "space-between"
      }
     },
     "2cabebbce2274627986849c095e10e47": {
      "model_module": "@jupyter-widgets/base",
      "model_module_version": "1.1.0",
      "model_name": "LayoutModel",
      "state": {}
     },
     "2cac3648449f460ea51911d818493da1": {
      "model_module": "@jupyter-widgets/controls",
      "model_module_version": "1.4.0",
      "model_name": "ButtonModel",
      "state": {
       "description": "2",
       "layout": "IPY_MODEL_f6b83c6e0ab84e11a374d163109c2276",
       "style": "IPY_MODEL_d1ac49906c334de7b9e77f59f9e69a5d"
      }
     },
     "2cac974c2ba640f5bf89a70b580603f1": {
      "model_module": "@jupyter-widgets/base",
      "model_module_version": "1.1.0",
      "model_name": "LayoutModel",
      "state": {
       "width": "10%"
      }
     },
     "2cb08db94e324f85ae374ead57470388": {
      "model_module": "@jupyter-widgets/controls",
      "model_module_version": "1.4.0",
      "model_name": "ButtonStyleModel",
      "state": {}
     },
     "2cb71bc8af7042a7b7888ab226d1d56a": {
      "model_module": "@jupyter-widgets/base",
      "model_module_version": "1.1.0",
      "model_name": "LayoutModel",
      "state": {}
     },
     "2cbd59d4af7c4704bc6061dd2b2a7ac0": {
      "model_module": "@jupyter-widgets/controls",
      "model_module_version": "1.4.0",
      "model_name": "ButtonModel",
      "state": {
       "description": "4",
       "layout": "IPY_MODEL_f95d3019a8764de7a5326d41a0789cb1",
       "style": "IPY_MODEL_47f22cc3c0c747399c130d98e1dc9067"
      }
     },
     "2d59a0e309ec4329b5af3ec024c0c68e": {
      "model_module": "@jupyter-widgets/controls",
      "model_module_version": "1.4.0",
      "model_name": "ButtonModel",
      "state": {
       "description": "0",
       "layout": "IPY_MODEL_ea06d1e4853a44698dc7060342b41273",
       "style": "IPY_MODEL_a02a0b7441174a6985ba97a368b09bf4"
      }
     },
     "2d6bea2eef484fa38cdf274aa20e02a0": {
      "model_module": "@jupyter-widgets/controls",
      "model_module_version": "1.4.0",
      "model_name": "ButtonModel",
      "state": {
       "description": "0",
       "layout": "IPY_MODEL_a7d63b8b36104ad2a4034edde30b090e",
       "style": "IPY_MODEL_714ef665a6e44253a0d3a444633285e0"
      }
     },
     "2d9e5e11573245e385ae944ab5c507df": {
      "model_module": "@jupyter-widgets/controls",
      "model_module_version": "1.4.0",
      "model_name": "ButtonModel",
      "state": {
       "description": "4",
       "layout": "IPY_MODEL_90e9b027fb954267be8c7ea68038d5f1",
       "style": "IPY_MODEL_0431ca2e52a9448f80dcb54233b57caa"
      }
     },
     "2da88841373e461d92c819079813fb34": {
      "model_module": "@jupyter-widgets/base",
      "model_module_version": "1.1.0",
      "model_name": "LayoutModel",
      "state": {}
     },
     "2dadeb89e93d4771a0d8a12f9af78645": {
      "model_module": "@jupyter-widgets/controls",
      "model_module_version": "1.4.0",
      "model_name": "ButtonModel",
      "state": {
       "description": "1",
       "layout": "IPY_MODEL_1cc872fe9dcb4655aa20436c0f44775e",
       "style": "IPY_MODEL_c98934aa533d4c9c9052070b631ca763"
      }
     },
     "2db50df123e2426182990fc95ff17de0": {
      "model_module": "@jupyter-widgets/controls",
      "model_module_version": "1.4.0",
      "model_name": "ButtonModel",
      "state": {
       "description": "2",
       "layout": "IPY_MODEL_8263ff3888804ea18ee3103a71c6971f",
       "style": "IPY_MODEL_409b69622a44443cb3ead8d9bf9640d3"
      }
     },
     "2ddadb92183943d6ad25e2ce1803aede": {
      "model_module": "@jupyter-widgets/controls",
      "model_module_version": "1.4.0",
      "model_name": "ButtonStyleModel",
      "state": {}
     },
     "2def452cece94d7b9b0601b85859e549": {
      "model_module": "@jupyter-widgets/base",
      "model_module_version": "1.1.0",
      "model_name": "LayoutModel",
      "state": {}
     },
     "2e126f6386684aa4a0f37905bad2af58": {
      "model_module": "@jupyter-widgets/controls",
      "model_module_version": "1.4.0",
      "model_name": "ButtonModel",
      "state": {
       "description": "7",
       "layout": "IPY_MODEL_de9f139a3a884c52aa4e3bca3159852c",
       "style": "IPY_MODEL_4ab51f091f1b4857be78a7a1cbfc3366"
      }
     },
     "2e1467257c474e29a4d8c5d404831723": {
      "model_module": "@jupyter-widgets/output",
      "model_module_version": "1.0.0",
      "model_name": "OutputModel",
      "state": {
       "layout": "IPY_MODEL_93767b90a133400aab026620fb9a4886"
      }
     },
     "2e1583bb4ab642989994253d50ed78ab": {
      "model_module": "@jupyter-widgets/controls",
      "model_module_version": "1.4.0",
      "model_name": "ButtonModel",
      "state": {
       "description": "7",
       "layout": "IPY_MODEL_deda5aadc35640429e9f3aabe6802b8c",
       "style": "IPY_MODEL_89d5a68b2d544967b2939346c4d38e4a"
      }
     },
     "2e5449cb488149f5968a5a64705c8040": {
      "model_module": "@jupyter-widgets/controls",
      "model_module_version": "1.4.0",
      "model_name": "VBoxModel",
      "state": {
       "children": [
        "IPY_MODEL_3925716732744c1c9765e4f6242b4c3c",
        "IPY_MODEL_f06606ff0bbc4a9d8667cf8f6787a693"
       ],
       "layout": "IPY_MODEL_397a0c4f4cc34737b2464901f41af619"
      }
     },
     "2e763551f5fa4187945d76ec16b54821": {
      "model_module": "@jupyter-widgets/base",
      "model_module_version": "1.1.0",
      "model_name": "LayoutModel",
      "state": {}
     },
     "2e77c1e9d9e2409db6f51c017734fd4e": {
      "model_module": "@jupyter-widgets/controls",
      "model_module_version": "1.4.0",
      "model_name": "VBoxModel",
      "state": {
       "children": [
        "IPY_MODEL_99f4178f4f4742e4a847f960b2bebe24",
        "IPY_MODEL_f8ad38e0b7fd42b38f46ce8db2c70634"
       ],
       "layout": "IPY_MODEL_7a0c40e44c2a4d63b2ec1ae7912b2ded"
      }
     },
     "2e7940836db34705b65b820759964a70": {
      "model_module": "@jupyter-widgets/controls",
      "model_module_version": "1.4.0",
      "model_name": "ButtonStyleModel",
      "state": {}
     },
     "2e8a3c1d720c4c799be69415c4fe7742": {
      "model_module": "@jupyter-widgets/output",
      "model_module_version": "1.0.0",
      "model_name": "OutputModel",
      "state": {
       "layout": "IPY_MODEL_178172c8f268456f9f2ee7fadb848571"
      }
     },
     "2e97090e4d774cd3974d8edb8b555d54": {
      "model_module": "@jupyter-widgets/base",
      "model_module_version": "1.1.0",
      "model_name": "LayoutModel",
      "state": {
       "width": "10%"
      }
     },
     "2e9bb071576e4fe6bdb9fbd4421ea301": {
      "model_module": "@jupyter-widgets/controls",
      "model_module_version": "1.4.0",
      "model_name": "ButtonModel",
      "state": {
       "description": "7",
       "layout": "IPY_MODEL_b9eeced62c77476680d3310ba2110189",
       "style": "IPY_MODEL_3676e85409b740c8b7402fdb84e5cb9f"
      }
     },
     "2eaa5c7871bf4e27ae99eacafd939746": {
      "model_module": "@jupyter-widgets/controls",
      "model_module_version": "1.4.0",
      "model_name": "VBoxModel",
      "state": {
       "children": [
        "IPY_MODEL_bf9092067adf44798284e052a1ab9ced",
        "IPY_MODEL_3b30aba77c334a31b28011bd7f5ef238"
       ],
       "layout": "IPY_MODEL_cc7f121f35fd49dca0b3701daaad1ad0"
      }
     },
     "2eac8677e1114823a83e9924120935fe": {
      "model_module": "@jupyter-widgets/base",
      "model_module_version": "1.1.0",
      "model_name": "LayoutModel",
      "state": {
       "width": "10%"
      }
     },
     "2ece00853c374a72ae99bb82da3ceb29": {
      "model_module": "@jupyter-widgets/base",
      "model_module_version": "1.1.0",
      "model_name": "LayoutModel",
      "state": {
       "width": "10%"
      }
     },
     "2edb790f5d534c2d89dda4f107b50c25": {
      "model_module": "@jupyter-widgets/base",
      "model_module_version": "1.1.0",
      "model_name": "LayoutModel",
      "state": {
       "width": "10%"
      }
     },
     "2eeafa9a1cd643d2a01e2f5a63fc9eb3": {
      "model_module": "@jupyter-widgets/output",
      "model_module_version": "1.0.0",
      "model_name": "OutputModel",
      "state": {
       "layout": "IPY_MODEL_859d15a76ab74fa998814619ea4437f4"
      }
     },
     "2ef27f85a8a5485389b248fa2cb86114": {
      "model_module": "@jupyter-widgets/output",
      "model_module_version": "1.0.0",
      "model_name": "OutputModel",
      "state": {
       "layout": "IPY_MODEL_3aef9bbdfe0b43219a90b6e6cf86909e"
      }
     },
     "2f0c699761d449e19dc09740af9fb8c9": {
      "model_module": "@jupyter-widgets/base",
      "model_module_version": "1.1.0",
      "model_name": "LayoutModel",
      "state": {
       "width": "95%"
      }
     },
     "2f421c5f19b54f00a033c92175fe9d9b": {
      "model_module": "@jupyter-widgets/base",
      "model_module_version": "1.1.0",
      "model_name": "LayoutModel",
      "state": {}
     },
     "2f9789309d7b4688831b64d55d2bde97": {
      "model_module": "@jupyter-widgets/controls",
      "model_module_version": "1.4.0",
      "model_name": "VBoxModel",
      "state": {
       "children": [
        "IPY_MODEL_2e1583bb4ab642989994253d50ed78ab",
        "IPY_MODEL_393146886df34767ad917630edbe1a09"
       ],
       "layout": "IPY_MODEL_501805f636b847ba9b8c1885b5add93d"
      }
     },
     "2faab51acba846d8bbf1cbc9bdadec21": {
      "model_module": "@jupyter-widgets/controls",
      "model_module_version": "1.4.0",
      "model_name": "ButtonModel",
      "state": {
       "description": "4",
       "layout": "IPY_MODEL_abc572b1c8484e4499328e45cece915b",
       "style": "IPY_MODEL_c440161c3cd84e6a815e881149257d94"
      }
     },
     "2fc23ef4963c4f5fb53d0b82895809df": {
      "model_module": "@jupyter-widgets/base",
      "model_module_version": "1.1.0",
      "model_name": "LayoutModel",
      "state": {}
     },
     "2fecba526004410e8abc3e76b7a82ef2": {
      "model_module": "@jupyter-widgets/base",
      "model_module_version": "1.1.0",
      "model_name": "LayoutModel",
      "state": {
       "width": "10%"
      }
     },
     "3005aafa413d48738cc2ceca22abe410": {
      "model_module": "@jupyter-widgets/base",
      "model_module_version": "1.1.0",
      "model_name": "LayoutModel",
      "state": {
       "width": "10%"
      }
     },
     "3018703fc69b4666833a7c89a6281757": {
      "model_module": "@jupyter-widgets/controls",
      "model_module_version": "1.4.0",
      "model_name": "HBoxModel",
      "state": {
       "children": [
        "IPY_MODEL_a7b44988270847eabb0bf8f369e3567b",
        "IPY_MODEL_8ff52e9bec0d4c2bbfd8b2d96b28d24c",
        "IPY_MODEL_85b809c18a6c4a50963c04ccc34d9c28"
       ],
       "layout": "IPY_MODEL_171a66dbc6d54d1fae9844a3b9416e19"
      }
     },
     "3046a0632c5745bba10b2069a23e83f4": {
      "model_module": "@jupyter-widgets/controls",
      "model_module_version": "1.4.0",
      "model_name": "ButtonStyleModel",
      "state": {}
     },
     "304e37ed05624c93917487b81efa6a47": {
      "model_module": "@jupyter-widgets/base",
      "model_module_version": "1.1.0",
      "model_name": "LayoutModel",
      "state": {
       "width": "95%"
      }
     },
     "305c6a4474574d4188c6d6318eff9181": {
      "model_module": "@jupyter-widgets/controls",
      "model_module_version": "1.4.0",
      "model_name": "VBoxModel",
      "state": {
       "children": [
        "IPY_MODEL_cc2cb1707dea429a9457d2b8e9919399",
        "IPY_MODEL_ef61b5513a0f4793af409354cc2d0b2e"
       ],
       "layout": "IPY_MODEL_f5cfef3f743a49d69b990aa9e1f1a2df"
      }
     },
     "306814bba873403887a0e954e27e3b92": {
      "model_module": "@jupyter-widgets/controls",
      "model_module_version": "1.4.0",
      "model_name": "ButtonModel",
      "state": {
       "description": "8",
       "layout": "IPY_MODEL_bb04da4a297a4c3080b9cccfff8dbfdf",
       "style": "IPY_MODEL_f877db10e72f425a97b291db39622f76"
      }
     },
     "3083af3ba9c8467aafc16cfa95e9ae57": {
      "model_module": "@jupyter-widgets/controls",
      "model_module_version": "1.4.0",
      "model_name": "ButtonStyleModel",
      "state": {}
     },
     "3085b70f00dc4f5a9bcf8a0de5234824": {
      "model_module": "@jupyter-widgets/base",
      "model_module_version": "1.1.0",
      "model_name": "LayoutModel",
      "state": {
       "width": "10%"
      }
     },
     "308f229def7843539faebd821403f5ea": {
      "model_module": "@jupyter-widgets/output",
      "model_module_version": "1.0.0",
      "model_name": "OutputModel",
      "state": {
       "layout": "IPY_MODEL_faf6497e0b4c4d1ba6f2ba92d932fb9f"
      }
     },
     "30b3994fd79c44ec83c136d8e81ad2f8": {
      "model_module": "@jupyter-widgets/controls",
      "model_module_version": "1.4.0",
      "model_name": "VBoxModel",
      "state": {
       "children": [
        "IPY_MODEL_22e68bd0fa5e48dbb28feca2bc934324",
        "IPY_MODEL_25c6e44f49aa49069be209548c3bada7"
       ],
       "layout": "IPY_MODEL_8c3c22f02bfd49109d9cac16818bbaa5"
      }
     },
     "30c0d3d163a2421bbf2e937518f1e25d": {
      "model_module": "@jupyter-widgets/output",
      "model_module_version": "1.0.0",
      "model_name": "OutputModel",
      "state": {
       "layout": "IPY_MODEL_31437c431e8c45bcaeb57640c7be2621"
      }
     },
     "30c7a141896243a2863378cab7932d01": {
      "model_module": "@jupyter-widgets/base",
      "model_module_version": "1.1.0",
      "model_name": "LayoutModel",
      "state": {
       "justify_content": "space-between"
      }
     },
     "30e02788c3cf4787b5fcf5295eabda83": {
      "model_module": "@jupyter-widgets/controls",
      "model_module_version": "1.4.0",
      "model_name": "ButtonStyleModel",
      "state": {}
     },
     "30e27ece188248d2bb65806aae6af628": {
      "model_module": "@jupyter-widgets/base",
      "model_module_version": "1.1.0",
      "model_name": "LayoutModel",
      "state": {}
     },
     "30e4aae371504371a4afb0807b54b182": {
      "model_module": "@jupyter-widgets/controls",
      "model_module_version": "1.4.0",
      "model_name": "HBoxModel",
      "state": {
       "children": [
        "IPY_MODEL_a7b44988270847eabb0bf8f369e3567b",
        "IPY_MODEL_8ff52e9bec0d4c2bbfd8b2d96b28d24c",
        "IPY_MODEL_85b809c18a6c4a50963c04ccc34d9c28"
       ],
       "layout": "IPY_MODEL_a7e651e2244e413fb0ad36b449cd563f"
      }
     },
     "30e9781cb4a04001a4d5405c632f7db3": {
      "model_module": "@jupyter-widgets/base",
      "model_module_version": "1.1.0",
      "model_name": "LayoutModel",
      "state": {
       "width": "10%"
      }
     },
     "31068b2c63014d23bedfcdd1997c08b5": {
      "model_module": "@jupyter-widgets/controls",
      "model_module_version": "1.4.0",
      "model_name": "ButtonStyleModel",
      "state": {}
     },
     "310fcade310245c0a1dd6e27f950c871": {
      "model_module": "@jupyter-widgets/controls",
      "model_module_version": "1.4.0",
      "model_name": "ButtonStyleModel",
      "state": {}
     },
     "3127b7de79f342f285fc8cc860322eb8": {
      "model_module": "@jupyter-widgets/controls",
      "model_module_version": "1.4.0",
      "model_name": "ButtonModel",
      "state": {
       "description": "0",
       "layout": "IPY_MODEL_2f0c699761d449e19dc09740af9fb8c9",
       "style": "IPY_MODEL_985504b99f3d46a2808be136d4351da6"
      }
     },
     "312fbfa4f82243098661cd312cec4df7": {
      "model_module": "@jupyter-widgets/base",
      "model_module_version": "1.1.0",
      "model_name": "LayoutModel",
      "state": {
       "width": "95%"
      }
     },
     "31437c431e8c45bcaeb57640c7be2621": {
      "model_module": "@jupyter-widgets/base",
      "model_module_version": "1.1.0",
      "model_name": "LayoutModel",
      "state": {}
     },
     "31baafd389a1475896e9d502675b709d": {
      "model_module": "@jupyter-widgets/controls",
      "model_module_version": "1.4.0",
      "model_name": "ButtonStyleModel",
      "state": {}
     },
     "31db980a938d4a74960432ec1879b4e8": {
      "model_module": "@jupyter-widgets/base",
      "model_module_version": "1.1.0",
      "model_name": "LayoutModel",
      "state": {
       "width": "95%"
      }
     },
     "31dd2bdd4343475db1e304785d0873c8": {
      "model_module": "@jupyter-widgets/base",
      "model_module_version": "1.1.0",
      "model_name": "LayoutModel",
      "state": {
       "width": "10%"
      }
     },
     "31e33ad691fa45fc9bea56af49996b54": {
      "model_module": "@jupyter-widgets/base",
      "model_module_version": "1.1.0",
      "model_name": "LayoutModel",
      "state": {
       "width": "10%"
      }
     },
     "3219fb492c3d4e94ad13846b8a393cc9": {
      "model_module": "@jupyter-widgets/controls",
      "model_module_version": "1.4.0",
      "model_name": "ButtonModel",
      "state": {
       "description": "5",
       "layout": "IPY_MODEL_202a554bd183448e9ee699f1756dd9c4",
       "style": "IPY_MODEL_8393c5a721e94559b08ab0512366fca3"
      }
     },
     "321b8e3dca274d8c9a8528313e980581": {
      "model_module": "@jupyter-widgets/controls",
      "model_module_version": "1.4.0",
      "model_name": "VBoxModel",
      "state": {
       "children": [
        "IPY_MODEL_709c76fd0ed847b7ab602f09c430d5f0",
        "IPY_MODEL_335951b6eb9242c690923fde3862d644"
       ],
       "layout": "IPY_MODEL_db72d52761704ce68713f05a8e428762"
      }
     },
     "32225c7ee313479389d8fdffb3c3796f": {
      "model_module": "@jupyter-widgets/controls",
      "model_module_version": "1.4.0",
      "model_name": "ButtonModel",
      "state": {
       "description": "7",
       "layout": "IPY_MODEL_739801e9c00e4562b0ec5a8efa16de02",
       "style": "IPY_MODEL_984462c4b2bb48d88368333cbd32b801"
      }
     },
     "322ce867f8d540edb593720567774c63": {
      "model_module": "@jupyter-widgets/output",
      "model_module_version": "1.0.0",
      "model_name": "OutputModel",
      "state": {
       "layout": "IPY_MODEL_5e0b5bbd5d004ac388924fc515724f15"
      }
     },
     "32332bc12bbb43cbbdb709c55f3042fd": {
      "model_module": "@jupyter-widgets/controls",
      "model_module_version": "1.4.0",
      "model_name": "VBoxModel",
      "state": {
       "children": [
        "IPY_MODEL_07c71278468b4e309a0697549451f0eb",
        "IPY_MODEL_e30d05b6cb6048cfb77fc53b3ffeb088"
       ],
       "layout": "IPY_MODEL_dfff80a8f7e74e40903ef0c006dad13a"
      }
     },
     "32438bf9ab2644af871ad9a7c165eae9": {
      "model_module": "@jupyter-widgets/output",
      "model_module_version": "1.0.0",
      "model_name": "OutputModel",
      "state": {
       "layout": "IPY_MODEL_75b42e6fa52c464b844e87ca0d9505ee"
      }
     },
     "324a75819289421ca2ddb847ad0210d8": {
      "model_module": "@jupyter-widgets/controls",
      "model_module_version": "1.4.0",
      "model_name": "VBoxModel",
      "state": {
       "children": [
        "IPY_MODEL_11a85c7069f24f96bfa82a490f842273",
        "IPY_MODEL_fe81e6a7812e4045a7c7dd3b051f9eab"
       ],
       "layout": "IPY_MODEL_9bfcd4d0765646539184cb6b1548dafd"
      }
     },
     "32587a6e64984577897ff0f06db62607": {
      "model_module": "@jupyter-widgets/base",
      "model_module_version": "1.1.0",
      "model_name": "LayoutModel",
      "state": {}
     },
     "3288eebef05a45039a6041c0d8dceb72": {
      "model_module": "@jupyter-widgets/base",
      "model_module_version": "1.1.0",
      "model_name": "LayoutModel",
      "state": {}
     },
     "329d5df3afea4c46b7752807122501cc": {
      "model_module": "@jupyter-widgets/controls",
      "model_module_version": "1.4.0",
      "model_name": "TextModel",
      "state": {
       "description": "Other:",
       "layout": "IPY_MODEL_2c662be5e1b1488b80f4ecbc7fccb774",
       "placeholder": "Hit enter to submit.",
       "style": "IPY_MODEL_94e0e234a2924d7ea8a8d03655ac2560"
      }
     },
     "32a4c803437f466a9b957e4af733614c": {
      "model_module": "@jupyter-widgets/base",
      "model_module_version": "1.1.0",
      "model_name": "LayoutModel",
      "state": {}
     },
     "32b68ad47b6b41b4966273c36d2bb280": {
      "model_module": "@jupyter-widgets/base",
      "model_module_version": "1.1.0",
      "model_name": "LayoutModel",
      "state": {
       "width": "10%"
      }
     },
     "32d1011cff4444449f4c3dfda41dfa64": {
      "model_module": "@jupyter-widgets/base",
      "model_module_version": "1.1.0",
      "model_name": "LayoutModel",
      "state": {}
     },
     "32d36220980348b29f215f92d1c58a30": {
      "model_module": "@jupyter-widgets/base",
      "model_module_version": "1.1.0",
      "model_name": "LayoutModel",
      "state": {
       "width": "95%"
      }
     },
     "32f28a68e1dd4d92ae26b1375458fbc7": {
      "model_module": "@jupyter-widgets/controls",
      "model_module_version": "1.4.0",
      "model_name": "ButtonModel",
      "state": {
       "description": "1",
       "layout": "IPY_MODEL_1b10c1955abb444592148b3512a4592a",
       "style": "IPY_MODEL_105f1e0ff07d4d049df883ad7f721a28"
      }
     },
     "33220131e26649d38b44388a4f810e70": {
      "model_module": "@jupyter-widgets/controls",
      "model_module_version": "1.4.0",
      "model_name": "TextModel",
      "state": {
       "description": "Other:",
       "layout": "IPY_MODEL_2a7133b130f44998a623eb95f6171c6b",
       "placeholder": "Hit enter to submit.",
       "style": "IPY_MODEL_ee755efa49ae41ae97aa6875fd27e3bf"
      }
     },
     "3340f9bf7dca4b4282042fc2a53c9249": {
      "model_module": "@jupyter-widgets/output",
      "model_module_version": "1.0.0",
      "model_name": "OutputModel",
      "state": {
       "layout": "IPY_MODEL_1d9eb35dfdc54acf82bed4c622921af7"
      }
     },
     "334c90e121e74a1fa2aefb10b41774ac": {
      "model_module": "@jupyter-widgets/controls",
      "model_module_version": "1.4.0",
      "model_name": "VBoxModel",
      "state": {
       "children": [
        "IPY_MODEL_4f0901668ad744f2995cac50b993ae05",
        "IPY_MODEL_41d15193a60344308f5d056299c469ff"
       ],
       "layout": "IPY_MODEL_0c969c3cef8743ca935db2542404176f"
      }
     },
     "335951b6eb9242c690923fde3862d644": {
      "model_module": "@jupyter-widgets/output",
      "model_module_version": "1.0.0",
      "model_name": "OutputModel",
      "state": {
       "layout": "IPY_MODEL_22aa942d33e24defb7c6b675fb46a757"
      }
     },
     "33658ae669604dfb9962851191f5db08": {
      "model_module": "@jupyter-widgets/base",
      "model_module_version": "1.1.0",
      "model_name": "LayoutModel",
      "state": {
       "width": "95%"
      }
     },
     "3378d49325534a869b92af8b532d9de4": {
      "model_module": "@jupyter-widgets/base",
      "model_module_version": "1.1.0",
      "model_name": "LayoutModel",
      "state": {
       "width": "10%"
      }
     },
     "33836e9d372d40aab8717cb498a97f7d": {
      "model_module": "@jupyter-widgets/controls",
      "model_module_version": "1.4.0",
      "model_name": "VBoxModel",
      "state": {
       "children": [
        "IPY_MODEL_912af785b7714944a69434374ebe1ada",
        "IPY_MODEL_64ace5df30dc413d99c2d32c7fdd5840"
       ],
       "layout": "IPY_MODEL_8aa3ca620245429a98a2bacada7ddb82"
      }
     },
     "338791440c244b2bbbfd7a59d25c6e96": {
      "model_module": "@jupyter-widgets/output",
      "model_module_version": "1.0.0",
      "model_name": "OutputModel",
      "state": {
       "layout": "IPY_MODEL_e00de94b7b17459f8f60ae1a6fb21395"
      }
     },
     "3388b6e0d688475fb0f07ebe1227de1c": {
      "model_module": "@jupyter-widgets/controls",
      "model_module_version": "1.4.0",
      "model_name": "ButtonStyleModel",
      "state": {}
     },
     "3388b939c60e48bdb9350a21f9e20f39": {
      "model_module": "@jupyter-widgets/controls",
      "model_module_version": "1.4.0",
      "model_name": "VBoxModel",
      "state": {
       "children": [
        "IPY_MODEL_c174e120f66a486fb384a4506c0c6568",
        "IPY_MODEL_408ba8a7ff124400b22e31b31fdab369"
       ],
       "layout": "IPY_MODEL_5f4dbe4505334a1a98cdac63db72f72b"
      }
     },
     "3388ebc90c64455fb614af8988beaac4": {
      "model_module": "@jupyter-widgets/controls",
      "model_module_version": "1.4.0",
      "model_name": "ButtonModel",
      "state": {
       "description": "0",
       "layout": "IPY_MODEL_58042dc24b3340b0ae8e1cf574248d0f",
       "style": "IPY_MODEL_e0e90acb510546e5b07a76690ee19391"
      }
     },
     "338ba1e58ed64c16b3caa5f6674588c0": {
      "model_module": "@jupyter-widgets/base",
      "model_module_version": "1.1.0",
      "model_name": "LayoutModel",
      "state": {
       "width": "10%"
      }
     },
     "338f6584d44243cbb06f21b77e71226d": {
      "model_module": "@jupyter-widgets/controls",
      "model_module_version": "1.4.0",
      "model_name": "VBoxModel",
      "state": {
       "children": [
        "IPY_MODEL_23b30aa5f8f3482aafc4abbaa4dcf7c8",
        "IPY_MODEL_ee0cff4bf34543128666d8fb2afecb92"
       ],
       "layout": "IPY_MODEL_59da84cf9bfd4cd7a440fd20bebed864"
      }
     },
     "339de60eacd74b09a477cdd1c97852dc": {
      "model_module": "@jupyter-widgets/base",
      "model_module_version": "1.1.0",
      "model_name": "LayoutModel",
      "state": {
       "width": "10%"
      }
     },
     "33bfe9fe109e4c349fac8372df802a08": {
      "model_module": "@jupyter-widgets/output",
      "model_module_version": "1.0.0",
      "model_name": "OutputModel",
      "state": {
       "layout": "IPY_MODEL_f6ac594ce8f0485cbb580310638cf6d5"
      }
     },
     "33d6d28577a5473abc26e53ef0bb5517": {
      "model_module": "@jupyter-widgets/base",
      "model_module_version": "1.1.0",
      "model_name": "LayoutModel",
      "state": {
       "width": "10%"
      }
     },
     "33ded449146c4db5bb4896db9b9f6ba3": {
      "model_module": "@jupyter-widgets/controls",
      "model_module_version": "1.4.0",
      "model_name": "ButtonStyleModel",
      "state": {}
     },
     "33e87a09f9234c9a8feced43d139ed64": {
      "model_module": "@jupyter-widgets/output",
      "model_module_version": "1.0.0",
      "model_name": "OutputModel",
      "state": {
       "layout": "IPY_MODEL_26c1e6a922ce4be88ed3eba2f540bea4"
      }
     },
     "34024a43794e4d5092a097a80ec578a8": {
      "model_module": "@jupyter-widgets/base",
      "model_module_version": "1.1.0",
      "model_name": "LayoutModel",
      "state": {
       "width": "95%"
      }
     },
     "340c37f7458b4abfa7ed2fe95d32747e": {
      "model_module": "@jupyter-widgets/controls",
      "model_module_version": "1.4.0",
      "model_name": "VBoxModel",
      "state": {
       "children": [
        "IPY_MODEL_976a62e12e0543269e5fd7a2f62244f0",
        "IPY_MODEL_e2b333d8c51d42229d9181f5145b99f1"
       ],
       "layout": "IPY_MODEL_55fa45779ca847d59bfdd9ed8d473bc2"
      }
     },
     "34297dbc35ef412a8508488fc21faa9d": {
      "model_module": "@jupyter-widgets/base",
      "model_module_version": "1.1.0",
      "model_name": "LayoutModel",
      "state": {
       "width": "10%"
      }
     },
     "34307b58bbbc442daeb77f8ef2cafb6c": {
      "model_module": "@jupyter-widgets/controls",
      "model_module_version": "1.4.0",
      "model_name": "VBoxModel",
      "state": {
       "children": [
        "IPY_MODEL_768d560d9ad040a2a964350f517b0254",
        "IPY_MODEL_b421eb31187f4c6abf2cdc2dc83ce9e7"
       ],
       "layout": "IPY_MODEL_577281a504034a0da44830c04b94d227"
      }
     },
     "343693e21d5045d1bcd03c63370cc0d4": {
      "model_module": "@jupyter-widgets/base",
      "model_module_version": "1.1.0",
      "model_name": "LayoutModel",
      "state": {
       "width": "95%"
      }
     },
     "343adb05fe0840c1bd121816ed2468e2": {
      "model_module": "@jupyter-widgets/controls",
      "model_module_version": "1.4.0",
      "model_name": "VBoxModel",
      "state": {
       "children": [
        "IPY_MODEL_7430350afe9e4b9392db5f945408c1c6",
        "IPY_MODEL_5472bc1b109642399d771961219f1c76"
       ],
       "layout": "IPY_MODEL_8c124a292df649cba7693d05b4948f08"
      }
     },
     "34649db7024542c58c7a43fdc1f23ea8": {
      "model_module": "@jupyter-widgets/controls",
      "model_module_version": "1.4.0",
      "model_name": "ButtonModel",
      "state": {
       "description": "2",
       "layout": "IPY_MODEL_1e5423d4d6304f4196e9e05d131725d4",
       "style": "IPY_MODEL_c7753e28da384bdfa8416208ea599821"
      }
     },
     "34742082b27144d3bb6209167d802060": {
      "model_module": "@jupyter-widgets/controls",
      "model_module_version": "1.4.0",
      "model_name": "ButtonModel",
      "state": {
       "description": "5",
       "layout": "IPY_MODEL_ba26d11716f14fa18064c60c3e47eb2b",
       "style": "IPY_MODEL_36561b2ca6b74a00a9c4e17126216b6e"
      }
     },
     "3478ec783372480cb2ed1269a70554e7": {
      "model_module": "@jupyter-widgets/base",
      "model_module_version": "1.1.0",
      "model_name": "LayoutModel",
      "state": {}
     },
     "348d5d6e1c9f4b68a6595c37a37c7b2e": {
      "model_module": "@jupyter-widgets/base",
      "model_module_version": "1.1.0",
      "model_name": "LayoutModel",
      "state": {
       "width": "10%"
      }
     },
     "34a1abf3175c42fbb010f2a8a14d7323": {
      "model_module": "@jupyter-widgets/base",
      "model_module_version": "1.1.0",
      "model_name": "LayoutModel",
      "state": {}
     },
     "34a2fda3baf640eda7320a13dcb72968": {
      "model_module": "@jupyter-widgets/base",
      "model_module_version": "1.1.0",
      "model_name": "LayoutModel",
      "state": {
       "width": "95%"
      }
     },
     "34af5e0d0daa4d78980cd31f9af3dee3": {
      "model_module": "@jupyter-widgets/controls",
      "model_module_version": "1.4.0",
      "model_name": "HBoxModel",
      "state": {
       "children": [
        "IPY_MODEL_2629afe795ca46ca8b81a76473704d14",
        "IPY_MODEL_60e58f5908754dcc9bbe877aa66773c6",
        "IPY_MODEL_58189a1a989e4c828f34a38c16fd4a5c",
        "IPY_MODEL_415a3487ed5945728f2634443c348b5c",
        "IPY_MODEL_0e24342c34ce4839bd22bff25cf1c09e",
        "IPY_MODEL_5463dac669254e8cb88b9b7b98c1cb8e",
        "IPY_MODEL_c615a61eaea44c41b84a896bace11f96",
        "IPY_MODEL_7cae29465a364f40a0bb678afa7ed141",
        "IPY_MODEL_f6662f00145e443f9e3413e7188c5c02",
        "IPY_MODEL_20a74e0712fd48d3b34771104514e713"
       ],
       "layout": "IPY_MODEL_5d217b0bd3fa47d292ac04933b3d6951"
      }
     },
     "34c0c8687d404921b04e542d256b370e": {
      "model_module": "@jupyter-widgets/controls",
      "model_module_version": "1.4.0",
      "model_name": "ButtonStyleModel",
      "state": {}
     },
     "34c297b77e9b4197a240ea3dfa1e712a": {
      "model_module": "@jupyter-widgets/controls",
      "model_module_version": "1.4.0",
      "model_name": "HBoxModel",
      "state": {
       "children": [
        "IPY_MODEL_9a70d651a67f4e7790159c3627a4da85",
        "IPY_MODEL_50955bf1ca3b4a32a0611269077391ba",
        "IPY_MODEL_fa523314207e42b0bd75627ef66f4708",
        "IPY_MODEL_442604adb3ce46aea4d2091c9d9fe1d8",
        "IPY_MODEL_f7c9764c088b43be8bd766b095849d73",
        "IPY_MODEL_6caff6e5f85c44bea86bb20668358001",
        "IPY_MODEL_76dfd6cf14324ddb9e23aef475b51512",
        "IPY_MODEL_204b6fa19d674226ab8547110db97f3f",
        "IPY_MODEL_f4a30f15ffa0439a879c1e0b0c050627",
        "IPY_MODEL_7e1d6ae2b6c54ae5913390cab012fd61"
       ],
       "layout": "IPY_MODEL_f57ffdf73625491c9e31347299482b59"
      }
     },
     "34ed33a696394691bf0797de524399bc": {
      "model_module": "@jupyter-widgets/controls",
      "model_module_version": "1.4.0",
      "model_name": "ButtonStyleModel",
      "state": {}
     },
     "34ff8c5157374314bfc4ef9378bc5918": {
      "model_module": "@jupyter-widgets/output",
      "model_module_version": "1.0.0",
      "model_name": "OutputModel",
      "state": {
       "layout": "IPY_MODEL_2fc23ef4963c4f5fb53d0b82895809df"
      }
     },
     "34ffda31a63b4427970451e22249352c": {
      "model_module": "@jupyter-widgets/output",
      "model_module_version": "1.0.0",
      "model_name": "OutputModel",
      "state": {
       "layout": "IPY_MODEL_e9b3590ecde343398af87acea8f324ba"
      }
     },
     "352ae1ec43e24081affa00075d32465d": {
      "model_module": "@jupyter-widgets/base",
      "model_module_version": "1.1.0",
      "model_name": "LayoutModel",
      "state": {}
     },
     "353dd8dc792a48c2b31c0c4238e1b6ac": {
      "model_module": "@jupyter-widgets/controls",
      "model_module_version": "1.4.0",
      "model_name": "VBoxModel",
      "state": {
       "children": [
        "IPY_MODEL_4460d9b9c18f446aa2f799b167acdba8",
        "IPY_MODEL_91c81a3d7bee4806b46df6be839c8c8b"
       ],
       "layout": "IPY_MODEL_95091479642a4045a3f8af5d84578903"
      }
     },
     "354da21be0a844f287a64ce1caf574fd": {
      "model_module": "@jupyter-widgets/controls",
      "model_module_version": "1.4.0",
      "model_name": "ButtonStyleModel",
      "state": {}
     },
     "3554ae56ea234d02993cebb2d57ed091": {
      "model_module": "@jupyter-widgets/controls",
      "model_module_version": "1.4.0",
      "model_name": "DescriptionStyleModel",
      "state": {
       "description_width": ""
      }
     },
     "35558a1ef020486cabf3a5ea20e13cee": {
      "model_module": "@jupyter-widgets/controls",
      "model_module_version": "1.4.0",
      "model_name": "ButtonStyleModel",
      "state": {}
     },
     "355a5093107148cbb426ca888d0f5e60": {
      "model_module": "@jupyter-widgets/controls",
      "model_module_version": "1.4.0",
      "model_name": "ButtonStyleModel",
      "state": {}
     },
     "355c7f82d71d4c3e84296923e2bf4299": {
      "model_module": "@jupyter-widgets/controls",
      "model_module_version": "1.4.0",
      "model_name": "ButtonModel",
      "state": {
       "description": "9",
       "layout": "IPY_MODEL_24c7aafd69cc46079a48727cbea79c09",
       "style": "IPY_MODEL_9e9cd140795f4fe59299f1b4926ae472"
      }
     },
     "355ec46e6d614807b144171d24559804": {
      "model_module": "@jupyter-widgets/base",
      "model_module_version": "1.1.0",
      "model_name": "LayoutModel",
      "state": {
       "width": "10%"
      }
     },
     "357f067e46d746a59ee5324d6ef16daa": {
      "model_module": "@jupyter-widgets/controls",
      "model_module_version": "1.4.0",
      "model_name": "ButtonModel",
      "state": {
       "description": "9",
       "layout": "IPY_MODEL_86687a185a0845cea94f4a3bdd9e52f4",
       "style": "IPY_MODEL_8dd8e1a6896549fcae51ccbba31a6346"
      }
     },
     "357f7455a04640a79a31c3fe6a1a7b3d": {
      "model_module": "@jupyter-widgets/controls",
      "model_module_version": "1.4.0",
      "model_name": "ButtonStyleModel",
      "state": {}
     },
     "35bc69068f6348999287e6da44f22999": {
      "model_module": "@jupyter-widgets/base",
      "model_module_version": "1.1.0",
      "model_name": "LayoutModel",
      "state": {}
     },
     "35dde19ec0754fab934d8b587ba220b5": {
      "model_module": "@jupyter-widgets/base",
      "model_module_version": "1.1.0",
      "model_name": "LayoutModel",
      "state": {}
     },
     "35df4f0fc19944c0b418089521597ffa": {
      "model_module": "@jupyter-widgets/controls",
      "model_module_version": "1.4.0",
      "model_name": "HBoxModel",
      "state": {
       "children": [
        "IPY_MODEL_970979db842f40b98f9b995f726c5d69",
        "IPY_MODEL_1da0f3f1082e4b16891651e61878bc1a",
        "IPY_MODEL_9b7b9d3411ad4ff19a4ef64e941255c0",
        "IPY_MODEL_e4f85f2ae73b4d3cbb4e826b48943b2d",
        "IPY_MODEL_4fc129a9f15d45f7aa519b349eb557dc",
        "IPY_MODEL_13070c5f1cc74b93b23a46c7f1627572",
        "IPY_MODEL_db0d9b5ca3864dc391d08ef7cf39679f",
        "IPY_MODEL_0af0937ab651459daf32425cfe903db6",
        "IPY_MODEL_1db94cb542f342358550052886da6090",
        "IPY_MODEL_141c19c7be8d4959bad196859857513f"
       ],
       "layout": "IPY_MODEL_e2346ac07d4b4726aadaa464f9671548"
      }
     },
     "35edb4768f1a4d7dbbf03134427fa71b": {
      "model_module": "@jupyter-widgets/base",
      "model_module_version": "1.1.0",
      "model_name": "LayoutModel",
      "state": {
       "width": "10%"
      }
     },
     "35f7c519b9d34333b4f9b0088cb91426": {
      "model_module": "@jupyter-widgets/controls",
      "model_module_version": "1.4.0",
      "model_name": "ButtonModel",
      "state": {
       "description": "7",
       "layout": "IPY_MODEL_14cb2678696c4898a21524a44c8e0dc2",
       "style": "IPY_MODEL_7478aa6676d4467f950ecf7905a86495"
      }
     },
     "36012cdf65b8402ca44e22376139fbbb": {
      "model_module": "@jupyter-widgets/controls",
      "model_module_version": "1.4.0",
      "model_name": "ButtonStyleModel",
      "state": {}
     },
     "363ddd65669342388ba36a7b903237c7": {
      "model_module": "@jupyter-widgets/base",
      "model_module_version": "1.1.0",
      "model_name": "LayoutModel",
      "state": {}
     },
     "36561b2ca6b74a00a9c4e17126216b6e": {
      "model_module": "@jupyter-widgets/controls",
      "model_module_version": "1.4.0",
      "model_name": "ButtonStyleModel",
      "state": {}
     },
     "366ff58d9a1a4feda1f1b512e52ed7e6": {
      "model_module": "@jupyter-widgets/base",
      "model_module_version": "1.1.0",
      "model_name": "LayoutModel",
      "state": {
       "width": "10%"
      }
     },
     "3671e7a8a3f24d64a6273ffd90c54810": {
      "model_module": "@jupyter-widgets/base",
      "model_module_version": "1.1.0",
      "model_name": "LayoutModel",
      "state": {
       "width": "95%"
      }
     },
     "36749f8706494d629ade862b27a05efa": {
      "model_module": "@jupyter-widgets/controls",
      "model_module_version": "1.4.0",
      "model_name": "ButtonModel",
      "state": {
       "description": "6",
       "layout": "IPY_MODEL_f9fb877f22be4f1397f5a9d67f76f64a",
       "style": "IPY_MODEL_c8d4830f204d44d38f69db244a8644d7"
      }
     },
     "3676e85409b740c8b7402fdb84e5cb9f": {
      "model_module": "@jupyter-widgets/controls",
      "model_module_version": "1.4.0",
      "model_name": "ButtonStyleModel",
      "state": {}
     },
     "3689781bb9564608baaf9a7303eebb13": {
      "model_module": "@jupyter-widgets/controls",
      "model_module_version": "1.4.0",
      "model_name": "ButtonModel",
      "state": {
       "description": "3",
       "layout": "IPY_MODEL_d05c4776c734412a9e2b59d83b13ac92",
       "style": "IPY_MODEL_64af24a0bbcc4a468e137b43175dbb31"
      }
     },
     "3693870a76e9447f9cc3db5c2069c035": {
      "model_module": "@jupyter-widgets/base",
      "model_module_version": "1.1.0",
      "model_name": "LayoutModel",
      "state": {
       "width": "95%"
      }
     },
     "369ed6172e6546f6920b7f9b3c6acb3a": {
      "model_module": "@jupyter-widgets/output",
      "model_module_version": "1.0.0",
      "model_name": "OutputModel",
      "state": {
       "layout": "IPY_MODEL_ea35f12186cd4d68827f14c91aec3b92"
      }
     },
     "36b049d21c584b81b45fa7a899e2bbab": {
      "model_module": "@jupyter-widgets/base",
      "model_module_version": "1.1.0",
      "model_name": "LayoutModel",
      "state": {}
     },
     "36db56b282b84ae88471425dc74be163": {
      "model_module": "@jupyter-widgets/base",
      "model_module_version": "1.1.0",
      "model_name": "LayoutModel",
      "state": {}
     },
     "36e2f48474a04fe2b5736a18776f701e": {
      "model_module": "@jupyter-widgets/controls",
      "model_module_version": "1.4.0",
      "model_name": "ButtonStyleModel",
      "state": {}
     },
     "3701fcec337c455190aa0e2590c5ff20": {
      "model_module": "@jupyter-widgets/controls",
      "model_module_version": "1.4.0",
      "model_name": "ButtonStyleModel",
      "state": {}
     },
     "371480b1aff9477da5c809fe3b35d872": {
      "model_module": "@jupyter-widgets/base",
      "model_module_version": "1.1.0",
      "model_name": "LayoutModel",
      "state": {}
     },
     "371991ae2ac142d3999814650e4221f2": {
      "model_module": "@jupyter-widgets/output",
      "model_module_version": "1.0.0",
      "model_name": "OutputModel",
      "state": {
       "layout": "IPY_MODEL_d269313e53044462855a33256b5bd9e3"
      }
     },
     "37276ef7d0b64639a5cc3654c24f20a5": {
      "model_module": "@jupyter-widgets/base",
      "model_module_version": "1.1.0",
      "model_name": "LayoutModel",
      "state": {}
     },
     "373017ba99a3461bbaea677a6c278e42": {
      "model_module": "@jupyter-widgets/output",
      "model_module_version": "1.0.0",
      "model_name": "OutputModel",
      "state": {
       "layout": "IPY_MODEL_1de30216170d4a1f96c956f4956d97f3"
      }
     },
     "37382e56cbe447cba84f2c4579b07b67": {
      "model_module": "@jupyter-widgets/base",
      "model_module_version": "1.1.0",
      "model_name": "LayoutModel",
      "state": {}
     },
     "373bb300b3e540b1943d88f299887c37": {
      "model_module": "@jupyter-widgets/controls",
      "model_module_version": "1.4.0",
      "model_name": "VBoxModel",
      "state": {
       "children": [
        "IPY_MODEL_2b7d4eae745a4606a43f435eeafc29fe",
        "IPY_MODEL_ba41229b13664d14b989c20bfc826de1"
       ],
       "layout": "IPY_MODEL_55043a540ef9491db87c6b22bd205cae"
      }
     },
     "373f3e1f68b64090b30b72f4dcb483d0": {
      "model_module": "@jupyter-widgets/output",
      "model_module_version": "1.0.0",
      "model_name": "OutputModel",
      "state": {
       "layout": "IPY_MODEL_ca041cf8fe5d4215a9492692fcf1f4b9"
      }
     },
     "37404c76bdfe4c5085728d98dcf934a2": {
      "model_module": "@jupyter-widgets/base",
      "model_module_version": "1.1.0",
      "model_name": "LayoutModel",
      "state": {
       "width": "10%"
      }
     },
     "37406dbb965940279475fbd42ba14827": {
      "model_module": "@jupyter-widgets/output",
      "model_module_version": "1.0.0",
      "model_name": "OutputModel",
      "state": {
       "layout": "IPY_MODEL_db36f9dcbf964b509cab8c49b65add34"
      }
     },
     "3749e9b6705947bb8bfb7746a7961295": {
      "model_module": "@jupyter-widgets/base",
      "model_module_version": "1.1.0",
      "model_name": "LayoutModel",
      "state": {
       "width": "10%"
      }
     },
     "374b33d98aed4ecd8050df49471bd161": {
      "model_module": "@jupyter-widgets/base",
      "model_module_version": "1.1.0",
      "model_name": "LayoutModel",
      "state": {}
     },
     "374de5470b8e481380f60c7427b80deb": {
      "model_module": "@jupyter-widgets/base",
      "model_module_version": "1.1.0",
      "model_name": "LayoutModel",
      "state": {}
     },
     "374f2b9932724ef1a0dc33a758ad9379": {
      "model_module": "@jupyter-widgets/controls",
      "model_module_version": "1.4.0",
      "model_name": "VBoxModel",
      "state": {
       "children": [
        "IPY_MODEL_47df43951e6f4ace8d4dc4e1886dfa17",
        "IPY_MODEL_fb518c9b15bd474c928ad9372b8d827a"
       ],
       "layout": "IPY_MODEL_5e0da997e0e2472f8653a294bd34f083"
      }
     },
     "375f6b62636a4219991c25e7e9ca5a32": {
      "model_module": "@jupyter-widgets/base",
      "model_module_version": "1.1.0",
      "model_name": "LayoutModel",
      "state": {}
     },
     "377d5eea231048baaf0c1fe6b9a9e66e": {
      "model_module": "@jupyter-widgets/base",
      "model_module_version": "1.1.0",
      "model_name": "LayoutModel",
      "state": {
       "width": "95%"
      }
     },
     "378611ffb7b44c0da68908f8302d5427": {
      "model_module": "@jupyter-widgets/output",
      "model_module_version": "1.0.0",
      "model_name": "OutputModel",
      "state": {
       "layout": "IPY_MODEL_37ad955229f143f68e6b06c05452256d"
      }
     },
     "379555855c9048cbb4bfb951833d1967": {
      "model_module": "@jupyter-widgets/base",
      "model_module_version": "1.1.0",
      "model_name": "LayoutModel",
      "state": {
       "width": "95%"
      }
     },
     "3796ba7b533a49acb567b5b73808993d": {
      "model_module": "@jupyter-widgets/base",
      "model_module_version": "1.1.0",
      "model_name": "LayoutModel",
      "state": {
       "width": "95%"
      }
     },
     "37a0e74e3ee14b2dae1a184a706ef541": {
      "model_module": "@jupyter-widgets/base",
      "model_module_version": "1.1.0",
      "model_name": "LayoutModel",
      "state": {}
     },
     "37ad955229f143f68e6b06c05452256d": {
      "model_module": "@jupyter-widgets/base",
      "model_module_version": "1.1.0",
      "model_name": "LayoutModel",
      "state": {}
     },
     "37b2a4aafd24475587c26579a24897f0": {
      "model_module": "@jupyter-widgets/controls",
      "model_module_version": "1.4.0",
      "model_name": "ButtonModel",
      "state": {
       "description": "2",
       "layout": "IPY_MODEL_bb0b8e9e1a4341d6a4e778c75d7910d7",
       "style": "IPY_MODEL_0c209612bb8646ddafc5e62db1be30cb"
      }
     },
     "37baf666d9d24c97b8d8beb47b059bf0": {
      "model_module": "@jupyter-widgets/output",
      "model_module_version": "1.0.0",
      "model_name": "OutputModel",
      "state": {
       "layout": "IPY_MODEL_c28d27568c854624822a52903c576ebd"
      }
     },
     "37bd89e0f8574dce8e49e958b83c4b43": {
      "model_module": "@jupyter-widgets/base",
      "model_module_version": "1.1.0",
      "model_name": "LayoutModel",
      "state": {
       "width": "10%"
      }
     },
     "37d3733e94f3416187d68c6723ad1a11": {
      "model_module": "@jupyter-widgets/base",
      "model_module_version": "1.1.0",
      "model_name": "LayoutModel",
      "state": {}
     },
     "37d8c4d30d0648ff9204129943058ca5": {
      "model_module": "@jupyter-widgets/base",
      "model_module_version": "1.1.0",
      "model_name": "LayoutModel",
      "state": {}
     },
     "37db00c500cf4200af6b26f84d89bacf": {
      "model_module": "@jupyter-widgets/controls",
      "model_module_version": "1.4.0",
      "model_name": "ButtonModel",
      "state": {
       "description": "8",
       "layout": "IPY_MODEL_896ef7ca8df144349e1b9e18a6ada755",
       "style": "IPY_MODEL_e13dd1bc830d4d6ab0de3f413f931896"
      }
     },
     "37e7fe7165934ebebf045283f413ce59": {
      "model_module": "@jupyter-widgets/controls",
      "model_module_version": "1.4.0",
      "model_name": "VBoxModel",
      "state": {
       "children": [
        "IPY_MODEL_c639841521ea45648f7980c77f4f76f5",
        "IPY_MODEL_f8a280d9695947c0b3f16d324d1a123a"
       ],
       "layout": "IPY_MODEL_5b1497c35f3d4893911a19a958ee8a72"
      }
     },
     "37f3bb4b9f694d2d8f2910c5a8abb3e7": {
      "model_module": "@jupyter-widgets/output",
      "model_module_version": "1.0.0",
      "model_name": "OutputModel",
      "state": {
       "layout": "IPY_MODEL_5fe5e856d09a40fcb152d5fde59691fa"
      }
     },
     "37fc4a33aa7f46919a8cd94f4ac6368c": {
      "model_module": "@jupyter-widgets/base",
      "model_module_version": "1.1.0",
      "model_name": "LayoutModel",
      "state": {}
     },
     "3819757afdce45e0b25e82c99fd00230": {
      "model_module": "@jupyter-widgets/output",
      "model_module_version": "1.0.0",
      "model_name": "OutputModel",
      "state": {
       "layout": "IPY_MODEL_0954a284e16d45fa908bd6bbc2205054"
      }
     },
     "3827f73998f343bd8f1ba1ab84c977c0": {
      "model_module": "@jupyter-widgets/output",
      "model_module_version": "1.0.0",
      "model_name": "OutputModel",
      "state": {
       "layout": "IPY_MODEL_fd94133a71c44a349d4bee638087f5a8"
      }
     },
     "382d47de47154669be88f0bd61bb4500": {
      "model_module": "@jupyter-widgets/base",
      "model_module_version": "1.1.0",
      "model_name": "LayoutModel",
      "state": {
       "width": "10%"
      }
     },
     "3835c49644bc4e58b11dc251110724fd": {
      "model_module": "@jupyter-widgets/output",
      "model_module_version": "1.0.0",
      "model_name": "OutputModel",
      "state": {
       "layout": "IPY_MODEL_49fe7133b1994b5d9b436d69f26f0685"
      }
     },
     "3842c9ef67eb49dc92d34f3272d1f053": {
      "model_module": "@jupyter-widgets/base",
      "model_module_version": "1.1.0",
      "model_name": "LayoutModel",
      "state": {
       "width": "95%"
      }
     },
     "384402dbbd374182aeafc5809af53506": {
      "model_module": "@jupyter-widgets/controls",
      "model_module_version": "1.4.0",
      "model_name": "VBoxModel",
      "state": {
       "children": [
        "IPY_MODEL_5be507d727a2472e927875d1d5142617",
        "IPY_MODEL_dd69c42eaf074e469744d59b1edbf5d1"
       ],
       "layout": "IPY_MODEL_66f83f2a7dd54a2c95c3a5ba0b4109fc"
      }
     },
     "385ba735afc540f8b997c0417128161e": {
      "model_module": "@jupyter-widgets/base",
      "model_module_version": "1.1.0",
      "model_name": "LayoutModel",
      "state": {}
     },
     "386a45d9e8ee4cde978f3535a4836cc5": {
      "model_module": "@jupyter-widgets/base",
      "model_module_version": "1.1.0",
      "model_name": "LayoutModel",
      "state": {}
     },
     "387c044e943a40ddaa3ca79da16a7225": {
      "model_module": "@jupyter-widgets/controls",
      "model_module_version": "1.4.0",
      "model_name": "ButtonModel",
      "state": {
       "description": "9",
       "layout": "IPY_MODEL_aefdbef91f084f18a2f6765029b796d5",
       "style": "IPY_MODEL_03696fc62c8241569b7c2e78caba35b6"
      }
     },
     "387df994f79e4077929bef0de1a483ec": {
      "model_module": "@jupyter-widgets/controls",
      "model_module_version": "1.4.0",
      "model_name": "ButtonStyleModel",
      "state": {}
     },
     "38801c97100548a688402e4f675dacd6": {
      "model_module": "@jupyter-widgets/output",
      "model_module_version": "1.0.0",
      "model_name": "OutputModel",
      "state": {
       "layout": "IPY_MODEL_cf7335c9612a4c63a8daa51b47bb66d9"
      }
     },
     "3893a7772af74335baeb91b67d02d154": {
      "model_module": "@jupyter-widgets/base",
      "model_module_version": "1.1.0",
      "model_name": "LayoutModel",
      "state": {
       "width": "95%"
      }
     },
     "38a51135f4154f239549ff0f5581137a": {
      "model_module": "@jupyter-widgets/base",
      "model_module_version": "1.1.0",
      "model_name": "LayoutModel",
      "state": {}
     },
     "38a51f59a7864896a7aa369a6d2159f9": {
      "model_module": "@jupyter-widgets/controls",
      "model_module_version": "1.4.0",
      "model_name": "ButtonStyleModel",
      "state": {}
     },
     "38ab4bebf07c402bbf336d7d3c02b545": {
      "model_module": "@jupyter-widgets/output",
      "model_module_version": "1.0.0",
      "model_name": "OutputModel",
      "state": {
       "layout": "IPY_MODEL_2471d7f371c24ac18ba54c13f08d73a9"
      }
     },
     "38b1d4ca3879429ab1ccef8aae1f1b51": {
      "model_module": "@jupyter-widgets/controls",
      "model_module_version": "1.4.0",
      "model_name": "TextModel",
      "state": {
       "description": "Other:",
       "layout": "IPY_MODEL_a3da7dcbebfd4aa08b05b859354485ca",
       "placeholder": "Hit enter to submit.",
       "style": "IPY_MODEL_8ba90bc1808a4ea88da3e2b6112a77cc"
      }
     },
     "38b9948bf41943aeb169268478881815": {
      "model_module": "@jupyter-widgets/controls",
      "model_module_version": "1.4.0",
      "model_name": "VBoxModel",
      "state": {
       "children": [
        "IPY_MODEL_53ea1c0c6b954704b0abe2c4c527f02f",
        "IPY_MODEL_947702b3d5ee44d8a5dabc6e43cc111e"
       ],
       "layout": "IPY_MODEL_5022dd4e8c794613bc65094edee6a01a"
      }
     },
     "38dea0e9d8cb4974b7f59afbc132c5f6": {
      "model_module": "@jupyter-widgets/base",
      "model_module_version": "1.1.0",
      "model_name": "LayoutModel",
      "state": {
       "width": "95%"
      }
     },
     "38e67cc8a8a44f55be4ede619b1042d4": {
      "model_module": "@jupyter-widgets/base",
      "model_module_version": "1.1.0",
      "model_name": "LayoutModel",
      "state": {}
     },
     "3912b5abe5004ac28b9681f4bf50b222": {
      "model_module": "@jupyter-widgets/controls",
      "model_module_version": "1.4.0",
      "model_name": "ButtonStyleModel",
      "state": {}
     },
     "391d50607fbe4bb7b6cacae7e43b13fb": {
      "model_module": "@jupyter-widgets/base",
      "model_module_version": "1.1.0",
      "model_name": "LayoutModel",
      "state": {}
     },
     "3925716732744c1c9765e4f6242b4c3c": {
      "model_module": "@jupyter-widgets/controls",
      "model_module_version": "1.4.0",
      "model_name": "ButtonModel",
      "state": {
       "description": "0",
       "layout": "IPY_MODEL_cfd4041f4808409286f87d76428833ba",
       "style": "IPY_MODEL_5eb53e5c6ad84a13885c54996790eef5"
      }
     },
     "393146886df34767ad917630edbe1a09": {
      "model_module": "@jupyter-widgets/output",
      "model_module_version": "1.0.0",
      "model_name": "OutputModel",
      "state": {
       "layout": "IPY_MODEL_ccd40d11babe4c6788236e802fde31ed"
      }
     },
     "39531db5ebde4921b5aed0025bb65aa6": {
      "model_module": "@jupyter-widgets/base",
      "model_module_version": "1.1.0",
      "model_name": "LayoutModel",
      "state": {
       "width": "95%"
      }
     },
     "395720f455744f2c9962d1ed64aa9ec9": {
      "model_module": "@jupyter-widgets/controls",
      "model_module_version": "1.4.0",
      "model_name": "VBoxModel",
      "state": {
       "children": [
        "IPY_MODEL_f09188890e95486c94a905afb4e95607",
        "IPY_MODEL_9815b3787eca458bbf0a77c089bebe43"
       ],
       "layout": "IPY_MODEL_62322e02fbc340b0af2962e5084f06fe"
      }
     },
     "3968b3e6043140a7ad6d95498600080d": {
      "model_module": "@jupyter-widgets/base",
      "model_module_version": "1.1.0",
      "model_name": "LayoutModel",
      "state": {
       "width": "10%"
      }
     },
     "396d1fc964224c149ba6b00794568851": {
      "model_module": "@jupyter-widgets/base",
      "model_module_version": "1.1.0",
      "model_name": "LayoutModel",
      "state": {
       "width": "10%"
      }
     },
     "397a0c4f4cc34737b2464901f41af619": {
      "model_module": "@jupyter-widgets/base",
      "model_module_version": "1.1.0",
      "model_name": "LayoutModel",
      "state": {
       "width": "10%"
      }
     },
     "398eda9fdf714aceb6300f5b3a56d33d": {
      "model_module": "@jupyter-widgets/base",
      "model_module_version": "1.1.0",
      "model_name": "LayoutModel",
      "state": {}
     },
     "39a1b85ee73840479fb3a14ec85a2323": {
      "model_module": "@jupyter-widgets/controls",
      "model_module_version": "1.4.0",
      "model_name": "ButtonStyleModel",
      "state": {}
     },
     "39ab02caf305413fb17cbe5ef9aae89a": {
      "model_module": "@jupyter-widgets/base",
      "model_module_version": "1.1.0",
      "model_name": "LayoutModel",
      "state": {
       "width": "95%"
      }
     },
     "39b390e59840401f9639fcc9bb267c24": {
      "model_module": "@jupyter-widgets/base",
      "model_module_version": "1.1.0",
      "model_name": "LayoutModel",
      "state": {
       "width": "10%"
      }
     },
     "39d314cdf6c343af95e22bb0c7b02b30": {
      "model_module": "@jupyter-widgets/base",
      "model_module_version": "1.1.0",
      "model_name": "LayoutModel",
      "state": {
       "width": "95%"
      }
     },
     "39fec69692734f3b84baa2a4f860bbb6": {
      "model_module": "@jupyter-widgets/controls",
      "model_module_version": "1.4.0",
      "model_name": "ButtonStyleModel",
      "state": {}
     },
     "3a08201c549c48b5bc98fa969cb5ad21": {
      "model_module": "@jupyter-widgets/controls",
      "model_module_version": "1.4.0",
      "model_name": "ButtonModel",
      "state": {
       "description": "8",
       "layout": "IPY_MODEL_b16b07ba37cd431c8042ea3480b728f9",
       "style": "IPY_MODEL_eef833afc5f647a0b2d1a7fd0805876a"
      }
     },
     "3a0db614b0ab4315a93d7120b9e02a67": {
      "model_module": "@jupyter-widgets/output",
      "model_module_version": "1.0.0",
      "model_name": "OutputModel",
      "state": {
       "layout": "IPY_MODEL_7f732c5e7c93425fad0e7308b35d458a"
      }
     },
     "3a11f5f8afd64bebafcfd1087c7d610a": {
      "model_module": "@jupyter-widgets/base",
      "model_module_version": "1.1.0",
      "model_name": "LayoutModel",
      "state": {
       "width": "95%"
      }
     },
     "3a29ca31fbb24118bf391f341e487d48": {
      "model_module": "@jupyter-widgets/output",
      "model_module_version": "1.0.0",
      "model_name": "OutputModel",
      "state": {
       "layout": "IPY_MODEL_a6034e6656784ecf9884063c345eb5d1"
      }
     },
     "3a5000bb6fe44f32906abda6b679c5a9": {
      "model_module": "@jupyter-widgets/base",
      "model_module_version": "1.1.0",
      "model_name": "LayoutModel",
      "state": {}
     },
     "3a69cc89f79b436295b1b38d263b3bcd": {
      "model_module": "@jupyter-widgets/controls",
      "model_module_version": "1.4.0",
      "model_name": "ButtonModel",
      "state": {
       "description": "2",
       "layout": "IPY_MODEL_97c122683e754202b2b8822f810b1241",
       "style": "IPY_MODEL_ff7fe6749d0a4ccb9f227d9bee3ab03a"
      }
     },
     "3a76ae40ede546ca850d4629807e4fda": {
      "model_module": "@jupyter-widgets/controls",
      "model_module_version": "1.4.0",
      "model_name": "TextModel",
      "state": {
       "description": "Other:",
       "layout": "IPY_MODEL_220d23d86cb0434ab1a5a90f8e9e2620",
       "placeholder": "Hit enter to submit.",
       "style": "IPY_MODEL_5ceb9e37fb934688b3979be94b0c2cb1"
      }
     },
     "3a8078bc70364c248fbf91f2d856ee5c": {
      "model_module": "@jupyter-widgets/base",
      "model_module_version": "1.1.0",
      "model_name": "LayoutModel",
      "state": {
       "width": "95%"
      }
     },
     "3a82741a0d47407aa941acd7cc8218ab": {
      "model_module": "@jupyter-widgets/base",
      "model_module_version": "1.1.0",
      "model_name": "LayoutModel",
      "state": {
       "width": "95%"
      }
     },
     "3ab70817821c41d19f8e24ab6cc8d242": {
      "model_module": "@jupyter-widgets/controls",
      "model_module_version": "1.4.0",
      "model_name": "ButtonModel",
      "state": {
       "description": "7",
       "layout": "IPY_MODEL_c34146d85dbb4b95ba860507b7ae82e1",
       "style": "IPY_MODEL_08d532bc86474d0ba6fe7bb8aa462124"
      }
     },
     "3abf96e0c04e49dfbbcf5f313ccb5984": {
      "model_module": "@jupyter-widgets/controls",
      "model_module_version": "1.4.0",
      "model_name": "ButtonStyleModel",
      "state": {}
     },
     "3acc40886d054b0686fda3afb209a289": {
      "model_module": "@jupyter-widgets/controls",
      "model_module_version": "1.4.0",
      "model_name": "ButtonStyleModel",
      "state": {}
     },
     "3aef9bbdfe0b43219a90b6e6cf86909e": {
      "model_module": "@jupyter-widgets/base",
      "model_module_version": "1.1.0",
      "model_name": "LayoutModel",
      "state": {}
     },
     "3b0f7338737a4e13bc09822b82d32364": {
      "model_module": "@jupyter-widgets/base",
      "model_module_version": "1.1.0",
      "model_name": "LayoutModel",
      "state": {
       "width": "95%"
      }
     },
     "3b30aba77c334a31b28011bd7f5ef238": {
      "model_module": "@jupyter-widgets/output",
      "model_module_version": "1.0.0",
      "model_name": "OutputModel",
      "state": {
       "layout": "IPY_MODEL_b55d323166b342a2ac20bbf8dd226208"
      }
     },
     "3b64613309204e509a7340d5d24ccf68": {
      "model_module": "@jupyter-widgets/output",
      "model_module_version": "1.0.0",
      "model_name": "OutputModel",
      "state": {
       "layout": "IPY_MODEL_ab9912c2a68a43568b0a3ef39d8b1201"
      }
     },
     "3b944c152415452d8752f674cc596661": {
      "model_module": "@jupyter-widgets/base",
      "model_module_version": "1.1.0",
      "model_name": "LayoutModel",
      "state": {}
     },
     "3baaac93ae01447bbc4e2c7e38743ffc": {
      "model_module": "@jupyter-widgets/output",
      "model_module_version": "1.0.0",
      "model_name": "OutputModel",
      "state": {
       "layout": "IPY_MODEL_79ea9fe6a71941aab3a27e22bbf9522e"
      }
     },
     "3bbbd8d8e6624b249e24945e127c9c5a": {
      "model_module": "@jupyter-widgets/controls",
      "model_module_version": "1.4.0",
      "model_name": "ButtonStyleModel",
      "state": {}
     },
     "3bf2661aba5b402787a5a3ec472dc4cc": {
      "model_module": "@jupyter-widgets/controls",
      "model_module_version": "1.4.0",
      "model_name": "VBoxModel",
      "state": {
       "children": [
        "IPY_MODEL_48eb745ea8b34f63b9ec87e199354f7b",
        "IPY_MODEL_62c9782efc0d4f55962e9cf7c2ab24b3"
       ],
       "layout": "IPY_MODEL_7eea58080fe24972b9dae20ab294a6fa"
      }
     },
     "3c084a07ac6d4f179bc5bb9aab929f87": {
      "model_module": "@jupyter-widgets/base",
      "model_module_version": "1.1.0",
      "model_name": "LayoutModel",
      "state": {}
     },
     "3c192fe3031241a59625023c32ead753": {
      "model_module": "@jupyter-widgets/base",
      "model_module_version": "1.1.0",
      "model_name": "LayoutModel",
      "state": {}
     },
     "3c1c8ecf2d54495e8afbd392edf3c45c": {
      "model_module": "@jupyter-widgets/base",
      "model_module_version": "1.1.0",
      "model_name": "LayoutModel",
      "state": {
       "width": "10%"
      }
     },
     "3c385ae7cb424a1c8b69568ea71d2ec1": {
      "model_module": "@jupyter-widgets/base",
      "model_module_version": "1.1.0",
      "model_name": "LayoutModel",
      "state": {
       "width": "10%"
      }
     },
     "3c62339e55af4fb68f7852a7fc6fb546": {
      "model_module": "@jupyter-widgets/output",
      "model_module_version": "1.0.0",
      "model_name": "OutputModel",
      "state": {
       "layout": "IPY_MODEL_3ebf578a635145f09af1af86db765f02"
      }
     },
     "3c69c37cc921472f9da2047692d70b65": {
      "model_module": "@jupyter-widgets/controls",
      "model_module_version": "1.4.0",
      "model_name": "ButtonModel",
      "state": {
       "description": "3",
       "layout": "IPY_MODEL_9651bef3cda24e5cb4ca50461c94ba4b",
       "style": "IPY_MODEL_98fc74fdee534c3da85873748b4ebdcc"
      }
     },
     "3c704e2d2ee34a8dbb93c99d7a8c15d2": {
      "model_module": "@jupyter-widgets/output",
      "model_module_version": "1.0.0",
      "model_name": "OutputModel",
      "state": {
       "layout": "IPY_MODEL_fefa00241dda40f2b7610ccbf21cc032"
      }
     },
     "3c74dd2ffb0d4007a73727a6967c1082": {
      "model_module": "@jupyter-widgets/base",
      "model_module_version": "1.1.0",
      "model_name": "LayoutModel",
      "state": {
       "width": "95%"
      }
     },
     "3c8488bbabf2425aa395bc298fe09af4": {
      "model_module": "@jupyter-widgets/base",
      "model_module_version": "1.1.0",
      "model_name": "LayoutModel",
      "state": {
       "width": "95%"
      }
     },
     "3c89e4d5e5ff4778bdbdbb2503b404d3": {
      "model_module": "@jupyter-widgets/controls",
      "model_module_version": "1.4.0",
      "model_name": "ButtonModel",
      "state": {
       "description": "7",
       "layout": "IPY_MODEL_f389a9d370ca4c9fbe59f6f456b1bb7e",
       "style": "IPY_MODEL_89aa4931d16943a5a79cb0e7e1ffdc42"
      }
     },
     "3caea438f9934076986be944f960f087": {
      "model_module": "@jupyter-widgets/base",
      "model_module_version": "1.1.0",
      "model_name": "LayoutModel",
      "state": {}
     },
     "3cc3182a995549ed946a46ae8ed3f2d9": {
      "model_module": "@jupyter-widgets/base",
      "model_module_version": "1.1.0",
      "model_name": "LayoutModel",
      "state": {}
     },
     "3cf230d1cc3642caa53339ce512d636c": {
      "model_module": "@jupyter-widgets/controls",
      "model_module_version": "1.4.0",
      "model_name": "ButtonStyleModel",
      "state": {}
     },
     "3d02efe3875544fda7c3a98e13a09db1": {
      "model_module": "@jupyter-widgets/controls",
      "model_module_version": "1.4.0",
      "model_name": "ButtonModel",
      "state": {
       "description": "4",
       "layout": "IPY_MODEL_d6827ff2a3f440e9b47789d5a946db00",
       "style": "IPY_MODEL_ad1af89df9dc4f3abde67425ec3d3b02"
      }
     },
     "3d118169e8a34d0ea49112b9c74b43d8": {
      "model_module": "@jupyter-widgets/base",
      "model_module_version": "1.1.0",
      "model_name": "LayoutModel",
      "state": {
       "width": "95%"
      }
     },
     "3d3d709a85e644649066ec258c8db31c": {
      "model_module": "@jupyter-widgets/output",
      "model_module_version": "1.0.0",
      "model_name": "OutputModel",
      "state": {
       "layout": "IPY_MODEL_191a442b542d47fa90ee05db8261d412"
      }
     },
     "3d6a005087eb4ba0a48a5f706d1dd746": {
      "model_module": "@jupyter-widgets/controls",
      "model_module_version": "1.4.0",
      "model_name": "ButtonStyleModel",
      "state": {}
     },
     "3d7d17f192e24b22b870576bc3dd7693": {
      "model_module": "@jupyter-widgets/output",
      "model_module_version": "1.0.0",
      "model_name": "OutputModel",
      "state": {
       "layout": "IPY_MODEL_2a3c5faae8944220b22dee7810ac721c"
      }
     },
     "3d82d4daf43c4796964c81047bfb2df8": {
      "model_module": "@jupyter-widgets/controls",
      "model_module_version": "1.4.0",
      "model_name": "ButtonModel",
      "state": {
       "description": "1",
       "layout": "IPY_MODEL_a5b89769c3fe4cd28e3f2951f932e806",
       "style": "IPY_MODEL_ac569994f6434a54988cf8cabb7b8165"
      }
     },
     "3de0d349f8524f9cb4b0f53a671aaf82": {
      "model_module": "@jupyter-widgets/base",
      "model_module_version": "1.1.0",
      "model_name": "LayoutModel",
      "state": {}
     },
     "3de901d7cfbf44cab208d608df41e129": {
      "model_module": "@jupyter-widgets/controls",
      "model_module_version": "1.4.0",
      "model_name": "ButtonModel",
      "state": {
       "description": "7",
       "layout": "IPY_MODEL_3a82741a0d47407aa941acd7cc8218ab",
       "style": "IPY_MODEL_8fb9fb332f234a17bc55381272c80ea6"
      }
     },
     "3dee0cc4ffe047ee8390a76ac4cef365": {
      "model_module": "@jupyter-widgets/controls",
      "model_module_version": "1.4.0",
      "model_name": "ButtonStyleModel",
      "state": {}
     },
     "3df7fa6e0c434a5f88bca1c55a3b676a": {
      "model_module": "@jupyter-widgets/controls",
      "model_module_version": "1.4.0",
      "model_name": "TextModel",
      "state": {
       "description": "Other:",
       "layout": "IPY_MODEL_ed5544369d244d988d7bf019d3278de4",
       "placeholder": "Hit enter to submit.",
       "style": "IPY_MODEL_ec14cb1fe51348e4bd1de66859271086"
      }
     },
     "3df8efe4527444e4b565cf15485c66a6": {
      "model_module": "@jupyter-widgets/base",
      "model_module_version": "1.1.0",
      "model_name": "LayoutModel",
      "state": {
       "width": "10%"
      }
     },
     "3e2b47ee34d843bbabca9439f0ad725e": {
      "model_module": "@jupyter-widgets/controls",
      "model_module_version": "1.4.0",
      "model_name": "HBoxModel",
      "state": {
       "children": [
        "IPY_MODEL_0c50eddf90a04589a13c56d52855a2dc",
        "IPY_MODEL_40eda2e209e2458097456db1079ebdbd"
       ],
       "layout": "IPY_MODEL_fd2a5b289edb4622a87df1ce49f9e001"
      }
     },
     "3e386418495f434689e0a9f9c1b577e1": {
      "model_module": "@jupyter-widgets/base",
      "model_module_version": "1.1.0",
      "model_name": "LayoutModel",
      "state": {}
     },
     "3e425e0d30d84c41b74805d3301b1a33": {
      "model_module": "@jupyter-widgets/controls",
      "model_module_version": "1.4.0",
      "model_name": "HBoxModel",
      "state": {
       "children": [
        "IPY_MODEL_0404ddb760f74320b63eb9861bfc3f66",
        "IPY_MODEL_dff2e0fec561495a8d867e306e86ee31",
        "IPY_MODEL_a66fc6a0bc2e42bd9cbeb9dc732a83cb",
        "IPY_MODEL_15b509f240494d9b836044d1730a389f",
        "IPY_MODEL_28f759ab31bf4fe78bad9fea05f027c9",
        "IPY_MODEL_e7f820d6889540e4b1ee5d02e8365862",
        "IPY_MODEL_afd1e4407e504e06ad64305a722a6b1a",
        "IPY_MODEL_99ca8a4a659e41639e60ed4f7bb396bd",
        "IPY_MODEL_adbbd11ae6604232b69f17bbc16b3a7f",
        "IPY_MODEL_a4504e35c50a409cb74e7aa1c86c0e4d"
       ],
       "layout": "IPY_MODEL_847fdea6bc7f4c25a169fa6909458ade"
      }
     },
     "3e4afbd268fc4ec1ab61a07c8453b762": {
      "model_module": "@jupyter-widgets/controls",
      "model_module_version": "1.4.0",
      "model_name": "ButtonModel",
      "state": {
       "description": "8",
       "layout": "IPY_MODEL_88703758e8e645ba9da976b740ea3b7c",
       "style": "IPY_MODEL_03bb45f39b414f69822a444ebb463d07"
      }
     },
     "3e68b6cec1584d47802ca934c51dfb55": {
      "model_module": "@jupyter-widgets/base",
      "model_module_version": "1.1.0",
      "model_name": "LayoutModel",
      "state": {}
     },
     "3e693f2f53f143bea532d2ae8744361d": {
      "model_module": "@jupyter-widgets/controls",
      "model_module_version": "1.4.0",
      "model_name": "HBoxModel",
      "state": {
       "children": [
        "IPY_MODEL_a7b44988270847eabb0bf8f369e3567b",
        "IPY_MODEL_8ff52e9bec0d4c2bbfd8b2d96b28d24c",
        "IPY_MODEL_85b809c18a6c4a50963c04ccc34d9c28"
       ],
       "layout": "IPY_MODEL_29a91570ff17422fb9eded102469638e"
      }
     },
     "3e6b6e9cf7e044608c0c9a125829d52f": {
      "model_module": "@jupyter-widgets/base",
      "model_module_version": "1.1.0",
      "model_name": "LayoutModel",
      "state": {
       "width": "10%"
      }
     },
     "3e85eee569a74324b9ad74df7c671a34": {
      "model_module": "@jupyter-widgets/base",
      "model_module_version": "1.1.0",
      "model_name": "LayoutModel",
      "state": {
       "width": "95%"
      }
     },
     "3ebf578a635145f09af1af86db765f02": {
      "model_module": "@jupyter-widgets/base",
      "model_module_version": "1.1.0",
      "model_name": "LayoutModel",
      "state": {}
     },
     "3ec8b88ba0bf47b0a77bdd4fc3a7e199": {
      "model_module": "@jupyter-widgets/controls",
      "model_module_version": "1.4.0",
      "model_name": "ButtonStyleModel",
      "state": {}
     },
     "3f0a430d14da4fc09c8f4a771ec435f5": {
      "model_module": "@jupyter-widgets/base",
      "model_module_version": "1.1.0",
      "model_name": "LayoutModel",
      "state": {
       "width": "95%"
      }
     },
     "3f1a22a45f5346b3a27d5fadfe236168": {
      "model_module": "@jupyter-widgets/base",
      "model_module_version": "1.1.0",
      "model_name": "LayoutModel",
      "state": {
       "width": "95%"
      }
     },
     "3f22ef08e5864d16b213c31ad6f0801a": {
      "model_module": "@jupyter-widgets/controls",
      "model_module_version": "1.4.0",
      "model_name": "ButtonModel",
      "state": {
       "description": "8",
       "layout": "IPY_MODEL_7c0492d39a454b5da4b17715aae5f729",
       "style": "IPY_MODEL_d2459c212f7442b3b8aa771165f02aa1"
      }
     },
     "3f2398d453fa45e4b5105a2716c69d47": {
      "model_module": "@jupyter-widgets/base",
      "model_module_version": "1.1.0",
      "model_name": "LayoutModel",
      "state": {
       "width": "95%"
      }
     },
     "3f32cc334f54459b93edf14c2291b30d": {
      "model_module": "@jupyter-widgets/output",
      "model_module_version": "1.0.0",
      "model_name": "OutputModel",
      "state": {
       "layout": "IPY_MODEL_bcd35487758f4b548bdbecfd8012458c"
      }
     },
     "3f54050b0485471496a884b0ccafb0ce": {
      "model_module": "@jupyter-widgets/base",
      "model_module_version": "1.1.0",
      "model_name": "LayoutModel",
      "state": {
       "width": "95%"
      }
     },
     "3f7816c0047749e6838053114dbbcdb7": {
      "model_module": "@jupyter-widgets/base",
      "model_module_version": "1.1.0",
      "model_name": "LayoutModel",
      "state": {
       "width": "95%"
      }
     },
     "3f7a2a418a254d2dad825adb4f2e0fab": {
      "model_module": "@jupyter-widgets/controls",
      "model_module_version": "1.4.0",
      "model_name": "VBoxModel",
      "state": {
       "children": [
        "IPY_MODEL_dd525af6ba5f4bf9b97b89cbd3895f90",
        "IPY_MODEL_df94ec38391c4269808db51e49a0fa99"
       ],
       "layout": "IPY_MODEL_e554e8cc04814b2a88c3368b6770ce8f"
      }
     },
     "3f7ccf7271f640409df314251e1d229d": {
      "model_module": "@jupyter-widgets/controls",
      "model_module_version": "1.4.0",
      "model_name": "ButtonStyleModel",
      "state": {}
     },
     "3f97d70aec1949628426b3e2d724d396": {
      "model_module": "@jupyter-widgets/base",
      "model_module_version": "1.1.0",
      "model_name": "LayoutModel",
      "state": {
       "justify_content": "space-between"
      }
     },
     "3fae42d3ed0c40c7b6a73af548f22a16": {
      "model_module": "@jupyter-widgets/controls",
      "model_module_version": "1.4.0",
      "model_name": "VBoxModel",
      "state": {
       "children": [
        "IPY_MODEL_afbba66a274248d0afca6828bb58e207",
        "IPY_MODEL_80b4025ad6b945c2883d6ea14f228fea"
       ],
       "layout": "IPY_MODEL_b31edad9e8ce47de902495871bc1054e"
      }
     },
     "3fc1944b64ec42ba911cef9c4ee642b2": {
      "model_module": "@jupyter-widgets/base",
      "model_module_version": "1.1.0",
      "model_name": "LayoutModel",
      "state": {}
     },
     "3fe22e3cf3234cdf84c43a16a3e74b66": {
      "model_module": "@jupyter-widgets/controls",
      "model_module_version": "1.4.0",
      "model_name": "ButtonStyleModel",
      "state": {}
     },
     "4008dcd5bd174af8b6ccf48d62dabac0": {
      "model_module": "@jupyter-widgets/controls",
      "model_module_version": "1.4.0",
      "model_name": "ButtonModel",
      "state": {
       "description": "Retrain",
       "icon": "refresh",
       "layout": "IPY_MODEL_007ad952f293476086b94d0495dd7ced",
       "style": "IPY_MODEL_ee8910af544242be8815e32bf2d4517b",
       "tooltip": "Click me"
      }
     },
     "400a70fa6d7d4fe3b04bde5736a9599f": {
      "model_module": "@jupyter-widgets/controls",
      "model_module_version": "1.4.0",
      "model_name": "ButtonModel",
      "state": {
       "description": "9",
       "layout": "IPY_MODEL_4348eafbb5544e4c8d220a8eb9dde4b6",
       "style": "IPY_MODEL_a1d10fa4a7d54d158617859003196609"
      }
     },
     "404052da781a470e9842bc4a74b2cfb4": {
      "model_module": "@jupyter-widgets/base",
      "model_module_version": "1.1.0",
      "model_name": "LayoutModel",
      "state": {
       "width": "10%"
      }
     },
     "405160cbdd314b75a8c8e16ca961357b": {
      "model_module": "@jupyter-widgets/controls",
      "model_module_version": "1.4.0",
      "model_name": "ButtonStyleModel",
      "state": {}
     },
     "405721b4abe64aaebab08e80674ed68d": {
      "model_module": "@jupyter-widgets/base",
      "model_module_version": "1.1.0",
      "model_name": "LayoutModel",
      "state": {}
     },
     "40777cc7bb5e4703a914ea431ed53618": {
      "model_module": "@jupyter-widgets/base",
      "model_module_version": "1.1.0",
      "model_name": "LayoutModel",
      "state": {
       "width": "95%"
      }
     },
     "4083ec4be9574589a998c7249b1a4071": {
      "model_module": "@jupyter-widgets/base",
      "model_module_version": "1.1.0",
      "model_name": "LayoutModel",
      "state": {
       "width": "10%"
      }
     },
     "40843be7ea3442619aebd8f184b7241a": {
      "model_module": "@jupyter-widgets/base",
      "model_module_version": "1.1.0",
      "model_name": "LayoutModel",
      "state": {}
     },
     "408ba8a7ff124400b22e31b31fdab369": {
      "model_module": "@jupyter-widgets/output",
      "model_module_version": "1.0.0",
      "model_name": "OutputModel",
      "state": {
       "layout": "IPY_MODEL_54ab6fb1a29448c482788c3c4c566459"
      }
     },
     "408e2a8df4de4d9195fca413ab57cd41": {
      "model_module": "@jupyter-widgets/base",
      "model_module_version": "1.1.0",
      "model_name": "LayoutModel",
      "state": {
       "width": "95%"
      }
     },
     "409b69622a44443cb3ead8d9bf9640d3": {
      "model_module": "@jupyter-widgets/controls",
      "model_module_version": "1.4.0",
      "model_name": "ButtonStyleModel",
      "state": {}
     },
     "40aaa4722cbf4343961e268f95e942a4": {
      "model_module": "@jupyter-widgets/output",
      "model_module_version": "1.0.0",
      "model_name": "OutputModel",
      "state": {
       "layout": "IPY_MODEL_0bcf43a166424c539299c49fa850dd23"
      }
     },
     "40c81619fec145d99319abaddaf10bd5": {
      "model_module": "@jupyter-widgets/controls",
      "model_module_version": "1.4.0",
      "model_name": "VBoxModel",
      "state": {
       "children": [
        "IPY_MODEL_cd153f90dbe047a495dd35e481fcc579",
        "IPY_MODEL_0931faed24254a47b6fb89f3212da0e9"
       ],
       "layout": "IPY_MODEL_f24128c4c2b0473e9e8e1d49f25c07a5"
      }
     },
     "40c90050b4134101a6612d26fb5e198a": {
      "model_module": "@jupyter-widgets/controls",
      "model_module_version": "1.4.0",
      "model_name": "ButtonStyleModel",
      "state": {}
     },
     "40cbe2b126534d47b7cf3d5548a83396": {
      "model_module": "@jupyter-widgets/controls",
      "model_module_version": "1.4.0",
      "model_name": "ButtonModel",
      "state": {
       "description": "9",
       "layout": "IPY_MODEL_343693e21d5045d1bcd03c63370cc0d4",
       "style": "IPY_MODEL_e6333b2c674a425ba451b7a84cfa7a74"
      }
     },
     "40d9fd310a494a8ba0e32fc22eeaa02f": {
      "model_module": "@jupyter-widgets/controls",
      "model_module_version": "1.4.0",
      "model_name": "ButtonStyleModel",
      "state": {}
     },
     "40eda2e209e2458097456db1079ebdbd": {
      "model_module": "@jupyter-widgets/controls",
      "model_module_version": "1.4.0",
      "model_name": "HBoxModel",
      "state": {
       "children": [
        "IPY_MODEL_a7b44988270847eabb0bf8f369e3567b",
        "IPY_MODEL_8ff52e9bec0d4c2bbfd8b2d96b28d24c",
        "IPY_MODEL_85b809c18a6c4a50963c04ccc34d9c28"
       ],
       "layout": "IPY_MODEL_7820b77634304dd8bbc267c1e6776089"
      }
     },
     "40f5db51be38422e8f90552944f20110": {
      "model_module": "@jupyter-widgets/base",
      "model_module_version": "1.1.0",
      "model_name": "LayoutModel",
      "state": {
       "width": "95%"
      }
     },
     "40fc692e7e78485ab4eabd3b6ef868d6": {
      "model_module": "@jupyter-widgets/base",
      "model_module_version": "1.1.0",
      "model_name": "LayoutModel",
      "state": {
       "width": "95%"
      }
     },
     "412db49175574c40b15ff754975dc0d2": {
      "model_module": "@jupyter-widgets/controls",
      "model_module_version": "1.4.0",
      "model_name": "VBoxModel",
      "state": {
       "children": [
        "IPY_MODEL_2dadeb89e93d4771a0d8a12f9af78645",
        "IPY_MODEL_87a661f067e546a59a47c0a502c536ee"
       ],
       "layout": "IPY_MODEL_86025b8db64747bf9b6c1837035bf2f3"
      }
     },
     "41464d54387440fd9decfa9f42b4bc79": {
      "model_module": "@jupyter-widgets/base",
      "model_module_version": "1.1.0",
      "model_name": "LayoutModel",
      "state": {
       "width": "95%"
      }
     },
     "415a3487ed5945728f2634443c348b5c": {
      "model_module": "@jupyter-widgets/controls",
      "model_module_version": "1.4.0",
      "model_name": "VBoxModel",
      "state": {
       "children": [
        "IPY_MODEL_9f6f89b7ea7d43c79b3a9653364af045",
        "IPY_MODEL_34ff8c5157374314bfc4ef9378bc5918"
       ],
       "layout": "IPY_MODEL_66435543d1f746a4b0f3290367bf17f3"
      }
     },
     "4165b51147944de0b1adf3b3f34d6f7f": {
      "model_module": "@jupyter-widgets/base",
      "model_module_version": "1.1.0",
      "model_name": "LayoutModel",
      "state": {
       "width": "95%"
      }
     },
     "417e3531764641f28ea6f2f6e8bfb9bc": {
      "model_module": "@jupyter-widgets/controls",
      "model_module_version": "1.4.0",
      "model_name": "HBoxModel",
      "state": {
       "children": [
        "IPY_MODEL_5f6104a6b4ff40b985a851048cf4a1bd",
        "IPY_MODEL_992eb1908b7c415b82f2b938f061644c",
        "IPY_MODEL_1828f1a433be43cabe10bd58ad3b322d",
        "IPY_MODEL_ba0dec79b0f445fcb8d1aa5e9e4921ec",
        "IPY_MODEL_72d68425398149fdbac0db96abce70c6",
        "IPY_MODEL_e719220e39e94d7eb8184bd4ecd9a5fb",
        "IPY_MODEL_9857d461319a4edab3abf38256e7897b",
        "IPY_MODEL_6f7acde1839d4d3384184d94907a9075",
        "IPY_MODEL_933782b9c72942b3b07bb993440c1726",
        "IPY_MODEL_4926b3fcd1684833a4243e25f19c7020"
       ],
       "layout": "IPY_MODEL_2def452cece94d7b9b0601b85859e549"
      }
     },
     "4189aac09f604d938b627141fac7e27c": {
      "model_module": "@jupyter-widgets/base",
      "model_module_version": "1.1.0",
      "model_name": "LayoutModel",
      "state": {}
     },
     "419494347f804c24b3d0976873996c75": {
      "model_module": "@jupyter-widgets/controls",
      "model_module_version": "1.4.0",
      "model_name": "ButtonStyleModel",
      "state": {}
     },
     "419806f948254f779f03fb3b92cbcb94": {
      "model_module": "@jupyter-widgets/base",
      "model_module_version": "1.1.0",
      "model_name": "LayoutModel",
      "state": {
       "width": "95%"
      }
     },
     "41a8cec19632413b9f5bafccec1a8606": {
      "model_module": "@jupyter-widgets/base",
      "model_module_version": "1.1.0",
      "model_name": "LayoutModel",
      "state": {
       "width": "95%"
      }
     },
     "41ae120bde0b4a97a90df9c0f9b32e51": {
      "model_module": "@jupyter-widgets/controls",
      "model_module_version": "1.4.0",
      "model_name": "ButtonStyleModel",
      "state": {}
     },
     "41d15193a60344308f5d056299c469ff": {
      "model_module": "@jupyter-widgets/output",
      "model_module_version": "1.0.0",
      "model_name": "OutputModel",
      "state": {
       "layout": "IPY_MODEL_0e82070e8465476f98f4e38b177eb528"
      }
     },
     "41dc4adbe67247fc90ed7078a1f387d5": {
      "model_module": "@jupyter-widgets/base",
      "model_module_version": "1.1.0",
      "model_name": "LayoutModel",
      "state": {
       "width": "10%"
      }
     },
     "41fe44dedfa94a95bba73012c20cb0c2": {
      "model_module": "@jupyter-widgets/controls",
      "model_module_version": "1.4.0",
      "model_name": "VBoxModel",
      "state": {
       "children": [
        "IPY_MODEL_3127b7de79f342f285fc8cc860322eb8",
        "IPY_MODEL_bb431c434a6f4114b0086e0db46ec2c0"
       ],
       "layout": "IPY_MODEL_f2321bad2ac24e05a4179bd2c6936fc1"
      }
     },
     "4207f7675a14407a8808062faed10ebf": {
      "model_module": "@jupyter-widgets/output",
      "model_module_version": "1.0.0",
      "model_name": "OutputModel",
      "state": {
       "layout": "IPY_MODEL_b3ab3475430946799fe3dcac67b3fd72"
      }
     },
     "420a6b3b1a884c70bcf6c596bd46499d": {
      "model_module": "@jupyter-widgets/controls",
      "model_module_version": "1.4.0",
      "model_name": "ButtonStyleModel",
      "state": {}
     },
     "421e6e7d89a04fc5bd6db2f7b404bf49": {
      "model_module": "@jupyter-widgets/base",
      "model_module_version": "1.1.0",
      "model_name": "LayoutModel",
      "state": {}
     },
     "42283fedc8d44511ad9717c07bfcc516": {
      "model_module": "@jupyter-widgets/base",
      "model_module_version": "1.1.0",
      "model_name": "LayoutModel",
      "state": {}
     },
     "42532813c4e94deeb76409b38a4a397b": {
      "model_module": "@jupyter-widgets/base",
      "model_module_version": "1.1.0",
      "model_name": "LayoutModel",
      "state": {
       "width": "10%"
      }
     },
     "425d4f1ef99140eea7935d14e6bbf012": {
      "model_module": "@jupyter-widgets/controls",
      "model_module_version": "1.4.0",
      "model_name": "ButtonModel",
      "state": {
       "description": "7",
       "layout": "IPY_MODEL_1f7e9e3af01748e9908b99fe79737bb3",
       "style": "IPY_MODEL_dc0463dcf0f44c90b3378de8bb358340"
      }
     },
     "4263d0119ab94fa58012b033027a643d": {
      "model_module": "@jupyter-widgets/controls",
      "model_module_version": "1.4.0",
      "model_name": "HBoxModel",
      "state": {
       "children": [
        "IPY_MODEL_a7b44988270847eabb0bf8f369e3567b",
        "IPY_MODEL_8ff52e9bec0d4c2bbfd8b2d96b28d24c",
        "IPY_MODEL_85b809c18a6c4a50963c04ccc34d9c28"
       ],
       "layout": "IPY_MODEL_94d13f6fa20140209ee8aa994b69f8cd"
      }
     },
     "4276dc9ec3864fe5b803f2a212877832": {
      "model_module": "@jupyter-widgets/base",
      "model_module_version": "1.1.0",
      "model_name": "LayoutModel",
      "state": {
       "width": "95%"
      }
     },
     "427df96ab92a44b29a52f65a46f92460": {
      "model_module": "@jupyter-widgets/base",
      "model_module_version": "1.1.0",
      "model_name": "LayoutModel",
      "state": {}
     },
     "428d9e632b6640258608b48dacb8c44d": {
      "model_module": "@jupyter-widgets/controls",
      "model_module_version": "1.4.0",
      "model_name": "ButtonModel",
      "state": {
       "description": "9",
       "layout": "IPY_MODEL_b6d7d8b4bfe741459ccaca4208ae1415",
       "style": "IPY_MODEL_da5d6a58d7504d0eaa3177e9e1df89b7"
      }
     },
     "4295bde215a8409888dcbcfb9e8d62ff": {
      "model_module": "@jupyter-widgets/output",
      "model_module_version": "1.0.0",
      "model_name": "OutputModel",
      "state": {
       "layout": "IPY_MODEL_8b940e56f73b4d83bb327b1a5b857035"
      }
     },
     "42c7f31da5c142f3b96db4e6f6ace2b7": {
      "model_module": "@jupyter-widgets/output",
      "model_module_version": "1.0.0",
      "model_name": "OutputModel",
      "state": {
       "layout": "IPY_MODEL_352ae1ec43e24081affa00075d32465d"
      }
     },
     "42d0e46ca8ea4dd5bb596577a25e8da2": {
      "model_module": "@jupyter-widgets/base",
      "model_module_version": "1.1.0",
      "model_name": "LayoutModel",
      "state": {
       "justify_content": "space-between"
      }
     },
     "42d5b10202044f46961a45dd27586cf0": {
      "model_module": "@jupyter-widgets/controls",
      "model_module_version": "1.4.0",
      "model_name": "VBoxModel",
      "state": {
       "children": [
        "IPY_MODEL_80259b07bd8d49728e1b5e392bcab228",
        "IPY_MODEL_63e6c42b3aa444c38462522413fcfb33"
       ],
       "layout": "IPY_MODEL_7b9bf889c98b4b92b065cb1844392d3c"
      }
     },
     "42dbefedaebc485ba038760a4398c5bf": {
      "model_module": "@jupyter-widgets/base",
      "model_module_version": "1.1.0",
      "model_name": "LayoutModel",
      "state": {
       "width": "10%"
      }
     },
     "42fcc5024f4b465dbf82c979098cb061": {
      "model_module": "@jupyter-widgets/base",
      "model_module_version": "1.1.0",
      "model_name": "LayoutModel",
      "state": {
       "width": "10%"
      }
     },
     "4312b28044284c7faa83d398737a36f2": {
      "model_module": "@jupyter-widgets/base",
      "model_module_version": "1.1.0",
      "model_name": "LayoutModel",
      "state": {
       "width": "10%"
      }
     },
     "43254d392722447bb4b58ca473cc7717": {
      "model_module": "@jupyter-widgets/base",
      "model_module_version": "1.1.0",
      "model_name": "LayoutModel",
      "state": {
       "width": "10%"
      }
     },
     "43423b4321784d29b6f0dfb8f9cb16b0": {
      "model_module": "@jupyter-widgets/base",
      "model_module_version": "1.1.0",
      "model_name": "LayoutModel",
      "state": {
       "width": "95%"
      }
     },
     "4345fb79d9d94398aa6aeeba35324500": {
      "model_module": "@jupyter-widgets/output",
      "model_module_version": "1.0.0",
      "model_name": "OutputModel",
      "state": {
       "layout": "IPY_MODEL_386a45d9e8ee4cde978f3535a4836cc5"
      }
     },
     "4348eafbb5544e4c8d220a8eb9dde4b6": {
      "model_module": "@jupyter-widgets/base",
      "model_module_version": "1.1.0",
      "model_name": "LayoutModel",
      "state": {
       "width": "95%"
      }
     },
     "4365e01bc87d448b9c8e69ffaa9d2b1f": {
      "model_module": "@jupyter-widgets/controls",
      "model_module_version": "1.4.0",
      "model_name": "ButtonModel",
      "state": {
       "description": "0",
       "layout": "IPY_MODEL_871fa8763b2548cba2df5d127dc9e63d",
       "style": "IPY_MODEL_d92659bec1c24d92aa4de68c828164fb"
      }
     },
     "4380a778567d4ccabe434601272bb88e": {
      "model_module": "@jupyter-widgets/base",
      "model_module_version": "1.1.0",
      "model_name": "LayoutModel",
      "state": {
       "width": "10%"
      }
     },
     "4384908021a1427cac966349d00fe76c": {
      "model_module": "@jupyter-widgets/base",
      "model_module_version": "1.1.0",
      "model_name": "LayoutModel",
      "state": {
       "width": "95%"
      }
     },
     "4388969b52f14af487a4d8a6522dd710": {
      "model_module": "@jupyter-widgets/controls",
      "model_module_version": "1.4.0",
      "model_name": "ButtonModel",
      "state": {
       "description": "5",
       "layout": "IPY_MODEL_1c2a30d8b0e44e008bd4afab300d781c",
       "style": "IPY_MODEL_ac7408f37e764acfbb205749502966dc"
      }
     },
     "43986fd83469492e9a133e757bdad825": {
      "model_module": "@jupyter-widgets/controls",
      "model_module_version": "1.4.0",
      "model_name": "VBoxModel",
      "state": {
       "children": [
        "IPY_MODEL_65058806f5124c2986fbad897d1e3be6",
        "IPY_MODEL_e23c6745e7444916b6176293aee47665"
       ],
       "layout": "IPY_MODEL_2e97090e4d774cd3974d8edb8b555d54"
      }
     },
     "43e1549173334e918863619255d722f3": {
      "model_module": "@jupyter-widgets/base",
      "model_module_version": "1.1.0",
      "model_name": "LayoutModel",
      "state": {
       "width": "95%"
      }
     },
     "43ec85581d124580a71d2a12e19e9833": {
      "model_module": "@jupyter-widgets/controls",
      "model_module_version": "1.4.0",
      "model_name": "ButtonStyleModel",
      "state": {}
     },
     "43f12dd18d5b4f7db81cca7285ae41a9": {
      "model_module": "@jupyter-widgets/output",
      "model_module_version": "1.0.0",
      "model_name": "OutputModel",
      "state": {
       "layout": "IPY_MODEL_6fdc799e12164f67ace96c16418e0176"
      }
     },
     "43f5ac42797b4fbcb4d58220dc46aedc": {
      "model_module": "@jupyter-widgets/controls",
      "model_module_version": "1.4.0",
      "model_name": "ButtonStyleModel",
      "state": {}
     },
     "4400746eff754f5a997c6fac13710c55": {
      "model_module": "@jupyter-widgets/output",
      "model_module_version": "1.0.0",
      "model_name": "OutputModel",
      "state": {
       "layout": "IPY_MODEL_40843be7ea3442619aebd8f184b7241a"
      }
     },
     "44014c88b48f4eeb95be2996a79f3b4a": {
      "model_module": "@jupyter-widgets/base",
      "model_module_version": "1.1.0",
      "model_name": "LayoutModel",
      "state": {}
     },
     "440b46db47614e9d934d20fd1d6e5b17": {
      "model_module": "@jupyter-widgets/base",
      "model_module_version": "1.1.0",
      "model_name": "LayoutModel",
      "state": {}
     },
     "442604adb3ce46aea4d2091c9d9fe1d8": {
      "model_module": "@jupyter-widgets/controls",
      "model_module_version": "1.4.0",
      "model_name": "VBoxModel",
      "state": {
       "children": [
        "IPY_MODEL_c72446e405e64642a9a0cb7f3738d379",
        "IPY_MODEL_de0e5657ff6c4cea98f4177a356ea9d8"
       ],
       "layout": "IPY_MODEL_7ddf9d036e0a4fd1ba6d5e550e37192e"
      }
     },
     "444025ceea0e4a4b881f137d5d677b23": {
      "model_module": "@jupyter-widgets/output",
      "model_module_version": "1.0.0",
      "model_name": "OutputModel",
      "state": {
       "layout": "IPY_MODEL_21563e1068734e80be274ec6d194d913"
      }
     },
     "44473af877b74446a681c389b31ecec6": {
      "model_module": "@jupyter-widgets/controls",
      "model_module_version": "1.4.0",
      "model_name": "VBoxModel",
      "state": {
       "children": [
        "IPY_MODEL_94595d40217040668acdaf98da58fb17",
        "IPY_MODEL_039ad27e34cc482fb2c0b099e043fc12"
       ],
       "layout": "IPY_MODEL_c61e173cced048a8b1acd66696bc4e5d"
      }
     },
     "44508042ece9459a9a2462b7d7375f10": {
      "model_module": "@jupyter-widgets/base",
      "model_module_version": "1.1.0",
      "model_name": "LayoutModel",
      "state": {
       "width": "10%"
      }
     },
     "4460d9b9c18f446aa2f799b167acdba8": {
      "model_module": "@jupyter-widgets/controls",
      "model_module_version": "1.4.0",
      "model_name": "ButtonModel",
      "state": {
       "description": "0",
       "layout": "IPY_MODEL_13371b3d7a3b413f8c00f352dd9d0d88",
       "style": "IPY_MODEL_3acc40886d054b0686fda3afb209a289"
      }
     },
     "4460e07686c24ebc88cbb7b109f92a6e": {
      "model_module": "@jupyter-widgets/output",
      "model_module_version": "1.0.0",
      "model_name": "OutputModel",
      "state": {
       "layout": "IPY_MODEL_2452c2b2d48b48bfa58a3753eee94035"
      }
     },
     "44742fa3df6341ec93a24f1c9e1480b4": {
      "model_module": "@jupyter-widgets/base",
      "model_module_version": "1.1.0",
      "model_name": "LayoutModel",
      "state": {
       "width": "95%"
      }
     },
     "4486e98371ff42a6955f9fb796dd89f7": {
      "model_module": "@jupyter-widgets/base",
      "model_module_version": "1.1.0",
      "model_name": "LayoutModel",
      "state": {}
     },
     "4493fcaf0abf4485a96e8e82e6fb6885": {
      "model_module": "@jupyter-widgets/output",
      "model_module_version": "1.0.0",
      "model_name": "OutputModel",
      "state": {
       "layout": "IPY_MODEL_048e5da0a9f141bd90a32f8b6df67c39"
      }
     },
     "44a4edbd36084a6080c7e7d57c319b68": {
      "model_module": "@jupyter-widgets/base",
      "model_module_version": "1.1.0",
      "model_name": "LayoutModel",
      "state": {
       "width": "10%"
      }
     },
     "44abed6749e34cb29ae6317482a5919a": {
      "model_module": "@jupyter-widgets/base",
      "model_module_version": "1.1.0",
      "model_name": "LayoutModel",
      "state": {}
     },
     "44de430c220f4d25881cebbb9d1610fe": {
      "model_module": "@jupyter-widgets/base",
      "model_module_version": "1.1.0",
      "model_name": "LayoutModel",
      "state": {
       "width": "95%"
      }
     },
     "44e69fbbd485453492f09efa47d8199f": {
      "model_module": "@jupyter-widgets/base",
      "model_module_version": "1.1.0",
      "model_name": "LayoutModel",
      "state": {}
     },
     "44ed55b8401d4de9bfe450d40e1de0dc": {
      "model_module": "@jupyter-widgets/controls",
      "model_module_version": "1.4.0",
      "model_name": "VBoxModel",
      "state": {
       "children": [
        "IPY_MODEL_a1eccc696e044400be9f41ce2ae31344",
        "IPY_MODEL_d85b23b2526c4c50a4d113c366b7a624"
       ],
       "layout": "IPY_MODEL_1d7e2bf5a0504084afa92a8d67b66a97"
      }
     },
     "4504dfda741c46b5bdba52954818bab6": {
      "model_module": "@jupyter-widgets/base",
      "model_module_version": "1.1.0",
      "model_name": "LayoutModel",
      "state": {}
     },
     "451f14e798d54a89b949c3c8ef84ac0b": {
      "model_module": "@jupyter-widgets/controls",
      "model_module_version": "1.4.0",
      "model_name": "VBoxModel",
      "state": {
       "children": [
        "IPY_MODEL_4d0ce0dc31804001bf1846f4354d0ba6",
        "IPY_MODEL_1c282826544d4598932b857c133ce62b"
       ],
       "layout": "IPY_MODEL_dd6ebcf049704003840e23351aef010c"
      }
     },
     "4542819798034c498e129b1d7e373ab8": {
      "model_module": "@jupyter-widgets/base",
      "model_module_version": "1.1.0",
      "model_name": "LayoutModel",
      "state": {
       "width": "95%"
      }
     },
     "455370aafa2b47f6a93ed4f0c63ab6ed": {
      "model_module": "@jupyter-widgets/controls",
      "model_module_version": "1.4.0",
      "model_name": "ButtonStyleModel",
      "state": {}
     },
     "45686817f97f44ff84e01af82047c7fd": {
      "model_module": "@jupyter-widgets/controls",
      "model_module_version": "1.4.0",
      "model_name": "VBoxModel",
      "state": {
       "children": [
        "IPY_MODEL_c309495a24204f78a0d9578411766242",
        "IPY_MODEL_154f2b7bd083467ebd2329d7027424be"
       ],
       "layout": "IPY_MODEL_823bb4f8392c46c59496542c1750c92d"
      }
     },
     "456d1e0369ce48fa89553c7bd916c870": {
      "model_module": "@jupyter-widgets/controls",
      "model_module_version": "1.4.0",
      "model_name": "ButtonStyleModel",
      "state": {}
     },
     "4573530c92ef4bceabadbe6aa2c1798f": {
      "model_module": "@jupyter-widgets/output",
      "model_module_version": "1.0.0",
      "model_name": "OutputModel",
      "state": {
       "layout": "IPY_MODEL_3c084a07ac6d4f179bc5bb9aab929f87"
      }
     },
     "4583ed889f4143d097bb05323f75c3f6": {
      "model_module": "@jupyter-widgets/base",
      "model_module_version": "1.1.0",
      "model_name": "LayoutModel",
      "state": {
       "width": "10%"
      }
     },
     "4593eaf321cf49f385f850dc032a6450": {
      "model_module": "@jupyter-widgets/base",
      "model_module_version": "1.1.0",
      "model_name": "LayoutModel",
      "state": {
       "width": "10%"
      }
     },
     "45d4e1dce15f4957ae7a37b7a745e3ab": {
      "model_module": "@jupyter-widgets/controls",
      "model_module_version": "1.4.0",
      "model_name": "ButtonStyleModel",
      "state": {}
     },
     "45f92330de874b2290569c7e4b65f5dd": {
      "model_module": "@jupyter-widgets/output",
      "model_module_version": "1.0.0",
      "model_name": "OutputModel",
      "state": {
       "layout": "IPY_MODEL_eb616dadd70e4b0cac0c3554edfab502"
      }
     },
     "4609bf80298946ac9717fed76120d544": {
      "model_module": "@jupyter-widgets/base",
      "model_module_version": "1.1.0",
      "model_name": "LayoutModel",
      "state": {
       "width": "10%"
      }
     },
     "460baa35ce37401cb1c10e8e8f9a1323": {
      "model_module": "@jupyter-widgets/controls",
      "model_module_version": "1.4.0",
      "model_name": "ButtonModel",
      "state": {
       "description": "2",
       "layout": "IPY_MODEL_5483d5b428e444a9a41849547bd8652d",
       "style": "IPY_MODEL_b732f459f6a44d47bbfe3f04d9f13923"
      }
     },
     "464e2857bdbe4acabbb2ac6da54f2306": {
      "model_module": "@jupyter-widgets/controls",
      "model_module_version": "1.4.0",
      "model_name": "ButtonStyleModel",
      "state": {}
     },
     "464fa49706d144358c101ee2b44228a9": {
      "model_module": "@jupyter-widgets/controls",
      "model_module_version": "1.4.0",
      "model_name": "ButtonModel",
      "state": {
       "description": "3",
       "layout": "IPY_MODEL_f49fac3990a0478aa433dc3de8041171",
       "style": "IPY_MODEL_e079108155bf4e74be738f38dd9a263b"
      }
     },
     "466857a4435447e78451205ded0d0e51": {
      "model_module": "@jupyter-widgets/controls",
      "model_module_version": "1.4.0",
      "model_name": "ButtonStyleModel",
      "state": {}
     },
     "4685e1c765244a5cb6f8bf4416fefa05": {
      "model_module": "@jupyter-widgets/base",
      "model_module_version": "1.1.0",
      "model_name": "LayoutModel",
      "state": {
       "width": "95%"
      }
     },
     "46ba9533a891434681878f8c9983696c": {
      "model_module": "@jupyter-widgets/controls",
      "model_module_version": "1.4.0",
      "model_name": "HBoxModel",
      "state": {
       "children": [
        "IPY_MODEL_0e305854be674db69acc73bac7fe7c84",
        "IPY_MODEL_af7918380f9d4938ad1a24f7570d482d",
        "IPY_MODEL_ec80780a352b4c40b73e0111bc6ad710",
        "IPY_MODEL_ddf8e95e8b4a489bb16408d4ee67c9d2",
        "IPY_MODEL_1be12de677d1424891f230dc68f80372",
        "IPY_MODEL_e02e76f2328b4be3aa18d2b886e15222",
        "IPY_MODEL_b688dfbc081142069130e06e03850a12",
        "IPY_MODEL_6179b0f7b6864b678528e10c938dea9a",
        "IPY_MODEL_ad330d49cc674edd807aa174f5c43bae",
        "IPY_MODEL_c94bd20c892740efad47b453dc6d809c"
       ],
       "layout": "IPY_MODEL_1eb3a13b97b7435a91f2bb7cb5a4c9cf"
      }
     },
     "46babae094b5497fa187a218782da24a": {
      "model_module": "@jupyter-widgets/controls",
      "model_module_version": "1.4.0",
      "model_name": "VBoxModel",
      "state": {
       "children": [
        "IPY_MODEL_0298df25717c4209acfda4057cbd51c8",
        "IPY_MODEL_82a5baff31494bea9230ef303b903ebf"
       ],
       "layout": "IPY_MODEL_6b173f36316e418d929752b7c2f78d5d"
      }
     },
     "46cf70d0cef34435a880eabd7bd6a9eb": {
      "model_module": "@jupyter-widgets/controls",
      "model_module_version": "1.4.0",
      "model_name": "ButtonModel",
      "state": {
       "description": "6",
       "layout": "IPY_MODEL_9f944aec256443eeb24c54ffcd63cf0a",
       "style": "IPY_MODEL_8e0d7a54c5594480be39b9df2ad9703e"
      }
     },
     "46db198503934c6d87d637218b4dfd84": {
      "model_module": "@jupyter-widgets/base",
      "model_module_version": "1.1.0",
      "model_name": "LayoutModel",
      "state": {}
     },
     "46f30b31aeef4f429b34deacc46d8256": {
      "model_module": "@jupyter-widgets/base",
      "model_module_version": "1.1.0",
      "model_name": "LayoutModel",
      "state": {
       "width": "95%"
      }
     },
     "4715f2ca75f34c2292f0a5db044f5293": {
      "model_module": "@jupyter-widgets/base",
      "model_module_version": "1.1.0",
      "model_name": "LayoutModel",
      "state": {
       "width": "95%"
      }
     },
     "4719a8e35c864fc2a485007415dceb33": {
      "model_module": "@jupyter-widgets/base",
      "model_module_version": "1.1.0",
      "model_name": "LayoutModel",
      "state": {}
     },
     "473fa6d1ea584544989153ce506e9614": {
      "model_module": "@jupyter-widgets/base",
      "model_module_version": "1.1.0",
      "model_name": "LayoutModel",
      "state": {
       "width": "95%"
      }
     },
     "477d268525bb4741a0e81a884f5a4b38": {
      "model_module": "@jupyter-widgets/base",
      "model_module_version": "1.1.0",
      "model_name": "LayoutModel",
      "state": {}
     },
     "478533031ef34bf3bb8c497ec1256aa0": {
      "model_module": "@jupyter-widgets/controls",
      "model_module_version": "1.4.0",
      "model_name": "ButtonModel",
      "state": {
       "description": "4",
       "layout": "IPY_MODEL_8f5361fc5e5b48da91b0d6145392689b",
       "style": "IPY_MODEL_ba469e99eda048cc9a60a4341cea61c8"
      }
     },
     "47ad37b2d1024dc98d422fd6d5ecf452": {
      "model_module": "@jupyter-widgets/base",
      "model_module_version": "1.1.0",
      "model_name": "LayoutModel",
      "state": {}
     },
     "47c17329d81c403fbef79f32724de9a5": {
      "model_module": "@jupyter-widgets/base",
      "model_module_version": "1.1.0",
      "model_name": "LayoutModel",
      "state": {
       "width": "95%"
      }
     },
     "47c485dc3c7148dc89430859b7db5662": {
      "model_module": "@jupyter-widgets/base",
      "model_module_version": "1.1.0",
      "model_name": "LayoutModel",
      "state": {}
     },
     "47c4b985d1644eb2ab4edc904ea50a03": {
      "model_module": "@jupyter-widgets/base",
      "model_module_version": "1.1.0",
      "model_name": "LayoutModel",
      "state": {}
     },
     "47d4d55a44cc4c19b75a05056b4d29a9": {
      "model_module": "@jupyter-widgets/controls",
      "model_module_version": "1.4.0",
      "model_name": "VBoxModel",
      "state": {
       "children": [
        "IPY_MODEL_2b247cac9b444b9d8de0d09c140807a8",
        "IPY_MODEL_b9ef3823d0b349adb117671344c7da51"
       ],
       "layout": "IPY_MODEL_b9133b596b8345d2bec5815bd0555d1d"
      }
     },
     "47df43951e6f4ace8d4dc4e1886dfa17": {
      "model_module": "@jupyter-widgets/controls",
      "model_module_version": "1.4.0",
      "model_name": "ButtonModel",
      "state": {
       "description": "3",
       "layout": "IPY_MODEL_8438c0c53ffa41549f27794bd93ba24e",
       "style": "IPY_MODEL_acd5978f1c68427c94adb2657fb806e6"
      }
     },
     "47f1c6ebc04f471f8a1aa5529d2c9801": {
      "model_module": "@jupyter-widgets/base",
      "model_module_version": "1.1.0",
      "model_name": "LayoutModel",
      "state": {
       "width": "95%"
      }
     },
     "47f22cc3c0c747399c130d98e1dc9067": {
      "model_module": "@jupyter-widgets/controls",
      "model_module_version": "1.4.0",
      "model_name": "ButtonStyleModel",
      "state": {}
     },
     "48089f31fd84436eac05eab698192d12": {
      "model_module": "@jupyter-widgets/base",
      "model_module_version": "1.1.0",
      "model_name": "LayoutModel",
      "state": {
       "width": "10%"
      }
     },
     "48327ab709c244c3bbcbdd213615ec63": {
      "model_module": "@jupyter-widgets/base",
      "model_module_version": "1.1.0",
      "model_name": "LayoutModel",
      "state": {
       "width": "95%"
      }
     },
     "4866399830504b5da9b5d15b046df97e": {
      "model_module": "@jupyter-widgets/base",
      "model_module_version": "1.1.0",
      "model_name": "LayoutModel",
      "state": {
       "width": "10%"
      }
     },
     "486a440606d94cc3bc8bc0641a5e4cb3": {
      "model_module": "@jupyter-widgets/base",
      "model_module_version": "1.1.0",
      "model_name": "LayoutModel",
      "state": {
       "width": "10%"
      }
     },
     "48981d32a6614f329304ca221a52b5d1": {
      "model_module": "@jupyter-widgets/output",
      "model_module_version": "1.0.0",
      "model_name": "OutputModel",
      "state": {
       "layout": "IPY_MODEL_d66e56aa72e34043a59e015fc91a84de"
      }
     },
     "48b13415b455429c9f7845a0deadb4a0": {
      "model_module": "@jupyter-widgets/controls",
      "model_module_version": "1.4.0",
      "model_name": "VBoxModel",
      "state": {
       "children": [
        "IPY_MODEL_efcc7a8a24ae4b529c36f976f69c8bab",
        "IPY_MODEL_c5be77edf25f42018a299aa0e46ed0ed"
       ],
       "layout": "IPY_MODEL_4ccb71d8c1144fd0b07052e9d3aa9684"
      }
     },
     "48bbac8691064700984efacb55b81e72": {
      "model_module": "@jupyter-widgets/base",
      "model_module_version": "1.1.0",
      "model_name": "LayoutModel",
      "state": {}
     },
     "48c5309a9be945c5ad50556334ea1f09": {
      "model_module": "@jupyter-widgets/controls",
      "model_module_version": "1.4.0",
      "model_name": "DescriptionStyleModel",
      "state": {
       "description_width": ""
      }
     },
     "48dbb10c7b9b4357903ecfc8b5e9e4e2": {
      "model_module": "@jupyter-widgets/controls",
      "model_module_version": "1.4.0",
      "model_name": "ButtonModel",
      "state": {
       "description": "7",
       "layout": "IPY_MODEL_39ab02caf305413fb17cbe5ef9aae89a",
       "style": "IPY_MODEL_c6c4121ddf494584a664f6c16f4b2ce9"
      }
     },
     "48eb745ea8b34f63b9ec87e199354f7b": {
      "model_module": "@jupyter-widgets/controls",
      "model_module_version": "1.4.0",
      "model_name": "ButtonModel",
      "state": {
       "description": "8",
       "layout": "IPY_MODEL_249fdc062d5b4a4a8cf2e9ea9fa8434a",
       "style": "IPY_MODEL_5a1389631c4544df9ab1c317f27f3199"
      }
     },
     "48f8dfdf31854574b5b1fc2cb3f9b1b6": {
      "model_module": "@jupyter-widgets/base",
      "model_module_version": "1.1.0",
      "model_name": "LayoutModel",
      "state": {
       "width": "10%"
      }
     },
     "48fd1529f76f415fa496cd5f21135269": {
      "model_module": "@jupyter-widgets/controls",
      "model_module_version": "1.4.0",
      "model_name": "ButtonStyleModel",
      "state": {}
     },
     "490eda9ff9254afbb7e7c2ff66743c38": {
      "model_module": "@jupyter-widgets/controls",
      "model_module_version": "1.4.0",
      "model_name": "ButtonModel",
      "state": {
       "description": "6",
       "layout": "IPY_MODEL_ea407a00c17b4195927d7d7095ad233a",
       "style": "IPY_MODEL_1775dfd4a35e438582d5665883663a6a"
      }
     },
     "490eff145514477c873d1412896f6e53": {
      "model_module": "@jupyter-widgets/base",
      "model_module_version": "1.1.0",
      "model_name": "LayoutModel",
      "state": {}
     },
     "49198af8070048cb80f2c018d45b6210": {
      "model_module": "@jupyter-widgets/base",
      "model_module_version": "1.1.0",
      "model_name": "LayoutModel",
      "state": {}
     },
     "4926b3fcd1684833a4243e25f19c7020": {
      "model_module": "@jupyter-widgets/controls",
      "model_module_version": "1.4.0",
      "model_name": "VBoxModel",
      "state": {
       "children": [
        "IPY_MODEL_8ac6a9e9f49f41d487db5e95bcfdc385",
        "IPY_MODEL_fd0266cd22364590af52d6e9442acd42"
       ],
       "layout": "IPY_MODEL_f89773b783a640cea15403bdcaafa7ca"
      }
     },
     "492a1a0f011c47b28350d310762f5265": {
      "model_module": "@jupyter-widgets/controls",
      "model_module_version": "1.4.0",
      "model_name": "ButtonModel",
      "state": {
       "description": "1",
       "layout": "IPY_MODEL_2a84a069c8364479ac431b5d8942ec61",
       "style": "IPY_MODEL_40d9fd310a494a8ba0e32fc22eeaa02f"
      }
     },
     "49463d4597354222ba47d7ba1fcc4b96": {
      "model_module": "@jupyter-widgets/controls",
      "model_module_version": "1.4.0",
      "model_name": "VBoxModel",
      "state": {
       "children": [
        "IPY_MODEL_7b49ab5f089346619c417345cd60cb39",
        "IPY_MODEL_d002150beb2c4024a6c819901ad945f5"
       ],
       "layout": "IPY_MODEL_2744b6ab926f462b910b13d75f5f6377"
      }
     },
     "494848d26d1d4ce0b059cf27246d5bd1": {
      "model_module": "@jupyter-widgets/output",
      "model_module_version": "1.0.0",
      "model_name": "OutputModel",
      "state": {
       "layout": "IPY_MODEL_e11806ce6c7d437a9368c03294279278"
      }
     },
     "4953006441cb460293607bfd1b8e83c3": {
      "model_module": "@jupyter-widgets/output",
      "model_module_version": "1.0.0",
      "model_name": "OutputModel",
      "state": {
       "layout": "IPY_MODEL_e504bcf9156742ef8b71fc040e79b813"
      }
     },
     "4989efa4cad74bd485cbd9c0bcd250e7": {
      "model_module": "@jupyter-widgets/controls",
      "model_module_version": "1.4.0",
      "model_name": "DescriptionStyleModel",
      "state": {
       "description_width": ""
      }
     },
     "49a13140bbc846db9656399933dc0b03": {
      "model_module": "@jupyter-widgets/controls",
      "model_module_version": "1.4.0",
      "model_name": "ButtonStyleModel",
      "state": {}
     },
     "49a28ab0df0e413da650a4c28d226e70": {
      "model_module": "@jupyter-widgets/controls",
      "model_module_version": "1.4.0",
      "model_name": "ButtonModel",
      "state": {
       "description": "7",
       "layout": "IPY_MODEL_576c56e6f0b144a581834580cc598a5d",
       "style": "IPY_MODEL_2ddadb92183943d6ad25e2ce1803aede"
      }
     },
     "49aa38a29c9d4928947e872ba030f92c": {
      "model_module": "@jupyter-widgets/controls",
      "model_module_version": "1.4.0",
      "model_name": "VBoxModel",
      "state": {
       "children": [
        "IPY_MODEL_e870a9ef0bdd4253b193add3d81e9772",
        "IPY_MODEL_ce52bef9b31a4066b8a5659071edae6d"
       ],
       "layout": "IPY_MODEL_6c3028cef10d44ad9a759de67a5b3920"
      }
     },
     "49b37756759940799ab6697f309bfb73": {
      "model_module": "@jupyter-widgets/base",
      "model_module_version": "1.1.0",
      "model_name": "LayoutModel",
      "state": {
       "width": "10%"
      }
     },
     "49b7e3756bea4c3b858dffe2fe609daa": {
      "model_module": "@jupyter-widgets/controls",
      "model_module_version": "1.4.0",
      "model_name": "ButtonModel",
      "state": {
       "description": "0",
       "layout": "IPY_MODEL_ff49519e3cb4420facdcb25cfaa8aa72",
       "style": "IPY_MODEL_cced38cf6d254cfeafb0d36ded4a2de2"
      }
     },
     "49fe7133b1994b5d9b436d69f26f0685": {
      "model_module": "@jupyter-widgets/base",
      "model_module_version": "1.1.0",
      "model_name": "LayoutModel",
      "state": {}
     },
     "4a1ff3341cc84f86aef92e3a5a4323ee": {
      "model_module": "@jupyter-widgets/base",
      "model_module_version": "1.1.0",
      "model_name": "LayoutModel",
      "state": {
       "width": "10%"
      }
     },
     "4a27226bb7714d9e979da6df84452c18": {
      "model_module": "@jupyter-widgets/base",
      "model_module_version": "1.1.0",
      "model_name": "LayoutModel",
      "state": {
       "width": "95%"
      }
     },
     "4a3c92b828a74efa9abef276d60cfc69": {
      "model_module": "@jupyter-widgets/base",
      "model_module_version": "1.1.0",
      "model_name": "LayoutModel",
      "state": {
       "width": "10%"
      }
     },
     "4a4a29cccbaa4076b97e34666bbaad6f": {
      "model_module": "@jupyter-widgets/base",
      "model_module_version": "1.1.0",
      "model_name": "LayoutModel",
      "state": {}
     },
     "4a9dd07649254236aafca4492ee1d452": {
      "model_module": "@jupyter-widgets/base",
      "model_module_version": "1.1.0",
      "model_name": "LayoutModel",
      "state": {
       "width": "10%"
      }
     },
     "4aa50343b65d4bef9e958f1cbcc52d19": {
      "model_module": "@jupyter-widgets/base",
      "model_module_version": "1.1.0",
      "model_name": "LayoutModel",
      "state": {
       "width": "10%"
      }
     },
     "4ab2b50ba5424296a6723bb96cd190cf": {
      "model_module": "@jupyter-widgets/base",
      "model_module_version": "1.1.0",
      "model_name": "LayoutModel",
      "state": {}
     },
     "4ab51f091f1b4857be78a7a1cbfc3366": {
      "model_module": "@jupyter-widgets/controls",
      "model_module_version": "1.4.0",
      "model_name": "ButtonStyleModel",
      "state": {}
     },
     "4ac1ab03ef8b467b9cf0b545d0d66f22": {
      "model_module": "@jupyter-widgets/controls",
      "model_module_version": "1.4.0",
      "model_name": "ButtonStyleModel",
      "state": {}
     },
     "4b16c2ee59a042fda0a995352c2f1a63": {
      "model_module": "@jupyter-widgets/base",
      "model_module_version": "1.1.0",
      "model_name": "LayoutModel",
      "state": {}
     },
     "4b25919e59d943e1b3e9c7d7fb3dfb64": {
      "model_module": "@jupyter-widgets/controls",
      "model_module_version": "1.4.0",
      "model_name": "ButtonModel",
      "state": {
       "description": "7",
       "layout": "IPY_MODEL_bb4f3c5cc498448591a124a0a19f5184",
       "style": "IPY_MODEL_ec0db5c29dbc41e7aa84603f03184a46"
      }
     },
     "4b29263fe09d4e9aa732001ae0ffdb16": {
      "model_module": "@jupyter-widgets/controls",
      "model_module_version": "1.4.0",
      "model_name": "DescriptionStyleModel",
      "state": {
       "description_width": ""
      }
     },
     "4b451d84164747baa9c4a9d1ec92977d": {
      "model_module": "@jupyter-widgets/controls",
      "model_module_version": "1.4.0",
      "model_name": "ButtonModel",
      "state": {
       "description": "4",
       "layout": "IPY_MODEL_281d0de540c34156aaf4b5faecbb1327",
       "style": "IPY_MODEL_e187b802d5f94a5cb87ec74d6a319b32"
      }
     },
     "4b4bef398c234b8a81d84f431fb3fbba": {
      "model_module": "@jupyter-widgets/base",
      "model_module_version": "1.1.0",
      "model_name": "LayoutModel",
      "state": {
       "justify_content": "space-between"
      }
     },
     "4b8a3901246a40ebab98f13815c84a44": {
      "model_module": "@jupyter-widgets/output",
      "model_module_version": "1.0.0",
      "model_name": "OutputModel",
      "state": {
       "layout": "IPY_MODEL_196a592cb85a471385543e978d853cae"
      }
     },
     "4b9111e2e32046ba858020592e863d98": {
      "model_module": "@jupyter-widgets/controls",
      "model_module_version": "1.4.0",
      "model_name": "VBoxModel",
      "state": {
       "children": [
        "IPY_MODEL_de9bedfe0387472da8725609c2fd9f51",
        "IPY_MODEL_5a63490fa34643e8b5c393706af1dc0a"
       ],
       "layout": "IPY_MODEL_03cb12d6370c4925889586fd98f6b03c"
      }
     },
     "4b972f3067834cd1a606387ba87c8185": {
      "model_module": "@jupyter-widgets/base",
      "model_module_version": "1.1.0",
      "model_name": "LayoutModel",
      "state": {}
     },
     "4bb12f861f9e4b9483b0cc988ef85895": {
      "model_module": "@jupyter-widgets/base",
      "model_module_version": "1.1.0",
      "model_name": "LayoutModel",
      "state": {
       "width": "10%"
      }
     },
     "4bbda7e0c550491c9b5d006e789a1604": {
      "model_module": "@jupyter-widgets/controls",
      "model_module_version": "1.4.0",
      "model_name": "ButtonStyleModel",
      "state": {}
     },
     "4be5df83b3614936b0f0ded85fe4fd1d": {
      "model_module": "@jupyter-widgets/base",
      "model_module_version": "1.1.0",
      "model_name": "LayoutModel",
      "state": {}
     },
     "4bf494f5d6024d1eb9451d103becbcc8": {
      "model_module": "@jupyter-widgets/base",
      "model_module_version": "1.1.0",
      "model_name": "LayoutModel",
      "state": {
       "width": "10%"
      }
     },
     "4c1fe0fa8f004c2f809b305b68a43092": {
      "model_module": "@jupyter-widgets/output",
      "model_module_version": "1.0.0",
      "model_name": "OutputModel",
      "state": {
       "layout": "IPY_MODEL_eb5078457766429c844ab7b28fa9ebb0"
      }
     },
     "4c4637e6322d4549940dceab3d4c1429": {
      "model_module": "@jupyter-widgets/controls",
      "model_module_version": "1.4.0",
      "model_name": "VBoxModel",
      "state": {
       "children": [
        "IPY_MODEL_582c29cd41ae4459b638ed34f73333fc",
        "IPY_MODEL_640ae071ff274081a88d3661dc4ec7d6"
       ],
       "layout": "IPY_MODEL_1ee5698c65244a4f86a159fc91a338a2"
      }
     },
     "4c467dddcd754f45891d60bf1e43c79f": {
      "model_module": "@jupyter-widgets/controls",
      "model_module_version": "1.4.0",
      "model_name": "VBoxModel",
      "state": {
       "children": [
        "IPY_MODEL_e2e650a7825d4b7dac5597567608289a",
        "IPY_MODEL_83aa99591a6d41a7bb2a78483efe3cbc"
       ],
       "layout": "IPY_MODEL_b60365d57c424a43b3047d31daad5c9d"
      }
     },
     "4c50bbed2e1d443eae6398a4cf7b50df": {
      "model_module": "@jupyter-widgets/controls",
      "model_module_version": "1.4.0",
      "model_name": "HBoxModel",
      "state": {
       "children": [
        "IPY_MODEL_a7b44988270847eabb0bf8f369e3567b",
        "IPY_MODEL_8ff52e9bec0d4c2bbfd8b2d96b28d24c",
        "IPY_MODEL_85b809c18a6c4a50963c04ccc34d9c28"
       ],
       "layout": "IPY_MODEL_fa723c865c2b4e99851219cc246d972a"
      }
     },
     "4c51c4edd8be4a44935bd937b7444f89": {
      "model_module": "@jupyter-widgets/base",
      "model_module_version": "1.1.0",
      "model_name": "LayoutModel",
      "state": {}
     },
     "4c7279bfac9e4b738a0318b1726d6145": {
      "model_module": "@jupyter-widgets/controls",
      "model_module_version": "1.4.0",
      "model_name": "ButtonStyleModel",
      "state": {}
     },
     "4c844ea100ae4960beb28ca6f02afa7d": {
      "model_module": "@jupyter-widgets/base",
      "model_module_version": "1.1.0",
      "model_name": "LayoutModel",
      "state": {
       "width": "95%"
      }
     },
     "4c8f121dd65b4b5e90e76c2907027e6b": {
      "model_module": "@jupyter-widgets/output",
      "model_module_version": "1.0.0",
      "model_name": "OutputModel",
      "state": {
       "layout": "IPY_MODEL_37d3733e94f3416187d68c6723ad1a11"
      }
     },
     "4c9b08d6bb0d4791b8523952646eccd1": {
      "model_module": "@jupyter-widgets/base",
      "model_module_version": "1.1.0",
      "model_name": "LayoutModel",
      "state": {
       "width": "95%"
      }
     },
     "4ca97aeaf76647508c465985735a2cd0": {
      "model_module": "@jupyter-widgets/controls",
      "model_module_version": "1.4.0",
      "model_name": "ButtonStyleModel",
      "state": {}
     },
     "4cb163822d2a4a319167cd6fefd9f9c2": {
      "model_module": "@jupyter-widgets/controls",
      "model_module_version": "1.4.0",
      "model_name": "VBoxModel",
      "state": {
       "children": [
        "IPY_MODEL_f9f925af6c6646a19a15d7820a9479b2",
        "IPY_MODEL_fe8ecb61a167408b97e1898fe0c15808"
       ],
       "layout": "IPY_MODEL_50a91ffe17da4cd4b0340919b2bbb322"
      }
     },
     "4cb4effbb79149c789bf356b46598594": {
      "model_module": "@jupyter-widgets/base",
      "model_module_version": "1.1.0",
      "model_name": "LayoutModel",
      "state": {}
     },
     "4ccb71d8c1144fd0b07052e9d3aa9684": {
      "model_module": "@jupyter-widgets/base",
      "model_module_version": "1.1.0",
      "model_name": "LayoutModel",
      "state": {
       "width": "10%"
      }
     },
     "4cd212321fc449448b97546f8a2ef574": {
      "model_module": "@jupyter-widgets/base",
      "model_module_version": "1.1.0",
      "model_name": "LayoutModel",
      "state": {
       "width": "95%"
      }
     },
     "4cd2bea7a80649ec9d57ef7d8d5e7428": {
      "model_module": "@jupyter-widgets/controls",
      "model_module_version": "1.4.0",
      "model_name": "HBoxModel",
      "state": {
       "children": [
        "IPY_MODEL_872e51a4dddd4bee8a674e4c9c1e5b13",
        "IPY_MODEL_cffcfadab0974928bf848cfbb80466b4"
       ],
       "layout": "IPY_MODEL_ab4100fdc8ae4d9186e1f8b4ca873e87"
      }
     },
     "4cd6f3597cb74b88b1b5cec7ec12a587": {
      "model_module": "@jupyter-widgets/controls",
      "model_module_version": "1.4.0",
      "model_name": "TextModel",
      "state": {
       "description": "Other:",
       "layout": "IPY_MODEL_96f9dcb2d3cc491895362bd71d72b635",
       "placeholder": "Hit enter to submit.",
       "style": "IPY_MODEL_66d54ca87bce440d94289586bc0a569f"
      }
     },
     "4ce420c19a5d4dc2861cae7571a4fb56": {
      "model_module": "@jupyter-widgets/controls",
      "model_module_version": "1.4.0",
      "model_name": "VBoxModel",
      "state": {
       "children": [
        "IPY_MODEL_9f88dc41d64b41ebbad6eedee6f6e5a6",
        "IPY_MODEL_019307317878459dbf50685ee6ec2662"
       ],
       "layout": "IPY_MODEL_5a0f592df9b7494c85072ccb287b3b85"
      }
     },
     "4d0ce0dc31804001bf1846f4354d0ba6": {
      "model_module": "@jupyter-widgets/controls",
      "model_module_version": "1.4.0",
      "model_name": "ButtonModel",
      "state": {
       "description": "5",
       "layout": "IPY_MODEL_91e77b3257034ba7890ebb5c0096e4d5",
       "style": "IPY_MODEL_23428d9cff1f4fd5a5796ae1a0770a0d"
      }
     },
     "4d0f91d2f0754867928c6233f2afd8e4": {
      "model_module": "@jupyter-widgets/controls",
      "model_module_version": "1.4.0",
      "model_name": "ButtonStyleModel",
      "state": {}
     },
     "4d1d5571801048c987d6c81b949c3d93": {
      "model_module": "@jupyter-widgets/controls",
      "model_module_version": "1.4.0",
      "model_name": "ButtonModel",
      "state": {
       "description": "4",
       "layout": "IPY_MODEL_2983ef2dccb14537beaa599e101a0b50",
       "style": "IPY_MODEL_f786f95e390c4d5d8a76358f8523ef0b"
      }
     },
     "4d218671aa3643f8b4ee0466f15f4eb5": {
      "model_module": "@jupyter-widgets/controls",
      "model_module_version": "1.4.0",
      "model_name": "ButtonStyleModel",
      "state": {}
     },
     "4d52bbc3f3f949378c5cfec1ba8ffc4b": {
      "model_module": "@jupyter-widgets/controls",
      "model_module_version": "1.4.0",
      "model_name": "ButtonModel",
      "state": {
       "description": "5",
       "layout": "IPY_MODEL_83f6f8e0710f4b6ea4ee1f4024c61304",
       "style": "IPY_MODEL_e55d3090f1d24c2a835c6273c0f283ea"
      }
     },
     "4d61a70c1fe84ae79c090c725be4f071": {
      "model_module": "@jupyter-widgets/base",
      "model_module_version": "1.1.0",
      "model_name": "LayoutModel",
      "state": {
       "width": "10%"
      }
     },
     "4d6f0cf9d8bd4156a03535147674bbcd": {
      "model_module": "@jupyter-widgets/controls",
      "model_module_version": "1.4.0",
      "model_name": "ButtonModel",
      "state": {
       "description": "6",
       "layout": "IPY_MODEL_0d6633d02d424d3c8d7b3d412dcf4297",
       "style": "IPY_MODEL_3083af3ba9c8467aafc16cfa95e9ae57"
      }
     },
     "4da3baa5a02f4151a83880fb3b8c043f": {
      "model_module": "@jupyter-widgets/controls",
      "model_module_version": "1.4.0",
      "model_name": "ButtonStyleModel",
      "state": {}
     },
     "4db834aa837146b3b8fcd25e7f3e2804": {
      "model_module": "@jupyter-widgets/base",
      "model_module_version": "1.1.0",
      "model_name": "LayoutModel",
      "state": {
       "width": "10%"
      }
     },
     "4dc0aea809da44a2897937c7e44beb6b": {
      "model_module": "@jupyter-widgets/controls",
      "model_module_version": "1.4.0",
      "model_name": "ButtonStyleModel",
      "state": {}
     },
     "4e3d67509ffd429cacc6a9f05904fa9c": {
      "model_module": "@jupyter-widgets/output",
      "model_module_version": "1.0.0",
      "model_name": "OutputModel",
      "state": {
       "layout": "IPY_MODEL_c4f4071584b942bb84cfcaf880e1b3f4"
      }
     },
     "4e497e7ee4b242169ee92bcf404a31d1": {
      "model_module": "@jupyter-widgets/controls",
      "model_module_version": "1.4.0",
      "model_name": "VBoxModel",
      "state": {
       "children": [
        "IPY_MODEL_d2b996c672ba4089ad8cffc1c2eac8fd",
        "IPY_MODEL_4295bde215a8409888dcbcfb9e8d62ff"
       ],
       "layout": "IPY_MODEL_be6a09beef644ad0a0af1002cd119e34"
      }
     },
     "4e4e865d0a77491d850ed1b7e5b0177d": {
      "model_module": "@jupyter-widgets/base",
      "model_module_version": "1.1.0",
      "model_name": "LayoutModel",
      "state": {}
     },
     "4e54107a633e49a5ad1d0ddae9711189": {
      "model_module": "@jupyter-widgets/controls",
      "model_module_version": "1.4.0",
      "model_name": "ButtonModel",
      "state": {
       "description": "0",
       "layout": "IPY_MODEL_21bdb248e17546fcb288902972dfd4ba",
       "style": "IPY_MODEL_4eac1f34150044fc8d815f58542fdc3b"
      }
     },
     "4e84d277f61a45be9a46d40f974b7f49": {
      "model_module": "@jupyter-widgets/controls",
      "model_module_version": "1.4.0",
      "model_name": "VBoxModel",
      "state": {
       "children": [
        "IPY_MODEL_b1c2941365c54132ba0445b54a049c2f",
        "IPY_MODEL_f05618254c5e45b8b75c725935ebde7e"
       ],
       "layout": "IPY_MODEL_eb21ad5708224673b5aa0324580e3657"
      }
     },
     "4e9500be492c4253ba7092dcb3306f84": {
      "model_module": "@jupyter-widgets/base",
      "model_module_version": "1.1.0",
      "model_name": "LayoutModel",
      "state": {}
     },
     "4e9506312adb48af99274db352f773fa": {
      "model_module": "@jupyter-widgets/base",
      "model_module_version": "1.1.0",
      "model_name": "LayoutModel",
      "state": {}
     },
     "4e96d0b5e8f64139ba3e23660ba4795f": {
      "model_module": "@jupyter-widgets/controls",
      "model_module_version": "1.4.0",
      "model_name": "ButtonStyleModel",
      "state": {}
     },
     "4ea85a9f3ee74c70b212cdab4023c3d2": {
      "model_module": "@jupyter-widgets/controls",
      "model_module_version": "1.4.0",
      "model_name": "VBoxModel",
      "state": {
       "children": [
        "IPY_MODEL_83fbc19584ce44b49b4af1b78a5c3fea",
        "IPY_MODEL_1ef1f0b615f141fbb80d34a32f479a67"
       ],
       "layout": "IPY_MODEL_ea787939963f4c01876c801ecae5ba25"
      }
     },
     "4eac1f34150044fc8d815f58542fdc3b": {
      "model_module": "@jupyter-widgets/controls",
      "model_module_version": "1.4.0",
      "model_name": "ButtonStyleModel",
      "state": {}
     },
     "4ee4a246db3d489b9a1cfdfdba8e2008": {
      "model_module": "@jupyter-widgets/output",
      "model_module_version": "1.0.0",
      "model_name": "OutputModel",
      "state": {
       "layout": "IPY_MODEL_bd8bfe2c4b574499b6c0171b3d1e787d"
      }
     },
     "4eeeeebe37944fe18f32faae9bfb97ad": {
      "model_module": "@jupyter-widgets/base",
      "model_module_version": "1.1.0",
      "model_name": "LayoutModel",
      "state": {
       "width": "10%"
      }
     },
     "4ef0b6ec12f54d8aba479b698967190f": {
      "model_module": "@jupyter-widgets/output",
      "model_module_version": "1.0.0",
      "model_name": "OutputModel",
      "state": {
       "layout": "IPY_MODEL_67a6168a23f14948a56db6b46f6e6079"
      }
     },
     "4efdc6c0f5e84c3599faee8e08e80238": {
      "model_module": "@jupyter-widgets/controls",
      "model_module_version": "1.4.0",
      "model_name": "VBoxModel",
      "state": {
       "children": [
        "IPY_MODEL_c902ee1258e84db0848787e1fc7cd659",
        "IPY_MODEL_c681586b0c7d47558a14ded38077303b"
       ],
       "layout": "IPY_MODEL_218753363ac345a58bf37de1e05614f5"
      }
     },
     "4f0901668ad744f2995cac50b993ae05": {
      "model_module": "@jupyter-widgets/controls",
      "model_module_version": "1.4.0",
      "model_name": "ButtonModel",
      "state": {
       "description": "5",
       "layout": "IPY_MODEL_d0a1f19f0a314df6b2dc58384403d73e",
       "style": "IPY_MODEL_993c38a893094a62ba0d8fe03d947d27"
      }
     },
     "4f287b7a1d7e4d5db8e90c606194b641": {
      "model_module": "@jupyter-widgets/output",
      "model_module_version": "1.0.0",
      "model_name": "OutputModel",
      "state": {
       "layout": "IPY_MODEL_3fc1944b64ec42ba911cef9c4ee642b2"
      }
     },
     "4f2eed9e64104aa08b6edaa9e710bb00": {
      "model_module": "@jupyter-widgets/base",
      "model_module_version": "1.1.0",
      "model_name": "LayoutModel",
      "state": {
       "width": "95%"
      }
     },
     "4f38beec07bd44d5981962eacae49ae9": {
      "model_module": "@jupyter-widgets/output",
      "model_module_version": "1.0.0",
      "model_name": "OutputModel",
      "state": {
       "layout": "IPY_MODEL_a11e2402801246828f1b8ede424504ba"
      }
     },
     "4f3ba3752be94f36b96e5233214ba3c1": {
      "model_module": "@jupyter-widgets/controls",
      "model_module_version": "1.4.0",
      "model_name": "VBoxModel",
      "state": {
       "children": [
        "IPY_MODEL_2d6bea2eef484fa38cdf274aa20e02a0",
        "IPY_MODEL_8e8ab1e41d474efab522807236681e67"
       ],
       "layout": "IPY_MODEL_e89f3ec4c6174ba99706ca07dab7eeb7"
      }
     },
     "4f3e909f68954a46b50aba2e10bb6530": {
      "model_module": "@jupyter-widgets/base",
      "model_module_version": "1.1.0",
      "model_name": "LayoutModel",
      "state": {
       "width": "95%"
      }
     },
     "4f4a1c7ee1014973991aaeb00c27c503": {
      "model_module": "@jupyter-widgets/controls",
      "model_module_version": "1.4.0",
      "model_name": "ButtonStyleModel",
      "state": {}
     },
     "4f59c2ff067c44b4abdd7030d9e2e355": {
      "model_module": "@jupyter-widgets/output",
      "model_module_version": "1.0.0",
      "model_name": "OutputModel",
      "state": {
       "layout": "IPY_MODEL_a3f6983902444438bb813b3ead5904ef"
      }
     },
     "4f6f8a0f0943463ebf4f6e655a105330": {
      "model_module": "@jupyter-widgets/base",
      "model_module_version": "1.1.0",
      "model_name": "LayoutModel",
      "state": {
       "width": "95%"
      }
     },
     "4f74dd81c21d4665a7f439986e611e74": {
      "model_module": "@jupyter-widgets/controls",
      "model_module_version": "1.4.0",
      "model_name": "ButtonModel",
      "state": {
       "description": "2",
       "layout": "IPY_MODEL_4c844ea100ae4960beb28ca6f02afa7d",
       "style": "IPY_MODEL_eac6e7dd5ef44b5fb94198aa5329d1fa"
      }
     },
     "4f9d41743e53416cb890ed629cebf07b": {
      "model_module": "@jupyter-widgets/controls",
      "model_module_version": "1.4.0",
      "model_name": "ButtonModel",
      "state": {
       "description": "0",
       "layout": "IPY_MODEL_a90a34697204430c93993ca8677ec77e",
       "style": "IPY_MODEL_dbb4d6435c6a439b9d77b4767a2232d1"
      }
     },
     "4fc129a9f15d45f7aa519b349eb557dc": {
      "model_module": "@jupyter-widgets/controls",
      "model_module_version": "1.4.0",
      "model_name": "VBoxModel",
      "state": {
       "children": [
        "IPY_MODEL_0c989b9d1cd5465a8918edf5ca12df4a",
        "IPY_MODEL_3a29ca31fbb24118bf391f341e487d48"
       ],
       "layout": "IPY_MODEL_c266a9e2593045bcbf649a9be764e55e"
      }
     },
     "4fc97c958cda40189f73214eeb85365b": {
      "model_module": "@jupyter-widgets/controls",
      "model_module_version": "1.4.0",
      "model_name": "ButtonModel",
      "state": {
       "description": "6",
       "layout": "IPY_MODEL_15678eb5e63a4c7dab9f9ddcd1c4ce52",
       "style": "IPY_MODEL_405160cbdd314b75a8c8e16ca961357b"
      }
     },
     "4fe2d3bab4334097a9e8cae326267b4e": {
      "model_module": "@jupyter-widgets/controls",
      "model_module_version": "1.4.0",
      "model_name": "VBoxModel",
      "state": {
       "children": [
        "IPY_MODEL_870258f489ac465286f02e84dc7234fd",
        "IPY_MODEL_a7cc17d7f6124af7896f4fcb7822dcc0"
       ],
       "layout": "IPY_MODEL_e9686a7e6ca942ae92d694d9b250118e"
      }
     },
     "4ff02178088f4359a5523e7ff69db0c1": {
      "model_module": "@jupyter-widgets/controls",
      "model_module_version": "1.4.0",
      "model_name": "VBoxModel",
      "state": {
       "children": [
        "IPY_MODEL_492a1a0f011c47b28350d310762f5265",
        "IPY_MODEL_54ccbc3974bb42da8d0ddf8f1648c168"
       ],
       "layout": "IPY_MODEL_8f9779fc671e4a899c56d228e36a5a2d"
      }
     },
     "4ff7c85db97949b2857883b7828a0f53": {
      "model_module": "@jupyter-widgets/output",
      "model_module_version": "1.0.0",
      "model_name": "OutputModel",
      "state": {
       "layout": "IPY_MODEL_a37c381e8691446f979e2720cbd19e46"
      }
     },
     "4ffa2ce8d0ce4556a75cb92e0975bad0": {
      "model_module": "@jupyter-widgets/base",
      "model_module_version": "1.1.0",
      "model_name": "LayoutModel",
      "state": {
       "width": "10%"
      }
     },
     "500806df3511423a8fc856c6bb130c4d": {
      "model_module": "@jupyter-widgets/base",
      "model_module_version": "1.1.0",
      "model_name": "LayoutModel",
      "state": {
       "width": "10%"
      }
     },
     "500ef111fea04227a828c01b55c528b3": {
      "model_module": "@jupyter-widgets/controls",
      "model_module_version": "1.4.0",
      "model_name": "ButtonStyleModel",
      "state": {}
     },
     "501805f636b847ba9b8c1885b5add93d": {
      "model_module": "@jupyter-widgets/base",
      "model_module_version": "1.1.0",
      "model_name": "LayoutModel",
      "state": {
       "width": "10%"
      }
     },
     "5022dd4e8c794613bc65094edee6a01a": {
      "model_module": "@jupyter-widgets/base",
      "model_module_version": "1.1.0",
      "model_name": "LayoutModel",
      "state": {
       "width": "10%"
      }
     },
     "5037cf403abc445a90539571ae6d85f7": {
      "model_module": "@jupyter-widgets/controls",
      "model_module_version": "1.4.0",
      "model_name": "VBoxModel",
      "state": {
       "children": [
        "IPY_MODEL_49a28ab0df0e413da650a4c28d226e70",
        "IPY_MODEL_acc9b39fcced459495f81261dcf4983f"
       ],
       "layout": "IPY_MODEL_4583ed889f4143d097bb05323f75c3f6"
      }
     },
     "5043e8eed50e41719e9914ac195ad324": {
      "model_module": "@jupyter-widgets/base",
      "model_module_version": "1.1.0",
      "model_name": "LayoutModel",
      "state": {
       "width": "10%"
      }
     },
     "50565446cbb84d5e91ba432ffebe3b7d": {
      "model_module": "@jupyter-widgets/controls",
      "model_module_version": "1.4.0",
      "model_name": "VBoxModel",
      "state": {
       "children": [
        "IPY_MODEL_95a59336f0a14ff9a2990c7db81ddd59",
        "IPY_MODEL_da15ae22d60948a68e5fdac6e592e79a"
       ],
       "layout": "IPY_MODEL_c0f595a4ee4d4849a475d74d8f697f29"
      }
     },
     "50586c8f4fa1442caf967975d8755fd4": {
      "model_module": "@jupyter-widgets/controls",
      "model_module_version": "1.4.0",
      "model_name": "VBoxModel",
      "state": {
       "children": [
        "IPY_MODEL_0fed41eec4f1477a8bcc4267c93fc641",
        "IPY_MODEL_373017ba99a3461bbaea677a6c278e42"
       ],
       "layout": "IPY_MODEL_6c3368864325497da728706ee106013c"
      }
     },
     "505a43a9ddac42499719c4a9f5e32a3c": {
      "model_module": "@jupyter-widgets/controls",
      "model_module_version": "1.4.0",
      "model_name": "ButtonStyleModel",
      "state": {}
     },
     "506918670bd6429caa66a6264364c9f6": {
      "model_module": "@jupyter-widgets/output",
      "model_module_version": "1.0.0",
      "model_name": "OutputModel",
      "state": {
       "layout": "IPY_MODEL_50b490a7c7d3481d9eac89b8857b209f"
      }
     },
     "5082bc02532a4d1a996a6cb6520eac7c": {
      "model_module": "@jupyter-widgets/base",
      "model_module_version": "1.1.0",
      "model_name": "LayoutModel",
      "state": {}
     },
     "508aac177fc244d5ab11ffc61f25feac": {
      "model_module": "@jupyter-widgets/output",
      "model_module_version": "1.0.0",
      "model_name": "OutputModel",
      "state": {
       "layout": "IPY_MODEL_7e4e7f60521d42ab90af74e4694db69d"
      }
     },
     "508c8563d501485b8c4a8491ca57cfd4": {
      "model_module": "@jupyter-widgets/output",
      "model_module_version": "1.0.0",
      "model_name": "OutputModel",
      "state": {
       "layout": "IPY_MODEL_374b33d98aed4ecd8050df49471bd161"
      }
     },
     "509147ef1bb843d6b15551f17d605891": {
      "model_module": "@jupyter-widgets/controls",
      "model_module_version": "1.4.0",
      "model_name": "ButtonStyleModel",
      "state": {}
     },
     "50955bf1ca3b4a32a0611269077391ba": {
      "model_module": "@jupyter-widgets/controls",
      "model_module_version": "1.4.0",
      "model_name": "VBoxModel",
      "state": {
       "children": [
        "IPY_MODEL_c767c4d0d93343629087ec5886055799",
        "IPY_MODEL_284a6e66b6d74cd2ac8a6f0dc303add8"
       ],
       "layout": "IPY_MODEL_fe0d1e4ca76c4e13b93ff75af88a8ff1"
      }
     },
     "50a91ffe17da4cd4b0340919b2bbb322": {
      "model_module": "@jupyter-widgets/base",
      "model_module_version": "1.1.0",
      "model_name": "LayoutModel",
      "state": {
       "width": "10%"
      }
     },
     "50b490a7c7d3481d9eac89b8857b209f": {
      "model_module": "@jupyter-widgets/base",
      "model_module_version": "1.1.0",
      "model_name": "LayoutModel",
      "state": {}
     },
     "512d5fd969f74876a342efdaf17f60b2": {
      "model_module": "@jupyter-widgets/output",
      "model_module_version": "1.0.0",
      "model_name": "OutputModel",
      "state": {
       "layout": "IPY_MODEL_4486e98371ff42a6955f9fb796dd89f7"
      }
     },
     "513d528512e64caf8e42d9dd9a717bdf": {
      "model_module": "@jupyter-widgets/base",
      "model_module_version": "1.1.0",
      "model_name": "LayoutModel",
      "state": {}
     },
     "520630735c4849238f59873118ee185e": {
      "model_module": "@jupyter-widgets/base",
      "model_module_version": "1.1.0",
      "model_name": "LayoutModel",
      "state": {}
     },
     "52244471632849a1800ac09f70b7664c": {
      "model_module": "@jupyter-widgets/output",
      "model_module_version": "1.0.0",
      "model_name": "OutputModel",
      "state": {
       "layout": "IPY_MODEL_6a73bb647c4f4a18a9c0961c64c61442"
      }
     },
     "525249f6106848bb81ac69006b27b16c": {
      "model_module": "@jupyter-widgets/base",
      "model_module_version": "1.1.0",
      "model_name": "LayoutModel",
      "state": {
       "width": "10%"
      }
     },
     "525b08a1d85443d0a011089268a6e785": {
      "model_module": "@jupyter-widgets/controls",
      "model_module_version": "1.4.0",
      "model_name": "TextModel",
      "state": {
       "description": "Other:",
       "layout": "IPY_MODEL_2b8fd9c4ee1d46a48209dc1665301b76",
       "placeholder": "Hit enter to submit.",
       "style": "IPY_MODEL_e5a721c48b5945be8ab79e09938c5eb4"
      }
     },
     "525c1b31a32b43f185f6e91603677a5f": {
      "model_module": "@jupyter-widgets/controls",
      "model_module_version": "1.4.0",
      "model_name": "VBoxModel",
      "state": {
       "children": [
        "IPY_MODEL_4d1d5571801048c987d6c81b949c3d93",
        "IPY_MODEL_3a0db614b0ab4315a93d7120b9e02a67"
       ],
       "layout": "IPY_MODEL_3749e9b6705947bb8bfb7746a7961295"
      }
     },
     "526c89dcac0743a78d58a2a06ba38f00": {
      "model_module": "@jupyter-widgets/base",
      "model_module_version": "1.1.0",
      "model_name": "LayoutModel",
      "state": {
       "width": "95%"
      }
     },
     "5272785d11d945ac8b10a5f454f5f244": {
      "model_module": "@jupyter-widgets/base",
      "model_module_version": "1.1.0",
      "model_name": "LayoutModel",
      "state": {
       "width": "95%"
      }
     },
     "52902191d6a24b6b8156e263c481444a": {
      "model_module": "@jupyter-widgets/base",
      "model_module_version": "1.1.0",
      "model_name": "LayoutModel",
      "state": {
       "width": "95%"
      }
     },
     "5293e08c2d0d40e396252b77044f618c": {
      "model_module": "@jupyter-widgets/output",
      "model_module_version": "1.0.0",
      "model_name": "OutputModel",
      "state": {
       "layout": "IPY_MODEL_a1946d28d9ec419badab04caab377012"
      }
     },
     "52aef88e35e244eeaf9d96c0c73e22a4": {
      "model_module": "@jupyter-widgets/controls",
      "model_module_version": "1.4.0",
      "model_name": "ButtonModel",
      "state": {
       "description": "4",
       "layout": "IPY_MODEL_bfad9009009c406ca414127877294a60",
       "style": "IPY_MODEL_3ec8b88ba0bf47b0a77bdd4fc3a7e199"
      }
     },
     "52cb0c0cdb3f4eadbecf99a19c2c6bb4": {
      "model_module": "@jupyter-widgets/controls",
      "model_module_version": "1.4.0",
      "model_name": "TextModel",
      "state": {
       "description": "Other:",
       "layout": "IPY_MODEL_dadfa3a3bfe741d595924f225e6fd081",
       "placeholder": "Hit enter to submit.",
       "style": "IPY_MODEL_0253d63d3866457aae0a53d806acf8da"
      }
     },
     "52dd3d7b970f4b149a0a15d59178ef72": {
      "model_module": "@jupyter-widgets/output",
      "model_module_version": "1.0.0",
      "model_name": "OutputModel",
      "state": {
       "layout": "IPY_MODEL_e234c21e164741ce9440c9d16167a906"
      }
     },
     "52e266f0ad48469f9000dea0cee9b9e8": {
      "model_module": "@jupyter-widgets/controls",
      "model_module_version": "1.4.0",
      "model_name": "VBoxModel",
      "state": {
       "children": [
        "IPY_MODEL_59fc724edb464edd8a3815f88ec5b7a4",
        "IPY_MODEL_f686342fead64568ac5cf71d98c4da25"
       ],
       "layout": "IPY_MODEL_cbb1cfcff17949f6bab68e9d7895c177"
      }
     },
     "52efae70827a4a46b9678dcec6773d7d": {
      "model_module": "@jupyter-widgets/base",
      "model_module_version": "1.1.0",
      "model_name": "LayoutModel",
      "state": {
       "width": "95%"
      }
     },
     "52f1d35d996e4424969a133b2344151b": {
      "model_module": "@jupyter-widgets/output",
      "model_module_version": "1.0.0",
      "model_name": "OutputModel",
      "state": {
       "layout": "IPY_MODEL_ade012b5636d433dbf3fb27a753fcf0c"
      }
     },
     "52f4f90dba41497b98df048cf44dcef1": {
      "model_module": "@jupyter-widgets/controls",
      "model_module_version": "1.4.0",
      "model_name": "VBoxModel",
      "state": {
       "children": [
        "IPY_MODEL_958784563ea749cd83eb2a36d2a20d01",
        "IPY_MODEL_1c690bea67874e1695f36df83ae6d1c2"
       ],
       "layout": "IPY_MODEL_a9bfa855de544627ab2abd7df5759673"
      }
     },
     "5314ac7862194239babf0ee7895a0dc6": {
      "model_module": "@jupyter-widgets/base",
      "model_module_version": "1.1.0",
      "model_name": "LayoutModel",
      "state": {
       "width": "95%"
      }
     },
     "53471f5c31e542d28209e9e00c66f2cd": {
      "model_module": "@jupyter-widgets/controls",
      "model_module_version": "1.4.0",
      "model_name": "ButtonModel",
      "state": {
       "description": "0",
       "layout": "IPY_MODEL_0c963bc9e3ba419b8ea6bc259970c7bb",
       "style": "IPY_MODEL_0ffc45dc1030471a95ab83e464bbacc1"
      }
     },
     "534b3eb9d5164346b6f8eb2aabd0743b": {
      "model_module": "@jupyter-widgets/base",
      "model_module_version": "1.1.0",
      "model_name": "LayoutModel",
      "state": {}
     },
     "5365094ceac14c208b0359611e4d5869": {
      "model_module": "@jupyter-widgets/base",
      "model_module_version": "1.1.0",
      "model_name": "LayoutModel",
      "state": {}
     },
     "536ab346c2bf4843a6a32fffef8ff0bc": {
      "model_module": "@jupyter-widgets/controls",
      "model_module_version": "1.4.0",
      "model_name": "ButtonStyleModel",
      "state": {}
     },
     "53848eef7f344ec6a8eb06861bffed80": {
      "model_module": "@jupyter-widgets/controls",
      "model_module_version": "1.4.0",
      "model_name": "ButtonStyleModel",
      "state": {}
     },
     "53b1384d32404adf8e57d8691b6bacc1": {
      "model_module": "@jupyter-widgets/controls",
      "model_module_version": "1.4.0",
      "model_name": "ButtonStyleModel",
      "state": {}
     },
     "53d3949bd08443aea75052537deb8848": {
      "model_module": "@jupyter-widgets/output",
      "model_module_version": "1.0.0",
      "model_name": "OutputModel",
      "state": {
       "layout": "IPY_MODEL_ea83a46835f246c5adf7ee50a5119376"
      }
     },
     "53db92c9c0554d18b8f8010663991cff": {
      "model_module": "@jupyter-widgets/controls",
      "model_module_version": "1.4.0",
      "model_name": "ButtonStyleModel",
      "state": {}
     },
     "53ea1c0c6b954704b0abe2c4c527f02f": {
      "model_module": "@jupyter-widgets/controls",
      "model_module_version": "1.4.0",
      "model_name": "ButtonModel",
      "state": {
       "description": "5",
       "layout": "IPY_MODEL_afc178f7b41d422d827a11269231760d",
       "style": "IPY_MODEL_d4036344d61a4738bfe4a986f708e8c0"
      }
     },
     "53f2440458f446cda66c054f0a9cb6f9": {
      "model_module": "@jupyter-widgets/controls",
      "model_module_version": "1.4.0",
      "model_name": "ButtonModel",
      "state": {
       "description": "3",
       "layout": "IPY_MODEL_1e29756bc22f4c85b2bb972889a4cbcd",
       "style": "IPY_MODEL_c2fb673277e74a55a86623f32d0ef627"
      }
     },
     "5408ae9f5fa0466ea2573dd6d1831e5b": {
      "model_module": "@jupyter-widgets/controls",
      "model_module_version": "1.4.0",
      "model_name": "HBoxModel",
      "state": {
       "children": [
        "IPY_MODEL_4008dcd5bd174af8b6ccf48d62dabac0",
        "IPY_MODEL_c2f349444d454b89b2fab8b620f6799d"
       ],
       "layout": "IPY_MODEL_bf4fded37217455d9bcbbe5d69ccf211"
      }
     },
     "5415af261b714e1db5a2cce4a95efeef": {
      "model_module": "@jupyter-widgets/controls",
      "model_module_version": "1.4.0",
      "model_name": "HTMLModel",
      "state": {
       "layout": "IPY_MODEL_3e68b6cec1584d47802ca934c51dfb55",
       "style": "IPY_MODEL_1a081a3656854cefbd91923a03690374",
       "value": "<h1>Retraining... <i class=\"fa fa-spinner fa-spin\" aria-hidden=\"true\"></i>"
      }
     },
     "541e0857cf3d45989ce5e594b0ac3377": {
      "model_module": "@jupyter-widgets/base",
      "model_module_version": "1.1.0",
      "model_name": "LayoutModel",
      "state": {
       "width": "95%"
      }
     },
     "542ac7535bec41d3863638d36537c3f8": {
      "model_module": "@jupyter-widgets/output",
      "model_module_version": "1.0.0",
      "model_name": "OutputModel",
      "state": {
       "layout": "IPY_MODEL_ac590b5a0d024ee3b2cb6f1dc528afbb"
      }
     },
     "543dc67e5925445e9d0466f7421a1731": {
      "model_module": "@jupyter-widgets/controls",
      "model_module_version": "1.4.0",
      "model_name": "HBoxModel",
      "state": {
       "children": [
        "IPY_MODEL_bd870194ce6b4dd795e43dab84222839",
        "IPY_MODEL_19a3844cf00449eabfdaa60bcbd5860b",
        "IPY_MODEL_9f2a35256e124c67b264479d6b55f5c1",
        "IPY_MODEL_da505df7937d4605bad09fbc8308f6c9",
        "IPY_MODEL_48b13415b455429c9f7845a0deadb4a0",
        "IPY_MODEL_3388b939c60e48bdb9350a21f9e20f39",
        "IPY_MODEL_7188b6dc0649475894cbd471983bc4d6",
        "IPY_MODEL_c75be9bdd0f4421ababfe0718d3fd30b",
        "IPY_MODEL_9beed5878426404782d8fdff1f4474ed",
        "IPY_MODEL_59ad097fe88f448d8badf9edc1ea83be"
       ],
       "layout": "IPY_MODEL_1a517cdeac5d4bd4b996cb488a6bf80f"
      }
     },
     "543dcdf426a94fa683d4ca8e5f885425": {
      "model_module": "@jupyter-widgets/base",
      "model_module_version": "1.1.0",
      "model_name": "LayoutModel",
      "state": {
       "width": "10%"
      }
     },
     "544653ba7817448197b4d431e5358a75": {
      "model_module": "@jupyter-widgets/controls",
      "model_module_version": "1.4.0",
      "model_name": "VBoxModel",
      "state": {
       "children": [
        "IPY_MODEL_3388ebc90c64455fb614af8988beaac4",
        "IPY_MODEL_112d6e22fc81442a9cc12f205185bd68"
       ],
       "layout": "IPY_MODEL_e6beca1222b94e46801c077ad651a087"
      }
     },
     "5449520a92d340d28153cf35f710412f": {
      "model_module": "@jupyter-widgets/output",
      "model_module_version": "1.0.0",
      "model_name": "OutputModel",
      "state": {
       "layout": "IPY_MODEL_8c3bcb8f26744f7b873f48ebbab31bcc"
      }
     },
     "544bdce9cc8142fbae0c8d83b0e60711": {
      "model_module": "@jupyter-widgets/controls",
      "model_module_version": "1.4.0",
      "model_name": "ButtonStyleModel",
      "state": {}
     },
     "5463dac669254e8cb88b9b7b98c1cb8e": {
      "model_module": "@jupyter-widgets/controls",
      "model_module_version": "1.4.0",
      "model_name": "VBoxModel",
      "state": {
       "children": [
        "IPY_MODEL_4388969b52f14af487a4d8a6522dd710",
        "IPY_MODEL_fb584148a442407d94317c587e2a6896"
       ],
       "layout": "IPY_MODEL_3968b3e6043140a7ad6d95498600080d"
      }
     },
     "5472bc1b109642399d771961219f1c76": {
      "model_module": "@jupyter-widgets/output",
      "model_module_version": "1.0.0",
      "model_name": "OutputModel",
      "state": {
       "layout": "IPY_MODEL_8a24a46e59a3451992c3a42ec4588a30"
      }
     },
     "5483d5b428e444a9a41849547bd8652d": {
      "model_module": "@jupyter-widgets/base",
      "model_module_version": "1.1.0",
      "model_name": "LayoutModel",
      "state": {
       "width": "95%"
      }
     },
     "54a490b784b3405282753fe6b8ea863e": {
      "model_module": "@jupyter-widgets/controls",
      "model_module_version": "1.4.0",
      "model_name": "ButtonModel",
      "state": {
       "description": "7",
       "layout": "IPY_MODEL_dcfa2be5799a4c1d86521f269634f1d3",
       "style": "IPY_MODEL_c9a37d0efa824a9bb882a8f2feba68d6"
      }
     },
     "54a49f3e3fea4be48479394cbf0f3d0b": {
      "model_module": "@jupyter-widgets/base",
      "model_module_version": "1.1.0",
      "model_name": "LayoutModel",
      "state": {
       "width": "95%"
      }
     },
     "54a95d36c411428aaa3af70cb478b4d9": {
      "model_module": "@jupyter-widgets/controls",
      "model_module_version": "1.4.0",
      "model_name": "VBoxModel",
      "state": {
       "children": [
        "IPY_MODEL_1ef48dea73d24a13afa323112a0cf561",
        "IPY_MODEL_d15a9f5fe9904aa49d54a6d51f70e25c"
       ],
       "layout": "IPY_MODEL_8d31061fcddc4443a48667f901993d66"
      }
     },
     "54ab6fb1a29448c482788c3c4c566459": {
      "model_module": "@jupyter-widgets/base",
      "model_module_version": "1.1.0",
      "model_name": "LayoutModel",
      "state": {}
     },
     "54b0296b5c094c3596e2d1fa9078befa": {
      "model_module": "@jupyter-widgets/controls",
      "model_module_version": "1.4.0",
      "model_name": "ButtonModel",
      "state": {
       "description": "3",
       "layout": "IPY_MODEL_f0a211a7eb5b48c68277a4b54b1ff7c2",
       "style": "IPY_MODEL_e02dc6877d954b48835affb80899cf28"
      }
     },
     "54b41282d0f94dc6b021ec2f41f17c8d": {
      "model_module": "@jupyter-widgets/base",
      "model_module_version": "1.1.0",
      "model_name": "LayoutModel",
      "state": {}
     },
     "54ccbc3974bb42da8d0ddf8f1648c168": {
      "model_module": "@jupyter-widgets/output",
      "model_module_version": "1.0.0",
      "model_name": "OutputModel",
      "state": {
       "layout": "IPY_MODEL_58e01f9768974d56b578d346f8297187"
      }
     },
     "54d823bcfcae43edb6eddd7920051102": {
      "model_module": "@jupyter-widgets/output",
      "model_module_version": "1.0.0",
      "model_name": "OutputModel",
      "state": {
       "layout": "IPY_MODEL_ee9f14a8005d4cd1aff8c7cbe1ecbbc0"
      }
     },
     "54de52f3c088495082e2d58dda70395c": {
      "model_module": "@jupyter-widgets/controls",
      "model_module_version": "1.4.0",
      "model_name": "VBoxModel",
      "state": {
       "children": [
        "IPY_MODEL_8794b2211e434e09b6cb1566abb4c17a",
        "IPY_MODEL_0b54e94fc50a47ab8a6742d8a26e8e4f"
       ],
       "layout": "IPY_MODEL_a2681176d49245738e30f08935639305"
      }
     },
     "54e4e3e8357a468f8c6edc2c81479af9": {
      "model_module": "@jupyter-widgets/base",
      "model_module_version": "1.1.0",
      "model_name": "LayoutModel",
      "state": {
       "width": "95%"
      }
     },
     "54e6f17a8c4b4d87a4f6e813490ec4d1": {
      "model_module": "@jupyter-widgets/base",
      "model_module_version": "1.1.0",
      "model_name": "LayoutModel",
      "state": {
       "width": "10%"
      }
     },
     "54f3b0d1ac3a4e59b885a77bd01b97c3": {
      "model_module": "@jupyter-widgets/base",
      "model_module_version": "1.1.0",
      "model_name": "LayoutModel",
      "state": {}
     },
     "55043a540ef9491db87c6b22bd205cae": {
      "model_module": "@jupyter-widgets/base",
      "model_module_version": "1.1.0",
      "model_name": "LayoutModel",
      "state": {
       "width": "10%"
      }
     },
     "553b323bed9d4dafa1278b20a2b9b87c": {
      "model_module": "@jupyter-widgets/controls",
      "model_module_version": "1.4.0",
      "model_name": "ButtonStyleModel",
      "state": {}
     },
     "553d1394aae24232b0c0ca8cb811c3b0": {
      "model_module": "@jupyter-widgets/controls",
      "model_module_version": "1.4.0",
      "model_name": "ButtonStyleModel",
      "state": {}
     },
     "556c18426af44436851e9195b243c4ce": {
      "model_module": "@jupyter-widgets/controls",
      "model_module_version": "1.4.0",
      "model_name": "ButtonModel",
      "state": {
       "description": "0",
       "layout": "IPY_MODEL_44de430c220f4d25881cebbb9d1610fe",
       "style": "IPY_MODEL_ccac9cb7a5b249baa1aeb01c46d194ff"
      }
     },
     "55a8021913df442b9c05098f772a9e73": {
      "model_module": "@jupyter-widgets/controls",
      "model_module_version": "1.4.0",
      "model_name": "VBoxModel",
      "state": {
       "children": [
        "IPY_MODEL_1435c5323676434b926b1118b3f2697c",
        "IPY_MODEL_d35efe60dba44763a053a80bf70ab095"
       ],
       "layout": "IPY_MODEL_0ca87db60ad64596a389cf7900c6cf8d"
      }
     },
     "55d506bb9a33440081c7943dfa68c427": {
      "model_module": "@jupyter-widgets/controls",
      "model_module_version": "1.4.0",
      "model_name": "ButtonStyleModel",
      "state": {}
     },
     "55fa45779ca847d59bfdd9ed8d473bc2": {
      "model_module": "@jupyter-widgets/base",
      "model_module_version": "1.1.0",
      "model_name": "LayoutModel",
      "state": {
       "width": "10%"
      }
     },
     "55fcfc19d55f4659bf857ba6bbbc4df6": {
      "model_module": "@jupyter-widgets/base",
      "model_module_version": "1.1.0",
      "model_name": "LayoutModel",
      "state": {}
     },
     "56065177eb8e4e3396612139622f969b": {
      "model_module": "@jupyter-widgets/base",
      "model_module_version": "1.1.0",
      "model_name": "LayoutModel",
      "state": {
       "width": "10%"
      }
     },
     "560978a8f0f94dcf8cae8fb28795eb31": {
      "model_module": "@jupyter-widgets/base",
      "model_module_version": "1.1.0",
      "model_name": "LayoutModel",
      "state": {
       "width": "95%"
      }
     },
     "56348ab548bc436296035cf0ba52d580": {
      "model_module": "@jupyter-widgets/base",
      "model_module_version": "1.1.0",
      "model_name": "LayoutModel",
      "state": {
       "width": "95%"
      }
     },
     "565498f4ff5a4d52b3aea618e56aef74": {
      "model_module": "@jupyter-widgets/base",
      "model_module_version": "1.1.0",
      "model_name": "LayoutModel",
      "state": {
       "width": "95%"
      }
     },
     "5669c682e25e4d2da553db0a62eef633": {
      "model_module": "@jupyter-widgets/output",
      "model_module_version": "1.0.0",
      "model_name": "OutputModel",
      "state": {
       "layout": "IPY_MODEL_47c485dc3c7148dc89430859b7db5662"
      }
     },
     "566e340c875b49ffaa3ef208ef197cde": {
      "model_module": "@jupyter-widgets/controls",
      "model_module_version": "1.4.0",
      "model_name": "HBoxModel",
      "state": {
       "children": [
        "IPY_MODEL_b6dfda8605d9499d942b41b497bba41c",
        "IPY_MODEL_7a77ebc2d1144b219fc3f4b8674b46ea"
       ],
       "layout": "IPY_MODEL_56b470be936448fc9c63fe83a352cd86"
      }
     },
     "566ef68ef5684648ae01c7e595246dd5": {
      "model_module": "@jupyter-widgets/controls",
      "model_module_version": "1.4.0",
      "model_name": "VBoxModel",
      "state": {
       "children": [
        "IPY_MODEL_54a490b784b3405282753fe6b8ea863e",
        "IPY_MODEL_90604c01013541238e25da74bc90be01"
       ],
       "layout": "IPY_MODEL_e336f02b28e5474684246b07141e12e6"
      }
     },
     "567df2d4837e4ce082b2fd07c2a45494": {
      "model_module": "@jupyter-widgets/base",
      "model_module_version": "1.1.0",
      "model_name": "LayoutModel",
      "state": {
       "justify_content": "space-between"
      }
     },
     "5686272fb7084d27ba6d9902e00386aa": {
      "model_module": "@jupyter-widgets/base",
      "model_module_version": "1.1.0",
      "model_name": "LayoutModel",
      "state": {
       "width": "95%"
      }
     },
     "56921fd82f83409aa944867e7da31e8f": {
      "model_module": "@jupyter-widgets/base",
      "model_module_version": "1.1.0",
      "model_name": "LayoutModel",
      "state": {
       "width": "10%"
      }
     },
     "56aa56e4009b444bba6748b29ee2d246": {
      "model_module": "@jupyter-widgets/output",
      "model_module_version": "1.0.0",
      "model_name": "OutputModel",
      "state": {
       "layout": "IPY_MODEL_daf6d2bfd8a944d48363852821e2d325"
      }
     },
     "56b470be936448fc9c63fe83a352cd86": {
      "model_module": "@jupyter-widgets/base",
      "model_module_version": "1.1.0",
      "model_name": "LayoutModel",
      "state": {
       "justify_content": "space-between"
      }
     },
     "56b65726d88d4229a89346e03d849d90": {
      "model_module": "@jupyter-widgets/base",
      "model_module_version": "1.1.0",
      "model_name": "LayoutModel",
      "state": {}
     },
     "56c65b7454604b82b29d8641bb56ebf5": {
      "model_module": "@jupyter-widgets/base",
      "model_module_version": "1.1.0",
      "model_name": "LayoutModel",
      "state": {}
     },
     "56d63755c1a845a89420be23736de9c0": {
      "model_module": "@jupyter-widgets/base",
      "model_module_version": "1.1.0",
      "model_name": "LayoutModel",
      "state": {}
     },
     "56f1b84f61094d308b93f2d6e824f3cf": {
      "model_module": "@jupyter-widgets/base",
      "model_module_version": "1.1.0",
      "model_name": "LayoutModel",
      "state": {}
     },
     "5704595b3cdb4db3817ce2390a85512d": {
      "model_module": "@jupyter-widgets/base",
      "model_module_version": "1.1.0",
      "model_name": "LayoutModel",
      "state": {}
     },
     "5705fc5ca93f4aeba98d74ab0dcc54e6": {
      "model_module": "@jupyter-widgets/output",
      "model_module_version": "1.0.0",
      "model_name": "OutputModel",
      "state": {
       "layout": "IPY_MODEL_cd7d56760782495cac6c7765a63eb89c"
      }
     },
     "5739fdefa9c94f9591fbe4cdaae103ea": {
      "model_module": "@jupyter-widgets/output",
      "model_module_version": "1.0.0",
      "model_name": "OutputModel",
      "state": {
       "layout": "IPY_MODEL_0315168fafa2476285285e37c84a4812"
      }
     },
     "574600853fe8470b8a378f53a9e3b85c": {
      "model_module": "@jupyter-widgets/base",
      "model_module_version": "1.1.0",
      "model_name": "LayoutModel",
      "state": {
       "width": "95%"
      }
     },
     "574b441700874b31a297ccc90c56fd70": {
      "model_module": "@jupyter-widgets/base",
      "model_module_version": "1.1.0",
      "model_name": "LayoutModel",
      "state": {}
     },
     "57518a80e7624cc3a5629f1c10d2ae41": {
      "model_module": "@jupyter-widgets/controls",
      "model_module_version": "1.4.0",
      "model_name": "HBoxModel",
      "state": {
       "children": [
        "IPY_MODEL_a7b44988270847eabb0bf8f369e3567b",
        "IPY_MODEL_8ff52e9bec0d4c2bbfd8b2d96b28d24c",
        "IPY_MODEL_85b809c18a6c4a50963c04ccc34d9c28"
       ],
       "layout": "IPY_MODEL_73917bcca0c9443f9db89a6c1bd07340"
      }
     },
     "575e7832dc0442f08fe3660ae9dcbd5c": {
      "model_module": "@jupyter-widgets/controls",
      "model_module_version": "1.4.0",
      "model_name": "HBoxModel",
      "state": {
       "children": [
        "IPY_MODEL_83f18692ff8e46fdad187dd05f0f2a78",
        "IPY_MODEL_81f4a3e5a8304679a69234d4e3f5dbbf",
        "IPY_MODEL_214be96bf7174cb89e2d1e0ba9884176",
        "IPY_MODEL_c4a58437fa824e89a14d6edbe2132f21",
        "IPY_MODEL_b2d44724279d40a5bb5a44a29ceea14c",
        "IPY_MODEL_94594d7e0a6846f18e00b46374bad29c",
        "IPY_MODEL_c393fcc91b8e46e8a757b9b7babafcaf",
        "IPY_MODEL_735adc59aa1b46569e4871f298a7eb7c",
        "IPY_MODEL_0032ca09314a41eebbace4516f2ffb21",
        "IPY_MODEL_e4cbb8b43a71407c98afa249338561c8"
       ],
       "layout": "IPY_MODEL_74a356184c7844a2ad4ae88ccc33efa1"
      }
     },
     "5760ed6789e948b19528452feead8bcf": {
      "model_module": "@jupyter-widgets/base",
      "model_module_version": "1.1.0",
      "model_name": "LayoutModel",
      "state": {
       "width": "95%"
      }
     },
     "576c56e6f0b144a581834580cc598a5d": {
      "model_module": "@jupyter-widgets/base",
      "model_module_version": "1.1.0",
      "model_name": "LayoutModel",
      "state": {
       "width": "95%"
      }
     },
     "576c6ba3ee62444ea03c28aad4bb7f9d": {
      "model_module": "@jupyter-widgets/controls",
      "model_module_version": "1.4.0",
      "model_name": "ButtonStyleModel",
      "state": {}
     },
     "577281a504034a0da44830c04b94d227": {
      "model_module": "@jupyter-widgets/base",
      "model_module_version": "1.1.0",
      "model_name": "LayoutModel",
      "state": {
       "width": "10%"
      }
     },
     "57a7617a222a449183f8f9b767e42539": {
      "model_module": "@jupyter-widgets/output",
      "model_module_version": "1.0.0",
      "model_name": "OutputModel",
      "state": {
       "layout": "IPY_MODEL_611e6e80e09c4dec9300fafae2755455"
      }
     },
     "57b19e92a7e7446984e83df76f05911a": {
      "model_module": "@jupyter-widgets/base",
      "model_module_version": "1.1.0",
      "model_name": "LayoutModel",
      "state": {
       "width": "10%"
      }
     },
     "57c908a490264da79cef30594dd72aa5": {
      "model_module": "@jupyter-widgets/controls",
      "model_module_version": "1.4.0",
      "model_name": "VBoxModel",
      "state": {
       "children": [
        "IPY_MODEL_4d52bbc3f3f949378c5cfec1ba8ffc4b",
        "IPY_MODEL_afe4ef6d318d4999920fbe4d087003d9"
       ],
       "layout": "IPY_MODEL_bd2a68bcd586436a9b8895346a8a6eb3"
      }
     },
     "57d0d74cd05541cbbefd91b3bc7fa54a": {
      "model_module": "@jupyter-widgets/base",
      "model_module_version": "1.1.0",
      "model_name": "LayoutModel",
      "state": {
       "width": "95%"
      }
     },
     "57da9e9d715d4afaa852b65c8e1be4fb": {
      "model_module": "@jupyter-widgets/output",
      "model_module_version": "1.0.0",
      "model_name": "OutputModel",
      "state": {
       "layout": "IPY_MODEL_bf2c2022214944b6bd62cfe4bf2faa8e"
      }
     },
     "57dd2722b14c42ec958059c28908b123": {
      "model_module": "@jupyter-widgets/controls",
      "model_module_version": "1.4.0",
      "model_name": "ButtonModel",
      "state": {
       "description": "5",
       "layout": "IPY_MODEL_65dade9d4d734bab852ba9402c37e8e6",
       "style": "IPY_MODEL_87ba984bd81c4054a2a02ed5a85e31ff"
      }
     },
     "58042dc24b3340b0ae8e1cf574248d0f": {
      "model_module": "@jupyter-widgets/base",
      "model_module_version": "1.1.0",
      "model_name": "LayoutModel",
      "state": {
       "width": "95%"
      }
     },
     "581859a000154b5d995ce015defc7e1b": {
      "model_module": "@jupyter-widgets/controls",
      "model_module_version": "1.4.0",
      "model_name": "VBoxModel",
      "state": {
       "children": [
        "IPY_MODEL_dc75ca59533b46bf84c5a0a2aab6e670",
        "IPY_MODEL_8f302efba7864d768bdf22c557c42d35"
       ],
       "layout": "IPY_MODEL_847a8b8ae9fc4d19af9909da4c9a49aa"
      }
     },
     "58189a1a989e4c828f34a38c16fd4a5c": {
      "model_module": "@jupyter-widgets/controls",
      "model_module_version": "1.4.0",
      "model_name": "VBoxModel",
      "state": {
       "children": [
        "IPY_MODEL_6f52f85df12c492192ea4bfb04f67b93",
        "IPY_MODEL_9ab7ab397e104df784dd61b8ff910466"
       ],
       "layout": "IPY_MODEL_26a2aee80e9748b6b66b510567069e6f"
      }
     },
     "582c29cd41ae4459b638ed34f73333fc": {
      "model_module": "@jupyter-widgets/controls",
      "model_module_version": "1.4.0",
      "model_name": "ButtonModel",
      "state": {
       "description": "2",
       "layout": "IPY_MODEL_66d82784f4354aa09461ac93f89e16fb",
       "style": "IPY_MODEL_b3e352134a6b4e48a40edfee236f79de"
      }
     },
     "584d25d7f55a4d99b2c201c7145fc1a0": {
      "model_module": "@jupyter-widgets/base",
      "model_module_version": "1.1.0",
      "model_name": "LayoutModel",
      "state": {}
     },
     "5853a9e45d874fe89bc99d30b00f3222": {
      "model_module": "@jupyter-widgets/controls",
      "model_module_version": "1.4.0",
      "model_name": "ButtonModel",
      "state": {
       "description": "8",
       "layout": "IPY_MODEL_a75505c755c64f3cb7de2f606c2ecda1",
       "style": "IPY_MODEL_b6155838b64f4364b882809f1e4c4551"
      }
     },
     "585d37bb0d864d2b9f5b5b2a6aceff37": {
      "model_module": "@jupyter-widgets/output",
      "model_module_version": "1.0.0",
      "model_name": "OutputModel",
      "state": {
       "layout": "IPY_MODEL_4e4e865d0a77491d850ed1b7e5b0177d"
      }
     },
     "58827d7d97ab4c41a726859691ea1512": {
      "model_module": "@jupyter-widgets/base",
      "model_module_version": "1.1.0",
      "model_name": "LayoutModel",
      "state": {
       "width": "95%"
      }
     },
     "58a2066e95f44bae9c12071c5aae6547": {
      "model_module": "@jupyter-widgets/base",
      "model_module_version": "1.1.0",
      "model_name": "LayoutModel",
      "state": {
       "width": "95%"
      }
     },
     "58bfc48472814b76b24a8b9163258497": {
      "model_module": "@jupyter-widgets/base",
      "model_module_version": "1.1.0",
      "model_name": "LayoutModel",
      "state": {
       "width": "95%"
      }
     },
     "58e01f9768974d56b578d346f8297187": {
      "model_module": "@jupyter-widgets/base",
      "model_module_version": "1.1.0",
      "model_name": "LayoutModel",
      "state": {}
     },
     "58f58dc6adfa427b9ce42f216e10a261": {
      "model_module": "@jupyter-widgets/base",
      "model_module_version": "1.1.0",
      "model_name": "LayoutModel",
      "state": {
       "width": "95%"
      }
     },
     "592e239fcea14ea3bf9c7a7c4600a29f": {
      "model_module": "@jupyter-widgets/output",
      "model_module_version": "1.0.0",
      "model_name": "OutputModel",
      "state": {
       "layout": "IPY_MODEL_c7c9f6ae099a49199a7371b95e4217b5"
      }
     },
     "595cd26176744b9a9cf2b746ab1719fa": {
      "model_module": "@jupyter-widgets/controls",
      "model_module_version": "1.4.0",
      "model_name": "ButtonModel",
      "state": {
       "description": "1",
       "layout": "IPY_MODEL_419806f948254f779f03fb3b92cbcb94",
       "style": "IPY_MODEL_3388b6e0d688475fb0f07ebe1227de1c"
      }
     },
     "595d2b4876c8480b9757d6b9a5005054": {
      "model_module": "@jupyter-widgets/controls",
      "model_module_version": "1.4.0",
      "model_name": "VBoxModel",
      "state": {
       "children": [
        "IPY_MODEL_7c82f2efe7574e4ebef036312bda858f",
        "IPY_MODEL_65184e81e9cd42c39e43d0cf741f5a1f"
       ],
       "layout": "IPY_MODEL_61c1337134b6463584c62f593ebda22e"
      }
     },
     "5963a2b68d444f9aabae324db3283821": {
      "model_module": "@jupyter-widgets/base",
      "model_module_version": "1.1.0",
      "model_name": "LayoutModel",
      "state": {
       "width": "10%"
      }
     },
     "5978762ae87245ab9c385bf7b6fd5869": {
      "model_module": "@jupyter-widgets/controls",
      "model_module_version": "1.4.0",
      "model_name": "VBoxModel",
      "state": {
       "children": [
        "IPY_MODEL_0593ba82f1254e09b0ac0082f8d55797",
        "IPY_MODEL_91ce8b6cf22c4a8484a56aee34a20a53"
       ],
       "layout": "IPY_MODEL_aa60a32a71cc49cebc082ae06a9a9ea4"
      }
     },
     "59ad097fe88f448d8badf9edc1ea83be": {
      "model_module": "@jupyter-widgets/controls",
      "model_module_version": "1.4.0",
      "model_name": "VBoxModel",
      "state": {
       "children": [
        "IPY_MODEL_40cbe2b126534d47b7cf3d5548a83396",
        "IPY_MODEL_101132735ae84551b88b58adc13171de"
       ],
       "layout": "IPY_MODEL_7f3f552fc9e54999bf5cf49a8d7cc1d5"
      }
     },
     "59da8332bb484b8a8a84f5bef7168bd5": {
      "model_module": "@jupyter-widgets/output",
      "model_module_version": "1.0.0",
      "model_name": "OutputModel",
      "state": {
       "layout": "IPY_MODEL_44abed6749e34cb29ae6317482a5919a"
      }
     },
     "59da84cf9bfd4cd7a440fd20bebed864": {
      "model_module": "@jupyter-widgets/base",
      "model_module_version": "1.1.0",
      "model_name": "LayoutModel",
      "state": {
       "width": "10%"
      }
     },
     "59eab4f84c9647ec8d87822cd6ba792a": {
      "model_module": "@jupyter-widgets/output",
      "model_module_version": "1.0.0",
      "model_name": "OutputModel",
      "state": {
       "layout": "IPY_MODEL_18bc294cc88c4bbb9f8e246013c72f0a"
      }
     },
     "59fc724edb464edd8a3815f88ec5b7a4": {
      "model_module": "@jupyter-widgets/controls",
      "model_module_version": "1.4.0",
      "model_name": "ButtonModel",
      "state": {
       "description": "4",
       "layout": "IPY_MODEL_3796ba7b533a49acb567b5b73808993d",
       "style": "IPY_MODEL_34c0c8687d404921b04e542d256b370e"
      }
     },
     "5a0f592df9b7494c85072ccb287b3b85": {
      "model_module": "@jupyter-widgets/base",
      "model_module_version": "1.1.0",
      "model_name": "LayoutModel",
      "state": {
       "width": "10%"
      }
     },
     "5a1155f4de8d474ab5124213a868f98c": {
      "model_module": "@jupyter-widgets/base",
      "model_module_version": "1.1.0",
      "model_name": "LayoutModel",
      "state": {
       "width": "10%"
      }
     },
     "5a1389631c4544df9ab1c317f27f3199": {
      "model_module": "@jupyter-widgets/controls",
      "model_module_version": "1.4.0",
      "model_name": "ButtonStyleModel",
      "state": {}
     },
     "5a25cc490f61477988e5c6e1366f762b": {
      "model_module": "@jupyter-widgets/controls",
      "model_module_version": "1.4.0",
      "model_name": "ButtonModel",
      "state": {
       "description": "7",
       "layout": "IPY_MODEL_cf502a08d45b4b22b8eb1fe8db8b595b",
       "style": "IPY_MODEL_0ff6fbd9c4d8445285e5657c308dbebc"
      }
     },
     "5a2ee692d6eb420ebd3cb88b86344a65": {
      "model_module": "@jupyter-widgets/base",
      "model_module_version": "1.1.0",
      "model_name": "LayoutModel",
      "state": {
       "width": "95%"
      }
     },
     "5a513d66c9b645e78a1b9e2801f53fa3": {
      "model_module": "@jupyter-widgets/controls",
      "model_module_version": "1.4.0",
      "model_name": "ButtonModel",
      "state": {
       "description": "2",
       "layout": "IPY_MODEL_17c8c33f3396499aa522c9c701bfd4d4",
       "style": "IPY_MODEL_9e7b4a177a0b4829bd90237b8cb1bf95"
      }
     },
     "5a549dd17b5e40c59f12002a5fe971e4": {
      "model_module": "@jupyter-widgets/base",
      "model_module_version": "1.1.0",
      "model_name": "LayoutModel",
      "state": {}
     },
     "5a56e2fc343f44ca896bd32df8f7bebc": {
      "model_module": "@jupyter-widgets/output",
      "model_module_version": "1.0.0",
      "model_name": "OutputModel",
      "state": {
       "layout": "IPY_MODEL_9fba2ce11fa44c389ed666a32d39bf3b"
      }
     },
     "5a63490fa34643e8b5c393706af1dc0a": {
      "model_module": "@jupyter-widgets/output",
      "model_module_version": "1.0.0",
      "model_name": "OutputModel",
      "state": {
       "layout": "IPY_MODEL_7736075df80c4af3ae9123559ace430c"
      }
     },
     "5a64c9beebea47f8b8c32c7797e7b413": {
      "model_module": "@jupyter-widgets/base",
      "model_module_version": "1.1.0",
      "model_name": "LayoutModel",
      "state": {}
     },
     "5a74f0a424f14299af13cc3550109e66": {
      "model_module": "@jupyter-widgets/controls",
      "model_module_version": "1.4.0",
      "model_name": "VBoxModel",
      "state": {
       "children": [
        "IPY_MODEL_88d5d667a2504830a63de9c7900f3a3b",
        "IPY_MODEL_506918670bd6429caa66a6264364c9f6"
       ],
       "layout": "IPY_MODEL_0db5b18cb979444f9fb4ec44dec411a6"
      }
     },
     "5a8daf76f4c94b48841e60482865d839": {
      "model_module": "@jupyter-widgets/controls",
      "model_module_version": "1.4.0",
      "model_name": "ButtonModel",
      "state": {
       "description": "1",
       "layout": "IPY_MODEL_9e11901fb7a0494487ff0d1529178a5b",
       "style": "IPY_MODEL_7a636de7e3c0444bba2e675ff5f615e4"
      }
     },
     "5aaba9e8d319468bbfcb1f16dea72836": {
      "model_module": "@jupyter-widgets/base",
      "model_module_version": "1.1.0",
      "model_name": "LayoutModel",
      "state": {
       "width": "10%"
      }
     },
     "5aafff64dc4a4973b8f5b046411e2e22": {
      "model_module": "@jupyter-widgets/output",
      "model_module_version": "1.0.0",
      "model_name": "OutputModel",
      "state": {
       "layout": "IPY_MODEL_f3177ce53e484e2fba4e4305466ed81d"
      }
     },
     "5abe7f46e80d4572b3b55d684d46ad06": {
      "model_module": "@jupyter-widgets/controls",
      "model_module_version": "1.4.0",
      "model_name": "ButtonStyleModel",
      "state": {}
     },
     "5ac354419ff14dcaab8c8340f184bd9c": {
      "model_module": "@jupyter-widgets/base",
      "model_module_version": "1.1.0",
      "model_name": "LayoutModel",
      "state": {
       "width": "10%"
      }
     },
     "5ad89c015d844ce6b3c51fd5f8d3bdb0": {
      "model_module": "@jupyter-widgets/controls",
      "model_module_version": "1.4.0",
      "model_name": "ButtonModel",
      "state": {
       "description": "6",
       "layout": "IPY_MODEL_b397debbfba24938a50a088f903b55f5",
       "style": "IPY_MODEL_9ea65b2ab39e4ab0bfd6f191acda27f3"
      }
     },
     "5ad955ba18e94706bee7655ec0015de4": {
      "model_module": "@jupyter-widgets/output",
      "model_module_version": "1.0.0",
      "model_name": "OutputModel",
      "state": {
       "layout": "IPY_MODEL_b1682b8660bd478b98fddcf7de694aed"
      }
     },
     "5ae626155b3f40be93f0aa6f9523aea3": {
      "model_module": "@jupyter-widgets/output",
      "model_module_version": "1.0.0",
      "model_name": "OutputModel",
      "state": {
       "layout": "IPY_MODEL_d0d1229c2589446dad63332d3bf2b7bb"
      }
     },
     "5af0007575f94974a16618bc934b103d": {
      "model_module": "@jupyter-widgets/controls",
      "model_module_version": "1.4.0",
      "model_name": "ButtonStyleModel",
      "state": {}
     },
     "5af52d96d2df4f8584fc3154a4ee51cb": {
      "model_module": "@jupyter-widgets/controls",
      "model_module_version": "1.4.0",
      "model_name": "VBoxModel",
      "state": {
       "children": [
        "IPY_MODEL_d4b1eb9a6fb34a56a49a2da8a826892d",
        "IPY_MODEL_5293e08c2d0d40e396252b77044f618c"
       ],
       "layout": "IPY_MODEL_6747a59a26a94c3d88c4a8ac9c4967a0"
      }
     },
     "5affb05fe0d8434eae4c9cd2f43db33c": {
      "model_module": "@jupyter-widgets/controls",
      "model_module_version": "1.4.0",
      "model_name": "ButtonModel",
      "state": {
       "description": "7",
       "layout": "IPY_MODEL_0d6863e649cc43bb860ea47903ce7ad8",
       "style": "IPY_MODEL_9a24a05ee54b4aa2950e3c62a477c501"
      }
     },
     "5b0a3c9a8c4641afa0aac353a32be765": {
      "model_module": "@jupyter-widgets/base",
      "model_module_version": "1.1.0",
      "model_name": "LayoutModel",
      "state": {
       "width": "95%"
      }
     },
     "5b10050196324643a4d06c8c95a98b77": {
      "model_module": "@jupyter-widgets/controls",
      "model_module_version": "1.4.0",
      "model_name": "ButtonModel",
      "state": {
       "description": "8",
       "layout": "IPY_MODEL_a0607a4f1d2644b9a3d9e9f695f39a8c",
       "style": "IPY_MODEL_b38b715f760145b3b369bc9dce397508"
      }
     },
     "5b1497c35f3d4893911a19a958ee8a72": {
      "model_module": "@jupyter-widgets/base",
      "model_module_version": "1.1.0",
      "model_name": "LayoutModel",
      "state": {
       "width": "10%"
      }
     },
     "5b36a757101940c19887e0a5b0c993a8": {
      "model_module": "@jupyter-widgets/controls",
      "model_module_version": "1.4.0",
      "model_name": "TextModel",
      "state": {
       "description": "Other:",
       "layout": "IPY_MODEL_86ce93c79b0e42759297f2dcc2f4b6a0",
       "placeholder": "Hit enter to submit.",
       "style": "IPY_MODEL_ed76f5e8569f499ebc25f5fb15919a46"
      }
     },
     "5b3c8142e7ac4f37ba31f63e2717e455": {
      "model_module": "@jupyter-widgets/output",
      "model_module_version": "1.0.0",
      "model_name": "OutputModel",
      "state": {
       "layout": "IPY_MODEL_181ec2eb916945819b7b1b4db0011716"
      }
     },
     "5b3ccb53dfa14d4e8027d095bb4527f3": {
      "model_module": "@jupyter-widgets/output",
      "model_module_version": "1.0.0",
      "model_name": "OutputModel",
      "state": {
       "layout": "IPY_MODEL_159ce5d6ccb7460a9583199d5d6739a5"
      }
     },
     "5bb738c9fd384e6a8586b4c9d3f7aa6c": {
      "model_module": "@jupyter-widgets/controls",
      "model_module_version": "1.4.0",
      "model_name": "ButtonModel",
      "state": {
       "description": "5",
       "layout": "IPY_MODEL_4f6f8a0f0943463ebf4f6e655a105330",
       "style": "IPY_MODEL_0ec4e97e72fa430f85bb556eeffad0e1"
      }
     },
     "5bb75e797f2d418eabe157fbb58bbe62": {
      "model_module": "@jupyter-widgets/base",
      "model_module_version": "1.1.0",
      "model_name": "LayoutModel",
      "state": {
       "width": "95%"
      }
     },
     "5bca441a747e4a69ba7ae5856c4c1c45": {
      "model_module": "@jupyter-widgets/base",
      "model_module_version": "1.1.0",
      "model_name": "LayoutModel",
      "state": {
       "width": "95%"
      }
     },
     "5be507d727a2472e927875d1d5142617": {
      "model_module": "@jupyter-widgets/controls",
      "model_module_version": "1.4.0",
      "model_name": "ButtonModel",
      "state": {
       "description": "3",
       "layout": "IPY_MODEL_f2e5197d7760440badb2f03434d5085c",
       "style": "IPY_MODEL_fe72ce52a3f94e66b503b7c0d45e3439"
      }
     },
     "5c2227a8cb9d4f11ab351aefb13cb3b9": {
      "model_module": "@jupyter-widgets/controls",
      "model_module_version": "1.4.0",
      "model_name": "ButtonModel",
      "state": {
       "description": "0",
       "layout": "IPY_MODEL_cc49fc62d4414050908826ec0c8c6d27",
       "style": "IPY_MODEL_02ea049792b04d2d9310e2f90945faa5"
      }
     },
     "5c3e67b05e984317aa9bc15954f555e4": {
      "model_module": "@jupyter-widgets/controls",
      "model_module_version": "1.4.0",
      "model_name": "ButtonModel",
      "state": {
       "description": "8",
       "layout": "IPY_MODEL_56348ab548bc436296035cf0ba52d580",
       "style": "IPY_MODEL_4f4a1c7ee1014973991aaeb00c27c503"
      }
     },
     "5c4da8a26a324a6782333506d5901974": {
      "model_module": "@jupyter-widgets/controls",
      "model_module_version": "1.4.0",
      "model_name": "ButtonStyleModel",
      "state": {}
     },
     "5c5c4ce34b7947528c10519021a74dee": {
      "model_module": "@jupyter-widgets/controls",
      "model_module_version": "1.4.0",
      "model_name": "VBoxModel",
      "state": {
       "children": [
        "IPY_MODEL_f3f85747b4bd48839cbbabea8e4e6789",
        "IPY_MODEL_3827f73998f343bd8f1ba1ab84c977c0"
       ],
       "layout": "IPY_MODEL_8c9d01dd6aad455f95365764d6e07a12"
      }
     },
     "5c89e554d1774796b2f4e975573d4c89": {
      "model_module": "@jupyter-widgets/base",
      "model_module_version": "1.1.0",
      "model_name": "LayoutModel",
      "state": {
       "width": "95%"
      }
     },
     "5ca36ab44422442bb75e1a1201448ff7": {
      "model_module": "@jupyter-widgets/controls",
      "model_module_version": "1.4.0",
      "model_name": "VBoxModel",
      "state": {
       "children": [
        "IPY_MODEL_ce41846ef2f74cdd8b38e5ca733388dd",
        "IPY_MODEL_0d96675718194b99addd4407f2481813"
       ],
       "layout": "IPY_MODEL_c1c8b6be17b5412c8699a1b588dcc214"
      }
     },
     "5ca86b70dd8e4a32b17df232a198b083": {
      "model_module": "@jupyter-widgets/output",
      "model_module_version": "1.0.0",
      "model_name": "OutputModel",
      "state": {
       "layout": "IPY_MODEL_194b13640174467b8e646fb6ca112a30"
      }
     },
     "5cad3bff8fce42589fcb2be353c81d56": {
      "model_module": "@jupyter-widgets/controls",
      "model_module_version": "1.4.0",
      "model_name": "VBoxModel",
      "state": {
       "children": [
        "IPY_MODEL_bcbebf5ad17e486ebb97eb7aec473830",
        "IPY_MODEL_84c50850ee924c80836715c0904a5937"
       ],
       "layout": "IPY_MODEL_6b184abe00944c74916b87e3e869a7cc"
      }
     },
     "5cc0c1442a0b4752a830e3c46ba9060a": {
      "model_module": "@jupyter-widgets/output",
      "model_module_version": "1.0.0",
      "model_name": "OutputModel",
      "state": {
       "layout": "IPY_MODEL_5a64c9beebea47f8b8c32c7797e7b413"
      }
     },
     "5cd4e9e327824b548a87115d6608810e": {
      "model_module": "@jupyter-widgets/controls",
      "model_module_version": "1.4.0",
      "model_name": "VBoxModel",
      "state": {
       "children": [
        "IPY_MODEL_7bb671afcc9a4798b0370dc65985c88e",
        "IPY_MODEL_8df83192717942ef9c6d5ed7fe1e25c9"
       ],
       "layout": "IPY_MODEL_54e6f17a8c4b4d87a4f6e813490ec4d1"
      }
     },
     "5ce1c9c031134ebd8ad9f503eddd46e2": {
      "model_module": "@jupyter-widgets/base",
      "model_module_version": "1.1.0",
      "model_name": "LayoutModel",
      "state": {
       "width": "95%"
      }
     },
     "5ceb9e37fb934688b3979be94b0c2cb1": {
      "model_module": "@jupyter-widgets/controls",
      "model_module_version": "1.4.0",
      "model_name": "DescriptionStyleModel",
      "state": {
       "description_width": ""
      }
     },
     "5cef1b8d2f644a3ab9b3d6bbdae2694c": {
      "model_module": "@jupyter-widgets/base",
      "model_module_version": "1.1.0",
      "model_name": "LayoutModel",
      "state": {
       "width": "10%"
      }
     },
     "5cf5ebb6576d463595108aa4efb1ae5d": {
      "model_module": "@jupyter-widgets/controls",
      "model_module_version": "1.4.0",
      "model_name": "VBoxModel",
      "state": {
       "children": [
        "IPY_MODEL_a0266e1a6b62439a84c930105f00a39c",
        "IPY_MODEL_6056f5d86fae4343a74533f767c65bfd"
       ],
       "layout": "IPY_MODEL_348d5d6e1c9f4b68a6595c37a37c7b2e"
      }
     },
     "5cfc5378f92f4a9abaa1a0ea48bdee91": {
      "model_module": "@jupyter-widgets/controls",
      "model_module_version": "1.4.0",
      "model_name": "ButtonModel",
      "state": {
       "description": "5",
       "layout": "IPY_MODEL_ce12c75dd4c8435da96cb7276d83bde2",
       "style": "IPY_MODEL_771bc6e8e107490f8fb4763afaf074cb"
      }
     },
     "5cfcf6f437c049be9534055ae962fc9b": {
      "model_module": "@jupyter-widgets/base",
      "model_module_version": "1.1.0",
      "model_name": "LayoutModel",
      "state": {
       "width": "10%"
      }
     },
     "5d1ccba1f6e74d15a4e7f273934afd24": {
      "model_module": "@jupyter-widgets/output",
      "model_module_version": "1.0.0",
      "model_name": "OutputModel",
      "state": {
       "layout": "IPY_MODEL_035aa04dd45d41f5b5e31c26c7639937"
      }
     },
     "5d217b0bd3fa47d292ac04933b3d6951": {
      "model_module": "@jupyter-widgets/base",
      "model_module_version": "1.1.0",
      "model_name": "LayoutModel",
      "state": {}
     },
     "5d393867cf3b400b91a2582b950a1f3f": {
      "model_module": "@jupyter-widgets/base",
      "model_module_version": "1.1.0",
      "model_name": "LayoutModel",
      "state": {
       "width": "95%"
      }
     },
     "5d424f535ef64be4b640005fd3966a58": {
      "model_module": "@jupyter-widgets/base",
      "model_module_version": "1.1.0",
      "model_name": "LayoutModel",
      "state": {
       "justify_content": "space-between"
      }
     },
     "5d449221b4af48e9bf16292fd550f2b6": {
      "model_module": "@jupyter-widgets/base",
      "model_module_version": "1.1.0",
      "model_name": "LayoutModel",
      "state": {
       "width": "10%"
      }
     },
     "5d4a39d1c732400cad9acc03af1f2e83": {
      "model_module": "@jupyter-widgets/base",
      "model_module_version": "1.1.0",
      "model_name": "LayoutModel",
      "state": {
       "width": "10%"
      }
     },
     "5d4d3e3641b541d1a4a077fe25c5145e": {
      "model_module": "@jupyter-widgets/controls",
      "model_module_version": "1.4.0",
      "model_name": "DescriptionStyleModel",
      "state": {
       "description_width": ""
      }
     },
     "5d4d9627da26482ea07c2ace48de7fdd": {
      "model_module": "@jupyter-widgets/base",
      "model_module_version": "1.1.0",
      "model_name": "LayoutModel",
      "state": {
       "width": "10%"
      }
     },
     "5d7b404b7ec34bae9d028c0c1d572bb2": {
      "model_module": "@jupyter-widgets/output",
      "model_module_version": "1.0.0",
      "model_name": "OutputModel",
      "state": {
       "layout": "IPY_MODEL_398eda9fdf714aceb6300f5b3a56d33d"
      }
     },
     "5d91dc9cb42040f3b807786d5959da9d": {
      "model_module": "@jupyter-widgets/output",
      "model_module_version": "1.0.0",
      "model_name": "OutputModel",
      "state": {
       "layout": "IPY_MODEL_aeb1ae69eff2480c8394f73b9a4578be"
      }
     },
     "5db2b237464644f88aab68bf0e6dc008": {
      "model_module": "@jupyter-widgets/base",
      "model_module_version": "1.1.0",
      "model_name": "LayoutModel",
      "state": {
       "width": "95%"
      }
     },
     "5dcfcc8cc8b84becaa5a77d3e4f9635e": {
      "model_module": "@jupyter-widgets/base",
      "model_module_version": "1.1.0",
      "model_name": "LayoutModel",
      "state": {}
     },
     "5dd0e32f6cf44a7d97cacaffbe570805": {
      "model_module": "@jupyter-widgets/controls",
      "model_module_version": "1.4.0",
      "model_name": "ButtonStyleModel",
      "state": {}
     },
     "5de776108b8f491ea8b6cf3d0987d643": {
      "model_module": "@jupyter-widgets/base",
      "model_module_version": "1.1.0",
      "model_name": "LayoutModel",
      "state": {}
     },
     "5df57d526f8a48faa1fc85c4241c3f21": {
      "model_module": "@jupyter-widgets/controls",
      "model_module_version": "1.4.0",
      "model_name": "ButtonStyleModel",
      "state": {}
     },
     "5e0b5bbd5d004ac388924fc515724f15": {
      "model_module": "@jupyter-widgets/base",
      "model_module_version": "1.1.0",
      "model_name": "LayoutModel",
      "state": {}
     },
     "5e0da997e0e2472f8653a294bd34f083": {
      "model_module": "@jupyter-widgets/base",
      "model_module_version": "1.1.0",
      "model_name": "LayoutModel",
      "state": {
       "width": "10%"
      }
     },
     "5e136d52c56249afaa2c3d3a53322e41": {
      "model_module": "@jupyter-widgets/output",
      "model_module_version": "1.0.0",
      "model_name": "OutputModel",
      "state": {
       "layout": "IPY_MODEL_2da88841373e461d92c819079813fb34"
      }
     },
     "5e1c945945c14a3aa382951c235560f3": {
      "model_module": "@jupyter-widgets/base",
      "model_module_version": "1.1.0",
      "model_name": "LayoutModel",
      "state": {
       "width": "95%"
      }
     },
     "5e4019c2d9b144db8ae47086f5290f3e": {
      "model_module": "@jupyter-widgets/controls",
      "model_module_version": "1.4.0",
      "model_name": "ButtonModel",
      "state": {
       "description": "5",
       "layout": "IPY_MODEL_6279ed8bd3c146af9ee10313e3240d56",
       "style": "IPY_MODEL_70370bb38e664eec985df377951ab2f5"
      }
     },
     "5e5b45703f354000a47eb5eb46bd6534": {
      "model_module": "@jupyter-widgets/controls",
      "model_module_version": "1.4.0",
      "model_name": "VBoxModel",
      "state": {
       "children": [
        "IPY_MODEL_72358443af654947927693a829ab56c6",
        "IPY_MODEL_6081270e38ae47b08ad1f594bdd701e6"
       ],
       "layout": "IPY_MODEL_1607fa9f52424172bcaa427b465ec1fc"
      }
     },
     "5e5e724349f54c49b25f13e0c4b5bfea": {
      "model_module": "@jupyter-widgets/controls",
      "model_module_version": "1.4.0",
      "model_name": "HBoxModel",
      "state": {
       "children": [
        "IPY_MODEL_a7b44988270847eabb0bf8f369e3567b",
        "IPY_MODEL_8ff52e9bec0d4c2bbfd8b2d96b28d24c",
        "IPY_MODEL_85b809c18a6c4a50963c04ccc34d9c28"
       ],
       "layout": "IPY_MODEL_a8c3634aacc8416587ee9565b003a30a"
      }
     },
     "5e6172341b6349ae85306c6556b6372b": {
      "model_module": "@jupyter-widgets/controls",
      "model_module_version": "1.4.0",
      "model_name": "ButtonModel",
      "state": {
       "description": "3",
       "layout": "IPY_MODEL_58a2066e95f44bae9c12071c5aae6547",
       "style": "IPY_MODEL_1cf295f220be4435a615d891cd93fde6"
      }
     },
     "5e8402186a5f4cc5824b301ac3a2ffa3": {
      "model_module": "@jupyter-widgets/controls",
      "model_module_version": "1.4.0",
      "model_name": "ButtonStyleModel",
      "state": {}
     },
     "5eb199e7925f4e3594e28794d25862a8": {
      "model_module": "@jupyter-widgets/base",
      "model_module_version": "1.1.0",
      "model_name": "LayoutModel",
      "state": {
       "width": "95%"
      }
     },
     "5eb53e5c6ad84a13885c54996790eef5": {
      "model_module": "@jupyter-widgets/controls",
      "model_module_version": "1.4.0",
      "model_name": "ButtonStyleModel",
      "state": {}
     },
     "5ec339cd83ce49efa658efb74363dd19": {
      "model_module": "@jupyter-widgets/controls",
      "model_module_version": "1.4.0",
      "model_name": "ButtonStyleModel",
      "state": {}
     },
     "5ee8f3d0d71041b08919847bb7850f54": {
      "model_module": "@jupyter-widgets/controls",
      "model_module_version": "1.4.0",
      "model_name": "ButtonModel",
      "state": {
       "description": "5",
       "layout": "IPY_MODEL_9956ab050dd54519b65a5bc63bdaa149",
       "style": "IPY_MODEL_4ac1ab03ef8b467b9cf0b545d0d66f22"
      }
     },
     "5f0939f440e44cb78d8fe7840b6df4f9": {
      "model_module": "@jupyter-widgets/controls",
      "model_module_version": "1.4.0",
      "model_name": "BoxModel",
      "state": {
       "children": [
        "IPY_MODEL_92dd620af98d44db81fedbc819f15120"
       ],
       "layout": "IPY_MODEL_7826be9363344067b2ed43759e65b667"
      }
     },
     "5f180d8be3284459922a2188dac15ebc": {
      "model_module": "@jupyter-widgets/base",
      "model_module_version": "1.1.0",
      "model_name": "LayoutModel",
      "state": {}
     },
     "5f30e7f814294d96beb86a8969a4f9b7": {
      "model_module": "@jupyter-widgets/base",
      "model_module_version": "1.1.0",
      "model_name": "LayoutModel",
      "state": {
       "width": "10%"
      }
     },
     "5f31673da3fd4592818032e91ac30924": {
      "model_module": "@jupyter-widgets/controls",
      "model_module_version": "1.4.0",
      "model_name": "VBoxModel",
      "state": {
       "children": [
        "IPY_MODEL_b26dbf2d9d97499f81d2cc5cee501850",
        "IPY_MODEL_ff60b56f2bbc4f11b4302bc2bd5182fd"
       ],
       "layout": "IPY_MODEL_687cb1199589421b99fbd5574bc7ef7d"
      }
     },
     "5f4dbe4505334a1a98cdac63db72f72b": {
      "model_module": "@jupyter-widgets/base",
      "model_module_version": "1.1.0",
      "model_name": "LayoutModel",
      "state": {
       "width": "10%"
      }
     },
     "5f6104a6b4ff40b985a851048cf4a1bd": {
      "model_module": "@jupyter-widgets/controls",
      "model_module_version": "1.4.0",
      "model_name": "VBoxModel",
      "state": {
       "children": [
        "IPY_MODEL_d324555fb48a4d9abc13d2728ac843d4",
        "IPY_MODEL_8608989c24bf45d58cc04a269deeef45"
       ],
       "layout": "IPY_MODEL_1bc2d083e52d4e899ca7ea9477ad7616"
      }
     },
     "5f7a9e42bf8c47d4b52a9b274f1ca9a8": {
      "model_module": "@jupyter-widgets/controls",
      "model_module_version": "1.4.0",
      "model_name": "ButtonStyleModel",
      "state": {}
     },
     "5fa26a99121045f7be4ad6752d2ed20d": {
      "model_module": "@jupyter-widgets/controls",
      "model_module_version": "1.4.0",
      "model_name": "ButtonStyleModel",
      "state": {}
     },
     "5fc0112d165e4c4781e99e5c061295e7": {
      "model_module": "@jupyter-widgets/controls",
      "model_module_version": "1.4.0",
      "model_name": "ButtonStyleModel",
      "state": {}
     },
     "5fd17f27151341ed9fb4100226cbbad1": {
      "model_module": "@jupyter-widgets/base",
      "model_module_version": "1.1.0",
      "model_name": "LayoutModel",
      "state": {
       "width": "95%"
      }
     },
     "5fe5e856d09a40fcb152d5fde59691fa": {
      "model_module": "@jupyter-widgets/base",
      "model_module_version": "1.1.0",
      "model_name": "LayoutModel",
      "state": {}
     },
     "6009de8de5644305a1c90dbdf8016c3b": {
      "model_module": "@jupyter-widgets/controls",
      "model_module_version": "1.4.0",
      "model_name": "ButtonModel",
      "state": {
       "description": "3",
       "layout": "IPY_MODEL_2c4be5d680ff49a195b2ad36e9f10bbf",
       "style": "IPY_MODEL_a8f1ed5e1f2c4859ba7935f9380175e8"
      }
     },
     "6015a0b078504af58d764400d230de14": {
      "model_module": "@jupyter-widgets/base",
      "model_module_version": "1.1.0",
      "model_name": "LayoutModel",
      "state": {}
     },
     "6019734f8f134244a311f6361cde6c06": {
      "model_module": "@jupyter-widgets/controls",
      "model_module_version": "1.4.0",
      "model_name": "VBoxModel",
      "state": {
       "children": [
        "IPY_MODEL_32f28a68e1dd4d92ae26b1375458fbc7",
        "IPY_MODEL_b6428aaf139a42689197d0788c61d99b"
       ],
       "layout": "IPY_MODEL_fd44a76b73a648148798d760b23b3d2a"
      }
     },
     "60274f60ff6b436781330697eb208a0b": {
      "model_module": "@jupyter-widgets/base",
      "model_module_version": "1.1.0",
      "model_name": "LayoutModel",
      "state": {
       "width": "10%"
      }
     },
     "604ec49b29344a3fb6778825dabf6a0b": {
      "model_module": "@jupyter-widgets/controls",
      "model_module_version": "1.4.0",
      "model_name": "ButtonStyleModel",
      "state": {}
     },
     "6056f5d86fae4343a74533f767c65bfd": {
      "model_module": "@jupyter-widgets/output",
      "model_module_version": "1.0.0",
      "model_name": "OutputModel",
      "state": {
       "layout": "IPY_MODEL_926a7e28098e41709933c1e6d8e63dcb"
      }
     },
     "6068e667a5f846cea35f607efb0d8bf6": {
      "model_module": "@jupyter-widgets/controls",
      "model_module_version": "1.4.0",
      "model_name": "HBoxModel",
      "state": {
       "children": [
        "IPY_MODEL_1d35a814a357483e9bb009e1fa20947d",
        "IPY_MODEL_a06d9f7e635c45f58515d1bc41e88d57",
        "IPY_MODEL_9eff8c0b39bf4803a872aa1a20160b60",
        "IPY_MODEL_ba4c170a0da24ba7a15865d9d990ad82",
        "IPY_MODEL_581859a000154b5d995ce015defc7e1b",
        "IPY_MODEL_97b1c0316b9b46fd879e45da8ca7ccf2",
        "IPY_MODEL_acab1b7339c34500bb32c223d13a613d",
        "IPY_MODEL_ebac152dee5c45278859d4c97aa8712a",
        "IPY_MODEL_b5b2d3aef8824ca68c77883baeaea339",
        "IPY_MODEL_2a04953cf2c140769d5a542336638470"
       ],
       "layout": "IPY_MODEL_391d50607fbe4bb7b6cacae7e43b13fb"
      }
     },
     "6081270e38ae47b08ad1f594bdd701e6": {
      "model_module": "@jupyter-widgets/output",
      "model_module_version": "1.0.0",
      "model_name": "OutputModel",
      "state": {
       "layout": "IPY_MODEL_628b7560ed4a4a8ba19086bf966ea5ba"
      }
     },
     "60886377af4a4b06ac77124759bada87": {
      "model_module": "@jupyter-widgets/base",
      "model_module_version": "1.1.0",
      "model_name": "LayoutModel",
      "state": {}
     },
     "60adac006988461d877d8c32f4761c2b": {
      "model_module": "@jupyter-widgets/base",
      "model_module_version": "1.1.0",
      "model_name": "LayoutModel",
      "state": {
       "width": "95%"
      }
     },
     "60afb2703ab34155bac065d2de3f2b45": {
      "model_module": "@jupyter-widgets/controls",
      "model_module_version": "1.4.0",
      "model_name": "ButtonStyleModel",
      "state": {}
     },
     "60b88131dbb740698b2070cf2157c728": {
      "model_module": "@jupyter-widgets/base",
      "model_module_version": "1.1.0",
      "model_name": "LayoutModel",
      "state": {}
     },
     "60bd1a247fb54121b5a7f0f6bd039b8b": {
      "model_module": "@jupyter-widgets/base",
      "model_module_version": "1.1.0",
      "model_name": "LayoutModel",
      "state": {
       "width": "10%"
      }
     },
     "60c5e316766444c381161cd2aef1f83a": {
      "model_module": "@jupyter-widgets/controls",
      "model_module_version": "1.4.0",
      "model_name": "VBoxModel",
      "state": {
       "children": [
        "IPY_MODEL_ff60cc5d24a04b8c8d3c65b82f529ba8",
        "IPY_MODEL_72206560ae1b4819a890d20935a7229d"
       ],
       "layout": "IPY_MODEL_2ece00853c374a72ae99bb82da3ceb29"
      }
     },
     "60cd0a7b40084d19b92bf5ff13da8373": {
      "model_module": "@jupyter-widgets/output",
      "model_module_version": "1.0.0",
      "model_name": "OutputModel",
      "state": {
       "layout": "IPY_MODEL_995dddd66bac44078d7f7f37717f9b02"
      }
     },
     "60d4efdbbe4d4e90abdb1c84f37d0e21": {
      "model_module": "@jupyter-widgets/controls",
      "model_module_version": "1.4.0",
      "model_name": "HBoxModel",
      "state": {
       "children": [
        "IPY_MODEL_df7b5800cb8b4ce0973cbf03a7ba7455",
        "IPY_MODEL_d584356ae9904b1c804f0cd3ff3444e1",
        "IPY_MODEL_b69a4a15a9834a33bc27578e0b699a23",
        "IPY_MODEL_b2ac6fd4c26e481a9ff1db5c93c52c48",
        "IPY_MODEL_23e8aac497f1401f8fa0179d91bdfd79",
        "IPY_MODEL_38b9948bf41943aeb169268478881815",
        "IPY_MODEL_54de52f3c088495082e2d58dda70395c",
        "IPY_MODEL_698dd9c120ca42f29876be49f012ca9f",
        "IPY_MODEL_af71c0ada1934d0d84852fc5c9674138",
        "IPY_MODEL_7ab9d8a497d142279e58df0366d015b4"
       ],
       "layout": "IPY_MODEL_e97c516a93b542bd8c7f9d068053ea07"
      }
     },
     "60e58f5908754dcc9bbe877aa66773c6": {
      "model_module": "@jupyter-widgets/controls",
      "model_module_version": "1.4.0",
      "model_name": "VBoxModel",
      "state": {
       "children": [
        "IPY_MODEL_f44a28e4aadd490b90cb88bd0eee6463",
        "IPY_MODEL_f94e8078d1984e74b59f08fd916df262"
       ],
       "layout": "IPY_MODEL_92d2ee5f2fd344048ac0cfc7a841dc5e"
      }
     },
     "60e8dc17c5e549c18aeead52864e53f5": {
      "model_module": "@jupyter-widgets/controls",
      "model_module_version": "1.4.0",
      "model_name": "ButtonModel",
      "state": {
       "description": "8",
       "layout": "IPY_MODEL_5272785d11d945ac8b10a5f454f5f244",
       "style": "IPY_MODEL_1d20fe42067746f0b89235c8fb21a457"
      }
     },
     "6113baa44f934f28b4db1eef9b239320": {
      "model_module": "@jupyter-widgets/controls",
      "model_module_version": "1.4.0",
      "model_name": "ButtonModel",
      "state": {
       "description": "0",
       "layout": "IPY_MODEL_7d03d29ef657465d9a06afec902e0f77",
       "style": "IPY_MODEL_ef5afa9e4a3945f2abe52e831d2e4077"
      }
     },
     "611e6e80e09c4dec9300fafae2755455": {
      "model_module": "@jupyter-widgets/base",
      "model_module_version": "1.1.0",
      "model_name": "LayoutModel",
      "state": {}
     },
     "6157ef7ee4c947b6945b1cbf5adc6187": {
      "model_module": "@jupyter-widgets/base",
      "model_module_version": "1.1.0",
      "model_name": "LayoutModel",
      "state": {
       "width": "10%"
      }
     },
     "6158d3968f084a41b843af03cd2d1309": {
      "model_module": "@jupyter-widgets/controls",
      "model_module_version": "1.4.0",
      "model_name": "VBoxModel",
      "state": {
       "children": [
        "IPY_MODEL_5b10050196324643a4d06c8c95a98b77",
        "IPY_MODEL_c40d7c1ab8f247318ecb230bce8b0add"
       ],
       "layout": "IPY_MODEL_0676c62304e743ada3e645b29e48fff6"
      }
     },
     "6179b0f7b6864b678528e10c938dea9a": {
      "model_module": "@jupyter-widgets/controls",
      "model_module_version": "1.4.0",
      "model_name": "VBoxModel",
      "state": {
       "children": [
        "IPY_MODEL_78dfde91aa61435490e7c2b763b04e09",
        "IPY_MODEL_4ef0b6ec12f54d8aba479b698967190f"
       ],
       "layout": "IPY_MODEL_338ba1e58ed64c16b3caa5f6674588c0"
      }
     },
     "61a7e9511c6840c283fbd760bd73bcd4": {
      "model_module": "@jupyter-widgets/base",
      "model_module_version": "1.1.0",
      "model_name": "LayoutModel",
      "state": {
       "width": "95%"
      }
     },
     "61a848c8630546e7a54816d1dc732172": {
      "model_module": "@jupyter-widgets/output",
      "model_module_version": "1.0.0",
      "model_name": "OutputModel",
      "state": {
       "layout": "IPY_MODEL_22a8b15a55c141df8631c0f3fb50f76d"
      }
     },
     "61ae1d96a7494430951ad22f3962b09d": {
      "model_module": "@jupyter-widgets/controls",
      "model_module_version": "1.4.0",
      "model_name": "VBoxModel",
      "state": {
       "children": [
        "IPY_MODEL_9c80714a62994ca3b52e13745985a6eb",
        "IPY_MODEL_283f75e0e4c64c3187559ea8ed00038b"
       ],
       "layout": "IPY_MODEL_4d61a70c1fe84ae79c090c725be4f071"
      }
     },
     "61c1337134b6463584c62f593ebda22e": {
      "model_module": "@jupyter-widgets/base",
      "model_module_version": "1.1.0",
      "model_name": "LayoutModel",
      "state": {
       "width": "10%"
      }
     },
     "61d8bf6ec0054eab9f8755c01a6ec0aa": {
      "model_module": "@jupyter-widgets/controls",
      "model_module_version": "1.4.0",
      "model_name": "HBoxModel",
      "state": {
       "children": [
        "IPY_MODEL_a37dcef3b3014a31843afb7f032220b4",
        "IPY_MODEL_14877200635d4371a070862db150e37b"
       ],
       "layout": "IPY_MODEL_8e28b84ede874c73b5a15b16d3f3f85a"
      }
     },
     "61f7677b4d0f4de2a0d98b4953110cfb": {
      "model_module": "@jupyter-widgets/base",
      "model_module_version": "1.1.0",
      "model_name": "LayoutModel",
      "state": {}
     },
     "621bb7860f924f5d8050b58bd9e29369": {
      "model_module": "@jupyter-widgets/controls",
      "model_module_version": "1.4.0",
      "model_name": "ButtonModel",
      "state": {
       "description": "9",
       "layout": "IPY_MODEL_44742fa3df6341ec93a24f1c9e1480b4",
       "style": "IPY_MODEL_354da21be0a844f287a64ce1caf574fd"
      }
     },
     "62322e02fbc340b0af2962e5084f06fe": {
      "model_module": "@jupyter-widgets/base",
      "model_module_version": "1.1.0",
      "model_name": "LayoutModel",
      "state": {
       "width": "10%"
      }
     },
     "62355020e34a4f1d856311d07ac0f96b": {
      "model_module": "@jupyter-widgets/output",
      "model_module_version": "1.0.0",
      "model_name": "OutputModel",
      "state": {
       "layout": "IPY_MODEL_e08dcfcbfc064cfdabf5d6eca862eeb5"
      }
     },
     "6244e3f5dfc34b2b91826554147fb299": {
      "model_module": "@jupyter-widgets/controls",
      "model_module_version": "1.4.0",
      "model_name": "ButtonModel",
      "state": {
       "description": "8",
       "layout": "IPY_MODEL_ba59acb9092e44fa8f0232c006828bd3",
       "style": "IPY_MODEL_926799c17e1740b4a5a071c1c1fb7c03"
      }
     },
     "62541aafe9634ad390fe5ceedfeb4533": {
      "model_module": "@jupyter-widgets/controls",
      "model_module_version": "1.4.0",
      "model_name": "VBoxModel",
      "state": {
       "children": [
        "IPY_MODEL_306814bba873403887a0e954e27e3b92",
        "IPY_MODEL_fae221646abd4feda3ef264d49206bee"
       ],
       "layout": "IPY_MODEL_5cef1b8d2f644a3ab9b3d6bbdae2694c"
      }
     },
     "6279ed8bd3c146af9ee10313e3240d56": {
      "model_module": "@jupyter-widgets/base",
      "model_module_version": "1.1.0",
      "model_name": "LayoutModel",
      "state": {
       "width": "95%"
      }
     },
     "628b7560ed4a4a8ba19086bf966ea5ba": {
      "model_module": "@jupyter-widgets/base",
      "model_module_version": "1.1.0",
      "model_name": "LayoutModel",
      "state": {}
     },
     "62ba6ead3cce4c6c8681152bacbfb60f": {
      "model_module": "@jupyter-widgets/controls",
      "model_module_version": "1.4.0",
      "model_name": "ButtonStyleModel",
      "state": {}
     },
     "62c9782efc0d4f55962e9cf7c2ab24b3": {
      "model_module": "@jupyter-widgets/output",
      "model_module_version": "1.0.0",
      "model_name": "OutputModel",
      "state": {
       "layout": "IPY_MODEL_a51c9385a76b4d528c4aadecc804096d"
      }
     },
     "62caffbc6d8a47628dcf85b88f341071": {
      "model_module": "@jupyter-widgets/controls",
      "model_module_version": "1.4.0",
      "model_name": "ButtonStyleModel",
      "state": {}
     },
     "62f47b89addf4ee8a8e955d5f36a5c22": {
      "model_module": "@jupyter-widgets/output",
      "model_module_version": "1.0.0",
      "model_name": "OutputModel",
      "state": {
       "layout": "IPY_MODEL_5365094ceac14c208b0359611e4d5869"
      }
     },
     "632482051e2d4be3ba81b6c1b337b5b4": {
      "model_module": "@jupyter-widgets/controls",
      "model_module_version": "1.4.0",
      "model_name": "VBoxModel",
      "state": {
       "children": [
        "IPY_MODEL_bf837ba56a9c431a9ff778e1a432dc83",
        "IPY_MODEL_131c526663fe4cfeac5683b6e7f377cd"
       ],
       "layout": "IPY_MODEL_339de60eacd74b09a477cdd1c97852dc"
      }
     },
     "634073df2da947f8a8e7db98fe700916": {
      "model_module": "@jupyter-widgets/controls",
      "model_module_version": "1.4.0",
      "model_name": "ButtonStyleModel",
      "state": {}
     },
     "634d700365244323b56b0f195ffa6e0c": {
      "model_module": "@jupyter-widgets/controls",
      "model_module_version": "1.4.0",
      "model_name": "ButtonStyleModel",
      "state": {}
     },
     "635392a522a448a5a33f1f30104dd519": {
      "model_module": "@jupyter-widgets/output",
      "model_module_version": "1.0.0",
      "model_name": "OutputModel",
      "state": {
       "layout": "IPY_MODEL_98c3610fc7ad4e39937a4a97be400fc2"
      }
     },
     "637332793d044019bb950567c6498f2c": {
      "model_module": "@jupyter-widgets/controls",
      "model_module_version": "1.4.0",
      "model_name": "TextModel",
      "state": {
       "description": "Other:",
       "layout": "IPY_MODEL_42283fedc8d44511ad9717c07bfcc516",
       "placeholder": "Hit enter to submit.",
       "style": "IPY_MODEL_97e0ef5c9e3c4ee79b885cb5d1d08edd"
      }
     },
     "637a890b2125458297ce791a947e1f99": {
      "model_module": "@jupyter-widgets/controls",
      "model_module_version": "1.4.0",
      "model_name": "ButtonModel",
      "state": {
       "description": "3",
       "layout": "IPY_MODEL_2be5f5b374914398aea6a3f58ecb5c99",
       "style": "IPY_MODEL_5e8402186a5f4cc5824b301ac3a2ffa3"
      }
     },
     "63841d59f5824b5d93d59d25e16d8f56": {
      "model_module": "@jupyter-widgets/base",
      "model_module_version": "1.1.0",
      "model_name": "LayoutModel",
      "state": {}
     },
     "638623bedeb04c9998f0233188c75ff7": {
      "model_module": "@jupyter-widgets/controls",
      "model_module_version": "1.4.0",
      "model_name": "ButtonModel",
      "state": {
       "description": "7",
       "layout": "IPY_MODEL_73be1f222fd14d4eb07f12c3b81bfa2f",
       "style": "IPY_MODEL_bd2368fc61824b529b0e5529392a369f"
      }
     },
     "6386a97ece924eeabc246ad67b3286df": {
      "model_module": "@jupyter-widgets/output",
      "model_module_version": "1.0.0",
      "model_name": "OutputModel",
      "state": {
       "layout": "IPY_MODEL_2cb71bc8af7042a7b7888ab226d1d56a"
      }
     },
     "6394e483560d4dd086a70d5ea21c4394": {
      "model_module": "@jupyter-widgets/controls",
      "model_module_version": "1.4.0",
      "model_name": "ButtonModel",
      "state": {
       "description": "3",
       "layout": "IPY_MODEL_843cb043ef63453faf09868b542c4ee4",
       "style": "IPY_MODEL_f3786f5d72f941309d43e228a12d7dca"
      }
     },
     "639994e439bb44c1b7c7d8d58bb6fd4b": {
      "model_module": "@jupyter-widgets/base",
      "model_module_version": "1.1.0",
      "model_name": "LayoutModel",
      "state": {}
     },
     "63a88488036a4919818397049c084cea": {
      "model_module": "@jupyter-widgets/base",
      "model_module_version": "1.1.0",
      "model_name": "LayoutModel",
      "state": {
       "width": "95%"
      }
     },
     "63e6c42b3aa444c38462522413fcfb33": {
      "model_module": "@jupyter-widgets/output",
      "model_module_version": "1.0.0",
      "model_name": "OutputModel",
      "state": {
       "layout": "IPY_MODEL_421e6e7d89a04fc5bd6db2f7b404bf49"
      }
     },
     "63f41f51368e40a4a433a7aacc5b34bd": {
      "model_module": "@jupyter-widgets/base",
      "model_module_version": "1.1.0",
      "model_name": "LayoutModel",
      "state": {
       "width": "10%"
      }
     },
     "640ae071ff274081a88d3661dc4ec7d6": {
      "model_module": "@jupyter-widgets/output",
      "model_module_version": "1.0.0",
      "model_name": "OutputModel",
      "state": {
       "layout": "IPY_MODEL_7a41a0db040b4f08aec02303cb532942"
      }
     },
     "640eba52066a4e40bb2eca2e9b4e4c91": {
      "model_module": "@jupyter-widgets/controls",
      "model_module_version": "1.4.0",
      "model_name": "ButtonModel",
      "state": {
       "description": "4",
       "layout": "IPY_MODEL_f1cd3b429d2a423a8a83dbbb8047c92a",
       "style": "IPY_MODEL_abdeec650d8145988ae01636e1a46b7e"
      }
     },
     "641c894c1f4c421dbc29c40a3e79c90d": {
      "model_module": "@jupyter-widgets/output",
      "model_module_version": "1.0.0",
      "model_name": "OutputModel",
      "state": {
       "layout": "IPY_MODEL_2cabebbce2274627986849c095e10e47"
      }
     },
     "64335c21e45948f59b40703e59424946": {
      "model_module": "@jupyter-widgets/base",
      "model_module_version": "1.1.0",
      "model_name": "LayoutModel",
      "state": {
       "width": "95%"
      }
     },
     "64343b0c65774f3cb19068dbac4a912e": {
      "model_module": "@jupyter-widgets/output",
      "model_module_version": "1.0.0",
      "model_name": "OutputModel",
      "state": {
       "layout": "IPY_MODEL_28c0a213908143679a5af6579264305a"
      }
     },
     "643f2eb36fd74e6db0735098c2f28955": {
      "model_module": "@jupyter-widgets/controls",
      "model_module_version": "1.4.0",
      "model_name": "VBoxModel",
      "state": {
       "children": [
        "IPY_MODEL_f18dfda7b3e841b4950ca61bc08f32cc",
        "IPY_MODEL_e3d890b85f234fdba7326738be9f2f85"
       ],
       "layout": "IPY_MODEL_af4cf1b9ea054f13a0f56c708fabbd6c"
      }
     },
     "6443ada069fc40839af497417984da40": {
      "model_module": "@jupyter-widgets/output",
      "model_module_version": "1.0.0",
      "model_name": "OutputModel",
      "state": {
       "layout": "IPY_MODEL_1c38afcdd5604529924633460c965a3e"
      }
     },
     "64629cb41a4f4d1f9c40edea7e7b0e3e": {
      "model_module": "@jupyter-widgets/base",
      "model_module_version": "1.1.0",
      "model_name": "LayoutModel",
      "state": {
       "width": "10%"
      }
     },
     "646a221365fd4876b033c5243e4e1e7d": {
      "model_module": "@jupyter-widgets/controls",
      "model_module_version": "1.4.0",
      "model_name": "VBoxModel",
      "state": {
       "children": [
        "IPY_MODEL_9e803b23ff7742878d0d8c430bd19ac5",
        "IPY_MODEL_dd48b40c98d44996b6f9b160f785f6aa"
       ],
       "layout": "IPY_MODEL_48f8dfdf31854574b5b1fc2cb3f9b1b6"
      }
     },
     "646aa193f8bf4981af3102850c5e8bea": {
      "model_module": "@jupyter-widgets/controls",
      "model_module_version": "1.4.0",
      "model_name": "HBoxModel",
      "state": {
       "children": [
        "IPY_MODEL_e1647288f1e9420a9ec4a4e68c40c979",
        "IPY_MODEL_e3ef622e85fb418c952b11773b2e0a3f"
       ],
       "layout": "IPY_MODEL_b932767886954513bdeed2eb6bbf5f43"
      }
     },
     "64787952da7a4e15a8ef11e9944e2223": {
      "model_module": "@jupyter-widgets/controls",
      "model_module_version": "1.4.0",
      "model_name": "ButtonStyleModel",
      "state": {}
     },
     "6495ce2b247f423296f1b1cf06efe24f": {
      "model_module": "@jupyter-widgets/controls",
      "model_module_version": "1.4.0",
      "model_name": "ButtonStyleModel",
      "state": {}
     },
     "64a1d7b800bf451987e687f6a6f6f1dd": {
      "model_module": "@jupyter-widgets/controls",
      "model_module_version": "1.4.0",
      "model_name": "VBoxModel",
      "state": {
       "children": [
        "IPY_MODEL_262f13d2f7374dd3895fa15024fd5a8b",
        "IPY_MODEL_5ca86b70dd8e4a32b17df232a198b083"
       ],
       "layout": "IPY_MODEL_cb09ed5e2b644e7796957a776e6944ca"
      }
     },
     "64a3eb511cb642a087f9d71b66c8d15e": {
      "model_module": "@jupyter-widgets/controls",
      "model_module_version": "1.4.0",
      "model_name": "ButtonModel",
      "state": {
       "description": "1",
       "layout": "IPY_MODEL_286246c6235e48c2bc94722b9b74c1ea",
       "style": "IPY_MODEL_13dc9c58b119423291920b6fec3958f3"
      }
     },
     "64ace5df30dc413d99c2d32c7fdd5840": {
      "model_module": "@jupyter-widgets/output",
      "model_module_version": "1.0.0",
      "model_name": "OutputModel",
      "state": {
       "layout": "IPY_MODEL_f1310350f2ff4a448b31a4743f8cdca3"
      }
     },
     "64addd0b3a1441db90e8168ae0193c2c": {
      "model_module": "@jupyter-widgets/base",
      "model_module_version": "1.1.0",
      "model_name": "LayoutModel",
      "state": {
       "width": "10%"
      }
     },
     "64af24a0bbcc4a468e137b43175dbb31": {
      "model_module": "@jupyter-widgets/controls",
      "model_module_version": "1.4.0",
      "model_name": "ButtonStyleModel",
      "state": {}
     },
     "64b3b245dd1f4aaabbb7475ccf3db8bc": {
      "model_module": "@jupyter-widgets/controls",
      "model_module_version": "1.4.0",
      "model_name": "VBoxModel",
      "state": {
       "children": [
        "IPY_MODEL_75edc9a69cac4c6b8b93447cf7550f6b",
        "IPY_MODEL_494848d26d1d4ce0b059cf27246d5bd1"
       ],
       "layout": "IPY_MODEL_ca98f79a21df4ad1b3686d94859fa8d7"
      }
     },
     "64f16b9dced3406383efbcc2fbc16e3b": {
      "model_module": "@jupyter-widgets/controls",
      "model_module_version": "1.4.0",
      "model_name": "HBoxModel",
      "state": {
       "children": [
        "IPY_MODEL_a2eecec8f09e4813938e87bfdf113261",
        "IPY_MODEL_67456485255b4fda84fb2f1f7e6e24d7",
        "IPY_MODEL_0e4272b333c44cce9236762f2c584f6b",
        "IPY_MODEL_136964046c2b43bd95f2fcaf349a6f7b",
        "IPY_MODEL_7337ae78b5474c45856de7f367d09870",
        "IPY_MODEL_1eebec8444bb4babac845a3abc7e362e",
        "IPY_MODEL_1f970a1b1f114c9db9ff17ceb330d1e1",
        "IPY_MODEL_5037cf403abc445a90539571ae6d85f7",
        "IPY_MODEL_0cb2f7ca42534c48b2d0c68684c8b4fa",
        "IPY_MODEL_643f2eb36fd74e6db0735098c2f28955"
       ],
       "layout": "IPY_MODEL_e8664b3b257848cfa799010e49665f5c"
      }
     },
     "64fb259e983b495ea2e2a2abde2eb5ee": {
      "model_module": "@jupyter-widgets/output",
      "model_module_version": "1.0.0",
      "model_name": "OutputModel",
      "state": {
       "layout": "IPY_MODEL_7f7cfa80385d422e916669cba737e8e9"
      }
     },
     "65058806f5124c2986fbad897d1e3be6": {
      "model_module": "@jupyter-widgets/controls",
      "model_module_version": "1.4.0",
      "model_name": "ButtonModel",
      "state": {
       "description": "8",
       "layout": "IPY_MODEL_16a34f4ab4c24e08bd86ec30a818afb4",
       "style": "IPY_MODEL_5f7a9e42bf8c47d4b52a9b274f1ca9a8"
      }
     },
     "65132faeaac948aa8c676084c9ea5876": {
      "model_module": "@jupyter-widgets/output",
      "model_module_version": "1.0.0",
      "model_name": "OutputModel",
      "state": {
       "layout": "IPY_MODEL_91a82113bfe04cbe964b6eb9047bcff4"
      }
     },
     "65184e81e9cd42c39e43d0cf741f5a1f": {
      "model_module": "@jupyter-widgets/output",
      "model_module_version": "1.0.0",
      "model_name": "OutputModel",
      "state": {
       "layout": "IPY_MODEL_d3c4a63cd84d4f72a1799a85ab016bce"
      }
     },
     "65228ff6cbcd433b9e68bd6cfe273c08": {
      "model_module": "@jupyter-widgets/base",
      "model_module_version": "1.1.0",
      "model_name": "LayoutModel",
      "state": {
       "width": "10%"
      }
     },
     "652d19147fc34b0882dda9dd45d475bc": {
      "model_module": "@jupyter-widgets/controls",
      "model_module_version": "1.4.0",
      "model_name": "ButtonModel",
      "state": {
       "description": "0",
       "layout": "IPY_MODEL_2b2719a536d94ea38e842c15657b50e8",
       "style": "IPY_MODEL_a08c13ad003643c28c86db062435747c"
      }
     },
     "65513b3894ca46af9b66419d45f21669": {
      "model_module": "@jupyter-widgets/base",
      "model_module_version": "1.1.0",
      "model_name": "LayoutModel",
      "state": {}
     },
     "6556511d7754446e9c198ba53d6fe06b": {
      "model_module": "@jupyter-widgets/controls",
      "model_module_version": "1.4.0",
      "model_name": "ButtonStyleModel",
      "state": {}
     },
     "655efb42c6e845e283b786edee2755d3": {
      "model_module": "@jupyter-widgets/base",
      "model_module_version": "1.1.0",
      "model_name": "LayoutModel",
      "state": {
       "width": "95%"
      }
     },
     "656f8d9fef37445f88d59295326f8042": {
      "model_module": "@jupyter-widgets/controls",
      "model_module_version": "1.4.0",
      "model_name": "ButtonStyleModel",
      "state": {}
     },
     "6582d86b41c345f2adc034f14a7495b7": {
      "model_module": "@jupyter-widgets/base",
      "model_module_version": "1.1.0",
      "model_name": "LayoutModel",
      "state": {}
     },
     "658bcd8807c44b9894807ec8d5bee619": {
      "model_module": "@jupyter-widgets/controls",
      "model_module_version": "1.4.0",
      "model_name": "HBoxModel",
      "state": {
       "children": [
        "IPY_MODEL_1bb3cb0d4d4c48e99cff9d15215b5742",
        "IPY_MODEL_6d060317698741e794bb96b75a49b74f",
        "IPY_MODEL_0f7b71413919479da5cd4cbba4897a76",
        "IPY_MODEL_2bf6e7f7f4574dae870149bbf839a657",
        "IPY_MODEL_8dd322a6fecc4b1784924f133e9e0edc",
        "IPY_MODEL_0288e71638e34f639da08102d6f44d45",
        "IPY_MODEL_06217c01da7948cc8c83732b971c02d8",
        "IPY_MODEL_f7df2655f2ee4afabe54a3a48b3df3ca",
        "IPY_MODEL_43986fd83469492e9a133e757bdad825",
        "IPY_MODEL_779bc1d6a0724552b597a29e5a6d2dcd"
       ],
       "layout": "IPY_MODEL_e1652ce18c7247778a11d4e15f8dbe84"
      }
     },
     "658d4fcedfcb4597b9677a2b2c660924": {
      "model_module": "@jupyter-widgets/base",
      "model_module_version": "1.1.0",
      "model_name": "LayoutModel",
      "state": {}
     },
     "6596486b92014c81830f6c170f434e13": {
      "model_module": "@jupyter-widgets/base",
      "model_module_version": "1.1.0",
      "model_name": "LayoutModel",
      "state": {
       "width": "95%"
      }
     },
     "65bdb7066e0d426b9156109b75b2c375": {
      "model_module": "@jupyter-widgets/controls",
      "model_module_version": "1.4.0",
      "model_name": "HBoxModel",
      "state": {
       "children": [
        "IPY_MODEL_68e766b338c0412583fbf71b5e9c1af2",
        "IPY_MODEL_2b638de12e134a7195f902fac17fe04b",
        "IPY_MODEL_db6e5f8d7a264fd3a0026b5c24981cbe",
        "IPY_MODEL_10c53f9af4444d07a700d547b549ef1f",
        "IPY_MODEL_525c1b31a32b43f185f6e91603677a5f",
        "IPY_MODEL_a4972d4b56fd4ee8b3eaaa28328f2379",
        "IPY_MODEL_b1627df91a9743a2a9cb2dcf5936c777",
        "IPY_MODEL_566ef68ef5684648ae01c7e595246dd5",
        "IPY_MODEL_de8d9c8a58b74e0e9a1d0e9a62ab1e66",
        "IPY_MODEL_d97b01976c8d414993082455e35857b6"
       ],
       "layout": "IPY_MODEL_acb65cab5c0f40e393b1c80520546e13"
      }
     },
     "65be5eb3b43041b38cde344703601f0a": {
      "model_module": "@jupyter-widgets/controls",
      "model_module_version": "1.4.0",
      "model_name": "HBoxModel",
      "state": {
       "children": [
        "IPY_MODEL_a63a938072984ea89f2b8071c11b341f",
        "IPY_MODEL_a0d30b5cc539499399a1da180bba0588"
       ],
       "layout": "IPY_MODEL_a7e43e1784f8436087fae95bccca9907"
      }
     },
     "65c7c8a83e00436dba3ebbd0e294a741": {
      "model_module": "@jupyter-widgets/output",
      "model_module_version": "1.0.0",
      "model_name": "OutputModel",
      "state": {
       "layout": "IPY_MODEL_1dc9217d4fd144f0b6f439261952e5b4"
      }
     },
     "65dade9d4d734bab852ba9402c37e8e6": {
      "model_module": "@jupyter-widgets/base",
      "model_module_version": "1.1.0",
      "model_name": "LayoutModel",
      "state": {
       "width": "95%"
      }
     },
     "6607b78c65b94ff39538075e80630925": {
      "model_module": "@jupyter-widgets/base",
      "model_module_version": "1.1.0",
      "model_name": "LayoutModel",
      "state": {
       "width": "95%"
      }
     },
     "6618079473114383980475e2c7d6f6c5": {
      "model_module": "@jupyter-widgets/base",
      "model_module_version": "1.1.0",
      "model_name": "LayoutModel",
      "state": {
       "width": "10%"
      }
     },
     "663be716e04d46f4aaba94d5c8ae97c6": {
      "model_module": "@jupyter-widgets/base",
      "model_module_version": "1.1.0",
      "model_name": "LayoutModel",
      "state": {
       "width": "10%"
      }
     },
     "66435543d1f746a4b0f3290367bf17f3": {
      "model_module": "@jupyter-widgets/base",
      "model_module_version": "1.1.0",
      "model_name": "LayoutModel",
      "state": {
       "width": "10%"
      }
     },
     "6644d3a330af45259301c6c92866fc2c": {
      "model_module": "@jupyter-widgets/controls",
      "model_module_version": "1.4.0",
      "model_name": "ButtonStyleModel",
      "state": {}
     },
     "665c2bbde2114b4a95b66dfbf3228c27": {
      "model_module": "@jupyter-widgets/base",
      "model_module_version": "1.1.0",
      "model_name": "LayoutModel",
      "state": {}
     },
     "666634112f9d4c3c978db47a8b05b375": {
      "model_module": "@jupyter-widgets/base",
      "model_module_version": "1.1.0",
      "model_name": "LayoutModel",
      "state": {
       "width": "95%"
      }
     },
     "666c68fc683440d1b30a219952fc46e4": {
      "model_module": "@jupyter-widgets/controls",
      "model_module_version": "1.4.0",
      "model_name": "ButtonStyleModel",
      "state": {}
     },
     "6674a5211dba46d3b0c9d46edcce8a0e": {
      "model_module": "@jupyter-widgets/controls",
      "model_module_version": "1.4.0",
      "model_name": "ButtonStyleModel",
      "state": {}
     },
     "66855de72a094443bb24ccf7754d9d80": {
      "model_module": "@jupyter-widgets/base",
      "model_module_version": "1.1.0",
      "model_name": "LayoutModel",
      "state": {}
     },
     "6696fdd919d945fd98e7c7fca25a8573": {
      "model_module": "@jupyter-widgets/output",
      "model_module_version": "1.0.0",
      "model_name": "OutputModel",
      "state": {
       "layout": "IPY_MODEL_c25bdb7671c64a00a767aa674ac62eaa"
      }
     },
     "669d0e4c78b54ea08bce926ff3282074": {
      "model_module": "@jupyter-widgets/controls",
      "model_module_version": "1.4.0",
      "model_name": "ButtonStyleModel",
      "state": {}
     },
     "669e7752d17d46e99dee3e41f8f7a840": {
      "model_module": "@jupyter-widgets/output",
      "model_module_version": "1.0.0",
      "model_name": "OutputModel",
      "state": {
       "layout": "IPY_MODEL_d008321da0504ce6b9b4d2dfcbacde82"
      }
     },
     "66b7a1bdb0344687a589003df64746d8": {
      "model_module": "@jupyter-widgets/base",
      "model_module_version": "1.1.0",
      "model_name": "LayoutModel",
      "state": {
       "width": "10%"
      }
     },
     "66d54ca87bce440d94289586bc0a569f": {
      "model_module": "@jupyter-widgets/controls",
      "model_module_version": "1.4.0",
      "model_name": "DescriptionStyleModel",
      "state": {
       "description_width": ""
      }
     },
     "66d82784f4354aa09461ac93f89e16fb": {
      "model_module": "@jupyter-widgets/base",
      "model_module_version": "1.1.0",
      "model_name": "LayoutModel",
      "state": {
       "width": "95%"
      }
     },
     "66da167192284652b5df42577bc998c4": {
      "model_module": "@jupyter-widgets/controls",
      "model_module_version": "1.4.0",
      "model_name": "HBoxModel",
      "state": {
       "children": [
        "IPY_MODEL_041562e8d85746a380e1bf8a1fe3896b",
        "IPY_MODEL_5e5e724349f54c49b25f13e0c4b5bfea"
       ],
       "layout": "IPY_MODEL_4b4bef398c234b8a81d84f431fb3fbba"
      }
     },
     "66e4ec0c16ed4263a464de9c86d16af4": {
      "model_module": "@jupyter-widgets/base",
      "model_module_version": "1.1.0",
      "model_name": "LayoutModel",
      "state": {}
     },
     "66f83f2a7dd54a2c95c3a5ba0b4109fc": {
      "model_module": "@jupyter-widgets/base",
      "model_module_version": "1.1.0",
      "model_name": "LayoutModel",
      "state": {
       "width": "10%"
      }
     },
     "6704bc8763f449ec9e60d353d0b86d97": {
      "model_module": "@jupyter-widgets/controls",
      "model_module_version": "1.4.0",
      "model_name": "VBoxModel",
      "state": {
       "children": [
        "IPY_MODEL_e100f41f4d2f410497a225019ced98e4",
        "IPY_MODEL_64fb259e983b495ea2e2a2abde2eb5ee"
       ],
       "layout": "IPY_MODEL_c9d9ce6c11d34f3495fe046b573743da"
      }
     },
     "67401de055884a3bbe1197b2d726598a": {
      "model_module": "@jupyter-widgets/base",
      "model_module_version": "1.1.0",
      "model_name": "LayoutModel",
      "state": {
       "width": "10%"
      }
     },
     "67456485255b4fda84fb2f1f7e6e24d7": {
      "model_module": "@jupyter-widgets/controls",
      "model_module_version": "1.4.0",
      "model_name": "VBoxModel",
      "state": {
       "children": [
        "IPY_MODEL_f825d8eac53049409c95ddd72ddc907b",
        "IPY_MODEL_4c8f121dd65b4b5e90e76c2907027e6b"
       ],
       "layout": "IPY_MODEL_67f20758c6e34d74bc31569c9b9acc62"
      }
     },
     "6747a59a26a94c3d88c4a8ac9c4967a0": {
      "model_module": "@jupyter-widgets/base",
      "model_module_version": "1.1.0",
      "model_name": "LayoutModel",
      "state": {
       "width": "10%"
      }
     },
     "6752ef7297a6457588b9104b2c7e4a27": {
      "model_module": "@jupyter-widgets/controls",
      "model_module_version": "1.4.0",
      "model_name": "ButtonModel",
      "state": {
       "description": "4",
       "layout": "IPY_MODEL_f67d558612724f568f63f12ef9cfe3b2",
       "style": "IPY_MODEL_12df7c23ac62437a8253cd96dad9816b"
      }
     },
     "676ddb720e1843b5a73d12c861fb37a0": {
      "model_module": "@jupyter-widgets/base",
      "model_module_version": "1.1.0",
      "model_name": "LayoutModel",
      "state": {}
     },
     "677a5bc4fb7c4e8d97dc84fa98e4660a": {
      "model_module": "@jupyter-widgets/controls",
      "model_module_version": "1.4.0",
      "model_name": "ButtonStyleModel",
      "state": {}
     },
     "6785606c1b62490db8f1d96378bdd06b": {
      "model_module": "@jupyter-widgets/base",
      "model_module_version": "1.1.0",
      "model_name": "LayoutModel",
      "state": {
       "width": "95%"
      }
     },
     "67a6168a23f14948a56db6b46f6e6079": {
      "model_module": "@jupyter-widgets/base",
      "model_module_version": "1.1.0",
      "model_name": "LayoutModel",
      "state": {}
     },
     "67f20758c6e34d74bc31569c9b9acc62": {
      "model_module": "@jupyter-widgets/base",
      "model_module_version": "1.1.0",
      "model_name": "LayoutModel",
      "state": {
       "width": "10%"
      }
     },
     "67f28231821840049debe7666bb74501": {
      "model_module": "@jupyter-widgets/controls",
      "model_module_version": "1.4.0",
      "model_name": "VBoxModel",
      "state": {
       "children": [
        "IPY_MODEL_83ca70b28a3d46faa473013289b3938c",
        "IPY_MODEL_6e6559df456848d6af1e70b84a6b68de"
       ],
       "layout": "IPY_MODEL_4ffa2ce8d0ce4556a75cb92e0975bad0"
      }
     },
     "682041de34664af9a49af93611926c25": {
      "model_module": "@jupyter-widgets/base",
      "model_module_version": "1.1.0",
      "model_name": "LayoutModel",
      "state": {
       "width": "10%"
      }
     },
     "682063dc17f1483ebf6828cd6a4b8113": {
      "model_module": "@jupyter-widgets/controls",
      "model_module_version": "1.4.0",
      "model_name": "HBoxModel",
      "state": {
       "children": [
        "IPY_MODEL_f0d904e417154e6db9676bfc5d726c42",
        "IPY_MODEL_57518a80e7624cc3a5629f1c10d2ae41"
       ],
       "layout": "IPY_MODEL_e937c8c0ec4e42df80150aca2b106e40"
      }
     },
     "684def3665de49a7a9af86a31b9bc431": {
      "model_module": "@jupyter-widgets/base",
      "model_module_version": "1.1.0",
      "model_name": "LayoutModel",
      "state": {}
     },
     "6854488624d44f77827844ecb7c59a08": {
      "model_module": "@jupyter-widgets/base",
      "model_module_version": "1.1.0",
      "model_name": "LayoutModel",
      "state": {
       "width": "10%"
      }
     },
     "687cb1199589421b99fbd5574bc7ef7d": {
      "model_module": "@jupyter-widgets/base",
      "model_module_version": "1.1.0",
      "model_name": "LayoutModel",
      "state": {
       "width": "10%"
      }
     },
     "68860afaab2d4a5ab1308756534c8270": {
      "model_module": "@jupyter-widgets/output",
      "model_module_version": "1.0.0",
      "model_name": "OutputModel",
      "state": {
       "layout": "IPY_MODEL_718bbb054d2248359f7730fc124e1aa5"
      }
     },
     "688c140fddc64c00b5e49066eab5f3fe": {
      "model_module": "@jupyter-widgets/controls",
      "model_module_version": "1.4.0",
      "model_name": "ButtonModel",
      "state": {
       "description": "6",
       "layout": "IPY_MODEL_968de3cda4c6450db7df560406523d77",
       "style": "IPY_MODEL_310fcade310245c0a1dd6e27f950c871"
      }
     },
     "689ab5918955481eb002a11eb819926e": {
      "model_module": "@jupyter-widgets/controls",
      "model_module_version": "1.4.0",
      "model_name": "DescriptionStyleModel",
      "state": {
       "description_width": ""
      }
     },
     "68c045a045154f6e9aab410a203126ec": {
      "model_module": "@jupyter-widgets/base",
      "model_module_version": "1.1.0",
      "model_name": "LayoutModel",
      "state": {}
     },
     "68e766b338c0412583fbf71b5e9c1af2": {
      "model_module": "@jupyter-widgets/controls",
      "model_module_version": "1.4.0",
      "model_name": "VBoxModel",
      "state": {
       "children": [
        "IPY_MODEL_652d19147fc34b0882dda9dd45d475bc",
        "IPY_MODEL_19b61179eca04ffdaa4c162a0be96f82"
       ],
       "layout": "IPY_MODEL_f1a31f81f4c4466ab7e8fada78821f8c"
      }
     },
     "690eb5e7d5f140eb9476325c31fadfa9": {
      "model_module": "@jupyter-widgets/controls",
      "model_module_version": "1.4.0",
      "model_name": "ButtonModel",
      "state": {
       "description": "0",
       "layout": "IPY_MODEL_2315ebb7853d4774afb04f1b93610697",
       "style": "IPY_MODEL_3cf230d1cc3642caa53339ce512d636c"
      }
     },
     "691ed45083ba47b3879bd492e178df80": {
      "model_module": "@jupyter-widgets/base",
      "model_module_version": "1.1.0",
      "model_name": "LayoutModel",
      "state": {
       "width": "10%"
      }
     },
     "6922c6c3b4eb424ba44845385bd5b0cd": {
      "model_module": "@jupyter-widgets/controls",
      "model_module_version": "1.4.0",
      "model_name": "ButtonStyleModel",
      "state": {}
     },
     "695333f5a9a04b05872a22816c129536": {
      "model_module": "@jupyter-widgets/controls",
      "model_module_version": "1.4.0",
      "model_name": "HBoxModel",
      "state": {
       "children": [
        "IPY_MODEL_5b36a757101940c19887e0a5b0c993a8",
        "IPY_MODEL_d2efd31deb6b4ac8b634ad367797afbb"
       ],
       "layout": "IPY_MODEL_c7b137cfb2514e9ba8d9a94b0069336a"
      }
     },
     "69555b3d1986417aa92f922a1f716fd1": {
      "model_module": "@jupyter-widgets/output",
      "model_module_version": "1.0.0",
      "model_name": "OutputModel",
      "state": {
       "layout": "IPY_MODEL_9f123532b22841ca9b49a2fe1f24dc60"
      }
     },
     "6974a5f9990f4c8ba9d297833e6d08dd": {
      "model_module": "@jupyter-widgets/controls",
      "model_module_version": "1.4.0",
      "model_name": "HBoxModel",
      "state": {
       "children": [
        "IPY_MODEL_f3ea46421e384353b8a984ae517e55df",
        "IPY_MODEL_05f12ef6b75f4070b078161711234baf"
       ],
       "layout": "IPY_MODEL_2ca9af49c2ed41bd9b57409c9088fb64"
      }
     },
     "698dd9c120ca42f29876be49f012ca9f": {
      "model_module": "@jupyter-widgets/controls",
      "model_module_version": "1.4.0",
      "model_name": "VBoxModel",
      "state": {
       "children": [
        "IPY_MODEL_35f7c519b9d34333b4f9b0088cb91426",
        "IPY_MODEL_802596835b984a9db9e8bb9ea95ea749"
       ],
       "layout": "IPY_MODEL_1719531ceddc49fd92878b79f57668e1"
      }
     },
     "69b775bb844b40e096e13545b7fca94e": {
      "model_module": "@jupyter-widgets/base",
      "model_module_version": "1.1.0",
      "model_name": "LayoutModel",
      "state": {}
     },
     "69baa1b184364d40b0d6ec6d9516711d": {
      "model_module": "@jupyter-widgets/output",
      "model_module_version": "1.0.0",
      "model_name": "OutputModel",
      "state": {
       "layout": "IPY_MODEL_fe7352b1b4fd4e85a7a0a240dbffc9fe"
      }
     },
     "69efa9b834704faba9eaa9e84ee6fe00": {
      "model_module": "@jupyter-widgets/base",
      "model_module_version": "1.1.0",
      "model_name": "LayoutModel",
      "state": {
       "width": "10%"
      }
     },
     "69f0ec9100c54f6e8fb03df112e3c325": {
      "model_module": "@jupyter-widgets/base",
      "model_module_version": "1.1.0",
      "model_name": "LayoutModel",
      "state": {
       "width": "10%"
      }
     },
     "6a0814f7648349e1918c4330e329fc44": {
      "model_module": "@jupyter-widgets/base",
      "model_module_version": "1.1.0",
      "model_name": "LayoutModel",
      "state": {}
     },
     "6a0ee504d413414d93b6ef163bea01d9": {
      "model_module": "@jupyter-widgets/output",
      "model_module_version": "1.0.0",
      "model_name": "OutputModel",
      "state": {
       "layout": "IPY_MODEL_9050f94389ba448ea3618113439698c8"
      }
     },
     "6a453ba2ce4e427291dfe1349877e179": {
      "model_module": "@jupyter-widgets/base",
      "model_module_version": "1.1.0",
      "model_name": "LayoutModel",
      "state": {
       "width": "10%"
      }
     },
     "6a4f39dab4934b4bb4694574264fd5d0": {
      "model_module": "@jupyter-widgets/controls",
      "model_module_version": "1.4.0",
      "model_name": "ButtonModel",
      "state": {
       "description": "1",
       "layout": "IPY_MODEL_3d118169e8a34d0ea49112b9c74b43d8",
       "style": "IPY_MODEL_1926d7c3ff134de69964ffe550a71aba"
      }
     },
     "6a5bb41d375949d0a006364882b2ee0e": {
      "model_module": "@jupyter-widgets/base",
      "model_module_version": "1.1.0",
      "model_name": "LayoutModel",
      "state": {}
     },
     "6a73bb647c4f4a18a9c0961c64c61442": {
      "model_module": "@jupyter-widgets/base",
      "model_module_version": "1.1.0",
      "model_name": "LayoutModel",
      "state": {}
     },
     "6a7beef4167f41e7a37d120e19e56420": {
      "model_module": "@jupyter-widgets/base",
      "model_module_version": "1.1.0",
      "model_name": "LayoutModel",
      "state": {
       "width": "10%"
      }
     },
     "6a8c60b560da49acb19a7b20e13e66df": {
      "model_module": "@jupyter-widgets/base",
      "model_module_version": "1.1.0",
      "model_name": "LayoutModel",
      "state": {
       "width": "10%"
      }
     },
     "6a943304cc5742e286823c127158deb8": {
      "model_module": "@jupyter-widgets/controls",
      "model_module_version": "1.4.0",
      "model_name": "ButtonModel",
      "state": {
       "description": "2",
       "layout": "IPY_MODEL_dbc6f5e29c9845249be46decb7f70d91",
       "style": "IPY_MODEL_e84ef51fca2f406b9681e19ad3f68e54"
      }
     },
     "6a96b521231748f9b62f9ee519492927": {
      "model_module": "@jupyter-widgets/base",
      "model_module_version": "1.1.0",
      "model_name": "LayoutModel",
      "state": {}
     },
     "6a9f7dc773cf4d19b6774dc3a56b7033": {
      "model_module": "@jupyter-widgets/base",
      "model_module_version": "1.1.0",
      "model_name": "LayoutModel",
      "state": {}
     },
     "6ad0cf957bb948afbccf3e06031c5611": {
      "model_module": "@jupyter-widgets/base",
      "model_module_version": "1.1.0",
      "model_name": "LayoutModel",
      "state": {
       "width": "10%"
      }
     },
     "6ae9112e522445c6b45a727b512c167e": {
      "model_module": "@jupyter-widgets/base",
      "model_module_version": "1.1.0",
      "model_name": "LayoutModel",
      "state": {
       "width": "95%"
      }
     },
     "6af5b865fab24a9ea35153871ce00dd3": {
      "model_module": "@jupyter-widgets/controls",
      "model_module_version": "1.4.0",
      "model_name": "VBoxModel",
      "state": {
       "children": [
        "IPY_MODEL_eecdda10ba34465297039206b8b46ff9",
        "IPY_MODEL_70e32a76de394c1bb198e0061e9aba35"
       ],
       "layout": "IPY_MODEL_f102f555ff5b4bf286e4580b0ef73c4c"
      }
     },
     "6afe04e75dfe422986c4ddaa188ac858": {
      "model_module": "@jupyter-widgets/base",
      "model_module_version": "1.1.0",
      "model_name": "LayoutModel",
      "state": {
       "width": "95%"
      }
     },
     "6b173f36316e418d929752b7c2f78d5d": {
      "model_module": "@jupyter-widgets/base",
      "model_module_version": "1.1.0",
      "model_name": "LayoutModel",
      "state": {
       "width": "10%"
      }
     },
     "6b184abe00944c74916b87e3e869a7cc": {
      "model_module": "@jupyter-widgets/base",
      "model_module_version": "1.1.0",
      "model_name": "LayoutModel",
      "state": {
       "width": "10%"
      }
     },
     "6b2956b7e67a403f8703102b12efbecc": {
      "model_module": "@jupyter-widgets/controls",
      "model_module_version": "1.4.0",
      "model_name": "VBoxModel",
      "state": {
       "children": [
        "IPY_MODEL_a853080f0ffb47c8b6b172b2dce2d612",
        "IPY_MODEL_56aa56e4009b444bba6748b29ee2d246"
       ],
       "layout": "IPY_MODEL_8ec1ce4cb47242868f52fc74ab8036fb"
      }
     },
     "6b5b35431edf4305ae9f5e6d7f69aba9": {
      "model_module": "@jupyter-widgets/base",
      "model_module_version": "1.1.0",
      "model_name": "LayoutModel",
      "state": {}
     },
     "6b698d4b520a4dd1842d92bc159c597d": {
      "model_module": "@jupyter-widgets/output",
      "model_module_version": "1.0.0",
      "model_name": "OutputModel",
      "state": {
       "layout": "IPY_MODEL_4a4a29cccbaa4076b97e34666bbaad6f"
      }
     },
     "6b6b580f54b14a6992f6dc70ec256dd7": {
      "model_module": "@jupyter-widgets/controls",
      "model_module_version": "1.4.0",
      "model_name": "ButtonModel",
      "state": {
       "description": "6",
       "layout": "IPY_MODEL_5fd17f27151341ed9fb4100226cbbad1",
       "style": "IPY_MODEL_24debf57499947dfb2bed8a19e7192c4"
      }
     },
     "6b92d1a21a544ea3978b24d4c6b8ed0a": {
      "model_module": "@jupyter-widgets/controls",
      "model_module_version": "1.4.0",
      "model_name": "ButtonStyleModel",
      "state": {}
     },
     "6ba49b70e7ca428c9bb4db7f6964eef9": {
      "model_module": "@jupyter-widgets/controls",
      "model_module_version": "1.4.0",
      "model_name": "ButtonModel",
      "state": {
       "description": "0",
       "layout": "IPY_MODEL_abe67959359d409ab6c684996b3252d6",
       "style": "IPY_MODEL_93e1da6629b749278b6d8487491584da"
      }
     },
     "6bc2796611f94ac798da4f2302a0c8bd": {
      "model_module": "@jupyter-widgets/base",
      "model_module_version": "1.1.0",
      "model_name": "LayoutModel",
      "state": {
       "width": "10%"
      }
     },
     "6bc329751422412f8881112ec02b473f": {
      "model_module": "@jupyter-widgets/controls",
      "model_module_version": "1.4.0",
      "model_name": "ButtonModel",
      "state": {
       "description": "1",
       "layout": "IPY_MODEL_43423b4321784d29b6f0dfb8f9cb16b0",
       "style": "IPY_MODEL_8090f2d73a0d4a6e84598b21e507afcf"
      }
     },
     "6bf2f137e190459d917717a9f9088fbd": {
      "model_module": "@jupyter-widgets/controls",
      "model_module_version": "1.4.0",
      "model_name": "VBoxModel",
      "state": {
       "children": [
        "IPY_MODEL_7fef79979bf74e05812f29b130037c7b",
        "IPY_MODEL_18189078cc51422a8842d776647328b3"
       ],
       "layout": "IPY_MODEL_0923557c48cd4d8d8caffe2a61a585c5"
      }
     },
     "6bf42c0719f64010bf243eff03109b05": {
      "model_module": "@jupyter-widgets/base",
      "model_module_version": "1.1.0",
      "model_name": "LayoutModel",
      "state": {
       "width": "95%"
      }
     },
     "6c3028cef10d44ad9a759de67a5b3920": {
      "model_module": "@jupyter-widgets/base",
      "model_module_version": "1.1.0",
      "model_name": "LayoutModel",
      "state": {
       "width": "10%"
      }
     },
     "6c3368864325497da728706ee106013c": {
      "model_module": "@jupyter-widgets/base",
      "model_module_version": "1.1.0",
      "model_name": "LayoutModel",
      "state": {
       "width": "10%"
      }
     },
     "6c470c455da14ec481b42db940f53b51": {
      "model_module": "@jupyter-widgets/base",
      "model_module_version": "1.1.0",
      "model_name": "LayoutModel",
      "state": {
       "width": "10%"
      }
     },
     "6c9c17ed68d24c3988620237885fce22": {
      "model_module": "@jupyter-widgets/controls",
      "model_module_version": "1.4.0",
      "model_name": "ButtonStyleModel",
      "state": {}
     },
     "6ca84ca3ef204b9eb6b888f3507c3ba9": {
      "model_module": "@jupyter-widgets/output",
      "model_module_version": "1.0.0",
      "model_name": "OutputModel",
      "state": {
       "layout": "IPY_MODEL_ff4b3acafa6c494ab433159419102898"
      }
     },
     "6caff6e5f85c44bea86bb20668358001": {
      "model_module": "@jupyter-widgets/controls",
      "model_module_version": "1.4.0",
      "model_name": "VBoxModel",
      "state": {
       "children": [
        "IPY_MODEL_e0430148a06747339f203d5c7629cfbc",
        "IPY_MODEL_10ac337098fd48098b7abf9bead6c678"
       ],
       "layout": "IPY_MODEL_8f3092731e9649a790b9581895779c85"
      }
     },
     "6ce558d0aed44b64a0ab7862a69fcbc0": {
      "model_module": "@jupyter-widgets/base",
      "model_module_version": "1.1.0",
      "model_name": "LayoutModel",
      "state": {
       "width": "95%"
      }
     },
     "6d060317698741e794bb96b75a49b74f": {
      "model_module": "@jupyter-widgets/controls",
      "model_module_version": "1.4.0",
      "model_name": "VBoxModel",
      "state": {
       "children": [
        "IPY_MODEL_fb4293308f88490fb59c42c19208ed18",
        "IPY_MODEL_542ac7535bec41d3863638d36537c3f8"
       ],
       "layout": "IPY_MODEL_6157ef7ee4c947b6945b1cbf5adc6187"
      }
     },
     "6d236fb366e94f4e8019d2f1da4fe5c9": {
      "model_module": "@jupyter-widgets/base",
      "model_module_version": "1.1.0",
      "model_name": "LayoutModel",
      "state": {}
     },
     "6d3211720eb342a4921818bc0aacb182": {
      "model_module": "@jupyter-widgets/controls",
      "model_module_version": "1.4.0",
      "model_name": "ButtonModel",
      "state": {
       "description": "9",
       "layout": "IPY_MODEL_9b96f3f63eb7415eaa57021ec74de67d",
       "style": "IPY_MODEL_7887f1dc88b04dab9a4261c95d2142da"
      }
     },
     "6d436cef684849289f461a66e5d23991": {
      "model_module": "@jupyter-widgets/base",
      "model_module_version": "1.1.0",
      "model_name": "LayoutModel",
      "state": {}
     },
     "6d72bebbbf1341549b49ffae5af43f4a": {
      "model_module": "@jupyter-widgets/base",
      "model_module_version": "1.1.0",
      "model_name": "LayoutModel",
      "state": {
       "width": "95%"
      }
     },
     "6d8f06bd0d734b0ab5392c32ac58cc89": {
      "model_module": "@jupyter-widgets/base",
      "model_module_version": "1.1.0",
      "model_name": "LayoutModel",
      "state": {
       "width": "95%"
      }
     },
     "6dd1d246c8334ce3885d15c9aa854c19": {
      "model_module": "@jupyter-widgets/controls",
      "model_module_version": "1.4.0",
      "model_name": "ButtonStyleModel",
      "state": {}
     },
     "6df768e23bae43fa91ef7fd58a9f5edb": {
      "model_module": "@jupyter-widgets/base",
      "model_module_version": "1.1.0",
      "model_name": "LayoutModel",
      "state": {}
     },
     "6df77c4642f34802b604f39c5791c3c3": {
      "model_module": "@jupyter-widgets/controls",
      "model_module_version": "1.4.0",
      "model_name": "ButtonStyleModel",
      "state": {}
     },
     "6dfaf73f4b9743f5a7001c8d40fbb406": {
      "model_module": "@jupyter-widgets/output",
      "model_module_version": "1.0.0",
      "model_name": "OutputModel",
      "state": {
       "layout": "IPY_MODEL_9f79dab7d74742de9757458b6adf29b4"
      }
     },
     "6e1e1c27227742b391cae797e50d5fd5": {
      "model_module": "@jupyter-widgets/base",
      "model_module_version": "1.1.0",
      "model_name": "LayoutModel",
      "state": {
       "width": "10%"
      }
     },
     "6e1ee529b55c4d02850b69a1363f6397": {
      "model_module": "@jupyter-widgets/controls",
      "model_module_version": "1.4.0",
      "model_name": "DescriptionStyleModel",
      "state": {
       "description_width": ""
      }
     },
     "6e3223326adc44a1bd6be241b79d51f4": {
      "model_module": "@jupyter-widgets/controls",
      "model_module_version": "1.4.0",
      "model_name": "VBoxModel",
      "state": {
       "children": [
        "IPY_MODEL_d04ba2a6b44741edba8e58640764cd2b",
        "IPY_MODEL_52f1d35d996e4424969a133b2344151b"
       ],
       "layout": "IPY_MODEL_b86183b3b76b4c8c96da9bb37010d0d5"
      }
     },
     "6e47b62197984cb394098a0f39598536": {
      "model_module": "@jupyter-widgets/controls",
      "model_module_version": "1.4.0",
      "model_name": "ButtonStyleModel",
      "state": {}
     },
     "6e4ff7d9fec846bea2dd11a13af98ade": {
      "model_module": "@jupyter-widgets/base",
      "model_module_version": "1.1.0",
      "model_name": "LayoutModel",
      "state": {}
     },
     "6e6559df456848d6af1e70b84a6b68de": {
      "model_module": "@jupyter-widgets/output",
      "model_module_version": "1.0.0",
      "model_name": "OutputModel",
      "state": {
       "layout": "IPY_MODEL_6015a0b078504af58d764400d230de14"
      }
     },
     "6e77d6e384034b669aab5b8456b09b97": {
      "model_module": "@jupyter-widgets/controls",
      "model_module_version": "1.4.0",
      "model_name": "ButtonStyleModel",
      "state": {}
     },
     "6e99354678814ea7a9bb66fccb36d52f": {
      "model_module": "@jupyter-widgets/output",
      "model_module_version": "1.0.0",
      "model_name": "OutputModel",
      "state": {
       "layout": "IPY_MODEL_639994e439bb44c1b7c7d8d58bb6fd4b"
      }
     },
     "6eaf5629ae274584b1de2535f134e398": {
      "model_module": "@jupyter-widgets/controls",
      "model_module_version": "1.4.0",
      "model_name": "ButtonModel",
      "state": {
       "description": "2",
       "layout": "IPY_MODEL_3a11f5f8afd64bebafcfd1087c7d610a",
       "style": "IPY_MODEL_843aff4148e44fd7b0e352f6e7659f9a"
      }
     },
     "6eb453733a8e4035ae15570a92af2d1f": {
      "model_module": "@jupyter-widgets/base",
      "model_module_version": "1.1.0",
      "model_name": "LayoutModel",
      "state": {
       "width": "10%"
      }
     },
     "6ed6a019e46c49518a09905e3081d261": {
      "model_module": "@jupyter-widgets/output",
      "model_module_version": "1.0.0",
      "model_name": "OutputModel",
      "state": {
       "layout": "IPY_MODEL_35bc69068f6348999287e6da44f22999"
      }
     },
     "6edf7e741c12451eae21bfcfff5a28b9": {
      "model_module": "@jupyter-widgets/base",
      "model_module_version": "1.1.0",
      "model_name": "LayoutModel",
      "state": {}
     },
     "6f02f955a6e4476b8afd77a60287cd93": {
      "model_module": "@jupyter-widgets/controls",
      "model_module_version": "1.4.0",
      "model_name": "VBoxModel",
      "state": {
       "children": [
        "IPY_MODEL_bf0e268c61f14dc2bf21475610d8fc49",
        "IPY_MODEL_975ed38cc52944859397980a671e0434"
       ],
       "layout": "IPY_MODEL_34297dbc35ef412a8508488fc21faa9d"
      }
     },
     "6f2bd106903c464a9e1ed0060bda352f": {
      "model_module": "@jupyter-widgets/base",
      "model_module_version": "1.1.0",
      "model_name": "LayoutModel",
      "state": {
       "width": "95%"
      }
     },
     "6f52f85df12c492192ea4bfb04f67b93": {
      "model_module": "@jupyter-widgets/controls",
      "model_module_version": "1.4.0",
      "model_name": "ButtonModel",
      "state": {
       "description": "2",
       "layout": "IPY_MODEL_43e1549173334e918863619255d722f3",
       "style": "IPY_MODEL_05036289d14d48beaf5197f1d508fed3"
      }
     },
     "6f53b3a703f149e6a0a45bed9d52542d": {
      "model_module": "@jupyter-widgets/base",
      "model_module_version": "1.1.0",
      "model_name": "LayoutModel",
      "state": {
       "width": "95%"
      }
     },
     "6f580d7827c7488a86e2146d9f2eac2c": {
      "model_module": "@jupyter-widgets/controls",
      "model_module_version": "1.4.0",
      "model_name": "ButtonModel",
      "state": {
       "description": "4",
       "layout": "IPY_MODEL_2696324852bf4f09b99f019cd99fe0fe",
       "style": "IPY_MODEL_e1545665bbb84ae0a863bad2a3fc60d0"
      }
     },
     "6f6a12004d184c8ea42e1eff631beac4": {
      "model_module": "@jupyter-widgets/controls",
      "model_module_version": "1.4.0",
      "model_name": "VBoxModel",
      "state": {
       "children": [
        "IPY_MODEL_b50823c6a08044e1bfb06f762efa6396",
        "IPY_MODEL_30c0d3d163a2421bbf2e937518f1e25d"
       ],
       "layout": "IPY_MODEL_6a8c60b560da49acb19a7b20e13e66df"
      }
     },
     "6f6e8bffa45f47c899eecbae4c383d73": {
      "model_module": "@jupyter-widgets/base",
      "model_module_version": "1.1.0",
      "model_name": "LayoutModel",
      "state": {
       "width": "95%"
      }
     },
     "6f739570b8b8426c9a749d223f44c279": {
      "model_module": "@jupyter-widgets/controls",
      "model_module_version": "1.4.0",
      "model_name": "ButtonModel",
      "state": {
       "description": "6",
       "layout": "IPY_MODEL_0b72ac452ab043a297cc79d61465be66",
       "style": "IPY_MODEL_072430d2935947ef8bcd8dd65c5d5b62"
      }
     },
     "6f7acde1839d4d3384184d94907a9075": {
      "model_module": "@jupyter-widgets/controls",
      "model_module_version": "1.4.0",
      "model_name": "VBoxModel",
      "state": {
       "children": [
        "IPY_MODEL_5affb05fe0d8434eae4c9cd2f43db33c",
        "IPY_MODEL_3340f9bf7dca4b4282042fc2a53c9249"
       ],
       "layout": "IPY_MODEL_48089f31fd84436eac05eab698192d12"
      }
     },
     "6f8626bf35b64ba98199b0ee69073e79": {
      "model_module": "@jupyter-widgets/controls",
      "model_module_version": "1.4.0",
      "model_name": "ButtonModel",
      "state": {
       "description": "8",
       "layout": "IPY_MODEL_deccee8abf9346c9b2df9d3b0ba9e40a",
       "style": "IPY_MODEL_cd9f297f6b204af6a55a4fbc76029bed"
      }
     },
     "6f888e37afcb4c86a2fd96980dd44e78": {
      "model_module": "@jupyter-widgets/controls",
      "model_module_version": "1.4.0",
      "model_name": "VBoxModel",
      "state": {
       "children": [
        "IPY_MODEL_8643f7a6898f401da27837332227637d",
        "IPY_MODEL_2568f656268b49e3acb8e28c82bb048c"
       ],
       "layout": "IPY_MODEL_43254d392722447bb4b58ca473cc7717"
      }
     },
     "6f9e4b4919e043a1be13a8624e8afdf6": {
      "model_module": "@jupyter-widgets/base",
      "model_module_version": "1.1.0",
      "model_name": "LayoutModel",
      "state": {
       "width": "10%"
      }
     },
     "6fa5aa6e9bef44c480e76be6607c9e1c": {
      "model_module": "@jupyter-widgets/base",
      "model_module_version": "1.1.0",
      "model_name": "LayoutModel",
      "state": {
       "width": "10%"
      }
     },
     "6fa67c2c12464c738be181bf9e865e38": {
      "model_module": "@jupyter-widgets/output",
      "model_module_version": "1.0.0",
      "model_name": "OutputModel",
      "state": {
       "layout": "IPY_MODEL_9c39057fd1ac4b61b1cba78fb514e482"
      }
     },
     "6fb9ef8ef70c493da789bf09d66cfe62": {
      "model_module": "@jupyter-widgets/controls",
      "model_module_version": "1.4.0",
      "model_name": "ButtonModel",
      "state": {
       "description": "8",
       "layout": "IPY_MODEL_e0d2f34a923a457daa5c15a490c0f568",
       "style": "IPY_MODEL_c0968747f3d44b73b8cb66ea68a7217d"
      }
     },
     "6fdc799e12164f67ace96c16418e0176": {
      "model_module": "@jupyter-widgets/base",
      "model_module_version": "1.1.0",
      "model_name": "LayoutModel",
      "state": {}
     },
     "6fe21d0fcd744cfa866fc788292137e3": {
      "model_module": "@jupyter-widgets/output",
      "model_module_version": "1.0.0",
      "model_name": "OutputModel",
      "state": {
       "layout": "IPY_MODEL_c13d750341e343298ffeca137bbe0d75"
      }
     },
     "700975c75cbc4e65afbfd26bdf2fda22": {
      "model_module": "@jupyter-widgets/base",
      "model_module_version": "1.1.0",
      "model_name": "LayoutModel",
      "state": {
       "width": "10%"
      }
     },
     "700e393e9ac74aafb4bba43654ef9d9b": {
      "model_module": "@jupyter-widgets/controls",
      "model_module_version": "1.4.0",
      "model_name": "ButtonStyleModel",
      "state": {}
     },
     "701a0c0ad7bb487fa75a5ec201c5e7ee": {
      "model_module": "@jupyter-widgets/controls",
      "model_module_version": "1.4.0",
      "model_name": "HBoxModel",
      "state": {
       "children": [
        "IPY_MODEL_9a45ea79cd4845c19afaf6fe613ca6a4",
        "IPY_MODEL_30e4aae371504371a4afb0807b54b182"
       ],
       "layout": "IPY_MODEL_5d424f535ef64be4b640005fd3966a58"
      }
     },
     "70264aee0f5a44a0bb1d64dbe0cd7b1a": {
      "model_module": "@jupyter-widgets/controls",
      "model_module_version": "1.4.0",
      "model_name": "ButtonModel",
      "state": {
       "description": "1",
       "layout": "IPY_MODEL_379555855c9048cbb4bfb951833d1967",
       "style": "IPY_MODEL_677a5bc4fb7c4e8d97dc84fa98e4660a"
      }
     },
     "7028f092784c47e099729b10f24cfe02": {
      "model_module": "@jupyter-widgets/controls",
      "model_module_version": "1.4.0",
      "model_name": "ButtonModel",
      "state": {
       "description": "1",
       "layout": "IPY_MODEL_aa137bfcd8cc426d9defa4d978d8525e",
       "style": "IPY_MODEL_18fa5b557ec948e6bded30823e5a492f"
      }
     },
     "7033aa7a679041a486bda0a6253556e8": {
      "model_module": "@jupyter-widgets/controls",
      "model_module_version": "1.4.0",
      "model_name": "ButtonStyleModel",
      "state": {}
     },
     "70370bb38e664eec985df377951ab2f5": {
      "model_module": "@jupyter-widgets/controls",
      "model_module_version": "1.4.0",
      "model_name": "ButtonStyleModel",
      "state": {}
     },
     "703ffd736fe34d68988523e7f4f14146": {
      "model_module": "@jupyter-widgets/controls",
      "model_module_version": "1.4.0",
      "model_name": "ButtonModel",
      "state": {
       "description": "9",
       "layout": "IPY_MODEL_a67b5cb77e4f48f4a2753cdf8c04ed8b",
       "style": "IPY_MODEL_025055273e404d9fbb481cc24f5e0e7b"
      }
     },
     "70540698e8654fe5949a771b644f825a": {
      "model_module": "@jupyter-widgets/base",
      "model_module_version": "1.1.0",
      "model_name": "LayoutModel",
      "state": {}
     },
     "70624b2f9b1549ea8ed768c401209477": {
      "model_module": "@jupyter-widgets/base",
      "model_module_version": "1.1.0",
      "model_name": "LayoutModel",
      "state": {
       "width": "10%"
      }
     },
     "7065d348f5694c6ab8434cd916d1d8ad": {
      "model_module": "@jupyter-widgets/base",
      "model_module_version": "1.1.0",
      "model_name": "LayoutModel",
      "state": {
       "width": "95%"
      }
     },
     "706979a63dd74234902b5fbdb339df52": {
      "model_module": "@jupyter-widgets/base",
      "model_module_version": "1.1.0",
      "model_name": "LayoutModel",
      "state": {}
     },
     "706c27c7e35646da9961627792de2165": {
      "model_module": "@jupyter-widgets/controls",
      "model_module_version": "1.4.0",
      "model_name": "HBoxModel",
      "state": {
       "children": [
        "IPY_MODEL_bdf1ba0256b94f959fcb95429c57498f",
        "IPY_MODEL_0fdb67644f354a019378c78721998286",
        "IPY_MODEL_241296bd0d694b4bb3d1989e63c90917",
        "IPY_MODEL_45686817f97f44ff84e01af82047c7fd",
        "IPY_MODEL_71a60841ea62443f8bd48bf16026ae48",
        "IPY_MODEL_e5ff518da020448eaf17594cc36e1ff8",
        "IPY_MODEL_734d9e7f434e4ee2a5ec5065947c6a98",
        "IPY_MODEL_edc730d574194682a507d18fa2408881",
        "IPY_MODEL_6e3223326adc44a1bd6be241b79d51f4",
        "IPY_MODEL_e85f7df319e24f76baf682be0900b23d"
       ],
       "layout": "IPY_MODEL_ec6d2d41625248998233e4e6b8846a6d"
      }
     },
     "7082b52034ab43909b8692049760f98d": {
      "model_module": "@jupyter-widgets/base",
      "model_module_version": "1.1.0",
      "model_name": "LayoutModel",
      "state": {}
     },
     "7082d86314e04c64afa7f64ee0fce325": {
      "model_module": "@jupyter-widgets/base",
      "model_module_version": "1.1.0",
      "model_name": "LayoutModel",
      "state": {
       "width": "10%"
      }
     },
     "709c76fd0ed847b7ab602f09c430d5f0": {
      "model_module": "@jupyter-widgets/controls",
      "model_module_version": "1.4.0",
      "model_name": "ButtonModel",
      "state": {
       "description": "1",
       "layout": "IPY_MODEL_268e07e0488840879e760f0a85be6982",
       "style": "IPY_MODEL_06ad5c5b595848118a5038f022e1af08"
      }
     },
     "70b0572934d84aa88cdd86dba930c394": {
      "model_module": "@jupyter-widgets/base",
      "model_module_version": "1.1.0",
      "model_name": "LayoutModel",
      "state": {}
     },
     "70b28be889184f12b65a3ab323f3dfd3": {
      "model_module": "@jupyter-widgets/base",
      "model_module_version": "1.1.0",
      "model_name": "LayoutModel",
      "state": {
       "width": "95%"
      }
     },
     "70ba13d49bfc4f799ec6b4e6cfcbb295": {
      "model_module": "@jupyter-widgets/base",
      "model_module_version": "1.1.0",
      "model_name": "LayoutModel",
      "state": {
       "width": "10%"
      }
     },
     "70c5076b19eb433da77a5d91745c5977": {
      "model_module": "@jupyter-widgets/controls",
      "model_module_version": "1.4.0",
      "model_name": "DescriptionStyleModel",
      "state": {
       "description_width": ""
      }
     },
     "70cd52a2c6a74814b39a8d006124a092": {
      "model_module": "@jupyter-widgets/controls",
      "model_module_version": "1.4.0",
      "model_name": "ButtonStyleModel",
      "state": {}
     },
     "70d7a62b31154721a064f8edf386fc8a": {
      "model_module": "@jupyter-widgets/controls",
      "model_module_version": "1.4.0",
      "model_name": "VBoxModel",
      "state": {
       "children": [
        "IPY_MODEL_3c69c37cc921472f9da2047692d70b65",
        "IPY_MODEL_7f3922a9a23741909d0a949a13983119"
       ],
       "layout": "IPY_MODEL_0975a9cb5f47401598e8636699d6c9aa"
      }
     },
     "70e32a76de394c1bb198e0061e9aba35": {
      "model_module": "@jupyter-widgets/output",
      "model_module_version": "1.0.0",
      "model_name": "OutputModel",
      "state": {
       "layout": "IPY_MODEL_b3cf69c9281a41dbb1852e1fe6c38397"
      }
     },
     "70e6b728dc0c411eb03113c0c7389676": {
      "model_module": "@jupyter-widgets/controls",
      "model_module_version": "1.4.0",
      "model_name": "ButtonModel",
      "state": {
       "description": "0",
       "layout": "IPY_MODEL_089d038fd8f44776b4c97042f92a3db4",
       "style": "IPY_MODEL_8bc3538a290647068cf7d700aa79ba39"
      }
     },
     "70ec5c87939a4fa08ce47d18e72123c7": {
      "model_module": "@jupyter-widgets/base",
      "model_module_version": "1.1.0",
      "model_name": "LayoutModel",
      "state": {
       "width": "10%"
      }
     },
     "70edee5c35334f7694c6dc2b0892acb9": {
      "model_module": "@jupyter-widgets/base",
      "model_module_version": "1.1.0",
      "model_name": "LayoutModel",
      "state": {}
     },
     "71203ce5e00244778c80dfccb6328b08": {
      "model_module": "@jupyter-widgets/base",
      "model_module_version": "1.1.0",
      "model_name": "LayoutModel",
      "state": {
       "width": "95%"
      }
     },
     "713174026fed4ca1a464f8c143fb9861": {
      "model_module": "@jupyter-widgets/base",
      "model_module_version": "1.1.0",
      "model_name": "LayoutModel",
      "state": {
       "width": "95%"
      }
     },
     "714890de10ac48e995d8e15c74c09842": {
      "model_module": "@jupyter-widgets/base",
      "model_module_version": "1.1.0",
      "model_name": "LayoutModel",
      "state": {
       "width": "95%"
      }
     },
     "714ef665a6e44253a0d3a444633285e0": {
      "model_module": "@jupyter-widgets/controls",
      "model_module_version": "1.4.0",
      "model_name": "ButtonStyleModel",
      "state": {}
     },
     "715200f3b6e9475b816559e876e276bb": {
      "model_module": "@jupyter-widgets/base",
      "model_module_version": "1.1.0",
      "model_name": "LayoutModel",
      "state": {
       "width": "10%"
      }
     },
     "71711ceffa474e63a38fd4136232cbb2": {
      "model_module": "@jupyter-widgets/controls",
      "model_module_version": "1.4.0",
      "model_name": "ButtonStyleModel",
      "state": {}
     },
     "7188b6dc0649475894cbd471983bc4d6": {
      "model_module": "@jupyter-widgets/controls",
      "model_module_version": "1.4.0",
      "model_name": "VBoxModel",
      "state": {
       "children": [
        "IPY_MODEL_cd810b0e73e44bcfaaa885e4e8b9dc45",
        "IPY_MODEL_5705fc5ca93f4aeba98d74ab0dcc54e6"
       ],
       "layout": "IPY_MODEL_1d410e0eb05b48e0ae7898efdc22b766"
      }
     },
     "718bbb054d2248359f7730fc124e1aa5": {
      "model_module": "@jupyter-widgets/base",
      "model_module_version": "1.1.0",
      "model_name": "LayoutModel",
      "state": {}
     },
     "7194f54c922f435290b4cedc9f651b33": {
      "model_module": "@jupyter-widgets/controls",
      "model_module_version": "1.4.0",
      "model_name": "ButtonModel",
      "state": {
       "description": "0",
       "layout": "IPY_MODEL_0728e9c745cc4574ae40403b8aa018d4",
       "style": "IPY_MODEL_94e4b3b9a55649f78243a520a8cb5c00"
      }
     },
     "71a60841ea62443f8bd48bf16026ae48": {
      "model_module": "@jupyter-widgets/controls",
      "model_module_version": "1.4.0",
      "model_name": "VBoxModel",
      "state": {
       "children": [
        "IPY_MODEL_1910246109494b08a52e9183eac831a4",
        "IPY_MODEL_c67cc1b092634200bf8b1a722b146198"
       ],
       "layout": "IPY_MODEL_b03ac2d0ec39420695a8d03e4121ec07"
      }
     },
     "71a6760a26254909806638c5c14f9e91": {
      "model_module": "@jupyter-widgets/base",
      "model_module_version": "1.1.0",
      "model_name": "LayoutModel",
      "state": {
       "width": "95%"
      }
     },
     "71c28ac25be747d9872a7653c8614ea2": {
      "model_module": "@jupyter-widgets/controls",
      "model_module_version": "1.4.0",
      "model_name": "VBoxModel",
      "state": {
       "children": [
        "IPY_MODEL_595cd26176744b9a9cf2b746ab1719fa",
        "IPY_MODEL_4f287b7a1d7e4d5db8e90c606194b641"
       ],
       "layout": "IPY_MODEL_9437034885b843beb678abfd66ea0c61"
      }
     },
     "71d51ee5c38f4a00b3ffc6dec13a1651": {
      "model_module": "@jupyter-widgets/base",
      "model_module_version": "1.1.0",
      "model_name": "LayoutModel",
      "state": {
       "width": "10%"
      }
     },
     "71e0c9448ed149aaba58f20ee100ba4b": {
      "model_module": "@jupyter-widgets/base",
      "model_module_version": "1.1.0",
      "model_name": "LayoutModel",
      "state": {}
     },
     "71e1f09e3c9c4b2ea07ad9abfb0c082d": {
      "model_module": "@jupyter-widgets/controls",
      "model_module_version": "1.4.0",
      "model_name": "TextModel",
      "state": {
       "description": "Other:",
       "layout": "IPY_MODEL_d275a0d31d214f8688f3b30b6ce864e2",
       "placeholder": "Hit enter to submit.",
       "style": "IPY_MODEL_dad9166ed5be4cd4be4b52d706f6dcd6"
      }
     },
     "71f2f87f8d4e4b9e9887cc2e5f4c53b1": {
      "model_module": "@jupyter-widgets/controls",
      "model_module_version": "1.4.0",
      "model_name": "ButtonModel",
      "state": {
       "description": "1",
       "layout": "IPY_MODEL_729ea3813fc243a59d27acb4327fe9a1",
       "style": "IPY_MODEL_8911ab7c6ccf4540ba352e0aa1ee3ace"
      }
     },
     "721b3d54a6ad41838b67e58bbd755aca": {
      "model_module": "@jupyter-widgets/controls",
      "model_module_version": "1.4.0",
      "model_name": "ButtonStyleModel",
      "state": {}
     },
     "72206560ae1b4819a890d20935a7229d": {
      "model_module": "@jupyter-widgets/output",
      "model_module_version": "1.0.0",
      "model_name": "OutputModel",
      "state": {
       "layout": "IPY_MODEL_be78c5034ddd47e8bc5b61a49c7d2f68"
      }
     },
     "722ddc90ccb74ba4afdefef1a8f6bdc1": {
      "model_module": "@jupyter-widgets/controls",
      "model_module_version": "1.4.0",
      "model_name": "ButtonStyleModel",
      "state": {}
     },
     "72358443af654947927693a829ab56c6": {
      "model_module": "@jupyter-widgets/controls",
      "model_module_version": "1.4.0",
      "model_name": "ButtonModel",
      "state": {
       "description": "2",
       "layout": "IPY_MODEL_fbc020c372234cdfb288955d74e762fb",
       "style": "IPY_MODEL_f2a70e3dbf534a38a4ee22e89b1ba4d8"
      }
     },
     "723f44707f884b398b8e505627e38eaa": {
      "model_module": "@jupyter-widgets/base",
      "model_module_version": "1.1.0",
      "model_name": "LayoutModel",
      "state": {}
     },
     "727eb6b507bc4d818ce3c0a5209e7cba": {
      "model_module": "@jupyter-widgets/output",
      "model_module_version": "1.0.0",
      "model_name": "OutputModel",
      "state": {
       "layout": "IPY_MODEL_c680d82e01894df39237ddf5414473de"
      }
     },
     "729ea3813fc243a59d27acb4327fe9a1": {
      "model_module": "@jupyter-widgets/base",
      "model_module_version": "1.1.0",
      "model_name": "LayoutModel",
      "state": {
       "width": "95%"
      }
     },
     "72ac9e50c4c14fc0b1a701f38638750a": {
      "model_module": "@jupyter-widgets/base",
      "model_module_version": "1.1.0",
      "model_name": "LayoutModel",
      "state": {
       "width": "10%"
      }
     },
     "72b43e7bad53420bae08ab7924e92d1d": {
      "model_module": "@jupyter-widgets/controls",
      "model_module_version": "1.4.0",
      "model_name": "HBoxModel",
      "state": {
       "children": [
        "IPY_MODEL_525b08a1d85443d0a011089268a6e785",
        "IPY_MODEL_4263d0119ab94fa58012b033027a643d"
       ],
       "layout": "IPY_MODEL_fb00bf0e6fc24f98bfc9982095fbb463"
      }
     },
     "72d5091ec83b4431b652548d86acfde4": {
      "model_module": "@jupyter-widgets/base",
      "model_module_version": "1.1.0",
      "model_name": "LayoutModel",
      "state": {
       "width": "10%"
      }
     },
     "72d68425398149fdbac0db96abce70c6": {
      "model_module": "@jupyter-widgets/controls",
      "model_module_version": "1.4.0",
      "model_name": "VBoxModel",
      "state": {
       "children": [
        "IPY_MODEL_e2a9b82dbab741f49adf0d8403927983",
        "IPY_MODEL_de682a4757ff473b98f56a93b2ed210e"
       ],
       "layout": "IPY_MODEL_d77b08ad08fc4b73b6472e631336292a"
      }
     },
     "72de56d1d082435ea23608d692d4d522": {
      "model_module": "@jupyter-widgets/controls",
      "model_module_version": "1.4.0",
      "model_name": "ButtonStyleModel",
      "state": {}
     },
     "72eaed1514464cdab473970cd515ec42": {
      "model_module": "@jupyter-widgets/controls",
      "model_module_version": "1.4.0",
      "model_name": "HBoxModel",
      "state": {
       "children": [
        "IPY_MODEL_78ae30b39b524e0a96781c9b3ba28df1",
        "IPY_MODEL_8b0ea0af3c9e44ed945f57f510cdcd46",
        "IPY_MODEL_bfbbc6e2c8684559aa368638a4c3f60d",
        "IPY_MODEL_be08ab5f1f0c42c697c5195a9acf5b39",
        "IPY_MODEL_0b2ab41ed3f6432587df22bce048f596",
        "IPY_MODEL_0ec672ea7f4144ab910c543c2324624f",
        "IPY_MODEL_b645f72855e94b8b96d2122e93e2f4de",
        "IPY_MODEL_ec2844d017da4983b477c3e63fbe541a",
        "IPY_MODEL_189cacf3257c408898a67875ac771b30",
        "IPY_MODEL_1f283df0d2304dce842cb672c21a2425"
       ],
       "layout": "IPY_MODEL_4719a8e35c864fc2a485007415dceb33"
      }
     },
     "72ffe1b8f255418b8c66ecb4ab8c12de": {
      "model_module": "@jupyter-widgets/controls",
      "model_module_version": "1.4.0",
      "model_name": "ButtonStyleModel",
      "state": {}
     },
     "7308b310a1d1414ca11c0b28872e8f02": {
      "model_module": "@jupyter-widgets/controls",
      "model_module_version": "1.4.0",
      "model_name": "ButtonStyleModel",
      "state": {}
     },
     "732d366e43da40b497036bacf218b272": {
      "model_module": "@jupyter-widgets/controls",
      "model_module_version": "1.4.0",
      "model_name": "ButtonModel",
      "state": {
       "description": "6",
       "layout": "IPY_MODEL_af85bcf6c321492b85fc75f996c4c19c",
       "style": "IPY_MODEL_b7967dbbc3a64101879351138b136ab7"
      }
     },
     "7337ae78b5474c45856de7f367d09870": {
      "model_module": "@jupyter-widgets/controls",
      "model_module_version": "1.4.0",
      "model_name": "VBoxModel",
      "state": {
       "children": [
        "IPY_MODEL_ea82e19779804ce1bb0e448faa54bec0",
        "IPY_MODEL_8dbe6c8259c949a397f876f793524593"
       ],
       "layout": "IPY_MODEL_e79eda7567134eea9274710a7f670e3f"
      }
     },
     "734d9e7f434e4ee2a5ec5065947c6a98": {
      "model_module": "@jupyter-widgets/controls",
      "model_module_version": "1.4.0",
      "model_name": "VBoxModel",
      "state": {
       "children": [
        "IPY_MODEL_e7da9b654cfb4430845f214b83873b74",
        "IPY_MODEL_6fa67c2c12464c738be181bf9e865e38"
       ],
       "layout": "IPY_MODEL_0fbe7f917fdc4b8e863dfb118fd364e3"
      }
     },
     "7358c12f6410453498da2eeb30158854": {
      "model_module": "@jupyter-widgets/base",
      "model_module_version": "1.1.0",
      "model_name": "LayoutModel",
      "state": {}
     },
     "735a98dd373a43fca128584890f2cd9d": {
      "model_module": "@jupyter-widgets/base",
      "model_module_version": "1.1.0",
      "model_name": "LayoutModel",
      "state": {
       "width": "10%"
      }
     },
     "735adc59aa1b46569e4871f298a7eb7c": {
      "model_module": "@jupyter-widgets/controls",
      "model_module_version": "1.4.0",
      "model_name": "VBoxModel",
      "state": {
       "children": [
        "IPY_MODEL_3ab70817821c41d19f8e24ab6cc8d242",
        "IPY_MODEL_338791440c244b2bbbfd7a59d25c6e96"
       ],
       "layout": "IPY_MODEL_60bd1a247fb54121b5a7f0f6bd039b8b"
      }
     },
     "7382709cec3547969f9bbe128de40c26": {
      "model_module": "@jupyter-widgets/base",
      "model_module_version": "1.1.0",
      "model_name": "LayoutModel",
      "state": {
       "width": "95%"
      }
     },
     "73917bcca0c9443f9db89a6c1bd07340": {
      "model_module": "@jupyter-widgets/base",
      "model_module_version": "1.1.0",
      "model_name": "LayoutModel",
      "state": {}
     },
     "739801e9c00e4562b0ec5a8efa16de02": {
      "model_module": "@jupyter-widgets/base",
      "model_module_version": "1.1.0",
      "model_name": "LayoutModel",
      "state": {
       "width": "95%"
      }
     },
     "739e60cf3b7245da94e1f96981972918": {
      "model_module": "@jupyter-widgets/controls",
      "model_module_version": "1.4.0",
      "model_name": "ButtonModel",
      "state": {
       "description": "9",
       "layout": "IPY_MODEL_865ea499d4ed47ab8d3078efeec076a4",
       "style": "IPY_MODEL_915f88e7cb974a6a85ea18417660649c"
      }
     },
     "73be1f222fd14d4eb07f12c3b81bfa2f": {
      "model_module": "@jupyter-widgets/base",
      "model_module_version": "1.1.0",
      "model_name": "LayoutModel",
      "state": {
       "width": "95%"
      }
     },
     "73ce86d524df43189fbc150704131b17": {
      "model_module": "@jupyter-widgets/controls",
      "model_module_version": "1.4.0",
      "model_name": "ButtonStyleModel",
      "state": {}
     },
     "73ce8c2cca46411ca897097fea3faf9b": {
      "model_module": "@jupyter-widgets/base",
      "model_module_version": "1.1.0",
      "model_name": "LayoutModel",
      "state": {}
     },
     "73e3e0bd66214bdfb67a3761ea7e6593": {
      "model_module": "@jupyter-widgets/output",
      "model_module_version": "1.0.0",
      "model_name": "OutputModel",
      "state": {
       "layout": "IPY_MODEL_9f758925d5024f7a953db0db665f2fd9"
      }
     },
     "73e9a00f3eba441a9a51ae6a2620f647": {
      "model_module": "@jupyter-widgets/base",
      "model_module_version": "1.1.0",
      "model_name": "LayoutModel",
      "state": {}
     },
     "73ec00cf93344401bacdf231c0ec64f8": {
      "model_module": "@jupyter-widgets/output",
      "model_module_version": "1.0.0",
      "model_name": "OutputModel",
      "state": {
       "layout": "IPY_MODEL_916adcded5644e01be16b819ca334ad6"
      }
     },
     "73fd6da685a4495a8045d9ef10ecff0e": {
      "model_module": "@jupyter-widgets/base",
      "model_module_version": "1.1.0",
      "model_name": "LayoutModel",
      "state": {
       "width": "10%"
      }
     },
     "741733618502480d915606575c446635": {
      "model_module": "@jupyter-widgets/controls",
      "model_module_version": "1.4.0",
      "model_name": "ButtonStyleModel",
      "state": {}
     },
     "7430350afe9e4b9392db5f945408c1c6": {
      "model_module": "@jupyter-widgets/controls",
      "model_module_version": "1.4.0",
      "model_name": "ButtonModel",
      "state": {
       "description": "1",
       "layout": "IPY_MODEL_c8ab6ea4bd764ec783251b3f310e59d8",
       "style": "IPY_MODEL_25a8dac7c5584ea6811f41196d46fd47"
      }
     },
     "7432f0d573a3441d8895cd9188f10e63": {
      "model_module": "@jupyter-widgets/base",
      "model_module_version": "1.1.0",
      "model_name": "LayoutModel",
      "state": {
       "width": "95%"
      }
     },
     "746da1a555d44e809ac1ddb8b906e9de": {
      "model_module": "@jupyter-widgets/controls",
      "model_module_version": "1.4.0",
      "model_name": "VBoxModel",
      "state": {
       "children": [
        "IPY_MODEL_739e60cf3b7245da94e1f96981972918",
        "IPY_MODEL_59eab4f84c9647ec8d87822cd6ba792a"
       ],
       "layout": "IPY_MODEL_72d5091ec83b4431b652548d86acfde4"
      }
     },
     "7478aa6676d4467f950ecf7905a86495": {
      "model_module": "@jupyter-widgets/controls",
      "model_module_version": "1.4.0",
      "model_name": "ButtonStyleModel",
      "state": {}
     },
     "7487f6e39e7c42ce8ba96f86754868d2": {
      "model_module": "@jupyter-widgets/controls",
      "model_module_version": "1.4.0",
      "model_name": "ButtonStyleModel",
      "state": {}
     },
     "74a356184c7844a2ad4ae88ccc33efa1": {
      "model_module": "@jupyter-widgets/base",
      "model_module_version": "1.1.0",
      "model_name": "LayoutModel",
      "state": {}
     },
     "74b3adb03e674559b4e8ba123777c97e": {
      "model_module": "@jupyter-widgets/base",
      "model_module_version": "1.1.0",
      "model_name": "LayoutModel",
      "state": {}
     },
     "74b3e59101d54f24b9c886985ae9d0c6": {
      "model_module": "@jupyter-widgets/base",
      "model_module_version": "1.1.0",
      "model_name": "LayoutModel",
      "state": {
       "width": "10%"
      }
     },
     "750452c4d1b34682bdf46724c1b5a27d": {
      "model_module": "@jupyter-widgets/base",
      "model_module_version": "1.1.0",
      "model_name": "LayoutModel",
      "state": {
       "width": "10%"
      }
     },
     "753481897ee84e0ca99498bf14a09773": {
      "model_module": "@jupyter-widgets/controls",
      "model_module_version": "1.4.0",
      "model_name": "DescriptionStyleModel",
      "state": {
       "description_width": ""
      }
     },
     "7544797e9e674362958c818e29e3cbb0": {
      "model_module": "@jupyter-widgets/controls",
      "model_module_version": "1.4.0",
      "model_name": "TextModel",
      "state": {
       "description": "Other:",
       "layout": "IPY_MODEL_c979edad7b394c6186d2de0088edb626",
       "placeholder": "Hit enter to submit.",
       "style": "IPY_MODEL_3554ae56ea234d02993cebb2d57ed091"
      }
     },
     "7546d006ea6c45a58024e14af81cfdce": {
      "model_module": "@jupyter-widgets/controls",
      "model_module_version": "1.4.0",
      "model_name": "VBoxModel",
      "state": {
       "children": [
        "IPY_MODEL_d894d16454a64b4abb25f06477aefcaa",
        "IPY_MODEL_218caec319ad419a9635849ec6624bdb"
       ],
       "layout": "IPY_MODEL_f33013ccbaf44cea8e79d05478656cc9"
      }
     },
     "7581c2c2728d4d8cae6164b83ae22183": {
      "model_module": "@jupyter-widgets/base",
      "model_module_version": "1.1.0",
      "model_name": "LayoutModel",
      "state": {
       "width": "95%"
      }
     },
     "75b42e6fa52c464b844e87ca0d9505ee": {
      "model_module": "@jupyter-widgets/base",
      "model_module_version": "1.1.0",
      "model_name": "LayoutModel",
      "state": {}
     },
     "75d8574b0f2a4c0b888e38bbd271b774": {
      "model_module": "@jupyter-widgets/controls",
      "model_module_version": "1.4.0",
      "model_name": "TextModel",
      "state": {
       "description": "Other:",
       "layout": "IPY_MODEL_56b65726d88d4229a89346e03d849d90",
       "placeholder": "Hit enter to submit.",
       "style": "IPY_MODEL_a8236415d32640838859dff81abc33b5"
      }
     },
     "75d9c41b3e104508a48b8d5891201411": {
      "model_module": "@jupyter-widgets/controls",
      "model_module_version": "1.4.0",
      "model_name": "ButtonModel",
      "state": {
       "description": "8",
       "layout": "IPY_MODEL_9aa890ebe89440b4b137b678d0cf3fad",
       "style": "IPY_MODEL_8a634a11b3524075ac184a17c12e0262"
      }
     },
     "75edc9a69cac4c6b8b93447cf7550f6b": {
      "model_module": "@jupyter-widgets/controls",
      "model_module_version": "1.4.0",
      "model_name": "ButtonModel",
      "state": {
       "description": "3",
       "layout": "IPY_MODEL_1d01015a82d04150bdff896edf3c9c62",
       "style": "IPY_MODEL_7616e77186f94e2c9fc7d643769c2324"
      }
     },
     "75fbe88562d342b8b4841f7848ca908c": {
      "model_module": "@jupyter-widgets/base",
      "model_module_version": "1.1.0",
      "model_name": "LayoutModel",
      "state": {
       "width": "95%"
      }
     },
     "7616e77186f94e2c9fc7d643769c2324": {
      "model_module": "@jupyter-widgets/controls",
      "model_module_version": "1.4.0",
      "model_name": "ButtonStyleModel",
      "state": {}
     },
     "762f5790ff1c426199e4feb16f446d36": {
      "model_module": "@jupyter-widgets/base",
      "model_module_version": "1.1.0",
      "model_name": "LayoutModel",
      "state": {}
     },
     "7669b7bbbad243259ef3cbbb3c5539bd": {
      "model_module": "@jupyter-widgets/controls",
      "model_module_version": "1.4.0",
      "model_name": "VBoxModel",
      "state": {
       "children": [
        "IPY_MODEL_d23da4ad675746ce9c7d95e93a63cc89",
        "IPY_MODEL_2b677ac27e2847af90dd4a1b5ef3fb51"
       ],
       "layout": "IPY_MODEL_dcfb728eac3843ecb2eb589343ba40b1"
      }
     },
     "768d560d9ad040a2a964350f517b0254": {
      "model_module": "@jupyter-widgets/controls",
      "model_module_version": "1.4.0",
      "model_name": "ButtonModel",
      "state": {
       "description": "1",
       "layout": "IPY_MODEL_952f8fee1ebb45b6a050150fc8c44f72",
       "style": "IPY_MODEL_f18255952dc24ac0876fd869f875ac0a"
      }
     },
     "768e3914dd5442459624389ecf099fb5": {
      "model_module": "@jupyter-widgets/controls",
      "model_module_version": "1.4.0",
      "model_name": "ButtonStyleModel",
      "state": {}
     },
     "76b5e9fc192f4c52b78e59443c5b610f": {
      "model_module": "@jupyter-widgets/base",
      "model_module_version": "1.1.0",
      "model_name": "LayoutModel",
      "state": {
       "justify_content": "space-between"
      }
     },
     "76b771f9de534d5cb4f70d5658dd7f51": {
      "model_module": "@jupyter-widgets/controls",
      "model_module_version": "1.4.0",
      "model_name": "VBoxModel",
      "state": {
       "children": [
        "IPY_MODEL_eb6342f719284bfc987fc395665c874d",
        "IPY_MODEL_dc3e218a22624b069d6fc836ce3d21fe"
       ],
       "layout": "IPY_MODEL_d3ed425e55ce4f7797251f97b1c20463"
      }
     },
     "76bc2b06e50c4f2f8553cb7726e77517": {
      "model_module": "@jupyter-widgets/base",
      "model_module_version": "1.1.0",
      "model_name": "LayoutModel",
      "state": {}
     },
     "76dfd6cf14324ddb9e23aef475b51512": {
      "model_module": "@jupyter-widgets/controls",
      "model_module_version": "1.4.0",
      "model_name": "VBoxModel",
      "state": {
       "children": [
        "IPY_MODEL_6b6b580f54b14a6992f6dc70ec256dd7",
        "IPY_MODEL_896e18569ed44725bf25727b8198a957"
       ],
       "layout": "IPY_MODEL_960f70a5a3834fa4b7055b49c7b416ab"
      }
     },
     "76f1af4250fd4e9aab8299e883d100a5": {
      "model_module": "@jupyter-widgets/base",
      "model_module_version": "1.1.0",
      "model_name": "LayoutModel",
      "state": {
       "width": "10%"
      }
     },
     "770cf14794364b1c88334e9d08563082": {
      "model_module": "@jupyter-widgets/controls",
      "model_module_version": "1.4.0",
      "model_name": "VBoxModel",
      "state": {
       "children": [
        "IPY_MODEL_71f2f87f8d4e4b9e9887cc2e5f4c53b1",
        "IPY_MODEL_2b38e51ccf6b4947a029db8f80305a44"
       ],
       "layout": "IPY_MODEL_31dd2bdd4343475db1e304785d0873c8"
      }
     },
     "7711bff03eae4f61aeaacce3367f95d1": {
      "model_module": "@jupyter-widgets/output",
      "model_module_version": "1.0.0",
      "model_name": "OutputModel",
      "state": {
       "layout": "IPY_MODEL_44e69fbbd485453492f09efa47d8199f"
      }
     },
     "771ab2ee8b424c0e9231e73675f669af": {
      "model_module": "@jupyter-widgets/base",
      "model_module_version": "1.1.0",
      "model_name": "LayoutModel",
      "state": {
       "width": "95%"
      }
     },
     "771abfd8ecf7476f94d851b3a7b03772": {
      "model_module": "@jupyter-widgets/base",
      "model_module_version": "1.1.0",
      "model_name": "LayoutModel",
      "state": {}
     },
     "771bc6e8e107490f8fb4763afaf074cb": {
      "model_module": "@jupyter-widgets/controls",
      "model_module_version": "1.4.0",
      "model_name": "ButtonStyleModel",
      "state": {}
     },
     "7736075df80c4af3ae9123559ace430c": {
      "model_module": "@jupyter-widgets/base",
      "model_module_version": "1.1.0",
      "model_name": "LayoutModel",
      "state": {}
     },
     "77368e5ce53d441c97779f32fb502d92": {
      "model_module": "@jupyter-widgets/controls",
      "model_module_version": "1.4.0",
      "model_name": "ButtonStyleModel",
      "state": {}
     },
     "7738c453cb6a4542ab07e122e3577500": {
      "model_module": "@jupyter-widgets/output",
      "model_module_version": "1.0.0",
      "model_name": "OutputModel",
      "state": {
       "layout": "IPY_MODEL_8e8419b5a1884d5cbfe3a910201b401e"
      }
     },
     "7749ac750f414d7a96a1486aea1a988a": {
      "model_module": "@jupyter-widgets/base",
      "model_module_version": "1.1.0",
      "model_name": "LayoutModel",
      "state": {
       "width": "10%"
      }
     },
     "7751ef9bd41b4350a6c6b4a39ef30c89": {
      "model_module": "@jupyter-widgets/controls",
      "model_module_version": "1.4.0",
      "model_name": "ButtonStyleModel",
      "state": {}
     },
     "777ef1b557af408f8f0d7d71dc1053b5": {
      "model_module": "@jupyter-widgets/base",
      "model_module_version": "1.1.0",
      "model_name": "LayoutModel",
      "state": {
       "width": "95%"
      }
     },
     "779bc1d6a0724552b597a29e5a6d2dcd": {
      "model_module": "@jupyter-widgets/controls",
      "model_module_version": "1.4.0",
      "model_name": "VBoxModel",
      "state": {
       "children": [
        "IPY_MODEL_c27cea1a1a454fe888e887905f161473",
        "IPY_MODEL_966d934a6ca9495ebaedbd7f093b215d"
       ],
       "layout": "IPY_MODEL_c7c40df1205948e7bda408c9e8112727"
      }
     },
     "779f0d3e2eac4a2c97f326429487be71": {
      "model_module": "@jupyter-widgets/controls",
      "model_module_version": "1.4.0",
      "model_name": "ButtonModel",
      "state": {
       "description": "5",
       "layout": "IPY_MODEL_f651b1facd7f40118e57ad3598c48ef0",
       "style": "IPY_MODEL_208b926e13a04759bbbfafd862f1b89e"
      }
     },
     "77ab0cad04254eb08a533243bf1d5d9b": {
      "model_module": "@jupyter-widgets/base",
      "model_module_version": "1.1.0",
      "model_name": "LayoutModel",
      "state": {
       "width": "95%"
      }
     },
     "77b6bf5b0b6d4c5c815432153a453145": {
      "model_module": "@jupyter-widgets/output",
      "model_module_version": "1.0.0",
      "model_name": "OutputModel",
      "state": {
       "layout": "IPY_MODEL_8ea4668662a04fdd94fd3f130d97c9d7"
      }
     },
     "77c08e631603444dbb4f432105931385": {
      "model_module": "@jupyter-widgets/controls",
      "model_module_version": "1.4.0",
      "model_name": "ButtonModel",
      "state": {
       "description": "4",
       "layout": "IPY_MODEL_84e63ca6ed6a4aa78d992ca4bd16e46f",
       "style": "IPY_MODEL_fc94cf39845d4333be32bd0e0a2bf283"
      }
     },
     "77c1aaccdb72443bbc312612d68d7dbe": {
      "model_module": "@jupyter-widgets/output",
      "model_module_version": "1.0.0",
      "model_name": "OutputModel",
      "state": {
       "layout": "IPY_MODEL_1d631b4da34248f38bce67bd51c4c8c5"
      }
     },
     "77d90f9ae80a4308a98700093ecfb5d4": {
      "model_module": "@jupyter-widgets/controls",
      "model_module_version": "1.4.0",
      "model_name": "ButtonStyleModel",
      "state": {}
     },
     "77ff52c8e91249c7b44d5c095ba2a85c": {
      "model_module": "@jupyter-widgets/controls",
      "model_module_version": "1.4.0",
      "model_name": "VBoxModel",
      "state": {
       "children": [
        "IPY_MODEL_d28f898793694a8e9d67fd32c3c11e30",
        "IPY_MODEL_5669c682e25e4d2da553db0a62eef633"
       ],
       "layout": "IPY_MODEL_3378d49325534a869b92af8b532d9de4"
      }
     },
     "7802ad4d138448d7a5a3e9d9deb9daa0": {
      "model_module": "@jupyter-widgets/controls",
      "model_module_version": "1.4.0",
      "model_name": "VBoxModel",
      "state": {
       "children": [
        "IPY_MODEL_34649db7024542c58c7a43fdc1f23ea8",
        "IPY_MODEL_7a6a60b9d5a4414f9200a74cafde472d"
       ],
       "layout": "IPY_MODEL_5aaba9e8d319468bbfcb1f16dea72836"
      }
     },
     "781bd41ba7aa483cbb1dbc06f561267e": {
      "model_module": "@jupyter-widgets/base",
      "model_module_version": "1.1.0",
      "model_name": "LayoutModel",
      "state": {}
     },
     "7820b77634304dd8bbc267c1e6776089": {
      "model_module": "@jupyter-widgets/base",
      "model_module_version": "1.1.0",
      "model_name": "LayoutModel",
      "state": {}
     },
     "7826be9363344067b2ed43759e65b667": {
      "model_module": "@jupyter-widgets/base",
      "model_module_version": "1.1.0",
      "model_name": "LayoutModel",
      "state": {
       "display": "flex",
       "justify_content": "center",
       "min_height": "150px",
       "padding": "5% 0",
       "width": "100%"
      }
     },
     "7832f7c2d5624161a60933861e9d91c1": {
      "model_module": "@jupyter-widgets/controls",
      "model_module_version": "1.4.0",
      "model_name": "ButtonModel",
      "state": {
       "description": "1",
       "layout": "IPY_MODEL_ba1442b5443646088ca998aa8f29d274",
       "style": "IPY_MODEL_b384b094766d496dbe3a5beb7f473c59"
      }
     },
     "78588002487e48b0880f31db8217a2f2": {
      "model_module": "@jupyter-widgets/base",
      "model_module_version": "1.1.0",
      "model_name": "LayoutModel",
      "state": {
       "width": "10%"
      }
     },
     "78651826d67b485f98eef774f2e1bf6e": {
      "model_module": "@jupyter-widgets/output",
      "model_module_version": "1.0.0",
      "model_name": "OutputModel",
      "state": {
       "layout": "IPY_MODEL_bc9d715972a6425bbd0fa2253fd89a52"
      }
     },
     "78797be1d4cf4bdbb67c9e79de394882": {
      "model_module": "@jupyter-widgets/base",
      "model_module_version": "1.1.0",
      "model_name": "LayoutModel",
      "state": {
       "width": "10%"
      }
     },
     "7887f1dc88b04dab9a4261c95d2142da": {
      "model_module": "@jupyter-widgets/controls",
      "model_module_version": "1.4.0",
      "model_name": "ButtonStyleModel",
      "state": {}
     },
     "789c0a44f7a6436cbfbe57cdbd5e182e": {
      "model_module": "@jupyter-widgets/base",
      "model_module_version": "1.1.0",
      "model_name": "LayoutModel",
      "state": {}
     },
     "78a4585f36434e7c99f50509f6999830": {
      "model_module": "@jupyter-widgets/controls",
      "model_module_version": "1.4.0",
      "model_name": "HBoxModel",
      "state": {
       "children": [
        "IPY_MODEL_1b33208235d94a38a78d86c6438e7060",
        "IPY_MODEL_c1f30bab6f664a5db1e1aa127fdc54a8"
       ],
       "layout": "IPY_MODEL_0c50cf4b319542aabddcfff19eeb87fe"
      }
     },
     "78ae30b39b524e0a96781c9b3ba28df1": {
      "model_module": "@jupyter-widgets/controls",
      "model_module_version": "1.4.0",
      "model_name": "VBoxModel",
      "state": {
       "children": [
        "IPY_MODEL_4365e01bc87d448b9c8e69ffaa9d2b1f",
        "IPY_MODEL_6e99354678814ea7a9bb66fccb36d52f"
       ],
       "layout": "IPY_MODEL_b32585cc49864069b674856c36c6cb8f"
      }
     },
     "78cd225c2ff24c32894872a787fe89ce": {
      "model_module": "@jupyter-widgets/output",
      "model_module_version": "1.0.0",
      "model_name": "OutputModel",
      "state": {
       "layout": "IPY_MODEL_b27407e36f7c414db5e2b3e14e2685b1"
      }
     },
     "78d62828a52e4b6e88493dc5983cf480": {
      "model_module": "@jupyter-widgets/controls",
      "model_module_version": "1.4.0",
      "model_name": "ButtonModel",
      "state": {
       "description": "2",
       "layout": "IPY_MODEL_8935a9d5d40041c0b5ea3048a0029c74",
       "style": "IPY_MODEL_6e47b62197984cb394098a0f39598536"
      }
     },
     "78dfde91aa61435490e7c2b763b04e09": {
      "model_module": "@jupyter-widgets/controls",
      "model_module_version": "1.4.0",
      "model_name": "ButtonModel",
      "state": {
       "description": "7",
       "layout": "IPY_MODEL_1179a415f744414cb0475662d8508691",
       "style": "IPY_MODEL_804486f03c6d434087b80516e0898b16"
      }
     },
     "78eb477d35ec41f6946254d6d4646785": {
      "model_module": "@jupyter-widgets/base",
      "model_module_version": "1.1.0",
      "model_name": "LayoutModel",
      "state": {}
     },
     "78ffc10082064cfead5db9625fd84055": {
      "model_module": "@jupyter-widgets/base",
      "model_module_version": "1.1.0",
      "model_name": "LayoutModel",
      "state": {
       "width": "10%"
      }
     },
     "791a2a96b0544445a03c57dbec56d511": {
      "model_module": "@jupyter-widgets/controls",
      "model_module_version": "1.4.0",
      "model_name": "ButtonModel",
      "state": {
       "description": "9",
       "layout": "IPY_MODEL_b8b1ad9973c44dd09b42f8944b628353",
       "style": "IPY_MODEL_be7bf56208e84b39b30c7758b2b52926"
      }
     },
     "791c68cec42044daaa4863fd6a3c56ef": {
      "model_module": "@jupyter-widgets/controls",
      "model_module_version": "1.4.0",
      "model_name": "ButtonModel",
      "state": {
       "description": "2",
       "layout": "IPY_MODEL_0ffecc82d8534ca0a0c72bc4258b6b38",
       "style": "IPY_MODEL_43ec85581d124580a71d2a12e19e9833"
      }
     },
     "79595a9b9b6e4fc1b0b093ca67038824": {
      "model_module": "@jupyter-widgets/output",
      "model_module_version": "1.0.0",
      "model_name": "OutputModel",
      "state": {
       "layout": "IPY_MODEL_e51c1a4419a5423bbedbac5db8e84b88"
      }
     },
     "797134d985e6494484be40c17b7cb28e": {
      "model_module": "@jupyter-widgets/output",
      "model_module_version": "1.0.0",
      "model_name": "OutputModel",
      "state": {
       "layout": "IPY_MODEL_0d0f04490f114019ba57be81bb2bd80e"
      }
     },
     "79ea9fe6a71941aab3a27e22bbf9522e": {
      "model_module": "@jupyter-widgets/base",
      "model_module_version": "1.1.0",
      "model_name": "LayoutModel",
      "state": {}
     },
     "7a03d8f7227147c0ad78625e809b06e6": {
      "model_module": "@jupyter-widgets/base",
      "model_module_version": "1.1.0",
      "model_name": "LayoutModel",
      "state": {}
     },
     "7a0c40e44c2a4d63b2ec1ae7912b2ded": {
      "model_module": "@jupyter-widgets/base",
      "model_module_version": "1.1.0",
      "model_name": "LayoutModel",
      "state": {
       "width": "10%"
      }
     },
     "7a1515a0bc684a1b93bd2a23072afe03": {
      "model_module": "@jupyter-widgets/output",
      "model_module_version": "1.0.0",
      "model_name": "OutputModel",
      "state": {
       "layout": "IPY_MODEL_be385ca679254ac18ed3d0f477df669a"
      }
     },
     "7a41a0db040b4f08aec02303cb532942": {
      "model_module": "@jupyter-widgets/base",
      "model_module_version": "1.1.0",
      "model_name": "LayoutModel",
      "state": {}
     },
     "7a4bf5bb54a445d2bd212d27352f2721": {
      "model_module": "@jupyter-widgets/base",
      "model_module_version": "1.1.0",
      "model_name": "LayoutModel",
      "state": {}
     },
     "7a601218e6d74719b80807090f36cb96": {
      "model_module": "@jupyter-widgets/controls",
      "model_module_version": "1.4.0",
      "model_name": "ButtonModel",
      "state": {
       "description": "6",
       "layout": "IPY_MODEL_b85c6669ff0c485d95ab8d84d85ccac3",
       "style": "IPY_MODEL_3046a0632c5745bba10b2069a23e83f4"
      }
     },
     "7a636de7e3c0444bba2e675ff5f615e4": {
      "model_module": "@jupyter-widgets/controls",
      "model_module_version": "1.4.0",
      "model_name": "ButtonStyleModel",
      "state": {}
     },
     "7a6a60b9d5a4414f9200a74cafde472d": {
      "model_module": "@jupyter-widgets/output",
      "model_module_version": "1.0.0",
      "model_name": "OutputModel",
      "state": {
       "layout": "IPY_MODEL_78eb477d35ec41f6946254d6d4646785"
      }
     },
     "7a77ebc2d1144b219fc3f4b8674b46ea": {
      "model_module": "@jupyter-widgets/controls",
      "model_module_version": "1.4.0",
      "model_name": "HBoxModel",
      "state": {
       "children": [
        "IPY_MODEL_a7b44988270847eabb0bf8f369e3567b",
        "IPY_MODEL_8ff52e9bec0d4c2bbfd8b2d96b28d24c",
        "IPY_MODEL_85b809c18a6c4a50963c04ccc34d9c28"
       ],
       "layout": "IPY_MODEL_e5a81e71afd5483cbe10f4781602f1d9"
      }
     },
     "7a9301c1c05b496faca4f6f4f1c874fb": {
      "model_module": "@jupyter-widgets/base",
      "model_module_version": "1.1.0",
      "model_name": "LayoutModel",
      "state": {}
     },
     "7ab9d8a497d142279e58df0366d015b4": {
      "model_module": "@jupyter-widgets/controls",
      "model_module_version": "1.4.0",
      "model_name": "VBoxModel",
      "state": {
       "children": [
        "IPY_MODEL_6d3211720eb342a4921818bc0aacb182",
        "IPY_MODEL_266fb6350f8e4811b9e3dbb255d08f66"
       ],
       "layout": "IPY_MODEL_c8f7239d018844e9925814d099baff56"
      }
     },
     "7ae64c649af44247b07d210be71c8546": {
      "model_module": "@jupyter-widgets/controls",
      "model_module_version": "1.4.0",
      "model_name": "ButtonModel",
      "state": {
       "description": "7",
       "layout": "IPY_MODEL_7432f0d573a3441d8895cd9188f10e63",
       "style": "IPY_MODEL_d0d17e72cc744bd38b6e277e359b44e6"
      }
     },
     "7b455b2a417e4ea5af51469e7a7c4fab": {
      "model_module": "@jupyter-widgets/controls",
      "model_module_version": "1.4.0",
      "model_name": "ButtonStyleModel",
      "state": {}
     },
     "7b489af3e1204decb54ccd7602485953": {
      "model_module": "@jupyter-widgets/controls",
      "model_module_version": "1.4.0",
      "model_name": "ButtonStyleModel",
      "state": {}
     },
     "7b49ab5f089346619c417345cd60cb39": {
      "model_module": "@jupyter-widgets/controls",
      "model_module_version": "1.4.0",
      "model_name": "ButtonModel",
      "state": {
       "description": "4",
       "layout": "IPY_MODEL_9023e593ff234ae6b858c25c77f89941",
       "style": "IPY_MODEL_9b4c23f079134e0f8d05476637e846cc"
      }
     },
     "7b70f5d432c84969bca41734c94983f3": {
      "model_module": "@jupyter-widgets/output",
      "model_module_version": "1.0.0",
      "model_name": "OutputModel",
      "state": {
       "layout": "IPY_MODEL_c99cfd7dac814e61a025ac5adad5bbf2"
      }
     },
     "7b9bf889c98b4b92b065cb1844392d3c": {
      "model_module": "@jupyter-widgets/base",
      "model_module_version": "1.1.0",
      "model_name": "LayoutModel",
      "state": {
       "width": "10%"
      }
     },
     "7bb671afcc9a4798b0370dc65985c88e": {
      "model_module": "@jupyter-widgets/controls",
      "model_module_version": "1.4.0",
      "model_name": "ButtonModel",
      "state": {
       "description": "6",
       "layout": "IPY_MODEL_f0b95ffe3f1b49b4aecf8da180e485d6",
       "style": "IPY_MODEL_ef9df6a9c4134643a67d1b28b7e6a78d"
      }
     },
     "7bc1c569f8714044b555451d94c75685": {
      "model_module": "@jupyter-widgets/controls",
      "model_module_version": "1.4.0",
      "model_name": "VBoxModel",
      "state": {
       "children": [
        "IPY_MODEL_bc0136f1b69e46ebbaf0c98b046d999d",
        "IPY_MODEL_0f02df4294a14971a2af44a96deb9c6a"
       ],
       "layout": "IPY_MODEL_03c2441b9ebd408bae682cfa249a0029"
      }
     },
     "7bd64f716a0640dabc76d06a1c52b329": {
      "model_module": "@jupyter-widgets/controls",
      "model_module_version": "1.4.0",
      "model_name": "ButtonModel",
      "state": {
       "description": "8",
       "layout": "IPY_MODEL_7ec7631e5f4149a9a3f7eede80f427f9",
       "style": "IPY_MODEL_420a6b3b1a884c70bcf6c596bd46499d"
      }
     },
     "7be2f0ef1b75462382f1504cbfb6b0ef": {
      "model_module": "@jupyter-widgets/controls",
      "model_module_version": "1.4.0",
      "model_name": "ButtonModel",
      "state": {
       "description": "5",
       "layout": "IPY_MODEL_0f98c5712f0b4051a24854993b08d3f6",
       "style": "IPY_MODEL_1f03a80056c54494b1975cd61f6be42b"
      }
     },
     "7bf913d2f03248b5a368c1bde8be07b7": {
      "model_module": "@jupyter-widgets/base",
      "model_module_version": "1.1.0",
      "model_name": "LayoutModel",
      "state": {}
     },
     "7bfb18621f0d48bb9ce3e4ee29c10c89": {
      "model_module": "@jupyter-widgets/controls",
      "model_module_version": "1.4.0",
      "model_name": "ButtonModel",
      "state": {
       "description": "4",
       "layout": "IPY_MODEL_4276dc9ec3864fe5b803f2a212877832",
       "style": "IPY_MODEL_16c9227fbe8a47e8bba45a721f955a6d"
      }
     },
     "7c0492d39a454b5da4b17715aae5f729": {
      "model_module": "@jupyter-widgets/base",
      "model_module_version": "1.1.0",
      "model_name": "LayoutModel",
      "state": {
       "width": "95%"
      }
     },
     "7c1bac546938437c9b7050fffc6ee5be": {
      "model_module": "@jupyter-widgets/controls",
      "model_module_version": "1.4.0",
      "model_name": "HBoxModel",
      "state": {
       "children": [
        "IPY_MODEL_2e5449cb488149f5968a5a64705c8040",
        "IPY_MODEL_0de0b823e5df403e8e115925149fa595",
        "IPY_MODEL_5cf5ebb6576d463595108aa4efb1ae5d",
        "IPY_MODEL_305c6a4474574d4188c6d6318eff9181",
        "IPY_MODEL_b4c1e89abe384020b086d056a73b3f2e",
        "IPY_MODEL_3f7a2a418a254d2dad825adb4f2e0fab",
        "IPY_MODEL_52f4f90dba41497b98df048cf44dcef1",
        "IPY_MODEL_a11b0d1839dd454a84f8fd9b2fc40f49",
        "IPY_MODEL_8040f504247d401fbf236f74b5ee6787",
        "IPY_MODEL_219d2cee83574a4cab61f7b2cd386941"
       ],
       "layout": "IPY_MODEL_24ac9f377ccd4e1ea43dc520500be27c"
      }
     },
     "7c6317008db145a6b97774f1f8b06392": {
      "model_module": "@jupyter-widgets/controls",
      "model_module_version": "1.4.0",
      "model_name": "ButtonStyleModel",
      "state": {}
     },
     "7c6a5ccca8574142a4b7982151fdb75b": {
      "model_module": "@jupyter-widgets/controls",
      "model_module_version": "1.4.0",
      "model_name": "ButtonModel",
      "state": {
       "description": "3",
       "layout": "IPY_MODEL_61a7e9511c6840c283fbd760bd73bcd4",
       "style": "IPY_MODEL_55d506bb9a33440081c7943dfa68c427"
      }
     },
     "7c6c0ca545f14a5eb15d17c6542b9226": {
      "model_module": "@jupyter-widgets/controls",
      "model_module_version": "1.4.0",
      "model_name": "ButtonModel",
      "state": {
       "description": "5",
       "layout": "IPY_MODEL_52efae70827a4a46b9678dcec6773d7d",
       "style": "IPY_MODEL_b532fec8536f4e0ca7e88110d2cd2384"
      }
     },
     "7c7430d7e3aa4a8db7786d5b9420ea5d": {
      "model_module": "@jupyter-widgets/base",
      "model_module_version": "1.1.0",
      "model_name": "LayoutModel",
      "state": {}
     },
     "7c79e859b48745b3b6aee51ff345e74e": {
      "model_module": "@jupyter-widgets/controls",
      "model_module_version": "1.4.0",
      "model_name": "ButtonStyleModel",
      "state": {}
     },
     "7c82f2efe7574e4ebef036312bda858f": {
      "model_module": "@jupyter-widgets/controls",
      "model_module_version": "1.4.0",
      "model_name": "ButtonModel",
      "state": {
       "description": "9",
       "layout": "IPY_MODEL_95ceb6f5625f4d01abfdb0ca7e1f293c",
       "style": "IPY_MODEL_45d4e1dce15f4957ae7a37b7a745e3ab"
      }
     },
     "7cae29465a364f40a0bb678afa7ed141": {
      "model_module": "@jupyter-widgets/controls",
      "model_module_version": "1.4.0",
      "model_name": "VBoxModel",
      "state": {
       "children": [
        "IPY_MODEL_5a25cc490f61477988e5c6e1366f762b",
        "IPY_MODEL_b764fe4ee1b04755a9ebd06214d81751"
       ],
       "layout": "IPY_MODEL_c8f88965743b4cfb9a577b26c8b4d1b1"
      }
     },
     "7cb5c390723344c6aa70d06460b64352": {
      "model_module": "@jupyter-widgets/base",
      "model_module_version": "1.1.0",
      "model_name": "LayoutModel",
      "state": {
       "width": "95%"
      }
     },
     "7cff2f3ad22445cb82dd661b5580ec08": {
      "model_module": "@jupyter-widgets/base",
      "model_module_version": "1.1.0",
      "model_name": "LayoutModel",
      "state": {}
     },
     "7d00f1620caa4cb2b6d826943624acbe": {
      "model_module": "@jupyter-widgets/base",
      "model_module_version": "1.1.0",
      "model_name": "LayoutModel",
      "state": {}
     },
     "7d03d29ef657465d9a06afec902e0f77": {
      "model_module": "@jupyter-widgets/base",
      "model_module_version": "1.1.0",
      "model_name": "LayoutModel",
      "state": {
       "width": "95%"
      }
     },
     "7d062520009a4bd38e804610b40f19ee": {
      "model_module": "@jupyter-widgets/base",
      "model_module_version": "1.1.0",
      "model_name": "LayoutModel",
      "state": {}
     },
     "7d252141c02e4c05acb0c305a329c7ae": {
      "model_module": "@jupyter-widgets/base",
      "model_module_version": "1.1.0",
      "model_name": "LayoutModel",
      "state": {}
     },
     "7d336f4636994c099296fe5b521fec5a": {
      "model_module": "@jupyter-widgets/base",
      "model_module_version": "1.1.0",
      "model_name": "LayoutModel",
      "state": {
       "width": "10%"
      }
     },
     "7d66f797e694490aa0b9bbc0b50d7df4": {
      "model_module": "@jupyter-widgets/controls",
      "model_module_version": "1.4.0",
      "model_name": "HBoxModel",
      "state": {
       "children": [
        "IPY_MODEL_ea7f527faf334d47ba6433eb28688081",
        "IPY_MODEL_3018703fc69b4666833a7c89a6281757"
       ],
       "layout": "IPY_MODEL_f825bfef96e3449aa47387052f1bf27a"
      }
     },
     "7d7b77bfa66a46e0ae62a042b5034307": {
      "model_module": "@jupyter-widgets/controls",
      "model_module_version": "1.4.0",
      "model_name": "HBoxModel",
      "state": {
       "children": [
        "IPY_MODEL_cb13b4120c444161bdb2cd8c3cf60a5d",
        "IPY_MODEL_0b38d84825ef4c51a9cfcaae0db974f3",
        "IPY_MODEL_16561a3f3f5141ac836fd16aa4e86a2a",
        "IPY_MODEL_b777c06299fc4776a0a0c2de68c17983",
        "IPY_MODEL_0079fe2934ee43dea4863d1647993816",
        "IPY_MODEL_dd57ded1912148e5b6816b8ff0d89b14",
        "IPY_MODEL_15740f82d4bc44dba2c1806b65878803",
        "IPY_MODEL_f63b575be17b47aaa13fefcad8825411",
        "IPY_MODEL_a65a8f42fdf0470e960b677044ddb9c2",
        "IPY_MODEL_4c467dddcd754f45891d60bf1e43c79f"
       ],
       "layout": "IPY_MODEL_6b5b35431edf4305ae9f5e6d7f69aba9"
      }
     },
     "7d86d4e5d5294d50affcb1d79cf6b7a4": {
      "model_module": "@jupyter-widgets/controls",
      "model_module_version": "1.4.0",
      "model_name": "HBoxModel",
      "state": {
       "children": [
        "IPY_MODEL_a7b44988270847eabb0bf8f369e3567b",
        "IPY_MODEL_8ff52e9bec0d4c2bbfd8b2d96b28d24c",
        "IPY_MODEL_85b809c18a6c4a50963c04ccc34d9c28"
       ],
       "layout": "IPY_MODEL_a3d1d6a6d3264b778fe5abd98515f286"
      }
     },
     "7dd1617617fb4690bdaeaa3fb35bf08b": {
      "model_module": "@jupyter-widgets/base",
      "model_module_version": "1.1.0",
      "model_name": "LayoutModel",
      "state": {
       "width": "10%"
      }
     },
     "7ddf9d036e0a4fd1ba6d5e550e37192e": {
      "model_module": "@jupyter-widgets/base",
      "model_module_version": "1.1.0",
      "model_name": "LayoutModel",
      "state": {
       "width": "10%"
      }
     },
     "7de4bc71d0d7463783ec2d2f711f5ab9": {
      "model_module": "@jupyter-widgets/controls",
      "model_module_version": "1.4.0",
      "model_name": "ButtonStyleModel",
      "state": {}
     },
     "7de82c20e27b4ae09c504687e702f660": {
      "model_module": "@jupyter-widgets/base",
      "model_module_version": "1.1.0",
      "model_name": "LayoutModel",
      "state": {
       "width": "10%"
      }
     },
     "7de90746ae6c46d498da287238876c76": {
      "model_module": "@jupyter-widgets/controls",
      "model_module_version": "1.4.0",
      "model_name": "VBoxModel",
      "state": {
       "children": [
        "IPY_MODEL_2c1f9975a0c847ef8b318b3e8916bbbe",
        "IPY_MODEL_5739fdefa9c94f9591fbe4cdaae103ea"
       ],
       "layout": "IPY_MODEL_d1becd5246df4b8c8810d2798ab0d565"
      }
     },
     "7dfc6dfacd81480abb00e166d8fd3b10": {
      "model_module": "@jupyter-widgets/base",
      "model_module_version": "1.1.0",
      "model_name": "LayoutModel",
      "state": {
       "width": "95%"
      }
     },
     "7e0d8c5497d34688b7d6ad4e3c85d07e": {
      "model_module": "@jupyter-widgets/controls",
      "model_module_version": "1.4.0",
      "model_name": "DescriptionStyleModel",
      "state": {
       "description_width": ""
      }
     },
     "7e1d6ae2b6c54ae5913390cab012fd61": {
      "model_module": "@jupyter-widgets/controls",
      "model_module_version": "1.4.0",
      "model_name": "VBoxModel",
      "state": {
       "children": [
        "IPY_MODEL_e4a8f3df411149c59f15d69371c2e8a0",
        "IPY_MODEL_d5ec1d84e8a748f6aedc19b7701af6bb"
       ],
       "layout": "IPY_MODEL_5cfcf6f437c049be9534055ae962fc9b"
      }
     },
     "7e2dc924ad164235b5337003e94f0d21": {
      "model_module": "@jupyter-widgets/controls",
      "model_module_version": "1.4.0",
      "model_name": "HBoxModel",
      "state": {
       "children": [
        "IPY_MODEL_4f3ba3752be94f36b96e5233214ba3c1",
        "IPY_MODEL_7f9c44ae077b4876bf619c2e0d7877d8",
        "IPY_MODEL_f59a87526518409485f7f13846a8e068",
        "IPY_MODEL_c15c960b6eb849908c48b852d8547469",
        "IPY_MODEL_8062172d2fc843a9983f42275d8e8eae",
        "IPY_MODEL_d540278dbc7f488cba6900e6c3da9cb1",
        "IPY_MODEL_99f7edf1db284053bb7b0747a6a21ee1",
        "IPY_MODEL_c240e4f8a0d2450e8c42132245a33c9f",
        "IPY_MODEL_62541aafe9634ad390fe5ceedfeb4533",
        "IPY_MODEL_88cc01fed6ae40e9a31a9d94e337e9ba"
       ],
       "layout": "IPY_MODEL_f4f635fda8584a8ea617b42608a09ee9"
      }
     },
     "7e47386b580c4ad484d98102517a756f": {
      "model_module": "@jupyter-widgets/controls",
      "model_module_version": "1.4.0",
      "model_name": "ButtonModel",
      "state": {
       "description": "2",
       "layout": "IPY_MODEL_31db980a938d4a74960432ec1879b4e8",
       "style": "IPY_MODEL_357f7455a04640a79a31c3fe6a1a7b3d"
      }
     },
     "7e4e7f60521d42ab90af74e4694db69d": {
      "model_module": "@jupyter-widgets/base",
      "model_module_version": "1.1.0",
      "model_name": "LayoutModel",
      "state": {}
     },
     "7e7ee3682d1d4e2fa5a426c795a8c24d": {
      "model_module": "@jupyter-widgets/base",
      "model_module_version": "1.1.0",
      "model_name": "LayoutModel",
      "state": {}
     },
     "7e8aa62f152945609290a02f9f8e20f2": {
      "model_module": "@jupyter-widgets/base",
      "model_module_version": "1.1.0",
      "model_name": "LayoutModel",
      "state": {}
     },
     "7e91ca64df7d4ab692f229c5c3796940": {
      "model_module": "@jupyter-widgets/controls",
      "model_module_version": "1.4.0",
      "model_name": "ButtonModel",
      "state": {
       "description": "1",
       "layout": "IPY_MODEL_a9711dc64b5b4d54b5b50e3644da6431",
       "style": "IPY_MODEL_f2930fdcae5d4ed2b0fdd4a3215b949d"
      }
     },
     "7e957920b0e84a2cabe2b385dd61b760": {
      "model_module": "@jupyter-widgets/base",
      "model_module_version": "1.1.0",
      "model_name": "LayoutModel",
      "state": {}
     },
     "7ea395a2493a479c9f51685e48d24f79": {
      "model_module": "@jupyter-widgets/controls",
      "model_module_version": "1.4.0",
      "model_name": "VBoxModel",
      "state": {
       "children": [
        "IPY_MODEL_dd5a987eb543420f894aec33a08aff2f",
        "IPY_MODEL_de5badd3fcb143319804ae69f820a0fd"
       ],
       "layout": "IPY_MODEL_d7917d1a99ba426c997242337797c5d7"
      }
     },
     "7ebd841b781940c9896cc495c140f5a2": {
      "model_module": "@jupyter-widgets/base",
      "model_module_version": "1.1.0",
      "model_name": "LayoutModel",
      "state": {}
     },
     "7ec7631e5f4149a9a3f7eede80f427f9": {
      "model_module": "@jupyter-widgets/base",
      "model_module_version": "1.1.0",
      "model_name": "LayoutModel",
      "state": {
       "width": "95%"
      }
     },
     "7ed236a2ce0245d9825c04565d56866a": {
      "model_module": "@jupyter-widgets/controls",
      "model_module_version": "1.4.0",
      "model_name": "DescriptionStyleModel",
      "state": {
       "description_width": ""
      }
     },
     "7eea58080fe24972b9dae20ab294a6fa": {
      "model_module": "@jupyter-widgets/base",
      "model_module_version": "1.1.0",
      "model_name": "LayoutModel",
      "state": {
       "width": "10%"
      }
     },
     "7ef10d4e7d93489da8c46098c53403e2": {
      "model_module": "@jupyter-widgets/base",
      "model_module_version": "1.1.0",
      "model_name": "LayoutModel",
      "state": {
       "width": "95%"
      }
     },
     "7f07828d0ff7494898a7ff462fe9aa00": {
      "model_module": "@jupyter-widgets/base",
      "model_module_version": "1.1.0",
      "model_name": "LayoutModel",
      "state": {}
     },
     "7f1adeb0a6354ac3950fb46f85ff089c": {
      "model_module": "@jupyter-widgets/base",
      "model_module_version": "1.1.0",
      "model_name": "LayoutModel",
      "state": {
       "width": "95%"
      }
     },
     "7f1f9ce8ad5444f782d6ab60810d6684": {
      "model_module": "@jupyter-widgets/base",
      "model_module_version": "1.1.0",
      "model_name": "LayoutModel",
      "state": {
       "justify_content": "space-between"
      }
     },
     "7f3922a9a23741909d0a949a13983119": {
      "model_module": "@jupyter-widgets/output",
      "model_module_version": "1.0.0",
      "model_name": "OutputModel",
      "state": {
       "layout": "IPY_MODEL_9c599a30a031482981366bd0d668b40f"
      }
     },
     "7f3f552fc9e54999bf5cf49a8d7cc1d5": {
      "model_module": "@jupyter-widgets/base",
      "model_module_version": "1.1.0",
      "model_name": "LayoutModel",
      "state": {
       "width": "10%"
      }
     },
     "7f4ccb11bf9b48a8b21060111ca7a370": {
      "model_module": "@jupyter-widgets/base",
      "model_module_version": "1.1.0",
      "model_name": "LayoutModel",
      "state": {}
     },
     "7f53e8dec8204b2f963ec80db1688b42": {
      "model_module": "@jupyter-widgets/controls",
      "model_module_version": "1.4.0",
      "model_name": "VBoxModel",
      "state": {
       "children": [
        "IPY_MODEL_357f067e46d746a59ee5324d6ef16daa",
        "IPY_MODEL_e1bd857e41a24bfaa78fb2195d5123c2"
       ],
       "layout": "IPY_MODEL_ff4edc44cffb4871982a41e2da5e820e"
      }
     },
     "7f69c849237d44a9bfba402e3d7d385d": {
      "model_module": "@jupyter-widgets/output",
      "model_module_version": "1.0.0",
      "model_name": "OutputModel",
      "state": {
       "layout": "IPY_MODEL_4ab2b50ba5424296a6723bb96cd190cf"
      }
     },
     "7f732c5e7c93425fad0e7308b35d458a": {
      "model_module": "@jupyter-widgets/base",
      "model_module_version": "1.1.0",
      "model_name": "LayoutModel",
      "state": {}
     },
     "7f7cfa80385d422e916669cba737e8e9": {
      "model_module": "@jupyter-widgets/base",
      "model_module_version": "1.1.0",
      "model_name": "LayoutModel",
      "state": {}
     },
     "7f9c44ae077b4876bf619c2e0d7877d8": {
      "model_module": "@jupyter-widgets/controls",
      "model_module_version": "1.4.0",
      "model_name": "VBoxModel",
      "state": {
       "children": [
        "IPY_MODEL_e0d0361da4f9480ca909c11dbf9ee490",
        "IPY_MODEL_afd7f8e61ed84bd2861bbca0be73aafa"
       ],
       "layout": "IPY_MODEL_6854488624d44f77827844ecb7c59a08"
      }
     },
     "7fdf342e5149487cb1b768120282a424": {
      "model_module": "@jupyter-widgets/controls",
      "model_module_version": "1.4.0",
      "model_name": "ButtonModel",
      "state": {
       "description": "1",
       "layout": "IPY_MODEL_9a95b7987a8546b48b7db66e20901881",
       "style": "IPY_MODEL_02877933f7634934960fc0d80b6fecd5"
      }
     },
     "7fe075302e5d48c892cb8cd1e3d6c7b6": {
      "model_module": "@jupyter-widgets/base",
      "model_module_version": "1.1.0",
      "model_name": "LayoutModel",
      "state": {
       "width": "95%"
      }
     },
     "7fef79979bf74e05812f29b130037c7b": {
      "model_module": "@jupyter-widgets/controls",
      "model_module_version": "1.4.0",
      "model_name": "ButtonModel",
      "state": {
       "description": "3",
       "layout": "IPY_MODEL_dd2bb32428b0499f8ad6909dd01cb196",
       "style": "IPY_MODEL_634073df2da947f8a8e7db98fe700916"
      }
     },
     "8008741eb19a455080083b4a8a213052": {
      "model_module": "@jupyter-widgets/base",
      "model_module_version": "1.1.0",
      "model_name": "LayoutModel",
      "state": {}
     },
     "802596835b984a9db9e8bb9ea95ea749": {
      "model_module": "@jupyter-widgets/output",
      "model_module_version": "1.0.0",
      "model_name": "OutputModel",
      "state": {
       "layout": "IPY_MODEL_2081686a3a7f4dfd9d76afe4676433e3"
      }
     },
     "80259b07bd8d49728e1b5e392bcab228": {
      "model_module": "@jupyter-widgets/controls",
      "model_module_version": "1.4.0",
      "model_name": "ButtonModel",
      "state": {
       "description": "5",
       "layout": "IPY_MODEL_9fe570117115405e84622ec64cebef27",
       "style": "IPY_MODEL_c55896964c3e4f49ac3f85e9e263ff3b"
      }
     },
     "802f4ea6a7a64356a94ed40c630b992f": {
      "model_module": "@jupyter-widgets/base",
      "model_module_version": "1.1.0",
      "model_name": "LayoutModel",
      "state": {}
     },
     "803814054bc3454cb9055063052fd03d": {
      "model_module": "@jupyter-widgets/output",
      "model_module_version": "1.0.0",
      "model_name": "OutputModel",
      "state": {
       "layout": "IPY_MODEL_ec94fa629de54110b2803812ae8c9a74"
      }
     },
     "8040f504247d401fbf236f74b5ee6787": {
      "model_module": "@jupyter-widgets/controls",
      "model_module_version": "1.4.0",
      "model_name": "VBoxModel",
      "state": {
       "children": [
        "IPY_MODEL_6f8626bf35b64ba98199b0ee69073e79",
        "IPY_MODEL_011a2429547e4e62af7ab0f9b383d514"
       ],
       "layout": "IPY_MODEL_4380a778567d4ccabe434601272bb88e"
      }
     },
     "804486f03c6d434087b80516e0898b16": {
      "model_module": "@jupyter-widgets/controls",
      "model_module_version": "1.4.0",
      "model_name": "ButtonStyleModel",
      "state": {}
     },
     "805f0f971e2f4da099b8a5522ea518f2": {
      "model_module": "@jupyter-widgets/base",
      "model_module_version": "1.1.0",
      "model_name": "LayoutModel",
      "state": {}
     },
     "8062172d2fc843a9983f42275d8e8eae": {
      "model_module": "@jupyter-widgets/controls",
      "model_module_version": "1.4.0",
      "model_name": "VBoxModel",
      "state": {
       "children": [
        "IPY_MODEL_640eba52066a4e40bb2eca2e9b4e4c91",
        "IPY_MODEL_d78a5b9f6de64c47a0e5fc1ee2e0b9b3"
       ],
       "layout": "IPY_MODEL_44508042ece9459a9a2462b7d7375f10"
      }
     },
     "8090f2d73a0d4a6e84598b21e507afcf": {
      "model_module": "@jupyter-widgets/controls",
      "model_module_version": "1.4.0",
      "model_name": "ButtonStyleModel",
      "state": {}
     },
     "80aeb82d1a324182bbcc9b4764fa35de": {
      "model_module": "@jupyter-widgets/base",
      "model_module_version": "1.1.0",
      "model_name": "LayoutModel",
      "state": {
       "width": "10%"
      }
     },
     "80b4025ad6b945c2883d6ea14f228fea": {
      "model_module": "@jupyter-widgets/output",
      "model_module_version": "1.0.0",
      "model_name": "OutputModel",
      "state": {
       "layout": "IPY_MODEL_61f7677b4d0f4de2a0d98b4953110cfb"
      }
     },
     "812f69ae315f474ea5cdba3410d85180": {
      "model_module": "@jupyter-widgets/base",
      "model_module_version": "1.1.0",
      "model_name": "LayoutModel",
      "state": {
       "justify_content": "space-between"
      }
     },
     "815d96f6beb844b1a1cd31faabe242e4": {
      "model_module": "@jupyter-widgets/controls",
      "model_module_version": "1.4.0",
      "model_name": "ButtonModel",
      "state": {
       "description": "8",
       "layout": "IPY_MODEL_dc3bc34555074b88ae82e7b6929df89f",
       "style": "IPY_MODEL_1614c9fab1c8456a9ff22e0887fa2f93"
      }
     },
     "816cc515318d43178a219a1d8873e5eb": {
      "model_module": "@jupyter-widgets/base",
      "model_module_version": "1.1.0",
      "model_name": "LayoutModel",
      "state": {
       "width": "95%"
      }
     },
     "8184bac8f1a64344af59f85e23d95852": {
      "model_module": "@jupyter-widgets/controls",
      "model_module_version": "1.4.0",
      "model_name": "VBoxModel",
      "state": {
       "children": [
        "IPY_MODEL_949b0cace09b40ff9b3ffb1208875ce4",
        "IPY_MODEL_1ae0a060b6264efbaece0c5710972fca"
       ],
       "layout": "IPY_MODEL_1c3b35b53a5848bbb1013f969fd585df"
      }
     },
     "81907aed06e047a0b42c66666e670a48": {
      "model_module": "@jupyter-widgets/controls",
      "model_module_version": "1.4.0",
      "model_name": "ButtonStyleModel",
      "state": {}
     },
     "819d44a8ff92401190f8f1d47da09d66": {
      "model_module": "@jupyter-widgets/base",
      "model_module_version": "1.1.0",
      "model_name": "LayoutModel",
      "state": {
       "width": "10%"
      }
     },
     "81cfe1107ef84d648cb8d2a385e3316e": {
      "model_module": "@jupyter-widgets/controls",
      "model_module_version": "1.4.0",
      "model_name": "ButtonStyleModel",
      "state": {}
     },
     "81f02f36f13b4427be47b0be51bb8212": {
      "model_module": "@jupyter-widgets/controls",
      "model_module_version": "1.4.0",
      "model_name": "VBoxModel",
      "state": {
       "children": [
        "IPY_MODEL_bf959cabd6554ac5814597f645581baa",
        "IPY_MODEL_f215b2907760430cac892ac289a5448f"
       ],
       "layout": "IPY_MODEL_1dac797d62474fa69217f96215ebd688"
      }
     },
     "81f4a3e5a8304679a69234d4e3f5dbbf": {
      "model_module": "@jupyter-widgets/controls",
      "model_module_version": "1.4.0",
      "model_name": "VBoxModel",
      "state": {
       "children": [
        "IPY_MODEL_6a4f39dab4934b4bb4694574264fd5d0",
        "IPY_MODEL_09bc3ec40f1b459e8403462be65f3185"
       ],
       "layout": "IPY_MODEL_ae26f66012ff4eadb845f037c92649fe"
      }
     },
     "820d5eca8870435183dfdbd99389e706": {
      "model_module": "@jupyter-widgets/controls",
      "model_module_version": "1.4.0",
      "model_name": "ButtonModel",
      "state": {
       "description": "2",
       "layout": "IPY_MODEL_0902b50eaff04238b1a3851251d403db",
       "style": "IPY_MODEL_33ded449146c4db5bb4896db9b9f6ba3"
      }
     },
     "82209664ac9942e49a7fe4bc9cdee191": {
      "model_module": "@jupyter-widgets/base",
      "model_module_version": "1.1.0",
      "model_name": "LayoutModel",
      "state": {}
     },
     "823bb4f8392c46c59496542c1750c92d": {
      "model_module": "@jupyter-widgets/base",
      "model_module_version": "1.1.0",
      "model_name": "LayoutModel",
      "state": {
       "width": "10%"
      }
     },
     "8246c5c447b240468e4d203379de0bff": {
      "model_module": "@jupyter-widgets/controls",
      "model_module_version": "1.4.0",
      "model_name": "VBoxModel",
      "state": {
       "children": [
        "IPY_MODEL_aac765969d674ec38bdb36ca2fe8ebd8",
        "IPY_MODEL_38ab4bebf07c402bbf336d7d3c02b545"
       ],
       "layout": "IPY_MODEL_1e03efaea56b4274b7acc42ff3f94675"
      }
     },
     "8263ff3888804ea18ee3103a71c6971f": {
      "model_module": "@jupyter-widgets/base",
      "model_module_version": "1.1.0",
      "model_name": "LayoutModel",
      "state": {
       "width": "95%"
      }
     },
     "827de104f9c043e094cb7d06c9251fef": {
      "model_module": "@jupyter-widgets/controls",
      "model_module_version": "1.4.0",
      "model_name": "ButtonModel",
      "state": {
       "description": "7",
       "layout": "IPY_MODEL_70b28be889184f12b65a3ab323f3dfd3",
       "style": "IPY_MODEL_b5d8a9129dbb419e93f0d27aca80f306"
      }
     },
     "82a5baff31494bea9230ef303b903ebf": {
      "model_module": "@jupyter-widgets/output",
      "model_module_version": "1.0.0",
      "model_name": "OutputModel",
      "state": {
       "layout": "IPY_MODEL_93258dbf48094ff5bdf79d810d9efa97"
      }
     },
     "82f0a8b2928f4a82ab9722033c7e1ef9": {
      "model_module": "@jupyter-widgets/base",
      "model_module_version": "1.1.0",
      "model_name": "LayoutModel",
      "state": {}
     },
     "832dc7aecce8486db580d1b9f092c35d": {
      "model_module": "@jupyter-widgets/controls",
      "model_module_version": "1.4.0",
      "model_name": "ButtonModel",
      "state": {
       "description": "6",
       "layout": "IPY_MODEL_3842c9ef67eb49dc92d34f3272d1f053",
       "style": "IPY_MODEL_1b410a6795704293b79ac83ca9429236"
      }
     },
     "8331fe4573884c798d9ca1aab3dca794": {
      "model_module": "@jupyter-widgets/output",
      "model_module_version": "1.0.0",
      "model_name": "OutputModel",
      "state": {
       "layout": "IPY_MODEL_db3a1402519946c7a2030ba5a21e8564"
      }
     },
     "8355547fe6f846498695bda7f12c04aa": {
      "model_module": "@jupyter-widgets/base",
      "model_module_version": "1.1.0",
      "model_name": "LayoutModel",
      "state": {
       "width": "95%"
      }
     },
     "8356aabb4cb54e1386ca76e6f85fea81": {
      "model_module": "@jupyter-widgets/output",
      "model_module_version": "1.0.0",
      "model_name": "OutputModel",
      "state": {
       "layout": "IPY_MODEL_8ca2736590894bf99b7ff917943b06f2"
      }
     },
     "836c70ef27a74bed9e5bd141eb4d80d1": {
      "model_module": "@jupyter-widgets/controls",
      "model_module_version": "1.4.0",
      "model_name": "DescriptionStyleModel",
      "state": {
       "description_width": ""
      }
     },
     "8391ec289d9d48ea98772870a99ecfdb": {
      "model_module": "@jupyter-widgets/base",
      "model_module_version": "1.1.0",
      "model_name": "LayoutModel",
      "state": {
       "width": "10%"
      }
     },
     "8393c5a721e94559b08ab0512366fca3": {
      "model_module": "@jupyter-widgets/controls",
      "model_module_version": "1.4.0",
      "model_name": "ButtonStyleModel",
      "state": {}
     },
     "83aa99591a6d41a7bb2a78483efe3cbc": {
      "model_module": "@jupyter-widgets/output",
      "model_module_version": "1.0.0",
      "model_name": "OutputModel",
      "state": {
       "layout": "IPY_MODEL_6a0814f7648349e1918c4330e329fc44"
      }
     },
     "83abb76a1c884dbdbe1a29639e23377f": {
      "model_module": "@jupyter-widgets/base",
      "model_module_version": "1.1.0",
      "model_name": "LayoutModel",
      "state": {}
     },
     "83ae8380b4694314a545a58880450a16": {
      "model_module": "@jupyter-widgets/base",
      "model_module_version": "1.1.0",
      "model_name": "LayoutModel",
      "state": {
       "width": "95%"
      }
     },
     "83b85eaf19c545c390e15e1186c5b81f": {
      "model_module": "@jupyter-widgets/base",
      "model_module_version": "1.1.0",
      "model_name": "LayoutModel",
      "state": {}
     },
     "83ca70b28a3d46faa473013289b3938c": {
      "model_module": "@jupyter-widgets/controls",
      "model_module_version": "1.4.0",
      "model_name": "ButtonModel",
      "state": {
       "description": "9",
       "layout": "IPY_MODEL_3b0f7338737a4e13bc09822b82d32364",
       "style": "IPY_MODEL_bbf2f74317034cec92e7e96b331dd4ff"
      }
     },
     "83f18692ff8e46fdad187dd05f0f2a78": {
      "model_module": "@jupyter-widgets/controls",
      "model_module_version": "1.4.0",
      "model_name": "VBoxModel",
      "state": {
       "children": [
        "IPY_MODEL_7194f54c922f435290b4cedc9f651b33",
        "IPY_MODEL_4ee4a246db3d489b9a1cfdfdba8e2008"
       ],
       "layout": "IPY_MODEL_64addd0b3a1441db90e8168ae0193c2c"
      }
     },
     "83f6f8e0710f4b6ea4ee1f4024c61304": {
      "model_module": "@jupyter-widgets/base",
      "model_module_version": "1.1.0",
      "model_name": "LayoutModel",
      "state": {
       "width": "95%"
      }
     },
     "83fbc19584ce44b49b4af1b78a5c3fea": {
      "model_module": "@jupyter-widgets/controls",
      "model_module_version": "1.4.0",
      "model_name": "ButtonModel",
      "state": {
       "description": "3",
       "layout": "IPY_MODEL_c7967335a41b4aa9bc7d1dd8f9b0b6eb",
       "style": "IPY_MODEL_ad37e17ddd60456daa505fa7efccbf8e"
      }
     },
     "8406f2b26b75476ba9670eca9ab4bf74": {
      "model_module": "@jupyter-widgets/controls",
      "model_module_version": "1.4.0",
      "model_name": "VBoxModel",
      "state": {
       "children": [
        "IPY_MODEL_6113baa44f934f28b4db1eef9b239320",
        "IPY_MODEL_9ea2682fe0d542ea8ede17fd814e2e61"
       ],
       "layout": "IPY_MODEL_1481600156ba463f98d683673b3b9874"
      }
     },
     "8436055ea71e4d61ba501a436ec51940": {
      "model_module": "@jupyter-widgets/base",
      "model_module_version": "1.1.0",
      "model_name": "LayoutModel",
      "state": {
       "width": "10%"
      }
     },
     "8438c0c53ffa41549f27794bd93ba24e": {
      "model_module": "@jupyter-widgets/base",
      "model_module_version": "1.1.0",
      "model_name": "LayoutModel",
      "state": {
       "width": "95%"
      }
     },
     "84396527f44b4111b660af1414e070e9": {
      "model_module": "@jupyter-widgets/controls",
      "model_module_version": "1.4.0",
      "model_name": "VBoxModel",
      "state": {
       "children": [
        "IPY_MODEL_a4f38f6b09344ac691964c87abc8e59d",
        "IPY_MODEL_bf3845d45ef34338af2d0824e4069bcc"
       ],
       "layout": "IPY_MODEL_a9b1f43c50b34239a887af06aafccd7d"
      }
     },
     "843aff4148e44fd7b0e352f6e7659f9a": {
      "model_module": "@jupyter-widgets/controls",
      "model_module_version": "1.4.0",
      "model_name": "ButtonStyleModel",
      "state": {}
     },
     "843cb043ef63453faf09868b542c4ee4": {
      "model_module": "@jupyter-widgets/base",
      "model_module_version": "1.1.0",
      "model_name": "LayoutModel",
      "state": {
       "width": "95%"
      }
     },
     "8445978bce4e49fd862f25770f69cd32": {
      "model_module": "@jupyter-widgets/controls",
      "model_module_version": "1.4.0",
      "model_name": "ButtonModel",
      "state": {
       "description": "2",
       "layout": "IPY_MODEL_3c8488bbabf2425aa395bc298fe09af4",
       "style": "IPY_MODEL_a963eaecc640400bb1055259509b352c"
      }
     },
     "8455a92560b44d6096dcf6964087f303": {
      "model_module": "@jupyter-widgets/controls",
      "model_module_version": "1.4.0",
      "model_name": "ButtonModel",
      "state": {
       "description": "6",
       "layout": "IPY_MODEL_90f6a220efe947848c30f9a5a5a1983f",
       "style": "IPY_MODEL_1903dfdcda194c8cb7bf8ed3ecc648db"
      }
     },
     "8466ce05f4cb47a89d41707995194b17": {
      "model_module": "@jupyter-widgets/base",
      "model_module_version": "1.1.0",
      "model_name": "LayoutModel",
      "state": {}
     },
     "847a8b8ae9fc4d19af9909da4c9a49aa": {
      "model_module": "@jupyter-widgets/base",
      "model_module_version": "1.1.0",
      "model_name": "LayoutModel",
      "state": {
       "width": "10%"
      }
     },
     "847be8ef7874491a8095671f3b4ec5d7": {
      "model_module": "@jupyter-widgets/controls",
      "model_module_version": "1.4.0",
      "model_name": "VBoxModel",
      "state": {
       "children": [
        "IPY_MODEL_da797c91c7a3490183846911889396af",
        "IPY_MODEL_65132faeaac948aa8c676084c9ea5876"
       ],
       "layout": "IPY_MODEL_70624b2f9b1549ea8ed768c401209477"
      }
     },
     "847fdea6bc7f4c25a169fa6909458ade": {
      "model_module": "@jupyter-widgets/base",
      "model_module_version": "1.1.0",
      "model_name": "LayoutModel",
      "state": {}
     },
     "8486014a77464afc849172a4f964de56": {
      "model_module": "@jupyter-widgets/base",
      "model_module_version": "1.1.0",
      "model_name": "LayoutModel",
      "state": {}
     },
     "84adc9ceb0d24c5fb7c8b7e76a0186f7": {
      "model_module": "@jupyter-widgets/controls",
      "model_module_version": "1.4.0",
      "model_name": "ButtonModel",
      "state": {
       "description": "1",
       "layout": "IPY_MODEL_40fc692e7e78485ab4eabd3b6ef868d6",
       "style": "IPY_MODEL_992f849fe0944a05806bb26d3df18d30"
      }
     },
     "84c50850ee924c80836715c0904a5937": {
      "model_module": "@jupyter-widgets/output",
      "model_module_version": "1.0.0",
      "model_name": "OutputModel",
      "state": {
       "layout": "IPY_MODEL_262bac3b4e18492ea089afa9beb90431"
      }
     },
     "84cb3128fe8148179b9e5e223dbf550c": {
      "model_module": "@jupyter-widgets/base",
      "model_module_version": "1.1.0",
      "model_name": "LayoutModel",
      "state": {}
     },
     "84e56881676b4eedb8af5c9ce64874df": {
      "model_module": "@jupyter-widgets/base",
      "model_module_version": "1.1.0",
      "model_name": "LayoutModel",
      "state": {
       "width": "10%"
      }
     },
     "84e63ca6ed6a4aa78d992ca4bd16e46f": {
      "model_module": "@jupyter-widgets/base",
      "model_module_version": "1.1.0",
      "model_name": "LayoutModel",
      "state": {
       "width": "95%"
      }
     },
     "84f85081533f47c189531ff3f6ef7c55": {
      "model_module": "@jupyter-widgets/base",
      "model_module_version": "1.1.0",
      "model_name": "LayoutModel",
      "state": {}
     },
     "852420bf38bb4b248c0c70c83b3a0caa": {
      "model_module": "@jupyter-widgets/controls",
      "model_module_version": "1.4.0",
      "model_name": "ButtonStyleModel",
      "state": {}
     },
     "853f4eb93b164b46aa51614209f15dbc": {
      "model_module": "@jupyter-widgets/controls",
      "model_module_version": "1.4.0",
      "model_name": "VBoxModel",
      "state": {
       "children": [
        "IPY_MODEL_791c68cec42044daaa4863fd6a3c56ef",
        "IPY_MODEL_6443ada069fc40839af497417984da40"
       ],
       "layout": "IPY_MODEL_e5bf138ed2a64f02ad7d4a098a3328c5"
      }
     },
     "858e703ac7b548ebbeffba7fddf748b2": {
      "model_module": "@jupyter-widgets/base",
      "model_module_version": "1.1.0",
      "model_name": "LayoutModel",
      "state": {
       "width": "10%"
      }
     },
     "859d15a76ab74fa998814619ea4437f4": {
      "model_module": "@jupyter-widgets/base",
      "model_module_version": "1.1.0",
      "model_name": "LayoutModel",
      "state": {}
     },
     "85a4db6528c54ca5a88f6c32d7a89902": {
      "model_module": "@jupyter-widgets/base",
      "model_module_version": "1.1.0",
      "model_name": "LayoutModel",
      "state": {
       "width": "10%"
      }
     },
     "85b5b29cb95e4fdca3f9ab3ed4b1350f": {
      "model_module": "@jupyter-widgets/output",
      "model_module_version": "1.0.0",
      "model_name": "OutputModel",
      "state": {
       "layout": "IPY_MODEL_bc76a3fa49054f80ae7a9583c7b0a26f"
      }
     },
     "85b809c18a6c4a50963c04ccc34d9c28": {
      "model_module": "@jupyter-widgets/controls",
      "model_module_version": "1.4.0",
      "model_name": "ButtonModel",
      "state": {
       "description": "Undo",
       "icon": "undo",
       "layout": "IPY_MODEL_54f3b0d1ac3a4e59b885a77bd01b97c3",
       "style": "IPY_MODEL_1d56ff24a50d4630ba49d36b6d811227"
      }
     },
     "85da0d349eb640638fdf0570addc31a7": {
      "model_module": "@jupyter-widgets/base",
      "model_module_version": "1.1.0",
      "model_name": "LayoutModel",
      "state": {
       "width": "95%"
      }
     },
     "86025b8db64747bf9b6c1837035bf2f3": {
      "model_module": "@jupyter-widgets/base",
      "model_module_version": "1.1.0",
      "model_name": "LayoutModel",
      "state": {
       "width": "10%"
      }
     },
     "8608989c24bf45d58cc04a269deeef45": {
      "model_module": "@jupyter-widgets/output",
      "model_module_version": "1.0.0",
      "model_name": "OutputModel",
      "state": {
       "layout": "IPY_MODEL_21eaf1521f8a4bf7a55fbffb80682f05"
      }
     },
     "861515876e87446b81f1fd14b7d6fb0c": {
      "model_module": "@jupyter-widgets/controls",
      "model_module_version": "1.4.0",
      "model_name": "ButtonModel",
      "state": {
       "description": "3",
       "layout": "IPY_MODEL_00a99a675e974ea0b678656eec8075e2",
       "style": "IPY_MODEL_7033aa7a679041a486bda0a6253556e8"
      }
     },
     "8643f7a6898f401da27837332227637d": {
      "model_module": "@jupyter-widgets/controls",
      "model_module_version": "1.4.0",
      "model_name": "ButtonModel",
      "state": {
       "description": "3",
       "layout": "IPY_MODEL_d720d38b45c6447abb75f98cab3cce16",
       "style": "IPY_MODEL_8932d1b8c977469fa2cc1f31ec958c72"
      }
     },
     "865ea499d4ed47ab8d3078efeec076a4": {
      "model_module": "@jupyter-widgets/base",
      "model_module_version": "1.1.0",
      "model_name": "LayoutModel",
      "state": {
       "width": "95%"
      }
     },
     "8667fe3d054d4dad99f64d18104a94bb": {
      "model_module": "@jupyter-widgets/output",
      "model_module_version": "1.0.0",
      "model_name": "OutputModel",
      "state": {
       "layout": "IPY_MODEL_a9610ff93d574d43a7a21b496fb1d6da"
      }
     },
     "86687a185a0845cea94f4a3bdd9e52f4": {
      "model_module": "@jupyter-widgets/base",
      "model_module_version": "1.1.0",
      "model_name": "LayoutModel",
      "state": {
       "width": "95%"
      }
     },
     "866f9062ee784494a951b8e404c2c8d5": {
      "model_module": "@jupyter-widgets/controls",
      "model_module_version": "1.4.0",
      "model_name": "VBoxModel",
      "state": {
       "children": [
        "IPY_MODEL_18c452b0286b4ece9dddbad63a0c9cb8",
        "IPY_MODEL_cc476bfd58f445b99a43640642a8e521"
       ],
       "layout": "IPY_MODEL_fd86ec101d0948599273202ae2a59890"
      }
     },
     "8686cbd30c3c471183ad8e4c13dcae76": {
      "model_module": "@jupyter-widgets/controls",
      "model_module_version": "1.4.0",
      "model_name": "HBoxModel",
      "state": {
       "children": [
        "IPY_MODEL_5cad3bff8fce42589fcb2be353c81d56",
        "IPY_MODEL_0894d18ad7354a3586b34c11cc4015c0",
        "IPY_MODEL_206a8ff5beca457f8ef59519531cb197",
        "IPY_MODEL_f8d0b78f152c43259f2c3f217604ca19",
        "IPY_MODEL_2c36a33e9b0b43ef9492b1d4d43672f8",
        "IPY_MODEL_f0cf5f61e8ec482c8220687269a0929b",
        "IPY_MODEL_14cfaa778b13425cb5ec7f6cb76198b8",
        "IPY_MODEL_196881203c464310b443a06099a9957a",
        "IPY_MODEL_d6882c2d91264462a305f8e7dbc9f734",
        "IPY_MODEL_4e84d277f61a45be9a46d40f974b7f49"
       ],
       "layout": "IPY_MODEL_3478ec783372480cb2ed1269a70554e7"
      }
     },
     "86924ae029294004b0cbe24db676d819": {
      "model_module": "@jupyter-widgets/controls",
      "model_module_version": "1.4.0",
      "model_name": "VBoxModel",
      "state": {
       "children": [
        "IPY_MODEL_ec8ab157d82e4ba5b57326a3b5bccd6f",
        "IPY_MODEL_fae9593060484ee68785f25ec8d38102"
       ],
       "layout": "IPY_MODEL_d51bc37576204b878a61150366fac805"
      }
     },
     "86bd69dfa0f6447fac341ecfe3b89d27": {
      "model_module": "@jupyter-widgets/base",
      "model_module_version": "1.1.0",
      "model_name": "LayoutModel",
      "state": {
       "width": "10%"
      }
     },
     "86ce93c79b0e42759297f2dcc2f4b6a0": {
      "model_module": "@jupyter-widgets/base",
      "model_module_version": "1.1.0",
      "model_name": "LayoutModel",
      "state": {}
     },
     "86d3b4fbd8874e32805551e75961058e": {
      "model_module": "@jupyter-widgets/controls",
      "model_module_version": "1.4.0",
      "model_name": "VBoxModel",
      "state": {
       "children": [
        "IPY_MODEL_0894ec5e13e540bba50627e5f92da914",
        "IPY_MODEL_d4d156e40437485b941bc86c06b9f830"
       ],
       "layout": "IPY_MODEL_fea1eea72288478b80ab9e3081ec99ef"
      }
     },
     "86f479a2d7d64c18b075ef1046ac1675": {
      "model_module": "@jupyter-widgets/base",
      "model_module_version": "1.1.0",
      "model_name": "LayoutModel",
      "state": {}
     },
     "870258f489ac465286f02e84dc7234fd": {
      "model_module": "@jupyter-widgets/controls",
      "model_module_version": "1.4.0",
      "model_name": "ButtonModel",
      "state": {
       "description": "5",
       "layout": "IPY_MODEL_cd560e9a9dee497aba4d764b6b8586f8",
       "style": "IPY_MODEL_9fdd8335834f4e2faf68039b29a6b5cb"
      }
     },
     "8719cecbaa4341b3a91c72a54c0a6c8d": {
      "model_module": "@jupyter-widgets/controls",
      "model_module_version": "1.4.0",
      "model_name": "VBoxModel",
      "state": {
       "children": [
        "IPY_MODEL_2d59a0e309ec4329b5af3ec024c0c68e",
        "IPY_MODEL_ce8ced44d9624ee6be929d5581c206b9"
       ],
       "layout": "IPY_MODEL_edcfeac89d70488494e772fcbe18f50a"
      }
     },
     "871fa8763b2548cba2df5d127dc9e63d": {
      "model_module": "@jupyter-widgets/base",
      "model_module_version": "1.1.0",
      "model_name": "LayoutModel",
      "state": {
       "width": "95%"
      }
     },
     "872e51a4dddd4bee8a674e4c9c1e5b13": {
      "model_module": "@jupyter-widgets/controls",
      "model_module_version": "1.4.0",
      "model_name": "TextModel",
      "state": {
       "description": "Other:",
       "layout": "IPY_MODEL_8c1c7d5a5fbe44ccb234bccaaa86be32",
       "placeholder": "Hit enter to submit.",
       "style": "IPY_MODEL_147665b3713c44b2b7dbd4607be01cdc"
      }
     },
     "8784f50ffd8d4afe9ee9fcc3a5c727be": {
      "model_module": "@jupyter-widgets/base",
      "model_module_version": "1.1.0",
      "model_name": "LayoutModel",
      "state": {
       "width": "10%"
      }
     },
     "878abc9f0387403fb96f7193403e89d4": {
      "model_module": "@jupyter-widgets/controls",
      "model_module_version": "1.4.0",
      "model_name": "VBoxModel",
      "state": {
       "children": [
        "IPY_MODEL_5bb738c9fd384e6a8586b4c9d3f7aa6c",
        "IPY_MODEL_fe9a609842574324b508a50c83bc57ca"
       ],
       "layout": "IPY_MODEL_a303853b5f654aa984efca98bc34665f"
      }
     },
     "8794b2211e434e09b6cb1566abb4c17a": {
      "model_module": "@jupyter-widgets/controls",
      "model_module_version": "1.4.0",
      "model_name": "ButtonModel",
      "state": {
       "description": "6",
       "layout": "IPY_MODEL_c7d6273192ad4112a6c8b3431b441d5a",
       "style": "IPY_MODEL_21b3619b82c2473a85685d1ab69bf3cd"
      }
     },
     "87954b3c6f29426b87f428f05a13789c": {
      "model_module": "@jupyter-widgets/base",
      "model_module_version": "1.1.0",
      "model_name": "LayoutModel",
      "state": {
       "width": "95%"
      }
     },
     "87a661f067e546a59a47c0a502c536ee": {
      "model_module": "@jupyter-widgets/output",
      "model_module_version": "1.0.0",
      "model_name": "OutputModel",
      "state": {
       "layout": "IPY_MODEL_fe9f33321cf1401d913dffb4f72f3075"
      }
     },
     "87ba984bd81c4054a2a02ed5a85e31ff": {
      "model_module": "@jupyter-widgets/controls",
      "model_module_version": "1.4.0",
      "model_name": "ButtonStyleModel",
      "state": {}
     },
     "87d11900d6d8454b8d277fe7f1f3c89e": {
      "model_module": "@jupyter-widgets/controls",
      "model_module_version": "1.4.0",
      "model_name": "ButtonModel",
      "state": {
       "description": "1",
       "layout": "IPY_MODEL_93d37a659d2e47e8a9c18e30727a67ba",
       "style": "IPY_MODEL_aad19b27ddfe4f66a1124c9eda038883"
      }
     },
     "87e02ccc66184042805926cb3371c5c1": {
      "model_module": "@jupyter-widgets/controls",
      "model_module_version": "1.4.0",
      "model_name": "HBoxModel",
      "state": {
       "children": [
        "IPY_MODEL_a5f62c5e09aa4b2ca9d2216b21045ed9",
        "IPY_MODEL_168ed0a7e4cc48aca69c0c3b23908f21",
        "IPY_MODEL_c31b4ee96fdb4f9a8544b707290b97f4",
        "IPY_MODEL_44ed55b8401d4de9bfe450d40e1de0dc",
        "IPY_MODEL_86d3b4fbd8874e32805551e75961058e",
        "IPY_MODEL_6f6a12004d184c8ea42e1eff631beac4",
        "IPY_MODEL_01568bb4d3bd405d8e12a046f8c0e568",
        "IPY_MODEL_951e18c3978d4646b76baa90f7a91c15",
        "IPY_MODEL_1dbe0d5485a44fed942f184bc7bbf237",
        "IPY_MODEL_fcb0c8107c5947ed98eea7fd34bc8a6b"
       ],
       "layout": "IPY_MODEL_e39da223a6d34f61ac1a5238afb2d87d"
      }
     },
     "87e546a9da9848a6829c2ecfb6d60c24": {
      "model_module": "@jupyter-widgets/base",
      "model_module_version": "1.1.0",
      "model_name": "LayoutModel",
      "state": {
       "width": "10%"
      }
     },
     "880b09b11f2a46088bb1b0a02483fdd2": {
      "model_module": "@jupyter-widgets/controls",
      "model_module_version": "1.4.0",
      "model_name": "HBoxModel",
      "state": {
       "children": [
        "IPY_MODEL_a7b44988270847eabb0bf8f369e3567b",
        "IPY_MODEL_8ff52e9bec0d4c2bbfd8b2d96b28d24c",
        "IPY_MODEL_85b809c18a6c4a50963c04ccc34d9c28"
       ],
       "layout": "IPY_MODEL_2831212355034136a6584842c0290f76"
      }
     },
     "881523a06e3142a2b0a12b82c6b757dc": {
      "model_module": "@jupyter-widgets/base",
      "model_module_version": "1.1.0",
      "model_name": "LayoutModel",
      "state": {
       "width": "95%"
      }
     },
     "881e2f80cfca41b381c1feeebfee64f8": {
      "model_module": "@jupyter-widgets/controls",
      "model_module_version": "1.4.0",
      "model_name": "ButtonModel",
      "state": {
       "description": "7",
       "layout": "IPY_MODEL_920b90c093ba436d9f21a08f56db1d58",
       "style": "IPY_MODEL_06f012f7e8b1417b977bb17d23e99838"
      }
     },
     "882d6c28513141ffb7433dd5ae878055": {
      "model_module": "@jupyter-widgets/controls",
      "model_module_version": "1.4.0",
      "model_name": "ButtonModel",
      "state": {
       "description": "2",
       "layout": "IPY_MODEL_e7d356d7dc2c420fa05929032cc75610",
       "style": "IPY_MODEL_fd5a250f30ce4de9abf2f83afa3c2149"
      }
     },
     "88389985c9774c32aa4ff109fadf27f1": {
      "model_module": "@jupyter-widgets/controls",
      "model_module_version": "1.4.0",
      "model_name": "ButtonModel",
      "state": {
       "description": "7",
       "layout": "IPY_MODEL_0f295343b67d474d8c0ac7fc86ef9be9",
       "style": "IPY_MODEL_d5fd500f94ef4de5ab636dd54baca758"
      }
     },
     "88644f84979c4b009046ea11bfbe2c71": {
      "model_module": "@jupyter-widgets/controls",
      "model_module_version": "1.4.0",
      "model_name": "ButtonModel",
      "state": {
       "description": "0",
       "layout": "IPY_MODEL_5eb199e7925f4e3594e28794d25862a8",
       "style": "IPY_MODEL_4d218671aa3643f8b4ee0466f15f4eb5"
      }
     },
     "88653dbdb0f346f5b15f77b3b11abb23": {
      "model_module": "@jupyter-widgets/controls",
      "model_module_version": "1.4.0",
      "model_name": "ButtonModel",
      "state": {
       "description": "2",
       "layout": "IPY_MODEL_4715f2ca75f34c2292f0a5db044f5293",
       "style": "IPY_MODEL_ed14e77d232f4526ad99757beaccc397"
      }
     },
     "88703758e8e645ba9da976b740ea3b7c": {
      "model_module": "@jupyter-widgets/base",
      "model_module_version": "1.1.0",
      "model_name": "LayoutModel",
      "state": {
       "width": "95%"
      }
     },
     "88808ebddd47450b85c88cfa4e9e180d": {
      "model_module": "@jupyter-widgets/controls",
      "model_module_version": "1.4.0",
      "model_name": "ButtonModel",
      "state": {
       "description": "2",
       "layout": "IPY_MODEL_39531db5ebde4921b5aed0025bb65aa6",
       "style": "IPY_MODEL_d0497bdaf4404c638cd4d1bdc2c38482"
      }
     },
     "88944e86437d43c18b35d16898177645": {
      "model_module": "@jupyter-widgets/base",
      "model_module_version": "1.1.0",
      "model_name": "LayoutModel",
      "state": {}
     },
     "889f6345420f45a7b1e57eaeaf49c940": {
      "model_module": "@jupyter-widgets/controls",
      "model_module_version": "1.4.0",
      "model_name": "ButtonModel",
      "state": {
       "description": "8",
       "layout": "IPY_MODEL_34a2fda3baf640eda7320a13dcb72968",
       "style": "IPY_MODEL_cf72aa3b7f4b40ffad8511922b40469b"
      }
     },
     "88adc44606b44ef0b1b99e109c3543d4": {
      "model_module": "@jupyter-widgets/controls",
      "model_module_version": "1.4.0",
      "model_name": "VBoxModel",
      "state": {
       "children": [
        "IPY_MODEL_5a513d66c9b645e78a1b9e2801f53fa3",
        "IPY_MODEL_9f0aec11e2104d5faab08b66664f9e58"
       ],
       "layout": "IPY_MODEL_21402588d04f46c3b4136c124d7f6af9"
      }
     },
     "88cc01fed6ae40e9a31a9d94e337e9ba": {
      "model_module": "@jupyter-widgets/controls",
      "model_module_version": "1.4.0",
      "model_name": "VBoxModel",
      "state": {
       "children": [
        "IPY_MODEL_13d33d4a7ec64942b1581576dd119fc3",
        "IPY_MODEL_378611ffb7b44c0da68908f8302d5427"
       ],
       "layout": "IPY_MODEL_4083ec4be9574589a998c7249b1a4071"
      }
     },
     "88d5d667a2504830a63de9c7900f3a3b": {
      "model_module": "@jupyter-widgets/controls",
      "model_module_version": "1.4.0",
      "model_name": "ButtonModel",
      "state": {
       "description": "2",
       "layout": "IPY_MODEL_526c89dcac0743a78d58a2a06ba38f00",
       "style": "IPY_MODEL_48fd1529f76f415fa496cd5f21135269"
      }
     },
     "88e3c912b3494a6db45d259b6e3eec1d": {
      "model_module": "@jupyter-widgets/base",
      "model_module_version": "1.1.0",
      "model_name": "LayoutModel",
      "state": {}
     },
     "8911ab7c6ccf4540ba352e0aa1ee3ace": {
      "model_module": "@jupyter-widgets/controls",
      "model_module_version": "1.4.0",
      "model_name": "ButtonStyleModel",
      "state": {}
     },
     "8912592834a44f64a31b4e815d34aca7": {
      "model_module": "@jupyter-widgets/base",
      "model_module_version": "1.1.0",
      "model_name": "LayoutModel",
      "state": {
       "width": "95%"
      }
     },
     "891720011a4446e88692ac710dc07638": {
      "model_module": "@jupyter-widgets/output",
      "model_module_version": "1.0.0",
      "model_name": "OutputModel",
      "state": {
       "layout": "IPY_MODEL_d8aaed146d884d12ab5a64ecbf33dc8c"
      }
     },
     "8932d1b8c977469fa2cc1f31ec958c72": {
      "model_module": "@jupyter-widgets/controls",
      "model_module_version": "1.4.0",
      "model_name": "ButtonStyleModel",
      "state": {}
     },
     "8935a9d5d40041c0b5ea3048a0029c74": {
      "model_module": "@jupyter-widgets/base",
      "model_module_version": "1.1.0",
      "model_name": "LayoutModel",
      "state": {
       "width": "95%"
      }
     },
     "89381990ab1d48e2a04c4b75687a95a8": {
      "model_module": "@jupyter-widgets/output",
      "model_module_version": "1.0.0",
      "model_name": "OutputModel",
      "state": {
       "layout": "IPY_MODEL_070e06ebace84b8f8e63613e1bdb8a03"
      }
     },
     "8941927cb88f4c6b8bde632791d35ef3": {
      "model_module": "@jupyter-widgets/base",
      "model_module_version": "1.1.0",
      "model_name": "LayoutModel",
      "state": {
       "width": "10%"
      }
     },
     "89422ba402d446c387e2f9afd34a1853": {
      "model_module": "@jupyter-widgets/output",
      "model_module_version": "1.0.0",
      "model_name": "OutputModel",
      "state": {
       "layout": "IPY_MODEL_37d8c4d30d0648ff9204129943058ca5"
      }
     },
     "894e22375f8c4557b2b6118c1544e2f5": {
      "model_module": "@jupyter-widgets/base",
      "model_module_version": "1.1.0",
      "model_name": "LayoutModel",
      "state": {
       "width": "10%"
      }
     },
     "896e18569ed44725bf25727b8198a957": {
      "model_module": "@jupyter-widgets/output",
      "model_module_version": "1.0.0",
      "model_name": "OutputModel",
      "state": {
       "layout": "IPY_MODEL_fa662b21c7714e79918cec9cd1f5ff49"
      }
     },
     "896ef7ca8df144349e1b9e18a6ada755": {
      "model_module": "@jupyter-widgets/base",
      "model_module_version": "1.1.0",
      "model_name": "LayoutModel",
      "state": {
       "width": "95%"
      }
     },
     "89aa4931d16943a5a79cb0e7e1ffdc42": {
      "model_module": "@jupyter-widgets/controls",
      "model_module_version": "1.4.0",
      "model_name": "ButtonStyleModel",
      "state": {}
     },
     "89bb5af0f5f9407c944ec0217bb266ff": {
      "model_module": "@jupyter-widgets/controls",
      "model_module_version": "1.4.0",
      "model_name": "HBoxModel",
      "state": {
       "children": [
        "IPY_MODEL_33220131e26649d38b44388a4f810e70",
        "IPY_MODEL_c6ffda706fb3459bab8163799da1acba"
       ],
       "layout": "IPY_MODEL_2aca1536b8b64805b73832200aaa0ffa"
      }
     },
     "89c2fca9062449e084514140553b2415": {
      "model_module": "@jupyter-widgets/controls",
      "model_module_version": "1.4.0",
      "model_name": "ButtonStyleModel",
      "state": {}
     },
     "89cbcab25e4f4c1c893a5ed1ad81b17b": {
      "model_module": "@jupyter-widgets/controls",
      "model_module_version": "1.4.0",
      "model_name": "ButtonModel",
      "state": {
       "description": "4",
       "layout": "IPY_MODEL_3f2398d453fa45e4b5105a2716c69d47",
       "style": "IPY_MODEL_741733618502480d915606575c446635"
      }
     },
     "89cd9ff720ca4e4ab3c161d8de93ab38": {
      "model_module": "@jupyter-widgets/controls",
      "model_module_version": "1.4.0",
      "model_name": "HBoxModel",
      "state": {
       "children": [
        "IPY_MODEL_3a76ae40ede546ca850d4629807e4fda",
        "IPY_MODEL_144b6386715547afb2f6d75edafeab84"
       ],
       "layout": "IPY_MODEL_7f1f9ce8ad5444f782d6ab60810d6684"
      }
     },
     "89d5a68b2d544967b2939346c4d38e4a": {
      "model_module": "@jupyter-widgets/controls",
      "model_module_version": "1.4.0",
      "model_name": "ButtonStyleModel",
      "state": {}
     },
     "8a031066e1194facb022cbc81743b2e1": {
      "model_module": "@jupyter-widgets/output",
      "model_module_version": "1.0.0",
      "model_name": "OutputModel",
      "state": {
       "layout": "IPY_MODEL_166c99678f314a3baaaecbc8bfbb9053"
      }
     },
     "8a24a46e59a3451992c3a42ec4588a30": {
      "model_module": "@jupyter-widgets/base",
      "model_module_version": "1.1.0",
      "model_name": "LayoutModel",
      "state": {}
     },
     "8a381e5a50664f07acb694405cb7f1f8": {
      "model_module": "@jupyter-widgets/controls",
      "model_module_version": "1.4.0",
      "model_name": "ButtonModel",
      "state": {
       "description": "2",
       "layout": "IPY_MODEL_204ce1695a864ea89fb6273dce4c54cb",
       "style": "IPY_MODEL_6556511d7754446e9c198ba53d6fe06b"
      }
     },
     "8a562b2b4efc4136afab4ee55e269f8e": {
      "model_module": "@jupyter-widgets/output",
      "model_module_version": "1.0.0",
      "model_name": "OutputModel",
      "state": {
       "layout": "IPY_MODEL_b39851bad7574558b46f152f89b92f0f"
      }
     },
     "8a634a11b3524075ac184a17c12e0262": {
      "model_module": "@jupyter-widgets/controls",
      "model_module_version": "1.4.0",
      "model_name": "ButtonStyleModel",
      "state": {}
     },
     "8a68b7ea8bf94d42959557ccc26fb97e": {
      "model_module": "@jupyter-widgets/base",
      "model_module_version": "1.1.0",
      "model_name": "LayoutModel",
      "state": {}
     },
     "8a7b07c0ebec4249ac489a93a4fec7ba": {
      "model_module": "@jupyter-widgets/controls",
      "model_module_version": "1.4.0",
      "model_name": "ButtonStyleModel",
      "state": {}
     },
     "8a9a64a169fa4ec0a2b14d5f881768ef": {
      "model_module": "@jupyter-widgets/controls",
      "model_module_version": "1.4.0",
      "model_name": "ButtonStyleModel",
      "state": {}
     },
     "8aa3ca620245429a98a2bacada7ddb82": {
      "model_module": "@jupyter-widgets/base",
      "model_module_version": "1.1.0",
      "model_name": "LayoutModel",
      "state": {
       "width": "10%"
      }
     },
     "8aa5a5387f0c4e4999579d22c92e90da": {
      "model_module": "@jupyter-widgets/controls",
      "model_module_version": "1.4.0",
      "model_name": "ButtonModel",
      "state": {
       "description": "3",
       "layout": "IPY_MODEL_952a57121d0a4d559a6dc59cf065f8b6",
       "style": "IPY_MODEL_a4b676593c5a41daadd4c7e4a450806b"
      }
     },
     "8ac6a9e9f49f41d487db5e95bcfdc385": {
      "model_module": "@jupyter-widgets/controls",
      "model_module_version": "1.4.0",
      "model_name": "ButtonModel",
      "state": {
       "description": "9",
       "layout": "IPY_MODEL_013ba78bdb384e238611633b3ca10967",
       "style": "IPY_MODEL_3dee0cc4ffe047ee8390a76ac4cef365"
      }
     },
     "8acb4b8b49df4013ae3af1c7513c55c6": {
      "model_module": "@jupyter-widgets/base",
      "model_module_version": "1.1.0",
      "model_name": "LayoutModel",
      "state": {
       "width": "10%"
      }
     },
     "8adcd7fcb54c48d8ad8a4a66941a7dab": {
      "model_module": "@jupyter-widgets/controls",
      "model_module_version": "1.4.0",
      "model_name": "TextModel",
      "state": {
       "description": "Other:",
       "layout": "IPY_MODEL_805f0f971e2f4da099b8a5522ea518f2",
       "placeholder": "Hit enter to submit.",
       "style": "IPY_MODEL_689ab5918955481eb002a11eb819926e"
      }
     },
     "8add4761531f4282bbac612d99364da4": {
      "model_module": "@jupyter-widgets/output",
      "model_module_version": "1.0.0",
      "model_name": "OutputModel",
      "state": {
       "layout": "IPY_MODEL_54b41282d0f94dc6b021ec2f41f17c8d"
      }
     },
     "8ae85966d3bc408d9b13264e95fc78be": {
      "model_module": "@jupyter-widgets/controls",
      "model_module_version": "1.4.0",
      "model_name": "ButtonStyleModel",
      "state": {}
     },
     "8b0e0fb3dd2e44689728abfa31bb144f": {
      "model_module": "@jupyter-widgets/base",
      "model_module_version": "1.1.0",
      "model_name": "LayoutModel",
      "state": {}
     },
     "8b0ea0af3c9e44ed945f57f510cdcd46": {
      "model_module": "@jupyter-widgets/controls",
      "model_module_version": "1.4.0",
      "model_name": "VBoxModel",
      "state": {
       "children": [
        "IPY_MODEL_64a3eb511cb642a087f9d71b66c8d15e",
        "IPY_MODEL_afca318a9e024e55a36864d525903d27"
       ],
       "layout": "IPY_MODEL_1e0136ad17164f94908e2c315811ac5e"
      }
     },
     "8b2d94a86fe04fa89c189d91d6a7966a": {
      "model_module": "@jupyter-widgets/controls",
      "model_module_version": "1.4.0",
      "model_name": "ButtonStyleModel",
      "state": {}
     },
     "8b55e42534ea4a518761d497523496df": {
      "model_module": "@jupyter-widgets/base",
      "model_module_version": "1.1.0",
      "model_name": "LayoutModel",
      "state": {}
     },
     "8b7fbbb89c5e46ffae520388c62428d1": {
      "model_module": "@jupyter-widgets/controls",
      "model_module_version": "1.4.0",
      "model_name": "VBoxModel",
      "state": {
       "children": [
        "IPY_MODEL_7a601218e6d74719b80807090f36cb96",
        "IPY_MODEL_4953006441cb460293607bfd1b8e83c3"
       ],
       "layout": "IPY_MODEL_bda9870ac9d240cda8e1435ee27e4b8b"
      }
     },
     "8b8380aaab85443e8c2bc433f3da6a02": {
      "model_module": "@jupyter-widgets/controls",
      "model_module_version": "1.4.0",
      "model_name": "DescriptionStyleModel",
      "state": {
       "description_width": ""
      }
     },
     "8b940e56f73b4d83bb327b1a5b857035": {
      "model_module": "@jupyter-widgets/base",
      "model_module_version": "1.1.0",
      "model_name": "LayoutModel",
      "state": {}
     },
     "8ba6d50c6a5b40f891921f5a701e7777": {
      "model_module": "@jupyter-widgets/controls",
      "model_module_version": "1.4.0",
      "model_name": "VBoxModel",
      "state": {
       "children": [
        "IPY_MODEL_f1d23b4a6d3c426391430aff971a2fc7",
        "IPY_MODEL_1c9088b51d2f48c88c12af827fe69989"
       ],
       "layout": "IPY_MODEL_8eac054184c442d1a1eac438a5d0ca79"
      }
     },
     "8ba90bc1808a4ea88da3e2b6112a77cc": {
      "model_module": "@jupyter-widgets/controls",
      "model_module_version": "1.4.0",
      "model_name": "DescriptionStyleModel",
      "state": {
       "description_width": ""
      }
     },
     "8bb8f303819f4d5b8e93750075e552a0": {
      "model_module": "@jupyter-widgets/controls",
      "model_module_version": "1.4.0",
      "model_name": "ButtonModel",
      "state": {
       "description": "4",
       "layout": "IPY_MODEL_b57cd968681545b38b46764439d570f1",
       "style": "IPY_MODEL_2a3fc7739569478795452204c611b332"
      }
     },
     "8bbecaebd39349c8a254120c455bb601": {
      "model_module": "@jupyter-widgets/base",
      "model_module_version": "1.1.0",
      "model_name": "LayoutModel",
      "state": {
       "width": "10%"
      }
     },
     "8bc3538a290647068cf7d700aa79ba39": {
      "model_module": "@jupyter-widgets/controls",
      "model_module_version": "1.4.0",
      "model_name": "ButtonStyleModel",
      "state": {}
     },
     "8be54716c7d24a3082a9b6f47a9796c4": {
      "model_module": "@jupyter-widgets/base",
      "model_module_version": "1.1.0",
      "model_name": "LayoutModel",
      "state": {
       "width": "10%"
      }
     },
     "8bf7e3192b0c423b980ec54168592a68": {
      "model_module": "@jupyter-widgets/output",
      "model_module_version": "1.0.0",
      "model_name": "OutputModel",
      "state": {
       "layout": "IPY_MODEL_9a94aaeb10104fd7a53a0bbf4b533c21"
      }
     },
     "8c124a292df649cba7693d05b4948f08": {
      "model_module": "@jupyter-widgets/base",
      "model_module_version": "1.1.0",
      "model_name": "LayoutModel",
      "state": {
       "width": "10%"
      }
     },
     "8c13733437fe4bd499f1166fa7811e91": {
      "model_module": "@jupyter-widgets/base",
      "model_module_version": "1.1.0",
      "model_name": "LayoutModel",
      "state": {
       "width": "10%"
      }
     },
     "8c15fef6950d40e4965c1ee4db17980a": {
      "model_module": "@jupyter-widgets/base",
      "model_module_version": "1.1.0",
      "model_name": "LayoutModel",
      "state": {
       "width": "95%"
      }
     },
     "8c16ba2719ef4a719cea159ed188b6f5": {
      "model_module": "@jupyter-widgets/base",
      "model_module_version": "1.1.0",
      "model_name": "LayoutModel",
      "state": {
       "width": "10%"
      }
     },
     "8c1c7d5a5fbe44ccb234bccaaa86be32": {
      "model_module": "@jupyter-widgets/base",
      "model_module_version": "1.1.0",
      "model_name": "LayoutModel",
      "state": {}
     },
     "8c3bcb8f26744f7b873f48ebbab31bcc": {
      "model_module": "@jupyter-widgets/base",
      "model_module_version": "1.1.0",
      "model_name": "LayoutModel",
      "state": {}
     },
     "8c3c22f02bfd49109d9cac16818bbaa5": {
      "model_module": "@jupyter-widgets/base",
      "model_module_version": "1.1.0",
      "model_name": "LayoutModel",
      "state": {
       "width": "10%"
      }
     },
     "8c6c2136ec304e4f8d3ba038d0193c97": {
      "model_module": "@jupyter-widgets/controls",
      "model_module_version": "1.4.0",
      "model_name": "DescriptionStyleModel",
      "state": {
       "description_width": ""
      }
     },
     "8c760c39ef00459fb3c974d9b0108982": {
      "model_module": "@jupyter-widgets/controls",
      "model_module_version": "1.4.0",
      "model_name": "ButtonModel",
      "state": {
       "description": "6",
       "layout": "IPY_MODEL_226a50ad4cdc400f8412bc20a05bfe82",
       "style": "IPY_MODEL_7c6317008db145a6b97774f1f8b06392"
      }
     },
     "8c981cf81a094022a8ac9d92ba34929a": {
      "model_module": "@jupyter-widgets/base",
      "model_module_version": "1.1.0",
      "model_name": "LayoutModel",
      "state": {
       "width": "95%"
      }
     },
     "8c9d01dd6aad455f95365764d6e07a12": {
      "model_module": "@jupyter-widgets/base",
      "model_module_version": "1.1.0",
      "model_name": "LayoutModel",
      "state": {
       "width": "10%"
      }
     },
     "8ca2736590894bf99b7ff917943b06f2": {
      "model_module": "@jupyter-widgets/base",
      "model_module_version": "1.1.0",
      "model_name": "LayoutModel",
      "state": {}
     },
     "8cd0434a6354402c9a9d524102cb3ff0": {
      "model_module": "@jupyter-widgets/base",
      "model_module_version": "1.1.0",
      "model_name": "LayoutModel",
      "state": {
       "width": "95%"
      }
     },
     "8cd4fd3ee47a4919ae49ae901edc9f05": {
      "model_module": "@jupyter-widgets/output",
      "model_module_version": "1.0.0",
      "model_name": "OutputModel",
      "state": {
       "layout": "IPY_MODEL_440b46db47614e9d934d20fd1d6e5b17"
      }
     },
     "8cdb6e067b37447e9142d9d1619375d5": {
      "model_module": "@jupyter-widgets/controls",
      "model_module_version": "1.4.0",
      "model_name": "VBoxModel",
      "state": {
       "children": [
        "IPY_MODEL_cc080cc048c14baca9c94220870ee493",
        "IPY_MODEL_a0dcfb70cc2a4feca42e89a3a60e405b"
       ],
       "layout": "IPY_MODEL_b313af53b0234e6da1d761ee97a3886e"
      }
     },
     "8d2f8d4e1f0b4ff7aab047e3da947f81": {
      "model_module": "@jupyter-widgets/output",
      "model_module_version": "1.0.0",
      "model_name": "OutputModel",
      "state": {
       "layout": "IPY_MODEL_574b441700874b31a297ccc90c56fd70"
      }
     },
     "8d31061fcddc4443a48667f901993d66": {
      "model_module": "@jupyter-widgets/base",
      "model_module_version": "1.1.0",
      "model_name": "LayoutModel",
      "state": {
       "width": "10%"
      }
     },
     "8d52b0aa0b534305bfb2e6f321acbfef": {
      "model_module": "@jupyter-widgets/controls",
      "model_module_version": "1.4.0",
      "model_name": "ButtonModel",
      "state": {
       "description": "2",
       "layout": "IPY_MODEL_f8cd601d0701439ca5f21cae2c933980",
       "style": "IPY_MODEL_12bbf75da29e4bfe97fa1377e9f2a33b"
      }
     },
     "8d8a949eb3a4441aabafae03eb48f370": {
      "model_module": "@jupyter-widgets/base",
      "model_module_version": "1.1.0",
      "model_name": "LayoutModel",
      "state": {}
     },
     "8da8f424de004b159ec6278e4294877d": {
      "model_module": "@jupyter-widgets/base",
      "model_module_version": "1.1.0",
      "model_name": "LayoutModel",
      "state": {
       "width": "95%"
      }
     },
     "8db337b2326e4c4393f2fe012d750026": {
      "model_module": "@jupyter-widgets/controls",
      "model_module_version": "1.4.0",
      "model_name": "ButtonModel",
      "state": {
       "description": "4",
       "layout": "IPY_MODEL_15fc520df9d04cadb21c8f486bd5566f",
       "style": "IPY_MODEL_05253a8818a2405e8b554b102cca7d5a"
      }
     },
     "8dbc129078044db0a5f436c8b6746bd8": {
      "model_module": "@jupyter-widgets/base",
      "model_module_version": "1.1.0",
      "model_name": "LayoutModel",
      "state": {
       "width": "95%"
      }
     },
     "8dbe6c8259c949a397f876f793524593": {
      "model_module": "@jupyter-widgets/output",
      "model_module_version": "1.0.0",
      "model_name": "OutputModel",
      "state": {
       "layout": "IPY_MODEL_c0d8cce7d2354b74a2a6b1a4b30845f1"
      }
     },
     "8dd322a6fecc4b1784924f133e9e0edc": {
      "model_module": "@jupyter-widgets/controls",
      "model_module_version": "1.4.0",
      "model_name": "VBoxModel",
      "state": {
       "children": [
        "IPY_MODEL_2147db769b094e23b362d88978aa6a5d",
        "IPY_MODEL_c99f421981a54b3b810bf9f0e3df9800"
       ],
       "layout": "IPY_MODEL_a4e77b3aa24945f18d8f443e9da6f461"
      }
     },
     "8dd8e1a6896549fcae51ccbba31a6346": {
      "model_module": "@jupyter-widgets/controls",
      "model_module_version": "1.4.0",
      "model_name": "ButtonStyleModel",
      "state": {}
     },
     "8ddc0fc627b1464ebb0f04c2691d8bff": {
      "model_module": "@jupyter-widgets/base",
      "model_module_version": "1.1.0",
      "model_name": "LayoutModel",
      "state": {
       "width": "95%"
      }
     },
     "8de684ce040a4d21bb572f90e89e9df1": {
      "model_module": "@jupyter-widgets/controls",
      "model_module_version": "1.4.0",
      "model_name": "HBoxModel",
      "state": {
       "children": [
        "IPY_MODEL_a7b44988270847eabb0bf8f369e3567b",
        "IPY_MODEL_8ff52e9bec0d4c2bbfd8b2d96b28d24c",
        "IPY_MODEL_85b809c18a6c4a50963c04ccc34d9c28"
       ],
       "layout": "IPY_MODEL_f29dc1d4669b4ecebfa83b134c7458bf"
      }
     },
     "8df83192717942ef9c6d5ed7fe1e25c9": {
      "model_module": "@jupyter-widgets/output",
      "model_module_version": "1.0.0",
      "model_name": "OutputModel",
      "state": {
       "layout": "IPY_MODEL_3e386418495f434689e0a9f9c1b577e1"
      }
     },
     "8e0d7a54c5594480be39b9df2ad9703e": {
      "model_module": "@jupyter-widgets/controls",
      "model_module_version": "1.4.0",
      "model_name": "ButtonStyleModel",
      "state": {}
     },
     "8e28b84ede874c73b5a15b16d3f3f85a": {
      "model_module": "@jupyter-widgets/base",
      "model_module_version": "1.1.0",
      "model_name": "LayoutModel",
      "state": {
       "justify_content": "space-between"
      }
     },
     "8e3cef39b12645d19f1b52df10746cbb": {
      "model_module": "@jupyter-widgets/controls",
      "model_module_version": "1.4.0",
      "model_name": "ButtonModel",
      "state": {
       "description": "8",
       "layout": "IPY_MODEL_1f60e810afa841c08d7b6bcf76efa0a2",
       "style": "IPY_MODEL_d4cfff4b507247018251d8d1d2d27a44"
      }
     },
     "8e69a8bfdf124f47a24e2e3dda172278": {
      "model_module": "@jupyter-widgets/output",
      "model_module_version": "1.0.0",
      "model_name": "OutputModel",
      "state": {
       "layout": "IPY_MODEL_789c0a44f7a6436cbfbe57cdbd5e182e"
      }
     },
     "8e8419b5a1884d5cbfe3a910201b401e": {
      "model_module": "@jupyter-widgets/base",
      "model_module_version": "1.1.0",
      "model_name": "LayoutModel",
      "state": {}
     },
     "8e859336ebf441fda6d45e557c233a02": {
      "model_module": "@jupyter-widgets/base",
      "model_module_version": "1.1.0",
      "model_name": "LayoutModel",
      "state": {
       "width": "10%"
      }
     },
     "8e8ab1e41d474efab522807236681e67": {
      "model_module": "@jupyter-widgets/output",
      "model_module_version": "1.0.0",
      "model_name": "OutputModel",
      "state": {
       "layout": "IPY_MODEL_762f5790ff1c426199e4feb16f446d36"
      }
     },
     "8ea4668662a04fdd94fd3f130d97c9d7": {
      "model_module": "@jupyter-widgets/base",
      "model_module_version": "1.1.0",
      "model_name": "LayoutModel",
      "state": {}
     },
     "8eac054184c442d1a1eac438a5d0ca79": {
      "model_module": "@jupyter-widgets/base",
      "model_module_version": "1.1.0",
      "model_name": "LayoutModel",
      "state": {
       "width": "10%"
      }
     },
     "8eb36c4991874569b82031546209b38f": {
      "model_module": "@jupyter-widgets/controls",
      "model_module_version": "1.4.0",
      "model_name": "VBoxModel",
      "state": {
       "children": [
        "IPY_MODEL_b27ea4fbd45d45c7a9600a773290f4e1",
        "IPY_MODEL_f6ac68e3f9654e428dce8879c8669b69"
       ],
       "layout": "IPY_MODEL_21b70e5995b645ddaf9cb4e7de11f80b"
      }
     },
     "8ec1ce4cb47242868f52fc74ab8036fb": {
      "model_module": "@jupyter-widgets/base",
      "model_module_version": "1.1.0",
      "model_name": "LayoutModel",
      "state": {
       "width": "10%"
      }
     },
     "8ec2e0230d354c6fba2e1d216a29585d": {
      "model_module": "@jupyter-widgets/controls",
      "model_module_version": "1.4.0",
      "model_name": "HBoxModel",
      "state": {
       "children": [
        "IPY_MODEL_dd4a4da2f0a440b1b163e2cf7867e283",
        "IPY_MODEL_50586c8f4fa1442caf967975d8755fd4",
        "IPY_MODEL_88adc44606b44ef0b1b99e109c3543d4",
        "IPY_MODEL_c406e20f160440e6bd7df18268687d35",
        "IPY_MODEL_2855b80f012547db9bdf29f0564216bb",
        "IPY_MODEL_1b8f6b04522e4bd4977ca401df01b410",
        "IPY_MODEL_da522dbbe86d4d20aaf1ff673cbd74d0",
        "IPY_MODEL_9e7d60d65f284650a0950154124b70ed",
        "IPY_MODEL_137599a133374280983e837db9167c37",
        "IPY_MODEL_76b771f9de534d5cb4f70d5658dd7f51"
       ],
       "layout": "IPY_MODEL_60886377af4a4b06ac77124759bada87"
      }
     },
     "8efb15723a1b4b25b452dc48b995fbe9": {
      "model_module": "@jupyter-widgets/base",
      "model_module_version": "1.1.0",
      "model_name": "LayoutModel",
      "state": {
       "width": "95%"
      }
     },
     "8efdece4147644cfa3e24ee3dd40fdcd": {
      "model_module": "@jupyter-widgets/controls",
      "model_module_version": "1.4.0",
      "model_name": "ButtonStyleModel",
      "state": {}
     },
     "8f0506bb13d042de86203367986f8778": {
      "model_module": "@jupyter-widgets/base",
      "model_module_version": "1.1.0",
      "model_name": "LayoutModel",
      "state": {
       "width": "95%"
      }
     },
     "8f1d6c30125a4cebb03901d0efe712b8": {
      "model_module": "@jupyter-widgets/controls",
      "model_module_version": "1.4.0",
      "model_name": "HBoxModel",
      "state": {
       "children": [
        "IPY_MODEL_1f539874d133476baf3ff872650d37e0"
       ],
       "layout": "IPY_MODEL_accbaf35738f4bb683a738db4f146e9d"
      }
     },
     "8f302efba7864d768bdf22c557c42d35": {
      "model_module": "@jupyter-widgets/output",
      "model_module_version": "1.0.0",
      "model_name": "OutputModel",
      "state": {
       "layout": "IPY_MODEL_7ebd841b781940c9896cc495c140f5a2"
      }
     },
     "8f3092731e9649a790b9581895779c85": {
      "model_module": "@jupyter-widgets/base",
      "model_module_version": "1.1.0",
      "model_name": "LayoutModel",
      "state": {
       "width": "10%"
      }
     },
     "8f5361fc5e5b48da91b0d6145392689b": {
      "model_module": "@jupyter-widgets/base",
      "model_module_version": "1.1.0",
      "model_name": "LayoutModel",
      "state": {
       "width": "95%"
      }
     },
     "8f6b983160b54ed7abaead6b561b0115": {
      "model_module": "@jupyter-widgets/controls",
      "model_module_version": "1.4.0",
      "model_name": "ButtonStyleModel",
      "state": {}
     },
     "8f738b74d01745788e887be21f728182": {
      "model_module": "@jupyter-widgets/controls",
      "model_module_version": "1.4.0",
      "model_name": "ButtonStyleModel",
      "state": {}
     },
     "8f7592e35b014ae1937b330d1801b900": {
      "model_module": "@jupyter-widgets/base",
      "model_module_version": "1.1.0",
      "model_name": "LayoutModel",
      "state": {}
     },
     "8f9779fc671e4a899c56d228e36a5a2d": {
      "model_module": "@jupyter-widgets/base",
      "model_module_version": "1.1.0",
      "model_name": "LayoutModel",
      "state": {
       "width": "10%"
      }
     },
     "8f9cd0bb02ec4ba1ae420313fb8efa2d": {
      "model_module": "@jupyter-widgets/controls",
      "model_module_version": "1.4.0",
      "model_name": "ButtonModel",
      "state": {
       "description": "2",
       "layout": "IPY_MODEL_ad39a174882647c28a558a4ce5f35ed4",
       "style": "IPY_MODEL_4da3baa5a02f4151a83880fb3b8c043f"
      }
     },
     "8fa6f885cd9a42ab9188c6e2829e5337": {
      "model_module": "@jupyter-widgets/base",
      "model_module_version": "1.1.0",
      "model_name": "LayoutModel",
      "state": {}
     },
     "8fb4e678291e45f88c2d01f7b02eaae2": {
      "model_module": "@jupyter-widgets/controls",
      "model_module_version": "1.4.0",
      "model_name": "ButtonModel",
      "state": {
       "description": "1",
       "layout": "IPY_MODEL_2004d1c16f1247899eacea13e6e5d234",
       "style": "IPY_MODEL_24033ebff50f49a0a7ae5a83cee1e9cc"
      }
     },
     "8fb9fb332f234a17bc55381272c80ea6": {
      "model_module": "@jupyter-widgets/controls",
      "model_module_version": "1.4.0",
      "model_name": "ButtonStyleModel",
      "state": {}
     },
     "8ff52e9bec0d4c2bbfd8b2d96b28d24c": {
      "model_module": "@jupyter-widgets/controls",
      "model_module_version": "1.4.0",
      "model_name": "ButtonModel",
      "state": {
       "description": "Skip",
       "icon": "fast-forward",
       "layout": "IPY_MODEL_86f479a2d7d64c18b075ef1046ac1675",
       "style": "IPY_MODEL_056df54a77e8400e842338b1b7e34bcb"
      }
     },
     "9009c2070ab740378d9fb5d74533c648": {
      "model_module": "@jupyter-widgets/controls",
      "model_module_version": "1.4.0",
      "model_name": "HBoxModel",
      "state": {
       "children": [
        "IPY_MODEL_c7f4c8c864f548de9bc54ba7ebf7d37d",
        "IPY_MODEL_412db49175574c40b15ff754975dc0d2",
        "IPY_MODEL_30b3994fd79c44ec83c136d8e81ad2f8",
        "IPY_MODEL_079423199d7041129291fd989f3768b6",
        "IPY_MODEL_1659b7aa7cf1410e8f2b1454f3a22f15",
        "IPY_MODEL_451f14e798d54a89b949c3c8ef84ac0b",
        "IPY_MODEL_2841feac919349ca8865927445bd0705",
        "IPY_MODEL_4e497e7ee4b242169ee92bcf404a31d1",
        "IPY_MODEL_0c218552d546472a951e0be5fece1bd9",
        "IPY_MODEL_bf59ad48ab294f04aa94c65e508b80ac"
       ],
       "layout": "IPY_MODEL_9958be17d1c74298b0331d7998eecb80"
      }
     },
     "900b99fd27474093bce17412dbb1b264": {
      "model_module": "@jupyter-widgets/controls",
      "model_module_version": "1.4.0",
      "model_name": "ButtonModel",
      "state": {
       "description": "7",
       "layout": "IPY_MODEL_38dea0e9d8cb4974b7f59afbc132c5f6",
       "style": "IPY_MODEL_71711ceffa474e63a38fd4136232cbb2"
      }
     },
     "9023e593ff234ae6b858c25c77f89941": {
      "model_module": "@jupyter-widgets/base",
      "model_module_version": "1.1.0",
      "model_name": "LayoutModel",
      "state": {
       "width": "95%"
      }
     },
     "90462b6838524043b93cc593c6485408": {
      "model_module": "@jupyter-widgets/base",
      "model_module_version": "1.1.0",
      "model_name": "LayoutModel",
      "state": {
       "width": "10%"
      }
     },
     "9050f94389ba448ea3618113439698c8": {
      "model_module": "@jupyter-widgets/base",
      "model_module_version": "1.1.0",
      "model_name": "LayoutModel",
      "state": {}
     },
     "90604c01013541238e25da74bc90be01": {
      "model_module": "@jupyter-widgets/output",
      "model_module_version": "1.0.0",
      "model_name": "OutputModel",
      "state": {
       "layout": "IPY_MODEL_c84e1996059b4e899dcab03a75da2dd3"
      }
     },
     "90a1c9bd81ed4328988ba7ca1131606f": {
      "model_module": "@jupyter-widgets/controls",
      "model_module_version": "1.4.0",
      "model_name": "VBoxModel",
      "state": {
       "children": [
        "IPY_MODEL_bd1a6b8d6d3e47aeb7b25fdb1121dcc6",
        "IPY_MODEL_a6ef2e697cb649f6a4697f44090af155"
       ],
       "layout": "IPY_MODEL_12cf5b64f039491e87182b68894ab6e7"
      }
     },
     "90a7209486bb46b4946a69df0f76f4ac": {
      "model_module": "@jupyter-widgets/controls",
      "model_module_version": "1.4.0",
      "model_name": "ButtonModel",
      "state": {
       "description": "9",
       "layout": "IPY_MODEL_d7a6eca15c5e44119e5465065b088f75",
       "style": "IPY_MODEL_77d90f9ae80a4308a98700093ecfb5d4"
      }
     },
     "90beecc09aaa4fcdbaa9495f79825425": {
      "model_module": "@jupyter-widgets/base",
      "model_module_version": "1.1.0",
      "model_name": "LayoutModel",
      "state": {
       "width": "10%"
      }
     },
     "90e36393465b451fb53ee4fdc5d82f03": {
      "model_module": "@jupyter-widgets/base",
      "model_module_version": "1.1.0",
      "model_name": "LayoutModel",
      "state": {
       "width": "10%"
      }
     },
     "90e9b027fb954267be8c7ea68038d5f1": {
      "model_module": "@jupyter-widgets/base",
      "model_module_version": "1.1.0",
      "model_name": "LayoutModel",
      "state": {
       "width": "95%"
      }
     },
     "90f6a220efe947848c30f9a5a5a1983f": {
      "model_module": "@jupyter-widgets/base",
      "model_module_version": "1.1.0",
      "model_name": "LayoutModel",
      "state": {
       "width": "95%"
      }
     },
     "91120a4cb0a846cc805697931061be05": {
      "model_module": "@jupyter-widgets/base",
      "model_module_version": "1.1.0",
      "model_name": "LayoutModel",
      "state": {}
     },
     "912af785b7714944a69434374ebe1ada": {
      "model_module": "@jupyter-widgets/controls",
      "model_module_version": "1.4.0",
      "model_name": "ButtonModel",
      "state": {
       "description": "2",
       "layout": "IPY_MODEL_f992a3540b884ed280b2337da7646f2d",
       "style": "IPY_MODEL_0dfb2e0bc0d244dd9112f2a26f884ee4"
      }
     },
     "9138e4ac63454570be8e97ce93e632a7": {
      "model_module": "@jupyter-widgets/controls",
      "model_module_version": "1.4.0",
      "model_name": "VBoxModel",
      "state": {
       "children": [
        "IPY_MODEL_861515876e87446b81f1fd14b7d6fb0c",
        "IPY_MODEL_33e87a09f9234c9a8feced43d139ed64"
       ],
       "layout": "IPY_MODEL_71d51ee5c38f4a00b3ffc6dec13a1651"
      }
     },
     "91549d05e74142169125b0ec70b84d4b": {
      "model_module": "@jupyter-widgets/base",
      "model_module_version": "1.1.0",
      "model_name": "LayoutModel",
      "state": {}
     },
     "915f88e7cb974a6a85ea18417660649c": {
      "model_module": "@jupyter-widgets/controls",
      "model_module_version": "1.4.0",
      "model_name": "ButtonStyleModel",
      "state": {}
     },
     "916adcded5644e01be16b819ca334ad6": {
      "model_module": "@jupyter-widgets/base",
      "model_module_version": "1.1.0",
      "model_name": "LayoutModel",
      "state": {}
     },
     "916bd757feb3430a9a102279b1928789": {
      "model_module": "@jupyter-widgets/controls",
      "model_module_version": "1.4.0",
      "model_name": "ButtonStyleModel",
      "state": {}
     },
     "918f815e3aea424388e2b9125c3367a1": {
      "model_module": "@jupyter-widgets/base",
      "model_module_version": "1.1.0",
      "model_name": "LayoutModel",
      "state": {}
     },
     "91942729466043f6b47a78e91713ca10": {
      "model_module": "@jupyter-widgets/base",
      "model_module_version": "1.1.0",
      "model_name": "LayoutModel",
      "state": {
       "width": "10%"
      }
     },
     "91a5064d25614c6eb7a8ea2b6c4a0bb7": {
      "model_module": "@jupyter-widgets/controls",
      "model_module_version": "1.4.0",
      "model_name": "VBoxModel",
      "state": {
       "children": [
        "IPY_MODEL_cdf9e72344544e63a529690665a26398",
        "IPY_MODEL_18c7c586bb7f42a3acf80a392cf22cb6"
       ],
       "layout": "IPY_MODEL_6ad0cf957bb948afbccf3e06031c5611"
      }
     },
     "91a82113bfe04cbe964b6eb9047bcff4": {
      "model_module": "@jupyter-widgets/base",
      "model_module_version": "1.1.0",
      "model_name": "LayoutModel",
      "state": {}
     },
     "91c81a3d7bee4806b46df6be839c8c8b": {
      "model_module": "@jupyter-widgets/output",
      "model_module_version": "1.0.0",
      "model_name": "OutputModel",
      "state": {
       "layout": "IPY_MODEL_49198af8070048cb80f2c018d45b6210"
      }
     },
     "91ce8b6cf22c4a8484a56aee34a20a53": {
      "model_module": "@jupyter-widgets/output",
      "model_module_version": "1.0.0",
      "model_name": "OutputModel",
      "state": {
       "layout": "IPY_MODEL_d0fcb02cbf04419eb04034122f335562"
      }
     },
     "91dd0626dd5f4798a71f4f7de406e026": {
      "model_module": "@jupyter-widgets/base",
      "model_module_version": "1.1.0",
      "model_name": "LayoutModel",
      "state": {}
     },
     "91e77b3257034ba7890ebb5c0096e4d5": {
      "model_module": "@jupyter-widgets/base",
      "model_module_version": "1.1.0",
      "model_name": "LayoutModel",
      "state": {
       "width": "95%"
      }
     },
     "92018de4c9654bbb9f7ae7cc3e2ea3ae": {
      "model_module": "@jupyter-widgets/controls",
      "model_module_version": "1.4.0",
      "model_name": "ButtonStyleModel",
      "state": {}
     },
     "920b90c093ba436d9f21a08f56db1d58": {
      "model_module": "@jupyter-widgets/base",
      "model_module_version": "1.1.0",
      "model_name": "LayoutModel",
      "state": {
       "width": "95%"
      }
     },
     "924017ba9397447faeb0cc106ec61472": {
      "model_module": "@jupyter-widgets/controls",
      "model_module_version": "1.4.0",
      "model_name": "ButtonModel",
      "state": {
       "description": "2",
       "layout": "IPY_MODEL_7f1adeb0a6354ac3950fb46f85ff089c",
       "style": "IPY_MODEL_efd8bcdd71614905a1c78c76218aadbd"
      }
     },
     "9241091edc7b4e4d99e313a1fe61e78e": {
      "model_module": "@jupyter-widgets/base",
      "model_module_version": "1.1.0",
      "model_name": "LayoutModel",
      "state": {
       "justify_content": "space-between"
      }
     },
     "924eddfd953d44ba81f7634920a96e22": {
      "model_module": "@jupyter-widgets/controls",
      "model_module_version": "1.4.0",
      "model_name": "ButtonStyleModel",
      "state": {}
     },
     "926799c17e1740b4a5a071c1c1fb7c03": {
      "model_module": "@jupyter-widgets/controls",
      "model_module_version": "1.4.0",
      "model_name": "ButtonStyleModel",
      "state": {}
     },
     "926a7e28098e41709933c1e6d8e63dcb": {
      "model_module": "@jupyter-widgets/base",
      "model_module_version": "1.1.0",
      "model_name": "LayoutModel",
      "state": {}
     },
     "9279074bb97c407eb29bfbdcdf83e40f": {
      "model_module": "@jupyter-widgets/base",
      "model_module_version": "1.1.0",
      "model_name": "LayoutModel",
      "state": {}
     },
     "927f0fc4fcb74471888e7c88fcbf680b": {
      "model_module": "@jupyter-widgets/controls",
      "model_module_version": "1.4.0",
      "model_name": "VBoxModel",
      "state": {
       "children": [
        "IPY_MODEL_53471f5c31e542d28209e9e00c66f2cd",
        "IPY_MODEL_8e69a8bfdf124f47a24e2e3dda172278"
       ],
       "layout": "IPY_MODEL_819d44a8ff92401190f8f1d47da09d66"
      }
     },
     "92b2e140915d451186f81c75722a6d65": {
      "model_module": "@jupyter-widgets/controls",
      "model_module_version": "1.4.0",
      "model_name": "ButtonStyleModel",
      "state": {}
     },
     "92d035544b3543f787272e3eefb34bb9": {
      "model_module": "@jupyter-widgets/base",
      "model_module_version": "1.1.0",
      "model_name": "LayoutModel",
      "state": {
       "width": "10%"
      }
     },
     "92d2ee5f2fd344048ac0cfc7a841dc5e": {
      "model_module": "@jupyter-widgets/base",
      "model_module_version": "1.1.0",
      "model_name": "LayoutModel",
      "state": {
       "width": "10%"
      }
     },
     "92dd620af98d44db81fedbc819f15120": {
      "model_module": "@jupyter-widgets/output",
      "model_module_version": "1.0.0",
      "model_name": "OutputModel",
      "state": {
       "layout": "IPY_MODEL_d63a799b83d2487ca65af0dfceccd728",
       "outputs": [
        {
         "data": {
          "image/png": "iVBORw0KGgoAAAANSUhEUgAAAPUAAAD4CAYAAAA0L6C7AAAABHNCSVQICAgIfAhkiAAAAAlwSFlzAAALEgAACxIB0t1+/AAAADl0RVh0U29mdHdhcmUAbWF0cGxvdGxpYiB2ZXJzaW9uIDMuMC4xLCBodHRwOi8vbWF0cGxvdGxpYi5vcmcvDW2N/gAAA61JREFUeJzt3UGNIlEUQNFh0gLACRJwgARwQHCClJZAOSkJOKgxwCwmgV/D7XOWLOr9zc1L2LzNsiy/gI7faz8AeC1RQ4yoIUbUECNqiPl603f9pf5hDofDsFnX63XYrOPxOGzWCjbPfrSpIUbUECNqiBE1xIgaYkQNMaKGGFFDjKghRtQQI2qIETXEiBpiRA0xooYYUUOMqCFG1BAjaogRNcSIGmJEDTGihhhRQ4yoIUbUEPOuszu8wDzPw2ZN0zRs1kjxsztP2dQQI2qIETXEiBpiRA0xooYYUUOMqCFG1BAjaogRNcSIGmJEDTGihhhRQ4yoIUbUECNqiBE1xIgaYkQNMaKGGFFDjKghRtQQI2qIcXbnHzwej6Hzzufz0HmjbLfbtZ+QZlNDjKghRtQQI2qIETXEiBpiRA0xooYYUUOMqCFG1BAjaogRNcSIGmJEDTGihhhRQ4yoIUbUECNqiBE1xIgaYkQNMaKGGFFDjKghRtQQ8/G3tOZ5HjZr9G2raZqGzhvFLa33sqkhRtQQI2qIETXEiBpiRA0xooYYUUOMqCFG1BAjaogRNcSIGmJEDTGihhhRQ4yoIUbUECNqiBE1xIgaYkQNMaKGGFFDjKghRtQQ8/Fnd+73+7BZo8/FfH9/D5t1Op2GzTocDsNm/UQ2NcSIGmJEDTGihhhRQ4yoIUbUECNqiBE1xIgaYkQNMaKGGFFDjKghRtQQI2qIETXEiBpiRA0xooYYUUOMqCFG1BAjaogRNcSIGmI2y7K847tv+ehP83g8hs3a7XbDZl0ul2GzbrfbsFkr2Dz70aaGGFFDjKghRtQQI2qIETXEiBpiRA0xooYYUUOMqCFG1BAjaogRNcSIGmJEDTGihhhRQ4yoIUbUECNqiBE1xIgaYkQNMaKGGFFDzNfaD+DvRp7dGWme57WfkGZTQ4yoIUbUECNqiBE1xIgaYkQNMaKGGFFDjKghRtQQI2qIETXEiBpiRA0xooYYUUOMqCFG1BAjaogRNcSIGmJEDTGihhhRQ4yoIUbUEOOW1n+sektrv9+v/YQ0mxpiRA0xooYYUUOMqCFG1BAjaogRNcSIGmJEDTGihhhRQ4yoIUbUECNqiBE1xIgaYkQNMaKGGFFDjKghRtQQI2qIETXEiBpiRA0xm2VZ1n4D8EI2NcSIGmJEDTGihhhRQ4yoIUbUECNqiBE1xIgaYkQNMaKGGFFDjKghRtQQI2qIETXEiBpiRA0xooYYUUOMqCFG1BDzB3OrNUNJ8taFAAAAAElFTkSuQmCC\n",
          "text/plain": "<Figure size 432x288 with 1 Axes>"
         },
         "metadata": {
          "needs_background": "light"
         },
         "output_type": "display_data"
        }
       ]
      }
     },
     "92ff7aa572294da2a971f6c86ded2087": {
      "model_module": "@jupyter-widgets/base",
      "model_module_version": "1.1.0",
      "model_name": "LayoutModel",
      "state": {}
     },
     "9308a6ab77214376bde789c7dc47d729": {
      "model_module": "@jupyter-widgets/controls",
      "model_module_version": "1.4.0",
      "model_name": "VBoxModel",
      "state": {
       "children": [
        "IPY_MODEL_21bcf5a7b4c743afa220a6529a5043e1",
        "IPY_MODEL_2c7d00c9aca14ba49b85c6a511a5c42f"
       ],
       "layout": "IPY_MODEL_27f9df7ffa474724b08c47e5f236343e"
      }
     },
     "931dc0c82baa4a27941a34c0f7007d54": {
      "model_module": "@jupyter-widgets/controls",
      "model_module_version": "1.4.0",
      "model_name": "VBoxModel",
      "state": {
       "children": [
        "IPY_MODEL_eab7d3006f2a4aca87c83ce49b2813fb",
        "IPY_MODEL_5ae626155b3f40be93f0aa6f9523aea3"
       ],
       "layout": "IPY_MODEL_283a4d6c99f144288127fc567b201a27"
      }
     },
     "93258dbf48094ff5bdf79d810d9efa97": {
      "model_module": "@jupyter-widgets/base",
      "model_module_version": "1.1.0",
      "model_name": "LayoutModel",
      "state": {}
     },
     "933782b9c72942b3b07bb993440c1726": {
      "model_module": "@jupyter-widgets/controls",
      "model_module_version": "1.4.0",
      "model_name": "VBoxModel",
      "state": {
       "children": [
        "IPY_MODEL_37db00c500cf4200af6b26f84d89bacf",
        "IPY_MODEL_34ffda31a63b4427970451e22249352c"
       ],
       "layout": "IPY_MODEL_2a3cfc67a2c04025bfd18871c1a6b063"
      }
     },
     "933879289bff47d0ad734e5047820f92": {
      "model_module": "@jupyter-widgets/base",
      "model_module_version": "1.1.0",
      "model_name": "LayoutModel",
      "state": {
       "width": "10%"
      }
     },
     "93767b90a133400aab026620fb9a4886": {
      "model_module": "@jupyter-widgets/base",
      "model_module_version": "1.1.0",
      "model_name": "LayoutModel",
      "state": {}
     },
     "937f52a5e275475488569cc3809f2c7c": {
      "model_module": "@jupyter-widgets/controls",
      "model_module_version": "1.4.0",
      "model_name": "ButtonStyleModel",
      "state": {}
     },
     "93a8566b208740bc9ef6e65d92118e08": {
      "model_module": "@jupyter-widgets/controls",
      "model_module_version": "1.4.0",
      "model_name": "HBoxModel",
      "state": {
       "children": [
        "IPY_MODEL_af06bcf92fa047b4b05765170ee8bd32",
        "IPY_MODEL_e133811ff3b541649cb4ec82cc97cd42"
       ],
       "layout": "IPY_MODEL_fce88cc21a0f49888d966deba4f4788a"
      }
     },
     "93d37a659d2e47e8a9c18e30727a67ba": {
      "model_module": "@jupyter-widgets/base",
      "model_module_version": "1.1.0",
      "model_name": "LayoutModel",
      "state": {
       "width": "95%"
      }
     },
     "93e1da6629b749278b6d8487491584da": {
      "model_module": "@jupyter-widgets/controls",
      "model_module_version": "1.4.0",
      "model_name": "ButtonStyleModel",
      "state": {}
     },
     "93e244d0e6834f439003fffbe507bd47": {
      "model_module": "@jupyter-widgets/controls",
      "model_module_version": "1.4.0",
      "model_name": "ButtonStyleModel",
      "state": {}
     },
     "93ea821b79b44bb4951674d22fe5a3a3": {
      "model_module": "@jupyter-widgets/base",
      "model_module_version": "1.1.0",
      "model_name": "LayoutModel",
      "state": {}
     },
     "9402ef8ddde644ebb0bd271aa8c75fe1": {
      "model_module": "@jupyter-widgets/base",
      "model_module_version": "1.1.0",
      "model_name": "LayoutModel",
      "state": {}
     },
     "942b4531deb04b8d8a3f29177c21dc34": {
      "model_module": "@jupyter-widgets/controls",
      "model_module_version": "1.4.0",
      "model_name": "VBoxModel",
      "state": {
       "children": [
        "IPY_MODEL_6bc329751422412f8881112ec02b473f",
        "IPY_MODEL_89422ba402d446c387e2f9afd34a1853"
       ],
       "layout": "IPY_MODEL_205f9d9474424c62b8aef0e961a425c7"
      }
     },
     "942c4a1cb08c4f6f8fd839e491b9a74e": {
      "model_module": "@jupyter-widgets/base",
      "model_module_version": "1.1.0",
      "model_name": "LayoutModel",
      "state": {
       "width": "95%"
      }
     },
     "942de85d2136411f8950b5e2a7d957a5": {
      "model_module": "@jupyter-widgets/controls",
      "model_module_version": "1.4.0",
      "model_name": "ButtonModel",
      "state": {
       "description": "8",
       "layout": "IPY_MODEL_75fbe88562d342b8b4841f7848ca908c",
       "style": "IPY_MODEL_553d1394aae24232b0c0ca8cb811c3b0"
      }
     },
     "9437034885b843beb678abfd66ea0c61": {
      "model_module": "@jupyter-widgets/base",
      "model_module_version": "1.1.0",
      "model_name": "LayoutModel",
      "state": {
       "width": "10%"
      }
     },
     "944336709a0c49a0b754296673709f09": {
      "model_module": "@jupyter-widgets/controls",
      "model_module_version": "1.4.0",
      "model_name": "ButtonStyleModel",
      "state": {}
     },
     "94557c0e6085461384d0278cd5679dc9": {
      "model_module": "@jupyter-widgets/base",
      "model_module_version": "1.1.0",
      "model_name": "LayoutModel",
      "state": {
       "width": "10%"
      }
     },
     "94594d7e0a6846f18e00b46374bad29c": {
      "model_module": "@jupyter-widgets/controls",
      "model_module_version": "1.4.0",
      "model_name": "VBoxModel",
      "state": {
       "children": [
        "IPY_MODEL_779f0d3e2eac4a2c97f326429487be71",
        "IPY_MODEL_af0f4339bc334a9987ef9b348df9c279"
       ],
       "layout": "IPY_MODEL_20f096b3aa424dc59407bfbb770c0e9b"
      }
     },
     "94595d40217040668acdaf98da58fb17": {
      "model_module": "@jupyter-widgets/controls",
      "model_module_version": "1.4.0",
      "model_name": "ButtonModel",
      "state": {
       "description": "2",
       "layout": "IPY_MODEL_ab4fcbe75d3b4fb086b48ea605e5a685",
       "style": "IPY_MODEL_013952fed23345da83178dda731f7f35"
      }
     },
     "9474e94bc59640bb916f6a4bd63c47b7": {
      "model_module": "@jupyter-widgets/controls",
      "model_module_version": "1.4.0",
      "model_name": "ButtonModel",
      "state": {
       "description": "8",
       "layout": "IPY_MODEL_29b8cfaf9266488cad4781dfacca6b84",
       "style": "IPY_MODEL_6c9c17ed68d24c3988620237885fce22"
      }
     },
     "947702b3d5ee44d8a5dabc6e43cc111e": {
      "model_module": "@jupyter-widgets/output",
      "model_module_version": "1.0.0",
      "model_name": "OutputModel",
      "state": {
       "layout": "IPY_MODEL_6d436cef684849289f461a66e5d23991"
      }
     },
     "948de29882354729abfc9b7cff34cdfc": {
      "model_module": "@jupyter-widgets/controls",
      "model_module_version": "1.4.0",
      "model_name": "ButtonModel",
      "state": {
       "description": "7",
       "layout": "IPY_MODEL_df7cfbe905504d0ead43ba42184c9f4e",
       "style": "IPY_MODEL_5af0007575f94974a16618bc934b103d"
      }
     },
     "949b0cace09b40ff9b3ffb1208875ce4": {
      "model_module": "@jupyter-widgets/controls",
      "model_module_version": "1.4.0",
      "model_name": "ButtonModel",
      "state": {
       "description": "0",
       "layout": "IPY_MODEL_1d2747226aca4343829ac55a9e5e3873",
       "style": "IPY_MODEL_ca9a7c0adf03479c9609b36ac20f9fea"
      }
     },
     "949ff5a6bd4d434599f63dfd300138fc": {
      "model_module": "@jupyter-widgets/output",
      "model_module_version": "1.0.0",
      "model_name": "OutputModel",
      "state": {
       "layout": "IPY_MODEL_9cd117c549bb4fba85a1d33ee94d8508"
      }
     },
     "94b839a32fcb4c0599be74224c4208c8": {
      "model_module": "@jupyter-widgets/output",
      "model_module_version": "1.0.0",
      "model_name": "OutputModel",
      "state": {
       "layout": "IPY_MODEL_3cc3182a995549ed946a46ae8ed3f2d9"
      }
     },
     "94d13f6fa20140209ee8aa994b69f8cd": {
      "model_module": "@jupyter-widgets/base",
      "model_module_version": "1.1.0",
      "model_name": "LayoutModel",
      "state": {}
     },
     "94e0e234a2924d7ea8a8d03655ac2560": {
      "model_module": "@jupyter-widgets/controls",
      "model_module_version": "1.4.0",
      "model_name": "DescriptionStyleModel",
      "state": {
       "description_width": ""
      }
     },
     "94e4b3b9a55649f78243a520a8cb5c00": {
      "model_module": "@jupyter-widgets/controls",
      "model_module_version": "1.4.0",
      "model_name": "ButtonStyleModel",
      "state": {}
     },
     "94f0a5c49c50447ca8ac2d3b97f25e87": {
      "model_module": "@jupyter-widgets/controls",
      "model_module_version": "1.4.0",
      "model_name": "VBoxModel",
      "state": {
       "children": [
        "IPY_MODEL_2cbd59d4af7c4704bc6061dd2b2a7ac0",
        "IPY_MODEL_b3e03410b54742da8dce80f10252b50f"
       ],
       "layout": "IPY_MODEL_e17d8386bb134b0c86ae983db301b22d"
      }
     },
     "95091479642a4045a3f8af5d84578903": {
      "model_module": "@jupyter-widgets/base",
      "model_module_version": "1.1.0",
      "model_name": "LayoutModel",
      "state": {
       "width": "10%"
      }
     },
     "950a9901d24240e49aaec0475fc8118c": {
      "model_module": "@jupyter-widgets/base",
      "model_module_version": "1.1.0",
      "model_name": "LayoutModel",
      "state": {
       "width": "95%"
      }
     },
     "950ac9c389c84d8d91b4cf6779854a06": {
      "model_module": "@jupyter-widgets/base",
      "model_module_version": "1.1.0",
      "model_name": "LayoutModel",
      "state": {}
     },
     "950ca2506a99424da40c99a656657dc6": {
      "model_module": "@jupyter-widgets/controls",
      "model_module_version": "1.4.0",
      "model_name": "VBoxModel",
      "state": {
       "children": [
        "IPY_MODEL_e7c044a8d8bd4a9780e9b85feef72115",
        "IPY_MODEL_60cd0a7b40084d19b92bf5ff13da8373"
       ],
       "layout": "IPY_MODEL_3df8efe4527444e4b565cf15485c66a6"
      }
     },
     "951e18c3978d4646b76baa90f7a91c15": {
      "model_module": "@jupyter-widgets/controls",
      "model_module_version": "1.4.0",
      "model_name": "VBoxModel",
      "state": {
       "children": [
        "IPY_MODEL_223474bc8ce440359dc83e96d8028ecb",
        "IPY_MODEL_faa73e0aa0b64bd592165cfc07876f98"
       ],
       "layout": "IPY_MODEL_87e546a9da9848a6829c2ecfb6d60c24"
      }
     },
     "952a57121d0a4d559a6dc59cf065f8b6": {
      "model_module": "@jupyter-widgets/base",
      "model_module_version": "1.1.0",
      "model_name": "LayoutModel",
      "state": {
       "width": "95%"
      }
     },
     "952f8fee1ebb45b6a050150fc8c44f72": {
      "model_module": "@jupyter-widgets/base",
      "model_module_version": "1.1.0",
      "model_name": "LayoutModel",
      "state": {
       "width": "95%"
      }
     },
     "952fdf9fe1024f48a23459b261cd8ec5": {
      "model_module": "@jupyter-widgets/controls",
      "model_module_version": "1.4.0",
      "model_name": "VBoxModel",
      "state": {
       "children": [
        "IPY_MODEL_87d11900d6d8454b8d277fe7f1f3c89e",
        "IPY_MODEL_10900d22f3ef47b99147df861ac5ecf5"
       ],
       "layout": "IPY_MODEL_49b37756759940799ab6697f309bfb73"
      }
     },
     "956fc1c55256471eb25354b4e2fb76dc": {
      "model_module": "@jupyter-widgets/base",
      "model_module_version": "1.1.0",
      "model_name": "LayoutModel",
      "state": {}
     },
     "957a0c31e46f451fb938e7785355fa05": {
      "model_module": "@jupyter-widgets/output",
      "model_module_version": "1.0.0",
      "model_name": "OutputModel",
      "state": {
       "layout": "IPY_MODEL_1cb9315767ab415d9d5cbe06e13b31ff"
      }
     },
     "957d1b93e6654603bfbf5db4e5eda556": {
      "model_module": "@jupyter-widgets/output",
      "model_module_version": "1.0.0",
      "model_name": "OutputModel",
      "state": {
       "layout": "IPY_MODEL_b86c7f5b151e42519a9c0b1c1e0b061c"
      }
     },
     "958784563ea749cd83eb2a36d2a20d01": {
      "model_module": "@jupyter-widgets/controls",
      "model_module_version": "1.4.0",
      "model_name": "ButtonModel",
      "state": {
       "description": "6",
       "layout": "IPY_MODEL_08b2105a58ff4e18a2fb9d76c0550bff",
       "style": "IPY_MODEL_f2d115691ebb4ecf8c730ce8212d1ea2"
      }
     },
     "959da5df68e248f4a676696b7c044d0c": {
      "model_module": "@jupyter-widgets/base",
      "model_module_version": "1.1.0",
      "model_name": "LayoutModel",
      "state": {}
     },
     "95a59336f0a14ff9a2990c7db81ddd59": {
      "model_module": "@jupyter-widgets/controls",
      "model_module_version": "1.4.0",
      "model_name": "ButtonModel",
      "state": {
       "description": "9",
       "layout": "IPY_MODEL_fc61288ae33447509e06e14d0780b498",
       "style": "IPY_MODEL_6922c6c3b4eb424ba44845385bd5b0cd"
      }
     },
     "95a8994dde654042978c8915d16ed404": {
      "model_module": "@jupyter-widgets/output",
      "model_module_version": "1.0.0",
      "model_name": "OutputModel",
      "state": {
       "layout": "IPY_MODEL_60b88131dbb740698b2070cf2157c728"
      }
     },
     "95bb1e2f48ba46119a38cbd738dd2dcc": {
      "model_module": "@jupyter-widgets/base",
      "model_module_version": "1.1.0",
      "model_name": "LayoutModel",
      "state": {}
     },
     "95ceb6f5625f4d01abfdb0ca7e1f293c": {
      "model_module": "@jupyter-widgets/base",
      "model_module_version": "1.1.0",
      "model_name": "LayoutModel",
      "state": {
       "width": "95%"
      }
     },
     "95cf74e28e6d4889ae7d85314c6d4cb6": {
      "model_module": "@jupyter-widgets/output",
      "model_module_version": "1.0.0",
      "model_name": "OutputModel",
      "state": {
       "layout": "IPY_MODEL_3caea438f9934076986be944f960f087"
      }
     },
     "95f71a5470a44d218a13daf8a3297873": {
      "model_module": "@jupyter-widgets/controls",
      "model_module_version": "1.4.0",
      "model_name": "DescriptionStyleModel",
      "state": {
       "description_width": ""
      }
     },
     "960f70a5a3834fa4b7055b49c7b416ab": {
      "model_module": "@jupyter-widgets/base",
      "model_module_version": "1.1.0",
      "model_name": "LayoutModel",
      "state": {
       "width": "10%"
      }
     },
     "962bd4d6ca53452c8900006bb068cde4": {
      "model_module": "@jupyter-widgets/controls",
      "model_module_version": "1.4.0",
      "model_name": "HBoxModel",
      "state": {
       "children": [
        "IPY_MODEL_8406f2b26b75476ba9670eca9ab4bf74",
        "IPY_MODEL_71c28ac25be747d9872a7653c8614ea2",
        "IPY_MODEL_5e5b45703f354000a47eb5eb46bd6534",
        "IPY_MODEL_6bf2f137e190459d917717a9f9088fbd",
        "IPY_MODEL_b02a641ec29b4cb78da0a2dfae367b83",
        "IPY_MODEL_2aed4705c30d486f98cfa2aa2e796492",
        "IPY_MODEL_7669b7bbbad243259ef3cbbb3c5539bd",
        "IPY_MODEL_37e7fe7165934ebebf045283f413ce59",
        "IPY_MODEL_0e279e02f3434a2b8a4de57c0eb883ad",
        "IPY_MODEL_5f31673da3fd4592818032e91ac30924"
       ],
       "layout": "IPY_MODEL_f6db25ce1bd5450498b0268907162364"
      }
     },
     "962f62105696428cbc8973dc37850a51": {
      "model_module": "@jupyter-widgets/controls",
      "model_module_version": "1.4.0",
      "model_name": "HBoxModel",
      "state": {
       "children": [
        "IPY_MODEL_41fe44dedfa94a95bba73012c20cb0c2",
        "IPY_MODEL_a742cce99b36451cb7b9bd9508266f80",
        "IPY_MODEL_003f443a071f4aa5b75472db76f216aa",
        "IPY_MODEL_ef4b4e76218e4070b45b318d66eb31cb",
        "IPY_MODEL_77ff52c8e91249c7b44d5c095ba2a85c",
        "IPY_MODEL_e26f0dab7ab743c686ab09dbd8544092",
        "IPY_MODEL_8b7fbbb89c5e46ffae520388c62428d1",
        "IPY_MODEL_6af5b865fab24a9ea35153871ce00dd3",
        "IPY_MODEL_2616328e9a1545bf9727f5819bfc0c80",
        "IPY_MODEL_746da1a555d44e809ac1ddb8b906e9de"
       ],
       "layout": "IPY_MODEL_f615b32acfff46178ecff68726ac10f9"
      }
     },
     "9639448fad5f40c8b56a4a1608f87618": {
      "model_module": "@jupyter-widgets/base",
      "model_module_version": "1.1.0",
      "model_name": "LayoutModel",
      "state": {
       "width": "95%"
      }
     },
     "9651bef3cda24e5cb4ca50461c94ba4b": {
      "model_module": "@jupyter-widgets/base",
      "model_module_version": "1.1.0",
      "model_name": "LayoutModel",
      "state": {
       "width": "95%"
      }
     },
     "966d934a6ca9495ebaedbd7f093b215d": {
      "model_module": "@jupyter-widgets/output",
      "model_module_version": "1.0.0",
      "model_name": "OutputModel",
      "state": {
       "layout": "IPY_MODEL_ae111c81872143d78502f97157e8a90f"
      }
     },
     "96823f7bf5094f7997334a1832d56d93": {
      "model_module": "@jupyter-widgets/output",
      "model_module_version": "1.0.0",
      "model_name": "OutputModel",
      "state": {
       "layout": "IPY_MODEL_956fc1c55256471eb25354b4e2fb76dc"
      }
     },
     "968de3cda4c6450db7df560406523d77": {
      "model_module": "@jupyter-widgets/base",
      "model_module_version": "1.1.0",
      "model_name": "LayoutModel",
      "state": {
       "width": "95%"
      }
     },
     "9694958058a54212a9c57508f204174d": {
      "model_module": "@jupyter-widgets/output",
      "model_module_version": "1.0.0",
      "model_name": "OutputModel",
      "state": {
       "layout": "IPY_MODEL_a7de1cfa0b6645b292a97832eabe1b79"
      }
     },
     "96ba1cedb4e34d24b4e8fb20d8e940e8": {
      "model_module": "@jupyter-widgets/base",
      "model_module_version": "1.1.0",
      "model_name": "LayoutModel",
      "state": {
       "width": "10%"
      }
     },
     "96dc247c7d42482cb53e4195007e8d65": {
      "model_module": "@jupyter-widgets/controls",
      "model_module_version": "1.4.0",
      "model_name": "ButtonModel",
      "state": {
       "description": "8",
       "layout": "IPY_MODEL_71203ce5e00244778c80dfccb6328b08",
       "style": "IPY_MODEL_159966b6743f4a95bcc68ed32a989a5e"
      }
     },
     "96f9dcb2d3cc491895362bd71d72b635": {
      "model_module": "@jupyter-widgets/base",
      "model_module_version": "1.1.0",
      "model_name": "LayoutModel",
      "state": {}
     },
     "970979db842f40b98f9b995f726c5d69": {
      "model_module": "@jupyter-widgets/controls",
      "model_module_version": "1.4.0",
      "model_name": "VBoxModel",
      "state": {
       "children": [
        "IPY_MODEL_ca618bdf792446d7afacf8f1d8e871fd",
        "IPY_MODEL_585d37bb0d864d2b9f5b5b2a6aceff37"
       ],
       "layout": "IPY_MODEL_67401de055884a3bbe1197b2d726598a"
      }
     },
     "97431b88fc6a4ce69eed934b3ba0ab90": {
      "model_module": "@jupyter-widgets/base",
      "model_module_version": "1.1.0",
      "model_name": "LayoutModel",
      "state": {
       "width": "10%"
      }
     },
     "974903e6e0b644fba801f0778527a993": {
      "model_module": "@jupyter-widgets/base",
      "model_module_version": "1.1.0",
      "model_name": "LayoutModel",
      "state": {
       "width": "95%"
      }
     },
     "975ed38cc52944859397980a671e0434": {
      "model_module": "@jupyter-widgets/output",
      "model_module_version": "1.0.0",
      "model_name": "OutputModel",
      "state": {
       "layout": "IPY_MODEL_e2902b77a17049cf860aa2e8cada57e5"
      }
     },
     "976a62e12e0543269e5fd7a2f62244f0": {
      "model_module": "@jupyter-widgets/controls",
      "model_module_version": "1.4.0",
      "model_name": "ButtonModel",
      "state": {
       "description": "3",
       "layout": "IPY_MODEL_8355547fe6f846498695bda7f12c04aa",
       "style": "IPY_MODEL_18b84525cc5848dab1528f034806768a"
      }
     },
     "97857fbc18dc49b780d37bfeb5dec32d": {
      "model_module": "@jupyter-widgets/controls",
      "model_module_version": "1.4.0",
      "model_name": "ButtonModel",
      "state": {
       "description": "6",
       "layout": "IPY_MODEL_eb2b6deb8da44fd7a1c35dcb91fa741b",
       "style": "IPY_MODEL_efe5ed0f6c804a0f899eb73bbfee52a3"
      }
     },
     "97b1c0316b9b46fd879e45da8ca7ccf2": {
      "model_module": "@jupyter-widgets/controls",
      "model_module_version": "1.4.0",
      "model_name": "VBoxModel",
      "state": {
       "children": [
        "IPY_MODEL_c0409c6fee204d7580f961c940a10f5f",
        "IPY_MODEL_adfbe8e99e1846cab129713c6436ed27"
       ],
       "layout": "IPY_MODEL_8391ec289d9d48ea98772870a99ecfdb"
      }
     },
     "97c122683e754202b2b8822f810b1241": {
      "model_module": "@jupyter-widgets/base",
      "model_module_version": "1.1.0",
      "model_name": "LayoutModel",
      "state": {
       "width": "95%"
      }
     },
     "97d3f0de55ce409eb543a3eb1022345a": {
      "model_module": "@jupyter-widgets/controls",
      "model_module_version": "1.4.0",
      "model_name": "ButtonModel",
      "state": {
       "description": "4",
       "layout": "IPY_MODEL_ea096cba58154166aac54a28b48e4852",
       "style": "IPY_MODEL_dd88ae6182c443dc8ca6902e0d9886df"
      }
     },
     "97e0ef5c9e3c4ee79b885cb5d1d08edd": {
      "model_module": "@jupyter-widgets/controls",
      "model_module_version": "1.4.0",
      "model_name": "DescriptionStyleModel",
      "state": {
       "description_width": ""
      }
     },
     "97e63d93a3a845dab288b5933e4d63d8": {
      "model_module": "@jupyter-widgets/base",
      "model_module_version": "1.1.0",
      "model_name": "LayoutModel",
      "state": {
       "width": "95%"
      }
     },
     "97eff644898c48caadea070f74bd0980": {
      "model_module": "@jupyter-widgets/base",
      "model_module_version": "1.1.0",
      "model_name": "LayoutModel",
      "state": {
       "justify_content": "space-between"
      }
     },
     "97fae2c3e0d04b80903741d4400b6416": {
      "model_module": "@jupyter-widgets/base",
      "model_module_version": "1.1.0",
      "model_name": "LayoutModel",
      "state": {
       "justify_content": "space-between"
      }
     },
     "97ff89407c204ead98f790868bab9a68": {
      "model_module": "@jupyter-widgets/base",
      "model_module_version": "1.1.0",
      "model_name": "LayoutModel",
      "state": {
       "width": "95%"
      }
     },
     "9815b3787eca458bbf0a77c089bebe43": {
      "model_module": "@jupyter-widgets/output",
      "model_module_version": "1.0.0",
      "model_name": "OutputModel",
      "state": {
       "layout": "IPY_MODEL_30e27ece188248d2bb65806aae6af628"
      }
     },
     "981c8aa062f94584aa5cacb5964f15a6": {
      "model_module": "@jupyter-widgets/controls",
      "model_module_version": "1.4.0",
      "model_name": "ButtonModel",
      "state": {
       "description": "3",
       "layout": "IPY_MODEL_99f762045cd44b7e9a37efde5ac38966",
       "style": "IPY_MODEL_ddf729a601064bb2b0d2ecb767a05e41"
      }
     },
     "984462c4b2bb48d88368333cbd32b801": {
      "model_module": "@jupyter-widgets/controls",
      "model_module_version": "1.4.0",
      "model_name": "ButtonStyleModel",
      "state": {}
     },
     "985504b99f3d46a2808be136d4351da6": {
      "model_module": "@jupyter-widgets/controls",
      "model_module_version": "1.4.0",
      "model_name": "ButtonStyleModel",
      "state": {}
     },
     "9857d461319a4edab3abf38256e7897b": {
      "model_module": "@jupyter-widgets/controls",
      "model_module_version": "1.4.0",
      "model_name": "VBoxModel",
      "state": {
       "children": [
        "IPY_MODEL_a4c22204488742c1a2f48f2c4dfba505",
        "IPY_MODEL_267fe158e04a4152b9f47df58a34d22f"
       ],
       "layout": "IPY_MODEL_715200f3b6e9475b816559e876e276bb"
      }
     },
     "9894b3484e94468bb60d8f288ab4704e": {
      "model_module": "@jupyter-widgets/controls",
      "model_module_version": "1.4.0",
      "model_name": "VBoxModel",
      "state": {
       "children": [
        "IPY_MODEL_4b451d84164747baa9c4a9d1ec92977d",
        "IPY_MODEL_a81bfea084344dc9a1c1a720b4878fc1"
       ],
       "layout": "IPY_MODEL_3e6b6e9cf7e044608c0c9a125829d52f"
      }
     },
     "98c3610fc7ad4e39937a4a97be400fc2": {
      "model_module": "@jupyter-widgets/base",
      "model_module_version": "1.1.0",
      "model_name": "LayoutModel",
      "state": {}
     },
     "98fc74fdee534c3da85873748b4ebdcc": {
      "model_module": "@jupyter-widgets/controls",
      "model_module_version": "1.4.0",
      "model_name": "ButtonStyleModel",
      "state": {}
     },
     "99010fc8444b47439fcd57b461eff6cf": {
      "model_module": "@jupyter-widgets/output",
      "model_module_version": "1.0.0",
      "model_name": "OutputModel",
      "state": {
       "layout": "IPY_MODEL_959da5df68e248f4a676696b7c044d0c"
      }
     },
     "992eb1908b7c415b82f2b938f061644c": {
      "model_module": "@jupyter-widgets/controls",
      "model_module_version": "1.4.0",
      "model_name": "VBoxModel",
      "state": {
       "children": [
        "IPY_MODEL_70264aee0f5a44a0bb1d64dbe0cd7b1a",
        "IPY_MODEL_dd95295113a54e3da6b224db1d83f722"
       ],
       "layout": "IPY_MODEL_b9f840a874544a228eaf2f0df2def147"
      }
     },
     "992f849fe0944a05806bb26d3df18d30": {
      "model_module": "@jupyter-widgets/controls",
      "model_module_version": "1.4.0",
      "model_name": "ButtonStyleModel",
      "state": {}
     },
     "9931ddac660a4ba1adc7022efbd4c39b": {
      "model_module": "@jupyter-widgets/base",
      "model_module_version": "1.1.0",
      "model_name": "LayoutModel",
      "state": {}
     },
     "993c38a893094a62ba0d8fe03d947d27": {
      "model_module": "@jupyter-widgets/controls",
      "model_module_version": "1.4.0",
      "model_name": "ButtonStyleModel",
      "state": {}
     },
     "99519409e3954de1958ff0ace6230388": {
      "model_module": "@jupyter-widgets/controls",
      "model_module_version": "1.4.0",
      "model_name": "ButtonStyleModel",
      "state": {}
     },
     "9956ab050dd54519b65a5bc63bdaa149": {
      "model_module": "@jupyter-widgets/base",
      "model_module_version": "1.1.0",
      "model_name": "LayoutModel",
      "state": {
       "width": "95%"
      }
     },
     "9958be17d1c74298b0331d7998eecb80": {
      "model_module": "@jupyter-widgets/base",
      "model_module_version": "1.1.0",
      "model_name": "LayoutModel",
      "state": {}
     },
     "995dddd66bac44078d7f7f37717f9b02": {
      "model_module": "@jupyter-widgets/base",
      "model_module_version": "1.1.0",
      "model_name": "LayoutModel",
      "state": {}
     },
     "9964d20538d04b998b243a8df893551b": {
      "model_module": "@jupyter-widgets/output",
      "model_module_version": "1.0.0",
      "model_name": "OutputModel",
      "state": {
       "layout": "IPY_MODEL_f6b52b1466c74d7396d4a24b48dea2c0"
      }
     },
     "9982f8091eac42eea343f7b2046f3aba": {
      "model_module": "@jupyter-widgets/base",
      "model_module_version": "1.1.0",
      "model_name": "LayoutModel",
      "state": {
       "width": "10%"
      }
     },
     "999897d97511464eb2a929c2df292c75": {
      "model_module": "@jupyter-widgets/controls",
      "model_module_version": "1.4.0",
      "model_name": "VBoxModel",
      "state": {
       "children": [
        "IPY_MODEL_a5f7ee628e8446e6a0224b82e01e5076",
        "IPY_MODEL_7f69c849237d44a9bfba402e3d7d385d"
       ],
       "layout": "IPY_MODEL_01716ac6a89a4c908b9a5d315f58a3b2"
      }
     },
     "99ca8a4a659e41639e60ed4f7bb396bd": {
      "model_module": "@jupyter-widgets/controls",
      "model_module_version": "1.4.0",
      "model_name": "VBoxModel",
      "state": {
       "children": [
        "IPY_MODEL_287b8316d87449c4ab0207f089b75506",
        "IPY_MODEL_fc2304d96af040a7a172a919e90313f5"
       ],
       "layout": "IPY_MODEL_06ae60fb422c499db371abb5830b39aa"
      }
     },
     "99d361d7c25e4636ae6f110d07e6daa9": {
      "model_module": "@jupyter-widgets/base",
      "model_module_version": "1.1.0",
      "model_name": "LayoutModel",
      "state": {
       "width": "10%"
      }
     },
     "99f4178f4f4742e4a847f960b2bebe24": {
      "model_module": "@jupyter-widgets/controls",
      "model_module_version": "1.4.0",
      "model_name": "ButtonModel",
      "state": {
       "description": "4",
       "layout": "IPY_MODEL_d5a6fc871d02436d9bf88a9e4f82b0a7",
       "style": "IPY_MODEL_af2292aee2794b58a4d4fd60c30f1a6a"
      }
     },
     "99f5964fe2e0447c8df57b599349afd4": {
      "model_module": "@jupyter-widgets/controls",
      "model_module_version": "1.4.0",
      "model_name": "DescriptionStyleModel",
      "state": {
       "description_width": ""
      }
     },
     "99f762045cd44b7e9a37efde5ac38966": {
      "model_module": "@jupyter-widgets/base",
      "model_module_version": "1.1.0",
      "model_name": "LayoutModel",
      "state": {
       "width": "95%"
      }
     },
     "99f7edf1db284053bb7b0747a6a21ee1": {
      "model_module": "@jupyter-widgets/controls",
      "model_module_version": "1.4.0",
      "model_name": "VBoxModel",
      "state": {
       "children": [
        "IPY_MODEL_46cf70d0cef34435a880eabd7bd6a9eb",
        "IPY_MODEL_8add4761531f4282bbac612d99364da4"
       ],
       "layout": "IPY_MODEL_05e1e891cba042668df73c0514595f80"
      }
     },
     "99ff157a272140b7873fbe94841c36df": {
      "model_module": "@jupyter-widgets/controls",
      "model_module_version": "1.4.0",
      "model_name": "VBoxModel",
      "state": {
       "children": [
        "IPY_MODEL_134fef5eeec343f3845af5e0163d08f7",
        "IPY_MODEL_b165df1f14bb4437bc6e6fa142200b5e"
       ],
       "layout": "IPY_MODEL_6fa5aa6e9bef44c480e76be6607c9e1c"
      }
     },
     "9a24a05ee54b4aa2950e3c62a477c501": {
      "model_module": "@jupyter-widgets/controls",
      "model_module_version": "1.4.0",
      "model_name": "ButtonStyleModel",
      "state": {}
     },
     "9a45ea79cd4845c19afaf6fe613ca6a4": {
      "model_module": "@jupyter-widgets/controls",
      "model_module_version": "1.4.0",
      "model_name": "TextModel",
      "state": {
       "description": "Other:",
       "layout": "IPY_MODEL_7e7ee3682d1d4e2fa5a426c795a8c24d",
       "placeholder": "Hit enter to submit.",
       "style": "IPY_MODEL_15b0781ccf474bea8f6f9fc6d7b46eba"
      }
     },
     "9a5380b791f84bf0bcb9484fd4d6aeb6": {
      "model_module": "@jupyter-widgets/base",
      "model_module_version": "1.1.0",
      "model_name": "LayoutModel",
      "state": {
       "justify_content": "space-between"
      }
     },
     "9a6375fbaba14e0a9d29286422925eb4": {
      "model_module": "@jupyter-widgets/output",
      "model_module_version": "1.0.0",
      "model_name": "OutputModel",
      "state": {
       "layout": "IPY_MODEL_70540698e8654fe5949a771b644f825a"
      }
     },
     "9a70d651a67f4e7790159c3627a4da85": {
      "model_module": "@jupyter-widgets/controls",
      "model_module_version": "1.4.0",
      "model_name": "VBoxModel",
      "state": {
       "children": [
        "IPY_MODEL_0a22bf1e412a4fc8a5daba885c43e7e8",
        "IPY_MODEL_ca6f6662c5384a2daef7e4022644082c"
       ],
       "layout": "IPY_MODEL_ae6430711b4d40709390cb009f383186"
      }
     },
     "9a94aaeb10104fd7a53a0bbf4b533c21": {
      "model_module": "@jupyter-widgets/base",
      "model_module_version": "1.1.0",
      "model_name": "LayoutModel",
      "state": {}
     },
     "9a95b7987a8546b48b7db66e20901881": {
      "model_module": "@jupyter-widgets/base",
      "model_module_version": "1.1.0",
      "model_name": "LayoutModel",
      "state": {
       "width": "95%"
      }
     },
     "9aa890ebe89440b4b137b678d0cf3fad": {
      "model_module": "@jupyter-widgets/base",
      "model_module_version": "1.1.0",
      "model_name": "LayoutModel",
      "state": {
       "width": "95%"
      }
     },
     "9ab7ab397e104df784dd61b8ff910466": {
      "model_module": "@jupyter-widgets/output",
      "model_module_version": "1.0.0",
      "model_name": "OutputModel",
      "state": {
       "layout": "IPY_MODEL_1fec2b78cf434f0b9aba93e89d906189"
      }
     },
     "9ad03a29ed704d4fbed3ef58a651608f": {
      "model_module": "@jupyter-widgets/base",
      "model_module_version": "1.1.0",
      "model_name": "LayoutModel",
      "state": {
       "width": "10%"
      }
     },
     "9ad9302e9ae241a48ddcfeda9580f764": {
      "model_module": "@jupyter-widgets/base",
      "model_module_version": "1.1.0",
      "model_name": "LayoutModel",
      "state": {}
     },
     "9b18f394f82e4a998b18000509c4182b": {
      "model_module": "@jupyter-widgets/output",
      "model_module_version": "1.0.0",
      "model_name": "OutputModel",
      "state": {
       "layout": "IPY_MODEL_e1ed27ac900e439fa456f25b879b2ec1"
      }
     },
     "9b1e00d5d72f463190acc7ec51ae80fc": {
      "model_module": "@jupyter-widgets/base",
      "model_module_version": "1.1.0",
      "model_name": "LayoutModel",
      "state": {
       "width": "95%"
      }
     },
     "9b4c23f079134e0f8d05476637e846cc": {
      "model_module": "@jupyter-widgets/controls",
      "model_module_version": "1.4.0",
      "model_name": "ButtonStyleModel",
      "state": {}
     },
     "9b5c4038c7f045c2b52b65733c3fee52": {
      "model_module": "@jupyter-widgets/controls",
      "model_module_version": "1.4.0",
      "model_name": "HBoxModel",
      "state": {
       "children": [
        "IPY_MODEL_353dd8dc792a48c2b31c0c4238e1b6ac",
        "IPY_MODEL_942b4531deb04b8d8a3f29177c21dc34",
        "IPY_MODEL_33836e9d372d40aab8717cb498a97f7d",
        "IPY_MODEL_6f888e37afcb4c86a2fd96980dd44e78",
        "IPY_MODEL_9894b3484e94468bb60d8f288ab4704e",
        "IPY_MODEL_334c90e121e74a1fa2aefb10b41774ac",
        "IPY_MODEL_5cd4e9e327824b548a87115d6608810e",
        "IPY_MODEL_a59f1b7b3edc42528c0bf74a6cdbbd65",
        "IPY_MODEL_86924ae029294004b0cbe24db676d819",
        "IPY_MODEL_4ce420c19a5d4dc2861cae7571a4fb56"
       ],
       "layout": "IPY_MODEL_180e277ddbf74e11999b8dd6e73417b0"
      }
     },
     "9b7b9d3411ad4ff19a4ef64e941255c0": {
      "model_module": "@jupyter-widgets/controls",
      "model_module_version": "1.4.0",
      "model_name": "VBoxModel",
      "state": {
       "children": [
        "IPY_MODEL_6eaf5629ae274584b1de2535f134e398",
        "IPY_MODEL_373f3e1f68b64090b30b72f4dcb483d0"
       ],
       "layout": "IPY_MODEL_355ec46e6d614807b144171d24559804"
      }
     },
     "9b7e63cbffb4494caeaff35e478a37bc": {
      "model_module": "@jupyter-widgets/base",
      "model_module_version": "1.1.0",
      "model_name": "LayoutModel",
      "state": {}
     },
     "9b918f9a99f44963a597372b8cc359b7": {
      "model_module": "@jupyter-widgets/controls",
      "model_module_version": "1.4.0",
      "model_name": "HBoxModel",
      "state": {
       "children": [
        "IPY_MODEL_bdbe24cc2952487ba25b59586b84f322",
        "IPY_MODEL_fd6578d4d24a415b8a1845c1e2c08c58"
       ],
       "layout": "IPY_MODEL_1d8e4998670346388cac4624b0e7c20e"
      }
     },
     "9b96f3f63eb7415eaa57021ec74de67d": {
      "model_module": "@jupyter-widgets/base",
      "model_module_version": "1.1.0",
      "model_name": "LayoutModel",
      "state": {
       "width": "95%"
      }
     },
     "9ba5c9e64b104e079ce21b84277e8e30": {
      "model_module": "@jupyter-widgets/base",
      "model_module_version": "1.1.0",
      "model_name": "LayoutModel",
      "state": {}
     },
     "9ba69d56a18747bda56f34684d196c9d": {
      "model_module": "@jupyter-widgets/output",
      "model_module_version": "1.0.0",
      "model_name": "OutputModel",
      "state": {
       "layout": "IPY_MODEL_0c8c052bd4984632842c41b5763f45ed"
      }
     },
     "9bb41d5f6bcf4fb696892b9cca856b77": {
      "model_module": "@jupyter-widgets/controls",
      "model_module_version": "1.4.0",
      "model_name": "DescriptionStyleModel",
      "state": {
       "description_width": ""
      }
     },
     "9bc0c976ee62475498fb632290f4f057": {
      "model_module": "@jupyter-widgets/controls",
      "model_module_version": "1.4.0",
      "model_name": "ButtonModel",
      "state": {
       "description": "5",
       "layout": "IPY_MODEL_a5b546dd13e24766b6872cad4439ebdd",
       "style": "IPY_MODEL_bbcfc3047d89472392b9c75571b02297"
      }
     },
     "9beed5878426404782d8fdff1f4474ed": {
      "model_module": "@jupyter-widgets/controls",
      "model_module_version": "1.4.0",
      "model_name": "VBoxModel",
      "state": {
       "children": [
        "IPY_MODEL_c5652141d4374b02a7085a5a180e51de",
        "IPY_MODEL_3baaac93ae01447bbc4e2c7e38743ffc"
       ],
       "layout": "IPY_MODEL_2cac974c2ba640f5bf89a70b580603f1"
      }
     },
     "9bfcd4d0765646539184cb6b1548dafd": {
      "model_module": "@jupyter-widgets/base",
      "model_module_version": "1.1.0",
      "model_name": "LayoutModel",
      "state": {
       "width": "10%"
      }
     },
     "9c2275c5a341477db2ee617c9b39e6ce": {
      "model_module": "@jupyter-widgets/controls",
      "model_module_version": "1.4.0",
      "model_name": "ButtonModel",
      "state": {
       "description": "2",
       "layout": "IPY_MODEL_52902191d6a24b6b8156e263c481444a",
       "style": "IPY_MODEL_43f5ac42797b4fbcb4d58220dc46aedc"
      }
     },
     "9c39057fd1ac4b61b1cba78fb514e482": {
      "model_module": "@jupyter-widgets/base",
      "model_module_version": "1.1.0",
      "model_name": "LayoutModel",
      "state": {}
     },
     "9c4b1fa2cf1d4129aa26b9722005d68b": {
      "model_module": "@jupyter-widgets/base",
      "model_module_version": "1.1.0",
      "model_name": "LayoutModel",
      "state": {
       "width": "95%"
      }
     },
     "9c5578f818314ee0a06bc73bf4ab1388": {
      "model_module": "@jupyter-widgets/base",
      "model_module_version": "1.1.0",
      "model_name": "LayoutModel",
      "state": {
       "width": "10%"
      }
     },
     "9c599a30a031482981366bd0d668b40f": {
      "model_module": "@jupyter-widgets/base",
      "model_module_version": "1.1.0",
      "model_name": "LayoutModel",
      "state": {}
     },
     "9c80714a62994ca3b52e13745985a6eb": {
      "model_module": "@jupyter-widgets/controls",
      "model_module_version": "1.4.0",
      "model_name": "ButtonModel",
      "state": {
       "description": "7",
       "layout": "IPY_MODEL_003879fdf969499c8b31dde4b08d5439",
       "style": "IPY_MODEL_15c9ae3d4f4a45e38a0a4be863918fda"
      }
     },
     "9c86608cbe4a4e44aa9aeb8d538d8d63": {
      "model_module": "@jupyter-widgets/base",
      "model_module_version": "1.1.0",
      "model_name": "LayoutModel",
      "state": {
       "width": "95%"
      }
     },
     "9c9b3b5004d3497b8128ee848d875e5c": {
      "model_module": "@jupyter-widgets/base",
      "model_module_version": "1.1.0",
      "model_name": "LayoutModel",
      "state": {}
     },
     "9ca4d148dec94cb781e3584e2111d35e": {
      "model_module": "@jupyter-widgets/base",
      "model_module_version": "1.1.0",
      "model_name": "LayoutModel",
      "state": {}
     },
     "9ca8ff74e4bb462b8ed395cfe4a4e4af": {
      "model_module": "@jupyter-widgets/base",
      "model_module_version": "1.1.0",
      "model_name": "LayoutModel",
      "state": {
       "width": "95%"
      }
     },
     "9cac7f85a005496dbdf0431a994eccfc": {
      "model_module": "@jupyter-widgets/controls",
      "model_module_version": "1.4.0",
      "model_name": "ButtonModel",
      "state": {
       "description": "1",
       "layout": "IPY_MODEL_4384908021a1427cac966349d00fe76c",
       "style": "IPY_MODEL_f61e00b744de4e85b6f41ebb298888ea"
      }
     },
     "9cd117c549bb4fba85a1d33ee94d8508": {
      "model_module": "@jupyter-widgets/base",
      "model_module_version": "1.1.0",
      "model_name": "LayoutModel",
      "state": {}
     },
     "9cdaa3a5682b4e0e97b33edc9282e2b2": {
      "model_module": "@jupyter-widgets/controls",
      "model_module_version": "1.4.0",
      "model_name": "TextModel",
      "state": {
       "description": "Other:",
       "layout": "IPY_MODEL_0bbdd0a241734f21ab4343e44a6087ba",
       "placeholder": "Hit enter to submit.",
       "style": "IPY_MODEL_b9bdb70061184cf29118b7b2bc71872f"
      }
     },
     "9cdff3fd7b0747d19c6455e4e1c6dd8f": {
      "model_module": "@jupyter-widgets/base",
      "model_module_version": "1.1.0",
      "model_name": "LayoutModel",
      "state": {}
     },
     "9ce9762ce9294724bb2cbb052faa101e": {
      "model_module": "@jupyter-widgets/controls",
      "model_module_version": "1.4.0",
      "model_name": "VBoxModel",
      "state": {
       "children": [
        "IPY_MODEL_4d6f0cf9d8bd4156a03535147674bbcd",
        "IPY_MODEL_4e3d67509ffd429cacc6a9f05904fa9c"
       ],
       "layout": "IPY_MODEL_e1a675185f63472094689ac20a33f2df"
      }
     },
     "9cee3981b2be4c36acabfa47168bcdfa": {
      "model_module": "@jupyter-widgets/controls",
      "model_module_version": "1.4.0",
      "model_name": "VBoxModel",
      "state": {
       "children": [
        "IPY_MODEL_9d1746b19fc64da99d80f4951aa9a30f",
        "IPY_MODEL_04b75589f1174bb390cbf37aac23af6c"
       ],
       "layout": "IPY_MODEL_ddd34a6e9bda4ef9a672956e7bd11e6c"
      }
     },
     "9d0de81f83e34c3b84ed245aea53b01d": {
      "model_module": "@jupyter-widgets/controls",
      "model_module_version": "1.4.0",
      "model_name": "HBoxModel",
      "state": {
       "children": [
        "IPY_MODEL_a7b44988270847eabb0bf8f369e3567b",
        "IPY_MODEL_8ff52e9bec0d4c2bbfd8b2d96b28d24c",
        "IPY_MODEL_85b809c18a6c4a50963c04ccc34d9c28"
       ],
       "layout": "IPY_MODEL_a311083e675e4f47be773763d0019395"
      }
     },
     "9d1746b19fc64da99d80f4951aa9a30f": {
      "model_module": "@jupyter-widgets/controls",
      "model_module_version": "1.4.0",
      "model_name": "ButtonModel",
      "state": {
       "description": "8",
       "layout": "IPY_MODEL_6607b78c65b94ff39538075e80630925",
       "style": "IPY_MODEL_284591d04f494bc1ba97a825ce19d48e"
      }
     },
     "9d1fb07ded2444bf893e6237b5ec5c2b": {
      "model_module": "@jupyter-widgets/controls",
      "model_module_version": "1.4.0",
      "model_name": "ButtonModel",
      "state": {
       "description": "2",
       "layout": "IPY_MODEL_b7c712c2e5e949a6bc3bd6537cbd1bf9",
       "style": "IPY_MODEL_62caffbc6d8a47628dcf85b88f341071"
      }
     },
     "9d415440aed54bfaaf4a7d553585e8f8": {
      "model_module": "@jupyter-widgets/output",
      "model_module_version": "1.0.0",
      "model_name": "OutputModel",
      "state": {
       "layout": "IPY_MODEL_1be19ed5662745cfbb4579ef048c6b58"
      }
     },
     "9d5091ddf58b49b8ad599d2b0dd0b8ed": {
      "model_module": "@jupyter-widgets/output",
      "model_module_version": "1.0.0",
      "model_name": "OutputModel",
      "state": {
       "layout": "IPY_MODEL_0f8105c9db794ab78daf6fe2ee22aef5"
      }
     },
     "9d9fe3cbbe2c4ef8994456e0c89d2a0b": {
      "model_module": "@jupyter-widgets/base",
      "model_module_version": "1.1.0",
      "model_name": "LayoutModel",
      "state": {
       "width": "95%"
      }
     },
     "9dcd4c254ecd400d8ec6c97ab858d1c9": {
      "model_module": "@jupyter-widgets/controls",
      "model_module_version": "1.4.0",
      "model_name": "VBoxModel",
      "state": {
       "children": [
        "IPY_MODEL_6752ef7297a6457588b9104b2c7e4a27",
        "IPY_MODEL_73ec00cf93344401bacdf231c0ec64f8"
       ],
       "layout": "IPY_MODEL_d71d6dd8d74443429918074a10619726"
      }
     },
     "9de7da2daaec450c95ff116f2cf6f6ec": {
      "model_module": "@jupyter-widgets/controls",
      "model_module_version": "1.4.0",
      "model_name": "ButtonStyleModel",
      "state": {}
     },
     "9dff5de94a8f4edca999fe07839adaa0": {
      "model_module": "@jupyter-widgets/base",
      "model_module_version": "1.1.0",
      "model_name": "LayoutModel",
      "state": {
       "width": "10%"
      }
     },
     "9e03b71081d24e2287ab3df507fcb760": {
      "model_module": "@jupyter-widgets/output",
      "model_module_version": "1.0.0",
      "model_name": "OutputModel",
      "state": {
       "layout": "IPY_MODEL_e46cdbb4ff4642fea19f9f8ab6a85599"
      }
     },
     "9e11901fb7a0494487ff0d1529178a5b": {
      "model_module": "@jupyter-widgets/base",
      "model_module_version": "1.1.0",
      "model_name": "LayoutModel",
      "state": {
       "width": "95%"
      }
     },
     "9e1c206c3c434713b954c8bd9e761629": {
      "model_module": "@jupyter-widgets/controls",
      "model_module_version": "1.4.0",
      "model_name": "ButtonModel",
      "state": {
       "description": "9",
       "layout": "IPY_MODEL_d9a52a773ae54a8c8f05bed5ddb78dde",
       "style": "IPY_MODEL_acd5cdcb636348b6837f1d43d620c2f1"
      }
     },
     "9e33b4947e6e4517b55ea3eaf5170deb": {
      "model_module": "@jupyter-widgets/controls",
      "model_module_version": "1.4.0",
      "model_name": "VBoxModel",
      "state": {
       "children": [
        "IPY_MODEL_621bb7860f924f5d8050b58bd9e29369",
        "IPY_MODEL_9e03b71081d24e2287ab3df507fcb760"
       ],
       "layout": "IPY_MODEL_f08e57bfb23649dbb1b9543f21a6bdc3"
      }
     },
     "9e49b652453849c29ab14c0e00627c0d": {
      "model_module": "@jupyter-widgets/base",
      "model_module_version": "1.1.0",
      "model_name": "LayoutModel",
      "state": {}
     },
     "9e6fc5366beb49cda4b747222cc52070": {
      "model_module": "@jupyter-widgets/controls",
      "model_module_version": "1.4.0",
      "model_name": "ButtonStyleModel",
      "state": {}
     },
     "9e79554743424cbfbb7106eb99d349e0": {
      "model_module": "@jupyter-widgets/controls",
      "model_module_version": "1.4.0",
      "model_name": "ButtonModel",
      "state": {
       "description": "7",
       "layout": "IPY_MODEL_0cd2e9218ce8434fbc8156f931c09c9a",
       "style": "IPY_MODEL_c6876ca26fb54b4f8ee4f7c32718765a"
      }
     },
     "9e7b4a177a0b4829bd90237b8cb1bf95": {
      "model_module": "@jupyter-widgets/controls",
      "model_module_version": "1.4.0",
      "model_name": "ButtonStyleModel",
      "state": {}
     },
     "9e7d60d65f284650a0950154124b70ed": {
      "model_module": "@jupyter-widgets/controls",
      "model_module_version": "1.4.0",
      "model_name": "VBoxModel",
      "state": {
       "children": [
        "IPY_MODEL_0faac7af54664e04ab56b6fe56779135",
        "IPY_MODEL_2b61fde1d56d4841be048a0eb70e9372"
       ],
       "layout": "IPY_MODEL_a7fc7e6f21334c6794a001d88523aad2"
      }
     },
     "9e803b23ff7742878d0d8c430bd19ac5": {
      "model_module": "@jupyter-widgets/controls",
      "model_module_version": "1.4.0",
      "model_name": "ButtonModel",
      "state": {
       "description": "1",
       "layout": "IPY_MODEL_5ce1c9c031134ebd8ad9f503eddd46e2",
       "style": "IPY_MODEL_f0abf6c29c0b4a1095f551ff729c5a95"
      }
     },
     "9e89c48f723f4752823e6e22661ecd8e": {
      "model_module": "@jupyter-widgets/controls",
      "model_module_version": "1.4.0",
      "model_name": "ButtonModel",
      "state": {
       "description": "4",
       "layout": "IPY_MODEL_fd49a1082356403dae178b0181763038",
       "style": "IPY_MODEL_464e2857bdbe4acabbb2ac6da54f2306"
      }
     },
     "9e9cd140795f4fe59299f1b4926ae472": {
      "model_module": "@jupyter-widgets/controls",
      "model_module_version": "1.4.0",
      "model_name": "ButtonStyleModel",
      "state": {}
     },
     "9ea2682fe0d542ea8ede17fd814e2e61": {
      "model_module": "@jupyter-widgets/output",
      "model_module_version": "1.0.0",
      "model_name": "OutputModel",
      "state": {
       "layout": "IPY_MODEL_781bd41ba7aa483cbb1dbc06f561267e"
      }
     },
     "9ea65b2ab39e4ab0bfd6f191acda27f3": {
      "model_module": "@jupyter-widgets/controls",
      "model_module_version": "1.4.0",
      "model_name": "ButtonStyleModel",
      "state": {}
     },
     "9ed49bbf8337456a855fe497763faca7": {
      "model_module": "@jupyter-widgets/output",
      "model_module_version": "1.0.0",
      "model_name": "OutputModel",
      "state": {
       "layout": "IPY_MODEL_0698b851b9604dae8f12cdded02ddecb"
      }
     },
     "9ed58d020866450a963e67609a2782c2": {
      "model_module": "@jupyter-widgets/controls",
      "model_module_version": "1.4.0",
      "model_name": "VBoxModel",
      "state": {
       "children": [
        "IPY_MODEL_033d9691c0d14d39a14a8147c2b0b381",
        "IPY_MODEL_a6eab5e37ef94ba7a31398ce3331b90b"
       ],
       "layout": "IPY_MODEL_69efa9b834704faba9eaa9e84ee6fe00"
      }
     },
     "9eff8c0b39bf4803a872aa1a20160b60": {
      "model_module": "@jupyter-widgets/controls",
      "model_module_version": "1.4.0",
      "model_name": "VBoxModel",
      "state": {
       "children": [
        "IPY_MODEL_4f74dd81c21d4665a7f439986e611e74",
        "IPY_MODEL_73e3e0bd66214bdfb67a3761ea7e6593"
       ],
       "layout": "IPY_MODEL_12e8e50d9f704e5bad3e1ce977c95eea"
      }
     },
     "9f05606930ce47bca554eec0977c7b8e": {
      "model_module": "@jupyter-widgets/controls",
      "model_module_version": "1.4.0",
      "model_name": "ButtonStyleModel",
      "state": {}
     },
     "9f0a9c993cda49f2b8d6fc307a6f7d85": {
      "model_module": "@jupyter-widgets/controls",
      "model_module_version": "1.4.0",
      "model_name": "VBoxModel",
      "state": {
       "children": [
        "IPY_MODEL_e1a1483a73284798bdb8514da664e1b8",
        "IPY_MODEL_0f959cb0e42643afa275af5519384186"
       ],
       "layout": "IPY_MODEL_5ac354419ff14dcaab8c8340f184bd9c"
      }
     },
     "9f0aec11e2104d5faab08b66664f9e58": {
      "model_module": "@jupyter-widgets/output",
      "model_module_version": "1.0.0",
      "model_name": "OutputModel",
      "state": {
       "layout": "IPY_MODEL_658d4fcedfcb4597b9677a2b2c660924"
      }
     },
     "9f123532b22841ca9b49a2fe1f24dc60": {
      "model_module": "@jupyter-widgets/base",
      "model_module_version": "1.1.0",
      "model_name": "LayoutModel",
      "state": {}
     },
     "9f1d835aba1b4b26834901a5027f3358": {
      "model_module": "@jupyter-widgets/controls",
      "model_module_version": "1.4.0",
      "model_name": "ButtonStyleModel",
      "state": {}
     },
     "9f1e4c295cf147a3a7869b6994afa7d5": {
      "model_module": "@jupyter-widgets/output",
      "model_module_version": "1.0.0",
      "model_name": "OutputModel",
      "state": {
       "layout": "IPY_MODEL_0aed1035219a4d65b2fa76a53d53ae34"
      }
     },
     "9f2a35256e124c67b264479d6b55f5c1": {
      "model_module": "@jupyter-widgets/controls",
      "model_module_version": "1.4.0",
      "model_name": "VBoxModel",
      "state": {
       "children": [
        "IPY_MODEL_88653dbdb0f346f5b15f77b3b11abb23",
        "IPY_MODEL_2e1467257c474e29a4d8c5d404831723"
       ],
       "layout": "IPY_MODEL_29c6f7d7ae2e46ed9d2bd44fcab9f744"
      }
     },
     "9f5d5c46650549d5b449d1a75977ed93": {
      "model_module": "@jupyter-widgets/controls",
      "model_module_version": "1.4.0",
      "model_name": "ButtonModel",
      "state": {
       "description": "5",
       "layout": "IPY_MODEL_148238d56334444ca5e7a9d8bead6d60",
       "style": "IPY_MODEL_e0d9009772fd47568fccc0d1ee68fabb"
      }
     },
     "9f6f89b7ea7d43c79b3a9653364af045": {
      "model_module": "@jupyter-widgets/controls",
      "model_module_version": "1.4.0",
      "model_name": "ButtonModel",
      "state": {
       "description": "3",
       "layout": "IPY_MODEL_3893a7772af74335baeb91b67d02d154",
       "style": "IPY_MODEL_ae9dd33da83c4805be224f1d445a644d"
      }
     },
     "9f758925d5024f7a953db0db665f2fd9": {
      "model_module": "@jupyter-widgets/base",
      "model_module_version": "1.1.0",
      "model_name": "LayoutModel",
      "state": {}
     },
     "9f79dab7d74742de9757458b6adf29b4": {
      "model_module": "@jupyter-widgets/base",
      "model_module_version": "1.1.0",
      "model_name": "LayoutModel",
      "state": {}
     },
     "9f88dc41d64b41ebbad6eedee6f6e5a6": {
      "model_module": "@jupyter-widgets/controls",
      "model_module_version": "1.4.0",
      "model_name": "ButtonModel",
      "state": {
       "description": "9",
       "layout": "IPY_MODEL_d742d4919cf840b5a41f4a494aa03cba",
       "style": "IPY_MODEL_666c68fc683440d1b30a219952fc46e4"
      }
     },
     "9f944aec256443eeb24c54ffcd63cf0a": {
      "model_module": "@jupyter-widgets/base",
      "model_module_version": "1.1.0",
      "model_name": "LayoutModel",
      "state": {
       "width": "95%"
      }
     },
     "9fba2ce11fa44c389ed666a32d39bf3b": {
      "model_module": "@jupyter-widgets/base",
      "model_module_version": "1.1.0",
      "model_name": "LayoutModel",
      "state": {}
     },
     "9fbb247aafd341fe9071af03c522b63b": {
      "model_module": "@jupyter-widgets/controls",
      "model_module_version": "1.4.0",
      "model_name": "ButtonStyleModel",
      "state": {}
     },
     "9fbf1d13ffc24b128061165f8bfac917": {
      "model_module": "@jupyter-widgets/base",
      "model_module_version": "1.1.0",
      "model_name": "LayoutModel",
      "state": {
       "width": "10%"
      }
     },
     "9fccd5c1694d4fd49087e31fc7a80d25": {
      "model_module": "@jupyter-widgets/base",
      "model_module_version": "1.1.0",
      "model_name": "LayoutModel",
      "state": {}
     },
     "9fdd8335834f4e2faf68039b29a6b5cb": {
      "model_module": "@jupyter-widgets/controls",
      "model_module_version": "1.4.0",
      "model_name": "ButtonStyleModel",
      "state": {}
     },
     "9fdecf9f39df42c2b23d54d99f7324a7": {
      "model_module": "@jupyter-widgets/base",
      "model_module_version": "1.1.0",
      "model_name": "LayoutModel",
      "state": {}
     },
     "9fe570117115405e84622ec64cebef27": {
      "model_module": "@jupyter-widgets/base",
      "model_module_version": "1.1.0",
      "model_name": "LayoutModel",
      "state": {
       "width": "95%"
      }
     },
     "a0246157e11a4a71b6c0559005694a80": {
      "model_module": "@jupyter-widgets/controls",
      "model_module_version": "1.4.0",
      "model_name": "VBoxModel",
      "state": {
       "children": [
        "IPY_MODEL_16cc115d422e49ae829c60f53e6a3696",
        "IPY_MODEL_f98b385d6b044afeb2b62568fd153f7b"
       ],
       "layout": "IPY_MODEL_b054364f5ccc4b5c9975d2bf38bf7449"
      }
     },
     "a0266e1a6b62439a84c930105f00a39c": {
      "model_module": "@jupyter-widgets/controls",
      "model_module_version": "1.4.0",
      "model_name": "ButtonModel",
      "state": {
       "description": "2",
       "layout": "IPY_MODEL_6f6e8bffa45f47c899eecbae4c383d73",
       "style": "IPY_MODEL_544bdce9cc8142fbae0c8d83b0e60711"
      }
     },
     "a02a0b7441174a6985ba97a368b09bf4": {
      "model_module": "@jupyter-widgets/controls",
      "model_module_version": "1.4.0",
      "model_name": "ButtonStyleModel",
      "state": {}
     },
     "a0607a4f1d2644b9a3d9e9f695f39a8c": {
      "model_module": "@jupyter-widgets/base",
      "model_module_version": "1.1.0",
      "model_name": "LayoutModel",
      "state": {
       "width": "95%"
      }
     },
     "a06d9f7e635c45f58515d1bc41e88d57": {
      "model_module": "@jupyter-widgets/controls",
      "model_module_version": "1.4.0",
      "model_name": "VBoxModel",
      "state": {
       "children": [
        "IPY_MODEL_9cac7f85a005496dbdf0431a994eccfc",
        "IPY_MODEL_669e7752d17d46e99dee3e41f8f7a840"
       ],
       "layout": "IPY_MODEL_ef88f6c15f114608b34ce246250bd1f3"
      }
     },
     "a0849cc33e714d4b90aee7d13407fe4a": {
      "model_module": "@jupyter-widgets/base",
      "model_module_version": "1.1.0",
      "model_name": "LayoutModel",
      "state": {
       "width": "10%"
      }
     },
     "a08c13ad003643c28c86db062435747c": {
      "model_module": "@jupyter-widgets/controls",
      "model_module_version": "1.4.0",
      "model_name": "ButtonStyleModel",
      "state": {}
     },
     "a0a0dbebe5a14e6da24ea8275d3a2c25": {
      "model_module": "@jupyter-widgets/output",
      "model_module_version": "1.0.0",
      "model_name": "OutputModel",
      "state": {
       "layout": "IPY_MODEL_a9cf2a8f7b2d47a79a81d1641aed8471"
      }
     },
     "a0be9813967c4793be24cffe293f237f": {
      "model_module": "@jupyter-widgets/controls",
      "model_module_version": "1.4.0",
      "model_name": "VBoxModel",
      "state": {
       "children": [
        "IPY_MODEL_cab3bd180806415b8eddf015946bdeaf",
        "IPY_MODEL_f1ebac9119d641c49783eda8d25274a7"
       ],
       "layout": "IPY_MODEL_a8d9c0c29f9243dc9f394ee5eaeed948"
      }
     },
     "a0c8a07ed6cb44efb0592b5bbd1db117": {
      "model_module": "@jupyter-widgets/controls",
      "model_module_version": "1.4.0",
      "model_name": "ButtonStyleModel",
      "state": {}
     },
     "a0d30b5cc539499399a1da180bba0588": {
      "model_module": "@jupyter-widgets/controls",
      "model_module_version": "1.4.0",
      "model_name": "HBoxModel",
      "state": {
       "children": [
        "IPY_MODEL_a7b44988270847eabb0bf8f369e3567b",
        "IPY_MODEL_8ff52e9bec0d4c2bbfd8b2d96b28d24c",
        "IPY_MODEL_85b809c18a6c4a50963c04ccc34d9c28"
       ],
       "layout": "IPY_MODEL_a714d75b228a4ed4ac111adf117055df"
      }
     },
     "a0dcfb70cc2a4feca42e89a3a60e405b": {
      "model_module": "@jupyter-widgets/output",
      "model_module_version": "1.0.0",
      "model_name": "OutputModel",
      "state": {
       "layout": "IPY_MODEL_8f7592e35b014ae1937b330d1801b900"
      }
     },
     "a11b0d1839dd454a84f8fd9b2fc40f49": {
      "model_module": "@jupyter-widgets/controls",
      "model_module_version": "1.4.0",
      "model_name": "VBoxModel",
      "state": {
       "children": [
        "IPY_MODEL_2e126f6386684aa4a0f37905bad2af58",
        "IPY_MODEL_cf42695d3fb74ee3ba068b17a38489cf"
       ],
       "layout": "IPY_MODEL_8c16ba2719ef4a719cea159ed188b6f5"
      }
     },
     "a11cadde44d14246b4e5323be9cf23fe": {
      "model_module": "@jupyter-widgets/controls",
      "model_module_version": "1.4.0",
      "model_name": "VBoxModel",
      "state": {
       "children": [
        "IPY_MODEL_a2ed2a85c5454b5eb82a921f85773546",
        "IPY_MODEL_091399ad2d264557997f32a562b46744"
       ],
       "layout": "IPY_MODEL_84e56881676b4eedb8af5c9ce64874df"
      }
     },
     "a11e2402801246828f1b8ede424504ba": {
      "model_module": "@jupyter-widgets/base",
      "model_module_version": "1.1.0",
      "model_name": "LayoutModel",
      "state": {}
     },
     "a14742a68c4c46c399022924fff739bd": {
      "model_module": "@jupyter-widgets/base",
      "model_module_version": "1.1.0",
      "model_name": "LayoutModel",
      "state": {
       "width": "95%"
      }
     },
     "a14c234146f84c83ab73bc8663cf114f": {
      "model_module": "@jupyter-widgets/controls",
      "model_module_version": "1.4.0",
      "model_name": "HBoxModel",
      "state": {
       "children": [
        "IPY_MODEL_e00d57105bed4182bbbcfe27d04f000c",
        "IPY_MODEL_34307b58bbbc442daeb77f8ef2cafb6c",
        "IPY_MODEL_b65b400f87d2422f959288e057c25481",
        "IPY_MODEL_70d7a62b31154721a064f8edf386fc8a",
        "IPY_MODEL_90a1c9bd81ed4328988ba7ca1131606f",
        "IPY_MODEL_5af52d96d2df4f8584fc3154a4ee51cb",
        "IPY_MODEL_9ce9762ce9294724bb2cbb052faa101e",
        "IPY_MODEL_114c4d3e146e4a3daafcaf28a73d4908",
        "IPY_MODEL_f5842d1eb9a44ce0a38b0ebdb49a2faf",
        "IPY_MODEL_9e33b4947e6e4517b55ea3eaf5170deb"
       ],
       "layout": "IPY_MODEL_7c7430d7e3aa4a8db7786d5b9420ea5d"
      }
     },
     "a15d72b7328544abb6cff997071183fe": {
      "model_module": "@jupyter-widgets/output",
      "model_module_version": "1.0.0",
      "model_name": "OutputModel",
      "state": {
       "layout": "IPY_MODEL_9b7e63cbffb4494caeaff35e478a37bc"
      }
     },
     "a1775089feb74ed090d40c95f66edd29": {
      "model_module": "@jupyter-widgets/base",
      "model_module_version": "1.1.0",
      "model_name": "LayoutModel",
      "state": {
       "width": "10%"
      }
     },
     "a1920cb3f3cb46d1aa0dbd4afcedd6d1": {
      "model_module": "@jupyter-widgets/controls",
      "model_module_version": "1.4.0",
      "model_name": "VBoxModel",
      "state": {
       "children": [
        "IPY_MODEL_3de901d7cfbf44cab208d608df41e129",
        "IPY_MODEL_4400746eff754f5a997c6fac13710c55"
       ],
       "layout": "IPY_MODEL_41dc4adbe67247fc90ed7078a1f387d5"
      }
     },
     "a1946d28d9ec419badab04caab377012": {
      "model_module": "@jupyter-widgets/base",
      "model_module_version": "1.1.0",
      "model_name": "LayoutModel",
      "state": {}
     },
     "a1990986c24c44b7ae2edfd315ae5433": {
      "model_module": "@jupyter-widgets/base",
      "model_module_version": "1.1.0",
      "model_name": "LayoutModel",
      "state": {}
     },
     "a1b1ad1d626e4db187c7ac6ad2434981": {
      "model_module": "@jupyter-widgets/controls",
      "model_module_version": "1.4.0",
      "model_name": "ButtonStyleModel",
      "state": {}
     },
     "a1c788ad693a404e89bfa13733e25df8": {
      "model_module": "@jupyter-widgets/controls",
      "model_module_version": "1.4.0",
      "model_name": "TextModel",
      "state": {
       "description": "Other:",
       "layout": "IPY_MODEL_b37beac13e15429986ac6bce8f13ef69",
       "placeholder": "Hit enter to submit.",
       "style": "IPY_MODEL_7e0d8c5497d34688b7d6ad4e3c85d07e"
      }
     },
     "a1d10fa4a7d54d158617859003196609": {
      "model_module": "@jupyter-widgets/controls",
      "model_module_version": "1.4.0",
      "model_name": "ButtonStyleModel",
      "state": {}
     },
     "a1eccc696e044400be9f41ce2ae31344": {
      "model_module": "@jupyter-widgets/controls",
      "model_module_version": "1.4.0",
      "model_name": "ButtonModel",
      "state": {
       "description": "3",
       "layout": "IPY_MODEL_7065d348f5694c6ab8434cd916d1d8ad",
       "style": "IPY_MODEL_02c92a5c50254cb590735f488cc4d269"
      }
     },
     "a1fa5969eaec4119b164c99388e3672b": {
      "model_module": "@jupyter-widgets/base",
      "model_module_version": "1.1.0",
      "model_name": "LayoutModel",
      "state": {}
     },
     "a206a707cd6948abbbcd83afeafc2c03": {
      "model_module": "@jupyter-widgets/controls",
      "model_module_version": "1.4.0",
      "model_name": "VBoxModel",
      "state": {
       "children": [
        "IPY_MODEL_9f5d5c46650549d5b449d1a75977ed93",
        "IPY_MODEL_fc2e768657154d42bd5ec73539c9b00e"
       ],
       "layout": "IPY_MODEL_efad1785b74045bab9d2fc14ca0f1da4"
      }
     },
     "a23a3e0032c0441fa11c5941bd1581a3": {
      "model_module": "@jupyter-widgets/base",
      "model_module_version": "1.1.0",
      "model_name": "LayoutModel",
      "state": {
       "width": "10%"
      }
     },
     "a25f1be052d445c89dedb8636319ba1d": {
      "model_module": "@jupyter-widgets/controls",
      "model_module_version": "1.4.0",
      "model_name": "ButtonModel",
      "state": {
       "description": "0",
       "layout": "IPY_MODEL_dda15857653c4b4d862565a76e0ee95c",
       "style": "IPY_MODEL_bbd2eaeba4994c938d606b81edfba7b1"
      }
     },
     "a2681176d49245738e30f08935639305": {
      "model_module": "@jupyter-widgets/base",
      "model_module_version": "1.1.0",
      "model_name": "LayoutModel",
      "state": {
       "width": "10%"
      }
     },
     "a27c68b91483441d861768d5fcd341c8": {
      "model_module": "@jupyter-widgets/output",
      "model_module_version": "1.0.0",
      "model_name": "OutputModel",
      "state": {
       "layout": "IPY_MODEL_8008741eb19a455080083b4a8a213052"
      }
     },
     "a280d7114d6a43628feff978237a3979": {
      "model_module": "@jupyter-widgets/controls",
      "model_module_version": "1.4.0",
      "model_name": "ButtonModel",
      "state": {
       "description": "5",
       "layout": "IPY_MODEL_881523a06e3142a2b0a12b82c6b757dc",
       "style": "IPY_MODEL_f00982f2d9fb46d29acc2cbfb12b25ce"
      }
     },
     "a2c6b1234e1e45458ceb6cc6bad8c753": {
      "model_module": "@jupyter-widgets/base",
      "model_module_version": "1.1.0",
      "model_name": "LayoutModel",
      "state": {
       "width": "10%"
      }
     },
     "a2ed2a85c5454b5eb82a921f85773546": {
      "model_module": "@jupyter-widgets/controls",
      "model_module_version": "1.4.0",
      "model_name": "ButtonModel",
      "state": {
       "description": "6",
       "layout": "IPY_MODEL_1f6da440b3ed43fbbfce50314e2409f5",
       "style": "IPY_MODEL_ff685f88e7e34fbea07eacf0734bbe83"
      }
     },
     "a2eecec8f09e4813938e87bfdf113261": {
      "model_module": "@jupyter-widgets/controls",
      "model_module_version": "1.4.0",
      "model_name": "VBoxModel",
      "state": {
       "children": [
        "IPY_MODEL_cab8e13d26754d81aeedd67fd414adc7",
        "IPY_MODEL_6696fdd919d945fd98e7c7fca25a8573"
       ],
       "layout": "IPY_MODEL_8436055ea71e4d61ba501a436ec51940"
      }
     },
     "a2f04e6bdbc44271bcd64ff8f5a177e7": {
      "model_module": "@jupyter-widgets/output",
      "model_module_version": "1.0.0",
      "model_name": "OutputModel",
      "state": {
       "layout": "IPY_MODEL_a1990986c24c44b7ae2edfd315ae5433"
      }
     },
     "a303853b5f654aa984efca98bc34665f": {
      "model_module": "@jupyter-widgets/base",
      "model_module_version": "1.1.0",
      "model_name": "LayoutModel",
      "state": {
       "width": "10%"
      }
     },
     "a311083e675e4f47be773763d0019395": {
      "model_module": "@jupyter-widgets/base",
      "model_module_version": "1.1.0",
      "model_name": "LayoutModel",
      "state": {}
     },
     "a3673390d58c45ac9a23c9b99745e68f": {
      "model_module": "@jupyter-widgets/base",
      "model_module_version": "1.1.0",
      "model_name": "LayoutModel",
      "state": {}
     },
     "a37b9ced9fe74061b4332e9bcbf0b74a": {
      "model_module": "@jupyter-widgets/base",
      "model_module_version": "1.1.0",
      "model_name": "LayoutModel",
      "state": {}
     },
     "a37c381e8691446f979e2720cbd19e46": {
      "model_module": "@jupyter-widgets/base",
      "model_module_version": "1.1.0",
      "model_name": "LayoutModel",
      "state": {}
     },
     "a37dcef3b3014a31843afb7f032220b4": {
      "model_module": "@jupyter-widgets/controls",
      "model_module_version": "1.4.0",
      "model_name": "TextModel",
      "state": {
       "description": "Other:",
       "layout": "IPY_MODEL_7d252141c02e4c05acb0c305a329c7ae",
       "placeholder": "Hit enter to submit.",
       "style": "IPY_MODEL_14360570a42542ba8e3a0f41ba2e16cc"
      }
     },
     "a39e472b95c542ddbe9dfe3af05fd0a7": {
      "model_module": "@jupyter-widgets/output",
      "model_module_version": "1.0.0",
      "model_name": "OutputModel",
      "state": {
       "layout": "IPY_MODEL_405721b4abe64aaebab08e80674ed68d"
      }
     },
     "a3d1d6a6d3264b778fe5abd98515f286": {
      "model_module": "@jupyter-widgets/base",
      "model_module_version": "1.1.0",
      "model_name": "LayoutModel",
      "state": {}
     },
     "a3da7dcbebfd4aa08b05b859354485ca": {
      "model_module": "@jupyter-widgets/base",
      "model_module_version": "1.1.0",
      "model_name": "LayoutModel",
      "state": {}
     },
     "a3f6983902444438bb813b3ead5904ef": {
      "model_module": "@jupyter-widgets/base",
      "model_module_version": "1.1.0",
      "model_name": "LayoutModel",
      "state": {}
     },
     "a3f6e7fbc5404d36b5fb94bc3c214d02": {
      "model_module": "@jupyter-widgets/controls",
      "model_module_version": "1.4.0",
      "model_name": "VBoxModel",
      "state": {
       "children": [
        "IPY_MODEL_638623bedeb04c9998f0233188c75ff7",
        "IPY_MODEL_01d1ada74b324ff39e48fc70c7f67bc5"
       ],
       "layout": "IPY_MODEL_8e859336ebf441fda6d45e557c233a02"
      }
     },
     "a3f92067713c4511b672a4bb90f9a493": {
      "model_module": "@jupyter-widgets/controls",
      "model_module_version": "1.4.0",
      "model_name": "HBoxModel",
      "state": {
       "children": [
        "IPY_MODEL_a7b44988270847eabb0bf8f369e3567b",
        "IPY_MODEL_8ff52e9bec0d4c2bbfd8b2d96b28d24c",
        "IPY_MODEL_85b809c18a6c4a50963c04ccc34d9c28"
       ],
       "layout": "IPY_MODEL_5de776108b8f491ea8b6cf3d0987d643"
      }
     },
     "a4103677db6046f5b07a03342577c0a0": {
      "model_module": "@jupyter-widgets/base",
      "model_module_version": "1.1.0",
      "model_name": "LayoutModel",
      "state": {
       "width": "10%"
      }
     },
     "a4504e35c50a409cb74e7aa1c86c0e4d": {
      "model_module": "@jupyter-widgets/controls",
      "model_module_version": "1.4.0",
      "model_name": "VBoxModel",
      "state": {
       "children": [
        "IPY_MODEL_355c7f82d71d4c3e84296923e2bf4299",
        "IPY_MODEL_5b3c8142e7ac4f37ba31f63e2717e455"
       ],
       "layout": "IPY_MODEL_6c470c455da14ec481b42db940f53b51"
      }
     },
     "a4681f32611f4a86a146632bfe33f1c2": {
      "model_module": "@jupyter-widgets/base",
      "model_module_version": "1.1.0",
      "model_name": "LayoutModel",
      "state": {
       "width": "10%"
      }
     },
     "a4972d4b56fd4ee8b3eaaa28328f2379": {
      "model_module": "@jupyter-widgets/controls",
      "model_module_version": "1.4.0",
      "model_name": "VBoxModel",
      "state": {
       "children": [
        "IPY_MODEL_aa55c892b33b4b5784111a21d5ae0e89",
        "IPY_MODEL_c5104ad3e7664c509d37a22dcefc55ee"
       ],
       "layout": "IPY_MODEL_4609bf80298946ac9717fed76120d544"
      }
     },
     "a4b676593c5a41daadd4c7e4a450806b": {
      "model_module": "@jupyter-widgets/controls",
      "model_module_version": "1.4.0",
      "model_name": "ButtonStyleModel",
      "state": {}
     },
     "a4b8c43aac754c41b30a70f45dff832f": {
      "model_module": "@jupyter-widgets/output",
      "model_module_version": "1.0.0",
      "model_name": "OutputModel",
      "state": {
       "layout": "IPY_MODEL_9e49b652453849c29ab14c0e00627c0d"
      }
     },
     "a4be27ab2bb342e5b2d54d1bc3b48370": {
      "model_module": "@jupyter-widgets/base",
      "model_module_version": "1.1.0",
      "model_name": "LayoutModel",
      "state": {
       "width": "95%"
      }
     },
     "a4c22204488742c1a2f48f2c4dfba505": {
      "model_module": "@jupyter-widgets/controls",
      "model_module_version": "1.4.0",
      "model_name": "ButtonModel",
      "state": {
       "description": "6",
       "layout": "IPY_MODEL_5e1c945945c14a3aa382951c235560f3",
       "style": "IPY_MODEL_db1b7c4c43a74962a62f59f2433dc6d5"
      }
     },
     "a4c3640cc6bd4ab0b735de82f67ef322": {
      "model_module": "@jupyter-widgets/base",
      "model_module_version": "1.1.0",
      "model_name": "LayoutModel",
      "state": {}
     },
     "a4e77b3aa24945f18d8f443e9da6f461": {
      "model_module": "@jupyter-widgets/base",
      "model_module_version": "1.1.0",
      "model_name": "LayoutModel",
      "state": {
       "width": "10%"
      }
     },
     "a4f38f6b09344ac691964c87abc8e59d": {
      "model_module": "@jupyter-widgets/controls",
      "model_module_version": "1.4.0",
      "model_name": "ButtonModel",
      "state": {
       "description": "8",
       "layout": "IPY_MODEL_34024a43794e4d5092a097a80ec578a8",
       "style": "IPY_MODEL_2a52fec744044f90895ce895c44cf483"
      }
     },
     "a5069e0f2dcd42909f8e4dd2025dd1a1": {
      "model_module": "@jupyter-widgets/base",
      "model_module_version": "1.1.0",
      "model_name": "LayoutModel",
      "state": {
       "width": "10%"
      }
     },
     "a51c9385a76b4d528c4aadecc804096d": {
      "model_module": "@jupyter-widgets/base",
      "model_module_version": "1.1.0",
      "model_name": "LayoutModel",
      "state": {}
     },
     "a52346912a9a4d539fcc2e0678f7a44a": {
      "model_module": "@jupyter-widgets/base",
      "model_module_version": "1.1.0",
      "model_name": "LayoutModel",
      "state": {}
     },
     "a59f1b7b3edc42528c0bf74a6cdbbd65": {
      "model_module": "@jupyter-widgets/controls",
      "model_module_version": "1.4.0",
      "model_name": "VBoxModel",
      "state": {
       "children": [
        "IPY_MODEL_e4e8cfd4afa2489ea91a47535c23f901",
        "IPY_MODEL_797134d985e6494484be40c17b7cb28e"
       ],
       "layout": "IPY_MODEL_9982f8091eac42eea343f7b2046f3aba"
      }
     },
     "a5b546dd13e24766b6872cad4439ebdd": {
      "model_module": "@jupyter-widgets/base",
      "model_module_version": "1.1.0",
      "model_name": "LayoutModel",
      "state": {
       "width": "95%"
      }
     },
     "a5b89769c3fe4cd28e3f2951f932e806": {
      "model_module": "@jupyter-widgets/base",
      "model_module_version": "1.1.0",
      "model_name": "LayoutModel",
      "state": {
       "width": "95%"
      }
     },
     "a5f62c5e09aa4b2ca9d2216b21045ed9": {
      "model_module": "@jupyter-widgets/controls",
      "model_module_version": "1.4.0",
      "model_name": "VBoxModel",
      "state": {
       "children": [
        "IPY_MODEL_ba48ed7206254eeab476cd898678a540",
        "IPY_MODEL_308f229def7843539faebd821403f5ea"
       ],
       "layout": "IPY_MODEL_2eac8677e1114823a83e9924120935fe"
      }
     },
     "a5f7ee628e8446e6a0224b82e01e5076": {
      "model_module": "@jupyter-widgets/controls",
      "model_module_version": "1.4.0",
      "model_name": "ButtonModel",
      "state": {
       "description": "6",
       "layout": "IPY_MODEL_4165b51147944de0b1adf3b3f34d6f7f",
       "style": "IPY_MODEL_355a5093107148cbb426ca888d0f5e60"
      }
     },
     "a5f99cf62ae24d78a8eb2b7ec43b4920": {
      "model_module": "@jupyter-widgets/base",
      "model_module_version": "1.1.0",
      "model_name": "LayoutModel",
      "state": {}
     },
     "a6034e6656784ecf9884063c345eb5d1": {
      "model_module": "@jupyter-widgets/base",
      "model_module_version": "1.1.0",
      "model_name": "LayoutModel",
      "state": {}
     },
     "a614df17348641d2a875986f95dc4c80": {
      "model_module": "@jupyter-widgets/base",
      "model_module_version": "1.1.0",
      "model_name": "LayoutModel",
      "state": {}
     },
     "a63a938072984ea89f2b8071c11b341f": {
      "model_module": "@jupyter-widgets/controls",
      "model_module_version": "1.4.0",
      "model_name": "TextModel",
      "state": {
       "description": "Other:",
       "layout": "IPY_MODEL_9279074bb97c407eb29bfbdcdf83e40f",
       "placeholder": "Hit enter to submit.",
       "style": "IPY_MODEL_ebed63da8f734f0eb65d966543c83883"
      }
     },
     "a65a8f42fdf0470e960b677044ddb9c2": {
      "model_module": "@jupyter-widgets/controls",
      "model_module_version": "1.4.0",
      "model_name": "VBoxModel",
      "state": {
       "children": [
        "IPY_MODEL_75d9c41b3e104508a48b8d5891201411",
        "IPY_MODEL_b262c696c0bf4a06887c9f89d52c2cea"
       ],
       "layout": "IPY_MODEL_7d336f4636994c099296fe5b521fec5a"
      }
     },
     "a65ee2312fa9465b841e6e029f5a4d3f": {
      "model_module": "@jupyter-widgets/controls",
      "model_module_version": "1.4.0",
      "model_name": "ButtonStyleModel",
      "state": {}
     },
     "a66fc6a0bc2e42bd9cbeb9dc732a83cb": {
      "model_module": "@jupyter-widgets/controls",
      "model_module_version": "1.4.0",
      "model_name": "VBoxModel",
      "state": {
       "children": [
        "IPY_MODEL_88808ebddd47450b85c88cfa4e9e180d",
        "IPY_MODEL_0f828ce1c8c9473798da30ca4eb2d027"
       ],
       "layout": "IPY_MODEL_edf5f724e428457d87eee9eb20207085"
      }
     },
     "a67361aef1ed48c3ae3fd420f1f02edb": {
      "model_module": "@jupyter-widgets/controls",
      "model_module_version": "1.4.0",
      "model_name": "ButtonModel",
      "state": {
       "description": "3",
       "layout": "IPY_MODEL_71a6760a26254909806638c5c14f9e91",
       "style": "IPY_MODEL_7de4bc71d0d7463783ec2d2f711f5ab9"
      }
     },
     "a67b5cb77e4f48f4a2753cdf8c04ed8b": {
      "model_module": "@jupyter-widgets/base",
      "model_module_version": "1.1.0",
      "model_name": "LayoutModel",
      "state": {
       "width": "95%"
      }
     },
     "a67c6d9255104a5285f233faf10537da": {
      "model_module": "@jupyter-widgets/controls",
      "model_module_version": "1.4.0",
      "model_name": "VBoxModel",
      "state": {
       "children": [
        "IPY_MODEL_c924e85e6e8f4d5e8aa8f9346959f1d3",
        "IPY_MODEL_d37856ac7c3945b1b3e39c248dd54abf"
       ],
       "layout": "IPY_MODEL_78588002487e48b0880f31db8217a2f2"
      }
     },
     "a6b5388e45834befbe7c96f441a4da7b": {
      "model_module": "@jupyter-widgets/controls",
      "model_module_version": "1.4.0",
      "model_name": "VBoxModel",
      "state": {
       "children": [
        "IPY_MODEL_8e3cef39b12645d19f1b52df10746cbb",
        "IPY_MODEL_3b64613309204e509a7340d5d24ccf68"
       ],
       "layout": "IPY_MODEL_4db834aa837146b3b8fcd25e7f3e2804"
      }
     },
     "a6c2f7f518fe4b23b409b1206a648566": {
      "model_module": "@jupyter-widgets/controls",
      "model_module_version": "1.4.0",
      "model_name": "ButtonModel",
      "state": {
       "description": "5",
       "layout": "IPY_MODEL_ddd0bb5bda1d4ee8aa0421fcf2ee59ba",
       "style": "IPY_MODEL_24eb49be96ad4d449cec098f3869753d"
      }
     },
     "a6eab5e37ef94ba7a31398ce3331b90b": {
      "model_module": "@jupyter-widgets/output",
      "model_module_version": "1.0.0",
      "model_name": "OutputModel",
      "state": {
       "layout": "IPY_MODEL_2c2e23bf17e3459ca1e0300296c369dd"
      }
     },
     "a6ef2e697cb649f6a4697f44090af155": {
      "model_module": "@jupyter-widgets/output",
      "model_module_version": "1.0.0",
      "model_name": "OutputModel",
      "state": {
       "layout": "IPY_MODEL_05e5df11046a4f57b0f195bf83a4916a"
      }
     },
     "a714d75b228a4ed4ac111adf117055df": {
      "model_module": "@jupyter-widgets/base",
      "model_module_version": "1.1.0",
      "model_name": "LayoutModel",
      "state": {}
     },
     "a7183e0942cb407f8426c0a31f085c09": {
      "model_module": "@jupyter-widgets/base",
      "model_module_version": "1.1.0",
      "model_name": "LayoutModel",
      "state": {}
     },
     "a72bd26529054cf19efbcf29e11c5657": {
      "model_module": "@jupyter-widgets/base",
      "model_module_version": "1.1.0",
      "model_name": "LayoutModel",
      "state": {}
     },
     "a742cce99b36451cb7b9bd9508266f80": {
      "model_module": "@jupyter-widgets/controls",
      "model_module_version": "1.4.0",
      "model_name": "VBoxModel",
      "state": {
       "children": [
        "IPY_MODEL_18aee80a98e7428db49ac3745eaf4539",
        "IPY_MODEL_fe9cdb00e22847a4a97a57c375b760b4"
       ],
       "layout": "IPY_MODEL_f5b2bc4b907b450bb296b4fa5f43439c"
      }
     },
     "a75505c755c64f3cb7de2f606c2ecda1": {
      "model_module": "@jupyter-widgets/base",
      "model_module_version": "1.1.0",
      "model_name": "LayoutModel",
      "state": {
       "width": "95%"
      }
     },
     "a760e8d9a3344f678f60417f7c6f2f5a": {
      "model_module": "@jupyter-widgets/base",
      "model_module_version": "1.1.0",
      "model_name": "LayoutModel",
      "state": {
       "width": "10%"
      }
     },
     "a7b209b4c3184d6ea57edf0300a84d8f": {
      "model_module": "@jupyter-widgets/base",
      "model_module_version": "1.1.0",
      "model_name": "LayoutModel",
      "state": {}
     },
     "a7b44988270847eabb0bf8f369e3567b": {
      "model_module": "@jupyter-widgets/controls",
      "model_module_version": "1.4.0",
      "model_name": "ButtonModel",
      "state": {
       "description": "Sort options",
       "icon": "sort",
       "layout": "IPY_MODEL_63841d59f5824b5d93d59d25e16d8f56",
       "style": "IPY_MODEL_ad61dd105a1f46a48854395411008f9a"
      }
     },
     "a7b6d4eee7704091b7bc392033c6d3c6": {
      "model_module": "@jupyter-widgets/controls",
      "model_module_version": "1.4.0",
      "model_name": "TextModel",
      "state": {
       "description": "Other:",
       "layout": "IPY_MODEL_0f9c91073c6d413d9347fa992d076a1f",
       "placeholder": "Hit enter to submit.",
       "style": "IPY_MODEL_c7cd57cb449047279e89f23df328897f"
      }
     },
     "a7c3cebb2e9d40f58b59522ecd09acdc": {
      "model_module": "@jupyter-widgets/controls",
      "model_module_version": "1.4.0",
      "model_name": "ButtonModel",
      "state": {
       "description": "4",
       "layout": "IPY_MODEL_2a3040ebe008456eb131d808a9cde788",
       "style": "IPY_MODEL_509147ef1bb843d6b15551f17d605891"
      }
     },
     "a7cc17d7f6124af7896f4fcb7822dcc0": {
      "model_module": "@jupyter-widgets/output",
      "model_module_version": "1.0.0",
      "model_name": "OutputModel",
      "state": {
       "layout": "IPY_MODEL_9402ef8ddde644ebb0bd271aa8c75fe1"
      }
     },
     "a7d63b8b36104ad2a4034edde30b090e": {
      "model_module": "@jupyter-widgets/base",
      "model_module_version": "1.1.0",
      "model_name": "LayoutModel",
      "state": {
       "width": "95%"
      }
     },
     "a7de1cfa0b6645b292a97832eabe1b79": {
      "model_module": "@jupyter-widgets/base",
      "model_module_version": "1.1.0",
      "model_name": "LayoutModel",
      "state": {}
     },
     "a7e43e1784f8436087fae95bccca9907": {
      "model_module": "@jupyter-widgets/base",
      "model_module_version": "1.1.0",
      "model_name": "LayoutModel",
      "state": {
       "justify_content": "space-between"
      }
     },
     "a7e651e2244e413fb0ad36b449cd563f": {
      "model_module": "@jupyter-widgets/base",
      "model_module_version": "1.1.0",
      "model_name": "LayoutModel",
      "state": {}
     },
     "a7fc7e6f21334c6794a001d88523aad2": {
      "model_module": "@jupyter-widgets/base",
      "model_module_version": "1.1.0",
      "model_name": "LayoutModel",
      "state": {
       "width": "10%"
      }
     },
     "a81bfea084344dc9a1c1a720b4878fc1": {
      "model_module": "@jupyter-widgets/output",
      "model_module_version": "1.0.0",
      "model_name": "OutputModel",
      "state": {
       "layout": "IPY_MODEL_c12e1f4a94d441af90804e14fac2dba3"
      }
     },
     "a8236415d32640838859dff81abc33b5": {
      "model_module": "@jupyter-widgets/controls",
      "model_module_version": "1.4.0",
      "model_name": "DescriptionStyleModel",
      "state": {
       "description_width": ""
      }
     },
     "a831218e856d473d83fa363e809e7f11": {
      "model_module": "@jupyter-widgets/controls",
      "model_module_version": "1.4.0",
      "model_name": "DescriptionStyleModel",
      "state": {
       "description_width": ""
      }
     },
     "a84c390b4f9f4c019f3c5e891baa0611": {
      "model_module": "@jupyter-widgets/base",
      "model_module_version": "1.1.0",
      "model_name": "LayoutModel",
      "state": {}
     },
     "a853080f0ffb47c8b6b172b2dce2d612": {
      "model_module": "@jupyter-widgets/controls",
      "model_module_version": "1.4.0",
      "model_name": "ButtonModel",
      "state": {
       "description": "1",
       "layout": "IPY_MODEL_e7e69a48fc484851ab8ea36ba93be5a5",
       "style": "IPY_MODEL_6df77c4642f34802b604f39c5791c3c3"
      }
     },
     "a8642afc6f21414690cc357596b36ae4": {
      "model_module": "@jupyter-widgets/base",
      "model_module_version": "1.1.0",
      "model_name": "LayoutModel",
      "state": {}
     },
     "a879d3283e184b4789011a89d7ce2851": {
      "model_module": "@jupyter-widgets/controls",
      "model_module_version": "1.4.0",
      "model_name": "ButtonModel",
      "state": {
       "description": "2",
       "layout": "IPY_MODEL_57d0d74cd05541cbbefd91b3bc7fa54a",
       "style": "IPY_MODEL_1ddae2bb3f0942699600bfe64d1a4454"
      }
     },
     "a88386dd10d6428cb5158702175ab5d8": {
      "model_module": "@jupyter-widgets/output",
      "model_module_version": "1.0.0",
      "model_name": "OutputModel",
      "state": {
       "layout": "IPY_MODEL_84f85081533f47c189531ff3f6ef7c55"
      }
     },
     "a88c6980e5654a3c855c8e36a786e746": {
      "model_module": "@jupyter-widgets/controls",
      "model_module_version": "1.4.0",
      "model_name": "ButtonStyleModel",
      "state": {}
     },
     "a88dd492337547d182f54bd5d2ee375f": {
      "model_module": "@jupyter-widgets/base",
      "model_module_version": "1.1.0",
      "model_name": "LayoutModel",
      "state": {
       "width": "10%"
      }
     },
     "a8af8416338f4e3490955eda9b38e0fe": {
      "model_module": "@jupyter-widgets/controls",
      "model_module_version": "1.4.0",
      "model_name": "ButtonStyleModel",
      "state": {}
     },
     "a8be351d87a942b79c6313c087ab046b": {
      "model_module": "@jupyter-widgets/controls",
      "model_module_version": "1.4.0",
      "model_name": "ButtonStyleModel",
      "state": {}
     },
     "a8c3634aacc8416587ee9565b003a30a": {
      "model_module": "@jupyter-widgets/base",
      "model_module_version": "1.1.0",
      "model_name": "LayoutModel",
      "state": {}
     },
     "a8d4b2daa6ba460196ddee997298a8b5": {
      "model_module": "@jupyter-widgets/base",
      "model_module_version": "1.1.0",
      "model_name": "LayoutModel",
      "state": {
       "width": "95%"
      }
     },
     "a8d9c0c29f9243dc9f394ee5eaeed948": {
      "model_module": "@jupyter-widgets/base",
      "model_module_version": "1.1.0",
      "model_name": "LayoutModel",
      "state": {
       "width": "10%"
      }
     },
     "a8f1ed5e1f2c4859ba7935f9380175e8": {
      "model_module": "@jupyter-widgets/controls",
      "model_module_version": "1.4.0",
      "model_name": "ButtonStyleModel",
      "state": {}
     },
     "a90a34697204430c93993ca8677ec77e": {
      "model_module": "@jupyter-widgets/base",
      "model_module_version": "1.1.0",
      "model_name": "LayoutModel",
      "state": {
       "width": "95%"
      }
     },
     "a9610ff93d574d43a7a21b496fb1d6da": {
      "model_module": "@jupyter-widgets/base",
      "model_module_version": "1.1.0",
      "model_name": "LayoutModel",
      "state": {}
     },
     "a963eaecc640400bb1055259509b352c": {
      "model_module": "@jupyter-widgets/controls",
      "model_module_version": "1.4.0",
      "model_name": "ButtonStyleModel",
      "state": {}
     },
     "a9711dc64b5b4d54b5b50e3644da6431": {
      "model_module": "@jupyter-widgets/base",
      "model_module_version": "1.1.0",
      "model_name": "LayoutModel",
      "state": {
       "width": "95%"
      }
     },
     "a97ce57f516c455fae3ddbdf5c2f2ab5": {
      "model_module": "@jupyter-widgets/controls",
      "model_module_version": "1.4.0",
      "model_name": "ButtonStyleModel",
      "state": {}
     },
     "a9b1f43c50b34239a887af06aafccd7d": {
      "model_module": "@jupyter-widgets/base",
      "model_module_version": "1.1.0",
      "model_name": "LayoutModel",
      "state": {
       "width": "10%"
      }
     },
     "a9bfa855de544627ab2abd7df5759673": {
      "model_module": "@jupyter-widgets/base",
      "model_module_version": "1.1.0",
      "model_name": "LayoutModel",
      "state": {
       "width": "10%"
      }
     },
     "a9c91c8980ac4d168ad8cf38a3cfc2e5": {
      "model_module": "@jupyter-widgets/base",
      "model_module_version": "1.1.0",
      "model_name": "LayoutModel",
      "state": {
       "width": "95%"
      }
     },
     "a9cb305cbd404a089ba4ac0403ab2bec": {
      "model_module": "@jupyter-widgets/base",
      "model_module_version": "1.1.0",
      "model_name": "LayoutModel",
      "state": {
       "width": "10%"
      }
     },
     "a9cf2a8f7b2d47a79a81d1641aed8471": {
      "model_module": "@jupyter-widgets/base",
      "model_module_version": "1.1.0",
      "model_name": "LayoutModel",
      "state": {}
     },
     "aa137bfcd8cc426d9defa4d978d8525e": {
      "model_module": "@jupyter-widgets/base",
      "model_module_version": "1.1.0",
      "model_name": "LayoutModel",
      "state": {
       "width": "95%"
      }
     },
     "aa33edc8b7e54cf8aac5ae2989a113b6": {
      "model_module": "@jupyter-widgets/base",
      "model_module_version": "1.1.0",
      "model_name": "LayoutModel",
      "state": {}
     },
     "aa3b73dfec0443c785fa869bdfdc6f29": {
      "model_module": "@jupyter-widgets/base",
      "model_module_version": "1.1.0",
      "model_name": "LayoutModel",
      "state": {}
     },
     "aa55c892b33b4b5784111a21d5ae0e89": {
      "model_module": "@jupyter-widgets/controls",
      "model_module_version": "1.4.0",
      "model_name": "ButtonModel",
      "state": {
       "description": "5",
       "layout": "IPY_MODEL_e0c355c7e83d4d6ba2d2e192057243d4",
       "style": "IPY_MODEL_d231ac8c4afa48fd88ec64bb92a8758c"
      }
     },
     "aa5fcf93f4e7491d820e8ccadd5a3fe3": {
      "model_module": "@jupyter-widgets/base",
      "model_module_version": "1.1.0",
      "model_name": "LayoutModel",
      "state": {
       "width": "95%"
      }
     },
     "aa60a32a71cc49cebc082ae06a9a9ea4": {
      "model_module": "@jupyter-widgets/base",
      "model_module_version": "1.1.0",
      "model_name": "LayoutModel",
      "state": {
       "width": "10%"
      }
     },
     "aa761de909f845598f46e895091ada46": {
      "model_module": "@jupyter-widgets/output",
      "model_module_version": "1.0.0",
      "model_name": "OutputModel",
      "state": {
       "layout": "IPY_MODEL_23e412c6987642ee91d9a570543493f1"
      }
     },
     "aa8e93fbde5e4cd78fd0809e8b8b5a72": {
      "model_module": "@jupyter-widgets/base",
      "model_module_version": "1.1.0",
      "model_name": "LayoutModel",
      "state": {}
     },
     "aa9f6c5a9ee2480a90bb065fb392e78e": {
      "model_module": "@jupyter-widgets/controls",
      "model_module_version": "1.4.0",
      "model_name": "VBoxModel",
      "state": {
       "children": [
        "IPY_MODEL_bf6a3e9a940347139010c3faec6d8ea2",
        "IPY_MODEL_e106a56ad1054ca3a308743211d1902e"
       ],
       "layout": "IPY_MODEL_d0a255fe96a240e7a303c2e4c56ccb3a"
      }
     },
     "aab953499a1b4ec4990a49f5dab14090": {
      "model_module": "@jupyter-widgets/base",
      "model_module_version": "1.1.0",
      "model_name": "LayoutModel",
      "state": {}
     },
     "aac765969d674ec38bdb36ca2fe8ebd8": {
      "model_module": "@jupyter-widgets/controls",
      "model_module_version": "1.4.0",
      "model_name": "ButtonModel",
      "state": {
       "description": "1",
       "layout": "IPY_MODEL_4c9b08d6bb0d4791b8523952646eccd1",
       "style": "IPY_MODEL_041740e0a5384524ae88a394a1b71969"
      }
     },
     "aad19b27ddfe4f66a1124c9eda038883": {
      "model_module": "@jupyter-widgets/controls",
      "model_module_version": "1.4.0",
      "model_name": "ButtonStyleModel",
      "state": {}
     },
     "aae6795f8ac949129dcb2a89aca9d239": {
      "model_module": "@jupyter-widgets/controls",
      "model_module_version": "1.4.0",
      "model_name": "VBoxModel",
      "state": {
       "children": [
        "IPY_MODEL_c287b9e438d84add97a10d03ac34b59f",
        "IPY_MODEL_f5cf9385ef374626bd298e3f4063bb49"
       ],
       "layout": "IPY_MODEL_78ffc10082064cfead5db9625fd84055"
      }
     },
     "aaf58762409d41b1a999d0e81094fae5": {
      "model_module": "@jupyter-widgets/base",
      "model_module_version": "1.1.0",
      "model_name": "LayoutModel",
      "state": {
       "width": "10%"
      }
     },
     "ab4100fdc8ae4d9186e1f8b4ca873e87": {
      "model_module": "@jupyter-widgets/base",
      "model_module_version": "1.1.0",
      "model_name": "LayoutModel",
      "state": {
       "justify_content": "space-between"
      }
     },
     "ab4fcbe75d3b4fb086b48ea605e5a685": {
      "model_module": "@jupyter-widgets/base",
      "model_module_version": "1.1.0",
      "model_name": "LayoutModel",
      "state": {
       "width": "95%"
      }
     },
     "ab7297632e64444fb802acb62687eccc": {
      "model_module": "@jupyter-widgets/controls",
      "model_module_version": "1.4.0",
      "model_name": "ButtonStyleModel",
      "state": {}
     },
     "ab90f9a65ac3409f99b68362d1164689": {
      "model_module": "@jupyter-widgets/controls",
      "model_module_version": "1.4.0",
      "model_name": "ButtonStyleModel",
      "state": {}
     },
     "ab9912c2a68a43568b0a3ef39d8b1201": {
      "model_module": "@jupyter-widgets/base",
      "model_module_version": "1.1.0",
      "model_name": "LayoutModel",
      "state": {}
     },
     "abbd71f2bfc742a9805a889dbe2e29ce": {
      "model_module": "@jupyter-widgets/output",
      "model_module_version": "1.0.0",
      "model_name": "OutputModel",
      "state": {
       "layout": "IPY_MODEL_3c192fe3031241a59625023c32ead753"
      }
     },
     "abc572b1c8484e4499328e45cece915b": {
      "model_module": "@jupyter-widgets/base",
      "model_module_version": "1.1.0",
      "model_name": "LayoutModel",
      "state": {
       "width": "95%"
      }
     },
     "abdeec650d8145988ae01636e1a46b7e": {
      "model_module": "@jupyter-widgets/controls",
      "model_module_version": "1.4.0",
      "model_name": "ButtonStyleModel",
      "state": {}
     },
     "abe67959359d409ab6c684996b3252d6": {
      "model_module": "@jupyter-widgets/base",
      "model_module_version": "1.1.0",
      "model_name": "LayoutModel",
      "state": {
       "width": "95%"
      }
     },
     "ac50ca917540481db04785deab9ed8bb": {
      "model_module": "@jupyter-widgets/controls",
      "model_module_version": "1.4.0",
      "model_name": "VBoxModel",
      "state": {
       "children": [
        "IPY_MODEL_2d9e5e11573245e385ae944ab5c507df",
        "IPY_MODEL_77c1aaccdb72443bbc312612d68d7dbe"
       ],
       "layout": "IPY_MODEL_543dcdf426a94fa683d4ca8e5f885425"
      }
     },
     "ac569994f6434a54988cf8cabb7b8165": {
      "model_module": "@jupyter-widgets/controls",
      "model_module_version": "1.4.0",
      "model_name": "ButtonStyleModel",
      "state": {}
     },
     "ac590b5a0d024ee3b2cb6f1dc528afbb": {
      "model_module": "@jupyter-widgets/base",
      "model_module_version": "1.1.0",
      "model_name": "LayoutModel",
      "state": {}
     },
     "ac7408f37e764acfbb205749502966dc": {
      "model_module": "@jupyter-widgets/controls",
      "model_module_version": "1.4.0",
      "model_name": "ButtonStyleModel",
      "state": {}
     },
     "ac868e71b9974adba5a58bcafa5b7511": {
      "model_module": "@jupyter-widgets/base",
      "model_module_version": "1.1.0",
      "model_name": "LayoutModel",
      "state": {
       "width": "10%"
      }
     },
     "acab1b7339c34500bb32c223d13a613d": {
      "model_module": "@jupyter-widgets/controls",
      "model_module_version": "1.4.0",
      "model_name": "VBoxModel",
      "state": {
       "children": [
        "IPY_MODEL_1d6a42d4f68e4fd093ec4b824e6a015b",
        "IPY_MODEL_1efddfcf2f85496c9de34e8c9bfb929e"
       ],
       "layout": "IPY_MODEL_5d449221b4af48e9bf16292fd550f2b6"
      }
     },
     "acb387ad5c074b55b659c537fe615398": {
      "model_module": "@jupyter-widgets/base",
      "model_module_version": "1.1.0",
      "model_name": "LayoutModel",
      "state": {
       "justify_content": "space-between"
      }
     },
     "acb65cab5c0f40e393b1c80520546e13": {
      "model_module": "@jupyter-widgets/base",
      "model_module_version": "1.1.0",
      "model_name": "LayoutModel",
      "state": {}
     },
     "acc9b39fcced459495f81261dcf4983f": {
      "model_module": "@jupyter-widgets/output",
      "model_module_version": "1.0.0",
      "model_name": "OutputModel",
      "state": {
       "layout": "IPY_MODEL_c8142758b206429480cca8df4bce1b15"
      }
     },
     "accbaf35738f4bb683a738db4f146e9d": {
      "model_module": "@jupyter-widgets/base",
      "model_module_version": "1.1.0",
      "model_name": "LayoutModel",
      "state": {
       "width": "50%"
      }
     },
     "acd5978f1c68427c94adb2657fb806e6": {
      "model_module": "@jupyter-widgets/controls",
      "model_module_version": "1.4.0",
      "model_name": "ButtonStyleModel",
      "state": {}
     },
     "acd5cdcb636348b6837f1d43d620c2f1": {
      "model_module": "@jupyter-widgets/controls",
      "model_module_version": "1.4.0",
      "model_name": "ButtonStyleModel",
      "state": {}
     },
     "acdf9bdf96a0415eb13e4164a22ea43e": {
      "model_module": "@jupyter-widgets/controls",
      "model_module_version": "1.4.0",
      "model_name": "HBoxModel",
      "state": {
       "children": [
        "IPY_MODEL_a7b44988270847eabb0bf8f369e3567b",
        "IPY_MODEL_8ff52e9bec0d4c2bbfd8b2d96b28d24c",
        "IPY_MODEL_85b809c18a6c4a50963c04ccc34d9c28"
       ],
       "layout": "IPY_MODEL_e285a048e55248f4b033291a8704565f"
      }
     },
     "ad14b522526a4bb7a71f47c9906462f0": {
      "model_module": "@jupyter-widgets/controls",
      "model_module_version": "1.4.0",
      "model_name": "HBoxModel",
      "state": {
       "children": [
        "IPY_MODEL_a7b44988270847eabb0bf8f369e3567b",
        "IPY_MODEL_8ff52e9bec0d4c2bbfd8b2d96b28d24c",
        "IPY_MODEL_85b809c18a6c4a50963c04ccc34d9c28"
       ],
       "layout": "IPY_MODEL_b91a8fd66fad4a5287e91b0e1d3a1878"
      }
     },
     "ad1af89df9dc4f3abde67425ec3d3b02": {
      "model_module": "@jupyter-widgets/controls",
      "model_module_version": "1.4.0",
      "model_name": "ButtonStyleModel",
      "state": {}
     },
     "ad1f01bacf864ff399bffe0c74cb449a": {
      "model_module": "@jupyter-widgets/output",
      "model_module_version": "1.0.0",
      "model_name": "OutputModel",
      "state": {
       "layout": "IPY_MODEL_c80fcf815fa546cc83332a0119cdc00b"
      }
     },
     "ad330d49cc674edd807aa174f5c43bae": {
      "model_module": "@jupyter-widgets/controls",
      "model_module_version": "1.4.0",
      "model_name": "VBoxModel",
      "state": {
       "children": [
        "IPY_MODEL_5c3e67b05e984317aa9bc15954f555e4",
        "IPY_MODEL_145424d52032455f80806c34d2d086e9"
       ],
       "layout": "IPY_MODEL_fd0ec1964ff941908911b79ca742b83b"
      }
     },
     "ad33f09787c346a8a74f98a4205a7edd": {
      "model_module": "@jupyter-widgets/base",
      "model_module_version": "1.1.0",
      "model_name": "LayoutModel",
      "state": {
       "width": "10%"
      }
     },
     "ad37e17ddd60456daa505fa7efccbf8e": {
      "model_module": "@jupyter-widgets/controls",
      "model_module_version": "1.4.0",
      "model_name": "ButtonStyleModel",
      "state": {}
     },
     "ad39a174882647c28a558a4ce5f35ed4": {
      "model_module": "@jupyter-widgets/base",
      "model_module_version": "1.1.0",
      "model_name": "LayoutModel",
      "state": {
       "width": "95%"
      }
     },
     "ad55b2eb89fe449680268f8cebe25456": {
      "model_module": "@jupyter-widgets/controls",
      "model_module_version": "1.4.0",
      "model_name": "VBoxModel",
      "state": {
       "children": [
        "IPY_MODEL_478533031ef34bf3bb8c497ec1256aa0",
        "IPY_MODEL_5b3ccb53dfa14d4e8027d095bb4527f3"
       ],
       "layout": "IPY_MODEL_f4e28494c7c84ce387eff6f1d7bb8876"
      }
     },
     "ad6110aaf5da4fcdb1d4a0917f4594e9": {
      "model_module": "@jupyter-widgets/controls",
      "model_module_version": "1.4.0",
      "model_name": "ButtonModel",
      "state": {
       "description": "3",
       "layout": "IPY_MODEL_5db2b237464644f88aab68bf0e6dc008",
       "style": "IPY_MODEL_6674a5211dba46d3b0c9d46edcce8a0e"
      }
     },
     "ad61dd105a1f46a48854395411008f9a": {
      "model_module": "@jupyter-widgets/controls",
      "model_module_version": "1.4.0",
      "model_name": "ButtonStyleModel",
      "state": {}
     },
     "ad63608eebac43b1adf39734afa0f2c5": {
      "model_module": "@jupyter-widgets/base",
      "model_module_version": "1.1.0",
      "model_name": "LayoutModel",
      "state": {}
     },
     "ad769d9c47ef4f45b545bfed4561c3c5": {
      "model_module": "@jupyter-widgets/base",
      "model_module_version": "1.1.0",
      "model_name": "LayoutModel",
      "state": {
       "width": "95%"
      }
     },
     "ad9842f040964ac284a481acad4f9ea8": {
      "model_module": "@jupyter-widgets/base",
      "model_module_version": "1.1.0",
      "model_name": "LayoutModel",
      "state": {
       "width": "10%"
      }
     },
     "adbbd11ae6604232b69f17bbc16b3a7f": {
      "model_module": "@jupyter-widgets/controls",
      "model_module_version": "1.4.0",
      "model_name": "VBoxModel",
      "state": {
       "children": [
        "IPY_MODEL_815d96f6beb844b1a1cd31faabe242e4",
        "IPY_MODEL_4493fcaf0abf4485a96e8e82e6fb6885"
       ],
       "layout": "IPY_MODEL_f317009f95184d67bd2b9853deba22fb"
      }
     },
     "adc4d06031924cf98381507b471a281b": {
      "model_module": "@jupyter-widgets/base",
      "model_module_version": "1.1.0",
      "model_name": "LayoutModel",
      "state": {
       "width": "95%"
      }
     },
     "ade012b5636d433dbf3fb27a753fcf0c": {
      "model_module": "@jupyter-widgets/base",
      "model_module_version": "1.1.0",
      "model_name": "LayoutModel",
      "state": {}
     },
     "adece676b051404ebdb0f213a743359f": {
      "model_module": "@jupyter-widgets/base",
      "model_module_version": "1.1.0",
      "model_name": "LayoutModel",
      "state": {
       "width": "10%"
      }
     },
     "adfbe8e99e1846cab129713c6436ed27": {
      "model_module": "@jupyter-widgets/output",
      "model_module_version": "1.0.0",
      "model_name": "OutputModel",
      "state": {
       "layout": "IPY_MODEL_a4c3640cc6bd4ab0b735de82f67ef322"
      }
     },
     "ae01417fb0cb4656b23572dc39179afa": {
      "model_module": "@jupyter-widgets/controls",
      "model_module_version": "1.4.0",
      "model_name": "VBoxModel",
      "state": {
       "children": [
        "IPY_MODEL_0e000b55607d498483eb71c51bad63c1",
        "IPY_MODEL_cead52682ae54e2f962f41b01275c1e3"
       ],
       "layout": "IPY_MODEL_30e9781cb4a04001a4d5405c632f7db3"
      }
     },
     "ae111c81872143d78502f97157e8a90f": {
      "model_module": "@jupyter-widgets/base",
      "model_module_version": "1.1.0",
      "model_name": "LayoutModel",
      "state": {}
     },
     "ae12f73d2f6046c6a45b7a8a0f867545": {
      "model_module": "@jupyter-widgets/base",
      "model_module_version": "1.1.0",
      "model_name": "LayoutModel",
      "state": {
       "width": "10%"
      }
     },
     "ae2091707ad54d29ae8f524b397c92e2": {
      "model_module": "@jupyter-widgets/base",
      "model_module_version": "1.1.0",
      "model_name": "LayoutModel",
      "state": {}
     },
     "ae26f66012ff4eadb845f037c92649fe": {
      "model_module": "@jupyter-widgets/base",
      "model_module_version": "1.1.0",
      "model_name": "LayoutModel",
      "state": {
       "width": "10%"
      }
     },
     "ae5737c7de894a1f83c246f65e08e559": {
      "model_module": "@jupyter-widgets/controls",
      "model_module_version": "1.4.0",
      "model_name": "ButtonModel",
      "state": {
       "description": "8",
       "layout": "IPY_MODEL_c980a4fed144475d822d6c5a7c751842",
       "style": "IPY_MODEL_bf4e3f3efabc4771899c811ea1a0d0be"
      }
     },
     "ae6430711b4d40709390cb009f383186": {
      "model_module": "@jupyter-widgets/base",
      "model_module_version": "1.1.0",
      "model_name": "LayoutModel",
      "state": {
       "width": "10%"
      }
     },
     "ae65ef2733414a7ba1e9708bb187cf61": {
      "model_module": "@jupyter-widgets/base",
      "model_module_version": "1.1.0",
      "model_name": "LayoutModel",
      "state": {
       "justify_content": "space-between"
      }
     },
     "ae9dd33da83c4805be224f1d445a644d": {
      "model_module": "@jupyter-widgets/controls",
      "model_module_version": "1.4.0",
      "model_name": "ButtonStyleModel",
      "state": {}
     },
     "aea4f0c35b514491a6b51e981a171b18": {
      "model_module": "@jupyter-widgets/controls",
      "model_module_version": "1.4.0",
      "model_name": "ButtonStyleModel",
      "state": {}
     },
     "aea65376cd7743739eaa6e2ec76871c5": {
      "model_module": "@jupyter-widgets/controls",
      "model_module_version": "1.4.0",
      "model_name": "ButtonStyleModel",
      "state": {}
     },
     "aeb1ae69eff2480c8394f73b9a4578be": {
      "model_module": "@jupyter-widgets/base",
      "model_module_version": "1.1.0",
      "model_name": "LayoutModel",
      "state": {}
     },
     "aefdbef91f084f18a2f6765029b796d5": {
      "model_module": "@jupyter-widgets/base",
      "model_module_version": "1.1.0",
      "model_name": "LayoutModel",
      "state": {
       "width": "95%"
      }
     },
     "af06bcf92fa047b4b05765170ee8bd32": {
      "model_module": "@jupyter-widgets/controls",
      "model_module_version": "1.4.0",
      "model_name": "TextModel",
      "state": {
       "description": "Other:",
       "layout": "IPY_MODEL_cad9828d4c2c4d68852dcecda3802f95",
       "placeholder": "Hit enter to submit.",
       "style": "IPY_MODEL_a831218e856d473d83fa363e809e7f11"
      }
     },
     "af0f4339bc334a9987ef9b348df9c279": {
      "model_module": "@jupyter-widgets/output",
      "model_module_version": "1.0.0",
      "model_name": "OutputModel",
      "state": {
       "layout": "IPY_MODEL_9ba5c9e64b104e079ce21b84277e8e30"
      }
     },
     "af2292aee2794b58a4d4fd60c30f1a6a": {
      "model_module": "@jupyter-widgets/controls",
      "model_module_version": "1.4.0",
      "model_name": "ButtonStyleModel",
      "state": {}
     },
     "af47e20abe6c441c9491e01c56b0ca96": {
      "model_module": "@jupyter-widgets/base",
      "model_module_version": "1.1.0",
      "model_name": "LayoutModel",
      "state": {}
     },
     "af4cf1b9ea054f13a0f56c708fabbd6c": {
      "model_module": "@jupyter-widgets/base",
      "model_module_version": "1.1.0",
      "model_name": "LayoutModel",
      "state": {
       "width": "10%"
      }
     },
     "af650429044341ddb8554f57b86a9d70": {
      "model_module": "@jupyter-widgets/base",
      "model_module_version": "1.1.0",
      "model_name": "LayoutModel",
      "state": {
       "width": "10%"
      }
     },
     "af66bf1772d549b6b9d5d114bd8a6f96": {
      "model_module": "@jupyter-widgets/controls",
      "model_module_version": "1.4.0",
      "model_name": "ButtonModel",
      "state": {
       "description": "8",
       "layout": "IPY_MODEL_1cc2907c685c464180910bbc0ffddb69",
       "style": "IPY_MODEL_be9b0db1bd81402aa00ef356f4d51de2"
      }
     },
     "af71c0ada1934d0d84852fc5c9674138": {
      "model_module": "@jupyter-widgets/controls",
      "model_module_version": "1.4.0",
      "model_name": "VBoxModel",
      "state": {
       "children": [
        "IPY_MODEL_3f22ef08e5864d16b213c31ad6f0801a",
        "IPY_MODEL_369ed6172e6546f6920b7f9b3c6acb3a"
       ],
       "layout": "IPY_MODEL_92d035544b3543f787272e3eefb34bb9"
      }
     },
     "af7700408fcc45b7b110869cc470a2a3": {
      "model_module": "@jupyter-widgets/controls",
      "model_module_version": "1.4.0",
      "model_name": "VBoxModel",
      "state": {
       "children": [
        "IPY_MODEL_3e4afbd268fc4ec1ab61a07c8453b762",
        "IPY_MODEL_b2afefb8f3004b4b92adb46e15ff6ec8"
       ],
       "layout": "IPY_MODEL_3c1c8ecf2d54495e8afbd392edf3c45c"
      }
     },
     "af7918380f9d4938ad1a24f7570d482d": {
      "model_module": "@jupyter-widgets/controls",
      "model_module_version": "1.4.0",
      "model_name": "VBoxModel",
      "state": {
       "children": [
        "IPY_MODEL_14aba562e8f144a496158bfefd97a073",
        "IPY_MODEL_a4b8c43aac754c41b30a70f45dff832f"
       ],
       "layout": "IPY_MODEL_d6014580fc94482bb819bf3fa33bd91b"
      }
     },
     "af85bcf6c321492b85fc75f996c4c19c": {
      "model_module": "@jupyter-widgets/base",
      "model_module_version": "1.1.0",
      "model_name": "LayoutModel",
      "state": {
       "width": "95%"
      }
     },
     "af93913b70f549238007614ccfc7be88": {
      "model_module": "@jupyter-widgets/base",
      "model_module_version": "1.1.0",
      "model_name": "LayoutModel",
      "state": {
       "width": "95%"
      }
     },
     "af9774d470b84bd9a37eb91e6da87f94": {
      "model_module": "@jupyter-widgets/controls",
      "model_module_version": "1.4.0",
      "model_name": "ButtonStyleModel",
      "state": {}
     },
     "af9aafe8012f4bad94efaf086e396257": {
      "model_module": "@jupyter-widgets/base",
      "model_module_version": "1.1.0",
      "model_name": "LayoutModel",
      "state": {}
     },
     "af9eb3b9648d48ee9b02a5c8ed2dfc47": {
      "model_module": "@jupyter-widgets/controls",
      "model_module_version": "1.4.0",
      "model_name": "ButtonModel",
      "state": {
       "description": "9",
       "layout": "IPY_MODEL_5760ed6789e948b19528452feead8bcf",
       "style": "IPY_MODEL_536ab346c2bf4843a6a32fffef8ff0bc"
      }
     },
     "af9f0397335049c1afe0e745fa35de7e": {
      "model_module": "@jupyter-widgets/base",
      "model_module_version": "1.1.0",
      "model_name": "LayoutModel",
      "state": {
       "width": "10%"
      }
     },
     "afa76f1492e24691aa5c7604f4c2b998": {
      "model_module": "@jupyter-widgets/base",
      "model_module_version": "1.1.0",
      "model_name": "LayoutModel",
      "state": {
       "width": "10%"
      }
     },
     "afbba66a274248d0afca6828bb58e207": {
      "model_module": "@jupyter-widgets/controls",
      "model_module_version": "1.4.0",
      "model_name": "ButtonModel",
      "state": {
       "description": "8",
       "layout": "IPY_MODEL_3f7816c0047749e6838053114dbbcdb7",
       "style": "IPY_MODEL_15df9dfa48a44ee693b2ba0fc0454159"
      }
     },
     "afc178f7b41d422d827a11269231760d": {
      "model_module": "@jupyter-widgets/base",
      "model_module_version": "1.1.0",
      "model_name": "LayoutModel",
      "state": {
       "width": "95%"
      }
     },
     "afca318a9e024e55a36864d525903d27": {
      "model_module": "@jupyter-widgets/output",
      "model_module_version": "1.0.0",
      "model_name": "OutputModel",
      "state": {
       "layout": "IPY_MODEL_158d9cd9e4ff473eab6e078dd7de859f"
      }
     },
     "afcd32392ec046a0bfb08ab6e30e2902": {
      "model_module": "@jupyter-widgets/controls",
      "model_module_version": "1.4.0",
      "model_name": "ButtonModel",
      "state": {
       "description": "6",
       "layout": "IPY_MODEL_df5cbba317da44bc85a7f58ce641cf6e",
       "style": "IPY_MODEL_aea4f0c35b514491a6b51e981a171b18"
      }
     },
     "afd1e4407e504e06ad64305a722a6b1a": {
      "model_module": "@jupyter-widgets/controls",
      "model_module_version": "1.4.0",
      "model_name": "VBoxModel",
      "state": {
       "children": [
        "IPY_MODEL_490eda9ff9254afbb7e7c2ff66743c38",
        "IPY_MODEL_6a0ee504d413414d93b6ef163bea01d9"
       ],
       "layout": "IPY_MODEL_bdbdb9ed02b54626a2cf3d7d9d026e17"
      }
     },
     "afd7f8e61ed84bd2861bbca0be73aafa": {
      "model_module": "@jupyter-widgets/output",
      "model_module_version": "1.0.0",
      "model_name": "OutputModel",
      "state": {
       "layout": "IPY_MODEL_a8642afc6f21414690cc357596b36ae4"
      }
     },
     "afdb2faf1f6b47eabf70c4644bafc7d3": {
      "model_module": "@jupyter-widgets/controls",
      "model_module_version": "1.4.0",
      "model_name": "DescriptionStyleModel",
      "state": {
       "description_width": ""
      }
     },
     "afe4ef6d318d4999920fbe4d087003d9": {
      "model_module": "@jupyter-widgets/output",
      "model_module_version": "1.0.0",
      "model_name": "OutputModel",
      "state": {
       "layout": "IPY_MODEL_44014c88b48f4eeb95be2996a79f3b4a"
      }
     },
     "afeb2fd34499492e836acbbc68619906": {
      "model_module": "@jupyter-widgets/controls",
      "model_module_version": "1.4.0",
      "model_name": "HBoxModel",
      "state": {
       "children": [
        "IPY_MODEL_a7b44988270847eabb0bf8f369e3567b",
        "IPY_MODEL_8ff52e9bec0d4c2bbfd8b2d96b28d24c",
        "IPY_MODEL_85b809c18a6c4a50963c04ccc34d9c28"
       ],
       "layout": "IPY_MODEL_7e957920b0e84a2cabe2b385dd61b760"
      }
     },
     "b02a641ec29b4cb78da0a2dfae367b83": {
      "model_module": "@jupyter-widgets/controls",
      "model_module_version": "1.4.0",
      "model_name": "VBoxModel",
      "state": {
       "children": [
        "IPY_MODEL_067f2f98021a49d1b2d93f541e6bba3f",
        "IPY_MODEL_16b16bf23b154641b38df01e3ec0a422"
       ],
       "layout": "IPY_MODEL_69f0ec9100c54f6e8fb03df112e3c325"
      }
     },
     "b02f85e8edc145ffaddc3557495a9d75": {
      "model_module": "@jupyter-widgets/controls",
      "model_module_version": "1.4.0",
      "model_name": "ButtonStyleModel",
      "state": {}
     },
     "b03ac2d0ec39420695a8d03e4121ec07": {
      "model_module": "@jupyter-widgets/base",
      "model_module_version": "1.1.0",
      "model_name": "LayoutModel",
      "state": {
       "width": "10%"
      }
     },
     "b03ecff3924b4fdcb72844615b41db01": {
      "model_module": "@jupyter-widgets/base",
      "model_module_version": "1.1.0",
      "model_name": "LayoutModel",
      "state": {
       "width": "10%"
      }
     },
     "b03fd913bee04be38f3ee6d06974cf34": {
      "model_module": "@jupyter-widgets/controls",
      "model_module_version": "1.4.0",
      "model_name": "ButtonModel",
      "state": {
       "description": "8",
       "layout": "IPY_MODEL_560978a8f0f94dcf8cae8fb28795eb31",
       "style": "IPY_MODEL_5df57d526f8a48faa1fc85c4241c3f21"
      }
     },
     "b054364f5ccc4b5c9975d2bf38bf7449": {
      "model_module": "@jupyter-widgets/base",
      "model_module_version": "1.1.0",
      "model_name": "LayoutModel",
      "state": {
       "width": "10%"
      }
     },
     "b05cd0a933244c34bf6e4871cff3bf38": {
      "model_module": "@jupyter-widgets/controls",
      "model_module_version": "1.4.0",
      "model_name": "ButtonModel",
      "state": {
       "description": "3",
       "layout": "IPY_MODEL_97ff89407c204ead98f790868bab9a68",
       "style": "IPY_MODEL_e24ecee6418f4a28b7aa63a79140d5b7"
      }
     },
     "b0c0dd804bf542b69b6d5bbaaa2cbb3b": {
      "model_module": "@jupyter-widgets/base",
      "model_module_version": "1.1.0",
      "model_name": "LayoutModel",
      "state": {
       "width": "10%"
      }
     },
     "b0d43fd1aa8b4ce9be4e7e7f57b8c76d": {
      "model_module": "@jupyter-widgets/controls",
      "model_module_version": "1.4.0",
      "model_name": "ButtonModel",
      "state": {
       "description": "0",
       "layout": "IPY_MODEL_0d4e49e2e4024f67805f0a93d60a93fe",
       "style": "IPY_MODEL_185270fdb27a46009d6b3cfd5e0103c0"
      }
     },
     "b10761694bb342b5b1f07cc053e08843": {
      "model_module": "@jupyter-widgets/controls",
      "model_module_version": "1.4.0",
      "model_name": "TextModel",
      "state": {
       "description": "Other:",
       "layout": "IPY_MODEL_7bf913d2f03248b5a368c1bde8be07b7",
       "placeholder": "Hit enter to submit.",
       "style": "IPY_MODEL_95f71a5470a44d218a13daf8a3297873"
      }
     },
     "b1150ab2d6fe4b6f8f223a7288c9ab65": {
      "model_module": "@jupyter-widgets/output",
      "model_module_version": "1.0.0",
      "model_name": "OutputModel",
      "state": {
       "layout": "IPY_MODEL_a37b9ced9fe74061b4332e9bcbf0b74a"
      }
     },
     "b1627df91a9743a2a9cb2dcf5936c777": {
      "model_module": "@jupyter-widgets/controls",
      "model_module_version": "1.4.0",
      "model_name": "VBoxModel",
      "state": {
       "children": [
        "IPY_MODEL_26a1000e43104f8d8ede427098a9fcb9",
        "IPY_MODEL_69baa1b184364d40b0d6ec6d9516711d"
       ],
       "layout": "IPY_MODEL_2ace090e2bfc450f82ccaee97712c80f"
      }
     },
     "b165df1f14bb4437bc6e6fa142200b5e": {
      "model_module": "@jupyter-widgets/output",
      "model_module_version": "1.0.0",
      "model_name": "OutputModel",
      "state": {
       "layout": "IPY_MODEL_7f4ccb11bf9b48a8b21060111ca7a370"
      }
     },
     "b1682b8660bd478b98fddcf7de694aed": {
      "model_module": "@jupyter-widgets/base",
      "model_module_version": "1.1.0",
      "model_name": "LayoutModel",
      "state": {}
     },
     "b16b07ba37cd431c8042ea3480b728f9": {
      "model_module": "@jupyter-widgets/base",
      "model_module_version": "1.1.0",
      "model_name": "LayoutModel",
      "state": {
       "width": "95%"
      }
     },
     "b183231523784190ab2dc3ea0ba56c22": {
      "model_module": "@jupyter-widgets/controls",
      "model_module_version": "1.4.0",
      "model_name": "ButtonStyleModel",
      "state": {}
     },
     "b1b302c584b746b89f6b6d727ab9df6b": {
      "model_module": "@jupyter-widgets/controls",
      "model_module_version": "1.4.0",
      "model_name": "ButtonModel",
      "state": {
       "description": "2",
       "layout": "IPY_MODEL_39d314cdf6c343af95e22bb0c7b02b30",
       "style": "IPY_MODEL_d5feab3a89234c6fb8454c44edc5ccb8"
      }
     },
     "b1c2941365c54132ba0445b54a049c2f": {
      "model_module": "@jupyter-widgets/controls",
      "model_module_version": "1.4.0",
      "model_name": "ButtonModel",
      "state": {
       "description": "9",
       "layout": "IPY_MODEL_c2b0c5f9406146369ec9d3f21605a886",
       "style": "IPY_MODEL_92b2e140915d451186f81c75722a6d65"
      }
     },
     "b22400553e044964a3b69ac42e7d3566": {
      "model_module": "@jupyter-widgets/controls",
      "model_module_version": "1.4.0",
      "model_name": "HBoxModel",
      "state": {
       "children": [
        "IPY_MODEL_1cac28f79135488d94a5f0d158575589",
        "IPY_MODEL_8246c5c447b240468e4d203379de0bff",
        "IPY_MODEL_0ef5da68562d4045b065a049e2347eff",
        "IPY_MODEL_f161ccc35b1c42248b928f557b842c93",
        "IPY_MODEL_cefd98d590e547e5805ce37a89d5d175",
        "IPY_MODEL_7bc1c569f8714044b555451d94c75685",
        "IPY_MODEL_a0246157e11a4a71b6c0559005694a80",
        "IPY_MODEL_cdeb4ff4b448449b9e347edfcc991f87",
        "IPY_MODEL_3fae42d3ed0c40c7b6a73af548f22a16",
        "IPY_MODEL_066a6658c61842d1a2bb80d07c968377"
       ],
       "layout": "IPY_MODEL_deddff994f804fc581ef6a4eff7ae0c5"
      }
     },
     "b25f402e24614a2e8d340956315de103": {
      "model_module": "@jupyter-widgets/controls",
      "model_module_version": "1.4.0",
      "model_name": "HBoxModel",
      "state": {
       "children": [
        "IPY_MODEL_329d5df3afea4c46b7752807122501cc",
        "IPY_MODEL_df879a2ac26c4dd1ad243f820475397b"
       ],
       "layout": "IPY_MODEL_b7256f769beb460d88add4249317ff4b"
      }
     },
     "b262c696c0bf4a06887c9f89d52c2cea": {
      "model_module": "@jupyter-widgets/output",
      "model_module_version": "1.0.0",
      "model_name": "OutputModel",
      "state": {
       "layout": "IPY_MODEL_6d236fb366e94f4e8019d2f1da4fe5c9"
      }
     },
     "b26dbf2d9d97499f81d2cc5cee501850": {
      "model_module": "@jupyter-widgets/controls",
      "model_module_version": "1.4.0",
      "model_name": "ButtonModel",
      "state": {
       "description": "9",
       "layout": "IPY_MODEL_6ce558d0aed44b64a0ab7862a69fcbc0",
       "style": "IPY_MODEL_f0eb57c902d541be97652a5348fc5b10"
      }
     },
     "b27407e36f7c414db5e2b3e14e2685b1": {
      "model_module": "@jupyter-widgets/base",
      "model_module_version": "1.1.0",
      "model_name": "LayoutModel",
      "state": {}
     },
     "b274a2568b124131a3b658221071fe15": {
      "model_module": "@jupyter-widgets/output",
      "model_module_version": "1.0.0",
      "model_name": "OutputModel",
      "state": {
       "layout": "IPY_MODEL_70edee5c35334f7694c6dc2b0892acb9"
      }
     },
     "b27ea4fbd45d45c7a9600a773290f4e1": {
      "model_module": "@jupyter-widgets/controls",
      "model_module_version": "1.4.0",
      "model_name": "ButtonModel",
      "state": {
       "description": "5",
       "layout": "IPY_MODEL_6596486b92014c81830f6c170f434e13",
       "style": "IPY_MODEL_466857a4435447e78451205ded0d0e51"
      }
     },
     "b2ac6fd4c26e481a9ff1db5c93c52c48": {
      "model_module": "@jupyter-widgets/controls",
      "model_module_version": "1.4.0",
      "model_name": "VBoxModel",
      "state": {
       "children": [
        "IPY_MODEL_21f27a3c973a4fbcb633f4b4b456a512",
        "IPY_MODEL_42c7f31da5c142f3b96db4e6f6ace2b7"
       ],
       "layout": "IPY_MODEL_f32efaacb74748d7add189ec07eaa3d3"
      }
     },
     "b2ad9490399e4c008cd272de77b190db": {
      "model_module": "@jupyter-widgets/base",
      "model_module_version": "1.1.0",
      "model_name": "LayoutModel",
      "state": {}
     },
     "b2afefb8f3004b4b92adb46e15ff6ec8": {
      "model_module": "@jupyter-widgets/output",
      "model_module_version": "1.0.0",
      "model_name": "OutputModel",
      "state": {
       "layout": "IPY_MODEL_bc346cfe30654601b90577ccfc2faa67"
      }
     },
     "b2b1561084eb40d3b031f391f9d49db9": {
      "model_module": "@jupyter-widgets/base",
      "model_module_version": "1.1.0",
      "model_name": "LayoutModel",
      "state": {
       "width": "10%"
      }
     },
     "b2d44724279d40a5bb5a44a29ceea14c": {
      "model_module": "@jupyter-widgets/controls",
      "model_module_version": "1.4.0",
      "model_name": "VBoxModel",
      "state": {
       "children": [
        "IPY_MODEL_18b41438b726415c8535df7ec0884ddb",
        "IPY_MODEL_2e8a3c1d720c4c799be69415c4fe7742"
       ],
       "layout": "IPY_MODEL_cadceea742124330a08aefcd11aaf8bd"
      }
     },
     "b30560d27945461abf1f987c006782b9": {
      "model_module": "@jupyter-widgets/base",
      "model_module_version": "1.1.0",
      "model_name": "LayoutModel",
      "state": {}
     },
     "b313af53b0234e6da1d761ee97a3886e": {
      "model_module": "@jupyter-widgets/base",
      "model_module_version": "1.1.0",
      "model_name": "LayoutModel",
      "state": {
       "width": "10%"
      }
     },
     "b31edad9e8ce47de902495871bc1054e": {
      "model_module": "@jupyter-widgets/base",
      "model_module_version": "1.1.0",
      "model_name": "LayoutModel",
      "state": {
       "width": "10%"
      }
     },
     "b324dc985082437d8c1f53e9e79e2111": {
      "model_module": "@jupyter-widgets/base",
      "model_module_version": "1.1.0",
      "model_name": "LayoutModel",
      "state": {
       "width": "95%"
      }
     },
     "b32585cc49864069b674856c36c6cb8f": {
      "model_module": "@jupyter-widgets/base",
      "model_module_version": "1.1.0",
      "model_name": "LayoutModel",
      "state": {
       "width": "10%"
      }
     },
     "b334eee10ab14c5da48a0f6473c93d29": {
      "model_module": "@jupyter-widgets/output",
      "model_module_version": "1.0.0",
      "model_name": "OutputModel",
      "state": {
       "layout": "IPY_MODEL_36db56b282b84ae88471425dc74be163"
      }
     },
     "b3667b1337f847558ddb31a3ed982aae": {
      "model_module": "@jupyter-widgets/base",
      "model_module_version": "1.1.0",
      "model_name": "LayoutModel",
      "state": {
       "width": "10%"
      }
     },
     "b37beac13e15429986ac6bce8f13ef69": {
      "model_module": "@jupyter-widgets/base",
      "model_module_version": "1.1.0",
      "model_name": "LayoutModel",
      "state": {}
     },
     "b384b094766d496dbe3a5beb7f473c59": {
      "model_module": "@jupyter-widgets/controls",
      "model_module_version": "1.4.0",
      "model_name": "ButtonStyleModel",
      "state": {}
     },
     "b38b715f760145b3b369bc9dce397508": {
      "model_module": "@jupyter-widgets/controls",
      "model_module_version": "1.4.0",
      "model_name": "ButtonStyleModel",
      "state": {}
     },
     "b38f420233f746888d13957819f2bb0e": {
      "model_module": "@jupyter-widgets/base",
      "model_module_version": "1.1.0",
      "model_name": "LayoutModel",
      "state": {}
     },
     "b397debbfba24938a50a088f903b55f5": {
      "model_module": "@jupyter-widgets/base",
      "model_module_version": "1.1.0",
      "model_name": "LayoutModel",
      "state": {
       "width": "95%"
      }
     },
     "b39851bad7574558b46f152f89b92f0f": {
      "model_module": "@jupyter-widgets/base",
      "model_module_version": "1.1.0",
      "model_name": "LayoutModel",
      "state": {}
     },
     "b3ab3475430946799fe3dcac67b3fd72": {
      "model_module": "@jupyter-widgets/base",
      "model_module_version": "1.1.0",
      "model_name": "LayoutModel",
      "state": {}
     },
     "b3b01fdf10fc43ef8f6515ad7211f79b": {
      "model_module": "@jupyter-widgets/controls",
      "model_module_version": "1.4.0",
      "model_name": "ButtonModel",
      "state": {
       "description": "2",
       "layout": "IPY_MODEL_9b1e00d5d72f463190acc7ec51ae80fc",
       "style": "IPY_MODEL_72ffe1b8f255418b8c66ecb4ab8c12de"
      }
     },
     "b3cf69c9281a41dbb1852e1fe6c38397": {
      "model_module": "@jupyter-widgets/base",
      "model_module_version": "1.1.0",
      "model_name": "LayoutModel",
      "state": {}
     },
     "b3dbd57dccf142ba8edcb13a61ac4b42": {
      "model_module": "@jupyter-widgets/base",
      "model_module_version": "1.1.0",
      "model_name": "LayoutModel",
      "state": {
       "width": "95%"
      }
     },
     "b3e03410b54742da8dce80f10252b50f": {
      "model_module": "@jupyter-widgets/output",
      "model_module_version": "1.0.0",
      "model_name": "OutputModel",
      "state": {
       "layout": "IPY_MODEL_66855de72a094443bb24ccf7754d9d80"
      }
     },
     "b3e352134a6b4e48a40edfee236f79de": {
      "model_module": "@jupyter-widgets/controls",
      "model_module_version": "1.4.0",
      "model_name": "ButtonStyleModel",
      "state": {}
     },
     "b417e9706cd04eb08705f63b69ae5579": {
      "model_module": "@jupyter-widgets/base",
      "model_module_version": "1.1.0",
      "model_name": "LayoutModel",
      "state": {
       "width": "10%"
      }
     },
     "b41aa4d0a8ea49559c09808d1fec5dad": {
      "model_module": "@jupyter-widgets/base",
      "model_module_version": "1.1.0",
      "model_name": "LayoutModel",
      "state": {}
     },
     "b421eb31187f4c6abf2cdc2dc83ce9e7": {
      "model_module": "@jupyter-widgets/output",
      "model_module_version": "1.0.0",
      "model_name": "OutputModel",
      "state": {
       "layout": "IPY_MODEL_f5216367769142bfa6b81f3b5752ceec"
      }
     },
     "b4352a0c4e9046b88659b8de1cf932e3": {
      "model_module": "@jupyter-widgets/controls",
      "model_module_version": "1.4.0",
      "model_name": "VBoxModel",
      "state": {
       "children": [
        "IPY_MODEL_6394e483560d4dd086a70d5ea21c4394",
        "IPY_MODEL_c61411bf0e1a4f9ebc6659670401132c"
       ],
       "layout": "IPY_MODEL_2fecba526004410e8abc3e76b7a82ef2"
      }
     },
     "b44c6eb8e4d9413d8a8fec84f8166a0c": {
      "model_module": "@jupyter-widgets/controls",
      "model_module_version": "1.4.0",
      "model_name": "VBoxModel",
      "state": {
       "children": [
        "IPY_MODEL_a7c3cebb2e9d40f58b59522ecd09acdc",
        "IPY_MODEL_949ff5a6bd4d434599f63dfd300138fc"
       ],
       "layout": "IPY_MODEL_933879289bff47d0ad734e5047820f92"
      }
     },
     "b4c1e89abe384020b086d056a73b3f2e": {
      "model_module": "@jupyter-widgets/controls",
      "model_module_version": "1.4.0",
      "model_name": "VBoxModel",
      "state": {
       "children": [
        "IPY_MODEL_8db337b2326e4c4393f2fe012d750026",
        "IPY_MODEL_59da8332bb484b8a8a84f5bef7168bd5"
       ],
       "layout": "IPY_MODEL_74b3e59101d54f24b9c886985ae9d0c6"
      }
     },
     "b4fe033800d8471cb6357f138eceec46": {
      "model_module": "@jupyter-widgets/base",
      "model_module_version": "1.1.0",
      "model_name": "LayoutModel",
      "state": {}
     },
     "b50823c6a08044e1bfb06f762efa6396": {
      "model_module": "@jupyter-widgets/controls",
      "model_module_version": "1.4.0",
      "model_name": "ButtonModel",
      "state": {
       "description": "5",
       "layout": "IPY_MODEL_974903e6e0b644fba801f0778527a993",
       "style": "IPY_MODEL_181a35d973df4912ba64731709294e73"
      }
     },
     "b532fec8536f4e0ca7e88110d2cd2384": {
      "model_module": "@jupyter-widgets/controls",
      "model_module_version": "1.4.0",
      "model_name": "ButtonStyleModel",
      "state": {}
     },
     "b55d323166b342a2ac20bbf8dd226208": {
      "model_module": "@jupyter-widgets/base",
      "model_module_version": "1.1.0",
      "model_name": "LayoutModel",
      "state": {}
     },
     "b5751d2321d34ab595895cf5e8f973c4": {
      "model_module": "@jupyter-widgets/base",
      "model_module_version": "1.1.0",
      "model_name": "LayoutModel",
      "state": {}
     },
     "b57cd968681545b38b46764439d570f1": {
      "model_module": "@jupyter-widgets/base",
      "model_module_version": "1.1.0",
      "model_name": "LayoutModel",
      "state": {
       "width": "95%"
      }
     },
     "b5b2d3aef8824ca68c77883baeaea339": {
      "model_module": "@jupyter-widgets/controls",
      "model_module_version": "1.4.0",
      "model_name": "VBoxModel",
      "state": {
       "children": [
        "IPY_MODEL_b03fd913bee04be38f3ee6d06974cf34",
        "IPY_MODEL_ddbf6a9d09e446f58745ee93173ef91b"
       ],
       "layout": "IPY_MODEL_42fcc5024f4b465dbf82c979098cb061"
      }
     },
     "b5d8a9129dbb419e93f0d27aca80f306": {
      "model_module": "@jupyter-widgets/controls",
      "model_module_version": "1.4.0",
      "model_name": "ButtonStyleModel",
      "state": {}
     },
     "b5ecb5e82c7745eeb73b268da56e61e8": {
      "model_module": "@jupyter-widgets/base",
      "model_module_version": "1.1.0",
      "model_name": "LayoutModel",
      "state": {
       "width": "95%"
      }
     },
     "b60365d57c424a43b3047d31daad5c9d": {
      "model_module": "@jupyter-widgets/base",
      "model_module_version": "1.1.0",
      "model_name": "LayoutModel",
      "state": {
       "width": "10%"
      }
     },
     "b60d348ca7b640889bdf793ded76856f": {
      "model_module": "@jupyter-widgets/output",
      "model_module_version": "1.0.0",
      "model_name": "OutputModel",
      "state": {
       "layout": "IPY_MODEL_d702bfef28aa49e787c6f3d7dd0a8f0f"
      }
     },
     "b6155838b64f4364b882809f1e4c4551": {
      "model_module": "@jupyter-widgets/controls",
      "model_module_version": "1.4.0",
      "model_name": "ButtonStyleModel",
      "state": {}
     },
     "b618dcfd5db24338bfea96027b406073": {
      "model_module": "@jupyter-widgets/controls",
      "model_module_version": "1.4.0",
      "model_name": "VBoxModel",
      "state": {
       "children": [
        "IPY_MODEL_9e1c206c3c434713b954c8bd9e761629",
        "IPY_MODEL_c0359d03b3ec4bf69ee997c254dedeb0"
       ],
       "layout": "IPY_MODEL_02ca6c8d329e45bdbd1bbc585c78bdee"
      }
     },
     "b6288ab5513a4e10adca3178cab94e34": {
      "model_module": "@jupyter-widgets/output",
      "model_module_version": "1.0.0",
      "model_name": "OutputModel",
      "state": {
       "layout": "IPY_MODEL_bd2741b9c52f420ead5c6242664aa478"
      }
     },
     "b6428aaf139a42689197d0788c61d99b": {
      "model_module": "@jupyter-widgets/output",
      "model_module_version": "1.0.0",
      "model_name": "OutputModel",
      "state": {
       "layout": "IPY_MODEL_e4f631c131a442b398c0be807f421158"
      }
     },
     "b645f72855e94b8b96d2122e93e2f4de": {
      "model_module": "@jupyter-widgets/controls",
      "model_module_version": "1.4.0",
      "model_name": "VBoxModel",
      "state": {
       "children": [
        "IPY_MODEL_afcd32392ec046a0bfb08ab6e30e2902",
        "IPY_MODEL_9964d20538d04b998b243a8df893551b"
       ],
       "layout": "IPY_MODEL_d60a1e350d3d48a4a2935952086fee19"
      }
     },
     "b65b400f87d2422f959288e057c25481": {
      "model_module": "@jupyter-widgets/controls",
      "model_module_version": "1.4.0",
      "model_name": "VBoxModel",
      "state": {
       "children": [
        "IPY_MODEL_8f9cd0bb02ec4ba1ae420313fb8efa2d",
        "IPY_MODEL_23bd623c763f445087e478e91902cce9"
       ],
       "layout": "IPY_MODEL_255266ed76934708bc461fd1da42b03c"
      }
     },
     "b674a41a5ca644e0a76c4a9239ab0adc": {
      "model_module": "@jupyter-widgets/controls",
      "model_module_version": "1.4.0",
      "model_name": "ButtonModel",
      "state": {
       "description": "2",
       "layout": "IPY_MODEL_d001852e84fa4e8480002742834ad281",
       "style": "IPY_MODEL_72de56d1d082435ea23608d692d4d522"
      }
     },
     "b688dfbc081142069130e06e03850a12": {
      "model_module": "@jupyter-widgets/controls",
      "model_module_version": "1.4.0",
      "model_name": "VBoxModel",
      "state": {
       "children": [
        "IPY_MODEL_4fc97c958cda40189f73214eeb85365b",
        "IPY_MODEL_3c62339e55af4fb68f7852a7fc6fb546"
       ],
       "layout": "IPY_MODEL_eccaef341b9e4df9a2be734640fe370a"
      }
     },
     "b69a4a15a9834a33bc27578e0b699a23": {
      "model_module": "@jupyter-widgets/controls",
      "model_module_version": "1.4.0",
      "model_name": "VBoxModel",
      "state": {
       "children": [
        "IPY_MODEL_b3b01fdf10fc43ef8f6515ad7211f79b",
        "IPY_MODEL_f10dd7e8c2a546f3b29b4587030da3fc"
       ],
       "layout": "IPY_MODEL_ba882b834dd1443e90723bc6168c0dd1"
      }
     },
     "b6d7d8b4bfe741459ccaca4208ae1415": {
      "model_module": "@jupyter-widgets/base",
      "model_module_version": "1.1.0",
      "model_name": "LayoutModel",
      "state": {
       "width": "95%"
      }
     },
     "b6dfda8605d9499d942b41b497bba41c": {
      "model_module": "@jupyter-widgets/controls",
      "model_module_version": "1.4.0",
      "model_name": "TextModel",
      "state": {
       "description": "Other:",
       "layout": "IPY_MODEL_0eb5871411434134b0ba6b9ff730218b",
       "placeholder": "Hit enter to submit.",
       "style": "IPY_MODEL_4b29263fe09d4e9aa732001ae0ffdb16"
      }
     },
     "b7256f769beb460d88add4249317ff4b": {
      "model_module": "@jupyter-widgets/base",
      "model_module_version": "1.1.0",
      "model_name": "LayoutModel",
      "state": {
       "justify_content": "space-between"
      }
     },
     "b732f459f6a44d47bbfe3f04d9f13923": {
      "model_module": "@jupyter-widgets/controls",
      "model_module_version": "1.4.0",
      "model_name": "ButtonStyleModel",
      "state": {}
     },
     "b764fe4ee1b04755a9ebd06214d81751": {
      "model_module": "@jupyter-widgets/output",
      "model_module_version": "1.0.0",
      "model_name": "OutputModel",
      "state": {
       "layout": "IPY_MODEL_6e4ff7d9fec846bea2dd11a13af98ade"
      }
     },
     "b7677c05381d429d86d1cc49ed65489f": {
      "model_module": "@jupyter-widgets/controls",
      "model_module_version": "1.4.0",
      "model_name": "ButtonModel",
      "state": {
       "description": "0",
       "layout": "IPY_MODEL_e99f49422f644ddf865f76eb75ce54b0",
       "style": "IPY_MODEL_6e77d6e384034b669aab5b8456b09b97"
      }
     },
     "b777c06299fc4776a0a0c2de68c17983": {
      "model_module": "@jupyter-widgets/controls",
      "model_module_version": "1.4.0",
      "model_name": "VBoxModel",
      "state": {
       "children": [
        "IPY_MODEL_f3ca010cf047414e81b75e5e74ccc1a3",
        "IPY_MODEL_02bfd75560e04e80bcf54c044be0736e"
       ],
       "layout": "IPY_MODEL_4bf494f5d6024d1eb9451d103becbcc8"
      }
     },
     "b7967dbbc3a64101879351138b136ab7": {
      "model_module": "@jupyter-widgets/controls",
      "model_module_version": "1.4.0",
      "model_name": "ButtonStyleModel",
      "state": {}
     },
     "b7c67f1b517b4bea831b5db521a57802": {
      "model_module": "@jupyter-widgets/base",
      "model_module_version": "1.1.0",
      "model_name": "LayoutModel",
      "state": {}
     },
     "b7c712c2e5e949a6bc3bd6537cbd1bf9": {
      "model_module": "@jupyter-widgets/base",
      "model_module_version": "1.1.0",
      "model_name": "LayoutModel",
      "state": {
       "width": "95%"
      }
     },
     "b7d19cc8ea454702a7b4a75b45251285": {
      "model_module": "@jupyter-widgets/output",
      "model_module_version": "1.0.0",
      "model_name": "OutputModel",
      "state": {
       "layout": "IPY_MODEL_ed39a2e661144ee8aceae52a3881059c"
      }
     },
     "b7e2b61082504236971bc2b3847d6d96": {
      "model_module": "@jupyter-widgets/base",
      "model_module_version": "1.1.0",
      "model_name": "LayoutModel",
      "state": {
       "width": "10%"
      }
     },
     "b7f6dcd0b8114ed5a14dd47b401526b9": {
      "model_module": "@jupyter-widgets/base",
      "model_module_version": "1.1.0",
      "model_name": "LayoutModel",
      "state": {}
     },
     "b828e892201c4de9931b7bb39a60933f": {
      "model_module": "@jupyter-widgets/base",
      "model_module_version": "1.1.0",
      "model_name": "LayoutModel",
      "state": {
       "width": "95%"
      }
     },
     "b83abd15c4a848289a9e4e9ae8cad617": {
      "model_module": "@jupyter-widgets/controls",
      "model_module_version": "1.4.0",
      "model_name": "VBoxModel",
      "state": {
       "children": [
        "IPY_MODEL_5ad89c015d844ce6b3c51fd5f8d3bdb0",
        "IPY_MODEL_9d5091ddf58b49b8ad599d2b0dd0b8ed"
       ],
       "layout": "IPY_MODEL_a88dd492337547d182f54bd5d2ee375f"
      }
     },
     "b85c6669ff0c485d95ab8d84d85ccac3": {
      "model_module": "@jupyter-widgets/base",
      "model_module_version": "1.1.0",
      "model_name": "LayoutModel",
      "state": {
       "width": "95%"
      }
     },
     "b86183b3b76b4c8c96da9bb37010d0d5": {
      "model_module": "@jupyter-widgets/base",
      "model_module_version": "1.1.0",
      "model_name": "LayoutModel",
      "state": {
       "width": "10%"
      }
     },
     "b86581b4272e4d05b20eeb0dc7775fc9": {
      "model_module": "@jupyter-widgets/base",
      "model_module_version": "1.1.0",
      "model_name": "LayoutModel",
      "state": {
       "width": "95%"
      }
     },
     "b86c7f5b151e42519a9c0b1c1e0b061c": {
      "model_module": "@jupyter-widgets/base",
      "model_module_version": "1.1.0",
      "model_name": "LayoutModel",
      "state": {}
     },
     "b8b1ad9973c44dd09b42f8944b628353": {
      "model_module": "@jupyter-widgets/base",
      "model_module_version": "1.1.0",
      "model_name": "LayoutModel",
      "state": {
       "width": "95%"
      }
     },
     "b8bee993c1684d13abbca07e148a04de": {
      "model_module": "@jupyter-widgets/controls",
      "model_module_version": "1.4.0",
      "model_name": "VBoxModel",
      "state": {
       "children": [
        "IPY_MODEL_11d3aeba87464227943ff500f56118ad",
        "IPY_MODEL_1c6054324cc448459bbb086e076ab1a5"
       ],
       "layout": "IPY_MODEL_1e421b20abf84e19bffa8b57c45fa047"
      }
     },
     "b8d7bfdfee99483b856b47cbc9377ba6": {
      "model_module": "@jupyter-widgets/base",
      "model_module_version": "1.1.0",
      "model_name": "LayoutModel",
      "state": {
       "width": "95%"
      }
     },
     "b8db06cbc4b74b45b9989bc95aa205e2": {
      "model_module": "@jupyter-widgets/controls",
      "model_module_version": "1.4.0",
      "model_name": "DescriptionStyleModel",
      "state": {
       "description_width": ""
      }
     },
     "b8fb5d390d3f4c1987974fbd8c86670f": {
      "model_module": "@jupyter-widgets/base",
      "model_module_version": "1.1.0",
      "model_name": "LayoutModel",
      "state": {}
     },
     "b902ee3df8204db49df4b9272919fa68": {
      "model_module": "@jupyter-widgets/base",
      "model_module_version": "1.1.0",
      "model_name": "LayoutModel",
      "state": {}
     },
     "b9133b596b8345d2bec5815bd0555d1d": {
      "model_module": "@jupyter-widgets/base",
      "model_module_version": "1.1.0",
      "model_name": "LayoutModel",
      "state": {
       "width": "10%"
      }
     },
     "b91a8fd66fad4a5287e91b0e1d3a1878": {
      "model_module": "@jupyter-widgets/base",
      "model_module_version": "1.1.0",
      "model_name": "LayoutModel",
      "state": {}
     },
     "b92ab5a5bb8c4ae69086f42e4a94e778": {
      "model_module": "@jupyter-widgets/output",
      "model_module_version": "1.0.0",
      "model_name": "OutputModel",
      "state": {
       "layout": "IPY_MODEL_f72247921d954861acdd43c5d5513111"
      }
     },
     "b932767886954513bdeed2eb6bbf5f43": {
      "model_module": "@jupyter-widgets/base",
      "model_module_version": "1.1.0",
      "model_name": "LayoutModel",
      "state": {
       "justify_content": "space-between"
      }
     },
     "b9a21eea72604de9b9c34586ae4961b5": {
      "model_module": "@jupyter-widgets/base",
      "model_module_version": "1.1.0",
      "model_name": "LayoutModel",
      "state": {}
     },
     "b9bdb70061184cf29118b7b2bc71872f": {
      "model_module": "@jupyter-widgets/controls",
      "model_module_version": "1.4.0",
      "model_name": "DescriptionStyleModel",
      "state": {
       "description_width": ""
      }
     },
     "b9eeced62c77476680d3310ba2110189": {
      "model_module": "@jupyter-widgets/base",
      "model_module_version": "1.1.0",
      "model_name": "LayoutModel",
      "state": {
       "width": "95%"
      }
     },
     "b9ef3823d0b349adb117671344c7da51": {
      "model_module": "@jupyter-widgets/output",
      "model_module_version": "1.0.0",
      "model_name": "OutputModel",
      "state": {
       "layout": "IPY_MODEL_91120a4cb0a846cc805697931061be05"
      }
     },
     "b9f840a874544a228eaf2f0df2def147": {
      "model_module": "@jupyter-widgets/base",
      "model_module_version": "1.1.0",
      "model_name": "LayoutModel",
      "state": {
       "width": "10%"
      }
     },
     "ba0dec79b0f445fcb8d1aa5e9e4921ec": {
      "model_module": "@jupyter-widgets/controls",
      "model_module_version": "1.4.0",
      "model_name": "VBoxModel",
      "state": {
       "children": [
        "IPY_MODEL_b05cd0a933244c34bf6e4871cff3bf38",
        "IPY_MODEL_52dd3d7b970f4b149a0a15d59178ef72"
       ],
       "layout": "IPY_MODEL_94557c0e6085461384d0278cd5679dc9"
      }
     },
     "ba0fb510e6b045d18af336430248980b": {
      "model_module": "@jupyter-widgets/base",
      "model_module_version": "1.1.0",
      "model_name": "LayoutModel",
      "state": {}
     },
     "ba1442b5443646088ca998aa8f29d274": {
      "model_module": "@jupyter-widgets/base",
      "model_module_version": "1.1.0",
      "model_name": "LayoutModel",
      "state": {
       "width": "95%"
      }
     },
     "ba1509568ce14800a4b22f8844dc5590": {
      "model_module": "@jupyter-widgets/output",
      "model_module_version": "1.0.0",
      "model_name": "OutputModel",
      "state": {
       "layout": "IPY_MODEL_f6fd55d1597c4dedab504b81abf74a89"
      }
     },
     "ba26d11716f14fa18064c60c3e47eb2b": {
      "model_module": "@jupyter-widgets/base",
      "model_module_version": "1.1.0",
      "model_name": "LayoutModel",
      "state": {
       "width": "95%"
      }
     },
     "ba3ae86b66374bf09d00c8eae1dd7b51": {
      "model_module": "@jupyter-widgets/output",
      "model_module_version": "1.0.0",
      "model_name": "OutputModel",
      "state": {
       "layout": "IPY_MODEL_6a9f7dc773cf4d19b6774dc3a56b7033"
      }
     },
     "ba41229b13664d14b989c20bfc826de1": {
      "model_module": "@jupyter-widgets/output",
      "model_module_version": "1.0.0",
      "model_name": "OutputModel",
      "state": {
       "layout": "IPY_MODEL_a5f99cf62ae24d78a8eb2b7ec43b4920"
      }
     },
     "ba469e99eda048cc9a60a4341cea61c8": {
      "model_module": "@jupyter-widgets/controls",
      "model_module_version": "1.4.0",
      "model_name": "ButtonStyleModel",
      "state": {}
     },
     "ba48ed7206254eeab476cd898678a540": {
      "model_module": "@jupyter-widgets/controls",
      "model_module_version": "1.4.0",
      "model_name": "ButtonModel",
      "state": {
       "description": "0",
       "layout": "IPY_MODEL_3671e7a8a3f24d64a6273ffd90c54810",
       "style": "IPY_MODEL_fd6d1239ac1c46909ffb26d1c245675c"
      }
     },
     "ba49a087350f48f49ecb8c5f18bcd389": {
      "model_module": "@jupyter-widgets/base",
      "model_module_version": "1.1.0",
      "model_name": "LayoutModel",
      "state": {}
     },
     "ba4c170a0da24ba7a15865d9d990ad82": {
      "model_module": "@jupyter-widgets/controls",
      "model_module_version": "1.4.0",
      "model_name": "VBoxModel",
      "state": {
       "children": [
        "IPY_MODEL_6009de8de5644305a1c90dbdf8016c3b",
        "IPY_MODEL_fe740a0803f04cdb89ceb99ce4de83d1"
       ],
       "layout": "IPY_MODEL_f9ec2f37f9cd458aa6bcb1785200d699"
      }
     },
     "ba510921dac64bc3bdf5b3ff4d404358": {
      "model_module": "@jupyter-widgets/base",
      "model_module_version": "1.1.0",
      "model_name": "LayoutModel",
      "state": {
       "width": "95%"
      }
     },
     "ba59acb9092e44fa8f0232c006828bd3": {
      "model_module": "@jupyter-widgets/base",
      "model_module_version": "1.1.0",
      "model_name": "LayoutModel",
      "state": {
       "width": "95%"
      }
     },
     "ba6af07d44fd4e1f8079a8da2c11846a": {
      "model_module": "@jupyter-widgets/base",
      "model_module_version": "1.1.0",
      "model_name": "LayoutModel",
      "state": {
       "width": "95%"
      }
     },
     "ba861d57e4754638be5a63a3c3e6fd19": {
      "model_module": "@jupyter-widgets/controls",
      "model_module_version": "1.4.0",
      "model_name": "ButtonModel",
      "state": {
       "description": "5",
       "layout": "IPY_MODEL_1dc33f6158da46589d3aff712cfb3e0b",
       "style": "IPY_MODEL_f0e872e6465a466bac85b5c9da3d4aee"
      }
     },
     "ba882b834dd1443e90723bc6168c0dd1": {
      "model_module": "@jupyter-widgets/base",
      "model_module_version": "1.1.0",
      "model_name": "LayoutModel",
      "state": {
       "width": "10%"
      }
     },
     "baa542d060df4de394784c4f80ea3d17": {
      "model_module": "@jupyter-widgets/base",
      "model_module_version": "1.1.0",
      "model_name": "LayoutModel",
      "state": {
       "width": "95%"
      }
     },
     "bb04da4a297a4c3080b9cccfff8dbfdf": {
      "model_module": "@jupyter-widgets/base",
      "model_module_version": "1.1.0",
      "model_name": "LayoutModel",
      "state": {
       "width": "95%"
      }
     },
     "bb0b8e9e1a4341d6a4e778c75d7910d7": {
      "model_module": "@jupyter-widgets/base",
      "model_module_version": "1.1.0",
      "model_name": "LayoutModel",
      "state": {
       "width": "95%"
      }
     },
     "bb1873e6116d4c3ab7172ba479de2436": {
      "model_module": "@jupyter-widgets/output",
      "model_module_version": "1.0.0",
      "model_name": "OutputModel",
      "state": {
       "layout": "IPY_MODEL_104e4b6e90e841b98fea6c1240f24336"
      }
     },
     "bb431c434a6f4114b0086e0db46ec2c0": {
      "model_module": "@jupyter-widgets/output",
      "model_module_version": "1.0.0",
      "model_name": "OutputModel",
      "state": {
       "layout": "IPY_MODEL_93ea821b79b44bb4951674d22fe5a3a3"
      }
     },
     "bb4f3c5cc498448591a124a0a19f5184": {
      "model_module": "@jupyter-widgets/base",
      "model_module_version": "1.1.0",
      "model_name": "LayoutModel",
      "state": {
       "width": "95%"
      }
     },
     "bb572b46633b4ec2931ec30a78697ac9": {
      "model_module": "@jupyter-widgets/controls",
      "model_module_version": "1.4.0",
      "model_name": "HBoxModel",
      "state": {
       "children": [
        "IPY_MODEL_a7b44988270847eabb0bf8f369e3567b",
        "IPY_MODEL_8ff52e9bec0d4c2bbfd8b2d96b28d24c",
        "IPY_MODEL_85b809c18a6c4a50963c04ccc34d9c28"
       ],
       "layout": "IPY_MODEL_e1511da856284186bfa206423470e61a"
      }
     },
     "bb5f6c0af8b54f38a969624049bb0592": {
      "model_module": "@jupyter-widgets/output",
      "model_module_version": "1.0.0",
      "model_name": "OutputModel",
      "state": {
       "layout": "IPY_MODEL_b9a21eea72604de9b9c34586ae4961b5"
      }
     },
     "bb7f05377aa2450cadd145dbc1d079d9": {
      "model_module": "@jupyter-widgets/output",
      "model_module_version": "1.0.0",
      "model_name": "OutputModel",
      "state": {
       "layout": "IPY_MODEL_68c045a045154f6e9aab410a203126ec"
      }
     },
     "bba47c5687a446aaa1e8490c00a77cb9": {
      "model_module": "@jupyter-widgets/base",
      "model_module_version": "1.1.0",
      "model_name": "LayoutModel",
      "state": {}
     },
     "bbaadc8fe9e34cd79f580746a3425ba7": {
      "model_module": "@jupyter-widgets/controls",
      "model_module_version": "1.4.0",
      "model_name": "VBoxModel",
      "state": {
       "children": [
        "IPY_MODEL_6ba49b70e7ca428c9bb4db7f6964eef9",
        "IPY_MODEL_6ca84ca3ef204b9eb6b888f3507c3ba9"
       ],
       "layout": "IPY_MODEL_1dbaf22f938940cca08bbc4b2ca1c519"
      }
     },
     "bbcfc3047d89472392b9c75571b02297": {
      "model_module": "@jupyter-widgets/controls",
      "model_module_version": "1.4.0",
      "model_name": "ButtonStyleModel",
      "state": {}
     },
     "bbd2eaeba4994c938d606b81edfba7b1": {
      "model_module": "@jupyter-widgets/controls",
      "model_module_version": "1.4.0",
      "model_name": "ButtonStyleModel",
      "state": {}
     },
     "bbdc9b1d2797402da3884b3ccdeb6846": {
      "model_module": "@jupyter-widgets/controls",
      "model_module_version": "1.4.0",
      "model_name": "ButtonModel",
      "state": {
       "description": "6",
       "layout": "IPY_MODEL_7cb5c390723344c6aa70d06460b64352",
       "style": "IPY_MODEL_3f7ccf7271f640409df314251e1d229d"
      }
     },
     "bbf2f74317034cec92e7e96b331dd4ff": {
      "model_module": "@jupyter-widgets/controls",
      "model_module_version": "1.4.0",
      "model_name": "ButtonStyleModel",
      "state": {}
     },
     "bc0136f1b69e46ebbaf0c98b046d999d": {
      "model_module": "@jupyter-widgets/controls",
      "model_module_version": "1.4.0",
      "model_name": "ButtonModel",
      "state": {
       "description": "5",
       "layout": "IPY_MODEL_110001fee5524b559ed7feffc873512c",
       "style": "IPY_MODEL_8efdece4147644cfa3e24ee3dd40fdcd"
      }
     },
     "bc178f9194d14ca6aefe8c718775cbe6": {
      "model_module": "@jupyter-widgets/base",
      "model_module_version": "1.1.0",
      "model_name": "LayoutModel",
      "state": {
       "width": "10%"
      }
     },
     "bc2313633e5d43c5aeca8ba44635de92": {
      "model_module": "@jupyter-widgets/base",
      "model_module_version": "1.1.0",
      "model_name": "LayoutModel",
      "state": {
       "width": "10%"
      }
     },
     "bc30925113934de090b50b2ba3671fee": {
      "model_module": "@jupyter-widgets/base",
      "model_module_version": "1.1.0",
      "model_name": "LayoutModel",
      "state": {
       "width": "10%"
      }
     },
     "bc346cfe30654601b90577ccfc2faa67": {
      "model_module": "@jupyter-widgets/base",
      "model_module_version": "1.1.0",
      "model_name": "LayoutModel",
      "state": {}
     },
     "bc4e8ce0c9654138a802479c00f113f2": {
      "model_module": "@jupyter-widgets/controls",
      "model_module_version": "1.4.0",
      "model_name": "ButtonStyleModel",
      "state": {}
     },
     "bc50dc50d2104fe6bffb723a0c92fcf2": {
      "model_module": "@jupyter-widgets/base",
      "model_module_version": "1.1.0",
      "model_name": "LayoutModel",
      "state": {
       "width": "95%"
      }
     },
     "bc76a3fa49054f80ae7a9583c7b0a26f": {
      "model_module": "@jupyter-widgets/base",
      "model_module_version": "1.1.0",
      "model_name": "LayoutModel",
      "state": {}
     },
     "bc9d715972a6425bbd0fa2253fd89a52": {
      "model_module": "@jupyter-widgets/base",
      "model_module_version": "1.1.0",
      "model_name": "LayoutModel",
      "state": {}
     },
     "bcb0fafd137c433ca2ea3e618f97cda7": {
      "model_module": "@jupyter-widgets/base",
      "model_module_version": "1.1.0",
      "model_name": "LayoutModel",
      "state": {
       "width": "10%"
      }
     },
     "bcbebf5ad17e486ebb97eb7aec473830": {
      "model_module": "@jupyter-widgets/controls",
      "model_module_version": "1.4.0",
      "model_name": "ButtonModel",
      "state": {
       "description": "0",
       "layout": "IPY_MODEL_5c89e554d1774796b2f4e975573d4c89",
       "style": "IPY_MODEL_721b3d54a6ad41838b67e58bbd755aca"
      }
     },
     "bcd0c1973ae544ce848cf9c9372f2514": {
      "model_module": "@jupyter-widgets/base",
      "model_module_version": "1.1.0",
      "model_name": "LayoutModel",
      "state": {}
     },
     "bcd1fe67cc6a4bb8b98b6510c88dfb8d": {
      "model_module": "@jupyter-widgets/controls",
      "model_module_version": "1.4.0",
      "model_name": "HBoxModel",
      "state": {
       "children": [
        "IPY_MODEL_a7b44988270847eabb0bf8f369e3567b",
        "IPY_MODEL_8ff52e9bec0d4c2bbfd8b2d96b28d24c",
        "IPY_MODEL_85b809c18a6c4a50963c04ccc34d9c28"
       ],
       "layout": "IPY_MODEL_8b55e42534ea4a518761d497523496df"
      }
     },
     "bcd35487758f4b548bdbecfd8012458c": {
      "model_module": "@jupyter-widgets/base",
      "model_module_version": "1.1.0",
      "model_name": "LayoutModel",
      "state": {}
     },
     "bce1fb7651c34c7c8100c96cefdfadd7": {
      "model_module": "@jupyter-widgets/controls",
      "model_module_version": "1.4.0",
      "model_name": "DescriptionStyleModel",
      "state": {
       "description_width": ""
      }
     },
     "bd1a6b8d6d3e47aeb7b25fdb1121dcc6": {
      "model_module": "@jupyter-widgets/controls",
      "model_module_version": "1.4.0",
      "model_name": "ButtonModel",
      "state": {
       "description": "4",
       "layout": "IPY_MODEL_f6ffd6fd015d40dbad64f71c2499aa46",
       "style": "IPY_MODEL_a0c8a07ed6cb44efb0592b5bbd1db117"
      }
     },
     "bd2368fc61824b529b0e5529392a369f": {
      "model_module": "@jupyter-widgets/controls",
      "model_module_version": "1.4.0",
      "model_name": "ButtonStyleModel",
      "state": {}
     },
     "bd2741b9c52f420ead5c6242664aa478": {
      "model_module": "@jupyter-widgets/base",
      "model_module_version": "1.1.0",
      "model_name": "LayoutModel",
      "state": {}
     },
     "bd2a68bcd586436a9b8895346a8a6eb3": {
      "model_module": "@jupyter-widgets/base",
      "model_module_version": "1.1.0",
      "model_name": "LayoutModel",
      "state": {
       "width": "10%"
      }
     },
     "bd358613d1dd4e28ac34618c906156ec": {
      "model_module": "@jupyter-widgets/output",
      "model_module_version": "1.0.0",
      "model_name": "OutputModel",
      "state": {
       "layout": "IPY_MODEL_1cb4253579ce4472bbd33e5abd2df793"
      }
     },
     "bd35dc0ca5364983abb3d9c052f870f0": {
      "model_module": "@jupyter-widgets/controls",
      "model_module_version": "1.4.0",
      "model_name": "ButtonModel",
      "state": {
       "description": "1",
       "layout": "IPY_MODEL_2669f3b30bb44d398f3e611979a1f0c2",
       "style": "IPY_MODEL_93e244d0e6834f439003fffbe507bd47"
      }
     },
     "bd3cac5f1b0843a0a5b915db560793e3": {
      "model_module": "@jupyter-widgets/controls",
      "model_module_version": "1.4.0",
      "model_name": "ButtonModel",
      "state": {
       "description": "9",
       "layout": "IPY_MODEL_ba510921dac64bc3bdf5b3ff4d404358",
       "style": "IPY_MODEL_f643f73c02064c529b748863353d1007"
      }
     },
     "bd3d47e56e8c40ae8daeba0cfcfacf12": {
      "model_module": "@jupyter-widgets/base",
      "model_module_version": "1.1.0",
      "model_name": "LayoutModel",
      "state": {}
     },
     "bd669294ed6341de890ed109abe0f7a1": {
      "model_module": "@jupyter-widgets/base",
      "model_module_version": "1.1.0",
      "model_name": "LayoutModel",
      "state": {
       "width": "10%"
      }
     },
     "bd75066d090347bb922f5c031b6721a3": {
      "model_module": "@jupyter-widgets/controls",
      "model_module_version": "1.4.0",
      "model_name": "HBoxModel",
      "state": {
       "children": [
        "IPY_MODEL_f752844773cf4b42b5deba0b224ee216",
        "IPY_MODEL_afeb2fd34499492e836acbbc68619906"
       ],
       "layout": "IPY_MODEL_812f69ae315f474ea5cdba3410d85180"
      }
     },
     "bd870194ce6b4dd795e43dab84222839": {
      "model_module": "@jupyter-widgets/controls",
      "model_module_version": "1.4.0",
      "model_name": "VBoxModel",
      "state": {
       "children": [
        "IPY_MODEL_e37b171ffa514d7e938aba575be9c9e3",
        "IPY_MODEL_95a8994dde654042978c8915d16ed404"
       ],
       "layout": "IPY_MODEL_a23a3e0032c0441fa11c5941bd1581a3"
      }
     },
     "bd8bfe2c4b574499b6c0171b3d1e787d": {
      "model_module": "@jupyter-widgets/base",
      "model_module_version": "1.1.0",
      "model_name": "LayoutModel",
      "state": {}
     },
     "bd9b322a15e845dcbeccf1d7e4d22edf": {
      "model_module": "@jupyter-widgets/base",
      "model_module_version": "1.1.0",
      "model_name": "LayoutModel",
      "state": {
       "width": "10%"
      }
     },
     "bda9870ac9d240cda8e1435ee27e4b8b": {
      "model_module": "@jupyter-widgets/base",
      "model_module_version": "1.1.0",
      "model_name": "LayoutModel",
      "state": {
       "width": "10%"
      }
     },
     "bdbdb9ed02b54626a2cf3d7d9d026e17": {
      "model_module": "@jupyter-widgets/base",
      "model_module_version": "1.1.0",
      "model_name": "LayoutModel",
      "state": {
       "width": "10%"
      }
     },
     "bdbe24cc2952487ba25b59586b84f322": {
      "model_module": "@jupyter-widgets/controls",
      "model_module_version": "1.4.0",
      "model_name": "TextModel",
      "state": {
       "description": "Other:",
       "layout": "IPY_MODEL_e016b9fa1bfe4f36a3ef04d3a14e22bd",
       "placeholder": "Hit enter to submit.",
       "style": "IPY_MODEL_753481897ee84e0ca99498bf14a09773"
      }
     },
     "bdd535f98ec44e8db0677bd742f1a086": {
      "model_module": "@jupyter-widgets/base",
      "model_module_version": "1.1.0",
      "model_name": "LayoutModel",
      "state": {}
     },
     "bdf1ba0256b94f959fcb95429c57498f": {
      "model_module": "@jupyter-widgets/controls",
      "model_module_version": "1.4.0",
      "model_name": "VBoxModel",
      "state": {
       "children": [
        "IPY_MODEL_5c2227a8cb9d4f11ab351aefb13cb3b9",
        "IPY_MODEL_62f47b89addf4ee8a8e955d5f36a5c22"
       ],
       "layout": "IPY_MODEL_a5069e0f2dcd42909f8e4dd2025dd1a1"
      }
     },
     "be08ab5f1f0c42c697c5195a9acf5b39": {
      "model_module": "@jupyter-widgets/controls",
      "model_module_version": "1.4.0",
      "model_name": "VBoxModel",
      "state": {
       "children": [
        "IPY_MODEL_464fa49706d144358c101ee2b44228a9",
        "IPY_MODEL_8d2f8d4e1f0b4ff7aab047e3da947f81"
       ],
       "layout": "IPY_MODEL_2c449a9a128145668b8b15f7df754948"
      }
     },
     "be385ca679254ac18ed3d0f477df669a": {
      "model_module": "@jupyter-widgets/base",
      "model_module_version": "1.1.0",
      "model_name": "LayoutModel",
      "state": {}
     },
     "be4148598f9f4ad08f43c5f072931c09": {
      "model_module": "@jupyter-widgets/base",
      "model_module_version": "1.1.0",
      "model_name": "LayoutModel",
      "state": {
       "width": "10%"
      }
     },
     "be6a09beef644ad0a0af1002cd119e34": {
      "model_module": "@jupyter-widgets/base",
      "model_module_version": "1.1.0",
      "model_name": "LayoutModel",
      "state": {
       "width": "10%"
      }
     },
     "be78c5034ddd47e8bc5b61a49c7d2f68": {
      "model_module": "@jupyter-widgets/base",
      "model_module_version": "1.1.0",
      "model_name": "LayoutModel",
      "state": {}
     },
     "be7bf56208e84b39b30c7758b2b52926": {
      "model_module": "@jupyter-widgets/controls",
      "model_module_version": "1.4.0",
      "model_name": "ButtonStyleModel",
      "state": {}
     },
     "be7f6d70c77e422dafed99a113f20c51": {
      "model_module": "@jupyter-widgets/base",
      "model_module_version": "1.1.0",
      "model_name": "LayoutModel",
      "state": {}
     },
     "be958ba6ad93404db2fb849d3744b410": {
      "model_module": "@jupyter-widgets/controls",
      "model_module_version": "1.4.0",
      "model_name": "HBoxModel",
      "state": {
       "children": [
        "IPY_MODEL_866f9062ee784494a951b8e404c2c8d5",
        "IPY_MODEL_952fdf9fe1024f48a23459b261cd8ec5",
        "IPY_MODEL_2447120f6e3d4b4eace9ec56eda6e580",
        "IPY_MODEL_b4352a0c4e9046b88659b8de1cf932e3",
        "IPY_MODEL_2e77c1e9d9e2409db6f51c017734fd4e",
        "IPY_MODEL_338f6584d44243cbb06f21b77e71226d",
        "IPY_MODEL_49aa38a29c9d4928947e872ba030f92c",
        "IPY_MODEL_aae6795f8ac949129dcb2a89aca9d239",
        "IPY_MODEL_3bf2661aba5b402787a5a3ec472dc4cc",
        "IPY_MODEL_0b57f59c6640418da4068e8f93887ba5"
       ],
       "layout": "IPY_MODEL_4504dfda741c46b5bdba52954818bab6"
      }
     },
     "be9b0db1bd81402aa00ef356f4d51de2": {
      "model_module": "@jupyter-widgets/controls",
      "model_module_version": "1.4.0",
      "model_name": "ButtonStyleModel",
      "state": {}
     },
     "bec4fda6aa52444d8c0d802fcd8beae2": {
      "model_module": "@jupyter-widgets/controls",
      "model_module_version": "1.4.0",
      "model_name": "HBoxModel",
      "state": {
       "children": [
        "IPY_MODEL_931dc0c82baa4a27941a34c0f7007d54",
        "IPY_MODEL_770cf14794364b1c88334e9d08563082",
        "IPY_MODEL_55a8021913df442b9c05098f772a9e73",
        "IPY_MODEL_0f166efdaadb4406af8186a7a097a6e7",
        "IPY_MODEL_9dcd4c254ecd400d8ec6c97ab858d1c9",
        "IPY_MODEL_4fe2d3bab4334097a9e8cae326267b4e",
        "IPY_MODEL_a11cadde44d14246b4e5323be9cf23fe",
        "IPY_MODEL_46babae094b5497fa187a218782da24a",
        "IPY_MODEL_7546d006ea6c45a58024e14af81cfdce",
        "IPY_MODEL_50565446cbb84d5e91ba432ffebe3b7d"
       ],
       "layout": "IPY_MODEL_dc8f775278f64e39ac04eeba0982e591"
      }
     },
     "bec7dd438f7e455185479e47def4d779": {
      "model_module": "@jupyter-widgets/controls",
      "model_module_version": "1.4.0",
      "model_name": "HBoxModel",
      "state": {
       "children": [
        "IPY_MODEL_d69ae2af9f3746c7af7515ee9af94332",
        "IPY_MODEL_343adb05fe0840c1bd121816ed2468e2",
        "IPY_MODEL_d37fec7ec2de404d9f1befb98f480e9e",
        "IPY_MODEL_9138e4ac63454570be8e97ce93e632a7",
        "IPY_MODEL_d2bcbb1cfcaf40cbacf470a138b60b11",
        "IPY_MODEL_6f02f955a6e4476b8afd77a60287cd93",
        "IPY_MODEL_7de90746ae6c46d498da287238876c76",
        "IPY_MODEL_a3f6e7fbc5404d36b5fb94bc3c214d02",
        "IPY_MODEL_9cee3981b2be4c36acabfa47168bcdfa",
        "IPY_MODEL_c6a651966b0f4ec49202902807bd9685"
       ],
       "layout": "IPY_MODEL_d9d12d376cc64263be171019c9bd4e46"
      }
     },
     "bf0e268c61f14dc2bf21475610d8fc49": {
      "model_module": "@jupyter-widgets/controls",
      "model_module_version": "1.4.0",
      "model_name": "ButtonModel",
      "state": {
       "description": "5",
       "layout": "IPY_MODEL_d459ecca52014048b34bf9ef7f8efd1b",
       "style": "IPY_MODEL_944336709a0c49a0b754296673709f09"
      }
     },
     "bf2210295b914727a352b4d62117b333": {
      "model_module": "@jupyter-widgets/output",
      "model_module_version": "1.0.0",
      "model_name": "OutputModel",
      "state": {
       "layout": "IPY_MODEL_4e9506312adb48af99274db352f773fa"
      }
     },
     "bf2c2022214944b6bd62cfe4bf2faa8e": {
      "model_module": "@jupyter-widgets/base",
      "model_module_version": "1.1.0",
      "model_name": "LayoutModel",
      "state": {}
     },
     "bf3845d45ef34338af2d0824e4069bcc": {
      "model_module": "@jupyter-widgets/output",
      "model_module_version": "1.0.0",
      "model_name": "OutputModel",
      "state": {
       "layout": "IPY_MODEL_513d528512e64caf8e42d9dd9a717bdf"
      }
     },
     "bf3ec7a57d774f4b8f1e8140716d3f8e": {
      "model_module": "@jupyter-widgets/base",
      "model_module_version": "1.1.0",
      "model_name": "LayoutModel",
      "state": {
       "width": "10%"
      }
     },
     "bf4e3f3efabc4771899c811ea1a0d0be": {
      "model_module": "@jupyter-widgets/controls",
      "model_module_version": "1.4.0",
      "model_name": "ButtonStyleModel",
      "state": {}
     },
     "bf4fded37217455d9bcbbe5d69ccf211": {
      "model_module": "@jupyter-widgets/base",
      "model_module_version": "1.1.0",
      "model_name": "LayoutModel",
      "state": {
       "width": "50%"
      }
     },
     "bf59ad48ab294f04aa94c65e508b80ac": {
      "model_module": "@jupyter-widgets/controls",
      "model_module_version": "1.4.0",
      "model_name": "VBoxModel",
      "state": {
       "children": [
        "IPY_MODEL_20172715e91c48e1b037796b20e148ed",
        "IPY_MODEL_d2ccdf11e8294499a3d5511caf5d81d0"
       ],
       "layout": "IPY_MODEL_a1775089feb74ed090d40c95f66edd29"
      }
     },
     "bf6a3e9a940347139010c3faec6d8ea2": {
      "model_module": "@jupyter-widgets/controls",
      "model_module_version": "1.4.0",
      "model_name": "ButtonModel",
      "state": {
       "description": "8",
       "layout": "IPY_MODEL_6785606c1b62490db8f1d96378bdd06b",
       "style": "IPY_MODEL_ec3f2e094ff34278b0597bac09ba162d"
      }
     },
     "bf837ba56a9c431a9ff778e1a432dc83": {
      "model_module": "@jupyter-widgets/controls",
      "model_module_version": "1.4.0",
      "model_name": "ButtonModel",
      "state": {
       "description": "5",
       "layout": "IPY_MODEL_771ab2ee8b424c0e9231e73675f669af",
       "style": "IPY_MODEL_576c6ba3ee62444ea03c28aad4bb7f9d"
      }
     },
     "bf9092067adf44798284e052a1ab9ced": {
      "model_module": "@jupyter-widgets/controls",
      "model_module_version": "1.4.0",
      "model_name": "ButtonModel",
      "state": {
       "description": "2",
       "layout": "IPY_MODEL_ceff6927936e426a9c1adabbc94944a3",
       "style": "IPY_MODEL_ec84cd53be054889ac6cf8e270b6284e"
      }
     },
     "bf959cabd6554ac5814597f645581baa": {
      "model_module": "@jupyter-widgets/controls",
      "model_module_version": "1.4.0",
      "model_name": "ButtonModel",
      "state": {
       "description": "3",
       "layout": "IPY_MODEL_c29dc136642544f4ad0ce735ed0dc567",
       "style": "IPY_MODEL_aea65376cd7743739eaa6e2ec76871c5"
      }
     },
     "bfa76dba6a094e9ea502e1313135522f": {
      "model_module": "@jupyter-widgets/base",
      "model_module_version": "1.1.0",
      "model_name": "LayoutModel",
      "state": {
       "width": "10%"
      }
     },
     "bfad9009009c406ca414127877294a60": {
      "model_module": "@jupyter-widgets/base",
      "model_module_version": "1.1.0",
      "model_name": "LayoutModel",
      "state": {
       "width": "95%"
      }
     },
     "bfbbc6e2c8684559aa368638a4c3f60d": {
      "model_module": "@jupyter-widgets/controls",
      "model_module_version": "1.4.0",
      "model_name": "VBoxModel",
      "state": {
       "children": [
        "IPY_MODEL_820d5eca8870435183dfdbd99389e706",
        "IPY_MODEL_bd358613d1dd4e28ac34618c906156ec"
       ],
       "layout": "IPY_MODEL_42dbefedaebc485ba038760a4398c5bf"
      }
     },
     "c00426aa091d402eb6be5488bab36be6": {
      "model_module": "@jupyter-widgets/base",
      "model_module_version": "1.1.0",
      "model_name": "LayoutModel",
      "state": {
       "width": "95%"
      }
     },
     "c008d97fe9cc497096d075a13c2c0b64": {
      "model_module": "@jupyter-widgets/base",
      "model_module_version": "1.1.0",
      "model_name": "LayoutModel",
      "state": {}
     },
     "c0245158173845bfb87e2ac458c72f45": {
      "model_module": "@jupyter-widgets/controls",
      "model_module_version": "1.4.0",
      "model_name": "ButtonStyleModel",
      "state": {}
     },
     "c0359d03b3ec4bf69ee997c254dedeb0": {
      "model_module": "@jupyter-widgets/output",
      "model_module_version": "1.0.0",
      "model_name": "OutputModel",
      "state": {
       "layout": "IPY_MODEL_b4fe033800d8471cb6357f138eceec46"
      }
     },
     "c0409c6fee204d7580f961c940a10f5f": {
      "model_module": "@jupyter-widgets/controls",
      "model_module_version": "1.4.0",
      "model_name": "ButtonModel",
      "state": {
       "description": "5",
       "layout": "IPY_MODEL_14644ac224324f7ab676306594d5de3f",
       "style": "IPY_MODEL_6dd1d246c8334ce3885d15c9aa854c19"
      }
     },
     "c053bd601b854bb5a145ebdcff62c7d8": {
      "model_module": "@jupyter-widgets/controls",
      "model_module_version": "1.4.0",
      "model_name": "ButtonModel",
      "state": {
       "description": "3",
       "layout": "IPY_MODEL_7382709cec3547969f9bbe128de40c26",
       "style": "IPY_MODEL_ab90f9a65ac3409f99b68362d1164689"
      }
     },
     "c08aa39a0506433cabf880b7a3c97c3a": {
      "model_module": "@jupyter-widgets/controls",
      "model_module_version": "1.4.0",
      "model_name": "ButtonModel",
      "state": {
       "description": "3",
       "layout": "IPY_MODEL_377d5eea231048baaf0c1fe6b9a9e66e",
       "style": "IPY_MODEL_068d1da5641f4837845f6d19d394f9cb"
      }
     },
     "c08b28ba6f63464ba11c9532c4cd3663": {
      "model_module": "@jupyter-widgets/controls",
      "model_module_version": "1.4.0",
      "model_name": "ButtonModel",
      "state": {
       "description": "8",
       "layout": "IPY_MODEL_63a88488036a4919818397049c084cea",
       "style": "IPY_MODEL_2937ef73974d42c5a12cb01f13749a23"
      }
     },
     "c08e00302a60451980df743fd140039d": {
      "model_module": "@jupyter-widgets/base",
      "model_module_version": "1.1.0",
      "model_name": "LayoutModel",
      "state": {
       "width": "95%"
      }
     },
     "c0968747f3d44b73b8cb66ea68a7217d": {
      "model_module": "@jupyter-widgets/controls",
      "model_module_version": "1.4.0",
      "model_name": "ButtonStyleModel",
      "state": {}
     },
     "c0d8cce7d2354b74a2a6b1a4b30845f1": {
      "model_module": "@jupyter-widgets/base",
      "model_module_version": "1.1.0",
      "model_name": "LayoutModel",
      "state": {}
     },
     "c0e1b062b22f44109f28884207c08f62": {
      "model_module": "@jupyter-widgets/base",
      "model_module_version": "1.1.0",
      "model_name": "LayoutModel",
      "state": {}
     },
     "c0ecdb734414489492564f3769f7e9fa": {
      "model_module": "@jupyter-widgets/base",
      "model_module_version": "1.1.0",
      "model_name": "LayoutModel",
      "state": {}
     },
     "c0f595a4ee4d4849a475d74d8f697f29": {
      "model_module": "@jupyter-widgets/base",
      "model_module_version": "1.1.0",
      "model_name": "LayoutModel",
      "state": {
       "width": "10%"
      }
     },
     "c12d27e7c30f4c18bf49dc8d81905825": {
      "model_module": "@jupyter-widgets/base",
      "model_module_version": "1.1.0",
      "model_name": "LayoutModel",
      "state": {}
     },
     "c12e1f4a94d441af90804e14fac2dba3": {
      "model_module": "@jupyter-widgets/base",
      "model_module_version": "1.1.0",
      "model_name": "LayoutModel",
      "state": {}
     },
     "c13b7368f3b947df88b1bf3a894a4334": {
      "model_module": "@jupyter-widgets/controls",
      "model_module_version": "1.4.0",
      "model_name": "ButtonStyleModel",
      "state": {}
     },
     "c13d750341e343298ffeca137bbe0d75": {
      "model_module": "@jupyter-widgets/base",
      "model_module_version": "1.1.0",
      "model_name": "LayoutModel",
      "state": {}
     },
     "c14784b98319492da6f78cc070f1fbfd": {
      "model_module": "@jupyter-widgets/base",
      "model_module_version": "1.1.0",
      "model_name": "LayoutModel",
      "state": {}
     },
     "c1486664ee46408488ad516f43b67a28": {
      "model_module": "@jupyter-widgets/base",
      "model_module_version": "1.1.0",
      "model_name": "LayoutModel",
      "state": {
       "width": "95%"
      }
     },
     "c15c960b6eb849908c48b852d8547469": {
      "model_module": "@jupyter-widgets/controls",
      "model_module_version": "1.4.0",
      "model_name": "VBoxModel",
      "state": {
       "children": [
        "IPY_MODEL_7c6a5ccca8574142a4b7982151fdb75b",
        "IPY_MODEL_df1ef931fe3f46dc9490819366f7120d"
       ],
       "layout": "IPY_MODEL_0fec563a784a4fd4b3099b09e3541711"
      }
     },
     "c15ed75396ee4ea0a26c93d33706973a": {
      "model_module": "@jupyter-widgets/base",
      "model_module_version": "1.1.0",
      "model_name": "LayoutModel",
      "state": {}
     },
     "c174e120f66a486fb384a4506c0c6568": {
      "model_module": "@jupyter-widgets/controls",
      "model_module_version": "1.4.0",
      "model_name": "ButtonModel",
      "state": {
       "description": "5",
       "layout": "IPY_MODEL_4f2eed9e64104aa08b6edaa9e710bb00",
       "style": "IPY_MODEL_d4447e0d04814dfe8e2176a4c6d616bb"
      }
     },
     "c1c8b6be17b5412c8699a1b588dcc214": {
      "model_module": "@jupyter-widgets/base",
      "model_module_version": "1.1.0",
      "model_name": "LayoutModel",
      "state": {
       "width": "10%"
      }
     },
     "c1f30bab6f664a5db1e1aa127fdc54a8": {
      "model_module": "@jupyter-widgets/controls",
      "model_module_version": "1.4.0",
      "model_name": "HBoxModel",
      "state": {
       "children": [
        "IPY_MODEL_a7b44988270847eabb0bf8f369e3567b",
        "IPY_MODEL_8ff52e9bec0d4c2bbfd8b2d96b28d24c",
        "IPY_MODEL_85b809c18a6c4a50963c04ccc34d9c28"
       ],
       "layout": "IPY_MODEL_eb36c94c84e5494b8b211fdfbe0c334c"
      }
     },
     "c2325e23e3ea41a49ecd3c1acdedd25b": {
      "model_module": "@jupyter-widgets/base",
      "model_module_version": "1.1.0",
      "model_name": "LayoutModel",
      "state": {
       "width": "95%"
      }
     },
     "c240e4f8a0d2450e8c42132245a33c9f": {
      "model_module": "@jupyter-widgets/controls",
      "model_module_version": "1.4.0",
      "model_name": "VBoxModel",
      "state": {
       "children": [
        "IPY_MODEL_06a7a82d283346b188979fa61449cf28",
        "IPY_MODEL_279feb6a30ab4ab69c80fe6301a3d733"
       ],
       "layout": "IPY_MODEL_cdec3c12cbdd49c792e1ffbd0484b7cf"
      }
     },
     "c25bdb7671c64a00a767aa674ac62eaa": {
      "model_module": "@jupyter-widgets/base",
      "model_module_version": "1.1.0",
      "model_name": "LayoutModel",
      "state": {}
     },
     "c266a9e2593045bcbf649a9be764e55e": {
      "model_module": "@jupyter-widgets/base",
      "model_module_version": "1.1.0",
      "model_name": "LayoutModel",
      "state": {
       "width": "10%"
      }
     },
     "c26e9daf1c8c45549b66a0a5040baac5": {
      "model_module": "@jupyter-widgets/base",
      "model_module_version": "1.1.0",
      "model_name": "LayoutModel",
      "state": {
       "width": "10%"
      }
     },
     "c273adbc3ae249a786492516ae1739c1": {
      "model_module": "@jupyter-widgets/base",
      "model_module_version": "1.1.0",
      "model_name": "LayoutModel",
      "state": {}
     },
     "c27cea1a1a454fe888e887905f161473": {
      "model_module": "@jupyter-widgets/controls",
      "model_module_version": "1.4.0",
      "model_name": "ButtonModel",
      "state": {
       "description": "9",
       "layout": "IPY_MODEL_40777cc7bb5e4703a914ea431ed53618",
       "style": "IPY_MODEL_419494347f804c24b3d0976873996c75"
      }
     },
     "c287b9e438d84add97a10d03ac34b59f": {
      "model_module": "@jupyter-widgets/controls",
      "model_module_version": "1.4.0",
      "model_name": "ButtonModel",
      "state": {
       "description": "7",
       "layout": "IPY_MODEL_4a27226bb7714d9e979da6df84452c18",
       "style": "IPY_MODEL_455370aafa2b47f6a93ed4f0c63ab6ed"
      }
     },
     "c2883ec16b4047f69a730432c3d1d94a": {
      "model_module": "@jupyter-widgets/controls",
      "model_module_version": "1.4.0",
      "model_name": "VBoxModel",
      "state": {
       "children": [
        "IPY_MODEL_8fb4e678291e45f88c2d01f7b02eaae2",
        "IPY_MODEL_168383a0977144c786f2fa5f6ef95e63"
       ],
       "layout": "IPY_MODEL_a4681f32611f4a86a146632bfe33f1c2"
      }
     },
     "c28d27568c854624822a52903c576ebd": {
      "model_module": "@jupyter-widgets/base",
      "model_module_version": "1.1.0",
      "model_name": "LayoutModel",
      "state": {}
     },
     "c2990796d91d4233bada0c6bb9dec0c8": {
      "model_module": "@jupyter-widgets/base",
      "model_module_version": "1.1.0",
      "model_name": "LayoutModel",
      "state": {}
     },
     "c29dc136642544f4ad0ce735ed0dc567": {
      "model_module": "@jupyter-widgets/base",
      "model_module_version": "1.1.0",
      "model_name": "LayoutModel",
      "state": {
       "width": "95%"
      }
     },
     "c2b0c5f9406146369ec9d3f21605a886": {
      "model_module": "@jupyter-widgets/base",
      "model_module_version": "1.1.0",
      "model_name": "LayoutModel",
      "state": {
       "width": "95%"
      }
     },
     "c2c03b5278c64c84988af0c547707568": {
      "model_module": "@jupyter-widgets/base",
      "model_module_version": "1.1.0",
      "model_name": "LayoutModel",
      "state": {
       "width": "95%"
      }
     },
     "c2e3061355234d0eb1266329f30b3035": {
      "model_module": "@jupyter-widgets/base",
      "model_module_version": "1.1.0",
      "model_name": "LayoutModel",
      "state": {}
     },
     "c2f349444d454b89b2fab8b620f6799d": {
      "model_module": "@jupyter-widgets/controls",
      "model_module_version": "1.4.0",
      "model_name": "HTMLModel",
      "state": {
       "layout": "IPY_MODEL_1b6f6dca50c849e8a6162985c58b5061",
       "style": "IPY_MODEL_8b8380aaab85443e8c2bc433f3da6a02",
       "value": "Score: 0.89"
      }
     },
     "c2fb673277e74a55a86623f32d0ef627": {
      "model_module": "@jupyter-widgets/controls",
      "model_module_version": "1.4.0",
      "model_name": "ButtonStyleModel",
      "state": {}
     },
     "c3047744645b4f7c955d572485d07bfb": {
      "model_module": "@jupyter-widgets/base",
      "model_module_version": "1.1.0",
      "model_name": "LayoutModel",
      "state": {
       "width": "10%"
      }
     },
     "c309495a24204f78a0d9578411766242": {
      "model_module": "@jupyter-widgets/controls",
      "model_module_version": "1.4.0",
      "model_name": "ButtonModel",
      "state": {
       "description": "3",
       "layout": "IPY_MODEL_fbb40d52880541cd920753ce87321032",
       "style": "IPY_MODEL_3d6a005087eb4ba0a48a5f706d1dd746"
      }
     },
     "c31b4ee96fdb4f9a8544b707290b97f4": {
      "model_module": "@jupyter-widgets/controls",
      "model_module_version": "1.4.0",
      "model_name": "VBoxModel",
      "state": {
       "children": [
        "IPY_MODEL_022615cd373c4c6a875414d2579312fb",
        "IPY_MODEL_11a173cdb6314f6e9ff2d477a61efea6"
       ],
       "layout": "IPY_MODEL_2bb46a2bfd0547ff81bd3077ef2432b3"
      }
     },
     "c32cebb0ce7c4e4db9e4588a1cb1c769": {
      "model_module": "@jupyter-widgets/controls",
      "model_module_version": "1.4.0",
      "model_name": "VBoxModel",
      "state": {
       "children": [
        "IPY_MODEL_882d6c28513141ffb7433dd5ae878055",
        "IPY_MODEL_37f3bb4b9f694d2d8f2910c5a8abb3e7"
       ],
       "layout": "IPY_MODEL_3085b70f00dc4f5a9bcf8a0de5234824"
      }
     },
     "c34146d85dbb4b95ba860507b7ae82e1": {
      "model_module": "@jupyter-widgets/base",
      "model_module_version": "1.1.0",
      "model_name": "LayoutModel",
      "state": {
       "width": "95%"
      }
     },
     "c365b023f15c49a6ba2105d3b0422575": {
      "model_module": "@jupyter-widgets/output",
      "model_module_version": "1.0.0",
      "model_name": "OutputModel",
      "state": {
       "layout": "IPY_MODEL_dab35c4b87a94584a6da84db7600ca88"
      }
     },
     "c36c353acb2c4376a837e4fe8b11e9ee": {
      "model_module": "@jupyter-widgets/base",
      "model_module_version": "1.1.0",
      "model_name": "LayoutModel",
      "state": {}
     },
     "c38b68ded5b74e36a106ae24b5f087d0": {
      "model_module": "@jupyter-widgets/output",
      "model_module_version": "1.0.0",
      "model_name": "OutputModel",
      "state": {
       "layout": "IPY_MODEL_56f1b84f61094d308b93f2d6e824f3cf"
      }
     },
     "c38b7a44fdd44191860fd8f2cd7166e1": {
      "model_module": "@jupyter-widgets/base",
      "model_module_version": "1.1.0",
      "model_name": "LayoutModel",
      "state": {}
     },
     "c38e03d3af7d4d9aa3e3654397c9d973": {
      "model_module": "@jupyter-widgets/controls",
      "model_module_version": "1.4.0",
      "model_name": "HBoxModel",
      "state": {
       "children": [
        "IPY_MODEL_637332793d044019bb950567c6498f2c",
        "IPY_MODEL_3e693f2f53f143bea532d2ae8744361d"
       ],
       "layout": "IPY_MODEL_127038d034d445ac8e0173f4a9c9f7c1"
      }
     },
     "c393fcc91b8e46e8a757b9b7babafcaf": {
      "model_module": "@jupyter-widgets/controls",
      "model_module_version": "1.4.0",
      "model_name": "VBoxModel",
      "state": {
       "children": [
        "IPY_MODEL_bbdc9b1d2797402da3884b3ccdeb6846",
        "IPY_MODEL_0126daac9d7e4e4da0a3c9b6dfa5e526"
       ],
       "layout": "IPY_MODEL_f109c77ee59943b6b50a44b6909e5081"
      }
     },
     "c3a82da5f2dc4a26af3384fd7bd93253": {
      "model_module": "@jupyter-widgets/base",
      "model_module_version": "1.1.0",
      "model_name": "LayoutModel",
      "state": {
       "width": "10%"
      }
     },
     "c3bd1ecd201044528f71d91bdaf5a6f8": {
      "model_module": "@jupyter-widgets/base",
      "model_module_version": "1.1.0",
      "model_name": "LayoutModel",
      "state": {}
     },
     "c3d2463212834d2f8c372d9088dd8b37": {
      "model_module": "@jupyter-widgets/output",
      "model_module_version": "1.0.0",
      "model_name": "OutputModel",
      "state": {
       "layout": "IPY_MODEL_f7362e1d2f184e51ad58b64d8cf2a8da"
      }
     },
     "c3d5e0a59b3548baae100d6e2d368cf6": {
      "model_module": "@jupyter-widgets/base",
      "model_module_version": "1.1.0",
      "model_name": "LayoutModel",
      "state": {
       "width": "10%"
      }
     },
     "c3e924f54d014a5c9d85a014001f1e4d": {
      "model_module": "@jupyter-widgets/controls",
      "model_module_version": "1.4.0",
      "model_name": "ButtonStyleModel",
      "state": {}
     },
     "c406e20f160440e6bd7df18268687d35": {
      "model_module": "@jupyter-widgets/controls",
      "model_module_version": "1.4.0",
      "model_name": "VBoxModel",
      "state": {
       "children": [
        "IPY_MODEL_ad6110aaf5da4fcdb1d4a0917f4594e9",
        "IPY_MODEL_d71f6f3910574972ad0eac0cf1592bbc"
       ],
       "layout": "IPY_MODEL_4866399830504b5da9b5d15b046df97e"
      }
     },
     "c40d7c1ab8f247318ecb230bce8b0add": {
      "model_module": "@jupyter-widgets/output",
      "model_module_version": "1.0.0",
      "model_name": "OutputModel",
      "state": {
       "layout": "IPY_MODEL_4b972f3067834cd1a606387ba87c8185"
      }
     },
     "c440161c3cd84e6a815e881149257d94": {
      "model_module": "@jupyter-widgets/controls",
      "model_module_version": "1.4.0",
      "model_name": "ButtonStyleModel",
      "state": {}
     },
     "c46e612865a7423c9eae71adfb702add": {
      "model_module": "@jupyter-widgets/controls",
      "model_module_version": "1.4.0",
      "model_name": "ButtonStyleModel",
      "state": {}
     },
     "c476a5e1878e4eafb1bf7c4ee89a6f3f": {
      "model_module": "@jupyter-widgets/output",
      "model_module_version": "1.0.0",
      "model_name": "OutputModel",
      "state": {
       "layout": "IPY_MODEL_83b85eaf19c545c390e15e1186c5b81f"
      }
     },
     "c48e765b93164a689c811b7e4d90311e": {
      "model_module": "@jupyter-widgets/base",
      "model_module_version": "1.1.0",
      "model_name": "LayoutModel",
      "state": {
       "width": "10%"
      }
     },
     "c4a58437fa824e89a14d6edbe2132f21": {
      "model_module": "@jupyter-widgets/controls",
      "model_module_version": "1.4.0",
      "model_name": "VBoxModel",
      "state": {
       "children": [
        "IPY_MODEL_a67361aef1ed48c3ae3fd420f1f02edb",
        "IPY_MODEL_2b1d9f1e6c6c403fa1e99b6674809a12"
       ],
       "layout": "IPY_MODEL_500806df3511423a8fc856c6bb130c4d"
      }
     },
     "c4f4071584b942bb84cfcaf880e1b3f4": {
      "model_module": "@jupyter-widgets/base",
      "model_module_version": "1.1.0",
      "model_name": "LayoutModel",
      "state": {}
     },
     "c5104ad3e7664c509d37a22dcefc55ee": {
      "model_module": "@jupyter-widgets/output",
      "model_module_version": "1.0.0",
      "model_name": "OutputModel",
      "state": {
       "layout": "IPY_MODEL_dfc213e426884ee4b8a314a6d5c2cf71"
      }
     },
     "c517c75f84c9421686673e6ce16c5319": {
      "model_module": "@jupyter-widgets/base",
      "model_module_version": "1.1.0",
      "model_name": "LayoutModel",
      "state": {
       "width": "10%"
      }
     },
     "c5469da7edfb421487d49306f5d3a3ea": {
      "model_module": "@jupyter-widgets/controls",
      "model_module_version": "1.4.0",
      "model_name": "HBoxModel",
      "state": {
       "children": [
        "IPY_MODEL_d634155a4d9c4ccfa35ac726c43bea17",
        "IPY_MODEL_bcd1fe67cc6a4bb8b98b6510c88dfb8d"
       ],
       "layout": "IPY_MODEL_42d0e46ca8ea4dd5bb596577a25e8da2"
      }
     },
     "c548dbc2f5b74ab8bb943a11a45acdc7": {
      "model_module": "@jupyter-widgets/base",
      "model_module_version": "1.1.0",
      "model_name": "LayoutModel",
      "state": {}
     },
     "c55896964c3e4f49ac3f85e9e263ff3b": {
      "model_module": "@jupyter-widgets/controls",
      "model_module_version": "1.4.0",
      "model_name": "ButtonStyleModel",
      "state": {}
     },
     "c5652141d4374b02a7085a5a180e51de": {
      "model_module": "@jupyter-widgets/controls",
      "model_module_version": "1.4.0",
      "model_name": "ButtonModel",
      "state": {
       "description": "8",
       "layout": "IPY_MODEL_5bca441a747e4a69ba7ae5856c4c1c45",
       "style": "IPY_MODEL_3abf96e0c04e49dfbbcf5f313ccb5984"
      }
     },
     "c5b21ce56cfe45c193936a4889e3ae27": {
      "model_module": "@jupyter-widgets/base",
      "model_module_version": "1.1.0",
      "model_name": "LayoutModel",
      "state": {
       "width": "95%"
      }
     },
     "c5be77edf25f42018a299aa0e46ed0ed": {
      "model_module": "@jupyter-widgets/output",
      "model_module_version": "1.0.0",
      "model_name": "OutputModel",
      "state": {
       "layout": "IPY_MODEL_a1fa5969eaec4119b164c99388e3672b"
      }
     },
     "c5d425a52b554dfa8b9569526391dff3": {
      "model_module": "@jupyter-widgets/controls",
      "model_module_version": "1.4.0",
      "model_name": "ButtonStyleModel",
      "state": {}
     },
     "c5ecbbf9daed4b35a9633baa0d71a9fe": {
      "model_module": "@jupyter-widgets/controls",
      "model_module_version": "1.4.0",
      "model_name": "ButtonStyleModel",
      "state": {}
     },
     "c5ef79db902c42d0aa341b1d722cb336": {
      "model_module": "@jupyter-widgets/base",
      "model_module_version": "1.1.0",
      "model_name": "LayoutModel",
      "state": {
       "width": "95%"
      }
     },
     "c5f2e1e436c54f43a2992dbcb8b02fed": {
      "model_module": "@jupyter-widgets/base",
      "model_module_version": "1.1.0",
      "model_name": "LayoutModel",
      "state": {
       "justify_content": "space-between"
      }
     },
     "c61411bf0e1a4f9ebc6659670401132c": {
      "model_module": "@jupyter-widgets/output",
      "model_module_version": "1.0.0",
      "model_name": "OutputModel",
      "state": {
       "layout": "IPY_MODEL_eedaf8ee26d74068ae1d80f161897f43"
      }
     },
     "c615a61eaea44c41b84a896bace11f96": {
      "model_module": "@jupyter-widgets/controls",
      "model_module_version": "1.4.0",
      "model_name": "VBoxModel",
      "state": {
       "children": [
        "IPY_MODEL_2614997202d94db99b1b2223b9f8356b",
        "IPY_MODEL_141af8897e6e4909ab904207fbf9c9dc"
       ],
       "layout": "IPY_MODEL_6618079473114383980475e2c7d6f6c5"
      }
     },
     "c61e173cced048a8b1acd66696bc4e5d": {
      "model_module": "@jupyter-widgets/base",
      "model_module_version": "1.1.0",
      "model_name": "LayoutModel",
      "state": {
       "width": "10%"
      }
     },
     "c639841521ea45648f7980c77f4f76f5": {
      "model_module": "@jupyter-widgets/controls",
      "model_module_version": "1.4.0",
      "model_name": "ButtonModel",
      "state": {
       "description": "7",
       "layout": "IPY_MODEL_045507d6db304bed85cb5b9f3c0f0e56",
       "style": "IPY_MODEL_e1296b6473c34c62b87662f7a6bf3b62"
      }
     },
     "c66feba097dc497c9381fd45389df746": {
      "model_module": "@jupyter-widgets/controls",
      "model_module_version": "1.4.0",
      "model_name": "ButtonModel",
      "state": {
       "description": "3",
       "layout": "IPY_MODEL_04685cf381d04b57a13440d1a2a42b06",
       "style": "IPY_MODEL_9fbb247aafd341fe9071af03c522b63b"
      }
     },
     "c67cc1b092634200bf8b1a722b146198": {
      "model_module": "@jupyter-widgets/output",
      "model_module_version": "1.0.0",
      "model_name": "OutputModel",
      "state": {
       "layout": "IPY_MODEL_1e24be9e27694e6e82249c80ee209bf0"
      }
     },
     "c680d82e01894df39237ddf5414473de": {
      "model_module": "@jupyter-widgets/base",
      "model_module_version": "1.1.0",
      "model_name": "LayoutModel",
      "state": {}
     },
     "c681586b0c7d47558a14ded38077303b": {
      "model_module": "@jupyter-widgets/output",
      "model_module_version": "1.0.0",
      "model_name": "OutputModel",
      "state": {
       "layout": "IPY_MODEL_74b3adb03e674559b4e8ba123777c97e"
      }
     },
     "c6876ca26fb54b4f8ee4f7c32718765a": {
      "model_module": "@jupyter-widgets/controls",
      "model_module_version": "1.4.0",
      "model_name": "ButtonStyleModel",
      "state": {}
     },
     "c6a651966b0f4ec49202902807bd9685": {
      "model_module": "@jupyter-widgets/controls",
      "model_module_version": "1.4.0",
      "model_name": "VBoxModel",
      "state": {
       "children": [
        "IPY_MODEL_063645bb78b34641b7e115f38d6f3b68",
        "IPY_MODEL_24083b14f0eb403ebf24c694f745e95e"
       ],
       "layout": "IPY_MODEL_d0760afa1f0a48e9a7eee85828f6a7bc"
      }
     },
     "c6c4121ddf494584a664f6c16f4b2ce9": {
      "model_module": "@jupyter-widgets/controls",
      "model_module_version": "1.4.0",
      "model_name": "ButtonStyleModel",
      "state": {}
     },
     "c6f2c5be53104469b56831d07d2c964a": {
      "model_module": "@jupyter-widgets/base",
      "model_module_version": "1.1.0",
      "model_name": "LayoutModel",
      "state": {
       "width": "95%"
      }
     },
     "c6ffda706fb3459bab8163799da1acba": {
      "model_module": "@jupyter-widgets/controls",
      "model_module_version": "1.4.0",
      "model_name": "HBoxModel",
      "state": {
       "children": [
        "IPY_MODEL_a7b44988270847eabb0bf8f369e3567b",
        "IPY_MODEL_8ff52e9bec0d4c2bbfd8b2d96b28d24c",
        "IPY_MODEL_85b809c18a6c4a50963c04ccc34d9c28"
       ],
       "layout": "IPY_MODEL_aab953499a1b4ec4990a49f5dab14090"
      }
     },
     "c71b968896a148e19982f14a7780e728": {
      "model_module": "@jupyter-widgets/base",
      "model_module_version": "1.1.0",
      "model_name": "LayoutModel",
      "state": {
       "width": "95%"
      }
     },
     "c72446e405e64642a9a0cb7f3738d379": {
      "model_module": "@jupyter-widgets/controls",
      "model_module_version": "1.4.0",
      "model_name": "ButtonModel",
      "state": {
       "description": "3",
       "layout": "IPY_MODEL_6ae9112e522445c6b45a727b512c167e",
       "style": "IPY_MODEL_2985da123375473d9d3b6740f76f666e"
      }
     },
     "c73f12491b85406389e0fb7a2776ecf2": {
      "model_module": "@jupyter-widgets/base",
      "model_module_version": "1.1.0",
      "model_name": "LayoutModel",
      "state": {}
     },
     "c741e8b7223c452cbc8c47393d74fcdd": {
      "model_module": "@jupyter-widgets/controls",
      "model_module_version": "1.4.0",
      "model_name": "ButtonModel",
      "state": {
       "description": "2",
       "layout": "IPY_MODEL_de7fad93af074395b93ef8c363e270a1",
       "style": "IPY_MODEL_5dd0e32f6cf44a7d97cacaffbe570805"
      }
     },
     "c74ab34646f644219a35eb0ee35a9dd5": {
      "model_module": "@jupyter-widgets/base",
      "model_module_version": "1.1.0",
      "model_name": "LayoutModel",
      "state": {}
     },
     "c75b05a0916a426790399c036e564a05": {
      "model_module": "@jupyter-widgets/base",
      "model_module_version": "1.1.0",
      "model_name": "LayoutModel",
      "state": {
       "width": "10%"
      }
     },
     "c75be9bdd0f4421ababfe0718d3fd30b": {
      "model_module": "@jupyter-widgets/controls",
      "model_module_version": "1.4.0",
      "model_name": "VBoxModel",
      "state": {
       "children": [
        "IPY_MODEL_22755ae1e019489996a42139aac71445",
        "IPY_MODEL_5ad955ba18e94706bee7655ec0015de4"
       ],
       "layout": "IPY_MODEL_24d4b17290f84c9aa4f440bff7086817"
      }
     },
     "c75f6fb1092247aab26f5f247f55e0ca": {
      "model_module": "@jupyter-widgets/base",
      "model_module_version": "1.1.0",
      "model_name": "LayoutModel",
      "state": {}
     },
     "c767c4d0d93343629087ec5886055799": {
      "model_module": "@jupyter-widgets/controls",
      "model_module_version": "1.4.0",
      "model_name": "ButtonModel",
      "state": {
       "description": "1",
       "layout": "IPY_MODEL_ad769d9c47ef4f45b545bfed4561c3c5",
       "style": "IPY_MODEL_ce998ee3062645c28100558be161a753"
      }
     },
     "c7753e28da384bdfa8416208ea599821": {
      "model_module": "@jupyter-widgets/controls",
      "model_module_version": "1.4.0",
      "model_name": "ButtonStyleModel",
      "state": {}
     },
     "c7967335a41b4aa9bc7d1dd8f9b0b6eb": {
      "model_module": "@jupyter-widgets/base",
      "model_module_version": "1.1.0",
      "model_name": "LayoutModel",
      "state": {
       "width": "95%"
      }
     },
     "c7b137cfb2514e9ba8d9a94b0069336a": {
      "model_module": "@jupyter-widgets/base",
      "model_module_version": "1.1.0",
      "model_name": "LayoutModel",
      "state": {
       "justify_content": "space-between"
      }
     },
     "c7c40df1205948e7bda408c9e8112727": {
      "model_module": "@jupyter-widgets/base",
      "model_module_version": "1.1.0",
      "model_name": "LayoutModel",
      "state": {
       "width": "10%"
      }
     },
     "c7c9f6ae099a49199a7371b95e4217b5": {
      "model_module": "@jupyter-widgets/base",
      "model_module_version": "1.1.0",
      "model_name": "LayoutModel",
      "state": {}
     },
     "c7cd57cb449047279e89f23df328897f": {
      "model_module": "@jupyter-widgets/controls",
      "model_module_version": "1.4.0",
      "model_name": "DescriptionStyleModel",
      "state": {
       "description_width": ""
      }
     },
     "c7d6273192ad4112a6c8b3431b441d5a": {
      "model_module": "@jupyter-widgets/base",
      "model_module_version": "1.1.0",
      "model_name": "LayoutModel",
      "state": {
       "width": "95%"
      }
     },
     "c7f0994b46224a00adc2bfa9493aa912": {
      "model_module": "@jupyter-widgets/controls",
      "model_module_version": "1.4.0",
      "model_name": "HBoxModel",
      "state": {
       "children": [
        "IPY_MODEL_54a95d36c411428aaa3af70cb478b4d9",
        "IPY_MODEL_2097b1eb63fb445bb3240e3a7f3e1dbb",
        "IPY_MODEL_e391beb6c7bd4ce38e78309b0184ce62",
        "IPY_MODEL_5c5c4ce34b7947528c10519021a74dee",
        "IPY_MODEL_94f0a5c49c50447ca8ac2d3b97f25e87",
        "IPY_MODEL_8eb36c4991874569b82031546209b38f",
        "IPY_MODEL_395720f455744f2c9962d1ed64aa9ec9",
        "IPY_MODEL_14e39c3e68c541deb7a8bcfa4e787026",
        "IPY_MODEL_84396527f44b4111b660af1414e070e9",
        "IPY_MODEL_47d4d55a44cc4c19b75a05056b4d29a9"
       ],
       "layout": "IPY_MODEL_0dca3cc745234e2d9696c319c24327cb"
      }
     },
     "c7f3c1eafa9c49778c81b5cb15aba545": {
      "model_module": "@jupyter-widgets/controls",
      "model_module_version": "1.4.0",
      "model_name": "ButtonStyleModel",
      "state": {}
     },
     "c7f4c8c864f548de9bc54ba7ebf7d37d": {
      "model_module": "@jupyter-widgets/controls",
      "model_module_version": "1.4.0",
      "model_name": "VBoxModel",
      "state": {
       "children": [
        "IPY_MODEL_556c18426af44436851e9195b243c4ce",
        "IPY_MODEL_5d7b404b7ec34bae9d028c0c1d572bb2"
       ],
       "layout": "IPY_MODEL_26941265eba84c3b88d086689e9c4cfc"
      }
     },
     "c7fa991f721745bc88749996b16f8ef1": {
      "model_module": "@jupyter-widgets/base",
      "model_module_version": "1.1.0",
      "model_name": "LayoutModel",
      "state": {
       "width": "95%"
      }
     },
     "c80837a21cb44388bb6e888cd7297e90": {
      "model_module": "@jupyter-widgets/base",
      "model_module_version": "1.1.0",
      "model_name": "LayoutModel",
      "state": {
       "width": "10%"
      }
     },
     "c80fcf815fa546cc83332a0119cdc00b": {
      "model_module": "@jupyter-widgets/base",
      "model_module_version": "1.1.0",
      "model_name": "LayoutModel",
      "state": {}
     },
     "c8142758b206429480cca8df4bce1b15": {
      "model_module": "@jupyter-widgets/base",
      "model_module_version": "1.1.0",
      "model_name": "LayoutModel",
      "state": {}
     },
     "c8226eaf3cab4b4c8e2fb4517e779080": {
      "model_module": "@jupyter-widgets/controls",
      "model_module_version": "1.4.0",
      "model_name": "VBoxModel",
      "state": {
       "children": [
        "IPY_MODEL_b1b302c584b746b89f6b6d727ab9df6b",
        "IPY_MODEL_b92ab5a5bb8c4ae69086f42e4a94e778"
       ],
       "layout": "IPY_MODEL_735a98dd373a43fca128584890f2cd9d"
      }
     },
     "c84e1996059b4e899dcab03a75da2dd3": {
      "model_module": "@jupyter-widgets/base",
      "model_module_version": "1.1.0",
      "model_name": "LayoutModel",
      "state": {}
     },
     "c88169d9dde04278af2d0fcf1b7528de": {
      "model_module": "@jupyter-widgets/controls",
      "model_module_version": "1.4.0",
      "model_name": "ButtonStyleModel",
      "state": {}
     },
     "c892485a9a114d87ba8ac4a7a261cf2d": {
      "model_module": "@jupyter-widgets/controls",
      "model_module_version": "1.4.0",
      "model_name": "VBoxModel",
      "state": {
       "children": [
        "IPY_MODEL_53f2440458f446cda66c054f0a9cb6f9",
        "IPY_MODEL_ec280ff7c61f42dfbf5099480b5d1e35"
       ],
       "layout": "IPY_MODEL_0823b707359847b9a0e3fbac67da75da"
      }
     },
     "c8ab6ea4bd764ec783251b3f310e59d8": {
      "model_module": "@jupyter-widgets/base",
      "model_module_version": "1.1.0",
      "model_name": "LayoutModel",
      "state": {
       "width": "95%"
      }
     },
     "c8acedb6eb904b2087499545d4f31a74": {
      "model_module": "@jupyter-widgets/base",
      "model_module_version": "1.1.0",
      "model_name": "LayoutModel",
      "state": {}
     },
     "c8c218cc2a044bb194bff236fc18e0ce": {
      "model_module": "@jupyter-widgets/controls",
      "model_module_version": "1.4.0",
      "model_name": "ButtonModel",
      "state": {
       "description": "4",
       "layout": "IPY_MODEL_58f58dc6adfa427b9ce42f216e10a261",
       "style": "IPY_MODEL_7751ef9bd41b4350a6c6b4a39ef30c89"
      }
     },
     "c8d4830f204d44d38f69db244a8644d7": {
      "model_module": "@jupyter-widgets/controls",
      "model_module_version": "1.4.0",
      "model_name": "ButtonStyleModel",
      "state": {}
     },
     "c8f7239d018844e9925814d099baff56": {
      "model_module": "@jupyter-widgets/base",
      "model_module_version": "1.1.0",
      "model_name": "LayoutModel",
      "state": {
       "width": "10%"
      }
     },
     "c8f88965743b4cfb9a577b26c8b4d1b1": {
      "model_module": "@jupyter-widgets/base",
      "model_module_version": "1.1.0",
      "model_name": "LayoutModel",
      "state": {
       "width": "10%"
      }
     },
     "c902ee1258e84db0848787e1fc7cd659": {
      "model_module": "@jupyter-widgets/controls",
      "model_module_version": "1.4.0",
      "model_name": "ButtonModel",
      "state": {
       "description": "4",
       "layout": "IPY_MODEL_c1486664ee46408488ad516f43b67a28",
       "style": "IPY_MODEL_38a51f59a7864896a7aa369a6d2159f9"
      }
     },
     "c924e85e6e8f4d5e8aa8f9346959f1d3": {
      "model_module": "@jupyter-widgets/controls",
      "model_module_version": "1.4.0",
      "model_name": "ButtonModel",
      "state": {
       "description": "3",
       "layout": "IPY_MODEL_5d393867cf3b400b91a2582b950a1f3f",
       "style": "IPY_MODEL_a8af8416338f4e3490955eda9b38e0fe"
      }
     },
     "c9479e0b15064ebf87bbe001a12a553a": {
      "model_module": "@jupyter-widgets/base",
      "model_module_version": "1.1.0",
      "model_name": "LayoutModel",
      "state": {
       "width": "10%"
      }
     },
     "c94bd20c892740efad47b453dc6d809c": {
      "model_module": "@jupyter-widgets/controls",
      "model_module_version": "1.4.0",
      "model_name": "VBoxModel",
      "state": {
       "children": [
        "IPY_MODEL_387c044e943a40ddaa3ca79da16a7225",
        "IPY_MODEL_e105e07272df445ebcc20c5fd81d92a3"
       ],
       "layout": "IPY_MODEL_d6408bb3901941ae9f1605ad2bcd93b2"
      }
     },
     "c979edad7b394c6186d2de0088edb626": {
      "model_module": "@jupyter-widgets/base",
      "model_module_version": "1.1.0",
      "model_name": "LayoutModel",
      "state": {}
     },
     "c980a4fed144475d822d6c5a7c751842": {
      "model_module": "@jupyter-widgets/base",
      "model_module_version": "1.1.0",
      "model_name": "LayoutModel",
      "state": {
       "width": "95%"
      }
     },
     "c98934aa533d4c9c9052070b631ca763": {
      "model_module": "@jupyter-widgets/controls",
      "model_module_version": "1.4.0",
      "model_name": "ButtonStyleModel",
      "state": {}
     },
     "c98da269baff4fbc873dda08152ec9a9": {
      "model_module": "@jupyter-widgets/controls",
      "model_module_version": "1.4.0",
      "model_name": "ButtonStyleModel",
      "state": {}
     },
     "c990fac5b2af49b6a3d1f02ec29cbfd4": {
      "model_module": "@jupyter-widgets/controls",
      "model_module_version": "1.4.0",
      "model_name": "VBoxModel",
      "state": {
       "children": [
        "IPY_MODEL_962f62105696428cbc8973dc37850a51",
        "IPY_MODEL_c38e03d3af7d4d9aa3e3654397c9d973"
       ],
       "layout": "IPY_MODEL_db8fa711340147c2a7b2d93cd2c39996"
      }
     },
     "c99cfd7dac814e61a025ac5adad5bbf2": {
      "model_module": "@jupyter-widgets/base",
      "model_module_version": "1.1.0",
      "model_name": "LayoutModel",
      "state": {}
     },
     "c99f421981a54b3b810bf9f0e3df9800": {
      "model_module": "@jupyter-widgets/output",
      "model_module_version": "1.0.0",
      "model_name": "OutputModel",
      "state": {
       "layout": "IPY_MODEL_7d00f1620caa4cb2b6d826943624acbe"
      }
     },
     "c9a37d0efa824a9bb882a8f2feba68d6": {
      "model_module": "@jupyter-widgets/controls",
      "model_module_version": "1.4.0",
      "model_name": "ButtonStyleModel",
      "state": {}
     },
     "c9afe8a934f84cf68cf80a30b1b20adb": {
      "model_module": "@jupyter-widgets/controls",
      "model_module_version": "1.4.0",
      "model_name": "ButtonModel",
      "state": {
       "description": "7",
       "layout": "IPY_MODEL_5bb75e797f2d418eabe157fbb58bbe62",
       "style": "IPY_MODEL_c5ecbbf9daed4b35a9633baa0d71a9fe"
      }
     },
     "c9d9ce6c11d34f3495fe046b573743da": {
      "model_module": "@jupyter-widgets/base",
      "model_module_version": "1.1.0",
      "model_name": "LayoutModel",
      "state": {
       "width": "10%"
      }
     },
     "c9f4a6a30b9844bdac252eb66d5a4bd8": {
      "model_module": "@jupyter-widgets/controls",
      "model_module_version": "1.4.0",
      "model_name": "HBoxModel",
      "state": {
       "children": [
        "IPY_MODEL_a7b44988270847eabb0bf8f369e3567b",
        "IPY_MODEL_8ff52e9bec0d4c2bbfd8b2d96b28d24c",
        "IPY_MODEL_85b809c18a6c4a50963c04ccc34d9c28"
       ],
       "layout": "IPY_MODEL_66e4ec0c16ed4263a464de9c86d16af4"
      }
     },
     "ca041cf8fe5d4215a9492692fcf1f4b9": {
      "model_module": "@jupyter-widgets/base",
      "model_module_version": "1.1.0",
      "model_name": "LayoutModel",
      "state": {}
     },
     "ca1b7bc1c98f44c3a15d2bc3e36eef74": {
      "model_module": "@jupyter-widgets/controls",
      "model_module_version": "1.4.0",
      "model_name": "ButtonStyleModel",
      "state": {}
     },
     "ca561e0ffc9f4340904eabddba1efb3d": {
      "model_module": "@jupyter-widgets/base",
      "model_module_version": "1.1.0",
      "model_name": "LayoutModel",
      "state": {
       "width": "95%"
      }
     },
     "ca579c4852b04fcf905e48acab5ac7d6": {
      "model_module": "@jupyter-widgets/controls",
      "model_module_version": "1.4.0",
      "model_name": "ButtonModel",
      "state": {
       "description": "9",
       "layout": "IPY_MODEL_41a8cec19632413b9f5bafccec1a8606",
       "style": "IPY_MODEL_d8a2f6b1c6404e68a0edb4ef7187a82f"
      }
     },
     "ca618bdf792446d7afacf8f1d8e871fd": {
      "model_module": "@jupyter-widgets/controls",
      "model_module_version": "1.4.0",
      "model_name": "ButtonModel",
      "state": {
       "description": "0",
       "layout": "IPY_MODEL_fdd2bf4807f945ae9b3146309d0eb736",
       "style": "IPY_MODEL_8a9a64a169fa4ec0a2b14d5f881768ef"
      }
     },
     "ca6b0c7e25c94d1db869cae864861796": {
      "model_module": "@jupyter-widgets/controls",
      "model_module_version": "1.4.0",
      "model_name": "ButtonStyleModel",
      "state": {}
     },
     "ca6f6662c5384a2daef7e4022644082c": {
      "model_module": "@jupyter-widgets/output",
      "model_module_version": "1.0.0",
      "model_name": "OutputModel",
      "state": {
       "layout": "IPY_MODEL_24021d84916b4125bcc73cb15d916252"
      }
     },
     "ca857b19c9144f63ade16dccdc2844b2": {
      "model_module": "@jupyter-widgets/controls",
      "model_module_version": "1.4.0",
      "model_name": "VBoxModel",
      "state": {
       "children": [
        "IPY_MODEL_c741e8b7223c452cbc8c47393d74fcdd",
        "IPY_MODEL_891720011a4446e88692ac710dc07638"
       ],
       "layout": "IPY_MODEL_03e037a41e744bbc8daf1b1b79955046"
      }
     },
     "ca98f79a21df4ad1b3686d94859fa8d7": {
      "model_module": "@jupyter-widgets/base",
      "model_module_version": "1.1.0",
      "model_name": "LayoutModel",
      "state": {
       "width": "10%"
      }
     },
     "ca9a7c0adf03479c9609b36ac20f9fea": {
      "model_module": "@jupyter-widgets/controls",
      "model_module_version": "1.4.0",
      "model_name": "ButtonStyleModel",
      "state": {}
     },
     "caa5e6fc10544b8ea73fef4354b2993c": {
      "model_module": "@jupyter-widgets/controls",
      "model_module_version": "1.4.0",
      "model_name": "ButtonStyleModel",
      "state": {}
     },
     "cab3bd180806415b8eddf015946bdeaf": {
      "model_module": "@jupyter-widgets/controls",
      "model_module_version": "1.4.0",
      "model_name": "ButtonModel",
      "state": {
       "description": "7",
       "layout": "IPY_MODEL_c2325e23e3ea41a49ecd3c1acdedd25b",
       "style": "IPY_MODEL_656f8d9fef37445f88d59295326f8042"
      }
     },
     "cab8e13d26754d81aeedd67fd414adc7": {
      "model_module": "@jupyter-widgets/controls",
      "model_module_version": "1.4.0",
      "model_name": "ButtonModel",
      "state": {
       "description": "0",
       "layout": "IPY_MODEL_85da0d349eb640638fdf0570addc31a7",
       "style": "IPY_MODEL_ffb8bde18c8d4032850e52ea836962a7"
      }
     },
     "cad9828d4c2c4d68852dcecda3802f95": {
      "model_module": "@jupyter-widgets/base",
      "model_module_version": "1.1.0",
      "model_name": "LayoutModel",
      "state": {}
     },
     "cadceea742124330a08aefcd11aaf8bd": {
      "model_module": "@jupyter-widgets/base",
      "model_module_version": "1.1.0",
      "model_name": "LayoutModel",
      "state": {
       "width": "10%"
      }
     },
     "caf213fd623047aca577f99afd410ffc": {
      "model_module": "@jupyter-widgets/controls",
      "model_module_version": "1.4.0",
      "model_name": "ButtonModel",
      "state": {
       "description": "1",
       "layout": "IPY_MODEL_bc50dc50d2104fe6bffb723a0c92fcf2",
       "style": "IPY_MODEL_c0245158173845bfb87e2ac458c72f45"
      }
     },
     "cb09ed5e2b644e7796957a776e6944ca": {
      "model_module": "@jupyter-widgets/base",
      "model_module_version": "1.1.0",
      "model_name": "LayoutModel",
      "state": {
       "width": "10%"
      }
     },
     "cb115d8337fd4c35bd5a54ac30cbe0f6": {
      "model_module": "@jupyter-widgets/controls",
      "model_module_version": "1.4.0",
      "model_name": "HBoxModel",
      "state": {
       "children": [
        "IPY_MODEL_a7b44988270847eabb0bf8f369e3567b",
        "IPY_MODEL_8ff52e9bec0d4c2bbfd8b2d96b28d24c",
        "IPY_MODEL_85b809c18a6c4a50963c04ccc34d9c28"
       ],
       "layout": "IPY_MODEL_240a8b88bc7a4622aea432ad47edc6c3"
      }
     },
     "cb12b0dc3e1f41eda62d600e54168df0": {
      "model_module": "@jupyter-widgets/base",
      "model_module_version": "1.1.0",
      "model_name": "LayoutModel",
      "state": {}
     },
     "cb13b4120c444161bdb2cd8c3cf60a5d": {
      "model_module": "@jupyter-widgets/controls",
      "model_module_version": "1.4.0",
      "model_name": "VBoxModel",
      "state": {
       "children": [
        "IPY_MODEL_d55135b68d994f03a7e80303b576d995",
        "IPY_MODEL_508c8563d501485b8c4a8491ca57cfd4"
       ],
       "layout": "IPY_MODEL_00c9924362b045f692559e3b7e6e36c4"
      }
     },
     "cb588f8ed1544f8d930ee53f09020be8": {
      "model_module": "@jupyter-widgets/controls",
      "model_module_version": "1.4.0",
      "model_name": "HBoxModel",
      "state": {
       "children": [
        "IPY_MODEL_8719cecbaa4341b3a91c72a54c0a6c8d",
        "IPY_MODEL_5ca36ab44422442bb75e1a1201448ff7",
        "IPY_MODEL_44473af877b74446a681c389b31ecec6",
        "IPY_MODEL_40c81619fec145d99319abaddaf10bd5",
        "IPY_MODEL_faebf70fe50040feb044825d9583151c",
        "IPY_MODEL_e637fa37aaec41b48c3b66384f29685c",
        "IPY_MODEL_5978762ae87245ab9c385bf7b6fd5869",
        "IPY_MODEL_8cdb6e067b37447e9142d9d1619375d5",
        "IPY_MODEL_0c96e6da9d6f4a90b53cfcaede197930",
        "IPY_MODEL_ea8c6b22e7a44b63935e88bc3fd6d4b8"
       ],
       "layout": "IPY_MODEL_38e67cc8a8a44f55be4ede619b1042d4"
      }
     },
     "cb80c7328f594df4927d7496568bdc56": {
      "model_module": "@jupyter-widgets/controls",
      "model_module_version": "1.4.0",
      "model_name": "HBoxModel",
      "state": {
       "children": [
        "IPY_MODEL_52cb0c0cdb3f4eadbecf99a19c2c6bb4",
        "IPY_MODEL_a3f92067713c4511b672a4bb90f9a493"
       ],
       "layout": "IPY_MODEL_f1a31fe24da142b695e7d0ea730d6a06"
      }
     },
     "cba1f3a12c0945c590168532e4819569": {
      "model_module": "@jupyter-widgets/controls",
      "model_module_version": "1.4.0",
      "model_name": "ButtonStyleModel",
      "state": {}
     },
     "cbb1cfcff17949f6bab68e9d7895c177": {
      "model_module": "@jupyter-widgets/base",
      "model_module_version": "1.1.0",
      "model_name": "LayoutModel",
      "state": {
       "width": "10%"
      }
     },
     "cbd69a6e029143138a6145d27e29bfc7": {
      "model_module": "@jupyter-widgets/base",
      "model_module_version": "1.1.0",
      "model_name": "LayoutModel",
      "state": {
       "width": "95%"
      }
     },
     "cc080cc048c14baca9c94220870ee493": {
      "model_module": "@jupyter-widgets/controls",
      "model_module_version": "1.4.0",
      "model_name": "ButtonModel",
      "state": {
       "description": "7",
       "layout": "IPY_MODEL_e42b7b180be74f13a1b566cb181b9731",
       "style": "IPY_MODEL_3912b5abe5004ac28b9681f4bf50b222"
      }
     },
     "cc2cb1707dea429a9457d2b8e9919399": {
      "model_module": "@jupyter-widgets/controls",
      "model_module_version": "1.4.0",
      "model_name": "ButtonModel",
      "state": {
       "description": "3",
       "layout": "IPY_MODEL_b3dbd57dccf142ba8edcb13a61ac4b42",
       "style": "IPY_MODEL_924eddfd953d44ba81f7634920a96e22"
      }
     },
     "cc2d13eb51c745169e86b69250329c86": {
      "model_module": "@jupyter-widgets/controls",
      "model_module_version": "1.4.0",
      "model_name": "ButtonModel",
      "state": {
       "description": "1",
       "layout": "IPY_MODEL_117bd473eab94ded9a1605b384e673cb",
       "style": "IPY_MODEL_c7f3c1eafa9c49778c81b5cb15aba545"
      }
     },
     "cc476bfd58f445b99a43640642a8e521": {
      "model_module": "@jupyter-widgets/output",
      "model_module_version": "1.0.0",
      "model_name": "OutputModel",
      "state": {
       "layout": "IPY_MODEL_706979a63dd74234902b5fbdb339df52"
      }
     },
     "cc49fc62d4414050908826ec0c8c6d27": {
      "model_module": "@jupyter-widgets/base",
      "model_module_version": "1.1.0",
      "model_name": "LayoutModel",
      "state": {
       "width": "95%"
      }
     },
     "cc6cf527793145a0a30db2b397d186cf": {
      "model_module": "@jupyter-widgets/base",
      "model_module_version": "1.1.0",
      "model_name": "LayoutModel",
      "state": {}
     },
     "cc7f121f35fd49dca0b3701daaad1ad0": {
      "model_module": "@jupyter-widgets/base",
      "model_module_version": "1.1.0",
      "model_name": "LayoutModel",
      "state": {
       "width": "10%"
      }
     },
     "ccac9cb7a5b249baa1aeb01c46d194ff": {
      "model_module": "@jupyter-widgets/controls",
      "model_module_version": "1.4.0",
      "model_name": "ButtonStyleModel",
      "state": {}
     },
     "cccc26a205fc46b5b4b1d57cf256d11a": {
      "model_module": "@jupyter-widgets/controls",
      "model_module_version": "1.4.0",
      "model_name": "HBoxModel",
      "state": {
       "children": [
        "IPY_MODEL_a7b44988270847eabb0bf8f369e3567b",
        "IPY_MODEL_8ff52e9bec0d4c2bbfd8b2d96b28d24c",
        "IPY_MODEL_85b809c18a6c4a50963c04ccc34d9c28"
       ],
       "layout": "IPY_MODEL_3a5000bb6fe44f32906abda6b679c5a9"
      }
     },
     "ccd40d11babe4c6788236e802fde31ed": {
      "model_module": "@jupyter-widgets/base",
      "model_module_version": "1.1.0",
      "model_name": "LayoutModel",
      "state": {}
     },
     "cced38cf6d254cfeafb0d36ded4a2de2": {
      "model_module": "@jupyter-widgets/controls",
      "model_module_version": "1.4.0",
      "model_name": "ButtonStyleModel",
      "state": {}
     },
     "ccfce29546f84d9d8a3b10f0f1c6f492": {
      "model_module": "@jupyter-widgets/base",
      "model_module_version": "1.1.0",
      "model_name": "LayoutModel",
      "state": {
       "width": "95%"
      }
     },
     "cd153f90dbe047a495dd35e481fcc579": {
      "model_module": "@jupyter-widgets/controls",
      "model_module_version": "1.4.0",
      "model_name": "ButtonModel",
      "state": {
       "description": "3",
       "layout": "IPY_MODEL_3f1a22a45f5346b3a27d5fadfe236168",
       "style": "IPY_MODEL_77368e5ce53d441c97779f32fb502d92"
      }
     },
     "cd2772b574494039befa9f309d85f067": {
      "model_module": "@jupyter-widgets/base",
      "model_module_version": "1.1.0",
      "model_name": "LayoutModel",
      "state": {
       "width": "10%"
      }
     },
     "cd2bc3104d5142ee99d8d4847f34169a": {
      "model_module": "@jupyter-widgets/output",
      "model_module_version": "1.0.0",
      "model_name": "OutputModel",
      "state": {
       "layout": "IPY_MODEL_3288eebef05a45039a6041c0d8dceb72"
      }
     },
     "cd560e9a9dee497aba4d764b6b8586f8": {
      "model_module": "@jupyter-widgets/base",
      "model_module_version": "1.1.0",
      "model_name": "LayoutModel",
      "state": {
       "width": "95%"
      }
     },
     "cd7d56760782495cac6c7765a63eb89c": {
      "model_module": "@jupyter-widgets/base",
      "model_module_version": "1.1.0",
      "model_name": "LayoutModel",
      "state": {}
     },
     "cd810b0e73e44bcfaaa885e4e8b9dc45": {
      "model_module": "@jupyter-widgets/controls",
      "model_module_version": "1.4.0",
      "model_name": "ButtonModel",
      "state": {
       "description": "6",
       "layout": "IPY_MODEL_9c86608cbe4a4e44aa9aeb8d538d8d63",
       "style": "IPY_MODEL_d4e785e3639b4757afb686673d34b64f"
      }
     },
     "cd93bf28657646ca94505e231d3bdeeb": {
      "model_module": "@jupyter-widgets/base",
      "model_module_version": "1.1.0",
      "model_name": "LayoutModel",
      "state": {
       "justify_content": "space-between"
      }
     },
     "cd9f297f6b204af6a55a4fbc76029bed": {
      "model_module": "@jupyter-widgets/controls",
      "model_module_version": "1.4.0",
      "model_name": "ButtonStyleModel",
      "state": {}
     },
     "cdeb4ff4b448449b9e347edfcc991f87": {
      "model_module": "@jupyter-widgets/controls",
      "model_module_version": "1.4.0",
      "model_name": "VBoxModel",
      "state": {
       "children": [
        "IPY_MODEL_3c89e4d5e5ff4778bdbdbb2503b404d3",
        "IPY_MODEL_e1978cc92bed4c83a54957bf85060af8"
       ],
       "layout": "IPY_MODEL_d69a041c325f4022a86f155efad0f2e8"
      }
     },
     "cdec3c12cbdd49c792e1ffbd0484b7cf": {
      "model_module": "@jupyter-widgets/base",
      "model_module_version": "1.1.0",
      "model_name": "LayoutModel",
      "state": {
       "width": "10%"
      }
     },
     "cdecdb101ef34c288e6dd060f141545a": {
      "model_module": "@jupyter-widgets/controls",
      "model_module_version": "1.4.0",
      "model_name": "TextModel",
      "state": {
       "description": "Other:",
       "layout": "IPY_MODEL_35dde19ec0754fab934d8b587ba220b5",
       "placeholder": "Hit enter to submit.",
       "style": "IPY_MODEL_7ed236a2ce0245d9825c04565d56866a"
      }
     },
     "cdf1c44cf2414676af875ae2f0ad3a2b": {
      "model_module": "@jupyter-widgets/controls",
      "model_module_version": "1.4.0",
      "model_name": "ButtonModel",
      "state": {
       "description": "6",
       "layout": "IPY_MODEL_d259a201531242a590a91509044cae3f",
       "style": "IPY_MODEL_a88c6980e5654a3c855c8e36a786e746"
      }
     },
     "cdf9e72344544e63a529690665a26398": {
      "model_module": "@jupyter-widgets/controls",
      "model_module_version": "1.4.0",
      "model_name": "ButtonModel",
      "state": {
       "description": "9",
       "layout": "IPY_MODEL_c5ef79db902c42d0aa341b1d722cb336",
       "style": "IPY_MODEL_2a5040d106d7441988ba5ce001def945"
      }
     },
     "ce12c75dd4c8435da96cb7276d83bde2": {
      "model_module": "@jupyter-widgets/base",
      "model_module_version": "1.1.0",
      "model_name": "LayoutModel",
      "state": {
       "width": "95%"
      }
     },
     "ce3056a26de946cda9582a7c75c8ad72": {
      "model_module": "@jupyter-widgets/output",
      "model_module_version": "1.0.0",
      "model_name": "OutputModel",
      "state": {
       "layout": "IPY_MODEL_f80d06fac2544ab6918473d5c2a54d6e"
      }
     },
     "ce41846ef2f74cdd8b38e5ca733388dd": {
      "model_module": "@jupyter-widgets/controls",
      "model_module_version": "1.4.0",
      "model_name": "ButtonModel",
      "state": {
       "description": "1",
       "layout": "IPY_MODEL_16c3c13a133e4264a2d76558f977574d",
       "style": "IPY_MODEL_2624650d94824dfd99f3e6cea65e6e76"
      }
     },
     "ce52bef9b31a4066b8a5659071edae6d": {
      "model_module": "@jupyter-widgets/output",
      "model_module_version": "1.0.0",
      "model_name": "OutputModel",
      "state": {
       "layout": "IPY_MODEL_00341952a44a48d8acee4a08cc5c869b"
      }
     },
     "ce601c896a7745ed996146933c2964fa": {
      "model_module": "@jupyter-widgets/output",
      "model_module_version": "1.0.0",
      "model_name": "OutputModel",
      "state": {
       "layout": "IPY_MODEL_55fcfc19d55f4659bf857ba6bbbc4df6"
      }
     },
     "ce81e91d2147426a820c4c9fd6e6c58c": {
      "model_module": "@jupyter-widgets/base",
      "model_module_version": "1.1.0",
      "model_name": "LayoutModel",
      "state": {}
     },
     "ce8ced44d9624ee6be929d5581c206b9": {
      "model_module": "@jupyter-widgets/output",
      "model_module_version": "1.0.0",
      "model_name": "OutputModel",
      "state": {
       "layout": "IPY_MODEL_23bef1f937474f528fcc4ac166867f87"
      }
     },
     "ce998ee3062645c28100558be161a753": {
      "model_module": "@jupyter-widgets/controls",
      "model_module_version": "1.4.0",
      "model_name": "ButtonStyleModel",
      "state": {}
     },
     "cead52682ae54e2f962f41b01275c1e3": {
      "model_module": "@jupyter-widgets/output",
      "model_module_version": "1.0.0",
      "model_name": "OutputModel",
      "state": {
       "layout": "IPY_MODEL_7d062520009a4bd38e804610b40f19ee"
      }
     },
     "cefd98d590e547e5805ce37a89d5d175": {
      "model_module": "@jupyter-widgets/controls",
      "model_module_version": "1.4.0",
      "model_name": "VBoxModel",
      "state": {
       "children": [
        "IPY_MODEL_97d3f0de55ce409eb543a3eb1022345a",
        "IPY_MODEL_5e136d52c56249afaa2c3d3a53322e41"
       ],
       "layout": "IPY_MODEL_86bd69dfa0f6447fac341ecfe3b89d27"
      }
     },
     "ceff6927936e426a9c1adabbc94944a3": {
      "model_module": "@jupyter-widgets/base",
      "model_module_version": "1.1.0",
      "model_name": "LayoutModel",
      "state": {
       "width": "95%"
      }
     },
     "cf07451a101e48249e218e8ca7faae6b": {
      "model_module": "@jupyter-widgets/controls",
      "model_module_version": "1.4.0",
      "model_name": "ButtonModel",
      "state": {
       "description": "4",
       "layout": "IPY_MODEL_27a7c723d7104f4eabe4ef1a632ae6d7",
       "style": "IPY_MODEL_eff58a1c187a4f05a24813e25a733e39"
      }
     },
     "cf1ee859215843e8b65e3621beeb1211": {
      "model_module": "@jupyter-widgets/base",
      "model_module_version": "1.1.0",
      "model_name": "LayoutModel",
      "state": {
       "width": "95%"
      }
     },
     "cf3ab358e00f40bab21b6966b5dd8ef4": {
      "model_module": "@jupyter-widgets/base",
      "model_module_version": "1.1.0",
      "model_name": "LayoutModel",
      "state": {
       "justify_content": "space-between"
      }
     },
     "cf42695d3fb74ee3ba068b17a38489cf": {
      "model_module": "@jupyter-widgets/output",
      "model_module_version": "1.0.0",
      "model_name": "OutputModel",
      "state": {
       "layout": "IPY_MODEL_b7c67f1b517b4bea831b5db521a57802"
      }
     },
     "cf502a08d45b4b22b8eb1fe8db8b595b": {
      "model_module": "@jupyter-widgets/base",
      "model_module_version": "1.1.0",
      "model_name": "LayoutModel",
      "state": {
       "width": "95%"
      }
     },
     "cf6eeccfbee84f8e8e0a953393011ac3": {
      "model_module": "@jupyter-widgets/base",
      "model_module_version": "1.1.0",
      "model_name": "LayoutModel",
      "state": {
       "justify_content": "space-between"
      }
     },
     "cf72aa3b7f4b40ffad8511922b40469b": {
      "model_module": "@jupyter-widgets/controls",
      "model_module_version": "1.4.0",
      "model_name": "ButtonStyleModel",
      "state": {}
     },
     "cf7335c9612a4c63a8daa51b47bb66d9": {
      "model_module": "@jupyter-widgets/base",
      "model_module_version": "1.1.0",
      "model_name": "LayoutModel",
      "state": {}
     },
     "cf9ea694c0064eedbdfb9b781f0bca23": {
      "model_module": "@jupyter-widgets/base",
      "model_module_version": "1.1.0",
      "model_name": "LayoutModel",
      "state": {
       "width": "95%"
      }
     },
     "cfd4041f4808409286f87d76428833ba": {
      "model_module": "@jupyter-widgets/base",
      "model_module_version": "1.1.0",
      "model_name": "LayoutModel",
      "state": {
       "width": "95%"
      }
     },
     "cfe2bcd00c5f4548a40f6ae4d8b554ba": {
      "model_module": "@jupyter-widgets/base",
      "model_module_version": "1.1.0",
      "model_name": "LayoutModel",
      "state": {
       "width": "95%"
      }
     },
     "cffcfadab0974928bf848cfbb80466b4": {
      "model_module": "@jupyter-widgets/controls",
      "model_module_version": "1.4.0",
      "model_name": "HBoxModel",
      "state": {
       "children": [
        "IPY_MODEL_a7b44988270847eabb0bf8f369e3567b",
        "IPY_MODEL_8ff52e9bec0d4c2bbfd8b2d96b28d24c",
        "IPY_MODEL_85b809c18a6c4a50963c04ccc34d9c28"
       ],
       "layout": "IPY_MODEL_be7f6d70c77e422dafed99a113f20c51"
      }
     },
     "d001852e84fa4e8480002742834ad281": {
      "model_module": "@jupyter-widgets/base",
      "model_module_version": "1.1.0",
      "model_name": "LayoutModel",
      "state": {
       "width": "95%"
      }
     },
     "d002150beb2c4024a6c819901ad945f5": {
      "model_module": "@jupyter-widgets/output",
      "model_module_version": "1.0.0",
      "model_name": "OutputModel",
      "state": {
       "layout": "IPY_MODEL_c2990796d91d4233bada0c6bb9dec0c8"
      }
     },
     "d0061b2eac4a4f559dda4685ca20a6a6": {
      "model_module": "@jupyter-widgets/base",
      "model_module_version": "1.1.0",
      "model_name": "LayoutModel",
      "state": {
       "width": "10%"
      }
     },
     "d008321da0504ce6b9b4d2dfcbacde82": {
      "model_module": "@jupyter-widgets/base",
      "model_module_version": "1.1.0",
      "model_name": "LayoutModel",
      "state": {}
     },
     "d029d32bfa554c7f8042b2f6767a9815": {
      "model_module": "@jupyter-widgets/base",
      "model_module_version": "1.1.0",
      "model_name": "LayoutModel",
      "state": {}
     },
     "d0497bdaf4404c638cd4d1bdc2c38482": {
      "model_module": "@jupyter-widgets/controls",
      "model_module_version": "1.4.0",
      "model_name": "ButtonStyleModel",
      "state": {}
     },
     "d04ba2a6b44741edba8e58640764cd2b": {
      "model_module": "@jupyter-widgets/controls",
      "model_module_version": "1.4.0",
      "model_name": "ButtonModel",
      "state": {
       "description": "8",
       "layout": "IPY_MODEL_77ab0cad04254eb08a533243bf1d5d9b",
       "style": "IPY_MODEL_916bd757feb3430a9a102279b1928789"
      }
     },
     "d04ece7b2de54f98b7f6d0b76866980f": {
      "model_module": "@jupyter-widgets/controls",
      "model_module_version": "1.4.0",
      "model_name": "VBoxModel",
      "state": {
       "children": [
        "IPY_MODEL_2faab51acba846d8bbf1cbc9bdadec21",
        "IPY_MODEL_e5e687da059b4efd9d048097678884e1"
       ],
       "layout": "IPY_MODEL_a760e8d9a3344f678f60417f7c6f2f5a"
      }
     },
     "d05c4776c734412a9e2b59d83b13ac92": {
      "model_module": "@jupyter-widgets/base",
      "model_module_version": "1.1.0",
      "model_name": "LayoutModel",
      "state": {
       "width": "95%"
      }
     },
     "d0760afa1f0a48e9a7eee85828f6a7bc": {
      "model_module": "@jupyter-widgets/base",
      "model_module_version": "1.1.0",
      "model_name": "LayoutModel",
      "state": {
       "width": "10%"
      }
     },
     "d079bff232bf44618a1e9c25e327d149": {
      "model_module": "@jupyter-widgets/output",
      "model_module_version": "1.0.0",
      "model_name": "OutputModel",
      "state": {
       "layout": "IPY_MODEL_1eb941e9453a4418a6fd4c21454fe039"
      }
     },
     "d0a1f19f0a314df6b2dc58384403d73e": {
      "model_module": "@jupyter-widgets/base",
      "model_module_version": "1.1.0",
      "model_name": "LayoutModel",
      "state": {
       "width": "95%"
      }
     },
     "d0a255fe96a240e7a303c2e4c56ccb3a": {
      "model_module": "@jupyter-widgets/base",
      "model_module_version": "1.1.0",
      "model_name": "LayoutModel",
      "state": {
       "width": "10%"
      }
     },
     "d0af4458958f49efa2ba8df2c5c57232": {
      "model_module": "@jupyter-widgets/controls",
      "model_module_version": "1.4.0",
      "model_name": "ButtonStyleModel",
      "state": {}
     },
     "d0c9d91c3ceb4c0e8c922abaed855216": {
      "model_module": "@jupyter-widgets/controls",
      "model_module_version": "1.4.0",
      "model_name": "ButtonStyleModel",
      "state": {}
     },
     "d0d1229c2589446dad63332d3bf2b7bb": {
      "model_module": "@jupyter-widgets/base",
      "model_module_version": "1.1.0",
      "model_name": "LayoutModel",
      "state": {}
     },
     "d0d17e72cc744bd38b6e277e359b44e6": {
      "model_module": "@jupyter-widgets/controls",
      "model_module_version": "1.4.0",
      "model_name": "ButtonStyleModel",
      "state": {}
     },
     "d0fcb02cbf04419eb04034122f335562": {
      "model_module": "@jupyter-widgets/base",
      "model_module_version": "1.1.0",
      "model_name": "LayoutModel",
      "state": {}
     },
     "d11a90c6bf1d421db89e7c8ea79caaa5": {
      "model_module": "@jupyter-widgets/controls",
      "model_module_version": "1.4.0",
      "model_name": "ButtonStyleModel",
      "state": {}
     },
     "d134d035de2046b5bebb7b256754dca5": {
      "model_module": "@jupyter-widgets/controls",
      "model_module_version": "1.4.0",
      "model_name": "ButtonStyleModel",
      "state": {}
     },
     "d15a9f5fe9904aa49d54a6d51f70e25c": {
      "model_module": "@jupyter-widgets/output",
      "model_module_version": "1.0.0",
      "model_name": "OutputModel",
      "state": {
       "layout": "IPY_MODEL_c74ab34646f644219a35eb0ee35a9dd5"
      }
     },
     "d162c17a9c7a4c3491e0308410894dca": {
      "model_module": "@jupyter-widgets/controls",
      "model_module_version": "1.4.0",
      "model_name": "VBoxModel",
      "state": {
       "children": [
        "IPY_MODEL_36749f8706494d629ade862b27a05efa",
        "IPY_MODEL_33bfe9fe109e4c349fac8372df802a08"
       ],
       "layout": "IPY_MODEL_10dcf6091e3e488385b26c923f631bc7"
      }
     },
     "d19e78c54b014220935df28b2da719c5": {
      "model_module": "@jupyter-widgets/controls",
      "model_module_version": "1.4.0",
      "model_name": "ButtonModel",
      "state": {
       "description": "9",
       "layout": "IPY_MODEL_fa8f5a94c8724a7eb20478bc1414d547",
       "style": "IPY_MODEL_0dcb5b313c074b9281e4909fe6a6dbfa"
      }
     },
     "d1ac49906c334de7b9e77f59f9e69a5d": {
      "model_module": "@jupyter-widgets/controls",
      "model_module_version": "1.4.0",
      "model_name": "ButtonStyleModel",
      "state": {}
     },
     "d1becd5246df4b8c8810d2798ab0d565": {
      "model_module": "@jupyter-widgets/base",
      "model_module_version": "1.1.0",
      "model_name": "LayoutModel",
      "state": {
       "width": "10%"
      }
     },
     "d1e01f9fc4d046eca424b5c4c8998ece": {
      "model_module": "@jupyter-widgets/controls",
      "model_module_version": "1.4.0",
      "model_name": "ButtonStyleModel",
      "state": {}
     },
     "d2280979e2b94865a62de42a71b30249": {
      "model_module": "@jupyter-widgets/base",
      "model_module_version": "1.1.0",
      "model_name": "LayoutModel",
      "state": {}
     },
     "d231ac8c4afa48fd88ec64bb92a8758c": {
      "model_module": "@jupyter-widgets/controls",
      "model_module_version": "1.4.0",
      "model_name": "ButtonStyleModel",
      "state": {}
     },
     "d238240e5a074d68b20c7e0d18acd858": {
      "model_module": "@jupyter-widgets/base",
      "model_module_version": "1.1.0",
      "model_name": "LayoutModel",
      "state": {
       "width": "10%"
      }
     },
     "d23da4ad675746ce9c7d95e93a63cc89": {
      "model_module": "@jupyter-widgets/controls",
      "model_module_version": "1.4.0",
      "model_name": "ButtonModel",
      "state": {
       "description": "6",
       "layout": "IPY_MODEL_b828e892201c4de9931b7bb39a60933f",
       "style": "IPY_MODEL_387df994f79e4077929bef0de1a483ec"
      }
     },
     "d2459c212f7442b3b8aa771165f02aa1": {
      "model_module": "@jupyter-widgets/controls",
      "model_module_version": "1.4.0",
      "model_name": "ButtonStyleModel",
      "state": {}
     },
     "d259a201531242a590a91509044cae3f": {
      "model_module": "@jupyter-widgets/base",
      "model_module_version": "1.1.0",
      "model_name": "LayoutModel",
      "state": {
       "width": "95%"
      }
     },
     "d267471f9b494c07bf21d0c9f9d0286e": {
      "model_module": "@jupyter-widgets/controls",
      "model_module_version": "1.4.0",
      "model_name": "ButtonStyleModel",
      "state": {}
     },
     "d269313e53044462855a33256b5bd9e3": {
      "model_module": "@jupyter-widgets/base",
      "model_module_version": "1.1.0",
      "model_name": "LayoutModel",
      "state": {}
     },
     "d275a0d31d214f8688f3b30b6ce864e2": {
      "model_module": "@jupyter-widgets/base",
      "model_module_version": "1.1.0",
      "model_name": "LayoutModel",
      "state": {}
     },
     "d28f898793694a8e9d67fd32c3c11e30": {
      "model_module": "@jupyter-widgets/controls",
      "model_module_version": "1.4.0",
      "model_name": "ButtonModel",
      "state": {
       "description": "4",
       "layout": "IPY_MODEL_3693870a76e9447f9cc3db5c2069c035",
       "style": "IPY_MODEL_d61f7c04740d4463baf2c9cc98e08924"
      }
     },
     "d2b827b4b1d1456ab5471d51c34e51b9": {
      "model_module": "@jupyter-widgets/controls",
      "model_module_version": "1.4.0",
      "model_name": "VBoxModel",
      "state": {
       "children": [
        "IPY_MODEL_97857fbc18dc49b780d37bfeb5dec32d",
        "IPY_MODEL_1ce7648c8a1246b5807cc81a49cc8aaf"
       ],
       "layout": "IPY_MODEL_af650429044341ddb8554f57b86a9d70"
      }
     },
     "d2b996c672ba4089ad8cffc1c2eac8fd": {
      "model_module": "@jupyter-widgets/controls",
      "model_module_version": "1.4.0",
      "model_name": "ButtonModel",
      "state": {
       "description": "7",
       "layout": "IPY_MODEL_54e4e3e8357a468f8c6edc2c81479af9",
       "style": "IPY_MODEL_39a1b85ee73840479fb3a14ec85a2323"
      }
     },
     "d2bcbb1cfcaf40cbacf470a138b60b11": {
      "model_module": "@jupyter-widgets/controls",
      "model_module_version": "1.4.0",
      "model_name": "VBoxModel",
      "state": {
       "children": [
        "IPY_MODEL_e7732d0d997a4f5ba59dc68541a640ae",
        "IPY_MODEL_85b5b29cb95e4fdca3f9ab3ed4b1350f"
       ],
       "layout": "IPY_MODEL_ed7e367f50fb43e2a7a771d2aeecdfa8"
      }
     },
     "d2ccdf11e8294499a3d5511caf5d81d0": {
      "model_module": "@jupyter-widgets/output",
      "model_module_version": "1.0.0",
      "model_name": "OutputModel",
      "state": {
       "layout": "IPY_MODEL_5dcfcc8cc8b84becaa5a77d3e4f9635e"
      }
     },
     "d2efd31deb6b4ac8b634ad367797afbb": {
      "model_module": "@jupyter-widgets/controls",
      "model_module_version": "1.4.0",
      "model_name": "HBoxModel",
      "state": {
       "children": [
        "IPY_MODEL_a7b44988270847eabb0bf8f369e3567b",
        "IPY_MODEL_8ff52e9bec0d4c2bbfd8b2d96b28d24c",
        "IPY_MODEL_85b809c18a6c4a50963c04ccc34d9c28"
       ],
       "layout": "IPY_MODEL_282f51fffc484d61a882a1d6bdd01653"
      }
     },
     "d324555fb48a4d9abc13d2728ac843d4": {
      "model_module": "@jupyter-widgets/controls",
      "model_module_version": "1.4.0",
      "model_name": "ButtonModel",
      "state": {
       "description": "0",
       "layout": "IPY_MODEL_541e0857cf3d45989ce5e594b0ac3377",
       "style": "IPY_MODEL_768e3914dd5442459624389ecf099fb5"
      }
     },
     "d335fe0a946744649b8a3bc2d2661bef": {
      "model_module": "@jupyter-widgets/output",
      "model_module_version": "1.0.0",
      "model_name": "OutputModel",
      "state": {
       "layout": "IPY_MODEL_e53734bda349441ab2852bdd4c6d8f72"
      }
     },
     "d33b38e0d4f24a8c9edeb5aac90d2405": {
      "model_module": "@jupyter-widgets/base",
      "model_module_version": "1.1.0",
      "model_name": "LayoutModel",
      "state": {}
     },
     "d35efe60dba44763a053a80bf70ab095": {
      "model_module": "@jupyter-widgets/output",
      "model_module_version": "1.0.0",
      "model_name": "OutputModel",
      "state": {
       "layout": "IPY_MODEL_bba47c5687a446aaa1e8490c00a77cb9"
      }
     },
     "d376c8aa28124de6abfaa8e9b11e78aa": {
      "model_module": "@jupyter-widgets/controls",
      "model_module_version": "1.4.0",
      "model_name": "HBoxModel",
      "state": {
       "children": [
        "IPY_MODEL_1e82b12b6f174c509411c7efa8a14366",
        "IPY_MODEL_bb572b46633b4ec2931ec30a78697ac9"
       ],
       "layout": "IPY_MODEL_eaf569ac4c7f4a6586f6faa3f693e3f4"
      }
     },
     "d37856ac7c3945b1b3e39c248dd54abf": {
      "model_module": "@jupyter-widgets/output",
      "model_module_version": "1.0.0",
      "model_name": "OutputModel",
      "state": {
       "layout": "IPY_MODEL_d61c9b89cca548fbb556dc1c62bb3cf7"
      }
     },
     "d3793fe6a2b54f40ade21da8d30a23e6": {
      "model_module": "@jupyter-widgets/base",
      "model_module_version": "1.1.0",
      "model_name": "LayoutModel",
      "state": {}
     },
     "d37fec7ec2de404d9f1befb98f480e9e": {
      "model_module": "@jupyter-widgets/controls",
      "model_module_version": "1.4.0",
      "model_name": "VBoxModel",
      "state": {
       "children": [
        "IPY_MODEL_37b2a4aafd24475587c26579a24897f0",
        "IPY_MODEL_fcab8ec58dff45438c72ca50c8303a6b"
       ],
       "layout": "IPY_MODEL_382d47de47154669be88f0bd61bb4500"
      }
     },
     "d38b022a612646edac5c68857ae372c1": {
      "model_module": "@jupyter-widgets/controls",
      "model_module_version": "1.4.0",
      "model_name": "DescriptionStyleModel",
      "state": {
       "description_width": ""
      }
     },
     "d3954207a4014e72917bc8fa4ea31d84": {
      "model_module": "@jupyter-widgets/controls",
      "model_module_version": "1.4.0",
      "model_name": "ButtonStyleModel",
      "state": {}
     },
     "d3a985f8ec62418fb1915dc4e34dc6fd": {
      "model_module": "@jupyter-widgets/controls",
      "model_module_version": "1.4.0",
      "model_name": "DescriptionStyleModel",
      "state": {
       "description_width": ""
      }
     },
     "d3b199e5a9534d1084c34bbb194b3a05": {
      "model_module": "@jupyter-widgets/output",
      "model_module_version": "1.0.0",
      "model_name": "OutputModel",
      "state": {
       "layout": "IPY_MODEL_6a96b521231748f9b62f9ee519492927"
      }
     },
     "d3c4a63cd84d4f72a1799a85ab016bce": {
      "model_module": "@jupyter-widgets/base",
      "model_module_version": "1.1.0",
      "model_name": "LayoutModel",
      "state": {}
     },
     "d3c80f33c92f4d08aa7a098ce1b4836b": {
      "model_module": "@jupyter-widgets/controls",
      "model_module_version": "1.4.0",
      "model_name": "VBoxModel",
      "state": {
       "children": [
        "IPY_MODEL_8bb8f303819f4d5b8e93750075e552a0",
        "IPY_MODEL_3d3d709a85e644649066ec258c8db31c"
       ],
       "layout": "IPY_MODEL_32b68ad47b6b41b4966273c36d2bb280"
      }
     },
     "d3ed425e55ce4f7797251f97b1c20463": {
      "model_module": "@jupyter-widgets/base",
      "model_module_version": "1.1.0",
      "model_name": "LayoutModel",
      "state": {
       "width": "10%"
      }
     },
     "d3fccf1c02fa4378b516a7fce18f3f8e": {
      "model_module": "@jupyter-widgets/controls",
      "model_module_version": "1.4.0",
      "model_name": "ButtonModel",
      "state": {
       "description": "0",
       "layout": "IPY_MODEL_adc4d06031924cf98381507b471a281b",
       "style": "IPY_MODEL_c13b7368f3b947df88b1bf3a894a4334"
      }
     },
     "d4036344d61a4738bfe4a986f708e8c0": {
      "model_module": "@jupyter-widgets/controls",
      "model_module_version": "1.4.0",
      "model_name": "ButtonStyleModel",
      "state": {}
     },
     "d4447e0d04814dfe8e2176a4c6d616bb": {
      "model_module": "@jupyter-widgets/controls",
      "model_module_version": "1.4.0",
      "model_name": "ButtonStyleModel",
      "state": {}
     },
     "d458a11eb2cf47bda5baa327e77352c0": {
      "model_module": "@jupyter-widgets/controls",
      "model_module_version": "1.4.0",
      "model_name": "HBoxModel",
      "state": {
       "children": [
        "IPY_MODEL_18424f9e8d114fcb968f91ed2361a777",
        "IPY_MODEL_d51e3680fbf448d483cbe22a79b4e26b"
       ],
       "layout": "IPY_MODEL_ae65ef2733414a7ba1e9708bb187cf61"
      }
     },
     "d459ecca52014048b34bf9ef7f8efd1b": {
      "model_module": "@jupyter-widgets/base",
      "model_module_version": "1.1.0",
      "model_name": "LayoutModel",
      "state": {
       "width": "95%"
      }
     },
     "d45ac6a278804485a70ed0f9e4696e8b": {
      "model_module": "@jupyter-widgets/controls",
      "model_module_version": "1.4.0",
      "model_name": "ButtonModel",
      "state": {
       "description": "2",
       "layout": "IPY_MODEL_fa298f17581649cf84e16da11bf3c64a",
       "style": "IPY_MODEL_81907aed06e047a0b42c66666e670a48"
      }
     },
     "d45b6aa951854954b2cfd8e3b5ad8957": {
      "model_module": "@jupyter-widgets/base",
      "model_module_version": "1.1.0",
      "model_name": "LayoutModel",
      "state": {}
     },
     "d45d54d54a254adba664f5967776bf9c": {
      "model_module": "@jupyter-widgets/base",
      "model_module_version": "1.1.0",
      "model_name": "LayoutModel",
      "state": {
       "width": "10%"
      }
     },
     "d4b1eb9a6fb34a56a49a2da8a826892d": {
      "model_module": "@jupyter-widgets/controls",
      "model_module_version": "1.4.0",
      "model_name": "ButtonModel",
      "state": {
       "description": "5",
       "layout": "IPY_MODEL_06131b6fa3064052b30c36767f19ad2f",
       "style": "IPY_MODEL_9e6fc5366beb49cda4b747222cc52070"
      }
     },
     "d4c06836e25f4a8ca06ee65d4db542b7": {
      "model_module": "@jupyter-widgets/controls",
      "model_module_version": "1.4.0",
      "model_name": "ButtonModel",
      "state": {
       "description": "4",
       "layout": "IPY_MODEL_0f41d5afc8024d2aba303d28723d8f70",
       "style": "IPY_MODEL_11826948b5724eb5b7aa1271da396529"
      }
     },
     "d4cfff4b507247018251d8d1d2d27a44": {
      "model_module": "@jupyter-widgets/controls",
      "model_module_version": "1.4.0",
      "model_name": "ButtonStyleModel",
      "state": {}
     },
     "d4d156e40437485b941bc86c06b9f830": {
      "model_module": "@jupyter-widgets/output",
      "model_module_version": "1.0.0",
      "model_name": "OutputModel",
      "state": {
       "layout": "IPY_MODEL_e660a4f3edfc4d1d88ac475f4b1c73e0"
      }
     },
     "d4d9065d7401467ea79b7745a94782c3": {
      "model_module": "@jupyter-widgets/output",
      "model_module_version": "1.0.0",
      "model_name": "OutputModel",
      "state": {
       "layout": "IPY_MODEL_490eff145514477c873d1412896f6e53"
      }
     },
     "d4e785e3639b4757afb686673d34b64f": {
      "model_module": "@jupyter-widgets/controls",
      "model_module_version": "1.4.0",
      "model_name": "ButtonStyleModel",
      "state": {}
     },
     "d51bc37576204b878a61150366fac805": {
      "model_module": "@jupyter-widgets/base",
      "model_module_version": "1.1.0",
      "model_name": "LayoutModel",
      "state": {
       "width": "10%"
      }
     },
     "d51e3680fbf448d483cbe22a79b4e26b": {
      "model_module": "@jupyter-widgets/controls",
      "model_module_version": "1.4.0",
      "model_name": "HBoxModel",
      "state": {
       "children": [
        "IPY_MODEL_a7b44988270847eabb0bf8f369e3567b",
        "IPY_MODEL_8ff52e9bec0d4c2bbfd8b2d96b28d24c",
        "IPY_MODEL_85b809c18a6c4a50963c04ccc34d9c28"
       ],
       "layout": "IPY_MODEL_9ad9302e9ae241a48ddcfeda9580f764"
      }
     },
     "d540278dbc7f488cba6900e6c3da9cb1": {
      "model_module": "@jupyter-widgets/controls",
      "model_module_version": "1.4.0",
      "model_name": "VBoxModel",
      "state": {
       "children": [
        "IPY_MODEL_9bc0c976ee62475498fb632290f4f057",
        "IPY_MODEL_4460e07686c24ebc88cbb7b109f92a6e"
       ],
       "layout": "IPY_MODEL_20974b4dd5694905b97d7b913d7877e8"
      }
     },
     "d54b1d2a108d4223b761d9d2e6d34f47": {
      "model_module": "@jupyter-widgets/controls",
      "model_module_version": "1.4.0",
      "model_name": "ButtonModel",
      "state": {
       "description": "9",
       "layout": "IPY_MODEL_16e44106f90c41d79b4c66533b818a85",
       "style": "IPY_MODEL_35558a1ef020486cabf3a5ea20e13cee"
      }
     },
     "d55135b68d994f03a7e80303b576d995": {
      "model_module": "@jupyter-widgets/controls",
      "model_module_version": "1.4.0",
      "model_name": "ButtonModel",
      "state": {
       "description": "0",
       "layout": "IPY_MODEL_7ef10d4e7d93489da8c46098c53403e2",
       "style": "IPY_MODEL_34ed33a696394691bf0797de524399bc"
      }
     },
     "d564bc53276f4bd5aca0def067565454": {
      "model_module": "@jupyter-widgets/base",
      "model_module_version": "1.1.0",
      "model_name": "LayoutModel",
      "state": {
       "width": "95%"
      }
     },
     "d584356ae9904b1c804f0cd3ff3444e1": {
      "model_module": "@jupyter-widgets/controls",
      "model_module_version": "1.4.0",
      "model_name": "VBoxModel",
      "state": {
       "children": [
        "IPY_MODEL_3d82d4daf43c4796964c81047bfb2df8",
        "IPY_MODEL_45f92330de874b2290569c7e4b65f5dd"
       ],
       "layout": "IPY_MODEL_57b19e92a7e7446984e83df76f05911a"
      }
     },
     "d59a46d27ef74fc78db7ad87492be4d9": {
      "model_module": "@jupyter-widgets/base",
      "model_module_version": "1.1.0",
      "model_name": "LayoutModel",
      "state": {
       "width": "10%"
      }
     },
     "d5a6fc871d02436d9bf88a9e4f82b0a7": {
      "model_module": "@jupyter-widgets/base",
      "model_module_version": "1.1.0",
      "model_name": "LayoutModel",
      "state": {
       "width": "95%"
      }
     },
     "d5d312422ae246718a3865d8cad6991c": {
      "model_module": "@jupyter-widgets/controls",
      "model_module_version": "1.4.0",
      "model_name": "ButtonStyleModel",
      "state": {}
     },
     "d5ec1d84e8a748f6aedc19b7701af6bb": {
      "model_module": "@jupyter-widgets/output",
      "model_module_version": "1.0.0",
      "model_name": "OutputModel",
      "state": {
       "layout": "IPY_MODEL_d029d32bfa554c7f8042b2f6767a9815"
      }
     },
     "d5fd500f94ef4de5ab636dd54baca758": {
      "model_module": "@jupyter-widgets/controls",
      "model_module_version": "1.4.0",
      "model_name": "ButtonStyleModel",
      "state": {}
     },
     "d5feab3a89234c6fb8454c44edc5ccb8": {
      "model_module": "@jupyter-widgets/controls",
      "model_module_version": "1.4.0",
      "model_name": "ButtonStyleModel",
      "state": {}
     },
     "d6014580fc94482bb819bf3fa33bd91b": {
      "model_module": "@jupyter-widgets/base",
      "model_module_version": "1.1.0",
      "model_name": "LayoutModel",
      "state": {
       "width": "10%"
      }
     },
     "d60a1e350d3d48a4a2935952086fee19": {
      "model_module": "@jupyter-widgets/base",
      "model_module_version": "1.1.0",
      "model_name": "LayoutModel",
      "state": {
       "width": "10%"
      }
     },
     "d61c9b89cca548fbb556dc1c62bb3cf7": {
      "model_module": "@jupyter-widgets/base",
      "model_module_version": "1.1.0",
      "model_name": "LayoutModel",
      "state": {}
     },
     "d61f7c04740d4463baf2c9cc98e08924": {
      "model_module": "@jupyter-widgets/controls",
      "model_module_version": "1.4.0",
      "model_name": "ButtonStyleModel",
      "state": {}
     },
     "d634155a4d9c4ccfa35ac726c43bea17": {
      "model_module": "@jupyter-widgets/controls",
      "model_module_version": "1.4.0",
      "model_name": "TextModel",
      "state": {
       "description": "Other:",
       "layout": "IPY_MODEL_8a68b7ea8bf94d42959557ccc26fb97e",
       "placeholder": "Hit enter to submit.",
       "style": "IPY_MODEL_b8db06cbc4b74b45b9989bc95aa205e2"
      }
     },
     "d63a799b83d2487ca65af0dfceccd728": {
      "model_module": "@jupyter-widgets/base",
      "model_module_version": "1.1.0",
      "model_name": "LayoutModel",
      "state": {}
     },
     "d6408bb3901941ae9f1605ad2bcd93b2": {
      "model_module": "@jupyter-widgets/base",
      "model_module_version": "1.1.0",
      "model_name": "LayoutModel",
      "state": {
       "width": "10%"
      }
     },
     "d66e56aa72e34043a59e015fc91a84de": {
      "model_module": "@jupyter-widgets/base",
      "model_module_version": "1.1.0",
      "model_name": "LayoutModel",
      "state": {}
     },
     "d6827ff2a3f440e9b47789d5a946db00": {
      "model_module": "@jupyter-widgets/base",
      "model_module_version": "1.1.0",
      "model_name": "LayoutModel",
      "state": {
       "width": "95%"
      }
     },
     "d6882c2d91264462a305f8e7dbc9f734": {
      "model_module": "@jupyter-widgets/controls",
      "model_module_version": "1.4.0",
      "model_name": "VBoxModel",
      "state": {
       "children": [
        "IPY_MODEL_889f6345420f45a7b1e57eaeaf49c940",
        "IPY_MODEL_ff050ed2436641aa9662449fce9b4d33"
       ],
       "layout": "IPY_MODEL_90beecc09aaa4fcdbaa9495f79825425"
      }
     },
     "d690baff55ee4b3cb3e319a22ec27c1f": {
      "model_module": "@jupyter-widgets/controls",
      "model_module_version": "1.4.0",
      "model_name": "ButtonModel",
      "state": {
       "description": "6",
       "layout": "IPY_MODEL_5b0a3c9a8c4641afa0aac353a32be765",
       "style": "IPY_MODEL_49a13140bbc846db9656399933dc0b03"
      }
     },
     "d69a041c325f4022a86f155efad0f2e8": {
      "model_module": "@jupyter-widgets/base",
      "model_module_version": "1.1.0",
      "model_name": "LayoutModel",
      "state": {
       "width": "10%"
      }
     },
     "d69ae2af9f3746c7af7515ee9af94332": {
      "model_module": "@jupyter-widgets/controls",
      "model_module_version": "1.4.0",
      "model_name": "VBoxModel",
      "state": {
       "children": [
        "IPY_MODEL_b7677c05381d429d86d1cc49ed65489f",
        "IPY_MODEL_e3d800c858454378be877390b0abc0b2"
       ],
       "layout": "IPY_MODEL_682041de34664af9a49af93611926c25"
      }
     },
     "d6ba9ed9968e4d67a1d07845b5c88369": {
      "model_module": "@jupyter-widgets/base",
      "model_module_version": "1.1.0",
      "model_name": "LayoutModel",
      "state": {}
     },
     "d6d257ef49fa4b4dac25527024174aaf": {
      "model_module": "@jupyter-widgets/base",
      "model_module_version": "1.1.0",
      "model_name": "LayoutModel",
      "state": {}
     },
     "d6f4b52efe1a474694f0c1aa89c7941c": {
      "model_module": "@jupyter-widgets/base",
      "model_module_version": "1.1.0",
      "model_name": "LayoutModel",
      "state": {
       "width": "10%"
      }
     },
     "d702bfef28aa49e787c6f3d7dd0a8f0f": {
      "model_module": "@jupyter-widgets/base",
      "model_module_version": "1.1.0",
      "model_name": "LayoutModel",
      "state": {}
     },
     "d71b0589fc34461b81e22682dc2aa19a": {
      "model_module": "@jupyter-widgets/base",
      "model_module_version": "1.1.0",
      "model_name": "LayoutModel",
      "state": {
       "width": "95%"
      }
     },
     "d71d6dd8d74443429918074a10619726": {
      "model_module": "@jupyter-widgets/base",
      "model_module_version": "1.1.0",
      "model_name": "LayoutModel",
      "state": {
       "width": "10%"
      }
     },
     "d71f6f3910574972ad0eac0cf1592bbc": {
      "model_module": "@jupyter-widgets/output",
      "model_module_version": "1.0.0",
      "model_name": "OutputModel",
      "state": {
       "layout": "IPY_MODEL_8d8a949eb3a4441aabafae03eb48f370"
      }
     },
     "d720d38b45c6447abb75f98cab3cce16": {
      "model_module": "@jupyter-widgets/base",
      "model_module_version": "1.1.0",
      "model_name": "LayoutModel",
      "state": {
       "width": "95%"
      }
     },
     "d73d0f73aa0842a09e41d4ea083a8561": {
      "model_module": "@jupyter-widgets/controls",
      "model_module_version": "1.4.0",
      "model_name": "VBoxModel",
      "state": {
       "children": [
        "IPY_MODEL_a280d7114d6a43628feff978237a3979",
        "IPY_MODEL_ba3ae86b66374bf09d00c8eae1dd7b51"
       ],
       "layout": "IPY_MODEL_b2b1561084eb40d3b031f391f9d49db9"
      }
     },
     "d742d4919cf840b5a41f4a494aa03cba": {
      "model_module": "@jupyter-widgets/base",
      "model_module_version": "1.1.0",
      "model_name": "LayoutModel",
      "state": {
       "width": "95%"
      }
     },
     "d744e5157dfc4dec96869416b0b5c830": {
      "model_module": "@jupyter-widgets/controls",
      "model_module_version": "1.4.0",
      "model_name": "ButtonModel",
      "state": {
       "description": "5",
       "layout": "IPY_MODEL_fac15177ca264c07b52e8d2eadba6f1e",
       "style": "IPY_MODEL_60afb2703ab34155bac065d2de3f2b45"
      }
     },
     "d77b08ad08fc4b73b6472e631336292a": {
      "model_module": "@jupyter-widgets/base",
      "model_module_version": "1.1.0",
      "model_name": "LayoutModel",
      "state": {
       "width": "10%"
      }
     },
     "d78a5b9f6de64c47a0e5fc1ee2e0b9b3": {
      "model_module": "@jupyter-widgets/output",
      "model_module_version": "1.0.0",
      "model_name": "OutputModel",
      "state": {
       "layout": "IPY_MODEL_c008d97fe9cc497096d075a13c2c0b64"
      }
     },
     "d7917d1a99ba426c997242337797c5d7": {
      "model_module": "@jupyter-widgets/base",
      "model_module_version": "1.1.0",
      "model_name": "LayoutModel",
      "state": {
       "width": "10%"
      }
     },
     "d7a539e94e9e41a3b3559cff499af97f": {
      "model_module": "@jupyter-widgets/controls",
      "model_module_version": "1.4.0",
      "model_name": "ButtonStyleModel",
      "state": {}
     },
     "d7a6eca15c5e44119e5465065b088f75": {
      "model_module": "@jupyter-widgets/base",
      "model_module_version": "1.1.0",
      "model_name": "LayoutModel",
      "state": {
       "width": "95%"
      }
     },
     "d7ef935e9ed843eab6266e79a0ebbf65": {
      "model_module": "@jupyter-widgets/output",
      "model_module_version": "1.0.0",
      "model_name": "OutputModel",
      "state": {
       "layout": "IPY_MODEL_03ca06a63644487e9d130d3091c515a9"
      }
     },
     "d85b23b2526c4c50a4d113c366b7a624": {
      "model_module": "@jupyter-widgets/output",
      "model_module_version": "1.0.0",
      "model_name": "OutputModel",
      "state": {
       "layout": "IPY_MODEL_9c9b3b5004d3497b8128ee848d875e5c"
      }
     },
     "d894d16454a64b4abb25f06477aefcaa": {
      "model_module": "@jupyter-widgets/controls",
      "model_module_version": "1.4.0",
      "model_name": "ButtonModel",
      "state": {
       "description": "8",
       "layout": "IPY_MODEL_7581c2c2728d4d8cae6164b83ae22183",
       "style": "IPY_MODEL_5fa26a99121045f7be4ad6752d2ed20d"
      }
     },
     "d8a2f6b1c6404e68a0edb4ef7187a82f": {
      "model_module": "@jupyter-widgets/controls",
      "model_module_version": "1.4.0",
      "model_name": "ButtonStyleModel",
      "state": {}
     },
     "d8a9057d1e5340b193f195cb4fc09253": {
      "model_module": "@jupyter-widgets/controls",
      "model_module_version": "1.4.0",
      "model_name": "ButtonModel",
      "state": {
       "description": "6",
       "layout": "IPY_MODEL_db3b7083bb6e43cfb409e10b92b9fce1",
       "style": "IPY_MODEL_f182fb13e1e14e6999a3942e85241112"
      }
     },
     "d8aaed146d884d12ab5a64ecbf33dc8c": {
      "model_module": "@jupyter-widgets/base",
      "model_module_version": "1.1.0",
      "model_name": "LayoutModel",
      "state": {}
     },
     "d8bb2bd3051544f8985e4bea61f84398": {
      "model_module": "@jupyter-widgets/base",
      "model_module_version": "1.1.0",
      "model_name": "LayoutModel",
      "state": {}
     },
     "d8fe9951a0e04f208f24e61d9f120b21": {
      "model_module": "@jupyter-widgets/controls",
      "model_module_version": "1.4.0",
      "model_name": "ButtonStyleModel",
      "state": {}
     },
     "d92659bec1c24d92aa4de68c828164fb": {
      "model_module": "@jupyter-widgets/controls",
      "model_module_version": "1.4.0",
      "model_name": "ButtonStyleModel",
      "state": {}
     },
     "d9473d020d624c9597308cafd1a9e891": {
      "model_module": "@jupyter-widgets/base",
      "model_module_version": "1.1.0",
      "model_name": "LayoutModel",
      "state": {
       "width": "10%"
      }
     },
     "d94f336bd1a14c63bba012e83646f8b6": {
      "model_module": "@jupyter-widgets/output",
      "model_module_version": "1.0.0",
      "model_name": "OutputModel",
      "state": {
       "layout": "IPY_MODEL_3de0d349f8524f9cb4b0f53a671aaf82"
      }
     },
     "d97b01976c8d414993082455e35857b6": {
      "model_module": "@jupyter-widgets/controls",
      "model_module_version": "1.4.0",
      "model_name": "VBoxModel",
      "state": {
       "children": [
        "IPY_MODEL_e157ce6c380843c893c736be812bbde2",
        "IPY_MODEL_c3d2463212834d2f8c372d9088dd8b37"
       ],
       "layout": "IPY_MODEL_85a4db6528c54ca5a88f6c32d7a89902"
      }
     },
     "d9a52a773ae54a8c8f05bed5ddb78dde": {
      "model_module": "@jupyter-widgets/base",
      "model_module_version": "1.1.0",
      "model_name": "LayoutModel",
      "state": {
       "width": "95%"
      }
     },
     "d9d12d376cc64263be171019c9bd4e46": {
      "model_module": "@jupyter-widgets/base",
      "model_module_version": "1.1.0",
      "model_name": "LayoutModel",
      "state": {}
     },
     "da15ae22d60948a68e5fdac6e592e79a": {
      "model_module": "@jupyter-widgets/output",
      "model_module_version": "1.0.0",
      "model_name": "OutputModel",
      "state": {
       "layout": "IPY_MODEL_91549d05e74142169125b0ec70b84d4b"
      }
     },
     "da1887c9ba4a48d9a9bb2b5dba3d4060": {
      "model_module": "@jupyter-widgets/output",
      "model_module_version": "1.0.0",
      "model_name": "OutputModel",
      "state": {
       "layout": "IPY_MODEL_02d029fc17244a3da96e3f0bb8d92b43"
      }
     },
     "da45b9b8e8a54ba4bf5c6fcb7214520d": {
      "model_module": "@jupyter-widgets/controls",
      "model_module_version": "1.4.0",
      "model_name": "VBoxModel",
      "state": {
       "children": [
        "IPY_MODEL_77c08e631603444dbb4f432105931385",
        "IPY_MODEL_3819757afdce45e0b25e82c99fd00230"
       ],
       "layout": "IPY_MODEL_4a9dd07649254236aafca4492ee1d452"
      }
     },
     "da505df7937d4605bad09fbc8308f6c9": {
      "model_module": "@jupyter-widgets/controls",
      "model_module_version": "1.4.0",
      "model_name": "VBoxModel",
      "state": {
       "children": [
        "IPY_MODEL_c053bd601b854bb5a145ebdcff62c7d8",
        "IPY_MODEL_dc4be6ea50f347f883ea51b32ea7ae69"
       ],
       "layout": "IPY_MODEL_8c13733437fe4bd499f1166fa7811e91"
      }
     },
     "da522dbbe86d4d20aaf1ff673cbd74d0": {
      "model_module": "@jupyter-widgets/controls",
      "model_module_version": "1.4.0",
      "model_name": "VBoxModel",
      "state": {
       "children": [
        "IPY_MODEL_832dc7aecce8486db580d1b9f092c35d",
        "IPY_MODEL_7b70f5d432c84969bca41734c94983f3"
       ],
       "layout": "IPY_MODEL_7082d86314e04c64afa7f64ee0fce325"
      }
     },
     "da5d6a58d7504d0eaa3177e9e1df89b7": {
      "model_module": "@jupyter-widgets/controls",
      "model_module_version": "1.4.0",
      "model_name": "ButtonStyleModel",
      "state": {}
     },
     "da797c91c7a3490183846911889396af": {
      "model_module": "@jupyter-widgets/controls",
      "model_module_version": "1.4.0",
      "model_name": "ButtonModel",
      "state": {
       "description": "2",
       "layout": "IPY_MODEL_c7fa991f721745bc88749996b16f8ef1",
       "style": "IPY_MODEL_0ecbbe5d467a4a4e8e8ed5301a9de0ea"
      }
     },
     "da7aefef2a374756b06b39af53992c2c": {
      "model_module": "@jupyter-widgets/base",
      "model_module_version": "1.1.0",
      "model_name": "LayoutModel",
      "state": {
       "width": "10%"
      }
     },
     "da814df744ea4f9e9bf8afca7a824a4e": {
      "model_module": "@jupyter-widgets/controls",
      "model_module_version": "1.4.0",
      "model_name": "VBoxModel",
      "state": {
       "children": [
        "IPY_MODEL_28b5f0af2cd644b89cd08f9da6d11adf",
        "IPY_MODEL_3835c49644bc4e58b11dc251110724fd"
       ],
       "layout": "IPY_MODEL_7de82c20e27b4ae09c504687e702f660"
      }
     },
     "da917b870b5147d3896ae54e50a37305": {
      "model_module": "@jupyter-widgets/controls",
      "model_module_version": "1.4.0",
      "model_name": "VBoxModel",
      "state": {
       "children": [
        "IPY_MODEL_948de29882354729abfc9b7cff34cdfc",
        "IPY_MODEL_322ce867f8d540edb593720567774c63"
       ],
       "layout": "IPY_MODEL_750452c4d1b34682bdf46724c1b5a27d"
      }
     },
     "da91813d3dfc4414a84378d09d960201": {
      "model_module": "@jupyter-widgets/base",
      "model_module_version": "1.1.0",
      "model_name": "LayoutModel",
      "state": {
       "width": "10%"
      }
     },
     "dab35c4b87a94584a6da84db7600ca88": {
      "model_module": "@jupyter-widgets/base",
      "model_module_version": "1.1.0",
      "model_name": "LayoutModel",
      "state": {}
     },
     "dad9166ed5be4cd4be4b52d706f6dcd6": {
      "model_module": "@jupyter-widgets/controls",
      "model_module_version": "1.4.0",
      "model_name": "DescriptionStyleModel",
      "state": {
       "description_width": ""
      }
     },
     "dadfa3a3bfe741d595924f225e6fd081": {
      "model_module": "@jupyter-widgets/base",
      "model_module_version": "1.1.0",
      "model_name": "LayoutModel",
      "state": {}
     },
     "daf6d2bfd8a944d48363852821e2d325": {
      "model_module": "@jupyter-widgets/base",
      "model_module_version": "1.1.0",
      "model_name": "LayoutModel",
      "state": {}
     },
     "db0d9b5ca3864dc391d08ef7cf39679f": {
      "model_module": "@jupyter-widgets/controls",
      "model_module_version": "1.4.0",
      "model_name": "VBoxModel",
      "state": {
       "children": [
        "IPY_MODEL_8c760c39ef00459fb3c974d9b0108982",
        "IPY_MODEL_4f59c2ff067c44b4abdd7030d9e2e355"
       ],
       "layout": "IPY_MODEL_3c385ae7cb424a1c8b69568ea71d2ec1"
      }
     },
     "db1b7c4c43a74962a62f59f2433dc6d5": {
      "model_module": "@jupyter-widgets/controls",
      "model_module_version": "1.4.0",
      "model_name": "ButtonStyleModel",
      "state": {}
     },
     "db36f9dcbf964b509cab8c49b65add34": {
      "model_module": "@jupyter-widgets/base",
      "model_module_version": "1.1.0",
      "model_name": "LayoutModel",
      "state": {}
     },
     "db3a1402519946c7a2030ba5a21e8564": {
      "model_module": "@jupyter-widgets/base",
      "model_module_version": "1.1.0",
      "model_name": "LayoutModel",
      "state": {}
     },
     "db3b7083bb6e43cfb409e10b92b9fce1": {
      "model_module": "@jupyter-widgets/base",
      "model_module_version": "1.1.0",
      "model_name": "LayoutModel",
      "state": {
       "width": "95%"
      }
     },
     "db6931b7b388413bb42e42d7121b18ad": {
      "model_module": "@jupyter-widgets/base",
      "model_module_version": "1.1.0",
      "model_name": "LayoutModel",
      "state": {}
     },
     "db6e5f8d7a264fd3a0026b5c24981cbe": {
      "model_module": "@jupyter-widgets/controls",
      "model_module_version": "1.4.0",
      "model_name": "VBoxModel",
      "state": {
       "children": [
        "IPY_MODEL_d45ac6a278804485a70ed0f9e4696e8b",
        "IPY_MODEL_e1b680ba7eb3459490653967dc32f11f"
       ],
       "layout": "IPY_MODEL_3005aafa413d48738cc2ceca22abe410"
      }
     },
     "db72d52761704ce68713f05a8e428762": {
      "model_module": "@jupyter-widgets/base",
      "model_module_version": "1.1.0",
      "model_name": "LayoutModel",
      "state": {
       "width": "10%"
      }
     },
     "db8fa711340147c2a7b2d93cd2c39996": {
      "model_module": "@jupyter-widgets/base",
      "model_module_version": "1.1.0",
      "model_name": "LayoutModel",
      "state": {}
     },
     "dbb4d6435c6a439b9d77b4767a2232d1": {
      "model_module": "@jupyter-widgets/controls",
      "model_module_version": "1.4.0",
      "model_name": "ButtonStyleModel",
      "state": {}
     },
     "dbc5a455df0c402fa3d59c87b0716e5a": {
      "model_module": "@jupyter-widgets/controls",
      "model_module_version": "1.4.0",
      "model_name": "VBoxModel",
      "state": {
       "children": [
        "IPY_MODEL_04722b7615cc40b9876b655f672b598e",
        "IPY_MODEL_4345fb79d9d94398aa6aeeba35324500"
       ],
       "layout": "IPY_MODEL_03c7db40d1a745c9b47ae22d859b9232"
      }
     },
     "dbc6f5e29c9845249be46decb7f70d91": {
      "model_module": "@jupyter-widgets/base",
      "model_module_version": "1.1.0",
      "model_name": "LayoutModel",
      "state": {
       "width": "95%"
      }
     },
     "dbd35a85c6e34ab294eb5d33cab7dafd": {
      "model_module": "@jupyter-widgets/controls",
      "model_module_version": "1.4.0",
      "model_name": "HBoxModel",
      "state": {
       "children": [
        "IPY_MODEL_927f0fc4fcb74471888e7c88fcbf680b",
        "IPY_MODEL_99ff157a272140b7873fbe94841c36df",
        "IPY_MODEL_ef0be3d8e88240aba8c6cff6fc4bf3af",
        "IPY_MODEL_0f440ed505b8418aa92af0cedff40c5f",
        "IPY_MODEL_b44c6eb8e4d9413d8a8fec84f8166a0c",
        "IPY_MODEL_e8c75a7bf2a0449e86165feda9d6b558",
        "IPY_MODEL_e10c22cfed4643048ca2a9080e08aa1e",
        "IPY_MODEL_9ed58d020866450a963e67609a2782c2",
        "IPY_MODEL_17298d1075e14f0abbc293bc8d0d4863",
        "IPY_MODEL_7f53e8dec8204b2f963ec80db1688b42"
       ],
       "layout": "IPY_MODEL_477d268525bb4741a0e81a884f5a4b38"
      }
     },
     "dc0463dcf0f44c90b3378de8bb358340": {
      "model_module": "@jupyter-widgets/controls",
      "model_module_version": "1.4.0",
      "model_name": "ButtonStyleModel",
      "state": {}
     },
     "dc0ad502f0554de49c628c10d29117fc": {
      "model_module": "@jupyter-widgets/base",
      "model_module_version": "1.1.0",
      "model_name": "LayoutModel",
      "state": {
       "width": "10%"
      }
     },
     "dc3bc34555074b88ae82e7b6929df89f": {
      "model_module": "@jupyter-widgets/base",
      "model_module_version": "1.1.0",
      "model_name": "LayoutModel",
      "state": {
       "width": "95%"
      }
     },
     "dc3e218a22624b069d6fc836ce3d21fe": {
      "model_module": "@jupyter-widgets/output",
      "model_module_version": "1.0.0",
      "model_name": "OutputModel",
      "state": {
       "layout": "IPY_MODEL_d8bb2bd3051544f8985e4bea61f84398"
      }
     },
     "dc4be6ea50f347f883ea51b32ea7ae69": {
      "model_module": "@jupyter-widgets/output",
      "model_module_version": "1.0.0",
      "model_name": "OutputModel",
      "state": {
       "layout": "IPY_MODEL_f63531cbf736467dae7856d20e6fb9b3"
      }
     },
     "dc75ca59533b46bf84c5a0a2aab6e670": {
      "model_module": "@jupyter-widgets/controls",
      "model_module_version": "1.4.0",
      "model_name": "ButtonModel",
      "state": {
       "description": "4",
       "layout": "IPY_MODEL_1023edbad4d84759a2c374037e681836",
       "style": "IPY_MODEL_d1e01f9fc4d046eca424b5c4c8998ece"
      }
     },
     "dc8f775278f64e39ac04eeba0982e591": {
      "model_module": "@jupyter-widgets/base",
      "model_module_version": "1.1.0",
      "model_name": "LayoutModel",
      "state": {}
     },
     "dcd80955d23f47f2a5e241b8e5110c1f": {
      "model_module": "@jupyter-widgets/controls",
      "model_module_version": "1.4.0",
      "model_name": "ButtonModel",
      "state": {
       "description": "3",
       "layout": "IPY_MODEL_46f30b31aeef4f429b34deacc46d8256",
       "style": "IPY_MODEL_090d3c3c1ced45619395dc748dd9fc05"
      }
     },
     "dcf5d44987174eac95aa08478a9e9499": {
      "model_module": "@jupyter-widgets/controls",
      "model_module_version": "1.4.0",
      "model_name": "VBoxModel",
      "state": {
       "children": [
        "IPY_MODEL_900b99fd27474093bce17412dbb1b264",
        "IPY_MODEL_ed173c6d7f1f4c88bd145a371f088441"
       ],
       "layout": "IPY_MODEL_91942729466043f6b47a78e91713ca10"
      }
     },
     "dcfa2be5799a4c1d86521f269634f1d3": {
      "model_module": "@jupyter-widgets/base",
      "model_module_version": "1.1.0",
      "model_name": "LayoutModel",
      "state": {
       "width": "95%"
      }
     },
     "dcfb728eac3843ecb2eb589343ba40b1": {
      "model_module": "@jupyter-widgets/base",
      "model_module_version": "1.1.0",
      "model_name": "LayoutModel",
      "state": {
       "width": "10%"
      }
     },
     "dd2bb32428b0499f8ad6909dd01cb196": {
      "model_module": "@jupyter-widgets/base",
      "model_module_version": "1.1.0",
      "model_name": "LayoutModel",
      "state": {
       "width": "95%"
      }
     },
     "dd48b40c98d44996b6f9b160f785f6aa": {
      "model_module": "@jupyter-widgets/output",
      "model_module_version": "1.0.0",
      "model_name": "OutputModel",
      "state": {
       "layout": "IPY_MODEL_4b16c2ee59a042fda0a995352c2f1a63"
      }
     },
     "dd4a4da2f0a440b1b163e2cf7867e283": {
      "model_module": "@jupyter-widgets/controls",
      "model_module_version": "1.4.0",
      "model_name": "VBoxModel",
      "state": {
       "children": [
        "IPY_MODEL_a25f1be052d445c89dedb8636319ba1d",
        "IPY_MODEL_198f358b28d54a77af2f09a64d515d73"
       ],
       "layout": "IPY_MODEL_7749ac750f414d7a96a1486aea1a988a"
      }
     },
     "dd4ebf1170ee48b6ba45f6850495c847": {
      "model_module": "@jupyter-widgets/controls",
      "model_module_version": "1.4.0",
      "model_name": "VBoxModel",
      "state": {
       "children": [
        "IPY_MODEL_e1e36303499b4ed7b1e7db1764c12add",
        "IPY_MODEL_4b8a3901246a40ebab98f13815c84a44"
       ],
       "layout": "IPY_MODEL_1edff9f17ae640fb9c674ef04e9cc74a"
      }
     },
     "dd525af6ba5f4bf9b97b89cbd3895f90": {
      "model_module": "@jupyter-widgets/controls",
      "model_module_version": "1.4.0",
      "model_name": "ButtonModel",
      "state": {
       "description": "5",
       "layout": "IPY_MODEL_666634112f9d4c3c978db47a8b05b375",
       "style": "IPY_MODEL_3bbbd8d8e6624b249e24945e127c9c5a"
      }
     },
     "dd57ded1912148e5b6816b8ff0d89b14": {
      "model_module": "@jupyter-widgets/controls",
      "model_module_version": "1.4.0",
      "model_name": "VBoxModel",
      "state": {
       "children": [
        "IPY_MODEL_1e96a364356b47158b4069f1a8567237",
        "IPY_MODEL_1ce6962df0904d2dbe3597ce316bbd64"
       ],
       "layout": "IPY_MODEL_b7e2b61082504236971bc2b3847d6d96"
      }
     },
     "dd5a987eb543420f894aec33a08aff2f": {
      "model_module": "@jupyter-widgets/controls",
      "model_module_version": "1.4.0",
      "model_name": "ButtonModel",
      "state": {
       "description": "8",
       "layout": "IPY_MODEL_23ebb5017bd946aa93e925402d320534",
       "style": "IPY_MODEL_36e2f48474a04fe2b5736a18776f701e"
      }
     },
     "dd69c42eaf074e469744d59b1edbf5d1": {
      "model_module": "@jupyter-widgets/output",
      "model_module_version": "1.0.0",
      "model_name": "OutputModel",
      "state": {
       "layout": "IPY_MODEL_48bbac8691064700984efacb55b81e72"
      }
     },
     "dd6ebcf049704003840e23351aef010c": {
      "model_module": "@jupyter-widgets/base",
      "model_module_version": "1.1.0",
      "model_name": "LayoutModel",
      "state": {
       "width": "10%"
      }
     },
     "dd88ae6182c443dc8ca6902e0d9886df": {
      "model_module": "@jupyter-widgets/controls",
      "model_module_version": "1.4.0",
      "model_name": "ButtonStyleModel",
      "state": {}
     },
     "dd95295113a54e3da6b224db1d83f722": {
      "model_module": "@jupyter-widgets/output",
      "model_module_version": "1.0.0",
      "model_name": "OutputModel",
      "state": {
       "layout": "IPY_MODEL_b7f6dcd0b8114ed5a14dd47b401526b9"
      }
     },
     "dda15857653c4b4d862565a76e0ee95c": {
      "model_module": "@jupyter-widgets/base",
      "model_module_version": "1.1.0",
      "model_name": "LayoutModel",
      "state": {
       "width": "95%"
      }
     },
     "ddbf6a9d09e446f58745ee93173ef91b": {
      "model_module": "@jupyter-widgets/output",
      "model_module_version": "1.0.0",
      "model_name": "OutputModel",
      "state": {
       "layout": "IPY_MODEL_38a51135f4154f239549ff0f5581137a"
      }
     },
     "ddd0bb5bda1d4ee8aa0421fcf2ee59ba": {
      "model_module": "@jupyter-widgets/base",
      "model_module_version": "1.1.0",
      "model_name": "LayoutModel",
      "state": {
       "width": "95%"
      }
     },
     "ddd34a6e9bda4ef9a672956e7bd11e6c": {
      "model_module": "@jupyter-widgets/base",
      "model_module_version": "1.1.0",
      "model_name": "LayoutModel",
      "state": {
       "width": "10%"
      }
     },
     "ddedd35abc4945c4954c34c50152c92c": {
      "model_module": "@jupyter-widgets/controls",
      "model_module_version": "1.4.0",
      "model_name": "ButtonModel",
      "state": {
       "description": "8",
       "layout": "IPY_MODEL_cfe2bcd00c5f4548a40f6ae4d8b554ba",
       "style": "IPY_MODEL_852420bf38bb4b248c0c70c83b3a0caa"
      }
     },
     "ddf729a601064bb2b0d2ecb767a05e41": {
      "model_module": "@jupyter-widgets/controls",
      "model_module_version": "1.4.0",
      "model_name": "ButtonStyleModel",
      "state": {}
     },
     "ddf8e95e8b4a489bb16408d4ee67c9d2": {
      "model_module": "@jupyter-widgets/controls",
      "model_module_version": "1.4.0",
      "model_name": "VBoxModel",
      "state": {
       "children": [
        "IPY_MODEL_981c8aa062f94584aa5cacb5964f15a6",
        "IPY_MODEL_070ffc3548c74a3ebfe02f31abfcbdcc"
       ],
       "layout": "IPY_MODEL_d6f4b52efe1a474694f0c1aa89c7941c"
      }
     },
     "de0e5657ff6c4cea98f4177a356ea9d8": {
      "model_module": "@jupyter-widgets/output",
      "model_module_version": "1.0.0",
      "model_name": "OutputModel",
      "state": {
       "layout": "IPY_MODEL_88944e86437d43c18b35d16898177645"
      }
     },
     "de5badd3fcb143319804ae69f820a0fd": {
      "model_module": "@jupyter-widgets/output",
      "model_module_version": "1.0.0",
      "model_name": "OutputModel",
      "state": {
       "layout": "IPY_MODEL_b8fb5d390d3f4c1987974fbd8c86670f"
      }
     },
     "de682a4757ff473b98f56a93b2ed210e": {
      "model_module": "@jupyter-widgets/output",
      "model_module_version": "1.0.0",
      "model_name": "OutputModel",
      "state": {
       "layout": "IPY_MODEL_534b3eb9d5164346b6f8eb2aabd0743b"
      }
     },
     "de7fad93af074395b93ef8c363e270a1": {
      "model_module": "@jupyter-widgets/base",
      "model_module_version": "1.1.0",
      "model_name": "LayoutModel",
      "state": {
       "width": "95%"
      }
     },
     "de81c7ec2f504dc2afff3964c191f6de": {
      "model_module": "@jupyter-widgets/controls",
      "model_module_version": "1.4.0",
      "model_name": "VBoxModel",
      "state": {
       "children": [
        "IPY_MODEL_49b7e3756bea4c3b858dffe2fe609daa",
        "IPY_MODEL_0d1e36bdd0514497a288a5798260b43f"
       ],
       "layout": "IPY_MODEL_cd2772b574494039befa9f309d85f067"
      }
     },
     "de8d9c8a58b74e0e9a1d0e9a62ab1e66": {
      "model_module": "@jupyter-widgets/controls",
      "model_module_version": "1.4.0",
      "model_name": "VBoxModel",
      "state": {
       "children": [
        "IPY_MODEL_16fde606e78a4dd69aa814f78feb2193",
        "IPY_MODEL_48981d32a6614f329304ca221a52b5d1"
       ],
       "layout": "IPY_MODEL_37bd89e0f8574dce8e49e958b83c4b43"
      }
     },
     "de9bedfe0387472da8725609c2fd9f51": {
      "model_module": "@jupyter-widgets/controls",
      "model_module_version": "1.4.0",
      "model_name": "ButtonModel",
      "state": {
       "description": "8",
       "layout": "IPY_MODEL_3f54050b0485471496a884b0ccafb0ce",
       "style": "IPY_MODEL_18ca4795d62145b7a3de34bcac31d469"
      }
     },
     "de9f139a3a884c52aa4e3bca3159852c": {
      "model_module": "@jupyter-widgets/base",
      "model_module_version": "1.1.0",
      "model_name": "LayoutModel",
      "state": {
       "width": "95%"
      }
     },
     "dec62e856d0f44df93f8b6a1869670f4": {
      "model_module": "@jupyter-widgets/base",
      "model_module_version": "1.1.0",
      "model_name": "LayoutModel",
      "state": {
       "width": "95%"
      }
     },
     "deccee8abf9346c9b2df9d3b0ba9e40a": {
      "model_module": "@jupyter-widgets/base",
      "model_module_version": "1.1.0",
      "model_name": "LayoutModel",
      "state": {
       "width": "95%"
      }
     },
     "deda5aadc35640429e9f3aabe6802b8c": {
      "model_module": "@jupyter-widgets/base",
      "model_module_version": "1.1.0",
      "model_name": "LayoutModel",
      "state": {
       "width": "95%"
      }
     },
     "deddff994f804fc581ef6a4eff7ae0c5": {
      "model_module": "@jupyter-widgets/base",
      "model_module_version": "1.1.0",
      "model_name": "LayoutModel",
      "state": {}
     },
     "def17fe56e30468b8fa6250f3c0b508d": {
      "model_module": "@jupyter-widgets/base",
      "model_module_version": "1.1.0",
      "model_name": "LayoutModel",
      "state": {
       "width": "95%"
      }
     },
     "df1ef931fe3f46dc9490819366f7120d": {
      "model_module": "@jupyter-widgets/output",
      "model_module_version": "1.0.0",
      "model_name": "OutputModel",
      "state": {
       "layout": "IPY_MODEL_c14784b98319492da6f78cc070f1fbfd"
      }
     },
     "df2dc7f5943b49afbeb14e562a77bfa2": {
      "model_module": "@jupyter-widgets/controls",
      "model_module_version": "1.4.0",
      "model_name": "HBoxModel",
      "state": {
       "children": [
        "IPY_MODEL_09c51e31b899426a95a875692f485ed9",
        "IPY_MODEL_321b8e3dca274d8c9a8528313e980581",
        "IPY_MODEL_853f4eb93b164b46aa51614209f15dbc",
        "IPY_MODEL_81f02f36f13b4427be47b0be51bb8212",
        "IPY_MODEL_52e266f0ad48469f9000dea0cee9b9e8",
        "IPY_MODEL_f0426321d86c4a9194b6d79c1bb34f9e",
        "IPY_MODEL_1d6ef42347e14b8ca0cf30cf05b2502e",
        "IPY_MODEL_60c5e316766444c381161cd2aef1f83a",
        "IPY_MODEL_324a75819289421ca2ddb847ad0210d8",
        "IPY_MODEL_91a5064d25614c6eb7a8ea2b6c4a0bb7"
       ],
       "layout": "IPY_MODEL_4cb4effbb79149c789bf356b46598594"
      }
     },
     "df3805b01eb34f3b85173831415e9b81": {
      "model_module": "@jupyter-widgets/controls",
      "model_module_version": "1.4.0",
      "model_name": "ButtonStyleModel",
      "state": {}
     },
     "df5cbba317da44bc85a7f58ce641cf6e": {
      "model_module": "@jupyter-widgets/base",
      "model_module_version": "1.1.0",
      "model_name": "LayoutModel",
      "state": {
       "width": "95%"
      }
     },
     "df7b5800cb8b4ce0973cbf03a7ba7455": {
      "model_module": "@jupyter-widgets/controls",
      "model_module_version": "1.4.0",
      "model_name": "VBoxModel",
      "state": {
       "children": [
        "IPY_MODEL_4e54107a633e49a5ad1d0ddae9711189",
        "IPY_MODEL_592e239fcea14ea3bf9c7a7c4600a29f"
       ],
       "layout": "IPY_MODEL_5f30e7f814294d96beb86a8969a4f9b7"
      }
     },
     "df7cfbe905504d0ead43ba42184c9f4e": {
      "model_module": "@jupyter-widgets/base",
      "model_module_version": "1.1.0",
      "model_name": "LayoutModel",
      "state": {
       "width": "95%"
      }
     },
     "df879a2ac26c4dd1ad243f820475397b": {
      "model_module": "@jupyter-widgets/controls",
      "model_module_version": "1.4.0",
      "model_name": "HBoxModel",
      "state": {
       "children": [
        "IPY_MODEL_a7b44988270847eabb0bf8f369e3567b",
        "IPY_MODEL_8ff52e9bec0d4c2bbfd8b2d96b28d24c",
        "IPY_MODEL_85b809c18a6c4a50963c04ccc34d9c28"
       ],
       "layout": "IPY_MODEL_fb1fe0487f6346bcaf610534d88521e7"
      }
     },
     "df94ec38391c4269808db51e49a0fa99": {
      "model_module": "@jupyter-widgets/output",
      "model_module_version": "1.0.0",
      "model_name": "OutputModel",
      "state": {
       "layout": "IPY_MODEL_520630735c4849238f59873118ee185e"
      }
     },
     "dfc213e426884ee4b8a314a6d5c2cf71": {
      "model_module": "@jupyter-widgets/base",
      "model_module_version": "1.1.0",
      "model_name": "LayoutModel",
      "state": {}
     },
     "dff2e0fec561495a8d867e306e86ee31": {
      "model_module": "@jupyter-widgets/controls",
      "model_module_version": "1.4.0",
      "model_name": "VBoxModel",
      "state": {
       "children": [
        "IPY_MODEL_cc2d13eb51c745169e86b69250329c86",
        "IPY_MODEL_3f32cc334f54459b93edf14c2291b30d"
       ],
       "layout": "IPY_MODEL_149221be979a466fac3451050b273b11"
      }
     },
     "dfff80a8f7e74e40903ef0c006dad13a": {
      "model_module": "@jupyter-widgets/base",
      "model_module_version": "1.1.0",
      "model_name": "LayoutModel",
      "state": {
       "width": "10%"
      }
     },
     "e00d57105bed4182bbbcfe27d04f000c": {
      "model_module": "@jupyter-widgets/controls",
      "model_module_version": "1.4.0",
      "model_name": "VBoxModel",
      "state": {
       "children": [
        "IPY_MODEL_690eb5e7d5f140eb9476325c31fadfa9",
        "IPY_MODEL_37406dbb965940279475fbd42ba14827"
       ],
       "layout": "IPY_MODEL_235a1f5c8ab94a2e8dbee3f71319b6aa"
      }
     },
     "e00de94b7b17459f8f60ae1a6fb21395": {
      "model_module": "@jupyter-widgets/base",
      "model_module_version": "1.1.0",
      "model_name": "LayoutModel",
      "state": {}
     },
     "e016b9fa1bfe4f36a3ef04d3a14e22bd": {
      "model_module": "@jupyter-widgets/base",
      "model_module_version": "1.1.0",
      "model_name": "LayoutModel",
      "state": {}
     },
     "e02dc6877d954b48835affb80899cf28": {
      "model_module": "@jupyter-widgets/controls",
      "model_module_version": "1.4.0",
      "model_name": "ButtonStyleModel",
      "state": {}
     },
     "e02e76f2328b4be3aa18d2b886e15222": {
      "model_module": "@jupyter-widgets/controls",
      "model_module_version": "1.4.0",
      "model_name": "VBoxModel",
      "state": {
       "children": [
        "IPY_MODEL_3219fb492c3d4e94ad13846b8a393cc9",
        "IPY_MODEL_38801c97100548a688402e4f675dacd6"
       ],
       "layout": "IPY_MODEL_6bc2796611f94ac798da4f2302a0c8bd"
      }
     },
     "e0430148a06747339f203d5c7629cfbc": {
      "model_module": "@jupyter-widgets/controls",
      "model_module_version": "1.4.0",
      "model_name": "ButtonModel",
      "state": {
       "description": "5",
       "layout": "IPY_MODEL_05f4796e8d11446791e85e6216e840d3",
       "style": "IPY_MODEL_c3e924f54d014a5c9d85a014001f1e4d"
      }
     },
     "e0638faae2e14e1b87f308025560dff8": {
      "model_module": "@jupyter-widgets/controls",
      "model_module_version": "1.4.0",
      "model_name": "HBoxModel",
      "state": {
       "children": [
        "IPY_MODEL_b10761694bb342b5b1f07cc053e08843",
        "IPY_MODEL_ed1bb5153e98455987ea9c48edfa2e94"
       ],
       "layout": "IPY_MODEL_567df2d4837e4ce082b2fd07c2a45494"
      }
     },
     "e07514402ddf4e6bac6471f1b585758c": {
      "model_module": "@jupyter-widgets/base",
      "model_module_version": "1.1.0",
      "model_name": "LayoutModel",
      "state": {
       "justify_content": "space-between"
      }
     },
     "e079108155bf4e74be738f38dd9a263b": {
      "model_module": "@jupyter-widgets/controls",
      "model_module_version": "1.4.0",
      "model_name": "ButtonStyleModel",
      "state": {}
     },
     "e08dcfcbfc064cfdabf5d6eca862eeb5": {
      "model_module": "@jupyter-widgets/base",
      "model_module_version": "1.1.0",
      "model_name": "LayoutModel",
      "state": {}
     },
     "e0a4fa3aaea5459abc1cda88d000fb10": {
      "model_module": "@jupyter-widgets/controls",
      "model_module_version": "1.4.0",
      "model_name": "VBoxModel",
      "state": {
       "children": [
        "IPY_MODEL_e832dc27348744febd378542d5af3614",
        "IPY_MODEL_803814054bc3454cb9055063052fd03d"
       ],
       "layout": "IPY_MODEL_33d6d28577a5473abc26e53ef0bb5517"
      }
     },
     "e0c355c7e83d4d6ba2d2e192057243d4": {
      "model_module": "@jupyter-widgets/base",
      "model_module_version": "1.1.0",
      "model_name": "LayoutModel",
      "state": {
       "width": "95%"
      }
     },
     "e0d0361da4f9480ca909c11dbf9ee490": {
      "model_module": "@jupyter-widgets/controls",
      "model_module_version": "1.4.0",
      "model_name": "ButtonModel",
      "state": {
       "description": "1",
       "layout": "IPY_MODEL_b324dc985082437d8c1f53e9e79e2111",
       "style": "IPY_MODEL_d267471f9b494c07bf21d0c9f9d0286e"
      }
     },
     "e0d2f34a923a457daa5c15a490c0f568": {
      "model_module": "@jupyter-widgets/base",
      "model_module_version": "1.1.0",
      "model_name": "LayoutModel",
      "state": {
       "width": "95%"
      }
     },
     "e0d9009772fd47568fccc0d1ee68fabb": {
      "model_module": "@jupyter-widgets/controls",
      "model_module_version": "1.4.0",
      "model_name": "ButtonStyleModel",
      "state": {}
     },
     "e0e90acb510546e5b07a76690ee19391": {
      "model_module": "@jupyter-widgets/controls",
      "model_module_version": "1.4.0",
      "model_name": "ButtonStyleModel",
      "state": {}
     },
     "e0f2d614b15846c5890ce2b1e4f1dd9e": {
      "model_module": "@jupyter-widgets/output",
      "model_module_version": "1.0.0",
      "model_name": "OutputModel",
      "state": {
       "layout": "IPY_MODEL_363ddd65669342388ba36a7b903237c7"
      }
     },
     "e100f41f4d2f410497a225019ced98e4": {
      "model_module": "@jupyter-widgets/controls",
      "model_module_version": "1.4.0",
      "model_name": "ButtonModel",
      "state": {
       "description": "0",
       "layout": "IPY_MODEL_4542819798034c498e129b1d7e373ab8",
       "style": "IPY_MODEL_40c90050b4134101a6612d26fb5e198a"
      }
     },
     "e105e07272df445ebcc20c5fd81d92a3": {
      "model_module": "@jupyter-widgets/output",
      "model_module_version": "1.0.0",
      "model_name": "OutputModel",
      "state": {
       "layout": "IPY_MODEL_ce81e91d2147426a820c4c9fd6e6c58c"
      }
     },
     "e106a56ad1054ca3a308743211d1902e": {
      "model_module": "@jupyter-widgets/output",
      "model_module_version": "1.0.0",
      "model_name": "OutputModel",
      "state": {
       "layout": "IPY_MODEL_7a9301c1c05b496faca4f6f4f1c874fb"
      }
     },
     "e10c22cfed4643048ca2a9080e08aa1e": {
      "model_module": "@jupyter-widgets/controls",
      "model_module_version": "1.4.0",
      "model_name": "VBoxModel",
      "state": {
       "children": [
        "IPY_MODEL_efddc72f86b34f33a3524d027e55f7a9",
        "IPY_MODEL_0594322e96e745fe8beeb86753c83b5a"
       ],
       "layout": "IPY_MODEL_d9473d020d624c9597308cafd1a9e891"
      }
     },
     "e11806ce6c7d437a9368c03294279278": {
      "model_module": "@jupyter-widgets/base",
      "model_module_version": "1.1.0",
      "model_name": "LayoutModel",
      "state": {}
     },
     "e1296b6473c34c62b87662f7a6bf3b62": {
      "model_module": "@jupyter-widgets/controls",
      "model_module_version": "1.4.0",
      "model_name": "ButtonStyleModel",
      "state": {}
     },
     "e133811ff3b541649cb4ec82cc97cd42": {
      "model_module": "@jupyter-widgets/controls",
      "model_module_version": "1.4.0",
      "model_name": "HBoxModel",
      "state": {
       "children": [
        "IPY_MODEL_a7b44988270847eabb0bf8f369e3567b",
        "IPY_MODEL_8ff52e9bec0d4c2bbfd8b2d96b28d24c",
        "IPY_MODEL_85b809c18a6c4a50963c04ccc34d9c28"
       ],
       "layout": "IPY_MODEL_e8acbd588ee94d9ab217162ea78b23a4"
      }
     },
     "e13dd1bc830d4d6ab0de3f413f931896": {
      "model_module": "@jupyter-widgets/controls",
      "model_module_version": "1.4.0",
      "model_name": "ButtonStyleModel",
      "state": {}
     },
     "e1511da856284186bfa206423470e61a": {
      "model_module": "@jupyter-widgets/base",
      "model_module_version": "1.1.0",
      "model_name": "LayoutModel",
      "state": {}
     },
     "e1545665bbb84ae0a863bad2a3fc60d0": {
      "model_module": "@jupyter-widgets/controls",
      "model_module_version": "1.4.0",
      "model_name": "ButtonStyleModel",
      "state": {}
     },
     "e157ce6c380843c893c736be812bbde2": {
      "model_module": "@jupyter-widgets/controls",
      "model_module_version": "1.4.0",
      "model_name": "ButtonModel",
      "state": {
       "description": "9",
       "layout": "IPY_MODEL_e6eb07741d514c5ab77603784cd50441",
       "style": "IPY_MODEL_5ec339cd83ce49efa658efb74363dd19"
      }
     },
     "e1647288f1e9420a9ec4a4e68c40c979": {
      "model_module": "@jupyter-widgets/controls",
      "model_module_version": "1.4.0",
      "model_name": "TextModel",
      "state": {
       "description": "Other:",
       "layout": "IPY_MODEL_aa33edc8b7e54cf8aac5ae2989a113b6",
       "placeholder": "Hit enter to submit.",
       "style": "IPY_MODEL_70c5076b19eb433da77a5d91745c5977"
      }
     },
     "e1652ce18c7247778a11d4e15f8dbe84": {
      "model_module": "@jupyter-widgets/base",
      "model_module_version": "1.1.0",
      "model_name": "LayoutModel",
      "state": {}
     },
     "e17d8386bb134b0c86ae983db301b22d": {
      "model_module": "@jupyter-widgets/base",
      "model_module_version": "1.1.0",
      "model_name": "LayoutModel",
      "state": {
       "width": "10%"
      }
     },
     "e187b802d5f94a5cb87ec74d6a319b32": {
      "model_module": "@jupyter-widgets/controls",
      "model_module_version": "1.4.0",
      "model_name": "ButtonStyleModel",
      "state": {}
     },
     "e1978cc92bed4c83a54957bf85060af8": {
      "model_module": "@jupyter-widgets/output",
      "model_module_version": "1.0.0",
      "model_name": "OutputModel",
      "state": {
       "layout": "IPY_MODEL_0da06c8449de4f1b83f14a5e56396c6c"
      }
     },
     "e19c9f0a2ba34ba583c3966c4ba9b3df": {
      "model_module": "@jupyter-widgets/controls",
      "model_module_version": "1.4.0",
      "model_name": "ButtonStyleModel",
      "state": {}
     },
     "e19cf58cceb64221a2d93492c813a150": {
      "model_module": "@jupyter-widgets/base",
      "model_module_version": "1.1.0",
      "model_name": "LayoutModel",
      "state": {
       "width": "10%"
      }
     },
     "e1a0ac9c9866473d980a06266526a75b": {
      "model_module": "@jupyter-widgets/controls",
      "model_module_version": "1.4.0",
      "model_name": "ButtonModel",
      "state": {
       "description": "6",
       "layout": "IPY_MODEL_33658ae669604dfb9962851191f5db08",
       "style": "IPY_MODEL_d0c9d91c3ceb4c0e8c922abaed855216"
      }
     },
     "e1a1483a73284798bdb8514da664e1b8": {
      "model_module": "@jupyter-widgets/controls",
      "model_module_version": "1.4.0",
      "model_name": "ButtonModel",
      "state": {
       "description": "8",
       "layout": "IPY_MODEL_6d8f06bd0d734b0ab5392c32ac58cc89",
       "style": "IPY_MODEL_1fbe43959ab24e57b9de781ac09bd839"
      }
     },
     "e1a675185f63472094689ac20a33f2df": {
      "model_module": "@jupyter-widgets/base",
      "model_module_version": "1.1.0",
      "model_name": "LayoutModel",
      "state": {
       "width": "10%"
      }
     },
     "e1b680ba7eb3459490653967dc32f11f": {
      "model_module": "@jupyter-widgets/output",
      "model_module_version": "1.0.0",
      "model_name": "OutputModel",
      "state": {
       "layout": "IPY_MODEL_950ac9c389c84d8d91b4cf6779854a06"
      }
     },
     "e1bd857e41a24bfaa78fb2195d5123c2": {
      "model_module": "@jupyter-widgets/output",
      "model_module_version": "1.0.0",
      "model_name": "OutputModel",
      "state": {
       "layout": "IPY_MODEL_5a549dd17b5e40c59f12002a5fe971e4"
      }
     },
     "e1c8c4e015d846ffb791f9f44de94adb": {
      "model_module": "@jupyter-widgets/output",
      "model_module_version": "1.0.0",
      "model_name": "OutputModel",
      "state": {
       "layout": "IPY_MODEL_2bdda7a71cc94f8aba52031668c4de19"
      }
     },
     "e1dba3eba8e04a3bb8fd642301371b50": {
      "model_module": "@jupyter-widgets/base",
      "model_module_version": "1.1.0",
      "model_name": "LayoutModel",
      "state": {
       "width": "10%"
      }
     },
     "e1e36303499b4ed7b1e7db1764c12add": {
      "model_module": "@jupyter-widgets/controls",
      "model_module_version": "1.4.0",
      "model_name": "ButtonModel",
      "state": {
       "description": "0",
       "layout": "IPY_MODEL_02adc73550ea49b7a48e0abe56704a0a",
       "style": "IPY_MODEL_505a43a9ddac42499719c4a9f5e32a3c"
      }
     },
     "e1ed27ac900e439fa456f25b879b2ec1": {
      "model_module": "@jupyter-widgets/base",
      "model_module_version": "1.1.0",
      "model_name": "LayoutModel",
      "state": {}
     },
     "e2346ac07d4b4726aadaa464f9671548": {
      "model_module": "@jupyter-widgets/base",
      "model_module_version": "1.1.0",
      "model_name": "LayoutModel",
      "state": {}
     },
     "e234c21e164741ce9440c9d16167a906": {
      "model_module": "@jupyter-widgets/base",
      "model_module_version": "1.1.0",
      "model_name": "LayoutModel",
      "state": {}
     },
     "e23c6745e7444916b6176293aee47665": {
      "model_module": "@jupyter-widgets/output",
      "model_module_version": "1.0.0",
      "model_name": "OutputModel",
      "state": {
       "layout": "IPY_MODEL_802f4ea6a7a64356a94ed40c630b992f"
      }
     },
     "e24ecee6418f4a28b7aa63a79140d5b7": {
      "model_module": "@jupyter-widgets/controls",
      "model_module_version": "1.4.0",
      "model_name": "ButtonStyleModel",
      "state": {}
     },
     "e26f0dab7ab743c686ab09dbd8544092": {
      "model_module": "@jupyter-widgets/controls",
      "model_module_version": "1.4.0",
      "model_name": "VBoxModel",
      "state": {
       "children": [
        "IPY_MODEL_02f6b7c64fe9422cbfe1d672753897c9",
        "IPY_MODEL_43f12dd18d5b4f7db81cca7285ae41a9"
       ],
       "layout": "IPY_MODEL_c48e765b93164a689c811b7e4d90311e"
      }
     },
     "e285a048e55248f4b033291a8704565f": {
      "model_module": "@jupyter-widgets/base",
      "model_module_version": "1.1.0",
      "model_name": "LayoutModel",
      "state": {}
     },
     "e2902b77a17049cf860aa2e8cada57e5": {
      "model_module": "@jupyter-widgets/base",
      "model_module_version": "1.1.0",
      "model_name": "LayoutModel",
      "state": {}
     },
     "e2a9b82dbab741f49adf0d8403927983": {
      "model_module": "@jupyter-widgets/controls",
      "model_module_version": "1.4.0",
      "model_name": "ButtonModel",
      "state": {
       "description": "4",
       "layout": "IPY_MODEL_8ddc0fc627b1464ebb0f04c2691d8bff",
       "style": "IPY_MODEL_8f6b983160b54ed7abaead6b561b0115"
      }
     },
     "e2b333d8c51d42229d9181f5145b99f1": {
      "model_module": "@jupyter-widgets/output",
      "model_module_version": "1.0.0",
      "model_name": "OutputModel",
      "state": {
       "layout": "IPY_MODEL_676ddb720e1843b5a73d12c861fb37a0"
      }
     },
     "e2c67b6b45694afeb9bcc807217f7ff3": {
      "model_module": "@jupyter-widgets/base",
      "model_module_version": "1.1.0",
      "model_name": "LayoutModel",
      "state": {}
     },
     "e2e650a7825d4b7dac5597567608289a": {
      "model_module": "@jupyter-widgets/controls",
      "model_module_version": "1.4.0",
      "model_name": "ButtonModel",
      "state": {
       "description": "9",
       "layout": "IPY_MODEL_18bf38c8e9a340e5bb770b328e85e10a",
       "style": "IPY_MODEL_b02f85e8edc145ffaddc3557495a9d75"
      }
     },
     "e30d05b6cb6048cfb77fc53b3ffeb088": {
      "model_module": "@jupyter-widgets/output",
      "model_module_version": "1.0.0",
      "model_name": "OutputModel",
      "state": {
       "layout": "IPY_MODEL_46db198503934c6d87d637218b4dfd84"
      }
     },
     "e31b12d513294c92a4b2bd01a739735c": {
      "model_module": "@jupyter-widgets/controls",
      "model_module_version": "1.4.0",
      "model_name": "HBoxModel",
      "state": {
       "children": [
        "IPY_MODEL_9308a6ab77214376bde789c7dc47d729",
        "IPY_MODEL_25c8d0c6d4ac41eea71f76e409c7bd98",
        "IPY_MODEL_ca857b19c9144f63ade16dccdc2844b2",
        "IPY_MODEL_1aca9831c5ee4933937f3004c4944283",
        "IPY_MODEL_d04ece7b2de54f98b7f6d0b76866980f",
        "IPY_MODEL_632482051e2d4be3ba81b6c1b337b5b4",
        "IPY_MODEL_999897d97511464eb2a929c2df292c75",
        "IPY_MODEL_2045323bdb734a1189183b4991997fd9",
        "IPY_MODEL_7ea395a2493a479c9f51685e48d24f79",
        "IPY_MODEL_ec429c7450604a47bd11720254e51bdc"
       ],
       "layout": "IPY_MODEL_8fa6f885cd9a42ab9188c6e2829e5337"
      }
     },
     "e336f02b28e5474684246b07141e12e6": {
      "model_module": "@jupyter-widgets/base",
      "model_module_version": "1.1.0",
      "model_name": "LayoutModel",
      "state": {
       "width": "10%"
      }
     },
     "e36cbe4844b543a09a04ac8c9109c840": {
      "model_module": "@jupyter-widgets/base",
      "model_module_version": "1.1.0",
      "model_name": "LayoutModel",
      "state": {}
     },
     "e37b171ffa514d7e938aba575be9c9e3": {
      "model_module": "@jupyter-widgets/controls",
      "model_module_version": "1.4.0",
      "model_name": "ButtonModel",
      "state": {
       "description": "0",
       "layout": "IPY_MODEL_40f5db51be38422e8f90552944f20110",
       "style": "IPY_MODEL_fc868f9f3a854a65aaf0b68aa50a6142"
      }
     },
     "e385434b9d514f52885af30f6f22feb7": {
      "model_module": "@jupyter-widgets/controls",
      "model_module_version": "1.4.0",
      "model_name": "TextModel",
      "state": {
       "description": "Other:",
       "layout": "IPY_MODEL_1ec5626920d544d399ac78995b711c9e",
       "placeholder": "Hit enter to submit.",
       "style": "IPY_MODEL_8c6c2136ec304e4f8d3ba038d0193c97"
      }
     },
     "e391beb6c7bd4ce38e78309b0184ce62": {
      "model_module": "@jupyter-widgets/controls",
      "model_module_version": "1.4.0",
      "model_name": "VBoxModel",
      "state": {
       "children": [
        "IPY_MODEL_2db50df123e2426182990fc95ff17de0",
        "IPY_MODEL_e41fcad8dde5454aba463d7396692fce"
       ],
       "layout": "IPY_MODEL_c26e9daf1c8c45549b66a0a5040baac5"
      }
     },
     "e39da223a6d34f61ac1a5238afb2d87d": {
      "model_module": "@jupyter-widgets/base",
      "model_module_version": "1.1.0",
      "model_name": "LayoutModel",
      "state": {}
     },
     "e3ca843a90334c2e87d052dbbbd84eed": {
      "model_module": "@jupyter-widgets/controls",
      "model_module_version": "1.4.0",
      "model_name": "ButtonModel",
      "state": {
       "description": "2",
       "layout": "IPY_MODEL_231dfb1e683541b597bb014877a98fb8",
       "style": "IPY_MODEL_fd7308fa11604f3d8944c9d824f7490a"
      }
     },
     "e3d800c858454378be877390b0abc0b2": {
      "model_module": "@jupyter-widgets/output",
      "model_module_version": "1.0.0",
      "model_name": "OutputModel",
      "state": {
       "layout": "IPY_MODEL_0092113f6f9e4cf4a330a44cf52e83fa"
      }
     },
     "e3d890b85f234fdba7326738be9f2f85": {
      "model_module": "@jupyter-widgets/output",
      "model_module_version": "1.0.0",
      "model_name": "OutputModel",
      "state": {
       "layout": "IPY_MODEL_32a4c803437f466a9b957e4af733614c"
      }
     },
     "e3ef622e85fb418c952b11773b2e0a3f": {
      "model_module": "@jupyter-widgets/controls",
      "model_module_version": "1.4.0",
      "model_name": "HBoxModel",
      "state": {
       "children": [
        "IPY_MODEL_a7b44988270847eabb0bf8f369e3567b",
        "IPY_MODEL_8ff52e9bec0d4c2bbfd8b2d96b28d24c",
        "IPY_MODEL_85b809c18a6c4a50963c04ccc34d9c28"
       ],
       "layout": "IPY_MODEL_65513b3894ca46af9b66419d45f21669"
      }
     },
     "e3f0bdb090e14f2c825a856e63d5dac8": {
      "model_module": "@jupyter-widgets/base",
      "model_module_version": "1.1.0",
      "model_name": "LayoutModel",
      "state": {}
     },
     "e41fcad8dde5454aba463d7396692fce": {
      "model_module": "@jupyter-widgets/output",
      "model_module_version": "1.0.0",
      "model_name": "OutputModel",
      "state": {
       "layout": "IPY_MODEL_bd3d47e56e8c40ae8daeba0cfcfacf12"
      }
     },
     "e42b7b180be74f13a1b566cb181b9731": {
      "model_module": "@jupyter-widgets/base",
      "model_module_version": "1.1.0",
      "model_name": "LayoutModel",
      "state": {
       "width": "95%"
      }
     },
     "e43dbc2e67904ee694bec8f141ff1633": {
      "model_module": "@jupyter-widgets/controls",
      "model_module_version": "1.4.0",
      "model_name": "ButtonModel",
      "state": {
       "description": "0",
       "layout": "IPY_MODEL_41464d54387440fd9decfa9f42b4bc79",
       "style": "IPY_MODEL_af9774d470b84bd9a37eb91e6da87f94"
      }
     },
     "e46210dd83ab4fd88f81082786171cb4": {
      "model_module": "@jupyter-widgets/output",
      "model_module_version": "1.0.0",
      "model_name": "OutputModel",
      "state": {
       "layout": "IPY_MODEL_918f815e3aea424388e2b9125c3367a1"
      }
     },
     "e46cdbb4ff4642fea19f9f8ab6a85599": {
      "model_module": "@jupyter-widgets/base",
      "model_module_version": "1.1.0",
      "model_name": "LayoutModel",
      "state": {}
     },
     "e4945b8316af447ba6eeafbf5c117144": {
      "model_module": "@jupyter-widgets/output",
      "model_module_version": "1.0.0",
      "model_name": "OutputModel",
      "state": {
       "layout": "IPY_MODEL_d33b38e0d4f24a8c9edeb5aac90d2405"
      }
     },
     "e4a8f3df411149c59f15d69371c2e8a0": {
      "model_module": "@jupyter-widgets/controls",
      "model_module_version": "1.4.0",
      "model_name": "ButtonModel",
      "state": {
       "description": "9",
       "layout": "IPY_MODEL_8f0506bb13d042de86203367986f8778",
       "style": "IPY_MODEL_9de7da2daaec450c95ff116f2cf6f6ec"
      }
     },
     "e4b4243a45e044ff8d77de8167f1d7e0": {
      "model_module": "@jupyter-widgets/controls",
      "model_module_version": "1.4.0",
      "model_name": "HBoxModel",
      "state": {
       "children": [
        "IPY_MODEL_11bb28534d9244f995ad1a1ef8e6c059",
        "IPY_MODEL_1a53837e1b7e4fbfaa5c619e665ac83a"
       ],
       "layout": "IPY_MODEL_cf3ab358e00f40bab21b6966b5dd8ef4"
      }
     },
     "e4cbb8b43a71407c98afa249338561c8": {
      "model_module": "@jupyter-widgets/controls",
      "model_module_version": "1.4.0",
      "model_name": "VBoxModel",
      "state": {
       "children": [
        "IPY_MODEL_791a2a96b0544445a03c57dbec56d511",
        "IPY_MODEL_62355020e34a4f1d856311d07ac0f96b"
       ],
       "layout": "IPY_MODEL_ac868e71b9974adba5a58bcafa5b7511"
      }
     },
     "e4e74d7b0adb4d1fad312638d929e27e": {
      "model_module": "@jupyter-widgets/controls",
      "model_module_version": "1.4.0",
      "model_name": "ButtonStyleModel",
      "state": {}
     },
     "e4e8cfd4afa2489ea91a47535c23f901": {
      "model_module": "@jupyter-widgets/controls",
      "model_module_version": "1.4.0",
      "model_name": "ButtonModel",
      "state": {
       "description": "7",
       "layout": "IPY_MODEL_dec62e856d0f44df93f8b6a1869670f4",
       "style": "IPY_MODEL_8ae85966d3bc408d9b13264e95fc78be"
      }
     },
     "e4f631c131a442b398c0be807f421158": {
      "model_module": "@jupyter-widgets/base",
      "model_module_version": "1.1.0",
      "model_name": "LayoutModel",
      "state": {}
     },
     "e4f85f2ae73b4d3cbb4e826b48943b2d": {
      "model_module": "@jupyter-widgets/controls",
      "model_module_version": "1.4.0",
      "model_name": "VBoxModel",
      "state": {
       "children": [
        "IPY_MODEL_8aa5a5387f0c4e4999579d22c92e90da",
        "IPY_MODEL_fbb922e860f540a8bef0a98f69bda217"
       ],
       "layout": "IPY_MODEL_07caec2aa4b4446290618f1080a0e8c6"
      }
     },
     "e504bcf9156742ef8b71fc040e79b813": {
      "model_module": "@jupyter-widgets/base",
      "model_module_version": "1.1.0",
      "model_name": "LayoutModel",
      "state": {}
     },
     "e50bfe046912471c8bd6762974f09f11": {
      "model_module": "@jupyter-widgets/controls",
      "model_module_version": "1.4.0",
      "model_name": "ButtonStyleModel",
      "state": {}
     },
     "e51c1a4419a5423bbedbac5db8e84b88": {
      "model_module": "@jupyter-widgets/base",
      "model_module_version": "1.1.0",
      "model_name": "LayoutModel",
      "state": {}
     },
     "e53734bda349441ab2852bdd4c6d8f72": {
      "model_module": "@jupyter-widgets/base",
      "model_module_version": "1.1.0",
      "model_name": "LayoutModel",
      "state": {}
     },
     "e554e8cc04814b2a88c3368b6770ce8f": {
      "model_module": "@jupyter-widgets/base",
      "model_module_version": "1.1.0",
      "model_name": "LayoutModel",
      "state": {
       "width": "10%"
      }
     },
     "e55d3090f1d24c2a835c6273c0f283ea": {
      "model_module": "@jupyter-widgets/controls",
      "model_module_version": "1.4.0",
      "model_name": "ButtonStyleModel",
      "state": {}
     },
     "e57bd0ad9265461486705e788ea375ab": {
      "model_module": "@jupyter-widgets/base",
      "model_module_version": "1.1.0",
      "model_name": "LayoutModel",
      "state": {
       "width": "95%"
      }
     },
     "e5a721c48b5945be8ab79e09938c5eb4": {
      "model_module": "@jupyter-widgets/controls",
      "model_module_version": "1.4.0",
      "model_name": "DescriptionStyleModel",
      "state": {
       "description_width": ""
      }
     },
     "e5a81e71afd5483cbe10f4781602f1d9": {
      "model_module": "@jupyter-widgets/base",
      "model_module_version": "1.1.0",
      "model_name": "LayoutModel",
      "state": {}
     },
     "e5bf138ed2a64f02ad7d4a098a3328c5": {
      "model_module": "@jupyter-widgets/base",
      "model_module_version": "1.1.0",
      "model_name": "LayoutModel",
      "state": {
       "width": "10%"
      }
     },
     "e5e687da059b4efd9d048097678884e1": {
      "model_module": "@jupyter-widgets/output",
      "model_module_version": "1.0.0",
      "model_name": "OutputModel",
      "state": {
       "layout": "IPY_MODEL_06fd7c17733c43b8b78be995ae145565"
      }
     },
     "e5ff518da020448eaf17594cc36e1ff8": {
      "model_module": "@jupyter-widgets/controls",
      "model_module_version": "1.4.0",
      "model_name": "VBoxModel",
      "state": {
       "children": [
        "IPY_MODEL_a6c2f7f518fe4b23b409b1206a648566",
        "IPY_MODEL_11b5440b7d894b558e94e2f41c46813d"
       ],
       "layout": "IPY_MODEL_ad9842f040964ac284a481acad4f9ea8"
      }
     },
     "e611d71fbe324c9db5b758c3787d652a": {
      "model_module": "@jupyter-widgets/controls",
      "model_module_version": "1.4.0",
      "model_name": "ButtonModel",
      "state": {
       "description": "5",
       "layout": "IPY_MODEL_6f53b3a703f149e6a0a45bed9d52542d",
       "style": "IPY_MODEL_3fe22e3cf3234cdf84c43a16a3e74b66"
      }
     },
     "e619ad023a394c499de814ca04c92148": {
      "model_module": "@jupyter-widgets/controls",
      "model_module_version": "1.4.0",
      "model_name": "ButtonStyleModel",
      "state": {}
     },
     "e62c87e13b99401891f980e0f7e4f505": {
      "model_module": "@jupyter-widgets/base",
      "model_module_version": "1.1.0",
      "model_name": "LayoutModel",
      "state": {
       "width": "95%"
      }
     },
     "e6333b2c674a425ba451b7a84cfa7a74": {
      "model_module": "@jupyter-widgets/controls",
      "model_module_version": "1.4.0",
      "model_name": "ButtonStyleModel",
      "state": {}
     },
     "e637fa37aaec41b48c3b66384f29685c": {
      "model_module": "@jupyter-widgets/controls",
      "model_module_version": "1.4.0",
      "model_name": "VBoxModel",
      "state": {
       "children": [
        "IPY_MODEL_e611d71fbe324c9db5b758c3787d652a",
        "IPY_MODEL_8331fe4573884c798d9ca1aab3dca794"
       ],
       "layout": "IPY_MODEL_6a7beef4167f41e7a37d120e19e56420"
      }
     },
     "e660a4f3edfc4d1d88ac475f4b1c73e0": {
      "model_module": "@jupyter-widgets/base",
      "model_module_version": "1.1.0",
      "model_name": "LayoutModel",
      "state": {}
     },
     "e6ac93cea5084724902c87bcc811fabb": {
      "model_module": "@jupyter-widgets/controls",
      "model_module_version": "1.4.0",
      "model_name": "HBoxModel",
      "state": {
       "children": [
        "IPY_MODEL_f648339788f14fa5825c499e8924be19",
        "IPY_MODEL_ad14b522526a4bb7a71f47c9906462f0"
       ],
       "layout": "IPY_MODEL_c5f2e1e436c54f43a2992dbcb8b02fed"
      }
     },
     "e6beca1222b94e46801c077ad651a087": {
      "model_module": "@jupyter-widgets/base",
      "model_module_version": "1.1.0",
      "model_name": "LayoutModel",
      "state": {
       "width": "10%"
      }
     },
     "e6eb07741d514c5ab77603784cd50441": {
      "model_module": "@jupyter-widgets/base",
      "model_module_version": "1.1.0",
      "model_name": "LayoutModel",
      "state": {
       "width": "95%"
      }
     },
     "e6fa0e214a114cb09aa4c54facebe221": {
      "model_module": "@jupyter-widgets/controls",
      "model_module_version": "1.4.0",
      "model_name": "ButtonStyleModel",
      "state": {}
     },
     "e719220e39e94d7eb8184bd4ecd9a5fb": {
      "model_module": "@jupyter-widgets/controls",
      "model_module_version": "1.4.0",
      "model_name": "VBoxModel",
      "state": {
       "children": [
        "IPY_MODEL_7c6c0ca545f14a5eb15d17c6542b9226",
        "IPY_MODEL_9ba69d56a18747bda56f34684d196c9d"
       ],
       "layout": "IPY_MODEL_700975c75cbc4e65afbfd26bdf2fda22"
      }
     },
     "e7732d0d997a4f5ba59dc68541a640ae": {
      "model_module": "@jupyter-widgets/controls",
      "model_module_version": "1.4.0",
      "model_name": "ButtonModel",
      "state": {
       "description": "4",
       "layout": "IPY_MODEL_2a3f2920a8fd4bf8a85bf441881e9c5f",
       "style": "IPY_MODEL_62ba6ead3cce4c6c8681152bacbfb60f"
      }
     },
     "e77e014b7edf4a78b4d7df2f955fe465": {
      "model_module": "@jupyter-widgets/output",
      "model_module_version": "1.0.0",
      "model_name": "OutputModel",
      "state": {
       "layout": "IPY_MODEL_b902ee3df8204db49df4b9272919fa68"
      }
     },
     "e79eda7567134eea9274710a7f670e3f": {
      "model_module": "@jupyter-widgets/base",
      "model_module_version": "1.1.0",
      "model_name": "LayoutModel",
      "state": {
       "width": "10%"
      }
     },
     "e7c044a8d8bd4a9780e9b85feef72115": {
      "model_module": "@jupyter-widgets/controls",
      "model_module_version": "1.4.0",
      "model_name": "ButtonModel",
      "state": {
       "description": "8",
       "layout": "IPY_MODEL_cbd69a6e029143138a6145d27e29bfc7",
       "style": "IPY_MODEL_92018de4c9654bbb9f7ae7cc3e2ea3ae"
      }
     },
     "e7c95efe8b434d2fac3de52be726d3d5": {
      "model_module": "@jupyter-widgets/base",
      "model_module_version": "1.1.0",
      "model_name": "LayoutModel",
      "state": {
       "width": "95%"
      }
     },
     "e7d356d7dc2c420fa05929032cc75610": {
      "model_module": "@jupyter-widgets/base",
      "model_module_version": "1.1.0",
      "model_name": "LayoutModel",
      "state": {
       "width": "95%"
      }
     },
     "e7da9b654cfb4430845f214b83873b74": {
      "model_module": "@jupyter-widgets/controls",
      "model_module_version": "1.4.0",
      "model_name": "ButtonModel",
      "state": {
       "description": "6",
       "layout": "IPY_MODEL_4f3e909f68954a46b50aba2e10bb6530",
       "style": "IPY_MODEL_a1b1ad1d626e4db187c7ac6ad2434981"
      }
     },
     "e7e69a48fc484851ab8ea36ba93be5a5": {
      "model_module": "@jupyter-widgets/base",
      "model_module_version": "1.1.0",
      "model_name": "LayoutModel",
      "state": {
       "width": "95%"
      }
     },
     "e7f820d6889540e4b1ee5d02e8365862": {
      "model_module": "@jupyter-widgets/controls",
      "model_module_version": "1.4.0",
      "model_name": "VBoxModel",
      "state": {
       "children": [
        "IPY_MODEL_5cfc5378f92f4a9abaa1a0ea48bdee91",
        "IPY_MODEL_fe807e81694d4e849fa63b8d77ac4ae5"
       ],
       "layout": "IPY_MODEL_ef2ca808d675449ebcb828511108a896"
      }
     },
     "e832dc27348744febd378542d5af3614": {
      "model_module": "@jupyter-widgets/controls",
      "model_module_version": "1.4.0",
      "model_name": "ButtonModel",
      "state": {
       "description": "8",
       "layout": "IPY_MODEL_3e85eee569a74324b9ad74df7c671a34",
       "style": "IPY_MODEL_53848eef7f344ec6a8eb06861bffed80"
      }
     },
     "e84ef51fca2f406b9681e19ad3f68e54": {
      "model_module": "@jupyter-widgets/controls",
      "model_module_version": "1.4.0",
      "model_name": "ButtonStyleModel",
      "state": {}
     },
     "e85b28f431de4e009f3e2858306b4771": {
      "model_module": "@jupyter-widgets/output",
      "model_module_version": "1.0.0",
      "model_name": "OutputModel",
      "state": {
       "layout": "IPY_MODEL_efdff6c009a54cf0875d42881501d585"
      }
     },
     "e85f7df319e24f76baf682be0900b23d": {
      "model_module": "@jupyter-widgets/controls",
      "model_module_version": "1.4.0",
      "model_name": "VBoxModel",
      "state": {
       "children": [
        "IPY_MODEL_d54b1d2a108d4223b761d9d2e6d34f47",
        "IPY_MODEL_d3b199e5a9534d1084c34bbb194b3a05"
       ],
       "layout": "IPY_MODEL_11ca473002cb410f805837716e5c1518"
      }
     },
     "e8664b3b257848cfa799010e49665f5c": {
      "model_module": "@jupyter-widgets/base",
      "model_module_version": "1.1.0",
      "model_name": "LayoutModel",
      "state": {}
     },
     "e870a9ef0bdd4253b193add3d81e9772": {
      "model_module": "@jupyter-widgets/controls",
      "model_module_version": "1.4.0",
      "model_name": "ButtonModel",
      "state": {
       "description": "6",
       "layout": "IPY_MODEL_713174026fed4ca1a464f8c143fb9861",
       "style": "IPY_MODEL_a65ee2312fa9465b841e6e029f5a4d3f"
      }
     },
     "e89f3ec4c6174ba99706ca07dab7eeb7": {
      "model_module": "@jupyter-widgets/base",
      "model_module_version": "1.1.0",
      "model_name": "LayoutModel",
      "state": {
       "width": "10%"
      }
     },
     "e8acbd588ee94d9ab217162ea78b23a4": {
      "model_module": "@jupyter-widgets/base",
      "model_module_version": "1.1.0",
      "model_name": "LayoutModel",
      "state": {}
     },
     "e8bad9350c9e4d8a8b6e2a11bc3cd1ba": {
      "model_module": "@jupyter-widgets/controls",
      "model_module_version": "1.4.0",
      "model_name": "HBoxModel",
      "state": {
       "children": [
        "IPY_MODEL_bbaadc8fe9e34cd79f580746a3425ba7",
        "IPY_MODEL_8ba6d50c6a5b40f891921f5a701e7777",
        "IPY_MODEL_c32cebb0ce7c4e4db9e4588a1cb1c769",
        "IPY_MODEL_ae01417fb0cb4656b23572dc39179afa",
        "IPY_MODEL_ac50ca917540481db04785deab9ed8bb",
        "IPY_MODEL_32332bc12bbb43cbbdb709c55f3042fd",
        "IPY_MODEL_dbc5a455df0c402fa3d59c87b0716e5a",
        "IPY_MODEL_da917b870b5147d3896ae54e50a37305",
        "IPY_MODEL_1ad08a2d275e4bf991fe4cf6c914bf88",
        "IPY_MODEL_f28413c975e2435e87db7515c6c30201"
       ],
       "layout": "IPY_MODEL_a7183e0942cb407f8426c0a31f085c09"
      }
     },
     "e8c75a7bf2a0449e86165feda9d6b558": {
      "model_module": "@jupyter-widgets/controls",
      "model_module_version": "1.4.0",
      "model_name": "VBoxModel",
      "state": {
       "children": [
        "IPY_MODEL_d744e5157dfc4dec96869416b0b5c830",
        "IPY_MODEL_bf2210295b914727a352b4d62117b333"
       ],
       "layout": "IPY_MODEL_8bbecaebd39349c8a254120c455bb601"
      }
     },
     "e91339fd9d92460baa619584e2f90451": {
      "model_module": "@jupyter-widgets/base",
      "model_module_version": "1.1.0",
      "model_name": "LayoutModel",
      "state": {}
     },
     "e937c8c0ec4e42df80150aca2b106e40": {
      "model_module": "@jupyter-widgets/base",
      "model_module_version": "1.1.0",
      "model_name": "LayoutModel",
      "state": {
       "justify_content": "space-between"
      }
     },
     "e9449512d92b4a8491c4defa90bcfd80": {
      "model_module": "@jupyter-widgets/controls",
      "model_module_version": "1.4.0",
      "model_name": "VBoxModel",
      "state": {
       "children": [
        "IPY_MODEL_e1a0ac9c9866473d980a06266526a75b",
        "IPY_MODEL_fa32b9d607e84378947fa7326509966f"
       ],
       "layout": "IPY_MODEL_14f41b9fac2e4fc4a816a6edbe88c093"
      }
     },
     "e94c774cddc14313bce122f5ece0f1dc": {
      "model_module": "@jupyter-widgets/controls",
      "model_module_version": "1.4.0",
      "model_name": "TextModel",
      "state": {
       "description": "Other:",
       "layout": "IPY_MODEL_0f38f930bf7a45b08065d3b676e72d25",
       "placeholder": "Hit enter to submit.",
       "style": "IPY_MODEL_5d4d3e3641b541d1a4a077fe25c5145e"
      }
     },
     "e9686a7e6ca942ae92d694d9b250118e": {
      "model_module": "@jupyter-widgets/base",
      "model_module_version": "1.1.0",
      "model_name": "LayoutModel",
      "state": {
       "width": "10%"
      }
     },
     "e97c516a93b542bd8c7f9d068053ea07": {
      "model_module": "@jupyter-widgets/base",
      "model_module_version": "1.1.0",
      "model_name": "LayoutModel",
      "state": {}
     },
     "e99f49422f644ddf865f76eb75ce54b0": {
      "model_module": "@jupyter-widgets/base",
      "model_module_version": "1.1.0",
      "model_name": "LayoutModel",
      "state": {
       "width": "95%"
      }
     },
     "e9b3590ecde343398af87acea8f324ba": {
      "model_module": "@jupyter-widgets/base",
      "model_module_version": "1.1.0",
      "model_name": "LayoutModel",
      "state": {}
     },
     "ea06d1e4853a44698dc7060342b41273": {
      "model_module": "@jupyter-widgets/base",
      "model_module_version": "1.1.0",
      "model_name": "LayoutModel",
      "state": {
       "width": "95%"
      }
     },
     "ea096cba58154166aac54a28b48e4852": {
      "model_module": "@jupyter-widgets/base",
      "model_module_version": "1.1.0",
      "model_name": "LayoutModel",
      "state": {
       "width": "95%"
      }
     },
     "ea108837109b4fc8b9e96fdd616955e4": {
      "model_module": "@jupyter-widgets/controls",
      "model_module_version": "1.4.0",
      "model_name": "ButtonStyleModel",
      "state": {}
     },
     "ea160220e6ca47f39d4cbd20db31963b": {
      "model_module": "@jupyter-widgets/output",
      "model_module_version": "1.0.0",
      "model_name": "OutputModel",
      "state": {
       "layout": "IPY_MODEL_e2c67b6b45694afeb9bcc807217f7ff3"
      }
     },
     "ea35f12186cd4d68827f14c91aec3b92": {
      "model_module": "@jupyter-widgets/base",
      "model_module_version": "1.1.0",
      "model_name": "LayoutModel",
      "state": {}
     },
     "ea407a00c17b4195927d7d7095ad233a": {
      "model_module": "@jupyter-widgets/base",
      "model_module_version": "1.1.0",
      "model_name": "LayoutModel",
      "state": {
       "width": "95%"
      }
     },
     "ea5b6289471a4662a57b7756d541529c": {
      "model_module": "@jupyter-widgets/base",
      "model_module_version": "1.1.0",
      "model_name": "LayoutModel",
      "state": {}
     },
     "ea787939963f4c01876c801ecae5ba25": {
      "model_module": "@jupyter-widgets/base",
      "model_module_version": "1.1.0",
      "model_name": "LayoutModel",
      "state": {
       "width": "10%"
      }
     },
     "ea7f527faf334d47ba6433eb28688081": {
      "model_module": "@jupyter-widgets/controls",
      "model_module_version": "1.4.0",
      "model_name": "TextModel",
      "state": {
       "description": "Other:",
       "layout": "IPY_MODEL_ba49a087350f48f49ecb8c5f18bcd389",
       "placeholder": "Hit enter to submit.",
       "style": "IPY_MODEL_836c70ef27a74bed9e5bd141eb4d80d1"
      }
     },
     "ea82e19779804ce1bb0e448faa54bec0": {
      "model_module": "@jupyter-widgets/controls",
      "model_module_version": "1.4.0",
      "model_name": "ButtonModel",
      "state": {
       "description": "4",
       "layout": "IPY_MODEL_3a8078bc70364c248fbf91f2d856ee5c",
       "style": "IPY_MODEL_1244a9a08c684b4d9406bac1326d15e7"
      }
     },
     "ea83a46835f246c5adf7ee50a5119376": {
      "model_module": "@jupyter-widgets/base",
      "model_module_version": "1.1.0",
      "model_name": "LayoutModel",
      "state": {}
     },
     "ea8c6b22e7a44b63935e88bc3fd6d4b8": {
      "model_module": "@jupyter-widgets/controls",
      "model_module_version": "1.4.0",
      "model_name": "VBoxModel",
      "state": {
       "children": [
        "IPY_MODEL_90a7209486bb46b4946a69df0f76f4ac",
        "IPY_MODEL_aa761de909f845598f46e895091ada46"
       ],
       "layout": "IPY_MODEL_5d4d9627da26482ea07c2ace48de7fdd"
      }
     },
     "eab0b65a172e45e080189c4a102cb1ce": {
      "model_module": "@jupyter-widgets/controls",
      "model_module_version": "1.4.0",
      "model_name": "ButtonModel",
      "state": {
       "description": "4",
       "layout": "IPY_MODEL_baa542d060df4de394784c4f80ea3d17",
       "style": "IPY_MODEL_ffd86fad77da47d784220083ea4c8e3e"
      }
     },
     "eab7d3006f2a4aca87c83ce49b2813fb": {
      "model_module": "@jupyter-widgets/controls",
      "model_module_version": "1.4.0",
      "model_name": "ButtonModel",
      "state": {
       "description": "0",
       "layout": "IPY_MODEL_c6f2c5be53104469b56831d07d2c964a",
       "style": "IPY_MODEL_ece728f955a24dd786e53ce195866206"
      }
     },
     "eac6e7dd5ef44b5fb94198aa5329d1fa": {
      "model_module": "@jupyter-widgets/controls",
      "model_module_version": "1.4.0",
      "model_name": "ButtonStyleModel",
      "state": {}
     },
     "eaebc0982903444aa7e8aa0c06c4205b": {
      "model_module": "@jupyter-widgets/controls",
      "model_module_version": "1.4.0",
      "model_name": "VBoxModel",
      "state": {
       "children": [
        "IPY_MODEL_52aef88e35e244eeaf9d96c0c73e22a4",
        "IPY_MODEL_5a56e2fc343f44ca896bd32df8f7bebc"
       ],
       "layout": "IPY_MODEL_4593eaf321cf49f385f850dc032a6450"
      }
     },
     "eaf569ac4c7f4a6586f6faa3f693e3f4": {
      "model_module": "@jupyter-widgets/base",
      "model_module_version": "1.1.0",
      "model_name": "LayoutModel",
      "state": {
       "justify_content": "space-between"
      }
     },
     "eaf7ed0b495547839f9b6416bd799c6c": {
      "model_module": "@jupyter-widgets/controls",
      "model_module_version": "1.4.0",
      "model_name": "ButtonModel",
      "state": {
       "description": "7",
       "layout": "IPY_MODEL_6bf42c0719f64010bf243eff03109b05",
       "style": "IPY_MODEL_0e32143b0ea74da2894310fd912c96d1"
      }
     },
     "eb21ad5708224673b5aa0324580e3657": {
      "model_module": "@jupyter-widgets/base",
      "model_module_version": "1.1.0",
      "model_name": "LayoutModel",
      "state": {
       "width": "10%"
      }
     },
     "eb2b6deb8da44fd7a1c35dcb91fa741b": {
      "model_module": "@jupyter-widgets/base",
      "model_module_version": "1.1.0",
      "model_name": "LayoutModel",
      "state": {
       "width": "95%"
      }
     },
     "eb36c94c84e5494b8b211fdfbe0c334c": {
      "model_module": "@jupyter-widgets/base",
      "model_module_version": "1.1.0",
      "model_name": "LayoutModel",
      "state": {}
     },
     "eb5078457766429c844ab7b28fa9ebb0": {
      "model_module": "@jupyter-widgets/base",
      "model_module_version": "1.1.0",
      "model_name": "LayoutModel",
      "state": {}
     },
     "eb5d060992aa4c47ac17666c897f6d5d": {
      "model_module": "@jupyter-widgets/base",
      "model_module_version": "1.1.0",
      "model_name": "LayoutModel",
      "state": {
       "width": "10%"
      }
     },
     "eb616dadd70e4b0cac0c3554edfab502": {
      "model_module": "@jupyter-widgets/base",
      "model_module_version": "1.1.0",
      "model_name": "LayoutModel",
      "state": {}
     },
     "eb6342f719284bfc987fc395665c874d": {
      "model_module": "@jupyter-widgets/controls",
      "model_module_version": "1.4.0",
      "model_name": "ButtonModel",
      "state": {
       "description": "9",
       "layout": "IPY_MODEL_950a9901d24240e49aaec0475fc8118c",
       "style": "IPY_MODEL_6b92d1a21a544ea3978b24d4c6b8ed0a"
      }
     },
     "eb842388408f4fa4a05145b45669a969": {
      "model_module": "@jupyter-widgets/base",
      "model_module_version": "1.1.0",
      "model_name": "LayoutModel",
      "state": {}
     },
     "ebaa6ba149734c8380d775ce78c229b8": {
      "model_module": "@jupyter-widgets/controls",
      "model_module_version": "1.4.0",
      "model_name": "ButtonModel",
      "state": {
       "description": "1",
       "layout": "IPY_MODEL_e62c87e13b99401891f980e0f7e4f505",
       "style": "IPY_MODEL_937f52a5e275475488569cc3809f2c7c"
      }
     },
     "ebac152dee5c45278859d4c97aa8712a": {
      "model_module": "@jupyter-widgets/controls",
      "model_module_version": "1.4.0",
      "model_name": "VBoxModel",
      "state": {
       "children": [
        "IPY_MODEL_185bfee17af74f7f910cbda92ef3a8da",
        "IPY_MODEL_c476a5e1878e4eafb1bf7c4ee89a6f3f"
       ],
       "layout": "IPY_MODEL_66b7a1bdb0344687a589003df64746d8"
      }
     },
     "ebbfbaf507d44c6493625194486b62cc": {
      "model_module": "@jupyter-widgets/controls",
      "model_module_version": "1.4.0",
      "model_name": "HBoxModel",
      "state": {
       "children": [
        "IPY_MODEL_cdecdb101ef34c288e6dd060f141545a",
        "IPY_MODEL_cccc26a205fc46b5b4b1d57cf256d11a"
       ],
       "layout": "IPY_MODEL_3f97d70aec1949628426b3e2d724d396"
      }
     },
     "ebed63da8f734f0eb65d966543c83883": {
      "model_module": "@jupyter-widgets/controls",
      "model_module_version": "1.4.0",
      "model_name": "DescriptionStyleModel",
      "state": {
       "description_width": ""
      }
     },
     "ebf3ae5bbbf64d139afccd8a31ca9fa6": {
      "model_module": "@jupyter-widgets/base",
      "model_module_version": "1.1.0",
      "model_name": "LayoutModel",
      "state": {}
     },
     "ec0db5c29dbc41e7aa84603f03184a46": {
      "model_module": "@jupyter-widgets/controls",
      "model_module_version": "1.4.0",
      "model_name": "ButtonStyleModel",
      "state": {}
     },
     "ec14cb1fe51348e4bd1de66859271086": {
      "model_module": "@jupyter-widgets/controls",
      "model_module_version": "1.4.0",
      "model_name": "DescriptionStyleModel",
      "state": {
       "description_width": ""
      }
     },
     "ec280ff7c61f42dfbf5099480b5d1e35": {
      "model_module": "@jupyter-widgets/output",
      "model_module_version": "1.0.0",
      "model_name": "OutputModel",
      "state": {
       "layout": "IPY_MODEL_a7b209b4c3184d6ea57edf0300a84d8f"
      }
     },
     "ec2844d017da4983b477c3e63fbe541a": {
      "model_module": "@jupyter-widgets/controls",
      "model_module_version": "1.4.0",
      "model_name": "VBoxModel",
      "state": {
       "children": [
        "IPY_MODEL_32225c7ee313479389d8fdffb3c3796f",
        "IPY_MODEL_1bc99cff066b4cc9b5df568c3c764d3e"
       ],
       "layout": "IPY_MODEL_aaf58762409d41b1a999d0e81094fae5"
      }
     },
     "ec3f2e094ff34278b0597bac09ba162d": {
      "model_module": "@jupyter-widgets/controls",
      "model_module_version": "1.4.0",
      "model_name": "ButtonStyleModel",
      "state": {}
     },
     "ec429c7450604a47bd11720254e51bdc": {
      "model_module": "@jupyter-widgets/controls",
      "model_module_version": "1.4.0",
      "model_name": "VBoxModel",
      "state": {
       "children": [
        "IPY_MODEL_03f7958ffbc54bab84de6089859515b6",
        "IPY_MODEL_f131932f27874498ba175e4671d2f3fd"
       ],
       "layout": "IPY_MODEL_115974cd7cdd4880a819d1051ebba158"
      }
     },
     "ec55fbbd26874ab6bf6121dd23e31c31": {
      "model_module": "@jupyter-widgets/controls",
      "model_module_version": "1.4.0",
      "model_name": "HBoxModel",
      "state": {
       "children": [
        "IPY_MODEL_a7b44988270847eabb0bf8f369e3567b",
        "IPY_MODEL_8ff52e9bec0d4c2bbfd8b2d96b28d24c",
        "IPY_MODEL_85b809c18a6c4a50963c04ccc34d9c28"
       ],
       "layout": "IPY_MODEL_03ba6a5f9c2a497892c3ab071af33515"
      }
     },
     "ec6603f8bb4046a595e4736ccf7f0baa": {
      "model_module": "@jupyter-widgets/base",
      "model_module_version": "1.1.0",
      "model_name": "LayoutModel",
      "state": {}
     },
     "ec6d2d41625248998233e4e6b8846a6d": {
      "model_module": "@jupyter-widgets/base",
      "model_module_version": "1.1.0",
      "model_name": "LayoutModel",
      "state": {}
     },
     "ec80780a352b4c40b73e0111bc6ad710": {
      "model_module": "@jupyter-widgets/controls",
      "model_module_version": "1.4.0",
      "model_name": "VBoxModel",
      "state": {
       "children": [
        "IPY_MODEL_8a381e5a50664f07acb694405cb7f1f8",
        "IPY_MODEL_635392a522a448a5a33f1f30104dd519"
       ],
       "layout": "IPY_MODEL_56065177eb8e4e3396612139622f969b"
      }
     },
     "ec84cd53be054889ac6cf8e270b6284e": {
      "model_module": "@jupyter-widgets/controls",
      "model_module_version": "1.4.0",
      "model_name": "ButtonStyleModel",
      "state": {}
     },
     "ec8ab157d82e4ba5b57326a3b5bccd6f": {
      "model_module": "@jupyter-widgets/controls",
      "model_module_version": "1.4.0",
      "model_name": "ButtonModel",
      "state": {
       "description": "8",
       "layout": "IPY_MODEL_1c06199bd92948f39dacb4fd11097cd8",
       "style": "IPY_MODEL_31baafd389a1475896e9d502675b709d"
      }
     },
     "ec94fa629de54110b2803812ae8c9a74": {
      "model_module": "@jupyter-widgets/base",
      "model_module_version": "1.1.0",
      "model_name": "LayoutModel",
      "state": {}
     },
     "eca5c64534864844a24e89c674f23405": {
      "model_module": "@jupyter-widgets/controls",
      "model_module_version": "1.4.0",
      "model_name": "HBoxModel",
      "state": {
       "children": [
        "IPY_MODEL_dd4ebf1170ee48b6ba45f6850495c847",
        "IPY_MODEL_4ff02178088f4359a5523e7ff69db0c1",
        "IPY_MODEL_1e86ff431f06437993563d9723fb714d",
        "IPY_MODEL_4ea85a9f3ee74c70b212cdab4023c3d2",
        "IPY_MODEL_1b6482541ec74f7f93f3eb1e407fdf40",
        "IPY_MODEL_a206a707cd6948abbbcd83afeafc2c03",
        "IPY_MODEL_e9449512d92b4a8491c4defa90bcfd80",
        "IPY_MODEL_25f1d83fafad4dbebaae986da7845313",
        "IPY_MODEL_aa9f6c5a9ee2480a90bb065fb392e78e",
        "IPY_MODEL_115a13d3c20d46c9bebf4ec18e265de2"
       ],
       "layout": "IPY_MODEL_9cdff3fd7b0747d19c6455e4e1c6dd8f"
      }
     },
     "ecb1423535bb4ae3b247e0cc01752d78": {
      "model_module": "@jupyter-widgets/controls",
      "model_module_version": "1.4.0",
      "model_name": "DescriptionStyleModel",
      "state": {
       "description_width": ""
      }
     },
     "eccaef341b9e4df9a2be734640fe370a": {
      "model_module": "@jupyter-widgets/base",
      "model_module_version": "1.1.0",
      "model_name": "LayoutModel",
      "state": {
       "width": "10%"
      }
     },
     "ece728f955a24dd786e53ce195866206": {
      "model_module": "@jupyter-widgets/controls",
      "model_module_version": "1.4.0",
      "model_name": "ButtonStyleModel",
      "state": {}
     },
     "ed14e77d232f4526ad99757beaccc397": {
      "model_module": "@jupyter-widgets/controls",
      "model_module_version": "1.4.0",
      "model_name": "ButtonStyleModel",
      "state": {}
     },
     "ed173c6d7f1f4c88bd145a371f088441": {
      "model_module": "@jupyter-widgets/output",
      "model_module_version": "1.0.0",
      "model_name": "OutputModel",
      "state": {
       "layout": "IPY_MODEL_f0a9ae3dd6e143ee9f0c2087b4207c4b"
      }
     },
     "ed1bb5153e98455987ea9c48edfa2e94": {
      "model_module": "@jupyter-widgets/controls",
      "model_module_version": "1.4.0",
      "model_name": "HBoxModel",
      "state": {
       "children": [
        "IPY_MODEL_a7b44988270847eabb0bf8f369e3567b",
        "IPY_MODEL_8ff52e9bec0d4c2bbfd8b2d96b28d24c",
        "IPY_MODEL_85b809c18a6c4a50963c04ccc34d9c28"
       ],
       "layout": "IPY_MODEL_ba0fb510e6b045d18af336430248980b"
      }
     },
     "ed2eb3fe8510420382cf8f013d203821": {
      "model_module": "@jupyter-widgets/controls",
      "model_module_version": "1.4.0",
      "model_name": "ButtonModel",
      "state": {
       "description": "9",
       "layout": "IPY_MODEL_a8d4b2daa6ba460196ddee997298a8b5",
       "style": "IPY_MODEL_ca6b0c7e25c94d1db869cae864861796"
      }
     },
     "ed39a2e661144ee8aceae52a3881059c": {
      "model_module": "@jupyter-widgets/base",
      "model_module_version": "1.1.0",
      "model_name": "LayoutModel",
      "state": {}
     },
     "ed4430dc665443a9bbcf7731e33b055d": {
      "model_module": "@jupyter-widgets/controls",
      "model_module_version": "1.4.0",
      "model_name": "VBoxModel",
      "state": {
       "children": [
        "IPY_MODEL_57dd2722b14c42ec958059c28908b123",
        "IPY_MODEL_7738c453cb6a4542ab07e122e3577500"
       ],
       "layout": "IPY_MODEL_6a453ba2ce4e427291dfe1349877e179"
      }
     },
     "ed53558fa85a4dfaa59a078cc933a897": {
      "model_module": "@jupyter-widgets/controls",
      "model_module_version": "1.4.0",
      "model_name": "ButtonModel",
      "state": {
       "description": "6",
       "layout": "IPY_MODEL_6f2bd106903c464a9e1ed0060bda352f",
       "style": "IPY_MODEL_b183231523784190ab2dc3ea0ba56c22"
      }
     },
     "ed5544369d244d988d7bf019d3278de4": {
      "model_module": "@jupyter-widgets/base",
      "model_module_version": "1.1.0",
      "model_name": "LayoutModel",
      "state": {}
     },
     "ed668cced901489eacea933d1fe7fb30": {
      "model_module": "@jupyter-widgets/base",
      "model_module_version": "1.1.0",
      "model_name": "LayoutModel",
      "state": {
       "width": "10%"
      }
     },
     "ed6cfde5e52d42f3a596a1185e13d44a": {
      "model_module": "@jupyter-widgets/controls",
      "model_module_version": "1.4.0",
      "model_name": "HBoxModel",
      "state": {
       "children": [
        "IPY_MODEL_b8bee993c1684d13abbca07e148a04de",
        "IPY_MODEL_c2883ec16b4047f69a730432c3d1d94a",
        "IPY_MODEL_847be8ef7874491a8095671f3b4ec5d7",
        "IPY_MODEL_384402dbbd374182aeafc5809af53506",
        "IPY_MODEL_4efdc6c0f5e84c3599faee8e08e80238",
        "IPY_MODEL_ed4430dc665443a9bbcf7731e33b055d",
        "IPY_MODEL_da814df744ea4f9e9bf8afca7a824a4e",
        "IPY_MODEL_2f9789309d7b4688831b64d55d2bde97",
        "IPY_MODEL_4b9111e2e32046ba858020592e863d98",
        "IPY_MODEL_595d2b4876c8480b9757d6b9a5005054"
       ],
       "layout": "IPY_MODEL_c38b7a44fdd44191860fd8f2cd7166e1"
      }
     },
     "ed76f5e8569f499ebc25f5fb15919a46": {
      "model_module": "@jupyter-widgets/controls",
      "model_module_version": "1.4.0",
      "model_name": "DescriptionStyleModel",
      "state": {
       "description_width": ""
      }
     },
     "ed7e367f50fb43e2a7a771d2aeecdfa8": {
      "model_module": "@jupyter-widgets/base",
      "model_module_version": "1.1.0",
      "model_name": "LayoutModel",
      "state": {
       "width": "10%"
      }
     },
     "edc730d574194682a507d18fa2408881": {
      "model_module": "@jupyter-widgets/controls",
      "model_module_version": "1.4.0",
      "model_name": "VBoxModel",
      "state": {
       "children": [
        "IPY_MODEL_c9afe8a934f84cf68cf80a30b1b20adb",
        "IPY_MODEL_8a031066e1194facb022cbc81743b2e1"
       ],
       "layout": "IPY_MODEL_d59a46d27ef74fc78db7ad87492be4d9"
      }
     },
     "edcfeac89d70488494e772fcbe18f50a": {
      "model_module": "@jupyter-widgets/base",
      "model_module_version": "1.1.0",
      "model_name": "LayoutModel",
      "state": {
       "width": "10%"
      }
     },
     "edf5f724e428457d87eee9eb20207085": {
      "model_module": "@jupyter-widgets/base",
      "model_module_version": "1.1.0",
      "model_name": "LayoutModel",
      "state": {
       "width": "10%"
      }
     },
     "ee0cff4bf34543128666d8fb2afecb92": {
      "model_module": "@jupyter-widgets/output",
      "model_module_version": "1.0.0",
      "model_name": "OutputModel",
      "state": {
       "layout": "IPY_MODEL_f0ffb340e0274efb96b2a2c37734a477"
      }
     },
     "ee577d62eba541f387cb6468a6e50349": {
      "model_module": "@jupyter-widgets/controls",
      "model_module_version": "1.4.0",
      "model_name": "HBoxModel",
      "state": {
       "children": [
        "IPY_MODEL_9cdaa3a5682b4e0e97b33edc9282e2b2",
        "IPY_MODEL_1efd667fcd5f40188fec3d68c5be740e"
       ],
       "layout": "IPY_MODEL_f0b42214fa81480eb8cfa531156ed92c"
      }
     },
     "ee755efa49ae41ae97aa6875fd27e3bf": {
      "model_module": "@jupyter-widgets/controls",
      "model_module_version": "1.4.0",
      "model_name": "DescriptionStyleModel",
      "state": {
       "description_width": ""
      }
     },
     "ee81f5c111ef444699d9e2584fc93cda": {
      "model_module": "@jupyter-widgets/base",
      "model_module_version": "1.1.0",
      "model_name": "LayoutModel",
      "state": {
       "width": "95%"
      }
     },
     "ee8910af544242be8815e32bf2d4517b": {
      "model_module": "@jupyter-widgets/controls",
      "model_module_version": "1.4.0",
      "model_name": "ButtonStyleModel",
      "state": {}
     },
     "ee8dc3b153b3408dbde36c8dd1436ed0": {
      "model_module": "@jupyter-widgets/controls",
      "model_module_version": "1.4.0",
      "model_name": "ButtonModel",
      "state": {
       "description": "4",
       "layout": "IPY_MODEL_47f1c6ebc04f471f8a1aa5529d2c9801",
       "style": "IPY_MODEL_1d2952fc52b94466afb0ef8950e2f057"
      }
     },
     "ee9f14a8005d4cd1aff8c7cbe1ecbbc0": {
      "model_module": "@jupyter-widgets/base",
      "model_module_version": "1.1.0",
      "model_name": "LayoutModel",
      "state": {}
     },
     "eec3912a80d64695acdda791c87c3484": {
      "model_module": "@jupyter-widgets/controls",
      "model_module_version": "1.4.0",
      "model_name": "VBoxModel",
      "state": {
       "children": [
        "IPY_MODEL_8445978bce4e49fd862f25770f69cd32",
        "IPY_MODEL_5d1ccba1f6e74d15a4e7f273934afd24"
       ],
       "layout": "IPY_MODEL_bc178f9194d14ca6aefe8c718775cbe6"
      }
     },
     "eecdda10ba34465297039206b8b46ff9": {
      "model_module": "@jupyter-widgets/controls",
      "model_module_version": "1.4.0",
      "model_name": "ButtonModel",
      "state": {
       "description": "7",
       "layout": "IPY_MODEL_d564bc53276f4bd5aca0def067565454",
       "style": "IPY_MODEL_e6fa0e214a114cb09aa4c54facebe221"
      }
     },
     "eedaf8ee26d74068ae1d80f161897f43": {
      "model_module": "@jupyter-widgets/base",
      "model_module_version": "1.1.0",
      "model_name": "LayoutModel",
      "state": {}
     },
     "eef833afc5f647a0b2d1a7fd0805876a": {
      "model_module": "@jupyter-widgets/controls",
      "model_module_version": "1.4.0",
      "model_name": "ButtonStyleModel",
      "state": {}
     },
     "ef0be3d8e88240aba8c6cff6fc4bf3af": {
      "model_module": "@jupyter-widgets/controls",
      "model_module_version": "1.4.0",
      "model_name": "VBoxModel",
      "state": {
       "children": [
        "IPY_MODEL_9c2275c5a341477db2ee617c9b39e6ce",
        "IPY_MODEL_cd2bc3104d5142ee99d8d4847f34169a"
       ],
       "layout": "IPY_MODEL_bfa76dba6a094e9ea502e1313135522f"
      }
     },
     "ef2ca808d675449ebcb828511108a896": {
      "model_module": "@jupyter-widgets/base",
      "model_module_version": "1.1.0",
      "model_name": "LayoutModel",
      "state": {
       "width": "10%"
      }
     },
     "ef38b46282b1494da7ce89093223dc6a": {
      "model_module": "@jupyter-widgets/base",
      "model_module_version": "1.1.0",
      "model_name": "LayoutModel",
      "state": {
       "width": "95%"
      }
     },
     "ef4b4e76218e4070b45b318d66eb31cb": {
      "model_module": "@jupyter-widgets/controls",
      "model_module_version": "1.4.0",
      "model_name": "VBoxModel",
      "state": {
       "children": [
        "IPY_MODEL_dcd80955d23f47f2a5e241b8e5110c1f",
        "IPY_MODEL_96823f7bf5094f7997334a1832d56d93"
       ],
       "layout": "IPY_MODEL_366ff58d9a1a4feda1f1b512e52ed7e6"
      }
     },
     "ef4cfe27175e44118b5997ab778e2882": {
      "model_module": "@jupyter-widgets/controls",
      "model_module_version": "1.4.0",
      "model_name": "HBoxModel",
      "state": {
       "children": [
        "IPY_MODEL_1ee85c43e6dd4300b2f4bc785bd64f0f",
        "IPY_MODEL_acdf9bdf96a0415eb13e4164a22ea43e"
       ],
       "layout": "IPY_MODEL_97fae2c3e0d04b80903741d4400b6416"
      }
     },
     "ef5afa9e4a3945f2abe52e831d2e4077": {
      "model_module": "@jupyter-widgets/controls",
      "model_module_version": "1.4.0",
      "model_name": "ButtonStyleModel",
      "state": {}
     },
     "ef5f93dcf0314a3d94208fc38fe9a5c2": {
      "model_module": "@jupyter-widgets/base",
      "model_module_version": "1.1.0",
      "model_name": "LayoutModel",
      "state": {
       "width": "95%"
      }
     },
     "ef61b5513a0f4793af409354cc2d0b2e": {
      "model_module": "@jupyter-widgets/output",
      "model_module_version": "1.0.0",
      "model_name": "OutputModel",
      "state": {
       "layout": "IPY_MODEL_70b0572934d84aa88cdd86dba930c394"
      }
     },
     "ef88f6c15f114608b34ce246250bd1f3": {
      "model_module": "@jupyter-widgets/base",
      "model_module_version": "1.1.0",
      "model_name": "LayoutModel",
      "state": {
       "width": "10%"
      }
     },
     "ef9331948a174ef4a8dcaf90e7c0316b": {
      "model_module": "@jupyter-widgets/controls",
      "model_module_version": "1.4.0",
      "model_name": "HBoxModel",
      "state": {
       "children": [
        "IPY_MODEL_a1c788ad693a404e89bfa13733e25df8",
        "IPY_MODEL_880b09b11f2a46088bb1b0a02483fdd2"
       ],
       "layout": "IPY_MODEL_acb387ad5c074b55b659c537fe615398"
      }
     },
     "ef9df6a9c4134643a67d1b28b7e6a78d": {
      "model_module": "@jupyter-widgets/controls",
      "model_module_version": "1.4.0",
      "model_name": "ButtonStyleModel",
      "state": {}
     },
     "efad1785b74045bab9d2fc14ca0f1da4": {
      "model_module": "@jupyter-widgets/base",
      "model_module_version": "1.1.0",
      "model_name": "LayoutModel",
      "state": {
       "width": "10%"
      }
     },
     "efb3a51d8285487a807a2e4321403b22": {
      "model_module": "@jupyter-widgets/controls",
      "model_module_version": "1.4.0",
      "model_name": "VBoxModel",
      "state": {
       "children": [
        "IPY_MODEL_eab0b65a172e45e080189c4a102cb1ce",
        "IPY_MODEL_ce3056a26de946cda9582a7c75c8ad72"
       ],
       "layout": "IPY_MODEL_37404c76bdfe4c5085728d98dcf934a2"
      }
     },
     "efcc7a8a24ae4b529c36f976f69c8bab": {
      "model_module": "@jupyter-widgets/controls",
      "model_module_version": "1.4.0",
      "model_name": "ButtonModel",
      "state": {
       "description": "4",
       "layout": "IPY_MODEL_1c933a99784a435ba084e34a5c9fe19a",
       "style": "IPY_MODEL_41ae120bde0b4a97a90df9c0f9b32e51"
      }
     },
     "efd8bcdd71614905a1c78c76218aadbd": {
      "model_module": "@jupyter-widgets/controls",
      "model_module_version": "1.4.0",
      "model_name": "ButtonStyleModel",
      "state": {}
     },
     "efddc72f86b34f33a3524d027e55f7a9": {
      "model_module": "@jupyter-widgets/controls",
      "model_module_version": "1.4.0",
      "model_name": "ButtonModel",
      "state": {
       "description": "6",
       "layout": "IPY_MODEL_af93913b70f549238007614ccfc7be88",
       "style": "IPY_MODEL_14adb57deafc4f97bef3924eb3d33748"
      }
     },
     "efdff6c009a54cf0875d42881501d585": {
      "model_module": "@jupyter-widgets/base",
      "model_module_version": "1.1.0",
      "model_name": "LayoutModel",
      "state": {}
     },
     "efe5ed0f6c804a0f899eb73bbfee52a3": {
      "model_module": "@jupyter-widgets/controls",
      "model_module_version": "1.4.0",
      "model_name": "ButtonStyleModel",
      "state": {}
     },
     "eff58a1c187a4f05a24813e25a733e39": {
      "model_module": "@jupyter-widgets/controls",
      "model_module_version": "1.4.0",
      "model_name": "ButtonStyleModel",
      "state": {}
     },
     "effeb02337e6464ead9b3ec82ac8c741": {
      "model_module": "@jupyter-widgets/controls",
      "model_module_version": "1.4.0",
      "model_name": "ButtonModel",
      "state": {
       "description": "6",
       "layout": "IPY_MODEL_f5984084011d421c8bebb2dce205b8aa",
       "style": "IPY_MODEL_31068b2c63014d23bedfcdd1997c08b5"
      }
     },
     "f00982f2d9fb46d29acc2cbfb12b25ce": {
      "model_module": "@jupyter-widgets/controls",
      "model_module_version": "1.4.0",
      "model_name": "ButtonStyleModel",
      "state": {}
     },
     "f0426321d86c4a9194b6d79c1bb34f9e": {
      "model_module": "@jupyter-widgets/controls",
      "model_module_version": "1.4.0",
      "model_name": "VBoxModel",
      "state": {
       "children": [
        "IPY_MODEL_5e4019c2d9b144db8ae47086f5290f3e",
        "IPY_MODEL_abbd71f2bfc742a9805a889dbe2e29ce"
       ],
       "layout": "IPY_MODEL_a9cb305cbd404a089ba4ac0403ab2bec"
      }
     },
     "f05618254c5e45b8b75c725935ebde7e": {
      "model_module": "@jupyter-widgets/output",
      "model_module_version": "1.0.0",
      "model_name": "OutputModel",
      "state": {
       "layout": "IPY_MODEL_9fdecf9f39df42c2b23d54d99f7324a7"
      }
     },
     "f06606ff0bbc4a9d8667cf8f6787a693": {
      "model_module": "@jupyter-widgets/output",
      "model_module_version": "1.0.0",
      "model_name": "OutputModel",
      "state": {
       "layout": "IPY_MODEL_af47e20abe6c441c9491e01c56b0ca96"
      }
     },
     "f08e57bfb23649dbb1b9543f21a6bdc3": {
      "model_module": "@jupyter-widgets/base",
      "model_module_version": "1.1.0",
      "model_name": "LayoutModel",
      "state": {
       "width": "10%"
      }
     },
     "f09188890e95486c94a905afb4e95607": {
      "model_module": "@jupyter-widgets/controls",
      "model_module_version": "1.4.0",
      "model_name": "ButtonModel",
      "state": {
       "description": "6",
       "layout": "IPY_MODEL_b86581b4272e4d05b20eeb0dc7775fc9",
       "style": "IPY_MODEL_722ddc90ccb74ba4afdefef1a8f6bdc1"
      }
     },
     "f0a211a7eb5b48c68277a4b54b1ff7c2": {
      "model_module": "@jupyter-widgets/base",
      "model_module_version": "1.1.0",
      "model_name": "LayoutModel",
      "state": {
       "width": "95%"
      }
     },
     "f0a9ae3dd6e143ee9f0c2087b4207c4b": {
      "model_module": "@jupyter-widgets/base",
      "model_module_version": "1.1.0",
      "model_name": "LayoutModel",
      "state": {}
     },
     "f0abf6c29c0b4a1095f551ff729c5a95": {
      "model_module": "@jupyter-widgets/controls",
      "model_module_version": "1.4.0",
      "model_name": "ButtonStyleModel",
      "state": {}
     },
     "f0b42214fa81480eb8cfa531156ed92c": {
      "model_module": "@jupyter-widgets/base",
      "model_module_version": "1.1.0",
      "model_name": "LayoutModel",
      "state": {
       "justify_content": "space-between"
      }
     },
     "f0b95ffe3f1b49b4aecf8da180e485d6": {
      "model_module": "@jupyter-widgets/base",
      "model_module_version": "1.1.0",
      "model_name": "LayoutModel",
      "state": {
       "width": "95%"
      }
     },
     "f0cf5f61e8ec482c8220687269a0929b": {
      "model_module": "@jupyter-widgets/controls",
      "model_module_version": "1.4.0",
      "model_name": "VBoxModel",
      "state": {
       "children": [
        "IPY_MODEL_054259d270024a7b9908cee6b6115a07",
        "IPY_MODEL_957a0c31e46f451fb938e7785355fa05"
       ],
       "layout": "IPY_MODEL_44a4edbd36084a6080c7e7d57c319b68"
      }
     },
     "f0d904e417154e6db9676bfc5d726c42": {
      "model_module": "@jupyter-widgets/controls",
      "model_module_version": "1.4.0",
      "model_name": "TextModel",
      "state": {
       "description": "Other:",
       "layout": "IPY_MODEL_32587a6e64984577897ff0f06db62607",
       "placeholder": "Hit enter to submit.",
       "style": "IPY_MODEL_9bb41d5f6bcf4fb696892b9cca856b77"
      }
     },
     "f0e872e6465a466bac85b5c9da3d4aee": {
      "model_module": "@jupyter-widgets/controls",
      "model_module_version": "1.4.0",
      "model_name": "ButtonStyleModel",
      "state": {}
     },
     "f0eb57c902d541be97652a5348fc5b10": {
      "model_module": "@jupyter-widgets/controls",
      "model_module_version": "1.4.0",
      "model_name": "ButtonStyleModel",
      "state": {}
     },
     "f0f8043f51fd4c778ea625262ec438f1": {
      "model_module": "@jupyter-widgets/base",
      "model_module_version": "1.1.0",
      "model_name": "LayoutModel",
      "state": {}
     },
     "f0ffb340e0274efb96b2a2c37734a477": {
      "model_module": "@jupyter-widgets/base",
      "model_module_version": "1.1.0",
      "model_name": "LayoutModel",
      "state": {}
     },
     "f102f555ff5b4bf286e4580b0ef73c4c": {
      "model_module": "@jupyter-widgets/base",
      "model_module_version": "1.1.0",
      "model_name": "LayoutModel",
      "state": {
       "width": "10%"
      }
     },
     "f109c77ee59943b6b50a44b6909e5081": {
      "model_module": "@jupyter-widgets/base",
      "model_module_version": "1.1.0",
      "model_name": "LayoutModel",
      "state": {
       "width": "10%"
      }
     },
     "f10dd7e8c2a546f3b29b4587030da3fc": {
      "model_module": "@jupyter-widgets/output",
      "model_module_version": "1.0.0",
      "model_name": "OutputModel",
      "state": {
       "layout": "IPY_MODEL_7a03d8f7227147c0ad78625e809b06e6"
      }
     },
     "f1310350f2ff4a448b31a4743f8cdca3": {
      "model_module": "@jupyter-widgets/base",
      "model_module_version": "1.1.0",
      "model_name": "LayoutModel",
      "state": {}
     },
     "f131932f27874498ba175e4671d2f3fd": {
      "model_module": "@jupyter-widgets/output",
      "model_module_version": "1.0.0",
      "model_name": "OutputModel",
      "state": {
       "layout": "IPY_MODEL_bdd535f98ec44e8db0677bd742f1a086"
      }
     },
     "f161ccc35b1c42248b928f557b842c93": {
      "model_module": "@jupyter-widgets/controls",
      "model_module_version": "1.4.0",
      "model_name": "VBoxModel",
      "state": {
       "children": [
        "IPY_MODEL_3689781bb9564608baaf9a7303eebb13",
        "IPY_MODEL_3c704e2d2ee34a8dbb93c99d7a8c15d2"
       ],
       "layout": "IPY_MODEL_06d5757fcbf84a9fbad91b7e9d0310ff"
      }
     },
     "f18255952dc24ac0876fd869f875ac0a": {
      "model_module": "@jupyter-widgets/controls",
      "model_module_version": "1.4.0",
      "model_name": "ButtonStyleModel",
      "state": {}
     },
     "f182fb13e1e14e6999a3942e85241112": {
      "model_module": "@jupyter-widgets/controls",
      "model_module_version": "1.4.0",
      "model_name": "ButtonStyleModel",
      "state": {}
     },
     "f18dfda7b3e841b4950ca61bc08f32cc": {
      "model_module": "@jupyter-widgets/controls",
      "model_module_version": "1.4.0",
      "model_name": "ButtonModel",
      "state": {
       "description": "9",
       "layout": "IPY_MODEL_48327ab709c244c3bbcbdd213615ec63",
       "style": "IPY_MODEL_669d0e4c78b54ea08bce926ff3282074"
      }
     },
     "f1a31f81f4c4466ab7e8fada78821f8c": {
      "model_module": "@jupyter-widgets/base",
      "model_module_version": "1.1.0",
      "model_name": "LayoutModel",
      "state": {
       "width": "10%"
      }
     },
     "f1a31fe24da142b695e7d0ea730d6a06": {
      "model_module": "@jupyter-widgets/base",
      "model_module_version": "1.1.0",
      "model_name": "LayoutModel",
      "state": {
       "justify_content": "space-between"
      }
     },
     "f1b027a960e8418a8210434c79a90214": {
      "model_module": "@jupyter-widgets/controls",
      "model_module_version": "1.4.0",
      "model_name": "HBoxModel",
      "state": {
       "children": [
        "IPY_MODEL_8f1d6c30125a4cebb03901d0efe712b8",
        "IPY_MODEL_5408ae9f5fa0466ea2573dd6d1831e5b"
       ],
       "layout": "IPY_MODEL_a3673390d58c45ac9a23c9b99745e68f"
      }
     },
     "f1cd3b429d2a423a8a83dbbb8047c92a": {
      "model_module": "@jupyter-widgets/base",
      "model_module_version": "1.1.0",
      "model_name": "LayoutModel",
      "state": {
       "width": "95%"
      }
     },
     "f1cda177d94e40dbad38eda89493e086": {
      "model_module": "@jupyter-widgets/controls",
      "model_module_version": "1.4.0",
      "model_name": "VBoxModel",
      "state": {
       "children": [
        "IPY_MODEL_ebaa6ba149734c8380d775ce78c229b8",
        "IPY_MODEL_bb5f6c0af8b54f38a969624049bb0592"
       ],
       "layout": "IPY_MODEL_691ed45083ba47b3879bd492e178df80"
      }
     },
     "f1d23b4a6d3c426391430aff971a2fc7": {
      "model_module": "@jupyter-widgets/controls",
      "model_module_version": "1.4.0",
      "model_name": "ButtonModel",
      "state": {
       "description": "1",
       "layout": "IPY_MODEL_2bf3451629f1456c8fa7c077c33abc94",
       "style": "IPY_MODEL_d8fe9951a0e04f208f24e61d9f120b21"
      }
     },
     "f1ebac9119d641c49783eda8d25274a7": {
      "model_module": "@jupyter-widgets/output",
      "model_module_version": "1.0.0",
      "model_name": "OutputModel",
      "state": {
       "layout": "IPY_MODEL_771abfd8ecf7476f94d851b3a7b03772"
      }
     },
     "f215b2907760430cac892ac289a5448f": {
      "model_module": "@jupyter-widgets/output",
      "model_module_version": "1.0.0",
      "model_name": "OutputModel",
      "state": {
       "layout": "IPY_MODEL_1795f83aae994d92a684d029d3a24794"
      }
     },
     "f2321bad2ac24e05a4179bd2c6936fc1": {
      "model_module": "@jupyter-widgets/base",
      "model_module_version": "1.1.0",
      "model_name": "LayoutModel",
      "state": {
       "width": "10%"
      }
     },
     "f235743ac313460d9f023c8b63e48448": {
      "model_module": "@jupyter-widgets/base",
      "model_module_version": "1.1.0",
      "model_name": "LayoutModel",
      "state": {}
     },
     "f24128c4c2b0473e9e8e1d49f25c07a5": {
      "model_module": "@jupyter-widgets/base",
      "model_module_version": "1.1.0",
      "model_name": "LayoutModel",
      "state": {
       "width": "10%"
      }
     },
     "f28413c975e2435e87db7515c6c30201": {
      "model_module": "@jupyter-widgets/controls",
      "model_module_version": "1.4.0",
      "model_name": "VBoxModel",
      "state": {
       "children": [
        "IPY_MODEL_082aed9b5ce94cfb90b38dc5306deb2f",
        "IPY_MODEL_65c7c8a83e00436dba3ebbd0e294a741"
       ],
       "layout": "IPY_MODEL_5a1155f4de8d474ab5124213a868f98c"
      }
     },
     "f2921fc444d640d6a3afc6a27ef425bb": {
      "model_module": "@jupyter-widgets/base",
      "model_module_version": "1.1.0",
      "model_name": "LayoutModel",
      "state": {
       "width": "10%"
      }
     },
     "f2930fdcae5d4ed2b0fdd4a3215b949d": {
      "model_module": "@jupyter-widgets/controls",
      "model_module_version": "1.4.0",
      "model_name": "ButtonStyleModel",
      "state": {}
     },
     "f294b9e3b85e4582abc2c5b8dfeee0cc": {
      "model_module": "@jupyter-widgets/controls",
      "model_module_version": "1.4.0",
      "model_name": "ButtonStyleModel",
      "state": {}
     },
     "f29dc1d4669b4ecebfa83b134c7458bf": {
      "model_module": "@jupyter-widgets/base",
      "model_module_version": "1.1.0",
      "model_name": "LayoutModel",
      "state": {}
     },
     "f2a70e3dbf534a38a4ee22e89b1ba4d8": {
      "model_module": "@jupyter-widgets/controls",
      "model_module_version": "1.4.0",
      "model_name": "ButtonStyleModel",
      "state": {}
     },
     "f2c486e3c0ef47aeb4ee46bf87c77946": {
      "model_module": "@jupyter-widgets/base",
      "model_module_version": "1.1.0",
      "model_name": "LayoutModel",
      "state": {
       "width": "95%"
      }
     },
     "f2d115691ebb4ecf8c730ce8212d1ea2": {
      "model_module": "@jupyter-widgets/controls",
      "model_module_version": "1.4.0",
      "model_name": "ButtonStyleModel",
      "state": {}
     },
     "f2dcfb8759364476b178677f4d12c2ed": {
      "model_module": "@jupyter-widgets/controls",
      "model_module_version": "1.4.0",
      "model_name": "ButtonModel",
      "state": {
       "description": "8",
       "layout": "IPY_MODEL_3c74dd2ffb0d4007a73727a6967c1082",
       "style": "IPY_MODEL_d0af4458958f49efa2ba8df2c5c57232"
      }
     },
     "f2e5197d7760440badb2f03434d5085c": {
      "model_module": "@jupyter-widgets/base",
      "model_module_version": "1.1.0",
      "model_name": "LayoutModel",
      "state": {
       "width": "95%"
      }
     },
     "f2e604c0a0934ad6b9272a914bb5e356": {
      "model_module": "@jupyter-widgets/base",
      "model_module_version": "1.1.0",
      "model_name": "LayoutModel",
      "state": {
       "width": "95%"
      }
     },
     "f317009f95184d67bd2b9853deba22fb": {
      "model_module": "@jupyter-widgets/base",
      "model_module_version": "1.1.0",
      "model_name": "LayoutModel",
      "state": {
       "width": "10%"
      }
     },
     "f3177ce53e484e2fba4e4305466ed81d": {
      "model_module": "@jupyter-widgets/base",
      "model_module_version": "1.1.0",
      "model_name": "LayoutModel",
      "state": {}
     },
     "f31ccdd480f949688b18b036eb53e17e": {
      "model_module": "@jupyter-widgets/base",
      "model_module_version": "1.1.0",
      "model_name": "LayoutModel",
      "state": {
       "width": "95%"
      }
     },
     "f32efaacb74748d7add189ec07eaa3d3": {
      "model_module": "@jupyter-widgets/base",
      "model_module_version": "1.1.0",
      "model_name": "LayoutModel",
      "state": {
       "width": "10%"
      }
     },
     "f33013ccbaf44cea8e79d05478656cc9": {
      "model_module": "@jupyter-widgets/base",
      "model_module_version": "1.1.0",
      "model_name": "LayoutModel",
      "state": {
       "width": "10%"
      }
     },
     "f3786f5d72f941309d43e228a12d7dca": {
      "model_module": "@jupyter-widgets/controls",
      "model_module_version": "1.4.0",
      "model_name": "ButtonStyleModel",
      "state": {}
     },
     "f389a9d370ca4c9fbe59f6f456b1bb7e": {
      "model_module": "@jupyter-widgets/base",
      "model_module_version": "1.1.0",
      "model_name": "LayoutModel",
      "state": {
       "width": "95%"
      }
     },
     "f3ca010cf047414e81b75e5e74ccc1a3": {
      "model_module": "@jupyter-widgets/controls",
      "model_module_version": "1.4.0",
      "model_name": "ButtonModel",
      "state": {
       "description": "3",
       "layout": "IPY_MODEL_c00426aa091d402eb6be5488bab36be6",
       "style": "IPY_MODEL_6644d3a330af45259301c6c92866fc2c"
      }
     },
     "f3d25eab56a54adaa66146fb250590c4": {
      "model_module": "@jupyter-widgets/base",
      "model_module_version": "1.1.0",
      "model_name": "LayoutModel",
      "state": {}
     },
     "f3ea46421e384353b8a984ae517e55df": {
      "model_module": "@jupyter-widgets/controls",
      "model_module_version": "1.4.0",
      "model_name": "TextModel",
      "state": {
       "description": "Other:",
       "layout": "IPY_MODEL_56c65b7454604b82b29d8641bb56ebf5",
       "placeholder": "Hit enter to submit.",
       "style": "IPY_MODEL_6e1ee529b55c4d02850b69a1363f6397"
      }
     },
     "f3f85747b4bd48839cbbabea8e4e6789": {
      "model_module": "@jupyter-widgets/controls",
      "model_module_version": "1.4.0",
      "model_name": "ButtonModel",
      "state": {
       "description": "3",
       "layout": "IPY_MODEL_4cd212321fc449448b97546f8a2ef574",
       "style": "IPY_MODEL_f6815333e9e04fdbb0823d1e43652615"
      }
     },
     "f411959aef6e480ea4a786aeb218c92e": {
      "model_module": "@jupyter-widgets/controls",
      "model_module_version": "1.4.0",
      "model_name": "HBoxModel",
      "state": {
       "children": [
        "IPY_MODEL_4cb163822d2a4a319167cd6fefd9f9c2",
        "IPY_MODEL_6019734f8f134244a311f6361cde6c06",
        "IPY_MODEL_4c4637e6322d4549940dceab3d4c1429",
        "IPY_MODEL_340c37f7458b4abfa7ed2fe95d32747e",
        "IPY_MODEL_eaebc0982903444aa7e8aa0c06c4205b",
        "IPY_MODEL_42d5b10202044f46961a45dd27586cf0",
        "IPY_MODEL_b83abd15c4a848289a9e4e9ae8cad617",
        "IPY_MODEL_a1920cb3f3cb46d1aa0dbd4afcedd6d1",
        "IPY_MODEL_6158d3968f084a41b843af03cd2d1309",
        "IPY_MODEL_2c92611628af43ed891989a0150faf75"
       ],
       "layout": "IPY_MODEL_eb842388408f4fa4a05145b45669a969"
      }
     },
     "f43c9664a9154a7d8fbd61ee7c82dbc4": {
      "model_module": "@jupyter-widgets/base",
      "model_module_version": "1.1.0",
      "model_name": "LayoutModel",
      "state": {
       "width": "10%"
      }
     },
     "f44a28e4aadd490b90cb88bd0eee6463": {
      "model_module": "@jupyter-widgets/controls",
      "model_module_version": "1.4.0",
      "model_name": "ButtonModel",
      "state": {
       "description": "1",
       "layout": "IPY_MODEL_aa5fcf93f4e7491d820e8ccadd5a3fe3",
       "style": "IPY_MODEL_53db92c9c0554d18b8f8010663991cff"
      }
     },
     "f46d97280ff14e9180c6dc1297062c59": {
      "model_module": "@jupyter-widgets/base",
      "model_module_version": "1.1.0",
      "model_name": "LayoutModel",
      "state": {}
     },
     "f47c311f15804b93bf6a2904eb8477cc": {
      "model_module": "@jupyter-widgets/base",
      "model_module_version": "1.1.0",
      "model_name": "LayoutModel",
      "state": {}
     },
     "f49fac3990a0478aa433dc3de8041171": {
      "model_module": "@jupyter-widgets/base",
      "model_module_version": "1.1.0",
      "model_name": "LayoutModel",
      "state": {
       "width": "95%"
      }
     },
     "f4a30f15ffa0439a879c1e0b0c050627": {
      "model_module": "@jupyter-widgets/controls",
      "model_module_version": "1.4.0",
      "model_name": "VBoxModel",
      "state": {
       "children": [
        "IPY_MODEL_0a41a2bde7224634991fb2899cf5a60c",
        "IPY_MODEL_8356aabb4cb54e1386ca76e6f85fea81"
       ],
       "layout": "IPY_MODEL_da7aefef2a374756b06b39af53992c2c"
      }
     },
     "f4aebc30ba634741ba1afc5e9fe40726": {
      "model_module": "@jupyter-widgets/output",
      "model_module_version": "1.0.0",
      "model_name": "OutputModel",
      "state": {
       "layout": "IPY_MODEL_a72bd26529054cf19efbcf29e11c5657"
      }
     },
     "f4e28494c7c84ce387eff6f1d7bb8876": {
      "model_module": "@jupyter-widgets/base",
      "model_module_version": "1.1.0",
      "model_name": "LayoutModel",
      "state": {
       "width": "10%"
      }
     },
     "f4f635fda8584a8ea617b42608a09ee9": {
      "model_module": "@jupyter-widgets/base",
      "model_module_version": "1.1.0",
      "model_name": "LayoutModel",
      "state": {}
     },
     "f5216367769142bfa6b81f3b5752ceec": {
      "model_module": "@jupyter-widgets/base",
      "model_module_version": "1.1.0",
      "model_name": "LayoutModel",
      "state": {}
     },
     "f539431dd2054a2f84591d8fca32c7c1": {
      "model_module": "@jupyter-widgets/output",
      "model_module_version": "1.0.0",
      "model_name": "OutputModel",
      "state": {
       "layout": "IPY_MODEL_aa8e93fbde5e4cd78fd0809e8b8b5a72"
      }
     },
     "f56237de777a4358ab49e34f93d9df0c": {
      "model_module": "@jupyter-widgets/controls",
      "model_module_version": "1.4.0",
      "model_name": "ButtonStyleModel",
      "state": {}
     },
     "f57ffdf73625491c9e31347299482b59": {
      "model_module": "@jupyter-widgets/base",
      "model_module_version": "1.1.0",
      "model_name": "LayoutModel",
      "state": {}
     },
     "f5842d1eb9a44ce0a38b0ebdb49a2faf": {
      "model_module": "@jupyter-widgets/controls",
      "model_module_version": "1.4.0",
      "model_name": "VBoxModel",
      "state": {
       "children": [
        "IPY_MODEL_3a08201c549c48b5bc98fa969cb5ad21",
        "IPY_MODEL_0cd75a3e8e2340ad8aa3ef0ade7c65e9"
       ],
       "layout": "IPY_MODEL_8941927cb88f4c6b8bde632791d35ef3"
      }
     },
     "f5984084011d421c8bebb2dce205b8aa": {
      "model_module": "@jupyter-widgets/base",
      "model_module_version": "1.1.0",
      "model_name": "LayoutModel",
      "state": {
       "width": "95%"
      }
     },
     "f59a87526518409485f7f13846a8e068": {
      "model_module": "@jupyter-widgets/controls",
      "model_module_version": "1.4.0",
      "model_name": "VBoxModel",
      "state": {
       "children": [
        "IPY_MODEL_a879d3283e184b4789011a89d7ce2851",
        "IPY_MODEL_bb1873e6116d4c3ab7172ba479de2436"
       ],
       "layout": "IPY_MODEL_a2c6b1234e1e45458ceb6cc6bad8c753"
      }
     },
     "f5a4b1f47350438eb69bcbc4f0171917": {
      "model_module": "@jupyter-widgets/base",
      "model_module_version": "1.1.0",
      "model_name": "LayoutModel",
      "state": {
       "justify_content": "space-between"
      }
     },
     "f5b2bc4b907b450bb296b4fa5f43439c": {
      "model_module": "@jupyter-widgets/base",
      "model_module_version": "1.1.0",
      "model_name": "LayoutModel",
      "state": {
       "width": "10%"
      }
     },
     "f5cf9385ef374626bd298e3f4063bb49": {
      "model_module": "@jupyter-widgets/output",
      "model_module_version": "1.0.0",
      "model_name": "OutputModel",
      "state": {
       "layout": "IPY_MODEL_92ff7aa572294da2a971f6c86ded2087"
      }
     },
     "f5cfef3f743a49d69b990aa9e1f1a2df": {
      "model_module": "@jupyter-widgets/base",
      "model_module_version": "1.1.0",
      "model_name": "LayoutModel",
      "state": {
       "width": "10%"
      }
     },
     "f615b32acfff46178ecff68726ac10f9": {
      "model_module": "@jupyter-widgets/base",
      "model_module_version": "1.1.0",
      "model_name": "LayoutModel",
      "state": {}
     },
     "f61e00b744de4e85b6f41ebb298888ea": {
      "model_module": "@jupyter-widgets/controls",
      "model_module_version": "1.4.0",
      "model_name": "ButtonStyleModel",
      "state": {}
     },
     "f63531cbf736467dae7856d20e6fb9b3": {
      "model_module": "@jupyter-widgets/base",
      "model_module_version": "1.1.0",
      "model_name": "LayoutModel",
      "state": {}
     },
     "f63b575be17b47aaa13fefcad8825411": {
      "model_module": "@jupyter-widgets/controls",
      "model_module_version": "1.4.0",
      "model_name": "VBoxModel",
      "state": {
       "children": [
        "IPY_MODEL_0a343f88f9614f2abb20a50f79861668",
        "IPY_MODEL_6dfaf73f4b9743f5a7001c8d40fbb406"
       ],
       "layout": "IPY_MODEL_56921fd82f83409aa944867e7da31e8f"
      }
     },
     "f643f73c02064c529b748863353d1007": {
      "model_module": "@jupyter-widgets/controls",
      "model_module_version": "1.4.0",
      "model_name": "ButtonStyleModel",
      "state": {}
     },
     "f648339788f14fa5825c499e8924be19": {
      "model_module": "@jupyter-widgets/controls",
      "model_module_version": "1.4.0",
      "model_name": "TextModel",
      "state": {
       "description": "Other:",
       "layout": "IPY_MODEL_195fe2750b1442ddae0150f7b24e1768",
       "placeholder": "Hit enter to submit.",
       "style": "IPY_MODEL_2584ffd1d96241ffa29e734c42ca04f6"
      }
     },
     "f651b1facd7f40118e57ad3598c48ef0": {
      "model_module": "@jupyter-widgets/base",
      "model_module_version": "1.1.0",
      "model_name": "LayoutModel",
      "state": {
       "width": "95%"
      }
     },
     "f6662f00145e443f9e3413e7188c5c02": {
      "model_module": "@jupyter-widgets/controls",
      "model_module_version": "1.4.0",
      "model_name": "VBoxModel",
      "state": {
       "children": [
        "IPY_MODEL_ae5737c7de894a1f83c246f65e08e559",
        "IPY_MODEL_5449520a92d340d28153cf35f710412f"
       ],
       "layout": "IPY_MODEL_ad33f09787c346a8a74f98a4205a7edd"
      }
     },
     "f67d558612724f568f63f12ef9cfe3b2": {
      "model_module": "@jupyter-widgets/base",
      "model_module_version": "1.1.0",
      "model_name": "LayoutModel",
      "state": {
       "width": "95%"
      }
     },
     "f6815333e9e04fdbb0823d1e43652615": {
      "model_module": "@jupyter-widgets/controls",
      "model_module_version": "1.4.0",
      "model_name": "ButtonStyleModel",
      "state": {}
     },
     "f686342fead64568ac5cf71d98c4da25": {
      "model_module": "@jupyter-widgets/output",
      "model_module_version": "1.0.0",
      "model_name": "OutputModel",
      "state": {
       "layout": "IPY_MODEL_8466ce05f4cb47a89d41707995194b17"
      }
     },
     "f6ac594ce8f0485cbb580310638cf6d5": {
      "model_module": "@jupyter-widgets/base",
      "model_module_version": "1.1.0",
      "model_name": "LayoutModel",
      "state": {}
     },
     "f6ac68e3f9654e428dce8879c8669b69": {
      "model_module": "@jupyter-widgets/output",
      "model_module_version": "1.0.0",
      "model_name": "OutputModel",
      "state": {
       "layout": "IPY_MODEL_2f421c5f19b54f00a033c92175fe9d9b"
      }
     },
     "f6b52b1466c74d7396d4a24b48dea2c0": {
      "model_module": "@jupyter-widgets/base",
      "model_module_version": "1.1.0",
      "model_name": "LayoutModel",
      "state": {}
     },
     "f6b83c6e0ab84e11a374d163109c2276": {
      "model_module": "@jupyter-widgets/base",
      "model_module_version": "1.1.0",
      "model_name": "LayoutModel",
      "state": {
       "width": "95%"
      }
     },
     "f6c6d1e06e0c47a4a255e7328dc5e27d": {
      "model_module": "@jupyter-widgets/output",
      "model_module_version": "1.0.0",
      "model_name": "OutputModel",
      "state": {
       "layout": "IPY_MODEL_ae2091707ad54d29ae8f524b397c92e2"
      }
     },
     "f6db25ce1bd5450498b0268907162364": {
      "model_module": "@jupyter-widgets/base",
      "model_module_version": "1.1.0",
      "model_name": "LayoutModel",
      "state": {}
     },
     "f6e704cfeec3403c8a1b5f189bf50f93": {
      "model_module": "@jupyter-widgets/base",
      "model_module_version": "1.1.0",
      "model_name": "LayoutModel",
      "state": {}
     },
     "f6fd55d1597c4dedab504b81abf74a89": {
      "model_module": "@jupyter-widgets/base",
      "model_module_version": "1.1.0",
      "model_name": "LayoutModel",
      "state": {}
     },
     "f6ffd6fd015d40dbad64f71c2499aa46": {
      "model_module": "@jupyter-widgets/base",
      "model_module_version": "1.1.0",
      "model_name": "LayoutModel",
      "state": {
       "width": "95%"
      }
     },
     "f72247921d954861acdd43c5d5513111": {
      "model_module": "@jupyter-widgets/base",
      "model_module_version": "1.1.0",
      "model_name": "LayoutModel",
      "state": {}
     },
     "f7362e1d2f184e51ad58b64d8cf2a8da": {
      "model_module": "@jupyter-widgets/base",
      "model_module_version": "1.1.0",
      "model_name": "LayoutModel",
      "state": {}
     },
     "f752844773cf4b42b5deba0b224ee216": {
      "model_module": "@jupyter-widgets/controls",
      "model_module_version": "1.4.0",
      "model_name": "TextModel",
      "state": {
       "description": "Other:",
       "layout": "IPY_MODEL_fb88fabf3fd840b4953145a41f6c4094",
       "placeholder": "Hit enter to submit.",
       "style": "IPY_MODEL_bce1fb7651c34c7c8100c96cefdfadd7"
      }
     },
     "f7598a755dfa4af7a32f3b6d8968fc4b": {
      "model_module": "@jupyter-widgets/controls",
      "model_module_version": "1.4.0",
      "model_name": "ButtonModel",
      "state": {
       "description": "5",
       "layout": "IPY_MODEL_5314ac7862194239babf0ee7895a0dc6",
       "style": "IPY_MODEL_8b2d94a86fe04fa89c189d91d6a7966a"
      }
     },
     "f786f95e390c4d5d8a76358f8523ef0b": {
      "model_module": "@jupyter-widgets/controls",
      "model_module_version": "1.4.0",
      "model_name": "ButtonStyleModel",
      "state": {}
     },
     "f7c9764c088b43be8bd766b095849d73": {
      "model_module": "@jupyter-widgets/controls",
      "model_module_version": "1.4.0",
      "model_name": "VBoxModel",
      "state": {
       "children": [
        "IPY_MODEL_6f580d7827c7488a86e2146d9f2eac2c",
        "IPY_MODEL_53d3949bd08443aea75052537deb8848"
       ],
       "layout": "IPY_MODEL_4bb12f861f9e4b9483b0cc988ef85895"
      }
     },
     "f7d9e67bd8f74960ad9f44c72bf8cb93": {
      "model_module": "@jupyter-widgets/base",
      "model_module_version": "1.1.0",
      "model_name": "LayoutModel",
      "state": {
       "width": "10%"
      }
     },
     "f7df2655f2ee4afabe54a3a48b3df3ca": {
      "model_module": "@jupyter-widgets/controls",
      "model_module_version": "1.4.0",
      "model_name": "VBoxModel",
      "state": {
       "children": [
        "IPY_MODEL_881e2f80cfca41b381c1feeebfee64f8",
        "IPY_MODEL_9b18f394f82e4a998b18000509c4182b"
       ],
       "layout": "IPY_MODEL_4a1ff3341cc84f86aef92e3a5a4323ee"
      }
     },
     "f7e7f2f10e944437874e7caf6b8efa54": {
      "model_module": "@jupyter-widgets/output",
      "model_module_version": "1.0.0",
      "model_name": "OutputModel",
      "state": {
       "layout": "IPY_MODEL_224af7a9db9b46d9bee4c79554ffd53f"
      }
     },
     "f80d06fac2544ab6918473d5c2a54d6e": {
      "model_module": "@jupyter-widgets/base",
      "model_module_version": "1.1.0",
      "model_name": "LayoutModel",
      "state": {}
     },
     "f825bfef96e3449aa47387052f1bf27a": {
      "model_module": "@jupyter-widgets/base",
      "model_module_version": "1.1.0",
      "model_name": "LayoutModel",
      "state": {
       "justify_content": "space-between"
      }
     },
     "f825d8eac53049409c95ddd72ddc907b": {
      "model_module": "@jupyter-widgets/controls",
      "model_module_version": "1.4.0",
      "model_name": "ButtonModel",
      "state": {
       "description": "1",
       "layout": "IPY_MODEL_c2c03b5278c64c84988af0c547707568",
       "style": "IPY_MODEL_7b455b2a417e4ea5af51469e7a7c4fab"
      }
     },
     "f8607a6407234f35b8ac7b1aec91baa1": {
      "model_module": "@jupyter-widgets/base",
      "model_module_version": "1.1.0",
      "model_name": "LayoutModel",
      "state": {}
     },
     "f861366ee0b944b09736d9d4f05c9780": {
      "model_module": "@jupyter-widgets/base",
      "model_module_version": "1.1.0",
      "model_name": "LayoutModel",
      "state": {}
     },
     "f877db10e72f425a97b291db39622f76": {
      "model_module": "@jupyter-widgets/controls",
      "model_module_version": "1.4.0",
      "model_name": "ButtonStyleModel",
      "state": {}
     },
     "f89773b783a640cea15403bdcaafa7ca": {
      "model_module": "@jupyter-widgets/base",
      "model_module_version": "1.1.0",
      "model_name": "LayoutModel",
      "state": {
       "width": "10%"
      }
     },
     "f8a280d9695947c0b3f16d324d1a123a": {
      "model_module": "@jupyter-widgets/output",
      "model_module_version": "1.0.0",
      "model_name": "OutputModel",
      "state": {
       "layout": "IPY_MODEL_b30560d27945461abf1f987c006782b9"
      }
     },
     "f8ad38e0b7fd42b38f46ce8db2c70634": {
      "model_module": "@jupyter-widgets/output",
      "model_module_version": "1.0.0",
      "model_name": "OutputModel",
      "state": {
       "layout": "IPY_MODEL_7f07828d0ff7494898a7ff462fe9aa00"
      }
     },
     "f8bbbc35f2bd4020a047ae3204b874b3": {
      "model_module": "@jupyter-widgets/controls",
      "model_module_version": "1.4.0",
      "model_name": "ButtonModel",
      "state": {
       "description": "1",
       "layout": "IPY_MODEL_ef38b46282b1494da7ce89093223dc6a",
       "style": "IPY_MODEL_4c7279bfac9e4b738a0318b1726d6145"
      }
     },
     "f8cd601d0701439ca5f21cae2c933980": {
      "model_module": "@jupyter-widgets/base",
      "model_module_version": "1.1.0",
      "model_name": "LayoutModel",
      "state": {
       "width": "95%"
      }
     },
     "f8d0b78f152c43259f2c3f217604ca19": {
      "model_module": "@jupyter-widgets/controls",
      "model_module_version": "1.4.0",
      "model_name": "VBoxModel",
      "state": {
       "children": [
        "IPY_MODEL_54b0296b5c094c3596e2d1fa9078befa",
        "IPY_MODEL_23126538d752490db19c0d18f6be3778"
       ],
       "layout": "IPY_MODEL_1f9be244f2414a318154485d240d84c3"
      }
     },
     "f8e95ec2b6ab47cca679ca4de76defc6": {
      "model_module": "@jupyter-widgets/base",
      "model_module_version": "1.1.0",
      "model_name": "LayoutModel",
      "state": {
       "width": "10%"
      }
     },
     "f92cc9f2f65c4aa0956d402cb98b6d48": {
      "model_module": "@jupyter-widgets/controls",
      "model_module_version": "1.4.0",
      "model_name": "ButtonModel",
      "state": {
       "description": "0",
       "layout": "IPY_MODEL_9ca8ff74e4bb462b8ed395cfe4a4e4af",
       "style": "IPY_MODEL_700e393e9ac74aafb4bba43654ef9d9b"
      }
     },
     "f94e8078d1984e74b59f08fd916df262": {
      "model_module": "@jupyter-widgets/output",
      "model_module_version": "1.0.0",
      "model_name": "OutputModel",
      "state": {
       "layout": "IPY_MODEL_7cff2f3ad22445cb82dd661b5580ec08"
      }
     },
     "f956dc409c7042bc87fd8c6161dc06b0": {
      "model_module": "@jupyter-widgets/base",
      "model_module_version": "1.1.0",
      "model_name": "LayoutModel",
      "state": {}
     },
     "f95d3019a8764de7a5326d41a0789cb1": {
      "model_module": "@jupyter-widgets/base",
      "model_module_version": "1.1.0",
      "model_name": "LayoutModel",
      "state": {
       "width": "95%"
      }
     },
     "f98b385d6b044afeb2b62568fd153f7b": {
      "model_module": "@jupyter-widgets/output",
      "model_module_version": "1.0.0",
      "model_name": "OutputModel",
      "state": {
       "layout": "IPY_MODEL_0ba13f5da4dd495c88405865b71f7967"
      }
     },
     "f992a3540b884ed280b2337da7646f2d": {
      "model_module": "@jupyter-widgets/base",
      "model_module_version": "1.1.0",
      "model_name": "LayoutModel",
      "state": {
       "width": "95%"
      }
     },
     "f9ec2f37f9cd458aa6bcb1785200d699": {
      "model_module": "@jupyter-widgets/base",
      "model_module_version": "1.1.0",
      "model_name": "LayoutModel",
      "state": {
       "width": "10%"
      }
     },
     "f9f925af6c6646a19a15d7820a9479b2": {
      "model_module": "@jupyter-widgets/controls",
      "model_module_version": "1.4.0",
      "model_name": "ButtonModel",
      "state": {
       "description": "0",
       "layout": "IPY_MODEL_58bfc48472814b76b24a8b9163258497",
       "style": "IPY_MODEL_0a50511d97874ac5ad1d2f25c78e2d35"
      }
     },
     "f9fb877f22be4f1397f5a9d67f76f64a": {
      "model_module": "@jupyter-widgets/base",
      "model_module_version": "1.1.0",
      "model_name": "LayoutModel",
      "state": {
       "width": "95%"
      }
     },
     "fa298f17581649cf84e16da11bf3c64a": {
      "model_module": "@jupyter-widgets/base",
      "model_module_version": "1.1.0",
      "model_name": "LayoutModel",
      "state": {
       "width": "95%"
      }
     },
     "fa32b9d607e84378947fa7326509966f": {
      "model_module": "@jupyter-widgets/output",
      "model_module_version": "1.0.0",
      "model_name": "OutputModel",
      "state": {
       "layout": "IPY_MODEL_e91339fd9d92460baa619584e2f90451"
      }
     },
     "fa523314207e42b0bd75627ef66f4708": {
      "model_module": "@jupyter-widgets/controls",
      "model_module_version": "1.4.0",
      "model_name": "VBoxModel",
      "state": {
       "children": [
        "IPY_MODEL_78d62828a52e4b6e88493dc5983cf480",
        "IPY_MODEL_508aac177fc244d5ab11ffc61f25feac"
       ],
       "layout": "IPY_MODEL_b3667b1337f847558ddb31a3ed982aae"
      }
     },
     "fa662b21c7714e79918cec9cd1f5ff49": {
      "model_module": "@jupyter-widgets/base",
      "model_module_version": "1.1.0",
      "model_name": "LayoutModel",
      "state": {}
     },
     "fa723c865c2b4e99851219cc246d972a": {
      "model_module": "@jupyter-widgets/base",
      "model_module_version": "1.1.0",
      "model_name": "LayoutModel",
      "state": {}
     },
     "fa8f5a94c8724a7eb20478bc1414d547": {
      "model_module": "@jupyter-widgets/base",
      "model_module_version": "1.1.0",
      "model_name": "LayoutModel",
      "state": {
       "width": "95%"
      }
     },
     "fa97e3d4f6914f659eadb73992f9a6e9": {
      "model_module": "@jupyter-widgets/controls",
      "model_module_version": "1.4.0",
      "model_name": "VBoxModel",
      "state": {
       "children": [
        "IPY_MODEL_2e9bb071576e4fe6bdb9fbd4421ea301",
        "IPY_MODEL_2eeafa9a1cd643d2a01e2f5a63fc9eb3"
       ],
       "layout": "IPY_MODEL_15074a8074f04cbb9e7a5464da5681d0"
      }
     },
     "faa73e0aa0b64bd592165cfc07876f98": {
      "model_module": "@jupyter-widgets/output",
      "model_module_version": "1.0.0",
      "model_name": "OutputModel",
      "state": {
       "layout": "IPY_MODEL_aa3b73dfec0443c785fa869bdfdc6f29"
      }
     },
     "faace9f13ab94673807bd9e4678777d2": {
      "model_module": "@jupyter-widgets/base",
      "model_module_version": "1.1.0",
      "model_name": "LayoutModel",
      "state": {}
     },
     "fac15177ca264c07b52e8d2eadba6f1e": {
      "model_module": "@jupyter-widgets/base",
      "model_module_version": "1.1.0",
      "model_name": "LayoutModel",
      "state": {
       "width": "95%"
      }
     },
     "fae221646abd4feda3ef264d49206bee": {
      "model_module": "@jupyter-widgets/output",
      "model_module_version": "1.0.0",
      "model_name": "OutputModel",
      "state": {
       "layout": "IPY_MODEL_723f44707f884b398b8e505627e38eaa"
      }
     },
     "fae9593060484ee68785f25ec8d38102": {
      "model_module": "@jupyter-widgets/output",
      "model_module_version": "1.0.0",
      "model_name": "OutputModel",
      "state": {
       "layout": "IPY_MODEL_6582d86b41c345f2adc034f14a7495b7"
      }
     },
     "faebf70fe50040feb044825d9583151c": {
      "model_module": "@jupyter-widgets/controls",
      "model_module_version": "1.4.0",
      "model_name": "VBoxModel",
      "state": {
       "children": [
        "IPY_MODEL_c8c218cc2a044bb194bff236fc18e0ce",
        "IPY_MODEL_64343b0c65774f3cb19068dbac4a912e"
       ],
       "layout": "IPY_MODEL_0154b3eb0f70449fbf85c31bc171885d"
      }
     },
     "faf6497e0b4c4d1ba6f2ba92d932fb9f": {
      "model_module": "@jupyter-widgets/base",
      "model_module_version": "1.1.0",
      "model_name": "LayoutModel",
      "state": {}
     },
     "fafc208bfaff40cdbe275f855c522987": {
      "model_module": "@jupyter-widgets/base",
      "model_module_version": "1.1.0",
      "model_name": "LayoutModel",
      "state": {
       "width": "95%"
      }
     },
     "fb00bf0e6fc24f98bfc9982095fbb463": {
      "model_module": "@jupyter-widgets/base",
      "model_module_version": "1.1.0",
      "model_name": "LayoutModel",
      "state": {
       "justify_content": "space-between"
      }
     },
     "fb1fe0487f6346bcaf610534d88521e7": {
      "model_module": "@jupyter-widgets/base",
      "model_module_version": "1.1.0",
      "model_name": "LayoutModel",
      "state": {}
     },
     "fb4293308f88490fb59c42c19208ed18": {
      "model_module": "@jupyter-widgets/controls",
      "model_module_version": "1.4.0",
      "model_name": "ButtonModel",
      "state": {
       "description": "1",
       "layout": "IPY_MODEL_7fe075302e5d48c892cb8cd1e3d6c7b6",
       "style": "IPY_MODEL_c5d425a52b554dfa8b9569526391dff3"
      }
     },
     "fb518c9b15bd474c928ad9372b8d827a": {
      "model_module": "@jupyter-widgets/output",
      "model_module_version": "1.0.0",
      "model_name": "OutputModel",
      "state": {
       "layout": "IPY_MODEL_c2e3061355234d0eb1266329f30b3035"
      }
     },
     "fb584148a442407d94317c587e2a6896": {
      "model_module": "@jupyter-widgets/output",
      "model_module_version": "1.0.0",
      "model_name": "OutputModel",
      "state": {
       "layout": "IPY_MODEL_37fc4a33aa7f46919a8cd94f4ac6368c"
      }
     },
     "fb88fabf3fd840b4953145a41f6c4094": {
      "model_module": "@jupyter-widgets/base",
      "model_module_version": "1.1.0",
      "model_name": "LayoutModel",
      "state": {}
     },
     "fbb40d52880541cd920753ce87321032": {
      "model_module": "@jupyter-widgets/base",
      "model_module_version": "1.1.0",
      "model_name": "LayoutModel",
      "state": {
       "width": "95%"
      }
     },
     "fbb922e860f540a8bef0a98f69bda217": {
      "model_module": "@jupyter-widgets/output",
      "model_module_version": "1.0.0",
      "model_name": "OutputModel",
      "state": {
       "layout": "IPY_MODEL_82209664ac9942e49a7fe4bc9cdee191"
      }
     },
     "fbc020c372234cdfb288955d74e762fb": {
      "model_module": "@jupyter-widgets/base",
      "model_module_version": "1.1.0",
      "model_name": "LayoutModel",
      "state": {
       "width": "95%"
      }
     },
     "fbcf0d2374074a09a5e41704d993bce0": {
      "model_module": "@jupyter-widgets/base",
      "model_module_version": "1.1.0",
      "model_name": "LayoutModel",
      "state": {}
     },
     "fbdd04560d734d3d93f851d01bb44784": {
      "model_module": "@jupyter-widgets/controls",
      "model_module_version": "1.4.0",
      "model_name": "VBoxModel",
      "state": {
       "children": [
        "IPY_MODEL_af9eb3b9648d48ee9b02a5c8ed2dfc47",
        "IPY_MODEL_2ef27f85a8a5485389b248fa2cb86114"
       ],
       "layout": "IPY_MODEL_b0c0dd804bf542b69b6d5bbaaa2cbb3b"
      }
     },
     "fbf329af6c8245568bca53f5b542a4b5": {
      "model_module": "@jupyter-widgets/controls",
      "model_module_version": "1.4.0",
      "model_name": "ButtonModel",
      "state": {
       "description": "9",
       "layout": "IPY_MODEL_60adac006988461d877d8c32f4761c2b",
       "style": "IPY_MODEL_4e96d0b5e8f64139ba3e23660ba4795f"
      }
     },
     "fc2304d96af040a7a172a919e90313f5": {
      "model_module": "@jupyter-widgets/output",
      "model_module_version": "1.0.0",
      "model_name": "OutputModel",
      "state": {
       "layout": "IPY_MODEL_584d25d7f55a4d99b2c201c7145fc1a0"
      }
     },
     "fc2e768657154d42bd5ec73539c9b00e": {
      "model_module": "@jupyter-widgets/output",
      "model_module_version": "1.0.0",
      "model_name": "OutputModel",
      "state": {
       "layout": "IPY_MODEL_4be5df83b3614936b0f0ded85fe4fd1d"
      }
     },
     "fc61288ae33447509e06e14d0780b498": {
      "model_module": "@jupyter-widgets/base",
      "model_module_version": "1.1.0",
      "model_name": "LayoutModel",
      "state": {
       "width": "95%"
      }
     },
     "fc675a2567ad4ce48c9c0f3e5451d4f2": {
      "model_module": "@jupyter-widgets/controls",
      "model_module_version": "1.4.0",
      "model_name": "HBoxModel",
      "state": {
       "children": [
        "IPY_MODEL_71e1f09e3c9c4b2ea07ad9abfb0c082d",
        "IPY_MODEL_08706ea73cbc496d84b9e2a8f8c43b11"
       ],
       "layout": "IPY_MODEL_e07514402ddf4e6bac6471f1b585758c"
      }
     },
     "fc868f9f3a854a65aaf0b68aa50a6142": {
      "model_module": "@jupyter-widgets/controls",
      "model_module_version": "1.4.0",
      "model_name": "ButtonStyleModel",
      "state": {}
     },
     "fc87c12a8b9a449b88e5fbf50ca8c7a2": {
      "model_module": "@jupyter-widgets/controls",
      "model_module_version": "1.4.0",
      "model_name": "HBoxModel",
      "state": {
       "children": [
        "IPY_MODEL_a7b44988270847eabb0bf8f369e3567b",
        "IPY_MODEL_8ff52e9bec0d4c2bbfd8b2d96b28d24c",
        "IPY_MODEL_85b809c18a6c4a50963c04ccc34d9c28"
       ],
       "layout": "IPY_MODEL_47c4b985d1644eb2ab4edc904ea50a03"
      }
     },
     "fc94cf39845d4333be32bd0e0a2bf283": {
      "model_module": "@jupyter-widgets/controls",
      "model_module_version": "1.4.0",
      "model_name": "ButtonStyleModel",
      "state": {}
     },
     "fcab8ec58dff45438c72ca50c8303a6b": {
      "model_module": "@jupyter-widgets/output",
      "model_module_version": "1.0.0",
      "model_name": "OutputModel",
      "state": {
       "layout": "IPY_MODEL_69b775bb844b40e096e13545b7fca94e"
      }
     },
     "fcb01f5186574867ab58ca17384683e2": {
      "model_module": "@jupyter-widgets/controls",
      "model_module_version": "1.4.0",
      "model_name": "ButtonModel",
      "state": {
       "description": "0",
       "layout": "IPY_MODEL_655efb42c6e845e283b786edee2755d3",
       "style": "IPY_MODEL_89c2fca9062449e084514140553b2415"
      }
     },
     "fcb0c8107c5947ed98eea7fd34bc8a6b": {
      "model_module": "@jupyter-widgets/controls",
      "model_module_version": "1.4.0",
      "model_name": "VBoxModel",
      "state": {
       "children": [
        "IPY_MODEL_428d9e632b6640258608b48dacb8c44d",
        "IPY_MODEL_03f88f3dba354fada6b8477b82576915"
       ],
       "layout": "IPY_MODEL_97431b88fc6a4ce69eed934b3ba0ab90"
      }
     },
     "fce88cc21a0f49888d966deba4f4788a": {
      "model_module": "@jupyter-widgets/base",
      "model_module_version": "1.1.0",
      "model_name": "LayoutModel",
      "state": {
       "justify_content": "space-between"
      }
     },
     "fd0266cd22364590af52d6e9442acd42": {
      "model_module": "@jupyter-widgets/output",
      "model_module_version": "1.0.0",
      "model_name": "OutputModel",
      "state": {
       "layout": "IPY_MODEL_95bb1e2f48ba46119a38cbd738dd2dcc"
      }
     },
     "fd0ec1964ff941908911b79ca742b83b": {
      "model_module": "@jupyter-widgets/base",
      "model_module_version": "1.1.0",
      "model_name": "LayoutModel",
      "state": {
       "width": "10%"
      }
     },
     "fd2a5b289edb4622a87df1ce49f9e001": {
      "model_module": "@jupyter-widgets/base",
      "model_module_version": "1.1.0",
      "model_name": "LayoutModel",
      "state": {
       "justify_content": "space-between"
      }
     },
     "fd2eb146f5894feca8351d795a690978": {
      "model_module": "@jupyter-widgets/output",
      "model_module_version": "1.0.0",
      "model_name": "OutputModel",
      "state": {
       "layout": "IPY_MODEL_047c98a554f142e49d20a69894dd9fcb"
      }
     },
     "fd43806435a8466ab7a7736ed0fb19f8": {
      "model_module": "@jupyter-widgets/base",
      "model_module_version": "1.1.0",
      "model_name": "LayoutModel",
      "state": {
       "width": "10%"
      }
     },
     "fd44a76b73a648148798d760b23b3d2a": {
      "model_module": "@jupyter-widgets/base",
      "model_module_version": "1.1.0",
      "model_name": "LayoutModel",
      "state": {
       "width": "10%"
      }
     },
     "fd49a1082356403dae178b0181763038": {
      "model_module": "@jupyter-widgets/base",
      "model_module_version": "1.1.0",
      "model_name": "LayoutModel",
      "state": {
       "width": "95%"
      }
     },
     "fd4aa5b2a12849db8763c5f354d8938e": {
      "model_module": "@jupyter-widgets/controls",
      "model_module_version": "1.4.0",
      "model_name": "HBoxModel",
      "state": {
       "children": [
        "IPY_MODEL_7544797e9e674362958c818e29e3cbb0",
        "IPY_MODEL_fe2b650ad33c4bbcaf4269da691a53ca"
       ],
       "layout": "IPY_MODEL_97eff644898c48caadea070f74bd0980"
      }
     },
     "fd5a250f30ce4de9abf2f83afa3c2149": {
      "model_module": "@jupyter-widgets/controls",
      "model_module_version": "1.4.0",
      "model_name": "ButtonStyleModel",
      "state": {}
     },
     "fd6578d4d24a415b8a1845c1e2c08c58": {
      "model_module": "@jupyter-widgets/controls",
      "model_module_version": "1.4.0",
      "model_name": "HBoxModel",
      "state": {
       "children": [
        "IPY_MODEL_a7b44988270847eabb0bf8f369e3567b",
        "IPY_MODEL_8ff52e9bec0d4c2bbfd8b2d96b28d24c",
        "IPY_MODEL_85b809c18a6c4a50963c04ccc34d9c28"
       ],
       "layout": "IPY_MODEL_c36c353acb2c4376a837e4fe8b11e9ee"
      }
     },
     "fd6d1239ac1c46909ffb26d1c245675c": {
      "model_module": "@jupyter-widgets/controls",
      "model_module_version": "1.4.0",
      "model_name": "ButtonStyleModel",
      "state": {}
     },
     "fd7308fa11604f3d8944c9d824f7490a": {
      "model_module": "@jupyter-widgets/controls",
      "model_module_version": "1.4.0",
      "model_name": "ButtonStyleModel",
      "state": {}
     },
     "fd81d8d5c8b648fa97c234996ddf700d": {
      "model_module": "@jupyter-widgets/controls",
      "model_module_version": "1.4.0",
      "model_name": "ButtonStyleModel",
      "state": {}
     },
     "fd86ec101d0948599273202ae2a59890": {
      "model_module": "@jupyter-widgets/base",
      "model_module_version": "1.1.0",
      "model_name": "LayoutModel",
      "state": {
       "width": "10%"
      }
     },
     "fd94133a71c44a349d4bee638087f5a8": {
      "model_module": "@jupyter-widgets/base",
      "model_module_version": "1.1.0",
      "model_name": "LayoutModel",
      "state": {}
     },
     "fdd2bf4807f945ae9b3146309d0eb736": {
      "model_module": "@jupyter-widgets/base",
      "model_module_version": "1.1.0",
      "model_name": "LayoutModel",
      "state": {
       "width": "95%"
      }
     },
     "fe0d1e4ca76c4e13b93ff75af88a8ff1": {
      "model_module": "@jupyter-widgets/base",
      "model_module_version": "1.1.0",
      "model_name": "LayoutModel",
      "state": {
       "width": "10%"
      }
     },
     "fe281c7f58254b418333ceb7a06c35ca": {
      "model_module": "@jupyter-widgets/base",
      "model_module_version": "1.1.0",
      "model_name": "LayoutModel",
      "state": {
       "justify_content": "space-between"
      }
     },
     "fe2b650ad33c4bbcaf4269da691a53ca": {
      "model_module": "@jupyter-widgets/controls",
      "model_module_version": "1.4.0",
      "model_name": "HBoxModel",
      "state": {
       "children": [
        "IPY_MODEL_a7b44988270847eabb0bf8f369e3567b",
        "IPY_MODEL_8ff52e9bec0d4c2bbfd8b2d96b28d24c",
        "IPY_MODEL_85b809c18a6c4a50963c04ccc34d9c28"
       ],
       "layout": "IPY_MODEL_3b944c152415452d8752f674cc596661"
      }
     },
     "fe5fb9f1b53e48519071092d74aa1db7": {
      "model_module": "@jupyter-widgets/output",
      "model_module_version": "1.0.0",
      "model_name": "OutputModel",
      "state": {
       "layout": "IPY_MODEL_6edf7e741c12451eae21bfcfff5a28b9"
      }
     },
     "fe72ce52a3f94e66b503b7c0d45e3439": {
      "model_module": "@jupyter-widgets/controls",
      "model_module_version": "1.4.0",
      "model_name": "ButtonStyleModel",
      "state": {}
     },
     "fe7352b1b4fd4e85a7a0a240dbffc9fe": {
      "model_module": "@jupyter-widgets/base",
      "model_module_version": "1.1.0",
      "model_name": "LayoutModel",
      "state": {}
     },
     "fe740a0803f04cdb89ceb99ce4de83d1": {
      "model_module": "@jupyter-widgets/output",
      "model_module_version": "1.0.0",
      "model_name": "OutputModel",
      "state": {
       "layout": "IPY_MODEL_5082bc02532a4d1a996a6cb6520eac7c"
      }
     },
     "fe74cd50c874406698695557752b6447": {
      "model_module": "@jupyter-widgets/base",
      "model_module_version": "1.1.0",
      "model_name": "LayoutModel",
      "state": {
       "width": "95%"
      }
     },
     "fe807e81694d4e849fa63b8d77ac4ae5": {
      "model_module": "@jupyter-widgets/output",
      "model_module_version": "1.0.0",
      "model_name": "OutputModel",
      "state": {
       "layout": "IPY_MODEL_faace9f13ab94673807bd9e4678777d2"
      }
     },
     "fe81e6a7812e4045a7c7dd3b051f9eab": {
      "model_module": "@jupyter-widgets/output",
      "model_module_version": "1.0.0",
      "model_name": "OutputModel",
      "state": {
       "layout": "IPY_MODEL_91dd0626dd5f4798a71f4f7de406e026"
      }
     },
     "fe8ecb61a167408b97e1898fe0c15808": {
      "model_module": "@jupyter-widgets/output",
      "model_module_version": "1.0.0",
      "model_name": "OutputModel",
      "state": {
       "layout": "IPY_MODEL_18e0571ccfde437fa0bfa6ebab8497ed"
      }
     },
     "fe9a609842574324b508a50c83bc57ca": {
      "model_module": "@jupyter-widgets/output",
      "model_module_version": "1.0.0",
      "model_name": "OutputModel",
      "state": {
       "layout": "IPY_MODEL_5704595b3cdb4db3817ce2390a85512d"
      }
     },
     "fe9cdb00e22847a4a97a57c375b760b4": {
      "model_module": "@jupyter-widgets/output",
      "model_module_version": "1.0.0",
      "model_name": "OutputModel",
      "state": {
       "layout": "IPY_MODEL_c0e1b062b22f44109f28884207c08f62"
      }
     },
     "fe9f33321cf1401d913dffb4f72f3075": {
      "model_module": "@jupyter-widgets/base",
      "model_module_version": "1.1.0",
      "model_name": "LayoutModel",
      "state": {}
     },
     "fea1eea72288478b80ab9e3081ec99ef": {
      "model_module": "@jupyter-widgets/base",
      "model_module_version": "1.1.0",
      "model_name": "LayoutModel",
      "state": {
       "width": "10%"
      }
     },
     "febcbc5b834248549bfd5f94bb0316e7": {
      "model_module": "@jupyter-widgets/base",
      "model_module_version": "1.1.0",
      "model_name": "LayoutModel",
      "state": {
       "width": "10%"
      }
     },
     "fefa00241dda40f2b7610ccbf21cc032": {
      "model_module": "@jupyter-widgets/base",
      "model_module_version": "1.1.0",
      "model_name": "LayoutModel",
      "state": {}
     },
     "ff050ed2436641aa9662449fce9b4d33": {
      "model_module": "@jupyter-widgets/output",
      "model_module_version": "1.0.0",
      "model_name": "OutputModel",
      "state": {
       "layout": "IPY_MODEL_4189aac09f604d938b627141fac7e27c"
      }
     },
     "ff49519e3cb4420facdcb25cfaa8aa72": {
      "model_module": "@jupyter-widgets/base",
      "model_module_version": "1.1.0",
      "model_name": "LayoutModel",
      "state": {
       "width": "95%"
      }
     },
     "ff496ad485744f8483565153efd7abd5": {
      "model_module": "@jupyter-widgets/controls",
      "model_module_version": "1.4.0",
      "model_name": "ButtonModel",
      "state": {
       "description": "5",
       "layout": "IPY_MODEL_0259cfdd4268498187111e5b3f4edd87",
       "style": "IPY_MODEL_2cb08db94e324f85ae374ead57470388"
      }
     },
     "ff4b3acafa6c494ab433159419102898": {
      "model_module": "@jupyter-widgets/base",
      "model_module_version": "1.1.0",
      "model_name": "LayoutModel",
      "state": {}
     },
     "ff4edc44cffb4871982a41e2da5e820e": {
      "model_module": "@jupyter-widgets/base",
      "model_module_version": "1.1.0",
      "model_name": "LayoutModel",
      "state": {
       "width": "10%"
      }
     },
     "ff60b56f2bbc4f11b4302bc2bd5182fd": {
      "model_module": "@jupyter-widgets/output",
      "model_module_version": "1.0.0",
      "model_name": "OutputModel",
      "state": {
       "layout": "IPY_MODEL_f956dc409c7042bc87fd8c6161dc06b0"
      }
     },
     "ff60cc5d24a04b8c8d3c65b82f529ba8": {
      "model_module": "@jupyter-widgets/controls",
      "model_module_version": "1.4.0",
      "model_name": "ButtonModel",
      "state": {
       "description": "7",
       "layout": "IPY_MODEL_714890de10ac48e995d8e15c74c09842",
       "style": "IPY_MODEL_8f738b74d01745788e887be21f728182"
      }
     },
     "ff685f88e7e34fbea07eacf0734bbe83": {
      "model_module": "@jupyter-widgets/controls",
      "model_module_version": "1.4.0",
      "model_name": "ButtonStyleModel",
      "state": {}
     },
     "ff7fe6749d0a4ccb9f227d9bee3ab03a": {
      "model_module": "@jupyter-widgets/controls",
      "model_module_version": "1.4.0",
      "model_name": "ButtonStyleModel",
      "state": {}
     },
     "ffb8bde18c8d4032850e52ea836962a7": {
      "model_module": "@jupyter-widgets/controls",
      "model_module_version": "1.4.0",
      "model_name": "ButtonStyleModel",
      "state": {}
     },
     "ffd86fad77da47d784220083ea4c8e3e": {
      "model_module": "@jupyter-widgets/controls",
      "model_module_version": "1.4.0",
      "model_name": "ButtonStyleModel",
      "state": {}
     },
     "ffe27da7757a42eea4819558dd978606": {
      "model_module": "@jupyter-widgets/base",
      "model_module_version": "1.1.0",
      "model_name": "LayoutModel",
      "state": {}
     }
    },
    "version_major": 2,
    "version_minor": 0
   }
  }
 },
 "nbformat": 4,
 "nbformat_minor": 2
}
