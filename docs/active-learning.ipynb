{
 "cells": [
  {
   "cell_type": "markdown",
   "metadata": {},
   "source": [
    "# Active learning with `superintendent`"
   ]
  },
  {
   "cell_type": "markdown",
   "metadata": {},
   "source": [
    "## What is active learning?\n",
    "\n",
    "[Active learning](https://en.wikipedia.org/wiki/Active_learning_(machine_learning)) is a\n",
    "semi-supervised machine learning approach that involves labelling data to optimally train\n",
    "a machine learning model.\n",
    "\n",
    "This means a human and a machine learning algorithm interact, with the human labelling\n",
    "cases the machine learning algorithm is most unsure about.\n",
    "\n",
    "A common implementation is what is known as \"pool-based\" active learning:\n",
    "You label a few cases, train your model, make predictions about the unlabelled data, and\n",
    "then label the points for which your model is not (yet) producing high-probability\n",
    "predictions.\n",
    "\n",
    "The rough steps are:\n",
    "\n",
    "![Pool-based active learning diagram](img/active-learning-diagram.png)\n",
    "\n",
    "This approach is generally more efficient than labelling data points at random, and it\n",
    "allows you to reach a better model performance faster.\n"
   ]
  },
  {
   "cell_type": "markdown",
   "metadata": {},
   "source": [
    "## Active learning in `superintendent`\n",
    "\n",
    "The active learning process in superintendent is easy. `superintendent` is designed to work\n",
    "with any machine learning model that outputs continuous probabilities and follows the [scikit-learn](https://scikit-learn.org/stable/)\n",
    "interface (i.e. the model implements a `fit` and `predict_proba` method).\n",
    "\n",
    "You then simply pass the model, as well as a method of re-ordering the data, to a `superintendent`\n",
    "widget. This then gives you a button that allows you to re-train a model.\n",
    "\n",
    "To demonstrate this, we'll create manual labels for the MNIST dataset, which we can download using scikit-learn's datasets module. For simplicity, we will only use the first 500 images."
   ]
  },
  {
   "cell_type": "code",
   "execution_count": 1,
   "metadata": {},
   "outputs": [
    {
     "name": "stdout",
     "output_type": "stream",
     "text": [
      "(500, 64)\n"
     ]
    }
   ],
   "source": [
    "from sklearn.datasets import load_digits\n",
    "digits = load_digits().data[:500, :]\n",
    "\n",
    "print(digits.shape)\n"
   ]
  },
  {
   "cell_type": "markdown",
   "metadata": {},
   "source": [
    "These are 8x8 pixel images, but the 64 pixels have been \"flattened\" into the second array dimension, which we can undo:"
   ]
  },
  {
   "cell_type": "code",
   "execution_count": 2,
   "metadata": {},
   "outputs": [
    {
     "name": "stdout",
     "output_type": "stream",
     "text": [
      "(500, 8, 8)\n"
     ]
    }
   ],
   "source": [
    "digits = digits.reshape(-1, 8, 8)\n",
    "print(digits.shape)\n"
   ]
  },
  {
   "cell_type": "markdown",
   "metadata": {},
   "source": [
    "To label this data, we need a \"data annotation\" widget. Superintendent does not ship the functionality to annotate data itself. Instead, it is designed to work with separate, modular data annotation widgets. In particular, the `ipyannotations` library, which is maintained by the same people, works well:"
   ]
  },
  {
   "cell_type": "code",
   "execution_count": 3,
   "metadata": {},
   "outputs": [
    {
     "data": {
      "application/vnd.jupyter.widget-view+json": {
       "model_id": "594df029e0434a9ea90212a2e9548388",
       "version_major": 2,
       "version_minor": 0
      },
      "text/plain": [
       "ClassLabeller(children=(Box(children=(Output(layout=Layout(margin='auto', min_height='50px')),), layout=Layout…"
      ]
     },
     "execution_count": 3,
     "metadata": {},
     "output_type": "execute_result"
    }
   ],
   "source": [
    "from ipyannotations.images import ClassLabeller\n",
    "\n",
    "annotation_widget = ClassLabeller(\n",
    "    options=[f\"{i}\" for i in range(10)],\n",
    "    image_size=(256, 256),\n",
    "    allow_freetext=False)\n",
    "\n",
    "annotation_widget.display(digits[0])\n",
    "annotation_widget"
   ]
  },
  {
   "cell_type": "markdown",
   "metadata": {},
   "source": [
    "For `superintendent`, we will use this annotation widget to actually collect labels. However, first we need to think about how we are going to use machine learning to make this easiest."
   ]
  },
  {
   "cell_type": "markdown",
   "metadata": {},
   "source": [
    "Now, in most applications these days, you would likely classify images using a convolutional neural network. But for now, we can take a stab at\n",
    "it using a simple logistic regression model, which isn't great, but fairly good."
   ]
  },
  {
   "cell_type": "code",
   "execution_count": 4,
   "metadata": {},
   "outputs": [],
   "source": [
    "from sklearn.linear_model import LogisticRegression\n",
    "\n",
    "model = LogisticRegression(\n",
    "    solver=\"lbfgs\",\n",
    "    multi_class=\"multinomial\",\n",
    "    max_iter=5000\n",
    ")\n"
   ]
  },
  {
   "cell_type": "markdown",
   "metadata": {},
   "source": [
    "In addition, all scikit-learn models expect data to be \"rectangular\". This means we need to preprocess the data that goes into our model. We can pass an arbitrary pre-processing function to superintendent - as long as it accepts the features and labels, and returns the transformed features and labels:"
   ]
  },
  {
   "cell_type": "code",
   "execution_count": 5,
   "metadata": {},
   "outputs": [],
   "source": [
    "def preprocess_mnist(x, y):\n",
    "    return x.reshape(-1, 64), y"
   ]
  },
  {
   "cell_type": "markdown",
   "metadata": {},
   "source": [
    "Now that we have a dataset, as well as a supervised machine learning \n",
    "model we want to train on our dataset, we can pass both to `superintendent`'s `ClassLabeller`. This will create an interface for us to label data, retrain our model, *and* benefit from active learning.\n",
    "\n",
    "Since we are using images, we can use the `from_images` class constructor\n",
    "that sets the correct display function for us."
   ]
  },
  {
   "cell_type": "code",
   "execution_count": 6,
   "metadata": {},
   "outputs": [
    {
     "name": "stderr",
     "output_type": "stream",
     "text": [
      "/mnt/c/Users/janfr/github/superintendent/.venv/lib/python3.10/site-packages/superintendent/base.py:98: UserWarning: You are using an in-memory SQLite database. Even when labelling locally, it is recommended to use a persistend DB. You can try passing sqlite:///test.db.\n",
      "  warnings.warn(\n"
     ]
    },
    {
     "data": {
      "application/vnd.jupyter.widget-view+json": {
       "model_id": "9962d5162a7d47a0acfd36cde9ab65d2",
       "version_major": 2,
       "version_minor": 0
      },
      "text/plain": [
       "Superintendent(children=(HBox(children=(HBox(children=(FloatProgress(value=0.0, description='Progress:', max=1…"
      ]
     },
     "execution_count": 6,
     "metadata": {},
     "output_type": "execute_result"
    }
   ],
   "source": [
    "from superintendent import Superintendent\n",
    "\n",
    "data_labeller = Superintendent(\n",
    "    features=digits,\n",
    "    model=model,\n",
    "    labelling_widget=annotation_widget,\n",
    "    acquisition_function='entropy',\n",
    "    model_preprocess=preprocess_mnist\n",
    ")\n",
    "\n",
    "data_labeller"
   ]
  },
  {
   "cell_type": "markdown",
   "metadata": {},
   "source": [
    "Whenever you re-train a model, if you have also specified the `acquisition_function` keyword argument, the data will be automatically re-ordered in a way prioritise the optimal subsequent data points.\n",
    "\n",
    "Additionally, the widget will display your accuracy on the data you have already labelled. This is evaluated as the mean model score across three folds of cross-validated evaluation."
   ]
  },
  {
   "cell_type": "markdown",
   "metadata": {},
   "source": [
    "## Active learning strategies"
   ]
  },
  {
   "cell_type": "markdown",
   "metadata": {},
   "source": [
    "Superintendet currently implements the following strategies:"
   ]
  },
  {
   "cell_type": "raw",
   "metadata": {
    "raw_mimetype": "text/restructuredtext"
   },
   "source": [
    ".. autosummary::\n",
    "   ~superintendent.acquisition_functions.entropy\n",
    "   ~superintendent.acquisition_functions.margin\n",
    "   ~superintendent.acquisition_functions.certainty"
   ]
  },
  {
   "cell_type": "markdown",
   "metadata": {},
   "source": [
    "You can implement your own strategy: the functions should simply take in a numpy array (shape *n_samples, n_classes*) of probabilities of each class for each sample, and return a ranking of the rows of that array.\n",
    "\n",
    "For example, if sorting by margin, an input of:\n",
    "\n",
    "| 0    \t| 1    \t| 2    \t|\n",
    "|------\t|------\t|------\t|\n",
    "| 0.1  \t| 0.8  \t| 0.1  \t|\n",
    "| 0.3  \t| 0.3  \t| 0.4  \t|\n",
    "| 0.33 \t| 0.33 \t| 0.34 \t|\n",
    "| 0.01 \t| 0.01 \t| 0.98 \t|\n",
    "\n",
    "Should produce an output of:\n",
    "\n",
    "```\n",
    "[2, 1, 0, 3]\n",
    "```\n",
    "\n",
    "because the third entry has the lowest margin, then the second entry, then the first, and then the last."
   ]
  },
  {
   "cell_type": "markdown",
   "metadata": {},
   "source": [
    "## Active learning for multi-output widgets\n",
    "\n",
    "When you pass a model into a multi-labelling widget, `superintendent` will wrap your model in a \n",
    "[MultiOutputClassifier](https://scikit-learn.org/stable/modules/generated/sklearn.multioutput.MultiOutputClassifier.html)\n",
    "wrapper class.\n",
    "\n",
    "The active learning strategy will average the metric used for prioritisation (e.g. certainty,\n",
    "margin) across the different classes."
   ]
  },
  {
   "cell_type": "markdown",
   "metadata": {},
   "source": [
    "## Preprocessing data before passing it to the model\n",
    "\n",
    "In general, you will often want to pass different parts of your data to your display function\n",
    "and your model. In general, superintendent does not provide \"pre-model\" hooks. Instead, any\n",
    "pre-processing that is specific to your model or your display function, can be specified in\n",
    "the `display_func`, or in a\n",
    "[scikit-learn Pipeline](https://scikit-learn.org/stable/modules/generated/sklearn.pipeline.Pipeline.html)\n",
    "object.\n",
    "\n",
    "You can find an example of this [here](examples/preprocessing-data.ipynb)\n"
   ]
  },
  {
   "cell_type": "markdown",
   "metadata": {},
   "source": [
    "## What model to choose\n",
    "\n",
    "The choice of model is ultimately driven by the same factors that should drive\n",
    "your model choice if you had a complete set of labelled data and wanted to build\n",
    "a supervised machine learning model."
   ]
  }
 ],
 "metadata": {
  "celltoolbar": "Raw Cell Format",
  "kernelspec": {
   "display_name": "Python 3 (ipykernel)",
   "language": "python",
   "name": "python3"
  },
  "language_info": {
   "codemirror_mode": {
    "name": "ipython",
    "version": 3
   },
   "file_extension": ".py",
   "mimetype": "text/x-python",
   "name": "python",
   "nbconvert_exporter": "python",
   "pygments_lexer": "ipython3",
   "version": "3.10.5"
  },
  "vscode": {
   "interpreter": {
    "hash": "424482400368079d7a19ebc568239abedfff4a2a8fa6cce3db33d42e23c84a40"
   }
  },
  "widgets": {
   "application/vnd.jupyter.widget-state+json": {
    "state": {
     "002d171b7d3148928b2e175900e88182": {
      "model_module": "@jupyter-widgets/controls",
      "model_module_version": "1.5.0",
      "model_name": "ButtonModel",
      "state": {
       "description": "8",
       "layout": "IPY_MODEL_7f2df1d3319b4d0fa6b55e26072296c5",
       "style": "IPY_MODEL_2d52e266a16e41fcb14fa917950152eb"
      }
     },
     "005e8b9da124491faafeb4dfe00dedb4": {
      "model_module": "@jupyter-widgets/base",
      "model_module_version": "1.2.0",
      "model_name": "LayoutModel",
      "state": {}
     },
     "00797ff546d54c9fbc35122f337d50ae": {
      "model_module": "@jupyter-widgets/controls",
      "model_module_version": "1.5.0",
      "model_name": "ButtonStyleModel",
      "state": {}
     },
     "00910b0bf2844940811309186a06d97d": {
      "model_module": "@jupyter-widgets/base",
      "model_module_version": "1.2.0",
      "model_name": "LayoutModel",
      "state": {
       "width": "95%"
      }
     },
     "00a8330f7b3e453395c2622ee1ba69fd": {
      "model_module": "@jupyter-widgets/base",
      "model_module_version": "1.2.0",
      "model_name": "LayoutModel",
      "state": {
       "width": "95%"
      }
     },
     "00d4a709bc054bcda7ffb63ba9f6f486": {
      "model_module": "@jupyter-widgets/output",
      "model_module_version": "1.0.0",
      "model_name": "OutputModel",
      "state": {
       "layout": "IPY_MODEL_695f7a0216654af8bfa5fd9c5bc72d3f"
      }
     },
     "0100c771047744f48a41c9310543472e": {
      "model_module": "@jupyter-widgets/base",
      "model_module_version": "1.2.0",
      "model_name": "LayoutModel",
      "state": {
       "width": "95%"
      }
     },
     "0101293ec5ca4ade8cb4b9e8b12201f4": {
      "model_module": "@jupyter-widgets/base",
      "model_module_version": "1.2.0",
      "model_name": "LayoutModel",
      "state": {
       "width": "95%"
      }
     },
     "01280483d03641a0b54084bae0fa9616": {
      "model_module": "@jupyter-widgets/controls",
      "model_module_version": "1.5.0",
      "model_name": "VBoxModel",
      "state": {
       "children": [
        "IPY_MODEL_6bc38d2b095c49469fcb24d0cf0ef8c7",
        "IPY_MODEL_18df898210b546728738a4f7c79072ca"
       ],
       "layout": "IPY_MODEL_3e3fd909c2124df1984e9bd1f152049d"
      }
     },
     "01380d48bce64708949bea5dc7289f60": {
      "model_module": "@jupyter-widgets/controls",
      "model_module_version": "1.5.0",
      "model_name": "VBoxModel",
      "state": {
       "children": [
        "IPY_MODEL_ec429cd7bd14421b982411d6f1b1e390",
        "IPY_MODEL_e3f9b00241314fdbbbab47b1c65ef446"
       ],
       "layout": "IPY_MODEL_b822f300b48f4b58b44fe65dcdfd0247"
      }
     },
     "01483d25f0cd4f6ea64f459cff82375c": {
      "model_module": "@jupyter-widgets/controls",
      "model_module_version": "1.5.0",
      "model_name": "ButtonModel",
      "state": {
       "description": "9",
       "layout": "IPY_MODEL_f6269150336f4c03963fbe88c24436d8",
       "style": "IPY_MODEL_3e7964f9c7974c2e9ae996d734f29691"
      }
     },
     "0186fdc4e3d44fb898ea9b5392b5bae8": {
      "model_module": "@jupyter-widgets/base",
      "model_module_version": "1.2.0",
      "model_name": "LayoutModel",
      "state": {
       "width": "95%"
      }
     },
     "019b05b692a545c2a83f646c130c5c06": {
      "model_module": "@jupyter-widgets/output",
      "model_module_version": "1.0.0",
      "model_name": "OutputModel",
      "state": {
       "layout": "IPY_MODEL_b400208a62c44fea9479a75cb3e9f556"
      }
     },
     "01f8fd0d7b574eb49d4e1405d789b8c8": {
      "model_module": "@jupyter-widgets/base",
      "model_module_version": "1.2.0",
      "model_name": "LayoutModel",
      "state": {
       "width": "95%"
      }
     },
     "020789f89d6c4ae5b336c510bb2259a6": {
      "model_module": "@jupyter-widgets/controls",
      "model_module_version": "1.5.0",
      "model_name": "VBoxModel",
      "state": {
       "children": [
        "IPY_MODEL_2929f966dec349f399c329a73cf6ea5a",
        "IPY_MODEL_e2967c5e7b584296a537861cd1f48a97"
       ],
       "layout": "IPY_MODEL_0aa5c034a9af4a5eafe499bf583416f9"
      }
     },
     "020eeb7d0cdf424583842b2776a52cdf": {
      "model_module": "@jupyter-widgets/base",
      "model_module_version": "1.2.0",
      "model_name": "LayoutModel",
      "state": {}
     },
     "0215b5d2521d49088b0cbab8405d9034": {
      "model_module": "@jupyter-widgets/base",
      "model_module_version": "1.2.0",
      "model_name": "LayoutModel",
      "state": {
       "width": "95%"
      }
     },
     "022b5b5c393d41ef9ebee6d6cb0e7265": {
      "model_module": "@jupyter-widgets/base",
      "model_module_version": "1.2.0",
      "model_name": "LayoutModel",
      "state": {
       "width": "95%"
      }
     },
     "0245206af89747a1bf5c1cb2d8a8a441": {
      "model_module": "@jupyter-widgets/controls",
      "model_module_version": "1.5.0",
      "model_name": "ButtonStyleModel",
      "state": {}
     },
     "0286a648921c43f8a9567710db767677": {
      "model_module": "@jupyter-widgets/controls",
      "model_module_version": "1.5.0",
      "model_name": "ButtonModel",
      "state": {
       "description": "6",
       "layout": "IPY_MODEL_6c845ae0f9524ef5b3ad6c2a558da07c",
       "style": "IPY_MODEL_7eab433b2ccb408da177a3ca4cb0e849"
      }
     },
     "0290ef416c9f4b38a88a2978f673406f": {
      "model_module": "@jupyter-widgets/base",
      "model_module_version": "1.2.0",
      "model_name": "LayoutModel",
      "state": {
       "width": "10%"
      }
     },
     "02f8f1bbe93547fca52b22508e7c6eeb": {
      "model_module": "@jupyter-widgets/base",
      "model_module_version": "1.2.0",
      "model_name": "LayoutModel",
      "state": {
       "width": "10%"
      }
     },
     "03134387d8a946a49abe5ff9e731d60c": {
      "model_module": "@jupyter-widgets/controls",
      "model_module_version": "1.5.0",
      "model_name": "ButtonModel",
      "state": {
       "description": "2",
       "layout": "IPY_MODEL_f41a1ed385a447649612098be2f27de3",
       "style": "IPY_MODEL_10077b23af554ce4a64cf633f7bd6232"
      }
     },
     "032516b609454dd2b075ebd7264f2b4d": {
      "model_module": "@jupyter-widgets/base",
      "model_module_version": "1.2.0",
      "model_name": "LayoutModel",
      "state": {
       "width": "95%"
      }
     },
     "034bd35b176643559145342fe4c7e53b": {
      "model_module": "@jupyter-widgets/output",
      "model_module_version": "1.0.0",
      "model_name": "OutputModel",
      "state": {
       "layout": "IPY_MODEL_d0a103b91e9e4cc19cce48b990d2c2a5"
      }
     },
     "03936bada5124195adfb5cda3214fa20": {
      "model_module": "@jupyter-widgets/controls",
      "model_module_version": "1.5.0",
      "model_name": "HBoxModel",
      "state": {
       "children": [
        "IPY_MODEL_8f7fa0a839b14d67bfb79f2f054ffd96",
        "IPY_MODEL_72cd134826544609816dceb00ed8fe4a",
        "IPY_MODEL_98eab5840c0d4c48b1f1294166a8be7c",
        "IPY_MODEL_fcfb4c930c9c4c9b91039c8cf61547fa",
        "IPY_MODEL_ca2faf0d231340ce8487126103cdb0ef",
        "IPY_MODEL_3f9c71e3065246328a4e47f354df2325",
        "IPY_MODEL_e5c87980eca14effbc8ea8fe707bb1ec",
        "IPY_MODEL_c4b94b8c696341a387e9886f015341fc",
        "IPY_MODEL_565ae469cb234602a077e82e4a6e7e86",
        "IPY_MODEL_15ab9e7c84ef4fd8b1785584b7e6ee1a"
       ],
       "layout": "IPY_MODEL_22240a6fc9274a3f8b2598c7b1d550dd"
      }
     },
     "039a7fab470049188573a97daca20ca7": {
      "model_module": "@jupyter-widgets/output",
      "model_module_version": "1.0.0",
      "model_name": "OutputModel",
      "state": {
       "layout": "IPY_MODEL_962d9e4c543f4d50ad681bea7905668a"
      }
     },
     "03af632115a34e379bf9b23b21d699db": {
      "model_module": "@jupyter-widgets/base",
      "model_module_version": "1.2.0",
      "model_name": "LayoutModel",
      "state": {
       "width": "10%"
      }
     },
     "03ed6538d10745d59abc04684a1f1a49": {
      "model_module": "@jupyter-widgets/controls",
      "model_module_version": "1.5.0",
      "model_name": "VBoxModel",
      "state": {
       "children": [
        "IPY_MODEL_c37a8d5157c64285bf649618a2d76c3b",
        "IPY_MODEL_2712eedfc9594485a763ab33ff54b7c4"
       ],
       "layout": "IPY_MODEL_3707c411db654547a13ed018d12e4a70"
      }
     },
     "0415e423e5cb4370a2ee06c578100470": {
      "model_module": "@jupyter-widgets/base",
      "model_module_version": "1.2.0",
      "model_name": "LayoutModel",
      "state": {}
     },
     "041a4ea84b0a4535a8e77f7115664786": {
      "model_module": "@jupyter-widgets/base",
      "model_module_version": "1.2.0",
      "model_name": "LayoutModel",
      "state": {}
     },
     "041aadc58bfb4cab8a1742d295a12377": {
      "model_module": "@jupyter-widgets/controls",
      "model_module_version": "1.5.0",
      "model_name": "ButtonStyleModel",
      "state": {}
     },
     "045faf1a498e425783c166a4ffb32353": {
      "model_module": "@jupyter-widgets/output",
      "model_module_version": "1.0.0",
      "model_name": "OutputModel",
      "state": {
       "layout": "IPY_MODEL_70adc8a959594356818e8000a8e20c6e"
      }
     },
     "0466415c0a304eeb8729dee468062082": {
      "model_module": "@jupyter-widgets/base",
      "model_module_version": "1.2.0",
      "model_name": "LayoutModel",
      "state": {
       "justify_content": "space-between"
      }
     },
     "046dae274cac40d2bb7a750b2fc5ee54": {
      "model_module": "@jupyter-widgets/controls",
      "model_module_version": "1.5.0",
      "model_name": "DescriptionStyleModel",
      "state": {
       "description_width": ""
      }
     },
     "04702faa23af458882a34c4fe2400e07": {
      "model_module": "@jupyter-widgets/controls",
      "model_module_version": "1.5.0",
      "model_name": "ButtonModel",
      "state": {
       "description": "0",
       "layout": "IPY_MODEL_45760cd4acd3439aa1ede64729a24038",
       "style": "IPY_MODEL_61c69111f093446fb56825e15bf47cc0"
      }
     },
     "04988c564dae4ab284498bf9ae1a04ff": {
      "model_module": "@jupyter-widgets/controls",
      "model_module_version": "1.5.0",
      "model_name": "VBoxModel",
      "state": {
       "children": [
        "IPY_MODEL_837f667c691e42e2b4eaa4bbcea12c40",
        "IPY_MODEL_922df481cb9e490d8323f40557986915"
       ],
       "layout": "IPY_MODEL_8e2ec553c7994d169b7d9371e621f708"
      }
     },
     "04b6e4ececab481e81721803eec782cd": {
      "model_module": "@jupyter-widgets/base",
      "model_module_version": "1.2.0",
      "model_name": "LayoutModel",
      "state": {}
     },
     "04c8f5269c7643bfa5e7aa33552a8ae8": {
      "model_module": "@jupyter-widgets/output",
      "model_module_version": "1.0.0",
      "model_name": "OutputModel",
      "state": {
       "layout": "IPY_MODEL_f1fd482d8d644f738a0f4474c46454d1"
      }
     },
     "050d062158a848ef9ffade3849cb5cc2": {
      "model_module": "@jupyter-widgets/base",
      "model_module_version": "1.2.0",
      "model_name": "LayoutModel",
      "state": {
       "width": "95%"
      }
     },
     "0512ab1f6f2848c5afcd0ceda0cf55b0": {
      "model_module": "@jupyter-widgets/base",
      "model_module_version": "1.2.0",
      "model_name": "LayoutModel",
      "state": {
       "width": "95%"
      }
     },
     "056a4b1e5afb426a862ac4e09cde7475": {
      "model_module": "@jupyter-widgets/controls",
      "model_module_version": "1.5.0",
      "model_name": "ButtonStyleModel",
      "state": {}
     },
     "0586d60a8b244fd28e0b2d8e434300f9": {
      "model_module": "@jupyter-widgets/controls",
      "model_module_version": "1.5.0",
      "model_name": "ButtonStyleModel",
      "state": {}
     },
     "05b2c1d79e974d14888d69bd9f0ccba2": {
      "model_module": "@jupyter-widgets/output",
      "model_module_version": "1.0.0",
      "model_name": "OutputModel",
      "state": {
       "layout": "IPY_MODEL_f093db35a30140df98e4fc3e8167271b"
      }
     },
     "05e6383677f84e09b9c26b562548be79": {
      "model_module": "@jupyter-widgets/controls",
      "model_module_version": "1.5.0",
      "model_name": "ButtonModel",
      "state": {
       "description": "5",
       "layout": "IPY_MODEL_aac50767560544b4a72d8bb6e02e2d2f",
       "style": "IPY_MODEL_89b0bc2e003a41c0a4731b90b71e92b7"
      }
     },
     "05ea0f2964424bec91bf597327c4376d": {
      "model_module": "@jupyter-widgets/base",
      "model_module_version": "1.2.0",
      "model_name": "LayoutModel",
      "state": {
       "width": "10%"
      }
     },
     "060840d2372a481b97e82639bb592f1a": {
      "model_module": "@jupyter-widgets/controls",
      "model_module_version": "1.5.0",
      "model_name": "VBoxModel",
      "state": {
       "children": [
        "IPY_MODEL_606cd034e1384daebe6e054ad53f2284",
        "IPY_MODEL_813ba45752584a6a943c6c59e3fbf00f"
       ],
       "layout": "IPY_MODEL_86210ef17bdd4364b08922ff959d33c0"
      }
     },
     "061c5fb7a0544c97945460b55c15d65f": {
      "model_module": "@jupyter-widgets/controls",
      "model_module_version": "1.5.0",
      "model_name": "HBoxModel",
      "state": {
       "children": [
        "IPY_MODEL_1f7be19679294afcaf8a453278e5f295",
        "IPY_MODEL_61a39635f4f04dc991d1c97741deff79"
       ],
       "layout": "IPY_MODEL_87cfc0990ea040adabc4e025cd95aa1f"
      }
     },
     "061d5703158f4c6a81a8dd3b97cc7017": {
      "model_module": "@jupyter-widgets/controls",
      "model_module_version": "1.5.0",
      "model_name": "ButtonModel",
      "state": {
       "description": "9",
       "layout": "IPY_MODEL_9fec221e4a86494faf23576f517cb891",
       "style": "IPY_MODEL_a9ab851291db4b709c88eec72b887282"
      }
     },
     "069d16523e204d7d9fd7ee8b2056fd29": {
      "model_module": "@jupyter-widgets/controls",
      "model_module_version": "1.5.0",
      "model_name": "VBoxModel",
      "state": {
       "children": [
        "IPY_MODEL_1e4a17bf27584a8c803c53ac138c579c",
        "IPY_MODEL_3b48b103c3d94b06b4fabf70d647aeed"
       ],
       "layout": "IPY_MODEL_44c59045478c41c18c828549a1232ea1"
      }
     },
     "06a56a9b26744395a3217677e76641a9": {
      "model_module": "@jupyter-widgets/base",
      "model_module_version": "1.2.0",
      "model_name": "LayoutModel",
      "state": {}
     },
     "06aad6e8a40e4672b2b5dcfe415661e4": {
      "model_module": "@jupyter-widgets/base",
      "model_module_version": "1.2.0",
      "model_name": "LayoutModel",
      "state": {}
     },
     "06dea3ff91034a3192b25f7fb18a10a8": {
      "model_module": "@jupyter-widgets/output",
      "model_module_version": "1.0.0",
      "model_name": "OutputModel",
      "state": {
       "layout": "IPY_MODEL_3e152ccc8d094932964bd0d0d523aa78"
      }
     },
     "0729c7c44b1a43ada31a673887fdb0da": {
      "model_module": "@jupyter-widgets/base",
      "model_module_version": "1.2.0",
      "model_name": "LayoutModel",
      "state": {
       "width": "95%"
      }
     },
     "072bde413b644b459d48f643f330c47a": {
      "model_module": "@jupyter-widgets/controls",
      "model_module_version": "1.5.0",
      "model_name": "ButtonStyleModel",
      "state": {}
     },
     "072fbb73d701462baf7f598342616c5a": {
      "model_module": "@jupyter-widgets/controls",
      "model_module_version": "1.5.0",
      "model_name": "VBoxModel",
      "state": {
       "children": [
        "IPY_MODEL_c0c35e11e09a4374a81729d7a2c7fab3",
        "IPY_MODEL_a636390000c34a549c40ee53dc41fed5"
       ],
       "layout": "IPY_MODEL_3332f1dd542a41fea2bd9b162fdf85bb"
      }
     },
     "07360258f0784f19a84fec6763e0aaae": {
      "model_module": "@jupyter-widgets/base",
      "model_module_version": "1.2.0",
      "model_name": "LayoutModel",
      "state": {
       "width": "10%"
      }
     },
     "0738f11cd166456b93c5df78082e839f": {
      "model_module": "@jupyter-widgets/base",
      "model_module_version": "1.2.0",
      "model_name": "LayoutModel",
      "state": {}
     },
     "076855bbb3234c74a645c293045f93e9": {
      "model_module": "@jupyter-widgets/base",
      "model_module_version": "1.2.0",
      "model_name": "LayoutModel",
      "state": {}
     },
     "07709c4ff18249fc84a135cf1a5fa5c7": {
      "model_module": "@jupyter-widgets/base",
      "model_module_version": "1.2.0",
      "model_name": "LayoutModel",
      "state": {
       "width": "95%"
      }
     },
     "077e065addec413d91bc3c9fa201dc23": {
      "model_module": "@jupyter-widgets/base",
      "model_module_version": "1.2.0",
      "model_name": "LayoutModel",
      "state": {}
     },
     "07a8f89cdef5414181e5f357a9859b1c": {
      "model_module": "@jupyter-widgets/controls",
      "model_module_version": "1.5.0",
      "model_name": "ButtonModel",
      "state": {
       "description": "5",
       "layout": "IPY_MODEL_39af3482a50248ad9e58c400486ea125",
       "style": "IPY_MODEL_789c0038cdfb497d953b1fc31d52d2f2"
      }
     },
     "07abb9bafb19495ba14980d53597b28f": {
      "model_module": "@jupyter-widgets/controls",
      "model_module_version": "1.5.0",
      "model_name": "ButtonModel",
      "state": {
       "description": "8",
       "layout": "IPY_MODEL_58642a103f1340c08f6ada449fd9514e",
       "style": "IPY_MODEL_bedd9b3c5dba4ee4a80bec8d7f316b7b"
      }
     },
     "07ad6cf60518485a81cb057ffa4db923": {
      "model_module": "@jupyter-widgets/base",
      "model_module_version": "1.2.0",
      "model_name": "LayoutModel",
      "state": {
       "width": "95%"
      }
     },
     "07afa693fe4a46f9a92dbe7595083f4a": {
      "model_module": "@jupyter-widgets/output",
      "model_module_version": "1.0.0",
      "model_name": "OutputModel",
      "state": {
       "layout": "IPY_MODEL_e39e31861da54d51a3f50a9ed8da5239"
      }
     },
     "07b9e5258b71448387d42d09b7544efa": {
      "model_module": "@jupyter-widgets/controls",
      "model_module_version": "1.5.0",
      "model_name": "ButtonStyleModel",
      "state": {}
     },
     "07cc5c032dab4c56a80b795471d3b3a4": {
      "model_module": "@jupyter-widgets/output",
      "model_module_version": "1.0.0",
      "model_name": "OutputModel",
      "state": {
       "layout": "IPY_MODEL_50abafd59c0e4b1188e291bfbda57c1f"
      }
     },
     "07dba87724074c58abec7a7afab14fc3": {
      "model_module": "@jupyter-widgets/controls",
      "model_module_version": "1.5.0",
      "model_name": "VBoxModel",
      "state": {
       "children": [
        "IPY_MODEL_dc6b509965e2425da0bc2104d7040383",
        "IPY_MODEL_15f87b9860cc4611971cf216ae733d4f"
       ],
       "layout": "IPY_MODEL_1c42ffe5a49b47208c5bc393fb7d8f83"
      }
     },
     "07e4c9bb58cf463191e1428452d4e044": {
      "model_module": "@jupyter-widgets/controls",
      "model_module_version": "1.5.0",
      "model_name": "ButtonModel",
      "state": {
       "description": "0",
       "layout": "IPY_MODEL_6a4092c8689c4594af872a124540c7b3",
       "style": "IPY_MODEL_4bd5f734f5e247f68407f4d2450a4a31"
      }
     },
     "081e358b020f4bdb9fce513bfc94be52": {
      "model_module": "@jupyter-widgets/controls",
      "model_module_version": "1.5.0",
      "model_name": "VBoxModel",
      "state": {
       "children": [
        "IPY_MODEL_61499c9bc9a749e38efbd4cee23be81b",
        "IPY_MODEL_834f8e1c7321485c9a17f95faaca7add"
       ],
       "layout": "IPY_MODEL_bfa177b8b1e046fa9032d671c04ee985"
      }
     },
     "08280f221ca447e99fe8152253484d22": {
      "model_module": "@jupyter-widgets/base",
      "model_module_version": "1.2.0",
      "model_name": "LayoutModel",
      "state": {
       "width": "10%"
      }
     },
     "082eff41f693445c9e231515843133ba": {
      "model_module": "@jupyter-widgets/controls",
      "model_module_version": "1.5.0",
      "model_name": "ButtonModel",
      "state": {
       "description": "8",
       "layout": "IPY_MODEL_d438a17830354264b2c516ff97850927",
       "style": "IPY_MODEL_66ffe9a150804d71bd03a84ec3c64bce"
      }
     },
     "082f7d8d32084ba78775400ece29bc66": {
      "model_module": "@jupyter-widgets/controls",
      "model_module_version": "1.5.0",
      "model_name": "VBoxModel",
      "state": {
       "children": [
        "IPY_MODEL_392492cea29c4602b33fc60a6f27af50",
        "IPY_MODEL_c709f864d8eb4e7c8d287b64456385d9"
       ],
       "layout": "IPY_MODEL_fc7f007049884199b2b2bfb2be61f80e"
      }
     },
     "086b3a9c62f044859536f7b68137fe54": {
      "model_module": "@jupyter-widgets/controls",
      "model_module_version": "1.5.0",
      "model_name": "ButtonStyleModel",
      "state": {}
     },
     "08734f5b0e904b228750c6658b1c863f": {
      "model_module": "@jupyter-widgets/base",
      "model_module_version": "1.2.0",
      "model_name": "LayoutModel",
      "state": {}
     },
     "0880633e38dc43daa6f1c03dfed1e506": {
      "model_module": "@jupyter-widgets/controls",
      "model_module_version": "1.5.0",
      "model_name": "ButtonStyleModel",
      "state": {}
     },
     "08836542cbf740c291ed6b89c356c0ab": {
      "model_module": "@jupyter-widgets/output",
      "model_module_version": "1.0.0",
      "model_name": "OutputModel",
      "state": {
       "layout": "IPY_MODEL_141b7af1cb324bc0a631b4c81faa77ce"
      }
     },
     "08eb1084a2144aef8fd783440e8b9bf6": {
      "model_module": "@jupyter-widgets/base",
      "model_module_version": "1.2.0",
      "model_name": "LayoutModel",
      "state": {
       "width": "10%"
      }
     },
     "08f376e680234816b76a88362b792dc4": {
      "model_module": "@jupyter-widgets/controls",
      "model_module_version": "1.5.0",
      "model_name": "ButtonModel",
      "state": {
       "description": "8",
       "layout": "IPY_MODEL_b992a7650ad54dc78a616bcf8abc0d4c",
       "style": "IPY_MODEL_86a63720fb7541ceb18781ff1bc231b5"
      }
     },
     "08fc8e09a8ab465abe33ad12ff2cf01b": {
      "model_module": "@jupyter-widgets/controls",
      "model_module_version": "1.5.0",
      "model_name": "ButtonModel",
      "state": {
       "description": "4",
       "layout": "IPY_MODEL_7e6a6d10b7e2448388809a2027399524",
       "style": "IPY_MODEL_f8a099514dc547c498a6c08b0f34e387"
      }
     },
     "090718c4c98d497c9126bf4ec0243dbd": {
      "model_module": "@jupyter-widgets/controls",
      "model_module_version": "1.5.0",
      "model_name": "ButtonStyleModel",
      "state": {}
     },
     "093a2472fdb24d6aa460fbc3e24964ca": {
      "model_module": "@jupyter-widgets/output",
      "model_module_version": "1.0.0",
      "model_name": "OutputModel",
      "state": {
       "layout": "IPY_MODEL_b86fc812a6ab4af6b821123a8fbc4498"
      }
     },
     "095949ba33864bc78c497ce67f07d7e8": {
      "model_module": "@jupyter-widgets/base",
      "model_module_version": "1.2.0",
      "model_name": "LayoutModel",
      "state": {
       "width": "10%"
      }
     },
     "098fa379e5884996b6279b4f53a75cc1": {
      "model_module": "@jupyter-widgets/base",
      "model_module_version": "1.2.0",
      "model_name": "LayoutModel",
      "state": {
       "width": "10%"
      }
     },
     "0998ab846f4d44aa9a0e2bad5a41ee0f": {
      "model_module": "@jupyter-widgets/base",
      "model_module_version": "1.2.0",
      "model_name": "LayoutModel",
      "state": {}
     },
     "09a051f3e8df45c69545b43f14d28e87": {
      "model_module": "@jupyter-widgets/controls",
      "model_module_version": "1.5.0",
      "model_name": "ButtonStyleModel",
      "state": {}
     },
     "09bf0553e93d48008b355e19e93c7890": {
      "model_module": "@jupyter-widgets/controls",
      "model_module_version": "1.5.0",
      "model_name": "VBoxModel",
      "state": {
       "children": [
        "IPY_MODEL_ec9e0c3d15ef47f9b80c2e4a6b1beffa",
        "IPY_MODEL_df98068116de4d1da0104ff9844fbd6c"
       ],
       "layout": "IPY_MODEL_408092b5354b41598d7682813e34a156"
      }
     },
     "09e2301408814b0195fcfba98491fe61": {
      "model_module": "@jupyter-widgets/base",
      "model_module_version": "1.2.0",
      "model_name": "LayoutModel",
      "state": {}
     },
     "09ecd6e6da7245da9c303273da9a76cb": {
      "model_module": "@jupyter-widgets/controls",
      "model_module_version": "1.5.0",
      "model_name": "VBoxModel",
      "state": {
       "children": [
        "IPY_MODEL_de9ff929a8ee4187b97376ab4ddb38a1",
        "IPY_MODEL_a4864fb38a604e16b5a375119a4fda97"
       ],
       "layout": "IPY_MODEL_9a8af8359bf9426bbdf62e2366d33d03"
      }
     },
     "09f93b21905a480290f01f74586a1cf3": {
      "model_module": "@jupyter-widgets/controls",
      "model_module_version": "1.5.0",
      "model_name": "ButtonStyleModel",
      "state": {}
     },
     "0a09270bf4484e79a44a1124650cede6": {
      "model_module": "@jupyter-widgets/controls",
      "model_module_version": "1.5.0",
      "model_name": "DescriptionStyleModel",
      "state": {
       "description_width": ""
      }
     },
     "0a5bb16868b64f5f8076017cdb47146b": {
      "model_module": "@jupyter-widgets/base",
      "model_module_version": "1.2.0",
      "model_name": "LayoutModel",
      "state": {
       "width": "95%"
      }
     },
     "0a8f6d9a8cc8410eb62445d1a6725c06": {
      "model_module": "@jupyter-widgets/base",
      "model_module_version": "1.2.0",
      "model_name": "LayoutModel",
      "state": {
       "width": "95%"
      }
     },
     "0aa3063419264857ab508fecaea59a47": {
      "model_module": "@jupyter-widgets/output",
      "model_module_version": "1.0.0",
      "model_name": "OutputModel",
      "state": {
       "layout": "IPY_MODEL_f41a82608bbb4d05a8609e988b356f68"
      }
     },
     "0aa5c034a9af4a5eafe499bf583416f9": {
      "model_module": "@jupyter-widgets/base",
      "model_module_version": "1.2.0",
      "model_name": "LayoutModel",
      "state": {
       "width": "10%"
      }
     },
     "0ab1bad2d7ca489eae87677e3fdf599a": {
      "model_module": "@jupyter-widgets/base",
      "model_module_version": "1.2.0",
      "model_name": "LayoutModel",
      "state": {
       "width": "95%"
      }
     },
     "0ae7dd245f1245ecadb6c10b4fb79297": {
      "model_module": "@jupyter-widgets/controls",
      "model_module_version": "1.5.0",
      "model_name": "VBoxModel",
      "state": {
       "children": [
        "IPY_MODEL_f6e2655b5a274decb9edb91e48407b7c",
        "IPY_MODEL_dafd36d44a6a4a82a8418d199c4ed2bb"
       ],
       "layout": "IPY_MODEL_25afb8a174014d33bbc6fbe53c652b74"
      }
     },
     "0b155f2f17e5444cb01672fcda0e83dd": {
      "model_module": "@jupyter-widgets/controls",
      "model_module_version": "1.5.0",
      "model_name": "ButtonModel",
      "state": {
       "description": "3",
       "layout": "IPY_MODEL_cef15dabfb094d6594e04e849b43fbb9",
       "style": "IPY_MODEL_53c96158894547888ab3023cb04fa6f3"
      }
     },
     "0b35d72cf5e645a8b3c52a71f6c5b464": {
      "model_module": "@jupyter-widgets/base",
      "model_module_version": "1.2.0",
      "model_name": "LayoutModel",
      "state": {
       "width": "10%"
      }
     },
     "0b7dd742e40b49d5abd139ba3bc35101": {
      "model_module": "@jupyter-widgets/controls",
      "model_module_version": "1.5.0",
      "model_name": "DescriptionStyleModel",
      "state": {
       "description_width": ""
      }
     },
     "0b84c42864d34e9296ee314e2cf0323c": {
      "model_module": "@jupyter-widgets/base",
      "model_module_version": "1.2.0",
      "model_name": "LayoutModel",
      "state": {}
     },
     "0b89c9f57b824f80add8ee849cb5ab2c": {
      "model_module": "@jupyter-widgets/controls",
      "model_module_version": "1.5.0",
      "model_name": "ButtonModel",
      "state": {
       "description": "3",
       "layout": "IPY_MODEL_01f8fd0d7b574eb49d4e1405d789b8c8",
       "style": "IPY_MODEL_eecb30f1a75e4e2697cc0524eebe730d"
      }
     },
     "0b9ec48d1493401b91a176f185afd1d9": {
      "model_module": "@jupyter-widgets/controls",
      "model_module_version": "1.5.0",
      "model_name": "ButtonStyleModel",
      "state": {}
     },
     "0bb4aeb022f14ead8c6b8da66a0c951b": {
      "model_module": "@jupyter-widgets/base",
      "model_module_version": "1.2.0",
      "model_name": "LayoutModel",
      "state": {}
     },
     "0bbbd1dc527d4a24b880b7e139541324": {
      "model_module": "@jupyter-widgets/base",
      "model_module_version": "1.2.0",
      "model_name": "LayoutModel",
      "state": {}
     },
     "0be6452e504d4ac9ba49ca9c8ffc11ad": {
      "model_module": "@jupyter-widgets/base",
      "model_module_version": "1.2.0",
      "model_name": "LayoutModel",
      "state": {
       "width": "95%"
      }
     },
     "0c008857c7f1482b94d1a16c24f1df57": {
      "model_module": "@jupyter-widgets/base",
      "model_module_version": "1.2.0",
      "model_name": "LayoutModel",
      "state": {}
     },
     "0c0feaa3be274030b6315950b9533d71": {
      "model_module": "@jupyter-widgets/base",
      "model_module_version": "1.2.0",
      "model_name": "LayoutModel",
      "state": {}
     },
     "0c1bf4f082604fa1b68a23e25a2fb63d": {
      "model_module": "@jupyter-widgets/controls",
      "model_module_version": "1.5.0",
      "model_name": "VBoxModel",
      "state": {
       "children": [
        "IPY_MODEL_3e6f712ff5994b0b93c01e43593504fd",
        "IPY_MODEL_1c1ca58730c24b419295e1a27aae1f35"
       ],
       "layout": "IPY_MODEL_dcfe3a140ecd47d5b3783c7114643187"
      }
     },
     "0c1d2b34bb5543fc94bcf11f3e22a266": {
      "model_module": "@jupyter-widgets/base",
      "model_module_version": "1.2.0",
      "model_name": "LayoutModel",
      "state": {}
     },
     "0c300fdcfe33417b981c14a7e7ea276d": {
      "model_module": "@jupyter-widgets/output",
      "model_module_version": "1.0.0",
      "model_name": "OutputModel",
      "state": {
       "layout": "IPY_MODEL_acc2eb8a5587464da0c24cb6028c3aff"
      }
     },
     "0c3f52329f674afd9ec44b3287b2f6a7": {
      "model_module": "@jupyter-widgets/output",
      "model_module_version": "1.0.0",
      "model_name": "OutputModel",
      "state": {
       "layout": "IPY_MODEL_1f84abbdf92d4eeea1ab717809f4d92c"
      }
     },
     "0c4cb57091794a8090c16508dab66c0a": {
      "model_module": "@jupyter-widgets/controls",
      "model_module_version": "1.5.0",
      "model_name": "ButtonModel",
      "state": {
       "description": "0",
       "layout": "IPY_MODEL_6b6b5b4973814a3c902c20d8878594d7",
       "style": "IPY_MODEL_dd0d4f7f6ac94155a0581666663a1569"
      }
     },
     "0c58ea839bd844b6aefdd821899a1bbb": {
      "model_module": "@jupyter-widgets/base",
      "model_module_version": "1.2.0",
      "model_name": "LayoutModel",
      "state": {
       "width": "95%"
      }
     },
     "0c60e3a50e2b4d9bbbaec8d67e1ba086": {
      "model_module": "@jupyter-widgets/base",
      "model_module_version": "1.2.0",
      "model_name": "LayoutModel",
      "state": {}
     },
     "0c8a6d8e4ef0483aac62e82083cf75a7": {
      "model_module": "@jupyter-widgets/base",
      "model_module_version": "1.2.0",
      "model_name": "LayoutModel",
      "state": {
       "width": "95%"
      }
     },
     "0c9bf2059b994eb0ad7425f47dda8d55": {
      "model_module": "@jupyter-widgets/base",
      "model_module_version": "1.2.0",
      "model_name": "LayoutModel",
      "state": {
       "width": "10%"
      }
     },
     "0ca5aec160114bfc9a88a5b837a4a277": {
      "model_module": "@jupyter-widgets/controls",
      "model_module_version": "1.5.0",
      "model_name": "ButtonStyleModel",
      "state": {}
     },
     "0cc50983441c4b8ea3f63b1220ad1cec": {
      "model_module": "@jupyter-widgets/base",
      "model_module_version": "1.2.0",
      "model_name": "LayoutModel",
      "state": {}
     },
     "0d03a4f1978e4c53a769ffaec09a203f": {
      "model_module": "@jupyter-widgets/base",
      "model_module_version": "1.2.0",
      "model_name": "LayoutModel",
      "state": {}
     },
     "0d1325c707c8443cadea347f7b556f0b": {
      "model_module": "@jupyter-widgets/controls",
      "model_module_version": "1.5.0",
      "model_name": "ButtonModel",
      "state": {
       "description": "Undo",
       "icon": "undo",
       "layout": "IPY_MODEL_2fff4e749bef4f138aa1e2e968c840ea",
       "style": "IPY_MODEL_e13aa63116d44c79ba77398964159e66"
      }
     },
     "0d15642f272545f9aaa34ceedae4f121": {
      "model_module": "@jupyter-widgets/controls",
      "model_module_version": "1.5.0",
      "model_name": "VBoxModel",
      "state": {
       "children": [
        "IPY_MODEL_082eff41f693445c9e231515843133ba",
        "IPY_MODEL_e4b7b1fd797240e1a135d603a25743a0"
       ],
       "layout": "IPY_MODEL_386539cc6b964d98877681595a3afad8"
      }
     },
     "0d59dc92887d405d85205cf7c90a9a35": {
      "model_module": "@jupyter-widgets/controls",
      "model_module_version": "1.5.0",
      "model_name": "VBoxModel",
      "state": {
       "children": [
        "IPY_MODEL_d73fbf9d8905422093357e40971dc2f9",
        "IPY_MODEL_4df76c8084004ea38704c96938fcf1dc"
       ],
       "layout": "IPY_MODEL_e2cd34b011bd44258771b04ed16a7149"
      }
     },
     "0d74fc5e17e545f5a1d8ab4fe4298696": {
      "model_module": "@jupyter-widgets/base",
      "model_module_version": "1.2.0",
      "model_name": "LayoutModel",
      "state": {
       "width": "10%"
      }
     },
     "0d75a91c06c44b31a46d50ad9ce9795f": {
      "model_module": "@jupyter-widgets/controls",
      "model_module_version": "1.5.0",
      "model_name": "ButtonModel",
      "state": {
       "description": "2",
       "layout": "IPY_MODEL_bfc284a5fcf5449e87aea42eed0edf0b",
       "style": "IPY_MODEL_9888da1851004ecebaf29640aeaee4fe"
      }
     },
     "0daedf297e2c4d39b6eb3db88eff0ecb": {
      "model_module": "@jupyter-widgets/controls",
      "model_module_version": "1.5.0",
      "model_name": "ButtonModel",
      "state": {
       "description": "8",
       "layout": "IPY_MODEL_a199d331a63f4d16965c2001f42812a1",
       "style": "IPY_MODEL_11497bea94854f539e48e0bb233beccb"
      }
     },
     "0dcf5f092aa546faace3af857eb4fc92": {
      "model_module": "@jupyter-widgets/output",
      "model_module_version": "1.0.0",
      "model_name": "OutputModel",
      "state": {
       "layout": "IPY_MODEL_0ecda65133fd4e2ea566b17191ba4c75"
      }
     },
     "0de3d69d2cbb49cd841d32f659486c32": {
      "model_module": "@jupyter-widgets/controls",
      "model_module_version": "1.5.0",
      "model_name": "VBoxModel",
      "state": {
       "children": [
        "IPY_MODEL_9d3caac36dca4b72909142cc6594ff13",
        "IPY_MODEL_37484422ee324213a3f4608ee86a14e5"
       ],
       "layout": "IPY_MODEL_1e328974665240a499168a562073dcd8"
      }
     },
     "0e1cc042f6db40309f2ecc2996891221": {
      "model_module": "@jupyter-widgets/base",
      "model_module_version": "1.2.0",
      "model_name": "LayoutModel",
      "state": {}
     },
     "0e60943540194f3fb5a9122a45f99791": {
      "model_module": "@jupyter-widgets/base",
      "model_module_version": "1.2.0",
      "model_name": "LayoutModel",
      "state": {
       "width": "95%"
      }
     },
     "0e6ea80eb0284e679162eaabca2e54b0": {
      "model_module": "@jupyter-widgets/output",
      "model_module_version": "1.0.0",
      "model_name": "OutputModel",
      "state": {
       "layout": "IPY_MODEL_2bff6f3111e84801a5acaea1cd4e96d1"
      }
     },
     "0e9a8b1363dd4bd6848c6733a3724032": {
      "model_module": "@jupyter-widgets/controls",
      "model_module_version": "1.5.0",
      "model_name": "ButtonModel",
      "state": {
       "description": "8",
       "layout": "IPY_MODEL_0a5bb16868b64f5f8076017cdb47146b",
       "style": "IPY_MODEL_e4b6ec46228349118fddce8ae5a551e9"
      }
     },
     "0ead2e79624b4610b38d834b02590528": {
      "model_module": "@jupyter-widgets/base",
      "model_module_version": "1.2.0",
      "model_name": "LayoutModel",
      "state": {}
     },
     "0ecda65133fd4e2ea566b17191ba4c75": {
      "model_module": "@jupyter-widgets/base",
      "model_module_version": "1.2.0",
      "model_name": "LayoutModel",
      "state": {}
     },
     "0f1f482b3a564aabb0b4ce335c8c1427": {
      "model_module": "@jupyter-widgets/controls",
      "model_module_version": "1.5.0",
      "model_name": "ButtonStyleModel",
      "state": {}
     },
     "0f4c49b140764a30a9a389dce120770d": {
      "model_module": "@jupyter-widgets/controls",
      "model_module_version": "1.5.0",
      "model_name": "HBoxModel",
      "state": {
       "children": [
        "IPY_MODEL_2eb5afc897c94554a6f6f2171dcd7cca",
        "IPY_MODEL_ba4dc61e05184c19824e96d990653a41",
        "IPY_MODEL_ef7dce5dec484ba5a26f0d9ececcd4ce",
        "IPY_MODEL_1c3b38622b1047ac8e39c4a7d947acb3",
        "IPY_MODEL_6795761f96b047f79af43ed0d1ea1e33",
        "IPY_MODEL_a26042a9018c473e827fb16b631990ad",
        "IPY_MODEL_1c97cb8221ca4f689aea75515bb3feaa",
        "IPY_MODEL_0de3d69d2cbb49cd841d32f659486c32",
        "IPY_MODEL_a7cfe61ce27d40fa94eb69872478ef15",
        "IPY_MODEL_01380d48bce64708949bea5dc7289f60"
       ],
       "layout": "IPY_MODEL_fc46d4a729534dcfabbc065acc5f13e4"
      }
     },
     "0f9b77a8a99e43bb8d2f9f767642c892": {
      "model_module": "@jupyter-widgets/output",
      "model_module_version": "1.0.0",
      "model_name": "OutputModel",
      "state": {
       "layout": "IPY_MODEL_7fcee769d93045fc96898b50b60aec68"
      }
     },
     "0fb203bf71d34eb3a9d47aac95b929f0": {
      "model_module": "@jupyter-widgets/controls",
      "model_module_version": "1.5.0",
      "model_name": "ButtonStyleModel",
      "state": {}
     },
     "0fbde83b95f848bf906b7af06fd68897": {
      "model_module": "@jupyter-widgets/output",
      "model_module_version": "1.0.0",
      "model_name": "OutputModel",
      "state": {
       "layout": "IPY_MODEL_67dd377bed904eefab4912539f0a751f"
      }
     },
     "0ff2d0ef90444566883e12098432059f": {
      "model_module": "@jupyter-widgets/base",
      "model_module_version": "1.2.0",
      "model_name": "LayoutModel",
      "state": {
       "width": "95%"
      }
     },
     "0ff953725afc4ea79f34e7b34a766ba3": {
      "model_module": "@jupyter-widgets/controls",
      "model_module_version": "1.5.0",
      "model_name": "HBoxModel",
      "state": {
       "children": [
        "IPY_MODEL_3308a8cfd54f463f862ab7a10e618606",
        "IPY_MODEL_269a7647c22a4b419cc969db38886117",
        "IPY_MODEL_09bf0553e93d48008b355e19e93c7890",
        "IPY_MODEL_db4ab7c4517b4b1983a7d060ea3f62aa",
        "IPY_MODEL_89042361125a4e25a264dd165dbb81c5",
        "IPY_MODEL_f2afaafc0c9349aea143488d35b6c16a",
        "IPY_MODEL_6994b2726a1b47828bbad022815240f8",
        "IPY_MODEL_1b233b85cfc04fc8bf646161934ed3b6",
        "IPY_MODEL_a720ff1231df4fc7b9f0363b8d80b6f1",
        "IPY_MODEL_3aeacf8d1daa417f9f3267215f49b823"
       ],
       "layout": "IPY_MODEL_8eb38457c99f43ce9e6eab7846085ac9"
      }
     },
     "10077b23af554ce4a64cf633f7bd6232": {
      "model_module": "@jupyter-widgets/controls",
      "model_module_version": "1.5.0",
      "model_name": "ButtonStyleModel",
      "state": {}
     },
     "106ab7dd68d94640a7ba5e0c195644d1": {
      "model_module": "@jupyter-widgets/base",
      "model_module_version": "1.2.0",
      "model_name": "LayoutModel",
      "state": {
       "width": "10%"
      }
     },
     "106d496164c94c0b937c45e80cb633da": {
      "model_module": "@jupyter-widgets/base",
      "model_module_version": "1.2.0",
      "model_name": "LayoutModel",
      "state": {
       "width": "95%"
      }
     },
     "108daaadd03b45e5a8807ccc23e8fe80": {
      "model_module": "@jupyter-widgets/controls",
      "model_module_version": "1.5.0",
      "model_name": "ButtonModel",
      "state": {
       "description": "6",
       "layout": "IPY_MODEL_ca7d546a5cf04c4ba85f7e279be111fe",
       "style": "IPY_MODEL_e71841d346aa4dfb9ce50a300f0fd292"
      }
     },
     "109ae369224144a48abc84285c75e145": {
      "model_module": "@jupyter-widgets/output",
      "model_module_version": "1.0.0",
      "model_name": "OutputModel",
      "state": {
       "layout": "IPY_MODEL_8a49cd0d67e14983acfcd2a7b12726f6"
      }
     },
     "10c0d705a97146cb8bb5fdaaf38a3cd4": {
      "model_module": "@jupyter-widgets/base",
      "model_module_version": "1.2.0",
      "model_name": "LayoutModel",
      "state": {
       "width": "95%"
      }
     },
     "10d9bdc0c7324f5e99451eff18072088": {
      "model_module": "@jupyter-widgets/base",
      "model_module_version": "1.2.0",
      "model_name": "LayoutModel",
      "state": {
       "width": "95%"
      }
     },
     "10df9d0e31204e15b184094667f225cc": {
      "model_module": "@jupyter-widgets/output",
      "model_module_version": "1.0.0",
      "model_name": "OutputModel",
      "state": {
       "layout": "IPY_MODEL_a6373f65f2084ef3943603b076cbe1f6"
      }
     },
     "10ef4b2297224a39b006d094119c6fb1": {
      "model_module": "@jupyter-widgets/base",
      "model_module_version": "1.2.0",
      "model_name": "LayoutModel",
      "state": {
       "width": "95%"
      }
     },
     "111ea2dca75f41c484da9b8bed1c1be2": {
      "model_module": "@jupyter-widgets/controls",
      "model_module_version": "1.5.0",
      "model_name": "ButtonStyleModel",
      "state": {}
     },
     "112643891bce48dc8d633dd57a482fe6": {
      "model_module": "@jupyter-widgets/base",
      "model_module_version": "1.2.0",
      "model_name": "LayoutModel",
      "state": {}
     },
     "1143bf131eea4a928bd7a3ab3f69b627": {
      "model_module": "@jupyter-widgets/base",
      "model_module_version": "1.2.0",
      "model_name": "LayoutModel",
      "state": {
       "width": "10%"
      }
     },
     "11497bea94854f539e48e0bb233beccb": {
      "model_module": "@jupyter-widgets/controls",
      "model_module_version": "1.5.0",
      "model_name": "ButtonStyleModel",
      "state": {}
     },
     "114ddb99e8ef4d9096c9753d8aba42d0": {
      "model_module": "@jupyter-widgets/base",
      "model_module_version": "1.2.0",
      "model_name": "LayoutModel",
      "state": {
       "width": "10%"
      }
     },
     "1169b39e87ac44e1b2bc2806e3f4cbeb": {
      "model_module": "@jupyter-widgets/output",
      "model_module_version": "1.0.0",
      "model_name": "OutputModel",
      "state": {
       "layout": "IPY_MODEL_1690b9ac933f4e2fb42fa8b17496da9f"
      }
     },
     "11957a1be6e244288f011d9fd0c2e926": {
      "model_module": "@jupyter-widgets/controls",
      "model_module_version": "1.5.0",
      "model_name": "ButtonModel",
      "state": {
       "description": "4",
       "layout": "IPY_MODEL_48ce0cb26618479388c1b067e69fe74d",
       "style": "IPY_MODEL_041aadc58bfb4cab8a1742d295a12377"
      }
     },
     "11b108a1e72c4b5a9d12797691ae9c73": {
      "model_module": "@jupyter-widgets/controls",
      "model_module_version": "1.5.0",
      "model_name": "VBoxModel",
      "state": {
       "children": [
        "IPY_MODEL_22866c78d2ec4baaa2a8ac1d0fff5c8d",
        "IPY_MODEL_6a5f5928cb3943ea9107cbdda6a4b849"
       ],
       "layout": "IPY_MODEL_75db6fff04404bb597556a007fa49fe1"
      }
     },
     "11ca73563135479bb7c91a807999a219": {
      "model_module": "@jupyter-widgets/controls",
      "model_module_version": "1.5.0",
      "model_name": "ButtonModel",
      "state": {
       "description": "0",
       "layout": "IPY_MODEL_1f7932f768ad4630bdbcc2a26c2cec89",
       "style": "IPY_MODEL_60a7f4a800fa475fb0f50470354aca8a"
      }
     },
     "11ef072771d041198b7bdb625927d069": {
      "model_module": "@jupyter-widgets/base",
      "model_module_version": "1.2.0",
      "model_name": "LayoutModel",
      "state": {}
     },
     "1213f2fdd113413589edc517c93bc77e": {
      "model_module": "@jupyter-widgets/base",
      "model_module_version": "1.2.0",
      "model_name": "LayoutModel",
      "state": {
       "width": "95%"
      }
     },
     "123911a81ebe40c5ac3c94e131a322a7": {
      "model_module": "@jupyter-widgets/controls",
      "model_module_version": "1.5.0",
      "model_name": "ButtonModel",
      "state": {
       "description": "1",
       "layout": "IPY_MODEL_050d062158a848ef9ffade3849cb5cc2",
       "style": "IPY_MODEL_28ba2f5a6e2441fe989f57ef880c458f"
      }
     },
     "12413e7569ec4ce3920b61d7d3b72d4f": {
      "model_module": "@jupyter-widgets/base",
      "model_module_version": "1.2.0",
      "model_name": "LayoutModel",
      "state": {}
     },
     "127c2cc24acb426b9262113b1feb98f5": {
      "model_module": "@jupyter-widgets/base",
      "model_module_version": "1.2.0",
      "model_name": "LayoutModel",
      "state": {
       "width": "95%"
      }
     },
     "12e1dfd43d014ba0ad57c3eaaf7a40b8": {
      "model_module": "@jupyter-widgets/base",
      "model_module_version": "1.2.0",
      "model_name": "LayoutModel",
      "state": {}
     },
     "12ef1dace78b4cacb87c513aef0dd61b": {
      "model_module": "@jupyter-widgets/controls",
      "model_module_version": "1.5.0",
      "model_name": "ButtonStyleModel",
      "state": {}
     },
     "130aaac5a40c49598363e0320ff82df7": {
      "model_module": "@jupyter-widgets/controls",
      "model_module_version": "1.5.0",
      "model_name": "HBoxModel",
      "state": {
       "children": [
        "IPY_MODEL_cd3627aeaa2f49f2809ee44c00212cf5",
        "IPY_MODEL_a5b86874ac144b5485b06990479ef233"
       ],
       "layout": "IPY_MODEL_d9ec77b66de244f8937664139662217f"
      }
     },
     "130ee82d16404331be27eb3ac54a48ad": {
      "model_module": "@jupyter-widgets/controls",
      "model_module_version": "1.5.0",
      "model_name": "HBoxModel",
      "state": {
       "children": [
        "IPY_MODEL_ea515f6ab0fb4c8fa83df8e40b2a12b3",
        "IPY_MODEL_b5071a727cb4429ab5846a1b5e1e9269",
        "IPY_MODEL_0d1325c707c8443cadea347f7b556f0b"
       ],
       "layout": "IPY_MODEL_8086ed2b667440c8bad5946ba610bf03"
      }
     },
     "1336826a8c4a4cc0925069a63935fcdf": {
      "model_module": "@jupyter-widgets/base",
      "model_module_version": "1.2.0",
      "model_name": "LayoutModel",
      "state": {}
     },
     "1349211c9a2a4dce8676a19b3be23f96": {
      "model_module": "@jupyter-widgets/output",
      "model_module_version": "1.0.0",
      "model_name": "OutputModel",
      "state": {
       "layout": "IPY_MODEL_4b26ff5d32624277ae429020e1329b9b"
      }
     },
     "1367fa55afef48869df20426d094093d": {
      "model_module": "@jupyter-widgets/base",
      "model_module_version": "1.2.0",
      "model_name": "LayoutModel",
      "state": {}
     },
     "13d7cfd1a70045aa8cec22d8134875f6": {
      "model_module": "@jupyter-widgets/controls",
      "model_module_version": "1.5.0",
      "model_name": "BoxModel",
      "state": {
       "children": [
        "IPY_MODEL_1783e0fbe21947e68d19b78825ab69e6"
       ],
       "layout": "IPY_MODEL_221f6988c71f4207ac0b30ef2be5e1ae"
      }
     },
     "13e26a97c6db46f58baa1fde172f6b1e": {
      "model_module": "@jupyter-widgets/controls",
      "model_module_version": "1.5.0",
      "model_name": "VBoxModel",
      "state": {
       "children": [
        "IPY_MODEL_c6d6657c58c049ebacfd135063cb1104",
        "IPY_MODEL_bdd391e92a0045d78bd46e1cb53d722c"
       ],
       "layout": "IPY_MODEL_465d081c732f4798812778cdf1ea0bae"
      }
     },
     "13e515ecc2af493d8b4af1fb7eb67822": {
      "model_module": "@jupyter-widgets/base",
      "model_module_version": "1.2.0",
      "model_name": "LayoutModel",
      "state": {}
     },
     "13f69fa7bcaf4732b0c84e547b5b3c85": {
      "model_module": "@jupyter-widgets/controls",
      "model_module_version": "1.5.0",
      "model_name": "ButtonModel",
      "state": {
       "description": "7",
       "layout": "IPY_MODEL_1b3468320b72401daacd8ffa2c9e3616",
       "style": "IPY_MODEL_cffe590cd96c40dea39f56f22273faca"
      }
     },
     "13f8a51b043045fbb42b8016d0c2155b": {
      "model_module": "@jupyter-widgets/controls",
      "model_module_version": "1.5.0",
      "model_name": "VBoxModel",
      "state": {
       "children": [
        "IPY_MODEL_82dbe239cd9a4e2b8ce4b34982e9da7e",
        "IPY_MODEL_82c9c4926e304a7c8426dba3b3a5cf98"
       ],
       "layout": "IPY_MODEL_8a01a60198b4455e8449a57b5b04a3c3"
      }
     },
     "140019054e49401da015cedcdc7d28fb": {
      "model_module": "@jupyter-widgets/controls",
      "model_module_version": "1.5.0",
      "model_name": "ButtonStyleModel",
      "state": {}
     },
     "1414750f374a49948adb9ccb0e36418c": {
      "model_module": "@jupyter-widgets/base",
      "model_module_version": "1.2.0",
      "model_name": "LayoutModel",
      "state": {}
     },
     "1416893af9b74977ba2c5d0b1b4d6eee": {
      "model_module": "@jupyter-widgets/base",
      "model_module_version": "1.2.0",
      "model_name": "LayoutModel",
      "state": {
       "width": "10%"
      }
     },
     "141b7af1cb324bc0a631b4c81faa77ce": {
      "model_module": "@jupyter-widgets/base",
      "model_module_version": "1.2.0",
      "model_name": "LayoutModel",
      "state": {}
     },
     "1438a3bb40144b3e8bdf777ea1f06c33": {
      "model_module": "@jupyter-widgets/output",
      "model_module_version": "1.0.0",
      "model_name": "OutputModel",
      "state": {
       "layout": "IPY_MODEL_565dc5397c354ebd8181d3886a6c5de6"
      }
     },
     "144cf8617d804237a7c208c06fda82d4": {
      "model_module": "@jupyter-widgets/output",
      "model_module_version": "1.0.0",
      "model_name": "OutputModel",
      "state": {
       "layout": "IPY_MODEL_c874bc6968a54e34ae7f733874f8eb6a"
      }
     },
     "1482e881f8fa493a9fbe7610b62f9d9a": {
      "model_module": "@jupyter-widgets/base",
      "model_module_version": "1.2.0",
      "model_name": "LayoutModel",
      "state": {
       "width": "95%"
      }
     },
     "14942c8978a44dbeb1e440910ff73a6c": {
      "model_module": "@jupyter-widgets/base",
      "model_module_version": "1.2.0",
      "model_name": "LayoutModel",
      "state": {}
     },
     "14abe91ad96748deaa3663bbd3216788": {
      "model_module": "@jupyter-widgets/controls",
      "model_module_version": "1.5.0",
      "model_name": "DescriptionStyleModel",
      "state": {
       "description_width": ""
      }
     },
     "14e28fac5fc9490786d6ab30fcebaf8c": {
      "model_module": "@jupyter-widgets/controls",
      "model_module_version": "1.5.0",
      "model_name": "VBoxModel",
      "state": {
       "children": [
        "IPY_MODEL_7731fe3a5afc4476be93b220054fb7e8",
        "IPY_MODEL_c44e394bc1c342fa993906ef15a487b3"
       ],
       "layout": "IPY_MODEL_970a73204a364702aa7be508eb7dbfa1"
      }
     },
     "152fe1666a2c4060a6051bfc19a70491": {
      "model_module": "@jupyter-widgets/controls",
      "model_module_version": "1.5.0",
      "model_name": "ButtonModel",
      "state": {
       "description": "0",
       "layout": "IPY_MODEL_6ad52bc42da1494c9f3e6ba647e42a07",
       "style": "IPY_MODEL_1f02656646b34fd49701f6eee17539c0"
      }
     },
     "154012e72333449e89ea758556ab86e0": {
      "model_module": "@jupyter-widgets/controls",
      "model_module_version": "1.5.0",
      "model_name": "VBoxModel",
      "state": {
       "children": [
        "IPY_MODEL_d7d9abc8fb55471e9504b5ca1827e480",
        "IPY_MODEL_045faf1a498e425783c166a4ffb32353"
       ],
       "layout": "IPY_MODEL_bc2483ca58ab4b3482509caa522624b2"
      }
     },
     "1559a66d45a6401882ee188b754c265d": {
      "model_module": "@jupyter-widgets/output",
      "model_module_version": "1.0.0",
      "model_name": "OutputModel",
      "state": {
       "layout": "IPY_MODEL_5e46ccbc62b044878a0b441cae84cbc0"
      }
     },
     "15ab9e7c84ef4fd8b1785584b7e6ee1a": {
      "model_module": "@jupyter-widgets/controls",
      "model_module_version": "1.5.0",
      "model_name": "VBoxModel",
      "state": {
       "children": [
        "IPY_MODEL_c10a729f486b4c28a0db9677a6905f1e",
        "IPY_MODEL_0c300fdcfe33417b981c14a7e7ea276d"
       ],
       "layout": "IPY_MODEL_40f080ae71ca4c3c95e610c5fe2bf83b"
      }
     },
     "15d388e8f5fa41019936c84d6cbc9935": {
      "model_module": "@jupyter-widgets/output",
      "model_module_version": "1.0.0",
      "model_name": "OutputModel",
      "state": {
       "layout": "IPY_MODEL_eb2f723586644f0bb9cc72a7cc1acf69"
      }
     },
     "15d54677c3e34bb7a6ad1b0391623f68": {
      "model_module": "@jupyter-widgets/controls",
      "model_module_version": "1.5.0",
      "model_name": "ButtonStyleModel",
      "state": {}
     },
     "15d72e0deae04e808551f7b63fdf3263": {
      "model_module": "@jupyter-widgets/controls",
      "model_module_version": "1.5.0",
      "model_name": "ButtonModel",
      "state": {
       "description": "7",
       "layout": "IPY_MODEL_82faf407a4534e4f85e32d3e72cc8adb",
       "style": "IPY_MODEL_30eff30afb3a40fd8f387baa2dbf72fd"
      }
     },
     "15f14227f29a4a319d0fa17040737a76": {
      "model_module": "@jupyter-widgets/controls",
      "model_module_version": "1.5.0",
      "model_name": "VBoxModel",
      "state": {
       "children": [
        "IPY_MODEL_fd605d57f83447fb860b702d268bb2a1",
        "IPY_MODEL_f17dc490c1314fdc9bc2b46018bad1a8"
       ],
       "layout": "IPY_MODEL_ae139473d4594d99aa679f7d2260c8fb"
      }
     },
     "15f527c95466433cb436bbcd3cf6f994": {
      "model_module": "@jupyter-widgets/controls",
      "model_module_version": "1.5.0",
      "model_name": "HBoxModel",
      "state": {
       "children": [
        "IPY_MODEL_e81e0f61b3e44e2f9cba9424bc3b3ee8",
        "IPY_MODEL_3c82ffc61d7e474592e411ee8d07a3fc"
       ],
       "layout": "IPY_MODEL_c61dae6c568c4b5a8f08651b40c5a523"
      }
     },
     "15f87b9860cc4611971cf216ae733d4f": {
      "model_module": "@jupyter-widgets/output",
      "model_module_version": "1.0.0",
      "model_name": "OutputModel",
      "state": {
       "layout": "IPY_MODEL_5d2f0a6245654eb0a184100988b7e6d6"
      }
     },
     "160a503a98654efdadb8cba5cf87b620": {
      "model_module": "@jupyter-widgets/base",
      "model_module_version": "1.2.0",
      "model_name": "LayoutModel",
      "state": {
       "width": "10%"
      }
     },
     "16167649d20042429ef73b3e0aedfc1b": {
      "model_module": "@jupyter-widgets/controls",
      "model_module_version": "1.5.0",
      "model_name": "ButtonStyleModel",
      "state": {}
     },
     "1626fa86e0014fa18a2e33d57cbb2a49": {
      "model_module": "@jupyter-widgets/controls",
      "model_module_version": "1.5.0",
      "model_name": "ButtonModel",
      "state": {
       "description": "1",
       "layout": "IPY_MODEL_4b0e7dba39b54b228e59420fc0c25739",
       "style": "IPY_MODEL_f01e34a037734e2283a002ef67bd74a5"
      }
     },
     "1648a933777e4131b91265ee8f4ce525": {
      "model_module": "@jupyter-widgets/controls",
      "model_module_version": "1.5.0",
      "model_name": "VBoxModel",
      "state": {
       "children": [
        "IPY_MODEL_4da98fc29f094b85883b2cbf3cd4e649",
        "IPY_MODEL_4cf8b3a074914754bb51b443533a5dc5"
       ],
       "layout": "IPY_MODEL_e8d589c44cf04452948e0583da18f5c1"
      }
     },
     "16514123d9574602b35e664b7c8df2b6": {
      "model_module": "@jupyter-widgets/output",
      "model_module_version": "1.0.0",
      "model_name": "OutputModel",
      "state": {
       "layout": "IPY_MODEL_acba433787b94958951fd0016bdef6c6"
      }
     },
     "16866f7cd9ee40c5ab6dc853c62d5021": {
      "model_module": "@jupyter-widgets/base",
      "model_module_version": "1.2.0",
      "model_name": "LayoutModel",
      "state": {}
     },
     "1690b9ac933f4e2fb42fa8b17496da9f": {
      "model_module": "@jupyter-widgets/base",
      "model_module_version": "1.2.0",
      "model_name": "LayoutModel",
      "state": {}
     },
     "169c1e9431434f8f817aa49ae7f78177": {
      "model_module": "@jupyter-widgets/controls",
      "model_module_version": "1.5.0",
      "model_name": "BoxModel",
      "state": {
       "layout": "IPY_MODEL_20d4a8ec89404171aa8807fc47262578"
      }
     },
     "16b31cd1dc494b2c9b2a2e41e6713daa": {
      "model_module": "@jupyter-widgets/base",
      "model_module_version": "1.2.0",
      "model_name": "LayoutModel",
      "state": {
       "width": "95%"
      }
     },
     "16cddf5d1b4d4eaa8c9a7c64df6393ca": {
      "model_module": "@jupyter-widgets/output",
      "model_module_version": "1.0.0",
      "model_name": "OutputModel",
      "state": {
       "layout": "IPY_MODEL_fc109e0d8c50428a9cfd99d0e3f11262"
      }
     },
     "16e9f8a21d3b49a190167fef980dcac9": {
      "model_module": "@jupyter-widgets/controls",
      "model_module_version": "1.5.0",
      "model_name": "DescriptionStyleModel",
      "state": {
       "description_width": ""
      }
     },
     "16edb2745ebb4e76bc3534cf6abecfac": {
      "model_module": "@jupyter-widgets/base",
      "model_module_version": "1.2.0",
      "model_name": "LayoutModel",
      "state": {
       "width": "95%"
      }
     },
     "16f7272873cf41ac826aaac1743de6e5": {
      "model_module": "@jupyter-widgets/output",
      "model_module_version": "1.0.0",
      "model_name": "OutputModel",
      "state": {
       "layout": "IPY_MODEL_30c1576685374f93aa0a72eae2ed9d3f"
      }
     },
     "1700047c8ccd4bd9aaa764b2fe7d460d": {
      "model_module": "@jupyter-widgets/controls",
      "model_module_version": "1.5.0",
      "model_name": "ButtonModel",
      "state": {
       "description": "8",
       "layout": "IPY_MODEL_aea7fa6c540f48c6b9dce2ab8a3b3fd1",
       "style": "IPY_MODEL_940083f9433948f1beeafc3963a29993"
      }
     },
     "171f3d9325264abc8c1f3e92586cce25": {
      "model_module": "@jupyter-widgets/base",
      "model_module_version": "1.2.0",
      "model_name": "LayoutModel",
      "state": {}
     },
     "174df4ec55fa4f48b38288e842d0bfb6": {
      "model_module": "@jupyter-widgets/controls",
      "model_module_version": "1.5.0",
      "model_name": "VBoxModel",
      "state": {
       "children": [
        "IPY_MODEL_a30edb9f81824c2697969f7b7d0e7c36",
        "IPY_MODEL_07afa693fe4a46f9a92dbe7595083f4a"
       ],
       "layout": "IPY_MODEL_5dd53e1ad7c9481782a15b5857df9a5f"
      }
     },
     "174eed4f5c4b44ff81cd7726a9cff21e": {
      "model_module": "@jupyter-widgets/base",
      "model_module_version": "1.2.0",
      "model_name": "LayoutModel",
      "state": {
       "width": "10%"
      }
     },
     "17525e144c2247db814bbabd67ce0ecf": {
      "model_module": "@jupyter-widgets/controls",
      "model_module_version": "1.5.0",
      "model_name": "ButtonStyleModel",
      "state": {}
     },
     "1783e0fbe21947e68d19b78825ab69e6": {
      "model_module": "@jupyter-widgets/output",
      "model_module_version": "1.0.0",
      "model_name": "OutputModel",
      "state": {
       "layout": "IPY_MODEL_04b6e4ececab481e81721803eec782cd",
       "outputs": [
        {
         "data": {
          "image/png": "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\n",
          "text/plain": "<PIL.Image.Image image mode=L size=200x200 at 0x1279F14D0>"
         },
         "metadata": {},
         "output_type": "display_data"
        }
       ]
      }
     },
     "179a99f605f2430bb13ddb95a499f95d": {
      "model_module": "@jupyter-widgets/base",
      "model_module_version": "1.2.0",
      "model_name": "LayoutModel",
      "state": {
       "justify_content": "space-between"
      }
     },
     "179d480e04d442c1854682ea1f74c074": {
      "model_module": "@jupyter-widgets/base",
      "model_module_version": "1.2.0",
      "model_name": "LayoutModel",
      "state": {
       "width": "10%"
      }
     },
     "17a1b92208414d6cbae7e7b3bac66dea": {
      "model_module": "@jupyter-widgets/base",
      "model_module_version": "1.2.0",
      "model_name": "LayoutModel",
      "state": {
       "width": "95%"
      }
     },
     "17b0f0c41b5e485c9871718dff568367": {
      "model_module": "@jupyter-widgets/base",
      "model_module_version": "1.2.0",
      "model_name": "LayoutModel",
      "state": {}
     },
     "17c45260ca494139a207859f5e40ec80": {
      "model_module": "@jupyter-widgets/controls",
      "model_module_version": "1.5.0",
      "model_name": "ButtonModel",
      "state": {
       "description": "7",
       "layout": "IPY_MODEL_559b6eda011d4d4f8a81eef645733d31",
       "style": "IPY_MODEL_4d1da63232434d1cbe41c281202cb5f7"
      }
     },
     "17c69907745444299cfe98fc1a228cb4": {
      "model_module": "@jupyter-widgets/controls",
      "model_module_version": "1.5.0",
      "model_name": "VBoxModel",
      "state": {
       "children": [
        "IPY_MODEL_4babe8ef6b46416e911429d6cfc64aa8",
        "IPY_MODEL_498f98ed2ed4439cb2ded40396104d6f"
       ],
       "layout": "IPY_MODEL_1143bf131eea4a928bd7a3ab3f69b627"
      }
     },
     "17dec01455de4498a4ea3d80cfad2d3d": {
      "model_module": "@jupyter-widgets/controls",
      "model_module_version": "1.5.0",
      "model_name": "HBoxModel",
      "state": {
       "children": [
        "IPY_MODEL_ea515f6ab0fb4c8fa83df8e40b2a12b3",
        "IPY_MODEL_b5071a727cb4429ab5846a1b5e1e9269",
        "IPY_MODEL_0d1325c707c8443cadea347f7b556f0b"
       ],
       "layout": "IPY_MODEL_69c56de886554487b25df3401c396bd6"
      }
     },
     "17dfc7eeff904b8f8e1d91809415c38a": {
      "model_module": "@jupyter-widgets/controls",
      "model_module_version": "1.5.0",
      "model_name": "VBoxModel",
      "state": {
       "children": [
        "IPY_MODEL_821caa107e214cb39dc772f2e226edb5",
        "IPY_MODEL_4064c77d109f406782fbedec63f412e8"
       ],
       "layout": "IPY_MODEL_2e7e06d3e13c4820a947e6c66246eb48"
      }
     },
     "1803c79b22254ee6972b4a4a146d7887": {
      "model_module": "@jupyter-widgets/base",
      "model_module_version": "1.2.0",
      "model_name": "LayoutModel",
      "state": {
       "width": "95%"
      }
     },
     "18252ffbd6394e118e5848c6c1c4eb8d": {
      "model_module": "@jupyter-widgets/output",
      "model_module_version": "1.0.0",
      "model_name": "OutputModel",
      "state": {
       "layout": "IPY_MODEL_7eca9a1b0fe5445691fe1a32014ab355"
      }
     },
     "18741ed9840a4f37aecbe361bc2e3e97": {
      "model_module": "@jupyter-widgets/base",
      "model_module_version": "1.2.0",
      "model_name": "LayoutModel",
      "state": {
       "width": "95%"
      }
     },
     "188e4e83e4cd42b69d13908cbf313d1e": {
      "model_module": "@jupyter-widgets/controls",
      "model_module_version": "1.5.0",
      "model_name": "ButtonModel",
      "state": {
       "description": "1",
       "layout": "IPY_MODEL_f88ae2bd3a3c4ac590765b26fabee389",
       "style": "IPY_MODEL_eb532718bd234479aaff3981d5217dc3"
      }
     },
     "18ad106444444173af074a4846ead193": {
      "model_module": "@jupyter-widgets/base",
      "model_module_version": "1.2.0",
      "model_name": "LayoutModel",
      "state": {
       "width": "95%"
      }
     },
     "18ba41a517e54977a1c8b93a65aa7ae4": {
      "model_module": "@jupyter-widgets/base",
      "model_module_version": "1.2.0",
      "model_name": "LayoutModel",
      "state": {
       "width": "10%"
      }
     },
     "18cd963e348a408b927e1e1a5b17e941": {
      "model_module": "@jupyter-widgets/base",
      "model_module_version": "1.2.0",
      "model_name": "LayoutModel",
      "state": {}
     },
     "18df898210b546728738a4f7c79072ca": {
      "model_module": "@jupyter-widgets/output",
      "model_module_version": "1.0.0",
      "model_name": "OutputModel",
      "state": {
       "layout": "IPY_MODEL_cffa0253132841dd9780128fc2d0c5cb"
      }
     },
     "18e490abcbef4d8e90bd942d78477785": {
      "model_module": "@jupyter-widgets/base",
      "model_module_version": "1.2.0",
      "model_name": "LayoutModel",
      "state": {}
     },
     "18eea0039c284902beec73766849bea3": {
      "model_module": "@jupyter-widgets/base",
      "model_module_version": "1.2.0",
      "model_name": "LayoutModel",
      "state": {
       "width": "10%"
      }
     },
     "192046d4a05140248d9d6fafdd917d60": {
      "model_module": "@jupyter-widgets/controls",
      "model_module_version": "1.5.0",
      "model_name": "ButtonStyleModel",
      "state": {}
     },
     "19356e9603d34ecca73cfe6810672a40": {
      "model_module": "@jupyter-widgets/controls",
      "model_module_version": "1.5.0",
      "model_name": "ButtonModel",
      "state": {
       "description": "4",
       "layout": "IPY_MODEL_d1dadbdcce624702b94d3efdfa62ffe9",
       "style": "IPY_MODEL_7ce27a83fd0e4cfa9a0af7fd818f7549"
      }
     },
     "193c2dc491fa4547bd8bbe6774fc5cff": {
      "model_module": "@jupyter-widgets/output",
      "model_module_version": "1.0.0",
      "model_name": "OutputModel",
      "state": {
       "layout": "IPY_MODEL_92585ac4609047408c0ca506da3549d9"
      }
     },
     "19455f4ef4704a9da4f8e52130a44110": {
      "model_module": "@jupyter-widgets/base",
      "model_module_version": "1.2.0",
      "model_name": "LayoutModel",
      "state": {}
     },
     "196a2e9864d140fa9ceb82623e6b6718": {
      "model_module": "@jupyter-widgets/base",
      "model_module_version": "1.2.0",
      "model_name": "LayoutModel",
      "state": {
       "width": "95%"
      }
     },
     "1979b55c586a424499563ca665988a52": {
      "model_module": "@jupyter-widgets/base",
      "model_module_version": "1.2.0",
      "model_name": "LayoutModel",
      "state": {}
     },
     "197cc8bbd5eb40b1850f8fb41097184d": {
      "model_module": "@jupyter-widgets/controls",
      "model_module_version": "1.5.0",
      "model_name": "VBoxModel",
      "state": {
       "children": [
        "IPY_MODEL_0b89c9f57b824f80add8ee849cb5ab2c",
        "IPY_MODEL_725f12cade274a2693241c8118a24e15"
       ],
       "layout": "IPY_MODEL_5fa1eb9386f346e7afb733f76677855e"
      }
     },
     "198aa93c49bf4e1abb3135dc89c1bd48": {
      "model_module": "@jupyter-widgets/controls",
      "model_module_version": "1.5.0",
      "model_name": "TextModel",
      "state": {
       "description": "Other:",
       "layout": "IPY_MODEL_34e75451a716407284a8065ff05f7577",
       "placeholder": "Hit enter to submit.",
       "style": "IPY_MODEL_16e9f8a21d3b49a190167fef980dcac9"
      }
     },
     "19ec8fa1d156417a8be7c92a6544312f": {
      "model_module": "@jupyter-widgets/base",
      "model_module_version": "1.2.0",
      "model_name": "LayoutModel",
      "state": {
       "width": "10%"
      }
     },
     "1a046c686c764b639411ca15418723de": {
      "model_module": "@jupyter-widgets/base",
      "model_module_version": "1.2.0",
      "model_name": "LayoutModel",
      "state": {
       "width": "10%"
      }
     },
     "1a1c8178276d4e389235389ccaf2662e": {
      "model_module": "@jupyter-widgets/base",
      "model_module_version": "1.2.0",
      "model_name": "LayoutModel",
      "state": {}
     },
     "1a3452bd8b2f45aca2a1bd62a8f7c757": {
      "model_module": "@jupyter-widgets/base",
      "model_module_version": "1.2.0",
      "model_name": "LayoutModel",
      "state": {
       "width": "95%"
      }
     },
     "1a6d634730f64b5bb07e255530cf4e61": {
      "model_module": "@jupyter-widgets/base",
      "model_module_version": "1.2.0",
      "model_name": "LayoutModel",
      "state": {
       "width": "10%"
      }
     },
     "1a8414f6eeae4e5a9dcb2b044f5507e1": {
      "model_module": "@jupyter-widgets/controls",
      "model_module_version": "1.5.0",
      "model_name": "ButtonStyleModel",
      "state": {}
     },
     "1aae491b8ad440efbc358182879dd6ab": {
      "model_module": "@jupyter-widgets/base",
      "model_module_version": "1.2.0",
      "model_name": "LayoutModel",
      "state": {}
     },
     "1abe73988e93450da6370eb91db015d0": {
      "model_module": "@jupyter-widgets/base",
      "model_module_version": "1.2.0",
      "model_name": "LayoutModel",
      "state": {
       "width": "95%"
      }
     },
     "1ae50473aa4a4b4c83089f521b4c4a4d": {
      "model_module": "@jupyter-widgets/base",
      "model_module_version": "1.2.0",
      "model_name": "LayoutModel",
      "state": {}
     },
     "1aebaaa947244a20bf3c02373b380427": {
      "model_module": "@jupyter-widgets/controls",
      "model_module_version": "1.5.0",
      "model_name": "ButtonStyleModel",
      "state": {}
     },
     "1af72997db484e41a719e0aaaba4f123": {
      "model_module": "@jupyter-widgets/controls",
      "model_module_version": "1.5.0",
      "model_name": "ButtonStyleModel",
      "state": {}
     },
     "1b16daa0d6a34f86a2776fbc0e9a370b": {
      "model_module": "@jupyter-widgets/output",
      "model_module_version": "1.0.0",
      "model_name": "OutputModel",
      "state": {
       "layout": "IPY_MODEL_6ad11c0a98ed4c3b8d876e84b02f5314"
      }
     },
     "1b233b85cfc04fc8bf646161934ed3b6": {
      "model_module": "@jupyter-widgets/controls",
      "model_module_version": "1.5.0",
      "model_name": "VBoxModel",
      "state": {
       "children": [
        "IPY_MODEL_a2ebf98834c54d7a8bc03ea1efac44da",
        "IPY_MODEL_50fb0d8a8ccb449fa12707ba61123e4b"
       ],
       "layout": "IPY_MODEL_18ba41a517e54977a1c8b93a65aa7ae4"
      }
     },
     "1b2eb0db1ded493199151972d1fdc29a": {
      "model_module": "@jupyter-widgets/controls",
      "model_module_version": "1.5.0",
      "model_name": "ButtonModel",
      "state": {
       "description": "3",
       "layout": "IPY_MODEL_40764ed8ce954fb4a9287e24876f54a4",
       "style": "IPY_MODEL_fbd824650827443e8f09ecf0b38775c7"
      }
     },
     "1b3468320b72401daacd8ffa2c9e3616": {
      "model_module": "@jupyter-widgets/base",
      "model_module_version": "1.2.0",
      "model_name": "LayoutModel",
      "state": {
       "width": "95%"
      }
     },
     "1b3f23ccf3f2405aa2c7fb2cec4ac81c": {
      "model_module": "@jupyter-widgets/base",
      "model_module_version": "1.2.0",
      "model_name": "LayoutModel",
      "state": {
       "width": "95%"
      }
     },
     "1b439bb52c1a4ac99b4f4a38074144f4": {
      "model_module": "@jupyter-widgets/controls",
      "model_module_version": "1.5.0",
      "model_name": "VBoxModel",
      "state": {
       "children": [
        "IPY_MODEL_79cb34587dc24e4a90849fccc4acb833",
        "IPY_MODEL_fb4abcdf63b041f5af4a667f50bb23ae"
       ],
       "layout": "IPY_MODEL_58eb8f0e45aa4bfdabf51831a37b2d0e"
      }
     },
     "1b712af513fc45669700a2a9cbd76b81": {
      "model_module": "@jupyter-widgets/controls",
      "model_module_version": "1.5.0",
      "model_name": "VBoxModel",
      "state": {
       "children": [
        "IPY_MODEL_d21f078490e6444196bce7cce50870be",
        "IPY_MODEL_913b7959378349379f0da00cd6ebaeb0"
       ],
       "layout": "IPY_MODEL_8931ef1501b348b7bca30020bf022e3e"
      }
     },
     "1b7bf088ec764c13bedd684f5df6bd6e": {
      "model_module": "@jupyter-widgets/controls",
      "model_module_version": "1.5.0",
      "model_name": "VBoxModel",
      "state": {
       "children": [
        "IPY_MODEL_1efcaee813fe47cda325e0daa8e8e1bf",
        "IPY_MODEL_fdaa9d760000402b80da6f721d79f1bf"
       ],
       "layout": "IPY_MODEL_da9df8cf1f8d42168f6fbe4e97627260"
      }
     },
     "1b8421646a1a4e7abb8138528070de24": {
      "model_module": "@jupyter-widgets/controls",
      "model_module_version": "1.5.0",
      "model_name": "ButtonStyleModel",
      "state": {}
     },
     "1ba654f5a2ea40a8a6271782e3a8a4c9": {
      "model_module": "@jupyter-widgets/base",
      "model_module_version": "1.2.0",
      "model_name": "LayoutModel",
      "state": {}
     },
     "1bacc6c99ee649a08107b0feb35dcdf4": {
      "model_module": "@jupyter-widgets/controls",
      "model_module_version": "1.5.0",
      "model_name": "VBoxModel",
      "state": {
       "children": [
        "IPY_MODEL_ca19e49a87574671a8e04ffe3c47a84e",
        "IPY_MODEL_e3675101ade94d24a8121ca52db03ff4"
       ],
       "layout": "IPY_MODEL_aae26e3105184bccbf26b2286a42ce5f"
      }
     },
     "1bbd70861e5e4af1b9a1518444ea5cf3": {
      "model_module": "@jupyter-widgets/controls",
      "model_module_version": "1.5.0",
      "model_name": "ButtonStyleModel",
      "state": {}
     },
     "1bc1d87eab3548e29582e449d88c22b7": {
      "model_module": "@jupyter-widgets/base",
      "model_module_version": "1.2.0",
      "model_name": "LayoutModel",
      "state": {}
     },
     "1bea00d37eed4c848385ba20d2602269": {
      "model_module": "@jupyter-widgets/base",
      "model_module_version": "1.2.0",
      "model_name": "LayoutModel",
      "state": {
       "width": "10%"
      }
     },
     "1c0a1ea215374629b5a7c724608bf710": {
      "model_module": "@jupyter-widgets/base",
      "model_module_version": "1.2.0",
      "model_name": "LayoutModel",
      "state": {}
     },
     "1c17bb6a934d4b63923502d14f4bda91": {
      "model_module": "@jupyter-widgets/controls",
      "model_module_version": "1.5.0",
      "model_name": "ButtonModel",
      "state": {
       "description": "1",
       "layout": "IPY_MODEL_a138a876cd0d4a92abf9d04ff5a4fe1d",
       "style": "IPY_MODEL_5315c0d4bbc84edb8a1b4cc5570f43be"
      }
     },
     "1c1ca58730c24b419295e1a27aae1f35": {
      "model_module": "@jupyter-widgets/output",
      "model_module_version": "1.0.0",
      "model_name": "OutputModel",
      "state": {
       "layout": "IPY_MODEL_f6f52bdfd26344fea81965f0143af5f5"
      }
     },
     "1c3b38622b1047ac8e39c4a7d947acb3": {
      "model_module": "@jupyter-widgets/controls",
      "model_module_version": "1.5.0",
      "model_name": "VBoxModel",
      "state": {
       "children": [
        "IPY_MODEL_2b74dd15e12743829f3e90a6b0fa462e",
        "IPY_MODEL_793988f38d9a41e4bbba89c75bbbd8d0"
       ],
       "layout": "IPY_MODEL_c58fc5a8edfb4009a9bc8c705153a2c3"
      }
     },
     "1c42ffe5a49b47208c5bc393fb7d8f83": {
      "model_module": "@jupyter-widgets/base",
      "model_module_version": "1.2.0",
      "model_name": "LayoutModel",
      "state": {
       "width": "10%"
      }
     },
     "1c503d8ddcbd4e1aabcf2b75bac1437d": {
      "model_module": "@jupyter-widgets/base",
      "model_module_version": "1.2.0",
      "model_name": "LayoutModel",
      "state": {}
     },
     "1c53eee7fc814b6982c5b09605f4b080": {
      "model_module": "@jupyter-widgets/base",
      "model_module_version": "1.2.0",
      "model_name": "LayoutModel",
      "state": {
       "width": "10%"
      }
     },
     "1c614e9e21f04949a6a0dcca27992bdd": {
      "model_module": "@jupyter-widgets/base",
      "model_module_version": "1.2.0",
      "model_name": "LayoutModel",
      "state": {
       "width": "10%"
      }
     },
     "1c841b26f105496d9d3d9d30c7cd77f8": {
      "model_module": "@jupyter-widgets/base",
      "model_module_version": "1.2.0",
      "model_name": "LayoutModel",
      "state": {
       "width": "10%"
      }
     },
     "1c8926c8cddb48749be16c5f8b45fcce": {
      "model_module": "@jupyter-widgets/base",
      "model_module_version": "1.2.0",
      "model_name": "LayoutModel",
      "state": {}
     },
     "1c97cb8221ca4f689aea75515bb3feaa": {
      "model_module": "@jupyter-widgets/controls",
      "model_module_version": "1.5.0",
      "model_name": "VBoxModel",
      "state": {
       "children": [
        "IPY_MODEL_6b61f659c1044a6fa049690d97b19441",
        "IPY_MODEL_3895e1ae71504dc39c0fac9ecde9f654"
       ],
       "layout": "IPY_MODEL_a098d6346abc4604803a65f81e462ec8"
      }
     },
     "1ca8f3bdc46f40d5b73dd1324b5839ed": {
      "model_module": "@jupyter-widgets/base",
      "model_module_version": "1.2.0",
      "model_name": "LayoutModel",
      "state": {
       "width": "10%"
      }
     },
     "1ccd6744c81c4e0da579bf28b5a727c9": {
      "model_module": "@jupyter-widgets/output",
      "model_module_version": "1.0.0",
      "model_name": "OutputModel",
      "state": {
       "layout": "IPY_MODEL_dd28f8e925cb4cfcb6255604ef49e9f5"
      }
     },
     "1cd2f6f708e14af8bff09bcc9741de1f": {
      "model_module": "@jupyter-widgets/base",
      "model_module_version": "1.2.0",
      "model_name": "LayoutModel",
      "state": {
       "width": "10%"
      }
     },
     "1ce6a10ddc81453483e13b5fbe791933": {
      "model_module": "@jupyter-widgets/base",
      "model_module_version": "1.2.0",
      "model_name": "LayoutModel",
      "state": {}
     },
     "1d05e31e890c41ef9923013179d45c5d": {
      "model_module": "@jupyter-widgets/output",
      "model_module_version": "1.0.0",
      "model_name": "OutputModel",
      "state": {
       "layout": "IPY_MODEL_f729c31bee0a47f1a7fed50db61cfb00"
      }
     },
     "1d32c440065243b5958203124c85a188": {
      "model_module": "@jupyter-widgets/base",
      "model_module_version": "1.2.0",
      "model_name": "LayoutModel",
      "state": {
       "width": "95%"
      }
     },
     "1d33e76e618a4e828bf7d25ecf12af42": {
      "model_module": "@jupyter-widgets/base",
      "model_module_version": "1.2.0",
      "model_name": "LayoutModel",
      "state": {}
     },
     "1d3e8725f77a468291a154f71eab58d0": {
      "model_module": "@jupyter-widgets/controls",
      "model_module_version": "1.5.0",
      "model_name": "ButtonStyleModel",
      "state": {}
     },
     "1d47ccff456c4a30a0a51a65cd5e1b05": {
      "model_module": "@jupyter-widgets/controls",
      "model_module_version": "1.5.0",
      "model_name": "ButtonStyleModel",
      "state": {}
     },
     "1d640921b0df46a7ab7cdc575fc380a6": {
      "model_module": "@jupyter-widgets/controls",
      "model_module_version": "1.5.0",
      "model_name": "VBoxModel",
      "state": {
       "children": [
        "IPY_MODEL_b1ee00e17f1246c39ece0137eb9290a4",
        "IPY_MODEL_3df69f25a9604bfba35d74fda215836a"
       ],
       "layout": "IPY_MODEL_20120259b7a54affa107dcf0c9841073"
      }
     },
     "1d6da9d253284e6aa1af538d6b2ff49f": {
      "model_module": "@jupyter-widgets/base",
      "model_module_version": "1.2.0",
      "model_name": "LayoutModel",
      "state": {
       "width": "10%"
      }
     },
     "1d942be6246b498eb9ebe39699254349": {
      "model_module": "@jupyter-widgets/base",
      "model_module_version": "1.2.0",
      "model_name": "LayoutModel",
      "state": {
       "width": "10%"
      }
     },
     "1d9c7d4ce3ac4e2aaf1fddd4c7148ab4": {
      "model_module": "@jupyter-widgets/base",
      "model_module_version": "1.2.0",
      "model_name": "LayoutModel",
      "state": {
       "width": "10%"
      }
     },
     "1dc41d4682c44ad891a951441513a961": {
      "model_module": "@jupyter-widgets/base",
      "model_module_version": "1.2.0",
      "model_name": "LayoutModel",
      "state": {
       "width": "95%"
      }
     },
     "1dd616e8fd9c4033bc2a2232467b0978": {
      "model_module": "@jupyter-widgets/output",
      "model_module_version": "1.0.0",
      "model_name": "OutputModel",
      "state": {
       "layout": "IPY_MODEL_977918ef66844f399c6cc71eb82c15fb"
      }
     },
     "1dff200484f54dcab626a2d8eb3ef190": {
      "model_module": "@jupyter-widgets/controls",
      "model_module_version": "1.5.0",
      "model_name": "ButtonStyleModel",
      "state": {}
     },
     "1e328974665240a499168a562073dcd8": {
      "model_module": "@jupyter-widgets/base",
      "model_module_version": "1.2.0",
      "model_name": "LayoutModel",
      "state": {
       "width": "10%"
      }
     },
     "1e4a17bf27584a8c803c53ac138c579c": {
      "model_module": "@jupyter-widgets/controls",
      "model_module_version": "1.5.0",
      "model_name": "ButtonModel",
      "state": {
       "description": "5",
       "layout": "IPY_MODEL_d10eef9eb03e4eda974644da7d11f1bc",
       "style": "IPY_MODEL_d5df6864268a4c04b68687af118fc709"
      }
     },
     "1e4f4f7ed0ae4f4d97469f4c9571d57a": {
      "model_module": "@jupyter-widgets/base",
      "model_module_version": "1.2.0",
      "model_name": "LayoutModel",
      "state": {
       "width": "95%"
      }
     },
     "1e7e7d6cb34c456f8d15217a18d05d4e": {
      "model_module": "@jupyter-widgets/base",
      "model_module_version": "1.2.0",
      "model_name": "LayoutModel",
      "state": {
       "width": "95%"
      }
     },
     "1eb1c5f4275a40ad9d07dd1fbd59a450": {
      "model_module": "@jupyter-widgets/base",
      "model_module_version": "1.2.0",
      "model_name": "LayoutModel",
      "state": {}
     },
     "1ec19ca9bc144bd6bd76350171b16c80": {
      "model_module": "@jupyter-widgets/controls",
      "model_module_version": "1.5.0",
      "model_name": "ButtonModel",
      "state": {
       "description": "1",
       "layout": "IPY_MODEL_5a713cbf8c824d8681acac307c94c3af",
       "style": "IPY_MODEL_d4351ba6ed344ffe9288263a40c75bfe"
      }
     },
     "1ecc7f21e98545fe944982c4a24005d9": {
      "model_module": "@jupyter-widgets/controls",
      "model_module_version": "1.5.0",
      "model_name": "ButtonModel",
      "state": {
       "description": "3",
       "layout": "IPY_MODEL_28d14b839e4042419a2556fbfd4124af",
       "style": "IPY_MODEL_140019054e49401da015cedcdc7d28fb"
      }
     },
     "1efc8da286de44fb9f7ec700a275c52e": {
      "model_module": "@jupyter-widgets/output",
      "model_module_version": "1.0.0",
      "model_name": "OutputModel",
      "state": {
       "layout": "IPY_MODEL_020eeb7d0cdf424583842b2776a52cdf"
      }
     },
     "1efca1a362f04bbebb495637a3554ea6": {
      "model_module": "@jupyter-widgets/controls",
      "model_module_version": "1.5.0",
      "model_name": "VBoxModel",
      "state": {
       "children": [
        "IPY_MODEL_5c26a600167e4d51a9110ebb4c0f8196",
        "IPY_MODEL_d1862333573f4c9eb7377a5b611fb34f"
       ],
       "layout": "IPY_MODEL_1a046c686c764b639411ca15418723de"
      }
     },
     "1efcaee813fe47cda325e0daa8e8e1bf": {
      "model_module": "@jupyter-widgets/controls",
      "model_module_version": "1.5.0",
      "model_name": "ButtonModel",
      "state": {
       "description": "3",
       "layout": "IPY_MODEL_6e07e5432e8e4b89bd27e735f2579321",
       "style": "IPY_MODEL_b5f1508fee514a90a348b4a0fad56a6f"
      }
     },
     "1f02656646b34fd49701f6eee17539c0": {
      "model_module": "@jupyter-widgets/controls",
      "model_module_version": "1.5.0",
      "model_name": "ButtonStyleModel",
      "state": {}
     },
     "1f18a4180319471a9d3b07821cd3589f": {
      "model_module": "@jupyter-widgets/controls",
      "model_module_version": "1.5.0",
      "model_name": "VBoxModel",
      "state": {
       "children": [
        "IPY_MODEL_51fb2d8e424f4f16a61a433dbe9fedaf",
        "IPY_MODEL_57da64f06b744fdcbec28c92c39df4ed"
       ],
       "layout": "IPY_MODEL_1c614e9e21f04949a6a0dcca27992bdd"
      }
     },
     "1f197b01a3a34a3e8909caf0a51f67e6": {
      "model_module": "@jupyter-widgets/output",
      "model_module_version": "1.0.0",
      "model_name": "OutputModel",
      "state": {
       "layout": "IPY_MODEL_e17ac4ad746e45ac838c3c3b6bac40fa"
      }
     },
     "1f2987d050284219b2969d9884e51295": {
      "model_module": "@jupyter-widgets/controls",
      "model_module_version": "1.5.0",
      "model_name": "VBoxModel",
      "state": {
       "children": [
        "IPY_MODEL_a001136da83d472ca3631316a8d43aa7",
        "IPY_MODEL_28d9c0acd6084edf9104f00b04a19da4"
       ],
       "layout": "IPY_MODEL_5be8067dd7324f2fab3b4116bde67f60"
      }
     },
     "1f68182065c642d4906937dae62adbff": {
      "model_module": "@jupyter-widgets/controls",
      "model_module_version": "1.5.0",
      "model_name": "ButtonModel",
      "state": {
       "description": "7",
       "layout": "IPY_MODEL_18ad106444444173af074a4846ead193",
       "style": "IPY_MODEL_53bfe9a2ec7143a68d81f902f4662eb2"
      }
     },
     "1f7932f768ad4630bdbcc2a26c2cec89": {
      "model_module": "@jupyter-widgets/base",
      "model_module_version": "1.2.0",
      "model_name": "LayoutModel",
      "state": {
       "width": "95%"
      }
     },
     "1f7be19679294afcaf8a453278e5f295": {
      "model_module": "@jupyter-widgets/controls",
      "model_module_version": "1.5.0",
      "model_name": "TextModel",
      "state": {
       "description": "Other:",
       "layout": "IPY_MODEL_83c6c0279af24c4b9ae1654c0f1b6e1d",
       "placeholder": "Hit enter to submit.",
       "style": "IPY_MODEL_ede81806e8fa4fc996da152a7763cb83"
      }
     },
     "1f84abbdf92d4eeea1ab717809f4d92c": {
      "model_module": "@jupyter-widgets/base",
      "model_module_version": "1.2.0",
      "model_name": "LayoutModel",
      "state": {}
     },
     "1f8e4973400b4543ad4cd9f4412c47ac": {
      "model_module": "@jupyter-widgets/base",
      "model_module_version": "1.2.0",
      "model_name": "LayoutModel",
      "state": {}
     },
     "1f90e3bc37984dcfbc24379b9bfc0613": {
      "model_module": "@jupyter-widgets/base",
      "model_module_version": "1.2.0",
      "model_name": "LayoutModel",
      "state": {}
     },
     "1fbd4571149a467f891db95ba829daed": {
      "model_module": "@jupyter-widgets/base",
      "model_module_version": "1.2.0",
      "model_name": "LayoutModel",
      "state": {
       "width": "95%"
      }
     },
     "1fc37a6853474c4a8d64bddb4c0f9f6d": {
      "model_module": "@jupyter-widgets/base",
      "model_module_version": "1.2.0",
      "model_name": "LayoutModel",
      "state": {
       "width": "10%"
      }
     },
     "1fdfdc45ec4c4d7e8ac2a694206b26b6": {
      "model_module": "@jupyter-widgets/controls",
      "model_module_version": "1.5.0",
      "model_name": "ButtonModel",
      "state": {
       "description": "2",
       "layout": "IPY_MODEL_a1126ad1b9df4deba10f26993e6918b7",
       "style": "IPY_MODEL_c574dca9705741a39c8aeb3c48db301f"
      }
     },
     "1ff2e0a2bbe741ffa016e1a18be91cd6": {
      "model_module": "@jupyter-widgets/controls",
      "model_module_version": "1.5.0",
      "model_name": "VBoxModel",
      "state": {
       "children": [
        "IPY_MODEL_9c22f10cd24d4c6bbe5a1eef91b9fbe1",
        "IPY_MODEL_e892c388872d4912b6a947bfb9e3b49a"
       ],
       "layout": "IPY_MODEL_5f52f799834d4f1a81255868d27849ba"
      }
     },
     "1ff54958d61242a6b525f94c04ed2973": {
      "model_module": "@jupyter-widgets/controls",
      "model_module_version": "1.5.0",
      "model_name": "HBoxModel",
      "state": {
       "children": [
        "IPY_MODEL_dbd62185f1c141f2812c29ff3ae05749",
        "IPY_MODEL_66ebc0cd2e45421290b7335610bef1a7",
        "IPY_MODEL_e97ba1ba59d4448da91d2fe3a4722462",
        "IPY_MODEL_cae43b4f09b44b32bff47a2b3a597989",
        "IPY_MODEL_a9b1c6d2d9d64b55bdfba7938e6595c0",
        "IPY_MODEL_514e17925da04857aa922d34c7dfd772",
        "IPY_MODEL_b6972d445e2846838733bf32696cef9a",
        "IPY_MODEL_2e17ce9863b9477a95f5251d4973c709",
        "IPY_MODEL_1bacc6c99ee649a08107b0feb35dcdf4",
        "IPY_MODEL_8c298ac9492a4935b6aeba7c2447b816"
       ],
       "layout": "IPY_MODEL_48b67893c7d6445d951b3d4a1954f5bb"
      }
     },
     "200dc2d4883249349a528e55ec01ed9a": {
      "model_module": "@jupyter-widgets/base",
      "model_module_version": "1.2.0",
      "model_name": "LayoutModel",
      "state": {
       "justify_content": "space-between"
      }
     },
     "20120259b7a54affa107dcf0c9841073": {
      "model_module": "@jupyter-widgets/base",
      "model_module_version": "1.2.0",
      "model_name": "LayoutModel",
      "state": {
       "width": "10%"
      }
     },
     "206e2db573cb46ee8e01a69b7c1b6b2b": {
      "model_module": "@jupyter-widgets/controls",
      "model_module_version": "1.5.0",
      "model_name": "VBoxModel",
      "state": {
       "children": [
        "IPY_MODEL_e948abb8839247b2a872622adcd84e5d",
        "IPY_MODEL_5b03b040ff83470194a4addbf37ff0c5"
       ],
       "layout": "IPY_MODEL_501d85c97987445ba8a92be9fc32ca42"
      }
     },
     "208eedcc5806420fafa306ceb383433f": {
      "model_module": "@jupyter-widgets/controls",
      "model_module_version": "1.5.0",
      "model_name": "VBoxModel",
      "state": {
       "children": [
        "IPY_MODEL_f4e54d2e8e2c4d738364473750a87442",
        "IPY_MODEL_cb07913b19774984a392ce80d8e3a089"
       ],
       "layout": "IPY_MODEL_d4fa7da64ffb46acb80650a8b23f672d"
      }
     },
     "2092f0b83a714876833759ee4af7b9cd": {
      "model_module": "@jupyter-widgets/base",
      "model_module_version": "1.2.0",
      "model_name": "LayoutModel",
      "state": {}
     },
     "20caf19ff1b64b45ae2279a607d68a8f": {
      "model_module": "@jupyter-widgets/controls",
      "model_module_version": "1.5.0",
      "model_name": "VBoxModel",
      "state": {
       "children": [
        "IPY_MODEL_28a9e765ae8745baa3f8c85316f68e4c",
        "IPY_MODEL_1ccd6744c81c4e0da579bf28b5a727c9"
       ],
       "layout": "IPY_MODEL_48aad41097174653a0d4f9e166fb66dd"
      }
     },
     "20cf29987f984b369e2f5565914615a9": {
      "model_module": "@jupyter-widgets/base",
      "model_module_version": "1.2.0",
      "model_name": "LayoutModel",
      "state": {}
     },
     "20d4a8ec89404171aa8807fc47262578": {
      "model_module": "@jupyter-widgets/base",
      "model_module_version": "1.2.0",
      "model_name": "LayoutModel",
      "state": {
       "height": "2.5%"
      }
     },
     "20dcf3847cbd44449f97eb4e1293d4a6": {
      "model_module": "@jupyter-widgets/base",
      "model_module_version": "1.2.0",
      "model_name": "LayoutModel",
      "state": {
       "justify_content": "space-between"
      }
     },
     "2139fda78b204caaa93f5103cae157a7": {
      "model_module": "@jupyter-widgets/base",
      "model_module_version": "1.2.0",
      "model_name": "LayoutModel",
      "state": {
       "width": "95%"
      }
     },
     "2145cf40c9ea401f801191c9e6f76c4e": {
      "model_module": "@jupyter-widgets/controls",
      "model_module_version": "1.5.0",
      "model_name": "ButtonStyleModel",
      "state": {}
     },
     "214caef3c01d41b48237be6dde31b42e": {
      "model_module": "@jupyter-widgets/output",
      "model_module_version": "1.0.0",
      "model_name": "OutputModel",
      "state": {
       "layout": "IPY_MODEL_a86df98731c947aaa41ef9449b321685"
      }
     },
     "2153e7dac0db4a2ea4d94d07d47b0c83": {
      "model_module": "@jupyter-widgets/controls",
      "model_module_version": "1.5.0",
      "model_name": "ButtonStyleModel",
      "state": {}
     },
     "215a4505a2ae41e59d2242f5167c605d": {
      "model_module": "@jupyter-widgets/controls",
      "model_module_version": "1.5.0",
      "model_name": "ButtonModel",
      "state": {
       "description": "4",
       "layout": "IPY_MODEL_ab7cd014554b46278116d0be1838f371",
       "style": "IPY_MODEL_488d63d135254e40b8fcf728c29a3f03"
      }
     },
     "21a1bc4d0a8b48388c740501c95bcae9": {
      "model_module": "@jupyter-widgets/controls",
      "model_module_version": "1.5.0",
      "model_name": "ButtonModel",
      "state": {
       "description": "2",
       "layout": "IPY_MODEL_dc46d50e11844c9a98ba363555f9d455",
       "style": "IPY_MODEL_75ca52fa782040d58b739221c507d1fd"
      }
     },
     "21abc962c0514975838c062323c15432": {
      "model_module": "@jupyter-widgets/controls",
      "model_module_version": "1.5.0",
      "model_name": "VBoxModel",
      "state": {
       "children": [
        "IPY_MODEL_fadfc14ccf1e408b8b7817cd33daf06a",
        "IPY_MODEL_9adbd4dd50cb42a8942dae3af73b2f73"
       ],
       "layout": "IPY_MODEL_50034e001da94d049e6d81993bbd9b7e"
      }
     },
     "21d3ebb9d5d149198e9b5e581739fbf5": {
      "model_module": "@jupyter-widgets/controls",
      "model_module_version": "1.5.0",
      "model_name": "ButtonStyleModel",
      "state": {}
     },
     "21eb2e3348b44ce59c5d661780806212": {
      "model_module": "@jupyter-widgets/base",
      "model_module_version": "1.2.0",
      "model_name": "LayoutModel",
      "state": {
       "width": "10%"
      }
     },
     "22012ed4962d400ab4c4ad05af8da7b8": {
      "model_module": "@jupyter-widgets/base",
      "model_module_version": "1.2.0",
      "model_name": "LayoutModel",
      "state": {
       "width": "10%"
      }
     },
     "2208f90385624797944b05d98269d2cd": {
      "model_module": "@jupyter-widgets/base",
      "model_module_version": "1.2.0",
      "model_name": "LayoutModel",
      "state": {}
     },
     "2218eb9d659e401db6686ce6b80f3155": {
      "model_module": "@jupyter-widgets/base",
      "model_module_version": "1.2.0",
      "model_name": "LayoutModel",
      "state": {
       "width": "10%"
      }
     },
     "221c19aef92c40f69bd562a626111561": {
      "model_module": "@jupyter-widgets/base",
      "model_module_version": "1.2.0",
      "model_name": "LayoutModel",
      "state": {
       "justify_content": "space-between"
      }
     },
     "221f6988c71f4207ac0b30ef2be5e1ae": {
      "model_module": "@jupyter-widgets/base",
      "model_module_version": "1.2.0",
      "model_name": "LayoutModel",
      "state": {
       "display": "flex",
       "justify_content": "center",
       "padding": "2.5% 0",
       "width": "100%"
      }
     },
     "22240a6fc9274a3f8b2598c7b1d550dd": {
      "model_module": "@jupyter-widgets/base",
      "model_module_version": "1.2.0",
      "model_name": "LayoutModel",
      "state": {}
     },
     "2244a525b2664c3199d99df885c2cbdb": {
      "model_module": "@jupyter-widgets/controls",
      "model_module_version": "1.5.0",
      "model_name": "ButtonStyleModel",
      "state": {}
     },
     "22623047e4b64334b4fd5284f2237c97": {
      "model_module": "@jupyter-widgets/base",
      "model_module_version": "1.2.0",
      "model_name": "LayoutModel",
      "state": {
       "width": "10%"
      }
     },
     "22625eeafe57428baa9218ddfd75576b": {
      "model_module": "@jupyter-widgets/base",
      "model_module_version": "1.2.0",
      "model_name": "LayoutModel",
      "state": {}
     },
     "22741cdb416f43edaba80b7b08909d20": {
      "model_module": "@jupyter-widgets/base",
      "model_module_version": "1.2.0",
      "model_name": "LayoutModel",
      "state": {
       "width": "10%"
      }
     },
     "22866c78d2ec4baaa2a8ac1d0fff5c8d": {
      "model_module": "@jupyter-widgets/controls",
      "model_module_version": "1.5.0",
      "model_name": "ButtonModel",
      "state": {
       "description": "8",
       "layout": "IPY_MODEL_7f3b8d196d9c486897290c1bff3bb638",
       "style": "IPY_MODEL_62a5a6ef9e444f01bdc478ed31f2daab"
      }
     },
     "229b8f4f90884ff594581e077683eff9": {
      "model_module": "@jupyter-widgets/controls",
      "model_module_version": "1.5.0",
      "model_name": "VBoxModel",
      "state": {
       "children": [
        "IPY_MODEL_424735cbf25c4ef482890b4c8a060842",
        "IPY_MODEL_93545fa268034ba495b468c73c7cb673"
       ],
       "layout": "IPY_MODEL_f518a3653d9546d594aa9551df56f8ec"
      }
     },
     "229c4002666943ddbd528b66e73b4c25": {
      "model_module": "@jupyter-widgets/controls",
      "model_module_version": "1.5.0",
      "model_name": "VBoxModel",
      "state": {
       "children": [
        "IPY_MODEL_1700047c8ccd4bd9aaa764b2fe7d460d",
        "IPY_MODEL_c07bf8ac970247a8bf1082926f9f3fc5"
       ],
       "layout": "IPY_MODEL_ee9250d2b14446019590cb8e039a6f4e"
      }
     },
     "22d964bc09c54bfa86fabe404f41c207": {
      "model_module": "@jupyter-widgets/base",
      "model_module_version": "1.2.0",
      "model_name": "LayoutModel",
      "state": {}
     },
     "23103dbcaf544855af537ee50f2c826d": {
      "model_module": "@jupyter-widgets/controls",
      "model_module_version": "1.5.0",
      "model_name": "HBoxModel",
      "state": {
       "children": [
        "IPY_MODEL_30194c12ee1643238eb1f1f4445a98c8",
        "IPY_MODEL_551a555e51074a61a05747f865fc07ea",
        "IPY_MODEL_efe75922169247b59f3de4c408ceac75",
        "IPY_MODEL_cb5446e6c65649c5a4ef57862acd3da8",
        "IPY_MODEL_174df4ec55fa4f48b38288e842d0bfb6",
        "IPY_MODEL_a6f9e32110ab472b8964988ee8bc5615",
        "IPY_MODEL_6b38190e5e374ba2bfe8cf5492e2474f",
        "IPY_MODEL_f3072c2422e44565b5e52afaccf96d9e",
        "IPY_MODEL_7fc2edd3a17449db92fec964d14eb44d",
        "IPY_MODEL_f9752260955f478d83e0508acd042431"
       ],
       "layout": "IPY_MODEL_0415e423e5cb4370a2ee06c578100470"
      }
     },
     "23138de5022d4e55a0c46fe46cfe2f45": {
      "model_module": "@jupyter-widgets/base",
      "model_module_version": "1.2.0",
      "model_name": "LayoutModel",
      "state": {
       "width": "10%"
      }
     },
     "231c1a57847a453aa37a92c12dedcc41": {
      "model_module": "@jupyter-widgets/controls",
      "model_module_version": "1.5.0",
      "model_name": "VBoxModel",
      "state": {
       "children": [
        "IPY_MODEL_c776e8596aa943e4a5ffc2d8834aa21a",
        "IPY_MODEL_988f43dcab464d3c937ca66f4cd32ee8"
       ],
       "layout": "IPY_MODEL_ea867f989adc49149129a37e7051c0d0"
      }
     },
     "23269e7d87984709b4efb94c4f2d59df": {
      "model_module": "@jupyter-widgets/base",
      "model_module_version": "1.2.0",
      "model_name": "LayoutModel",
      "state": {
       "width": "95%"
      }
     },
     "235e00481ef843e8a6da3de4d44b4d5a": {
      "model_module": "@jupyter-widgets/controls",
      "model_module_version": "1.5.0",
      "model_name": "ButtonModel",
      "state": {
       "description": "7",
       "layout": "IPY_MODEL_272bd76a717946f8a8be25ed007e13ff",
       "style": "IPY_MODEL_87dacdfa3105430b924b1b7d1cda08f1"
      }
     },
     "2367ab46689246b3a450efe9437e2e09": {
      "model_module": "@jupyter-widgets/base",
      "model_module_version": "1.2.0",
      "model_name": "LayoutModel",
      "state": {
       "width": "95%"
      }
     },
     "236cf11f808f472cb2d5cfca505aaca5": {
      "model_module": "@jupyter-widgets/controls",
      "model_module_version": "1.5.0",
      "model_name": "ButtonModel",
      "state": {
       "description": "2",
       "layout": "IPY_MODEL_dd864f32b7e8475b83c9c596505bb9de",
       "style": "IPY_MODEL_e9bdd10818e54e378b6d240f5628c986"
      }
     },
     "23c74268dbf941bdbb3664a24b9b8952": {
      "model_module": "@jupyter-widgets/controls",
      "model_module_version": "1.5.0",
      "model_name": "VBoxModel",
      "state": {
       "children": [
        "IPY_MODEL_ad29cd10ed7e4561aafd582e4af5410f",
        "IPY_MODEL_2efdaa7d03eb4e85bb40a0ac5ba8f0b7"
       ],
       "layout": "IPY_MODEL_22741cdb416f43edaba80b7b08909d20"
      }
     },
     "23f54db764a241ff95e271a30980ab3a": {
      "model_module": "@jupyter-widgets/base",
      "model_module_version": "1.2.0",
      "model_name": "LayoutModel",
      "state": {
       "width": "95%"
      }
     },
     "241b6ae2f0654b888a54fdd18b6a8228": {
      "model_module": "@jupyter-widgets/base",
      "model_module_version": "1.2.0",
      "model_name": "LayoutModel",
      "state": {
       "width": "95%"
      }
     },
     "2421c248f76f4035b68864f58f266f84": {
      "model_module": "@jupyter-widgets/controls",
      "model_module_version": "1.5.0",
      "model_name": "ButtonStyleModel",
      "state": {}
     },
     "2449e3f22d37457a931ad5c3ff2bb436": {
      "model_module": "@jupyter-widgets/controls",
      "model_module_version": "1.5.0",
      "model_name": "ButtonStyleModel",
      "state": {}
     },
     "245c7e92c6b2442b8d0ba846b72a74ec": {
      "model_module": "@jupyter-widgets/base",
      "model_module_version": "1.2.0",
      "model_name": "LayoutModel",
      "state": {
       "width": "95%"
      }
     },
     "24a015e3f349418db760763a5ecf0a42": {
      "model_module": "@jupyter-widgets/controls",
      "model_module_version": "1.5.0",
      "model_name": "ButtonStyleModel",
      "state": {}
     },
     "24a581d2a1a944969ac7aed9779a7c2d": {
      "model_module": "@jupyter-widgets/controls",
      "model_module_version": "1.5.0",
      "model_name": "ButtonStyleModel",
      "state": {}
     },
     "24b08804e256481fa5d3a0597e42408c": {
      "model_module": "@jupyter-widgets/controls",
      "model_module_version": "1.5.0",
      "model_name": "ButtonModel",
      "state": {
       "description": "3",
       "layout": "IPY_MODEL_d02e85cc996d429f9d9c6bae655d5fbb",
       "style": "IPY_MODEL_2244a525b2664c3199d99df885c2cbdb"
      }
     },
     "24c5e994856647c9a591a15025a85de4": {
      "model_module": "@jupyter-widgets/base",
      "model_module_version": "1.2.0",
      "model_name": "LayoutModel",
      "state": {}
     },
     "24f48aa0f5a14531a9eeb930570523da": {
      "model_module": "@jupyter-widgets/base",
      "model_module_version": "1.2.0",
      "model_name": "LayoutModel",
      "state": {
       "width": "95%"
      }
     },
     "24f577984da04e7c901bf94d6bd3a46c": {
      "model_module": "@jupyter-widgets/output",
      "model_module_version": "1.0.0",
      "model_name": "OutputModel",
      "state": {
       "layout": "IPY_MODEL_9a8174a55b0e4d148568c042d475d6fd"
      }
     },
     "24f72a9df5e94676a5e4149a2ad81977": {
      "model_module": "@jupyter-widgets/base",
      "model_module_version": "1.2.0",
      "model_name": "LayoutModel",
      "state": {
       "width": "10%"
      }
     },
     "2500958f929748769fe7148705a0dbab": {
      "model_module": "@jupyter-widgets/base",
      "model_module_version": "1.2.0",
      "model_name": "LayoutModel",
      "state": {
       "width": "95%"
      }
     },
     "252dcf19cac24ef3bf80a9dc5fd1ff42": {
      "model_module": "@jupyter-widgets/controls",
      "model_module_version": "1.5.0",
      "model_name": "ButtonModel",
      "state": {
       "description": "6",
       "layout": "IPY_MODEL_4a7b64f3674a4fa38975be4fc9d69fd0",
       "style": "IPY_MODEL_9dce4aa1eac74ff892df2d194418fed8"
      }
     },
     "253b7916907649998fd0c611319c838c": {
      "model_module": "@jupyter-widgets/controls",
      "model_module_version": "1.5.0",
      "model_name": "VBoxModel",
      "state": {
       "children": [
        "IPY_MODEL_0286a648921c43f8a9567710db767677",
        "IPY_MODEL_61e282314c37481d9b4eae62bf067247"
       ],
       "layout": "IPY_MODEL_81d12266c20345cbaaae220aff154a2c"
      }
     },
     "255c086fe551424db3a7ced5648bfd6c": {
      "model_module": "@jupyter-widgets/controls",
      "model_module_version": "1.5.0",
      "model_name": "VBoxModel",
      "state": {
       "children": [
        "IPY_MODEL_07abb9bafb19495ba14980d53597b28f",
        "IPY_MODEL_e24d21c06ce44bceb89fff4279407d18"
       ],
       "layout": "IPY_MODEL_4f7470e1543445cdaee0c59a9aae84c9"
      }
     },
     "257921acb0b841f898ba3278c8ea17f5": {
      "model_module": "@jupyter-widgets/base",
      "model_module_version": "1.2.0",
      "model_name": "LayoutModel",
      "state": {}
     },
     "2592a559596a45f7b76750ffaa2b6f42": {
      "model_module": "@jupyter-widgets/base",
      "model_module_version": "1.2.0",
      "model_name": "LayoutModel",
      "state": {
       "width": "10%"
      }
     },
     "2593697430b948fe934e59bfa5dc27ff": {
      "model_module": "@jupyter-widgets/controls",
      "model_module_version": "1.5.0",
      "model_name": "VBoxModel",
      "state": {
       "children": [
        "IPY_MODEL_1ecc7f21e98545fe944982c4a24005d9",
        "IPY_MODEL_4724e8e4c3314e3f8c7538028d8cc632"
       ],
       "layout": "IPY_MODEL_a68dc538951a4f988deaa6373dc0d62d"
      }
     },
     "25a05dc122274e66968b4ad719d576c5": {
      "model_module": "@jupyter-widgets/base",
      "model_module_version": "1.2.0",
      "model_name": "LayoutModel",
      "state": {}
     },
     "25afb8a174014d33bbc6fbe53c652b74": {
      "model_module": "@jupyter-widgets/base",
      "model_module_version": "1.2.0",
      "model_name": "LayoutModel",
      "state": {
       "width": "10%"
      }
     },
     "25c8aec5579a49469ae5d20b11a27c2c": {
      "model_module": "@jupyter-widgets/controls",
      "model_module_version": "1.5.0",
      "model_name": "ButtonStyleModel",
      "state": {}
     },
     "25e95ab7278441eaa106805a02ffec19": {
      "model_module": "@jupyter-widgets/base",
      "model_module_version": "1.2.0",
      "model_name": "LayoutModel",
      "state": {}
     },
     "266df039097c4efb85e3e88dd492bbf6": {
      "model_module": "@jupyter-widgets/controls",
      "model_module_version": "1.5.0",
      "model_name": "ButtonStyleModel",
      "state": {}
     },
     "26766a6dd8f742b0a0eb9140e2189242": {
      "model_module": "@jupyter-widgets/base",
      "model_module_version": "1.2.0",
      "model_name": "LayoutModel",
      "state": {
       "width": "10%"
      }
     },
     "26875f6f38864c53927c6269868b6160": {
      "model_module": "@jupyter-widgets/base",
      "model_module_version": "1.2.0",
      "model_name": "LayoutModel",
      "state": {
       "width": "10%"
      }
     },
     "269a7647c22a4b419cc969db38886117": {
      "model_module": "@jupyter-widgets/controls",
      "model_module_version": "1.5.0",
      "model_name": "VBoxModel",
      "state": {
       "children": [
        "IPY_MODEL_1626fa86e0014fa18a2e33d57cbb2a49",
        "IPY_MODEL_1d05e31e890c41ef9923013179d45c5d"
       ],
       "layout": "IPY_MODEL_3d2e12994a58443eabcacb151e656419"
      }
     },
     "26a5228e9e98447c91a13fc30cca2fca": {
      "model_module": "@jupyter-widgets/controls",
      "model_module_version": "1.5.0",
      "model_name": "ButtonModel",
      "state": {
       "description": "8",
       "layout": "IPY_MODEL_5d225c3303424726a8687b41adffdac8",
       "style": "IPY_MODEL_6c40ae0aeb4f40cfa40d22d2e1927ca2"
      }
     },
     "270c81c8cb394c37b191163d6b8875b0": {
      "model_module": "@jupyter-widgets/controls",
      "model_module_version": "1.5.0",
      "model_name": "ButtonModel",
      "state": {
       "description": "0",
       "layout": "IPY_MODEL_b0e6d429132043a4a8f6bdb27a1c03b5",
       "style": "IPY_MODEL_b9afa8710c7c4b40860e2f331ce13366"
      }
     },
     "2712eedfc9594485a763ab33ff54b7c4": {
      "model_module": "@jupyter-widgets/output",
      "model_module_version": "1.0.0",
      "model_name": "OutputModel",
      "state": {
       "layout": "IPY_MODEL_75b5f79b961e470b88b686e96732e08f"
      }
     },
     "27227d8023964c58a298cbe48bc77b53": {
      "model_module": "@jupyter-widgets/base",
      "model_module_version": "1.2.0",
      "model_name": "LayoutModel",
      "state": {}
     },
     "27270666bd6948a990abcaa0ce4d1a92": {
      "model_module": "@jupyter-widgets/output",
      "model_module_version": "1.0.0",
      "model_name": "OutputModel",
      "state": {
       "layout": "IPY_MODEL_b4f017565d7e4474b145bb55d1d8b29d"
      }
     },
     "272bd76a717946f8a8be25ed007e13ff": {
      "model_module": "@jupyter-widgets/base",
      "model_module_version": "1.2.0",
      "model_name": "LayoutModel",
      "state": {
       "width": "95%"
      }
     },
     "2730971964d7494b80f94681aa49b435": {
      "model_module": "@jupyter-widgets/controls",
      "model_module_version": "1.5.0",
      "model_name": "HBoxModel",
      "state": {
       "children": [
        "IPY_MODEL_eacdc895588347589460b3e8fd3bc24a",
        "IPY_MODEL_b5115fba86884719a560a8b136f44100"
       ],
       "layout": "IPY_MODEL_9ad8207a5a044ec3908befd8fc44bc85"
      }
     },
     "275643a3bbd8435bbbd8d87689c5c728": {
      "model_module": "@jupyter-widgets/base",
      "model_module_version": "1.2.0",
      "model_name": "LayoutModel",
      "state": {
       "justify_content": "space-between"
      }
     },
     "2782a5521c1d444485addbf3af9448aa": {
      "model_module": "@jupyter-widgets/base",
      "model_module_version": "1.2.0",
      "model_name": "LayoutModel",
      "state": {}
     },
     "27b5f2d4910a4ecabbb8c505eea3da09": {
      "model_module": "@jupyter-widgets/output",
      "model_module_version": "1.0.0",
      "model_name": "OutputModel",
      "state": {
       "layout": "IPY_MODEL_ad4c849a9be744299f1f76516b55c1f5"
      }
     },
     "27c909dbf2994846bb79771c81215391": {
      "model_module": "@jupyter-widgets/base",
      "model_module_version": "1.2.0",
      "model_name": "LayoutModel",
      "state": {}
     },
     "27daa56accd14011ad36478e5d198444": {
      "model_module": "@jupyter-widgets/output",
      "model_module_version": "1.0.0",
      "model_name": "OutputModel",
      "state": {
       "layout": "IPY_MODEL_40b07093f8ee476a82236dec9f690283"
      }
     },
     "27fff4ddecd84b2b98f5eb5d6fa1664a": {
      "model_module": "@jupyter-widgets/controls",
      "model_module_version": "1.5.0",
      "model_name": "ButtonModel",
      "state": {
       "description": "9",
       "layout": "IPY_MODEL_1abe73988e93450da6370eb91db015d0",
       "style": "IPY_MODEL_dcc75aabab0e465b8c92a8eb53a9afab"
      }
     },
     "280b7e4d33114eca82828173195cd75a": {
      "model_module": "@jupyter-widgets/base",
      "model_module_version": "1.2.0",
      "model_name": "LayoutModel",
      "state": {
       "width": "10%"
      }
     },
     "2865421b64d54c479105bfcc83edb113": {
      "model_module": "@jupyter-widgets/base",
      "model_module_version": "1.2.0",
      "model_name": "LayoutModel",
      "state": {}
     },
     "288998b8de774dafa05368de689d7410": {
      "model_module": "@jupyter-widgets/base",
      "model_module_version": "1.2.0",
      "model_name": "LayoutModel",
      "state": {}
     },
     "288df613537541bd8bd1126e9578a950": {
      "model_module": "@jupyter-widgets/base",
      "model_module_version": "1.2.0",
      "model_name": "LayoutModel",
      "state": {}
     },
     "289d1fc6295b431dba258a6176970d2c": {
      "model_module": "@jupyter-widgets/controls",
      "model_module_version": "1.5.0",
      "model_name": "VBoxModel",
      "state": {
       "children": [
        "IPY_MODEL_8f0ba0d28c3f4be98f107173d7813b97",
        "IPY_MODEL_625ecc7f65214292bea0ebe6fab3a909"
       ],
       "layout": "IPY_MODEL_7b9c9fd71df448309e0d07443c77cda4"
      }
     },
     "289f86ae091648139f67de9e15010c83": {
      "model_module": "@jupyter-widgets/base",
      "model_module_version": "1.2.0",
      "model_name": "LayoutModel",
      "state": {
       "width": "95%"
      }
     },
     "28a9e765ae8745baa3f8c85316f68e4c": {
      "model_module": "@jupyter-widgets/controls",
      "model_module_version": "1.5.0",
      "model_name": "ButtonModel",
      "state": {
       "description": "1",
       "layout": "IPY_MODEL_46d3f0ae893c4a2ab14c501f45a8cabf",
       "style": "IPY_MODEL_39fed6eeaf77493b88a5128193e00364"
      }
     },
     "28aaf9e581614575b51b0f53ec979857": {
      "model_module": "@jupyter-widgets/base",
      "model_module_version": "1.2.0",
      "model_name": "LayoutModel",
      "state": {}
     },
     "28ae3ea4d41742f3a7e0b29efd1ccdc5": {
      "model_module": "@jupyter-widgets/controls",
      "model_module_version": "1.5.0",
      "model_name": "ButtonModel",
      "state": {
       "description": "2",
       "layout": "IPY_MODEL_c6cd0b5c620c4ce0b05a8b31c78e5570",
       "style": "IPY_MODEL_6a0f6b8e49f249499924edd2ae5c4cf3"
      }
     },
     "28af29a5450849418d1f265d74304d31": {
      "model_module": "@jupyter-widgets/controls",
      "model_module_version": "1.5.0",
      "model_name": "VBoxModel",
      "state": {
       "children": [
        "IPY_MODEL_b9f8e79ca2084627b582bdc0cf77d967",
        "IPY_MODEL_cce043dc3f9843a2a0749fdef7f34989"
       ],
       "layout": "IPY_MODEL_4279c154ef994d4086ad5b12e011ffa9"
      }
     },
     "28b1803f87bd45f2a3b507b0d063f962": {
      "model_module": "@jupyter-widgets/controls",
      "model_module_version": "1.5.0",
      "model_name": "HBoxModel",
      "state": {
       "children": [
        "IPY_MODEL_ea515f6ab0fb4c8fa83df8e40b2a12b3",
        "IPY_MODEL_b5071a727cb4429ab5846a1b5e1e9269",
        "IPY_MODEL_0d1325c707c8443cadea347f7b556f0b"
       ],
       "layout": "IPY_MODEL_16866f7cd9ee40c5ab6dc853c62d5021"
      }
     },
     "28ba2f5a6e2441fe989f57ef880c458f": {
      "model_module": "@jupyter-widgets/controls",
      "model_module_version": "1.5.0",
      "model_name": "ButtonStyleModel",
      "state": {}
     },
     "28c0f327177746baaaec5c228ccb26ec": {
      "model_module": "@jupyter-widgets/output",
      "model_module_version": "1.0.0",
      "model_name": "OutputModel",
      "state": {
       "layout": "IPY_MODEL_36aac9ffaee34346acc9c4488988f513"
      }
     },
     "28d14b839e4042419a2556fbfd4124af": {
      "model_module": "@jupyter-widgets/base",
      "model_module_version": "1.2.0",
      "model_name": "LayoutModel",
      "state": {
       "width": "95%"
      }
     },
     "28d9c0acd6084edf9104f00b04a19da4": {
      "model_module": "@jupyter-widgets/controls",
      "model_module_version": "1.5.0",
      "model_name": "HBoxModel",
      "state": {
       "children": [
        "IPY_MODEL_aa840746a4d745dd8061961a933e9dda",
        "IPY_MODEL_3b917f3521994b188def5df4d163954c"
       ],
       "layout": "IPY_MODEL_dba8fa37fddc4b41821c0e3ded6581ef"
      }
     },
     "2929f966dec349f399c329a73cf6ea5a": {
      "model_module": "@jupyter-widgets/controls",
      "model_module_version": "1.5.0",
      "model_name": "ButtonModel",
      "state": {
       "description": "8",
       "layout": "IPY_MODEL_4f3e83c729a341c49c8795d83be97159",
       "style": "IPY_MODEL_96efe9d267f8422a962ace3c8d8e1c68"
      }
     },
     "29872bec128045a0b646688cdeac6cff": {
      "model_module": "@jupyter-widgets/base",
      "model_module_version": "1.2.0",
      "model_name": "LayoutModel",
      "state": {
       "width": "95%"
      }
     },
     "298a1fed783c47d7b67eb163bb37bc8a": {
      "model_module": "@jupyter-widgets/controls",
      "model_module_version": "1.5.0",
      "model_name": "ButtonStyleModel",
      "state": {}
     },
     "29b9ed10f6b346b8a90629a0f57d0c90": {
      "model_module": "@jupyter-widgets/output",
      "model_module_version": "1.0.0",
      "model_name": "OutputModel",
      "state": {
       "layout": "IPY_MODEL_8e6cbe2a23274a279610dbf2b369cbe4"
      }
     },
     "29bb2a4f861546238582881bc8f86ec3": {
      "model_module": "@jupyter-widgets/base",
      "model_module_version": "1.2.0",
      "model_name": "LayoutModel",
      "state": {}
     },
     "29eccae1c82e4e9ca3ef9d69b928368f": {
      "model_module": "@jupyter-widgets/base",
      "model_module_version": "1.2.0",
      "model_name": "LayoutModel",
      "state": {}
     },
     "2a028d295ba342b69c9cb53b50587edd": {
      "model_module": "@jupyter-widgets/base",
      "model_module_version": "1.2.0",
      "model_name": "LayoutModel",
      "state": {
       "width": "10%"
      }
     },
     "2a1f202cafb04c558231dfa4fd29d5f5": {
      "model_module": "@jupyter-widgets/controls",
      "model_module_version": "1.5.0",
      "model_name": "ButtonModel",
      "state": {
       "description": "3",
       "layout": "IPY_MODEL_cb1e180537414e759515167ec736834b",
       "style": "IPY_MODEL_ec60d8f1afca4084a3279c5d2555aa1f"
      }
     },
     "2a937fc11c884ced839598b80c880481": {
      "model_module": "@jupyter-widgets/controls",
      "model_module_version": "1.5.0",
      "model_name": "ButtonStyleModel",
      "state": {}
     },
     "2a98e7290adf486c887dc6faf8a8f30d": {
      "model_module": "@jupyter-widgets/base",
      "model_module_version": "1.2.0",
      "model_name": "LayoutModel",
      "state": {}
     },
     "2aa6f7e6556e4ba4a363804534733c96": {
      "model_module": "@jupyter-widgets/controls",
      "model_module_version": "1.5.0",
      "model_name": "ButtonStyleModel",
      "state": {}
     },
     "2aaae9e26e894a8daca21f7faabbf071": {
      "model_module": "@jupyter-widgets/controls",
      "model_module_version": "1.5.0",
      "model_name": "VBoxModel",
      "state": {
       "children": [
        "IPY_MODEL_2bf88663934c41e2b90cfc86706e8207",
        "IPY_MODEL_05b2c1d79e974d14888d69bd9f0ccba2"
       ],
       "layout": "IPY_MODEL_1c841b26f105496d9d3d9d30c7cd77f8"
      }
     },
     "2acefd1fb5b84cbc887123efdeaf0c89": {
      "model_module": "@jupyter-widgets/controls",
      "model_module_version": "1.5.0",
      "model_name": "ButtonModel",
      "state": {
       "description": "1",
       "layout": "IPY_MODEL_dae2c20bab35466e9d23c20e5da9439d",
       "style": "IPY_MODEL_dc0ae5fa064e460fad58161de3b31b70"
      }
     },
     "2ad24da9ae814b09befae8df944fe5b6": {
      "model_module": "@jupyter-widgets/base",
      "model_module_version": "1.2.0",
      "model_name": "LayoutModel",
      "state": {
       "width": "95%"
      }
     },
     "2ad96d6257234aa29064da78924e42c4": {
      "model_module": "@jupyter-widgets/base",
      "model_module_version": "1.2.0",
      "model_name": "LayoutModel",
      "state": {
       "width": "95%"
      }
     },
     "2af434fcc71b411d929ef76fbefbb955": {
      "model_module": "@jupyter-widgets/base",
      "model_module_version": "1.2.0",
      "model_name": "LayoutModel",
      "state": {
       "width": "10%"
      }
     },
     "2aff5b753e8a4402ae17dce5c3d081e8": {
      "model_module": "@jupyter-widgets/base",
      "model_module_version": "1.2.0",
      "model_name": "LayoutModel",
      "state": {
       "height": "2.5%"
      }
     },
     "2b2449f8ff01464c87a38af30bd9a414": {
      "model_module": "@jupyter-widgets/base",
      "model_module_version": "1.2.0",
      "model_name": "LayoutModel",
      "state": {}
     },
     "2b29222ac63b49528ed432c9f941c188": {
      "model_module": "@jupyter-widgets/base",
      "model_module_version": "1.2.0",
      "model_name": "LayoutModel",
      "state": {}
     },
     "2b2af44ff413491e9c60021c5cc92c06": {
      "model_module": "@jupyter-widgets/output",
      "model_module_version": "1.0.0",
      "model_name": "OutputModel",
      "state": {
       "layout": "IPY_MODEL_bce18e54016d46bcbedc27c86d6ac493"
      }
     },
     "2b74dd15e12743829f3e90a6b0fa462e": {
      "model_module": "@jupyter-widgets/controls",
      "model_module_version": "1.5.0",
      "model_name": "ButtonModel",
      "state": {
       "description": "3",
       "layout": "IPY_MODEL_d668c56c1e1d4e9ab418c1582ebacf6f",
       "style": "IPY_MODEL_86b768b97c294d1fa3daa69f6704a5cb"
      }
     },
     "2b8b2852ad894dd5b770df9d98fab69f": {
      "model_module": "@jupyter-widgets/output",
      "model_module_version": "1.0.0",
      "model_name": "OutputModel",
      "state": {
       "layout": "IPY_MODEL_0c0feaa3be274030b6315950b9533d71"
      }
     },
     "2b911073462b4072b9c12a113bf85444": {
      "model_module": "@jupyter-widgets/controls",
      "model_module_version": "1.5.0",
      "model_name": "HBoxModel",
      "state": {
       "children": [
        "IPY_MODEL_ea515f6ab0fb4c8fa83df8e40b2a12b3",
        "IPY_MODEL_b5071a727cb4429ab5846a1b5e1e9269",
        "IPY_MODEL_0d1325c707c8443cadea347f7b556f0b"
       ],
       "layout": "IPY_MODEL_2e728daafb2b4c5d836e8016f1ba3d7f"
      }
     },
     "2ba9f434154e4908baec279b15a770f7": {
      "model_module": "@jupyter-widgets/base",
      "model_module_version": "1.2.0",
      "model_name": "LayoutModel",
      "state": {}
     },
     "2bbbd672772f4c88a3af2501751c39a7": {
      "model_module": "@jupyter-widgets/base",
      "model_module_version": "1.2.0",
      "model_name": "LayoutModel",
      "state": {}
     },
     "2bcaac7f14a746a18e800cbdf4e7742a": {
      "model_module": "@jupyter-widgets/controls",
      "model_module_version": "1.5.0",
      "model_name": "VBoxModel",
      "state": {
       "children": [
        "IPY_MODEL_df2775a03faa4264a4ff1efe71300b2b",
        "IPY_MODEL_86cc235df146401e8e0463feb9ff1537"
       ],
       "layout": "IPY_MODEL_22012ed4962d400ab4c4ad05af8da7b8"
      }
     },
     "2bd07d672a9645d7b864f77205014933": {
      "model_module": "@jupyter-widgets/controls",
      "model_module_version": "1.5.0",
      "model_name": "ButtonStyleModel",
      "state": {}
     },
     "2bf6867fffb34ab9b5c31ee40255e42e": {
      "model_module": "@jupyter-widgets/output",
      "model_module_version": "1.0.0",
      "model_name": "OutputModel",
      "state": {
       "layout": "IPY_MODEL_abdb89beedba4fd6897f011e4ed0962c"
      }
     },
     "2bf88663934c41e2b90cfc86706e8207": {
      "model_module": "@jupyter-widgets/controls",
      "model_module_version": "1.5.0",
      "model_name": "ButtonModel",
      "state": {
       "description": "9",
       "layout": "IPY_MODEL_86137e492a684d4baab5f52a51dd0161",
       "style": "IPY_MODEL_298a1fed783c47d7b67eb163bb37bc8a"
      }
     },
     "2bff6f3111e84801a5acaea1cd4e96d1": {
      "model_module": "@jupyter-widgets/base",
      "model_module_version": "1.2.0",
      "model_name": "LayoutModel",
      "state": {}
     },
     "2c031f6753c94e5fac977a4220f20194": {
      "model_module": "@jupyter-widgets/controls",
      "model_module_version": "1.5.0",
      "model_name": "ButtonModel",
      "state": {
       "description": "7",
       "layout": "IPY_MODEL_d5fef0787c88425995088a58d55ce1f0",
       "style": "IPY_MODEL_5385cd23c2714e5eb7c3b3cd8a9b038b"
      }
     },
     "2c256477bb4c4a6d86a91235a5513637": {
      "model_module": "@jupyter-widgets/controls",
      "model_module_version": "1.5.0",
      "model_name": "HBoxModel",
      "state": {
       "children": [
        "IPY_MODEL_64813d9336ee48bdae31378214c8bc68",
        "IPY_MODEL_28b1803f87bd45f2a3b507b0d063f962"
       ],
       "layout": "IPY_MODEL_7dda9214abf14676a71f4ca7d2a08b40"
      }
     },
     "2c41b4bee72942948a629306cb5378f1": {
      "model_module": "@jupyter-widgets/controls",
      "model_module_version": "1.5.0",
      "model_name": "ButtonModel",
      "state": {
       "description": "6",
       "layout": "IPY_MODEL_23269e7d87984709b4efb94c4f2d59df",
       "style": "IPY_MODEL_fed8bd50b20d4343bbcb9b7e45f1a7e6"
      }
     },
     "2c4ce09c9a9741ae8cbd6fe87d43be34": {
      "model_module": "@jupyter-widgets/base",
      "model_module_version": "1.2.0",
      "model_name": "LayoutModel",
      "state": {}
     },
     "2c71ca0fb7b44492a3c1c6bc8053766f": {
      "model_module": "@jupyter-widgets/base",
      "model_module_version": "1.2.0",
      "model_name": "LayoutModel",
      "state": {
       "width": "10%"
      }
     },
     "2cc73725fc004596bbb6bfdd6f8d4387": {
      "model_module": "@jupyter-widgets/controls",
      "model_module_version": "1.5.0",
      "model_name": "ButtonModel",
      "state": {
       "description": "3",
       "layout": "IPY_MODEL_efecb4e236c54bc7b44039661cd3b816",
       "style": "IPY_MODEL_1bbd70861e5e4af1b9a1518444ea5cf3"
      }
     },
     "2cca763dfb2f4e81a374a2654daeee76": {
      "model_module": "@jupyter-widgets/controls",
      "model_module_version": "1.5.0",
      "model_name": "VBoxModel",
      "state": {
       "children": [
        "IPY_MODEL_e297ce77932a46a4b10ce6116e2db3e4",
        "IPY_MODEL_c07bd8cd00e04f3c806eb2f7728f1c2d"
       ],
       "layout": "IPY_MODEL_e919e95c792a460994fdd8227feb9eaa"
      }
     },
     "2cd685fdece54143a2383d89380b0974": {
      "model_module": "@jupyter-widgets/base",
      "model_module_version": "1.2.0",
      "model_name": "LayoutModel",
      "state": {
       "width": "95%"
      }
     },
     "2ce4e6c9cae040dca9d0a124ee957bd9": {
      "model_module": "@jupyter-widgets/controls",
      "model_module_version": "1.5.0",
      "model_name": "VBoxModel",
      "state": {
       "children": [
        "IPY_MODEL_4b5feb476175469681ab55e85533899a",
        "IPY_MODEL_bdac4a85f7734be18cb7afd89619cd16"
       ],
       "layout": "IPY_MODEL_ad78e3388d5444ffb1cc2902c09bdedb"
      }
     },
     "2d0d8d1f67d64242a8fd102210d8e543": {
      "model_module": "@jupyter-widgets/controls",
      "model_module_version": "1.5.0",
      "model_name": "ButtonModel",
      "state": {
       "description": "3",
       "layout": "IPY_MODEL_40f5f528eba543e49fac642d40548645",
       "style": "IPY_MODEL_efd41a12f69c48f4ae3158413786a76a"
      }
     },
     "2d367b67e2894510ae76bb7c26ff9867": {
      "model_module": "@jupyter-widgets/controls",
      "model_module_version": "1.5.0",
      "model_name": "ButtonModel",
      "state": {
       "description": "5",
       "layout": "IPY_MODEL_2367ab46689246b3a450efe9437e2e09",
       "style": "IPY_MODEL_fbdd1d9a849b4686941793e978c6a562"
      }
     },
     "2d5232b9be9949faa7402f797d7df188": {
      "model_module": "@jupyter-widgets/controls",
      "model_module_version": "1.5.0",
      "model_name": "ButtonStyleModel",
      "state": {}
     },
     "2d52e266a16e41fcb14fa917950152eb": {
      "model_module": "@jupyter-widgets/controls",
      "model_module_version": "1.5.0",
      "model_name": "ButtonStyleModel",
      "state": {}
     },
     "2d59b03a584a4e9e87962aefcfbf15d0": {
      "model_module": "@jupyter-widgets/base",
      "model_module_version": "1.2.0",
      "model_name": "LayoutModel",
      "state": {
       "width": "10%"
      }
     },
     "2d6aa06abd2140109fed943f319018e7": {
      "model_module": "@jupyter-widgets/base",
      "model_module_version": "1.2.0",
      "model_name": "LayoutModel",
      "state": {}
     },
     "2d8e385978b14ed1994edbd7b0ce9204": {
      "model_module": "@jupyter-widgets/base",
      "model_module_version": "1.2.0",
      "model_name": "LayoutModel",
      "state": {
       "width": "10%"
      }
     },
     "2d9fb1228b6d4996b0c0c2185cf350d7": {
      "model_module": "@jupyter-widgets/base",
      "model_module_version": "1.2.0",
      "model_name": "LayoutModel",
      "state": {
       "width": "95%"
      }
     },
     "2da8b05a8b2f4baa9a25334a980f7b97": {
      "model_module": "@jupyter-widgets/output",
      "model_module_version": "1.0.0",
      "model_name": "OutputModel",
      "state": {
       "layout": "IPY_MODEL_8e7740dbfbd14168a68dd12c94713b34"
      }
     },
     "2dc6f4ef99694ca48a344b4c42f014ef": {
      "model_module": "@jupyter-widgets/base",
      "model_module_version": "1.2.0",
      "model_name": "LayoutModel",
      "state": {
       "width": "10%"
      }
     },
     "2e06449b76384dbdab30d7bfdf13ed82": {
      "model_module": "@jupyter-widgets/base",
      "model_module_version": "1.2.0",
      "model_name": "LayoutModel",
      "state": {
       "width": "95%"
      }
     },
     "2e0d3f5b3aa44b6d8edc41dcbfc0aaaa": {
      "model_module": "@jupyter-widgets/controls",
      "model_module_version": "1.5.0",
      "model_name": "ButtonStyleModel",
      "state": {}
     },
     "2e1043855d4a432daab29c7cfcf0e480": {
      "model_module": "@jupyter-widgets/base",
      "model_module_version": "1.2.0",
      "model_name": "LayoutModel",
      "state": {
       "width": "95%"
      }
     },
     "2e17ce9863b9477a95f5251d4973c709": {
      "model_module": "@jupyter-widgets/controls",
      "model_module_version": "1.5.0",
      "model_name": "VBoxModel",
      "state": {
       "children": [
        "IPY_MODEL_2c031f6753c94e5fac977a4220f20194",
        "IPY_MODEL_751f192264414553a49d4347c4912225"
       ],
       "layout": "IPY_MODEL_599cce554af144ddac6bafa5cd1dd6fd"
      }
     },
     "2e23e5725eb84355b8033ff0fcca2fa1": {
      "model_module": "@jupyter-widgets/output",
      "model_module_version": "1.0.0",
      "model_name": "OutputModel",
      "state": {
       "layout": "IPY_MODEL_b74827b0cfde45c9b68da57ad2217f77"
      }
     },
     "2e3931e17823450ca5a1d6183c18773c": {
      "model_module": "@jupyter-widgets/base",
      "model_module_version": "1.2.0",
      "model_name": "LayoutModel",
      "state": {}
     },
     "2e5d7f1deed1485cae897f7a108a19cc": {
      "model_module": "@jupyter-widgets/output",
      "model_module_version": "1.0.0",
      "model_name": "OutputModel",
      "state": {
       "layout": "IPY_MODEL_f1fc6ba25d9940dab4f592b2db8d1844"
      }
     },
     "2e728daafb2b4c5d836e8016f1ba3d7f": {
      "model_module": "@jupyter-widgets/base",
      "model_module_version": "1.2.0",
      "model_name": "LayoutModel",
      "state": {}
     },
     "2e7e06d3e13c4820a947e6c66246eb48": {
      "model_module": "@jupyter-widgets/base",
      "model_module_version": "1.2.0",
      "model_name": "LayoutModel",
      "state": {
       "width": "10%"
      }
     },
     "2e8f8bc6b3aa48da99602591d174c420": {
      "model_module": "@jupyter-widgets/base",
      "model_module_version": "1.2.0",
      "model_name": "LayoutModel",
      "state": {}
     },
     "2eb048b9b6e94eacbccf2df91986fa77": {
      "model_module": "@jupyter-widgets/base",
      "model_module_version": "1.2.0",
      "model_name": "LayoutModel",
      "state": {
       "justify_content": "space-between"
      }
     },
     "2eb5afc897c94554a6f6f2171dcd7cca": {
      "model_module": "@jupyter-widgets/controls",
      "model_module_version": "1.5.0",
      "model_name": "VBoxModel",
      "state": {
       "children": [
        "IPY_MODEL_a38b19115f1f4d1aa78e801dda141de2",
        "IPY_MODEL_144cf8617d804237a7c208c06fda82d4"
       ],
       "layout": "IPY_MODEL_0b35d72cf5e645a8b3c52a71f6c5b464"
      }
     },
     "2eb86446882345e5bc86e79ecf02bc69": {
      "model_module": "@jupyter-widgets/controls",
      "model_module_version": "1.5.0",
      "model_name": "VBoxModel",
      "state": {
       "children": [
        "IPY_MODEL_6a50c7624556494b8122c6714b4aa288",
        "IPY_MODEL_16f7272873cf41ac826aaac1743de6e5"
       ],
       "layout": "IPY_MODEL_f96255857fae4825bdb8a473c722209f"
      }
     },
     "2ecb3cb288e24420913dc441e90ffd49": {
      "model_module": "@jupyter-widgets/base",
      "model_module_version": "1.2.0",
      "model_name": "LayoutModel",
      "state": {}
     },
     "2efdaa7d03eb4e85bb40a0ac5ba8f0b7": {
      "model_module": "@jupyter-widgets/output",
      "model_module_version": "1.0.0",
      "model_name": "OutputModel",
      "state": {
       "layout": "IPY_MODEL_27c909dbf2994846bb79771c81215391"
      }
     },
     "2f122108c4e34144af9856ce645c3a61": {
      "model_module": "@jupyter-widgets/base",
      "model_module_version": "1.2.0",
      "model_name": "LayoutModel",
      "state": {}
     },
     "2f64f3d0bbad4429a273d642b00ef15a": {
      "model_module": "@jupyter-widgets/controls",
      "model_module_version": "1.5.0",
      "model_name": "ButtonStyleModel",
      "state": {}
     },
     "2f951e3908ee4a34844baeac1b6091c1": {
      "model_module": "@jupyter-widgets/controls",
      "model_module_version": "1.5.0",
      "model_name": "ButtonStyleModel",
      "state": {}
     },
     "2faae6ae55da4cfa81c76b447bc124c5": {
      "model_module": "@jupyter-widgets/output",
      "model_module_version": "1.0.0",
      "model_name": "OutputModel",
      "state": {
       "layout": "IPY_MODEL_18e490abcbef4d8e90bd942d78477785"
      }
     },
     "2fbd45a2bcd4431b8addbe8cd7a36d06": {
      "model_module": "@jupyter-widgets/controls",
      "model_module_version": "1.5.0",
      "model_name": "ButtonModel",
      "state": {
       "description": "0",
       "layout": "IPY_MODEL_75187c4b1cba4a51bc47759a13cb0cc5",
       "style": "IPY_MODEL_59ca203981ae48c28f385fc67e9b74ca"
      }
     },
     "2fd27a6c449341b3ba2aee0e181e68e7": {
      "model_module": "@jupyter-widgets/base",
      "model_module_version": "1.2.0",
      "model_name": "LayoutModel",
      "state": {}
     },
     "2ff3fdbf91cf4e1ca4799f0df5bebe00": {
      "model_module": "@jupyter-widgets/controls",
      "model_module_version": "1.5.0",
      "model_name": "ButtonStyleModel",
      "state": {}
     },
     "2fff4e749bef4f138aa1e2e968c840ea": {
      "model_module": "@jupyter-widgets/base",
      "model_module_version": "1.2.0",
      "model_name": "LayoutModel",
      "state": {}
     },
     "30194c12ee1643238eb1f1f4445a98c8": {
      "model_module": "@jupyter-widgets/controls",
      "model_module_version": "1.5.0",
      "model_name": "VBoxModel",
      "state": {
       "children": [
        "IPY_MODEL_c4d9a82e3a474354a66ab36c1aac8b0f",
        "IPY_MODEL_bdecd1309594434f98b3fc0c06b52174"
       ],
       "layout": "IPY_MODEL_44bba5427e8d460a87468541aa797c8a"
      }
     },
     "302912d91d424c4cb027cef34beeb5ca": {
      "model_module": "@jupyter-widgets/base",
      "model_module_version": "1.2.0",
      "model_name": "LayoutModel",
      "state": {}
     },
     "304f5ad87afe44c39e7c085d424bf7b7": {
      "model_module": "@jupyter-widgets/base",
      "model_module_version": "1.2.0",
      "model_name": "LayoutModel",
      "state": {
       "width": "95%"
      }
     },
     "306ebca95279429697b2ab85ae19aef6": {
      "model_module": "@jupyter-widgets/base",
      "model_module_version": "1.2.0",
      "model_name": "LayoutModel",
      "state": {
       "width": "95%"
      }
     },
     "30809aa3c66546bfba0da8d763b7d41f": {
      "model_module": "@jupyter-widgets/base",
      "model_module_version": "1.2.0",
      "model_name": "LayoutModel",
      "state": {}
     },
     "309f2cdda9cf4fbab570c2fbfc236910": {
      "model_module": "@jupyter-widgets/base",
      "model_module_version": "1.2.0",
      "model_name": "LayoutModel",
      "state": {
       "width": "95%"
      }
     },
     "30a9bf191cdb4d3f9c49eb16d8454f33": {
      "model_module": "@jupyter-widgets/controls",
      "model_module_version": "1.5.0",
      "model_name": "ButtonStyleModel",
      "state": {}
     },
     "30ad7c4bc7e2419eb7c51b9fe1a0f762": {
      "model_module": "@jupyter-widgets/controls",
      "model_module_version": "1.5.0",
      "model_name": "ButtonStyleModel",
      "state": {}
     },
     "30c1576685374f93aa0a72eae2ed9d3f": {
      "model_module": "@jupyter-widgets/base",
      "model_module_version": "1.2.0",
      "model_name": "LayoutModel",
      "state": {}
     },
     "30c97acc39704aaeabe54840e2215c70": {
      "model_module": "@jupyter-widgets/output",
      "model_module_version": "1.0.0",
      "model_name": "OutputModel",
      "state": {
       "layout": "IPY_MODEL_e0f17bfef6aa4b7a9357826cb09c4aa6"
      }
     },
     "30e90cffe7c44262a66447632babbf72": {
      "model_module": "@jupyter-widgets/base",
      "model_module_version": "1.2.0",
      "model_name": "LayoutModel",
      "state": {
       "width": "95%"
      }
     },
     "30eff30afb3a40fd8f387baa2dbf72fd": {
      "model_module": "@jupyter-widgets/controls",
      "model_module_version": "1.5.0",
      "model_name": "ButtonStyleModel",
      "state": {}
     },
     "30fe26ffc39a4bc3a2fd08f71ec9ec13": {
      "model_module": "@jupyter-widgets/controls",
      "model_module_version": "1.5.0",
      "model_name": "VBoxModel",
      "state": {
       "children": [
        "IPY_MODEL_51086aa47d5948c68a29e98df4badf35",
        "IPY_MODEL_8f2af789b2ac412fb78271a681e3203f"
       ],
       "layout": "IPY_MODEL_71675a928bfe4e3382aefb8d6fe18d3b"
      }
     },
     "3135e51bf3c640679e571cfe02a619fa": {
      "model_module": "@jupyter-widgets/controls",
      "model_module_version": "1.5.0",
      "model_name": "VBoxModel",
      "state": {
       "children": [
        "IPY_MODEL_d9b5a683bcfe4ed5a776bfc383199024",
        "IPY_MODEL_d601e676c42445878b1ca13dcedd07ee"
       ],
       "layout": "IPY_MODEL_0d74fc5e17e545f5a1d8ab4fe4298696"
      }
     },
     "31363cee17f345209d4fa88df265db91": {
      "model_module": "@jupyter-widgets/output",
      "model_module_version": "1.0.0",
      "model_name": "OutputModel",
      "state": {
       "layout": "IPY_MODEL_cd8b8eaa7804472983c1cc35aabd6810"
      }
     },
     "3147765f2a6743978cb3e4539adb1203": {
      "model_module": "@jupyter-widgets/base",
      "model_module_version": "1.2.0",
      "model_name": "LayoutModel",
      "state": {
       "width": "10%"
      }
     },
     "314d9f3bb96e4bc79df2273b6f6ac96a": {
      "model_module": "@jupyter-widgets/output",
      "model_module_version": "1.0.0",
      "model_name": "OutputModel",
      "state": {
       "layout": "IPY_MODEL_a954b2a8e64c4bc38c4630c3aabf07cd"
      }
     },
     "31937617e44d4b078665f730529f739b": {
      "model_module": "@jupyter-widgets/controls",
      "model_module_version": "1.5.0",
      "model_name": "ButtonModel",
      "state": {
       "description": "5",
       "layout": "IPY_MODEL_8e4fb9fabba04284a3dcb8f190f8feab",
       "style": "IPY_MODEL_6a11fcec1f42419a9b6cb933921b304c"
      }
     },
     "319734e571394815b941e6c4b4c11c0c": {
      "model_module": "@jupyter-widgets/controls",
      "model_module_version": "1.5.0",
      "model_name": "HBoxModel",
      "state": {
       "children": [
        "IPY_MODEL_ea515f6ab0fb4c8fa83df8e40b2a12b3",
        "IPY_MODEL_b5071a727cb4429ab5846a1b5e1e9269",
        "IPY_MODEL_0d1325c707c8443cadea347f7b556f0b"
       ],
       "layout": "IPY_MODEL_7bd92f67d1fc42319337d43e2f54bc86"
      }
     },
     "3197d9883b814245b0e3e86c6dee8650": {
      "model_module": "@jupyter-widgets/output",
      "model_module_version": "1.0.0",
      "model_name": "OutputModel",
      "state": {
       "layout": "IPY_MODEL_2f122108c4e34144af9856ce645c3a61"
      }
     },
     "31a77e60c01e47f1ae1e3a5988218c3e": {
      "model_module": "@jupyter-widgets/base",
      "model_module_version": "1.2.0",
      "model_name": "LayoutModel",
      "state": {
       "width": "10%"
      }
     },
     "31b23b375c3d4faebc6ee67734530d14": {
      "model_module": "@jupyter-widgets/base",
      "model_module_version": "1.2.0",
      "model_name": "LayoutModel",
      "state": {
       "width": "10%"
      }
     },
     "31fed40dace64ea3b26090bf2a5d19b2": {
      "model_module": "@jupyter-widgets/output",
      "model_module_version": "1.0.0",
      "model_name": "OutputModel",
      "state": {
       "layout": "IPY_MODEL_19455f4ef4704a9da4f8e52130a44110"
      }
     },
     "32c61286c76f47ee83d0a46d8106c2ad": {
      "model_module": "@jupyter-widgets/controls",
      "model_module_version": "1.5.0",
      "model_name": "VBoxModel",
      "state": {
       "children": [
        "IPY_MODEL_63afe87d1f9a4828aeef98c8b0e1ecc0",
        "IPY_MODEL_668643d6a2d848baaaad00f69d46e09e"
       ],
       "layout": "IPY_MODEL_6e7e220c73b244aa84dede14e260bd2b"
      }
     },
     "32fc435c45d54895bae7dd0abb099c8c": {
      "model_module": "@jupyter-widgets/base",
      "model_module_version": "1.2.0",
      "model_name": "LayoutModel",
      "state": {
       "width": "10%"
      }
     },
     "3308a8cfd54f463f862ab7a10e618606": {
      "model_module": "@jupyter-widgets/controls",
      "model_module_version": "1.5.0",
      "model_name": "VBoxModel",
      "state": {
       "children": [
        "IPY_MODEL_598db3331b3344a09f4a146c92e890ea",
        "IPY_MODEL_cabb441ea4464ea1bbf084104a1c1f51"
       ],
       "layout": "IPY_MODEL_ad541b44b7f04d75a516f10b91bff1ee"
      }
     },
     "331aba6842b04035aa93d66c6644e5cd": {
      "model_module": "@jupyter-widgets/base",
      "model_module_version": "1.2.0",
      "model_name": "LayoutModel",
      "state": {
       "width": "95%"
      }
     },
     "3332f1dd542a41fea2bd9b162fdf85bb": {
      "model_module": "@jupyter-widgets/base",
      "model_module_version": "1.2.0",
      "model_name": "LayoutModel",
      "state": {
       "width": "10%"
      }
     },
     "3334e49efe034c57b5723f7b1f9003f8": {
      "model_module": "@jupyter-widgets/base",
      "model_module_version": "1.2.0",
      "model_name": "LayoutModel",
      "state": {
       "width": "10%"
      }
     },
     "33a0d136fa564bceafd07066aa289d88": {
      "model_module": "@jupyter-widgets/controls",
      "model_module_version": "1.5.0",
      "model_name": "DescriptionStyleModel",
      "state": {
       "description_width": ""
      }
     },
     "33aada0d5ca04048b5321ec8c6fc5d97": {
      "model_module": "@jupyter-widgets/base",
      "model_module_version": "1.2.0",
      "model_name": "LayoutModel",
      "state": {}
     },
     "33cd40ab85fc4b508d8bbc60f0ff4dba": {
      "model_module": "@jupyter-widgets/base",
      "model_module_version": "1.2.0",
      "model_name": "LayoutModel",
      "state": {}
     },
     "33cf9bc8d99c45258d49716bd1ab9f0a": {
      "model_module": "@jupyter-widgets/base",
      "model_module_version": "1.2.0",
      "model_name": "LayoutModel",
      "state": {}
     },
     "33fcdc5adba4469fa80927d7fcdac60e": {
      "model_module": "@jupyter-widgets/output",
      "model_module_version": "1.0.0",
      "model_name": "OutputModel",
      "state": {
       "layout": "IPY_MODEL_dc6fb94d58744a79a85cc43dc54eacd3"
      }
     },
     "342b012733934da799c6461480ffdf75": {
      "model_module": "@jupyter-widgets/base",
      "model_module_version": "1.2.0",
      "model_name": "LayoutModel",
      "state": {
       "width": "95%"
      }
     },
     "342f107502874675a2a1e8293542e0ec": {
      "model_module": "@jupyter-widgets/output",
      "model_module_version": "1.0.0",
      "model_name": "OutputModel",
      "state": {
       "layout": "IPY_MODEL_c4bf938fb0bc4ceca20c7c7f0cdc7e9c"
      }
     },
     "3439cebf373844a1bdd26c30db18f5d0": {
      "model_module": "@jupyter-widgets/controls",
      "model_module_version": "1.5.0",
      "model_name": "ButtonStyleModel",
      "state": {}
     },
     "346608fddcc44b12b70c363e2c979c38": {
      "model_module": "@jupyter-widgets/base",
      "model_module_version": "1.2.0",
      "model_name": "LayoutModel",
      "state": {}
     },
     "347e558b30e7478a9cc931d55f57cd63": {
      "model_module": "@jupyter-widgets/controls",
      "model_module_version": "1.5.0",
      "model_name": "VBoxModel",
      "state": {
       "children": [
        "IPY_MODEL_d246c180200f476a86e914235eccbec8",
        "IPY_MODEL_27270666bd6948a990abcaa0ce4d1a92"
       ],
       "layout": "IPY_MODEL_532b85cf8dcd4a1ebe2a8e3d66ba9d78"
      }
     },
     "34acdb5ce84245c79af1eb7e7f6c9a66": {
      "model_module": "@jupyter-widgets/base",
      "model_module_version": "1.2.0",
      "model_name": "LayoutModel",
      "state": {
       "width": "10%"
      }
     },
     "34ba2b22c56546c995ccd1fc9a52610c": {
      "model_module": "@jupyter-widgets/controls",
      "model_module_version": "1.5.0",
      "model_name": "ButtonModel",
      "state": {
       "description": "6",
       "layout": "IPY_MODEL_0c58ea839bd844b6aefdd821899a1bbb",
       "style": "IPY_MODEL_608265f0c5c643d0a0a20471fe6cf8ae"
      }
     },
     "34c93b8eaca741c3aa93e59bad7944fc": {
      "model_module": "@jupyter-widgets/base",
      "model_module_version": "1.2.0",
      "model_name": "LayoutModel",
      "state": {
       "width": "95%"
      }
     },
     "34de4d5b6fa94171b73d6e90550cd5ca": {
      "model_module": "@jupyter-widgets/base",
      "model_module_version": "1.2.0",
      "model_name": "LayoutModel",
      "state": {}
     },
     "34e75451a716407284a8065ff05f7577": {
      "model_module": "@jupyter-widgets/base",
      "model_module_version": "1.2.0",
      "model_name": "LayoutModel",
      "state": {}
     },
     "34f2473249eb4adea245eb6f7450aa38": {
      "model_module": "@jupyter-widgets/controls",
      "model_module_version": "1.5.0",
      "model_name": "ButtonModel",
      "state": {
       "description": "1",
       "layout": "IPY_MODEL_373d2699a70048208d947b1817492522",
       "style": "IPY_MODEL_4a419ec18a824793bd1c440c234e24a8"
      }
     },
     "35aa57e2b6cb45939a4baa04e56b26cb": {
      "model_module": "@jupyter-widgets/controls",
      "model_module_version": "1.5.0",
      "model_name": "HBoxModel",
      "state": {
       "children": [
        "IPY_MODEL_ea515f6ab0fb4c8fa83df8e40b2a12b3",
        "IPY_MODEL_b5071a727cb4429ab5846a1b5e1e9269",
        "IPY_MODEL_0d1325c707c8443cadea347f7b556f0b"
       ],
       "layout": "IPY_MODEL_2fd27a6c449341b3ba2aee0e181e68e7"
      }
     },
     "35c64884b4764ac59174be602a6771e3": {
      "model_module": "@jupyter-widgets/controls",
      "model_module_version": "1.5.0",
      "model_name": "ButtonStyleModel",
      "state": {}
     },
     "35c85c7bf26b4643ba7b3e3ec11fd96e": {
      "model_module": "@jupyter-widgets/controls",
      "model_module_version": "1.5.0",
      "model_name": "ButtonModel",
      "state": {
       "description": "2",
       "layout": "IPY_MODEL_a3b1d2973a654cbd809f567de3fa9eee",
       "style": "IPY_MODEL_c98f2e79265449639b1d82a3b9ce1f2c"
      }
     },
     "35d320bed899450f86834af34ac1f21e": {
      "model_module": "@jupyter-widgets/base",
      "model_module_version": "1.2.0",
      "model_name": "LayoutModel",
      "state": {}
     },
     "35da8815acd444aba1cce7188a314890": {
      "model_module": "@jupyter-widgets/controls",
      "model_module_version": "1.5.0",
      "model_name": "VBoxModel",
      "state": {
       "children": [
        "IPY_MODEL_fa96c512c36745cf9aa77cb6b2e9b85a",
        "IPY_MODEL_ed8ac3417e124e1ba9bfe2553980c78a"
       ],
       "layout": "IPY_MODEL_d8011f0c1259429bad3132456be8378a"
      }
     },
     "35e7a7b1f5d143ce939af597c65df43d": {
      "model_module": "@jupyter-widgets/base",
      "model_module_version": "1.2.0",
      "model_name": "LayoutModel",
      "state": {
       "width": "10%"
      }
     },
     "35f856a59d0f4c8ea9258f26ace12b83": {
      "model_module": "@jupyter-widgets/base",
      "model_module_version": "1.2.0",
      "model_name": "LayoutModel",
      "state": {
       "width": "10%"
      }
     },
     "3603a83e35594fd0bd579d15978142cb": {
      "model_module": "@jupyter-widgets/controls",
      "model_module_version": "1.5.0",
      "model_name": "ButtonStyleModel",
      "state": {}
     },
     "36306097ecce48be8d740582398746a4": {
      "model_module": "@jupyter-widgets/controls",
      "model_module_version": "1.5.0",
      "model_name": "ButtonStyleModel",
      "state": {}
     },
     "36444c85b3a94b059fa9302d8fe17cde": {
      "model_module": "@jupyter-widgets/base",
      "model_module_version": "1.2.0",
      "model_name": "LayoutModel",
      "state": {
       "width": "10%"
      }
     },
     "364f067e222342b786c8d5c66857ef45": {
      "model_module": "@jupyter-widgets/controls",
      "model_module_version": "1.5.0",
      "model_name": "HBoxModel",
      "state": {
       "children": [
        "IPY_MODEL_765aa67c0b6e4c4f87be12cb90c15255",
        "IPY_MODEL_8711ad3b73d04159b4b9f43f2ecc0907",
        "IPY_MODEL_15f14227f29a4a319d0fa17040737a76",
        "IPY_MODEL_36a5807693ba4ee6a776331aa0ab0d15",
        "IPY_MODEL_7e98b3f23ab142efadc2b9a28e38e38a",
        "IPY_MODEL_df2e90f892524a8da285c471e97d22e5",
        "IPY_MODEL_65077741087b4ad7852c198754d00a85",
        "IPY_MODEL_6d664cb8c1724738aa73be7a4358dbef",
        "IPY_MODEL_255c086fe551424db3a7ced5648bfd6c",
        "IPY_MODEL_d965803cec9748bf9c2d573c01373d6b"
       ],
       "layout": "IPY_MODEL_5ec6ed8ed0f145d4908d720475e60868"
      }
     },
     "3651b98512c04573b20506442d699e8d": {
      "model_module": "@jupyter-widgets/output",
      "model_module_version": "1.0.0",
      "model_name": "OutputModel",
      "state": {
       "layout": "IPY_MODEL_5fe5cef3975c44e9ae7dd83cc5df5b98"
      }
     },
     "3655cf5810b048ef957c5363ee6b97e7": {
      "model_module": "@jupyter-widgets/controls",
      "model_module_version": "1.5.0",
      "model_name": "ButtonStyleModel",
      "state": {}
     },
     "36a19a44bc4c4154a4db5748b61d9e6d": {
      "model_module": "@jupyter-widgets/controls",
      "model_module_version": "1.5.0",
      "model_name": "TextModel",
      "state": {
       "description": "Other:",
       "layout": "IPY_MODEL_1d33e76e618a4e828bf7d25ecf12af42",
       "placeholder": "Hit enter to submit.",
       "style": "IPY_MODEL_81997c833e99452d9414dcf8df0afb66"
      }
     },
     "36a338374a184ff18f6353bb5b973520": {
      "model_module": "@jupyter-widgets/base",
      "model_module_version": "1.2.0",
      "model_name": "LayoutModel",
      "state": {}
     },
     "36a5807693ba4ee6a776331aa0ab0d15": {
      "model_module": "@jupyter-widgets/controls",
      "model_module_version": "1.5.0",
      "model_name": "VBoxModel",
      "state": {
       "children": [
        "IPY_MODEL_0b155f2f17e5444cb01672fcda0e83dd",
        "IPY_MODEL_9429eac5451847b5b05210585a6ff516"
       ],
       "layout": "IPY_MODEL_c6c1738dd6de41fd87be35c7bfe9f9fc"
      }
     },
     "36aac9ffaee34346acc9c4488988f513": {
      "model_module": "@jupyter-widgets/base",
      "model_module_version": "1.2.0",
      "model_name": "LayoutModel",
      "state": {}
     },
     "36b82f8a2e774ed6b1c49975f902f0f8": {
      "model_module": "@jupyter-widgets/controls",
      "model_module_version": "1.5.0",
      "model_name": "VBoxModel",
      "state": {
       "children": [
        "IPY_MODEL_a254806a6e054e54a64c057f7a0b8194",
        "IPY_MODEL_8c82d3ae02ec4d389c3bce96afa7869b"
       ],
       "layout": "IPY_MODEL_82181a91cf5846bb97ca81b00a0fd535"
      }
     },
     "36e682eabc8f4b72aa1b10314fea963f": {
      "model_module": "@jupyter-widgets/controls",
      "model_module_version": "1.5.0",
      "model_name": "ButtonModel",
      "state": {
       "description": "3",
       "layout": "IPY_MODEL_4c3cf24e2e694b1da30765466238a096",
       "style": "IPY_MODEL_d0fb589720c2417e9534b23251710434"
      }
     },
     "3707c411db654547a13ed018d12e4a70": {
      "model_module": "@jupyter-widgets/base",
      "model_module_version": "1.2.0",
      "model_name": "LayoutModel",
      "state": {
       "width": "10%"
      }
     },
     "3708b588ae534735a9b252284a975533": {
      "model_module": "@jupyter-widgets/base",
      "model_module_version": "1.2.0",
      "model_name": "LayoutModel",
      "state": {
       "width": "10%"
      }
     },
     "371f4c0d8e8e4836aa0907ea87f7202b": {
      "model_module": "@jupyter-widgets/controls",
      "model_module_version": "1.5.0",
      "model_name": "VBoxModel",
      "state": {
       "children": [
        "IPY_MODEL_b49581d3c2604c49af18705e6baae2e6",
        "IPY_MODEL_31fed40dace64ea3b26090bf2a5d19b2"
       ],
       "layout": "IPY_MODEL_516b8dc85879465f8cc10e9159bdfd16"
      }
     },
     "3728911967974aa893cdbf72e3269e30": {
      "model_module": "@jupyter-widgets/base",
      "model_module_version": "1.2.0",
      "model_name": "LayoutModel",
      "state": {}
     },
     "373d2699a70048208d947b1817492522": {
      "model_module": "@jupyter-widgets/base",
      "model_module_version": "1.2.0",
      "model_name": "LayoutModel",
      "state": {
       "width": "95%"
      }
     },
     "37484422ee324213a3f4608ee86a14e5": {
      "model_module": "@jupyter-widgets/output",
      "model_module_version": "1.0.0",
      "model_name": "OutputModel",
      "state": {
       "layout": "IPY_MODEL_3bf1b9e56ee342d79734e75e4162435a"
      }
     },
     "37651f1228d54f61af9994f5e7aa62d0": {
      "model_module": "@jupyter-widgets/controls",
      "model_module_version": "1.5.0",
      "model_name": "ButtonStyleModel",
      "state": {}
     },
     "3768d751c9c646908a8bddd908badc67": {
      "model_module": "@jupyter-widgets/controls",
      "model_module_version": "1.5.0",
      "model_name": "TextModel",
      "state": {
       "description": "Other:",
       "layout": "IPY_MODEL_9fdf368e4a3d4bde998c6680def6d6fb",
       "placeholder": "Hit enter to submit.",
       "style": "IPY_MODEL_455e8d101fab499c990592c4599fdd03"
      }
     },
     "37d7773c80234ecf81b0f6edab9b8d22": {
      "model_module": "@jupyter-widgets/base",
      "model_module_version": "1.2.0",
      "model_name": "LayoutModel",
      "state": {
       "width": "10%"
      }
     },
     "37e7595b13254cefa417e026144656fd": {
      "model_module": "@jupyter-widgets/base",
      "model_module_version": "1.2.0",
      "model_name": "LayoutModel",
      "state": {
       "width": "10%"
      }
     },
     "37f06d0da0094344b2364f2e081ee010": {
      "model_module": "@jupyter-widgets/controls",
      "model_module_version": "1.5.0",
      "model_name": "HBoxModel",
      "state": {
       "children": [
        "IPY_MODEL_599596b2dc474e60bde99db757c61e4a",
        "IPY_MODEL_93a6cb0ce3fb48e9a7c2847f603bd5b5"
       ],
       "layout": "IPY_MODEL_179a99f605f2430bb13ddb95a499f95d"
      }
     },
     "37fa0446ddf6480bb82099856282130d": {
      "model_module": "@jupyter-widgets/base",
      "model_module_version": "1.2.0",
      "model_name": "LayoutModel",
      "state": {
       "width": "95%"
      }
     },
     "3807d7ae76f4425e8e6863d8460605ff": {
      "model_module": "@jupyter-widgets/base",
      "model_module_version": "1.2.0",
      "model_name": "LayoutModel",
      "state": {}
     },
     "3811b0a2d9f4441db829c6c8a74fef37": {
      "model_module": "@jupyter-widgets/controls",
      "model_module_version": "1.5.0",
      "model_name": "ButtonStyleModel",
      "state": {}
     },
     "382ca0d041f049e0ae635e5651cfc951": {
      "model_module": "@jupyter-widgets/controls",
      "model_module_version": "1.5.0",
      "model_name": "ButtonModel",
      "state": {
       "description": "8",
       "layout": "IPY_MODEL_eafa55216b8248b4be0dc5f3280f2d95",
       "style": "IPY_MODEL_750bfc01d98e49e5ab576eed46822f73"
      }
     },
     "384196b203a34b99bfb61c668916b0e4": {
      "model_module": "@jupyter-widgets/controls",
      "model_module_version": "1.5.0",
      "model_name": "ButtonStyleModel",
      "state": {}
     },
     "385e9ad881f348458ec60b63a600a814": {
      "model_module": "@jupyter-widgets/controls",
      "model_module_version": "1.5.0",
      "model_name": "VBoxModel",
      "state": {
       "children": [
        "IPY_MODEL_d8b7c2174201400c8c599a5adcf178b4",
        "IPY_MODEL_40d9565aa0d849328b183364f6b6bb73"
       ],
       "layout": "IPY_MODEL_8d1337162c084966b2e1b4245b1b9bd8"
      }
     },
     "386539cc6b964d98877681595a3afad8": {
      "model_module": "@jupyter-widgets/base",
      "model_module_version": "1.2.0",
      "model_name": "LayoutModel",
      "state": {
       "width": "10%"
      }
     },
     "3869de4fd1614bf4b2bfa5951d897ce6": {
      "model_module": "@jupyter-widgets/controls",
      "model_module_version": "1.5.0",
      "model_name": "HBoxModel",
      "state": {
       "children": [
        "IPY_MODEL_6639e50f5dda4bccbfcbddf648ca3ac2",
        "IPY_MODEL_f11eeeca8340414aa96926608bdd6dc7",
        "IPY_MODEL_a26e8a93be2e417e971a070ebd17bec1",
        "IPY_MODEL_1d640921b0df46a7ab7cdc575fc380a6",
        "IPY_MODEL_97495113843b45a793528cb89ab5783c",
        "IPY_MODEL_060840d2372a481b97e82639bb592f1a",
        "IPY_MODEL_ecab5cc52e214e808acdaa2b96dd099f",
        "IPY_MODEL_d3bcf89a34f24eb7936951b6e4f67809",
        "IPY_MODEL_d4457b84388d4485a6637f6c3cab0984",
        "IPY_MODEL_54f7010a7a4d45a79e7e7c0ed9b84213"
       ],
       "layout": "IPY_MODEL_4ed2eda0d9274e679f4e77b592716a05"
      }
     },
     "3895e1ae71504dc39c0fac9ecde9f654": {
      "model_module": "@jupyter-widgets/output",
      "model_module_version": "1.0.0",
      "model_name": "OutputModel",
      "state": {
       "layout": "IPY_MODEL_0ead2e79624b4610b38d834b02590528"
      }
     },
     "38b7e15ff7e947b0834642b28908b39f": {
      "model_module": "@jupyter-widgets/base",
      "model_module_version": "1.2.0",
      "model_name": "LayoutModel",
      "state": {
       "width": "10%"
      }
     },
     "38bb4358dc5a466e9ee008b1f5474a33": {
      "model_module": "@jupyter-widgets/controls",
      "model_module_version": "1.5.0",
      "model_name": "ButtonStyleModel",
      "state": {}
     },
     "38c3da07aeb745a099af4972482c7d3a": {
      "model_module": "@jupyter-widgets/base",
      "model_module_version": "1.2.0",
      "model_name": "LayoutModel",
      "state": {
       "width": "95%"
      }
     },
     "38e4e39488c24962a5051a5132f15ca3": {
      "model_module": "@jupyter-widgets/output",
      "model_module_version": "1.0.0",
      "model_name": "OutputModel",
      "state": {
       "layout": "IPY_MODEL_c436d81d792c469fb845bad6ed416c6d"
      }
     },
     "38ee7ef7ece64b769bbf54d83d18ae1c": {
      "model_module": "@jupyter-widgets/base",
      "model_module_version": "1.2.0",
      "model_name": "LayoutModel",
      "state": {
       "width": "95%"
      }
     },
     "392492cea29c4602b33fc60a6f27af50": {
      "model_module": "@jupyter-widgets/controls",
      "model_module_version": "1.5.0",
      "model_name": "ButtonModel",
      "state": {
       "description": "8",
       "layout": "IPY_MODEL_55c794ecf73840268da7ce7c78a6a96b",
       "style": "IPY_MODEL_64e2f9bbe96444e9aa147ce473c46f12"
      }
     },
     "39af3482a50248ad9e58c400486ea125": {
      "model_module": "@jupyter-widgets/base",
      "model_module_version": "1.2.0",
      "model_name": "LayoutModel",
      "state": {
       "width": "95%"
      }
     },
     "39b0ac47921d4a30bc0c805c87171189": {
      "model_module": "@jupyter-widgets/base",
      "model_module_version": "1.2.0",
      "model_name": "LayoutModel",
      "state": {}
     },
     "39e0fbbf80464fcb86575b6a4f7ef3cd": {
      "model_module": "@jupyter-widgets/controls",
      "model_module_version": "1.5.0",
      "model_name": "ButtonModel",
      "state": {
       "description": "7",
       "layout": "IPY_MODEL_ef67128b089d4203b1e1bfaa052638a1",
       "style": "IPY_MODEL_4ac58df11b004a22b697f08ba308299c"
      }
     },
     "39fed6eeaf77493b88a5128193e00364": {
      "model_module": "@jupyter-widgets/controls",
      "model_module_version": "1.5.0",
      "model_name": "ButtonStyleModel",
      "state": {}
     },
     "3a14de1539cf4953807b81d45148474c": {
      "model_module": "@jupyter-widgets/base",
      "model_module_version": "1.2.0",
      "model_name": "LayoutModel",
      "state": {}
     },
     "3a1afd65af8b476890d361641dfcc1d6": {
      "model_module": "@jupyter-widgets/base",
      "model_module_version": "1.2.0",
      "model_name": "LayoutModel",
      "state": {}
     },
     "3a244b34ca2e4d05bea40f715a5767d3": {
      "model_module": "@jupyter-widgets/controls",
      "model_module_version": "1.5.0",
      "model_name": "VBoxModel",
      "state": {
       "children": [
        "IPY_MODEL_270c81c8cb394c37b191163d6b8875b0",
        "IPY_MODEL_2bf6867fffb34ab9b5c31ee40255e42e"
       ],
       "layout": "IPY_MODEL_2d59b03a584a4e9e87962aefcfbf15d0"
      }
     },
     "3a2e7819d9f64f5a84b833f47e8cd275": {
      "model_module": "@jupyter-widgets/base",
      "model_module_version": "1.2.0",
      "model_name": "LayoutModel",
      "state": {
       "width": "95%"
      }
     },
     "3a620e479be14667a46b3d053235981e": {
      "model_module": "@jupyter-widgets/controls",
      "model_module_version": "1.5.0",
      "model_name": "ButtonStyleModel",
      "state": {}
     },
     "3a6dbf1b5af449178d82e29efed85fd7": {
      "model_module": "@jupyter-widgets/controls",
      "model_module_version": "1.5.0",
      "model_name": "DescriptionStyleModel",
      "state": {
       "description_width": ""
      }
     },
     "3a8558ce77f64762a6dd2651e0a31732": {
      "model_module": "@jupyter-widgets/base",
      "model_module_version": "1.2.0",
      "model_name": "LayoutModel",
      "state": {}
     },
     "3aad3c6d94a44cb0b4ce8168a5937a83": {
      "model_module": "@jupyter-widgets/controls",
      "model_module_version": "1.5.0",
      "model_name": "ButtonStyleModel",
      "state": {}
     },
     "3ab52088fea04f4bbdd25a169a1d701d": {
      "model_module": "@jupyter-widgets/base",
      "model_module_version": "1.2.0",
      "model_name": "LayoutModel",
      "state": {}
     },
     "3acde3f8660845bba6210f3d9efdeada": {
      "model_module": "@jupyter-widgets/base",
      "model_module_version": "1.2.0",
      "model_name": "LayoutModel",
      "state": {}
     },
     "3aeacf8d1daa417f9f3267215f49b823": {
      "model_module": "@jupyter-widgets/controls",
      "model_module_version": "1.5.0",
      "model_name": "VBoxModel",
      "state": {
       "children": [
        "IPY_MODEL_8b8a8efcd10c469a9abb779142ae3bb5",
        "IPY_MODEL_0f9b77a8a99e43bb8d2f9f767642c892"
       ],
       "layout": "IPY_MODEL_651ef9277b9549ea9d5e79d60c19c52c"
      }
     },
     "3af6f14d4f13448d9e3d13abf21a738d": {
      "model_module": "@jupyter-widgets/controls",
      "model_module_version": "1.5.0",
      "model_name": "ButtonStyleModel",
      "state": {}
     },
     "3b00b15a6f6a4934857d4ec8271e7e6d": {
      "model_module": "@jupyter-widgets/base",
      "model_module_version": "1.2.0",
      "model_name": "LayoutModel",
      "state": {
       "width": "95%"
      }
     },
     "3b24815435884beba98f5b9917d9082c": {
      "model_module": "@jupyter-widgets/controls",
      "model_module_version": "1.5.0",
      "model_name": "HTMLModel",
      "state": {
       "layout": "IPY_MODEL_e39e176c63024226b45b5af6b392f63b",
       "style": "IPY_MODEL_63f3b56dff6543b48fa01ec36cfc1c79",
       "value": "<h1>Retraining... <i class=\"fa fa-spinner fa-spin\" aria-hidden=\"true\"></i>"
      }
     },
     "3b36be50cdbd4278b11d9748465ad362": {
      "model_module": "@jupyter-widgets/base",
      "model_module_version": "1.2.0",
      "model_name": "LayoutModel",
      "state": {}
     },
     "3b48b103c3d94b06b4fabf70d647aeed": {
      "model_module": "@jupyter-widgets/output",
      "model_module_version": "1.0.0",
      "model_name": "OutputModel",
      "state": {
       "layout": "IPY_MODEL_5f3f05dfa8384ae3b4b261ab8eb9c714"
      }
     },
     "3b5dae8f51124758adb10fcbe5de479e": {
      "model_module": "@jupyter-widgets/controls",
      "model_module_version": "1.5.0",
      "model_name": "TextModel",
      "state": {
       "description": "Other:",
       "layout": "IPY_MODEL_ea0470b2f56d442499685b877dc0d9da",
       "placeholder": "Hit enter to submit.",
       "style": "IPY_MODEL_14abe91ad96748deaa3663bbd3216788"
      }
     },
     "3b773c4de202470193a083a1b80d93cd": {
      "model_module": "@jupyter-widgets/controls",
      "model_module_version": "1.5.0",
      "model_name": "ButtonStyleModel",
      "state": {}
     },
     "3b8cb141c204475dbb62932d50f0adda": {
      "model_module": "@jupyter-widgets/output",
      "model_module_version": "1.0.0",
      "model_name": "OutputModel",
      "state": {
       "layout": "IPY_MODEL_86fe4611b0b0437a89562560d3c7f0f0"
      }
     },
     "3b917f3521994b188def5df4d163954c": {
      "model_module": "@jupyter-widgets/controls",
      "model_module_version": "1.5.0",
      "model_name": "HBoxModel",
      "state": {
       "children": [
        "IPY_MODEL_ea515f6ab0fb4c8fa83df8e40b2a12b3",
        "IPY_MODEL_b5071a727cb4429ab5846a1b5e1e9269",
        "IPY_MODEL_0d1325c707c8443cadea347f7b556f0b"
       ],
       "layout": "IPY_MODEL_4ecf1ffbf2094d28b31eebc9806b96ea"
      }
     },
     "3b91f9f63d04498595ae3ee86fdb2bd1": {
      "model_module": "@jupyter-widgets/base",
      "model_module_version": "1.2.0",
      "model_name": "LayoutModel",
      "state": {
       "width": "95%"
      }
     },
     "3ba72a8d4f0a41b1864b8bbc79034114": {
      "model_module": "@jupyter-widgets/controls",
      "model_module_version": "1.5.0",
      "model_name": "ButtonModel",
      "state": {
       "description": "2",
       "layout": "IPY_MODEL_f170fd78f8b1484199434a67db8cdc58",
       "style": "IPY_MODEL_5fc71c540ebb4fbb84a4ca82312c9057"
      }
     },
     "3bd5774f26e24406b3598825f93a2f2d": {
      "model_module": "@jupyter-widgets/controls",
      "model_module_version": "1.5.0",
      "model_name": "ButtonStyleModel",
      "state": {}
     },
     "3be682e20f1244319230690b437769f8": {
      "model_module": "@jupyter-widgets/controls",
      "model_module_version": "1.5.0",
      "model_name": "ButtonStyleModel",
      "state": {}
     },
     "3bf1b9e56ee342d79734e75e4162435a": {
      "model_module": "@jupyter-widgets/base",
      "model_module_version": "1.2.0",
      "model_name": "LayoutModel",
      "state": {}
     },
     "3c15cd36ef204a29a3a965d34dc07468": {
      "model_module": "@jupyter-widgets/base",
      "model_module_version": "1.2.0",
      "model_name": "LayoutModel",
      "state": {
       "width": "10%"
      }
     },
     "3c4230d2acfe479b9db86d51d020bea3": {
      "model_module": "@jupyter-widgets/output",
      "model_module_version": "1.0.0",
      "model_name": "OutputModel",
      "state": {
       "layout": "IPY_MODEL_2e8f8bc6b3aa48da99602591d174c420"
      }
     },
     "3c6612237b894941ab4fd701c43182da": {
      "model_module": "@jupyter-widgets/base",
      "model_module_version": "1.2.0",
      "model_name": "LayoutModel",
      "state": {}
     },
     "3c82ffc61d7e474592e411ee8d07a3fc": {
      "model_module": "@jupyter-widgets/controls",
      "model_module_version": "1.5.0",
      "model_name": "HBoxModel",
      "state": {
       "children": [
        "IPY_MODEL_ea515f6ab0fb4c8fa83df8e40b2a12b3",
        "IPY_MODEL_b5071a727cb4429ab5846a1b5e1e9269",
        "IPY_MODEL_0d1325c707c8443cadea347f7b556f0b"
       ],
       "layout": "IPY_MODEL_2bbbd672772f4c88a3af2501751c39a7"
      }
     },
     "3c98113ffd2c4eb188df03debe90612f": {
      "model_module": "@jupyter-widgets/base",
      "model_module_version": "1.2.0",
      "model_name": "LayoutModel",
      "state": {
       "width": "10%"
      }
     },
     "3caf080e92a74ac888741de2fa09ed8a": {
      "model_module": "@jupyter-widgets/base",
      "model_module_version": "1.2.0",
      "model_name": "LayoutModel",
      "state": {
       "width": "10%"
      }
     },
     "3cb9a5bebd29449faf6baafd76347c19": {
      "model_module": "@jupyter-widgets/output",
      "model_module_version": "1.0.0",
      "model_name": "OutputModel",
      "state": {
       "layout": "IPY_MODEL_28aaf9e581614575b51b0f53ec979857"
      }
     },
     "3cbe89a83cbb4064898984a2fcee38df": {
      "model_module": "@jupyter-widgets/controls",
      "model_module_version": "1.5.0",
      "model_name": "ButtonModel",
      "state": {
       "description": "3",
       "layout": "IPY_MODEL_77d23db660944aa1be0c8b52a16f0a1c",
       "style": "IPY_MODEL_9833cfc0a7f4406ea0e92d580be7c367"
      }
     },
     "3cd26e6b518d413c91a973b35046e14d": {
      "model_module": "@jupyter-widgets/controls",
      "model_module_version": "1.5.0",
      "model_name": "VBoxModel",
      "state": {
       "children": [
        "IPY_MODEL_0e9a8b1363dd4bd6848c6733a3724032",
        "IPY_MODEL_ca1a09436b2a49b494099e71accff89a"
       ],
       "layout": "IPY_MODEL_8d36513a9b194bc985590057e2671f05"
      }
     },
     "3d2bc22b1dd948329583c34cead4c0d1": {
      "model_module": "@jupyter-widgets/controls",
      "model_module_version": "1.5.0",
      "model_name": "HBoxModel",
      "state": {
       "children": [
        "IPY_MODEL_3a244b34ca2e4d05bea40f715a5767d3",
        "IPY_MODEL_21abc962c0514975838c062323c15432",
        "IPY_MODEL_c68e20a0af374ba98f5631dca6e35bee",
        "IPY_MODEL_893dc3e3edb34242b7e3e0a9226e51f9",
        "IPY_MODEL_7fd20b4a63694c6f9a4b93298e281059",
        "IPY_MODEL_f34afd627a9543b0800ff81ea03a6835",
        "IPY_MODEL_b9e027b2a0f84eb4a384285ca6306db1",
        "IPY_MODEL_7d14f7fdf2054116938f900975116917",
        "IPY_MODEL_3cd26e6b518d413c91a973b35046e14d",
        "IPY_MODEL_4b7d575ecca248cfb2bd9df3bb1b648d"
       ],
       "layout": "IPY_MODEL_f9648a10151e4479bc909ac9ad3d5db1"
      }
     },
     "3d2e12994a58443eabcacb151e656419": {
      "model_module": "@jupyter-widgets/base",
      "model_module_version": "1.2.0",
      "model_name": "LayoutModel",
      "state": {
       "width": "10%"
      }
     },
     "3d9801bf9e884f43abe253287a12b09b": {
      "model_module": "@jupyter-widgets/base",
      "model_module_version": "1.2.0",
      "model_name": "LayoutModel",
      "state": {}
     },
     "3ddf34f3f0284373b88f0cd7790deb77": {
      "model_module": "@jupyter-widgets/base",
      "model_module_version": "1.2.0",
      "model_name": "LayoutModel",
      "state": {
       "width": "95%"
      }
     },
     "3df69f25a9604bfba35d74fda215836a": {
      "model_module": "@jupyter-widgets/output",
      "model_module_version": "1.0.0",
      "model_name": "OutputModel",
      "state": {
       "layout": "IPY_MODEL_18cd963e348a408b927e1e1a5b17e941"
      }
     },
     "3e152ccc8d094932964bd0d0d523aa78": {
      "model_module": "@jupyter-widgets/base",
      "model_module_version": "1.2.0",
      "model_name": "LayoutModel",
      "state": {}
     },
     "3e1dd5fab9d94325bcc12b8d275ec882": {
      "model_module": "@jupyter-widgets/base",
      "model_module_version": "1.2.0",
      "model_name": "LayoutModel",
      "state": {}
     },
     "3e3fd909c2124df1984e9bd1f152049d": {
      "model_module": "@jupyter-widgets/base",
      "model_module_version": "1.2.0",
      "model_name": "LayoutModel",
      "state": {
       "width": "10%"
      }
     },
     "3e57cd1155694cb599adebbd26b37f5a": {
      "model_module": "@jupyter-widgets/controls",
      "model_module_version": "1.5.0",
      "model_name": "VBoxModel",
      "state": {
       "children": [
        "IPY_MODEL_b14465485b4d4f54b02971d2c7bf5dee",
        "IPY_MODEL_e3758634698b4d148601baf47ecd6f5f"
       ],
       "layout": "IPY_MODEL_aae63062cd314b8da34d90a269b0c43b"
      }
     },
     "3e6f712ff5994b0b93c01e43593504fd": {
      "model_module": "@jupyter-widgets/controls",
      "model_module_version": "1.5.0",
      "model_name": "ButtonModel",
      "state": {
       "description": "7",
       "layout": "IPY_MODEL_1d32c440065243b5958203124c85a188",
       "style": "IPY_MODEL_384196b203a34b99bfb61c668916b0e4"
      }
     },
     "3e7964f9c7974c2e9ae996d734f29691": {
      "model_module": "@jupyter-widgets/controls",
      "model_module_version": "1.5.0",
      "model_name": "ButtonStyleModel",
      "state": {}
     },
     "3e7d231e291742858c9d826f1655b9c8": {
      "model_module": "@jupyter-widgets/controls",
      "model_module_version": "1.5.0",
      "model_name": "VBoxModel",
      "state": {
       "children": [
        "IPY_MODEL_e49830f99edf419292d0430c96b25bf7",
        "IPY_MODEL_9877cc70031f416c8f57283176cb660f"
       ],
       "layout": "IPY_MODEL_695701ac2da94637a1a8d5d9a9e76660"
      }
     },
     "3eb5d32159164dc5aac441616a0cf3de": {
      "model_module": "@jupyter-widgets/controls",
      "model_module_version": "1.5.0",
      "model_name": "ButtonStyleModel",
      "state": {}
     },
     "3eb8fe427ea34f07a54e9d61a5f67c14": {
      "model_module": "@jupyter-widgets/controls",
      "model_module_version": "1.5.0",
      "model_name": "VBoxModel",
      "state": {
       "children": [
        "IPY_MODEL_5fbc1081de074da185f4a34267f2e9cc",
        "IPY_MODEL_965fe2cd76a84f25b92f6cbf37cce662"
       ],
       "layout": "IPY_MODEL_dfb5a40027dc4c578f0c7b18a2d4133e"
      }
     },
     "3eb94c31aa5441b98b4ce5c7938c9dff": {
      "model_module": "@jupyter-widgets/controls",
      "model_module_version": "1.5.0",
      "model_name": "VBoxModel",
      "state": {
       "children": [
        "IPY_MODEL_c4146f4dbeed43c58e0020f7602a6f27",
        "IPY_MODEL_62cc8b710e6f4270b90908cd2b259db7"
       ],
       "layout": "IPY_MODEL_40aff92aea0a47049ff2965c3d6068ca"
      }
     },
     "3ec2c85e6b284017b3d25da72de4a25a": {
      "model_module": "@jupyter-widgets/controls",
      "model_module_version": "1.5.0",
      "model_name": "VBoxModel",
      "state": {
       "children": [
        "IPY_MODEL_f103e90e85c8428f9d760e079256fc10",
        "IPY_MODEL_c5fd801903cb47c283b965bb19dca383"
       ],
       "layout": "IPY_MODEL_92bd24d1a54341adbe996e8992919adc"
      }
     },
     "3ed69fc7f69a4262a9025dde7ff71560": {
      "model_module": "@jupyter-widgets/controls",
      "model_module_version": "1.5.0",
      "model_name": "VBoxModel",
      "state": {
       "children": [
        "IPY_MODEL_e019f2f7fb1e4481bdd0404aaae42b02",
        "IPY_MODEL_f35223ad1c3d45cbbe78dd91c479e5e8"
       ],
       "layout": "IPY_MODEL_a5e6c9ddbeb4418b8678d7c52bcc0184"
      }
     },
     "3ee99968eca34f4cb089a339ad93ed39": {
      "model_module": "@jupyter-widgets/controls",
      "model_module_version": "1.5.0",
      "model_name": "ButtonStyleModel",
      "state": {}
     },
     "3f9c71e3065246328a4e47f354df2325": {
      "model_module": "@jupyter-widgets/controls",
      "model_module_version": "1.5.0",
      "model_name": "VBoxModel",
      "state": {
       "children": [
        "IPY_MODEL_aaa514e5bbac43359b32445514223f67",
        "IPY_MODEL_aa0ad13ebd9644a7ad88a56ccc19d8e2"
       ],
       "layout": "IPY_MODEL_a0718584614a412080aac433b83487ce"
      }
     },
     "3fb322af5c0041cdae1a2fff74f58edd": {
      "model_module": "@jupyter-widgets/base",
      "model_module_version": "1.2.0",
      "model_name": "LayoutModel",
      "state": {
       "width": "95%"
      }
     },
     "3fce1fd91ad24bd581adfd970d5c106c": {
      "model_module": "@jupyter-widgets/base",
      "model_module_version": "1.2.0",
      "model_name": "LayoutModel",
      "state": {}
     },
     "3fef84ac778f40ad9cd95f78bcc595a1": {
      "model_module": "@jupyter-widgets/base",
      "model_module_version": "1.2.0",
      "model_name": "LayoutModel",
      "state": {
       "width": "95%"
      }
     },
     "403371bd4e454c859b93502848347ec9": {
      "model_module": "@jupyter-widgets/controls",
      "model_module_version": "1.5.0",
      "model_name": "ButtonModel",
      "state": {
       "description": "6",
       "layout": "IPY_MODEL_5cd27bdfadd041b6ad9a0495590a45c2",
       "style": "IPY_MODEL_056a4b1e5afb426a862ac4e09cde7475"
      }
     },
     "403a2df5d7dd48d686e4d852ea291a9c": {
      "model_module": "@jupyter-widgets/output",
      "model_module_version": "1.0.0",
      "model_name": "OutputModel",
      "state": {
       "layout": "IPY_MODEL_d3833fee34f0417bb92c1c180248d3b8"
      }
     },
     "404bb098fffa4add8b567535aff16b9f": {
      "model_module": "@jupyter-widgets/controls",
      "model_module_version": "1.5.0",
      "model_name": "ButtonModel",
      "state": {
       "description": "5",
       "layout": "IPY_MODEL_caad6e52e859411db52f9f9c9fc7176f",
       "style": "IPY_MODEL_912a910472a5405fb3924f766c6d06cf"
      }
     },
     "405a5f678e444c5e8a9e1e607218ce31": {
      "model_module": "@jupyter-widgets/controls",
      "model_module_version": "1.5.0",
      "model_name": "ButtonModel",
      "state": {
       "description": "7",
       "layout": "IPY_MODEL_3b00b15a6f6a4934857d4ec8271e7e6d",
       "style": "IPY_MODEL_86f82a2883804a2094fc1c3c9fa8c3a4"
      }
     },
     "4064c77d109f406782fbedec63f412e8": {
      "model_module": "@jupyter-widgets/output",
      "model_module_version": "1.0.0",
      "model_name": "OutputModel",
      "state": {
       "layout": "IPY_MODEL_0c008857c7f1482b94d1a16c24f1df57"
      }
     },
     "40764ed8ce954fb4a9287e24876f54a4": {
      "model_module": "@jupyter-widgets/base",
      "model_module_version": "1.2.0",
      "model_name": "LayoutModel",
      "state": {
       "width": "95%"
      }
     },
     "408092b5354b41598d7682813e34a156": {
      "model_module": "@jupyter-widgets/base",
      "model_module_version": "1.2.0",
      "model_name": "LayoutModel",
      "state": {
       "width": "10%"
      }
     },
     "40aff92aea0a47049ff2965c3d6068ca": {
      "model_module": "@jupyter-widgets/base",
      "model_module_version": "1.2.0",
      "model_name": "LayoutModel",
      "state": {
       "width": "10%"
      }
     },
     "40b07093f8ee476a82236dec9f690283": {
      "model_module": "@jupyter-widgets/base",
      "model_module_version": "1.2.0",
      "model_name": "LayoutModel",
      "state": {}
     },
     "40c965aed2494a0cb8f66d6f6dce5fff": {
      "model_module": "@jupyter-widgets/base",
      "model_module_version": "1.2.0",
      "model_name": "LayoutModel",
      "state": {
       "width": "10%"
      }
     },
     "40c987bb2fdb4c68a3c17911fddef9f9": {
      "model_module": "@jupyter-widgets/base",
      "model_module_version": "1.2.0",
      "model_name": "LayoutModel",
      "state": {}
     },
     "40d9565aa0d849328b183364f6b6bb73": {
      "model_module": "@jupyter-widgets/output",
      "model_module_version": "1.0.0",
      "model_name": "OutputModel",
      "state": {
       "layout": "IPY_MODEL_c809d974e8a24121bed7a6c4edeb15e4"
      }
     },
     "40f080ae71ca4c3c95e610c5fe2bf83b": {
      "model_module": "@jupyter-widgets/base",
      "model_module_version": "1.2.0",
      "model_name": "LayoutModel",
      "state": {
       "width": "10%"
      }
     },
     "40f5f528eba543e49fac642d40548645": {
      "model_module": "@jupyter-widgets/base",
      "model_module_version": "1.2.0",
      "model_name": "LayoutModel",
      "state": {
       "width": "95%"
      }
     },
     "410cc6a426d049eba1353ce205ca9fc7": {
      "model_module": "@jupyter-widgets/output",
      "model_module_version": "1.0.0",
      "model_name": "OutputModel",
      "state": {
       "layout": "IPY_MODEL_1bc1d87eab3548e29582e449d88c22b7"
      }
     },
     "41118a2a3fdb4765802b941839da4ee2": {
      "model_module": "@jupyter-widgets/base",
      "model_module_version": "1.2.0",
      "model_name": "LayoutModel",
      "state": {
       "width": "95%"
      }
     },
     "4119318dd2ff4318b3f9524f131d6286": {
      "model_module": "@jupyter-widgets/base",
      "model_module_version": "1.2.0",
      "model_name": "LayoutModel",
      "state": {
       "width": "10%"
      }
     },
     "412079a20f8d471e9a63d79bd16380ed": {
      "model_module": "@jupyter-widgets/base",
      "model_module_version": "1.2.0",
      "model_name": "LayoutModel",
      "state": {}
     },
     "412379d093e44fb48382431ea65af49b": {
      "model_module": "@jupyter-widgets/base",
      "model_module_version": "1.2.0",
      "model_name": "LayoutModel",
      "state": {}
     },
     "4126d9ed50cc46b2a8532f70a4c795df": {
      "model_module": "@jupyter-widgets/controls",
      "model_module_version": "1.5.0",
      "model_name": "ButtonModel",
      "state": {
       "description": "3",
       "layout": "IPY_MODEL_0101293ec5ca4ade8cb4b9e8b12201f4",
       "style": "IPY_MODEL_36306097ecce48be8d740582398746a4"
      }
     },
     "4187320243fa4774a54384b20fe3fac5": {
      "model_module": "@jupyter-widgets/base",
      "model_module_version": "1.2.0",
      "model_name": "LayoutModel",
      "state": {}
     },
     "41961690baf84c8cb643d8c8e94ce88a": {
      "model_module": "@jupyter-widgets/output",
      "model_module_version": "1.0.0",
      "model_name": "OutputModel",
      "state": {
       "layout": "IPY_MODEL_f140a0a212cb4986b49d8eaee2b890a9"
      }
     },
     "41dac4cc78f64b73aeb51e1d3f914fe3": {
      "model_module": "@jupyter-widgets/base",
      "model_module_version": "1.2.0",
      "model_name": "LayoutModel",
      "state": {}
     },
     "42158b55204c417e95241b30362b71ed": {
      "model_module": "@jupyter-widgets/base",
      "model_module_version": "1.2.0",
      "model_name": "LayoutModel",
      "state": {}
     },
     "4238ab3e410b40918a7dd9b4bd68a144": {
      "model_module": "@jupyter-widgets/output",
      "model_module_version": "1.0.0",
      "model_name": "OutputModel",
      "state": {
       "layout": "IPY_MODEL_b711a59fe5b743b397e3bd939ba2a8de"
      }
     },
     "424735cbf25c4ef482890b4c8a060842": {
      "model_module": "@jupyter-widgets/controls",
      "model_module_version": "1.5.0",
      "model_name": "ButtonModel",
      "state": {
       "description": "8",
       "layout": "IPY_MODEL_d8a780031f564807b4ba9a430b3f75fb",
       "style": "IPY_MODEL_97e2fa0337c047479b00797deb437d76"
      }
     },
     "42520405648749ceb5f35c1d0e1d62ed": {
      "model_module": "@jupyter-widgets/base",
      "model_module_version": "1.2.0",
      "model_name": "LayoutModel",
      "state": {}
     },
     "425b8995b4944556b5c9907747032a81": {
      "model_module": "@jupyter-widgets/controls",
      "model_module_version": "1.5.0",
      "model_name": "ButtonStyleModel",
      "state": {}
     },
     "42611e99e2ca42999493c57c7f0b4fe8": {
      "model_module": "@jupyter-widgets/base",
      "model_module_version": "1.2.0",
      "model_name": "LayoutModel",
      "state": {
       "width": "10%"
      }
     },
     "42676c49d24045829f9d378868dc2316": {
      "model_module": "@jupyter-widgets/output",
      "model_module_version": "1.0.0",
      "model_name": "OutputModel",
      "state": {
       "layout": "IPY_MODEL_17b0f0c41b5e485c9871718dff568367"
      }
     },
     "4279c154ef994d4086ad5b12e011ffa9": {
      "model_module": "@jupyter-widgets/base",
      "model_module_version": "1.2.0",
      "model_name": "LayoutModel",
      "state": {
       "width": "10%"
      }
     },
     "42834ba88b054980bf2d07df4b63c939": {
      "model_module": "@jupyter-widgets/controls",
      "model_module_version": "1.5.0",
      "model_name": "ButtonStyleModel",
      "state": {}
     },
     "42a586675d1f4d06ad8afdd4a51bb80a": {
      "model_module": "@jupyter-widgets/controls",
      "model_module_version": "1.5.0",
      "model_name": "HBoxModel",
      "state": {
       "children": [
        "IPY_MODEL_4daacb443272421aa3488d750bff2f37",
        "IPY_MODEL_8c340eca2f5b494ba9962d923ba00f90"
       ],
       "layout": "IPY_MODEL_dffbea7a518a4653810be4bc4787143e"
      }
     },
     "42f74f4422e840b582ce66d298e1a3c5": {
      "model_module": "@jupyter-widgets/base",
      "model_module_version": "1.2.0",
      "model_name": "LayoutModel",
      "state": {}
     },
     "43254432302a4bfdac76291d63e891b7": {
      "model_module": "@jupyter-widgets/base",
      "model_module_version": "1.2.0",
      "model_name": "LayoutModel",
      "state": {}
     },
     "43433ba9c4034514a83893152ef62949": {
      "model_module": "@jupyter-widgets/base",
      "model_module_version": "1.2.0",
      "model_name": "LayoutModel",
      "state": {
       "width": "10%"
      }
     },
     "43557f10adc94cc3b11dd0229e99f0e3": {
      "model_module": "@jupyter-widgets/base",
      "model_module_version": "1.2.0",
      "model_name": "LayoutModel",
      "state": {
       "width": "95%"
      }
     },
     "435e925a05224e5faa0c222abf90fa8b": {
      "model_module": "@jupyter-widgets/base",
      "model_module_version": "1.2.0",
      "model_name": "LayoutModel",
      "state": {}
     },
     "4381b127c0ff456e8f60bdf1b615653e": {
      "model_module": "@jupyter-widgets/controls",
      "model_module_version": "1.5.0",
      "model_name": "VBoxModel",
      "state": {
       "children": [
        "IPY_MODEL_4b814f1230254e90b8d43ce3a229ee5b",
        "IPY_MODEL_41961690baf84c8cb643d8c8e94ce88a"
       ],
       "layout": "IPY_MODEL_31a77e60c01e47f1ae1e3a5988218c3e"
      }
     },
     "43856eaedf3a4192b99a350448657f34": {
      "model_module": "@jupyter-widgets/controls",
      "model_module_version": "1.5.0",
      "model_name": "TextModel",
      "state": {
       "description": "Other:",
       "layout": "IPY_MODEL_cf74110409a1412c92572c868c65f30f",
       "placeholder": "Hit enter to submit.",
       "style": "IPY_MODEL_33a0d136fa564bceafd07066aa289d88"
      }
     },
     "439723df59cf49ee850f7854d8a5ed4d": {
      "model_module": "@jupyter-widgets/base",
      "model_module_version": "1.2.0",
      "model_name": "LayoutModel",
      "state": {
       "width": "95%"
      }
     },
     "4416b47e1e1b4f0aa2e6ed0be090b2cd": {
      "model_module": "@jupyter-widgets/controls",
      "model_module_version": "1.5.0",
      "model_name": "ButtonStyleModel",
      "state": {}
     },
     "441bbbb870db4e30a139594de4a1e1e5": {
      "model_module": "@jupyter-widgets/controls",
      "model_module_version": "1.5.0",
      "model_name": "ButtonModel",
      "state": {
       "description": "3",
       "layout": "IPY_MODEL_503619807a7a45ea93615827f6a7752a",
       "style": "IPY_MODEL_5443da4b14934e9b972bc6a53d61cc85"
      }
     },
     "4427f2d95024433f8324098fc550a8cd": {
      "model_module": "@jupyter-widgets/base",
      "model_module_version": "1.2.0",
      "model_name": "LayoutModel",
      "state": {
       "width": "10%"
      }
     },
     "44502aeb9d7c467f8974f29085216dfc": {
      "model_module": "@jupyter-widgets/base",
      "model_module_version": "1.2.0",
      "model_name": "LayoutModel",
      "state": {}
     },
     "44744a6e98e941bd9a57c3035e823efe": {
      "model_module": "@jupyter-widgets/controls",
      "model_module_version": "1.5.0",
      "model_name": "TextModel",
      "state": {
       "description": "Other:",
       "layout": "IPY_MODEL_d07d3e668fa346eaa75dac6727e667e2",
       "placeholder": "Hit enter to submit.",
       "style": "IPY_MODEL_50843f02f8ee4e6daacb29700b4a48a2"
      }
     },
     "447b4314360b4d60a1d68b9e397a1d21": {
      "model_module": "@jupyter-widgets/controls",
      "model_module_version": "1.5.0",
      "model_name": "VBoxModel",
      "state": {
       "children": [
        "IPY_MODEL_e201e5bebb61453c9e3bbc55fa270a9d",
        "IPY_MODEL_976c697285f94e0db5c360c1c72da30d"
       ],
       "layout": "IPY_MODEL_9b3d8577eb0b4919a38db80edadc475a"
      }
     },
     "448c44e672cd4d85ab67e921a8c38a04": {
      "model_module": "@jupyter-widgets/controls",
      "model_module_version": "1.5.0",
      "model_name": "ButtonStyleModel",
      "state": {}
     },
     "44bba5427e8d460a87468541aa797c8a": {
      "model_module": "@jupyter-widgets/base",
      "model_module_version": "1.2.0",
      "model_name": "LayoutModel",
      "state": {
       "width": "10%"
      }
     },
     "44bbb883eae04a8ca8ace929c2abc5db": {
      "model_module": "@jupyter-widgets/controls",
      "model_module_version": "1.5.0",
      "model_name": "ButtonStyleModel",
      "state": {}
     },
     "44c59045478c41c18c828549a1232ea1": {
      "model_module": "@jupyter-widgets/base",
      "model_module_version": "1.2.0",
      "model_name": "LayoutModel",
      "state": {
       "width": "10%"
      }
     },
     "44d33c0b2e944e5bb171bd833def9d3d": {
      "model_module": "@jupyter-widgets/output",
      "model_module_version": "1.0.0",
      "model_name": "OutputModel",
      "state": {
       "layout": "IPY_MODEL_5a79cf2f8d0041bdb856f5cd2f404ec3"
      }
     },
     "44d3dcb27c83486f9de511f9eecc0808": {
      "model_module": "@jupyter-widgets/base",
      "model_module_version": "1.2.0",
      "model_name": "LayoutModel",
      "state": {
       "width": "95%"
      }
     },
     "44dd6606804b440bad5eb08dc390aa13": {
      "model_module": "@jupyter-widgets/controls",
      "model_module_version": "1.5.0",
      "model_name": "VBoxModel",
      "state": {
       "children": [
        "IPY_MODEL_4dffd07661924f8288298f66715c5451",
        "IPY_MODEL_c19a1906514a4556ba3ab359319b9d4c"
       ],
       "layout": "IPY_MODEL_c21553e2c2c045298831781d1690aa50"
      }
     },
     "44f998ade3924f16a9ec5c3be5e648af": {
      "model_module": "@jupyter-widgets/controls",
      "model_module_version": "1.5.0",
      "model_name": "ButtonStyleModel",
      "state": {}
     },
     "455e8d101fab499c990592c4599fdd03": {
      "model_module": "@jupyter-widgets/controls",
      "model_module_version": "1.5.0",
      "model_name": "DescriptionStyleModel",
      "state": {
       "description_width": ""
      }
     },
     "45760cd4acd3439aa1ede64729a24038": {
      "model_module": "@jupyter-widgets/base",
      "model_module_version": "1.2.0",
      "model_name": "LayoutModel",
      "state": {
       "width": "95%"
      }
     },
     "457f07890ac9447b8e48073eb5889e98": {
      "model_module": "@jupyter-widgets/output",
      "model_module_version": "1.0.0",
      "model_name": "OutputModel",
      "state": {
       "layout": "IPY_MODEL_f13188a80b454493b850121356cdd687"
      }
     },
     "462b61d6421b4535b79adf5339ad0f1b": {
      "model_module": "@jupyter-widgets/output",
      "model_module_version": "1.0.0",
      "model_name": "OutputModel",
      "state": {
       "layout": "IPY_MODEL_4e6655e22d8347129cf7fa362b3f9bb4"
      }
     },
     "465d081c732f4798812778cdf1ea0bae": {
      "model_module": "@jupyter-widgets/base",
      "model_module_version": "1.2.0",
      "model_name": "LayoutModel",
      "state": {
       "width": "10%"
      }
     },
     "466194f470f14352a92795770e5b9ba5": {
      "model_module": "@jupyter-widgets/base",
      "model_module_version": "1.2.0",
      "model_name": "LayoutModel",
      "state": {
       "width": "10%"
      }
     },
     "4666ae9d9cd04ec7b21e54481ca70762": {
      "model_module": "@jupyter-widgets/base",
      "model_module_version": "1.2.0",
      "model_name": "LayoutModel",
      "state": {
       "width": "95%"
      }
     },
     "4677834d0bfa4834b5062259e16695fe": {
      "model_module": "@jupyter-widgets/base",
      "model_module_version": "1.2.0",
      "model_name": "LayoutModel",
      "state": {
       "width": "10%"
      }
     },
     "4684416411e8430f986c01c688d9db6e": {
      "model_module": "@jupyter-widgets/base",
      "model_module_version": "1.2.0",
      "model_name": "LayoutModel",
      "state": {}
     },
     "46d3f0ae893c4a2ab14c501f45a8cabf": {
      "model_module": "@jupyter-widgets/base",
      "model_module_version": "1.2.0",
      "model_name": "LayoutModel",
      "state": {
       "width": "95%"
      }
     },
     "4724e8e4c3314e3f8c7538028d8cc632": {
      "model_module": "@jupyter-widgets/output",
      "model_module_version": "1.0.0",
      "model_name": "OutputModel",
      "state": {
       "layout": "IPY_MODEL_e8837bd2b30c47b4b0a46427c06c545f"
      }
     },
     "473c1e103b7b4a20ace019d9375cf3cd": {
      "model_module": "@jupyter-widgets/base",
      "model_module_version": "1.2.0",
      "model_name": "LayoutModel",
      "state": {
       "width": "10%"
      }
     },
     "4749586fcc3b4c0faa41c7488242a684": {
      "model_module": "@jupyter-widgets/base",
      "model_module_version": "1.2.0",
      "model_name": "LayoutModel",
      "state": {
       "width": "10%"
      }
     },
     "475b2f5d76f94984b0aeb1c94e81eda8": {
      "model_module": "@jupyter-widgets/controls",
      "model_module_version": "1.5.0",
      "model_name": "ButtonStyleModel",
      "state": {}
     },
     "478cf56b0248459fab73a623cae4a4cd": {
      "model_module": "@jupyter-widgets/base",
      "model_module_version": "1.2.0",
      "model_name": "LayoutModel",
      "state": {
       "width": "10%"
      }
     },
     "47eb635a95ab48bb9f02196dda25537c": {
      "model_module": "@jupyter-widgets/controls",
      "model_module_version": "1.5.0",
      "model_name": "ButtonModel",
      "state": {
       "description": "5",
       "layout": "IPY_MODEL_f92ecdb9af3e4c0d813b0da551976f64",
       "style": "IPY_MODEL_be62e4c85fb544f98725ac7079a0e1ad"
      }
     },
     "481a194304c94fb4abd141b2702b401c": {
      "model_module": "@jupyter-widgets/base",
      "model_module_version": "1.2.0",
      "model_name": "LayoutModel",
      "state": {
       "width": "95%"
      }
     },
     "48686d8d5197452bb773e7ebb422d273": {
      "model_module": "@jupyter-widgets/base",
      "model_module_version": "1.2.0",
      "model_name": "LayoutModel",
      "state": {}
     },
     "488d63d135254e40b8fcf728c29a3f03": {
      "model_module": "@jupyter-widgets/controls",
      "model_module_version": "1.5.0",
      "model_name": "ButtonStyleModel",
      "state": {}
     },
     "48aad41097174653a0d4f9e166fb66dd": {
      "model_module": "@jupyter-widgets/base",
      "model_module_version": "1.2.0",
      "model_name": "LayoutModel",
      "state": {
       "width": "10%"
      }
     },
     "48b67893c7d6445d951b3d4a1954f5bb": {
      "model_module": "@jupyter-widgets/base",
      "model_module_version": "1.2.0",
      "model_name": "LayoutModel",
      "state": {}
     },
     "48ce0cb26618479388c1b067e69fe74d": {
      "model_module": "@jupyter-widgets/base",
      "model_module_version": "1.2.0",
      "model_name": "LayoutModel",
      "state": {
       "width": "95%"
      }
     },
     "48dd6611bb434a59a49f7a50018d59e8": {
      "model_module": "@jupyter-widgets/base",
      "model_module_version": "1.2.0",
      "model_name": "LayoutModel",
      "state": {}
     },
     "4902aac4ed5d4d13b99151706c68bce0": {
      "model_module": "@jupyter-widgets/base",
      "model_module_version": "1.2.0",
      "model_name": "LayoutModel",
      "state": {
       "width": "95%"
      }
     },
     "4941628511644af88e87e271bed4e7ea": {
      "model_module": "@jupyter-widgets/base",
      "model_module_version": "1.2.0",
      "model_name": "LayoutModel",
      "state": {}
     },
     "498f98ed2ed4439cb2ded40396104d6f": {
      "model_module": "@jupyter-widgets/output",
      "model_module_version": "1.0.0",
      "model_name": "OutputModel",
      "state": {
       "layout": "IPY_MODEL_1367fa55afef48869df20426d094093d"
      }
     },
     "49a5554d01bf41b5a779a2cb44e26661": {
      "model_module": "@jupyter-widgets/controls",
      "model_module_version": "1.5.0",
      "model_name": "HBoxModel",
      "state": {
       "children": [
        "IPY_MODEL_44744a6e98e941bd9a57c3035e823efe",
        "IPY_MODEL_f1554b7c184f4d09a8b3c96908745d17"
       ],
       "layout": "IPY_MODEL_20dcf3847cbd44449f97eb4e1293d4a6"
      }
     },
     "49ae65e3ffe245d6a6b561772b7743e9": {
      "model_module": "@jupyter-widgets/output",
      "model_module_version": "1.0.0",
      "model_name": "OutputModel",
      "state": {
       "layout": "IPY_MODEL_c5f84b9eaa3b4674a5c0a711e663d9d5"
      }
     },
     "4a025cfd39ca49d2bd3bf46b993611bb": {
      "model_module": "@jupyter-widgets/controls",
      "model_module_version": "1.5.0",
      "model_name": "VBoxModel",
      "state": {
       "children": [
        "IPY_MODEL_123911a81ebe40c5ac3c94e131a322a7",
        "IPY_MODEL_28c0f327177746baaaec5c228ccb26ec"
       ],
       "layout": "IPY_MODEL_8acb7f1ed92d4681b39bd0277bd33d14"
      }
     },
     "4a14477310124903ba9a58a94ed3435c": {
      "model_module": "@jupyter-widgets/base",
      "model_module_version": "1.2.0",
      "model_name": "LayoutModel",
      "state": {}
     },
     "4a3f6d5d63c34a00b8276797eead5dba": {
      "model_module": "@jupyter-widgets/base",
      "model_module_version": "1.2.0",
      "model_name": "LayoutModel",
      "state": {
       "width": "95%"
      }
     },
     "4a419ec18a824793bd1c440c234e24a8": {
      "model_module": "@jupyter-widgets/controls",
      "model_module_version": "1.5.0",
      "model_name": "ButtonStyleModel",
      "state": {}
     },
     "4a6a45ae05494fe0b4659345b59ff5ee": {
      "model_module": "@jupyter-widgets/controls",
      "model_module_version": "1.5.0",
      "model_name": "DescriptionStyleModel",
      "state": {
       "description_width": ""
      }
     },
     "4a6db508236f45989da10486164fd865": {
      "model_module": "@jupyter-widgets/base",
      "model_module_version": "1.2.0",
      "model_name": "LayoutModel",
      "state": {
       "width": "10%"
      }
     },
     "4a7b64f3674a4fa38975be4fc9d69fd0": {
      "model_module": "@jupyter-widgets/base",
      "model_module_version": "1.2.0",
      "model_name": "LayoutModel",
      "state": {
       "width": "95%"
      }
     },
     "4a88ae52896a416db4675af910e0fc88": {
      "model_module": "@jupyter-widgets/controls",
      "model_module_version": "1.5.0",
      "model_name": "ButtonStyleModel",
      "state": {}
     },
     "4ac58df11b004a22b697f08ba308299c": {
      "model_module": "@jupyter-widgets/controls",
      "model_module_version": "1.5.0",
      "model_name": "ButtonStyleModel",
      "state": {}
     },
     "4aee7c23d7b149c2b4397a7218a1757c": {
      "model_module": "@jupyter-widgets/controls",
      "model_module_version": "1.5.0",
      "model_name": "ButtonStyleModel",
      "state": {}
     },
     "4b0a9b2e406d488a88dae073ed6937d2": {
      "model_module": "@jupyter-widgets/controls",
      "model_module_version": "1.5.0",
      "model_name": "TextModel",
      "state": {
       "description": "Other:",
       "layout": "IPY_MODEL_06a56a9b26744395a3217677e76641a9",
       "placeholder": "Hit enter to submit.",
       "style": "IPY_MODEL_0b7dd742e40b49d5abd139ba3bc35101"
      }
     },
     "4b0e7dba39b54b228e59420fc0c25739": {
      "model_module": "@jupyter-widgets/base",
      "model_module_version": "1.2.0",
      "model_name": "LayoutModel",
      "state": {
       "width": "95%"
      }
     },
     "4b16c6fc5338403b9a01e24e1b70b765": {
      "model_module": "@jupyter-widgets/base",
      "model_module_version": "1.2.0",
      "model_name": "LayoutModel",
      "state": {
       "width": "95%"
      }
     },
     "4b26ff5d32624277ae429020e1329b9b": {
      "model_module": "@jupyter-widgets/base",
      "model_module_version": "1.2.0",
      "model_name": "LayoutModel",
      "state": {}
     },
     "4b5df36e1f144e10b2137bab6252daf1": {
      "model_module": "@jupyter-widgets/controls",
      "model_module_version": "1.5.0",
      "model_name": "HBoxModel",
      "state": {
       "children": [
        "IPY_MODEL_ea515f6ab0fb4c8fa83df8e40b2a12b3",
        "IPY_MODEL_b5071a727cb4429ab5846a1b5e1e9269",
        "IPY_MODEL_0d1325c707c8443cadea347f7b556f0b"
       ],
       "layout": "IPY_MODEL_041a4ea84b0a4535a8e77f7115664786"
      }
     },
     "4b5feb476175469681ab55e85533899a": {
      "model_module": "@jupyter-widgets/controls",
      "model_module_version": "1.5.0",
      "model_name": "ButtonModel",
      "state": {
       "description": "6",
       "layout": "IPY_MODEL_fed117935d004c8a88a35fcb379a7f1b",
       "style": "IPY_MODEL_8699cacdb9fb476790b5dc70b83d1e74"
      }
     },
     "4b64475e8c5f44db95873a68b4fec287": {
      "model_module": "@jupyter-widgets/base",
      "model_module_version": "1.2.0",
      "model_name": "LayoutModel",
      "state": {
       "width": "10%"
      }
     },
     "4b7d575ecca248cfb2bd9df3bb1b648d": {
      "model_module": "@jupyter-widgets/controls",
      "model_module_version": "1.5.0",
      "model_name": "VBoxModel",
      "state": {
       "children": [
        "IPY_MODEL_01483d25f0cd4f6ea64f459cff82375c",
        "IPY_MODEL_5b3d0a00ae854356a1f4dde1927d64ff"
       ],
       "layout": "IPY_MODEL_90f5e60a570c4778b9355f5df135e54d"
      }
     },
     "4b814f1230254e90b8d43ce3a229ee5b": {
      "model_module": "@jupyter-widgets/controls",
      "model_module_version": "1.5.0",
      "model_name": "ButtonModel",
      "state": {
       "description": "2",
       "layout": "IPY_MODEL_ee40b9f096b442299134446d9bf56ea7",
       "style": "IPY_MODEL_c66606a76d234a8b89e86b33f60a4bb5"
      }
     },
     "4babe8ef6b46416e911429d6cfc64aa8": {
      "model_module": "@jupyter-widgets/controls",
      "model_module_version": "1.5.0",
      "model_name": "ButtonModel",
      "state": {
       "description": "9",
       "layout": "IPY_MODEL_481a194304c94fb4abd141b2702b401c",
       "style": "IPY_MODEL_d569ef20adf048859338b7cc96551b4f"
      }
     },
     "4bd5f734f5e247f68407f4d2450a4a31": {
      "model_module": "@jupyter-widgets/controls",
      "model_module_version": "1.5.0",
      "model_name": "ButtonStyleModel",
      "state": {}
     },
     "4c09a6b66ed44dffb68bffc7eaf7ddbe": {
      "model_module": "@jupyter-widgets/controls",
      "model_module_version": "1.5.0",
      "model_name": "ButtonModel",
      "state": {
       "description": "5",
       "layout": "IPY_MODEL_db33619bd70948bfac57cafc6f46729e",
       "style": "IPY_MODEL_2a937fc11c884ced839598b80c880481"
      }
     },
     "4c36aa9adaef4c35abafee6f3a1fd4eb": {
      "model_module": "@jupyter-widgets/output",
      "model_module_version": "1.0.0",
      "model_name": "OutputModel",
      "state": {
       "layout": "IPY_MODEL_70d3857daf5643daa6709faadc69a97d"
      }
     },
     "4c3cf24e2e694b1da30765466238a096": {
      "model_module": "@jupyter-widgets/base",
      "model_module_version": "1.2.0",
      "model_name": "LayoutModel",
      "state": {
       "width": "95%"
      }
     },
     "4c4a359805594528bb9d58597a8e8161": {
      "model_module": "@jupyter-widgets/base",
      "model_module_version": "1.2.0",
      "model_name": "LayoutModel",
      "state": {}
     },
     "4c55045bd5b44af8b2b82937843cec7b": {
      "model_module": "@jupyter-widgets/base",
      "model_module_version": "1.2.0",
      "model_name": "LayoutModel",
      "state": {}
     },
     "4ca34a0ad0914241a3fc3465c45dfcc0": {
      "model_module": "@jupyter-widgets/controls",
      "model_module_version": "1.5.0",
      "model_name": "HBoxModel",
      "state": {
       "children": [
        "IPY_MODEL_c6092c337e9b432293616138d2bf83a2",
        "IPY_MODEL_b220ded7f9a944e19f385fd7c1c204ef",
        "IPY_MODEL_f05ba2da9897444a8c206199034c65b6",
        "IPY_MODEL_deed232d49694e7c9f6831773b9feeea",
        "IPY_MODEL_e50397b87e1f4e9e838bdd547d9fad4f",
        "IPY_MODEL_b7e3bff44ae042d1a9df1799bdbaee73",
        "IPY_MODEL_1efca1a362f04bbebb495637a3554ea6",
        "IPY_MODEL_e4cda295ad684d2cb7e8ca1143d40b33",
        "IPY_MODEL_7830389322b348aba99fddb59d8e9a4e",
        "IPY_MODEL_543ddc204e874cf7aff5c0b079490505"
       ],
       "layout": "IPY_MODEL_dd9971537bfb4ac3a0908058f52dac86"
      }
     },
     "4cbc3c7cefa34a99b54f967b5ce3ceaa": {
      "model_module": "@jupyter-widgets/base",
      "model_module_version": "1.2.0",
      "model_name": "LayoutModel",
      "state": {}
     },
     "4cca18a7d48e4aa6adc52d0ba23ea5fc": {
      "model_module": "@jupyter-widgets/output",
      "model_module_version": "1.0.0",
      "model_name": "OutputModel",
      "state": {
       "layout": "IPY_MODEL_1c8926c8cddb48749be16c5f8b45fcce"
      }
     },
     "4cd809843add461880076b6906e13c45": {
      "model_module": "@jupyter-widgets/base",
      "model_module_version": "1.2.0",
      "model_name": "LayoutModel",
      "state": {
       "width": "95%"
      }
     },
     "4cdff301189c474eb7307a2d19af893e": {
      "model_module": "@jupyter-widgets/base",
      "model_module_version": "1.2.0",
      "model_name": "LayoutModel",
      "state": {
       "width": "10%"
      }
     },
     "4cf8b3a074914754bb51b443533a5dc5": {
      "model_module": "@jupyter-widgets/output",
      "model_module_version": "1.0.0",
      "model_name": "OutputModel",
      "state": {
       "layout": "IPY_MODEL_cefb90f94fac4a1687e4ac0b6d1311e0"
      }
     },
     "4d02f2f579eb45688641fb026c162a6e": {
      "model_module": "@jupyter-widgets/base",
      "model_module_version": "1.2.0",
      "model_name": "LayoutModel",
      "state": {}
     },
     "4d1da63232434d1cbe41c281202cb5f7": {
      "model_module": "@jupyter-widgets/controls",
      "model_module_version": "1.5.0",
      "model_name": "ButtonStyleModel",
      "state": {}
     },
     "4d54dd0e73a04468b3151c023ad75210": {
      "model_module": "@jupyter-widgets/controls",
      "model_module_version": "1.5.0",
      "model_name": "ButtonStyleModel",
      "state": {}
     },
     "4d777b600d5545feb78032e8690ff5e3": {
      "model_module": "@jupyter-widgets/output",
      "model_module_version": "1.0.0",
      "model_name": "OutputModel",
      "state": {
       "layout": "IPY_MODEL_42f74f4422e840b582ce66d298e1a3c5"
      }
     },
     "4d7e0840c9a74373a763abc20095baf6": {
      "model_module": "@jupyter-widgets/controls",
      "model_module_version": "1.5.0",
      "model_name": "ButtonModel",
      "state": {
       "description": "3",
       "layout": "IPY_MODEL_da6c5d11973644a883a5f9e63308917f",
       "style": "IPY_MODEL_bf0c10efff39448985cad71d19ea39d9"
      }
     },
     "4d91a8578842402889b32aa8a28a1c04": {
      "model_module": "@jupyter-widgets/output",
      "model_module_version": "1.0.0",
      "model_name": "OutputModel",
      "state": {
       "layout": "IPY_MODEL_7f5eff8466374e93a2a66e766e4b6442"
      }
     },
     "4da98fc29f094b85883b2cbf3cd4e649": {
      "model_module": "@jupyter-widgets/controls",
      "model_module_version": "1.5.0",
      "model_name": "ButtonModel",
      "state": {
       "description": "1",
       "layout": "IPY_MODEL_80a9d99a806c45d982d0a5b5b4ce3e1e",
       "style": "IPY_MODEL_4e7d31eca2324a89a3ec2dffee2d9bcb"
      }
     },
     "4daacb443272421aa3488d750bff2f37": {
      "model_module": "@jupyter-widgets/controls",
      "model_module_version": "1.5.0",
      "model_name": "TextModel",
      "state": {
       "description": "Other:",
       "layout": "IPY_MODEL_f67e7995f12249fb8106c0a200302e8d",
       "placeholder": "Hit enter to submit.",
       "style": "IPY_MODEL_6b2fac68a5284c92942643a9b3da3971"
      }
     },
     "4dc66ba79cc44ad484c6fb475dda0139": {
      "model_module": "@jupyter-widgets/base",
      "model_module_version": "1.2.0",
      "model_name": "LayoutModel",
      "state": {}
     },
     "4df76c8084004ea38704c96938fcf1dc": {
      "model_module": "@jupyter-widgets/output",
      "model_module_version": "1.0.0",
      "model_name": "OutputModel",
      "state": {
       "layout": "IPY_MODEL_cccc3482379448af9f8054e237ce294e"
      }
     },
     "4df86a253d2c4f208de123f8c430b575": {
      "model_module": "@jupyter-widgets/controls",
      "model_module_version": "1.5.0",
      "model_name": "VBoxModel",
      "state": {
       "children": [
        "IPY_MODEL_1f68182065c642d4906937dae62adbff",
        "IPY_MODEL_019b05b692a545c2a83f646c130c5c06"
       ],
       "layout": "IPY_MODEL_d36db25a16cb4f2dbf66cfc371fae019"
      }
     },
     "4dffd07661924f8288298f66715c5451": {
      "model_module": "@jupyter-widgets/controls",
      "model_module_version": "1.5.0",
      "model_name": "ButtonModel",
      "state": {
       "description": "1",
       "layout": "IPY_MODEL_6c5f9c5cd7844d038deeb6ef6c638546",
       "style": "IPY_MODEL_d62f134ae98b4ee69a2c64b1ac1d072e"
      }
     },
     "4e15b6fead0b4006a4547a2c9fa449bd": {
      "model_module": "@jupyter-widgets/controls",
      "model_module_version": "1.5.0",
      "model_name": "ButtonModel",
      "state": {
       "description": "7",
       "layout": "IPY_MODEL_81e6de4d4b744fa2b23ed5f2b6b44774",
       "style": "IPY_MODEL_820b73beb06b4d9b8f1127d5a2b9ac97"
      }
     },
     "4e2b0e0696bd479eab30b5e23abcca3a": {
      "model_module": "@jupyter-widgets/output",
      "model_module_version": "1.0.0",
      "model_name": "OutputModel",
      "state": {
       "layout": "IPY_MODEL_75cff9134812451f835a02c8db635167"
      }
     },
     "4e306fa7990e40e4b646a81ca735128d": {
      "model_module": "@jupyter-widgets/controls",
      "model_module_version": "1.5.0",
      "model_name": "ButtonModel",
      "state": {
       "description": "9",
       "layout": "IPY_MODEL_6a22e90a40944e6db40dfe00bbfac654",
       "style": "IPY_MODEL_72ec895ec7a34955b0021427c4cd3edc"
      }
     },
     "4e6655e22d8347129cf7fa362b3f9bb4": {
      "model_module": "@jupyter-widgets/base",
      "model_module_version": "1.2.0",
      "model_name": "LayoutModel",
      "state": {}
     },
     "4e7d31eca2324a89a3ec2dffee2d9bcb": {
      "model_module": "@jupyter-widgets/controls",
      "model_module_version": "1.5.0",
      "model_name": "ButtonStyleModel",
      "state": {}
     },
     "4ea38e71b626474c8009212f0cb477d1": {
      "model_module": "@jupyter-widgets/base",
      "model_module_version": "1.2.0",
      "model_name": "LayoutModel",
      "state": {
       "width": "10%"
      }
     },
     "4ecf1ffbf2094d28b31eebc9806b96ea": {
      "model_module": "@jupyter-widgets/base",
      "model_module_version": "1.2.0",
      "model_name": "LayoutModel",
      "state": {}
     },
     "4ed2eda0d9274e679f4e77b592716a05": {
      "model_module": "@jupyter-widgets/base",
      "model_module_version": "1.2.0",
      "model_name": "LayoutModel",
      "state": {}
     },
     "4ee766ac537a48a0b28e8b1e26c9d967": {
      "model_module": "@jupyter-widgets/controls",
      "model_module_version": "1.5.0",
      "model_name": "VBoxModel",
      "state": {
       "children": [
        "IPY_MODEL_26a5228e9e98447c91a13fc30cca2fca",
        "IPY_MODEL_68e35ee0e8164eb2b59af270090d581a"
       ],
       "layout": "IPY_MODEL_03af632115a34e379bf9b23b21d699db"
      }
     },
     "4f30044e3aa440a8b3cbc9eb4572e4d3": {
      "model_module": "@jupyter-widgets/controls",
      "model_module_version": "1.5.0",
      "model_name": "VBoxModel",
      "state": {
       "children": [
        "IPY_MODEL_c29bb2d9b1d64c29919bb4d993beddbe",
        "IPY_MODEL_df880977f65646e8bf726161d40a35cd"
       ],
       "layout": "IPY_MODEL_59d20251d7304485af8c93ecbddd07a9"
      }
     },
     "4f352b5c42b44251bb22134ce3e54624": {
      "model_module": "@jupyter-widgets/base",
      "model_module_version": "1.2.0",
      "model_name": "LayoutModel",
      "state": {
       "width": "95%"
      }
     },
     "4f3e83c729a341c49c8795d83be97159": {
      "model_module": "@jupyter-widgets/base",
      "model_module_version": "1.2.0",
      "model_name": "LayoutModel",
      "state": {
       "width": "95%"
      }
     },
     "4f56a6a598824634ac0066f1388cb468": {
      "model_module": "@jupyter-widgets/base",
      "model_module_version": "1.2.0",
      "model_name": "LayoutModel",
      "state": {
       "width": "95%"
      }
     },
     "4f59283759494b309175f7aee0e225ab": {
      "model_module": "@jupyter-widgets/controls",
      "model_module_version": "1.5.0",
      "model_name": "BoxModel",
      "state": {
       "layout": "IPY_MODEL_2aff5b753e8a4402ae17dce5c3d081e8"
      }
     },
     "4f67851988b44ad1a621b1396a818ec3": {
      "model_module": "@jupyter-widgets/base",
      "model_module_version": "1.2.0",
      "model_name": "LayoutModel",
      "state": {
       "width": "10%"
      }
     },
     "4f6c6eda22044de9b6c4677f04d37d8f": {
      "model_module": "@jupyter-widgets/output",
      "model_module_version": "1.0.0",
      "model_name": "OutputModel",
      "state": {
       "layout": "IPY_MODEL_52c5fe4654b24fb4b2c97de8c69c70a3"
      }
     },
     "4f7470e1543445cdaee0c59a9aae84c9": {
      "model_module": "@jupyter-widgets/base",
      "model_module_version": "1.2.0",
      "model_name": "LayoutModel",
      "state": {
       "width": "10%"
      }
     },
     "4f9d8e876b56418ab21a3a8928d0d0e3": {
      "model_module": "@jupyter-widgets/base",
      "model_module_version": "1.2.0",
      "model_name": "LayoutModel",
      "state": {
       "width": "10%"
      }
     },
     "4fae790eec71406d95f01334f3f0b5fa": {
      "model_module": "@jupyter-widgets/controls",
      "model_module_version": "1.5.0",
      "model_name": "VBoxModel",
      "state": {
       "children": [
        "IPY_MODEL_4c09a6b66ed44dffb68bffc7eaf7ddbe",
        "IPY_MODEL_4d91a8578842402889b32aa8a28a1c04"
       ],
       "layout": "IPY_MODEL_4b64475e8c5f44db95873a68b4fec287"
      }
     },
     "4fc44ec30d6a484ab54c6024ca3de52b": {
      "model_module": "@jupyter-widgets/controls",
      "model_module_version": "1.5.0",
      "model_name": "VBoxModel",
      "state": {
       "children": [
        "IPY_MODEL_742fb43b58734df790e67d32a4fb8a61",
        "IPY_MODEL_7aa24afc271d4ffcb96d0eb9a43d080f"
       ],
       "layout": "IPY_MODEL_de437e4b64bd47f1b3ba91715636d683"
      }
     },
     "4fdad2053cb54c46a92dc11787fd7696": {
      "model_module": "@jupyter-widgets/base",
      "model_module_version": "1.2.0",
      "model_name": "LayoutModel",
      "state": {
       "width": "10%"
      }
     },
     "4fde07e980954e3eb6d5ef52f1aa987f": {
      "model_module": "@jupyter-widgets/base",
      "model_module_version": "1.2.0",
      "model_name": "LayoutModel",
      "state": {
       "width": "10%"
      }
     },
     "4fe4f2c1189a48268e05732137f8760c": {
      "model_module": "@jupyter-widgets/output",
      "model_module_version": "1.0.0",
      "model_name": "OutputModel",
      "state": {
       "layout": "IPY_MODEL_d56ea48b879447edae842e26faa460a0"
      }
     },
     "50034e001da94d049e6d81993bbd9b7e": {
      "model_module": "@jupyter-widgets/base",
      "model_module_version": "1.2.0",
      "model_name": "LayoutModel",
      "state": {
       "width": "10%"
      }
     },
     "50070047ba4741a88cc4f9b4caa8bf7f": {
      "model_module": "@jupyter-widgets/controls",
      "model_module_version": "1.5.0",
      "model_name": "ButtonModel",
      "state": {
       "description": "3",
       "layout": "IPY_MODEL_07709c4ff18249fc84a135cf1a5fa5c7",
       "style": "IPY_MODEL_d356cfd5c0c44ddb94b0af5f804d1538"
      }
     },
     "501d85c97987445ba8a92be9fc32ca42": {
      "model_module": "@jupyter-widgets/base",
      "model_module_version": "1.2.0",
      "model_name": "LayoutModel",
      "state": {
       "width": "10%"
      }
     },
     "5031820807ad47e4b2b0fd349be38610": {
      "model_module": "@jupyter-widgets/base",
      "model_module_version": "1.2.0",
      "model_name": "LayoutModel",
      "state": {
       "width": "10%"
      }
     },
     "503619807a7a45ea93615827f6a7752a": {
      "model_module": "@jupyter-widgets/base",
      "model_module_version": "1.2.0",
      "model_name": "LayoutModel",
      "state": {
       "width": "95%"
      }
     },
     "50421dec829342849316a1c677fe385a": {
      "model_module": "@jupyter-widgets/base",
      "model_module_version": "1.2.0",
      "model_name": "LayoutModel",
      "state": {
       "width": "95%"
      }
     },
     "50501318d7694bb5ba38add41c5d6b0a": {
      "model_module": "@jupyter-widgets/controls",
      "model_module_version": "1.5.0",
      "model_name": "ButtonModel",
      "state": {
       "description": "0",
       "layout": "IPY_MODEL_1b3f23ccf3f2405aa2c7fb2cec4ac81c",
       "style": "IPY_MODEL_99eb3271d176421eb8bc9d2c6e9a0f8c"
      }
     },
     "5062f65f91324d3db8e0853b54099978": {
      "model_module": "@jupyter-widgets/output",
      "model_module_version": "1.0.0",
      "model_name": "OutputModel",
      "state": {
       "layout": "IPY_MODEL_bc39539cabc44c08a16ea685dfda6b44"
      }
     },
     "5063b04bce8f4b0099ae522163781455": {
      "model_module": "@jupyter-widgets/controls",
      "model_module_version": "1.5.0",
      "model_name": "ButtonStyleModel",
      "state": {}
     },
     "50843f02f8ee4e6daacb29700b4a48a2": {
      "model_module": "@jupyter-widgets/controls",
      "model_module_version": "1.5.0",
      "model_name": "DescriptionStyleModel",
      "state": {
       "description_width": ""
      }
     },
     "509ac3d1e07846a08fecfc525f9a050c": {
      "model_module": "@jupyter-widgets/controls",
      "model_module_version": "1.5.0",
      "model_name": "ButtonModel",
      "state": {
       "description": "3",
       "layout": "IPY_MODEL_10ef4b2297224a39b006d094119c6fb1",
       "style": "IPY_MODEL_541fd77d13634f95851321b05bcf4455"
      }
     },
     "50a291b6fa92449dae635fa460af8873": {
      "model_module": "@jupyter-widgets/base",
      "model_module_version": "1.2.0",
      "model_name": "LayoutModel",
      "state": {}
     },
     "50abafd59c0e4b1188e291bfbda57c1f": {
      "model_module": "@jupyter-widgets/base",
      "model_module_version": "1.2.0",
      "model_name": "LayoutModel",
      "state": {}
     },
     "50bdabe2ec8344019aca4bb2348f7ee3": {
      "model_module": "@jupyter-widgets/base",
      "model_module_version": "1.2.0",
      "model_name": "LayoutModel",
      "state": {
       "width": "10%"
      }
     },
     "50c5435087624aec8412ed59308c6c63": {
      "model_module": "@jupyter-widgets/controls",
      "model_module_version": "1.5.0",
      "model_name": "DescriptionStyleModel",
      "state": {
       "description_width": ""
      }
     },
     "50c6f2168a924672b41eb52a1ed5e7cb": {
      "model_module": "@jupyter-widgets/base",
      "model_module_version": "1.2.0",
      "model_name": "LayoutModel",
      "state": {
       "width": "95%"
      }
     },
     "50fb0d8a8ccb449fa12707ba61123e4b": {
      "model_module": "@jupyter-widgets/output",
      "model_module_version": "1.0.0",
      "model_name": "OutputModel",
      "state": {
       "layout": "IPY_MODEL_77dabffe9590471babfb312c2a7c568f"
      }
     },
     "5101b966c80946efad52d0e99ffdabfb": {
      "model_module": "@jupyter-widgets/controls",
      "model_module_version": "1.5.0",
      "model_name": "ButtonStyleModel",
      "state": {}
     },
     "51086aa47d5948c68a29e98df4badf35": {
      "model_module": "@jupyter-widgets/controls",
      "model_module_version": "1.5.0",
      "model_name": "ButtonModel",
      "state": {
       "description": "7",
       "layout": "IPY_MODEL_77d6ef0dde534489b1b63bf360152e96",
       "style": "IPY_MODEL_6aa346c20fe744efbf1d37d0f4dede9d"
      }
     },
     "5127a882ee4641a7946364d31c3e6a2b": {
      "model_module": "@jupyter-widgets/base",
      "model_module_version": "1.2.0",
      "model_name": "LayoutModel",
      "state": {
       "width": "10%"
      }
     },
     "514e17925da04857aa922d34c7dfd772": {
      "model_module": "@jupyter-widgets/controls",
      "model_module_version": "1.5.0",
      "model_name": "VBoxModel",
      "state": {
       "children": [
        "IPY_MODEL_9da8a0a9ad6545ad895cd7e6efa2ecf3",
        "IPY_MODEL_462b61d6421b4535b79adf5339ad0f1b"
       ],
       "layout": "IPY_MODEL_8b24c4cbe3de46afbc6ee36c05d2f466"
      }
     },
     "515e48d074f64e0f905bfe37044362d7": {
      "model_module": "@jupyter-widgets/base",
      "model_module_version": "1.2.0",
      "model_name": "LayoutModel",
      "state": {
       "width": "95%"
      }
     },
     "516b8dc85879465f8cc10e9159bdfd16": {
      "model_module": "@jupyter-widgets/base",
      "model_module_version": "1.2.0",
      "model_name": "LayoutModel",
      "state": {
       "width": "10%"
      }
     },
     "51d2e3bc9d194dc68f4fef804226a4fd": {
      "model_module": "@jupyter-widgets/base",
      "model_module_version": "1.2.0",
      "model_name": "LayoutModel",
      "state": {
       "width": "10%"
      }
     },
     "51e86af029b64af59819a8d2eb121d59": {
      "model_module": "@jupyter-widgets/base",
      "model_module_version": "1.2.0",
      "model_name": "LayoutModel",
      "state": {
       "width": "10%"
      }
     },
     "51fb2d8e424f4f16a61a433dbe9fedaf": {
      "model_module": "@jupyter-widgets/controls",
      "model_module_version": "1.5.0",
      "model_name": "ButtonModel",
      "state": {
       "description": "2",
       "layout": "IPY_MODEL_1e4f4f7ed0ae4f4d97469f4c9571d57a",
       "style": "IPY_MODEL_84a7a2d48915420f93fb006d767252f3"
      }
     },
     "5221e2ed589f4c0e8c8dbfd427fa2a96": {
      "model_module": "@jupyter-widgets/controls",
      "model_module_version": "1.5.0",
      "model_name": "ButtonStyleModel",
      "state": {}
     },
     "52590a1f58fa4ddd901e329c0591c93d": {
      "model_module": "@jupyter-widgets/controls",
      "model_module_version": "1.5.0",
      "model_name": "VBoxModel",
      "state": {
       "children": [
        "IPY_MODEL_07a8f89cdef5414181e5f357a9859b1c",
        "IPY_MODEL_4cca18a7d48e4aa6adc52d0ba23ea5fc"
       ],
       "layout": "IPY_MODEL_4427f2d95024433f8324098fc550a8cd"
      }
     },
     "52799e495ee54938b265df4a2df7f769": {
      "model_module": "@jupyter-widgets/controls",
      "model_module_version": "1.5.0",
      "model_name": "VBoxModel",
      "state": {
       "children": [
        "IPY_MODEL_cafed08e6c4a4d48a4b17914bc9c4210",
        "IPY_MODEL_7a307b4b5f104935ab491681cbaf3d02"
       ],
       "layout": "IPY_MODEL_f16177a29f7c4d2581ccd00712f198ee"
      }
     },
     "5289a1641556499f8f8d47e56feca751": {
      "model_module": "@jupyter-widgets/base",
      "model_module_version": "1.2.0",
      "model_name": "LayoutModel",
      "state": {
       "width": "95%"
      }
     },
     "52a856581023456aa02330cd61425f97": {
      "model_module": "@jupyter-widgets/base",
      "model_module_version": "1.2.0",
      "model_name": "LayoutModel",
      "state": {}
     },
     "52a8d53b22d74797b7419d6a9d5003aa": {
      "model_module": "@jupyter-widgets/controls",
      "model_module_version": "1.5.0",
      "model_name": "ButtonModel",
      "state": {
       "description": "9",
       "layout": "IPY_MODEL_eef8f8182a1047e9b47ae8b7f31be42f",
       "style": "IPY_MODEL_86afc72b4af84265a03991f3017d3467"
      }
     },
     "52c5fe4654b24fb4b2c97de8c69c70a3": {
      "model_module": "@jupyter-widgets/base",
      "model_module_version": "1.2.0",
      "model_name": "LayoutModel",
      "state": {}
     },
     "52e4f72df045478bbf71deaf689ef0cb": {
      "model_module": "@jupyter-widgets/controls",
      "model_module_version": "1.5.0",
      "model_name": "ButtonStyleModel",
      "state": {}
     },
     "5315c0d4bbc84edb8a1b4cc5570f43be": {
      "model_module": "@jupyter-widgets/controls",
      "model_module_version": "1.5.0",
      "model_name": "ButtonStyleModel",
      "state": {}
     },
     "5321cb2abdb94edc899bea9d5ec711c3": {
      "model_module": "@jupyter-widgets/controls",
      "model_module_version": "1.5.0",
      "model_name": "VBoxModel",
      "state": {
       "children": [
        "IPY_MODEL_3cbe89a83cbb4064898984a2fcee38df",
        "IPY_MODEL_ee4351cab550490aadad245c94708c0b"
       ],
       "layout": "IPY_MODEL_4a6db508236f45989da10486164fd865"
      }
     },
     "532b85cf8dcd4a1ebe2a8e3d66ba9d78": {
      "model_module": "@jupyter-widgets/base",
      "model_module_version": "1.2.0",
      "model_name": "LayoutModel",
      "state": {
       "width": "10%"
      }
     },
     "534c7ef07cbb4f64aa0751904d22b553": {
      "model_module": "@jupyter-widgets/controls",
      "model_module_version": "1.5.0",
      "model_name": "VBoxModel",
      "state": {
       "children": [
        "IPY_MODEL_f29a5a1a03ee4c649d5b5c28a8adb2f7",
        "IPY_MODEL_9dc179873bb746a9a39fa6dc4e196758"
       ],
       "layout": "IPY_MODEL_466194f470f14352a92795770e5b9ba5"
      }
     },
     "5385cd23c2714e5eb7c3b3cd8a9b038b": {
      "model_module": "@jupyter-widgets/controls",
      "model_module_version": "1.5.0",
      "model_name": "ButtonStyleModel",
      "state": {}
     },
     "539851c172b746bfa9b18aec5070b080": {
      "model_module": "@jupyter-widgets/controls",
      "model_module_version": "1.5.0",
      "model_name": "VBoxModel",
      "state": {
       "children": [
        "IPY_MODEL_2acefd1fb5b84cbc887123efdeaf0c89",
        "IPY_MODEL_6c21cdd6b1b34c45b0ca40cf74f59ebc"
       ],
       "layout": "IPY_MODEL_40c965aed2494a0cb8f66d6f6dce5fff"
      }
     },
     "539ef2e6cbb6437895f7007dcc1504b3": {
      "model_module": "@jupyter-widgets/base",
      "model_module_version": "1.2.0",
      "model_name": "LayoutModel",
      "state": {}
     },
     "539f7687aead4209941832aceffea2b3": {
      "model_module": "@jupyter-widgets/output",
      "model_module_version": "1.0.0",
      "model_name": "OutputModel",
      "state": {
       "layout": "IPY_MODEL_c2abf8941e774063911bc166818f2c54"
      }
     },
     "53bfe9a2ec7143a68d81f902f4662eb2": {
      "model_module": "@jupyter-widgets/controls",
      "model_module_version": "1.5.0",
      "model_name": "ButtonStyleModel",
      "state": {}
     },
     "53c859065cbf4837be3649c7368dd769": {
      "model_module": "@jupyter-widgets/base",
      "model_module_version": "1.2.0",
      "model_name": "LayoutModel",
      "state": {}
     },
     "53c96158894547888ab3023cb04fa6f3": {
      "model_module": "@jupyter-widgets/controls",
      "model_module_version": "1.5.0",
      "model_name": "ButtonStyleModel",
      "state": {}
     },
     "5417f37b617e4fbf909e530d2d71aacb": {
      "model_module": "@jupyter-widgets/base",
      "model_module_version": "1.2.0",
      "model_name": "LayoutModel",
      "state": {
       "width": "10%"
      }
     },
     "541fd77d13634f95851321b05bcf4455": {
      "model_module": "@jupyter-widgets/controls",
      "model_module_version": "1.5.0",
      "model_name": "ButtonStyleModel",
      "state": {}
     },
     "543ddc204e874cf7aff5c0b079490505": {
      "model_module": "@jupyter-widgets/controls",
      "model_module_version": "1.5.0",
      "model_name": "VBoxModel",
      "state": {
       "children": [
        "IPY_MODEL_b78c00815a89419f9647b1020e521182",
        "IPY_MODEL_342f107502874675a2a1e8293542e0ec"
       ],
       "layout": "IPY_MODEL_817cc9aa943a4515afb92d0e0a46b3b5"
      }
     },
     "54426844a60841928476fedb0731da06": {
      "model_module": "@jupyter-widgets/controls",
      "model_module_version": "1.5.0",
      "model_name": "ButtonModel",
      "state": {
       "description": "9",
       "layout": "IPY_MODEL_b27d2099921248b6bb449b4e37f98921",
       "style": "IPY_MODEL_9b98f2a4a1bd49f98e34cf47b4d05e31"
      }
     },
     "5443da4b14934e9b972bc6a53d61cc85": {
      "model_module": "@jupyter-widgets/controls",
      "model_module_version": "1.5.0",
      "model_name": "ButtonStyleModel",
      "state": {}
     },
     "5452c13ff58f4cfa84540b1722341095": {
      "model_module": "@jupyter-widgets/base",
      "model_module_version": "1.2.0",
      "model_name": "LayoutModel",
      "state": {
       "width": "95%"
      }
     },
     "54803da54eeb4624b2d3a3ec7e6ce468": {
      "model_module": "@jupyter-widgets/base",
      "model_module_version": "1.2.0",
      "model_name": "LayoutModel",
      "state": {
       "width": "95%"
      }
     },
     "54ac6ea290e34ee786911873c3e75387": {
      "model_module": "@jupyter-widgets/base",
      "model_module_version": "1.2.0",
      "model_name": "LayoutModel",
      "state": {}
     },
     "54c231326b3f439fa3485f86222c5166": {
      "model_module": "@jupyter-widgets/output",
      "model_module_version": "1.0.0",
      "model_name": "OutputModel",
      "state": {
       "layout": "IPY_MODEL_6fc86413c6dd412c9ff7e9c905519376"
      }
     },
     "54f7010a7a4d45a79e7e7c0ed9b84213": {
      "model_module": "@jupyter-widgets/controls",
      "model_module_version": "1.5.0",
      "model_name": "VBoxModel",
      "state": {
       "children": [
        "IPY_MODEL_76abc75967144defa91c919db2627426",
        "IPY_MODEL_15d388e8f5fa41019936c84d6cbc9935"
       ],
       "layout": "IPY_MODEL_efa66e7129574a3e93dda7f035a657c3"
      }
     },
     "551a555e51074a61a05747f865fc07ea": {
      "model_module": "@jupyter-widgets/controls",
      "model_module_version": "1.5.0",
      "model_name": "VBoxModel",
      "state": {
       "children": [
        "IPY_MODEL_e81f6f732d25417ead7f6f601cbcd97c",
        "IPY_MODEL_06dea3ff91034a3192b25f7fb18a10a8"
       ],
       "layout": "IPY_MODEL_08280f221ca447e99fe8152253484d22"
      }
     },
     "55493344c6fb4a5d895e960df5813abd": {
      "model_module": "@jupyter-widgets/base",
      "model_module_version": "1.2.0",
      "model_name": "LayoutModel",
      "state": {
       "width": "10%"
      }
     },
     "5556f0a2745141bf9655e2b89af53a8c": {
      "model_module": "@jupyter-widgets/output",
      "model_module_version": "1.0.0",
      "model_name": "OutputModel",
      "state": {
       "layout": "IPY_MODEL_e46474aec1c143029df0e194e81e35ef"
      }
     },
     "556fb34ad7504c59ac77d02b2a245caf": {
      "model_module": "@jupyter-widgets/controls",
      "model_module_version": "1.5.0",
      "model_name": "VBoxModel",
      "state": {
       "children": [
        "IPY_MODEL_8c0ec80652c44d92af5514d932cbc6b4",
        "IPY_MODEL_31363cee17f345209d4fa88df265db91"
       ],
       "layout": "IPY_MODEL_05ea0f2964424bec91bf597327c4376d"
      }
     },
     "559b6eda011d4d4f8a81eef645733d31": {
      "model_module": "@jupyter-widgets/base",
      "model_module_version": "1.2.0",
      "model_name": "LayoutModel",
      "state": {
       "width": "95%"
      }
     },
     "55c794ecf73840268da7ce7c78a6a96b": {
      "model_module": "@jupyter-widgets/base",
      "model_module_version": "1.2.0",
      "model_name": "LayoutModel",
      "state": {
       "width": "95%"
      }
     },
     "55f10767404847daa578e67c20bcab19": {
      "model_module": "@jupyter-widgets/controls",
      "model_module_version": "1.5.0",
      "model_name": "VBoxModel",
      "state": {
       "children": [
        "IPY_MODEL_96d10dd4a843411a83d2a2673e4512a4",
        "IPY_MODEL_2b2af44ff413491e9c60021c5cc92c06"
       ],
       "layout": "IPY_MODEL_4677834d0bfa4834b5062259e16695fe"
      }
     },
     "561c4257b3374350a0ca2f1fbf716572": {
      "model_module": "@jupyter-widgets/base",
      "model_module_version": "1.2.0",
      "model_name": "LayoutModel",
      "state": {
       "width": "95%"
      }
     },
     "5632f7a69cd74b8e80eb5989f984fd3d": {
      "model_module": "@jupyter-widgets/controls",
      "model_module_version": "1.5.0",
      "model_name": "ButtonModel",
      "state": {
       "description": "5",
       "layout": "IPY_MODEL_94517628c57d4a3397a73ea96e88c503",
       "style": "IPY_MODEL_62b88e7d061041229291aaa418257012"
      }
     },
     "565ae469cb234602a077e82e4a6e7e86": {
      "model_module": "@jupyter-widgets/controls",
      "model_module_version": "1.5.0",
      "model_name": "VBoxModel",
      "state": {
       "children": [
        "IPY_MODEL_aa9c98138f8e435bae57a23ed149dda7",
        "IPY_MODEL_b2243f9f607346439f3223ee9fb12c57"
       ],
       "layout": "IPY_MODEL_760f0403d8034d9cacc6bbe537d88055"
      }
     },
     "565dc5397c354ebd8181d3886a6c5de6": {
      "model_module": "@jupyter-widgets/base",
      "model_module_version": "1.2.0",
      "model_name": "LayoutModel",
      "state": {}
     },
     "566262dcb9584ab0980d8c1b50285a45": {
      "model_module": "@jupyter-widgets/base",
      "model_module_version": "1.2.0",
      "model_name": "LayoutModel",
      "state": {}
     },
     "5673f243848c41639e29c3f787eaaf80": {
      "model_module": "@jupyter-widgets/base",
      "model_module_version": "1.2.0",
      "model_name": "LayoutModel",
      "state": {}
     },
     "5695610720284a3b9577dee648028066": {
      "model_module": "@jupyter-widgets/base",
      "model_module_version": "1.2.0",
      "model_name": "LayoutModel",
      "state": {
       "width": "95%"
      }
     },
     "56966ea321f041f3839124bfc4c86f9d": {
      "model_module": "@jupyter-widgets/base",
      "model_module_version": "1.2.0",
      "model_name": "LayoutModel",
      "state": {}
     },
     "56c54855cb0f4f6ea738527966cf5b5b": {
      "model_module": "@jupyter-widgets/output",
      "model_module_version": "1.0.0",
      "model_name": "OutputModel",
      "state": {
       "layout": "IPY_MODEL_2c4ce09c9a9741ae8cbd6fe87d43be34"
      }
     },
     "56c902b0aca4492c8085584896c6a203": {
      "model_module": "@jupyter-widgets/controls",
      "model_module_version": "1.5.0",
      "model_name": "ButtonModel",
      "state": {
       "description": "1",
       "layout": "IPY_MODEL_9015ec52c39c4c44b736194e22e39142",
       "style": "IPY_MODEL_7127adcd9d0342fbb536a618becf68fa"
      }
     },
     "56ca1557f7244b219275bee800522442": {
      "model_module": "@jupyter-widgets/base",
      "model_module_version": "1.2.0",
      "model_name": "LayoutModel",
      "state": {}
     },
     "56e571d15232455a8d8f5b4bebecb9cc": {
      "model_module": "@jupyter-widgets/base",
      "model_module_version": "1.2.0",
      "model_name": "LayoutModel",
      "state": {
       "width": "10%"
      }
     },
     "57045e8004d44ced81836761b4fe639a": {
      "model_module": "@jupyter-widgets/controls",
      "model_module_version": "1.5.0",
      "model_name": "ButtonModel",
      "state": {
       "description": "3",
       "layout": "IPY_MODEL_8f8028b7f79848aaae9d2a4c5863fd6c",
       "style": "IPY_MODEL_f75bea4648ae4928a2ac2017c487277c"
      }
     },
     "5709e4f70a524fe4b0b491aaf660d3bc": {
      "model_module": "@jupyter-widgets/controls",
      "model_module_version": "1.5.0",
      "model_name": "ButtonModel",
      "state": {
       "description": "1",
       "layout": "IPY_MODEL_f51cfc4b61da4d7f8f4d7e4b463a5c32",
       "style": "IPY_MODEL_1a8414f6eeae4e5a9dcb2b044f5507e1"
      }
     },
     "57478198bd65486ba2fffd3c6ff95f67": {
      "model_module": "@jupyter-widgets/base",
      "model_module_version": "1.2.0",
      "model_name": "LayoutModel",
      "state": {}
     },
     "5754ecfb3f9f4950a846e8bbea5c370d": {
      "model_module": "@jupyter-widgets/base",
      "model_module_version": "1.2.0",
      "model_name": "LayoutModel",
      "state": {
       "width": "10%"
      }
     },
     "575fc05ca06a4f5b9cdfeddd0a5ac0bb": {
      "model_module": "@jupyter-widgets/controls",
      "model_module_version": "1.5.0",
      "model_name": "ButtonModel",
      "state": {
       "description": "6",
       "layout": "IPY_MODEL_d8d1ceb9eec44d998eaa368034b4568d",
       "style": "IPY_MODEL_93ad9d6b934d44869d3eebda8e01181a"
      }
     },
     "5778bde092fb4538af9fecf9b36d32ab": {
      "model_module": "@jupyter-widgets/base",
      "model_module_version": "1.2.0",
      "model_name": "LayoutModel",
      "state": {}
     },
     "57c470c292014c9e88bb5e0c0f9271bf": {
      "model_module": "@jupyter-widgets/base",
      "model_module_version": "1.2.0",
      "model_name": "LayoutModel",
      "state": {}
     },
     "57ca5fa6e2904697a4c2a194fd5a5777": {
      "model_module": "@jupyter-widgets/output",
      "model_module_version": "1.0.0",
      "model_name": "OutputModel",
      "state": {
       "layout": "IPY_MODEL_594ef36c068f42cfb2b20d6a879a6644"
      }
     },
     "57da64f06b744fdcbec28c92c39df4ed": {
      "model_module": "@jupyter-widgets/output",
      "model_module_version": "1.0.0",
      "model_name": "OutputModel",
      "state": {
       "layout": "IPY_MODEL_9f634ca5ddbe40b4be936edc6bbd8fb7"
      }
     },
     "57dc960aa5a1437d83324f1ea28a957c": {
      "model_module": "@jupyter-widgets/output",
      "model_module_version": "1.0.0",
      "model_name": "OutputModel",
      "state": {
       "layout": "IPY_MODEL_5d6b5467619a4130b80b1b93d4c9848a"
      }
     },
     "58059ad4e26749ed93bd0b7b35f7059b": {
      "model_module": "@jupyter-widgets/controls",
      "model_module_version": "1.5.0",
      "model_name": "ButtonModel",
      "state": {
       "description": "3",
       "layout": "IPY_MODEL_85a822fc4c894fdd84219f4442d15a2d",
       "style": "IPY_MODEL_7edd97d90eec4a8b8d81ee1ef67eaafb"
      }
     },
     "5830be61ebde4781b1680ea74dc9da39": {
      "model_module": "@jupyter-widgets/controls",
      "model_module_version": "1.5.0",
      "model_name": "HBoxModel",
      "state": {
       "children": [
        "IPY_MODEL_df5a9cc695624f47b3859baa82300223",
        "IPY_MODEL_44dd6606804b440bad5eb08dc390aa13",
        "IPY_MODEL_fa62429129554d678fee5737cecc49df",
        "IPY_MODEL_197cc8bbd5eb40b1850f8fb41097184d",
        "IPY_MODEL_6ef2e20c93eb476e90d9d5101cbe10c1",
        "IPY_MODEL_2bcaac7f14a746a18e800cbdf4e7742a",
        "IPY_MODEL_ee2cceeae05841908a7631d7c6a05c27",
        "IPY_MODEL_4df86a253d2c4f208de123f8c430b575",
        "IPY_MODEL_229b8f4f90884ff594581e077683eff9",
        "IPY_MODEL_89d31f13abf24827b9613d7c578d3f81"
       ],
       "layout": "IPY_MODEL_539ef2e6cbb6437895f7007dcc1504b3"
      }
     },
     "58568aaba7794d8abf50dbf9f278a6a6": {
      "model_module": "@jupyter-widgets/controls",
      "model_module_version": "1.5.0",
      "model_name": "ButtonStyleModel",
      "state": {}
     },
     "5863cddf88904e02b68d541c24bef3b1": {
      "model_module": "@jupyter-widgets/base",
      "model_module_version": "1.2.0",
      "model_name": "LayoutModel",
      "state": {
       "width": "95%"
      }
     },
     "58642a103f1340c08f6ada449fd9514e": {
      "model_module": "@jupyter-widgets/base",
      "model_module_version": "1.2.0",
      "model_name": "LayoutModel",
      "state": {
       "width": "95%"
      }
     },
     "586910a54d9f48cfb5656f53ad0b5bfd": {
      "model_module": "@jupyter-widgets/controls",
      "model_module_version": "1.5.0",
      "model_name": "DescriptionStyleModel",
      "state": {
       "description_width": ""
      }
     },
     "58867c2230034de0911288ad5128d43b": {
      "model_module": "@jupyter-widgets/controls",
      "model_module_version": "1.5.0",
      "model_name": "VBoxModel",
      "state": {
       "children": [
        "IPY_MODEL_fe845f5806d14190bf88375a9a272c6c",
        "IPY_MODEL_0e6ea80eb0284e679162eaabca2e54b0"
       ],
       "layout": "IPY_MODEL_98209425ebee4ab5a9c6234b47418f85"
      }
     },
     "58a44c15f8e1462eb57657a0f1c0ef2f": {
      "model_module": "@jupyter-widgets/base",
      "model_module_version": "1.2.0",
      "model_name": "LayoutModel",
      "state": {
       "width": "10%"
      }
     },
     "58a86d9722be405091056fdddd03e254": {
      "model_module": "@jupyter-widgets/base",
      "model_module_version": "1.2.0",
      "model_name": "LayoutModel",
      "state": {
       "justify_content": "space-between"
      }
     },
     "58eb8f0e45aa4bfdabf51831a37b2d0e": {
      "model_module": "@jupyter-widgets/base",
      "model_module_version": "1.2.0",
      "model_name": "LayoutModel",
      "state": {
       "width": "10%"
      }
     },
     "5904e05de88f470cb23d1798a066f5ef": {
      "model_module": "@jupyter-widgets/controls",
      "model_module_version": "1.5.0",
      "model_name": "VBoxModel",
      "state": {
       "children": [
        "IPY_MODEL_babceadd9609435cb19c02a2c5ebd694",
        "IPY_MODEL_f7ca6858af924363892d85b953536c54"
       ],
       "layout": "IPY_MODEL_90a721b85afb4803999ccbe7f8cbfd71"
      }
     },
     "5925b510ae6a448a9154650d09fd6dd7": {
      "model_module": "@jupyter-widgets/base",
      "model_module_version": "1.2.0",
      "model_name": "LayoutModel",
      "state": {}
     },
     "594ef36c068f42cfb2b20d6a879a6644": {
      "model_module": "@jupyter-widgets/base",
      "model_module_version": "1.2.0",
      "model_name": "LayoutModel",
      "state": {}
     },
     "59657ab0c5404a9bb52504a92122d3a4": {
      "model_module": "@jupyter-widgets/base",
      "model_module_version": "1.2.0",
      "model_name": "LayoutModel",
      "state": {}
     },
     "5985d0f8b6d54fb99e04ee3c7bade304": {
      "model_module": "@jupyter-widgets/base",
      "model_module_version": "1.2.0",
      "model_name": "LayoutModel",
      "state": {}
     },
     "59889b46a00241c09c978fadf03c2101": {
      "model_module": "@jupyter-widgets/controls",
      "model_module_version": "1.5.0",
      "model_name": "HBoxModel",
      "state": {
       "children": [
        "IPY_MODEL_43856eaedf3a4192b99a350448657f34",
        "IPY_MODEL_de43785fada348e59c4988a414083710"
       ],
       "layout": "IPY_MODEL_221c19aef92c40f69bd562a626111561"
      }
     },
     "598db3331b3344a09f4a146c92e890ea": {
      "model_module": "@jupyter-widgets/controls",
      "model_module_version": "1.5.0",
      "model_name": "ButtonModel",
      "state": {
       "description": "0",
       "layout": "IPY_MODEL_dfc236db4c8b4bda9748026356b537c4",
       "style": "IPY_MODEL_1aebaaa947244a20bf3c02373b380427"
      }
     },
     "598f042056664425bdaeec1c06c90bc6": {
      "model_module": "@jupyter-widgets/controls",
      "model_module_version": "1.5.0",
      "model_name": "DescriptionStyleModel",
      "state": {
       "description_width": ""
      }
     },
     "599596b2dc474e60bde99db757c61e4a": {
      "model_module": "@jupyter-widgets/controls",
      "model_module_version": "1.5.0",
      "model_name": "TextModel",
      "state": {
       "description": "Other:",
       "layout": "IPY_MODEL_824f6ece96ae4014991d5d4894e7a1e6",
       "placeholder": "Hit enter to submit.",
       "style": "IPY_MODEL_aae8943a87ec427b8aa45b1f34b14291"
      }
     },
     "599cce554af144ddac6bafa5cd1dd6fd": {
      "model_module": "@jupyter-widgets/base",
      "model_module_version": "1.2.0",
      "model_name": "LayoutModel",
      "state": {
       "width": "10%"
      }
     },
     "59a6c4613c0b46f98d861624cd4743e5": {
      "model_module": "@jupyter-widgets/base",
      "model_module_version": "1.2.0",
      "model_name": "LayoutModel",
      "state": {
       "width": "95%"
      }
     },
     "59be708bdd91408f90b09c55be167f42": {
      "model_module": "@jupyter-widgets/controls",
      "model_module_version": "1.5.0",
      "model_name": "DescriptionStyleModel",
      "state": {
       "description_width": ""
      }
     },
     "59ca203981ae48c28f385fc67e9b74ca": {
      "model_module": "@jupyter-widgets/controls",
      "model_module_version": "1.5.0",
      "model_name": "ButtonStyleModel",
      "state": {}
     },
     "59d20251d7304485af8c93ecbddd07a9": {
      "model_module": "@jupyter-widgets/base",
      "model_module_version": "1.2.0",
      "model_name": "LayoutModel",
      "state": {
       "width": "10%"
      }
     },
     "59d2ee435ebb443eb857d5cedd704413": {
      "model_module": "@jupyter-widgets/base",
      "model_module_version": "1.2.0",
      "model_name": "LayoutModel",
      "state": {
       "width": "10%"
      }
     },
     "59d4d590d7b746d1aed7ace9df9f39d6": {
      "model_module": "@jupyter-widgets/controls",
      "model_module_version": "1.5.0",
      "model_name": "ButtonStyleModel",
      "state": {}
     },
     "5a0b1cce691a4e278be4296e536cda2b": {
      "model_module": "@jupyter-widgets/controls",
      "model_module_version": "1.5.0",
      "model_name": "ButtonStyleModel",
      "state": {}
     },
     "5a169b85bf334f4891683fcfe82fddc8": {
      "model_module": "@jupyter-widgets/base",
      "model_module_version": "1.2.0",
      "model_name": "LayoutModel",
      "state": {}
     },
     "5a3a7c4e48ac45e4bad9b27258a93a7d": {
      "model_module": "@jupyter-widgets/base",
      "model_module_version": "1.2.0",
      "model_name": "LayoutModel",
      "state": {
       "width": "95%"
      }
     },
     "5a713cbf8c824d8681acac307c94c3af": {
      "model_module": "@jupyter-widgets/base",
      "model_module_version": "1.2.0",
      "model_name": "LayoutModel",
      "state": {
       "width": "95%"
      }
     },
     "5a79cf2f8d0041bdb856f5cd2f404ec3": {
      "model_module": "@jupyter-widgets/base",
      "model_module_version": "1.2.0",
      "model_name": "LayoutModel",
      "state": {}
     },
     "5ab8f5d066b74b5ba5c15ddd3824fd55": {
      "model_module": "@jupyter-widgets/controls",
      "model_module_version": "1.5.0",
      "model_name": "ButtonStyleModel",
      "state": {}
     },
     "5b03b040ff83470194a4addbf37ff0c5": {
      "model_module": "@jupyter-widgets/output",
      "model_module_version": "1.0.0",
      "model_name": "OutputModel",
      "state": {
       "layout": "IPY_MODEL_8dc08b50b90743db9e62e7de8d9e8323"
      }
     },
     "5b0d11a904e64107a6f548488dbfd98f": {
      "model_module": "@jupyter-widgets/output",
      "model_module_version": "1.0.0",
      "model_name": "OutputModel",
      "state": {
       "layout": "IPY_MODEL_0bb4aeb022f14ead8c6b8da66a0c951b"
      }
     },
     "5b25493dd017431f937aa86644976d25": {
      "model_module": "@jupyter-widgets/controls",
      "model_module_version": "1.5.0",
      "model_name": "HBoxModel",
      "state": {
       "children": [
        "IPY_MODEL_4b0a9b2e406d488a88dae073ed6937d2",
        "IPY_MODEL_f0c68a229ae2478ab0830337314ffd37"
       ],
       "layout": "IPY_MODEL_c4227ba428ef4d6096a94f5b8eacf9c5"
      }
     },
     "5b38ff5d9bf446c68920860174acc83e": {
      "model_module": "@jupyter-widgets/base",
      "model_module_version": "1.2.0",
      "model_name": "LayoutModel",
      "state": {
       "width": "10%"
      }
     },
     "5b399da1ad024f299f72b39453532d3f": {
      "model_module": "@jupyter-widgets/output",
      "model_module_version": "1.0.0",
      "model_name": "OutputModel",
      "state": {
       "layout": "IPY_MODEL_1c0a1ea215374629b5a7c724608bf710"
      }
     },
     "5b3a73ea181d42e7a7a336882178c7a5": {
      "model_module": "@jupyter-widgets/controls",
      "model_module_version": "1.5.0",
      "model_name": "ButtonModel",
      "state": {
       "description": "8",
       "layout": "IPY_MODEL_9f17181ac9f246b48567dc127d68fc31",
       "style": "IPY_MODEL_5fe392d3a95245a98ce16498793b22c1"
      }
     },
     "5b3d0a00ae854356a1f4dde1927d64ff": {
      "model_module": "@jupyter-widgets/output",
      "model_module_version": "1.0.0",
      "model_name": "OutputModel",
      "state": {
       "layout": "IPY_MODEL_12e1dfd43d014ba0ad57c3eaaf7a40b8"
      }
     },
     "5ba02d0153e5413992a33356328ae55e": {
      "model_module": "@jupyter-widgets/controls",
      "model_module_version": "1.5.0",
      "model_name": "VBoxModel",
      "state": {
       "children": [
        "IPY_MODEL_a3d3f99a7a874f7183dd676c984e7224",
        "IPY_MODEL_fc63be2a1d854eceb1a711089e8aed00"
       ],
       "layout": "IPY_MODEL_d909cef8bd3d4be8871e82d0cd702762"
      }
     },
     "5ba7cb7d0ab94ea9b5bac0080dc8b1f6": {
      "model_module": "@jupyter-widgets/controls",
      "model_module_version": "1.5.0",
      "model_name": "ButtonModel",
      "state": {
       "description": "1",
       "layout": "IPY_MODEL_c9c06fceda3344f78aceda3a65bf4dbc",
       "style": "IPY_MODEL_0245206af89747a1bf5c1cb2d8a8a441"
      }
     },
     "5bb4941c80df48298fe86e87c9a98948": {
      "model_module": "@jupyter-widgets/base",
      "model_module_version": "1.2.0",
      "model_name": "LayoutModel",
      "state": {
       "justify_content": "space-between"
      }
     },
     "5bdd8715737c4906bbd4f272d4f86dfb": {
      "model_module": "@jupyter-widgets/base",
      "model_module_version": "1.2.0",
      "model_name": "LayoutModel",
      "state": {}
     },
     "5be8067dd7324f2fab3b4116bde67f60": {
      "model_module": "@jupyter-widgets/base",
      "model_module_version": "1.2.0",
      "model_name": "LayoutModel",
      "state": {}
     },
     "5c110147db0e467bb1f7ef93ebe1cc4c": {
      "model_module": "@jupyter-widgets/base",
      "model_module_version": "1.2.0",
      "model_name": "LayoutModel",
      "state": {
       "width": "10%"
      }
     },
     "5c112133c43c43f4a70804011d214182": {
      "model_module": "@jupyter-widgets/base",
      "model_module_version": "1.2.0",
      "model_name": "LayoutModel",
      "state": {
       "width": "95%"
      }
     },
     "5c26a600167e4d51a9110ebb4c0f8196": {
      "model_module": "@jupyter-widgets/controls",
      "model_module_version": "1.5.0",
      "model_name": "ButtonModel",
      "state": {
       "description": "6",
       "layout": "IPY_MODEL_5695610720284a3b9577dee648028066",
       "style": "IPY_MODEL_a2e5ca3f094b418a941c1240d097f787"
      }
     },
     "5c34a9a8cb3941589727c8bdd4fe7e05": {
      "model_module": "@jupyter-widgets/controls",
      "model_module_version": "1.5.0",
      "model_name": "ButtonStyleModel",
      "state": {}
     },
     "5c7adc4efe87434ea96cf0ab40ee8168": {
      "model_module": "@jupyter-widgets/controls",
      "model_module_version": "1.5.0",
      "model_name": "VBoxModel",
      "state": {
       "children": [
        "IPY_MODEL_bb3d4bb5c8a64afe821a5117bec0ae80",
        "IPY_MODEL_b79f357190bf4eb88df834f6df35da06"
       ],
       "layout": "IPY_MODEL_fb1cad4d4f2c452990a0f9efeaba380a"
      }
     },
     "5cd27bdfadd041b6ad9a0495590a45c2": {
      "model_module": "@jupyter-widgets/base",
      "model_module_version": "1.2.0",
      "model_name": "LayoutModel",
      "state": {
       "width": "95%"
      }
     },
     "5cef3624b0924ae5ac3adbbd17a81c7f": {
      "model_module": "@jupyter-widgets/base",
      "model_module_version": "1.2.0",
      "model_name": "LayoutModel",
      "state": {
       "width": "95%"
      }
     },
     "5cfd764ee1d94f65a8f74000dc861cd3": {
      "model_module": "@jupyter-widgets/controls",
      "model_module_version": "1.5.0",
      "model_name": "ButtonStyleModel",
      "state": {}
     },
     "5d225c3303424726a8687b41adffdac8": {
      "model_module": "@jupyter-widgets/base",
      "model_module_version": "1.2.0",
      "model_name": "LayoutModel",
      "state": {
       "width": "95%"
      }
     },
     "5d2f0a6245654eb0a184100988b7e6d6": {
      "model_module": "@jupyter-widgets/base",
      "model_module_version": "1.2.0",
      "model_name": "LayoutModel",
      "state": {}
     },
     "5d5b8443a0584c12813a2acc879122c9": {
      "model_module": "@jupyter-widgets/controls",
      "model_module_version": "1.5.0",
      "model_name": "TextModel",
      "state": {
       "description": "Other:",
       "layout": "IPY_MODEL_dceb4ce3256c442684b2e895bff42faa",
       "placeholder": "Hit enter to submit.",
       "style": "IPY_MODEL_8143fd028a7b4e8f87fe2a6b991126a3"
      }
     },
     "5d6b5467619a4130b80b1b93d4c9848a": {
      "model_module": "@jupyter-widgets/base",
      "model_module_version": "1.2.0",
      "model_name": "LayoutModel",
      "state": {}
     },
     "5d9f331d569b433a9a19aa1d3e9a61cb": {
      "model_module": "@jupyter-widgets/base",
      "model_module_version": "1.2.0",
      "model_name": "LayoutModel",
      "state": {}
     },
     "5db269eefa524636a3c8bfe84a1646f6": {
      "model_module": "@jupyter-widgets/base",
      "model_module_version": "1.2.0",
      "model_name": "LayoutModel",
      "state": {
       "width": "10%"
      }
     },
     "5dbad5254d1d47ce8a8e094a278d38a8": {
      "model_module": "@jupyter-widgets/controls",
      "model_module_version": "1.5.0",
      "model_name": "ButtonModel",
      "state": {
       "description": "8",
       "layout": "IPY_MODEL_439723df59cf49ee850f7854d8a5ed4d",
       "style": "IPY_MODEL_5c34a9a8cb3941589727c8bdd4fe7e05"
      }
     },
     "5dc940ebf9dc4fc694e8b702cadc4c3b": {
      "model_module": "@jupyter-widgets/base",
      "model_module_version": "1.2.0",
      "model_name": "LayoutModel",
      "state": {
       "width": "95%"
      }
     },
     "5dd53e1ad7c9481782a15b5857df9a5f": {
      "model_module": "@jupyter-widgets/base",
      "model_module_version": "1.2.0",
      "model_name": "LayoutModel",
      "state": {
       "width": "10%"
      }
     },
     "5ddc6eb7408946a9a25733467472c7d3": {
      "model_module": "@jupyter-widgets/base",
      "model_module_version": "1.2.0",
      "model_name": "LayoutModel",
      "state": {}
     },
     "5dde16ca6dae43ddbd0ded4f5124f938": {
      "model_module": "@jupyter-widgets/controls",
      "model_module_version": "1.5.0",
      "model_name": "VBoxModel",
      "state": {
       "children": [
        "IPY_MODEL_27fff4ddecd84b2b98f5eb5d6fa1664a",
        "IPY_MODEL_fb447d291a9942598d5dd65fd6020075"
       ],
       "layout": "IPY_MODEL_22623047e4b64334b4fd5284f2237c97"
      }
     },
     "5de356500ae8438d85b297f8366c682a": {
      "model_module": "@jupyter-widgets/output",
      "model_module_version": "1.0.0",
      "model_name": "OutputModel",
      "state": {
       "layout": "IPY_MODEL_c5fecb9a63a642f99ee7dddcccd41eab"
      }
     },
     "5df78af8553d4018852c6b33fb3a1612": {
      "model_module": "@jupyter-widgets/base",
      "model_module_version": "1.2.0",
      "model_name": "LayoutModel",
      "state": {
       "width": "95%"
      }
     },
     "5e12e45f3a17442992069806ecc4faf7": {
      "model_module": "@jupyter-widgets/base",
      "model_module_version": "1.2.0",
      "model_name": "LayoutModel",
      "state": {}
     },
     "5e38cb313e28468bb1ae306f40a27287": {
      "model_module": "@jupyter-widgets/controls",
      "model_module_version": "1.5.0",
      "model_name": "ButtonModel",
      "state": {
       "description": "8",
       "layout": "IPY_MODEL_6948839ba946486f9c67f43f4c6e3066",
       "style": "IPY_MODEL_44bbb883eae04a8ca8ace929c2abc5db"
      }
     },
     "5e46ccbc62b044878a0b441cae84cbc0": {
      "model_module": "@jupyter-widgets/base",
      "model_module_version": "1.2.0",
      "model_name": "LayoutModel",
      "state": {}
     },
     "5e66af2eaa8b4bd781a11cabec6efdb5": {
      "model_module": "@jupyter-widgets/controls",
      "model_module_version": "1.5.0",
      "model_name": "VBoxModel",
      "state": {
       "children": [
        "IPY_MODEL_52a8d53b22d74797b7419d6a9d5003aa",
        "IPY_MODEL_1b16daa0d6a34f86a2776fbc0e9a370b"
       ],
       "layout": "IPY_MODEL_6bec6070453d456ca6e655aa0631c643"
      }
     },
     "5e6f35935d6d40f3b883e8a3a7e57a55": {
      "model_module": "@jupyter-widgets/output",
      "model_module_version": "1.0.0",
      "model_name": "OutputModel",
      "state": {
       "layout": "IPY_MODEL_b39c407aa7be4e2199cf6f1fa2c9fad4"
      }
     },
     "5e82e223d8b548c8acf3ab1f0f6ac601": {
      "model_module": "@jupyter-widgets/base",
      "model_module_version": "1.2.0",
      "model_name": "LayoutModel",
      "state": {
       "width": "95%"
      }
     },
     "5e8dbd87fd5d437ebcad28422a2eb72f": {
      "model_module": "@jupyter-widgets/controls",
      "model_module_version": "1.5.0",
      "model_name": "ButtonStyleModel",
      "state": {}
     },
     "5ec6ed8ed0f145d4908d720475e60868": {
      "model_module": "@jupyter-widgets/base",
      "model_module_version": "1.2.0",
      "model_name": "LayoutModel",
      "state": {}
     },
     "5ee14a3311074d63a609d74d55039b09": {
      "model_module": "@jupyter-widgets/controls",
      "model_module_version": "1.5.0",
      "model_name": "ButtonModel",
      "state": {
       "description": "5",
       "layout": "IPY_MODEL_4f56a6a598824634ac0066f1388cb468",
       "style": "IPY_MODEL_44f998ade3924f16a9ec5c3be5e648af"
      }
     },
     "5ef6d08c73274e939f08f9a08b2c38f5": {
      "model_module": "@jupyter-widgets/controls",
      "model_module_version": "1.5.0",
      "model_name": "ButtonModel",
      "state": {
       "description": "9",
       "layout": "IPY_MODEL_106d496164c94c0b937c45e80cb633da",
       "style": "IPY_MODEL_9a82ef5b481947e0bdeceb34677b0117"
      }
     },
     "5f3f05dfa8384ae3b4b261ab8eb9c714": {
      "model_module": "@jupyter-widgets/base",
      "model_module_version": "1.2.0",
      "model_name": "LayoutModel",
      "state": {}
     },
     "5f47a8af843249a89a1862ce952bfc2d": {
      "model_module": "@jupyter-widgets/controls",
      "model_module_version": "1.5.0",
      "model_name": "VBoxModel",
      "state": {
       "children": [
        "IPY_MODEL_80acccb344ab43959cf12949a550479a",
        "IPY_MODEL_56c54855cb0f4f6ea738527966cf5b5b"
       ],
       "layout": "IPY_MODEL_3caf080e92a74ac888741de2fa09ed8a"
      }
     },
     "5f51b1fcb70840d99374aff27ea83170": {
      "model_module": "@jupyter-widgets/output",
      "model_module_version": "1.0.0",
      "model_name": "OutputModel",
      "state": {
       "layout": "IPY_MODEL_a3c8e65a5d8a46889933e11a09637074"
      }
     },
     "5f52f799834d4f1a81255868d27849ba": {
      "model_module": "@jupyter-widgets/base",
      "model_module_version": "1.2.0",
      "model_name": "LayoutModel",
      "state": {
       "width": "10%"
      }
     },
     "5f54bc0b1f5849ecab7c1aa3ea56dca8": {
      "model_module": "@jupyter-widgets/controls",
      "model_module_version": "1.5.0",
      "model_name": "VBoxModel",
      "state": {
       "children": [
        "IPY_MODEL_58059ad4e26749ed93bd0b7b35f7059b",
        "IPY_MODEL_4d777b600d5545feb78032e8690ff5e3"
       ],
       "layout": "IPY_MODEL_4fde07e980954e3eb6d5ef52f1aa987f"
      }
     },
     "5f5e9d842ffd448ea24f7ea853998167": {
      "model_module": "@jupyter-widgets/controls",
      "model_module_version": "1.5.0",
      "model_name": "ButtonStyleModel",
      "state": {}
     },
     "5f6a9b6cd8fd4272a6a78ff1e468ca01": {
      "model_module": "@jupyter-widgets/controls",
      "model_module_version": "1.5.0",
      "model_name": "HBoxModel",
      "state": {
       "children": [
        "IPY_MODEL_ea515f6ab0fb4c8fa83df8e40b2a12b3",
        "IPY_MODEL_b5071a727cb4429ab5846a1b5e1e9269",
        "IPY_MODEL_0d1325c707c8443cadea347f7b556f0b"
       ],
       "layout": "IPY_MODEL_3e1dd5fab9d94325bcc12b8d275ec882"
      }
     },
     "5f7aabae6abd43dd818cdae08ad8abb2": {
      "model_module": "@jupyter-widgets/base",
      "model_module_version": "1.2.0",
      "model_name": "LayoutModel",
      "state": {}
     },
     "5f82c3a448cf4e53978eabef37347ec0": {
      "model_module": "@jupyter-widgets/output",
      "model_module_version": "1.0.0",
      "model_name": "OutputModel",
      "state": {
       "layout": "IPY_MODEL_42520405648749ceb5f35c1d0e1d62ed"
      }
     },
     "5f9a06af2f714ce7ad3418eeb7917c4e": {
      "model_module": "@jupyter-widgets/controls",
      "model_module_version": "1.5.0",
      "model_name": "VBoxModel",
      "state": {
       "children": [
        "IPY_MODEL_50070047ba4741a88cc4f9b4caa8bf7f",
        "IPY_MODEL_109ae369224144a48abc84285c75e145"
       ],
       "layout": "IPY_MODEL_5c110147db0e467bb1f7ef93ebe1cc4c"
      }
     },
     "5fa0c23264524b4a915fb18ea0f973a0": {
      "model_module": "@jupyter-widgets/controls",
      "model_module_version": "1.5.0",
      "model_name": "ButtonStyleModel",
      "state": {}
     },
     "5fa1eb9386f346e7afb733f76677855e": {
      "model_module": "@jupyter-widgets/base",
      "model_module_version": "1.2.0",
      "model_name": "LayoutModel",
      "state": {
       "width": "10%"
      }
     },
     "5fb470e388424973a8519ba181fda6ce": {
      "model_module": "@jupyter-widgets/base",
      "model_module_version": "1.2.0",
      "model_name": "LayoutModel",
      "state": {
       "width": "10%"
      }
     },
     "5fba867006bd44178ab31f100b2321c8": {
      "model_module": "@jupyter-widgets/controls",
      "model_module_version": "1.5.0",
      "model_name": "VBoxModel",
      "state": {
       "children": [
        "IPY_MODEL_f20d9be922334f03a50ae6fe63d402d0",
        "IPY_MODEL_539f7687aead4209941832aceffea2b3"
       ],
       "layout": "IPY_MODEL_caca9c1055dd42ef9526c531b547e779"
      }
     },
     "5fbc1081de074da185f4a34267f2e9cc": {
      "model_module": "@jupyter-widgets/controls",
      "model_module_version": "1.5.0",
      "model_name": "ButtonModel",
      "state": {
       "description": "4",
       "layout": "IPY_MODEL_1e7e7d6cb34c456f8d15217a18d05d4e",
       "style": "IPY_MODEL_b4ff44458d0e4488ae184c9684afd2ba"
      }
     },
     "5fc71c540ebb4fbb84a4ca82312c9057": {
      "model_module": "@jupyter-widgets/controls",
      "model_module_version": "1.5.0",
      "model_name": "ButtonStyleModel",
      "state": {}
     },
     "5fcf339413e9448bafc9edd059f10783": {
      "model_module": "@jupyter-widgets/base",
      "model_module_version": "1.2.0",
      "model_name": "LayoutModel",
      "state": {
       "width": "95%"
      }
     },
     "5fe392d3a95245a98ce16498793b22c1": {
      "model_module": "@jupyter-widgets/controls",
      "model_module_version": "1.5.0",
      "model_name": "ButtonStyleModel",
      "state": {}
     },
     "5fe5cef3975c44e9ae7dd83cc5df5b98": {
      "model_module": "@jupyter-widgets/base",
      "model_module_version": "1.2.0",
      "model_name": "LayoutModel",
      "state": {}
     },
     "5ff8e80f6f774dc5824ee9467500736d": {
      "model_module": "@jupyter-widgets/base",
      "model_module_version": "1.2.0",
      "model_name": "LayoutModel",
      "state": {}
     },
     "60228800c1c24036af93a794a027476d": {
      "model_module": "@jupyter-widgets/base",
      "model_module_version": "1.2.0",
      "model_name": "LayoutModel",
      "state": {
       "width": "95%"
      }
     },
     "606cd034e1384daebe6e054ad53f2284": {
      "model_module": "@jupyter-widgets/controls",
      "model_module_version": "1.5.0",
      "model_name": "ButtonModel",
      "state": {
       "description": "5",
       "layout": "IPY_MODEL_2d9fb1228b6d4996b0c0c2185cf350d7",
       "style": "IPY_MODEL_12ef1dace78b4cacb87c513aef0dd61b"
      }
     },
     "6071a02b162043a59dab36da76a0489f": {
      "model_module": "@jupyter-widgets/controls",
      "model_module_version": "1.5.0",
      "model_name": "VBoxModel",
      "state": {
       "children": [
        "IPY_MODEL_7efd7603650a401d906315c263532323",
        "IPY_MODEL_1efc8da286de44fb9f7ec700a275c52e"
       ],
       "layout": "IPY_MODEL_b87fea23e69d4feaaf27641766a5cd72"
      }
     },
     "60791ab158f943a4b1e5ac9b5ac8847f": {
      "model_module": "@jupyter-widgets/output",
      "model_module_version": "1.0.0",
      "model_name": "OutputModel",
      "state": {
       "layout": "IPY_MODEL_a615a4acdf5c477195167696e2a093b6"
      }
     },
     "608265f0c5c643d0a0a20471fe6cf8ae": {
      "model_module": "@jupyter-widgets/controls",
      "model_module_version": "1.5.0",
      "model_name": "ButtonStyleModel",
      "state": {}
     },
     "609e0003e17b463890cacae5e33f40c1": {
      "model_module": "@jupyter-widgets/base",
      "model_module_version": "1.2.0",
      "model_name": "LayoutModel",
      "state": {}
     },
     "60a7f4a800fa475fb0f50470354aca8a": {
      "model_module": "@jupyter-widgets/controls",
      "model_module_version": "1.5.0",
      "model_name": "ButtonStyleModel",
      "state": {}
     },
     "60b61aaacd624808bb796081f1ec2d87": {
      "model_module": "@jupyter-widgets/output",
      "model_module_version": "1.0.0",
      "model_name": "OutputModel",
      "state": {
       "layout": "IPY_MODEL_1f8e4973400b4543ad4cd9f4412c47ac"
      }
     },
     "60d11bd041d745ada1f08ba97be8f3e1": {
      "model_module": "@jupyter-widgets/controls",
      "model_module_version": "1.5.0",
      "model_name": "ButtonModel",
      "state": {
       "description": "7",
       "layout": "IPY_MODEL_e54d6dffe66246e882e25c5f95d95dbe",
       "style": "IPY_MODEL_ab32bc7cfa6f41448975e5048a9f763a"
      }
     },
     "60e13d20745a49e48b857a859f87423a": {
      "model_module": "@jupyter-widgets/base",
      "model_module_version": "1.2.0",
      "model_name": "LayoutModel",
      "state": {}
     },
     "60f5e6db458640bd9100cc96d38830ff": {
      "model_module": "@jupyter-widgets/output",
      "model_module_version": "1.0.0",
      "model_name": "OutputModel",
      "state": {
       "layout": "IPY_MODEL_c0e45c378f184e14ba4011dc4d277304"
      }
     },
     "611e3372bccd441f93e9692ae17e9e18": {
      "model_module": "@jupyter-widgets/base",
      "model_module_version": "1.2.0",
      "model_name": "LayoutModel",
      "state": {}
     },
     "612a4eb849944b7cae5b61a5652c2ee0": {
      "model_module": "@jupyter-widgets/base",
      "model_module_version": "1.2.0",
      "model_name": "LayoutModel",
      "state": {}
     },
     "61499c9bc9a749e38efbd4cee23be81b": {
      "model_module": "@jupyter-widgets/controls",
      "model_module_version": "1.5.0",
      "model_name": "ButtonModel",
      "state": {
       "description": "5",
       "layout": "IPY_MODEL_d664f16f548c41579b372caaf855e445",
       "style": "IPY_MODEL_ba8a8686728d4f6181a75c829f67164c"
      }
     },
     "6173f22c6981427c8aecebec46ac8783": {
      "model_module": "@jupyter-widgets/base",
      "model_module_version": "1.2.0",
      "model_name": "LayoutModel",
      "state": {
       "width": "95%"
      }
     },
     "61a39635f4f04dc991d1c97741deff79": {
      "model_module": "@jupyter-widgets/controls",
      "model_module_version": "1.5.0",
      "model_name": "HBoxModel",
      "state": {
       "children": [
        "IPY_MODEL_ea515f6ab0fb4c8fa83df8e40b2a12b3",
        "IPY_MODEL_b5071a727cb4429ab5846a1b5e1e9269",
        "IPY_MODEL_0d1325c707c8443cadea347f7b556f0b"
       ],
       "layout": "IPY_MODEL_b5657450896f451b8f459b4ae90c0895"
      }
     },
     "61bdb088f8ad45dba261e1c2b011672e": {
      "model_module": "@jupyter-widgets/output",
      "model_module_version": "1.0.0",
      "model_name": "OutputModel",
      "state": {
       "layout": "IPY_MODEL_06aad6e8a40e4672b2b5dcfe415661e4"
      }
     },
     "61c69111f093446fb56825e15bf47cc0": {
      "model_module": "@jupyter-widgets/controls",
      "model_module_version": "1.5.0",
      "model_name": "ButtonStyleModel",
      "state": {}
     },
     "61d86fd879f241ad9b1111cd866a60ca": {
      "model_module": "@jupyter-widgets/output",
      "model_module_version": "1.0.0",
      "model_name": "OutputModel",
      "state": {
       "layout": "IPY_MODEL_09e2301408814b0195fcfba98491fe61"
      }
     },
     "61e282314c37481d9b4eae62bf067247": {
      "model_module": "@jupyter-widgets/output",
      "model_module_version": "1.0.0",
      "model_name": "OutputModel",
      "state": {
       "layout": "IPY_MODEL_dece09c2a50a4a0d83bcdb933a1845e8"
      }
     },
     "61fcf31f35d544d48f88b14621ed8bab": {
      "model_module": "@jupyter-widgets/output",
      "model_module_version": "1.0.0",
      "model_name": "OutputModel",
      "state": {
       "layout": "IPY_MODEL_9dcfd869dda5487a955e232a6aba8237"
      }
     },
     "620a77bece044cb0a84d9be2125e6523": {
      "model_module": "@jupyter-widgets/controls",
      "model_module_version": "1.5.0",
      "model_name": "HBoxModel",
      "state": {
       "children": [
        "IPY_MODEL_ea515f6ab0fb4c8fa83df8e40b2a12b3",
        "IPY_MODEL_b5071a727cb4429ab5846a1b5e1e9269",
        "IPY_MODEL_0d1325c707c8443cadea347f7b556f0b"
       ],
       "layout": "IPY_MODEL_f6407160cd954d1ba1b53977f040326a"
      }
     },
     "622975ab7b5f45b7a851bca82b4cdc81": {
      "model_module": "@jupyter-widgets/controls",
      "model_module_version": "1.5.0",
      "model_name": "VBoxModel",
      "state": {
       "children": [
        "IPY_MODEL_2730971964d7494b80f94681aa49b435",
        "IPY_MODEL_13d7cfd1a70045aa8cec22d8134875f6",
        "IPY_MODEL_1f2987d050284219b2969d9884e51295"
       ],
       "layout": "IPY_MODEL_dec57734057c4462b95fb922d67b7592"
      }
     },
     "625ecc7f65214292bea0ebe6fab3a909": {
      "model_module": "@jupyter-widgets/output",
      "model_module_version": "1.0.0",
      "model_name": "OutputModel",
      "state": {
       "layout": "IPY_MODEL_fe79adac1b81418398dbf551ffeed95c"
      }
     },
     "62a5a6ef9e444f01bdc478ed31f2daab": {
      "model_module": "@jupyter-widgets/controls",
      "model_module_version": "1.5.0",
      "model_name": "ButtonStyleModel",
      "state": {}
     },
     "62aeda4e2a8b461987d2518e797d9798": {
      "model_module": "@jupyter-widgets/base",
      "model_module_version": "1.2.0",
      "model_name": "LayoutModel",
      "state": {
       "justify_content": "space-between"
      }
     },
     "62b88e7d061041229291aaa418257012": {
      "model_module": "@jupyter-widgets/controls",
      "model_module_version": "1.5.0",
      "model_name": "ButtonStyleModel",
      "state": {}
     },
     "62c92c8e73cb4fb39830fa0221041ef8": {
      "model_module": "@jupyter-widgets/base",
      "model_module_version": "1.2.0",
      "model_name": "LayoutModel",
      "state": {
       "width": "10%"
      }
     },
     "62cc8b710e6f4270b90908cd2b259db7": {
      "model_module": "@jupyter-widgets/output",
      "model_module_version": "1.0.0",
      "model_name": "OutputModel",
      "state": {
       "layout": "IPY_MODEL_82cfeb1fa47f48518544b9c7da3d51bf"
      }
     },
     "62fc277c7fdc4ccabf30885292f641fe": {
      "model_module": "@jupyter-widgets/controls",
      "model_module_version": "1.5.0",
      "model_name": "ButtonModel",
      "state": {
       "description": "0",
       "layout": "IPY_MODEL_b6935ece989542b3a3a474f4d836730b",
       "style": "IPY_MODEL_ac2a25b22b04478f8bd7d56fe01cf99d"
      }
     },
     "62ffd7f6d1a944c9b7e70ab8c9b683a3": {
      "model_module": "@jupyter-widgets/output",
      "model_module_version": "1.0.0",
      "model_name": "OutputModel",
      "state": {
       "layout": "IPY_MODEL_79e9444faa5e45ab8fa4521b074157e6"
      }
     },
     "633b1be3754f4464b05e81df7c3b72c1": {
      "model_module": "@jupyter-widgets/base",
      "model_module_version": "1.2.0",
      "model_name": "LayoutModel",
      "state": {
       "width": "95%"
      }
     },
     "6364457848014a1380d536d747b95e72": {
      "model_module": "@jupyter-widgets/base",
      "model_module_version": "1.2.0",
      "model_name": "LayoutModel",
      "state": {}
     },
     "636d0001e59d4edbb7b40387e0fd581d": {
      "model_module": "@jupyter-widgets/base",
      "model_module_version": "1.2.0",
      "model_name": "LayoutModel",
      "state": {
       "width": "10%"
      }
     },
     "63afe87d1f9a4828aeef98c8b0e1ecc0": {
      "model_module": "@jupyter-widgets/controls",
      "model_module_version": "1.5.0",
      "model_name": "ButtonModel",
      "state": {
       "description": "1",
       "layout": "IPY_MODEL_d9afbcdea8b94d278bff6997404dfb35",
       "style": "IPY_MODEL_f0e17ef904be47bc9f2812add5f9f39c"
      }
     },
     "63e139bdf1944fb292669e573ea76e1a": {
      "model_module": "@jupyter-widgets/base",
      "model_module_version": "1.2.0",
      "model_name": "LayoutModel",
      "state": {}
     },
     "63f3b56dff6543b48fa01ec36cfc1c79": {
      "model_module": "@jupyter-widgets/controls",
      "model_module_version": "1.5.0",
      "model_name": "DescriptionStyleModel",
      "state": {
       "description_width": ""
      }
     },
     "6408884c3d2c476c89a455bf18f23670": {
      "model_module": "@jupyter-widgets/controls",
      "model_module_version": "1.5.0",
      "model_name": "DescriptionStyleModel",
      "state": {
       "description_width": ""
      }
     },
     "64231aa44b3f4897a876d9987f04fc48": {
      "model_module": "@jupyter-widgets/controls",
      "model_module_version": "1.5.0",
      "model_name": "ButtonModel",
      "state": {
       "description": "2",
       "layout": "IPY_MODEL_bd758cbe484c472282f9a9ac3d8b011d",
       "style": "IPY_MODEL_dc88199540ef488a99087a12b651319e"
      }
     },
     "6456499b887b48eba4fd36e2cc5f2c9a": {
      "model_module": "@jupyter-widgets/base",
      "model_module_version": "1.2.0",
      "model_name": "LayoutModel",
      "state": {}
     },
     "6466df0cf82d4d63aeabea02c2cece9c": {
      "model_module": "@jupyter-widgets/base",
      "model_module_version": "1.2.0",
      "model_name": "LayoutModel",
      "state": {
       "width": "10%"
      }
     },
     "646a23b142fb439ba26709df81fccea8": {
      "model_module": "@jupyter-widgets/output",
      "model_module_version": "1.0.0",
      "model_name": "OutputModel",
      "state": {
       "layout": "IPY_MODEL_1a1c8178276d4e389235389ccaf2662e"
      }
     },
     "64813d9336ee48bdae31378214c8bc68": {
      "model_module": "@jupyter-widgets/controls",
      "model_module_version": "1.5.0",
      "model_name": "TextModel",
      "state": {
       "description": "Other:",
       "layout": "IPY_MODEL_56ca1557f7244b219275bee800522442",
       "placeholder": "Hit enter to submit.",
       "style": "IPY_MODEL_94f7595c5f2946ed90b1d81c2e17afce"
      }
     },
     "64e2f9bbe96444e9aa147ce473c46f12": {
      "model_module": "@jupyter-widgets/controls",
      "model_module_version": "1.5.0",
      "model_name": "ButtonStyleModel",
      "state": {}
     },
     "64e965343f254002a75d039d5e747325": {
      "model_module": "@jupyter-widgets/controls",
      "model_module_version": "1.5.0",
      "model_name": "TextModel",
      "state": {
       "description": "Other:",
       "layout": "IPY_MODEL_1414750f374a49948adb9ccb0e36418c",
       "placeholder": "Hit enter to submit.",
       "style": "IPY_MODEL_046dae274cac40d2bb7a750b2fc5ee54"
      }
     },
     "64ea93b038c64065b07d3f774a1cc8b8": {
      "model_module": "@jupyter-widgets/base",
      "model_module_version": "1.2.0",
      "model_name": "LayoutModel",
      "state": {
       "width": "10%"
      }
     },
     "65077741087b4ad7852c198754d00a85": {
      "model_module": "@jupyter-widgets/controls",
      "model_module_version": "1.5.0",
      "model_name": "VBoxModel",
      "state": {
       "children": [
        "IPY_MODEL_b4a7ca892eaf4ea591acb25f98096d95",
        "IPY_MODEL_4f6c6eda22044de9b6c4677f04d37d8f"
       ],
       "layout": "IPY_MODEL_a217ecc760e649de9e6eff53200688dd"
      }
     },
     "651ef9277b9549ea9d5e79d60c19c52c": {
      "model_module": "@jupyter-widgets/base",
      "model_module_version": "1.2.0",
      "model_name": "LayoutModel",
      "state": {
       "width": "10%"
      }
     },
     "6586e87762324492a036ae15d9d1e65b": {
      "model_module": "@jupyter-widgets/base",
      "model_module_version": "1.2.0",
      "model_name": "LayoutModel",
      "state": {}
     },
     "658e338d81db4bedb0e687f364b0c145": {
      "model_module": "@jupyter-widgets/base",
      "model_module_version": "1.2.0",
      "model_name": "LayoutModel",
      "state": {
       "width": "95%"
      }
     },
     "65acf832bfd74f2197f5e91416f208eb": {
      "model_module": "@jupyter-widgets/controls",
      "model_module_version": "1.5.0",
      "model_name": "ButtonStyleModel",
      "state": {}
     },
     "65b7d1111a344b14935836e8f9b06f01": {
      "model_module": "@jupyter-widgets/output",
      "model_module_version": "1.0.0",
      "model_name": "OutputModel",
      "state": {
       "layout": "IPY_MODEL_b7734c6ec8374432a947c3b726c28a50"
      }
     },
     "65dd217359c14fd490c28422c15ae47d": {
      "model_module": "@jupyter-widgets/controls",
      "model_module_version": "1.5.0",
      "model_name": "HBoxModel",
      "state": {
       "children": [
        "IPY_MODEL_ea515f6ab0fb4c8fa83df8e40b2a12b3",
        "IPY_MODEL_b5071a727cb4429ab5846a1b5e1e9269",
        "IPY_MODEL_0d1325c707c8443cadea347f7b556f0b"
       ],
       "layout": "IPY_MODEL_36a338374a184ff18f6353bb5b973520"
      }
     },
     "662392ba6d2944239208a8605ceff657": {
      "model_module": "@jupyter-widgets/controls",
      "model_module_version": "1.5.0",
      "model_name": "ButtonModel",
      "state": {
       "description": "9",
       "layout": "IPY_MODEL_6b747f82e8994ef683ef5ea90b220781",
       "style": "IPY_MODEL_3bd5774f26e24406b3598825f93a2f2d"
      }
     },
     "6639e50f5dda4bccbfcbddf648ca3ac2": {
      "model_module": "@jupyter-widgets/controls",
      "model_module_version": "1.5.0",
      "model_name": "VBoxModel",
      "state": {
       "children": [
        "IPY_MODEL_d578731765a74de3ac266deca3ef3a1c",
        "IPY_MODEL_c2f1b65196ae4441aaf3bcce5da8ee48"
       ],
       "layout": "IPY_MODEL_945d43acb17642b68b4a49a447ac8e1b"
      }
     },
     "667dbaff605b46348f982bbf86f89fb4": {
      "model_module": "@jupyter-widgets/controls",
      "model_module_version": "1.5.0",
      "model_name": "VBoxModel",
      "state": {
       "children": [
        "IPY_MODEL_17c45260ca494139a207859f5e40ec80",
        "IPY_MODEL_7321a674397d4ae6b387c7e0f896cf63"
       ],
       "layout": "IPY_MODEL_3c15cd36ef204a29a3a965d34dc07468"
      }
     },
     "668643d6a2d848baaaad00f69d46e09e": {
      "model_module": "@jupyter-widgets/output",
      "model_module_version": "1.0.0",
      "model_name": "OutputModel",
      "state": {
       "layout": "IPY_MODEL_fe084055941b4ac3ac952d25083fa9e5"
      }
     },
     "66ebc0cd2e45421290b7335610bef1a7": {
      "model_module": "@jupyter-widgets/controls",
      "model_module_version": "1.5.0",
      "model_name": "VBoxModel",
      "state": {
       "children": [
        "IPY_MODEL_9bafccbbd57940f38f4cde5df43b2a76",
        "IPY_MODEL_92b567ecab654e589463146498ff2f43"
       ],
       "layout": "IPY_MODEL_35f856a59d0f4c8ea9258f26ace12b83"
      }
     },
     "66f6252dbc1c45c0881eddc230114f6e": {
      "model_module": "@jupyter-widgets/base",
      "model_module_version": "1.2.0",
      "model_name": "LayoutModel",
      "state": {}
     },
     "66f8a2262a2b4dd7a679f094ee1d32a1": {
      "model_module": "@jupyter-widgets/controls",
      "model_module_version": "1.5.0",
      "model_name": "ButtonModel",
      "state": {
       "description": "4",
       "layout": "IPY_MODEL_a77b017b12964fc8a6e2ff68b23bbf39",
       "style": "IPY_MODEL_949100531b024147a6c751f1dc14bf1b"
      }
     },
     "66fb1211ceef4810bd4bca40b4189178": {
      "model_module": "@jupyter-widgets/controls",
      "model_module_version": "1.5.0",
      "model_name": "ButtonStyleModel",
      "state": {}
     },
     "66ffe9a150804d71bd03a84ec3c64bce": {
      "model_module": "@jupyter-widgets/controls",
      "model_module_version": "1.5.0",
      "model_name": "ButtonStyleModel",
      "state": {}
     },
     "67094e71996047da9a263045474e0e03": {
      "model_module": "@jupyter-widgets/controls",
      "model_module_version": "1.5.0",
      "model_name": "ButtonStyleModel",
      "state": {}
     },
     "673b59ba3ec1475d98c228b7c288938d": {
      "model_module": "@jupyter-widgets/base",
      "model_module_version": "1.2.0",
      "model_name": "LayoutModel",
      "state": {
       "width": "95%"
      }
     },
     "674acc3cffac44c7be79b82e1622ad13": {
      "model_module": "@jupyter-widgets/controls",
      "model_module_version": "1.5.0",
      "model_name": "TextModel",
      "state": {
       "description": "Other:",
       "layout": "IPY_MODEL_5ddc6eb7408946a9a25733467472c7d3",
       "placeholder": "Hit enter to submit.",
       "style": "IPY_MODEL_6408884c3d2c476c89a455bf18f23670"
      }
     },
     "67810b5943dd460a91008f254bc71f95": {
      "model_module": "@jupyter-widgets/controls",
      "model_module_version": "1.5.0",
      "model_name": "VBoxModel",
      "state": {
       "children": [
        "IPY_MODEL_152fe1666a2c4060a6051bfc19a70491",
        "IPY_MODEL_d2007625f575407a826a95e55e1dd3ef"
       ],
       "layout": "IPY_MODEL_ba4da82a4d7a4d6a90f5e6fbac5c858d"
      }
     },
     "6795761f96b047f79af43ed0d1ea1e33": {
      "model_module": "@jupyter-widgets/controls",
      "model_module_version": "1.5.0",
      "model_name": "VBoxModel",
      "state": {
       "children": [
        "IPY_MODEL_be6726c22aa348449c88e5042146abaf",
        "IPY_MODEL_a15c8d2496d240e3a1b6ad7f6ee90d6d"
       ],
       "layout": "IPY_MODEL_e6b21d130a394337828c2a00fa2a78e5"
      }
     },
     "67a44476e9144c9587caa6bd5ff15294": {
      "model_module": "@jupyter-widgets/base",
      "model_module_version": "1.2.0",
      "model_name": "LayoutModel",
      "state": {
       "width": "95%"
      }
     },
     "67a9143c378f4fef96557aa01e188cff": {
      "model_module": "@jupyter-widgets/controls",
      "model_module_version": "1.5.0",
      "model_name": "TextModel",
      "state": {
       "description": "Other:",
       "layout": "IPY_MODEL_e954641a608245f1a7d8fc38cc2b8c44",
       "placeholder": "Hit enter to submit.",
       "style": "IPY_MODEL_50c5435087624aec8412ed59308c6c63"
      }
     },
     "67ca7725103949feb942765e24428ac1": {
      "model_module": "@jupyter-widgets/base",
      "model_module_version": "1.2.0",
      "model_name": "LayoutModel",
      "state": {
       "width": "95%"
      }
     },
     "67d6dc79a6e544c6ba9fc33e7d065879": {
      "model_module": "@jupyter-widgets/controls",
      "model_module_version": "1.5.0",
      "model_name": "VBoxModel",
      "state": {
       "children": [
        "IPY_MODEL_5632f7a69cd74b8e80eb5989f984fd3d",
        "IPY_MODEL_61d86fd879f241ad9b1111cd866a60ca"
       ],
       "layout": "IPY_MODEL_c49cd4e136f247b1b65bfdae484de9c5"
      }
     },
     "67dd377bed904eefab4912539f0a751f": {
      "model_module": "@jupyter-widgets/base",
      "model_module_version": "1.2.0",
      "model_name": "LayoutModel",
      "state": {}
     },
     "67fa8a1db84e477c95d9f16fe5aad3f4": {
      "model_module": "@jupyter-widgets/base",
      "model_module_version": "1.2.0",
      "model_name": "LayoutModel",
      "state": {
       "width": "10%"
      }
     },
     "6845ccb1f7cb40b3863d9ca541c45a03": {
      "model_module": "@jupyter-widgets/base",
      "model_module_version": "1.2.0",
      "model_name": "LayoutModel",
      "state": {
       "width": "10%"
      }
     },
     "6868c7ba842f4a0982e73c6bf20915aa": {
      "model_module": "@jupyter-widgets/controls",
      "model_module_version": "1.5.0",
      "model_name": "ButtonStyleModel",
      "state": {}
     },
     "6875766e15d44a9c8f65d96cb82cc469": {
      "model_module": "@jupyter-widgets/controls",
      "model_module_version": "1.5.0",
      "model_name": "ButtonModel",
      "state": {
       "description": "6",
       "layout": "IPY_MODEL_dcdb28ab7f3e4f43897b2af4e103d7f4",
       "style": "IPY_MODEL_ff13b0efceb74ab89ca70cb0df00173d"
      }
     },
     "687aa616227c458ea80c6679857b82d2": {
      "model_module": "@jupyter-widgets/base",
      "model_module_version": "1.2.0",
      "model_name": "LayoutModel",
      "state": {}
     },
     "688bf2de57064da981768d40fd67bd20": {
      "model_module": "@jupyter-widgets/controls",
      "model_module_version": "1.5.0",
      "model_name": "ButtonModel",
      "state": {
       "description": "8",
       "layout": "IPY_MODEL_37fa0446ddf6480bb82099856282130d",
       "style": "IPY_MODEL_0880633e38dc43daa6f1c03dfed1e506"
      }
     },
     "688e15f6be7143ecbf3703e1db90bee5": {
      "model_module": "@jupyter-widgets/output",
      "model_module_version": "1.0.0",
      "model_name": "OutputModel",
      "state": {
       "layout": "IPY_MODEL_1336826a8c4a4cc0925069a63935fcdf"
      }
     },
     "68c330ceef5a49d48bdaeefbb29ff5fd": {
      "model_module": "@jupyter-widgets/base",
      "model_module_version": "1.2.0",
      "model_name": "LayoutModel",
      "state": {
       "width": "10%"
      }
     },
     "68e35ee0e8164eb2b59af270090d581a": {
      "model_module": "@jupyter-widgets/output",
      "model_module_version": "1.0.0",
      "model_name": "OutputModel",
      "state": {
       "layout": "IPY_MODEL_fd5b1a14b36f452091fa6e96dae6a10a"
      }
     },
     "68f96c12286d4b3f917688d485ca7ab4": {
      "model_module": "@jupyter-widgets/base",
      "model_module_version": "1.2.0",
      "model_name": "LayoutModel",
      "state": {}
     },
     "6948839ba946486f9c67f43f4c6e3066": {
      "model_module": "@jupyter-widgets/base",
      "model_module_version": "1.2.0",
      "model_name": "LayoutModel",
      "state": {
       "width": "95%"
      }
     },
     "695701ac2da94637a1a8d5d9a9e76660": {
      "model_module": "@jupyter-widgets/base",
      "model_module_version": "1.2.0",
      "model_name": "LayoutModel",
      "state": {
       "width": "10%"
      }
     },
     "695f7a0216654af8bfa5fd9c5bc72d3f": {
      "model_module": "@jupyter-widgets/base",
      "model_module_version": "1.2.0",
      "model_name": "LayoutModel",
      "state": {}
     },
     "698801521a2043a48a6c31ea1be6aa40": {
      "model_module": "@jupyter-widgets/base",
      "model_module_version": "1.2.0",
      "model_name": "LayoutModel",
      "state": {}
     },
     "698d625b999347a7a9da68e6319c8fe5": {
      "model_module": "@jupyter-widgets/base",
      "model_module_version": "1.2.0",
      "model_name": "LayoutModel",
      "state": {
       "width": "95%"
      }
     },
     "6994b2726a1b47828bbad022815240f8": {
      "model_module": "@jupyter-widgets/controls",
      "model_module_version": "1.5.0",
      "model_name": "VBoxModel",
      "state": {
       "children": [
        "IPY_MODEL_8d0e4259702d47868882d95e94d443ab",
        "IPY_MODEL_ede042c11fcc489db49c78f0fdbea883"
       ],
       "layout": "IPY_MODEL_174eed4f5c4b44ff81cd7726a9cff21e"
      }
     },
     "69aa39aa7d7f404c961f1302df0184dd": {
      "model_module": "@jupyter-widgets/base",
      "model_module_version": "1.2.0",
      "model_name": "LayoutModel",
      "state": {
       "width": "95%"
      }
     },
     "69b68a5341c94089af674cc025b5a2ae": {
      "model_module": "@jupyter-widgets/controls",
      "model_module_version": "1.5.0",
      "model_name": "ButtonModel",
      "state": {
       "description": "7",
       "layout": "IPY_MODEL_c22441d021e745bcb2a30928ebfba0ab",
       "style": "IPY_MODEL_d22cfcb2dc264bc09165c4f8d826fe6c"
      }
     },
     "69c56de886554487b25df3401c396bd6": {
      "model_module": "@jupyter-widgets/base",
      "model_module_version": "1.2.0",
      "model_name": "LayoutModel",
      "state": {}
     },
     "6a0f6b8e49f249499924edd2ae5c4cf3": {
      "model_module": "@jupyter-widgets/controls",
      "model_module_version": "1.5.0",
      "model_name": "ButtonStyleModel",
      "state": {}
     },
     "6a11fcec1f42419a9b6cb933921b304c": {
      "model_module": "@jupyter-widgets/controls",
      "model_module_version": "1.5.0",
      "model_name": "ButtonStyleModel",
      "state": {}
     },
     "6a22e90a40944e6db40dfe00bbfac654": {
      "model_module": "@jupyter-widgets/base",
      "model_module_version": "1.2.0",
      "model_name": "LayoutModel",
      "state": {
       "width": "95%"
      }
     },
     "6a4092c8689c4594af872a124540c7b3": {
      "model_module": "@jupyter-widgets/base",
      "model_module_version": "1.2.0",
      "model_name": "LayoutModel",
      "state": {
       "width": "95%"
      }
     },
     "6a50c7624556494b8122c6714b4aa288": {
      "model_module": "@jupyter-widgets/controls",
      "model_module_version": "1.5.0",
      "model_name": "ButtonModel",
      "state": {
       "description": "6",
       "layout": "IPY_MODEL_870c7f9e02344944bbc50804b99cdc92",
       "style": "IPY_MODEL_15d54677c3e34bb7a6ad1b0391623f68"
      }
     },
     "6a51511bf20e4999ad5e06cd1c0895c3": {
      "model_module": "@jupyter-widgets/controls",
      "model_module_version": "1.5.0",
      "model_name": "VBoxModel",
      "state": {
       "children": [
        "IPY_MODEL_1fdfdc45ec4c4d7e8ac2a694206b26b6",
        "IPY_MODEL_c4bd62d3979946cc9685db253c044ee6"
       ],
       "layout": "IPY_MODEL_94bfbe4a348847f08d8c0d61ce871da4"
      }
     },
     "6a5f5928cb3943ea9107cbdda6a4b849": {
      "model_module": "@jupyter-widgets/output",
      "model_module_version": "1.0.0",
      "model_name": "OutputModel",
      "state": {
       "layout": "IPY_MODEL_076855bbb3234c74a645c293045f93e9"
      }
     },
     "6a6715b0ba5740f79b29e695c93c5f0c": {
      "model_module": "@jupyter-widgets/controls",
      "model_module_version": "1.5.0",
      "model_name": "VBoxModel",
      "state": {
       "children": [
        "IPY_MODEL_08f376e680234816b76a88362b792dc4",
        "IPY_MODEL_5b399da1ad024f299f72b39453532d3f"
       ],
       "layout": "IPY_MODEL_a560263eb4934f3c84b7c0f9a0697e46"
      }
     },
     "6a6a1ae4463b4239aa2985ee364d78dd": {
      "model_module": "@jupyter-widgets/controls",
      "model_module_version": "1.5.0",
      "model_name": "VBoxModel",
      "state": {
       "children": [
        "IPY_MODEL_36e682eabc8f4b72aa1b10314fea963f",
        "IPY_MODEL_42676c49d24045829f9d378868dc2316"
       ],
       "layout": "IPY_MODEL_62c92c8e73cb4fb39830fa0221041ef8"
      }
     },
     "6aa346c20fe744efbf1d37d0f4dede9d": {
      "model_module": "@jupyter-widgets/controls",
      "model_module_version": "1.5.0",
      "model_name": "ButtonStyleModel",
      "state": {}
     },
     "6ad11c0a98ed4c3b8d876e84b02f5314": {
      "model_module": "@jupyter-widgets/base",
      "model_module_version": "1.2.0",
      "model_name": "LayoutModel",
      "state": {}
     },
     "6ad52bc42da1494c9f3e6ba647e42a07": {
      "model_module": "@jupyter-widgets/base",
      "model_module_version": "1.2.0",
      "model_name": "LayoutModel",
      "state": {
       "width": "95%"
      }
     },
     "6b170a9b76d7419bb7d4c17f63a55078": {
      "model_module": "@jupyter-widgets/base",
      "model_module_version": "1.2.0",
      "model_name": "LayoutModel",
      "state": {}
     },
     "6b191c6b521145c1a0880591bb8f3953": {
      "model_module": "@jupyter-widgets/controls",
      "model_module_version": "1.5.0",
      "model_name": "ButtonStyleModel",
      "state": {}
     },
     "6b2fac68a5284c92942643a9b3da3971": {
      "model_module": "@jupyter-widgets/controls",
      "model_module_version": "1.5.0",
      "model_name": "DescriptionStyleModel",
      "state": {
       "description_width": ""
      }
     },
     "6b38190e5e374ba2bfe8cf5492e2474f": {
      "model_module": "@jupyter-widgets/controls",
      "model_module_version": "1.5.0",
      "model_name": "VBoxModel",
      "state": {
       "children": [
        "IPY_MODEL_d9af1fd85fd9429a8d444888ae4514d2",
        "IPY_MODEL_b76a5f80f56f480fa201ba35fe5b79e1"
       ],
       "layout": "IPY_MODEL_e948f62e01e84276aee9afa5117fa6f7"
      }
     },
     "6b61f659c1044a6fa049690d97b19441": {
      "model_module": "@jupyter-widgets/controls",
      "model_module_version": "1.5.0",
      "model_name": "ButtonModel",
      "state": {
       "description": "6",
       "layout": "IPY_MODEL_e02fd1e8e96c4de4a2ed425bd602b3e4",
       "style": "IPY_MODEL_967ec54c0b284f3394a0eb90ee54869e"
      }
     },
     "6b6b5b4973814a3c902c20d8878594d7": {
      "model_module": "@jupyter-widgets/base",
      "model_module_version": "1.2.0",
      "model_name": "LayoutModel",
      "state": {
       "width": "95%"
      }
     },
     "6b747f82e8994ef683ef5ea90b220781": {
      "model_module": "@jupyter-widgets/base",
      "model_module_version": "1.2.0",
      "model_name": "LayoutModel",
      "state": {
       "width": "95%"
      }
     },
     "6bbb37b558f241d8a4a9604dcdf32363": {
      "model_module": "@jupyter-widgets/base",
      "model_module_version": "1.2.0",
      "model_name": "LayoutModel",
      "state": {
       "width": "10%"
      }
     },
     "6bc38d2b095c49469fcb24d0cf0ef8c7": {
      "model_module": "@jupyter-widgets/controls",
      "model_module_version": "1.5.0",
      "model_name": "ButtonModel",
      "state": {
       "description": "3",
       "layout": "IPY_MODEL_0186fdc4e3d44fb898ea9b5392b5bae8",
       "style": "IPY_MODEL_00797ff546d54c9fbc35122f337d50ae"
      }
     },
     "6bd6d44a55864870b8f15e54456dd3ab": {
      "model_module": "@jupyter-widgets/output",
      "model_module_version": "1.0.0",
      "model_name": "OutputModel",
      "state": {
       "layout": "IPY_MODEL_2782a5521c1d444485addbf3af9448aa"
      }
     },
     "6bec6070453d456ca6e655aa0631c643": {
      "model_module": "@jupyter-widgets/base",
      "model_module_version": "1.2.0",
      "model_name": "LayoutModel",
      "state": {
       "width": "10%"
      }
     },
     "6bf0bbbfc25345c19ed338dbb6eca74f": {
      "model_module": "@jupyter-widgets/base",
      "model_module_version": "1.2.0",
      "model_name": "LayoutModel",
      "state": {
       "width": "10%"
      }
     },
     "6c1d07955ffe4861a4d809013ecb1d85": {
      "model_module": "@jupyter-widgets/base",
      "model_module_version": "1.2.0",
      "model_name": "LayoutModel",
      "state": {
       "width": "95%"
      }
     },
     "6c21cdd6b1b34c45b0ca40cf74f59ebc": {
      "model_module": "@jupyter-widgets/output",
      "model_module_version": "1.0.0",
      "model_name": "OutputModel",
      "state": {
       "layout": "IPY_MODEL_8dd1937185184d57b7ca0ccef6ba5b7f"
      }
     },
     "6c35f1ed63bc4dd585752cdf54f49118": {
      "model_module": "@jupyter-widgets/base",
      "model_module_version": "1.2.0",
      "model_name": "LayoutModel",
      "state": {}
     },
     "6c40ae0aeb4f40cfa40d22d2e1927ca2": {
      "model_module": "@jupyter-widgets/controls",
      "model_module_version": "1.5.0",
      "model_name": "ButtonStyleModel",
      "state": {}
     },
     "6c453a152c7e4205bee2133f1adcdbb8": {
      "model_module": "@jupyter-widgets/output",
      "model_module_version": "1.0.0",
      "model_name": "OutputModel",
      "state": {
       "layout": "IPY_MODEL_12413e7569ec4ce3920b61d7d3b72d4f"
      }
     },
     "6c4f6f8d297a4f3ea7039f2325d3438c": {
      "model_module": "@jupyter-widgets/base",
      "model_module_version": "1.2.0",
      "model_name": "LayoutModel",
      "state": {
       "width": "95%"
      }
     },
     "6c5f9c5cd7844d038deeb6ef6c638546": {
      "model_module": "@jupyter-widgets/base",
      "model_module_version": "1.2.0",
      "model_name": "LayoutModel",
      "state": {
       "width": "95%"
      }
     },
     "6c82955ab9fc4476be69aad1a110c43a": {
      "model_module": "@jupyter-widgets/controls",
      "model_module_version": "1.5.0",
      "model_name": "VBoxModel",
      "state": {
       "children": [
        "IPY_MODEL_8e8c633595734af2ba5539a2f67e649b",
        "IPY_MODEL_d4299d16acb544239fb8a3037ba4fad6"
       ],
       "layout": "IPY_MODEL_b374c3382bf4472a8451a2cb3a621c1e"
      }
     },
     "6c8434878e6548ca98db8f980b4219e8": {
      "model_module": "@jupyter-widgets/base",
      "model_module_version": "1.2.0",
      "model_name": "LayoutModel",
      "state": {
       "width": "95%"
      }
     },
     "6c845ae0f9524ef5b3ad6c2a558da07c": {
      "model_module": "@jupyter-widgets/base",
      "model_module_version": "1.2.0",
      "model_name": "LayoutModel",
      "state": {
       "width": "95%"
      }
     },
     "6c952eb0f1b54b9dadcadfa946a2002b": {
      "model_module": "@jupyter-widgets/controls",
      "model_module_version": "1.5.0",
      "model_name": "VBoxModel",
      "state": {
       "children": [
        "IPY_MODEL_95b7fc4598104ec483949f1992495634",
        "IPY_MODEL_1559a66d45a6401882ee188b754c265d"
       ],
       "layout": "IPY_MODEL_5031820807ad47e4b2b0fd349be38610"
      }
     },
     "6cb23bb85ec6424c9a3bc5a7909949e5": {
      "model_module": "@jupyter-widgets/controls",
      "model_module_version": "1.5.0",
      "model_name": "VBoxModel",
      "state": {
       "children": [
        "IPY_MODEL_f3eafa1dfd054614b0d8803094c8421c",
        "IPY_MODEL_f8b5247803ff45f2bb6c83f637a5e02b"
       ],
       "layout": "IPY_MODEL_85715bb2b7924a3f8405a79b17caee5b"
      }
     },
     "6cb7b0ad4803494bb5fefd03111af5c5": {
      "model_module": "@jupyter-widgets/controls",
      "model_module_version": "1.5.0",
      "model_name": "ButtonModel",
      "state": {
       "description": "2",
       "layout": "IPY_MODEL_7a214685b43945b095e96667097c1388",
       "style": "IPY_MODEL_8989e153cef44cc3bf12e833b1b63897"
      }
     },
     "6cc1eb25ecc84ff4a2beb71ce1ef9a0f": {
      "model_module": "@jupyter-widgets/output",
      "model_module_version": "1.0.0",
      "model_name": "OutputModel",
      "state": {
       "layout": "IPY_MODEL_ca840463a18f490ab0da6ce9d3687003"
      }
     },
     "6d1b1908fa9941008bfbf5637b47b5e6": {
      "model_module": "@jupyter-widgets/output",
      "model_module_version": "1.0.0",
      "model_name": "OutputModel",
      "state": {
       "layout": "IPY_MODEL_3a1afd65af8b476890d361641dfcc1d6"
      }
     },
     "6d32b8a2f13449099bec6046ee50db03": {
      "model_module": "@jupyter-widgets/base",
      "model_module_version": "1.2.0",
      "model_name": "LayoutModel",
      "state": {}
     },
     "6d43867c315946459348be1f49ad3497": {
      "model_module": "@jupyter-widgets/controls",
      "model_module_version": "1.5.0",
      "model_name": "ButtonStyleModel",
      "state": {}
     },
     "6d664cb8c1724738aa73be7a4358dbef": {
      "model_module": "@jupyter-widgets/controls",
      "model_module_version": "1.5.0",
      "model_name": "VBoxModel",
      "state": {
       "children": [
        "IPY_MODEL_83b897be20c94de99e79c9e30eb8d7ce",
        "IPY_MODEL_dd32d3e1a75642f3875f3ecab86fe4c0"
       ],
       "layout": "IPY_MODEL_b17694464d73400eb03e2635b4048bb0"
      }
     },
     "6d967370462e4914a100cd37b9fb5e0e": {
      "model_module": "@jupyter-widgets/output",
      "model_module_version": "1.0.0",
      "model_name": "OutputModel",
      "state": {
       "layout": "IPY_MODEL_346608fddcc44b12b70c363e2c979c38"
      }
     },
     "6db1fe5d7190404685f3458d4dc246a6": {
      "model_module": "@jupyter-widgets/controls",
      "model_module_version": "1.5.0",
      "model_name": "ButtonStyleModel",
      "state": {}
     },
     "6de0b3079b4b40278729a7bc26feaf89": {
      "model_module": "@jupyter-widgets/base",
      "model_module_version": "1.2.0",
      "model_name": "LayoutModel",
      "state": {}
     },
     "6deb60b3282545eb8d29bb42911b0942": {
      "model_module": "@jupyter-widgets/controls",
      "model_module_version": "1.5.0",
      "model_name": "ButtonModel",
      "state": {
       "description": "5",
       "layout": "IPY_MODEL_5fcf339413e9448bafc9edd059f10783",
       "style": "IPY_MODEL_996d74216fda4f548d571a48c035b0b2"
      }
     },
     "6e07e5432e8e4b89bd27e735f2579321": {
      "model_module": "@jupyter-widgets/base",
      "model_module_version": "1.2.0",
      "model_name": "LayoutModel",
      "state": {
       "width": "95%"
      }
     },
     "6e0dfad94f9a4445822b9bcf8a715574": {
      "model_module": "@jupyter-widgets/base",
      "model_module_version": "1.2.0",
      "model_name": "LayoutModel",
      "state": {
       "width": "95%"
      }
     },
     "6e20de8942ad4a4da9b6aac5efe0097b": {
      "model_module": "@jupyter-widgets/base",
      "model_module_version": "1.2.0",
      "model_name": "LayoutModel",
      "state": {
       "width": "10%"
      }
     },
     "6e6dc24c232d47d781eefb6c7a8ff84b": {
      "model_module": "@jupyter-widgets/base",
      "model_module_version": "1.2.0",
      "model_name": "LayoutModel",
      "state": {
       "width": "10%"
      }
     },
     "6e7e220c73b244aa84dede14e260bd2b": {
      "model_module": "@jupyter-widgets/base",
      "model_module_version": "1.2.0",
      "model_name": "LayoutModel",
      "state": {
       "width": "10%"
      }
     },
     "6e9b58f0840548a5981c1bf4a4040dbd": {
      "model_module": "@jupyter-widgets/output",
      "model_module_version": "1.0.0",
      "model_name": "OutputModel",
      "state": {
       "layout": "IPY_MODEL_c6574152e04b48d6b037969ec154b2b9"
      }
     },
     "6ef2e20c93eb476e90d9d5101cbe10c1": {
      "model_module": "@jupyter-widgets/controls",
      "model_module_version": "1.5.0",
      "model_name": "VBoxModel",
      "state": {
       "children": [
        "IPY_MODEL_b7bb26b6c735459dabd3f53450260963",
        "IPY_MODEL_8e1be398fd7b41e0a1b44c42b923c608"
       ],
       "layout": "IPY_MODEL_84d5f44db05e449ca77317ca9d90473d"
      }
     },
     "6f167d45301a4f13a4c5f46af86a1670": {
      "model_module": "@jupyter-widgets/base",
      "model_module_version": "1.2.0",
      "model_name": "LayoutModel",
      "state": {
       "width": "10%"
      }
     },
     "6f7c511411204358bf8c0cd8087b1323": {
      "model_module": "@jupyter-widgets/base",
      "model_module_version": "1.2.0",
      "model_name": "LayoutModel",
      "state": {
       "width": "95%"
      }
     },
     "6f83492b342c407591327df20d3c7012": {
      "model_module": "@jupyter-widgets/base",
      "model_module_version": "1.2.0",
      "model_name": "LayoutModel",
      "state": {
       "width": "10%"
      }
     },
     "6fc86413c6dd412c9ff7e9c905519376": {
      "model_module": "@jupyter-widgets/base",
      "model_module_version": "1.2.0",
      "model_name": "LayoutModel",
      "state": {}
     },
     "6fc93a0a480947519be3e22a38311e06": {
      "model_module": "@jupyter-widgets/controls",
      "model_module_version": "1.5.0",
      "model_name": "ButtonStyleModel",
      "state": {}
     },
     "6fe24bb8f4af462bbe1ea0b3782c381b": {
      "model_module": "@jupyter-widgets/controls",
      "model_module_version": "1.5.0",
      "model_name": "ButtonStyleModel",
      "state": {}
     },
     "6fe76c125a85442096b05ebea82af2a3": {
      "model_module": "@jupyter-widgets/controls",
      "model_module_version": "1.5.0",
      "model_name": "ButtonModel",
      "state": {
       "description": "5",
       "layout": "IPY_MODEL_0512ab1f6f2848c5afcd0ceda0cf55b0",
       "style": "IPY_MODEL_111ea2dca75f41c484da9b8bed1c1be2"
      }
     },
     "703ad0e5e6204195b349fda0e2cc83d8": {
      "model_module": "@jupyter-widgets/base",
      "model_module_version": "1.2.0",
      "model_name": "LayoutModel",
      "state": {}
     },
     "70482100ec7a46f88bc792f7a056a300": {
      "model_module": "@jupyter-widgets/output",
      "model_module_version": "1.0.0",
      "model_name": "OutputModel",
      "state": {
       "layout": "IPY_MODEL_c349a174d7b2471e8a56e92739752751"
      }
     },
     "7058ce0205494024b8a5cd020650dbaf": {
      "model_module": "@jupyter-widgets/controls",
      "model_module_version": "1.5.0",
      "model_name": "DescriptionStyleModel",
      "state": {
       "description_width": ""
      }
     },
     "706478f8f91747db804aca07ac593c80": {
      "model_module": "@jupyter-widgets/output",
      "model_module_version": "1.0.0",
      "model_name": "OutputModel",
      "state": {
       "layout": "IPY_MODEL_412379d093e44fb48382431ea65af49b"
      }
     },
     "70adc8a959594356818e8000a8e20c6e": {
      "model_module": "@jupyter-widgets/base",
      "model_module_version": "1.2.0",
      "model_name": "LayoutModel",
      "state": {}
     },
     "70d3857daf5643daa6709faadc69a97d": {
      "model_module": "@jupyter-widgets/base",
      "model_module_version": "1.2.0",
      "model_name": "LayoutModel",
      "state": {}
     },
     "7117c116da354941a85730b01fe239f3": {
      "model_module": "@jupyter-widgets/controls",
      "model_module_version": "1.5.0",
      "model_name": "VBoxModel",
      "state": {
       "children": [
        "IPY_MODEL_1b2eb0db1ded493199151972d1fdc29a",
        "IPY_MODEL_70482100ec7a46f88bc792f7a056a300"
       ],
       "layout": "IPY_MODEL_18eea0039c284902beec73766849bea3"
      }
     },
     "7127adcd9d0342fbb536a618becf68fa": {
      "model_module": "@jupyter-widgets/controls",
      "model_module_version": "1.5.0",
      "model_name": "ButtonStyleModel",
      "state": {}
     },
     "714b9956f84f43f49eedfcb6590dde14": {
      "model_module": "@jupyter-widgets/controls",
      "model_module_version": "1.5.0",
      "model_name": "VBoxModel",
      "state": {
       "children": [
        "IPY_MODEL_ae8d0e4c0d474aeaba2441357f7c529e",
        "IPY_MODEL_2faae6ae55da4cfa81c76b447bc124c5"
       ],
       "layout": "IPY_MODEL_19ec8fa1d156417a8be7c92a6544312f"
      }
     },
     "7161d5fe22774604bf19359c8efd8e7c": {
      "model_module": "@jupyter-widgets/base",
      "model_module_version": "1.2.0",
      "model_name": "LayoutModel",
      "state": {
       "width": "10%"
      }
     },
     "7164a790648140a7ae865b6b92a182a4": {
      "model_module": "@jupyter-widgets/base",
      "model_module_version": "1.2.0",
      "model_name": "LayoutModel",
      "state": {
       "width": "95%"
      }
     },
     "71675a928bfe4e3382aefb8d6fe18d3b": {
      "model_module": "@jupyter-widgets/base",
      "model_module_version": "1.2.0",
      "model_name": "LayoutModel",
      "state": {
       "width": "10%"
      }
     },
     "71a2c031d01442a587f6e5e74a9729dd": {
      "model_module": "@jupyter-widgets/output",
      "model_module_version": "1.0.0",
      "model_name": "OutputModel",
      "state": {
       "layout": "IPY_MODEL_8e3911b576cd4ac898b4affe675afdef"
      }
     },
     "71bdddadef5d4876b27af8276b82b99b": {
      "model_module": "@jupyter-widgets/output",
      "model_module_version": "1.0.0",
      "model_name": "OutputModel",
      "state": {
       "layout": "IPY_MODEL_29eccae1c82e4e9ca3ef9d69b928368f"
      }
     },
     "71cfbaa22f1b40ab9f1fa29c849a58d7": {
      "model_module": "@jupyter-widgets/controls",
      "model_module_version": "1.5.0",
      "model_name": "VBoxModel",
      "state": {
       "children": [
        "IPY_MODEL_8c2bfb44e6b3425f99323172643a24a7",
        "IPY_MODEL_a48a9e81f56b4791b6318bda003efb5e"
       ],
       "layout": "IPY_MODEL_636d0001e59d4edbb7b40387e0fd581d"
      }
     },
     "71f0f679c62f448ebf8f738e3d615c74": {
      "model_module": "@jupyter-widgets/controls",
      "model_module_version": "1.5.0",
      "model_name": "ButtonStyleModel",
      "state": {}
     },
     "71fb373e3b1b4ca39ef65fede16fb9c9": {
      "model_module": "@jupyter-widgets/controls",
      "model_module_version": "1.5.0",
      "model_name": "TextModel",
      "state": {
       "description": "Other:",
       "layout": "IPY_MODEL_34de4d5b6fa94171b73d6e90550cd5ca",
       "placeholder": "Hit enter to submit.",
       "style": "IPY_MODEL_7058ce0205494024b8a5cd020650dbaf"
      }
     },
     "7206112a53d048a1805aec941e035efa": {
      "model_module": "@jupyter-widgets/base",
      "model_module_version": "1.2.0",
      "model_name": "LayoutModel",
      "state": {
       "width": "95%"
      }
     },
     "720eefa865584c1d866628f3c4932da2": {
      "model_module": "@jupyter-widgets/output",
      "model_module_version": "1.0.0",
      "model_name": "OutputModel",
      "state": {
       "layout": "IPY_MODEL_5673f243848c41639e29c3f787eaaf80"
      }
     },
     "724f8450b1c0417ab27b46cdf8f9d7b6": {
      "model_module": "@jupyter-widgets/output",
      "model_module_version": "1.0.0",
      "model_name": "OutputModel",
      "state": {
       "layout": "IPY_MODEL_3d9801bf9e884f43abe253287a12b09b"
      }
     },
     "725f12cade274a2693241c8118a24e15": {
      "model_module": "@jupyter-widgets/output",
      "model_module_version": "1.0.0",
      "model_name": "OutputModel",
      "state": {
       "layout": "IPY_MODEL_2ba9f434154e4908baec279b15a770f7"
      }
     },
     "7262da1630474f78981571f0e251928b": {
      "model_module": "@jupyter-widgets/controls",
      "model_module_version": "1.5.0",
      "model_name": "DescriptionStyleModel",
      "state": {
       "description_width": ""
      }
     },
     "7276953324a542989ffbbaeeddaeef1d": {
      "model_module": "@jupyter-widgets/base",
      "model_module_version": "1.2.0",
      "model_name": "LayoutModel",
      "state": {
       "width": "95%"
      }
     },
     "729bdce2a58a49888b0be173f1e941cd": {
      "model_module": "@jupyter-widgets/controls",
      "model_module_version": "1.5.0",
      "model_name": "ButtonStyleModel",
      "state": {}
     },
     "72a178690e6d46e592b86b01948df082": {
      "model_module": "@jupyter-widgets/controls",
      "model_module_version": "1.5.0",
      "model_name": "ButtonStyleModel",
      "state": {}
     },
     "72ad96ccb4754ef3a3b345dd441bfb66": {
      "model_module": "@jupyter-widgets/controls",
      "model_module_version": "1.5.0",
      "model_name": "ButtonStyleModel",
      "state": {}
     },
     "72bd8cda90e14860a47e4bc636ecb56d": {
      "model_module": "@jupyter-widgets/controls",
      "model_module_version": "1.5.0",
      "model_name": "ButtonStyleModel",
      "state": {}
     },
     "72ca9452a6a14dbeaab0c2ce030ce0bc": {
      "model_module": "@jupyter-widgets/base",
      "model_module_version": "1.2.0",
      "model_name": "LayoutModel",
      "state": {}
     },
     "72cd134826544609816dceb00ed8fe4a": {
      "model_module": "@jupyter-widgets/controls",
      "model_module_version": "1.5.0",
      "model_name": "VBoxModel",
      "state": {
       "children": [
        "IPY_MODEL_afbe6e7e4ba340f9b30f5391419dea21",
        "IPY_MODEL_ed323711bffc46c7b42d72b8010311f6"
       ],
       "layout": "IPY_MODEL_91c4d323da0447779aefd98f66bf1b20"
      }
     },
     "72ec895ec7a34955b0021427c4cd3edc": {
      "model_module": "@jupyter-widgets/controls",
      "model_module_version": "1.5.0",
      "model_name": "ButtonStyleModel",
      "state": {}
     },
     "73092a5f510243668aa5ae44f865c43d": {
      "model_module": "@jupyter-widgets/controls",
      "model_module_version": "1.5.0",
      "model_name": "ButtonStyleModel",
      "state": {}
     },
     "730ae67ab18c455c89e576f11ffea78d": {
      "model_module": "@jupyter-widgets/base",
      "model_module_version": "1.2.0",
      "model_name": "LayoutModel",
      "state": {
       "justify_content": "space-between"
      }
     },
     "7321a674397d4ae6b387c7e0f896cf63": {
      "model_module": "@jupyter-widgets/output",
      "model_module_version": "1.0.0",
      "model_name": "OutputModel",
      "state": {
       "layout": "IPY_MODEL_4d02f2f579eb45688641fb026c162a6e"
      }
     },
     "732a3a5713394b8987fe58c4469205ae": {
      "model_module": "@jupyter-widgets/controls",
      "model_module_version": "1.5.0",
      "model_name": "ButtonModel",
      "state": {
       "description": "8",
       "layout": "IPY_MODEL_a1345571f6de43f2b7786b7f7dfcdd13",
       "style": "IPY_MODEL_09a051f3e8df45c69545b43f14d28e87"
      }
     },
     "735d3d07a85e4fde9eb4acc2b3df25cb": {
      "model_module": "@jupyter-widgets/output",
      "model_module_version": "1.0.0",
      "model_name": "OutputModel",
      "state": {
       "layout": "IPY_MODEL_97f6f914d2414d53a5906e5b8bca536b"
      }
     },
     "736b70591607466c84a366c09c701f42": {
      "model_module": "@jupyter-widgets/base",
      "model_module_version": "1.2.0",
      "model_name": "LayoutModel",
      "state": {}
     },
     "73f4b77476214f2286d771f8d3f29906": {
      "model_module": "@jupyter-widgets/controls",
      "model_module_version": "1.5.0",
      "model_name": "HBoxModel",
      "state": {
       "children": [
        "IPY_MODEL_ea515f6ab0fb4c8fa83df8e40b2a12b3",
        "IPY_MODEL_b5071a727cb4429ab5846a1b5e1e9269",
        "IPY_MODEL_0d1325c707c8443cadea347f7b556f0b"
       ],
       "layout": "IPY_MODEL_c723828c4cfd4f039cd16898647e42b1"
      }
     },
     "740719d3196142de86a07cd7ebc49e0d": {
      "model_module": "@jupyter-widgets/controls",
      "model_module_version": "1.5.0",
      "model_name": "DescriptionStyleModel",
      "state": {
       "description_width": ""
      }
     },
     "7418e4bdd715459a9d93f3f0894fa1f1": {
      "model_module": "@jupyter-widgets/output",
      "model_module_version": "1.0.0",
      "model_name": "OutputModel",
      "state": {
       "layout": "IPY_MODEL_4684416411e8430f986c01c688d9db6e"
      }
     },
     "74298d2588c5414a8073e686346b73c8": {
      "model_module": "@jupyter-widgets/controls",
      "model_module_version": "1.5.0",
      "model_name": "VBoxModel",
      "state": {
       "children": [
        "IPY_MODEL_19356e9603d34ecca73cfe6810672a40",
        "IPY_MODEL_5de356500ae8438d85b297f8366c682a"
       ],
       "layout": "IPY_MODEL_42611e99e2ca42999493c57c7f0b4fe8"
      }
     },
     "742fb43b58734df790e67d32a4fb8a61": {
      "model_module": "@jupyter-widgets/controls",
      "model_module_version": "1.5.0",
      "model_name": "ButtonModel",
      "state": {
       "description": "6",
       "layout": "IPY_MODEL_ad58f658ee25414eb6de3f319b79069f",
       "style": "IPY_MODEL_98a4a53fa3e144b79fb7255d922af264"
      }
     },
     "74865e80c57e4deeb20801297856f5bb": {
      "model_module": "@jupyter-widgets/controls",
      "model_module_version": "1.5.0",
      "model_name": "HBoxModel",
      "state": {
       "children": [
        "IPY_MODEL_ea515f6ab0fb4c8fa83df8e40b2a12b3",
        "IPY_MODEL_b5071a727cb4429ab5846a1b5e1e9269",
        "IPY_MODEL_0d1325c707c8443cadea347f7b556f0b"
       ],
       "layout": "IPY_MODEL_8587081782754c42ab3266c3aa96730b"
      }
     },
     "7496da531335464cbe3dce2b60fa3ad6": {
      "model_module": "@jupyter-widgets/output",
      "model_module_version": "1.0.0",
      "model_name": "OutputModel",
      "state": {
       "layout": "IPY_MODEL_2092f0b83a714876833759ee4af7b9cd"
      }
     },
     "74ad432c85a54068a8693260e00fb94d": {
      "model_module": "@jupyter-widgets/base",
      "model_module_version": "1.2.0",
      "model_name": "LayoutModel",
      "state": {}
     },
     "74d6297b13a24affa10c50ef2267dccb": {
      "model_module": "@jupyter-widgets/controls",
      "model_module_version": "1.5.0",
      "model_name": "DescriptionStyleModel",
      "state": {
       "description_width": ""
      }
     },
     "75002e2a2a034efd9f991a8c67dcebcd": {
      "model_module": "@jupyter-widgets/base",
      "model_module_version": "1.2.0",
      "model_name": "LayoutModel",
      "state": {
       "width": "50%"
      }
     },
     "750bfc01d98e49e5ab576eed46822f73": {
      "model_module": "@jupyter-widgets/controls",
      "model_module_version": "1.5.0",
      "model_name": "ButtonStyleModel",
      "state": {}
     },
     "75187c4b1cba4a51bc47759a13cb0cc5": {
      "model_module": "@jupyter-widgets/base",
      "model_module_version": "1.2.0",
      "model_name": "LayoutModel",
      "state": {
       "width": "95%"
      }
     },
     "751f192264414553a49d4347c4912225": {
      "model_module": "@jupyter-widgets/output",
      "model_module_version": "1.0.0",
      "model_name": "OutputModel",
      "state": {
       "layout": "IPY_MODEL_9e140a33744c482492c53fa06446c4d6"
      }
     },
     "7566368bd3d44c7889ae92985352f637": {
      "model_module": "@jupyter-widgets/base",
      "model_module_version": "1.2.0",
      "model_name": "LayoutModel",
      "state": {}
     },
     "756a8f899fc34206995862755650032d": {
      "model_module": "@jupyter-widgets/controls",
      "model_module_version": "1.5.0",
      "model_name": "VBoxModel",
      "state": {
       "children": [
        "IPY_MODEL_f082ebe449644498b756a6a098eb70d5",
        "IPY_MODEL_6d967370462e4914a100cd37b9fb5e0e"
       ],
       "layout": "IPY_MODEL_51e86af029b64af59819a8d2eb121d59"
      }
     },
     "756b0a143a114196bd74d437cabc3b58": {
      "model_module": "@jupyter-widgets/controls",
      "model_module_version": "1.5.0",
      "model_name": "ButtonStyleModel",
      "state": {}
     },
     "7590a9e565624488a2299991d780ae83": {
      "model_module": "@jupyter-widgets/controls",
      "model_module_version": "1.5.0",
      "model_name": "ButtonModel",
      "state": {
       "description": "3",
       "layout": "IPY_MODEL_69aa39aa7d7f404c961f1302df0184dd",
       "style": "IPY_MODEL_72a178690e6d46e592b86b01948df082"
      }
     },
     "759b93c54a9b4c48a8a37d5fce220441": {
      "model_module": "@jupyter-widgets/controls",
      "model_module_version": "1.5.0",
      "model_name": "HBoxModel",
      "state": {
       "children": [
        "IPY_MODEL_ea515f6ab0fb4c8fa83df8e40b2a12b3",
        "IPY_MODEL_b5071a727cb4429ab5846a1b5e1e9269",
        "IPY_MODEL_0d1325c707c8443cadea347f7b556f0b"
       ],
       "layout": "IPY_MODEL_a4b2aaaaf7c948528d7b97390c347672"
      }
     },
     "75b489e2ca60411eb8e0a95b0014071f": {
      "model_module": "@jupyter-widgets/base",
      "model_module_version": "1.2.0",
      "model_name": "LayoutModel",
      "state": {
       "width": "95%"
      }
     },
     "75b5f79b961e470b88b686e96732e08f": {
      "model_module": "@jupyter-widgets/base",
      "model_module_version": "1.2.0",
      "model_name": "LayoutModel",
      "state": {}
     },
     "75bd4785ab534585a4a0e31242e28cc8": {
      "model_module": "@jupyter-widgets/base",
      "model_module_version": "1.2.0",
      "model_name": "LayoutModel",
      "state": {}
     },
     "75ca52fa782040d58b739221c507d1fd": {
      "model_module": "@jupyter-widgets/controls",
      "model_module_version": "1.5.0",
      "model_name": "ButtonStyleModel",
      "state": {}
     },
     "75cff9134812451f835a02c8db635167": {
      "model_module": "@jupyter-widgets/base",
      "model_module_version": "1.2.0",
      "model_name": "LayoutModel",
      "state": {}
     },
     "75db6fff04404bb597556a007fa49fe1": {
      "model_module": "@jupyter-widgets/base",
      "model_module_version": "1.2.0",
      "model_name": "LayoutModel",
      "state": {
       "width": "10%"
      }
     },
     "760f0403d8034d9cacc6bbe537d88055": {
      "model_module": "@jupyter-widgets/base",
      "model_module_version": "1.2.0",
      "model_name": "LayoutModel",
      "state": {
       "width": "10%"
      }
     },
     "762a8ffd11b84df9aa4a69c962343e05": {
      "model_module": "@jupyter-widgets/output",
      "model_module_version": "1.0.0",
      "model_name": "OutputModel",
      "state": {
       "layout": "IPY_MODEL_5925b510ae6a448a9154650d09fd6dd7"
      }
     },
     "7631ec92649a429baad9f70324fbe352": {
      "model_module": "@jupyter-widgets/base",
      "model_module_version": "1.2.0",
      "model_name": "LayoutModel",
      "state": {
       "width": "10%"
      }
     },
     "765aa67c0b6e4c4f87be12cb90c15255": {
      "model_module": "@jupyter-widgets/controls",
      "model_module_version": "1.5.0",
      "model_name": "VBoxModel",
      "state": {
       "children": [
        "IPY_MODEL_8af30001c3e74b4b92b85702fc177e0b",
        "IPY_MODEL_e865ddccc64046e4b2382107d2b739f5"
       ],
       "layout": "IPY_MODEL_3c98113ffd2c4eb188df03debe90612f"
      }
     },
     "76690d32b6174acaba8697789b5da6a0": {
      "model_module": "@jupyter-widgets/controls",
      "model_module_version": "1.5.0",
      "model_name": "VBoxModel",
      "state": {
       "children": [
        "IPY_MODEL_d66aa9a62f514f1c9d8bbfd207fc445d",
        "IPY_MODEL_84f63682730d4a599605cf07bb65999c"
       ],
       "layout": "IPY_MODEL_f40711d54d1f467ea379069879b68a8b"
      }
     },
     "76abc75967144defa91c919db2627426": {
      "model_module": "@jupyter-widgets/controls",
      "model_module_version": "1.5.0",
      "model_name": "ButtonModel",
      "state": {
       "description": "9",
       "layout": "IPY_MODEL_5452c13ff58f4cfa84540b1722341095",
       "style": "IPY_MODEL_3439cebf373844a1bdd26c30db18f5d0"
      }
     },
     "76ec944debc1429e97a524f786fb8c07": {
      "model_module": "@jupyter-widgets/base",
      "model_module_version": "1.2.0",
      "model_name": "LayoutModel",
      "state": {}
     },
     "76ed7534f53840af81d0b6b04b364ef4": {
      "model_module": "@jupyter-widgets/controls",
      "model_module_version": "1.5.0",
      "model_name": "ButtonStyleModel",
      "state": {}
     },
     "76edd1a3ad614ab0a5f37cb827e13cdb": {
      "model_module": "@jupyter-widgets/base",
      "model_module_version": "1.2.0",
      "model_name": "LayoutModel",
      "state": {
       "width": "95%"
      }
     },
     "772cf1ac8bc949938d2be412bc729176": {
      "model_module": "@jupyter-widgets/controls",
      "model_module_version": "1.5.0",
      "model_name": "HBoxModel",
      "state": {
       "children": [
        "IPY_MODEL_8a4077469a2349eeb49ea064cd2fc166",
        "IPY_MODEL_206e2db573cb46ee8e01a69b7c1b6b2b",
        "IPY_MODEL_e30c86a87352430c9e98eaf52c46eb7c",
        "IPY_MODEL_04988c564dae4ab284498bf9ae1a04ff",
        "IPY_MODEL_28af29a5450849418d1f265d74304d31",
        "IPY_MODEL_d96e36eb042f4930a93c8fa1bd797735",
        "IPY_MODEL_bb0a93342f244777b97752d03d13ed11",
        "IPY_MODEL_e654997e28844f67b4adc9471667ed89",
        "IPY_MODEL_3ec2c85e6b284017b3d25da72de4a25a",
        "IPY_MODEL_5dde16ca6dae43ddbd0ded4f5124f938"
       ],
       "layout": "IPY_MODEL_50a291b6fa92449dae635fa460af8873"
      }
     },
     "7731fe3a5afc4476be93b220054fb7e8": {
      "model_module": "@jupyter-widgets/controls",
      "model_module_version": "1.5.0",
      "model_name": "ButtonModel",
      "state": {
       "description": "8",
       "layout": "IPY_MODEL_10c0d705a97146cb8bb5fdaaf38a3cd4",
       "style": "IPY_MODEL_8dc2745dbae64d48beb7a85f59113080"
      }
     },
     "773563485852447eba9b56c7eb9a9e9c": {
      "model_module": "@jupyter-widgets/controls",
      "model_module_version": "1.5.0",
      "model_name": "HBoxModel",
      "state": {
       "children": [
        "IPY_MODEL_fa4792a7442f49b6bcdf98f37a2e3033",
        "IPY_MODEL_c197d03021de40c9aa77a106c4660124",
        "IPY_MODEL_89a0fc4bbbcf4ec7b7201b80a40322e7",
        "IPY_MODEL_5f9a06af2f714ce7ad3418eeb7917c4e",
        "IPY_MODEL_3eb8fe427ea34f07a54e9d61a5f67c14",
        "IPY_MODEL_5fba867006bd44178ab31f100b2321c8",
        "IPY_MODEL_ccd2558642ea461990850b9a53a24449",
        "IPY_MODEL_bbc9452e9d6a47b0ba7893cdfe16d104",
        "IPY_MODEL_a246c102b4bd4d8eb913e1d4a81d5686",
        "IPY_MODEL_2cca763dfb2f4e81a374a2654daeee76"
       ],
       "layout": "IPY_MODEL_dc199f4ca2894980be3f9896867be1c7"
      }
     },
     "77c87317bade493daad83e286518b8ab": {
      "model_module": "@jupyter-widgets/base",
      "model_module_version": "1.2.0",
      "model_name": "LayoutModel",
      "state": {
       "width": "10%"
      }
     },
     "77d23db660944aa1be0c8b52a16f0a1c": {
      "model_module": "@jupyter-widgets/base",
      "model_module_version": "1.2.0",
      "model_name": "LayoutModel",
      "state": {
       "width": "95%"
      }
     },
     "77d6ef0dde534489b1b63bf360152e96": {
      "model_module": "@jupyter-widgets/base",
      "model_module_version": "1.2.0",
      "model_name": "LayoutModel",
      "state": {
       "width": "95%"
      }
     },
     "77dabffe9590471babfb312c2a7c568f": {
      "model_module": "@jupyter-widgets/base",
      "model_module_version": "1.2.0",
      "model_name": "LayoutModel",
      "state": {}
     },
     "7809afe8e11145a5bec1cf3045340240": {
      "model_module": "@jupyter-widgets/controls",
      "model_module_version": "1.5.0",
      "model_name": "VBoxModel",
      "state": {
       "children": [
        "IPY_MODEL_f9bc23843f8a40c7b6b4427e749b3eb3",
        "IPY_MODEL_5f51b1fcb70840d99374aff27ea83170"
       ],
       "layout": "IPY_MODEL_6e6dc24c232d47d781eefb6c7a8ff84b"
      }
     },
     "782397637b9e425786a30ecae0e2b71d": {
      "model_module": "@jupyter-widgets/base",
      "model_module_version": "1.2.0",
      "model_name": "LayoutModel",
      "state": {}
     },
     "7830389322b348aba99fddb59d8e9a4e": {
      "model_module": "@jupyter-widgets/controls",
      "model_module_version": "1.5.0",
      "model_name": "VBoxModel",
      "state": {
       "children": [
        "IPY_MODEL_732a3a5713394b8987fe58c4469205ae",
        "IPY_MODEL_a1eba52286a244c7ae2d15652651def0"
       ],
       "layout": "IPY_MODEL_26875f6f38864c53927c6269868b6160"
      }
     },
     "7854110e294a458d92035a9ceb2d8b70": {
      "model_module": "@jupyter-widgets/controls",
      "model_module_version": "1.5.0",
      "model_name": "VBoxModel",
      "state": {
       "children": [
        "IPY_MODEL_fddb90b706b946b99ba6894b5eaaffd3",
        "IPY_MODEL_83bec8fcd45842f08bf9ce247f7fcbe8"
       ],
       "layout": "IPY_MODEL_6e20de8942ad4a4da9b6aac5efe0097b"
      }
     },
     "78803322a4dc4f44a8214b47168546a6": {
      "model_module": "@jupyter-widgets/base",
      "model_module_version": "1.2.0",
      "model_name": "LayoutModel",
      "state": {
       "width": "10%"
      }
     },
     "78860a47f14c4ef08963d8ab626d1dcc": {
      "model_module": "@jupyter-widgets/controls",
      "model_module_version": "1.5.0",
      "model_name": "VBoxModel",
      "state": {
       "children": [
        "IPY_MODEL_97c0c7f235c148d6b629d5965463cefc",
        "IPY_MODEL_093a2472fdb24d6aa460fbc3e24964ca"
       ],
       "layout": "IPY_MODEL_c2b9d68d25184b398f65fa1967199334"
      }
     },
     "78970ab897744a6e83f37f220e6c67d7": {
      "model_module": "@jupyter-widgets/base",
      "model_module_version": "1.2.0",
      "model_name": "LayoutModel",
      "state": {
       "width": "10%"
      }
     },
     "789c0038cdfb497d953b1fc31d52d2f2": {
      "model_module": "@jupyter-widgets/controls",
      "model_module_version": "1.5.0",
      "model_name": "ButtonStyleModel",
      "state": {}
     },
     "78dd8de3eb014ffc95d6c6e05726a3a7": {
      "model_module": "@jupyter-widgets/controls",
      "model_module_version": "1.5.0",
      "model_name": "ButtonStyleModel",
      "state": {}
     },
     "79065f66c5b94c96b0e2a0907fb26cf0": {
      "model_module": "@jupyter-widgets/controls",
      "model_module_version": "1.5.0",
      "model_name": "VBoxModel",
      "state": {
       "children": [
        "IPY_MODEL_cd5d13861391417dbf0118f6496bb479",
        "IPY_MODEL_bc5d6a1f8c704c8082eda08a6d0e396b"
       ],
       "layout": "IPY_MODEL_3147765f2a6743978cb3e4539adb1203"
      }
     },
     "793988f38d9a41e4bbba89c75bbbd8d0": {
      "model_module": "@jupyter-widgets/output",
      "model_module_version": "1.0.0",
      "model_name": "OutputModel",
      "state": {
       "layout": "IPY_MODEL_25e95ab7278441eaa106805a02ffec19"
      }
     },
     "794c39c86a3b4f31ab0293409340dc9e": {
      "model_module": "@jupyter-widgets/base",
      "model_module_version": "1.2.0",
      "model_name": "LayoutModel",
      "state": {
       "width": "10%"
      }
     },
     "7961b4b5e5424a098e5cf5fa5431cf5e": {
      "model_module": "@jupyter-widgets/base",
      "model_module_version": "1.2.0",
      "model_name": "LayoutModel",
      "state": {
       "justify_content": "space-between"
      }
     },
     "7991ca0574ff47a590d878f926c0ea1e": {
      "model_module": "@jupyter-widgets/output",
      "model_module_version": "1.0.0",
      "model_name": "OutputModel",
      "state": {
       "layout": "IPY_MODEL_0998ab846f4d44aa9a0e2bad5a41ee0f"
      }
     },
     "79cb34587dc24e4a90849fccc4acb833": {
      "model_module": "@jupyter-widgets/controls",
      "model_module_version": "1.5.0",
      "model_name": "ButtonModel",
      "state": {
       "description": "6",
       "layout": "IPY_MODEL_813521f48cb64999903f6a2c1b951507",
       "style": "IPY_MODEL_7d7006c278b044008fef35b1df63294c"
      }
     },
     "79e9444faa5e45ab8fa4521b074157e6": {
      "model_module": "@jupyter-widgets/base",
      "model_module_version": "1.2.0",
      "model_name": "LayoutModel",
      "state": {}
     },
     "79fcc0670d9d4f4888ab50cfe12e3db5": {
      "model_module": "@jupyter-widgets/base",
      "model_module_version": "1.2.0",
      "model_name": "LayoutModel",
      "state": {}
     },
     "79ff65c2e7db49e69927c14f19cab289": {
      "model_module": "@jupyter-widgets/base",
      "model_module_version": "1.2.0",
      "model_name": "LayoutModel",
      "state": {
       "width": "10%"
      }
     },
     "7a20f5af96c0445f8cb49099655aa0ea": {
      "model_module": "@jupyter-widgets/controls",
      "model_module_version": "1.5.0",
      "model_name": "ButtonStyleModel",
      "state": {}
     },
     "7a214685b43945b095e96667097c1388": {
      "model_module": "@jupyter-widgets/base",
      "model_module_version": "1.2.0",
      "model_name": "LayoutModel",
      "state": {
       "width": "95%"
      }
     },
     "7a22e8f3ea6c4353bf66c0f935eb7202": {
      "model_module": "@jupyter-widgets/output",
      "model_module_version": "1.0.0",
      "model_name": "OutputModel",
      "state": {
       "layout": "IPY_MODEL_de9507cc37344f42b71a5cfdc2f6124a"
      }
     },
     "7a307b4b5f104935ab491681cbaf3d02": {
      "model_module": "@jupyter-widgets/output",
      "model_module_version": "1.0.0",
      "model_name": "OutputModel",
      "state": {
       "layout": "IPY_MODEL_a20e2e0aec8141e7b93b0a212bdedd3a"
      }
     },
     "7a8aa386e53448859ac6aa8cf9deb73e": {
      "model_module": "@jupyter-widgets/base",
      "model_module_version": "1.2.0",
      "model_name": "LayoutModel",
      "state": {
       "width": "10%"
      }
     },
     "7aa24afc271d4ffcb96d0eb9a43d080f": {
      "model_module": "@jupyter-widgets/output",
      "model_module_version": "1.0.0",
      "model_name": "OutputModel",
      "state": {
       "layout": "IPY_MODEL_cfe6d61def854ee3b16e43a52725d97a"
      }
     },
     "7adee81085e741b380285cd8ae80d894": {
      "model_module": "@jupyter-widgets/controls",
      "model_module_version": "1.5.0",
      "model_name": "ButtonModel",
      "state": {
       "description": "8",
       "layout": "IPY_MODEL_4cd809843add461880076b6906e13c45",
       "style": "IPY_MODEL_5063b04bce8f4b0099ae522163781455"
      }
     },
     "7b0812139ce04190880ea4366af55502": {
      "model_module": "@jupyter-widgets/base",
      "model_module_version": "1.2.0",
      "model_name": "LayoutModel",
      "state": {
       "width": "95%"
      }
     },
     "7b0912bb817644419f05763df648797c": {
      "model_module": "@jupyter-widgets/controls",
      "model_module_version": "1.5.0",
      "model_name": "ButtonModel",
      "state": {
       "description": "4",
       "layout": "IPY_MODEL_6c1d07955ffe4861a4d809013ecb1d85",
       "style": "IPY_MODEL_ff99d10525c045abbaa008f13c9b705d"
      }
     },
     "7b53ee22842f4e4ba59255ae37df0e29": {
      "model_module": "@jupyter-widgets/controls",
      "model_module_version": "1.5.0",
      "model_name": "ButtonModel",
      "state": {
       "description": "7",
       "layout": "IPY_MODEL_289f86ae091648139f67de9e15010c83",
       "style": "IPY_MODEL_d26c135f067e4300ba152b5b97d285be"
      }
     },
     "7b6c22e0c1a44cc59fc68d837154d5b7": {
      "model_module": "@jupyter-widgets/controls",
      "model_module_version": "1.5.0",
      "model_name": "ButtonModel",
      "state": {
       "description": "1",
       "layout": "IPY_MODEL_c1e692042f624a85ba036d50f9f5715e",
       "style": "IPY_MODEL_59d4d590d7b746d1aed7ace9df9f39d6"
      }
     },
     "7b9c1b5f860845a8a4272581a1cf063d": {
      "model_module": "@jupyter-widgets/base",
      "model_module_version": "1.2.0",
      "model_name": "LayoutModel",
      "state": {
       "width": "95%"
      }
     },
     "7b9c9fd71df448309e0d07443c77cda4": {
      "model_module": "@jupyter-widgets/base",
      "model_module_version": "1.2.0",
      "model_name": "LayoutModel",
      "state": {
       "width": "10%"
      }
     },
     "7bc76b6339404139aa4db8b7ac50d937": {
      "model_module": "@jupyter-widgets/controls",
      "model_module_version": "1.5.0",
      "model_name": "ButtonModel",
      "state": {
       "description": "Retrain",
       "icon": "refresh",
       "layout": "IPY_MODEL_809263d92cb54c63b92ec2bb21cc530e",
       "style": "IPY_MODEL_4d54dd0e73a04468b3151c023ad75210",
       "tooltip": "Click me"
      }
     },
     "7bd92f67d1fc42319337d43e2f54bc86": {
      "model_module": "@jupyter-widgets/base",
      "model_module_version": "1.2.0",
      "model_name": "LayoutModel",
      "state": {}
     },
     "7befea65193f4983960ca10856124753": {
      "model_module": "@jupyter-widgets/controls",
      "model_module_version": "1.5.0",
      "model_name": "HBoxModel",
      "state": {
       "children": [
        "IPY_MODEL_d65ef86ac12640788aa55710b742b06d",
        "IPY_MODEL_74865e80c57e4deeb20801297856f5bb"
       ],
       "layout": "IPY_MODEL_9522c3886c794f2fac21ccbec6cf0835"
      }
     },
     "7c02ce158a5f4a01be9eee9fda6cea31": {
      "model_module": "@jupyter-widgets/base",
      "model_module_version": "1.2.0",
      "model_name": "LayoutModel",
      "state": {
       "width": "10%"
      }
     },
     "7c0a69d7f4c742baa000834972649f80": {
      "model_module": "@jupyter-widgets/base",
      "model_module_version": "1.2.0",
      "model_name": "LayoutModel",
      "state": {}
     },
     "7c450e50cf574daab690445839a00363": {
      "model_module": "@jupyter-widgets/controls",
      "model_module_version": "1.5.0",
      "model_name": "VBoxModel",
      "state": {
       "children": [
        "IPY_MODEL_84764b9d6fc544df9e0a632ce8666fea",
        "IPY_MODEL_71a2c031d01442a587f6e5e74a9729dd"
       ],
       "layout": "IPY_MODEL_c5c66c150ff147b4ac0c01f5bc3c773a"
      }
     },
     "7c8154d0610f481e8dfa9b0be0a279a8": {
      "model_module": "@jupyter-widgets/controls",
      "model_module_version": "1.5.0",
      "model_name": "ButtonModel",
      "state": {
       "description": "9",
       "layout": "IPY_MODEL_5e82e223d8b548c8acf3ab1f0f6ac601",
       "style": "IPY_MODEL_edd35d56856f42ccb906ac1359d15c32"
      }
     },
     "7cac89ae450a4a3789610192fb85c67e": {
      "model_module": "@jupyter-widgets/base",
      "model_module_version": "1.2.0",
      "model_name": "LayoutModel",
      "state": {}
     },
     "7cd5eebd8c4e47a8bffeebce0212f694": {
      "model_module": "@jupyter-widgets/controls",
      "model_module_version": "1.5.0",
      "model_name": "VBoxModel",
      "state": {
       "children": [
        "IPY_MODEL_c0192e41ab814b069769021703caefa3",
        "IPY_MODEL_4c36aa9adaef4c35abafee6f3a1fd4eb"
       ],
       "layout": "IPY_MODEL_a20c25ae971a4a4ab023c510e96c8763"
      }
     },
     "7ce27a83fd0e4cfa9a0af7fd818f7549": {
      "model_module": "@jupyter-widgets/controls",
      "model_module_version": "1.5.0",
      "model_name": "ButtonStyleModel",
      "state": {}
     },
     "7ce796ea259748a4aa299f320bd73775": {
      "model_module": "@jupyter-widgets/base",
      "model_module_version": "1.2.0",
      "model_name": "LayoutModel",
      "state": {
       "width": "95%"
      }
     },
     "7cedcd4f526a4d69aa4e18b7661bcbf3": {
      "model_module": "@jupyter-widgets/controls",
      "model_module_version": "1.5.0",
      "model_name": "VBoxModel",
      "state": {
       "children": [
        "IPY_MODEL_ba4cd7390e3e4be8ad9a86f76137a8f9",
        "IPY_MODEL_e82136b569514f7594a79dcc66af44cc"
       ],
       "layout": "IPY_MODEL_849deae621834620b37175a0018337dc"
      }
     },
     "7cf3674bf807489d9bb90ff803740fed": {
      "model_module": "@jupyter-widgets/controls",
      "model_module_version": "1.5.0",
      "model_name": "ButtonStyleModel",
      "state": {}
     },
     "7cfd6f98926e447c9ecd00078882f41d": {
      "model_module": "@jupyter-widgets/controls",
      "model_module_version": "1.5.0",
      "model_name": "ButtonModel",
      "state": {
       "description": "9",
       "layout": "IPY_MODEL_9317f4c2eb224f05b93d89062df5140c",
       "style": "IPY_MODEL_c768211ce5cf46ae9db246fe8db02191"
      }
     },
     "7d14f7fdf2054116938f900975116917": {
      "model_module": "@jupyter-widgets/controls",
      "model_module_version": "1.5.0",
      "model_name": "VBoxModel",
      "state": {
       "children": [
        "IPY_MODEL_9651c549f0be446eb46a1ccca7335da7",
        "IPY_MODEL_9a4e19ae476c400a936ab81c423104f3"
       ],
       "layout": "IPY_MODEL_7631ec92649a429baad9f70324fbe352"
      }
     },
     "7d2ffcfcd9434b12bbb94a820dcec30a": {
      "model_module": "@jupyter-widgets/controls",
      "model_module_version": "1.5.0",
      "model_name": "ButtonModel",
      "state": {
       "description": "0",
       "layout": "IPY_MODEL_d46a8a0005f44b7e9940932c5fde849a",
       "style": "IPY_MODEL_1dff200484f54dcab626a2d8eb3ef190"
      }
     },
     "7d4bea1598ee43b1937450472bbde4e3": {
      "model_module": "@jupyter-widgets/output",
      "model_module_version": "1.0.0",
      "model_name": "OutputModel",
      "state": {
       "layout": "IPY_MODEL_0bbbd1dc527d4a24b880b7e139541324"
      }
     },
     "7d50afd685b44484a2f6640b84c6a909": {
      "model_module": "@jupyter-widgets/output",
      "model_module_version": "1.0.0",
      "model_name": "OutputModel",
      "state": {
       "layout": "IPY_MODEL_c88dfd12772f455f893712d5eff5bb49"
      }
     },
     "7d7006c278b044008fef35b1df63294c": {
      "model_module": "@jupyter-widgets/controls",
      "model_module_version": "1.5.0",
      "model_name": "ButtonStyleModel",
      "state": {}
     },
     "7d7599761d65477396188bbe36beca8f": {
      "model_module": "@jupyter-widgets/controls",
      "model_module_version": "1.5.0",
      "model_name": "ButtonModel",
      "state": {
       "description": "1",
       "layout": "IPY_MODEL_d602d86408d1430d8d28827f722e8f68",
       "style": "IPY_MODEL_3af6f14d4f13448d9e3d13abf21a738d"
      }
     },
     "7dcbd7da40c34b148db1be1030a82482": {
      "model_module": "@jupyter-widgets/controls",
      "model_module_version": "1.5.0",
      "model_name": "VBoxModel",
      "state": {
       "children": [
        "IPY_MODEL_8c7603dc5258409890f3020f4fb3c0c4",
        "IPY_MODEL_ea74dc19149a4882b70b3e4d44ea938a"
       ],
       "layout": "IPY_MODEL_b32c852cadce4f49b5e2b7d31850dce2"
      }
     },
     "7dda9214abf14676a71f4ca7d2a08b40": {
      "model_module": "@jupyter-widgets/base",
      "model_module_version": "1.2.0",
      "model_name": "LayoutModel",
      "state": {
       "justify_content": "space-between"
      }
     },
     "7de4ed8df6174a1382820e60a2fa66dc": {
      "model_module": "@jupyter-widgets/base",
      "model_module_version": "1.2.0",
      "model_name": "LayoutModel",
      "state": {}
     },
     "7ded4b388b5246bea4b27e5fdd7b4f45": {
      "model_module": "@jupyter-widgets/controls",
      "model_module_version": "1.5.0",
      "model_name": "VBoxModel",
      "state": {
       "children": [
        "IPY_MODEL_7c8154d0610f481e8dfa9b0be0a279a8",
        "IPY_MODEL_61fcf31f35d544d48f88b14621ed8bab"
       ],
       "layout": "IPY_MODEL_6f83492b342c407591327df20d3c7012"
      }
     },
     "7e07b04fcc8b4a519f30434430c78168": {
      "model_module": "@jupyter-widgets/base",
      "model_module_version": "1.2.0",
      "model_name": "LayoutModel",
      "state": {
       "width": "95%"
      }
     },
     "7e0a3cd4356e4bfb8a31790bbe72a877": {
      "model_module": "@jupyter-widgets/controls",
      "model_module_version": "1.5.0",
      "model_name": "VBoxModel",
      "state": {
       "children": [
        "IPY_MODEL_05e6383677f84e09b9c26b562548be79",
        "IPY_MODEL_ced92a3196af4dae919a431d684131f1"
       ],
       "layout": "IPY_MODEL_d643c70983f34b6492e29507af587180"
      }
     },
     "7e0a82f0047d477cb30f0176c3e8aa64": {
      "model_module": "@jupyter-widgets/base",
      "model_module_version": "1.2.0",
      "model_name": "LayoutModel",
      "state": {
       "width": "95%"
      }
     },
     "7e1199465f09410c9f427eeb3c7b147b": {
      "model_module": "@jupyter-widgets/controls",
      "model_module_version": "1.5.0",
      "model_name": "ButtonModel",
      "state": {
       "description": "2",
       "layout": "IPY_MODEL_5a3a7c4e48ac45e4bad9b27258a93a7d",
       "style": "IPY_MODEL_e2417418ed1341d69b90e7c8c588310e"
      }
     },
     "7e6a6d10b7e2448388809a2027399524": {
      "model_module": "@jupyter-widgets/base",
      "model_module_version": "1.2.0",
      "model_name": "LayoutModel",
      "state": {
       "width": "95%"
      }
     },
     "7e822340c22b47bbb80b334e1c695745": {
      "model_module": "@jupyter-widgets/controls",
      "model_module_version": "1.5.0",
      "model_name": "HBoxModel",
      "state": {
       "children": [
        "IPY_MODEL_67a9143c378f4fef96557aa01e188cff",
        "IPY_MODEL_2b911073462b4072b9c12a113bf85444"
       ],
       "layout": "IPY_MODEL_93b45f7f43364bdcace8479fb25d0fed"
      }
     },
     "7e98b3f23ab142efadc2b9a28e38e38a": {
      "model_module": "@jupyter-widgets/controls",
      "model_module_version": "1.5.0",
      "model_name": "VBoxModel",
      "state": {
       "children": [
        "IPY_MODEL_11957a1be6e244288f011d9fd0c2e926",
        "IPY_MODEL_214caef3c01d41b48237be6dde31b42e"
       ],
       "layout": "IPY_MODEL_92fb81da5fec4e7cbf4b4e03d1f3cbe4"
      }
     },
     "7eab433b2ccb408da177a3ca4cb0e849": {
      "model_module": "@jupyter-widgets/controls",
      "model_module_version": "1.5.0",
      "model_name": "ButtonStyleModel",
      "state": {}
     },
     "7ebdcc85b4384d0394f36431ead99a57": {
      "model_module": "@jupyter-widgets/controls",
      "model_module_version": "1.5.0",
      "model_name": "VBoxModel",
      "state": {
       "children": [
        "IPY_MODEL_c62e65b092b34def81f94346bb3f9042",
        "IPY_MODEL_039a7fab470049188573a97daca20ca7"
       ],
       "layout": "IPY_MODEL_f407e7e85fee44a9924648838a63e59f"
      }
     },
     "7eca9a1b0fe5445691fe1a32014ab355": {
      "model_module": "@jupyter-widgets/base",
      "model_module_version": "1.2.0",
      "model_name": "LayoutModel",
      "state": {}
     },
     "7ecd5a6d958c4d429556d37668733edf": {
      "model_module": "@jupyter-widgets/controls",
      "model_module_version": "1.5.0",
      "model_name": "ButtonModel",
      "state": {
       "description": "7",
       "layout": "IPY_MODEL_5289a1641556499f8f8d47e56feca751",
       "style": "IPY_MODEL_2421c248f76f4035b68864f58f266f84"
      }
     },
     "7ed02138cd214f6d902a82ac27388875": {
      "model_module": "@jupyter-widgets/controls",
      "model_module_version": "1.5.0",
      "model_name": "VBoxModel",
      "state": {
       "children": [
        "IPY_MODEL_dc1ec4ec52d34b518679cb249b2d2006",
        "IPY_MODEL_1349211c9a2a4dce8676a19b3be23f96"
       ],
       "layout": "IPY_MODEL_96e6704348d140539aaaa8b68713cbbd"
      }
     },
     "7edd97d90eec4a8b8d81ee1ef67eaafb": {
      "model_module": "@jupyter-widgets/controls",
      "model_module_version": "1.5.0",
      "model_name": "ButtonStyleModel",
      "state": {}
     },
     "7ef7dcae9af6456f88ec47ff1888b3ec": {
      "model_module": "@jupyter-widgets/base",
      "model_module_version": "1.2.0",
      "model_name": "LayoutModel",
      "state": {
       "width": "95%"
      }
     },
     "7efd7603650a401d906315c263532323": {
      "model_module": "@jupyter-widgets/controls",
      "model_module_version": "1.5.0",
      "model_name": "ButtonModel",
      "state": {
       "description": "3",
       "layout": "IPY_MODEL_50c6f2168a924672b41eb52a1ed5e7cb",
       "style": "IPY_MODEL_3b773c4de202470193a083a1b80d93cd"
      }
     },
     "7f2df1d3319b4d0fa6b55e26072296c5": {
      "model_module": "@jupyter-widgets/base",
      "model_module_version": "1.2.0",
      "model_name": "LayoutModel",
      "state": {
       "width": "95%"
      }
     },
     "7f3b8d196d9c486897290c1bff3bb638": {
      "model_module": "@jupyter-widgets/base",
      "model_module_version": "1.2.0",
      "model_name": "LayoutModel",
      "state": {
       "width": "95%"
      }
     },
     "7f5eff8466374e93a2a66e766e4b6442": {
      "model_module": "@jupyter-widgets/base",
      "model_module_version": "1.2.0",
      "model_name": "LayoutModel",
      "state": {}
     },
     "7f8201da8fea4fa18302a6633f88b817": {
      "model_module": "@jupyter-widgets/output",
      "model_module_version": "1.0.0",
      "model_name": "OutputModel",
      "state": {
       "layout": "IPY_MODEL_bd12571dd5f24fca82167f0df246c5a2"
      }
     },
     "7f9902a39cf64368aa627db5861b0e44": {
      "model_module": "@jupyter-widgets/controls",
      "model_module_version": "1.5.0",
      "model_name": "VBoxModel",
      "state": {
       "children": [
        "IPY_MODEL_833f0a1a42484a04baecc55db907bae4",
        "IPY_MODEL_38e4e39488c24962a5051a5132f15ca3"
       ],
       "layout": "IPY_MODEL_32fc435c45d54895bae7dd0abb099c8c"
      }
     },
     "7fa88342e42244dfae658d30b256d670": {
      "model_module": "@jupyter-widgets/output",
      "model_module_version": "1.0.0",
      "model_name": "OutputModel",
      "state": {
       "layout": "IPY_MODEL_fd5a6a7d4191491ea621b1e295083abe"
      }
     },
     "7fc2edd3a17449db92fec964d14eb44d": {
      "model_module": "@jupyter-widgets/controls",
      "model_module_version": "1.5.0",
      "model_name": "VBoxModel",
      "state": {
       "children": [
        "IPY_MODEL_002d171b7d3148928b2e175900e88182",
        "IPY_MODEL_04c8f5269c7643bfa5e7aa33552a8ae8"
       ],
       "layout": "IPY_MODEL_885738b16aa34155a71561dae7b5b04f"
      }
     },
     "7fcee769d93045fc96898b50b60aec68": {
      "model_module": "@jupyter-widgets/base",
      "model_module_version": "1.2.0",
      "model_name": "LayoutModel",
      "state": {}
     },
     "7fd20b4a63694c6f9a4b93298e281059": {
      "model_module": "@jupyter-widgets/controls",
      "model_module_version": "1.5.0",
      "model_name": "VBoxModel",
      "state": {
       "children": [
        "IPY_MODEL_eb99d0253cb241f0a26ee93b456fab62",
        "IPY_MODEL_a756027e372f43a48d7f56e062eb02a5"
       ],
       "layout": "IPY_MODEL_179d480e04d442c1854682ea1f74c074"
      }
     },
     "7fd3d513414f4e1eb7e1567a209f051a": {
      "model_module": "@jupyter-widgets/controls",
      "model_module_version": "1.5.0",
      "model_name": "ButtonStyleModel",
      "state": {}
     },
     "7fd7c79870a347ee8cad55db4ed78790": {
      "model_module": "@jupyter-widgets/controls",
      "model_module_version": "1.5.0",
      "model_name": "ButtonModel",
      "state": {
       "description": "9",
       "layout": "IPY_MODEL_43557f10adc94cc3b11dd0229e99f0e3",
       "style": "IPY_MODEL_bdb0795789004927b59fee600d73a49b"
      }
     },
     "7ffa10bb2bbc4cea84729269c4db6304": {
      "model_module": "@jupyter-widgets/controls",
      "model_module_version": "1.5.0",
      "model_name": "ButtonStyleModel",
      "state": {}
     },
     "801d7071becd42bbbd7d227cad2c3590": {
      "model_module": "@jupyter-widgets/base",
      "model_module_version": "1.2.0",
      "model_name": "LayoutModel",
      "state": {
       "width": "50%"
      }
     },
     "805570c0428d4f7783a5905d40f9136e": {
      "model_module": "@jupyter-widgets/controls",
      "model_module_version": "1.5.0",
      "model_name": "DescriptionStyleModel",
      "state": {
       "description_width": ""
      }
     },
     "8086ed2b667440c8bad5946ba610bf03": {
      "model_module": "@jupyter-widgets/base",
      "model_module_version": "1.2.0",
      "model_name": "LayoutModel",
      "state": {}
     },
     "809263d92cb54c63b92ec2bb21cc530e": {
      "model_module": "@jupyter-widgets/base",
      "model_module_version": "1.2.0",
      "model_name": "LayoutModel",
      "state": {}
     },
     "80a9d99a806c45d982d0a5b5b4ce3e1e": {
      "model_module": "@jupyter-widgets/base",
      "model_module_version": "1.2.0",
      "model_name": "LayoutModel",
      "state": {
       "width": "95%"
      }
     },
     "80aa8701d5114d4e96ad3305384e038d": {
      "model_module": "@jupyter-widgets/controls",
      "model_module_version": "1.5.0",
      "model_name": "ButtonStyleModel",
      "state": {}
     },
     "80acccb344ab43959cf12949a550479a": {
      "model_module": "@jupyter-widgets/controls",
      "model_module_version": "1.5.0",
      "model_name": "ButtonModel",
      "state": {
       "description": "8",
       "layout": "IPY_MODEL_4b16c6fc5338403b9a01e24e1b70b765",
       "style": "IPY_MODEL_76ed7534f53840af81d0b6b04b364ef4"
      }
     },
     "80af839c0a7d406c920b3f0db5aeec9e": {
      "model_module": "@jupyter-widgets/controls",
      "model_module_version": "1.5.0",
      "model_name": "ButtonModel",
      "state": {
       "description": "7",
       "layout": "IPY_MODEL_7206112a53d048a1805aec941e035efa",
       "style": "IPY_MODEL_67094e71996047da9a263045474e0e03"
      }
     },
     "80c723bf733341d29823ed1f1902a49e": {
      "model_module": "@jupyter-widgets/controls",
      "model_module_version": "1.5.0",
      "model_name": "VBoxModel",
      "state": {
       "children": [
        "IPY_MODEL_861a1c42fb894a37841d5dd9fdca0e50",
        "IPY_MODEL_314d9f3bb96e4bc79df2273b6f6ac96a"
       ],
       "layout": "IPY_MODEL_a6fb3942e94243949ab8dd2dc10c2957"
      }
     },
     "810ab221046a4e5d84fad638fac4a8c3": {
      "model_module": "@jupyter-widgets/base",
      "model_module_version": "1.2.0",
      "model_name": "LayoutModel",
      "state": {
       "width": "95%"
      }
     },
     "813521f48cb64999903f6a2c1b951507": {
      "model_module": "@jupyter-widgets/base",
      "model_module_version": "1.2.0",
      "model_name": "LayoutModel",
      "state": {
       "width": "95%"
      }
     },
     "813ba45752584a6a943c6c59e3fbf00f": {
      "model_module": "@jupyter-widgets/output",
      "model_module_version": "1.0.0",
      "model_name": "OutputModel",
      "state": {
       "layout": "IPY_MODEL_dc288ef45205407cb2b8d41815017d35"
      }
     },
     "8143fd028a7b4e8f87fe2a6b991126a3": {
      "model_module": "@jupyter-widgets/controls",
      "model_module_version": "1.5.0",
      "model_name": "DescriptionStyleModel",
      "state": {
       "description_width": ""
      }
     },
     "817cc9aa943a4515afb92d0e0a46b3b5": {
      "model_module": "@jupyter-widgets/base",
      "model_module_version": "1.2.0",
      "model_name": "LayoutModel",
      "state": {
       "width": "10%"
      }
     },
     "818da32669e140b3a6b88fc16625e0e2": {
      "model_module": "@jupyter-widgets/base",
      "model_module_version": "1.2.0",
      "model_name": "LayoutModel",
      "state": {
       "width": "10%"
      }
     },
     "81997c833e99452d9414dcf8df0afb66": {
      "model_module": "@jupyter-widgets/controls",
      "model_module_version": "1.5.0",
      "model_name": "DescriptionStyleModel",
      "state": {
       "description_width": ""
      }
     },
     "81a7d1632a7f4fb3ac694227423a9126": {
      "model_module": "@jupyter-widgets/base",
      "model_module_version": "1.2.0",
      "model_name": "LayoutModel",
      "state": {
       "width": "95%"
      }
     },
     "81c6153f96b94a39a2e70ff585db2e46": {
      "model_module": "@jupyter-widgets/controls",
      "model_module_version": "1.5.0",
      "model_name": "ButtonStyleModel",
      "state": {}
     },
     "81d12266c20345cbaaae220aff154a2c": {
      "model_module": "@jupyter-widgets/base",
      "model_module_version": "1.2.0",
      "model_name": "LayoutModel",
      "state": {
       "width": "10%"
      }
     },
     "81d8d55d566b47c1b400f82d42b47cf5": {
      "model_module": "@jupyter-widgets/output",
      "model_module_version": "1.0.0",
      "model_name": "OutputModel",
      "state": {
       "layout": "IPY_MODEL_f3ed66c10f1d4cf1bb9ad84b0e71bf95"
      }
     },
     "81e6de4d4b744fa2b23ed5f2b6b44774": {
      "model_module": "@jupyter-widgets/base",
      "model_module_version": "1.2.0",
      "model_name": "LayoutModel",
      "state": {
       "width": "95%"
      }
     },
     "81eee6e268d349f3ac538e93bc8d637a": {
      "model_module": "@jupyter-widgets/controls",
      "model_module_version": "1.5.0",
      "model_name": "ButtonStyleModel",
      "state": {}
     },
     "820b73beb06b4d9b8f1127d5a2b9ac97": {
      "model_module": "@jupyter-widgets/controls",
      "model_module_version": "1.5.0",
      "model_name": "ButtonStyleModel",
      "state": {}
     },
     "82181a91cf5846bb97ca81b00a0fd535": {
      "model_module": "@jupyter-widgets/base",
      "model_module_version": "1.2.0",
      "model_name": "LayoutModel",
      "state": {
       "width": "10%"
      }
     },
     "8218546174dc41aeb5ac7c330736e66d": {
      "model_module": "@jupyter-widgets/controls",
      "model_module_version": "1.5.0",
      "model_name": "ButtonModel",
      "state": {
       "description": "7",
       "layout": "IPY_MODEL_75b489e2ca60411eb8e0a95b0014071f",
       "style": "IPY_MODEL_aafd56a26b0349ef98cad0607b2dffae"
      }
     },
     "821caa107e214cb39dc772f2e226edb5": {
      "model_module": "@jupyter-widgets/controls",
      "model_module_version": "1.5.0",
      "model_name": "ButtonModel",
      "state": {
       "description": "4",
       "layout": "IPY_MODEL_d9c8b5bc32b74743a4965049c051ebf8",
       "style": "IPY_MODEL_1d47ccff456c4a30a0a51a65cd5e1b05"
      }
     },
     "823e2ee79c6e420599af125ff3d9aeb3": {
      "model_module": "@jupyter-widgets/output",
      "model_module_version": "1.0.0",
      "model_name": "OutputModel",
      "state": {
       "layout": "IPY_MODEL_d4c833a6dce84125b5217869a0f20280"
      }
     },
     "824f6ece96ae4014991d5d4894e7a1e6": {
      "model_module": "@jupyter-widgets/base",
      "model_module_version": "1.2.0",
      "model_name": "LayoutModel",
      "state": {}
     },
     "825f4b69fef14220b808b32517c20c28": {
      "model_module": "@jupyter-widgets/base",
      "model_module_version": "1.2.0",
      "model_name": "LayoutModel",
      "state": {}
     },
     "82a1345d0044425997613b7e94697be4": {
      "model_module": "@jupyter-widgets/base",
      "model_module_version": "1.2.0",
      "model_name": "LayoutModel",
      "state": {}
     },
     "82c9c4926e304a7c8426dba3b3a5cf98": {
      "model_module": "@jupyter-widgets/output",
      "model_module_version": "1.0.0",
      "model_name": "OutputModel",
      "state": {
       "layout": "IPY_MODEL_703ad0e5e6204195b349fda0e2cc83d8"
      }
     },
     "82cfeb1fa47f48518544b9c7da3d51bf": {
      "model_module": "@jupyter-widgets/base",
      "model_module_version": "1.2.0",
      "model_name": "LayoutModel",
      "state": {}
     },
     "82dbe239cd9a4e2b8ce4b34982e9da7e": {
      "model_module": "@jupyter-widgets/controls",
      "model_module_version": "1.5.0",
      "model_name": "ButtonModel",
      "state": {
       "description": "7",
       "layout": "IPY_MODEL_8a73219f41dc4b78bfdd4da93aa47454",
       "style": "IPY_MODEL_b46ad9826a26449b9fc7c56912383722"
      }
     },
     "82faf407a4534e4f85e32d3e72cc8adb": {
      "model_module": "@jupyter-widgets/base",
      "model_module_version": "1.2.0",
      "model_name": "LayoutModel",
      "state": {
       "width": "95%"
      }
     },
     "8314dc1161aa436faae296b628d9787f": {
      "model_module": "@jupyter-widgets/base",
      "model_module_version": "1.2.0",
      "model_name": "LayoutModel",
      "state": {}
     },
     "833f0a1a42484a04baecc55db907bae4": {
      "model_module": "@jupyter-widgets/controls",
      "model_module_version": "1.5.0",
      "model_name": "ButtonModel",
      "state": {
       "description": "9",
       "layout": "IPY_MODEL_bffbb80f17ab443b8696ee27bf1cf591",
       "style": "IPY_MODEL_fcf498767d634237835bdb935e4708cd"
      }
     },
     "834f8e1c7321485c9a17f95faaca7add": {
      "model_module": "@jupyter-widgets/output",
      "model_module_version": "1.0.0",
      "model_name": "OutputModel",
      "state": {
       "layout": "IPY_MODEL_48686d8d5197452bb773e7ebb422d273"
      }
     },
     "835159f7c8e248049d565a20107e4edb": {
      "model_module": "@jupyter-widgets/controls",
      "model_module_version": "1.5.0",
      "model_name": "VBoxModel",
      "state": {
       "children": [
        "IPY_MODEL_b93ccef601194dc0b5c8d219f87ce5a8",
        "IPY_MODEL_ac6b3632a02346b391ffb32b1e6a408c"
       ],
       "layout": "IPY_MODEL_7a8aa386e53448859ac6aa8cf9deb73e"
      }
     },
     "835179f0af8149418cc14135f6bd83c2": {
      "model_module": "@jupyter-widgets/controls",
      "model_module_version": "1.5.0",
      "model_name": "HBoxModel",
      "state": {
       "children": [
        "IPY_MODEL_83d8395e20fe487a8d9290e594b45512",
        "IPY_MODEL_539851c172b746bfa9b18aec5070b080",
        "IPY_MODEL_231c1a57847a453aa37a92c12dedcc41",
        "IPY_MODEL_5321cb2abdb94edc899bea9d5ec711c3",
        "IPY_MODEL_55f10767404847daa578e67c20bcab19",
        "IPY_MODEL_069d16523e204d7d9fd7ee8b2056fd29",
        "IPY_MODEL_347e558b30e7478a9cc931d55f57cd63",
        "IPY_MODEL_a1cf7b18c0a9446eb13e8cc09c0edeeb",
        "IPY_MODEL_229c4002666943ddbd528b66e73b4c25",
        "IPY_MODEL_7f9902a39cf64368aa627db5861b0e44"
       ],
       "layout": "IPY_MODEL_4dc66ba79cc44ad484c6fb475dda0139"
      }
     },
     "837f667c691e42e2b4eaa4bbcea12c40": {
      "model_module": "@jupyter-widgets/controls",
      "model_module_version": "1.5.0",
      "model_name": "ButtonModel",
      "state": {
       "description": "3",
       "layout": "IPY_MODEL_6c4f6f8d297a4f3ea7039f2325d3438c",
       "style": "IPY_MODEL_58568aaba7794d8abf50dbf9f278a6a6"
      }
     },
     "83b897be20c94de99e79c9e30eb8d7ce": {
      "model_module": "@jupyter-widgets/controls",
      "model_module_version": "1.5.0",
      "model_name": "ButtonModel",
      "state": {
       "description": "7",
       "layout": "IPY_MODEL_92e41a759410426e8c452b48ce9a5318",
       "style": "IPY_MODEL_2d5232b9be9949faa7402f797d7df188"
      }
     },
     "83bec8fcd45842f08bf9ce247f7fcbe8": {
      "model_module": "@jupyter-widgets/output",
      "model_module_version": "1.0.0",
      "model_name": "OutputModel",
      "state": {
       "layout": "IPY_MODEL_4cbc3c7cefa34a99b54f967b5ce3ceaa"
      }
     },
     "83c6c0279af24c4b9ae1654c0f1b6e1d": {
      "model_module": "@jupyter-widgets/base",
      "model_module_version": "1.2.0",
      "model_name": "LayoutModel",
      "state": {}
     },
     "83d8395e20fe487a8d9290e594b45512": {
      "model_module": "@jupyter-widgets/controls",
      "model_module_version": "1.5.0",
      "model_name": "VBoxModel",
      "state": {
       "children": [
        "IPY_MODEL_9647a75ea85b40e8aaf155fc9ad300b0",
        "IPY_MODEL_c58e8037d1564b4e8bf23633763e597d"
       ],
       "layout": "IPY_MODEL_98cd9b83fd14486293bcf7e22f16d822"
      }
     },
     "83ed646d5c594a32a2fc54753b5417e2": {
      "model_module": "@jupyter-widgets/output",
      "model_module_version": "1.0.0",
      "model_name": "OutputModel",
      "state": {
       "layout": "IPY_MODEL_5985d0f8b6d54fb99e04ee3c7bade304"
      }
     },
     "8445f40b490242a3bb44ac6f52ce1eb2": {
      "model_module": "@jupyter-widgets/controls",
      "model_module_version": "1.5.0",
      "model_name": "ButtonStyleModel",
      "state": {}
     },
     "8447d9e7a46e4eb295cb2156525fcc90": {
      "model_module": "@jupyter-widgets/base",
      "model_module_version": "1.2.0",
      "model_name": "LayoutModel",
      "state": {
       "width": "95%"
      }
     },
     "846237a8269d452780ae8332cd9623f5": {
      "model_module": "@jupyter-widgets/base",
      "model_module_version": "1.2.0",
      "model_name": "LayoutModel",
      "state": {
       "width": "10%"
      }
     },
     "846902be3c6e4a4488ded5ff0e6e2d1a": {
      "model_module": "@jupyter-widgets/base",
      "model_module_version": "1.2.0",
      "model_name": "LayoutModel",
      "state": {}
     },
     "84764b9d6fc544df9e0a632ce8666fea": {
      "model_module": "@jupyter-widgets/controls",
      "model_module_version": "1.5.0",
      "model_name": "ButtonModel",
      "state": {
       "description": "4",
       "layout": "IPY_MODEL_ec5ff307fac04d9b9a33769d30eaf2ec",
       "style": "IPY_MODEL_78dd8de3eb014ffc95d6c6e05726a3a7"
      }
     },
     "849bb6a57fad459d9cbf5701ed8c23f5": {
      "model_module": "@jupyter-widgets/base",
      "model_module_version": "1.2.0",
      "model_name": "LayoutModel",
      "state": {}
     },
     "849deae621834620b37175a0018337dc": {
      "model_module": "@jupyter-widgets/base",
      "model_module_version": "1.2.0",
      "model_name": "LayoutModel",
      "state": {
       "width": "10%"
      }
     },
     "84a7a2d48915420f93fb006d767252f3": {
      "model_module": "@jupyter-widgets/controls",
      "model_module_version": "1.5.0",
      "model_name": "ButtonStyleModel",
      "state": {}
     },
     "84d5f44db05e449ca77317ca9d90473d": {
      "model_module": "@jupyter-widgets/base",
      "model_module_version": "1.2.0",
      "model_name": "LayoutModel",
      "state": {
       "width": "10%"
      }
     },
     "84d7acb048bf4f2eb463d600bfb4b56c": {
      "model_module": "@jupyter-widgets/controls",
      "model_module_version": "1.5.0",
      "model_name": "ButtonStyleModel",
      "state": {}
     },
     "84e12a3a153f4cd4b4bd98e295b17e19": {
      "model_module": "@jupyter-widgets/output",
      "model_module_version": "1.0.0",
      "model_name": "OutputModel",
      "state": {
       "layout": "IPY_MODEL_865e8f3a826f4e1d840f37519c8c5eba"
      }
     },
     "84f441280b7149da9e7e07bb400c59de": {
      "model_module": "@jupyter-widgets/output",
      "model_module_version": "1.0.0",
      "model_name": "OutputModel",
      "state": {
       "layout": "IPY_MODEL_c943865aabc147b991aef8e24f62b761"
      }
     },
     "84f63682730d4a599605cf07bb65999c": {
      "model_module": "@jupyter-widgets/output",
      "model_module_version": "1.0.0",
      "model_name": "OutputModel",
      "state": {
       "layout": "IPY_MODEL_b90ae4bf717841c098edf80dab3a9548"
      }
     },
     "8509fa792c3e4c5197214701e7b8c6f8": {
      "model_module": "@jupyter-widgets/controls",
      "model_module_version": "1.5.0",
      "model_name": "ButtonStyleModel",
      "state": {}
     },
     "851f7805ba2048feb03e274eefd7d0a2": {
      "model_module": "@jupyter-widgets/controls",
      "model_module_version": "1.5.0",
      "model_name": "VBoxModel",
      "state": {
       "children": [
        "IPY_MODEL_57045e8004d44ced81836761b4fe639a",
        "IPY_MODEL_60f5e6db458640bd9100cc96d38830ff"
       ],
       "layout": "IPY_MODEL_59d2ee435ebb443eb857d5cedd704413"
      }
     },
     "85234bd6a7f8439f94dec7765640c7ac": {
      "model_module": "@jupyter-widgets/base",
      "model_module_version": "1.2.0",
      "model_name": "LayoutModel",
      "state": {}
     },
     "85715bb2b7924a3f8405a79b17caee5b": {
      "model_module": "@jupyter-widgets/base",
      "model_module_version": "1.2.0",
      "model_name": "LayoutModel",
      "state": {
       "width": "10%"
      }
     },
     "857f013a20e24788b1fc9fad8d9c8068": {
      "model_module": "@jupyter-widgets/base",
      "model_module_version": "1.2.0",
      "model_name": "LayoutModel",
      "state": {}
     },
     "8587081782754c42ab3266c3aa96730b": {
      "model_module": "@jupyter-widgets/base",
      "model_module_version": "1.2.0",
      "model_name": "LayoutModel",
      "state": {}
     },
     "858e15f832c446ab953e51ca77b07a65": {
      "model_module": "@jupyter-widgets/controls",
      "model_module_version": "1.5.0",
      "model_name": "VBoxModel",
      "state": {
       "children": [
        "IPY_MODEL_07e4c9bb58cf463191e1428452d4e044",
        "IPY_MODEL_4fe4f2c1189a48268e05732137f8760c"
       ],
       "layout": "IPY_MODEL_77c87317bade493daad83e286518b8ab"
      }
     },
     "8596f23833c244e49c29e8a208e1d3a2": {
      "model_module": "@jupyter-widgets/controls",
      "model_module_version": "1.5.0",
      "model_name": "ButtonStyleModel",
      "state": {}
     },
     "85a822fc4c894fdd84219f4442d15a2d": {
      "model_module": "@jupyter-widgets/base",
      "model_module_version": "1.2.0",
      "model_name": "LayoutModel",
      "state": {
       "width": "95%"
      }
     },
     "85cb21fc999f4b5da7b9784786efa0e2": {
      "model_module": "@jupyter-widgets/base",
      "model_module_version": "1.2.0",
      "model_name": "LayoutModel",
      "state": {
       "width": "95%"
      }
     },
     "85cb31ef35eb419c9c04d2276e724e98": {
      "model_module": "@jupyter-widgets/base",
      "model_module_version": "1.2.0",
      "model_name": "LayoutModel",
      "state": {
       "width": "95%"
      }
     },
     "85fb8ac6e27249ba8206a096c6743689": {
      "model_module": "@jupyter-widgets/controls",
      "model_module_version": "1.5.0",
      "model_name": "VBoxModel",
      "state": {
       "children": [
        "IPY_MODEL_6cb7b0ad4803494bb5fefd03111af5c5",
        "IPY_MODEL_e520968cf00a42dda2d3b913dd154aad"
       ],
       "layout": "IPY_MODEL_2d8e385978b14ed1994edbd7b0ce9204"
      }
     },
     "86137e492a684d4baab5f52a51dd0161": {
      "model_module": "@jupyter-widgets/base",
      "model_module_version": "1.2.0",
      "model_name": "LayoutModel",
      "state": {
       "width": "95%"
      }
     },
     "861a1c42fb894a37841d5dd9fdca0e50": {
      "model_module": "@jupyter-widgets/controls",
      "model_module_version": "1.5.0",
      "model_name": "ButtonModel",
      "state": {
       "description": "5",
       "layout": "IPY_MODEL_ab3664a289d441c0a37ac2a170707754",
       "style": "IPY_MODEL_d0fa810844424aae87d84cdce726a590"
      }
     },
     "86210ef17bdd4364b08922ff959d33c0": {
      "model_module": "@jupyter-widgets/base",
      "model_module_version": "1.2.0",
      "model_name": "LayoutModel",
      "state": {
       "width": "10%"
      }
     },
     "86523b5cc7c3429999cc3c8a76299196": {
      "model_module": "@jupyter-widgets/base",
      "model_module_version": "1.2.0",
      "model_name": "LayoutModel",
      "state": {
       "width": "10%"
      }
     },
     "865e8f3a826f4e1d840f37519c8c5eba": {
      "model_module": "@jupyter-widgets/base",
      "model_module_version": "1.2.0",
      "model_name": "LayoutModel",
      "state": {}
     },
     "8661bb14f7234cb6949dce65e348cbcb": {
      "model_module": "@jupyter-widgets/output",
      "model_module_version": "1.0.0",
      "model_name": "OutputModel",
      "state": {
       "layout": "IPY_MODEL_33aada0d5ca04048b5321ec8c6fc5d97"
      }
     },
     "8699cacdb9fb476790b5dc70b83d1e74": {
      "model_module": "@jupyter-widgets/controls",
      "model_module_version": "1.5.0",
      "model_name": "ButtonStyleModel",
      "state": {}
     },
     "8699f74ac3a44d3db552853a430ea81d": {
      "model_module": "@jupyter-widgets/controls",
      "model_module_version": "1.5.0",
      "model_name": "VBoxModel",
      "state": {
       "children": [
        "IPY_MODEL_4126d9ed50cc46b2a8532f70a4c795df",
        "IPY_MODEL_410cc6a426d049eba1353ce205ca9fc7"
       ],
       "layout": "IPY_MODEL_fd4611d34245484d8e34c4f1d7cce21e"
      }
     },
     "86a63720fb7541ceb18781ff1bc231b5": {
      "model_module": "@jupyter-widgets/controls",
      "model_module_version": "1.5.0",
      "model_name": "ButtonStyleModel",
      "state": {}
     },
     "86a725fac55846ce8b7764a7ab4b9359": {
      "model_module": "@jupyter-widgets/base",
      "model_module_version": "1.2.0",
      "model_name": "LayoutModel",
      "state": {
       "width": "10%"
      }
     },
     "86afc72b4af84265a03991f3017d3467": {
      "model_module": "@jupyter-widgets/controls",
      "model_module_version": "1.5.0",
      "model_name": "ButtonStyleModel",
      "state": {}
     },
     "86b768b97c294d1fa3daa69f6704a5cb": {
      "model_module": "@jupyter-widgets/controls",
      "model_module_version": "1.5.0",
      "model_name": "ButtonStyleModel",
      "state": {}
     },
     "86cc235df146401e8e0463feb9ff1537": {
      "model_module": "@jupyter-widgets/output",
      "model_module_version": "1.0.0",
      "model_name": "OutputModel",
      "state": {
       "layout": "IPY_MODEL_feceaa7b365e4a508191d47b4e87baa2"
      }
     },
     "86f82a2883804a2094fc1c3c9fa8c3a4": {
      "model_module": "@jupyter-widgets/controls",
      "model_module_version": "1.5.0",
      "model_name": "ButtonStyleModel",
      "state": {}
     },
     "86fe4611b0b0437a89562560d3c7f0f0": {
      "model_module": "@jupyter-widgets/base",
      "model_module_version": "1.2.0",
      "model_name": "LayoutModel",
      "state": {}
     },
     "870a0afe07ab4f0dab1cca8bb6c42b5e": {
      "model_module": "@jupyter-widgets/output",
      "model_module_version": "1.0.0",
      "model_name": "OutputModel",
      "state": {
       "layout": "IPY_MODEL_609e0003e17b463890cacae5e33f40c1"
      }
     },
     "870c7f9e02344944bbc50804b99cdc92": {
      "model_module": "@jupyter-widgets/base",
      "model_module_version": "1.2.0",
      "model_name": "LayoutModel",
      "state": {
       "width": "95%"
      }
     },
     "8711ad3b73d04159b4b9f43f2ecc0907": {
      "model_module": "@jupyter-widgets/controls",
      "model_module_version": "1.5.0",
      "model_name": "VBoxModel",
      "state": {
       "children": [
        "IPY_MODEL_1c17bb6a934d4b63923502d14f4bda91",
        "IPY_MODEL_a1578cb818194e1abb037e4b83320a07"
       ],
       "layout": "IPY_MODEL_36444c85b3a94b059fa9302d8fe17cde"
      }
     },
     "874484af2d6643a8a72603648bf022a8": {
      "model_module": "@jupyter-widgets/controls",
      "model_module_version": "1.5.0",
      "model_name": "VBoxModel",
      "state": {
       "children": [
        "IPY_MODEL_d26077367e8e44338eb8edec4d86e16a",
        "IPY_MODEL_0aa3063419264857ab508fecaea59a47"
       ],
       "layout": "IPY_MODEL_098fa379e5884996b6279b4f53a75cc1"
      }
     },
     "8756daaffd2b4cf1b8edb162cdf83fd9": {
      "model_module": "@jupyter-widgets/base",
      "model_module_version": "1.2.0",
      "model_name": "LayoutModel",
      "state": {}
     },
     "87cfc0990ea040adabc4e025cd95aa1f": {
      "model_module": "@jupyter-widgets/base",
      "model_module_version": "1.2.0",
      "model_name": "LayoutModel",
      "state": {
       "justify_content": "space-between"
      }
     },
     "87dacdfa3105430b924b1b7d1cda08f1": {
      "model_module": "@jupyter-widgets/controls",
      "model_module_version": "1.5.0",
      "model_name": "ButtonStyleModel",
      "state": {}
     },
     "88041c229b7345d294161506f9431e0e": {
      "model_module": "@jupyter-widgets/controls",
      "model_module_version": "1.5.0",
      "model_name": "ButtonStyleModel",
      "state": {}
     },
     "885738b16aa34155a71561dae7b5b04f": {
      "model_module": "@jupyter-widgets/base",
      "model_module_version": "1.2.0",
      "model_name": "LayoutModel",
      "state": {
       "width": "10%"
      }
     },
     "885b8eb339bb4d7bae77d333d88c48a9": {
      "model_module": "@jupyter-widgets/output",
      "model_module_version": "1.0.0",
      "model_name": "OutputModel",
      "state": {
       "layout": "IPY_MODEL_e10bb35a53794a64a49c4fcc78f97085"
      }
     },
     "8890329a9b7549fda333ca7e4198c235": {
      "model_module": "@jupyter-widgets/base",
      "model_module_version": "1.2.0",
      "model_name": "LayoutModel",
      "state": {
       "width": "95%"
      }
     },
     "8891e8d67f514a2abd6ea470eb898920": {
      "model_module": "@jupyter-widgets/base",
      "model_module_version": "1.2.0",
      "model_name": "LayoutModel",
      "state": {
       "justify_content": "space-between"
      }
     },
     "88df15c526a34942bb8b19956c6c6d8d": {
      "model_module": "@jupyter-widgets/controls",
      "model_module_version": "1.5.0",
      "model_name": "ButtonStyleModel",
      "state": {}
     },
     "89042361125a4e25a264dd165dbb81c5": {
      "model_module": "@jupyter-widgets/controls",
      "model_module_version": "1.5.0",
      "model_name": "VBoxModel",
      "state": {
       "children": [
        "IPY_MODEL_c8775de2b4fc4b4ca9dbd3d4cc75a4a3",
        "IPY_MODEL_cf165d1b022d488a87604dee642824bf"
       ],
       "layout": "IPY_MODEL_fb6502f2a01a413d88ae140b770934d9"
      }
     },
     "8913fe84fd46429c9702f5259799ac03": {
      "model_module": "@jupyter-widgets/controls",
      "model_module_version": "1.5.0",
      "model_name": "ButtonModel",
      "state": {
       "description": "7",
       "layout": "IPY_MODEL_b1cf4982d268416dbeaacf5ee79fe681",
       "style": "IPY_MODEL_80aa8701d5114d4e96ad3305384e038d"
      }
     },
     "8931ef1501b348b7bca30020bf022e3e": {
      "model_module": "@jupyter-widgets/base",
      "model_module_version": "1.2.0",
      "model_name": "LayoutModel",
      "state": {
       "width": "10%"
      }
     },
     "893dc3e3edb34242b7e3e0a9226e51f9": {
      "model_module": "@jupyter-widgets/controls",
      "model_module_version": "1.5.0",
      "model_name": "VBoxModel",
      "state": {
       "children": [
        "IPY_MODEL_cefdfb0016a6406794e9964686e17c59",
        "IPY_MODEL_724f8450b1c0417ab27b46cdf8f9d7b6"
       ],
       "layout": "IPY_MODEL_473c1e103b7b4a20ace019d9375cf3cd"
      }
     },
     "8945680e9b5a40b28d31fa9105a24c74": {
      "model_module": "@jupyter-widgets/controls",
      "model_module_version": "1.5.0",
      "model_name": "TextModel",
      "state": {
       "description": "Other:",
       "layout": "IPY_MODEL_6c35f1ed63bc4dd585752cdf54f49118",
       "placeholder": "Hit enter to submit.",
       "style": "IPY_MODEL_3a6dbf1b5af449178d82e29efed85fd7"
      }
     },
     "895cedaf7bc645f28118ef2dbb24e89d": {
      "model_module": "@jupyter-widgets/controls",
      "model_module_version": "1.5.0",
      "model_name": "VBoxModel",
      "state": {
       "children": [
        "IPY_MODEL_56c902b0aca4492c8085584896c6a203",
        "IPY_MODEL_5556f0a2745141bf9655e2b89af53a8c"
       ],
       "layout": "IPY_MODEL_a034d6470c954858bc17f4fb46e5dff8"
      }
     },
     "8989e153cef44cc3bf12e833b1b63897": {
      "model_module": "@jupyter-widgets/controls",
      "model_module_version": "1.5.0",
      "model_name": "ButtonStyleModel",
      "state": {}
     },
     "89a0fc4bbbcf4ec7b7201b80a40322e7": {
      "model_module": "@jupyter-widgets/controls",
      "model_module_version": "1.5.0",
      "model_name": "VBoxModel",
      "state": {
       "children": [
        "IPY_MODEL_ab62a12397d54e838a891801fd7458f1",
        "IPY_MODEL_d8b73f7f4081488fb4f0988cb596e9db"
       ],
       "layout": "IPY_MODEL_68c330ceef5a49d48bdaeefbb29ff5fd"
      }
     },
     "89b0bc2e003a41c0a4731b90b71e92b7": {
      "model_module": "@jupyter-widgets/controls",
      "model_module_version": "1.5.0",
      "model_name": "ButtonStyleModel",
      "state": {}
     },
     "89d31f13abf24827b9613d7c578d3f81": {
      "model_module": "@jupyter-widgets/controls",
      "model_module_version": "1.5.0",
      "model_name": "VBoxModel",
      "state": {
       "children": [
        "IPY_MODEL_fdf96a4f0d5c4b77a0b7cdd0fa1100bf",
        "IPY_MODEL_24f577984da04e7c901bf94d6bd3a46c"
       ],
       "layout": "IPY_MODEL_d5e269785c894a50a07354e7623ee7b8"
      }
     },
     "89f654964eb146a2ae6af16541ae26a6": {
      "model_module": "@jupyter-widgets/controls",
      "model_module_version": "1.5.0",
      "model_name": "ButtonModel",
      "state": {
       "description": "2",
       "layout": "IPY_MODEL_d06eec382a604471b2455910f8ed20f9",
       "style": "IPY_MODEL_fd4a918c29ef4e2484ee4916df6f2331"
      }
     },
     "8a01a60198b4455e8449a57b5b04a3c3": {
      "model_module": "@jupyter-widgets/base",
      "model_module_version": "1.2.0",
      "model_name": "LayoutModel",
      "state": {
       "width": "10%"
      }
     },
     "8a4077469a2349eeb49ea064cd2fc166": {
      "model_module": "@jupyter-widgets/controls",
      "model_module_version": "1.5.0",
      "model_name": "VBoxModel",
      "state": {
       "children": [
        "IPY_MODEL_2fbd45a2bcd4431b8addbe8cd7a36d06",
        "IPY_MODEL_3c4230d2acfe479b9db86d51d020bea3"
       ],
       "layout": "IPY_MODEL_e45b2257831a48ad894b7afbdc8dc228"
      }
     },
     "8a49cd0d67e14983acfcd2a7b12726f6": {
      "model_module": "@jupyter-widgets/base",
      "model_module_version": "1.2.0",
      "model_name": "LayoutModel",
      "state": {}
     },
     "8a73219f41dc4b78bfdd4da93aa47454": {
      "model_module": "@jupyter-widgets/base",
      "model_module_version": "1.2.0",
      "model_name": "LayoutModel",
      "state": {
       "width": "95%"
      }
     },
     "8a8f4ba5f466427682e0cc73edc8d775": {
      "model_module": "@jupyter-widgets/controls",
      "model_module_version": "1.5.0",
      "model_name": "ButtonStyleModel",
      "state": {}
     },
     "8ac4063f4d934794a5ec5afbe4d12e12": {
      "model_module": "@jupyter-widgets/controls",
      "model_module_version": "1.5.0",
      "model_name": "ButtonStyleModel",
      "state": {}
     },
     "8acb7f1ed92d4681b39bd0277bd33d14": {
      "model_module": "@jupyter-widgets/base",
      "model_module_version": "1.2.0",
      "model_name": "LayoutModel",
      "state": {
       "width": "10%"
      }
     },
     "8af30001c3e74b4b92b85702fc177e0b": {
      "model_module": "@jupyter-widgets/controls",
      "model_module_version": "1.5.0",
      "model_name": "ButtonModel",
      "state": {
       "description": "0",
       "layout": "IPY_MODEL_196a2e9864d140fa9ceb82623e6b6718",
       "style": "IPY_MODEL_5fa0c23264524b4a915fb18ea0f973a0"
      }
     },
     "8b0738b9a6d54ccd857ebfdf7f9916ed": {
      "model_module": "@jupyter-widgets/controls",
      "model_module_version": "1.5.0",
      "model_name": "ButtonStyleModel",
      "state": {}
     },
     "8b0d3fc4bcbe44cea25c7edf802fe945": {
      "model_module": "@jupyter-widgets/controls",
      "model_module_version": "1.5.0",
      "model_name": "VBoxModel",
      "state": {
       "children": [
        "IPY_MODEL_a18a134a24a244aa83d8278e264b1725",
        "IPY_MODEL_688e15f6be7143ecbf3703e1db90bee5"
       ],
       "layout": "IPY_MODEL_6f167d45301a4f13a4c5f46af86a1670"
      }
     },
     "8b24c4cbe3de46afbc6ee36c05d2f466": {
      "model_module": "@jupyter-widgets/base",
      "model_module_version": "1.2.0",
      "model_name": "LayoutModel",
      "state": {
       "width": "10%"
      }
     },
     "8b3b4a2714a9466aaeea48ca0916a0fc": {
      "model_module": "@jupyter-widgets/base",
      "model_module_version": "1.2.0",
      "model_name": "LayoutModel",
      "state": {}
     },
     "8b57cc60211e4c8b8e042bc6eed593bc": {
      "model_module": "@jupyter-widgets/controls",
      "model_module_version": "1.5.0",
      "model_name": "ButtonModel",
      "state": {
       "description": "9",
       "layout": "IPY_MODEL_dd7ea9bb25f048518131d4f39fdd88f5",
       "style": "IPY_MODEL_aaa08f0445404a769ff71e40ee3f4a1a"
      }
     },
     "8b5a67e09be142a8b67483b8b97adba9": {
      "model_module": "@jupyter-widgets/output",
      "model_module_version": "1.0.0",
      "model_name": "OutputModel",
      "state": {
       "layout": "IPY_MODEL_60e13d20745a49e48b857a859f87423a"
      }
     },
     "8b60e974c52144e78f2fbdc5f144637d": {
      "model_module": "@jupyter-widgets/controls",
      "model_module_version": "1.5.0",
      "model_name": "VBoxModel",
      "state": {
       "children": [
        "IPY_MODEL_1ec19ca9bc144bd6bd76350171b16c80",
        "IPY_MODEL_ecbffee9b3254d03b54b842cbeaf5dcb"
       ],
       "layout": "IPY_MODEL_6845ccb1f7cb40b3863d9ca541c45a03"
      }
     },
     "8b666fee3cc74b4cbbf0c1936d7fe62c": {
      "model_module": "@jupyter-widgets/controls",
      "model_module_version": "1.5.0",
      "model_name": "ProgressStyleModel",
      "state": {
       "description_width": ""
      }
     },
     "8b8a8efcd10c469a9abb779142ae3bb5": {
      "model_module": "@jupyter-widgets/controls",
      "model_module_version": "1.5.0",
      "model_name": "ButtonModel",
      "state": {
       "description": "9",
       "layout": "IPY_MODEL_9f7ea885150a425e829a74ff0fc24f59",
       "style": "IPY_MODEL_192046d4a05140248d9d6fafdd917d60"
      }
     },
     "8b9ddacfb71f4b88974a709ccf2ec5f9": {
      "model_module": "@jupyter-widgets/output",
      "model_module_version": "1.0.0",
      "model_name": "OutputModel",
      "state": {
       "layout": "IPY_MODEL_3ab52088fea04f4bbdd25a169a1d701d"
      }
     },
     "8bb368804ffb4c10adc63caa9c5ed12d": {
      "model_module": "@jupyter-widgets/base",
      "model_module_version": "1.2.0",
      "model_name": "LayoutModel",
      "state": {
       "width": "95%"
      }
     },
     "8bfa2c69005d43778c35e5b7f9cd76b3": {
      "model_module": "@jupyter-widgets/base",
      "model_module_version": "1.2.0",
      "model_name": "LayoutModel",
      "state": {}
     },
     "8c0ec80652c44d92af5514d932cbc6b4": {
      "model_module": "@jupyter-widgets/controls",
      "model_module_version": "1.5.0",
      "model_name": "ButtonModel",
      "state": {
       "description": "5",
       "layout": "IPY_MODEL_60228800c1c24036af93a794a027476d",
       "style": "IPY_MODEL_3603a83e35594fd0bd579d15978142cb"
      }
     },
     "8c0fab9f87d6490ca9c69129a3b837a0": {
      "model_module": "@jupyter-widgets/controls",
      "model_module_version": "1.5.0",
      "model_name": "HBoxModel",
      "state": {
       "children": [
        "IPY_MODEL_e0521d4b38c84ed9bcf02fa33692175f",
        "IPY_MODEL_835159f7c8e248049d565a20107e4edb",
        "IPY_MODEL_bcb97b560bd444b8a7285b8f887cf5e5",
        "IPY_MODEL_dcb7d4d06cd349db8214371e89a7ffae",
        "IPY_MODEL_ee4cc86fdde24dfe86ac2735ef9beea5",
        "IPY_MODEL_7854110e294a458d92035a9ceb2d8b70",
        "IPY_MODEL_1b439bb52c1a4ac99b4f4a38074144f4",
        "IPY_MODEL_e0319d0ea8414d5c927f802aba58a964",
        "IPY_MODEL_9475cd87a621435caea2b3f6220ef1e2",
        "IPY_MODEL_d9cfe4baf94e47dcb93f50364a02bb42"
       ],
       "layout": "IPY_MODEL_85234bd6a7f8439f94dec7765640c7ac"
      }
     },
     "8c170890adf74412a629e2dd86104ccf": {
      "model_module": "@jupyter-widgets/controls",
      "model_module_version": "1.5.0",
      "model_name": "ButtonModel",
      "state": {
       "description": "2",
       "layout": "IPY_MODEL_10d9bdc0c7324f5e99451eff18072088",
       "style": "IPY_MODEL_3eb5d32159164dc5aac441616a0cf3de"
      }
     },
     "8c298ac9492a4935b6aeba7c2447b816": {
      "model_module": "@jupyter-widgets/controls",
      "model_module_version": "1.5.0",
      "model_name": "VBoxModel",
      "state": {
       "children": [
        "IPY_MODEL_f462a5780fb444ba8326e74dbb28dd6b",
        "IPY_MODEL_b202745c9c514d73a93283808ca1c801"
       ],
       "layout": "IPY_MODEL_fe2d0818d8f846b8b42695ba94a9820e"
      }
     },
     "8c2bfb44e6b3425f99323172643a24a7": {
      "model_module": "@jupyter-widgets/controls",
      "model_module_version": "1.5.0",
      "model_name": "ButtonModel",
      "state": {
       "description": "8",
       "layout": "IPY_MODEL_2ad96d6257234aa29064da78924e42c4",
       "style": "IPY_MODEL_35c64884b4764ac59174be602a6771e3"
      }
     },
     "8c2e9a9e38ae4b33ac9316d59bc453b8": {
      "model_module": "@jupyter-widgets/output",
      "model_module_version": "1.0.0",
      "model_name": "OutputModel",
      "state": {
       "layout": "IPY_MODEL_a18b74903ff94f5984038ed2df09c93b"
      }
     },
     "8c340eca2f5b494ba9962d923ba00f90": {
      "model_module": "@jupyter-widgets/controls",
      "model_module_version": "1.5.0",
      "model_name": "HBoxModel",
      "state": {
       "children": [
        "IPY_MODEL_ea515f6ab0fb4c8fa83df8e40b2a12b3",
        "IPY_MODEL_b5071a727cb4429ab5846a1b5e1e9269",
        "IPY_MODEL_0d1325c707c8443cadea347f7b556f0b"
       ],
       "layout": "IPY_MODEL_4c55045bd5b44af8b2b82937843cec7b"
      }
     },
     "8c5af0bd9f4647b3967fe1f8d9788a9a": {
      "model_module": "@jupyter-widgets/base",
      "model_module_version": "1.2.0",
      "model_name": "LayoutModel",
      "state": {
       "width": "95%"
      }
     },
     "8c7603dc5258409890f3020f4fb3c0c4": {
      "model_module": "@jupyter-widgets/controls",
      "model_module_version": "1.5.0",
      "model_name": "ButtonModel",
      "state": {
       "description": "0",
       "layout": "IPY_MODEL_955b3366d28d4070a5730fc12db733c3",
       "style": "IPY_MODEL_b41cfe2ccf0a4c878639df4b198f6d8d"
      }
     },
     "8c82d3ae02ec4d389c3bce96afa7869b": {
      "model_module": "@jupyter-widgets/output",
      "model_module_version": "1.0.0",
      "model_name": "OutputModel",
      "state": {
       "layout": "IPY_MODEL_fe22d1cc8fba45d68090dff1c80a846d"
      }
     },
     "8c9132e5e3e643119d7a8164c61a4f31": {
      "model_module": "@jupyter-widgets/base",
      "model_module_version": "1.2.0",
      "model_name": "LayoutModel",
      "state": {
       "width": "95%"
      }
     },
     "8c94ad4e28fa4ae8a58e2a4f6f8caff9": {
      "model_module": "@jupyter-widgets/controls",
      "model_module_version": "1.5.0",
      "model_name": "VBoxModel",
      "state": {
       "children": [
        "IPY_MODEL_7fd7c79870a347ee8cad55db4ed78790",
        "IPY_MODEL_3cb9a5bebd29449faf6baafd76347c19"
       ],
       "layout": "IPY_MODEL_a79402975e5a4be8873292344df0fd4e"
      }
     },
     "8cdb3500548c4248b8f0b6654b7c05ad": {
      "model_module": "@jupyter-widgets/base",
      "model_module_version": "1.2.0",
      "model_name": "LayoutModel",
      "state": {
       "width": "10%"
      }
     },
     "8d0e4259702d47868882d95e94d443ab": {
      "model_module": "@jupyter-widgets/controls",
      "model_module_version": "1.5.0",
      "model_name": "ButtonModel",
      "state": {
       "description": "6",
       "layout": "IPY_MODEL_515e48d074f64e0f905bfe37044362d7",
       "style": "IPY_MODEL_a2dfee0a9f444ab297c4576446232f54"
      }
     },
     "8d1337162c084966b2e1b4245b1b9bd8": {
      "model_module": "@jupyter-widgets/base",
      "model_module_version": "1.2.0",
      "model_name": "LayoutModel",
      "state": {
       "width": "10%"
      }
     },
     "8d36513a9b194bc985590057e2671f05": {
      "model_module": "@jupyter-widgets/base",
      "model_module_version": "1.2.0",
      "model_name": "LayoutModel",
      "state": {
       "width": "10%"
      }
     },
     "8d58224b71b1458db3df19dcd7551cb2": {
      "model_module": "@jupyter-widgets/base",
      "model_module_version": "1.2.0",
      "model_name": "LayoutModel",
      "state": {
       "width": "95%"
      }
     },
     "8d7c3b0bd4f244df9e336ad9c841c4cf": {
      "model_module": "@jupyter-widgets/controls",
      "model_module_version": "1.5.0",
      "model_name": "ButtonStyleModel",
      "state": {}
     },
     "8d828770ba6d4febb5be4b2e2f280634": {
      "model_module": "@jupyter-widgets/base",
      "model_module_version": "1.2.0",
      "model_name": "LayoutModel",
      "state": {
       "width": "95%"
      }
     },
     "8daf2522f0774ec0ae6ad77dfac61954": {
      "model_module": "@jupyter-widgets/controls",
      "model_module_version": "1.5.0",
      "model_name": "ButtonStyleModel",
      "state": {}
     },
     "8dc08b50b90743db9e62e7de8d9e8323": {
      "model_module": "@jupyter-widgets/base",
      "model_module_version": "1.2.0",
      "model_name": "LayoutModel",
      "state": {}
     },
     "8dc2745dbae64d48beb7a85f59113080": {
      "model_module": "@jupyter-widgets/controls",
      "model_module_version": "1.5.0",
      "model_name": "ButtonStyleModel",
      "state": {}
     },
     "8dd1937185184d57b7ca0ccef6ba5b7f": {
      "model_module": "@jupyter-widgets/base",
      "model_module_version": "1.2.0",
      "model_name": "LayoutModel",
      "state": {}
     },
     "8ddeadf536e44a738581acdd5b5ee7e4": {
      "model_module": "@jupyter-widgets/base",
      "model_module_version": "1.2.0",
      "model_name": "LayoutModel",
      "state": {}
     },
     "8e1be398fd7b41e0a1b44c42b923c608": {
      "model_module": "@jupyter-widgets/output",
      "model_module_version": "1.0.0",
      "model_name": "OutputModel",
      "state": {
       "layout": "IPY_MODEL_8314dc1161aa436faae296b628d9787f"
      }
     },
     "8e2ec553c7994d169b7d9371e621f708": {
      "model_module": "@jupyter-widgets/base",
      "model_module_version": "1.2.0",
      "model_name": "LayoutModel",
      "state": {
       "width": "10%"
      }
     },
     "8e3911b576cd4ac898b4affe675afdef": {
      "model_module": "@jupyter-widgets/base",
      "model_module_version": "1.2.0",
      "model_name": "LayoutModel",
      "state": {}
     },
     "8e4fb9fabba04284a3dcb8f190f8feab": {
      "model_module": "@jupyter-widgets/base",
      "model_module_version": "1.2.0",
      "model_name": "LayoutModel",
      "state": {
       "width": "95%"
      }
     },
     "8e6cbe2a23274a279610dbf2b369cbe4": {
      "model_module": "@jupyter-widgets/base",
      "model_module_version": "1.2.0",
      "model_name": "LayoutModel",
      "state": {}
     },
     "8e7740dbfbd14168a68dd12c94713b34": {
      "model_module": "@jupyter-widgets/base",
      "model_module_version": "1.2.0",
      "model_name": "LayoutModel",
      "state": {}
     },
     "8e8c633595734af2ba5539a2f67e649b": {
      "model_module": "@jupyter-widgets/controls",
      "model_module_version": "1.5.0",
      "model_name": "ButtonModel",
      "state": {
       "description": "1",
       "layout": "IPY_MODEL_7b9c1b5f860845a8a4272581a1cf063d",
       "style": "IPY_MODEL_d932916ff2794d2c86e0c49716f0a394"
      }
     },
     "8e9043434dd0488a85cc70f59dcec6c0": {
      "model_module": "@jupyter-widgets/controls",
      "model_module_version": "1.5.0",
      "model_name": "ButtonModel",
      "state": {
       "description": "0",
       "layout": "IPY_MODEL_ca4f7e69e332425c83b083c9d2cf3c2f",
       "style": "IPY_MODEL_0fb203bf71d34eb3a9d47aac95b929f0"
      }
     },
     "8e9fef539b62429aabc0cc376a1435ee": {
      "model_module": "@jupyter-widgets/base",
      "model_module_version": "1.2.0",
      "model_name": "LayoutModel",
      "state": {
       "width": "10%"
      }
     },
     "8eb38457c99f43ce9e6eab7846085ac9": {
      "model_module": "@jupyter-widgets/base",
      "model_module_version": "1.2.0",
      "model_name": "LayoutModel",
      "state": {}
     },
     "8ecc57e3c7404c698c96b2cd13a8807b": {
      "model_module": "@jupyter-widgets/controls",
      "model_module_version": "1.5.0",
      "model_name": "VBoxModel",
      "state": {
       "children": [
        "IPY_MODEL_daa210164c54487ba043433e478eecd5",
        "IPY_MODEL_c7c074db03df47e78f3885b58154739a"
       ],
       "layout": "IPY_MODEL_1cd2f6f708e14af8bff09bcc9741de1f"
      }
     },
     "8ef8d248d4ab460aaa06f991b61ac518": {
      "model_module": "@jupyter-widgets/output",
      "model_module_version": "1.0.0",
      "model_name": "OutputModel",
      "state": {
       "layout": "IPY_MODEL_72ca9452a6a14dbeaab0c2ce030ce0bc"
      }
     },
     "8f0ba0d28c3f4be98f107173d7813b97": {
      "model_module": "@jupyter-widgets/controls",
      "model_module_version": "1.5.0",
      "model_name": "ButtonModel",
      "state": {
       "description": "5",
       "layout": "IPY_MODEL_dfad2b3f5dc24ed1933d6134a232761e",
       "style": "IPY_MODEL_9d33a7207cfb4de298f09ad128377b2c"
      }
     },
     "8f2af789b2ac412fb78271a681e3203f": {
      "model_module": "@jupyter-widgets/output",
      "model_module_version": "1.0.0",
      "model_name": "OutputModel",
      "state": {
       "layout": "IPY_MODEL_5a169b85bf334f4891683fcfe82fddc8"
      }
     },
     "8f560b0d178949358279317efdd65ce8": {
      "model_module": "@jupyter-widgets/controls",
      "model_module_version": "1.5.0",
      "model_name": "ButtonModel",
      "state": {
       "description": "8",
       "layout": "IPY_MODEL_698d625b999347a7a9da68e6319c8fe5",
       "style": "IPY_MODEL_425b8995b4944556b5c9907747032a81"
      }
     },
     "8f7fa0a839b14d67bfb79f2f054ffd96": {
      "model_module": "@jupyter-widgets/controls",
      "model_module_version": "1.5.0",
      "model_name": "VBoxModel",
      "state": {
       "children": [
        "IPY_MODEL_8e9043434dd0488a85cc70f59dcec6c0",
        "IPY_MODEL_27daa56accd14011ad36478e5d198444"
       ],
       "layout": "IPY_MODEL_0c9bf2059b994eb0ad7425f47dda8d55"
      }
     },
     "8f801c4561bd4a65a121cb39275f0164": {
      "model_module": "@jupyter-widgets/controls",
      "model_module_version": "1.5.0",
      "model_name": "ButtonModel",
      "state": {
       "description": "2",
       "layout": "IPY_MODEL_85cb21fc999f4b5da7b9784786efa0e2",
       "style": "IPY_MODEL_3655cf5810b048ef957c5363ee6b97e7"
      }
     },
     "8f8028b7f79848aaae9d2a4c5863fd6c": {
      "model_module": "@jupyter-widgets/base",
      "model_module_version": "1.2.0",
      "model_name": "LayoutModel",
      "state": {
       "width": "95%"
      }
     },
     "8f8424ab55cc4f34958de20f092bee7d": {
      "model_module": "@jupyter-widgets/output",
      "model_module_version": "1.0.0",
      "model_name": "OutputModel",
      "state": {
       "layout": "IPY_MODEL_2d6aa06abd2140109fed943f319018e7"
      }
     },
     "8f90a223f67b4c33ab7952df12ea40fe": {
      "model_module": "@jupyter-widgets/base",
      "model_module_version": "1.2.0",
      "model_name": "LayoutModel",
      "state": {
       "width": "95%"
      }
     },
     "8f99124022ce4a879bf261aeeb0281af": {
      "model_module": "@jupyter-widgets/base",
      "model_module_version": "1.2.0",
      "model_name": "LayoutModel",
      "state": {}
     },
     "9015ec52c39c4c44b736194e22e39142": {
      "model_module": "@jupyter-widgets/base",
      "model_module_version": "1.2.0",
      "model_name": "LayoutModel",
      "state": {
       "width": "95%"
      }
     },
     "902e371cf91345b7b5c7d012bfce1587": {
      "model_module": "@jupyter-widgets/base",
      "model_module_version": "1.2.0",
      "model_name": "LayoutModel",
      "state": {}
     },
     "90766a74583c49f29960720eade1e4ae": {
      "model_module": "@jupyter-widgets/output",
      "model_module_version": "1.0.0",
      "model_name": "OutputModel",
      "state": {
       "layout": "IPY_MODEL_9623da0389d04fa692f81f54800e3154"
      }
     },
     "90a721b85afb4803999ccbe7f8cbfd71": {
      "model_module": "@jupyter-widgets/base",
      "model_module_version": "1.2.0",
      "model_name": "LayoutModel",
      "state": {
       "width": "10%"
      }
     },
     "90ae7a42229943dfbaa56bee6c2f11a1": {
      "model_module": "@jupyter-widgets/base",
      "model_module_version": "1.2.0",
      "model_name": "LayoutModel",
      "state": {
       "width": "10%"
      }
     },
     "90dcfbd04a00404ab7435d0ae0d0d6f3": {
      "model_module": "@jupyter-widgets/controls",
      "model_module_version": "1.5.0",
      "model_name": "HBoxModel",
      "state": {
       "children": [
        "IPY_MODEL_ea515f6ab0fb4c8fa83df8e40b2a12b3",
        "IPY_MODEL_b5071a727cb4429ab5846a1b5e1e9269",
        "IPY_MODEL_0d1325c707c8443cadea347f7b556f0b"
       ],
       "layout": "IPY_MODEL_59657ab0c5404a9bb52504a92122d3a4"
      }
     },
     "90e471e2fe4241689f02fedd291eb12f": {
      "model_module": "@jupyter-widgets/controls",
      "model_module_version": "1.5.0",
      "model_name": "ButtonStyleModel",
      "state": {}
     },
     "90f5e60a570c4778b9355f5df135e54d": {
      "model_module": "@jupyter-widgets/base",
      "model_module_version": "1.2.0",
      "model_name": "LayoutModel",
      "state": {
       "width": "10%"
      }
     },
     "912a910472a5405fb3924f766c6d06cf": {
      "model_module": "@jupyter-widgets/controls",
      "model_module_version": "1.5.0",
      "model_name": "ButtonStyleModel",
      "state": {}
     },
     "913b7959378349379f0da00cd6ebaeb0": {
      "model_module": "@jupyter-widgets/output",
      "model_module_version": "1.0.0",
      "model_name": "OutputModel",
      "state": {
       "layout": "IPY_MODEL_5ff8e80f6f774dc5824ee9467500736d"
      }
     },
     "91b3c070c1fa4e278a048c46cd1fd7f5": {
      "model_module": "@jupyter-widgets/controls",
      "model_module_version": "1.5.0",
      "model_name": "DescriptionStyleModel",
      "state": {
       "description_width": ""
      }
     },
     "91c4d323da0447779aefd98f66bf1b20": {
      "model_module": "@jupyter-widgets/base",
      "model_module_version": "1.2.0",
      "model_name": "LayoutModel",
      "state": {
       "width": "10%"
      }
     },
     "92110b3fd097482e9d18d43310b2721b": {
      "model_module": "@jupyter-widgets/controls",
      "model_module_version": "1.5.0",
      "model_name": "VBoxModel",
      "state": {
       "children": [
        "IPY_MODEL_d5591b2a45c24ecaaf9af2b230bb2d87",
        "IPY_MODEL_403a2df5d7dd48d686e4d852ea291a9c"
       ],
       "layout": "IPY_MODEL_78970ab897744a6e83f37f220e6c67d7"
      }
     },
     "92159871edda499c98f342a99682899b": {
      "model_module": "@jupyter-widgets/base",
      "model_module_version": "1.2.0",
      "model_name": "LayoutModel",
      "state": {
       "width": "10%"
      }
     },
     "922931b5fbb84d369bbc10f26bc425a0": {
      "model_module": "@jupyter-widgets/base",
      "model_module_version": "1.2.0",
      "model_name": "LayoutModel",
      "state": {
       "width": "10%"
      }
     },
     "922df481cb9e490d8323f40557986915": {
      "model_module": "@jupyter-widgets/output",
      "model_module_version": "1.0.0",
      "model_name": "OutputModel",
      "state": {
       "layout": "IPY_MODEL_7de4ed8df6174a1382820e60a2fa66dc"
      }
     },
     "9233bd668c074de1a5c0f1729079be10": {
      "model_module": "@jupyter-widgets/controls",
      "model_module_version": "1.5.0",
      "model_name": "HBoxModel",
      "state": {
       "children": [
        "IPY_MODEL_f9d6cf38590e4283bca97e54ba78c068",
        "IPY_MODEL_35aa57e2b6cb45939a4baa04e56b26cb"
       ],
       "layout": "IPY_MODEL_a9bd880d0a5a4ff09947465ae0fe214d"
      }
     },
     "92585ac4609047408c0ca506da3549d9": {
      "model_module": "@jupyter-widgets/base",
      "model_module_version": "1.2.0",
      "model_name": "LayoutModel",
      "state": {}
     },
     "927ae510d9ec4c2180204f0956bcf677": {
      "model_module": "@jupyter-widgets/base",
      "model_module_version": "1.2.0",
      "model_name": "LayoutModel",
      "state": {}
     },
     "92b567ecab654e589463146498ff2f43": {
      "model_module": "@jupyter-widgets/output",
      "model_module_version": "1.0.0",
      "model_name": "OutputModel",
      "state": {
       "layout": "IPY_MODEL_3fce1fd91ad24bd581adfd970d5c106c"
      }
     },
     "92bd24d1a54341adbe996e8992919adc": {
      "model_module": "@jupyter-widgets/base",
      "model_module_version": "1.2.0",
      "model_name": "LayoutModel",
      "state": {
       "width": "10%"
      }
     },
     "92d4a15dcc05453b89881d4401febac5": {
      "model_module": "@jupyter-widgets/controls",
      "model_module_version": "1.5.0",
      "model_name": "HBoxModel",
      "state": {
       "children": [
        "IPY_MODEL_c72c6f15c96b422eafb0602938edb698",
        "IPY_MODEL_4b5df36e1f144e10b2137bab6252daf1"
       ],
       "layout": "IPY_MODEL_e5bbf562db8d4cf6ad8b4984bdccabf2"
      }
     },
     "92e41a759410426e8c452b48ce9a5318": {
      "model_module": "@jupyter-widgets/base",
      "model_module_version": "1.2.0",
      "model_name": "LayoutModel",
      "state": {
       "width": "95%"
      }
     },
     "92fb81da5fec4e7cbf4b4e03d1f3cbe4": {
      "model_module": "@jupyter-widgets/base",
      "model_module_version": "1.2.0",
      "model_name": "LayoutModel",
      "state": {
       "width": "10%"
      }
     },
     "93065bab71a34277a715fb01cf767e3d": {
      "model_module": "@jupyter-widgets/controls",
      "model_module_version": "1.5.0",
      "model_name": "ButtonStyleModel",
      "state": {}
     },
     "9317f4c2eb224f05b93d89062df5140c": {
      "model_module": "@jupyter-widgets/base",
      "model_module_version": "1.2.0",
      "model_name": "LayoutModel",
      "state": {
       "width": "95%"
      }
     },
     "9328245ebe374804a318ea6cebf69ae1": {
      "model_module": "@jupyter-widgets/controls",
      "model_module_version": "1.5.0",
      "model_name": "VBoxModel",
      "state": {
       "children": [
        "IPY_MODEL_ca9bf47cb4f14f508133a320255e3aa5",
        "IPY_MODEL_90766a74583c49f29960720eade1e4ae"
       ],
       "layout": "IPY_MODEL_cde6fa92e056406b9d4a4ee387b11425"
      }
     },
     "934ca0ff8a604ef1a55ce4f23254d80d": {
      "model_module": "@jupyter-widgets/output",
      "model_module_version": "1.0.0",
      "model_name": "OutputModel",
      "state": {
       "layout": "IPY_MODEL_9cff9312da534bf2b6ba01994be4ac40"
      }
     },
     "93545fa268034ba495b468c73c7cb673": {
      "model_module": "@jupyter-widgets/output",
      "model_module_version": "1.0.0",
      "model_name": "OutputModel",
      "state": {
       "layout": "IPY_MODEL_2b29222ac63b49528ed432c9f941c188"
      }
     },
     "935a4c136e784e139af58be6f5f0a590": {
      "model_module": "@jupyter-widgets/output",
      "model_module_version": "1.0.0",
      "model_name": "OutputModel",
      "state": {
       "layout": "IPY_MODEL_c305403921c944b68999fe97a2e8f3cc"
      }
     },
     "93900e4a865942a49835b9fcb4845e0a": {
      "model_module": "@jupyter-widgets/controls",
      "model_module_version": "1.5.0",
      "model_name": "HBoxModel",
      "state": {
       "children": [
        "IPY_MODEL_ea515f6ab0fb4c8fa83df8e40b2a12b3",
        "IPY_MODEL_b5071a727cb4429ab5846a1b5e1e9269",
        "IPY_MODEL_0d1325c707c8443cadea347f7b556f0b"
       ],
       "layout": "IPY_MODEL_005e8b9da124491faafeb4dfe00dedb4"
      }
     },
     "93a6cb0ce3fb48e9a7c2847f603bd5b5": {
      "model_module": "@jupyter-widgets/controls",
      "model_module_version": "1.5.0",
      "model_name": "HBoxModel",
      "state": {
       "children": [
        "IPY_MODEL_ea515f6ab0fb4c8fa83df8e40b2a12b3",
        "IPY_MODEL_b5071a727cb4429ab5846a1b5e1e9269",
        "IPY_MODEL_0d1325c707c8443cadea347f7b556f0b"
       ],
       "layout": "IPY_MODEL_de2504c0620c45f1bbfe1a1bc9ce22f8"
      }
     },
     "93ad9d6b934d44869d3eebda8e01181a": {
      "model_module": "@jupyter-widgets/controls",
      "model_module_version": "1.5.0",
      "model_name": "ButtonStyleModel",
      "state": {}
     },
     "93b45f7f43364bdcace8479fb25d0fed": {
      "model_module": "@jupyter-widgets/base",
      "model_module_version": "1.2.0",
      "model_name": "LayoutModel",
      "state": {
       "justify_content": "space-between"
      }
     },
     "93b816534ff84f598096d4486a05c7c0": {
      "model_module": "@jupyter-widgets/base",
      "model_module_version": "1.2.0",
      "model_name": "LayoutModel",
      "state": {}
     },
     "93c3e0672c17419fa9adb15061b520f3": {
      "model_module": "@jupyter-widgets/controls",
      "model_module_version": "1.5.0",
      "model_name": "ButtonModel",
      "state": {
       "description": "7",
       "layout": "IPY_MODEL_810ab221046a4e5d84fad638fac4a8c3",
       "style": "IPY_MODEL_0586d60a8b244fd28e0b2d8e434300f9"
      }
     },
     "93c77c1bf53d4253995c7678b22816ec": {
      "model_module": "@jupyter-widgets/base",
      "model_module_version": "1.2.0",
      "model_name": "LayoutModel",
      "state": {
       "width": "10%"
      }
     },
     "940083f9433948f1beeafc3963a29993": {
      "model_module": "@jupyter-widgets/controls",
      "model_module_version": "1.5.0",
      "model_name": "ButtonStyleModel",
      "state": {}
     },
     "9429eac5451847b5b05210585a6ff516": {
      "model_module": "@jupyter-widgets/output",
      "model_module_version": "1.0.0",
      "model_name": "OutputModel",
      "state": {
       "layout": "IPY_MODEL_698801521a2043a48a6c31ea1be6aa40"
      }
     },
     "944d525aa13f4083a430f6b46997f250": {
      "model_module": "@jupyter-widgets/controls",
      "model_module_version": "1.5.0",
      "model_name": "HBoxModel",
      "state": {
       "children": [
        "IPY_MODEL_d76fc549061449749e008fc6145dcdf9",
        "IPY_MODEL_f952d0ef54fe4079b244c2f56bf816ed"
       ],
       "layout": "IPY_MODEL_200dc2d4883249349a528e55ec01ed9a"
      }
     },
     "94517628c57d4a3397a73ea96e88c503": {
      "model_module": "@jupyter-widgets/base",
      "model_module_version": "1.2.0",
      "model_name": "LayoutModel",
      "state": {
       "width": "95%"
      }
     },
     "9451aa0a21424181846e5c88edc0ccff": {
      "model_module": "@jupyter-widgets/controls",
      "model_module_version": "1.5.0",
      "model_name": "ButtonModel",
      "state": {
       "description": "5",
       "layout": "IPY_MODEL_4666ae9d9cd04ec7b21e54481ca70762",
       "style": "IPY_MODEL_66fb1211ceef4810bd4bca40b4189178"
      }
     },
     "945d43acb17642b68b4a49a447ac8e1b": {
      "model_module": "@jupyter-widgets/base",
      "model_module_version": "1.2.0",
      "model_name": "LayoutModel",
      "state": {
       "width": "10%"
      }
     },
     "946ddf50ba334f9490ae6f65da5d86e5": {
      "model_module": "@jupyter-widgets/controls",
      "model_module_version": "1.5.0",
      "model_name": "ButtonStyleModel",
      "state": {}
     },
     "9470268d2dcb4843acf7d1e66d39715f": {
      "model_module": "@jupyter-widgets/controls",
      "model_module_version": "1.5.0",
      "model_name": "ButtonModel",
      "state": {
       "description": "4",
       "layout": "IPY_MODEL_8c5af0bd9f4647b3967fe1f8d9788a9a",
       "style": "IPY_MODEL_4aee7c23d7b149c2b4397a7218a1757c"
      }
     },
     "9475cd87a621435caea2b3f6220ef1e2": {
      "model_module": "@jupyter-widgets/controls",
      "model_module_version": "1.5.0",
      "model_name": "VBoxModel",
      "state": {
       "children": [
        "IPY_MODEL_cc9cb41c9a8a4ff0b3a3557cb951d9af",
        "IPY_MODEL_8ef8d248d4ab460aaa06f991b61ac518"
       ],
       "layout": "IPY_MODEL_fde0572140e045d8acae17a88063d6db"
      }
     },
     "949100531b024147a6c751f1dc14bf1b": {
      "model_module": "@jupyter-widgets/controls",
      "model_module_version": "1.5.0",
      "model_name": "ButtonStyleModel",
      "state": {}
     },
     "94bfbe4a348847f08d8c0d61ce871da4": {
      "model_module": "@jupyter-widgets/base",
      "model_module_version": "1.2.0",
      "model_name": "LayoutModel",
      "state": {
       "width": "10%"
      }
     },
     "94f31d09072148c9a83217fe611b4f8d": {
      "model_module": "@jupyter-widgets/base",
      "model_module_version": "1.2.0",
      "model_name": "LayoutModel",
      "state": {
       "width": "95%"
      }
     },
     "94f6021aa3c5446c9ce2aa1cc2b2d92b": {
      "model_module": "@jupyter-widgets/base",
      "model_module_version": "1.2.0",
      "model_name": "LayoutModel",
      "state": {}
     },
     "94f7595c5f2946ed90b1d81c2e17afce": {
      "model_module": "@jupyter-widgets/controls",
      "model_module_version": "1.5.0",
      "model_name": "DescriptionStyleModel",
      "state": {
       "description_width": ""
      }
     },
     "950b383a7b514deeb87ad6baf1f760b7": {
      "model_module": "@jupyter-widgets/controls",
      "model_module_version": "1.5.0",
      "model_name": "ButtonModel",
      "state": {
       "description": "6",
       "layout": "IPY_MODEL_0be6452e504d4ac9ba49ca9c8ffc11ad",
       "style": "IPY_MODEL_475b2f5d76f94984b0aeb1c94e81eda8"
      }
     },
     "9522c3886c794f2fac21ccbec6cf0835": {
      "model_module": "@jupyter-widgets/base",
      "model_module_version": "1.2.0",
      "model_name": "LayoutModel",
      "state": {
       "justify_content": "space-between"
      }
     },
     "955b3366d28d4070a5730fc12db733c3": {
      "model_module": "@jupyter-widgets/base",
      "model_module_version": "1.2.0",
      "model_name": "LayoutModel",
      "state": {
       "width": "95%"
      }
     },
     "95824208f1e64128addd07982e7876d6": {
      "model_module": "@jupyter-widgets/controls",
      "model_module_version": "1.5.0",
      "model_name": "HBoxModel",
      "state": {
       "children": [
        "IPY_MODEL_3e7d231e291742858c9d826f1655b9c8",
        "IPY_MODEL_32c61286c76f47ee83d0a46d8106c2ad",
        "IPY_MODEL_7809afe8e11145a5bec1cf3045340240",
        "IPY_MODEL_1b7bf088ec764c13bedd684f5df6bd6e",
        "IPY_MODEL_a2a09b1d6bfb421ca698ebc1bb5a34bf",
        "IPY_MODEL_09ecd6e6da7245da9c303273da9a76cb",
        "IPY_MODEL_a086aada5da3450dabc8be29b8dcc1a5",
        "IPY_MODEL_3eb94c31aa5441b98b4ce5c7938c9dff",
        "IPY_MODEL_6a6715b0ba5740f79b29e695c93c5f0c",
        "IPY_MODEL_8c94ad4e28fa4ae8a58e2a4f6f8caff9"
       ],
       "layout": "IPY_MODEL_66f6252dbc1c45c0881eddc230114f6e"
      }
     },
     "95b7fc4598104ec483949f1992495634": {
      "model_module": "@jupyter-widgets/controls",
      "model_module_version": "1.5.0",
      "model_name": "ButtonModel",
      "state": {
       "description": "0",
       "layout": "IPY_MODEL_0ff2d0ef90444566883e12098432059f",
       "style": "IPY_MODEL_aced0f91f23348f6bc6791e548b408cb"
      }
     },
     "95bf658597a94befb238fc84ffd791b0": {
      "model_module": "@jupyter-widgets/controls",
      "model_module_version": "1.5.0",
      "model_name": "VBoxModel",
      "state": {
       "children": [
        "IPY_MODEL_6875766e15d44a9c8f65d96cb82cc469",
        "IPY_MODEL_6c453a152c7e4205bee2133f1adcdbb8"
       ],
       "layout": "IPY_MODEL_02f8f1bbe93547fca52b22508e7c6eeb"
      }
     },
     "95d8065fa70a4119924edf4f4b6ef00c": {
      "model_module": "@jupyter-widgets/base",
      "model_module_version": "1.2.0",
      "model_name": "LayoutModel",
      "state": {
       "width": "10%"
      }
     },
     "9623da0389d04fa692f81f54800e3154": {
      "model_module": "@jupyter-widgets/base",
      "model_module_version": "1.2.0",
      "model_name": "LayoutModel",
      "state": {}
     },
     "962d9e4c543f4d50ad681bea7905668a": {
      "model_module": "@jupyter-widgets/base",
      "model_module_version": "1.2.0",
      "model_name": "LayoutModel",
      "state": {}
     },
     "9647a75ea85b40e8aaf155fc9ad300b0": {
      "model_module": "@jupyter-widgets/controls",
      "model_module_version": "1.5.0",
      "model_name": "ButtonModel",
      "state": {
       "description": "0",
       "layout": "IPY_MODEL_2139fda78b204caaa93f5103cae157a7",
       "style": "IPY_MODEL_37651f1228d54f61af9994f5e7aa62d0"
      }
     },
     "9651c549f0be446eb46a1ccca7335da7": {
      "model_module": "@jupyter-widgets/controls",
      "model_module_version": "1.5.0",
      "model_name": "ButtonModel",
      "state": {
       "description": "7",
       "layout": "IPY_MODEL_cc81cb2043664dbeb28a6fb8589b7798",
       "style": "IPY_MODEL_17525e144c2247db814bbabd67ce0ecf"
      }
     },
     "965fe2cd76a84f25b92f6cbf37cce662": {
      "model_module": "@jupyter-widgets/output",
      "model_module_version": "1.0.0",
      "model_name": "OutputModel",
      "state": {
       "layout": "IPY_MODEL_1ba654f5a2ea40a8a6271782e3a8a4c9"
      }
     },
     "967ec54c0b284f3394a0eb90ee54869e": {
      "model_module": "@jupyter-widgets/controls",
      "model_module_version": "1.5.0",
      "model_name": "ButtonStyleModel",
      "state": {}
     },
     "96c9ed6ed0f845979f6173f325ed18c0": {
      "model_module": "@jupyter-widgets/base",
      "model_module_version": "1.2.0",
      "model_name": "LayoutModel",
      "state": {
       "width": "95%"
      }
     },
     "96d10dd4a843411a83d2a2673e4512a4": {
      "model_module": "@jupyter-widgets/controls",
      "model_module_version": "1.5.0",
      "model_name": "ButtonModel",
      "state": {
       "description": "4",
       "layout": "IPY_MODEL_34c93b8eaca741c3aa93e59bad7944fc",
       "style": "IPY_MODEL_88df15c526a34942bb8b19956c6c6d8d"
      }
     },
     "96dbbfdd3e4a41cbbf9f10156baee203": {
      "model_module": "@jupyter-widgets/controls",
      "model_module_version": "1.5.0",
      "model_name": "VBoxModel",
      "state": {
       "children": [
        "IPY_MODEL_236cf11f808f472cb2d5cfca505aaca5",
        "IPY_MODEL_7991ca0574ff47a590d878f926c0ea1e"
       ],
       "layout": "IPY_MODEL_38b7e15ff7e947b0834642b28908b39f"
      }
     },
     "96e6704348d140539aaaa8b68713cbbd": {
      "model_module": "@jupyter-widgets/base",
      "model_module_version": "1.2.0",
      "model_name": "LayoutModel",
      "state": {
       "width": "10%"
      }
     },
     "96efe9d267f8422a962ace3c8d8e1c68": {
      "model_module": "@jupyter-widgets/controls",
      "model_module_version": "1.5.0",
      "model_name": "ButtonStyleModel",
      "state": {}
     },
     "97030e4eae6d436fafeb0b1046dde518": {
      "model_module": "@jupyter-widgets/controls",
      "model_module_version": "1.5.0",
      "model_name": "ButtonStyleModel",
      "state": {}
     },
     "970a73204a364702aa7be508eb7dbfa1": {
      "model_module": "@jupyter-widgets/base",
      "model_module_version": "1.2.0",
      "model_name": "LayoutModel",
      "state": {
       "width": "10%"
      }
     },
     "9746baa22f5b4a7ca257eefff104c00b": {
      "model_module": "@jupyter-widgets/controls",
      "model_module_version": "1.5.0",
      "model_name": "ButtonStyleModel",
      "state": {}
     },
     "97495113843b45a793528cb89ab5783c": {
      "model_module": "@jupyter-widgets/controls",
      "model_module_version": "1.5.0",
      "model_name": "VBoxModel",
      "state": {
       "children": [
        "IPY_MODEL_215a4505a2ae41e59d2242f5167c605d",
        "IPY_MODEL_7f8201da8fea4fa18302a6633f88b817"
       ],
       "layout": "IPY_MODEL_fbe896ffee244f9a93fa72858e3eeba0"
      }
     },
     "976c697285f94e0db5c360c1c72da30d": {
      "model_module": "@jupyter-widgets/output",
      "model_module_version": "1.0.0",
      "model_name": "OutputModel",
      "state": {
       "layout": "IPY_MODEL_eeec66595dce4f5aafea8546a0e7f457"
      }
     },
     "977918ef66844f399c6cc71eb82c15fb": {
      "model_module": "@jupyter-widgets/base",
      "model_module_version": "1.2.0",
      "model_name": "LayoutModel",
      "state": {}
     },
     "9791e5c1b68e4cb9b0506daaaa983403": {
      "model_module": "@jupyter-widgets/controls",
      "model_module_version": "1.5.0",
      "model_name": "ButtonModel",
      "state": {
       "description": "5",
       "layout": "IPY_MODEL_5cef3624b0924ae5ac3adbbd17a81c7f",
       "style": "IPY_MODEL_946ddf50ba334f9490ae6f65da5d86e5"
      }
     },
     "97c0c7f235c148d6b629d5965463cefc": {
      "model_module": "@jupyter-widgets/controls",
      "model_module_version": "1.5.0",
      "model_name": "ButtonModel",
      "state": {
       "description": "6",
       "layout": "IPY_MODEL_fd67bd0c90bb4fba9bae67ebf0304f4e",
       "style": "IPY_MODEL_090718c4c98d497c9126bf4ec0243dbd"
      }
     },
     "97de2a1e31404e92bfa613638ff71acb": {
      "model_module": "@jupyter-widgets/controls",
      "model_module_version": "1.5.0",
      "model_name": "HBoxModel",
      "state": {
       "children": [
        "IPY_MODEL_e5a5abda44334b48806a83ad69745be4",
        "IPY_MODEL_4a025cfd39ca49d2bd3bf46b993611bb",
        "IPY_MODEL_6a51511bf20e4999ad5e06cd1c0895c3",
        "IPY_MODEL_7117c116da354941a85730b01fe239f3",
        "IPY_MODEL_c4ed4f72feaf4d888622c0d3751c5881",
        "IPY_MODEL_7e0a3cd4356e4bfb8a31790bbe72a877",
        "IPY_MODEL_2eb86446882345e5bc86e79ecf02bc69",
        "IPY_MODEL_f0fc3e3fe47c4bb5a35fd9e612cc2ace",
        "IPY_MODEL_8b0d3fc4bcbe44cea25c7edf802fe945",
        "IPY_MODEL_a51e352971a94e6fa5546a2ec46cdc41"
       ],
       "layout": "IPY_MODEL_7566368bd3d44c7889ae92985352f637"
      }
     },
     "97e2fa0337c047479b00797deb437d76": {
      "model_module": "@jupyter-widgets/controls",
      "model_module_version": "1.5.0",
      "model_name": "ButtonStyleModel",
      "state": {}
     },
     "97f6f914d2414d53a5906e5b8bca536b": {
      "model_module": "@jupyter-widgets/base",
      "model_module_version": "1.2.0",
      "model_name": "LayoutModel",
      "state": {}
     },
     "98209425ebee4ab5a9c6234b47418f85": {
      "model_module": "@jupyter-widgets/base",
      "model_module_version": "1.2.0",
      "model_name": "LayoutModel",
      "state": {
       "width": "10%"
      }
     },
     "9833cfc0a7f4406ea0e92d580be7c367": {
      "model_module": "@jupyter-widgets/controls",
      "model_module_version": "1.5.0",
      "model_name": "ButtonStyleModel",
      "state": {}
     },
     "9877cc70031f416c8f57283176cb660f": {
      "model_module": "@jupyter-widgets/output",
      "model_module_version": "1.0.0",
      "model_name": "OutputModel",
      "state": {
       "layout": "IPY_MODEL_40c987bb2fdb4c68a3c17911fddef9f9"
      }
     },
     "9878bbc253e4495f9d24f0a521be9945": {
      "model_module": "@jupyter-widgets/base",
      "model_module_version": "1.2.0",
      "model_name": "LayoutModel",
      "state": {
       "width": "10%"
      }
     },
     "9888da1851004ecebaf29640aeaee4fe": {
      "model_module": "@jupyter-widgets/controls",
      "model_module_version": "1.5.0",
      "model_name": "ButtonStyleModel",
      "state": {}
     },
     "988f43dcab464d3c937ca66f4cd32ee8": {
      "model_module": "@jupyter-widgets/output",
      "model_module_version": "1.0.0",
      "model_name": "OutputModel",
      "state": {
       "layout": "IPY_MODEL_902e371cf91345b7b5c7d012bfce1587"
      }
     },
     "98a4a53fa3e144b79fb7255d922af264": {
      "model_module": "@jupyter-widgets/controls",
      "model_module_version": "1.5.0",
      "model_name": "ButtonStyleModel",
      "state": {}
     },
     "98c17816728c4931bc07427d73d258c6": {
      "model_module": "@jupyter-widgets/base",
      "model_module_version": "1.2.0",
      "model_name": "LayoutModel",
      "state": {
       "width": "95%"
      }
     },
     "98cd9b83fd14486293bcf7e22f16d822": {
      "model_module": "@jupyter-widgets/base",
      "model_module_version": "1.2.0",
      "model_name": "LayoutModel",
      "state": {
       "width": "10%"
      }
     },
     "98d9cc70315b4618ac63ce799ca980c2": {
      "model_module": "@jupyter-widgets/base",
      "model_module_version": "1.2.0",
      "model_name": "LayoutModel",
      "state": {}
     },
     "98eab5840c0d4c48b1f1294166a8be7c": {
      "model_module": "@jupyter-widgets/controls",
      "model_module_version": "1.5.0",
      "model_name": "VBoxModel",
      "state": {
       "children": [
        "IPY_MODEL_bacaf13bc6eb4f70b40ecc8df2c4562f",
        "IPY_MODEL_57ca5fa6e2904697a4c2a194fd5a5777"
       ],
       "layout": "IPY_MODEL_ea7edf3dbe8d4a689c8caa5779e1e367"
      }
     },
     "992c588aeffa42bbbf4c135307cf7884": {
      "model_module": "@jupyter-widgets/base",
      "model_module_version": "1.2.0",
      "model_name": "LayoutModel",
      "state": {
       "width": "10%"
      }
     },
     "993cd13f886e40ea8b8d0b3edda80033": {
      "model_module": "@jupyter-widgets/base",
      "model_module_version": "1.2.0",
      "model_name": "LayoutModel",
      "state": {
       "width": "95%"
      }
     },
     "996d74216fda4f548d571a48c035b0b2": {
      "model_module": "@jupyter-widgets/controls",
      "model_module_version": "1.5.0",
      "model_name": "ButtonStyleModel",
      "state": {}
     },
     "997a3854595241f4a39fb7dc9212c8c3": {
      "model_module": "@jupyter-widgets/base",
      "model_module_version": "1.2.0",
      "model_name": "LayoutModel",
      "state": {}
     },
     "9989f118d9004d5a998ccb1e486b9802": {
      "model_module": "@jupyter-widgets/controls",
      "model_module_version": "1.5.0",
      "model_name": "VBoxModel",
      "state": {
       "children": [
        "IPY_MODEL_dc364c5d78de4accb84312cabd5e6c2e",
        "IPY_MODEL_aee7409d93214ca489799f15a6bcf010"
       ],
       "layout": "IPY_MODEL_1c53eee7fc814b6982c5b09605f4b080"
      }
     },
     "99de4205ee6f4a11a849d8de6343f584": {
      "model_module": "@jupyter-widgets/controls",
      "model_module_version": "1.5.0",
      "model_name": "ButtonStyleModel",
      "state": {}
     },
     "99eb3271d176421eb8bc9d2c6e9a0f8c": {
      "model_module": "@jupyter-widgets/controls",
      "model_module_version": "1.5.0",
      "model_name": "ButtonStyleModel",
      "state": {}
     },
     "99eb4638979c4a2bb6710ec927e2700d": {
      "model_module": "@jupyter-widgets/controls",
      "model_module_version": "1.5.0",
      "model_name": "ButtonStyleModel",
      "state": {}
     },
     "99f87ac65c0240b488088e5e41ec57d1": {
      "model_module": "@jupyter-widgets/controls",
      "model_module_version": "1.5.0",
      "model_name": "VBoxModel",
      "state": {
       "children": [
        "IPY_MODEL_061d5703158f4c6a81a8dd3b97cc7017",
        "IPY_MODEL_c4146513368844a4917bdbab3f182f5c"
       ],
       "layout": "IPY_MODEL_b1538eabffd24fc8838c0c1d35040c5a"
      }
     },
     "9a291bb8b8c4496f90609ad687e5ac3a": {
      "model_module": "@jupyter-widgets/controls",
      "model_module_version": "1.5.0",
      "model_name": "ButtonModel",
      "state": {
       "description": "2",
       "layout": "IPY_MODEL_7276953324a542989ffbbaeeddaeef1d",
       "style": "IPY_MODEL_b421bf102b4842fcb398ebc9da4996c4"
      }
     },
     "9a4e19ae476c400a936ab81c423104f3": {
      "model_module": "@jupyter-widgets/output",
      "model_module_version": "1.0.0",
      "model_name": "OutputModel",
      "state": {
       "layout": "IPY_MODEL_566262dcb9584ab0980d8c1b50285a45"
      }
     },
     "9a5bb442f11844ae9ec704dc9ebf3690": {
      "model_module": "@jupyter-widgets/base",
      "model_module_version": "1.2.0",
      "model_name": "LayoutModel",
      "state": {}
     },
     "9a8174a55b0e4d148568c042d475d6fd": {
      "model_module": "@jupyter-widgets/base",
      "model_module_version": "1.2.0",
      "model_name": "LayoutModel",
      "state": {}
     },
     "9a82ef5b481947e0bdeceb34677b0117": {
      "model_module": "@jupyter-widgets/controls",
      "model_module_version": "1.5.0",
      "model_name": "ButtonStyleModel",
      "state": {}
     },
     "9a8af8359bf9426bbdf62e2366d33d03": {
      "model_module": "@jupyter-widgets/base",
      "model_module_version": "1.2.0",
      "model_name": "LayoutModel",
      "state": {
       "width": "10%"
      }
     },
     "9a8cff50888e4f4cbfc9979d580ceece": {
      "model_module": "@jupyter-widgets/controls",
      "model_module_version": "1.5.0",
      "model_name": "HBoxModel",
      "state": {
       "children": [
        "IPY_MODEL_7cedcd4f526a4d69aa4e18b7661bcbf3",
        "IPY_MODEL_d75c565f430b4b46ac8151382520e02b",
        "IPY_MODEL_d90b3b734d964adeb1c5cf432201dcbc",
        "IPY_MODEL_6071a02b162043a59dab36da76a0489f",
        "IPY_MODEL_d990e0e892614d50ad67b0ec23d87bef",
        "IPY_MODEL_a069dcc799ae4f628debec709c0487fe",
        "IPY_MODEL_95bf658597a94befb238fc84ffd791b0",
        "IPY_MODEL_fed52e063ec848aab3bcde3fb040fff9",
        "IPY_MODEL_35da8815acd444aba1cce7188a314890",
        "IPY_MODEL_0ae7dd245f1245ecadb6c10b4fb79297"
       ],
       "layout": "IPY_MODEL_4941628511644af88e87e271bed4e7ea"
      }
     },
     "9a8fec6f8a0a48309390373b51e656d4": {
      "model_module": "@jupyter-widgets/controls",
      "model_module_version": "1.5.0",
      "model_name": "HBoxModel",
      "state": {
       "children": [
        "IPY_MODEL_ea515f6ab0fb4c8fa83df8e40b2a12b3",
        "IPY_MODEL_b5071a727cb4429ab5846a1b5e1e9269",
        "IPY_MODEL_0d1325c707c8443cadea347f7b556f0b"
       ],
       "layout": "IPY_MODEL_e17257e307714e59acf4dec04934e0b1"
      }
     },
     "9a9c6f717baa4175870c73dc9a0cd7b8": {
      "model_module": "@jupyter-widgets/base",
      "model_module_version": "1.2.0",
      "model_name": "LayoutModel",
      "state": {}
     },
     "9ac26d935f954f4380fcebb1baeac01e": {
      "model_module": "@jupyter-widgets/base",
      "model_module_version": "1.2.0",
      "model_name": "LayoutModel",
      "state": {
       "width": "10%"
      }
     },
     "9ad34ce568194f3a879d0d0f8733d3a5": {
      "model_module": "@jupyter-widgets/controls",
      "model_module_version": "1.5.0",
      "model_name": "ButtonModel",
      "state": {
       "description": "6",
       "layout": "IPY_MODEL_7ce796ea259748a4aa299f320bd73775",
       "style": "IPY_MODEL_b73c68b02d7647be9b063e34f3326a38"
      }
     },
     "9ad8207a5a044ec3908befd8fc44bc85": {
      "model_module": "@jupyter-widgets/base",
      "model_module_version": "1.2.0",
      "model_name": "LayoutModel",
      "state": {}
     },
     "9adbd4dd50cb42a8942dae3af73b2f73": {
      "model_module": "@jupyter-widgets/output",
      "model_module_version": "1.0.0",
      "model_name": "OutputModel",
      "state": {
       "layout": "IPY_MODEL_c0c47494ecb343d883af91eae44fc6cb"
      }
     },
     "9adeaf57c1834d099a88e275b70629d2": {
      "model_module": "@jupyter-widgets/controls",
      "model_module_version": "1.5.0",
      "model_name": "VBoxModel",
      "state": {
       "children": [
        "IPY_MODEL_f40f1c82e90843408e4db6dc33c32641",
        "IPY_MODEL_b8839f7414224898b356048af65cf006"
       ],
       "layout": "IPY_MODEL_794c39c86a3b4f31ab0293409340dc9e"
      }
     },
     "9b1b522d756c451d92a1a09636ce1b18": {
      "model_module": "@jupyter-widgets/output",
      "model_module_version": "1.0.0",
      "model_name": "OutputModel",
      "state": {
       "layout": "IPY_MODEL_9fd7a84a2423404a9963d9005b5c4b17"
      }
     },
     "9b2844c5718945d49308f036b256ecb9": {
      "model_module": "@jupyter-widgets/controls",
      "model_module_version": "1.5.0",
      "model_name": "ButtonStyleModel",
      "state": {}
     },
     "9b3d8577eb0b4919a38db80edadc475a": {
      "model_module": "@jupyter-widgets/base",
      "model_module_version": "1.2.0",
      "model_name": "LayoutModel",
      "state": {
       "width": "10%"
      }
     },
     "9b589c297b044a0998e9be8d58e294c6": {
      "model_module": "@jupyter-widgets/base",
      "model_module_version": "1.2.0",
      "model_name": "LayoutModel",
      "state": {
       "width": "95%"
      }
     },
     "9b79d41ef40d4ba0a0b93f7b21093cd9": {
      "model_module": "@jupyter-widgets/base",
      "model_module_version": "1.2.0",
      "model_name": "LayoutModel",
      "state": {
       "justify_content": "space-between"
      }
     },
     "9b98f2a4a1bd49f98e34cf47b4d05e31": {
      "model_module": "@jupyter-widgets/controls",
      "model_module_version": "1.5.0",
      "model_name": "ButtonStyleModel",
      "state": {}
     },
     "9bafccbbd57940f38f4cde5df43b2a76": {
      "model_module": "@jupyter-widgets/controls",
      "model_module_version": "1.5.0",
      "model_name": "ButtonModel",
      "state": {
       "description": "1",
       "layout": "IPY_MODEL_3fb322af5c0041cdae1a2fff74f58edd",
       "style": "IPY_MODEL_84d7acb048bf4f2eb463d600bfb4b56c"
      }
     },
     "9bb4b46a5b4c45599b2a6e1aad2a55f0": {
      "model_module": "@jupyter-widgets/controls",
      "model_module_version": "1.5.0",
      "model_name": "ButtonModel",
      "state": {
       "description": "3",
       "layout": "IPY_MODEL_673b59ba3ec1475d98c228b7c288938d",
       "style": "IPY_MODEL_ec664b3bb14a4c5bb659cbf8c2e8253c"
      }
     },
     "9bbcf9b5aa8e44049f65a251afbb11b8": {
      "model_module": "@jupyter-widgets/base",
      "model_module_version": "1.2.0",
      "model_name": "LayoutModel",
      "state": {
       "width": "10%"
      }
     },
     "9bce17549d634be1815cad9ce1b17c68": {
      "model_module": "@jupyter-widgets/base",
      "model_module_version": "1.2.0",
      "model_name": "LayoutModel",
      "state": {
       "width": "10%"
      }
     },
     "9c0238795bb04123bb2175b8f2d54e3c": {
      "model_module": "@jupyter-widgets/output",
      "model_module_version": "1.0.0",
      "model_name": "OutputModel",
      "state": {
       "layout": "IPY_MODEL_c1b4631307664e23a3e709ff70f81e14"
      }
     },
     "9c1956d8e52b4c4da9a0c0af2e79802b": {
      "model_module": "@jupyter-widgets/base",
      "model_module_version": "1.2.0",
      "model_name": "LayoutModel",
      "state": {}
     },
     "9c22f10cd24d4c6bbe5a1eef91b9fbe1": {
      "model_module": "@jupyter-widgets/controls",
      "model_module_version": "1.5.0",
      "model_name": "ButtonModel",
      "state": {
       "description": "1",
       "layout": "IPY_MODEL_18741ed9840a4f37aecbe361bc2e3e97",
       "style": "IPY_MODEL_25c8aec5579a49469ae5d20b11a27c2c"
      }
     },
     "9c2455532bdd4ab7b097507cfe8d7ab3": {
      "model_module": "@jupyter-widgets/base",
      "model_module_version": "1.2.0",
      "model_name": "LayoutModel",
      "state": {
       "width": "95%"
      }
     },
     "9c2def1d2f164256918ea53c07a8f0b1": {
      "model_module": "@jupyter-widgets/controls",
      "model_module_version": "1.5.0",
      "model_name": "ButtonStyleModel",
      "state": {}
     },
     "9c36dc48bab047279903b31d8af54bd0": {
      "model_module": "@jupyter-widgets/controls",
      "model_module_version": "1.5.0",
      "model_name": "HBoxModel",
      "state": {
       "children": [
        "IPY_MODEL_ea515f6ab0fb4c8fa83df8e40b2a12b3",
        "IPY_MODEL_b5071a727cb4429ab5846a1b5e1e9269",
        "IPY_MODEL_0d1325c707c8443cadea347f7b556f0b"
       ],
       "layout": "IPY_MODEL_29bb2a4f861546238582881bc8f86ec3"
      }
     },
     "9c85944e4671409ab0bf2836c83e27f5": {
      "model_module": "@jupyter-widgets/base",
      "model_module_version": "1.2.0",
      "model_name": "LayoutModel",
      "state": {
       "width": "95%"
      }
     },
     "9cd529f2fda047fd98b48b4ef96fdcb8": {
      "model_module": "@jupyter-widgets/base",
      "model_module_version": "1.2.0",
      "model_name": "LayoutModel",
      "state": {}
     },
     "9cff9312da534bf2b6ba01994be4ac40": {
      "model_module": "@jupyter-widgets/base",
      "model_module_version": "1.2.0",
      "model_name": "LayoutModel",
      "state": {}
     },
     "9d18a51374d54766abb1267487b0dd81": {
      "model_module": "@jupyter-widgets/base",
      "model_module_version": "1.2.0",
      "model_name": "LayoutModel",
      "state": {
       "width": "10%"
      }
     },
     "9d33a7207cfb4de298f09ad128377b2c": {
      "model_module": "@jupyter-widgets/controls",
      "model_module_version": "1.5.0",
      "model_name": "ButtonStyleModel",
      "state": {}
     },
     "9d3caac36dca4b72909142cc6594ff13": {
      "model_module": "@jupyter-widgets/controls",
      "model_module_version": "1.5.0",
      "model_name": "ButtonModel",
      "state": {
       "description": "7",
       "layout": "IPY_MODEL_dd68f29367d641e88bf6694a41d9ece7",
       "style": "IPY_MODEL_bc2396cbaf4b49cb9d3dbf3b092b9175"
      }
     },
     "9da8a0a9ad6545ad895cd7e6efa2ecf3": {
      "model_module": "@jupyter-widgets/controls",
      "model_module_version": "1.5.0",
      "model_name": "ButtonModel",
      "state": {
       "description": "5",
       "layout": "IPY_MODEL_2e1043855d4a432daab29c7cfcf0e480",
       "style": "IPY_MODEL_a61a9d67a9a0404e81c6967c8349dc81"
      }
     },
     "9dc179873bb746a9a39fa6dc4e196758": {
      "model_module": "@jupyter-widgets/output",
      "model_module_version": "1.0.0",
      "model_name": "OutputModel",
      "state": {
       "layout": "IPY_MODEL_435e925a05224e5faa0c222abf90fa8b"
      }
     },
     "9dccf6b85aa545259fe99a84d269e807": {
      "model_module": "@jupyter-widgets/base",
      "model_module_version": "1.2.0",
      "model_name": "LayoutModel",
      "state": {}
     },
     "9dcdc93a858045dba0983e06f767bcb1": {
      "model_module": "@jupyter-widgets/base",
      "model_module_version": "1.2.0",
      "model_name": "LayoutModel",
      "state": {
       "width": "10%"
      }
     },
     "9dce4aa1eac74ff892df2d194418fed8": {
      "model_module": "@jupyter-widgets/controls",
      "model_module_version": "1.5.0",
      "model_name": "ButtonStyleModel",
      "state": {}
     },
     "9dcfd869dda5487a955e232a6aba8237": {
      "model_module": "@jupyter-widgets/base",
      "model_module_version": "1.2.0",
      "model_name": "LayoutModel",
      "state": {}
     },
     "9de76b682b974840836ef9d690615149": {
      "model_module": "@jupyter-widgets/base",
      "model_module_version": "1.2.0",
      "model_name": "LayoutModel",
      "state": {
       "width": "95%"
      }
     },
     "9e140a33744c482492c53fa06446c4d6": {
      "model_module": "@jupyter-widgets/base",
      "model_module_version": "1.2.0",
      "model_name": "LayoutModel",
      "state": {}
     },
     "9e36bcfaea2543f2a1474a9cc50f12bf": {
      "model_module": "@jupyter-widgets/controls",
      "model_module_version": "1.5.0",
      "model_name": "ButtonStyleModel",
      "state": {}
     },
     "9ea75c0c53a64d8ba848f5852771ac63": {
      "model_module": "@jupyter-widgets/base",
      "model_module_version": "1.2.0",
      "model_name": "LayoutModel",
      "state": {
       "justify_content": "space-between"
      }
     },
     "9ed900a9bd86458c934c91b6f8d5ac72": {
      "model_module": "@jupyter-widgets/output",
      "model_module_version": "1.0.0",
      "model_name": "OutputModel",
      "state": {
       "layout": "IPY_MODEL_b8b888bd08a940038135858042dd7ec5"
      }
     },
     "9f17181ac9f246b48567dc127d68fc31": {
      "model_module": "@jupyter-widgets/base",
      "model_module_version": "1.2.0",
      "model_name": "LayoutModel",
      "state": {
       "width": "95%"
      }
     },
     "9f634ca5ddbe40b4be936edc6bbd8fb7": {
      "model_module": "@jupyter-widgets/base",
      "model_module_version": "1.2.0",
      "model_name": "LayoutModel",
      "state": {}
     },
     "9f7ea885150a425e829a74ff0fc24f59": {
      "model_module": "@jupyter-widgets/base",
      "model_module_version": "1.2.0",
      "model_name": "LayoutModel",
      "state": {
       "width": "95%"
      }
     },
     "9fb69def06034003ab44023032603b14": {
      "model_module": "@jupyter-widgets/base",
      "model_module_version": "1.2.0",
      "model_name": "LayoutModel",
      "state": {
       "width": "95%"
      }
     },
     "9fbb6ab4666c4b97b81c77b1673a8afa": {
      "model_module": "@jupyter-widgets/controls",
      "model_module_version": "1.5.0",
      "model_name": "HTMLModel",
      "state": {
       "layout": "IPY_MODEL_302912d91d424c4cb027cef34beeb5ca",
       "style": "IPY_MODEL_805570c0428d4f7783a5905d40f9136e",
       "value": "Score: 0.833"
      }
     },
     "9fd7a84a2423404a9963d9005b5c4b17": {
      "model_module": "@jupyter-widgets/base",
      "model_module_version": "1.2.0",
      "model_name": "LayoutModel",
      "state": {}
     },
     "9fdf368e4a3d4bde998c6680def6d6fb": {
      "model_module": "@jupyter-widgets/base",
      "model_module_version": "1.2.0",
      "model_name": "LayoutModel",
      "state": {}
     },
     "9fec221e4a86494faf23576f517cb891": {
      "model_module": "@jupyter-widgets/base",
      "model_module_version": "1.2.0",
      "model_name": "LayoutModel",
      "state": {
       "width": "95%"
      }
     },
     "a001136da83d472ca3631316a8d43aa7": {
      "model_module": "@jupyter-widgets/controls",
      "model_module_version": "1.5.0",
      "model_name": "HBoxModel",
      "state": {
       "children": [
        "IPY_MODEL_7dcbd7da40c34b148db1be1030a82482",
        "IPY_MODEL_20caf19ff1b64b45ae2279a607d68a8f",
        "IPY_MODEL_c801ba8d25ee402aacffebcfdfe83c9c",
        "IPY_MODEL_8699f74ac3a44d3db552853a430ea81d",
        "IPY_MODEL_af78c1dc38534bb49d2d997513fab6da",
        "IPY_MODEL_67d6dc79a6e544c6ba9fc33e7d065879",
        "IPY_MODEL_2ce4e6c9cae040dca9d0a124ee957bd9",
        "IPY_MODEL_fcb46ca9dc7f41f3b84f68d07f694e3b",
        "IPY_MODEL_11b108a1e72c4b5a9d12797691ae9c73",
        "IPY_MODEL_76690d32b6174acaba8697789b5da6a0"
       ],
       "layout": "IPY_MODEL_ce096e3c170e492699ce13a931226a46"
      }
     },
     "a034d6470c954858bc17f4fb46e5dff8": {
      "model_module": "@jupyter-widgets/base",
      "model_module_version": "1.2.0",
      "model_name": "LayoutModel",
      "state": {
       "width": "10%"
      }
     },
     "a03b1eb7d1fc4d679bc7d62a9474d959": {
      "model_module": "@jupyter-widgets/base",
      "model_module_version": "1.2.0",
      "model_name": "LayoutModel",
      "state": {
       "width": "95%"
      }
     },
     "a04cba539e8e4cd19702fc676a00a4f0": {
      "model_module": "@jupyter-widgets/controls",
      "model_module_version": "1.5.0",
      "model_name": "HBoxModel",
      "state": {
       "children": [
        "IPY_MODEL_8ecc57e3c7404c698c96b2cd13a8807b",
        "IPY_MODEL_6c82955ab9fc4476be69aad1a110c43a",
        "IPY_MODEL_f1d25e2ed1df4732994646cd061f47bc",
        "IPY_MODEL_c30ff75894024b13a7cca50d492da6ae",
        "IPY_MODEL_6cb23bb85ec6424c9a3bc5a7909949e5",
        "IPY_MODEL_081e358b020f4bdb9fce513bfc94be52",
        "IPY_MODEL_e6a3b4e07a6645aabd8b783d04a2943d",
        "IPY_MODEL_a9a1c345bfa6430080faabf9f9e218c5",
        "IPY_MODEL_4ee766ac537a48a0b28e8b1e26c9d967",
        "IPY_MODEL_208eedcc5806420fafa306ceb383433f"
       ],
       "layout": "IPY_MODEL_68f96c12286d4b3f917688d485ca7ab4"
      }
     },
     "a069dcc799ae4f628debec709c0487fe": {
      "model_module": "@jupyter-widgets/controls",
      "model_module_version": "1.5.0",
      "model_name": "VBoxModel",
      "state": {
       "children": [
        "IPY_MODEL_47eb635a95ab48bb9f02196dda25537c",
        "IPY_MODEL_6d1b1908fa9941008bfbf5637b47b5e6"
       ],
       "layout": "IPY_MODEL_2dc6f4ef99694ca48a344b4c42f014ef"
      }
     },
     "a0718584614a412080aac433b83487ce": {
      "model_module": "@jupyter-widgets/base",
      "model_module_version": "1.2.0",
      "model_name": "LayoutModel",
      "state": {
       "width": "10%"
      }
     },
     "a078f85861b24bcda50d8d91ce9e402a": {
      "model_module": "@jupyter-widgets/output",
      "model_module_version": "1.0.0",
      "model_name": "OutputModel",
      "state": {
       "layout": "IPY_MODEL_1aae491b8ad440efbc358182879dd6ab"
      }
     },
     "a086aada5da3450dabc8be29b8dcc1a5": {
      "model_module": "@jupyter-widgets/controls",
      "model_module_version": "1.5.0",
      "model_name": "VBoxModel",
      "state": {
       "children": [
        "IPY_MODEL_34ba2b22c56546c995ccd1fc9a52610c",
        "IPY_MODEL_c037774ef69646999eed79ded10e43d6"
       ],
       "layout": "IPY_MODEL_ba11a4f576e347a3845f1b44938ac9f0"
      }
     },
     "a098d6346abc4604803a65f81e462ec8": {
      "model_module": "@jupyter-widgets/base",
      "model_module_version": "1.2.0",
      "model_name": "LayoutModel",
      "state": {
       "width": "10%"
      }
     },
     "a09ebcd2a10947a3a821b9d11ee6bbc9": {
      "model_module": "@jupyter-widgets/controls",
      "model_module_version": "1.5.0",
      "model_name": "ButtonModel",
      "state": {
       "description": "3",
       "layout": "IPY_MODEL_1dc41d4682c44ad891a951441513a961",
       "style": "IPY_MODEL_dd3022f5cf304edcad9134344fb65193"
      }
     },
     "a0a31a098de64a42995a76eb3c7dff0b": {
      "model_module": "@jupyter-widgets/controls",
      "model_module_version": "1.5.0",
      "model_name": "ButtonModel",
      "state": {
       "description": "4",
       "layout": "IPY_MODEL_a5f27231b3ee4e40b424aba531978a13",
       "style": "IPY_MODEL_9b2844c5718945d49308f036b256ecb9"
      }
     },
     "a0c0536d2b244a1389c71e260ce085b8": {
      "model_module": "@jupyter-widgets/controls",
      "model_module_version": "1.5.0",
      "model_name": "VBoxModel",
      "state": {
       "children": [
        "IPY_MODEL_0c4cb57091794a8090c16508dab66c0a",
        "IPY_MODEL_10df9d0e31204e15b184094667f225cc"
       ],
       "layout": "IPY_MODEL_9bce17549d634be1815cad9ce1b17c68"
      }
     },
     "a1126ad1b9df4deba10f26993e6918b7": {
      "model_module": "@jupyter-widgets/base",
      "model_module_version": "1.2.0",
      "model_name": "LayoutModel",
      "state": {
       "width": "95%"
      }
     },
     "a1264765e830481b86c283ce6c071521": {
      "model_module": "@jupyter-widgets/base",
      "model_module_version": "1.2.0",
      "model_name": "LayoutModel",
      "state": {
       "width": "10%"
      }
     },
     "a1345571f6de43f2b7786b7f7dfcdd13": {
      "model_module": "@jupyter-widgets/base",
      "model_module_version": "1.2.0",
      "model_name": "LayoutModel",
      "state": {
       "width": "95%"
      }
     },
     "a138a876cd0d4a92abf9d04ff5a4fe1d": {
      "model_module": "@jupyter-widgets/base",
      "model_module_version": "1.2.0",
      "model_name": "LayoutModel",
      "state": {
       "width": "95%"
      }
     },
     "a1522aa1c7e24d18965ca1ed8db6f76e": {
      "model_module": "@jupyter-widgets/output",
      "model_module_version": "1.0.0",
      "model_name": "OutputModel",
      "state": {
       "layout": "IPY_MODEL_cfbbefe7f297478c96eb00dbfcc7eb66"
      }
     },
     "a1578cb818194e1abb037e4b83320a07": {
      "model_module": "@jupyter-widgets/output",
      "model_module_version": "1.0.0",
      "model_name": "OutputModel",
      "state": {
       "layout": "IPY_MODEL_6586e87762324492a036ae15d9d1e65b"
      }
     },
     "a15c8d2496d240e3a1b6ad7f6ee90d6d": {
      "model_module": "@jupyter-widgets/output",
      "model_module_version": "1.0.0",
      "model_name": "OutputModel",
      "state": {
       "layout": "IPY_MODEL_b42a761085924291a91e7a5d39686a7c"
      }
     },
     "a1864e645dbc4266978f53b706108a32": {
      "model_module": "@jupyter-widgets/base",
      "model_module_version": "1.2.0",
      "model_name": "LayoutModel",
      "state": {
       "width": "95%"
      }
     },
     "a18a134a24a244aa83d8278e264b1725": {
      "model_module": "@jupyter-widgets/controls",
      "model_module_version": "1.5.0",
      "model_name": "ButtonModel",
      "state": {
       "description": "8",
       "layout": "IPY_MODEL_331aba6842b04035aa93d66c6644e5cd",
       "style": "IPY_MODEL_52e4f72df045478bbf71deaf689ef0cb"
      }
     },
     "a18b74903ff94f5984038ed2df09c93b": {
      "model_module": "@jupyter-widgets/base",
      "model_module_version": "1.2.0",
      "model_name": "LayoutModel",
      "state": {}
     },
     "a199d331a63f4d16965c2001f42812a1": {
      "model_module": "@jupyter-widgets/base",
      "model_module_version": "1.2.0",
      "model_name": "LayoutModel",
      "state": {
       "width": "95%"
      }
     },
     "a1cf7b18c0a9446eb13e8cc09c0edeeb": {
      "model_module": "@jupyter-widgets/controls",
      "model_module_version": "1.5.0",
      "model_name": "VBoxModel",
      "state": {
       "children": [
        "IPY_MODEL_8913fe84fd46429c9702f5259799ac03",
        "IPY_MODEL_9b1b522d756c451d92a1a09636ce1b18"
       ],
       "layout": "IPY_MODEL_79ff65c2e7db49e69927c14f19cab289"
      }
     },
     "a1d1415dbc624273b9a6243223eecedf": {
      "model_module": "@jupyter-widgets/output",
      "model_module_version": "1.0.0",
      "model_name": "OutputModel",
      "state": {
       "layout": "IPY_MODEL_b17833fd30e84dfa878e35b7df5eb6e0"
      }
     },
     "a1eba52286a244c7ae2d15652651def0": {
      "model_module": "@jupyter-widgets/output",
      "model_module_version": "1.0.0",
      "model_name": "OutputModel",
      "state": {
       "layout": "IPY_MODEL_aabc684f7d004259b5a3751040efdbd5"
      }
     },
     "a20c25ae971a4a4ab023c510e96c8763": {
      "model_module": "@jupyter-widgets/base",
      "model_module_version": "1.2.0",
      "model_name": "LayoutModel",
      "state": {
       "width": "10%"
      }
     },
     "a20e2e0aec8141e7b93b0a212bdedd3a": {
      "model_module": "@jupyter-widgets/base",
      "model_module_version": "1.2.0",
      "model_name": "LayoutModel",
      "state": {}
     },
     "a217ecc760e649de9e6eff53200688dd": {
      "model_module": "@jupyter-widgets/base",
      "model_module_version": "1.2.0",
      "model_name": "LayoutModel",
      "state": {
       "width": "10%"
      }
     },
     "a23360784e8d4fb0a06b42364e96a782": {
      "model_module": "@jupyter-widgets/controls",
      "model_module_version": "1.5.0",
      "model_name": "ButtonStyleModel",
      "state": {}
     },
     "a246c102b4bd4d8eb913e1d4a81d5686": {
      "model_module": "@jupyter-widgets/controls",
      "model_module_version": "1.5.0",
      "model_name": "VBoxModel",
      "state": {
       "children": [
        "IPY_MODEL_5e38cb313e28468bb1ae306f40a27287",
        "IPY_MODEL_aece4b19e085495ab3cd348bad9905d7"
       ],
       "layout": "IPY_MODEL_ed6db08004a345aba802d0f8803b0263"
      }
     },
     "a254806a6e054e54a64c057f7a0b8194": {
      "model_module": "@jupyter-widgets/controls",
      "model_module_version": "1.5.0",
      "model_name": "ButtonModel",
      "state": {
       "description": "1",
       "layout": "IPY_MODEL_ca16d1ec723a4c0ba5a042d25a38392f",
       "style": "IPY_MODEL_99de4205ee6f4a11a849d8de6343f584"
      }
     },
     "a26042a9018c473e827fb16b631990ad": {
      "model_module": "@jupyter-widgets/controls",
      "model_module_version": "1.5.0",
      "model_name": "VBoxModel",
      "state": {
       "children": [
        "IPY_MODEL_afb7f6562a364b139318a0905e98e340",
        "IPY_MODEL_646a23b142fb439ba26709df81fccea8"
       ],
       "layout": "IPY_MODEL_2af434fcc71b411d929ef76fbefbb955"
      }
     },
     "a26e8a93be2e417e971a070ebd17bec1": {
      "model_module": "@jupyter-widgets/controls",
      "model_module_version": "1.5.0",
      "model_name": "VBoxModel",
      "state": {
       "children": [
        "IPY_MODEL_64231aa44b3f4897a876d9987f04fc48",
        "IPY_MODEL_08836542cbf740c291ed6b89c356c0ab"
       ],
       "layout": "IPY_MODEL_818da32669e140b3a6b88fc16625e0e2"
      }
     },
     "a29e91535d6840c99906ce55819ceb38": {
      "model_module": "@jupyter-widgets/controls",
      "model_module_version": "1.5.0",
      "model_name": "VBoxModel",
      "state": {
       "children": [
        "IPY_MODEL_2d0d8d1f67d64242a8fd102210d8e543",
        "IPY_MODEL_d11d4c58253248f3be55dc7476b5c829"
       ],
       "layout": "IPY_MODEL_07360258f0784f19a84fec6763e0aaae"
      }
     },
     "a2a014a2938d4e5cbebd48a062247301": {
      "model_module": "@jupyter-widgets/controls",
      "model_module_version": "1.5.0",
      "model_name": "VBoxModel",
      "state": {
       "children": [
        "IPY_MODEL_c373369377604600a323ceb3f9da83ce",
        "IPY_MODEL_6bd6d44a55864870b8f15e54456dd3ab"
       ],
       "layout": "IPY_MODEL_43433ba9c4034514a83893152ef62949"
      }
     },
     "a2a09b1d6bfb421ca698ebc1bb5a34bf": {
      "model_module": "@jupyter-widgets/controls",
      "model_module_version": "1.5.0",
      "model_name": "VBoxModel",
      "state": {
       "children": [
        "IPY_MODEL_ae8129c64bbb4d1a91c413a9fc06ec47",
        "IPY_MODEL_870a0afe07ab4f0dab1cca8bb6c42b5e"
       ],
       "layout": "IPY_MODEL_4ea38e71b626474c8009212f0cb477d1"
      }
     },
     "a2cfb0cfaa1a45208fee3db535fb89a2": {
      "model_module": "@jupyter-widgets/base",
      "model_module_version": "1.2.0",
      "model_name": "LayoutModel",
      "state": {}
     },
     "a2dfee0a9f444ab297c4576446232f54": {
      "model_module": "@jupyter-widgets/controls",
      "model_module_version": "1.5.0",
      "model_name": "ButtonStyleModel",
      "state": {}
     },
     "a2e5ca3f094b418a941c1240d097f787": {
      "model_module": "@jupyter-widgets/controls",
      "model_module_version": "1.5.0",
      "model_name": "ButtonStyleModel",
      "state": {}
     },
     "a2ebf98834c54d7a8bc03ea1efac44da": {
      "model_module": "@jupyter-widgets/controls",
      "model_module_version": "1.5.0",
      "model_name": "ButtonModel",
      "state": {
       "description": "7",
       "layout": "IPY_MODEL_e6bbc937eb444bfebd0b0bee4f649126",
       "style": "IPY_MODEL_8ac4063f4d934794a5ec5afbe4d12e12"
      }
     },
     "a30edb9f81824c2697969f7b7d0e7c36": {
      "model_module": "@jupyter-widgets/controls",
      "model_module_version": "1.5.0",
      "model_name": "ButtonModel",
      "state": {
       "description": "4",
       "layout": "IPY_MODEL_b9b49804b87741da933be9106f1ec11d",
       "style": "IPY_MODEL_7ffa10bb2bbc4cea84729269c4db6304"
      }
     },
     "a3238e7c03564a5a8f90ea947e7d72ec": {
      "model_module": "@jupyter-widgets/base",
      "model_module_version": "1.2.0",
      "model_name": "LayoutModel",
      "state": {}
     },
     "a335fded122c49c298f48587c5894d4a": {
      "model_module": "@jupyter-widgets/controls",
      "model_module_version": "1.5.0",
      "model_name": "ButtonModel",
      "state": {
       "description": "5",
       "layout": "IPY_MODEL_1213f2fdd113413589edc517c93bc77e",
       "style": "IPY_MODEL_2f64f3d0bbad4429a273d642b00ef15a"
      }
     },
     "a343bdc584a94ee9bb6005ca6fe966bf": {
      "model_module": "@jupyter-widgets/base",
      "model_module_version": "1.2.0",
      "model_name": "LayoutModel",
      "state": {
       "width": "10%"
      }
     },
     "a358db2a80064cb38b796b4cd89444d9": {
      "model_module": "@jupyter-widgets/controls",
      "model_module_version": "1.5.0",
      "model_name": "TextModel",
      "state": {
       "description": "Other:",
       "layout": "IPY_MODEL_5e12e45f3a17442992069806ecc4faf7",
       "placeholder": "Hit enter to submit.",
       "style": "IPY_MODEL_bbb0ac6848aa42d4babef97c19ae4610"
      }
     },
     "a38b19115f1f4d1aa78e801dda141de2": {
      "model_module": "@jupyter-widgets/controls",
      "model_module_version": "1.5.0",
      "model_name": "ButtonModel",
      "state": {
       "description": "0",
       "layout": "IPY_MODEL_44d3dcb27c83486f9de511f9eecc0808",
       "style": "IPY_MODEL_1b8421646a1a4e7abb8138528070de24"
      }
     },
     "a39445b978dc430aa6865ea60d788a70": {
      "model_module": "@jupyter-widgets/controls",
      "model_module_version": "1.5.0",
      "model_name": "VBoxModel",
      "state": {
       "children": [
        "IPY_MODEL_188e4e83e4cd42b69d13908cbf313d1e",
        "IPY_MODEL_bf3ce4ac7878490d9d4fdd5bfffd3273"
       ],
       "layout": "IPY_MODEL_55493344c6fb4a5d895e960df5813abd"
      }
     },
     "a3b0fbea707b438aa1d88614068c2275": {
      "model_module": "@jupyter-widgets/base",
      "model_module_version": "1.2.0",
      "model_name": "LayoutModel",
      "state": {
       "width": "10%"
      }
     },
     "a3b1d2973a654cbd809f567de3fa9eee": {
      "model_module": "@jupyter-widgets/base",
      "model_module_version": "1.2.0",
      "model_name": "LayoutModel",
      "state": {
       "width": "95%"
      }
     },
     "a3c8e65a5d8a46889933e11a09637074": {
      "model_module": "@jupyter-widgets/base",
      "model_module_version": "1.2.0",
      "model_name": "LayoutModel",
      "state": {}
     },
     "a3d3f99a7a874f7183dd676c984e7224": {
      "model_module": "@jupyter-widgets/controls",
      "model_module_version": "1.5.0",
      "model_name": "ButtonModel",
      "state": {
       "description": "0",
       "layout": "IPY_MODEL_67a44476e9144c9587caa6bd5ff15294",
       "style": "IPY_MODEL_cfbbfdf5f8c04312b65ef5f1e7e30bf0"
      }
     },
     "a41263e6dc5e4f21929764f41289c2ef": {
      "model_module": "@jupyter-widgets/controls",
      "model_module_version": "1.5.0",
      "model_name": "ButtonStyleModel",
      "state": {}
     },
     "a4833cfdd3994476856824bf4553aa33": {
      "model_module": "@jupyter-widgets/output",
      "model_module_version": "1.0.0",
      "model_name": "OutputModel",
      "state": {
       "layout": "IPY_MODEL_849bb6a57fad459d9cbf5701ed8c23f5"
      }
     },
     "a485164058324776a4cc6e2834204997": {
      "model_module": "@jupyter-widgets/output",
      "model_module_version": "1.0.0",
      "model_name": "OutputModel",
      "state": {
       "layout": "IPY_MODEL_db5e61d6d867442d9af4943c50012355"
      }
     },
     "a4864fb38a604e16b5a375119a4fda97": {
      "model_module": "@jupyter-widgets/output",
      "model_module_version": "1.0.0",
      "model_name": "OutputModel",
      "state": {
       "layout": "IPY_MODEL_e1d8db48c5c1412cadbd1ccae923ecab"
      }
     },
     "a48a9e81f56b4791b6318bda003efb5e": {
      "model_module": "@jupyter-widgets/output",
      "model_module_version": "1.0.0",
      "model_name": "OutputModel",
      "state": {
       "layout": "IPY_MODEL_f77654c45537417084b592c776453b68"
      }
     },
     "a4b2aaaaf7c948528d7b97390c347672": {
      "model_module": "@jupyter-widgets/base",
      "model_module_version": "1.2.0",
      "model_name": "LayoutModel",
      "state": {}
     },
     "a4e3daef59ce4325aa596406750211b3": {
      "model_module": "@jupyter-widgets/controls",
      "model_module_version": "1.5.0",
      "model_name": "HBoxModel",
      "state": {
       "children": [
        "IPY_MODEL_198aa93c49bf4e1abb3135dc89c1bd48",
        "IPY_MODEL_e2f15d624f9d453284b8c12f6b5e916e"
       ],
       "layout": "IPY_MODEL_730ae67ab18c455c89e576f11ffea78d"
      }
     },
     "a4f727f57a494447aadbd69856fcb662": {
      "model_module": "@jupyter-widgets/base",
      "model_module_version": "1.2.0",
      "model_name": "LayoutModel",
      "state": {
       "width": "95%"
      }
     },
     "a51e352971a94e6fa5546a2ec46cdc41": {
      "model_module": "@jupyter-widgets/controls",
      "model_module_version": "1.5.0",
      "model_name": "VBoxModel",
      "state": {
       "children": [
        "IPY_MODEL_5ef6d08c73274e939f08f9a08b2c38f5",
        "IPY_MODEL_9c0238795bb04123bb2175b8f2d54e3c"
       ],
       "layout": "IPY_MODEL_ade1bc0476a745b9a751f5f287998f41"
      }
     },
     "a560263eb4934f3c84b7c0f9a0697e46": {
      "model_module": "@jupyter-widgets/base",
      "model_module_version": "1.2.0",
      "model_name": "LayoutModel",
      "state": {
       "width": "10%"
      }
     },
     "a5841af677c946a68185749510ede56a": {
      "model_module": "@jupyter-widgets/controls",
      "model_module_version": "1.5.0",
      "model_name": "TextModel",
      "state": {
       "description": "Other:",
       "layout": "IPY_MODEL_0c1d2b34bb5543fc94bcf11f3e22a266",
       "placeholder": "Hit enter to submit.",
       "style": "IPY_MODEL_fa7f9524ad234c439e93dfb9b51715f5"
      }
     },
     "a5b86874ac144b5485b06990479ef233": {
      "model_module": "@jupyter-widgets/controls",
      "model_module_version": "1.5.0",
      "model_name": "HBoxModel",
      "state": {
       "children": [
        "IPY_MODEL_ea515f6ab0fb4c8fa83df8e40b2a12b3",
        "IPY_MODEL_b5071a727cb4429ab5846a1b5e1e9269",
        "IPY_MODEL_0d1325c707c8443cadea347f7b556f0b"
       ],
       "layout": "IPY_MODEL_5778bde092fb4538af9fecf9b36d32ab"
      }
     },
     "a5e6c9ddbeb4418b8678d7c52bcc0184": {
      "model_module": "@jupyter-widgets/base",
      "model_module_version": "1.2.0",
      "model_name": "LayoutModel",
      "state": {
       "width": "10%"
      }
     },
     "a5f27231b3ee4e40b424aba531978a13": {
      "model_module": "@jupyter-widgets/base",
      "model_module_version": "1.2.0",
      "model_name": "LayoutModel",
      "state": {
       "width": "95%"
      }
     },
     "a604de9cd23c4b4d89f326231e64b85f": {
      "model_module": "@jupyter-widgets/base",
      "model_module_version": "1.2.0",
      "model_name": "LayoutModel",
      "state": {
       "width": "10%"
      }
     },
     "a613d3271e4841448901c5ef9222a527": {
      "model_module": "@jupyter-widgets/controls",
      "model_module_version": "1.5.0",
      "model_name": "VBoxModel",
      "state": {
       "children": [
        "IPY_MODEL_252dcf19cac24ef3bf80a9dc5fd1ff42",
        "IPY_MODEL_60791ab158f943a4b1e5ac9b5ac8847f"
       ],
       "layout": "IPY_MODEL_a9edb81489f64ad4a1325ff0980de638"
      }
     },
     "a615a4acdf5c477195167696e2a093b6": {
      "model_module": "@jupyter-widgets/base",
      "model_module_version": "1.2.0",
      "model_name": "LayoutModel",
      "state": {}
     },
     "a61a9d67a9a0404e81c6967c8349dc81": {
      "model_module": "@jupyter-widgets/controls",
      "model_module_version": "1.5.0",
      "model_name": "ButtonStyleModel",
      "state": {}
     },
     "a636390000c34a549c40ee53dc41fed5": {
      "model_module": "@jupyter-widgets/output",
      "model_module_version": "1.0.0",
      "model_name": "OutputModel",
      "state": {
       "layout": "IPY_MODEL_df489352d01b448b8e991d2df262f59b"
      }
     },
     "a6373f65f2084ef3943603b076cbe1f6": {
      "model_module": "@jupyter-widgets/base",
      "model_module_version": "1.2.0",
      "model_name": "LayoutModel",
      "state": {}
     },
     "a68dc538951a4f988deaa6373dc0d62d": {
      "model_module": "@jupyter-widgets/base",
      "model_module_version": "1.2.0",
      "model_name": "LayoutModel",
      "state": {
       "width": "10%"
      }
     },
     "a6f9e32110ab472b8964988ee8bc5615": {
      "model_module": "@jupyter-widgets/controls",
      "model_module_version": "1.5.0",
      "model_name": "VBoxModel",
      "state": {
       "children": [
        "IPY_MODEL_2d367b67e2894510ae76bb7c26ff9867",
        "IPY_MODEL_d1fd7758798644ceb1cee417160c064a"
       ],
       "layout": "IPY_MODEL_eae268629d924f3c8931a059c05ecb50"
      }
     },
     "a6fb3942e94243949ab8dd2dc10c2957": {
      "model_module": "@jupyter-widgets/base",
      "model_module_version": "1.2.0",
      "model_name": "LayoutModel",
      "state": {
       "width": "10%"
      }
     },
     "a720ff1231df4fc7b9f0363b8d80b6f1": {
      "model_module": "@jupyter-widgets/controls",
      "model_module_version": "1.5.0",
      "model_name": "VBoxModel",
      "state": {
       "children": [
        "IPY_MODEL_f03d5d86dc7647e1bd514578d5556abc",
        "IPY_MODEL_7a22e8f3ea6c4353bf66c0f935eb7202"
       ],
       "layout": "IPY_MODEL_b8e3f00e21e14fe7b5d2e6e0312db048"
      }
     },
     "a756027e372f43a48d7f56e062eb02a5": {
      "model_module": "@jupyter-widgets/output",
      "model_module_version": "1.0.0",
      "model_name": "OutputModel",
      "state": {
       "layout": "IPY_MODEL_ac9155843de747c9bef07ed1d193ca80"
      }
     },
     "a77b017b12964fc8a6e2ff68b23bbf39": {
      "model_module": "@jupyter-widgets/base",
      "model_module_version": "1.2.0",
      "model_name": "LayoutModel",
      "state": {
       "width": "95%"
      }
     },
     "a79402975e5a4be8873292344df0fd4e": {
      "model_module": "@jupyter-widgets/base",
      "model_module_version": "1.2.0",
      "model_name": "LayoutModel",
      "state": {
       "width": "10%"
      }
     },
     "a7cfe61ce27d40fa94eb69872478ef15": {
      "model_module": "@jupyter-widgets/controls",
      "model_module_version": "1.5.0",
      "model_name": "VBoxModel",
      "state": {
       "children": [
        "IPY_MODEL_5b3a73ea181d42e7a7a336882178c7a5",
        "IPY_MODEL_7d50afd685b44484a2f6640b84c6a909"
       ],
       "layout": "IPY_MODEL_4f67851988b44ad1a621b1396a818ec3"
      }
     },
     "a84cde169c4246adb1275e9c9be738ed": {
      "model_module": "@jupyter-widgets/controls",
      "model_module_version": "1.5.0",
      "model_name": "ButtonModel",
      "state": {
       "description": "5",
       "layout": "IPY_MODEL_993cd13f886e40ea8b8d0b3edda80033",
       "style": "IPY_MODEL_448c44e672cd4d85ab67e921a8c38a04"
      }
     },
     "a86df98731c947aaa41ef9449b321685": {
      "model_module": "@jupyter-widgets/base",
      "model_module_version": "1.2.0",
      "model_name": "LayoutModel",
      "state": {}
     },
     "a88a4323d0b9485bbc3ab09ff1a648fe": {
      "model_module": "@jupyter-widgets/base",
      "model_module_version": "1.2.0",
      "model_name": "LayoutModel",
      "state": {
       "width": "95%"
      }
     },
     "a88f05185609402f9d46b70cb53154e2": {
      "model_module": "@jupyter-widgets/base",
      "model_module_version": "1.2.0",
      "model_name": "LayoutModel",
      "state": {}
     },
     "a8bbac42a7a24fcf94d65dc4e993da3c": {
      "model_module": "@jupyter-widgets/controls",
      "model_module_version": "1.5.0",
      "model_name": "HBoxModel",
      "state": {
       "children": [
        "IPY_MODEL_baf855e84b3b4f4e808a2620add95a88",
        "IPY_MODEL_9c36dc48bab047279903b31d8af54bd0"
       ],
       "layout": "IPY_MODEL_58a86d9722be405091056fdddd03e254"
      }
     },
     "a8d9646784844cfd92ee256c9375f889": {
      "model_module": "@jupyter-widgets/controls",
      "model_module_version": "1.5.0",
      "model_name": "VBoxModel",
      "state": {
       "children": [
        "IPY_MODEL_dce73fbe0fcc4d618d8f4e6de96b2f53",
        "IPY_MODEL_193c2dc491fa4547bd8bbe6774fc5cff"
       ],
       "layout": "IPY_MODEL_ca51a00c0049446389c1c675c6d923f3"
      }
     },
     "a907e4e749d6449280b6796b6cfda7d3": {
      "model_module": "@jupyter-widgets/controls",
      "model_module_version": "1.5.0",
      "model_name": "ButtonModel",
      "state": {
       "description": "4",
       "layout": "IPY_MODEL_fc6c91a581064825ac3a53e0c65c1e3d",
       "style": "IPY_MODEL_2153e7dac0db4a2ea4d94d07d47b0c83"
      }
     },
     "a94f8f60985845b38d4a3c32c81b389a": {
      "model_module": "@jupyter-widgets/controls",
      "model_module_version": "1.5.0",
      "model_name": "ButtonStyleModel",
      "state": {}
     },
     "a952edf262fd47099873e90b3df9ccc6": {
      "model_module": "@jupyter-widgets/base",
      "model_module_version": "1.2.0",
      "model_name": "LayoutModel",
      "state": {
       "width": "10%"
      }
     },
     "a954b2a8e64c4bc38c4630c3aabf07cd": {
      "model_module": "@jupyter-widgets/base",
      "model_module_version": "1.2.0",
      "model_name": "LayoutModel",
      "state": {}
     },
     "a9a1c345bfa6430080faabf9f9e218c5": {
      "model_module": "@jupyter-widgets/controls",
      "model_module_version": "1.5.0",
      "model_name": "VBoxModel",
      "state": {
       "children": [
        "IPY_MODEL_7ecd5a6d958c4d429556d37668733edf",
        "IPY_MODEL_a485164058324776a4cc6e2834204997"
       ],
       "layout": "IPY_MODEL_56e571d15232455a8d8f5b4bebecb9cc"
      }
     },
     "a9ab851291db4b709c88eec72b887282": {
      "model_module": "@jupyter-widgets/controls",
      "model_module_version": "1.5.0",
      "model_name": "ButtonStyleModel",
      "state": {}
     },
     "a9b1c6d2d9d64b55bdfba7938e6595c0": {
      "model_module": "@jupyter-widgets/controls",
      "model_module_version": "1.5.0",
      "model_name": "VBoxModel",
      "state": {
       "children": [
        "IPY_MODEL_9470268d2dcb4843acf7d1e66d39715f",
        "IPY_MODEL_8c2e9a9e38ae4b33ac9316d59bc453b8"
       ],
       "layout": "IPY_MODEL_7c02ce158a5f4a01be9eee9fda6cea31"
      }
     },
     "a9bd880d0a5a4ff09947465ae0fe214d": {
      "model_module": "@jupyter-widgets/base",
      "model_module_version": "1.2.0",
      "model_name": "LayoutModel",
      "state": {
       "justify_content": "space-between"
      }
     },
     "a9edb81489f64ad4a1325ff0980de638": {
      "model_module": "@jupyter-widgets/base",
      "model_module_version": "1.2.0",
      "model_name": "LayoutModel",
      "state": {
       "width": "10%"
      }
     },
     "aa0ad13ebd9644a7ad88a56ccc19d8e2": {
      "model_module": "@jupyter-widgets/output",
      "model_module_version": "1.0.0",
      "model_name": "OutputModel",
      "state": {
       "layout": "IPY_MODEL_687aa616227c458ea80c6679857b82d2"
      }
     },
     "aa1a8a9e0de64a3a9c8aaa68b7ca19a2": {
      "model_module": "@jupyter-widgets/output",
      "model_module_version": "1.0.0",
      "model_name": "OutputModel",
      "state": {
       "layout": "IPY_MODEL_54ac6ea290e34ee786911873c3e75387"
      }
     },
     "aa2ce770da94415ea7ae423652d1b173": {
      "model_module": "@jupyter-widgets/base",
      "model_module_version": "1.2.0",
      "model_name": "LayoutModel",
      "state": {
       "width": "10%"
      }
     },
     "aa3907cce1bf4ec88dccd1b7e9fb4d5e": {
      "model_module": "@jupyter-widgets/base",
      "model_module_version": "1.2.0",
      "model_name": "LayoutModel",
      "state": {
       "width": "95%"
      }
     },
     "aa6d5e954b154d6bb02a0d47eaab70e8": {
      "model_module": "@jupyter-widgets/controls",
      "model_module_version": "1.5.0",
      "model_name": "VBoxModel",
      "state": {
       "children": [
        "IPY_MODEL_a84cde169c4246adb1275e9c9be738ed",
        "IPY_MODEL_735d3d07a85e4fde9eb4acc2b3df25cb"
       ],
       "layout": "IPY_MODEL_922931b5fbb84d369bbc10f26bc425a0"
      }
     },
     "aa840746a4d745dd8061961a933e9dda": {
      "model_module": "@jupyter-widgets/controls",
      "model_module_version": "1.5.0",
      "model_name": "TextModel",
      "state": {
       "description": "Other:",
       "layout": "IPY_MODEL_48dd6611bb434a59a49f7a50018d59e8",
       "placeholder": "Hit enter to submit.",
       "style": "IPY_MODEL_7262da1630474f78981571f0e251928b"
      }
     },
     "aa9c98138f8e435bae57a23ed149dda7": {
      "model_module": "@jupyter-widgets/controls",
      "model_module_version": "1.5.0",
      "model_name": "ButtonModel",
      "state": {
       "description": "8",
       "layout": "IPY_MODEL_561c4257b3374350a0ca2f1fbf716572",
       "style": "IPY_MODEL_8d7c3b0bd4f244df9e336ad9c841c4cf"
      }
     },
     "aaa08f0445404a769ff71e40ee3f4a1a": {
      "model_module": "@jupyter-widgets/controls",
      "model_module_version": "1.5.0",
      "model_name": "ButtonStyleModel",
      "state": {}
     },
     "aaa514e5bbac43359b32445514223f67": {
      "model_module": "@jupyter-widgets/controls",
      "model_module_version": "1.5.0",
      "model_name": "ButtonModel",
      "state": {
       "description": "5",
       "layout": "IPY_MODEL_0a8f6d9a8cc8410eb62445d1a6725c06",
       "style": "IPY_MODEL_ee392ffa0d2e48409ad560f2f95c4412"
      }
     },
     "aab56caa94b54c8f87d743332ad226db": {
      "model_module": "@jupyter-widgets/controls",
      "model_module_version": "1.5.0",
      "model_name": "VBoxModel",
      "state": {
       "children": [
        "IPY_MODEL_7590a9e565624488a2299991d780ae83",
        "IPY_MODEL_54c231326b3f439fa3485f86222c5166"
       ],
       "layout": "IPY_MODEL_1fc37a6853474c4a8d64bddb4c0f9f6d"
      }
     },
     "aabc684f7d004259b5a3751040efdbd5": {
      "model_module": "@jupyter-widgets/base",
      "model_module_version": "1.2.0",
      "model_name": "LayoutModel",
      "state": {}
     },
     "aac50767560544b4a72d8bb6e02e2d2f": {
      "model_module": "@jupyter-widgets/base",
      "model_module_version": "1.2.0",
      "model_name": "LayoutModel",
      "state": {
       "width": "95%"
      }
     },
     "aae26e3105184bccbf26b2286a42ce5f": {
      "model_module": "@jupyter-widgets/base",
      "model_module_version": "1.2.0",
      "model_name": "LayoutModel",
      "state": {
       "width": "10%"
      }
     },
     "aae63062cd314b8da34d90a269b0c43b": {
      "model_module": "@jupyter-widgets/base",
      "model_module_version": "1.2.0",
      "model_name": "LayoutModel",
      "state": {
       "width": "10%"
      }
     },
     "aae8943a87ec427b8aa45b1f34b14291": {
      "model_module": "@jupyter-widgets/controls",
      "model_module_version": "1.5.0",
      "model_name": "DescriptionStyleModel",
      "state": {
       "description_width": ""
      }
     },
     "aae9a6bfc0254dc48df1ef957b8dcffe": {
      "model_module": "@jupyter-widgets/base",
      "model_module_version": "1.2.0",
      "model_name": "LayoutModel",
      "state": {}
     },
     "aafd56a26b0349ef98cad0607b2dffae": {
      "model_module": "@jupyter-widgets/controls",
      "model_module_version": "1.5.0",
      "model_name": "ButtonStyleModel",
      "state": {}
     },
     "ab32bc7cfa6f41448975e5048a9f763a": {
      "model_module": "@jupyter-widgets/controls",
      "model_module_version": "1.5.0",
      "model_name": "ButtonStyleModel",
      "state": {}
     },
     "ab3664a289d441c0a37ac2a170707754": {
      "model_module": "@jupyter-widgets/base",
      "model_module_version": "1.2.0",
      "model_name": "LayoutModel",
      "state": {
       "width": "95%"
      }
     },
     "ab62a12397d54e838a891801fd7458f1": {
      "model_module": "@jupyter-widgets/controls",
      "model_module_version": "1.5.0",
      "model_name": "ButtonModel",
      "state": {
       "description": "2",
       "layout": "IPY_MODEL_658e338d81db4bedb0e687f364b0c145",
       "style": "IPY_MODEL_7cf3674bf807489d9bb90ff803740fed"
      }
     },
     "ab7cd014554b46278116d0be1838f371": {
      "model_module": "@jupyter-widgets/base",
      "model_module_version": "1.2.0",
      "model_name": "LayoutModel",
      "state": {
       "width": "95%"
      }
     },
     "ab7fcd3058a2490e83a5d4aaeb527de8": {
      "model_module": "@jupyter-widgets/base",
      "model_module_version": "1.2.0",
      "model_name": "LayoutModel",
      "state": {}
     },
     "abba2b82d1de4b14b1554870496c4616": {
      "model_module": "@jupyter-widgets/output",
      "model_module_version": "1.0.0",
      "model_name": "OutputModel",
      "state": {
       "layout": "IPY_MODEL_2b2449f8ff01464c87a38af30bd9a414"
      }
     },
     "abd67dc5ffb14c5fbae491e764c7dec8": {
      "model_module": "@jupyter-widgets/base",
      "model_module_version": "1.2.0",
      "model_name": "LayoutModel",
      "state": {
       "width": "10%"
      }
     },
     "abdb89beedba4fd6897f011e4ed0962c": {
      "model_module": "@jupyter-widgets/base",
      "model_module_version": "1.2.0",
      "model_name": "LayoutModel",
      "state": {}
     },
     "abdbd72db67d49c58a6e0ddd1ee565a1": {
      "model_module": "@jupyter-widgets/controls",
      "model_module_version": "1.5.0",
      "model_name": "VBoxModel",
      "state": {
       "children": [
        "IPY_MODEL_13f69fa7bcaf4732b0c84e547b5b3c85",
        "IPY_MODEL_2da8b05a8b2f4baa9a25334a980f7b97"
       ],
       "layout": "IPY_MODEL_64ea93b038c64065b07d3f774a1cc8b8"
      }
     },
     "ac2a25b22b04478f8bd7d56fe01cf99d": {
      "model_module": "@jupyter-widgets/controls",
      "model_module_version": "1.5.0",
      "model_name": "ButtonStyleModel",
      "state": {}
     },
     "ac32b04facde4133bc0e8865e0e0064c": {
      "model_module": "@jupyter-widgets/base",
      "model_module_version": "1.2.0",
      "model_name": "LayoutModel",
      "state": {
       "width": "95%"
      }
     },
     "ac6742b7105e4b449a32235d1b84ba0b": {
      "model_module": "@jupyter-widgets/controls",
      "model_module_version": "1.5.0",
      "model_name": "ButtonModel",
      "state": {
       "description": "0",
       "layout": "IPY_MODEL_032516b609454dd2b075ebd7264f2b4d",
       "style": "IPY_MODEL_b74547ae301a4886973bd17af05b2172"
      }
     },
     "ac6b3632a02346b391ffb32b1e6a408c": {
      "model_module": "@jupyter-widgets/output",
      "model_module_version": "1.0.0",
      "model_name": "OutputModel",
      "state": {
       "layout": "IPY_MODEL_f591f052c4df43d792e25babb0dea628"
      }
     },
     "ac8cbb811f24483593bb4427f285d8e6": {
      "model_module": "@jupyter-widgets/controls",
      "model_module_version": "1.5.0",
      "model_name": "ButtonStyleModel",
      "state": {}
     },
     "ac9155843de747c9bef07ed1d193ca80": {
      "model_module": "@jupyter-widgets/base",
      "model_module_version": "1.2.0",
      "model_name": "LayoutModel",
      "state": {}
     },
     "acba433787b94958951fd0016bdef6c6": {
      "model_module": "@jupyter-widgets/base",
      "model_module_version": "1.2.0",
      "model_name": "LayoutModel",
      "state": {}
     },
     "acc2eb8a5587464da0c24cb6028c3aff": {
      "model_module": "@jupyter-widgets/base",
      "model_module_version": "1.2.0",
      "model_name": "LayoutModel",
      "state": {}
     },
     "aced0f91f23348f6bc6791e548b408cb": {
      "model_module": "@jupyter-widgets/controls",
      "model_module_version": "1.5.0",
      "model_name": "ButtonStyleModel",
      "state": {}
     },
     "ad255e963be74f9a815a496dd64e81f0": {
      "model_module": "@jupyter-widgets/controls",
      "model_module_version": "1.5.0",
      "model_name": "ButtonStyleModel",
      "state": {}
     },
     "ad29cd10ed7e4561aafd582e4af5410f": {
      "model_module": "@jupyter-widgets/controls",
      "model_module_version": "1.5.0",
      "model_name": "ButtonModel",
      "state": {
       "description": "9",
       "layout": "IPY_MODEL_c5bb3ae21f5c4345b2666a472144eca9",
       "style": "IPY_MODEL_feed9cbee150498797c294d50410b0f0"
      }
     },
     "ad2abecbd5014054836090c97d71c5c5": {
      "model_module": "@jupyter-widgets/controls",
      "model_module_version": "1.5.0",
      "model_name": "ButtonStyleModel",
      "state": {}
     },
     "ad4c849a9be744299f1f76516b55c1f5": {
      "model_module": "@jupyter-widgets/base",
      "model_module_version": "1.2.0",
      "model_name": "LayoutModel",
      "state": {}
     },
     "ad541b44b7f04d75a516f10b91bff1ee": {
      "model_module": "@jupyter-widgets/base",
      "model_module_version": "1.2.0",
      "model_name": "LayoutModel",
      "state": {
       "width": "10%"
      }
     },
     "ad58f658ee25414eb6de3f319b79069f": {
      "model_module": "@jupyter-widgets/base",
      "model_module_version": "1.2.0",
      "model_name": "LayoutModel",
      "state": {
       "width": "95%"
      }
     },
     "ad78e3388d5444ffb1cc2902c09bdedb": {
      "model_module": "@jupyter-widgets/base",
      "model_module_version": "1.2.0",
      "model_name": "LayoutModel",
      "state": {
       "width": "10%"
      }
     },
     "ad8f14ef8648458aa4c2ee28ad20086a": {
      "model_module": "@jupyter-widgets/output",
      "model_module_version": "1.0.0",
      "model_name": "OutputModel",
      "state": {
       "layout": "IPY_MODEL_1eb1c5f4275a40ad9d07dd1fbd59a450"
      }
     },
     "ad9952b0cb304bf291d86258c82a8ec8": {
      "model_module": "@jupyter-widgets/controls",
      "model_module_version": "1.5.0",
      "model_name": "HBoxModel",
      "state": {
       "children": [
        "IPY_MODEL_534c7ef07cbb4f64aa0751904d22b553",
        "IPY_MODEL_b5a17aa586f94bf5854604915abbd7d8",
        "IPY_MODEL_c27e0b6c9a1349609fb30ab8e69be9b4",
        "IPY_MODEL_e62c6a949f564f26a50ac8389486910c",
        "IPY_MODEL_9328245ebe374804a318ea6cebf69ae1",
        "IPY_MODEL_aa6d5e954b154d6bb02a0d47eaab70e8",
        "IPY_MODEL_eef1422850d840c98980f6a9c3eb9a5e",
        "IPY_MODEL_b8348e5a88a34dff9ab1fabe145f3662",
        "IPY_MODEL_c785df1a76084bc18a944c67b60539eb",
        "IPY_MODEL_3135e51bf3c640679e571cfe02a619fa"
       ],
       "layout": "IPY_MODEL_412079a20f8d471e9a63d79bd16380ed"
      }
     },
     "ad9ec0df01cc492ca6f8f2117ceddd55": {
      "model_module": "@jupyter-widgets/base",
      "model_module_version": "1.2.0",
      "model_name": "LayoutModel",
      "state": {}
     },
     "adb0b817db914dbaa559a54ce7bc0cd7": {
      "model_module": "@jupyter-widgets/output",
      "model_module_version": "1.0.0",
      "model_name": "OutputModel",
      "state": {
       "layout": "IPY_MODEL_e983a690cb5944c5b3ffd0e086d81d30"
      }
     },
     "add70a0f6cdb428abfe76ff90f366a5e": {
      "model_module": "@jupyter-widgets/base",
      "model_module_version": "1.2.0",
      "model_name": "LayoutModel",
      "state": {
       "width": "10%"
      }
     },
     "ade1bc0476a745b9a751f5f287998f41": {
      "model_module": "@jupyter-widgets/base",
      "model_module_version": "1.2.0",
      "model_name": "LayoutModel",
      "state": {
       "width": "10%"
      }
     },
     "adf43973f37f41fe9f6c3d07aa9ba154": {
      "model_module": "@jupyter-widgets/controls",
      "model_module_version": "1.5.0",
      "model_name": "VBoxModel",
      "state": {
       "children": [
        "IPY_MODEL_5ee14a3311074d63a609d74d55039b09",
        "IPY_MODEL_71bdddadef5d4876b27af8276b82b99b"
       ],
       "layout": "IPY_MODEL_4749586fcc3b4c0faa41c7488242a684"
      }
     },
     "ae092b217b6641d6bedc7283dd95ad7c": {
      "model_module": "@jupyter-widgets/controls",
      "model_module_version": "1.5.0",
      "model_name": "ButtonStyleModel",
      "state": {}
     },
     "ae139473d4594d99aa679f7d2260c8fb": {
      "model_module": "@jupyter-widgets/base",
      "model_module_version": "1.2.0",
      "model_name": "LayoutModel",
      "state": {
       "width": "10%"
      }
     },
     "ae23e5710c4442e18b15dfddd5f25b75": {
      "model_module": "@jupyter-widgets/base",
      "model_module_version": "1.2.0",
      "model_name": "LayoutModel",
      "state": {}
     },
     "ae77a5f8ccf9439db424213dcec78ff0": {
      "model_module": "@jupyter-widgets/base",
      "model_module_version": "1.2.0",
      "model_name": "LayoutModel",
      "state": {
       "width": "95%"
      }
     },
     "ae8129c64bbb4d1a91c413a9fc06ec47": {
      "model_module": "@jupyter-widgets/controls",
      "model_module_version": "1.5.0",
      "model_name": "ButtonModel",
      "state": {
       "description": "4",
       "layout": "IPY_MODEL_2500958f929748769fe7148705a0dbab",
       "style": "IPY_MODEL_ddf6c11f8bae497cbffab8186c9c621d"
      }
     },
     "ae8d0e4c0d474aeaba2441357f7c529e": {
      "model_module": "@jupyter-widgets/controls",
      "model_module_version": "1.5.0",
      "model_name": "ButtonModel",
      "state": {
       "description": "3",
       "layout": "IPY_MODEL_304f5ad87afe44c39e7c085d424bf7b7",
       "style": "IPY_MODEL_bfe21adb8da748319fc28f091511f007"
      }
     },
     "ae97a798d60142518cb2a4f461ea49bd": {
      "model_module": "@jupyter-widgets/output",
      "model_module_version": "1.0.0",
      "model_name": "OutputModel",
      "state": {
       "layout": "IPY_MODEL_22d964bc09c54bfa86fabe404f41c207"
      }
     },
     "aea7fa6c540f48c6b9dce2ab8a3b3fd1": {
      "model_module": "@jupyter-widgets/base",
      "model_module_version": "1.2.0",
      "model_name": "LayoutModel",
      "state": {
       "width": "95%"
      }
     },
     "aea8e396cd2646ddb22990f3aed0fc96": {
      "model_module": "@jupyter-widgets/base",
      "model_module_version": "1.2.0",
      "model_name": "LayoutModel",
      "state": {}
     },
     "aece4b19e085495ab3cd348bad9905d7": {
      "model_module": "@jupyter-widgets/output",
      "model_module_version": "1.0.0",
      "model_name": "OutputModel",
      "state": {
       "layout": "IPY_MODEL_4c4a359805594528bb9d58597a8e8161"
      }
     },
     "aee7409d93214ca489799f15a6bcf010": {
      "model_module": "@jupyter-widgets/output",
      "model_module_version": "1.0.0",
      "model_name": "OutputModel",
      "state": {
       "layout": "IPY_MODEL_612a4eb849944b7cae5b61a5652c2ee0"
      }
     },
     "af01df5971dc47f881155a1f4bf297eb": {
      "model_module": "@jupyter-widgets/base",
      "model_module_version": "1.2.0",
      "model_name": "LayoutModel",
      "state": {}
     },
     "af34b504e2744d72b186e4464e98a0f0": {
      "model_module": "@jupyter-widgets/base",
      "model_module_version": "1.2.0",
      "model_name": "LayoutModel",
      "state": {}
     },
     "af42f45fac274932b2eade9e5f166463": {
      "model_module": "@jupyter-widgets/controls",
      "model_module_version": "1.5.0",
      "model_name": "VBoxModel",
      "state": {
       "children": [
        "IPY_MODEL_08fc8e09a8ab465abe33ad12ff2cf01b",
        "IPY_MODEL_f3188bd089ab49a1862c7b4c6b5e5d05"
       ],
       "layout": "IPY_MODEL_ffdca4d0d72e4a258ec8067b189843bb"
      }
     },
     "af78c1dc38534bb49d2d997513fab6da": {
      "model_module": "@jupyter-widgets/controls",
      "model_module_version": "1.5.0",
      "model_name": "VBoxModel",
      "state": {
       "children": [
        "IPY_MODEL_e399151936bb4e51a0875b5420a591af",
        "IPY_MODEL_d3fa3fe2d4814676864e594b9861d3ef"
       ],
       "layout": "IPY_MODEL_5fb470e388424973a8519ba181fda6ce"
      }
     },
     "af7cf5d21c3f4978927e83e5adbf810a": {
      "model_module": "@jupyter-widgets/base",
      "model_module_version": "1.2.0",
      "model_name": "LayoutModel",
      "state": {
       "width": "95%"
      }
     },
     "af9f93a045b04ed8ade905e6ed31f2a9": {
      "model_module": "@jupyter-widgets/base",
      "model_module_version": "1.2.0",
      "model_name": "LayoutModel",
      "state": {}
     },
     "af9fe92eb01c448da408e9ec2f3b37f7": {
      "model_module": "@jupyter-widgets/controls",
      "model_module_version": "1.5.0",
      "model_name": "HBoxModel",
      "state": {
       "children": [
        "IPY_MODEL_ea515f6ab0fb4c8fa83df8e40b2a12b3",
        "IPY_MODEL_b5071a727cb4429ab5846a1b5e1e9269",
        "IPY_MODEL_0d1325c707c8443cadea347f7b556f0b"
       ],
       "layout": "IPY_MODEL_6456499b887b48eba4fd36e2cc5f2c9a"
      }
     },
     "afb7f6562a364b139318a0905e98e340": {
      "model_module": "@jupyter-widgets/controls",
      "model_module_version": "1.5.0",
      "model_name": "ButtonModel",
      "state": {
       "description": "5",
       "layout": "IPY_MODEL_4902aac4ed5d4d13b99151706c68bce0",
       "style": "IPY_MODEL_3811b0a2d9f4441db829c6c8a74fef37"
      }
     },
     "afbe6e7e4ba340f9b30f5391419dea21": {
      "model_module": "@jupyter-widgets/controls",
      "model_module_version": "1.5.0",
      "model_name": "ButtonModel",
      "state": {
       "description": "1",
       "layout": "IPY_MODEL_7ef7dcae9af6456f88ec47ff1888b3ec",
       "style": "IPY_MODEL_90e471e2fe4241689f02fedd291eb12f"
      }
     },
     "b021573946a54d1bb2b939c571ba41e9": {
      "model_module": "@jupyter-widgets/controls",
      "model_module_version": "1.5.0",
      "model_name": "TextModel",
      "state": {
       "description": "Other:",
       "layout": "IPY_MODEL_8bfa2c69005d43778c35e5b7f9cd76b3",
       "placeholder": "Hit enter to submit.",
       "style": "IPY_MODEL_0a09270bf4484e79a44a1124650cede6"
      }
     },
     "b0320ae14d9a4b96abedf516ef21687d": {
      "model_module": "@jupyter-widgets/output",
      "model_module_version": "1.0.0",
      "model_name": "OutputModel",
      "state": {
       "layout": "IPY_MODEL_af9f93a045b04ed8ade905e6ed31f2a9"
      }
     },
     "b0480e486e304dcea8e6af069b1109cd": {
      "model_module": "@jupyter-widgets/output",
      "model_module_version": "1.0.0",
      "model_name": "OutputModel",
      "state": {
       "layout": "IPY_MODEL_bded54886c55452f89a7fd5e27bd64ea"
      }
     },
     "b0aa57464fff46c2a79b625389ab5c27": {
      "model_module": "@jupyter-widgets/controls",
      "model_module_version": "1.5.0",
      "model_name": "DescriptionStyleModel",
      "state": {
       "description_width": ""
      }
     },
     "b0e6d429132043a4a8f6bdb27a1c03b5": {
      "model_module": "@jupyter-widgets/base",
      "model_module_version": "1.2.0",
      "model_name": "LayoutModel",
      "state": {
       "width": "95%"
      }
     },
     "b14465485b4d4f54b02971d2c7bf5dee": {
      "model_module": "@jupyter-widgets/controls",
      "model_module_version": "1.5.0",
      "model_name": "ButtonModel",
      "state": {
       "description": "2",
       "layout": "IPY_MODEL_a1864e645dbc4266978f53b706108a32",
       "style": "IPY_MODEL_d28355eb52044bc9a881dabcd4a0a4a7"
      }
     },
     "b1538eabffd24fc8838c0c1d35040c5a": {
      "model_module": "@jupyter-widgets/base",
      "model_module_version": "1.2.0",
      "model_name": "LayoutModel",
      "state": {
       "width": "10%"
      }
     },
     "b1687748a7214adcaf5b567ec1bb79c9": {
      "model_module": "@jupyter-widgets/base",
      "model_module_version": "1.2.0",
      "model_name": "LayoutModel",
      "state": {
       "width": "95%"
      }
     },
     "b17694464d73400eb03e2635b4048bb0": {
      "model_module": "@jupyter-widgets/base",
      "model_module_version": "1.2.0",
      "model_name": "LayoutModel",
      "state": {
       "width": "10%"
      }
     },
     "b17833fd30e84dfa878e35b7df5eb6e0": {
      "model_module": "@jupyter-widgets/base",
      "model_module_version": "1.2.0",
      "model_name": "LayoutModel",
      "state": {}
     },
     "b1cf4982d268416dbeaacf5ee79fe681": {
      "model_module": "@jupyter-widgets/base",
      "model_module_version": "1.2.0",
      "model_name": "LayoutModel",
      "state": {
       "width": "95%"
      }
     },
     "b1ee00e17f1246c39ece0137eb9290a4": {
      "model_module": "@jupyter-widgets/controls",
      "model_module_version": "1.5.0",
      "model_name": "ButtonModel",
      "state": {
       "description": "3",
       "layout": "IPY_MODEL_ae77a5f8ccf9439db424213dcec78ff0",
       "style": "IPY_MODEL_5a0b1cce691a4e278be4296e536cda2b"
      }
     },
     "b202745c9c514d73a93283808ca1c801": {
      "model_module": "@jupyter-widgets/output",
      "model_module_version": "1.0.0",
      "model_name": "OutputModel",
      "state": {
       "layout": "IPY_MODEL_39b0ac47921d4a30bc0c805c87171189"
      }
     },
     "b220ded7f9a944e19f385fd7c1c204ef": {
      "model_module": "@jupyter-widgets/controls",
      "model_module_version": "1.5.0",
      "model_name": "VBoxModel",
      "state": {
       "children": [
        "IPY_MODEL_7d7599761d65477396188bbe36beca8f",
        "IPY_MODEL_f59f2c143a7d4229a12da0a1d1bafe5e"
       ],
       "layout": "IPY_MODEL_8e9fef539b62429aabc0cc376a1435ee"
      }
     },
     "b2243f9f607346439f3223ee9fb12c57": {
      "model_module": "@jupyter-widgets/output",
      "model_module_version": "1.0.0",
      "model_name": "OutputModel",
      "state": {
       "layout": "IPY_MODEL_35d320bed899450f86834af34ac1f21e"
      }
     },
     "b26b0cd8b27246edbe5b245f2637c6b0": {
      "model_module": "@jupyter-widgets/output",
      "model_module_version": "1.0.0",
      "model_name": "OutputModel",
      "state": {
       "layout": "IPY_MODEL_846902be3c6e4a4488ded5ff0e6e2d1a"
      }
     },
     "b27d2099921248b6bb449b4e37f98921": {
      "model_module": "@jupyter-widgets/base",
      "model_module_version": "1.2.0",
      "model_name": "LayoutModel",
      "state": {
       "width": "95%"
      }
     },
     "b28a7d221a504cb293e46f578b6d87ea": {
      "model_module": "@jupyter-widgets/base",
      "model_module_version": "1.2.0",
      "model_name": "LayoutModel",
      "state": {}
     },
     "b2fc3d4b7ddd4f46a4f2fb0dd679c9f9": {
      "model_module": "@jupyter-widgets/controls",
      "model_module_version": "1.5.0",
      "model_name": "ButtonModel",
      "state": {
       "description": "2",
       "layout": "IPY_MODEL_1a3452bd8b2f45aca2a1bd62a8f7c757",
       "style": "IPY_MODEL_97030e4eae6d436fafeb0b1046dde518"
      }
     },
     "b32c852cadce4f49b5e2b7d31850dce2": {
      "model_module": "@jupyter-widgets/base",
      "model_module_version": "1.2.0",
      "model_name": "LayoutModel",
      "state": {
       "width": "10%"
      }
     },
     "b374c3382bf4472a8451a2cb3a621c1e": {
      "model_module": "@jupyter-widgets/base",
      "model_module_version": "1.2.0",
      "model_name": "LayoutModel",
      "state": {
       "width": "10%"
      }
     },
     "b39c407aa7be4e2199cf6f1fa2c9fad4": {
      "model_module": "@jupyter-widgets/base",
      "model_module_version": "1.2.0",
      "model_name": "LayoutModel",
      "state": {}
     },
     "b400208a62c44fea9479a75cb3e9f556": {
      "model_module": "@jupyter-widgets/base",
      "model_module_version": "1.2.0",
      "model_name": "LayoutModel",
      "state": {}
     },
     "b40c5ffff91144f2b06863d789aa2af9": {
      "model_module": "@jupyter-widgets/controls",
      "model_module_version": "1.5.0",
      "model_name": "ButtonStyleModel",
      "state": {}
     },
     "b41cfe2ccf0a4c878639df4b198f6d8d": {
      "model_module": "@jupyter-widgets/controls",
      "model_module_version": "1.5.0",
      "model_name": "ButtonStyleModel",
      "state": {}
     },
     "b421bf102b4842fcb398ebc9da4996c4": {
      "model_module": "@jupyter-widgets/controls",
      "model_module_version": "1.5.0",
      "model_name": "ButtonStyleModel",
      "state": {}
     },
     "b42a761085924291a91e7a5d39686a7c": {
      "model_module": "@jupyter-widgets/base",
      "model_module_version": "1.2.0",
      "model_name": "LayoutModel",
      "state": {}
     },
     "b4350eb128d94dde8808de9624585358": {
      "model_module": "@jupyter-widgets/controls",
      "model_module_version": "1.5.0",
      "model_name": "ButtonModel",
      "state": {
       "description": "6",
       "layout": "IPY_MODEL_b5db1bb516cc4b578464fef79431b6b5",
       "style": "IPY_MODEL_ac8cbb811f24483593bb4427f285d8e6"
      }
     },
     "b440a781e5424b5ba67205d8daa7b201": {
      "model_module": "@jupyter-widgets/controls",
      "model_module_version": "1.5.0",
      "model_name": "TextModel",
      "state": {
       "description": "Other:",
       "layout": "IPY_MODEL_11ef072771d041198b7bdb625927d069",
       "placeholder": "Hit enter to submit.",
       "style": "IPY_MODEL_4a6a45ae05494fe0b4659345b59ff5ee"
      }
     },
     "b46ad9826a26449b9fc7c56912383722": {
      "model_module": "@jupyter-widgets/controls",
      "model_module_version": "1.5.0",
      "model_name": "ButtonStyleModel",
      "state": {}
     },
     "b4732a17151a49f78322986eac2694a3": {
      "model_module": "@jupyter-widgets/output",
      "model_module_version": "1.0.0",
      "model_name": "OutputModel",
      "state": {
       "layout": "IPY_MODEL_a88f05185609402f9d46b70cb53154e2"
      }
     },
     "b49581d3c2604c49af18705e6baae2e6": {
      "model_module": "@jupyter-widgets/controls",
      "model_module_version": "1.5.0",
      "model_name": "ButtonModel",
      "state": {
       "description": "5",
       "layout": "IPY_MODEL_e6ef22c3b1a54fae9c30f84c74cf87de",
       "style": "IPY_MODEL_5cfd764ee1d94f65a8f74000dc861cd3"
      }
     },
     "b49a6828b5ca4a8aa1bb619dcd5aa89b": {
      "model_module": "@jupyter-widgets/controls",
      "model_module_version": "1.5.0",
      "model_name": "ButtonModel",
      "state": {
       "description": "6",
       "layout": "IPY_MODEL_d6b303b049e743e1a9cf2b1fcea05186",
       "style": "IPY_MODEL_d2f68e32835d44eb85b65e92f634c3a3"
      }
     },
     "b4a7ca892eaf4ea591acb25f98096d95": {
      "model_module": "@jupyter-widgets/controls",
      "model_module_version": "1.5.0",
      "model_name": "ButtonModel",
      "state": {
       "description": "6",
       "layout": "IPY_MODEL_3a2e7819d9f64f5a84b833f47e8cd275",
       "style": "IPY_MODEL_7a20f5af96c0445f8cb49099655aa0ea"
      }
     },
     "b4e49daeee294e3ab03ad8ca8845885f": {
      "model_module": "@jupyter-widgets/controls",
      "model_module_version": "1.5.0",
      "model_name": "VBoxModel",
      "state": {
       "children": [
        "IPY_MODEL_04702faa23af458882a34c4fe2400e07",
        "IPY_MODEL_db4a3c60fe474e8194a35bf00f8abea7"
       ],
       "layout": "IPY_MODEL_5b38ff5d9bf446c68920860174acc83e"
      }
     },
     "b4f017565d7e4474b145bb55d1d8b29d": {
      "model_module": "@jupyter-widgets/base",
      "model_module_version": "1.2.0",
      "model_name": "LayoutModel",
      "state": {}
     },
     "b4ff44458d0e4488ae184c9684afd2ba": {
      "model_module": "@jupyter-widgets/controls",
      "model_module_version": "1.5.0",
      "model_name": "ButtonStyleModel",
      "state": {}
     },
     "b5071a727cb4429ab5846a1b5e1e9269": {
      "model_module": "@jupyter-widgets/controls",
      "model_module_version": "1.5.0",
      "model_name": "ButtonModel",
      "state": {
       "description": "Skip",
       "icon": "fast-forward",
       "layout": "IPY_MODEL_d16430dd5a744e44b5baf968d537bb53",
       "style": "IPY_MODEL_6db1fe5d7190404685f3458d4dc246a6"
      }
     },
     "b5115fba86884719a560a8b136f44100": {
      "model_module": "@jupyter-widgets/controls",
      "model_module_version": "1.5.0",
      "model_name": "HBoxModel",
      "state": {
       "children": [
        "IPY_MODEL_7bc76b6339404139aa4db8b7ac50d937",
        "IPY_MODEL_9fbb6ab4666c4b97b81c77b1673a8afa"
       ],
       "layout": "IPY_MODEL_801d7071becd42bbbd7d227cad2c3590"
      }
     },
     "b561ffdecbba4e72967ac36135c11ab2": {
      "model_module": "@jupyter-widgets/controls",
      "model_module_version": "1.5.0",
      "model_name": "ButtonStyleModel",
      "state": {}
     },
     "b5657450896f451b8f459b4ae90c0895": {
      "model_module": "@jupyter-widgets/base",
      "model_module_version": "1.2.0",
      "model_name": "LayoutModel",
      "state": {}
     },
     "b5a17aa586f94bf5854604915abbd7d8": {
      "model_module": "@jupyter-widgets/controls",
      "model_module_version": "1.5.0",
      "model_name": "VBoxModel",
      "state": {
       "children": [
        "IPY_MODEL_34f2473249eb4adea245eb6f7450aa38",
        "IPY_MODEL_720eefa865584c1d866628f3c4932da2"
       ],
       "layout": "IPY_MODEL_21eb2e3348b44ce59c5d661780806212"
      }
     },
     "b5d0268add354bfab1353097604c4b4f": {
      "model_module": "@jupyter-widgets/base",
      "model_module_version": "1.2.0",
      "model_name": "LayoutModel",
      "state": {}
     },
     "b5db1bb516cc4b578464fef79431b6b5": {
      "model_module": "@jupyter-widgets/base",
      "model_module_version": "1.2.0",
      "model_name": "LayoutModel",
      "state": {
       "width": "95%"
      }
     },
     "b5f1508fee514a90a348b4a0fad56a6f": {
      "model_module": "@jupyter-widgets/controls",
      "model_module_version": "1.5.0",
      "model_name": "ButtonStyleModel",
      "state": {}
     },
     "b620c64017dc4aabae7ab7784690e242": {
      "model_module": "@jupyter-widgets/controls",
      "model_module_version": "1.5.0",
      "model_name": "ButtonStyleModel",
      "state": {}
     },
     "b62d08e877d34b1483906116d3f63254": {
      "model_module": "@jupyter-widgets/controls",
      "model_module_version": "1.5.0",
      "model_name": "ButtonStyleModel",
      "state": {}
     },
     "b68d60b97cd14b828ed3b577338f3c38": {
      "model_module": "@jupyter-widgets/base",
      "model_module_version": "1.2.0",
      "model_name": "LayoutModel",
      "state": {
       "width": "10%"
      }
     },
     "b6935ece989542b3a3a474f4d836730b": {
      "model_module": "@jupyter-widgets/base",
      "model_module_version": "1.2.0",
      "model_name": "LayoutModel",
      "state": {
       "width": "95%"
      }
     },
     "b6972d445e2846838733bf32696cef9a": {
      "model_module": "@jupyter-widgets/controls",
      "model_module_version": "1.5.0",
      "model_name": "VBoxModel",
      "state": {
       "children": [
        "IPY_MODEL_c69d1fc2573c4bbab78f50c25493ad71",
        "IPY_MODEL_1438a3bb40144b3e8bdf777ea1f06c33"
       ],
       "layout": "IPY_MODEL_3334e49efe034c57b5723f7b1f9003f8"
      }
     },
     "b6ab465b392d493a837f6ddf8cc7b320": {
      "model_module": "@jupyter-widgets/controls",
      "model_module_version": "1.5.0",
      "model_name": "DescriptionStyleModel",
      "state": {
       "description_width": ""
      }
     },
     "b6d7939a3c95481c97d7be13c741e802": {
      "model_module": "@jupyter-widgets/base",
      "model_module_version": "1.2.0",
      "model_name": "LayoutModel",
      "state": {
       "justify_content": "space-between"
      }
     },
     "b6edd49b6cbd42aea8429396434ae453": {
      "model_module": "@jupyter-widgets/base",
      "model_module_version": "1.2.0",
      "model_name": "LayoutModel",
      "state": {
       "width": "10%"
      }
     },
     "b70b186af3b74cada44beb9ef4d14817": {
      "model_module": "@jupyter-widgets/controls",
      "model_module_version": "1.5.0",
      "model_name": "ButtonStyleModel",
      "state": {}
     },
     "b711a59fe5b743b397e3bd939ba2a8de": {
      "model_module": "@jupyter-widgets/base",
      "model_module_version": "1.2.0",
      "model_name": "LayoutModel",
      "state": {}
     },
     "b73c68b02d7647be9b063e34f3326a38": {
      "model_module": "@jupyter-widgets/controls",
      "model_module_version": "1.5.0",
      "model_name": "ButtonStyleModel",
      "state": {}
     },
     "b74547ae301a4886973bd17af05b2172": {
      "model_module": "@jupyter-widgets/controls",
      "model_module_version": "1.5.0",
      "model_name": "ButtonStyleModel",
      "state": {}
     },
     "b74827b0cfde45c9b68da57ad2217f77": {
      "model_module": "@jupyter-widgets/base",
      "model_module_version": "1.2.0",
      "model_name": "LayoutModel",
      "state": {}
     },
     "b76a5f80f56f480fa201ba35fe5b79e1": {
      "model_module": "@jupyter-widgets/output",
      "model_module_version": "1.0.0",
      "model_name": "OutputModel",
      "state": {
       "layout": "IPY_MODEL_9dccf6b85aa545259fe99a84d269e807"
      }
     },
     "b7734c6ec8374432a947c3b726c28a50": {
      "model_module": "@jupyter-widgets/base",
      "model_module_version": "1.2.0",
      "model_name": "LayoutModel",
      "state": {}
     },
     "b78c00815a89419f9647b1020e521182": {
      "model_module": "@jupyter-widgets/controls",
      "model_module_version": "1.5.0",
      "model_name": "ButtonModel",
      "state": {
       "description": "9",
       "layout": "IPY_MODEL_309f2cdda9cf4fbab570c2fbfc236910",
       "style": "IPY_MODEL_6fc93a0a480947519be3e22a38311e06"
      }
     },
     "b79f357190bf4eb88df834f6df35da06": {
      "model_module": "@jupyter-widgets/output",
      "model_module_version": "1.0.0",
      "model_name": "OutputModel",
      "state": {
       "layout": "IPY_MODEL_d1e68d44e00742afbd73614c55a03867"
      }
     },
     "b7bb26b6c735459dabd3f53450260963": {
      "model_module": "@jupyter-widgets/controls",
      "model_module_version": "1.5.0",
      "model_name": "ButtonModel",
      "state": {
       "description": "4",
       "layout": "IPY_MODEL_a03b1eb7d1fc4d679bc7d62a9474d959",
       "style": "IPY_MODEL_99eb4638979c4a2bb6710ec927e2700d"
      }
     },
     "b7dc144ea99145498539b3512c1757e7": {
      "model_module": "@jupyter-widgets/controls",
      "model_module_version": "1.5.0",
      "model_name": "ButtonModel",
      "state": {
       "description": "4",
       "layout": "IPY_MODEL_6e0dfad94f9a4445822b9bcf8a715574",
       "style": "IPY_MODEL_d5ebf7c0f9d94387b09213eb151a322e"
      }
     },
     "b7e3bff44ae042d1a9df1799bdbaee73": {
      "model_module": "@jupyter-widgets/controls",
      "model_module_version": "1.5.0",
      "model_name": "VBoxModel",
      "state": {
       "children": [
        "IPY_MODEL_9451aa0a21424181846e5c88edc0ccff",
        "IPY_MODEL_b0320ae14d9a4b96abedf516ef21687d"
       ],
       "layout": "IPY_MODEL_c58710cca5b5427499e821b9d397eb44"
      }
     },
     "b7f444ef6479411c8328c3c4f2803380": {
      "model_module": "@jupyter-widgets/base",
      "model_module_version": "1.2.0",
      "model_name": "LayoutModel",
      "state": {
       "width": "10%"
      }
     },
     "b7fde393b08c42feae42496623396a84": {
      "model_module": "@jupyter-widgets/controls",
      "model_module_version": "1.5.0",
      "model_name": "ButtonModel",
      "state": {
       "description": "7",
       "layout": "IPY_MODEL_127c2cc24acb426b9262113b1feb98f5",
       "style": "IPY_MODEL_2aa6f7e6556e4ba4a363804534733c96"
      }
     },
     "b822f300b48f4b58b44fe65dcdfd0247": {
      "model_module": "@jupyter-widgets/base",
      "model_module_version": "1.2.0",
      "model_name": "LayoutModel",
      "state": {
       "width": "10%"
      }
     },
     "b82f7b1be115404d95010d8db50a7edf": {
      "model_module": "@jupyter-widgets/controls",
      "model_module_version": "1.5.0",
      "model_name": "ButtonStyleModel",
      "state": {}
     },
     "b83126e6ab514955a725a6d0178e2fdb": {
      "model_module": "@jupyter-widgets/base",
      "model_module_version": "1.2.0",
      "model_name": "LayoutModel",
      "state": {
       "width": "95%"
      }
     },
     "b832098b72c64b2abbd97556ab32bf5a": {
      "model_module": "@jupyter-widgets/base",
      "model_module_version": "1.2.0",
      "model_name": "LayoutModel",
      "state": {
       "justify_content": "space-between"
      }
     },
     "b8348e5a88a34dff9ab1fabe145f3662": {
      "model_module": "@jupyter-widgets/controls",
      "model_module_version": "1.5.0",
      "model_name": "VBoxModel",
      "state": {
       "children": [
        "IPY_MODEL_405a5f678e444c5e8a9e1e607218ce31",
        "IPY_MODEL_0fbde83b95f848bf906b7af06fd68897"
       ],
       "layout": "IPY_MODEL_1d9c7d4ce3ac4e2aaf1fddd4c7148ab4"
      }
     },
     "b86fc812a6ab4af6b821123a8fbc4498": {
      "model_module": "@jupyter-widgets/base",
      "model_module_version": "1.2.0",
      "model_name": "LayoutModel",
      "state": {}
     },
     "b87fea23e69d4feaaf27641766a5cd72": {
      "model_module": "@jupyter-widgets/base",
      "model_module_version": "1.2.0",
      "model_name": "LayoutModel",
      "state": {
       "width": "10%"
      }
     },
     "b8839f7414224898b356048af65cf006": {
      "model_module": "@jupyter-widgets/output",
      "model_module_version": "1.0.0",
      "model_name": "OutputModel",
      "state": {
       "layout": "IPY_MODEL_57c470c292014c9e88bb5e0c0f9271bf"
      }
     },
     "b8b888bd08a940038135858042dd7ec5": {
      "model_module": "@jupyter-widgets/base",
      "model_module_version": "1.2.0",
      "model_name": "LayoutModel",
      "state": {}
     },
     "b8e3f00e21e14fe7b5d2e6e0312db048": {
      "model_module": "@jupyter-widgets/base",
      "model_module_version": "1.2.0",
      "model_name": "LayoutModel",
      "state": {
       "width": "10%"
      }
     },
     "b90ae4bf717841c098edf80dab3a9548": {
      "model_module": "@jupyter-widgets/base",
      "model_module_version": "1.2.0",
      "model_name": "LayoutModel",
      "state": {}
     },
     "b93ccef601194dc0b5c8d219f87ce5a8": {
      "model_module": "@jupyter-widgets/controls",
      "model_module_version": "1.5.0",
      "model_name": "ButtonModel",
      "state": {
       "description": "1",
       "layout": "IPY_MODEL_d1bee720672a49b688b4915d25dffec4",
       "style": "IPY_MODEL_b40c5ffff91144f2b06863d789aa2af9"
      }
     },
     "b975886218e944faa34d68dc2388abc7": {
      "model_module": "@jupyter-widgets/controls",
      "model_module_version": "1.5.0",
      "model_name": "VBoxModel",
      "state": {
       "children": [
        "IPY_MODEL_8f560b0d178949358279317efdd65ce8",
        "IPY_MODEL_1f197b01a3a34a3e8909caf0a51f67e6"
       ],
       "layout": "IPY_MODEL_ef834dbcff744aceb2d6670e0fab2a49"
      }
     },
     "b992a7650ad54dc78a616bcf8abc0d4c": {
      "model_module": "@jupyter-widgets/base",
      "model_module_version": "1.2.0",
      "model_name": "LayoutModel",
      "state": {
       "width": "95%"
      }
     },
     "b9afa8710c7c4b40860e2f331ce13366": {
      "model_module": "@jupyter-widgets/controls",
      "model_module_version": "1.5.0",
      "model_name": "ButtonStyleModel",
      "state": {}
     },
     "b9b49804b87741da933be9106f1ec11d": {
      "model_module": "@jupyter-widgets/base",
      "model_module_version": "1.2.0",
      "model_name": "LayoutModel",
      "state": {
       "width": "95%"
      }
     },
     "b9b5b1a897f943b3bac71bfbab8bb6f0": {
      "model_module": "@jupyter-widgets/controls",
      "model_module_version": "1.5.0",
      "model_name": "DescriptionStyleModel",
      "state": {
       "description_width": ""
      }
     },
     "b9d51f5432ed405aaf92229fb2832088": {
      "model_module": "@jupyter-widgets/controls",
      "model_module_version": "1.5.0",
      "model_name": "VBoxModel",
      "state": {
       "children": [
        "IPY_MODEL_69b68a5341c94089af674cc025b5a2ae",
        "IPY_MODEL_16514123d9574602b35e664b7c8df2b6"
       ],
       "layout": "IPY_MODEL_5417f37b617e4fbf909e530d2d71aacb"
      }
     },
     "b9df5b8935f442c28d8cb6602341b3be": {
      "model_module": "@jupyter-widgets/controls",
      "model_module_version": "1.5.0",
      "model_name": "ButtonStyleModel",
      "state": {}
     },
     "b9e027b2a0f84eb4a384285ca6306db1": {
      "model_module": "@jupyter-widgets/controls",
      "model_module_version": "1.5.0",
      "model_name": "VBoxModel",
      "state": {
       "children": [
        "IPY_MODEL_f60fff785f164a29aa84a239e1372a59",
        "IPY_MODEL_30c97acc39704aaeabe54840e2215c70"
       ],
       "layout": "IPY_MODEL_b7f444ef6479411c8328c3c4f2803380"
      }
     },
     "b9f582768f22491fb85b8e3028f28c41": {
      "model_module": "@jupyter-widgets/base",
      "model_module_version": "1.2.0",
      "model_name": "LayoutModel",
      "state": {
       "width": "10%"
      }
     },
     "b9f8e79ca2084627b582bdc0cf77d967": {
      "model_module": "@jupyter-widgets/controls",
      "model_module_version": "1.5.0",
      "model_name": "ButtonModel",
      "state": {
       "description": "4",
       "layout": "IPY_MODEL_6173f22c6981427c8aecebec46ac8783",
       "style": "IPY_MODEL_3aad3c6d94a44cb0b4ce8168a5937a83"
      }
     },
     "ba11a4f576e347a3845f1b44938ac9f0": {
      "model_module": "@jupyter-widgets/base",
      "model_module_version": "1.2.0",
      "model_name": "LayoutModel",
      "state": {
       "width": "10%"
      }
     },
     "ba4cd7390e3e4be8ad9a86f76137a8f9": {
      "model_module": "@jupyter-widgets/controls",
      "model_module_version": "1.5.0",
      "model_name": "ButtonModel",
      "state": {
       "description": "0",
       "layout": "IPY_MODEL_9de76b682b974840836ef9d690615149",
       "style": "IPY_MODEL_65acf832bfd74f2197f5e91416f208eb"
      }
     },
     "ba4da82a4d7a4d6a90f5e6fbac5c858d": {
      "model_module": "@jupyter-widgets/base",
      "model_module_version": "1.2.0",
      "model_name": "LayoutModel",
      "state": {
       "width": "10%"
      }
     },
     "ba4dc61e05184c19824e96d990653a41": {
      "model_module": "@jupyter-widgets/controls",
      "model_module_version": "1.5.0",
      "model_name": "VBoxModel",
      "state": {
       "children": [
        "IPY_MODEL_c3d8733b401e4d3aa7727d4d20783682",
        "IPY_MODEL_d7ae7030f8564ee2a747aa37398e05f2"
       ],
       "layout": "IPY_MODEL_c32b90afbcb4405b89abccee36b2cdc7"
      }
     },
     "ba753eba8802470b9ce4983b83402247": {
      "model_module": "@jupyter-widgets/controls",
      "model_module_version": "1.5.0",
      "model_name": "HBoxModel",
      "state": {
       "children": [
        "IPY_MODEL_ce58735e495c40f0a845d418ed1ec093",
        "IPY_MODEL_efb73f87439f44638aafaae2564a1843",
        "IPY_MODEL_874484af2d6643a8a72603648bf022a8",
        "IPY_MODEL_5f54bc0b1f5849ecab7c1aa3ea56dca8",
        "IPY_MODEL_af42f45fac274932b2eade9e5f166463",
        "IPY_MODEL_adf43973f37f41fe9f6c3d07aa9ba154",
        "IPY_MODEL_58867c2230034de0911288ad5128d43b",
        "IPY_MODEL_667dbaff605b46348f982bbf86f89fb4",
        "IPY_MODEL_5f47a8af843249a89a1862ce952bfc2d",
        "IPY_MODEL_23c74268dbf941bdbb3664a24b9b8952"
       ],
       "layout": "IPY_MODEL_0c60e3a50e2b4d9bbbaec8d67e1ba086"
      }
     },
     "ba87d871742d4ef3b16b3d8bd5d583d2": {
      "model_module": "@jupyter-widgets/base",
      "model_module_version": "1.2.0",
      "model_name": "LayoutModel",
      "state": {
       "width": "10%"
      }
     },
     "ba8a8686728d4f6181a75c829f67164c": {
      "model_module": "@jupyter-widgets/controls",
      "model_module_version": "1.5.0",
      "model_name": "ButtonStyleModel",
      "state": {}
     },
     "babceadd9609435cb19c02a2c5ebd694": {
      "model_module": "@jupyter-widgets/controls",
      "model_module_version": "1.5.0",
      "model_name": "ButtonModel",
      "state": {
       "description": "5",
       "layout": "IPY_MODEL_2e06449b76384dbdab30d7bfdf13ed82",
       "style": "IPY_MODEL_24a015e3f349418db760763a5ecf0a42"
      }
     },
     "bacaf13bc6eb4f70b40ecc8df2c4562f": {
      "model_module": "@jupyter-widgets/controls",
      "model_module_version": "1.5.0",
      "model_name": "ButtonModel",
      "state": {
       "description": "2",
       "layout": "IPY_MODEL_0729c7c44b1a43ada31a673887fdb0da",
       "style": "IPY_MODEL_a23360784e8d4fb0a06b42364e96a782"
      }
     },
     "baf855e84b3b4f4e808a2620add95a88": {
      "model_module": "@jupyter-widgets/controls",
      "model_module_version": "1.5.0",
      "model_name": "TextModel",
      "state": {
       "description": "Other:",
       "layout": "IPY_MODEL_52a856581023456aa02330cd61425f97",
       "placeholder": "Hit enter to submit.",
       "style": "IPY_MODEL_f289e5a88b584b0688a8218f15fd6c19"
      }
     },
     "bb0a93342f244777b97752d03d13ed11": {
      "model_module": "@jupyter-widgets/controls",
      "model_module_version": "1.5.0",
      "model_name": "VBoxModel",
      "state": {
       "children": [
        "IPY_MODEL_2c41b4bee72942948a629306cb5378f1",
        "IPY_MODEL_b0480e486e304dcea8e6af069b1109cd"
       ],
       "layout": "IPY_MODEL_ba87d871742d4ef3b16b3d8bd5d583d2"
      }
     },
     "bb11458e57ce475aa07e604f13f997c9": {
      "model_module": "@jupyter-widgets/base",
      "model_module_version": "1.2.0",
      "model_name": "LayoutModel",
      "state": {}
     },
     "bb3d4bb5c8a64afe821a5117bec0ae80": {
      "model_module": "@jupyter-widgets/controls",
      "model_module_version": "1.5.0",
      "model_name": "ButtonModel",
      "state": {
       "description": "8",
       "layout": "IPY_MODEL_245c7e92c6b2442b8d0ba846b72a74ec",
       "style": "IPY_MODEL_d20aa4aad22349cf87729238b329fac8"
      }
     },
     "bb6916f03d1f41158f802c12d9c8d521": {
      "model_module": "@jupyter-widgets/base",
      "model_module_version": "1.2.0",
      "model_name": "LayoutModel",
      "state": {}
     },
     "bbb0ac6848aa42d4babef97c19ae4610": {
      "model_module": "@jupyter-widgets/controls",
      "model_module_version": "1.5.0",
      "model_name": "DescriptionStyleModel",
      "state": {
       "description_width": ""
      }
     },
     "bbc9452e9d6a47b0ba7893cdfe16d104": {
      "model_module": "@jupyter-widgets/controls",
      "model_module_version": "1.5.0",
      "model_name": "VBoxModel",
      "state": {
       "children": [
        "IPY_MODEL_235e00481ef843e8a6da3de4d44b4d5a",
        "IPY_MODEL_2b8b2852ad894dd5b770df9d98fab69f"
       ],
       "layout": "IPY_MODEL_a952edf262fd47099873e90b3df9ccc6"
      }
     },
     "bc2396cbaf4b49cb9d3dbf3b092b9175": {
      "model_module": "@jupyter-widgets/controls",
      "model_module_version": "1.5.0",
      "model_name": "ButtonStyleModel",
      "state": {}
     },
     "bc2483ca58ab4b3482509caa522624b2": {
      "model_module": "@jupyter-widgets/base",
      "model_module_version": "1.2.0",
      "model_name": "LayoutModel",
      "state": {
       "width": "10%"
      }
     },
     "bc39539cabc44c08a16ea685dfda6b44": {
      "model_module": "@jupyter-widgets/base",
      "model_module_version": "1.2.0",
      "model_name": "LayoutModel",
      "state": {}
     },
     "bc5d6a1f8c704c8082eda08a6d0e396b": {
      "model_module": "@jupyter-widgets/output",
      "model_module_version": "1.0.0",
      "model_name": "OutputModel",
      "state": {
       "layout": "IPY_MODEL_79fcc0670d9d4f4888ab50cfe12e3db5"
      }
     },
     "bc6f10274ef941c2a8f731c7e9cb26f1": {
      "model_module": "@jupyter-widgets/output",
      "model_module_version": "1.0.0",
      "model_name": "OutputModel",
      "state": {
       "layout": "IPY_MODEL_13e515ecc2af493d8b4af1fb7eb67822"
      }
     },
     "bcaf656d5d1046a1b040035de1b28fe4": {
      "model_module": "@jupyter-widgets/controls",
      "model_module_version": "1.5.0",
      "model_name": "HBoxModel",
      "state": {
       "children": [
        "IPY_MODEL_b440a781e5424b5ba67205d8daa7b201",
        "IPY_MODEL_9a8fec6f8a0a48309390373b51e656d4"
       ],
       "layout": "IPY_MODEL_2eb048b9b6e94eacbccf2df91986fa77"
      }
     },
     "bcb97b560bd444b8a7285b8f887cf5e5": {
      "model_module": "@jupyter-widgets/controls",
      "model_module_version": "1.5.0",
      "model_name": "VBoxModel",
      "state": {
       "children": [
        "IPY_MODEL_89f654964eb146a2ae6af16541ae26a6",
        "IPY_MODEL_8661bb14f7234cb6949dce65e348cbcb"
       ],
       "layout": "IPY_MODEL_9878bbc253e4495f9d24f0a521be9945"
      }
     },
     "bce18e54016d46bcbedc27c86d6ac493": {
      "model_module": "@jupyter-widgets/base",
      "model_module_version": "1.2.0",
      "model_name": "LayoutModel",
      "state": {}
     },
     "bd12571dd5f24fca82167f0df246c5a2": {
      "model_module": "@jupyter-widgets/base",
      "model_module_version": "1.2.0",
      "model_name": "LayoutModel",
      "state": {}
     },
     "bd645615b0e842c0a0602f61fc0e4f0e": {
      "model_module": "@jupyter-widgets/base",
      "model_module_version": "1.2.0",
      "model_name": "LayoutModel",
      "state": {
       "width": "95%"
      }
     },
     "bd758cbe484c472282f9a9ac3d8b011d": {
      "model_module": "@jupyter-widgets/base",
      "model_module_version": "1.2.0",
      "model_name": "LayoutModel",
      "state": {
       "width": "95%"
      }
     },
     "bdac4a85f7734be18cb7afd89619cd16": {
      "model_module": "@jupyter-widgets/output",
      "model_module_version": "1.0.0",
      "model_name": "OutputModel",
      "state": {
       "layout": "IPY_MODEL_63e139bdf1944fb292669e573ea76e1a"
      }
     },
     "bdb0795789004927b59fee600d73a49b": {
      "model_module": "@jupyter-widgets/controls",
      "model_module_version": "1.5.0",
      "model_name": "ButtonStyleModel",
      "state": {}
     },
     "bdd391e92a0045d78bd46e1cb53d722c": {
      "model_module": "@jupyter-widgets/output",
      "model_module_version": "1.0.0",
      "model_name": "OutputModel",
      "state": {
       "layout": "IPY_MODEL_f663d373e97941e8a55e3e43f30807a3"
      }
     },
     "bdecd1309594434f98b3fc0c06b52174": {
      "model_module": "@jupyter-widgets/output",
      "model_module_version": "1.0.0",
      "model_name": "OutputModel",
      "state": {
       "layout": "IPY_MODEL_08734f5b0e904b228750c6658b1c863f"
      }
     },
     "bded54886c55452f89a7fd5e27bd64ea": {
      "model_module": "@jupyter-widgets/base",
      "model_module_version": "1.2.0",
      "model_name": "LayoutModel",
      "state": {}
     },
     "be135f6c18bc46e9a1fb65736d53ebf5": {
      "model_module": "@jupyter-widgets/base",
      "model_module_version": "1.2.0",
      "model_name": "LayoutModel",
      "state": {}
     },
     "be389a97074745518eb9f127999d1580": {
      "model_module": "@jupyter-widgets/controls",
      "model_module_version": "1.5.0",
      "model_name": "ButtonStyleModel",
      "state": {}
     },
     "be62e4c85fb544f98725ac7079a0e1ad": {
      "model_module": "@jupyter-widgets/controls",
      "model_module_version": "1.5.0",
      "model_name": "ButtonStyleModel",
      "state": {}
     },
     "be6726c22aa348449c88e5042146abaf": {
      "model_module": "@jupyter-widgets/controls",
      "model_module_version": "1.5.0",
      "model_name": "ButtonModel",
      "state": {
       "description": "4",
       "layout": "IPY_MODEL_5dc940ebf9dc4fc694e8b702cadc4c3b",
       "style": "IPY_MODEL_2ff3fdbf91cf4e1ca4799f0df5bebe00"
      }
     },
     "be899f6d3be540fba2f5bc099d70850c": {
      "model_module": "@jupyter-widgets/base",
      "model_module_version": "1.2.0",
      "model_name": "LayoutModel",
      "state": {
       "width": "95%"
      }
     },
     "bec37c42aee94f2ea3cddd98197eb0e8": {
      "model_module": "@jupyter-widgets/base",
      "model_module_version": "1.2.0",
      "model_name": "LayoutModel",
      "state": {}
     },
     "beca9b435a8f4c1d9fd90995ed85bea6": {
      "model_module": "@jupyter-widgets/controls",
      "model_module_version": "1.5.0",
      "model_name": "HBoxModel",
      "state": {
       "children": [
        "IPY_MODEL_a2a014a2938d4e5cbebd48a062247301",
        "IPY_MODEL_36b82f8a2e774ed6b1c49975f902f0f8",
        "IPY_MODEL_c2c112b1aece4b9d92cb8cab1268e56e",
        "IPY_MODEL_f00700b0c2c644ba936a756fa9938fb1",
        "IPY_MODEL_1b712af513fc45669700a2a9cbd76b81",
        "IPY_MODEL_c9fa06cae6444e9681b3508d4aa3ac02",
        "IPY_MODEL_eed927d2665a42f789b63a82d053b3c6",
        "IPY_MODEL_abdbd72db67d49c58a6e0ddd1ee565a1",
        "IPY_MODEL_c08786db109146179b763ef45dc1a376",
        "IPY_MODEL_7ded4b388b5246bea4b27e5fdd7b4f45"
       ],
       "layout": "IPY_MODEL_927ae510d9ec4c2180204f0956bcf677"
      }
     },
     "bedd9b3c5dba4ee4a80bec8d7f316b7b": {
      "model_module": "@jupyter-widgets/controls",
      "model_module_version": "1.5.0",
      "model_name": "ButtonStyleModel",
      "state": {}
     },
     "bee338a00cf945b397426be5fbb655a9": {
      "model_module": "@jupyter-widgets/base",
      "model_module_version": "1.2.0",
      "model_name": "LayoutModel",
      "state": {
       "width": "95%"
      }
     },
     "bf0c10efff39448985cad71d19ea39d9": {
      "model_module": "@jupyter-widgets/controls",
      "model_module_version": "1.5.0",
      "model_name": "ButtonStyleModel",
      "state": {}
     },
     "bf124379e2fb4c10b99e648d8986dc1b": {
      "model_module": "@jupyter-widgets/controls",
      "model_module_version": "1.5.0",
      "model_name": "ButtonStyleModel",
      "state": {}
     },
     "bf34450a66fc40fb90a88d6649499ee0": {
      "model_module": "@jupyter-widgets/controls",
      "model_module_version": "1.5.0",
      "model_name": "ButtonStyleModel",
      "state": {}
     },
     "bf3ce4ac7878490d9d4fdd5bfffd3273": {
      "model_module": "@jupyter-widgets/output",
      "model_module_version": "1.0.0",
      "model_name": "OutputModel",
      "state": {
       "layout": "IPY_MODEL_f8d3eb8f074c4ab496d8b1d2ce76372f"
      }
     },
     "bf4badb3c99a4a4c84c9598c21cca1fa": {
      "model_module": "@jupyter-widgets/controls",
      "model_module_version": "1.5.0",
      "model_name": "VBoxModel",
      "state": {
       "children": [
        "IPY_MODEL_ef1b1b40bcc4418e8e658777c30ae566",
        "IPY_MODEL_f73c3bae061844209e2d48fdd1cc439d"
       ],
       "layout": "IPY_MODEL_1d6da9d253284e6aa1af538d6b2ff49f"
      }
     },
     "bfa177b8b1e046fa9032d671c04ee985": {
      "model_module": "@jupyter-widgets/base",
      "model_module_version": "1.2.0",
      "model_name": "LayoutModel",
      "state": {
       "width": "10%"
      }
     },
     "bfc284a5fcf5449e87aea42eed0edf0b": {
      "model_module": "@jupyter-widgets/base",
      "model_module_version": "1.2.0",
      "model_name": "LayoutModel",
      "state": {
       "width": "95%"
      }
     },
     "bfe21adb8da748319fc28f091511f007": {
      "model_module": "@jupyter-widgets/controls",
      "model_module_version": "1.5.0",
      "model_name": "ButtonStyleModel",
      "state": {}
     },
     "bffbb80f17ab443b8696ee27bf1cf591": {
      "model_module": "@jupyter-widgets/base",
      "model_module_version": "1.2.0",
      "model_name": "LayoutModel",
      "state": {
       "width": "95%"
      }
     },
     "c0192e41ab814b069769021703caefa3": {
      "model_module": "@jupyter-widgets/controls",
      "model_module_version": "1.5.0",
      "model_name": "ButtonModel",
      "state": {
       "description": "7",
       "layout": "IPY_MODEL_41118a2a3fdb4765802b941839da4ee2",
       "style": "IPY_MODEL_df273ff8d68040a18877c4824dc3b587"
      }
     },
     "c037774ef69646999eed79ded10e43d6": {
      "model_module": "@jupyter-widgets/output",
      "model_module_version": "1.0.0",
      "model_name": "OutputModel",
      "state": {
       "layout": "IPY_MODEL_98d9cc70315b4618ac63ce799ca980c2"
      }
     },
     "c042f3f0a98c414ca753117640d03575": {
      "model_module": "@jupyter-widgets/controls",
      "model_module_version": "1.5.0",
      "model_name": "ButtonModel",
      "state": {
       "description": "4",
       "layout": "IPY_MODEL_3fef84ac778f40ad9cd95f78bcc595a1",
       "style": "IPY_MODEL_c3080ed1d58e488dbf6209986dd77ff3"
      }
     },
     "c07bd8cd00e04f3c806eb2f7728f1c2d": {
      "model_module": "@jupyter-widgets/output",
      "model_module_version": "1.0.0",
      "model_name": "OutputModel",
      "state": {
       "layout": "IPY_MODEL_288998b8de774dafa05368de689d7410"
      }
     },
     "c07bf8ac970247a8bf1082926f9f3fc5": {
      "model_module": "@jupyter-widgets/output",
      "model_module_version": "1.0.0",
      "model_name": "OutputModel",
      "state": {
       "layout": "IPY_MODEL_e9cac74411744116b5f0a0530199c970"
      }
     },
     "c08786db109146179b763ef45dc1a376": {
      "model_module": "@jupyter-widgets/controls",
      "model_module_version": "1.5.0",
      "model_name": "VBoxModel",
      "state": {
       "children": [
        "IPY_MODEL_0daedf297e2c4d39b6eb3db88eff0ecb",
        "IPY_MODEL_44d33c0b2e944e5bb171bd833def9d3d"
       ],
       "layout": "IPY_MODEL_8cdb3500548c4248b8f0b6654b7c05ad"
      }
     },
     "c08ec746ef0c4f2e8ee8aa52ec5efadf": {
      "model_module": "@jupyter-widgets/controls",
      "model_module_version": "1.5.0",
      "model_name": "ButtonModel",
      "state": {
       "description": "2",
       "layout": "IPY_MODEL_0e60943540194f3fb5a9122a45f99791",
       "style": "IPY_MODEL_c3db81bf7ceb4b2db66c66e2ea95ae60"
      }
     },
     "c0c35e11e09a4374a81729d7a2c7fab3": {
      "model_module": "@jupyter-widgets/controls",
      "model_module_version": "1.5.0",
      "model_name": "ButtonModel",
      "state": {
       "description": "2",
       "layout": "IPY_MODEL_022b5b5c393d41ef9ebee6d6cb0e7265",
       "style": "IPY_MODEL_ca0d1cca1a9d4643805d67fc6679c176"
      }
     },
     "c0c47494ecb343d883af91eae44fc6cb": {
      "model_module": "@jupyter-widgets/base",
      "model_module_version": "1.2.0",
      "model_name": "LayoutModel",
      "state": {}
     },
     "c0e45c378f184e14ba4011dc4d277304": {
      "model_module": "@jupyter-widgets/base",
      "model_module_version": "1.2.0",
      "model_name": "LayoutModel",
      "state": {}
     },
     "c10a729f486b4c28a0db9677a6905f1e": {
      "model_module": "@jupyter-widgets/controls",
      "model_module_version": "1.5.0",
      "model_name": "ButtonModel",
      "state": {
       "description": "9",
       "layout": "IPY_MODEL_59a6c4613c0b46f98d861624cd4743e5",
       "style": "IPY_MODEL_c5b65227ebe54d209d5c8eb6e1ebe360"
      }
     },
     "c183dd1802da48d0b6fc0666653ad43f": {
      "model_module": "@jupyter-widgets/controls",
      "model_module_version": "1.5.0",
      "model_name": "FloatProgressModel",
      "state": {
       "description": "Progress:",
       "layout": "IPY_MODEL_44502aeb9d7c467f8974f29085216dfc",
       "max": 1,
       "style": "IPY_MODEL_8b666fee3cc74b4cbbf0c1936d7fe62c",
       "value": 0.06
      }
     },
     "c197d03021de40c9aa77a106c4660124": {
      "model_module": "@jupyter-widgets/controls",
      "model_module_version": "1.5.0",
      "model_name": "VBoxModel",
      "state": {
       "children": [
        "IPY_MODEL_ee25dd9c086c49a1900580098f9ae15a",
        "IPY_MODEL_00d4a709bc054bcda7ffb63ba9f6f486"
       ],
       "layout": "IPY_MODEL_eb8c6a6faaa9404a97e31fb9f1670f60"
      }
     },
     "c19a1906514a4556ba3ab359319b9d4c": {
      "model_module": "@jupyter-widgets/output",
      "model_module_version": "1.0.0",
      "model_name": "OutputModel",
      "state": {
       "layout": "IPY_MODEL_30809aa3c66546bfba0da8d763b7d41f"
      }
     },
     "c1b4631307664e23a3e709ff70f81e14": {
      "model_module": "@jupyter-widgets/base",
      "model_module_version": "1.2.0",
      "model_name": "LayoutModel",
      "state": {}
     },
     "c1e692042f624a85ba036d50f9f5715e": {
      "model_module": "@jupyter-widgets/base",
      "model_module_version": "1.2.0",
      "model_name": "LayoutModel",
      "state": {
       "width": "95%"
      }
     },
     "c20022b0eecf4003aa1bdb6cd3af1b57": {
      "model_module": "@jupyter-widgets/controls",
      "model_module_version": "1.5.0",
      "model_name": "VBoxModel",
      "state": {
       "children": [
        "IPY_MODEL_ed5ae288fcb44cb98aff6c43dbf67993",
        "IPY_MODEL_6e9b58f0840548a5981c1bf4a4040dbd"
       ],
       "layout": "IPY_MODEL_4fdad2053cb54c46a92dc11787fd7696"
      }
     },
     "c21553e2c2c045298831781d1690aa50": {
      "model_module": "@jupyter-widgets/base",
      "model_module_version": "1.2.0",
      "model_name": "LayoutModel",
      "state": {
       "width": "10%"
      }
     },
     "c22441d021e745bcb2a30928ebfba0ab": {
      "model_module": "@jupyter-widgets/base",
      "model_module_version": "1.2.0",
      "model_name": "LayoutModel",
      "state": {
       "width": "95%"
      }
     },
     "c22cd2317f894ec98e2d0ba2c0bd9f48": {
      "model_module": "@jupyter-widgets/controls",
      "model_module_version": "1.5.0",
      "model_name": "ButtonModel",
      "state": {
       "description": "6",
       "layout": "IPY_MODEL_2ad24da9ae814b09befae8df944fe5b6",
       "style": "IPY_MODEL_3ee99968eca34f4cb089a339ad93ed39"
      }
     },
     "c22eb6c65dd6436181fe59726c6ed740": {
      "model_module": "@jupyter-widgets/controls",
      "model_module_version": "1.5.0",
      "model_name": "HBoxModel",
      "state": {
       "children": [
        "IPY_MODEL_ea515f6ab0fb4c8fa83df8e40b2a12b3",
        "IPY_MODEL_b5071a727cb4429ab5846a1b5e1e9269",
        "IPY_MODEL_0d1325c707c8443cadea347f7b556f0b"
       ],
       "layout": "IPY_MODEL_3807d7ae76f4425e8e6863d8460605ff"
      }
     },
     "c27e0b6c9a1349609fb30ab8e69be9b4": {
      "model_module": "@jupyter-widgets/controls",
      "model_module_version": "1.5.0",
      "model_name": "VBoxModel",
      "state": {
       "children": [
        "IPY_MODEL_8f801c4561bd4a65a121cb39275f0164",
        "IPY_MODEL_ad8f14ef8648458aa4c2ee28ad20086a"
       ],
       "layout": "IPY_MODEL_1a6d634730f64b5bb07e255530cf4e61"
      }
     },
     "c28cc8a45132427b98b678db7d448a8d": {
      "model_module": "@jupyter-widgets/controls",
      "model_module_version": "1.5.0",
      "model_name": "VBoxModel",
      "state": {
       "children": [
        "IPY_MODEL_80af839c0a7d406c920b3f0db5aeec9e",
        "IPY_MODEL_7496da531335464cbe3dce2b60fa3ad6"
       ],
       "layout": "IPY_MODEL_e079e1b34b0a42e5abd6da7c082433ec"
      }
     },
     "c29bb2d9b1d64c29919bb4d993beddbe": {
      "model_module": "@jupyter-widgets/controls",
      "model_module_version": "1.5.0",
      "model_name": "ButtonModel",
      "state": {
       "description": "7",
       "layout": "IPY_MODEL_1482e881f8fa493a9fbe7610b62f9d9a",
       "style": "IPY_MODEL_e52f07227a04419cac37749b7c206e2f"
      }
     },
     "c2a8fb1d9333439ab8d83d2ceb0c7e5e": {
      "model_module": "@jupyter-widgets/output",
      "model_module_version": "1.0.0",
      "model_name": "OutputModel",
      "state": {
       "layout": "IPY_MODEL_82a1345d0044425997613b7e94697be4"
      }
     },
     "c2abf8941e774063911bc166818f2c54": {
      "model_module": "@jupyter-widgets/base",
      "model_module_version": "1.2.0",
      "model_name": "LayoutModel",
      "state": {}
     },
     "c2ac737a6fc14ea7be8223fc6a75ae61": {
      "model_module": "@jupyter-widgets/controls",
      "model_module_version": "1.5.0",
      "model_name": "HBoxModel",
      "state": {
       "children": [
        "IPY_MODEL_ea9dda4a99524b4e9df9021947bf38d1",
        "IPY_MODEL_17dec01455de4498a4ea3d80cfad2d3d"
       ],
       "layout": "IPY_MODEL_62aeda4e2a8b461987d2518e797d9798"
      }
     },
     "c2b9d68d25184b398f65fa1967199334": {
      "model_module": "@jupyter-widgets/base",
      "model_module_version": "1.2.0",
      "model_name": "LayoutModel",
      "state": {
       "width": "10%"
      }
     },
     "c2c112b1aece4b9d92cb8cab1268e56e": {
      "model_module": "@jupyter-widgets/controls",
      "model_module_version": "1.5.0",
      "model_name": "VBoxModel",
      "state": {
       "children": [
        "IPY_MODEL_cedee47314e748ffbc6225c298aacde6",
        "IPY_MODEL_e4fb4cb43cd7496bb7e9780020569c35"
       ],
       "layout": "IPY_MODEL_a3b0fbea707b438aa1d88614068c2275"
      }
     },
     "c2f1b65196ae4441aaf3bcce5da8ee48": {
      "model_module": "@jupyter-widgets/output",
      "model_module_version": "1.0.0",
      "model_name": "OutputModel",
      "state": {
       "layout": "IPY_MODEL_8f99124022ce4a879bf261aeeb0281af"
      }
     },
     "c305403921c944b68999fe97a2e8f3cc": {
      "model_module": "@jupyter-widgets/base",
      "model_module_version": "1.2.0",
      "model_name": "LayoutModel",
      "state": {}
     },
     "c3080ed1d58e488dbf6209986dd77ff3": {
      "model_module": "@jupyter-widgets/controls",
      "model_module_version": "1.5.0",
      "model_name": "ButtonStyleModel",
      "state": {}
     },
     "c30e574ff3924f3ebfef8345091c9d5e": {
      "model_module": "@jupyter-widgets/controls",
      "model_module_version": "1.5.0",
      "model_name": "HBoxModel",
      "state": {
       "children": [
        "IPY_MODEL_674acc3cffac44c7be79b82e1622ad13",
        "IPY_MODEL_759b93c54a9b4c48a8a37d5fce220441"
       ],
       "layout": "IPY_MODEL_7961b4b5e5424a098e5cf5fa5431cf5e"
      }
     },
     "c30ff75894024b13a7cca50d492da6ae": {
      "model_module": "@jupyter-widgets/controls",
      "model_module_version": "1.5.0",
      "model_name": "VBoxModel",
      "state": {
       "children": [
        "IPY_MODEL_24b08804e256481fa5d3a0597e42408c",
        "IPY_MODEL_762a8ffd11b84df9aa4a69c962343e05"
       ],
       "layout": "IPY_MODEL_2a028d295ba342b69c9cb53b50587edd"
      }
     },
     "c32b90afbcb4405b89abccee36b2cdc7": {
      "model_module": "@jupyter-widgets/base",
      "model_module_version": "1.2.0",
      "model_name": "LayoutModel",
      "state": {
       "width": "10%"
      }
     },
     "c332a8232ac34a4ab81716db89238155": {
      "model_module": "@jupyter-widgets/controls",
      "model_module_version": "1.5.0",
      "model_name": "ButtonModel",
      "state": {
       "description": "6",
       "layout": "IPY_MODEL_98c17816728c4931bc07427d73d258c6",
       "style": "IPY_MODEL_72ad96ccb4754ef3a3b345dd441bfb66"
      }
     },
     "c349a174d7b2471e8a56e92739752751": {
      "model_module": "@jupyter-widgets/base",
      "model_module_version": "1.2.0",
      "model_name": "LayoutModel",
      "state": {}
     },
     "c373369377604600a323ceb3f9da83ce": {
      "model_module": "@jupyter-widgets/controls",
      "model_module_version": "1.5.0",
      "model_name": "ButtonModel",
      "state": {
       "description": "0",
       "layout": "IPY_MODEL_f0256836d8274471aca94a182b0dd73e",
       "style": "IPY_MODEL_09f93b21905a480290f01f74586a1cf3"
      }
     },
     "c37a8d5157c64285bf649618a2d76c3b": {
      "model_module": "@jupyter-widgets/controls",
      "model_module_version": "1.5.0",
      "model_name": "ButtonModel",
      "state": {
       "description": "0",
       "layout": "IPY_MODEL_be899f6d3be540fba2f5bc099d70850c",
       "style": "IPY_MODEL_42834ba88b054980bf2d07df4b63c939"
      }
     },
     "c38b2186816a4c5e99db349266504761": {
      "model_module": "@jupyter-widgets/base",
      "model_module_version": "1.2.0",
      "model_name": "LayoutModel",
      "state": {
       "width": "10%"
      }
     },
     "c3b7b9545c9547419a27758c1cfe114b": {
      "model_module": "@jupyter-widgets/base",
      "model_module_version": "1.2.0",
      "model_name": "LayoutModel",
      "state": {
       "width": "10%"
      }
     },
     "c3d8733b401e4d3aa7727d4d20783682": {
      "model_module": "@jupyter-widgets/controls",
      "model_module_version": "1.5.0",
      "model_name": "ButtonModel",
      "state": {
       "description": "1",
       "layout": "IPY_MODEL_cc242da4fae5406cab81726ab749145d",
       "style": "IPY_MODEL_f3d2b704add241aba85c99bf12b0835c"
      }
     },
     "c3db81bf7ceb4b2db66c66e2ea95ae60": {
      "model_module": "@jupyter-widgets/controls",
      "model_module_version": "1.5.0",
      "model_name": "ButtonStyleModel",
      "state": {}
     },
     "c4146513368844a4917bdbab3f182f5c": {
      "model_module": "@jupyter-widgets/output",
      "model_module_version": "1.0.0",
      "model_name": "OutputModel",
      "state": {
       "layout": "IPY_MODEL_25a05dc122274e66968b4ad719d576c5"
      }
     },
     "c4146f4dbeed43c58e0020f7602a6f27": {
      "model_module": "@jupyter-widgets/controls",
      "model_module_version": "1.5.0",
      "model_name": "ButtonModel",
      "state": {
       "description": "7",
       "layout": "IPY_MODEL_4a3f6d5d63c34a00b8276797eead5dba",
       "style": "IPY_MODEL_da058b5d530649bb8a7965b447f90b51"
      }
     },
     "c4227ba428ef4d6096a94f5b8eacf9c5": {
      "model_module": "@jupyter-widgets/base",
      "model_module_version": "1.2.0",
      "model_name": "LayoutModel",
      "state": {
       "justify_content": "space-between"
      }
     },
     "c424ffcc7e9a4ed3aff095534f92cd8a": {
      "model_module": "@jupyter-widgets/base",
      "model_module_version": "1.2.0",
      "model_name": "LayoutModel",
      "state": {
       "width": "95%"
      }
     },
     "c429cb98dbd64075b016ae1257c00dd5": {
      "model_module": "@jupyter-widgets/controls",
      "model_module_version": "1.5.0",
      "model_name": "HBoxModel",
      "state": {
       "children": [
        "IPY_MODEL_64e965343f254002a75d039d5e747325",
        "IPY_MODEL_5f6a9b6cd8fd4272a6a78ff1e468ca01"
       ],
       "layout": "IPY_MODEL_e662f84c7e79478f9cff3f3e580a5b19"
      }
     },
     "c436d81d792c469fb845bad6ed416c6d": {
      "model_module": "@jupyter-widgets/base",
      "model_module_version": "1.2.0",
      "model_name": "LayoutModel",
      "state": {}
     },
     "c44e394bc1c342fa993906ef15a487b3": {
      "model_module": "@jupyter-widgets/output",
      "model_module_version": "1.0.0",
      "model_name": "OutputModel",
      "state": {
       "layout": "IPY_MODEL_df37cd78b3a14ee18aac05a08d01543c"
      }
     },
     "c47e110c3c4d452d83bb969767fb8476": {
      "model_module": "@jupyter-widgets/controls",
      "model_module_version": "1.5.0",
      "model_name": "VBoxModel",
      "state": {
       "children": [
        "IPY_MODEL_d0b546d1e5f642df8b6a37f6e4bee439",
        "IPY_MODEL_60b61aaacd624808bb796081f1ec2d87"
       ],
       "layout": "IPY_MODEL_f3e0746534f54d18a155f702193ef04e"
      }
     },
     "c4914bb1bbdd4e508caf164dab186632": {
      "model_module": "@jupyter-widgets/base",
      "model_module_version": "1.2.0",
      "model_name": "LayoutModel",
      "state": {
       "width": "10%"
      }
     },
     "c49cd4e136f247b1b65bfdae484de9c5": {
      "model_module": "@jupyter-widgets/base",
      "model_module_version": "1.2.0",
      "model_name": "LayoutModel",
      "state": {
       "width": "10%"
      }
     },
     "c4b93682c20648c2b6c4647215839793": {
      "model_module": "@jupyter-widgets/output",
      "model_module_version": "1.0.0",
      "model_name": "OutputModel",
      "state": {
       "layout": "IPY_MODEL_f0d463586be14bc3b293aeb01108902d"
      }
     },
     "c4b94b8c696341a387e9886f015341fc": {
      "model_module": "@jupyter-widgets/controls",
      "model_module_version": "1.5.0",
      "model_name": "VBoxModel",
      "state": {
       "children": [
        "IPY_MODEL_15d72e0deae04e808551f7b63fdf3263",
        "IPY_MODEL_7fa88342e42244dfae658d30b256d670"
       ],
       "layout": "IPY_MODEL_c38b2186816a4c5e99db349266504761"
      }
     },
     "c4bd62d3979946cc9685db253c044ee6": {
      "model_module": "@jupyter-widgets/output",
      "model_module_version": "1.0.0",
      "model_name": "OutputModel",
      "state": {
       "layout": "IPY_MODEL_0cc50983441c4b8ea3f63b1220ad1cec"
      }
     },
     "c4bf938fb0bc4ceca20c7c7f0cdc7e9c": {
      "model_module": "@jupyter-widgets/base",
      "model_module_version": "1.2.0",
      "model_name": "LayoutModel",
      "state": {}
     },
     "c4ca7feece67409c8af3696eea41f4b5": {
      "model_module": "@jupyter-widgets/controls",
      "model_module_version": "1.5.0",
      "model_name": "ButtonModel",
      "state": {
       "description": "7",
       "layout": "IPY_MODEL_ccff3d04e4f345a0a08a79e96e22a1bf",
       "style": "IPY_MODEL_6b191c6b521145c1a0880591bb8f3953"
      }
     },
     "c4d9a82e3a474354a66ab36c1aac8b0f": {
      "model_module": "@jupyter-widgets/controls",
      "model_module_version": "1.5.0",
      "model_name": "ButtonModel",
      "state": {
       "description": "0",
       "layout": "IPY_MODEL_7b0812139ce04190880ea4366af55502",
       "style": "IPY_MODEL_2449e3f22d37457a931ad5c3ff2bb436"
      }
     },
     "c4ed4f72feaf4d888622c0d3751c5881": {
      "model_module": "@jupyter-widgets/controls",
      "model_module_version": "1.5.0",
      "model_name": "VBoxModel",
      "state": {
       "children": [
        "IPY_MODEL_a0a31a098de64a42995a76eb3c7dff0b",
        "IPY_MODEL_dcee94dbca9c49a59205c2d5bb033ee9"
       ],
       "layout": "IPY_MODEL_106ab7dd68d94640a7ba5e0c195644d1"
      }
     },
     "c574dca9705741a39c8aeb3c48db301f": {
      "model_module": "@jupyter-widgets/controls",
      "model_module_version": "1.5.0",
      "model_name": "ButtonStyleModel",
      "state": {}
     },
     "c58710cca5b5427499e821b9d397eb44": {
      "model_module": "@jupyter-widgets/base",
      "model_module_version": "1.2.0",
      "model_name": "LayoutModel",
      "state": {
       "width": "10%"
      }
     },
     "c58e8037d1564b4e8bf23633763e597d": {
      "model_module": "@jupyter-widgets/output",
      "model_module_version": "1.0.0",
      "model_name": "OutputModel",
      "state": {
       "layout": "IPY_MODEL_af34b504e2744d72b186e4464e98a0f0"
      }
     },
     "c58fc5a8edfb4009a9bc8c705153a2c3": {
      "model_module": "@jupyter-widgets/base",
      "model_module_version": "1.2.0",
      "model_name": "LayoutModel",
      "state": {
       "width": "10%"
      }
     },
     "c5a7eebe471e4dd69faf7f191252d775": {
      "model_module": "@jupyter-widgets/controls",
      "model_module_version": "1.5.0",
      "model_name": "HBoxModel",
      "state": {
       "children": [
        "IPY_MODEL_03ed6538d10745d59abc04684a1f1a49",
        "IPY_MODEL_1ff2e0a2bbe741ffa016e1a18be91cd6",
        "IPY_MODEL_dd84cf185c9645ef905c619abb9167d5",
        "IPY_MODEL_cd066020cd0f44d3b5d0bbf5c0ce1011",
        "IPY_MODEL_7c450e50cf574daab690445839a00363",
        "IPY_MODEL_df60c504e8cd461198567d9e133fe735",
        "IPY_MODEL_3ed69fc7f69a4262a9025dde7ff71560",
        "IPY_MODEL_52799e495ee54938b265df4a2df7f769",
        "IPY_MODEL_5c7adc4efe87434ea96cf0ab40ee8168",
        "IPY_MODEL_e921539d1eaf4097af4d07b99881f382"
       ],
       "layout": "IPY_MODEL_9a5bb442f11844ae9ec704dc9ebf3690"
      }
     },
     "c5b65227ebe54d209d5c8eb6e1ebe360": {
      "model_module": "@jupyter-widgets/controls",
      "model_module_version": "1.5.0",
      "model_name": "ButtonStyleModel",
      "state": {}
     },
     "c5bb3ae21f5c4345b2666a472144eca9": {
      "model_module": "@jupyter-widgets/base",
      "model_module_version": "1.2.0",
      "model_name": "LayoutModel",
      "state": {
       "width": "95%"
      }
     },
     "c5c66c150ff147b4ac0c01f5bc3c773a": {
      "model_module": "@jupyter-widgets/base",
      "model_module_version": "1.2.0",
      "model_name": "LayoutModel",
      "state": {
       "width": "10%"
      }
     },
     "c5f84b9eaa3b4674a5c0a711e663d9d5": {
      "model_module": "@jupyter-widgets/base",
      "model_module_version": "1.2.0",
      "model_name": "LayoutModel",
      "state": {}
     },
     "c5fd801903cb47c283b965bb19dca383": {
      "model_module": "@jupyter-widgets/output",
      "model_module_version": "1.0.0",
      "model_name": "OutputModel",
      "state": {
       "layout": "IPY_MODEL_e49b463893c94a0094642b7ca3e922b2"
      }
     },
     "c5fecb9a63a642f99ee7dddcccd41eab": {
      "model_module": "@jupyter-widgets/base",
      "model_module_version": "1.2.0",
      "model_name": "LayoutModel",
      "state": {}
     },
     "c6092c337e9b432293616138d2bf83a2": {
      "model_module": "@jupyter-widgets/controls",
      "model_module_version": "1.5.0",
      "model_name": "VBoxModel",
      "state": {
       "children": [
        "IPY_MODEL_c7b055fa3ccb4f4b9d2ece7690bcf066",
        "IPY_MODEL_1169b39e87ac44e1b2bc2806e3f4cbeb"
       ],
       "layout": "IPY_MODEL_e75d0458d9a249529a6b63c625133d3d"
      }
     },
     "c615423c2e9440aaa882e98b10d18327": {
      "model_module": "@jupyter-widgets/controls",
      "model_module_version": "1.5.0",
      "model_name": "ButtonModel",
      "state": {
       "description": "7",
       "layout": "IPY_MODEL_ac32b04facde4133bc0e8865e0e0064c",
       "style": "IPY_MODEL_88041c229b7345d294161506f9431e0e"
      }
     },
     "c61dae6c568c4b5a8f08651b40c5a523": {
      "model_module": "@jupyter-widgets/base",
      "model_module_version": "1.2.0",
      "model_name": "LayoutModel",
      "state": {
       "justify_content": "space-between"
      }
     },
     "c62e65b092b34def81f94346bb3f9042": {
      "model_module": "@jupyter-widgets/controls",
      "model_module_version": "1.5.0",
      "model_name": "ButtonModel",
      "state": {
       "description": "4",
       "layout": "IPY_MODEL_96c9ed6ed0f845979f6173f325ed18c0",
       "style": "IPY_MODEL_a41263e6dc5e4f21929764f41289c2ef"
      }
     },
     "c6574152e04b48d6b037969ec154b2b9": {
      "model_module": "@jupyter-widgets/base",
      "model_module_version": "1.2.0",
      "model_name": "LayoutModel",
      "state": {}
     },
     "c66606a76d234a8b89e86b33f60a4bb5": {
      "model_module": "@jupyter-widgets/controls",
      "model_module_version": "1.5.0",
      "model_name": "ButtonStyleModel",
      "state": {}
     },
     "c676dea99a984c619334ee62e575a54e": {
      "model_module": "@jupyter-widgets/controls",
      "model_module_version": "1.5.0",
      "model_name": "ButtonModel",
      "state": {
       "description": "7",
       "layout": "IPY_MODEL_1fbd4571149a467f891db95ba829daed",
       "style": "IPY_MODEL_8b0738b9a6d54ccd857ebfdf7f9916ed"
      }
     },
     "c68e20a0af374ba98f5631dca6e35bee": {
      "model_module": "@jupyter-widgets/controls",
      "model_module_version": "1.5.0",
      "model_name": "VBoxModel",
      "state": {
       "children": [
        "IPY_MODEL_9a291bb8b8c4496f90609ad687e5ac3a",
        "IPY_MODEL_81d8d55d566b47c1b400f82d42b47cf5"
       ],
       "layout": "IPY_MODEL_5db269eefa524636a3c8bfe84a1646f6"
      }
     },
     "c69d1fc2573c4bbab78f50c25493ad71": {
      "model_module": "@jupyter-widgets/controls",
      "model_module_version": "1.5.0",
      "model_name": "ButtonModel",
      "state": {
       "description": "6",
       "layout": "IPY_MODEL_67ca7725103949feb942765e24428ac1",
       "style": "IPY_MODEL_2bd07d672a9645d7b864f77205014933"
      }
     },
     "c6c1738dd6de41fd87be35c7bfe9f9fc": {
      "model_module": "@jupyter-widgets/base",
      "model_module_version": "1.2.0",
      "model_name": "LayoutModel",
      "state": {
       "width": "10%"
      }
     },
     "c6cd0b5c620c4ce0b05a8b31c78e5570": {
      "model_module": "@jupyter-widgets/base",
      "model_module_version": "1.2.0",
      "model_name": "LayoutModel",
      "state": {
       "width": "95%"
      }
     },
     "c6d6657c58c049ebacfd135063cb1104": {
      "model_module": "@jupyter-widgets/controls",
      "model_module_version": "1.5.0",
      "model_name": "ButtonModel",
      "state": {
       "description": "1",
       "layout": "IPY_MODEL_16edb2745ebb4e76bc3534cf6abecfac",
       "style": "IPY_MODEL_9746baa22f5b4a7ca257eefff104c00b"
      }
     },
     "c700d756ad7841a1b394b1471e163ce3": {
      "model_module": "@jupyter-widgets/base",
      "model_module_version": "1.2.0",
      "model_name": "LayoutModel",
      "state": {
       "width": "10%"
      }
     },
     "c709f864d8eb4e7c8d287b64456385d9": {
      "model_module": "@jupyter-widgets/output",
      "model_module_version": "1.0.0",
      "model_name": "OutputModel",
      "state": {
       "layout": "IPY_MODEL_3b36be50cdbd4278b11d9748465ad362"
      }
     },
     "c723828c4cfd4f039cd16898647e42b1": {
      "model_module": "@jupyter-widgets/base",
      "model_module_version": "1.2.0",
      "model_name": "LayoutModel",
      "state": {}
     },
     "c72c6f15c96b422eafb0602938edb698": {
      "model_module": "@jupyter-widgets/controls",
      "model_module_version": "1.5.0",
      "model_name": "TextModel",
      "state": {
       "description": "Other:",
       "layout": "IPY_MODEL_8ddeadf536e44a738581acdd5b5ee7e4",
       "placeholder": "Hit enter to submit.",
       "style": "IPY_MODEL_91b3c070c1fa4e278a048c46cd1fd7f5"
      }
     },
     "c768211ce5cf46ae9db246fe8db02191": {
      "model_module": "@jupyter-widgets/controls",
      "model_module_version": "1.5.0",
      "model_name": "ButtonStyleModel",
      "state": {}
     },
     "c776e8596aa943e4a5ffc2d8834aa21a": {
      "model_module": "@jupyter-widgets/controls",
      "model_module_version": "1.5.0",
      "model_name": "ButtonModel",
      "state": {
       "description": "2",
       "layout": "IPY_MODEL_8d828770ba6d4febb5be4b2e2f280634",
       "style": "IPY_MODEL_b70b186af3b74cada44beb9ef4d14817"
      }
     },
     "c785df1a76084bc18a944c67b60539eb": {
      "model_module": "@jupyter-widgets/controls",
      "model_module_version": "1.5.0",
      "model_name": "VBoxModel",
      "state": {
       "children": [
        "IPY_MODEL_f6a83f1636e249cba814e66cd7dd8854",
        "IPY_MODEL_f365fd038d994167930ac08aa2038d1e"
       ],
       "layout": "IPY_MODEL_58a44c15f8e1462eb57657a0f1c0ef2f"
      }
     },
     "c7a340ea11574895999b955397ad6bcb": {
      "model_module": "@jupyter-widgets/controls",
      "model_module_version": "1.5.0",
      "model_name": "ButtonStyleModel",
      "state": {}
     },
     "c7b055fa3ccb4f4b9d2ece7690bcf066": {
      "model_module": "@jupyter-widgets/controls",
      "model_module_version": "1.5.0",
      "model_name": "ButtonModel",
      "state": {
       "description": "0",
       "layout": "IPY_MODEL_23f54db764a241ff95e271a30980ab3a",
       "style": "IPY_MODEL_5ab8f5d066b74b5ba5c15ddd3824fd55"
      }
     },
     "c7c074db03df47e78f3885b58154739a": {
      "model_module": "@jupyter-widgets/output",
      "model_module_version": "1.0.0",
      "model_name": "OutputModel",
      "state": {
       "layout": "IPY_MODEL_1c503d8ddcbd4e1aabcf2b75bac1437d"
      }
     },
     "c801ba8d25ee402aacffebcfdfe83c9c": {
      "model_module": "@jupyter-widgets/controls",
      "model_module_version": "1.5.0",
      "model_name": "VBoxModel",
      "state": {
       "children": [
        "IPY_MODEL_b2fc3d4b7ddd4f46a4f2fb0dd679c9f9",
        "IPY_MODEL_6cc1eb25ecc84ff4a2beb71ce1ef9a0f"
       ],
       "layout": "IPY_MODEL_6bf0bbbfc25345c19ed338dbb6eca74f"
      }
     },
     "c809d974e8a24121bed7a6c4edeb15e4": {
      "model_module": "@jupyter-widgets/base",
      "model_module_version": "1.2.0",
      "model_name": "LayoutModel",
      "state": {}
     },
     "c84406ea74434383ba7c0701a10345fd": {
      "model_module": "@jupyter-widgets/base",
      "model_module_version": "1.2.0",
      "model_name": "LayoutModel",
      "state": {}
     },
     "c874bc6968a54e34ae7f733874f8eb6a": {
      "model_module": "@jupyter-widgets/base",
      "model_module_version": "1.2.0",
      "model_name": "LayoutModel",
      "state": {}
     },
     "c8775de2b4fc4b4ca9dbd3d4cc75a4a3": {
      "model_module": "@jupyter-widgets/controls",
      "model_module_version": "1.5.0",
      "model_name": "ButtonModel",
      "state": {
       "description": "4",
       "layout": "IPY_MODEL_e4d69af0ac4144c5ae654e9821bacb86",
       "style": "IPY_MODEL_24a581d2a1a944969ac7aed9779a7c2d"
      }
     },
     "c88dfd12772f455f893712d5eff5bb49": {
      "model_module": "@jupyter-widgets/base",
      "model_module_version": "1.2.0",
      "model_name": "LayoutModel",
      "state": {}
     },
     "c89dfadece314400818620add3d50073": {
      "model_module": "@jupyter-widgets/base",
      "model_module_version": "1.2.0",
      "model_name": "LayoutModel",
      "state": {
       "width": "95%"
      }
     },
     "c8ea62f64fce44fb9dcdb8b768353e2c": {
      "model_module": "@jupyter-widgets/base",
      "model_module_version": "1.2.0",
      "model_name": "LayoutModel",
      "state": {
       "width": "10%"
      }
     },
     "c943865aabc147b991aef8e24f62b761": {
      "model_module": "@jupyter-widgets/base",
      "model_module_version": "1.2.0",
      "model_name": "LayoutModel",
      "state": {}
     },
     "c98f2e79265449639b1d82a3b9ce1f2c": {
      "model_module": "@jupyter-widgets/controls",
      "model_module_version": "1.5.0",
      "model_name": "ButtonStyleModel",
      "state": {}
     },
     "c9c06fceda3344f78aceda3a65bf4dbc": {
      "model_module": "@jupyter-widgets/base",
      "model_module_version": "1.2.0",
      "model_name": "LayoutModel",
      "state": {
       "width": "95%"
      }
     },
     "c9fa06cae6444e9681b3508d4aa3ac02": {
      "model_module": "@jupyter-widgets/controls",
      "model_module_version": "1.5.0",
      "model_name": "VBoxModel",
      "state": {
       "children": [
        "IPY_MODEL_6fe76c125a85442096b05ebea82af2a3",
        "IPY_MODEL_ef41b8c9566d43849d5957515488de58"
       ],
       "layout": "IPY_MODEL_24f72a9df5e94676a5e4149a2ad81977"
      }
     },
     "ca0d1cca1a9d4643805d67fc6679c176": {
      "model_module": "@jupyter-widgets/controls",
      "model_module_version": "1.5.0",
      "model_name": "ButtonStyleModel",
      "state": {}
     },
     "ca16d1ec723a4c0ba5a042d25a38392f": {
      "model_module": "@jupyter-widgets/base",
      "model_module_version": "1.2.0",
      "model_name": "LayoutModel",
      "state": {
       "width": "95%"
      }
     },
     "ca19e49a87574671a8e04ffe3c47a84e": {
      "model_module": "@jupyter-widgets/controls",
      "model_module_version": "1.5.0",
      "model_name": "ButtonModel",
      "state": {
       "description": "8",
       "layout": "IPY_MODEL_3b91f9f63d04498595ae3ee86fdb2bd1",
       "style": "IPY_MODEL_30a9bf191cdb4d3f9c49eb16d8454f33"
      }
     },
     "ca1a09436b2a49b494099e71accff89a": {
      "model_module": "@jupyter-widgets/output",
      "model_module_version": "1.0.0",
      "model_name": "OutputModel",
      "state": {
       "layout": "IPY_MODEL_94f6021aa3c5446c9ce2aa1cc2b2d92b"
      }
     },
     "ca2faf0d231340ce8487126103cdb0ef": {
      "model_module": "@jupyter-widgets/controls",
      "model_module_version": "1.5.0",
      "model_name": "VBoxModel",
      "state": {
       "children": [
        "IPY_MODEL_66f8a2262a2b4dd7a679f094ee1d32a1",
        "IPY_MODEL_f41c31ca6ec34914b52d2ed513c95103"
       ],
       "layout": "IPY_MODEL_eeb0c52ba98f4e07a0b0a76214d21eba"
      }
     },
     "ca44d65818034c59999b0027be4466cf": {
      "model_module": "@jupyter-widgets/controls",
      "model_module_version": "1.5.0",
      "model_name": "ButtonStyleModel",
      "state": {}
     },
     "ca4f7e69e332425c83b083c9d2cf3c2f": {
      "model_module": "@jupyter-widgets/base",
      "model_module_version": "1.2.0",
      "model_name": "LayoutModel",
      "state": {
       "width": "95%"
      }
     },
     "ca51a00c0049446389c1c675c6d923f3": {
      "model_module": "@jupyter-widgets/base",
      "model_module_version": "1.2.0",
      "model_name": "LayoutModel",
      "state": {
       "width": "10%"
      }
     },
     "ca591b1ecc69495d9dac91a719993bbf": {
      "model_module": "@jupyter-widgets/controls",
      "model_module_version": "1.5.0",
      "model_name": "VBoxModel",
      "state": {
       "children": [
        "IPY_MODEL_5dbad5254d1d47ce8a8e094a278d38a8",
        "IPY_MODEL_4238ab3e410b40918a7dd9b4bd68a144"
       ],
       "layout": "IPY_MODEL_23138de5022d4e55a0c46fe46cfe2f45"
      }
     },
     "ca7d546a5cf04c4ba85f7e279be111fe": {
      "model_module": "@jupyter-widgets/base",
      "model_module_version": "1.2.0",
      "model_name": "LayoutModel",
      "state": {
       "width": "95%"
      }
     },
     "ca840463a18f490ab0da6ce9d3687003": {
      "model_module": "@jupyter-widgets/base",
      "model_module_version": "1.2.0",
      "model_name": "LayoutModel",
      "state": {}
     },
     "ca9bf47cb4f14f508133a320255e3aa5": {
      "model_module": "@jupyter-widgets/controls",
      "model_module_version": "1.5.0",
      "model_name": "ButtonModel",
      "state": {
       "description": "4",
       "layout": "IPY_MODEL_aa3907cce1bf4ec88dccd1b7e9fb4d5e",
       "style": "IPY_MODEL_729bdce2a58a49888b0be173f1e941cd"
      }
     },
     "caad6e52e859411db52f9f9c9fc7176f": {
      "model_module": "@jupyter-widgets/base",
      "model_module_version": "1.2.0",
      "model_name": "LayoutModel",
      "state": {
       "width": "95%"
      }
     },
     "cabb441ea4464ea1bbf084104a1c1f51": {
      "model_module": "@jupyter-widgets/output",
      "model_module_version": "1.0.0",
      "model_name": "OutputModel",
      "state": {
       "layout": "IPY_MODEL_6d32b8a2f13449099bec6046ee50db03"
      }
     },
     "caca9c1055dd42ef9526c531b547e779": {
      "model_module": "@jupyter-widgets/base",
      "model_module_version": "1.2.0",
      "model_name": "LayoutModel",
      "state": {
       "width": "10%"
      }
     },
     "cae43b4f09b44b32bff47a2b3a597989": {
      "model_module": "@jupyter-widgets/controls",
      "model_module_version": "1.5.0",
      "model_name": "VBoxModel",
      "state": {
       "children": [
        "IPY_MODEL_441bbbb870db4e30a139594de4a1e1e5",
        "IPY_MODEL_c4b93682c20648c2b6c4647215839793"
       ],
       "layout": "IPY_MODEL_d4f964d0ea2e45c988c02fabea39e0f5"
      }
     },
     "caf5b18fc2344071b825c21edba86805": {
      "model_module": "@jupyter-widgets/controls",
      "model_module_version": "1.5.0",
      "model_name": "VBoxModel",
      "state": {
       "children": [
        "IPY_MODEL_662392ba6d2944239208a8605ceff657",
        "IPY_MODEL_ae97a798d60142518cb2a4f461ea49bd"
       ],
       "layout": "IPY_MODEL_6466df0cf82d4d63aeabea02c2cece9c"
      }
     },
     "cafed08e6c4a4d48a4b17914bc9c4210": {
      "model_module": "@jupyter-widgets/controls",
      "model_module_version": "1.5.0",
      "model_name": "ButtonModel",
      "state": {
       "description": "7",
       "layout": "IPY_MODEL_8bb368804ffb4c10adc63caa9c5ed12d",
       "style": "IPY_MODEL_d877aab7d82241a3af9d7b9360cf5d7c"
      }
     },
     "cb07913b19774984a392ce80d8e3a089": {
      "model_module": "@jupyter-widgets/output",
      "model_module_version": "1.0.0",
      "model_name": "OutputModel",
      "state": {
       "layout": "IPY_MODEL_fa6590f94060453ea7e95818248ff60a"
      }
     },
     "cb1e180537414e759515167ec736834b": {
      "model_module": "@jupyter-widgets/base",
      "model_module_version": "1.2.0",
      "model_name": "LayoutModel",
      "state": {
       "width": "95%"
      }
     },
     "cb3b16c4704b4c9380d3ff1aceb8ea69": {
      "model_module": "@jupyter-widgets/controls",
      "model_module_version": "1.5.0",
      "model_name": "ButtonModel",
      "state": {
       "description": "4",
       "layout": "IPY_MODEL_fcc27deb9d244e68b7e6b18e6ff1cb7d",
       "style": "IPY_MODEL_ce23f43cfd204956b9b6c9ba5e1e9253"
      }
     },
     "cb5446e6c65649c5a4ef57862acd3da8": {
      "model_module": "@jupyter-widgets/controls",
      "model_module_version": "1.5.0",
      "model_name": "VBoxModel",
      "state": {
       "children": [
        "IPY_MODEL_4d7e0840c9a74373a763abc20095baf6",
        "IPY_MODEL_ef78fd2b1818417484d61d1f738adb9c"
       ],
       "layout": "IPY_MODEL_4119318dd2ff4318b3f9524f131d6286"
      }
     },
     "cbb125122c394279b5faceca5b4474e7": {
      "model_module": "@jupyter-widgets/controls",
      "model_module_version": "1.5.0",
      "model_name": "VBoxModel",
      "state": {
       "children": [
        "IPY_MODEL_a907e4e749d6449280b6796b6cfda7d3",
        "IPY_MODEL_bc6f10274ef941c2a8f731c7e9cb26f1"
       ],
       "layout": "IPY_MODEL_92159871edda499c98f342a99682899b"
      }
     },
     "cc242da4fae5406cab81726ab749145d": {
      "model_module": "@jupyter-widgets/base",
      "model_module_version": "1.2.0",
      "model_name": "LayoutModel",
      "state": {
       "width": "95%"
      }
     },
     "cc29e4395fcc46958e2463f52206a5e3": {
      "model_module": "@jupyter-widgets/base",
      "model_module_version": "1.2.0",
      "model_name": "LayoutModel",
      "state": {}
     },
     "cc61299b0cb14e758eaf12da51ef7237": {
      "model_module": "@jupyter-widgets/controls",
      "model_module_version": "1.5.0",
      "model_name": "VBoxModel",
      "state": {
       "children": [
        "IPY_MODEL_54426844a60841928476fedb0731da06",
        "IPY_MODEL_2e23e5725eb84355b8033ff0fcca2fa1"
       ],
       "layout": "IPY_MODEL_4cdff301189c474eb7307a2d19af893e"
      }
     },
     "cc75e43088d840f1ad3747ecaa9d1e16": {
      "model_module": "@jupyter-widgets/output",
      "model_module_version": "1.0.0",
      "model_name": "OutputModel",
      "state": {
       "layout": "IPY_MODEL_2e3931e17823450ca5a1d6183c18773c"
      }
     },
     "cc81cb2043664dbeb28a6fb8589b7798": {
      "model_module": "@jupyter-widgets/base",
      "model_module_version": "1.2.0",
      "model_name": "LayoutModel",
      "state": {
       "width": "95%"
      }
     },
     "cc91bb51e6a048d084b997b8158cfeba": {
      "model_module": "@jupyter-widgets/base",
      "model_module_version": "1.2.0",
      "model_name": "LayoutModel",
      "state": {
       "width": "10%"
      }
     },
     "cc9cb41c9a8a4ff0b3a3557cb951d9af": {
      "model_module": "@jupyter-widgets/controls",
      "model_module_version": "1.5.0",
      "model_name": "ButtonModel",
      "state": {
       "description": "8",
       "layout": "IPY_MODEL_7e0a82f0047d477cb30f0176c3e8aa64",
       "style": "IPY_MODEL_756b0a143a114196bd74d437cabc3b58"
      }
     },
     "cccc3482379448af9f8054e237ce294e": {
      "model_module": "@jupyter-widgets/base",
      "model_module_version": "1.2.0",
      "model_name": "LayoutModel",
      "state": {}
     },
     "ccd2558642ea461990850b9a53a24449": {
      "model_module": "@jupyter-widgets/controls",
      "model_module_version": "1.5.0",
      "model_name": "VBoxModel",
      "state": {
       "children": [
        "IPY_MODEL_c332a8232ac34a4ab81716db89238155",
        "IPY_MODEL_84e12a3a153f4cd4b4bd98e295b17e19"
       ],
       "layout": "IPY_MODEL_2592a559596a45f7b76750ffaa2b6f42"
      }
     },
     "cce043dc3f9843a2a0749fdef7f34989": {
      "model_module": "@jupyter-widgets/output",
      "model_module_version": "1.0.0",
      "model_name": "OutputModel",
      "state": {
       "layout": "IPY_MODEL_077e065addec413d91bc3c9fa201dc23"
      }
     },
     "ccff3d04e4f345a0a08a79e96e22a1bf": {
      "model_module": "@jupyter-widgets/base",
      "model_module_version": "1.2.0",
      "model_name": "LayoutModel",
      "state": {
       "width": "95%"
      }
     },
     "ccff67fa6e9f478c90385018a05b6d83": {
      "model_module": "@jupyter-widgets/controls",
      "model_module_version": "1.5.0",
      "model_name": "ButtonStyleModel",
      "state": {}
     },
     "cd066020cd0f44d3b5d0bbf5c0ce1011": {
      "model_module": "@jupyter-widgets/controls",
      "model_module_version": "1.5.0",
      "model_name": "VBoxModel",
      "state": {
       "children": [
        "IPY_MODEL_2a1f202cafb04c558231dfa4fd29d5f5",
        "IPY_MODEL_d9c50fb058cc48f9b495239113ffbd14"
       ],
       "layout": "IPY_MODEL_51d2e3bc9d194dc68f4fef804226a4fd"
      }
     },
     "cd3627aeaa2f49f2809ee44c00212cf5": {
      "model_module": "@jupyter-widgets/controls",
      "model_module_version": "1.5.0",
      "model_name": "TextModel",
      "state": {
       "description": "Other:",
       "layout": "IPY_MODEL_3c6612237b894941ab4fd701c43182da",
       "placeholder": "Hit enter to submit.",
       "style": "IPY_MODEL_74d6297b13a24affa10c50ef2267dccb"
      }
     },
     "cd5d13861391417dbf0118f6496bb479": {
      "model_module": "@jupyter-widgets/controls",
      "model_module_version": "1.5.0",
      "model_name": "ButtonModel",
      "state": {
       "description": "4",
       "layout": "IPY_MODEL_342b012733934da799c6461480ffdf75",
       "style": "IPY_MODEL_5221e2ed589f4c0e8c8dbfd427fa2a96"
      }
     },
     "cd64373e75464a25bd3e7776c770e843": {
      "model_module": "@jupyter-widgets/controls",
      "model_module_version": "1.5.0",
      "model_name": "HBoxModel",
      "state": {
       "children": [
        "IPY_MODEL_67810b5943dd460a91008f254bc71f95",
        "IPY_MODEL_895cedaf7bc645f28118ef2dbb24e89d",
        "IPY_MODEL_96dbbfdd3e4a41cbbf9f10156baee203",
        "IPY_MODEL_2593697430b948fe934e59bfa5dc27ff",
        "IPY_MODEL_7ebdcc85b4384d0394f36431ead99a57",
        "IPY_MODEL_7ed02138cd214f6d902a82ac27388875",
        "IPY_MODEL_447b4314360b4d60a1d68b9e397a1d21",
        "IPY_MODEL_0c1bf4f082604fa1b68a23e25a2fb63d",
        "IPY_MODEL_020789f89d6c4ae5b336c510bb2259a6",
        "IPY_MODEL_2aaae9e26e894a8daca21f7faabbf071"
       ],
       "layout": "IPY_MODEL_f7065e05eaca49e69ad58b876aafc285"
      }
     },
     "cd8b8eaa7804472983c1cc35aabd6810": {
      "model_module": "@jupyter-widgets/base",
      "model_module_version": "1.2.0",
      "model_name": "LayoutModel",
      "state": {}
     },
     "cde6fa92e056406b9d4a4ee387b11425": {
      "model_module": "@jupyter-widgets/base",
      "model_module_version": "1.2.0",
      "model_name": "LayoutModel",
      "state": {
       "width": "10%"
      }
     },
     "ce096e3c170e492699ce13a931226a46": {
      "model_module": "@jupyter-widgets/base",
      "model_module_version": "1.2.0",
      "model_name": "LayoutModel",
      "state": {}
     },
     "ce23f43cfd204956b9b6c9ba5e1e9253": {
      "model_module": "@jupyter-widgets/controls",
      "model_module_version": "1.5.0",
      "model_name": "ButtonStyleModel",
      "state": {}
     },
     "ce3d65112b12414698bc6997aafcc971": {
      "model_module": "@jupyter-widgets/output",
      "model_module_version": "1.0.0",
      "model_name": "OutputModel",
      "state": {
       "layout": "IPY_MODEL_7c0a69d7f4c742baa000834972649f80"
      }
     },
     "ce58735e495c40f0a845d418ed1ec093": {
      "model_module": "@jupyter-widgets/controls",
      "model_module_version": "1.5.0",
      "model_name": "VBoxModel",
      "state": {
       "children": [
        "IPY_MODEL_e7ed18716deb45c09d4f7f2f7390450d",
        "IPY_MODEL_f95c549c4bb749a19120f391b8712146"
       ],
       "layout": "IPY_MODEL_fdc5904c27a2426d8f1c73929e4546fc"
      }
     },
     "ced92a3196af4dae919a431d684131f1": {
      "model_module": "@jupyter-widgets/output",
      "model_module_version": "1.0.0",
      "model_name": "OutputModel",
      "state": {
       "layout": "IPY_MODEL_b5d0268add354bfab1353097604c4b4f"
      }
     },
     "cedee47314e748ffbc6225c298aacde6": {
      "model_module": "@jupyter-widgets/controls",
      "model_module_version": "1.5.0",
      "model_name": "ButtonModel",
      "state": {
       "description": "2",
       "layout": "IPY_MODEL_e1273b8871fe4d3e8f3629c338f2ff77",
       "style": "IPY_MODEL_bf34450a66fc40fb90a88d6649499ee0"
      }
     },
     "cef15dabfb094d6594e04e849b43fbb9": {
      "model_module": "@jupyter-widgets/base",
      "model_module_version": "1.2.0",
      "model_name": "LayoutModel",
      "state": {
       "width": "95%"
      }
     },
     "cefb90f94fac4a1687e4ac0b6d1311e0": {
      "model_module": "@jupyter-widgets/base",
      "model_module_version": "1.2.0",
      "model_name": "LayoutModel",
      "state": {}
     },
     "cefdfb0016a6406794e9964686e17c59": {
      "model_module": "@jupyter-widgets/controls",
      "model_module_version": "1.5.0",
      "model_name": "ButtonModel",
      "state": {
       "description": "3",
       "layout": "IPY_MODEL_5c112133c43c43f4a70804011d214182",
       "style": "IPY_MODEL_8596f23833c244e49c29e8a208e1d3a2"
      }
     },
     "cf165d1b022d488a87604dee642824bf": {
      "model_module": "@jupyter-widgets/output",
      "model_module_version": "1.0.0",
      "model_name": "OutputModel",
      "state": {
       "layout": "IPY_MODEL_997a3854595241f4a39fb7dc9212c8c3"
      }
     },
     "cf3bb971d6234881babafcc22fbf7d58": {
      "model_module": "@jupyter-widgets/output",
      "model_module_version": "1.0.0",
      "model_name": "OutputModel",
      "state": {
       "layout": "IPY_MODEL_171f3d9325264abc8c1f3e92586cce25"
      }
     },
     "cf74110409a1412c92572c868c65f30f": {
      "model_module": "@jupyter-widgets/base",
      "model_module_version": "1.2.0",
      "model_name": "LayoutModel",
      "state": {}
     },
     "cf80f66d50ba48bdaf250579f9acb76a": {
      "model_module": "@jupyter-widgets/output",
      "model_module_version": "1.0.0",
      "model_name": "OutputModel",
      "state": {
       "layout": "IPY_MODEL_c84406ea74434383ba7c0701a10345fd"
      }
     },
     "cf86510e92f945428dad8c4b473ac2a6": {
      "model_module": "@jupyter-widgets/base",
      "model_module_version": "1.2.0",
      "model_name": "LayoutModel",
      "state": {
       "justify_content": "space-between"
      }
     },
     "cfbbefe7f297478c96eb00dbfcc7eb66": {
      "model_module": "@jupyter-widgets/base",
      "model_module_version": "1.2.0",
      "model_name": "LayoutModel",
      "state": {}
     },
     "cfbbfdf5f8c04312b65ef5f1e7e30bf0": {
      "model_module": "@jupyter-widgets/controls",
      "model_module_version": "1.5.0",
      "model_name": "ButtonStyleModel",
      "state": {}
     },
     "cfe6d61def854ee3b16e43a52725d97a": {
      "model_module": "@jupyter-widgets/base",
      "model_module_version": "1.2.0",
      "model_name": "LayoutModel",
      "state": {}
     },
     "cfec892fde3b4b3cb7730ef0a242c867": {
      "model_module": "@jupyter-widgets/controls",
      "model_module_version": "1.5.0",
      "model_name": "VBoxModel",
      "state": {
       "children": [
        "IPY_MODEL_60d11bd041d745ada1f08ba97be8f3e1",
        "IPY_MODEL_ee513455372d426b9920b54238861bc8"
       ],
       "layout": "IPY_MODEL_280b7e4d33114eca82828173195cd75a"
      }
     },
     "cffa0253132841dd9780128fc2d0c5cb": {
      "model_module": "@jupyter-widgets/base",
      "model_module_version": "1.2.0",
      "model_name": "LayoutModel",
      "state": {}
     },
     "cffe590cd96c40dea39f56f22273faca": {
      "model_module": "@jupyter-widgets/controls",
      "model_module_version": "1.5.0",
      "model_name": "ButtonStyleModel",
      "state": {}
     },
     "d0182b491ff64c28af312a80b2b45fa7": {
      "model_module": "@jupyter-widgets/controls",
      "model_module_version": "1.5.0",
      "model_name": "HBoxModel",
      "state": {
       "children": [
        "IPY_MODEL_3768d751c9c646908a8bddd908badc67",
        "IPY_MODEL_af9fe92eb01c448da408e9ec2f3b37f7"
       ],
       "layout": "IPY_MODEL_ffe96317bf3c4b84815b3c312dd9ba4a"
      }
     },
     "d02e85cc996d429f9d9c6bae655d5fbb": {
      "model_module": "@jupyter-widgets/base",
      "model_module_version": "1.2.0",
      "model_name": "LayoutModel",
      "state": {
       "width": "95%"
      }
     },
     "d06eec382a604471b2455910f8ed20f9": {
      "model_module": "@jupyter-widgets/base",
      "model_module_version": "1.2.0",
      "model_name": "LayoutModel",
      "state": {
       "width": "95%"
      }
     },
     "d07d3e668fa346eaa75dac6727e667e2": {
      "model_module": "@jupyter-widgets/base",
      "model_module_version": "1.2.0",
      "model_name": "LayoutModel",
      "state": {}
     },
     "d0a103b91e9e4cc19cce48b990d2c2a5": {
      "model_module": "@jupyter-widgets/base",
      "model_module_version": "1.2.0",
      "model_name": "LayoutModel",
      "state": {}
     },
     "d0b546d1e5f642df8b6a37f6e4bee439": {
      "model_module": "@jupyter-widgets/controls",
      "model_module_version": "1.5.0",
      "model_name": "ButtonModel",
      "state": {
       "description": "4",
       "layout": "IPY_MODEL_17a1b92208414d6cbae7e7b3bac66dea",
       "style": "IPY_MODEL_c7a340ea11574895999b955397ad6bcb"
      }
     },
     "d0ec070ae8434ee390a13348df77a110": {
      "model_module": "@jupyter-widgets/controls",
      "model_module_version": "1.5.0",
      "model_name": "VBoxModel",
      "state": {
       "children": [
        "IPY_MODEL_688bf2de57064da981768d40fd67bd20",
        "IPY_MODEL_62ffd7f6d1a944c9b7e70ab8c9b683a3"
       ],
       "layout": "IPY_MODEL_6bbb37b558f241d8a4a9604dcdf32363"
      }
     },
     "d0fa810844424aae87d84cdce726a590": {
      "model_module": "@jupyter-widgets/controls",
      "model_module_version": "1.5.0",
      "model_name": "ButtonStyleModel",
      "state": {}
     },
     "d0fb589720c2417e9534b23251710434": {
      "model_module": "@jupyter-widgets/controls",
      "model_module_version": "1.5.0",
      "model_name": "ButtonStyleModel",
      "state": {}
     },
     "d10c4f46883b47baab7a102ddb44aa23": {
      "model_module": "@jupyter-widgets/controls",
      "model_module_version": "1.5.0",
      "model_name": "VBoxModel",
      "state": {
       "children": [
        "IPY_MODEL_382ca0d041f049e0ae635e5651cfc951",
        "IPY_MODEL_7d4bea1598ee43b1937450472bbde4e3"
       ],
       "layout": "IPY_MODEL_9ac26d935f954f4380fcebb1baeac01e"
      }
     },
     "d10eef9eb03e4eda974644da7d11f1bc": {
      "model_module": "@jupyter-widgets/base",
      "model_module_version": "1.2.0",
      "model_name": "LayoutModel",
      "state": {
       "width": "95%"
      }
     },
     "d11d4c58253248f3be55dc7476b5c829": {
      "model_module": "@jupyter-widgets/output",
      "model_module_version": "1.0.0",
      "model_name": "OutputModel",
      "state": {
       "layout": "IPY_MODEL_b28a7d221a504cb293e46f578b6d87ea"
      }
     },
     "d16430dd5a744e44b5baf968d537bb53": {
      "model_module": "@jupyter-widgets/base",
      "model_module_version": "1.2.0",
      "model_name": "LayoutModel",
      "state": {}
     },
     "d174b9c418c541f3a4c20314206256b3": {
      "model_module": "@jupyter-widgets/base",
      "model_module_version": "1.2.0",
      "model_name": "LayoutModel",
      "state": {
       "width": "10%"
      }
     },
     "d1862333573f4c9eb7377a5b611fb34f": {
      "model_module": "@jupyter-widgets/output",
      "model_module_version": "1.0.0",
      "model_name": "OutputModel",
      "state": {
       "layout": "IPY_MODEL_e90882da6b124babb80b1ad4e3e00dbf"
      }
     },
     "d1adcf2a1bcb41df96af99faec07197e": {
      "model_module": "@jupyter-widgets/controls",
      "model_module_version": "1.5.0",
      "model_name": "ButtonModel",
      "state": {
       "description": "3",
       "layout": "IPY_MODEL_e6e8dc71539a4e55974181d391633b3e",
       "style": "IPY_MODEL_73092a5f510243668aa5ae44f865c43d"
      }
     },
     "d1bee720672a49b688b4915d25dffec4": {
      "model_module": "@jupyter-widgets/base",
      "model_module_version": "1.2.0",
      "model_name": "LayoutModel",
      "state": {
       "width": "95%"
      }
     },
     "d1dadbdcce624702b94d3efdfa62ffe9": {
      "model_module": "@jupyter-widgets/base",
      "model_module_version": "1.2.0",
      "model_name": "LayoutModel",
      "state": {
       "width": "95%"
      }
     },
     "d1e68d44e00742afbd73614c55a03867": {
      "model_module": "@jupyter-widgets/base",
      "model_module_version": "1.2.0",
      "model_name": "LayoutModel",
      "state": {}
     },
     "d1fd7758798644ceb1cee417160c064a": {
      "model_module": "@jupyter-widgets/output",
      "model_module_version": "1.0.0",
      "model_name": "OutputModel",
      "state": {
       "layout": "IPY_MODEL_0738f11cd166456b93c5df78082e839f"
      }
     },
     "d2007625f575407a826a95e55e1dd3ef": {
      "model_module": "@jupyter-widgets/output",
      "model_module_version": "1.0.0",
      "model_name": "OutputModel",
      "state": {
       "layout": "IPY_MODEL_d7d23e2fbe884fa080610a7e12ea2a8e"
      }
     },
     "d20aa4aad22349cf87729238b329fac8": {
      "model_module": "@jupyter-widgets/controls",
      "model_module_version": "1.5.0",
      "model_name": "ButtonStyleModel",
      "state": {}
     },
     "d21f078490e6444196bce7cce50870be": {
      "model_module": "@jupyter-widgets/controls",
      "model_module_version": "1.5.0",
      "model_name": "ButtonModel",
      "state": {
       "description": "4",
       "layout": "IPY_MODEL_76edd1a3ad614ab0a5f37cb827e13cdb",
       "style": "IPY_MODEL_81eee6e268d349f3ac538e93bc8d637a"
      }
     },
     "d22cfcb2dc264bc09165c4f8d826fe6c": {
      "model_module": "@jupyter-widgets/controls",
      "model_module_version": "1.5.0",
      "model_name": "ButtonStyleModel",
      "state": {}
     },
     "d246c180200f476a86e914235eccbec8": {
      "model_module": "@jupyter-widgets/controls",
      "model_module_version": "1.5.0",
      "model_name": "ButtonModel",
      "state": {
       "description": "6",
       "layout": "IPY_MODEL_b1687748a7214adcaf5b567ec1bb79c9",
       "style": "IPY_MODEL_b62d08e877d34b1483906116d3f63254"
      }
     },
     "d26077367e8e44338eb8edec4d86e16a": {
      "model_module": "@jupyter-widgets/controls",
      "model_module_version": "1.5.0",
      "model_name": "ButtonModel",
      "state": {
       "description": "2",
       "layout": "IPY_MODEL_1803c79b22254ee6972b4a4a146d7887",
       "style": "IPY_MODEL_e3daff419e334068a09c19743593326e"
      }
     },
     "d26c135f067e4300ba152b5b97d285be": {
      "model_module": "@jupyter-widgets/controls",
      "model_module_version": "1.5.0",
      "model_name": "ButtonStyleModel",
      "state": {}
     },
     "d28355eb52044bc9a881dabcd4a0a4a7": {
      "model_module": "@jupyter-widgets/controls",
      "model_module_version": "1.5.0",
      "model_name": "ButtonStyleModel",
      "state": {}
     },
     "d2f68e32835d44eb85b65e92f634c3a3": {
      "model_module": "@jupyter-widgets/controls",
      "model_module_version": "1.5.0",
      "model_name": "ButtonStyleModel",
      "state": {}
     },
     "d30822f038d74b1f9a6b0fd9873c7565": {
      "model_module": "@jupyter-widgets/controls",
      "model_module_version": "1.5.0",
      "model_name": "HBoxModel",
      "state": {
       "children": [
        "IPY_MODEL_b021573946a54d1bb2b939c571ba41e9",
        "IPY_MODEL_eeb4d6172f01447897fb332b41caa05d"
       ],
       "layout": "IPY_MODEL_0466415c0a304eeb8729dee468062082"
      }
     },
     "d356cfd5c0c44ddb94b0af5f804d1538": {
      "model_module": "@jupyter-widgets/controls",
      "model_module_version": "1.5.0",
      "model_name": "ButtonStyleModel",
      "state": {}
     },
     "d36db25a16cb4f2dbf66cfc371fae019": {
      "model_module": "@jupyter-widgets/base",
      "model_module_version": "1.2.0",
      "model_name": "LayoutModel",
      "state": {
       "width": "10%"
      }
     },
     "d3833fee34f0417bb92c1c180248d3b8": {
      "model_module": "@jupyter-widgets/base",
      "model_module_version": "1.2.0",
      "model_name": "LayoutModel",
      "state": {}
     },
     "d3bcf89a34f24eb7936951b6e4f67809": {
      "model_module": "@jupyter-widgets/controls",
      "model_module_version": "1.5.0",
      "model_name": "VBoxModel",
      "state": {
       "children": [
        "IPY_MODEL_93c3e0672c17419fa9adb15061b520f3",
        "IPY_MODEL_f0d6bd5a2fcd4865a44f86094291bf40"
       ],
       "layout": "IPY_MODEL_1ca8f3bdc46f40d5b73dd1324b5839ed"
      }
     },
     "d3e7e9a4cbcc435dadc771ae9550db7b": {
      "model_module": "@jupyter-widgets/controls",
      "model_module_version": "1.5.0",
      "model_name": "ButtonModel",
      "state": {
       "description": "1",
       "layout": "IPY_MODEL_d7abffa00fcf4a84b257d8c699f9cabf",
       "style": "IPY_MODEL_be389a97074745518eb9f127999d1580"
      }
     },
     "d3fa3fe2d4814676864e594b9861d3ef": {
      "model_module": "@jupyter-widgets/output",
      "model_module_version": "1.0.0",
      "model_name": "OutputModel",
      "state": {
       "layout": "IPY_MODEL_1ce6a10ddc81453483e13b5fbe791933"
      }
     },
     "d4299d16acb544239fb8a3037ba4fad6": {
      "model_module": "@jupyter-widgets/output",
      "model_module_version": "1.0.0",
      "model_name": "OutputModel",
      "state": {
       "layout": "IPY_MODEL_42158b55204c417e95241b30362b71ed"
      }
     },
     "d4351ba6ed344ffe9288263a40c75bfe": {
      "model_module": "@jupyter-widgets/controls",
      "model_module_version": "1.5.0",
      "model_name": "ButtonStyleModel",
      "state": {}
     },
     "d438a17830354264b2c516ff97850927": {
      "model_module": "@jupyter-widgets/base",
      "model_module_version": "1.2.0",
      "model_name": "LayoutModel",
      "state": {
       "width": "95%"
      }
     },
     "d4457b84388d4485a6637f6c3cab0984": {
      "model_module": "@jupyter-widgets/controls",
      "model_module_version": "1.5.0",
      "model_name": "VBoxModel",
      "state": {
       "children": [
        "IPY_MODEL_7adee81085e741b380285cd8ae80d894",
        "IPY_MODEL_d8a3142290d5407d9684aba78bdfaf69"
       ],
       "layout": "IPY_MODEL_50bdabe2ec8344019aca4bb2348f7ee3"
      }
     },
     "d46a8a0005f44b7e9940932c5fde849a": {
      "model_module": "@jupyter-widgets/base",
      "model_module_version": "1.2.0",
      "model_name": "LayoutModel",
      "state": {
       "width": "95%"
      }
     },
     "d4755d7125a541988681b9179a962e63": {
      "model_module": "@jupyter-widgets/controls",
      "model_module_version": "1.5.0",
      "model_name": "ButtonModel",
      "state": {
       "description": "0",
       "layout": "IPY_MODEL_f3124950d0924c6eadba05b6808a26b0",
       "style": "IPY_MODEL_3be682e20f1244319230690b437769f8"
      }
     },
     "d4c833a6dce84125b5217869a0f20280": {
      "model_module": "@jupyter-widgets/base",
      "model_module_version": "1.2.0",
      "model_name": "LayoutModel",
      "state": {}
     },
     "d4d121fd38ca42d79f1507b8138eb1dd": {
      "model_module": "@jupyter-widgets/base",
      "model_module_version": "1.2.0",
      "model_name": "LayoutModel",
      "state": {
       "width": "95%"
      }
     },
     "d4f964d0ea2e45c988c02fabea39e0f5": {
      "model_module": "@jupyter-widgets/base",
      "model_module_version": "1.2.0",
      "model_name": "LayoutModel",
      "state": {
       "width": "10%"
      }
     },
     "d4fa7da64ffb46acb80650a8b23f672d": {
      "model_module": "@jupyter-widgets/base",
      "model_module_version": "1.2.0",
      "model_name": "LayoutModel",
      "state": {
       "width": "10%"
      }
     },
     "d5591b2a45c24ecaaf9af2b230bb2d87": {
      "model_module": "@jupyter-widgets/controls",
      "model_module_version": "1.5.0",
      "model_name": "ButtonModel",
      "state": {
       "description": "2",
       "layout": "IPY_MODEL_ff0589ead48748fd99d9b712a17fa5db",
       "style": "IPY_MODEL_8509fa792c3e4c5197214701e7b8c6f8"
      }
     },
     "d569ef20adf048859338b7cc96551b4f": {
      "model_module": "@jupyter-widgets/controls",
      "model_module_version": "1.5.0",
      "model_name": "ButtonStyleModel",
      "state": {}
     },
     "d56ea48b879447edae842e26faa460a0": {
      "model_module": "@jupyter-widgets/base",
      "model_module_version": "1.2.0",
      "model_name": "LayoutModel",
      "state": {}
     },
     "d578731765a74de3ac266deca3ef3a1c": {
      "model_module": "@jupyter-widgets/controls",
      "model_module_version": "1.5.0",
      "model_name": "ButtonModel",
      "state": {
       "description": "0",
       "layout": "IPY_MODEL_5863cddf88904e02b68d541c24bef3b1",
       "style": "IPY_MODEL_4416b47e1e1b4f0aa2e6ed0be090b2cd"
      }
     },
     "d593439d31f1468eab45f4b0718ba4fb": {
      "model_module": "@jupyter-widgets/base",
      "model_module_version": "1.2.0",
      "model_name": "LayoutModel",
      "state": {
       "width": "95%"
      }
     },
     "d5def7c4ec0344378b3f5e30545f4087": {
      "model_module": "@jupyter-widgets/controls",
      "model_module_version": "1.5.0",
      "model_name": "HBoxModel",
      "state": {
       "children": [
        "IPY_MODEL_f5d66cc349a14b2fbe624b6c37da9935",
        "IPY_MODEL_ff8c61323dd244cc9505332dc36a52f3",
        "IPY_MODEL_3e57cd1155694cb599adebbd26b37f5a",
        "IPY_MODEL_aab56caa94b54c8f87d743332ad226db",
        "IPY_MODEL_ed09d510b8e14fd19a7df3891de5e062",
        "IPY_MODEL_289d1fc6295b431dba258a6176970d2c",
        "IPY_MODEL_a613d3271e4841448901c5ef9222a527",
        "IPY_MODEL_b9d51f5432ed405aaf92229fb2832088",
        "IPY_MODEL_0d15642f272545f9aaa34ceedae4f121",
        "IPY_MODEL_9adeaf57c1834d099a88e275b70629d2"
       ],
       "layout": "IPY_MODEL_93b816534ff84f598096d4486a05c7c0"
      }
     },
     "d5df6864268a4c04b68687af118fc709": {
      "model_module": "@jupyter-widgets/controls",
      "model_module_version": "1.5.0",
      "model_name": "ButtonStyleModel",
      "state": {}
     },
     "d5e269785c894a50a07354e7623ee7b8": {
      "model_module": "@jupyter-widgets/base",
      "model_module_version": "1.2.0",
      "model_name": "LayoutModel",
      "state": {
       "width": "10%"
      }
     },
     "d5ebf7c0f9d94387b09213eb151a322e": {
      "model_module": "@jupyter-widgets/controls",
      "model_module_version": "1.5.0",
      "model_name": "ButtonStyleModel",
      "state": {}
     },
     "d5fef0787c88425995088a58d55ce1f0": {
      "model_module": "@jupyter-widgets/base",
      "model_module_version": "1.2.0",
      "model_name": "LayoutModel",
      "state": {
       "width": "95%"
      }
     },
     "d601e676c42445878b1ca13dcedd07ee": {
      "model_module": "@jupyter-widgets/output",
      "model_module_version": "1.0.0",
      "model_name": "OutputModel",
      "state": {
       "layout": "IPY_MODEL_bb11458e57ce475aa07e604f13f997c9"
      }
     },
     "d602d86408d1430d8d28827f722e8f68": {
      "model_module": "@jupyter-widgets/base",
      "model_module_version": "1.2.0",
      "model_name": "LayoutModel",
      "state": {
       "width": "95%"
      }
     },
     "d62f134ae98b4ee69a2c64b1ac1d072e": {
      "model_module": "@jupyter-widgets/controls",
      "model_module_version": "1.5.0",
      "model_name": "ButtonStyleModel",
      "state": {}
     },
     "d643c70983f34b6492e29507af587180": {
      "model_module": "@jupyter-widgets/base",
      "model_module_version": "1.2.0",
      "model_name": "LayoutModel",
      "state": {
       "width": "10%"
      }
     },
     "d65ef86ac12640788aa55710b742b06d": {
      "model_module": "@jupyter-widgets/controls",
      "model_module_version": "1.5.0",
      "model_name": "TextModel",
      "state": {
       "description": "Other:",
       "layout": "IPY_MODEL_5f7aabae6abd43dd818cdae08ad8abb2",
       "placeholder": "Hit enter to submit.",
       "style": "IPY_MODEL_598f042056664425bdaeec1c06c90bc6"
      }
     },
     "d664f16f548c41579b372caaf855e445": {
      "model_module": "@jupyter-widgets/base",
      "model_module_version": "1.2.0",
      "model_name": "LayoutModel",
      "state": {
       "width": "95%"
      }
     },
     "d668c56c1e1d4e9ab418c1582ebacf6f": {
      "model_module": "@jupyter-widgets/base",
      "model_module_version": "1.2.0",
      "model_name": "LayoutModel",
      "state": {
       "width": "95%"
      }
     },
     "d66aa9a62f514f1c9d8bbfd207fc445d": {
      "model_module": "@jupyter-widgets/controls",
      "model_module_version": "1.5.0",
      "model_name": "ButtonModel",
      "state": {
       "description": "9",
       "layout": "IPY_MODEL_c424ffcc7e9a4ed3aff095534f92cd8a",
       "style": "IPY_MODEL_f945902a655b49da93155469333241b8"
      }
     },
     "d67f61dfc65c4d2dbdc9f840e4454c34": {
      "model_module": "@jupyter-widgets/controls",
      "model_module_version": "1.5.0",
      "model_name": "HBoxModel",
      "state": {
       "children": [
        "IPY_MODEL_3b5dae8f51124758adb10fcbe5de479e",
        "IPY_MODEL_130ee82d16404331be27eb3ac54a48ad"
       ],
       "layout": "IPY_MODEL_cf86510e92f945428dad8c4b473ac2a6"
      }
     },
     "d6b303b049e743e1a9cf2b1fcea05186": {
      "model_module": "@jupyter-widgets/base",
      "model_module_version": "1.2.0",
      "model_name": "LayoutModel",
      "state": {
       "width": "95%"
      }
     },
     "d73fbf9d8905422093357e40971dc2f9": {
      "model_module": "@jupyter-widgets/controls",
      "model_module_version": "1.5.0",
      "model_name": "ButtonModel",
      "state": {
       "description": "1",
       "layout": "IPY_MODEL_306ebca95279429697b2ab85ae19aef6",
       "style": "IPY_MODEL_8a8f4ba5f466427682e0cc73edc8d775"
      }
     },
     "d75c565f430b4b46ac8151382520e02b": {
      "model_module": "@jupyter-widgets/controls",
      "model_module_version": "1.5.0",
      "model_name": "VBoxModel",
      "state": {
       "children": [
        "IPY_MODEL_5709e4f70a524fe4b0b491aaf660d3bc",
        "IPY_MODEL_457f07890ac9447b8e48073eb5889e98"
       ],
       "layout": "IPY_MODEL_1bea00d37eed4c848385ba20d2602269"
      }
     },
     "d76fc549061449749e008fc6145dcdf9": {
      "model_module": "@jupyter-widgets/controls",
      "model_module_version": "1.5.0",
      "model_name": "TextModel",
      "state": {
       "description": "Other:",
       "layout": "IPY_MODEL_257921acb0b841f898ba3278c8ea17f5",
       "placeholder": "Hit enter to submit.",
       "style": "IPY_MODEL_740719d3196142de86a07cd7ebc49e0d"
      }
     },
     "d7abffa00fcf4a84b257d8c699f9cabf": {
      "model_module": "@jupyter-widgets/base",
      "model_module_version": "1.2.0",
      "model_name": "LayoutModel",
      "state": {
       "width": "95%"
      }
     },
     "d7ae7030f8564ee2a747aa37398e05f2": {
      "model_module": "@jupyter-widgets/output",
      "model_module_version": "1.0.0",
      "model_name": "OutputModel",
      "state": {
       "layout": "IPY_MODEL_d800add0531c4cc180c5a36c573e86dc"
      }
     },
     "d7d23e2fbe884fa080610a7e12ea2a8e": {
      "model_module": "@jupyter-widgets/base",
      "model_module_version": "1.2.0",
      "model_name": "LayoutModel",
      "state": {}
     },
     "d7d9abc8fb55471e9504b5ca1827e480": {
      "model_module": "@jupyter-widgets/controls",
      "model_module_version": "1.5.0",
      "model_name": "ButtonModel",
      "state": {
       "description": "4",
       "layout": "IPY_MODEL_8f90a223f67b4c33ab7952df12ea40fe",
       "style": "IPY_MODEL_b82f7b1be115404d95010d8db50a7edf"
      }
     },
     "d7e2163579e34af399d5550f2bb65025": {
      "model_module": "@jupyter-widgets/base",
      "model_module_version": "1.2.0",
      "model_name": "LayoutModel",
      "state": {
       "width": "10%"
      }
     },
     "d800add0531c4cc180c5a36c573e86dc": {
      "model_module": "@jupyter-widgets/base",
      "model_module_version": "1.2.0",
      "model_name": "LayoutModel",
      "state": {}
     },
     "d8011f0c1259429bad3132456be8378a": {
      "model_module": "@jupyter-widgets/base",
      "model_module_version": "1.2.0",
      "model_name": "LayoutModel",
      "state": {
       "width": "10%"
      }
     },
     "d857dc6091df409292b08a148861730d": {
      "model_module": "@jupyter-widgets/controls",
      "model_module_version": "1.5.0",
      "model_name": "ButtonModel",
      "state": {
       "description": "3",
       "layout": "IPY_MODEL_9b589c297b044a0998e9be8d58e294c6",
       "style": "IPY_MODEL_f59ca2c920c645cd9f15737cfd7d6c2c"
      }
     },
     "d85e7a9a1ff34771a1669d5954991518": {
      "model_module": "@jupyter-widgets/output",
      "model_module_version": "1.0.0",
      "model_name": "OutputModel",
      "state": {
       "layout": "IPY_MODEL_be135f6c18bc46e9a1fb65736d53ebf5"
      }
     },
     "d877aab7d82241a3af9d7b9360cf5d7c": {
      "model_module": "@jupyter-widgets/controls",
      "model_module_version": "1.5.0",
      "model_name": "ButtonStyleModel",
      "state": {}
     },
     "d8a3142290d5407d9684aba78bdfaf69": {
      "model_module": "@jupyter-widgets/output",
      "model_module_version": "1.0.0",
      "model_name": "OutputModel",
      "state": {
       "layout": "IPY_MODEL_1f90e3bc37984dcfbc24379b9bfc0613"
      }
     },
     "d8a780031f564807b4ba9a430b3f75fb": {
      "model_module": "@jupyter-widgets/base",
      "model_module_version": "1.2.0",
      "model_name": "LayoutModel",
      "state": {
       "width": "95%"
      }
     },
     "d8b73f7f4081488fb4f0988cb596e9db": {
      "model_module": "@jupyter-widgets/output",
      "model_module_version": "1.0.0",
      "model_name": "OutputModel",
      "state": {
       "layout": "IPY_MODEL_14942c8978a44dbeb1e440910ff73a6c"
      }
     },
     "d8b7c2174201400c8c599a5adcf178b4": {
      "model_module": "@jupyter-widgets/controls",
      "model_module_version": "1.5.0",
      "model_name": "ButtonModel",
      "state": {
       "description": "2",
       "layout": "IPY_MODEL_d4d121fd38ca42d79f1507b8138eb1dd",
       "style": "IPY_MODEL_bf124379e2fb4c10b99e648d8986dc1b"
      }
     },
     "d8d1ceb9eec44d998eaa368034b4568d": {
      "model_module": "@jupyter-widgets/base",
      "model_module_version": "1.2.0",
      "model_name": "LayoutModel",
      "state": {
       "width": "95%"
      }
     },
     "d909cef8bd3d4be8871e82d0cd702762": {
      "model_module": "@jupyter-widgets/base",
      "model_module_version": "1.2.0",
      "model_name": "LayoutModel",
      "state": {
       "width": "10%"
      }
     },
     "d90b3b734d964adeb1c5cf432201dcbc": {
      "model_module": "@jupyter-widgets/controls",
      "model_module_version": "1.5.0",
      "model_name": "VBoxModel",
      "state": {
       "children": [
        "IPY_MODEL_c08ec746ef0c4f2e8ee8aa52ec5efadf",
        "IPY_MODEL_0c3f52329f674afd9ec44b3287b2f6a7"
       ],
       "layout": "IPY_MODEL_1d942be6246b498eb9ebe39699254349"
      }
     },
     "d932916ff2794d2c86e0c49716f0a394": {
      "model_module": "@jupyter-widgets/controls",
      "model_module_version": "1.5.0",
      "model_name": "ButtonStyleModel",
      "state": {}
     },
     "d938c234594b4a399791405bc6c0f341": {
      "model_module": "@jupyter-widgets/controls",
      "model_module_version": "1.5.0",
      "model_name": "ButtonStyleModel",
      "state": {}
     },
     "d965803cec9748bf9c2d573c01373d6b": {
      "model_module": "@jupyter-widgets/controls",
      "model_module_version": "1.5.0",
      "model_name": "VBoxModel",
      "state": {
       "children": [
        "IPY_MODEL_fd9789e59e654d9b81981748e64d5fa0",
        "IPY_MODEL_885b8eb339bb4d7bae77d333d88c48a9"
       ],
       "layout": "IPY_MODEL_abd67dc5ffb14c5fbae491e764c7dec8"
      }
     },
     "d96e36eb042f4930a93c8fa1bd797735": {
      "model_module": "@jupyter-widgets/controls",
      "model_module_version": "1.5.0",
      "model_name": "VBoxModel",
      "state": {
       "children": [
        "IPY_MODEL_404bb098fffa4add8b567535aff16b9f",
        "IPY_MODEL_33fcdc5adba4469fa80927d7fcdac60e"
       ],
       "layout": "IPY_MODEL_c4914bb1bbdd4e508caf164dab186632"
      }
     },
     "d990e0e892614d50ad67b0ec23d87bef": {
      "model_module": "@jupyter-widgets/controls",
      "model_module_version": "1.5.0",
      "model_name": "VBoxModel",
      "state": {
       "children": [
        "IPY_MODEL_f9bc363a4f314765834b5f11f75ef6fd",
        "IPY_MODEL_49ae65e3ffe245d6a6b561772b7743e9"
       ],
       "layout": "IPY_MODEL_e4889620cbc14c97a30b25798ab1c191"
      }
     },
     "d9af1fd85fd9429a8d444888ae4514d2": {
      "model_module": "@jupyter-widgets/controls",
      "model_module_version": "1.5.0",
      "model_name": "ButtonModel",
      "state": {
       "description": "6",
       "layout": "IPY_MODEL_bee338a00cf945b397426be5fbb655a9",
       "style": "IPY_MODEL_e3508fd8d84b45a79dcebd6452e3a647"
      }
     },
     "d9afbcdea8b94d278bff6997404dfb35": {
      "model_module": "@jupyter-widgets/base",
      "model_module_version": "1.2.0",
      "model_name": "LayoutModel",
      "state": {
       "width": "95%"
      }
     },
     "d9b5a683bcfe4ed5a776bfc383199024": {
      "model_module": "@jupyter-widgets/controls",
      "model_module_version": "1.5.0",
      "model_name": "ButtonModel",
      "state": {
       "description": "9",
       "layout": "IPY_MODEL_7e07b04fcc8b4a519f30434430c78168",
       "style": "IPY_MODEL_f802860429ad4c97a84150fdecabc4ac"
      }
     },
     "d9c50fb058cc48f9b495239113ffbd14": {
      "model_module": "@jupyter-widgets/output",
      "model_module_version": "1.0.0",
      "model_name": "OutputModel",
      "state": {
       "layout": "IPY_MODEL_6b170a9b76d7419bb7d4c17f63a55078"
      }
     },
     "d9c8b5bc32b74743a4965049c051ebf8": {
      "model_module": "@jupyter-widgets/base",
      "model_module_version": "1.2.0",
      "model_name": "LayoutModel",
      "state": {
       "width": "95%"
      }
     },
     "d9cfe4baf94e47dcb93f50364a02bb42": {
      "model_module": "@jupyter-widgets/controls",
      "model_module_version": "1.5.0",
      "model_name": "VBoxModel",
      "state": {
       "children": [
        "IPY_MODEL_7cfd6f98926e447c9ecd00078882f41d",
        "IPY_MODEL_aa1a8a9e0de64a3a9c8aaa68b7ca19a2"
       ],
       "layout": "IPY_MODEL_add70a0f6cdb428abfe76ff90f366a5e"
      }
     },
     "d9ec77b66de244f8937664139662217f": {
      "model_module": "@jupyter-widgets/base",
      "model_module_version": "1.2.0",
      "model_name": "LayoutModel",
      "state": {
       "justify_content": "space-between"
      }
     },
     "da058b5d530649bb8a7965b447f90b51": {
      "model_module": "@jupyter-widgets/controls",
      "model_module_version": "1.5.0",
      "model_name": "ButtonStyleModel",
      "state": {}
     },
     "da6c5d11973644a883a5f9e63308917f": {
      "model_module": "@jupyter-widgets/base",
      "model_module_version": "1.2.0",
      "model_name": "LayoutModel",
      "state": {
       "width": "95%"
      }
     },
     "da9df8cf1f8d42168f6fbe4e97627260": {
      "model_module": "@jupyter-widgets/base",
      "model_module_version": "1.2.0",
      "model_name": "LayoutModel",
      "state": {
       "width": "10%"
      }
     },
     "daa210164c54487ba043433e478eecd5": {
      "model_module": "@jupyter-widgets/controls",
      "model_module_version": "1.5.0",
      "model_name": "ButtonModel",
      "state": {
       "description": "0",
       "layout": "IPY_MODEL_54803da54eeb4624b2d3a3ec7e6ce468",
       "style": "IPY_MODEL_8445f40b490242a3bb44ac6f52ce1eb2"
      }
     },
     "dae2c20bab35466e9d23c20e5da9439d": {
      "model_module": "@jupyter-widgets/base",
      "model_module_version": "1.2.0",
      "model_name": "LayoutModel",
      "state": {
       "width": "95%"
      }
     },
     "dae8d287c0c5428e8f16325a2542f6b2": {
      "model_module": "@jupyter-widgets/base",
      "model_module_version": "1.2.0",
      "model_name": "LayoutModel",
      "state": {}
     },
     "dafd36d44a6a4a82a8418d199c4ed2bb": {
      "model_module": "@jupyter-widgets/output",
      "model_module_version": "1.0.0",
      "model_name": "OutputModel",
      "state": {
       "layout": "IPY_MODEL_5bdd8715737c4906bbd4f272d4f86dfb"
      }
     },
     "db33619bd70948bfac57cafc6f46729e": {
      "model_module": "@jupyter-widgets/base",
      "model_module_version": "1.2.0",
      "model_name": "LayoutModel",
      "state": {
       "width": "95%"
      }
     },
     "db4a3c60fe474e8194a35bf00f8abea7": {
      "model_module": "@jupyter-widgets/output",
      "model_module_version": "1.0.0",
      "model_name": "OutputModel",
      "state": {
       "layout": "IPY_MODEL_6de0b3079b4b40278729a7bc26feaf89"
      }
     },
     "db4ab7c4517b4b1983a7d060ea3f62aa": {
      "model_module": "@jupyter-widgets/controls",
      "model_module_version": "1.5.0",
      "model_name": "VBoxModel",
      "state": {
       "children": [
        "IPY_MODEL_2cc73725fc004596bbb6bfdd6f8d4387",
        "IPY_MODEL_4e2b0e0696bd479eab30b5e23abcca3a"
       ],
       "layout": "IPY_MODEL_31b23b375c3d4faebc6ee67734530d14"
      }
     },
     "db5e61d6d867442d9af4943c50012355": {
      "model_module": "@jupyter-widgets/base",
      "model_module_version": "1.2.0",
      "model_name": "LayoutModel",
      "state": {}
     },
     "dba8fa37fddc4b41821c0e3ded6581ef": {
      "model_module": "@jupyter-widgets/base",
      "model_module_version": "1.2.0",
      "model_name": "LayoutModel",
      "state": {
       "justify_content": "space-between"
      }
     },
     "dbb733abfa464a75ab8ae21aab5fa369": {
      "model_module": "@jupyter-widgets/controls",
      "model_module_version": "1.5.0",
      "model_name": "HBoxModel",
      "state": {
       "children": [
        "IPY_MODEL_6c952eb0f1b54b9dadcadfa946a2002b",
        "IPY_MODEL_8b60e974c52144e78f2fbdc5f144637d",
        "IPY_MODEL_385e9ad881f348458ec60b63a600a814",
        "IPY_MODEL_01280483d03641a0b54084bae0fa9616",
        "IPY_MODEL_c47e110c3c4d452d83bb969767fb8476",
        "IPY_MODEL_f9d8d0d72421488c87cb4c105aa5303b",
        "IPY_MODEL_e60fd5841aff47a791ecddf7f0a8726c",
        "IPY_MODEL_4f30044e3aa440a8b3cbc9eb4572e4d3",
        "IPY_MODEL_ca591b1ecc69495d9dac91a719993bbf",
        "IPY_MODEL_a8d9646784844cfd92ee256c9375f889"
       ],
       "layout": "IPY_MODEL_24c5e994856647c9a591a15025a85de4"
      }
     },
     "dbd62185f1c141f2812c29ff3ae05749": {
      "model_module": "@jupyter-widgets/controls",
      "model_module_version": "1.5.0",
      "model_name": "VBoxModel",
      "state": {
       "children": [
        "IPY_MODEL_11ca73563135479bb7c91a807999a219",
        "IPY_MODEL_83ed646d5c594a32a2fc54753b5417e2"
       ],
       "layout": "IPY_MODEL_90ae7a42229943dfbaa56bee6c2f11a1"
      }
     },
     "dc0ae5fa064e460fad58161de3b31b70": {
      "model_module": "@jupyter-widgets/controls",
      "model_module_version": "1.5.0",
      "model_name": "ButtonStyleModel",
      "state": {}
     },
     "dc199f4ca2894980be3f9896867be1c7": {
      "model_module": "@jupyter-widgets/base",
      "model_module_version": "1.2.0",
      "model_name": "LayoutModel",
      "state": {}
     },
     "dc1ec4ec52d34b518679cb249b2d2006": {
      "model_module": "@jupyter-widgets/controls",
      "model_module_version": "1.5.0",
      "model_name": "ButtonModel",
      "state": {
       "description": "5",
       "layout": "IPY_MODEL_81a7d1632a7f4fb3ac694227423a9126",
       "style": "IPY_MODEL_e4a316df80c34eeeb33856043d77479e"
      }
     },
     "dc288ef45205407cb2b8d41815017d35": {
      "model_module": "@jupyter-widgets/base",
      "model_module_version": "1.2.0",
      "model_name": "LayoutModel",
      "state": {}
     },
     "dc364c5d78de4accb84312cabd5e6c2e": {
      "model_module": "@jupyter-widgets/controls",
      "model_module_version": "1.5.0",
      "model_name": "ButtonModel",
      "state": {
       "description": "1",
       "layout": "IPY_MODEL_f5b713b066414465bfd5c0385a231d09",
       "style": "IPY_MODEL_b9df5b8935f442c28d8cb6602341b3be"
      }
     },
     "dc3a8fa3e0a047f6af892528c7a33293": {
      "model_module": "@jupyter-widgets/base",
      "model_module_version": "1.2.0",
      "model_name": "LayoutModel",
      "state": {}
     },
     "dc46d50e11844c9a98ba363555f9d455": {
      "model_module": "@jupyter-widgets/base",
      "model_module_version": "1.2.0",
      "model_name": "LayoutModel",
      "state": {
       "width": "95%"
      }
     },
     "dc59c773620e435487e647922c3ae8ce": {
      "model_module": "@jupyter-widgets/base",
      "model_module_version": "1.2.0",
      "model_name": "LayoutModel",
      "state": {}
     },
     "dc6b509965e2425da0bc2104d7040383": {
      "model_module": "@jupyter-widgets/controls",
      "model_module_version": "1.5.0",
      "model_name": "ButtonModel",
      "state": {
       "description": "9",
       "layout": "IPY_MODEL_00a8330f7b3e453395c2622ee1ba69fd",
       "style": "IPY_MODEL_8daf2522f0774ec0ae6ad77dfac61954"
      }
     },
     "dc6fb94d58744a79a85cc43dc54eacd3": {
      "model_module": "@jupyter-widgets/base",
      "model_module_version": "1.2.0",
      "model_name": "LayoutModel",
      "state": {}
     },
     "dc88199540ef488a99087a12b651319e": {
      "model_module": "@jupyter-widgets/controls",
      "model_module_version": "1.5.0",
      "model_name": "ButtonStyleModel",
      "state": {}
     },
     "dc8fcbc71b2242f39952f0464e10952d": {
      "model_module": "@jupyter-widgets/controls",
      "model_module_version": "1.5.0",
      "model_name": "VBoxModel",
      "state": {
       "children": [
        "IPY_MODEL_50501318d7694bb5ba38add41c5d6b0a",
        "IPY_MODEL_fcd2ce7302864f53b51142e247cd898f"
       ],
       "layout": "IPY_MODEL_e0f39b96988f47b4a9bb47a495a45ea3"
      }
     },
     "dc924ce779fe461eadddb59c44d5be6c": {
      "model_module": "@jupyter-widgets/output",
      "model_module_version": "1.0.0",
      "model_name": "OutputModel",
      "state": {
       "layout": "IPY_MODEL_8b3b4a2714a9466aaeea48ca0916a0fc"
      }
     },
     "dcb7d4d06cd349db8214371e89a7ffae": {
      "model_module": "@jupyter-widgets/controls",
      "model_module_version": "1.5.0",
      "model_name": "VBoxModel",
      "state": {
       "children": [
        "IPY_MODEL_509ac3d1e07846a08fecfc525f9a050c",
        "IPY_MODEL_5e6f35935d6d40f3b883e8a3a7e57a55"
       ],
       "layout": "IPY_MODEL_aa2ce770da94415ea7ae423652d1b173"
      }
     },
     "dcc75aabab0e465b8c92a8eb53a9afab": {
      "model_module": "@jupyter-widgets/controls",
      "model_module_version": "1.5.0",
      "model_name": "ButtonStyleModel",
      "state": {}
     },
     "dcdb28ab7f3e4f43897b2af4e103d7f4": {
      "model_module": "@jupyter-widgets/base",
      "model_module_version": "1.2.0",
      "model_name": "LayoutModel",
      "state": {
       "width": "95%"
      }
     },
     "dce73fbe0fcc4d618d8f4e6de96b2f53": {
      "model_module": "@jupyter-widgets/controls",
      "model_module_version": "1.5.0",
      "model_name": "ButtonModel",
      "state": {
       "description": "9",
       "layout": "IPY_MODEL_50421dec829342849316a1c677fe385a",
       "style": "IPY_MODEL_38bb4358dc5a466e9ee008b1f5474a33"
      }
     },
     "dceb4ce3256c442684b2e895bff42faa": {
      "model_module": "@jupyter-widgets/base",
      "model_module_version": "1.2.0",
      "model_name": "LayoutModel",
      "state": {}
     },
     "dcee94dbca9c49a59205c2d5bb033ee9": {
      "model_module": "@jupyter-widgets/output",
      "model_module_version": "1.0.0",
      "model_name": "OutputModel",
      "state": {
       "layout": "IPY_MODEL_22625eeafe57428baa9218ddfd75576b"
      }
     },
     "dcfe3a140ecd47d5b3783c7114643187": {
      "model_module": "@jupyter-widgets/base",
      "model_module_version": "1.2.0",
      "model_name": "LayoutModel",
      "state": {
       "width": "10%"
      }
     },
     "dd0d4f7f6ac94155a0581666663a1569": {
      "model_module": "@jupyter-widgets/controls",
      "model_module_version": "1.5.0",
      "model_name": "ButtonStyleModel",
      "state": {}
     },
     "dd1020c9040842dda38fe29331ba5397": {
      "model_module": "@jupyter-widgets/controls",
      "model_module_version": "1.5.0",
      "model_name": "HBoxModel",
      "state": {
       "children": [
        "IPY_MODEL_ea515f6ab0fb4c8fa83df8e40b2a12b3",
        "IPY_MODEL_b5071a727cb4429ab5846a1b5e1e9269",
        "IPY_MODEL_0d1325c707c8443cadea347f7b556f0b"
       ],
       "layout": "IPY_MODEL_825f4b69fef14220b808b32517c20c28"
      }
     },
     "dd28f8e925cb4cfcb6255604ef49e9f5": {
      "model_module": "@jupyter-widgets/base",
      "model_module_version": "1.2.0",
      "model_name": "LayoutModel",
      "state": {}
     },
     "dd3022f5cf304edcad9134344fb65193": {
      "model_module": "@jupyter-widgets/controls",
      "model_module_version": "1.5.0",
      "model_name": "ButtonStyleModel",
      "state": {}
     },
     "dd32d3e1a75642f3875f3ecab86fe4c0": {
      "model_module": "@jupyter-widgets/output",
      "model_module_version": "1.0.0",
      "model_name": "OutputModel",
      "state": {
       "layout": "IPY_MODEL_bb6916f03d1f41158f802c12d9c8d521"
      }
     },
     "dd68f29367d641e88bf6694a41d9ece7": {
      "model_module": "@jupyter-widgets/base",
      "model_module_version": "1.2.0",
      "model_name": "LayoutModel",
      "state": {
       "width": "95%"
      }
     },
     "dd7ea9bb25f048518131d4f39fdd88f5": {
      "model_module": "@jupyter-widgets/base",
      "model_module_version": "1.2.0",
      "model_name": "LayoutModel",
      "state": {
       "width": "95%"
      }
     },
     "dd84cf185c9645ef905c619abb9167d5": {
      "model_module": "@jupyter-widgets/controls",
      "model_module_version": "1.5.0",
      "model_name": "VBoxModel",
      "state": {
       "children": [
        "IPY_MODEL_0d75a91c06c44b31a46d50ad9ce9795f",
        "IPY_MODEL_1dd616e8fd9c4033bc2a2232467b0978"
       ],
       "layout": "IPY_MODEL_37e7595b13254cefa417e026144656fd"
      }
     },
     "dd864f32b7e8475b83c9c596505bb9de": {
      "model_module": "@jupyter-widgets/base",
      "model_module_version": "1.2.0",
      "model_name": "LayoutModel",
      "state": {
       "width": "95%"
      }
     },
     "dd9971537bfb4ac3a0908058f52dac86": {
      "model_module": "@jupyter-widgets/base",
      "model_module_version": "1.2.0",
      "model_name": "LayoutModel",
      "state": {}
     },
     "ddb5d005ed13423f82410c66ada33b7c": {
      "model_module": "@jupyter-widgets/controls",
      "model_module_version": "1.5.0",
      "model_name": "HBoxModel",
      "state": {
       "children": [
        "IPY_MODEL_71fb373e3b1b4ca39ef65fede16fb9c9",
        "IPY_MODEL_620a77bece044cb0a84d9be2125e6523"
       ],
       "layout": "IPY_MODEL_5bb4941c80df48298fe86e87c9a98948"
      }
     },
     "ddf6c11f8bae497cbffab8186c9c621d": {
      "model_module": "@jupyter-widgets/controls",
      "model_module_version": "1.5.0",
      "model_name": "ButtonStyleModel",
      "state": {}
     },
     "de2504c0620c45f1bbfe1a1bc9ce22f8": {
      "model_module": "@jupyter-widgets/base",
      "model_module_version": "1.2.0",
      "model_name": "LayoutModel",
      "state": {}
     },
     "de35bb9aa3b64dd39fe17b4ccd4f31ff": {
      "model_module": "@jupyter-widgets/base",
      "model_module_version": "1.2.0",
      "model_name": "LayoutModel",
      "state": {
       "width": "95%"
      }
     },
     "de40fa5375a84dd59dbcb5657ccad05b": {
      "model_module": "@jupyter-widgets/controls",
      "model_module_version": "1.5.0",
      "model_name": "HBoxModel",
      "state": {
       "children": [
        "IPY_MODEL_5ba02d0153e5413992a33356328ae55e",
        "IPY_MODEL_13e26a97c6db46f58baa1fde172f6b1e",
        "IPY_MODEL_92110b3fd097482e9d18d43310b2721b",
        "IPY_MODEL_f8cb784392374bb08c5bf65117ae8801",
        "IPY_MODEL_cbb125122c394279b5faceca5b4474e7",
        "IPY_MODEL_371f4c0d8e8e4836aa0907ea87f7202b",
        "IPY_MODEL_fb30960c43c64de089ed3731bb8920e4",
        "IPY_MODEL_30fe26ffc39a4bc3a2fd08f71ec9ec13",
        "IPY_MODEL_082f7d8d32084ba78775400ece29bc66",
        "IPY_MODEL_5e66af2eaa8b4bd781a11cabec6efdb5"
       ],
       "layout": "IPY_MODEL_2ecb3cb288e24420913dc441e90ffd49"
      }
     },
     "de43785fada348e59c4988a414083710": {
      "model_module": "@jupyter-widgets/controls",
      "model_module_version": "1.5.0",
      "model_name": "HBoxModel",
      "state": {
       "children": [
        "IPY_MODEL_ea515f6ab0fb4c8fa83df8e40b2a12b3",
        "IPY_MODEL_b5071a727cb4429ab5846a1b5e1e9269",
        "IPY_MODEL_0d1325c707c8443cadea347f7b556f0b"
       ],
       "layout": "IPY_MODEL_de63eb6d008d49c9b35f1ea2ce6af922"
      }
     },
     "de437e4b64bd47f1b3ba91715636d683": {
      "model_module": "@jupyter-widgets/base",
      "model_module_version": "1.2.0",
      "model_name": "LayoutModel",
      "state": {
       "width": "10%"
      }
     },
     "de63eb6d008d49c9b35f1ea2ce6af922": {
      "model_module": "@jupyter-widgets/base",
      "model_module_version": "1.2.0",
      "model_name": "LayoutModel",
      "state": {}
     },
     "de7612a4ab6f4f0786bd89b414bcf98e": {
      "model_module": "@jupyter-widgets/base",
      "model_module_version": "1.2.0",
      "model_name": "LayoutModel",
      "state": {
       "width": "10%"
      }
     },
     "de77b0a63e1448148c3ff7190d101087": {
      "model_module": "@jupyter-widgets/controls",
      "model_module_version": "1.5.0",
      "model_name": "ButtonModel",
      "state": {
       "description": "6",
       "layout": "IPY_MODEL_b83126e6ab514955a725a6d0178e2fdb",
       "style": "IPY_MODEL_ccff67fa6e9f478c90385018a05b6d83"
      }
     },
     "de790e001bf64188b55de95b9b64e805": {
      "model_module": "@jupyter-widgets/base",
      "model_module_version": "1.2.0",
      "model_name": "LayoutModel",
      "state": {}
     },
     "de9507cc37344f42b71a5cfdc2f6124a": {
      "model_module": "@jupyter-widgets/base",
      "model_module_version": "1.2.0",
      "model_name": "LayoutModel",
      "state": {}
     },
     "de9ff929a8ee4187b97376ab4ddb38a1": {
      "model_module": "@jupyter-widgets/controls",
      "model_module_version": "1.5.0",
      "model_name": "ButtonModel",
      "state": {
       "description": "5",
       "layout": "IPY_MODEL_d593439d31f1468eab45f4b0718ba4fb",
       "style": "IPY_MODEL_1af72997db484e41a719e0aaaba4f123"
      }
     },
     "dec57734057c4462b95fb922d67b7592": {
      "model_module": "@jupyter-widgets/base",
      "model_module_version": "1.2.0",
      "model_name": "LayoutModel",
      "state": {}
     },
     "dece09c2a50a4a0d83bcdb933a1845e8": {
      "model_module": "@jupyter-widgets/base",
      "model_module_version": "1.2.0",
      "model_name": "LayoutModel",
      "state": {}
     },
     "deed232d49694e7c9f6831773b9feeea": {
      "model_module": "@jupyter-widgets/controls",
      "model_module_version": "1.5.0",
      "model_name": "VBoxModel",
      "state": {
       "children": [
        "IPY_MODEL_fb054a767e8f449591658994b418bf94",
        "IPY_MODEL_ec812c79a8d343069c8a749843a509fd"
       ],
       "layout": "IPY_MODEL_114ddb99e8ef4d9096c9753d8aba42d0"
      }
     },
     "df273ff8d68040a18877c4824dc3b587": {
      "model_module": "@jupyter-widgets/controls",
      "model_module_version": "1.5.0",
      "model_name": "ButtonStyleModel",
      "state": {}
     },
     "df2775a03faa4264a4ff1efe71300b2b": {
      "model_module": "@jupyter-widgets/controls",
      "model_module_version": "1.5.0",
      "model_name": "ButtonModel",
      "state": {
       "description": "5",
       "layout": "IPY_MODEL_9fb69def06034003ab44023032603b14",
       "style": "IPY_MODEL_07b9e5258b71448387d42d09b7544efa"
      }
     },
     "df2e90f892524a8da285c471e97d22e5": {
      "model_module": "@jupyter-widgets/controls",
      "model_module_version": "1.5.0",
      "model_name": "VBoxModel",
      "state": {
       "children": [
        "IPY_MODEL_a335fded122c49c298f48587c5894d4a",
        "IPY_MODEL_9ed900a9bd86458c934c91b6f8d5ac72"
       ],
       "layout": "IPY_MODEL_b9f582768f22491fb85b8e3028f28c41"
      }
     },
     "df37cd78b3a14ee18aac05a08d01543c": {
      "model_module": "@jupyter-widgets/base",
      "model_module_version": "1.2.0",
      "model_name": "LayoutModel",
      "state": {}
     },
     "df489352d01b448b8e991d2df262f59b": {
      "model_module": "@jupyter-widgets/base",
      "model_module_version": "1.2.0",
      "model_name": "LayoutModel",
      "state": {}
     },
     "df57bb24c96e4d80b8249d53da65ac7f": {
      "model_module": "@jupyter-widgets/controls",
      "model_module_version": "1.5.0",
      "model_name": "ButtonStyleModel",
      "state": {}
     },
     "df5a9cc695624f47b3859baa82300223": {
      "model_module": "@jupyter-widgets/controls",
      "model_module_version": "1.5.0",
      "model_name": "VBoxModel",
      "state": {
       "children": [
        "IPY_MODEL_7d2ffcfcd9434b12bbb94a820dcec30a",
        "IPY_MODEL_823e2ee79c6e420599af125ff3d9aeb3"
       ],
       "layout": "IPY_MODEL_9dcdc93a858045dba0983e06f767bcb1"
      }
     },
     "df60c504e8cd461198567d9e133fe735": {
      "model_module": "@jupyter-widgets/controls",
      "model_module_version": "1.5.0",
      "model_name": "VBoxModel",
      "state": {
       "children": [
        "IPY_MODEL_6deb60b3282545eb8d29bb42911b0942",
        "IPY_MODEL_27b5f2d4910a4ecabbb8c505eea3da09"
       ],
       "layout": "IPY_MODEL_de7612a4ab6f4f0786bd89b414bcf98e"
      }
     },
     "df880977f65646e8bf726161d40a35cd": {
      "model_module": "@jupyter-widgets/output",
      "model_module_version": "1.0.0",
      "model_name": "OutputModel",
      "state": {
       "layout": "IPY_MODEL_9a9c6f717baa4175870c73dc9a0cd7b8"
      }
     },
     "df98068116de4d1da0104ff9844fbd6c": {
      "model_module": "@jupyter-widgets/output",
      "model_module_version": "1.0.0",
      "model_name": "OutputModel",
      "state": {
       "layout": "IPY_MODEL_ab7fcd3058a2490e83a5d4aaeb527de8"
      }
     },
     "dfad2b3f5dc24ed1933d6134a232761e": {
      "model_module": "@jupyter-widgets/base",
      "model_module_version": "1.2.0",
      "model_name": "LayoutModel",
      "state": {
       "width": "95%"
      }
     },
     "dfb5a40027dc4c578f0c7b18a2d4133e": {
      "model_module": "@jupyter-widgets/base",
      "model_module_version": "1.2.0",
      "model_name": "LayoutModel",
      "state": {
       "width": "10%"
      }
     },
     "dfc236db4c8b4bda9748026356b537c4": {
      "model_module": "@jupyter-widgets/base",
      "model_module_version": "1.2.0",
      "model_name": "LayoutModel",
      "state": {
       "width": "95%"
      }
     },
     "dffbea7a518a4653810be4bc4787143e": {
      "model_module": "@jupyter-widgets/base",
      "model_module_version": "1.2.0",
      "model_name": "LayoutModel",
      "state": {
       "justify_content": "space-between"
      }
     },
     "e019f2f7fb1e4481bdd0404aaae42b02": {
      "model_module": "@jupyter-widgets/controls",
      "model_module_version": "1.5.0",
      "model_name": "ButtonModel",
      "state": {
       "description": "6",
       "layout": "IPY_MODEL_00910b0bf2844940811309186a06d97d",
       "style": "IPY_MODEL_ec8602cebc6a4b699ecae60dbbe76d51"
      }
     },
     "e02fd1e8e96c4de4a2ed425bd602b3e4": {
      "model_module": "@jupyter-widgets/base",
      "model_module_version": "1.2.0",
      "model_name": "LayoutModel",
      "state": {
       "width": "95%"
      }
     },
     "e0319d0ea8414d5c927f802aba58a964": {
      "model_module": "@jupyter-widgets/controls",
      "model_module_version": "1.5.0",
      "model_name": "VBoxModel",
      "state": {
       "children": [
        "IPY_MODEL_39e0fbbf80464fcb86575b6a4f7ef3cd",
        "IPY_MODEL_b26b0cd8b27246edbe5b245f2637c6b0"
       ],
       "layout": "IPY_MODEL_08eb1084a2144aef8fd783440e8b9bf6"
      }
     },
     "e0521d4b38c84ed9bcf02fa33692175f": {
      "model_module": "@jupyter-widgets/controls",
      "model_module_version": "1.5.0",
      "model_name": "VBoxModel",
      "state": {
       "children": [
        "IPY_MODEL_d4755d7125a541988681b9179a962e63",
        "IPY_MODEL_706478f8f91747db804aca07ac593c80"
       ],
       "layout": "IPY_MODEL_c3b7b9545c9547419a27758c1cfe114b"
      }
     },
     "e079e1b34b0a42e5abd6da7c082433ec": {
      "model_module": "@jupyter-widgets/base",
      "model_module_version": "1.2.0",
      "model_name": "LayoutModel",
      "state": {
       "width": "10%"
      }
     },
     "e08132723fe6403581420a0f4147b214": {
      "model_module": "@jupyter-widgets/controls",
      "model_module_version": "1.5.0",
      "model_name": "VBoxModel",
      "state": {
       "children": [
        "IPY_MODEL_b7fde393b08c42feae42496623396a84",
        "IPY_MODEL_dc924ce779fe461eadddb59c44d5be6c"
       ],
       "layout": "IPY_MODEL_5754ecfb3f9f4950a846e8bbea5c370d"
      }
     },
     "e09f403ad74b4b399ba589033daa00ef": {
      "model_module": "@jupyter-widgets/controls",
      "model_module_version": "1.5.0",
      "model_name": "ButtonModel",
      "state": {
       "description": "6",
       "layout": "IPY_MODEL_5df78af8553d4018852c6b33fb3a1612",
       "style": "IPY_MODEL_6fe24bb8f4af462bbe1ea0b3782c381b"
      }
     },
     "e0f17bfef6aa4b7a9357826cb09c4aa6": {
      "model_module": "@jupyter-widgets/base",
      "model_module_version": "1.2.0",
      "model_name": "LayoutModel",
      "state": {}
     },
     "e0f39b96988f47b4a9bb47a495a45ea3": {
      "model_module": "@jupyter-widgets/base",
      "model_module_version": "1.2.0",
      "model_name": "LayoutModel",
      "state": {
       "width": "10%"
      }
     },
     "e10bb35a53794a64a49c4fcc78f97085": {
      "model_module": "@jupyter-widgets/base",
      "model_module_version": "1.2.0",
      "model_name": "LayoutModel",
      "state": {}
     },
     "e1273b8871fe4d3e8f3629c338f2ff77": {
      "model_module": "@jupyter-widgets/base",
      "model_module_version": "1.2.0",
      "model_name": "LayoutModel",
      "state": {
       "width": "95%"
      }
     },
     "e13aa63116d44c79ba77398964159e66": {
      "model_module": "@jupyter-widgets/controls",
      "model_module_version": "1.5.0",
      "model_name": "ButtonStyleModel",
      "state": {}
     },
     "e17257e307714e59acf4dec04934e0b1": {
      "model_module": "@jupyter-widgets/base",
      "model_module_version": "1.2.0",
      "model_name": "LayoutModel",
      "state": {}
     },
     "e17ac4ad746e45ac838c3c3b6bac40fa": {
      "model_module": "@jupyter-widgets/base",
      "model_module_version": "1.2.0",
      "model_name": "LayoutModel",
      "state": {}
     },
     "e1d8db48c5c1412cadbd1ccae923ecab": {
      "model_module": "@jupyter-widgets/base",
      "model_module_version": "1.2.0",
      "model_name": "LayoutModel",
      "state": {}
     },
     "e1d9d8b2daeb4cd599c4f7914f9a31ed": {
      "model_module": "@jupyter-widgets/controls",
      "model_module_version": "1.5.0",
      "model_name": "ButtonStyleModel",
      "state": {}
     },
     "e201e5bebb61453c9e3bbc55fa270a9d": {
      "model_module": "@jupyter-widgets/controls",
      "model_module_version": "1.5.0",
      "model_name": "ButtonModel",
      "state": {
       "description": "6",
       "layout": "IPY_MODEL_f4bd4d664fc94d339690229962ffebc2",
       "style": "IPY_MODEL_9c2def1d2f164256918ea53c07a8f0b1"
      }
     },
     "e2417418ed1341d69b90e7c8c588310e": {
      "model_module": "@jupyter-widgets/controls",
      "model_module_version": "1.5.0",
      "model_name": "ButtonStyleModel",
      "state": {}
     },
     "e24d21c06ce44bceb89fff4279407d18": {
      "model_module": "@jupyter-widgets/output",
      "model_module_version": "1.0.0",
      "model_name": "OutputModel",
      "state": {
       "layout": "IPY_MODEL_857f013a20e24788b1fc9fad8d9c8068"
      }
     },
     "e2967c5e7b584296a537861cd1f48a97": {
      "model_module": "@jupyter-widgets/output",
      "model_module_version": "1.0.0",
      "model_name": "OutputModel",
      "state": {
       "layout": "IPY_MODEL_e92b6a93c7ba4635b19f40ff7ece6ebb"
      }
     },
     "e297ce77932a46a4b10ce6116e2db3e4": {
      "model_module": "@jupyter-widgets/controls",
      "model_module_version": "1.5.0",
      "model_name": "ButtonModel",
      "state": {
       "description": "9",
       "layout": "IPY_MODEL_38c3da07aeb745a099af4972482c7d3a",
       "style": "IPY_MODEL_16167649d20042429ef73b3e0aedfc1b"
      }
     },
     "e2cd34b011bd44258771b04ed16a7149": {
      "model_module": "@jupyter-widgets/base",
      "model_module_version": "1.2.0",
      "model_name": "LayoutModel",
      "state": {
       "width": "10%"
      }
     },
     "e2f15d624f9d453284b8c12f6b5e916e": {
      "model_module": "@jupyter-widgets/controls",
      "model_module_version": "1.5.0",
      "model_name": "HBoxModel",
      "state": {
       "children": [
        "IPY_MODEL_ea515f6ab0fb4c8fa83df8e40b2a12b3",
        "IPY_MODEL_b5071a727cb4429ab5846a1b5e1e9269",
        "IPY_MODEL_0d1325c707c8443cadea347f7b556f0b"
       ],
       "layout": "IPY_MODEL_bec37c42aee94f2ea3cddd98197eb0e8"
      }
     },
     "e30c86a87352430c9e98eaf52c46eb7c": {
      "model_module": "@jupyter-widgets/controls",
      "model_module_version": "1.5.0",
      "model_name": "VBoxModel",
      "state": {
       "children": [
        "IPY_MODEL_3ba72a8d4f0a41b1864b8bbc79034114",
        "IPY_MODEL_cf3bb971d6234881babafcc22fbf7d58"
       ],
       "layout": "IPY_MODEL_86523b5cc7c3429999cc3c8a76299196"
      }
     },
     "e310289d72fe4749849907686bf6d5cf": {
      "model_module": "@jupyter-widgets/controls",
      "model_module_version": "1.5.0",
      "model_name": "ButtonModel",
      "state": {
       "description": "1",
       "layout": "IPY_MODEL_07ad6cf60518485a81cb057ffa4db923",
       "style": "IPY_MODEL_6868c7ba842f4a0982e73c6bf20915aa"
      }
     },
     "e3508fd8d84b45a79dcebd6452e3a647": {
      "model_module": "@jupyter-widgets/controls",
      "model_module_version": "1.5.0",
      "model_name": "ButtonStyleModel",
      "state": {}
     },
     "e3675101ade94d24a8121ca52db03ff4": {
      "model_module": "@jupyter-widgets/output",
      "model_module_version": "1.0.0",
      "model_name": "OutputModel",
      "state": {
       "layout": "IPY_MODEL_6364457848014a1380d536d747b95e72"
      }
     },
     "e3758634698b4d148601baf47ecd6f5f": {
      "model_module": "@jupyter-widgets/output",
      "model_module_version": "1.0.0",
      "model_name": "OutputModel",
      "state": {
       "layout": "IPY_MODEL_af01df5971dc47f881155a1f4bf297eb"
      }
     },
     "e399151936bb4e51a0875b5420a591af": {
      "model_module": "@jupyter-widgets/controls",
      "model_module_version": "1.5.0",
      "model_name": "ButtonModel",
      "state": {
       "description": "4",
       "layout": "IPY_MODEL_3ddf34f3f0284373b88f0cd7790deb77",
       "style": "IPY_MODEL_0b9ec48d1493401b91a176f185afd1d9"
      }
     },
     "e39e176c63024226b45b5af6b392f63b": {
      "model_module": "@jupyter-widgets/base",
      "model_module_version": "1.2.0",
      "model_name": "LayoutModel",
      "state": {}
     },
     "e39e31861da54d51a3f50a9ed8da5239": {
      "model_module": "@jupyter-widgets/base",
      "model_module_version": "1.2.0",
      "model_name": "LayoutModel",
      "state": {}
     },
     "e3cdc40b0d084db0b3e8c233fbce192f": {
      "model_module": "@jupyter-widgets/base",
      "model_module_version": "1.2.0",
      "model_name": "LayoutModel",
      "state": {
       "width": "10%"
      }
     },
     "e3daff419e334068a09c19743593326e": {
      "model_module": "@jupyter-widgets/controls",
      "model_module_version": "1.5.0",
      "model_name": "ButtonStyleModel",
      "state": {}
     },
     "e3dbf60a7afb4b1eae3330777630b0f5": {
      "model_module": "@jupyter-widgets/base",
      "model_module_version": "1.2.0",
      "model_name": "LayoutModel",
      "state": {
       "width": "95%"
      }
     },
     "e3edee381c65453e8a0fe4380451cbd9": {
      "model_module": "@jupyter-widgets/base",
      "model_module_version": "1.2.0",
      "model_name": "LayoutModel",
      "state": {}
     },
     "e3f9b00241314fdbbbab47b1c65ef446": {
      "model_module": "@jupyter-widgets/output",
      "model_module_version": "1.0.0",
      "model_name": "OutputModel",
      "state": {
       "layout": "IPY_MODEL_0b84c42864d34e9296ee314e2cf0323c"
      }
     },
     "e45b2257831a48ad894b7afbdc8dc228": {
      "model_module": "@jupyter-widgets/base",
      "model_module_version": "1.2.0",
      "model_name": "LayoutModel",
      "state": {
       "width": "10%"
      }
     },
     "e46474aec1c143029df0e194e81e35ef": {
      "model_module": "@jupyter-widgets/base",
      "model_module_version": "1.2.0",
      "model_name": "LayoutModel",
      "state": {}
     },
     "e4889620cbc14c97a30b25798ab1c191": {
      "model_module": "@jupyter-widgets/base",
      "model_module_version": "1.2.0",
      "model_name": "LayoutModel",
      "state": {
       "width": "10%"
      }
     },
     "e49830f99edf419292d0430c96b25bf7": {
      "model_module": "@jupyter-widgets/controls",
      "model_module_version": "1.5.0",
      "model_name": "ButtonModel",
      "state": {
       "description": "0",
       "layout": "IPY_MODEL_29872bec128045a0b646688cdeac6cff",
       "style": "IPY_MODEL_0f1f482b3a564aabb0b4ce335c8c1427"
      }
     },
     "e49b463893c94a0094642b7ca3e922b2": {
      "model_module": "@jupyter-widgets/base",
      "model_module_version": "1.2.0",
      "model_name": "LayoutModel",
      "state": {}
     },
     "e4a316df80c34eeeb33856043d77479e": {
      "model_module": "@jupyter-widgets/controls",
      "model_module_version": "1.5.0",
      "model_name": "ButtonStyleModel",
      "state": {}
     },
     "e4b6ec46228349118fddce8ae5a551e9": {
      "model_module": "@jupyter-widgets/controls",
      "model_module_version": "1.5.0",
      "model_name": "ButtonStyleModel",
      "state": {}
     },
     "e4b7b1fd797240e1a135d603a25743a0": {
      "model_module": "@jupyter-widgets/output",
      "model_module_version": "1.0.0",
      "model_name": "OutputModel",
      "state": {
       "layout": "IPY_MODEL_20cf29987f984b369e2f5565914615a9"
      }
     },
     "e4c2b8ddcebd4770b2c9373d221f1137": {
      "model_module": "@jupyter-widgets/controls",
      "model_module_version": "1.5.0",
      "model_name": "HBoxModel",
      "state": {
       "children": [
        "IPY_MODEL_756a8f899fc34206995862755650032d",
        "IPY_MODEL_a39445b978dc430aa6865ea60d788a70",
        "IPY_MODEL_072fbb73d701462baf7f598342616c5a",
        "IPY_MODEL_851f7805ba2048feb03e274eefd7d0a2",
        "IPY_MODEL_79065f66c5b94c96b0e2a0907fb26cf0",
        "IPY_MODEL_80c723bf733341d29823ed1f1902a49e",
        "IPY_MODEL_f5c6d8a301ae41a092bb5fb204868c08",
        "IPY_MODEL_c28cc8a45132427b98b678db7d448a8d",
        "IPY_MODEL_b975886218e944faa34d68dc2388abc7",
        "IPY_MODEL_cc61299b0cb14e758eaf12da51ef7237"
       ],
       "layout": "IPY_MODEL_dc3a8fa3e0a047f6af892528c7a33293"
      }
     },
     "e4cda295ad684d2cb7e8ca1143d40b33": {
      "model_module": "@jupyter-widgets/controls",
      "model_module_version": "1.5.0",
      "model_name": "VBoxModel",
      "state": {
       "children": [
        "IPY_MODEL_7b53ee22842f4e4ba59255ae37df0e29",
        "IPY_MODEL_0dcf5f092aa546faace3af857eb4fc92"
       ],
       "layout": "IPY_MODEL_9d18a51374d54766abb1267487b0dd81"
      }
     },
     "e4d69af0ac4144c5ae654e9821bacb86": {
      "model_module": "@jupyter-widgets/base",
      "model_module_version": "1.2.0",
      "model_name": "LayoutModel",
      "state": {
       "width": "95%"
      }
     },
     "e4fb4cb43cd7496bb7e9780020569c35": {
      "model_module": "@jupyter-widgets/output",
      "model_module_version": "1.0.0",
      "model_name": "OutputModel",
      "state": {
       "layout": "IPY_MODEL_0d03a4f1978e4c53a769ffaec09a203f"
      }
     },
     "e50397b87e1f4e9e838bdd547d9fad4f": {
      "model_module": "@jupyter-widgets/controls",
      "model_module_version": "1.5.0",
      "model_name": "VBoxModel",
      "state": {
       "children": [
        "IPY_MODEL_cb3b16c4704b4c9380d3ff1aceb8ea69",
        "IPY_MODEL_16cddf5d1b4d4eaa8c9a7c64df6393ca"
       ],
       "layout": "IPY_MODEL_a343bdc584a94ee9bb6005ca6fe966bf"
      }
     },
     "e50f01983a60465ea8b4bad882fcf314": {
      "model_module": "@jupyter-widgets/controls",
      "model_module_version": "1.5.0",
      "model_name": "HBoxModel",
      "state": {
       "children": [
        "IPY_MODEL_36a19a44bc4c4154a4db5748b61d9e6d",
        "IPY_MODEL_c22eb6c65dd6436181fe59726c6ed740"
       ],
       "layout": "IPY_MODEL_275643a3bbd8435bbbd8d87689c5c728"
      }
     },
     "e520968cf00a42dda2d3b913dd154aad": {
      "model_module": "@jupyter-widgets/output",
      "model_module_version": "1.0.0",
      "model_name": "OutputModel",
      "state": {
       "layout": "IPY_MODEL_a3238e7c03564a5a8f90ea947e7d72ec"
      }
     },
     "e52f07227a04419cac37749b7c206e2f": {
      "model_module": "@jupyter-widgets/controls",
      "model_module_version": "1.5.0",
      "model_name": "ButtonStyleModel",
      "state": {}
     },
     "e54d6dffe66246e882e25c5f95d95dbe": {
      "model_module": "@jupyter-widgets/base",
      "model_module_version": "1.2.0",
      "model_name": "LayoutModel",
      "state": {
       "width": "95%"
      }
     },
     "e5a5abda44334b48806a83ad69745be4": {
      "model_module": "@jupyter-widgets/controls",
      "model_module_version": "1.5.0",
      "model_name": "VBoxModel",
      "state": {
       "children": [
        "IPY_MODEL_62fc277c7fdc4ccabf30885292f641fe",
        "IPY_MODEL_5062f65f91324d3db8e0853b54099978"
       ],
       "layout": "IPY_MODEL_cc91bb51e6a048d084b997b8158cfeba"
      }
     },
     "e5bbf562db8d4cf6ad8b4984bdccabf2": {
      "model_module": "@jupyter-widgets/base",
      "model_module_version": "1.2.0",
      "model_name": "LayoutModel",
      "state": {
       "justify_content": "space-between"
      }
     },
     "e5c87980eca14effbc8ea8fe707bb1ec": {
      "model_module": "@jupyter-widgets/controls",
      "model_module_version": "1.5.0",
      "model_name": "VBoxModel",
      "state": {
       "children": [
        "IPY_MODEL_108daaadd03b45e5a8807ccc23e8fe80",
        "IPY_MODEL_a1d1415dbc624273b9a6243223eecedf"
       ],
       "layout": "IPY_MODEL_c700d756ad7841a1b394b1471e163ce3"
      }
     },
     "e60fd5841aff47a791ecddf7f0a8726c": {
      "model_module": "@jupyter-widgets/controls",
      "model_module_version": "1.5.0",
      "model_name": "VBoxModel",
      "state": {
       "children": [
        "IPY_MODEL_403371bd4e454c859b93502848347ec9",
        "IPY_MODEL_a078f85861b24bcda50d8d91ce9e402a"
       ],
       "layout": "IPY_MODEL_ee146a119d3542daaef2e9140b773264"
      }
     },
     "e62c6a949f564f26a50ac8389486910c": {
      "model_module": "@jupyter-widgets/controls",
      "model_module_version": "1.5.0",
      "model_name": "VBoxModel",
      "state": {
       "children": [
        "IPY_MODEL_a09ebcd2a10947a3a821b9d11ee6bbc9",
        "IPY_MODEL_a4833cfdd3994476856824bf4553aa33"
       ],
       "layout": "IPY_MODEL_d7e2163579e34af399d5550f2bb65025"
      }
     },
     "e63f6d2b73424e1cb6616bbf5a2a821a": {
      "model_module": "@jupyter-widgets/output",
      "model_module_version": "1.0.0",
      "model_name": "OutputModel",
      "state": {
       "layout": "IPY_MODEL_ad9ec0df01cc492ca6f8f2117ceddd55"
      }
     },
     "e654997e28844f67b4adc9471667ed89": {
      "model_module": "@jupyter-widgets/controls",
      "model_module_version": "1.5.0",
      "model_name": "VBoxModel",
      "state": {
       "children": [
        "IPY_MODEL_8218546174dc41aeb5ac7c330736e66d",
        "IPY_MODEL_3197d9883b814245b0e3e86c6dee8650"
       ],
       "layout": "IPY_MODEL_3708b588ae534735a9b252284a975533"
      }
     },
     "e662f84c7e79478f9cff3f3e580a5b19": {
      "model_module": "@jupyter-widgets/base",
      "model_module_version": "1.2.0",
      "model_name": "LayoutModel",
      "state": {
       "justify_content": "space-between"
      }
     },
     "e668afd24d144afab8f556b9d206d41a": {
      "model_module": "@jupyter-widgets/base",
      "model_module_version": "1.2.0",
      "model_name": "LayoutModel",
      "state": {
       "width": "10%"
      }
     },
     "e6a3b4e07a6645aabd8b783d04a2943d": {
      "model_module": "@jupyter-widgets/controls",
      "model_module_version": "1.5.0",
      "model_name": "VBoxModel",
      "state": {
       "children": [
        "IPY_MODEL_575fc05ca06a4f5b9cdfeddd0a5ac0bb",
        "IPY_MODEL_f74c5601c2e74e05a1e37faa4f89daf7"
       ],
       "layout": "IPY_MODEL_86a725fac55846ce8b7764a7ab4b9359"
      }
     },
     "e6b21d130a394337828c2a00fa2a78e5": {
      "model_module": "@jupyter-widgets/base",
      "model_module_version": "1.2.0",
      "model_name": "LayoutModel",
      "state": {
       "width": "10%"
      }
     },
     "e6bbc937eb444bfebd0b0bee4f649126": {
      "model_module": "@jupyter-widgets/base",
      "model_module_version": "1.2.0",
      "model_name": "LayoutModel",
      "state": {
       "width": "95%"
      }
     },
     "e6c0e620930148c1be5fae8feeac6865": {
      "model_module": "@jupyter-widgets/controls",
      "model_module_version": "1.5.0",
      "model_name": "TextModel",
      "state": {
       "description": "Other:",
       "layout": "IPY_MODEL_3728911967974aa893cdbf72e3269e30",
       "placeholder": "Hit enter to submit.",
       "style": "IPY_MODEL_586910a54d9f48cfb5656f53ad0b5bfd"
      }
     },
     "e6e8dc71539a4e55974181d391633b3e": {
      "model_module": "@jupyter-widgets/base",
      "model_module_version": "1.2.0",
      "model_name": "LayoutModel",
      "state": {
       "width": "95%"
      }
     },
     "e6ec9bfc95094c49acb51906f25fa8b2": {
      "model_module": "@jupyter-widgets/controls",
      "model_module_version": "1.5.0",
      "model_name": "HBoxModel",
      "state": {
       "children": [
        "IPY_MODEL_a5841af677c946a68185749510ede56a",
        "IPY_MODEL_73f4b77476214f2286d771f8d3f29906"
       ],
       "layout": "IPY_MODEL_f9493e23424a4e53a54ce8c93f30e67f"
      }
     },
     "e6ef22c3b1a54fae9c30f84c74cf87de": {
      "model_module": "@jupyter-widgets/base",
      "model_module_version": "1.2.0",
      "model_name": "LayoutModel",
      "state": {
       "width": "95%"
      }
     },
     "e70bde234f6e4dbc83dbe127f8409faf": {
      "model_module": "@jupyter-widgets/controls",
      "model_module_version": "1.5.0",
      "model_name": "ButtonStyleModel",
      "state": {}
     },
     "e70c31a88ccc4a0fb5f2ab72f4d4bb59": {
      "model_module": "@jupyter-widgets/controls",
      "model_module_version": "1.5.0",
      "model_name": "HBoxModel",
      "state": {
       "children": [
        "IPY_MODEL_dc8fcbc71b2242f39952f0464e10952d",
        "IPY_MODEL_1648a933777e4131b91265ee8f4ce525",
        "IPY_MODEL_1f18a4180319471a9d3b07821cd3589f",
        "IPY_MODEL_a29e91535d6840c99906ce55819ceb38",
        "IPY_MODEL_fc93d7e16af547668dd20507d27f538b",
        "IPY_MODEL_52590a1f58fa4ddd901e329c0591c93d",
        "IPY_MODEL_4fc44ec30d6a484ab54c6024ca3de52b",
        "IPY_MODEL_cfec892fde3b4b3cb7730ef0a242c867",
        "IPY_MODEL_14e28fac5fc9490786d6ab30fcebaf8c",
        "IPY_MODEL_17c69907745444299cfe98fc1a228cb4"
       ],
       "layout": "IPY_MODEL_288df613537541bd8bd1126e9578a950"
      }
     },
     "e71841d346aa4dfb9ce50a300f0fd292": {
      "model_module": "@jupyter-widgets/controls",
      "model_module_version": "1.5.0",
      "model_name": "ButtonStyleModel",
      "state": {}
     },
     "e75d0458d9a249529a6b63c625133d3d": {
      "model_module": "@jupyter-widgets/base",
      "model_module_version": "1.2.0",
      "model_name": "LayoutModel",
      "state": {
       "width": "10%"
      }
     },
     "e7778e270dae402ba3fdc44ff54c707b": {
      "model_module": "@jupyter-widgets/output",
      "model_module_version": "1.0.0",
      "model_name": "OutputModel",
      "state": {
       "layout": "IPY_MODEL_effd681b348f4d7d81e0c01953f1cbb2"
      }
     },
     "e7ed18716deb45c09d4f7f2f7390450d": {
      "model_module": "@jupyter-widgets/controls",
      "model_module_version": "1.5.0",
      "model_name": "ButtonModel",
      "state": {
       "description": "0",
       "layout": "IPY_MODEL_0c8a6d8e4ef0483aac62e82083cf75a7",
       "style": "IPY_MODEL_21d3ebb9d5d149198e9b5e581739fbf5"
      }
     },
     "e81e0f61b3e44e2f9cba9424bc3b3ee8": {
      "model_module": "@jupyter-widgets/controls",
      "model_module_version": "1.5.0",
      "model_name": "TextModel",
      "state": {
       "description": "Other:",
       "layout": "IPY_MODEL_f36a5fcac6534b348e1121f590a7b6b2",
       "placeholder": "Hit enter to submit.",
       "style": "IPY_MODEL_b6ab465b392d493a837f6ddf8cc7b320"
      }
     },
     "e81f6f732d25417ead7f6f601cbcd97c": {
      "model_module": "@jupyter-widgets/controls",
      "model_module_version": "1.5.0",
      "model_name": "ButtonModel",
      "state": {
       "description": "1",
       "layout": "IPY_MODEL_30e90cffe7c44262a66447632babbf72",
       "style": "IPY_MODEL_b561ffdecbba4e72967ac36135c11ab2"
      }
     },
     "e82136b569514f7594a79dcc66af44cc": {
      "model_module": "@jupyter-widgets/output",
      "model_module_version": "1.0.0",
      "model_name": "OutputModel",
      "state": {
       "layout": "IPY_MODEL_611e3372bccd441f93e9692ae17e9e18"
      }
     },
     "e865ddccc64046e4b2382107d2b739f5": {
      "model_module": "@jupyter-widgets/output",
      "model_module_version": "1.0.0",
      "model_name": "OutputModel",
      "state": {
       "layout": "IPY_MODEL_8756daaffd2b4cf1b8edb162cdf83fd9"
      }
     },
     "e8837bd2b30c47b4b0a46427c06c545f": {
      "model_module": "@jupyter-widgets/base",
      "model_module_version": "1.2.0",
      "model_name": "LayoutModel",
      "state": {}
     },
     "e892c388872d4912b6a947bfb9e3b49a": {
      "model_module": "@jupyter-widgets/output",
      "model_module_version": "1.0.0",
      "model_name": "OutputModel",
      "state": {
       "layout": "IPY_MODEL_33cd40ab85fc4b508d8bbc60f0ff4dba"
      }
     },
     "e8d589c44cf04452948e0583da18f5c1": {
      "model_module": "@jupyter-widgets/base",
      "model_module_version": "1.2.0",
      "model_name": "LayoutModel",
      "state": {
       "width": "10%"
      }
     },
     "e90882da6b124babb80b1ad4e3e00dbf": {
      "model_module": "@jupyter-widgets/base",
      "model_module_version": "1.2.0",
      "model_name": "LayoutModel",
      "state": {}
     },
     "e919e95c792a460994fdd8227feb9eaa": {
      "model_module": "@jupyter-widgets/base",
      "model_module_version": "1.2.0",
      "model_name": "LayoutModel",
      "state": {
       "width": "10%"
      }
     },
     "e921539d1eaf4097af4d07b99881f382": {
      "model_module": "@jupyter-widgets/controls",
      "model_module_version": "1.5.0",
      "model_name": "VBoxModel",
      "state": {
       "children": [
        "IPY_MODEL_8b57cc60211e4c8b8e042bc6eed593bc",
        "IPY_MODEL_fe62ef7a8ea04e41a9d4d65c2cdf62f3"
       ],
       "layout": "IPY_MODEL_78803322a4dc4f44a8214b47168546a6"
      }
     },
     "e92b6a93c7ba4635b19f40ff7ece6ebb": {
      "model_module": "@jupyter-widgets/base",
      "model_module_version": "1.2.0",
      "model_name": "LayoutModel",
      "state": {}
     },
     "e948abb8839247b2a872622adcd84e5d": {
      "model_module": "@jupyter-widgets/controls",
      "model_module_version": "1.5.0",
      "model_name": "ButtonModel",
      "state": {
       "description": "1",
       "layout": "IPY_MODEL_8447d9e7a46e4eb295cb2156525fcc90",
       "style": "IPY_MODEL_086b3a9c62f044859536f7b68137fe54"
      }
     },
     "e948f62e01e84276aee9afa5117fa6f7": {
      "model_module": "@jupyter-widgets/base",
      "model_module_version": "1.2.0",
      "model_name": "LayoutModel",
      "state": {
       "width": "10%"
      }
     },
     "e954641a608245f1a7d8fc38cc2b8c44": {
      "model_module": "@jupyter-widgets/base",
      "model_module_version": "1.2.0",
      "model_name": "LayoutModel",
      "state": {}
     },
     "e97ba1ba59d4448da91d2fe3a4722462": {
      "model_module": "@jupyter-widgets/controls",
      "model_module_version": "1.5.0",
      "model_name": "VBoxModel",
      "state": {
       "children": [
        "IPY_MODEL_21a1bc4d0a8b48388c740501c95bcae9",
        "IPY_MODEL_e98ea6980d85437eacb77c6bd747e373"
       ],
       "layout": "IPY_MODEL_e668afd24d144afab8f556b9d206d41a"
      }
     },
     "e983a690cb5944c5b3ffd0e086d81d30": {
      "model_module": "@jupyter-widgets/base",
      "model_module_version": "1.2.0",
      "model_name": "LayoutModel",
      "state": {}
     },
     "e98ea6980d85437eacb77c6bd747e373": {
      "model_module": "@jupyter-widgets/output",
      "model_module_version": "1.0.0",
      "model_name": "OutputModel",
      "state": {
       "layout": "IPY_MODEL_7cac89ae450a4a3789610192fb85c67e"
      }
     },
     "e9b213b73e0a4507b1897c50881af153": {
      "model_module": "@jupyter-widgets/controls",
      "model_module_version": "1.5.0",
      "model_name": "HBoxModel",
      "state": {
       "children": [
        "IPY_MODEL_5d5b8443a0584c12813a2acc879122c9",
        "IPY_MODEL_319734e571394815b941e6c4b4c11c0c"
       ],
       "layout": "IPY_MODEL_b6d7939a3c95481c97d7be13c741e802"
      }
     },
     "e9bdd10818e54e378b6d240f5628c986": {
      "model_module": "@jupyter-widgets/controls",
      "model_module_version": "1.5.0",
      "model_name": "ButtonStyleModel",
      "state": {}
     },
     "e9c8e6e268f846769ceff57d38d050b4": {
      "model_module": "@jupyter-widgets/controls",
      "model_module_version": "1.5.0",
      "model_name": "HBoxModel",
      "state": {
       "children": [
        "IPY_MODEL_a358db2a80064cb38b796b4cd89444d9",
        "IPY_MODEL_dd1020c9040842dda38fe29331ba5397"
       ],
       "layout": "IPY_MODEL_b832098b72c64b2abbd97556ab32bf5a"
      }
     },
     "e9cac74411744116b5f0a0530199c970": {
      "model_module": "@jupyter-widgets/base",
      "model_module_version": "1.2.0",
      "model_name": "LayoutModel",
      "state": {}
     },
     "ea0470b2f56d442499685b877dc0d9da": {
      "model_module": "@jupyter-widgets/base",
      "model_module_version": "1.2.0",
      "model_name": "LayoutModel",
      "state": {}
     },
     "ea515f6ab0fb4c8fa83df8e40b2a12b3": {
      "model_module": "@jupyter-widgets/controls",
      "model_module_version": "1.5.0",
      "model_name": "ButtonModel",
      "state": {
       "description": "Sort options",
       "icon": "sort",
       "layout": "IPY_MODEL_43254432302a4bfdac76291d63e891b7",
       "style": "IPY_MODEL_b620c64017dc4aabae7ab7784690e242"
      }
     },
     "ea74dc19149a4882b70b3e4d44ea938a": {
      "model_module": "@jupyter-widgets/output",
      "model_module_version": "1.0.0",
      "model_name": "OutputModel",
      "state": {
       "layout": "IPY_MODEL_a2cfb0cfaa1a45208fee3db535fb89a2"
      }
     },
     "ea7edf3dbe8d4a689c8caa5779e1e367": {
      "model_module": "@jupyter-widgets/base",
      "model_module_version": "1.2.0",
      "model_name": "LayoutModel",
      "state": {
       "width": "10%"
      }
     },
     "ea867f989adc49149129a37e7051c0d0": {
      "model_module": "@jupyter-widgets/base",
      "model_module_version": "1.2.0",
      "model_name": "LayoutModel",
      "state": {
       "width": "10%"
      }
     },
     "ea9dda4a99524b4e9df9021947bf38d1": {
      "model_module": "@jupyter-widgets/controls",
      "model_module_version": "1.5.0",
      "model_name": "TextModel",
      "state": {
       "description": "Other:",
       "layout": "IPY_MODEL_75bd4785ab534585a4a0e31242e28cc8",
       "placeholder": "Hit enter to submit.",
       "style": "IPY_MODEL_59be708bdd91408f90b09c55be167f42"
      }
     },
     "ea9f4de981e0493fbd923fcfe2e22a92": {
      "model_module": "@jupyter-widgets/base",
      "model_module_version": "1.2.0",
      "model_name": "LayoutModel",
      "state": {}
     },
     "eacd37c02f054a7c827728fc8ab5edb0": {
      "model_module": "@jupyter-widgets/controls",
      "model_module_version": "1.5.0",
      "model_name": "VBoxModel",
      "state": {
       "children": [
        "IPY_MODEL_b4350eb128d94dde8808de9624585358",
        "IPY_MODEL_7418e4bdd715459a9d93f3f0894fa1f1"
       ],
       "layout": "IPY_MODEL_ebb755e67851427a80d3823532f433b3"
      }
     },
     "eacdc895588347589460b3e8fd3bc24a": {
      "model_module": "@jupyter-widgets/controls",
      "model_module_version": "1.5.0",
      "model_name": "HBoxModel",
      "state": {
       "children": [
        "IPY_MODEL_c183dd1802da48d0b6fc0666653ad43f"
       ],
       "layout": "IPY_MODEL_75002e2a2a034efd9f991a8c67dcebcd"
      }
     },
     "eae268629d924f3c8931a059c05ecb50": {
      "model_module": "@jupyter-widgets/base",
      "model_module_version": "1.2.0",
      "model_name": "LayoutModel",
      "state": {
       "width": "10%"
      }
     },
     "eafa55216b8248b4be0dc5f3280f2d95": {
      "model_module": "@jupyter-widgets/base",
      "model_module_version": "1.2.0",
      "model_name": "LayoutModel",
      "state": {
       "width": "95%"
      }
     },
     "eb2f723586644f0bb9cc72a7cc1acf69": {
      "model_module": "@jupyter-widgets/base",
      "model_module_version": "1.2.0",
      "model_name": "LayoutModel",
      "state": {}
     },
     "eb532718bd234479aaff3981d5217dc3": {
      "model_module": "@jupyter-widgets/controls",
      "model_module_version": "1.5.0",
      "model_name": "ButtonStyleModel",
      "state": {}
     },
     "eb5c36a91cef4fdaa0d4fff43ea52e4a": {
      "model_module": "@jupyter-widgets/base",
      "model_module_version": "1.2.0",
      "model_name": "LayoutModel",
      "state": {
       "width": "95%"
      }
     },
     "eb5f18998e764045917cbec7b2933427": {
      "model_module": "@jupyter-widgets/controls",
      "model_module_version": "1.5.0",
      "model_name": "HBoxModel",
      "state": {
       "children": [
        "IPY_MODEL_858e15f832c446ab953e51ca77b07a65",
        "IPY_MODEL_9989f118d9004d5a998ccb1e486b9802",
        "IPY_MODEL_c20022b0eecf4003aa1bdb6cd3af1b57",
        "IPY_MODEL_bf4badb3c99a4a4c84c9598c21cca1fa",
        "IPY_MODEL_74298d2588c5414a8073e686346b73c8",
        "IPY_MODEL_5904e05de88f470cb23d1798a066f5ef",
        "IPY_MODEL_253b7916907649998fd0c611319c838c",
        "IPY_MODEL_7cd5eebd8c4e47a8bffeebce0212f694",
        "IPY_MODEL_d10c4f46883b47baab7a102ddb44aa23",
        "IPY_MODEL_caf5b18fc2344071b825c21edba86805"
       ],
       "layout": "IPY_MODEL_4187320243fa4774a54384b20fe3fac5"
      }
     },
     "eb8c6a6faaa9404a97e31fb9f1670f60": {
      "model_module": "@jupyter-widgets/base",
      "model_module_version": "1.2.0",
      "model_name": "LayoutModel",
      "state": {
       "width": "10%"
      }
     },
     "eb99d0253cb241f0a26ee93b456fab62": {
      "model_module": "@jupyter-widgets/controls",
      "model_module_version": "1.5.0",
      "model_name": "ButtonModel",
      "state": {
       "description": "4",
       "layout": "IPY_MODEL_a4f727f57a494447aadbd69856fcb662",
       "style": "IPY_MODEL_a94f8f60985845b38d4a3c32c81b389a"
      }
     },
     "ebb755e67851427a80d3823532f433b3": {
      "model_module": "@jupyter-widgets/base",
      "model_module_version": "1.2.0",
      "model_name": "LayoutModel",
      "state": {
       "width": "10%"
      }
     },
     "ec429cd7bd14421b982411d6f1b1e390": {
      "model_module": "@jupyter-widgets/controls",
      "model_module_version": "1.5.0",
      "model_name": "ButtonModel",
      "state": {
       "description": "9",
       "layout": "IPY_MODEL_f7671dfe0e8a4c828e37f9e1cb9b8788",
       "style": "IPY_MODEL_71f0f679c62f448ebf8f738e3d615c74"
      }
     },
     "ec5ff307fac04d9b9a33769d30eaf2ec": {
      "model_module": "@jupyter-widgets/base",
      "model_module_version": "1.2.0",
      "model_name": "LayoutModel",
      "state": {
       "width": "95%"
      }
     },
     "ec60d8f1afca4084a3279c5d2555aa1f": {
      "model_module": "@jupyter-widgets/controls",
      "model_module_version": "1.5.0",
      "model_name": "ButtonStyleModel",
      "state": {}
     },
     "ec664b3bb14a4c5bb659cbf8c2e8253c": {
      "model_module": "@jupyter-widgets/controls",
      "model_module_version": "1.5.0",
      "model_name": "ButtonStyleModel",
      "state": {}
     },
     "ec7c704014714cc2ae84803b12bc6df4": {
      "model_module": "@jupyter-widgets/controls",
      "model_module_version": "1.5.0",
      "model_name": "ButtonModel",
      "state": {
       "description": "0",
       "layout": "IPY_MODEL_0215b5d2521d49088b0cbab8405d9034",
       "style": "IPY_MODEL_5f5e9d842ffd448ea24f7ea853998167"
      }
     },
     "ec812c79a8d343069c8a749843a509fd": {
      "model_module": "@jupyter-widgets/output",
      "model_module_version": "1.0.0",
      "model_name": "OutputModel",
      "state": {
       "layout": "IPY_MODEL_76ec944debc1429e97a524f786fb8c07"
      }
     },
     "ec8602cebc6a4b699ecae60dbbe76d51": {
      "model_module": "@jupyter-widgets/controls",
      "model_module_version": "1.5.0",
      "model_name": "ButtonStyleModel",
      "state": {}
     },
     "ec9e0c3d15ef47f9b80c2e4a6b1beffa": {
      "model_module": "@jupyter-widgets/controls",
      "model_module_version": "1.5.0",
      "model_name": "ButtonModel",
      "state": {
       "description": "2",
       "layout": "IPY_MODEL_0ab1bad2d7ca489eae87677e3fdf599a",
       "style": "IPY_MODEL_1d3e8725f77a468291a154f71eab58d0"
      }
     },
     "ecab5cc52e214e808acdaa2b96dd099f": {
      "model_module": "@jupyter-widgets/controls",
      "model_module_version": "1.5.0",
      "model_name": "VBoxModel",
      "state": {
       "children": [
        "IPY_MODEL_950b383a7b514deeb87ad6baf1f760b7",
        "IPY_MODEL_cf80f66d50ba48bdaf250579f9acb76a"
       ],
       "layout": "IPY_MODEL_a604de9cd23c4b4d89f326231e64b85f"
      }
     },
     "ecbffee9b3254d03b54b842cbeaf5dcb": {
      "model_module": "@jupyter-widgets/output",
      "model_module_version": "1.0.0",
      "model_name": "OutputModel",
      "state": {
       "layout": "IPY_MODEL_f58c67b337b24ad1ab9e46a66ef4f070"
      }
     },
     "ed09d510b8e14fd19a7df3891de5e062": {
      "model_module": "@jupyter-widgets/controls",
      "model_module_version": "1.5.0",
      "model_name": "VBoxModel",
      "state": {
       "children": [
        "IPY_MODEL_7b0912bb817644419f05763df648797c",
        "IPY_MODEL_5b0d11a904e64107a6f548488dbfd98f"
       ],
       "layout": "IPY_MODEL_26766a6dd8f742b0a0eb9140e2189242"
      }
     },
     "ed323711bffc46c7b42d72b8010311f6": {
      "model_module": "@jupyter-widgets/output",
      "model_module_version": "1.0.0",
      "model_name": "OutputModel",
      "state": {
       "layout": "IPY_MODEL_27227d8023964c58a298cbe48bc77b53"
      }
     },
     "ed5ae288fcb44cb98aff6c43dbf67993": {
      "model_module": "@jupyter-widgets/controls",
      "model_module_version": "1.5.0",
      "model_name": "ButtonModel",
      "state": {
       "description": "2",
       "layout": "IPY_MODEL_8c9132e5e3e643119d7a8164c61a4f31",
       "style": "IPY_MODEL_266df039097c4efb85e3e88dd492bbf6"
      }
     },
     "ed6db08004a345aba802d0f8803b0263": {
      "model_module": "@jupyter-widgets/base",
      "model_module_version": "1.2.0",
      "model_name": "LayoutModel",
      "state": {
       "width": "10%"
      }
     },
     "ed80ba66298041679ef55022a9a0a47a": {
      "model_module": "@jupyter-widgets/controls",
      "model_module_version": "1.5.0",
      "model_name": "TextModel",
      "state": {
       "description": "Other:",
       "layout": "IPY_MODEL_3a14de1539cf4953807b81d45148474c",
       "placeholder": "Hit enter to submit.",
       "style": "IPY_MODEL_b9b5b1a897f943b3bac71bfbab8bb6f0"
      }
     },
     "ed8ac3417e124e1ba9bfe2553980c78a": {
      "model_module": "@jupyter-widgets/output",
      "model_module_version": "1.0.0",
      "model_name": "OutputModel",
      "state": {
       "layout": "IPY_MODEL_ae23e5710c4442e18b15dfddd5f25b75"
      }
     },
     "edd35d56856f42ccb906ac1359d15c32": {
      "model_module": "@jupyter-widgets/controls",
      "model_module_version": "1.5.0",
      "model_name": "ButtonStyleModel",
      "state": {}
     },
     "ede042c11fcc489db49c78f0fdbea883": {
      "model_module": "@jupyter-widgets/output",
      "model_module_version": "1.0.0",
      "model_name": "OutputModel",
      "state": {
       "layout": "IPY_MODEL_dae8d287c0c5428e8f16325a2542f6b2"
      }
     },
     "ede81806e8fa4fc996da152a7763cb83": {
      "model_module": "@jupyter-widgets/controls",
      "model_module_version": "1.5.0",
      "model_name": "DescriptionStyleModel",
      "state": {
       "description_width": ""
      }
     },
     "ee146a119d3542daaef2e9140b773264": {
      "model_module": "@jupyter-widgets/base",
      "model_module_version": "1.2.0",
      "model_name": "LayoutModel",
      "state": {
       "width": "10%"
      }
     },
     "ee25dd9c086c49a1900580098f9ae15a": {
      "model_module": "@jupyter-widgets/controls",
      "model_module_version": "1.5.0",
      "model_name": "ButtonModel",
      "state": {
       "description": "1",
       "layout": "IPY_MODEL_2cd685fdece54143a2383d89380b0974",
       "style": "IPY_MODEL_072bde413b644b459d48f643f330c47a"
      }
     },
     "ee2cceeae05841908a7631d7c6a05c27": {
      "model_module": "@jupyter-widgets/controls",
      "model_module_version": "1.5.0",
      "model_name": "VBoxModel",
      "state": {
       "children": [
        "IPY_MODEL_e09f403ad74b4b399ba589033daa00ef",
        "IPY_MODEL_ce3d65112b12414698bc6997aafcc971"
       ],
       "layout": "IPY_MODEL_0290ef416c9f4b38a88a2978f673406f"
      }
     },
     "ee392ffa0d2e48409ad560f2f95c4412": {
      "model_module": "@jupyter-widgets/controls",
      "model_module_version": "1.5.0",
      "model_name": "ButtonStyleModel",
      "state": {}
     },
     "ee40b9f096b442299134446d9bf56ea7": {
      "model_module": "@jupyter-widgets/base",
      "model_module_version": "1.2.0",
      "model_name": "LayoutModel",
      "state": {
       "width": "95%"
      }
     },
     "ee4351cab550490aadad245c94708c0b": {
      "model_module": "@jupyter-widgets/output",
      "model_module_version": "1.0.0",
      "model_name": "OutputModel",
      "state": {
       "layout": "IPY_MODEL_4a14477310124903ba9a58a94ed3435c"
      }
     },
     "ee4cc86fdde24dfe86ac2735ef9beea5": {
      "model_module": "@jupyter-widgets/controls",
      "model_module_version": "1.5.0",
      "model_name": "VBoxModel",
      "state": {
       "children": [
        "IPY_MODEL_c042f3f0a98c414ca753117640d03575",
        "IPY_MODEL_29b9ed10f6b346b8a90629a0f57d0c90"
       ],
       "layout": "IPY_MODEL_35e7a7b1f5d143ce939af597c65df43d"
      }
     },
     "ee513455372d426b9920b54238861bc8": {
      "model_module": "@jupyter-widgets/output",
      "model_module_version": "1.0.0",
      "model_name": "OutputModel",
      "state": {
       "layout": "IPY_MODEL_5d9f331d569b433a9a19aa1d3e9a61cb"
      }
     },
     "ee6069a8d9794f68830112172e66eb15": {
      "model_module": "@jupyter-widgets/output",
      "model_module_version": "1.0.0",
      "model_name": "OutputModel",
      "state": {
       "layout": "IPY_MODEL_57478198bd65486ba2fffd3c6ff95f67"
      }
     },
     "ee7816c0c8bf4543a8b1c7b9a9a56dcc": {
      "model_module": "@jupyter-widgets/base",
      "model_module_version": "1.2.0",
      "model_name": "LayoutModel",
      "state": {
       "width": "10%"
      }
     },
     "ee79192567fc4049a4e4037252faed42": {
      "model_module": "@jupyter-widgets/controls",
      "model_module_version": "1.5.0",
      "model_name": "HBoxModel",
      "state": {
       "children": [
        "IPY_MODEL_ed80ba66298041679ef55022a9a0a47a",
        "IPY_MODEL_90dcfbd04a00404ab7435d0ae0d0d6f3"
       ],
       "layout": "IPY_MODEL_9ea75c0c53a64d8ba848f5852771ac63"
      }
     },
     "ee9250d2b14446019590cb8e039a6f4e": {
      "model_module": "@jupyter-widgets/base",
      "model_module_version": "1.2.0",
      "model_name": "LayoutModel",
      "state": {
       "width": "10%"
      }
     },
     "eeb0c52ba98f4e07a0b0a76214d21eba": {
      "model_module": "@jupyter-widgets/base",
      "model_module_version": "1.2.0",
      "model_name": "LayoutModel",
      "state": {
       "width": "10%"
      }
     },
     "eeb4d6172f01447897fb332b41caa05d": {
      "model_module": "@jupyter-widgets/controls",
      "model_module_version": "1.5.0",
      "model_name": "HBoxModel",
      "state": {
       "children": [
        "IPY_MODEL_ea515f6ab0fb4c8fa83df8e40b2a12b3",
        "IPY_MODEL_b5071a727cb4429ab5846a1b5e1e9269",
        "IPY_MODEL_0d1325c707c8443cadea347f7b556f0b"
       ],
       "layout": "IPY_MODEL_aae9a6bfc0254dc48df1ef957b8dcffe"
      }
     },
     "eecb30f1a75e4e2697cc0524eebe730d": {
      "model_module": "@jupyter-widgets/controls",
      "model_module_version": "1.5.0",
      "model_name": "ButtonStyleModel",
      "state": {}
     },
     "eed927d2665a42f789b63a82d053b3c6": {
      "model_module": "@jupyter-widgets/controls",
      "model_module_version": "1.5.0",
      "model_name": "VBoxModel",
      "state": {
       "children": [
        "IPY_MODEL_b49a6828b5ca4a8aa1bb619dcd5aa89b",
        "IPY_MODEL_65b7d1111a344b14935836e8f9b06f01"
       ],
       "layout": "IPY_MODEL_478cf56b0248459fab73a623cae4a4cd"
      }
     },
     "eeec66595dce4f5aafea8546a0e7f457": {
      "model_module": "@jupyter-widgets/base",
      "model_module_version": "1.2.0",
      "model_name": "LayoutModel",
      "state": {}
     },
     "eef1422850d840c98980f6a9c3eb9a5e": {
      "model_module": "@jupyter-widgets/controls",
      "model_module_version": "1.5.0",
      "model_name": "VBoxModel",
      "state": {
       "children": [
        "IPY_MODEL_c22cd2317f894ec98e2d0ba2c0bd9f48",
        "IPY_MODEL_57dc960aa5a1437d83324f1ea28a957c"
       ],
       "layout": "IPY_MODEL_34acdb5ce84245c79af1eb7e7f6c9a66"
      }
     },
     "eef8f8182a1047e9b47ae8b7f31be42f": {
      "model_module": "@jupyter-widgets/base",
      "model_module_version": "1.2.0",
      "model_name": "LayoutModel",
      "state": {
       "width": "95%"
      }
     },
     "ef1b1b40bcc4418e8e658777c30ae566": {
      "model_module": "@jupyter-widgets/controls",
      "model_module_version": "1.5.0",
      "model_name": "ButtonModel",
      "state": {
       "description": "3",
       "layout": "IPY_MODEL_94f31d09072148c9a83217fe611b4f8d",
       "style": "IPY_MODEL_5101b966c80946efad52d0e99ffdabfb"
      }
     },
     "ef41b8c9566d43849d5957515488de58": {
      "model_module": "@jupyter-widgets/output",
      "model_module_version": "1.0.0",
      "model_name": "OutputModel",
      "state": {
       "layout": "IPY_MODEL_aea8e396cd2646ddb22990f3aed0fc96"
      }
     },
     "ef67128b089d4203b1e1bfaa052638a1": {
      "model_module": "@jupyter-widgets/base",
      "model_module_version": "1.2.0",
      "model_name": "LayoutModel",
      "state": {
       "width": "95%"
      }
     },
     "ef78fd2b1818417484d61d1f738adb9c": {
      "model_module": "@jupyter-widgets/output",
      "model_module_version": "1.0.0",
      "model_name": "OutputModel",
      "state": {
       "layout": "IPY_MODEL_cc29e4395fcc46958e2463f52206a5e3"
      }
     },
     "ef7dce5dec484ba5a26f0d9ececcd4ce": {
      "model_module": "@jupyter-widgets/controls",
      "model_module_version": "1.5.0",
      "model_name": "VBoxModel",
      "state": {
       "children": [
        "IPY_MODEL_8c170890adf74412a629e2dd86104ccf",
        "IPY_MODEL_d85e7a9a1ff34771a1669d5954991518"
       ],
       "layout": "IPY_MODEL_95d8065fa70a4119924edf4f4b6ef00c"
      }
     },
     "ef834dbcff744aceb2d6670e0fab2a49": {
      "model_module": "@jupyter-widgets/base",
      "model_module_version": "1.2.0",
      "model_name": "LayoutModel",
      "state": {
       "width": "10%"
      }
     },
     "efa66e7129574a3e93dda7f035a657c3": {
      "model_module": "@jupyter-widgets/base",
      "model_module_version": "1.2.0",
      "model_name": "LayoutModel",
      "state": {
       "width": "10%"
      }
     },
     "efb73f87439f44638aafaae2564a1843": {
      "model_module": "@jupyter-widgets/controls",
      "model_module_version": "1.5.0",
      "model_name": "VBoxModel",
      "state": {
       "children": [
        "IPY_MODEL_5ba7cb7d0ab94ea9b5bac0080dc8b1f6",
        "IPY_MODEL_034bd35b176643559145342fe4c7e53b"
       ],
       "layout": "IPY_MODEL_9bbcf9b5aa8e44049f65a251afbb11b8"
      }
     },
     "efd41a12f69c48f4ae3158413786a76a": {
      "model_module": "@jupyter-widgets/controls",
      "model_module_version": "1.5.0",
      "model_name": "ButtonStyleModel",
      "state": {}
     },
     "efe75922169247b59f3de4c408ceac75": {
      "model_module": "@jupyter-widgets/controls",
      "model_module_version": "1.5.0",
      "model_name": "VBoxModel",
      "state": {
       "children": [
        "IPY_MODEL_35c85c7bf26b4643ba7b3e3ec11fd96e",
        "IPY_MODEL_adb0b817db914dbaa559a54ce7bc0cd7"
       ],
       "layout": "IPY_MODEL_095949ba33864bc78c497ce67f07d7e8"
      }
     },
     "efea1983c94344cb88f56bd611f80bbc": {
      "model_module": "@jupyter-widgets/base",
      "model_module_version": "1.2.0",
      "model_name": "LayoutModel",
      "state": {}
     },
     "efecb4e236c54bc7b44039661cd3b816": {
      "model_module": "@jupyter-widgets/base",
      "model_module_version": "1.2.0",
      "model_name": "LayoutModel",
      "state": {
       "width": "95%"
      }
     },
     "effd681b348f4d7d81e0c01953f1cbb2": {
      "model_module": "@jupyter-widgets/base",
      "model_module_version": "1.2.0",
      "model_name": "LayoutModel",
      "state": {}
     },
     "f00700b0c2c644ba936a756fa9938fb1": {
      "model_module": "@jupyter-widgets/controls",
      "model_module_version": "1.5.0",
      "model_name": "VBoxModel",
      "state": {
       "children": [
        "IPY_MODEL_d1adcf2a1bcb41df96af99faec07197e",
        "IPY_MODEL_abba2b82d1de4b14b1554870496c4616"
       ],
       "layout": "IPY_MODEL_2c71ca0fb7b44492a3c1c6bc8053766f"
      }
     },
     "f01e34a037734e2283a002ef67bd74a5": {
      "model_module": "@jupyter-widgets/controls",
      "model_module_version": "1.5.0",
      "model_name": "ButtonStyleModel",
      "state": {}
     },
     "f02063106ece4b39aeffbb3f036db702": {
      "model_module": "@jupyter-widgets/base",
      "model_module_version": "1.2.0",
      "model_name": "LayoutModel",
      "state": {
       "width": "10%"
      }
     },
     "f0256836d8274471aca94a182b0dd73e": {
      "model_module": "@jupyter-widgets/base",
      "model_module_version": "1.2.0",
      "model_name": "LayoutModel",
      "state": {
       "width": "95%"
      }
     },
     "f03d5d86dc7647e1bd514578d5556abc": {
      "model_module": "@jupyter-widgets/controls",
      "model_module_version": "1.5.0",
      "model_name": "ButtonModel",
      "state": {
       "description": "8",
       "layout": "IPY_MODEL_eb5c36a91cef4fdaa0d4fff43ea52e4a",
       "style": "IPY_MODEL_df57bb24c96e4d80b8249d53da65ac7f"
      }
     },
     "f05ba2da9897444a8c206199034c65b6": {
      "model_module": "@jupyter-widgets/controls",
      "model_module_version": "1.5.0",
      "model_name": "VBoxModel",
      "state": {
       "children": [
        "IPY_MODEL_03134387d8a946a49abe5ff9e731d60c",
        "IPY_MODEL_07cc5c032dab4c56a80b795471d3b3a4"
       ],
       "layout": "IPY_MODEL_d174b9c418c541f3a4c20314206256b3"
      }
     },
     "f082ebe449644498b756a6a098eb70d5": {
      "model_module": "@jupyter-widgets/controls",
      "model_module_version": "1.5.0",
      "model_name": "ButtonModel",
      "state": {
       "description": "0",
       "layout": "IPY_MODEL_af7cf5d21c3f4978927e83e5adbf810a",
       "style": "IPY_MODEL_ae092b217b6641d6bedc7283dd95ad7c"
      }
     },
     "f093db35a30140df98e4fc3e8167271b": {
      "model_module": "@jupyter-widgets/base",
      "model_module_version": "1.2.0",
      "model_name": "LayoutModel",
      "state": {}
     },
     "f0c68a229ae2478ab0830337314ffd37": {
      "model_module": "@jupyter-widgets/controls",
      "model_module_version": "1.5.0",
      "model_name": "HBoxModel",
      "state": {
       "children": [
        "IPY_MODEL_ea515f6ab0fb4c8fa83df8e40b2a12b3",
        "IPY_MODEL_b5071a727cb4429ab5846a1b5e1e9269",
        "IPY_MODEL_0d1325c707c8443cadea347f7b556f0b"
       ],
       "layout": "IPY_MODEL_56966ea321f041f3839124bfc4c86f9d"
      }
     },
     "f0d463586be14bc3b293aeb01108902d": {
      "model_module": "@jupyter-widgets/base",
      "model_module_version": "1.2.0",
      "model_name": "LayoutModel",
      "state": {}
     },
     "f0d6bd5a2fcd4865a44f86094291bf40": {
      "model_module": "@jupyter-widgets/output",
      "model_module_version": "1.0.0",
      "model_name": "OutputModel",
      "state": {
       "layout": "IPY_MODEL_1ae50473aa4a4b4c83089f521b4c4a4d"
      }
     },
     "f0e17ef904be47bc9f2812add5f9f39c": {
      "model_module": "@jupyter-widgets/controls",
      "model_module_version": "1.5.0",
      "model_name": "ButtonStyleModel",
      "state": {}
     },
     "f0eef344ba084dbf864ea9429ee16917": {
      "model_module": "@jupyter-widgets/controls",
      "model_module_version": "1.5.0",
      "model_name": "ButtonModel",
      "state": {
       "description": "5",
       "layout": "IPY_MODEL_f2eac6b3b5e34d28851317386e194e77",
       "style": "IPY_MODEL_6d43867c315946459348be1f49ad3497"
      }
     },
     "f0fc3e3fe47c4bb5a35fd9e612cc2ace": {
      "model_module": "@jupyter-widgets/controls",
      "model_module_version": "1.5.0",
      "model_name": "VBoxModel",
      "state": {
       "children": [
        "IPY_MODEL_c615423c2e9440aaa882e98b10d18327",
        "IPY_MODEL_84f441280b7149da9e7e07bb400c59de"
       ],
       "layout": "IPY_MODEL_37d7773c80234ecf81b0f6edab9b8d22"
      }
     },
     "f103e90e85c8428f9d760e079256fc10": {
      "model_module": "@jupyter-widgets/controls",
      "model_module_version": "1.5.0",
      "model_name": "ButtonModel",
      "state": {
       "description": "8",
       "layout": "IPY_MODEL_c89dfadece314400818620add3d50073",
       "style": "IPY_MODEL_ad2abecbd5014054836090c97d71c5c5"
      }
     },
     "f11eeeca8340414aa96926608bdd6dc7": {
      "model_module": "@jupyter-widgets/controls",
      "model_module_version": "1.5.0",
      "model_name": "VBoxModel",
      "state": {
       "children": [
        "IPY_MODEL_7b6c22e0c1a44cc59fc68d837154d5b7",
        "IPY_MODEL_5f82c3a448cf4e53978eabef37347ec0"
       ],
       "layout": "IPY_MODEL_67fa8a1db84e477c95d9f16fe5aad3f4"
      }
     },
     "f13188a80b454493b850121356cdd687": {
      "model_module": "@jupyter-widgets/base",
      "model_module_version": "1.2.0",
      "model_name": "LayoutModel",
      "state": {}
     },
     "f140a0a212cb4986b49d8eaee2b890a9": {
      "model_module": "@jupyter-widgets/base",
      "model_module_version": "1.2.0",
      "model_name": "LayoutModel",
      "state": {}
     },
     "f1554b7c184f4d09a8b3c96908745d17": {
      "model_module": "@jupyter-widgets/controls",
      "model_module_version": "1.5.0",
      "model_name": "HBoxModel",
      "state": {
       "children": [
        "IPY_MODEL_ea515f6ab0fb4c8fa83df8e40b2a12b3",
        "IPY_MODEL_b5071a727cb4429ab5846a1b5e1e9269",
        "IPY_MODEL_0d1325c707c8443cadea347f7b556f0b"
       ],
       "layout": "IPY_MODEL_1979b55c586a424499563ca665988a52"
      }
     },
     "f16177a29f7c4d2581ccd00712f198ee": {
      "model_module": "@jupyter-widgets/base",
      "model_module_version": "1.2.0",
      "model_name": "LayoutModel",
      "state": {
       "width": "10%"
      }
     },
     "f170fd78f8b1484199434a67db8cdc58": {
      "model_module": "@jupyter-widgets/base",
      "model_module_version": "1.2.0",
      "model_name": "LayoutModel",
      "state": {
       "width": "95%"
      }
     },
     "f17dc490c1314fdc9bc2b46018bad1a8": {
      "model_module": "@jupyter-widgets/output",
      "model_module_version": "1.0.0",
      "model_name": "OutputModel",
      "state": {
       "layout": "IPY_MODEL_f9c4567f2bdd4d2d95a5f8119d41abd4"
      }
     },
     "f1ad0698c39d4c64aa607211285abd3d": {
      "model_module": "@jupyter-widgets/controls",
      "model_module_version": "1.5.0",
      "model_name": "HBoxModel",
      "state": {
       "children": [
        "IPY_MODEL_b4e49daeee294e3ab03ad8ca8845885f",
        "IPY_MODEL_fe1a434ca96b443389f614dafa14961c",
        "IPY_MODEL_4381b127c0ff456e8f60bdf1b615653e",
        "IPY_MODEL_714b9956f84f43f49eedfcb6590dde14",
        "IPY_MODEL_154012e72333449e89ea758556ab86e0",
        "IPY_MODEL_556fb34ad7504c59ac77d02b2a245caf",
        "IPY_MODEL_78860a47f14c4ef08963d8ab626d1dcc",
        "IPY_MODEL_e08132723fe6403581420a0f4147b214",
        "IPY_MODEL_71cfbaa22f1b40ab9f1fa29c849a58d7",
        "IPY_MODEL_99f87ac65c0240b488088e5e41ec57d1"
       ],
       "layout": "IPY_MODEL_41dac4cc78f64b73aeb51e1d3f914fe3"
      }
     },
     "f1d25e2ed1df4732994646cd061f47bc": {
      "model_module": "@jupyter-widgets/controls",
      "model_module_version": "1.5.0",
      "model_name": "VBoxModel",
      "state": {
       "children": [
        "IPY_MODEL_7e1199465f09410c9f427eeb3c7b147b",
        "IPY_MODEL_3b8cb141c204475dbb62932d50f0adda"
       ],
       "layout": "IPY_MODEL_b68d60b97cd14b828ed3b577338f3c38"
      }
     },
     "f1fc6ba25d9940dab4f592b2db8d1844": {
      "model_module": "@jupyter-widgets/base",
      "model_module_version": "1.2.0",
      "model_name": "LayoutModel",
      "state": {}
     },
     "f1fd482d8d644f738a0f4474c46454d1": {
      "model_module": "@jupyter-widgets/base",
      "model_module_version": "1.2.0",
      "model_name": "LayoutModel",
      "state": {}
     },
     "f20d9be922334f03a50ae6fe63d402d0": {
      "model_module": "@jupyter-widgets/controls",
      "model_module_version": "1.5.0",
      "model_name": "ButtonModel",
      "state": {
       "description": "5",
       "layout": "IPY_MODEL_8890329a9b7549fda333ca7e4198c235",
       "style": "IPY_MODEL_2f951e3908ee4a34844baeac1b6091c1"
      }
     },
     "f289e5a88b584b0688a8218f15fd6c19": {
      "model_module": "@jupyter-widgets/controls",
      "model_module_version": "1.5.0",
      "model_name": "DescriptionStyleModel",
      "state": {
       "description_width": ""
      }
     },
     "f29a5a1a03ee4c649d5b5c28a8adb2f7": {
      "model_module": "@jupyter-widgets/controls",
      "model_module_version": "1.5.0",
      "model_name": "ButtonModel",
      "state": {
       "description": "0",
       "layout": "IPY_MODEL_7164a790648140a7ae865b6b92a182a4",
       "style": "IPY_MODEL_7fd3d513414f4e1eb7e1567a209f051a"
      }
     },
     "f2afaafc0c9349aea143488d35b6c16a": {
      "model_module": "@jupyter-widgets/controls",
      "model_module_version": "1.5.0",
      "model_name": "VBoxModel",
      "state": {
       "children": [
        "IPY_MODEL_f0eef344ba084dbf864ea9429ee16917",
        "IPY_MODEL_8b9ddacfb71f4b88974a709ccf2ec5f9"
       ],
       "layout": "IPY_MODEL_992c588aeffa42bbbf4c135307cf7884"
      }
     },
     "f2b9718ba3164b49b3f6603b466cf330": {
      "model_module": "@jupyter-widgets/controls",
      "model_module_version": "1.5.0",
      "model_name": "HBoxModel",
      "state": {
       "children": [
        "IPY_MODEL_e6c0e620930148c1be5fae8feeac6865",
        "IPY_MODEL_93900e4a865942a49835b9fcb4845e0a"
       ],
       "layout": "IPY_MODEL_8891e8d67f514a2abd6ea470eb898920"
      }
     },
     "f2eac6b3b5e34d28851317386e194e77": {
      "model_module": "@jupyter-widgets/base",
      "model_module_version": "1.2.0",
      "model_name": "LayoutModel",
      "state": {
       "width": "95%"
      }
     },
     "f3072c2422e44565b5e52afaccf96d9e": {
      "model_module": "@jupyter-widgets/controls",
      "model_module_version": "1.5.0",
      "model_name": "VBoxModel",
      "state": {
       "children": [
        "IPY_MODEL_c676dea99a984c619334ee62e575a54e",
        "IPY_MODEL_ee6069a8d9794f68830112172e66eb15"
       ],
       "layout": "IPY_MODEL_f7deff22e0204b9baa31981cd414dca5"
      }
     },
     "f3124950d0924c6eadba05b6808a26b0": {
      "model_module": "@jupyter-widgets/base",
      "model_module_version": "1.2.0",
      "model_name": "LayoutModel",
      "state": {
       "width": "95%"
      }
     },
     "f3188bd089ab49a1862c7b4c6b5e5d05": {
      "model_module": "@jupyter-widgets/output",
      "model_module_version": "1.0.0",
      "model_name": "OutputModel",
      "state": {
       "layout": "IPY_MODEL_736b70591607466c84a366c09c701f42"
      }
     },
     "f34afd627a9543b0800ff81ea03a6835": {
      "model_module": "@jupyter-widgets/controls",
      "model_module_version": "1.5.0",
      "model_name": "VBoxModel",
      "state": {
       "children": [
        "IPY_MODEL_31937617e44d4b078665f730529f739b",
        "IPY_MODEL_e7778e270dae402ba3fdc44ff54c707b"
       ],
       "layout": "IPY_MODEL_4f9d8e876b56418ab21a3a8928d0d0e3"
      }
     },
     "f35223ad1c3d45cbbe78dd91c479e5e8": {
      "model_module": "@jupyter-widgets/output",
      "model_module_version": "1.0.0",
      "model_name": "OutputModel",
      "state": {
       "layout": "IPY_MODEL_de790e001bf64188b55de95b9b64e805"
      }
     },
     "f365fd038d994167930ac08aa2038d1e": {
      "model_module": "@jupyter-widgets/output",
      "model_module_version": "1.0.0",
      "model_name": "OutputModel",
      "state": {
       "layout": "IPY_MODEL_33cf9bc8d99c45258d49716bd1ab9f0a"
      }
     },
     "f36a5fcac6534b348e1121f590a7b6b2": {
      "model_module": "@jupyter-widgets/base",
      "model_module_version": "1.2.0",
      "model_name": "LayoutModel",
      "state": {}
     },
     "f3d2b704add241aba85c99bf12b0835c": {
      "model_module": "@jupyter-widgets/controls",
      "model_module_version": "1.5.0",
      "model_name": "ButtonStyleModel",
      "state": {}
     },
     "f3e0746534f54d18a155f702193ef04e": {
      "model_module": "@jupyter-widgets/base",
      "model_module_version": "1.2.0",
      "model_name": "LayoutModel",
      "state": {
       "width": "10%"
      }
     },
     "f3eafa1dfd054614b0d8803094c8421c": {
      "model_module": "@jupyter-widgets/controls",
      "model_module_version": "1.5.0",
      "model_name": "ButtonModel",
      "state": {
       "description": "4",
       "layout": "IPY_MODEL_4f352b5c42b44251bb22134ce3e54624",
       "style": "IPY_MODEL_ad255e963be74f9a815a496dd64e81f0"
      }
     },
     "f3ed66c10f1d4cf1bb9ad84b0e71bf95": {
      "model_module": "@jupyter-widgets/base",
      "model_module_version": "1.2.0",
      "model_name": "LayoutModel",
      "state": {}
     },
     "f40711d54d1f467ea379069879b68a8b": {
      "model_module": "@jupyter-widgets/base",
      "model_module_version": "1.2.0",
      "model_name": "LayoutModel",
      "state": {
       "width": "10%"
      }
     },
     "f407e7e85fee44a9924648838a63e59f": {
      "model_module": "@jupyter-widgets/base",
      "model_module_version": "1.2.0",
      "model_name": "LayoutModel",
      "state": {
       "width": "10%"
      }
     },
     "f40f1c82e90843408e4db6dc33c32641": {
      "model_module": "@jupyter-widgets/controls",
      "model_module_version": "1.5.0",
      "model_name": "ButtonModel",
      "state": {
       "description": "9",
       "layout": "IPY_MODEL_6c8434878e6548ca98db8f980b4219e8",
       "style": "IPY_MODEL_3a620e479be14667a46b3d053235981e"
      }
     },
     "f41a1ed385a447649612098be2f27de3": {
      "model_module": "@jupyter-widgets/base",
      "model_module_version": "1.2.0",
      "model_name": "LayoutModel",
      "state": {
       "width": "95%"
      }
     },
     "f41a82608bbb4d05a8609e988b356f68": {
      "model_module": "@jupyter-widgets/base",
      "model_module_version": "1.2.0",
      "model_name": "LayoutModel",
      "state": {}
     },
     "f41c31ca6ec34914b52d2ed513c95103": {
      "model_module": "@jupyter-widgets/output",
      "model_module_version": "1.0.0",
      "model_name": "OutputModel",
      "state": {
       "layout": "IPY_MODEL_53c859065cbf4837be3649c7368dd769"
      }
     },
     "f462a5780fb444ba8326e74dbb28dd6b": {
      "model_module": "@jupyter-widgets/controls",
      "model_module_version": "1.5.0",
      "model_name": "ButtonModel",
      "state": {
       "description": "9",
       "layout": "IPY_MODEL_bd645615b0e842c0a0602f61fc0e4f0e",
       "style": "IPY_MODEL_5e8dbd87fd5d437ebcad28422a2eb72f"
      }
     },
     "f4bd4d664fc94d339690229962ffebc2": {
      "model_module": "@jupyter-widgets/base",
      "model_module_version": "1.2.0",
      "model_name": "LayoutModel",
      "state": {
       "width": "95%"
      }
     },
     "f4e54d2e8e2c4d738364473750a87442": {
      "model_module": "@jupyter-widgets/controls",
      "model_module_version": "1.5.0",
      "model_name": "ButtonModel",
      "state": {
       "description": "9",
       "layout": "IPY_MODEL_38ee7ef7ece64b769bbf54d83d18ae1c",
       "style": "IPY_MODEL_d938c234594b4a399791405bc6c0f341"
      }
     },
     "f518a3653d9546d594aa9551df56f8ec": {
      "model_module": "@jupyter-widgets/base",
      "model_module_version": "1.2.0",
      "model_name": "LayoutModel",
      "state": {
       "width": "10%"
      }
     },
     "f51cfc4b61da4d7f8f4d7e4b463a5c32": {
      "model_module": "@jupyter-widgets/base",
      "model_module_version": "1.2.0",
      "model_name": "LayoutModel",
      "state": {
       "width": "95%"
      }
     },
     "f54ffb3da4724844a3727de5ff706e82": {
      "model_module": "@jupyter-widgets/base",
      "model_module_version": "1.2.0",
      "model_name": "LayoutModel",
      "state": {
       "width": "10%"
      }
     },
     "f58c67b337b24ad1ab9e46a66ef4f070": {
      "model_module": "@jupyter-widgets/base",
      "model_module_version": "1.2.0",
      "model_name": "LayoutModel",
      "state": {}
     },
     "f591f052c4df43d792e25babb0dea628": {
      "model_module": "@jupyter-widgets/base",
      "model_module_version": "1.2.0",
      "model_name": "LayoutModel",
      "state": {}
     },
     "f59ca2c920c645cd9f15737cfd7d6c2c": {
      "model_module": "@jupyter-widgets/controls",
      "model_module_version": "1.5.0",
      "model_name": "ButtonStyleModel",
      "state": {}
     },
     "f59f2c143a7d4229a12da0a1d1bafe5e": {
      "model_module": "@jupyter-widgets/output",
      "model_module_version": "1.0.0",
      "model_name": "OutputModel",
      "state": {
       "layout": "IPY_MODEL_2208f90385624797944b05d98269d2cd"
      }
     },
     "f5b713b066414465bfd5c0385a231d09": {
      "model_module": "@jupyter-widgets/base",
      "model_module_version": "1.2.0",
      "model_name": "LayoutModel",
      "state": {
       "width": "95%"
      }
     },
     "f5c6d8a301ae41a092bb5fb204868c08": {
      "model_module": "@jupyter-widgets/controls",
      "model_module_version": "1.5.0",
      "model_name": "VBoxModel",
      "state": {
       "children": [
        "IPY_MODEL_de77b0a63e1448148c3ff7190d101087",
        "IPY_MODEL_935a4c136e784e139af58be6f5f0a590"
       ],
       "layout": "IPY_MODEL_a1264765e830481b86c283ce6c071521"
      }
     },
     "f5d66cc349a14b2fbe624b6c37da9935": {
      "model_module": "@jupyter-widgets/controls",
      "model_module_version": "1.5.0",
      "model_name": "VBoxModel",
      "state": {
       "children": [
        "IPY_MODEL_ec7c704014714cc2ae84803b12bc6df4",
        "IPY_MODEL_934ca0ff8a604ef1a55ce4f23254d80d"
       ],
       "layout": "IPY_MODEL_846237a8269d452780ae8332cd9623f5"
      }
     },
     "f60fff785f164a29aa84a239e1372a59": {
      "model_module": "@jupyter-widgets/controls",
      "model_module_version": "1.5.0",
      "model_name": "ButtonModel",
      "state": {
       "description": "6",
       "layout": "IPY_MODEL_6f7c511411204358bf8c0cd8087b1323",
       "style": "IPY_MODEL_e1d9d8b2daeb4cd599c4f7914f9a31ed"
      }
     },
     "f6269150336f4c03963fbe88c24436d8": {
      "model_module": "@jupyter-widgets/base",
      "model_module_version": "1.2.0",
      "model_name": "LayoutModel",
      "state": {
       "width": "95%"
      }
     },
     "f6407160cd954d1ba1b53977f040326a": {
      "model_module": "@jupyter-widgets/base",
      "model_module_version": "1.2.0",
      "model_name": "LayoutModel",
      "state": {}
     },
     "f653df1586ef44658360ab03f9809907": {
      "model_module": "@jupyter-widgets/controls",
      "model_module_version": "1.5.0",
      "model_name": "HBoxModel",
      "state": {
       "children": [
        "IPY_MODEL_a0c0536d2b244a1389c71e260ce085b8",
        "IPY_MODEL_0d59dc92887d405d85205cf7c90a9a35",
        "IPY_MODEL_85fb8ac6e27249ba8206a096c6743689",
        "IPY_MODEL_6a6a1ae4463b4239aa2985ee364d78dd",
        "IPY_MODEL_17dfc7eeff904b8f8e1d91809415c38a",
        "IPY_MODEL_4fae790eec71406d95f01334f3f0b5fa",
        "IPY_MODEL_eacd37c02f054a7c827728fc8ab5edb0",
        "IPY_MODEL_13f8a51b043045fbb42b8016d0c2155b",
        "IPY_MODEL_d0ec070ae8434ee390a13348df77a110",
        "IPY_MODEL_07dba87724074c58abec7a7afab14fc3"
       ],
       "layout": "IPY_MODEL_3a8558ce77f64762a6dd2651e0a31732"
      }
     },
     "f663d373e97941e8a55e3e43f30807a3": {
      "model_module": "@jupyter-widgets/base",
      "model_module_version": "1.2.0",
      "model_name": "LayoutModel",
      "state": {}
     },
     "f67e7995f12249fb8106c0a200302e8d": {
      "model_module": "@jupyter-widgets/base",
      "model_module_version": "1.2.0",
      "model_name": "LayoutModel",
      "state": {}
     },
     "f68816ab58e64aa19d2290de878cff48": {
      "model_module": "@jupyter-widgets/base",
      "model_module_version": "1.2.0",
      "model_name": "LayoutModel",
      "state": {}
     },
     "f6a83f1636e249cba814e66cd7dd8854": {
      "model_module": "@jupyter-widgets/controls",
      "model_module_version": "1.5.0",
      "model_name": "ButtonModel",
      "state": {
       "description": "8",
       "layout": "IPY_MODEL_8d58224b71b1458db3df19dcd7551cb2",
       "style": "IPY_MODEL_2145cf40c9ea401f801191c9e6f76c4e"
      }
     },
     "f6e2655b5a274decb9edb91e48407b7c": {
      "model_module": "@jupyter-widgets/controls",
      "model_module_version": "1.5.0",
      "model_name": "ButtonModel",
      "state": {
       "description": "9",
       "layout": "IPY_MODEL_0100c771047744f48a41c9310543472e",
       "style": "IPY_MODEL_4a88ae52896a416db4675af910e0fc88"
      }
     },
     "f6f52bdfd26344fea81965f0143af5f5": {
      "model_module": "@jupyter-widgets/base",
      "model_module_version": "1.2.0",
      "model_name": "LayoutModel",
      "state": {}
     },
     "f6fd3bcc2ece41f793bc95c16522cde6": {
      "model_module": "@jupyter-widgets/output",
      "model_module_version": "1.0.0",
      "model_name": "OutputModel",
      "state": {
       "layout": "IPY_MODEL_f68816ab58e64aa19d2290de878cff48"
      }
     },
     "f7065e05eaca49e69ad58b876aafc285": {
      "model_module": "@jupyter-widgets/base",
      "model_module_version": "1.2.0",
      "model_name": "LayoutModel",
      "state": {}
     },
     "f729c31bee0a47f1a7fed50db61cfb00": {
      "model_module": "@jupyter-widgets/base",
      "model_module_version": "1.2.0",
      "model_name": "LayoutModel",
      "state": {}
     },
     "f73c3bae061844209e2d48fdd1cc439d": {
      "model_module": "@jupyter-widgets/output",
      "model_module_version": "1.0.0",
      "model_name": "OutputModel",
      "state": {
       "layout": "IPY_MODEL_dc59c773620e435487e647922c3ae8ce"
      }
     },
     "f74c5601c2e74e05a1e37faa4f89daf7": {
      "model_module": "@jupyter-widgets/output",
      "model_module_version": "1.0.0",
      "model_name": "OutputModel",
      "state": {
       "layout": "IPY_MODEL_782397637b9e425786a30ecae0e2b71d"
      }
     },
     "f75bea4648ae4928a2ac2017c487277c": {
      "model_module": "@jupyter-widgets/controls",
      "model_module_version": "1.5.0",
      "model_name": "ButtonStyleModel",
      "state": {}
     },
     "f7671dfe0e8a4c828e37f9e1cb9b8788": {
      "model_module": "@jupyter-widgets/base",
      "model_module_version": "1.2.0",
      "model_name": "LayoutModel",
      "state": {
       "width": "95%"
      }
     },
     "f77654c45537417084b592c776453b68": {
      "model_module": "@jupyter-widgets/base",
      "model_module_version": "1.2.0",
      "model_name": "LayoutModel",
      "state": {}
     },
     "f7ca6858af924363892d85b953536c54": {
      "model_module": "@jupyter-widgets/output",
      "model_module_version": "1.0.0",
      "model_name": "OutputModel",
      "state": {
       "layout": "IPY_MODEL_112643891bce48dc8d633dd57a482fe6"
      }
     },
     "f7deff22e0204b9baa31981cd414dca5": {
      "model_module": "@jupyter-widgets/base",
      "model_module_version": "1.2.0",
      "model_name": "LayoutModel",
      "state": {
       "width": "10%"
      }
     },
     "f802860429ad4c97a84150fdecabc4ac": {
      "model_module": "@jupyter-widgets/controls",
      "model_module_version": "1.5.0",
      "model_name": "ButtonStyleModel",
      "state": {}
     },
     "f88ae2bd3a3c4ac590765b26fabee389": {
      "model_module": "@jupyter-widgets/base",
      "model_module_version": "1.2.0",
      "model_name": "LayoutModel",
      "state": {
       "width": "95%"
      }
     },
     "f8a099514dc547c498a6c08b0f34e387": {
      "model_module": "@jupyter-widgets/controls",
      "model_module_version": "1.5.0",
      "model_name": "ButtonStyleModel",
      "state": {}
     },
     "f8b5247803ff45f2bb6c83f637a5e02b": {
      "model_module": "@jupyter-widgets/output",
      "model_module_version": "1.0.0",
      "model_name": "OutputModel",
      "state": {
       "layout": "IPY_MODEL_2865421b64d54c479105bfcc83edb113"
      }
     },
     "f8cb784392374bb08c5bf65117ae8801": {
      "model_module": "@jupyter-widgets/controls",
      "model_module_version": "1.5.0",
      "model_name": "VBoxModel",
      "state": {
       "children": [
        "IPY_MODEL_9bb4b46a5b4c45599b2a6e1aad2a55f0",
        "IPY_MODEL_b4732a17151a49f78322986eac2694a3"
       ],
       "layout": "IPY_MODEL_2218eb9d659e401db6686ce6b80f3155"
      }
     },
     "f8d3eb8f074c4ab496d8b1d2ce76372f": {
      "model_module": "@jupyter-widgets/base",
      "model_module_version": "1.2.0",
      "model_name": "LayoutModel",
      "state": {}
     },
     "f92ecdb9af3e4c0d813b0da551976f64": {
      "model_module": "@jupyter-widgets/base",
      "model_module_version": "1.2.0",
      "model_name": "LayoutModel",
      "state": {
       "width": "95%"
      }
     },
     "f945902a655b49da93155469333241b8": {
      "model_module": "@jupyter-widgets/controls",
      "model_module_version": "1.5.0",
      "model_name": "ButtonStyleModel",
      "state": {}
     },
     "f9493e23424a4e53a54ce8c93f30e67f": {
      "model_module": "@jupyter-widgets/base",
      "model_module_version": "1.2.0",
      "model_name": "LayoutModel",
      "state": {
       "justify_content": "space-between"
      }
     },
     "f952d0ef54fe4079b244c2f56bf816ed": {
      "model_module": "@jupyter-widgets/controls",
      "model_module_version": "1.5.0",
      "model_name": "HBoxModel",
      "state": {
       "children": [
        "IPY_MODEL_ea515f6ab0fb4c8fa83df8e40b2a12b3",
        "IPY_MODEL_b5071a727cb4429ab5846a1b5e1e9269",
        "IPY_MODEL_0d1325c707c8443cadea347f7b556f0b"
       ],
       "layout": "IPY_MODEL_3acde3f8660845bba6210f3d9efdeada"
      }
     },
     "f95c549c4bb749a19120f391b8712146": {
      "model_module": "@jupyter-widgets/output",
      "model_module_version": "1.0.0",
      "model_name": "OutputModel",
      "state": {
       "layout": "IPY_MODEL_9cd529f2fda047fd98b48b4ef96fdcb8"
      }
     },
     "f96255857fae4825bdb8a473c722209f": {
      "model_module": "@jupyter-widgets/base",
      "model_module_version": "1.2.0",
      "model_name": "LayoutModel",
      "state": {
       "width": "10%"
      }
     },
     "f9648a10151e4479bc909ac9ad3d5db1": {
      "model_module": "@jupyter-widgets/base",
      "model_module_version": "1.2.0",
      "model_name": "LayoutModel",
      "state": {}
     },
     "f9752260955f478d83e0508acd042431": {
      "model_module": "@jupyter-widgets/controls",
      "model_module_version": "1.5.0",
      "model_name": "VBoxModel",
      "state": {
       "children": [
        "IPY_MODEL_4e306fa7990e40e4b646a81ca735128d",
        "IPY_MODEL_e63f6d2b73424e1cb6616bbf5a2a821a"
       ],
       "layout": "IPY_MODEL_93c77c1bf53d4253995c7678b22816ec"
      }
     },
     "f9bc23843f8a40c7b6b4427e749b3eb3": {
      "model_module": "@jupyter-widgets/controls",
      "model_module_version": "1.5.0",
      "model_name": "ButtonModel",
      "state": {
       "description": "2",
       "layout": "IPY_MODEL_16b31cd1dc494b2c9b2a2e41e6713daa",
       "style": "IPY_MODEL_81c6153f96b94a39a2e70ff585db2e46"
      }
     },
     "f9bc363a4f314765834b5f11f75ef6fd": {
      "model_module": "@jupyter-widgets/controls",
      "model_module_version": "1.5.0",
      "model_name": "ButtonModel",
      "state": {
       "description": "4",
       "layout": "IPY_MODEL_633b1be3754f4464b05e81df7c3b72c1",
       "style": "IPY_MODEL_9e36bcfaea2543f2a1474a9cc50f12bf"
      }
     },
     "f9c4567f2bdd4d2d95a5f8119d41abd4": {
      "model_module": "@jupyter-widgets/base",
      "model_module_version": "1.2.0",
      "model_name": "LayoutModel",
      "state": {}
     },
     "f9d6cf38590e4283bca97e54ba78c068": {
      "model_module": "@jupyter-widgets/controls",
      "model_module_version": "1.5.0",
      "model_name": "TextModel",
      "state": {
       "description": "Other:",
       "layout": "IPY_MODEL_ea9f4de981e0493fbd923fcfe2e22a92",
       "placeholder": "Hit enter to submit.",
       "style": "IPY_MODEL_b0aa57464fff46c2a79b625389ab5c27"
      }
     },
     "f9d8d0d72421488c87cb4c105aa5303b": {
      "model_module": "@jupyter-widgets/controls",
      "model_module_version": "1.5.0",
      "model_name": "VBoxModel",
      "state": {
       "children": [
        "IPY_MODEL_9791e5c1b68e4cb9b0506daaaa983403",
        "IPY_MODEL_3651b98512c04573b20506442d699e8d"
       ],
       "layout": "IPY_MODEL_f02063106ece4b39aeffbb3f036db702"
      }
     },
     "fa4792a7442f49b6bcdf98f37a2e3033": {
      "model_module": "@jupyter-widgets/controls",
      "model_module_version": "1.5.0",
      "model_name": "VBoxModel",
      "state": {
       "children": [
        "IPY_MODEL_ac6742b7105e4b449a32235d1b84ba0b",
        "IPY_MODEL_8b5a67e09be142a8b67483b8b97adba9"
       ],
       "layout": "IPY_MODEL_1416893af9b74977ba2c5d0b1b4d6eee"
      }
     },
     "fa62429129554d678fee5737cecc49df": {
      "model_module": "@jupyter-widgets/controls",
      "model_module_version": "1.5.0",
      "model_name": "VBoxModel",
      "state": {
       "children": [
        "IPY_MODEL_28ae3ea4d41742f3a7e0b29efd1ccdc5",
        "IPY_MODEL_a1522aa1c7e24d18965ca1ed8db6f76e"
       ],
       "layout": "IPY_MODEL_e3cdc40b0d084db0b3e8c233fbce192f"
      }
     },
     "fa6590f94060453ea7e95818248ff60a": {
      "model_module": "@jupyter-widgets/base",
      "model_module_version": "1.2.0",
      "model_name": "LayoutModel",
      "state": {}
     },
     "fa7f9524ad234c439e93dfb9b51715f5": {
      "model_module": "@jupyter-widgets/controls",
      "model_module_version": "1.5.0",
      "model_name": "DescriptionStyleModel",
      "state": {
       "description_width": ""
      }
     },
     "fa96c512c36745cf9aa77cb6b2e9b85a": {
      "model_module": "@jupyter-widgets/controls",
      "model_module_version": "1.5.0",
      "model_name": "ButtonModel",
      "state": {
       "description": "8",
       "layout": "IPY_MODEL_9c2455532bdd4ab7b097507cfe8d7ab3",
       "style": "IPY_MODEL_e70bde234f6e4dbc83dbe127f8409faf"
      }
     },
     "fa976fde12a54302a6692cf61cea19c7": {
      "model_module": "@jupyter-widgets/controls",
      "model_module_version": "1.5.0",
      "model_name": "HBoxModel",
      "state": {
       "children": [
        "IPY_MODEL_8945680e9b5a40b28d31fa9105a24c74",
        "IPY_MODEL_65dd217359c14fd490c28422c15ae47d"
       ],
       "layout": "IPY_MODEL_9b79d41ef40d4ba0a0b93f7b21093cd9"
      }
     },
     "fadfc14ccf1e408b8b7817cd33daf06a": {
      "model_module": "@jupyter-widgets/controls",
      "model_module_version": "1.5.0",
      "model_name": "ButtonModel",
      "state": {
       "description": "1",
       "layout": "IPY_MODEL_85cb31ef35eb419c9c04d2276e724e98",
       "style": "IPY_MODEL_30ad7c4bc7e2419eb7c51b9fe1a0f762"
      }
     },
     "fb054a767e8f449591658994b418bf94": {
      "model_module": "@jupyter-widgets/controls",
      "model_module_version": "1.5.0",
      "model_name": "ButtonModel",
      "state": {
       "description": "3",
       "layout": "IPY_MODEL_241b6ae2f0654b888a54fdd18b6a8228",
       "style": "IPY_MODEL_0ca5aec160114bfc9a88a5b837a4a277"
      }
     },
     "fb1cad4d4f2c452990a0f9efeaba380a": {
      "model_module": "@jupyter-widgets/base",
      "model_module_version": "1.2.0",
      "model_name": "LayoutModel",
      "state": {
       "width": "10%"
      }
     },
     "fb2c2825367f49ba8808d98891a97008": {
      "model_module": "@jupyter-widgets/controls",
      "model_module_version": "1.5.0",
      "model_name": "ButtonStyleModel",
      "state": {}
     },
     "fb30960c43c64de089ed3731bb8920e4": {
      "model_module": "@jupyter-widgets/controls",
      "model_module_version": "1.5.0",
      "model_name": "VBoxModel",
      "state": {
       "children": [
        "IPY_MODEL_9ad34ce568194f3a879d0d0f8733d3a5",
        "IPY_MODEL_61bdb088f8ad45dba261e1c2b011672e"
       ],
       "layout": "IPY_MODEL_f54ffb3da4724844a3727de5ff706e82"
      }
     },
     "fb447d291a9942598d5dd65fd6020075": {
      "model_module": "@jupyter-widgets/output",
      "model_module_version": "1.0.0",
      "model_name": "OutputModel",
      "state": {
       "layout": "IPY_MODEL_0e1cc042f6db40309f2ecc2996891221"
      }
     },
     "fb4abcdf63b041f5af4a667f50bb23ae": {
      "model_module": "@jupyter-widgets/output",
      "model_module_version": "1.0.0",
      "model_name": "OutputModel",
      "state": {
       "layout": "IPY_MODEL_74ad432c85a54068a8693260e00fb94d"
      }
     },
     "fb6502f2a01a413d88ae140b770934d9": {
      "model_module": "@jupyter-widgets/base",
      "model_module_version": "1.2.0",
      "model_name": "LayoutModel",
      "state": {
       "width": "10%"
      }
     },
     "fbd824650827443e8f09ecf0b38775c7": {
      "model_module": "@jupyter-widgets/controls",
      "model_module_version": "1.5.0",
      "model_name": "ButtonStyleModel",
      "state": {}
     },
     "fbdd1d9a849b4686941793e978c6a562": {
      "model_module": "@jupyter-widgets/controls",
      "model_module_version": "1.5.0",
      "model_name": "ButtonStyleModel",
      "state": {}
     },
     "fbe896ffee244f9a93fa72858e3eeba0": {
      "model_module": "@jupyter-widgets/base",
      "model_module_version": "1.2.0",
      "model_name": "LayoutModel",
      "state": {
       "width": "10%"
      }
     },
     "fc109e0d8c50428a9cfd99d0e3f11262": {
      "model_module": "@jupyter-widgets/base",
      "model_module_version": "1.2.0",
      "model_name": "LayoutModel",
      "state": {}
     },
     "fc46d4a729534dcfabbc065acc5f13e4": {
      "model_module": "@jupyter-widgets/base",
      "model_module_version": "1.2.0",
      "model_name": "LayoutModel",
      "state": {}
     },
     "fc63be2a1d854eceb1a711089e8aed00": {
      "model_module": "@jupyter-widgets/output",
      "model_module_version": "1.0.0",
      "model_name": "OutputModel",
      "state": {
       "layout": "IPY_MODEL_e3edee381c65453e8a0fe4380451cbd9"
      }
     },
     "fc6c91a581064825ac3a53e0c65c1e3d": {
      "model_module": "@jupyter-widgets/base",
      "model_module_version": "1.2.0",
      "model_name": "LayoutModel",
      "state": {
       "width": "95%"
      }
     },
     "fc7f007049884199b2b2bfb2be61f80e": {
      "model_module": "@jupyter-widgets/base",
      "model_module_version": "1.2.0",
      "model_name": "LayoutModel",
      "state": {
       "width": "10%"
      }
     },
     "fc93d7e16af547668dd20507d27f538b": {
      "model_module": "@jupyter-widgets/controls",
      "model_module_version": "1.5.0",
      "model_name": "VBoxModel",
      "state": {
       "children": [
        "IPY_MODEL_b7dc144ea99145498539b3512c1757e7",
        "IPY_MODEL_c2a8fb1d9333439ab8d83d2ceb0c7e5e"
       ],
       "layout": "IPY_MODEL_7161d5fe22774604bf19359c8efd8e7c"
      }
     },
     "fcb46ca9dc7f41f3b84f68d07f694e3b": {
      "model_module": "@jupyter-widgets/controls",
      "model_module_version": "1.5.0",
      "model_name": "VBoxModel",
      "state": {
       "children": [
        "IPY_MODEL_4e15b6fead0b4006a4547a2c9fa449bd",
        "IPY_MODEL_2e5d7f1deed1485cae897f7a108a19cc"
       ],
       "layout": "IPY_MODEL_160a503a98654efdadb8cba5cf87b620"
      }
     },
     "fcc27deb9d244e68b7e6b18e6ff1cb7d": {
      "model_module": "@jupyter-widgets/base",
      "model_module_version": "1.2.0",
      "model_name": "LayoutModel",
      "state": {
       "width": "95%"
      }
     },
     "fcd2ce7302864f53b51142e247cd898f": {
      "model_module": "@jupyter-widgets/output",
      "model_module_version": "1.0.0",
      "model_name": "OutputModel",
      "state": {
       "layout": "IPY_MODEL_2a98e7290adf486c887dc6faf8a8f30d"
      }
     },
     "fcf498767d634237835bdb935e4708cd": {
      "model_module": "@jupyter-widgets/controls",
      "model_module_version": "1.5.0",
      "model_name": "ButtonStyleModel",
      "state": {}
     },
     "fcfb4c930c9c4c9b91039c8cf61547fa": {
      "model_module": "@jupyter-widgets/controls",
      "model_module_version": "1.5.0",
      "model_name": "VBoxModel",
      "state": {
       "children": [
        "IPY_MODEL_d857dc6091df409292b08a148861730d",
        "IPY_MODEL_8f8424ab55cc4f34958de20f092bee7d"
       ],
       "layout": "IPY_MODEL_ee7816c0c8bf4543a8b1c7b9a9a56dcc"
      }
     },
     "fd4611d34245484d8e34c4f1d7cce21e": {
      "model_module": "@jupyter-widgets/base",
      "model_module_version": "1.2.0",
      "model_name": "LayoutModel",
      "state": {
       "width": "10%"
      }
     },
     "fd4a918c29ef4e2484ee4916df6f2331": {
      "model_module": "@jupyter-widgets/controls",
      "model_module_version": "1.5.0",
      "model_name": "ButtonStyleModel",
      "state": {}
     },
     "fd5a6a7d4191491ea621b1e295083abe": {
      "model_module": "@jupyter-widgets/base",
      "model_module_version": "1.2.0",
      "model_name": "LayoutModel",
      "state": {}
     },
     "fd5b1a14b36f452091fa6e96dae6a10a": {
      "model_module": "@jupyter-widgets/base",
      "model_module_version": "1.2.0",
      "model_name": "LayoutModel",
      "state": {}
     },
     "fd605d57f83447fb860b702d268bb2a1": {
      "model_module": "@jupyter-widgets/controls",
      "model_module_version": "1.5.0",
      "model_name": "ButtonModel",
      "state": {
       "description": "2",
       "layout": "IPY_MODEL_9c85944e4671409ab0bf2836c83e27f5",
       "style": "IPY_MODEL_93065bab71a34277a715fb01cf767e3d"
      }
     },
     "fd67bd0c90bb4fba9bae67ebf0304f4e": {
      "model_module": "@jupyter-widgets/base",
      "model_module_version": "1.2.0",
      "model_name": "LayoutModel",
      "state": {
       "width": "95%"
      }
     },
     "fd9789e59e654d9b81981748e64d5fa0": {
      "model_module": "@jupyter-widgets/controls",
      "model_module_version": "1.5.0",
      "model_name": "ButtonModel",
      "state": {
       "description": "9",
       "layout": "IPY_MODEL_24f48aa0f5a14531a9eeb930570523da",
       "style": "IPY_MODEL_2e0d3f5b3aa44b6d8edc41dcbfc0aaaa"
      }
     },
     "fdaa9d760000402b80da6f721d79f1bf": {
      "model_module": "@jupyter-widgets/output",
      "model_module_version": "1.0.0",
      "model_name": "OutputModel",
      "state": {
       "layout": "IPY_MODEL_9c1956d8e52b4c4da9a0c0af2e79802b"
      }
     },
     "fdc5904c27a2426d8f1c73929e4546fc": {
      "model_module": "@jupyter-widgets/base",
      "model_module_version": "1.2.0",
      "model_name": "LayoutModel",
      "state": {
       "width": "10%"
      }
     },
     "fddb90b706b946b99ba6894b5eaaffd3": {
      "model_module": "@jupyter-widgets/controls",
      "model_module_version": "1.5.0",
      "model_name": "ButtonModel",
      "state": {
       "description": "5",
       "layout": "IPY_MODEL_e3dbf60a7afb4b1eae3330777630b0f5",
       "style": "IPY_MODEL_fb2c2825367f49ba8808d98891a97008"
      }
     },
     "fde0572140e045d8acae17a88063d6db": {
      "model_module": "@jupyter-widgets/base",
      "model_module_version": "1.2.0",
      "model_name": "LayoutModel",
      "state": {
       "width": "10%"
      }
     },
     "fdf96a4f0d5c4b77a0b7cdd0fa1100bf": {
      "model_module": "@jupyter-widgets/controls",
      "model_module_version": "1.5.0",
      "model_name": "ButtonModel",
      "state": {
       "description": "9",
       "layout": "IPY_MODEL_de35bb9aa3b64dd39fe17b4ccd4f31ff",
       "style": "IPY_MODEL_72bd8cda90e14860a47e4bc636ecb56d"
      }
     },
     "fe084055941b4ac3ac952d25083fa9e5": {
      "model_module": "@jupyter-widgets/base",
      "model_module_version": "1.2.0",
      "model_name": "LayoutModel",
      "state": {}
     },
     "fe1a434ca96b443389f614dafa14961c": {
      "model_module": "@jupyter-widgets/controls",
      "model_module_version": "1.5.0",
      "model_name": "VBoxModel",
      "state": {
       "children": [
        "IPY_MODEL_d3e7e9a4cbcc435dadc771ae9550db7b",
        "IPY_MODEL_cc75e43088d840f1ad3747ecaa9d1e16"
       ],
       "layout": "IPY_MODEL_c8ea62f64fce44fb9dcdb8b768353e2c"
      }
     },
     "fe22d1cc8fba45d68090dff1c80a846d": {
      "model_module": "@jupyter-widgets/base",
      "model_module_version": "1.2.0",
      "model_name": "LayoutModel",
      "state": {}
     },
     "fe2d0818d8f846b8b42695ba94a9820e": {
      "model_module": "@jupyter-widgets/base",
      "model_module_version": "1.2.0",
      "model_name": "LayoutModel",
      "state": {
       "width": "10%"
      }
     },
     "fe62ef7a8ea04e41a9d4d65c2cdf62f3": {
      "model_module": "@jupyter-widgets/output",
      "model_module_version": "1.0.0",
      "model_name": "OutputModel",
      "state": {
       "layout": "IPY_MODEL_efea1983c94344cb88f56bd611f80bbc"
      }
     },
     "fe79adac1b81418398dbf551ffeed95c": {
      "model_module": "@jupyter-widgets/base",
      "model_module_version": "1.2.0",
      "model_name": "LayoutModel",
      "state": {}
     },
     "fe845f5806d14190bf88375a9a272c6c": {
      "model_module": "@jupyter-widgets/controls",
      "model_module_version": "1.5.0",
      "model_name": "ButtonModel",
      "state": {
       "description": "6",
       "layout": "IPY_MODEL_a88a4323d0b9485bbc3ab09ff1a648fe",
       "style": "IPY_MODEL_ca44d65818034c59999b0027be4466cf"
      }
     },
     "feceaa7b365e4a508191d47b4e87baa2": {
      "model_module": "@jupyter-widgets/base",
      "model_module_version": "1.2.0",
      "model_name": "LayoutModel",
      "state": {}
     },
     "fed117935d004c8a88a35fcb379a7f1b": {
      "model_module": "@jupyter-widgets/base",
      "model_module_version": "1.2.0",
      "model_name": "LayoutModel",
      "state": {
       "width": "95%"
      }
     },
     "fed52e063ec848aab3bcde3fb040fff9": {
      "model_module": "@jupyter-widgets/controls",
      "model_module_version": "1.5.0",
      "model_name": "VBoxModel",
      "state": {
       "children": [
        "IPY_MODEL_c4ca7feece67409c8af3696eea41f4b5",
        "IPY_MODEL_f6fd3bcc2ece41f793bc95c16522cde6"
       ],
       "layout": "IPY_MODEL_5127a882ee4641a7946364d31c3e6a2b"
      }
     },
     "fed8bd50b20d4343bbcb9b7e45f1a7e6": {
      "model_module": "@jupyter-widgets/controls",
      "model_module_version": "1.5.0",
      "model_name": "ButtonStyleModel",
      "state": {}
     },
     "feed9cbee150498797c294d50410b0f0": {
      "model_module": "@jupyter-widgets/controls",
      "model_module_version": "1.5.0",
      "model_name": "ButtonStyleModel",
      "state": {}
     },
     "ff0589ead48748fd99d9b712a17fa5db": {
      "model_module": "@jupyter-widgets/base",
      "model_module_version": "1.2.0",
      "model_name": "LayoutModel",
      "state": {
       "width": "95%"
      }
     },
     "ff13b0efceb74ab89ca70cb0df00173d": {
      "model_module": "@jupyter-widgets/controls",
      "model_module_version": "1.5.0",
      "model_name": "ButtonStyleModel",
      "state": {}
     },
     "ff8c61323dd244cc9505332dc36a52f3": {
      "model_module": "@jupyter-widgets/controls",
      "model_module_version": "1.5.0",
      "model_name": "VBoxModel",
      "state": {
       "children": [
        "IPY_MODEL_e310289d72fe4749849907686bf6d5cf",
        "IPY_MODEL_18252ffbd6394e118e5848c6c1c4eb8d"
       ],
       "layout": "IPY_MODEL_b6edd49b6cbd42aea8429396434ae453"
      }
     },
     "ff99d10525c045abbaa008f13c9b705d": {
      "model_module": "@jupyter-widgets/controls",
      "model_module_version": "1.5.0",
      "model_name": "ButtonStyleModel",
      "state": {}
     },
     "ffdca4d0d72e4a258ec8067b189843bb": {
      "model_module": "@jupyter-widgets/base",
      "model_module_version": "1.2.0",
      "model_name": "LayoutModel",
      "state": {
       "width": "10%"
      }
     },
     "ffe96317bf3c4b84815b3c312dd9ba4a": {
      "model_module": "@jupyter-widgets/base",
      "model_module_version": "1.2.0",
      "model_name": "LayoutModel",
      "state": {
       "justify_content": "space-between"
      }
     }
    },
    "version_major": 2,
    "version_minor": 0
   }
  }
 },
 "nbformat": 4,
 "nbformat_minor": 4
}
