{
 "cells": [
  {
   "cell_type": "markdown",
   "metadata": {},
   "source": [
    "# Examples"
   ]
  },
  {
   "cell_type": "markdown",
   "metadata": {},
   "source": [
    "The following examples, which are part of the documentation, demonstrate some of the situations in which you would want to use superintendent. Choose an example, and if you're finding you'd like to do more - read the [documentation](http://www.janfreyberg.com/superintendent/).\n",
    "\n",
    "1. [Labelling text (UK newspaper headlines)](docs/examples/labelling-text.ipynb)\n",
    "2. [Labelling images](docs/examples/labelling-images.ipynb)\n",
    "3. [Labelling images with active learning](docs/examples/labelling-images-actively.ipynb)\n",
    "4. [Applying different preprocessing for displaying and for modelling](docs/examples/preprocessing-data.ipynb)\n"
   ]
  }
 ],
 "metadata": {
  "kernelspec": {
   "display_name": "Python 3",
   "language": "python",
   "name": "python3"
  },
  "language_info": {
   "codemirror_mode": {
    "name": "ipython",
    "version": 3
   },
   "file_extension": ".py",
   "mimetype": "text/x-python",
   "name": "python",
   "nbconvert_exporter": "python",
   "pygments_lexer": "ipython3",
   "version": "3.7.4"
  }
 },
 "nbformat": 4,
 "nbformat_minor": 4
}
